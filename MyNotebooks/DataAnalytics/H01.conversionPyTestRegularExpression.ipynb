{
 "cells": [
  {
   "cell_type": "markdown",
   "id": "78cd30d7",
   "metadata": {
    "toc": true
   },
   "source": [
    "<h1>Table of Contents<span class=\"tocSkip\"></span></h1>\n",
    "<div class=\"toc\"><ul class=\"toc-item\"><li><span><a href=\"#Functions\" data-toc-modified-id=\"Functions-1\"><span class=\"toc-item-num\">1&nbsp;&nbsp;</span>Functions</a></span><ul class=\"toc-item\"><li><span><a href=\"#test-codes\" data-toc-modified-id=\"test-codes-1.1\"><span class=\"toc-item-num\">1.1&nbsp;&nbsp;</span>test codes</a></span></li></ul></li></ul></div>"
   ]
  },
  {
   "cell_type": "markdown",
   "id": "28891af5",
   "metadata": {},
   "source": [
    "## Functions"
   ]
  },
  {
   "cell_type": "code",
   "execution_count": null,
   "id": "aa8ea4c9",
   "metadata": {},
   "outputs": [],
   "source": [
    "'''\n",
    "TODO\n",
    "Given either a string or a list of strings as input, return\n",
    "a number (int or float) which is equal to the monetary value\n",
    "money_conversion(\"$12.2 million\") --> 12200000\n",
    "money_conversion(\"$790,000\") --> 790000\n",
    "use test_money_conversion.py to test your solution\n",
    "'''\n",
    "def money_conversion(money):\n",
    "    pass"
   ]
  },
  {
   "cell_type": "code",
   "execution_count": null,
   "id": "a5cec065",
   "metadata": {},
   "outputs": [],
   "source": [
    "import re\n",
    "amounts = r\"thousand|million|billion\"\n",
    "number = r\"\\d+(,\\d{3})*\\.*\\d*\"   # d+ means more than one digit, * means it can be 0 or more value \n",
    "standard = fr\"\\${number}(-|\\sto\\s)?({number})?\\s({amounts})\"\n",
    "\n",
    "def word_to_value(word):\n",
    "    value_dict = {\"thousand\": 1000, \"million\": 1000000, \"billion\": 1000000000}\n",
    "    return value_dict.get(word.lower(), 1)\n",
    "\n",
    "def parse_word_syntax(string):\n",
    "    stripped_string = string.replace(\",\", \"\")\n",
    "    value = float(re.search(number, stripped_string).group())\n",
    "    modifier = word_to_value(re.search(amounts, string, flags=re.I).group())\n",
    "    return value*modifier\n",
    "\n",
    "def parse_value_syntax(string):\n",
    "    stripped_string = string.replace(\",\", \"\")\n",
    "    return float(re.search(number, stripped_string).group())\n",
    "\n",
    "def money_conversion(money):\n",
    "    if type(money) == list:\n",
    "        money = money[0]\n",
    "        \n",
    "    word_syntax = re.search(standard, money, flags=re.I)\n",
    "    value_syntax = re.search(fr\"\\${number}\", money)\n",
    "\n",
    "    if word_syntax:\n",
    "        return parse_word_syntax(word_syntax.group())\n",
    "    elif value_syntax:\n",
    "        return parse_value_syntax(value_syntax.group())\n",
    "    else:\n",
    "        return None"
   ]
  },
  {
   "cell_type": "code",
   "execution_count": null,
   "id": "aadb7a52",
   "metadata": {},
   "outputs": [],
   "source": [
    "# save_and_load_dataset_checkpoints\n",
    "import json\n",
    "import pickle\n",
    "# Use the below functions to save/load your list of dictionaries as JSON\n",
    "# \n",
    "# Examples:\n",
    "#   - save_data(\"disney_data_cleaned.json\", movie_info_list)\n",
    "#   - movie_info_list = load_data(\"disney_data_cleaned.json\")\n",
    "\n",
    "def save_data(title, data):\n",
    "    with open(title, 'w', encoding='utf-8') as f:\n",
    "        json.dump(data, f, ensure_ascii=False, indent=2)\n",
    "\n",
    "def load_data(title):\n",
    "    with open(title, encoding=\"utf-8\") as f:\n",
    "        return json.load(f)\n",
    "\n",
    "# Use the below functions to save/load your list of dictionaries as PICKLE file\n",
    "#\n",
    "# Examples: \n",
    "#   - save_data_pickle(\"disney_movie_data_cleaned_more.pickle\", movie_info_list)\n",
    "#   - a = load_data_pickle(\"disney_movie_data_cleaned_more.pickle\")\n",
    "\n",
    "def save_data_pickle(name, data):\n",
    "    with open(name, 'wb') as f:\n",
    "        pickle.dump(data, f)\n",
    "\n",
    "def load_data_pickle(name):\n",
    "    with open(name, 'rb') as f:\n",
    "        return pickle.load(f)"
   ]
  },
  {
   "cell_type": "code",
   "execution_count": null,
   "id": "7d348d29",
   "metadata": {},
   "outputs": [],
   "source": [
    "# test_money_conversion\n",
    "import pytest\n",
    "from conversion import money_conversion\n",
    "\n",
    "def test_standard():\n",
    "    assert money_conversion(\"$3 million\") == 3000000\n",
    "\n",
    "def test_standard_double_digit():\n",
    "    assert money_conversion(\"$99 million\") == 99000000\n",
    "\n",
    "def test_standard_with_decimal():\n",
    "    assert money_conversion(\"$3.5 million\") == 3500000\n",
    "\n",
    "def test_standard_multiple_decimals():\n",
    "    assert money_conversion(\"$1.234 million\") == 1234000\n",
    "\n",
    "def test_standard_billion():\n",
    "    assert money_conversion(\"$1.25 billion\") == 1250000000\n",
    "\n",
    "def test_standard_thousand():\n",
    "    assert money_conversion(\"$900.9 thousand\") == 900900\n",
    "\n",
    "def test_range():\n",
    "    assert money_conversion(\"$3.5-4 million\") == 3500000\n",
    "\n",
    "def test_range_with_to():\n",
    "    assert money_conversion(\"$3.5 to 4 million\") == 3500000\n",
    "\n",
    "def test_number():\n",
    "    assert money_conversion(\"$950000\") == 950000\n",
    "\n",
    "def test_number_with_commas():\n",
    "    assert money_conversion(\"$127,850,000\") == 127850000\n",
    "\n",
    "def test_number_with_commas_and_decimals():\n",
    "    assert money_conversion(\"$10,000,000.50\") == 10000000.5\n",
    "\n",
    "def test_number_with_commas_middle():\n",
    "    assert money_conversion(\"estimated $5,000,000 (USD)\") == 5000000\n",
    "\n",
    "def test_other_currency():\n",
    "    assert money_conversion(\"60 million Norwegian Kroner (around $8.7 million in 1989)\") == 8700000\n",
    "\n",
    "def test_list():\n",
    "    assert money_conversion(['$410.6 million (gross)', '$378.5 million (net)']) == 410600000\n",
    "\n",
    "def test_unkown():\n",
    "    assert money_conversion(\"70 crore\") is None"
   ]
  },
  {
   "cell_type": "markdown",
   "id": "e9d34832",
   "metadata": {},
   "source": [
    "### test codes"
   ]
  },
  {
   "cell_type": "code",
   "execution_count": 8,
   "id": "bebd1184",
   "metadata": {},
   "outputs": [
    {
     "name": "stdout",
     "output_type": "stream",
     "text": [
      "790,000.25\n",
      "790,00000\n",
      "79\n"
     ]
    }
   ],
   "source": [
    "# test code\n",
    "import re\n",
    "number = r\"\\d+(,\\d{3})*\\.*\\d*\"\n",
    "print(re.search(number,\"790,000.25\").group())\n",
    "print(re.search(number,\"790,00000.25\").group())\n",
    "print(re.search(number,\"79,00\").group())"
   ]
  },
  {
   "cell_type": "code",
   "execution_count": 9,
   "id": "31ca526e",
   "metadata": {},
   "outputs": [
    {
     "name": "stdout",
     "output_type": "stream",
     "text": [
      "790000.0\n"
     ]
    }
   ],
   "source": [
    "# test code\n",
    "import re\n",
    "number = r\"\\d+(,\\d{3})*\\.*\\d*\"\n",
    "def money_conv(money):\n",
    "    val_st = re.search(number,money).group()\n",
    "    val = float(val_st.replace(\",\",\"\"))\n",
    "    return val\n",
    "print(money_conv(\"$790,000\"))"
   ]
  },
  {
   "cell_type": "code",
   "execution_count": 13,
   "id": "ea310547",
   "metadata": {},
   "outputs": [
    {
     "name": "stdout",
     "output_type": "stream",
     "text": [
      "$12.2 million\n"
     ]
    }
   ],
   "source": [
    "# test code\n",
    "import re\n",
    "amounts = r\"thousand|million|billion\"\n",
    "number = r\"\\d+(,\\d{3})*\\.*\\d*\"\n",
    "word_re = rf\"\\${number}\\s({amounts})\"  # \\s means space\n",
    "value_re = rf\"\\${number}\"\n",
    "\n",
    "def val_parse(string):\n",
    "    val_st = re.search(number,string).group()\n",
    "    val = float(val_st.replace(\",\",\"\"))\n",
    "    return val\n",
    "\n",
    "def money_conv(money):\n",
    "    word_syntax = re.search(word_re, money).group()\n",
    "    val_syntax = re.search(value_re, money).group()\n",
    "    \n",
    "    if word_syntax:\n",
    "        print(\"word syntax\")\n",
    "        print(word_syntax.group())\n",
    "    \n",
    "    elif val_syntax:\n",
    "        return val_parse(val_syntax.group())\n",
    "\n",
    "print(re.search(word_re,\"$12.2 million\").group())  # group() shows matched valus or string\n",
    "#print(money_conv(\"$790,000\"))"
   ]
  },
  {
   "cell_type": "code",
   "execution_count": 14,
   "id": "54981eff",
   "metadata": {},
   "outputs": [],
   "source": [
    "import re\n",
    "amounts = r\"thousand|million|billion\"\n",
    "number = r\"\\d+(,\\d{3})*\\.*\\d*\"   # d+ means more than one digit, * means it can be 0 or more value \n",
    "word_re = rf\"\\${number}(-|\\sto\\s|-)?({number})?\\s({amounts})\"  # \\s means space, ? means exist or not\n",
    "value_re = rf\"\\${number}\"\n",
    "\n",
    "def word_to_value(word):\n",
    "    value_dict = {\"thousand\": 1000, \"million\": 1000000, \"billion\": 1000000000}\n",
    "    return value_dict[word]\n",
    "\n",
    "def parse_word_syntax(string):\n",
    "    value_string = re.search(number,string).group()\n",
    "    value = float(value_string.replace(\",\", \"\"))\n",
    "    word = re.search(amounts, string, flags=re.I).group().lower()  # flags=re.I means case insensitive\n",
    "    word_value = word_to_value(word)\n",
    "    return value*word_value\n",
    "\n",
    "def parse_value_syntax(string):\n",
    "    value_string = re.search(number,string).group()\n",
    "    value = float(value_string.replace(\",\",\"\"))\n",
    "    return value\n",
    "\n",
    "def money_conversion(money):\n",
    "    if money == \"N/A\":\n",
    "        return None\n",
    "    if isinstance(money, list):\n",
    "        money = money[0]\n",
    "         \n",
    "    word_syntax = re.search(word_re, money, flags=re.I)\n",
    "    value_syntax = re.search(value_re, money)\n",
    "\n",
    "    if word_syntax:\n",
    "        return parse_word_syntax(word_syntax.group())\n",
    "    elif value_syntax:\n",
    "        return parse_value_syntax(value_syntax.group())\n",
    "    else:\n",
    "        return None"
   ]
  }
 ],
 "metadata": {
  "kernelspec": {
   "display_name": "Python 3 (ipykernel)",
   "language": "python",
   "name": "python3"
  },
  "language_info": {
   "codemirror_mode": {
    "name": "ipython",
    "version": 3
   },
   "file_extension": ".py",
   "mimetype": "text/x-python",
   "name": "python",
   "nbconvert_exporter": "python",
   "pygments_lexer": "ipython3",
   "version": "3.10.6"
  },
  "toc": {
   "base_numbering": 1,
   "nav_menu": {},
   "number_sections": true,
   "sideBar": true,
   "skip_h1_title": false,
   "title_cell": "Table of Contents",
   "title_sidebar": "Contents",
   "toc_cell": true,
   "toc_position": {},
   "toc_section_display": true,
   "toc_window_display": false
  }
 },
 "nbformat": 4,
 "nbformat_minor": 5
}
