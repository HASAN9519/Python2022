{
 "cells": [
  {
   "cell_type": "markdown",
   "metadata": {
    "toc": true
   },
   "source": [
    "<h1>Table of Contents<span class=\"tocSkip\"></span></h1>\n",
    "<div class=\"toc\"><ul class=\"toc-item\"></ul></div>"
   ]
  },
  {
   "cell_type": "code",
   "execution_count": 1,
   "metadata": {},
   "outputs": [],
   "source": [
    "import json"
   ]
  },
  {
   "cell_type": "code",
   "execution_count": 16,
   "metadata": {},
   "outputs": [],
   "source": [
    "# its a json object\n",
    "state_string = '''\n",
    "{ \"states\": [\n",
    "    {\n",
    "      \"name\": \"Alabama\",\n",
    "      \"abbreviation\": \"AL\",\n",
    "      \"area_codes\": [\"205\", \"251\", \"256\", \"334\", \"938\"]\n",
    "    },\n",
    "    {\n",
    "      \"name\": \"Alaska\",\n",
    "      \"abbreviation\": \"AK\",\n",
    "      \"area_codes\": [\"907\"]\n",
    "    },\n",
    "    {\n",
    "      \"name\": \"Arizona\",\n",
    "      \"abbreviation\": \"AZ\",\n",
    "      \"area_codes\": [\"480\", \"520\", \"602\", \"623\", \"928\"]\n",
    "    }]}\n",
    "'''"
   ]
  },
  {
   "cell_type": "code",
   "execution_count": 23,
   "metadata": {},
   "outputs": [
    {
     "data": {
      "text/plain": [
       "str"
      ]
     },
     "execution_count": 23,
     "metadata": {},
     "output_type": "execute_result"
    }
   ],
   "source": [
    "type(state_string)"
   ]
  },
  {
   "cell_type": "code",
   "execution_count": 17,
   "metadata": {},
   "outputs": [
    {
     "name": "stdout",
     "output_type": "stream",
     "text": [
      "{'states': [{'name': 'Alabama', 'abbreviation': 'AL', 'area_codes': ['205', '251', '256', '334', '938']}, {'name': 'Alaska', 'abbreviation': 'AK', 'area_codes': ['907']}, {'name': 'Arizona', 'abbreviation': 'AZ', 'area_codes': ['480', '520', '602', '623', '928']}]}\n"
     ]
    }
   ],
   "source": [
    "# loading json into python dict object, json object turns into dict when loaded into python \n",
    "# more info in https://docs.python.org/3/library/json.html\n",
    "# loads used to load string\n",
    "data = json.loads(state_string)\n",
    "print(data)"
   ]
  },
  {
   "cell_type": "code",
   "execution_count": 18,
   "metadata": {},
   "outputs": [
    {
     "name": "stdout",
     "output_type": "stream",
     "text": [
      "<class 'dict'>\n",
      "<class 'list'>\n"
     ]
    }
   ],
   "source": [
    "print(type(data))\n",
    "print(type(data[\"states\"]))"
   ]
  },
  {
   "cell_type": "code",
   "execution_count": 19,
   "metadata": {},
   "outputs": [
    {
     "name": "stdout",
     "output_type": "stream",
     "text": [
      "Alabama\n",
      "['205', '251', '256', '334', '938']\n",
      "AL\n",
      "Alaska\n",
      "['907']\n",
      "AK\n",
      "Arizona\n",
      "['480', '520', '602', '623', '928']\n",
      "AZ\n"
     ]
    }
   ],
   "source": [
    "for i in data[\"states\"]:\n",
    "    print(i['name'])\n",
    "    print(i['area_codes'])\n",
    "    print(i['abbreviation'])"
   ]
  },
  {
   "cell_type": "code",
   "execution_count": 20,
   "metadata": {},
   "outputs": [
    {
     "name": "stdout",
     "output_type": "stream",
     "text": [
      "{\"states\": [{\"name\": \"Alabama\", \"area_codes\": [\"205\", \"251\", \"256\", \"334\", \"938\"]}, {\"name\": \"Alaska\", \"area_codes\": [\"907\"]}, {\"name\": \"Arizona\", \"area_codes\": [\"480\", \"520\", \"602\", \"623\", \"928\"]}]}\n"
     ]
    }
   ],
   "source": [
    "# dumping python object into json string, dumps used to convert into json string \n",
    "for i in data[\"states\"]:\n",
    "    del i['abbreviation']\n",
    "\n",
    "jsobj = json.dumps(data)\n",
    "print(jsobj)"
   ]
  },
  {
   "cell_type": "code",
   "execution_count": 29,
   "metadata": {},
   "outputs": [
    {
     "name": "stdout",
     "output_type": "stream",
     "text": [
      "{\n",
      "   \"states\": [\n",
      "      {\n",
      "         \"area_codes\": [\n",
      "            \"205\",\n",
      "            \"251\",\n",
      "            \"256\",\n",
      "            \"334\",\n",
      "            \"938\"\n",
      "         ],\n",
      "         \"name\": \"Alabama\"\n",
      "      },\n",
      "      {\n",
      "         \"area_codes\": [\n",
      "            \"907\"\n",
      "         ],\n",
      "         \"name\": \"Alaska\"\n",
      "      },\n",
      "      {\n",
      "         \"area_codes\": [\n",
      "            \"480\",\n",
      "            \"520\",\n",
      "            \"602\",\n",
      "            \"623\",\n",
      "            \"928\"\n",
      "         ],\n",
      "         \"name\": \"Arizona\"\n",
      "      }\n",
      "   ]\n",
      "}\n"
     ]
    }
   ],
   "source": [
    "# indent means adding space to view file clearly, sort_keys=True means to sort keys alphabetically\n",
    "jsobj = json.dumps(data, indent=3, sort_keys=True)\n",
    "print(jsobj)"
   ]
  },
  {
   "cell_type": "code",
   "execution_count": 21,
   "metadata": {},
   "outputs": [
    {
     "data": {
      "text/plain": [
       "str"
      ]
     },
     "execution_count": 21,
     "metadata": {},
     "output_type": "execute_result"
    }
   ],
   "source": [
    "type(jsobj)"
   ]
  },
  {
   "cell_type": "code",
   "execution_count": 4,
   "metadata": {},
   "outputs": [],
   "source": [
    "# loading json object file states.json, load is used to pack json file into python\n",
    "with open('states.json') as f:\n",
    "    data = json.load(f)"
   ]
  },
  {
   "cell_type": "code",
   "execution_count": 17,
   "metadata": {},
   "outputs": [
    {
     "name": "stdout",
     "output_type": "stream",
     "text": [
      "<class 'dict'>\n"
     ]
    }
   ],
   "source": [
    "print(type(data))"
   ]
  },
  {
   "cell_type": "code",
   "execution_count": 8,
   "metadata": {},
   "outputs": [
    {
     "name": "stdout",
     "output_type": "stream",
     "text": [
      "Alabama ['205', '251', '256', '334', '938']\n",
      "Alaska ['907']\n",
      "Arizona ['480', '520', '602', '623', '928']\n",
      "Arkansas ['479', '501', '870']\n",
      "California ['209', '213', '310', '323', '408', '415', '424', '442', '510', '530', '559', '562', '619', '626', '628', '650', '657', '661', '669', '707', '714', '747', '760', '805', '818', '831', '858', '909', '916', '925', '949', '951']\n",
      "Colorado ['303', '719', '720', '970']\n",
      "Connecticut ['203', '475', '860', '959']\n",
      "Delaware ['302']\n",
      "Florida ['239', '305', '321', '352', '386', '407', '561', '727', '754', '772', '786', '813', '850', '863', '904', '941', '954']\n",
      "Georgia ['229', '404', '470', '478', '678', '706', '762', '770', '912']\n",
      "Hawaii ['808']\n",
      "Idaho ['208']\n",
      "Illinois ['217', '224', '309', '312', '331', '618', '630', '708', '773', '779', '815', '847', '872']\n",
      "Indiana ['219', '260', '317', '463', '574', '765', '812', '930']\n",
      "Iowa ['319', '515', '563', '641', '712']\n",
      "Kansas ['316', '620', '785', '913']\n",
      "Kentucky ['270', '364', '502', '606', '859']\n",
      "Louisiana ['225', '318', '337', '504', '985']\n",
      "Maine ['207']\n",
      "Maryland ['240', '301', '410', '443', '667']\n",
      "Massachusetts ['339', '351', '413', '508', '617', '774', '781', '857', '978']\n",
      "Michigan ['231', '248', '269', '313', '517', '586', '616', '734', '810', '906', '947', '989']\n",
      "Minnesota ['218', '320', '507', '612', '651', '763', '952']\n",
      "Mississippi ['228', '601', '662', '769']\n",
      "Missouri ['314', '417', '573', '636', '660', '816']\n",
      "Montana ['406']\n",
      "Nebraska ['308', '402', '531']\n",
      "Nevada ['702', '725', '775']\n",
      "New Hampshire ['603']\n",
      "New Jersey ['201', '551', '609', '732', '848', '856', '862', '908', '973']\n",
      "New Mexico ['505', '575']\n",
      "New York ['212', '315', '332', '347', '516', '518', '585', '607', '631', '646', '680', '716', '718', '845', '914', '917', '929', '934']\n",
      "North Carolina ['252', '336', '704', '743', '828', '910', '919', '980', '984']\n",
      "North Dakota ['701']\n",
      "Ohio ['216', '220', '234', '330', '380', '419', '440', '513', '567', '614', '740', '937']\n",
      "Oklahoma ['405', '539', '580', '918']\n",
      "Oregon ['458', '503', '541', '971']\n",
      "Pennsylvania ['215', '267', '272', '412', '484', '570', '610', '717', '724', '814', '878']\n",
      "Rhode Island ['401']\n",
      "South Carolina ['803', '843', '854', '864']\n",
      "South Dakota ['605']\n",
      "Tennessee ['423', '615', '629', '731', '865', '901', '931']\n",
      "Texas ['210', '214', '254', '281', '325', '346', '361', '409', '430', '432', '469', '512', '682', '713', '737', '806', '817', '830', '832', '903', '915', '936', '940', '956', '972', '979']\n",
      "Utah ['385', '435', '801']\n",
      "Vermont ['802']\n",
      "Virginia ['276', '434', '540', '571', '703', '757', '804']\n",
      "Washington ['206', '253', '360', '425', '509']\n",
      "West Virginia ['304', '681']\n",
      "Wisconsin ['262', '414', '534', '608', '715', '920']\n",
      "Wyoming ['307']\n"
     ]
    }
   ],
   "source": [
    "for state in data['states']:\n",
    "    print(state['name'], state['area_codes'])"
   ]
  },
  {
   "cell_type": "code",
   "execution_count": 18,
   "metadata": {},
   "outputs": [],
   "source": [
    "for state in data['states']:\n",
    "    del state['abbreviation']"
   ]
  },
  {
   "cell_type": "code",
   "execution_count": 19,
   "metadata": {},
   "outputs": [],
   "source": [
    "# dump used to convert into json file from python object\n",
    "with open('newstates.json','w') as f:\n",
    "    json.dump(data, f, indent=2)"
   ]
  },
  {
   "cell_type": "code",
   "execution_count": null,
   "metadata": {},
   "outputs": [],
   "source": [
    "# from a website\n",
    "# link don't work\n",
    "from urllib.request import urlopen\n",
    "with urlopen(\"http://finance.yahoo.com/webservice/v1/symbols/allcurrencies/quote?format=json\") \\\n",
    "    as response:\n",
    "        source = response.read()\n",
    "\n",
    "data1 = json.loads(source)\n",
    "print(json.dumps(data1, indent=2))"
   ]
  },
  {
   "cell_type": "code",
   "execution_count": 28,
   "metadata": {},
   "outputs": [],
   "source": [
    "with open('movie.json') as f:\n",
    "    data1 = json.load(f)"
   ]
  },
  {
   "cell_type": "code",
   "execution_count": 31,
   "metadata": {},
   "outputs": [
    {
     "data": {
      "text/plain": [
       "3"
      ]
     },
     "execution_count": 31,
     "metadata": {},
     "output_type": "execute_result"
    }
   ],
   "source": [
    "len(data1)"
   ]
  },
  {
   "cell_type": "code",
   "execution_count": 36,
   "metadata": {},
   "outputs": [
    {
     "data": {
      "text/plain": [
       "'Snow White and the Seven Dwarfs'"
      ]
     },
     "execution_count": 36,
     "metadata": {},
     "output_type": "execute_result"
    }
   ],
   "source": [
    "data1[0]['movieinfo']['title']"
   ]
  },
  {
   "cell_type": "code",
   "execution_count": 52,
   "metadata": {},
   "outputs": [
    {
     "name": "stdout",
     "output_type": "stream",
     "text": [
      "Snow White and the Seven Dwarfs RKO Radio Pictures United States\n",
      "416.51 41.651\n",
      "Pinocchio Sony Pictures United States\n",
      "161.4 16.14\n",
      "Fantasia Marvel Pictures United States\n",
      "27.2 2.72\n"
     ]
    }
   ],
   "source": [
    "for i in data1:\n",
    "    print(i['movieinfo']['title'], i['movieinfo']['productioninfo'][\"Distributed by\"], i[\"Country\"])\n",
    "    profit = float(i['movieinfo']['otherInfo'][\"Box office in million\"]) - float(i['movieinfo']['otherInfo'][\"Budget in million\"])\n",
    "    netprofit = profit*0.1\n",
    "    print(profit, netprofit)"
   ]
  }
 ],
 "metadata": {
  "kernelspec": {
   "display_name": "Python 3 (ipykernel)",
   "language": "python",
   "name": "python3"
  },
  "language_info": {
   "codemirror_mode": {
    "name": "ipython",
    "version": 3
   },
   "file_extension": ".py",
   "mimetype": "text/x-python",
   "name": "python",
   "nbconvert_exporter": "python",
   "pygments_lexer": "ipython3",
   "version": "3.10.6"
  },
  "toc": {
   "base_numbering": 1,
   "nav_menu": {},
   "number_sections": true,
   "sideBar": true,
   "skip_h1_title": false,
   "title_cell": "Table of Contents",
   "title_sidebar": "Contents",
   "toc_cell": true,
   "toc_position": {},
   "toc_section_display": true,
   "toc_window_display": false
  },
  "vscode": {
   "interpreter": {
    "hash": "369f2c481f4da34e4445cda3fffd2e751bd1c4d706f27375911949ba6bb62e1c"
   }
  }
 },
 "nbformat": 4,
 "nbformat_minor": 2
}
