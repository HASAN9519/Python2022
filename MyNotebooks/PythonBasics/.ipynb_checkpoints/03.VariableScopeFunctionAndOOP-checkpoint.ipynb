{
 "cells": [
  {
   "cell_type": "markdown",
   "metadata": {},
   "source": [
    "### Variable Scope\n",
    "\n",
    "Understanding LEGB rule and global/nonlocal statements\\\n",
    "LEGB means Local, Enclosing, Global and Built-in\\\n",
    "Python looks for variable in LEGB order"
   ]
  },
  {
   "cell_type": "code",
   "execution_count": 36,
   "metadata": {},
   "outputs": [
    {
     "name": "stdout",
     "output_type": "stream",
     "text": [
      "global x\n",
      "local y\n"
     ]
    }
   ],
   "source": [
    "x = 'global x'   # global scope\n",
    "def test():\n",
    "    y = 'local y'   # local scope\n",
    "    print(x)\n",
    "    print(y)\n",
    "test()"
   ]
  },
  {
   "cell_type": "code",
   "execution_count": 37,
   "metadata": {},
   "outputs": [
    {
     "name": "stdout",
     "output_type": "stream",
     "text": [
      "local x\n",
      "global x\n"
     ]
    }
   ],
   "source": [
    "x = 'global x'   # global scope\n",
    "def test():\n",
    "    x = 'local x'   # local scope\n",
    "    print(x)\n",
    "test()\n",
    "print(x)"
   ]
  },
  {
   "cell_type": "code",
   "execution_count": 38,
   "metadata": {},
   "outputs": [
    {
     "name": "stdout",
     "output_type": "stream",
     "text": [
      "local x\n",
      "local x\n"
     ]
    }
   ],
   "source": [
    "x = 'global x'   # global scope\n",
    "def test():\n",
    "    global x     # global keyword changes value of x to value defined inside function, can be used outside of function\n",
    "    x = 'local x'   # local scope\n",
    "    print(x)\n",
    "test()\n",
    "print(x)"
   ]
  },
  {
   "cell_type": "code",
   "execution_count": 40,
   "metadata": {},
   "outputs": [
    {
     "name": "stdout",
     "output_type": "stream",
     "text": [
      "local x\n",
      "local x\n"
     ]
    }
   ],
   "source": [
    "def test():\n",
    "    global x     # global keyword changes value of x to value defined inside function, can be used outside of function\n",
    "    x = 'local x'   # local scope\n",
    "    print(x)\n",
    "test()\n",
    "print(x)"
   ]
  },
  {
   "cell_type": "code",
   "execution_count": 41,
   "metadata": {},
   "outputs": [
    {
     "name": "stdout",
     "output_type": "stream",
     "text": [
      "local z\n"
     ]
    }
   ],
   "source": [
    "def test(z):    # local argument\n",
    "    x = 'local x'   # local scope\n",
    "    print(z)\n",
    "test('local z')"
   ]
  },
  {
   "cell_type": "code",
   "execution_count": 44,
   "metadata": {},
   "outputs": [
    {
     "name": "stdout",
     "output_type": "stream",
     "text": [
      "1\n"
     ]
    }
   ],
   "source": [
    "import builtins\n",
    "#print(dir(builtins))\n",
    "m = min([5,1,2])    # min is a built-in scope\n",
    "print(m)"
   ]
  },
  {
   "cell_type": "code",
   "execution_count": 46,
   "metadata": {},
   "outputs": [
    {
     "name": "stdout",
     "output_type": "stream",
     "text": [
      "inner x\n",
      "outer x\n"
     ]
    }
   ],
   "source": [
    "def outer():\n",
    "    x = 'outer x'    # local to outer function, inclosing scope to inner function\n",
    "    def inner():\n",
    "        x = 'inner x'  # local to inner function\n",
    "        print(x)\n",
    "    inner()\n",
    "    print(x)\n",
    "outer()"
   ]
  },
  {
   "cell_type": "code",
   "execution_count": 51,
   "metadata": {},
   "outputs": [
    {
     "name": "stdout",
     "output_type": "stream",
     "text": [
      "inner x\n",
      "inner x\n"
     ]
    }
   ],
   "source": [
    "def outer():\n",
    "    x = 'outer x'    # local to outer function, inclosing scope to inner function\n",
    "    def inner():\n",
    "        nonlocal x   # sets value of x to 'inner x' for every instance of x in outer function\n",
    "        x = 'inner x'  # local to inner function\n",
    "        print(x)\n",
    "    inner()\n",
    "    print(x)\n",
    "outer()"
   ]
  },
  {
   "cell_type": "code",
   "execution_count": 52,
   "metadata": {},
   "outputs": [
    {
     "name": "stdout",
     "output_type": "stream",
     "text": [
      "outer x\n",
      "outer x\n"
     ]
    }
   ],
   "source": [
    "def outer():\n",
    "    x = 'outer x'    # local to outer function, inclosing scope to inner function\n",
    "    def inner():\n",
    "        #x = 'inner x'  # local to inner function\n",
    "        print(x)\n",
    "    inner()\n",
    "    print(x)\n",
    "outer()"
   ]
  },
  {
   "cell_type": "code",
   "execution_count": 53,
   "metadata": {},
   "outputs": [
    {
     "name": "stdout",
     "output_type": "stream",
     "text": [
      "inner 3\n",
      "1 2 3\n",
      "outer 2\n",
      "1 2\n",
      "global 1\n",
      "1\n"
     ]
    }
   ],
   "source": [
    "for a in range(2):\n",
    "    x = 'global {}'.format(a)\n",
    "def outer():\n",
    "    # x = 'outer x'\n",
    "    for b in range(3):\n",
    "        x = 'outer {}'.format(b)\n",
    "    def inner():\n",
    "        # x = 'inner x'\n",
    "        for c in range(4):\n",
    "            x = 'inner {}'.format(c)\n",
    "        print(x)\n",
    "        print(a, b, c)\n",
    "    inner()\n",
    "    print(x)\n",
    "    print(a, b)\n",
    "\n",
    "outer()\n",
    "print(x)\n",
    "print(a)"
   ]
  },
  {
   "cell_type": "markdown",
   "metadata": {},
   "source": [
    "### Functions"
   ]
  },
  {
   "cell_type": "code",
   "execution_count": 2,
   "metadata": {},
   "outputs": [
    {
     "name": "stdout",
     "output_type": "stream",
     "text": [
      "None\n"
     ]
    }
   ],
   "source": [
    "def hello_func():\n",
    "    pass\n",
    "print(hello_func())"
   ]
  },
  {
   "cell_type": "code",
   "execution_count": 9,
   "metadata": {},
   "outputs": [
    {
     "name": "stdout",
     "output_type": "stream",
     "text": [
      "hello everyone\n"
     ]
    }
   ],
   "source": [
    "def hello_func():\n",
    "    print(\"hello everyone\")\n",
    "hello_func()"
   ]
  },
  {
   "cell_type": "code",
   "execution_count": 18,
   "metadata": {},
   "outputs": [
    {
     "name": "stdout",
     "output_type": "stream",
     "text": [
      "hello everyone\n"
     ]
    },
    {
     "data": {
      "text/plain": [
       "'hello everyone'"
      ]
     },
     "execution_count": 18,
     "metadata": {},
     "output_type": "execute_result"
    }
   ],
   "source": [
    "def hello_func1():\n",
    "    return 'hello everyone'\n",
    "print(hello_func1())\n",
    "hello_func1()"
   ]
  },
  {
   "cell_type": "code",
   "execution_count": 21,
   "metadata": {},
   "outputs": [
    {
     "name": "stdout",
     "output_type": "stream",
     "text": [
      "HELLO EVERYONE\n"
     ]
    },
    {
     "data": {
      "text/plain": [
       "'HELLO EVERYONE'"
      ]
     },
     "execution_count": 21,
     "metadata": {},
     "output_type": "execute_result"
    }
   ],
   "source": [
    "print(hello_func1().upper())\n",
    "hello_func1().upper()"
   ]
  },
  {
   "cell_type": "code",
   "execution_count": 24,
   "metadata": {},
   "outputs": [
    {
     "name": "stdout",
     "output_type": "stream",
     "text": [
      "Hi everyone\n"
     ]
    },
    {
     "data": {
      "text/plain": [
       "'Hi everyone'"
      ]
     },
     "execution_count": 24,
     "metadata": {},
     "output_type": "execute_result"
    }
   ],
   "source": [
    "def hello_func1(greet):\n",
    "    return '{} everyone'.format(greet)\n",
    "print(hello_func1('Hi'))\n",
    "hello_func1('Hi')"
   ]
  },
  {
   "cell_type": "code",
   "execution_count": 25,
   "metadata": {},
   "outputs": [
    {
     "name": "stdout",
     "output_type": "stream",
     "text": [
      "Hi I am hasan everyone\n"
     ]
    },
    {
     "data": {
      "text/plain": [
       "'Hi I am hasan everyone'"
      ]
     },
     "execution_count": 25,
     "metadata": {},
     "output_type": "execute_result"
    }
   ],
   "source": [
    "def hello_func1(greet,name='hasan'):\n",
    "    return '{} I am {} everyone'.format(greet,name)\n",
    "print(hello_func1('Hi'))\n",
    "hello_func1('Hi')"
   ]
  },
  {
   "cell_type": "code",
   "execution_count": 26,
   "metadata": {},
   "outputs": [
    {
     "name": "stdout",
     "output_type": "stream",
     "text": [
      "Hi I am tazim everyone\n"
     ]
    },
    {
     "data": {
      "text/plain": [
       "'Hi I am Tazim everyone'"
      ]
     },
     "execution_count": 26,
     "metadata": {},
     "output_type": "execute_result"
    }
   ],
   "source": [
    "print(hello_func1('Hi','tazim'))\n",
    "hello_func1('Hi','Tazim')"
   ]
  },
  {
   "cell_type": "code",
   "execution_count": 29,
   "metadata": {},
   "outputs": [
    {
     "name": "stdout",
     "output_type": "stream",
     "text": [
      "('math', 'art')\n",
      "{'name': 'hasan', 'age': 27}\n"
     ]
    }
   ],
   "source": [
    "# args is positional argument and kwargs is keyword argument\n",
    "def student_info(*args, **kwargs):\n",
    "    print(args)\n",
    "    print(kwargs)\n",
    "student_info('math','art',name='hasan',age=27)"
   ]
  },
  {
   "cell_type": "code",
   "execution_count": 30,
   "metadata": {},
   "outputs": [
    {
     "name": "stdout",
     "output_type": "stream",
     "text": [
      "(['math', 'art'], {'name': 'hasan', 'age': 27})\n",
      "{}\n"
     ]
    }
   ],
   "source": [
    "def student_info(*args, **kwargs):\n",
    "    print(args)\n",
    "    print(kwargs)\n",
    "courses=['math', 'art']\n",
    "info={'name': 'hasan', 'age': 27}\n",
    "student_info(courses,info)"
   ]
  },
  {
   "cell_type": "code",
   "execution_count": 31,
   "metadata": {},
   "outputs": [
    {
     "name": "stdout",
     "output_type": "stream",
     "text": [
      "('math', 'art')\n",
      "{'name': 'hasan', 'age': 27}\n"
     ]
    }
   ],
   "source": [
    "def student_info(*args, **kwargs):\n",
    "    print(args)\n",
    "    print(kwargs)\n",
    "courses=['math', 'art']\n",
    "info={'name': 'hasan', 'age': 27}\n",
    "student_info(*courses, **info)"
   ]
  },
  {
   "cell_type": "code",
   "execution_count": 1,
   "metadata": {},
   "outputs": [],
   "source": [
    "# Number of days per month. First value placeholder for indexing purposes.\n",
    "month_days = [0, 31, 28, 31, 30, 31, 30, 31, 31, 30, 31, 30, 31]\n",
    "def is_leap(year):\n",
    "    \"\"\"Return True for leap years, False for non-leap years.\"\"\"\n",
    "    return year % 4 == 0 and (year % 100 != 0 or year % 400 == 0)\n",
    "\n",
    "def days_in_month(year, month):\n",
    "    \"\"\"Return number of days in that month in that year.\"\"\"\n",
    "    if not 1 <= month <= 12:\n",
    "        return 'Invalid Month'\n",
    "    if month == 2 and is_leap(year):\n",
    "        return 29\n",
    "    return month_days[month]"
   ]
  },
  {
   "cell_type": "code",
   "execution_count": 2,
   "metadata": {},
   "outputs": [
    {
     "name": "stdout",
     "output_type": "stream",
     "text": [
      "False\n",
      "True\n",
      "28\n"
     ]
    }
   ],
   "source": [
    "print(is_leap(2017))\n",
    "print(is_leap(2020))\n",
    "print(days_in_month(2017,2))"
   ]
  },
  {
   "cell_type": "markdown",
   "metadata": {},
   "source": [
    "### OOP"
   ]
  },
  {
   "cell_type": "code",
   "execution_count": 3,
   "metadata": {},
   "outputs": [
    {
     "name": "stdout",
     "output_type": "stream",
     "text": [
      "<__main__.Employee object at 0x00000126A6939390>\n",
      "<__main__.Employee object at 0x00000126A693BC70>\n"
     ]
    }
   ],
   "source": [
    "class Employee:\n",
    "    pass\n",
    "emp1 = Employee()\n",
    "emp2 = Employee()\n",
    "print(emp1)\n",
    "print(emp2)"
   ]
  },
  {
   "cell_type": "code",
   "execution_count": 4,
   "metadata": {},
   "outputs": [
    {
     "name": "stdout",
     "output_type": "stream",
     "text": [
      "hasan\n",
      "tazim\n"
     ]
    }
   ],
   "source": [
    "emp1.first = 'hasan'\n",
    "emp1.last = 'zaman'\n",
    "emp2.first = 'tazim'\n",
    "emp2.last = 'rahman'\n",
    "print(emp1.first)\n",
    "print(emp2.first)"
   ]
  },
  {
   "cell_type": "code",
   "execution_count": 6,
   "metadata": {},
   "outputs": [
    {
     "name": "stdout",
     "output_type": "stream",
     "text": [
      "Corey.Schafer@gmail.com\n",
      "Test.Employee@gmail.com\n",
      "Corey Schafer\n"
     ]
    }
   ],
   "source": [
    "# Classes and Instances\n",
    "class Employee:\n",
    "    def __init__(self, first, last, pay):\n",
    "        self.first = first\n",
    "        self.last = last\n",
    "        self.pay = pay\n",
    "        self.email = first + '.' + last + '@gmail.com'\n",
    "emp_1 = Employee('Corey', 'Schafer', 50000)\n",
    "emp_2 = Employee('Test', 'Employee', 60000)\n",
    "print(emp_1.email)\n",
    "print(emp_2.email)\n",
    "print('{} {}'.format(emp_1.first, emp_1.last))"
   ]
  },
  {
   "cell_type": "code",
   "execution_count": 10,
   "metadata": {},
   "outputs": [
    {
     "name": "stdout",
     "output_type": "stream",
     "text": [
      "Corey.Schafer@email.com\n",
      "Test.Employee@email.com\n",
      "Corey Schafer\n",
      "Corey Schafer\n"
     ]
    }
   ],
   "source": [
    "# Classes and Instances\n",
    "class Employee:\n",
    "    def __init__(self, first, last, pay):\n",
    "        self.first = first\n",
    "        self.last = last\n",
    "        self.pay = pay\n",
    "        self.email = first + '.' + last + '@email.com'      \n",
    "    def fullname(self):\n",
    "        return '{} {}'.format(self.first, self.last)\n",
    "\n",
    "emp_1 = Employee('Corey', 'Schafer', 50000)\n",
    "emp_2 = Employee('Test', 'Employee', 60000)\n",
    "print(emp_1.email)\n",
    "print(emp_2.email)\n",
    "print(emp_1.fullname())  # this line transforms to below line in background and then returns result\n",
    "print(Employee.fullname(emp_1))"
   ]
  },
  {
   "cell_type": "code",
   "execution_count": 56,
   "metadata": {},
   "outputs": [
    {
     "name": "stdout",
     "output_type": "stream",
     "text": [
      "1.04\n",
      "1.04\n",
      "{'first': 'Corey', 'last': 'Schafer', 'pay': 50000, 'email': 'Corey.Schafer@email.com'}\n",
      "50000\n",
      "52000\n",
      "{'first': 'Corey', 'last': 'Schafer', 'pay': 52000, 'email': 'Corey.Schafer@email.com'}\n",
      "{'__module__': '__main__', 'raise_pay': 1.04, '__init__': <function Employee.__init__ at 0x00000126A85BFE20>, 'fullname': <function Employee.fullname at 0x00000126A83F1750>, 'apply_raise': <function Employee.apply_raise at 0x00000126A83F17E0>, '__dict__': <attribute '__dict__' of 'Employee' objects>, '__weakref__': <attribute '__weakref__' of 'Employee' objects>, '__doc__': None}\n"
     ]
    }
   ],
   "source": [
    "# Class Variables\n",
    "class Employee:\n",
    "    raise_pay = 1.04  # raise_pay is Class Variable that can be used by all instances of class\n",
    "    \n",
    "    def __init__(self, first, last, pay):\n",
    "        self.first = first\n",
    "        self.last = last\n",
    "        self.pay = pay\n",
    "        self.email = first + '.' + last + '@email.com'      \n",
    "    def fullname(self):\n",
    "        return '{} {}'.format(self.first, self.last)\n",
    "    def apply_raise(self):\n",
    "        self.pay = int(self.pay * self.raise_pay)\n",
    "emp_1 = Employee('Corey', 'Schafer', 50000)\n",
    "emp_2 = Employee('Test', 'Employee', 60000)\n",
    "print(Employee.raise_pay)\n",
    "print(emp_1.raise_pay)\n",
    "print(emp_1.__dict__)   # shows all variable that can be returned by this instance\n",
    "print(emp_1.pay)\n",
    "emp_1.apply_raise()\n",
    "print(emp_1.pay)\n",
    "print(emp_1.__dict__)\n",
    "print(Employee.__dict__)   # shows all variable and methods of class"
   ]
  },
  {
   "cell_type": "code",
   "execution_count": 46,
   "metadata": {},
   "outputs": [
    {
     "name": "stdout",
     "output_type": "stream",
     "text": [
      "2.0\n",
      "2.0\n",
      "104000\n"
     ]
    }
   ],
   "source": [
    "# changing class variable outside of class using class\n",
    "Employee.raise_pay = 2.0\n",
    "print(Employee.raise_pay)\n",
    "print(emp_1.raise_pay)\n",
    "emp_1.apply_raise()\n",
    "print(emp_1.pay)"
   ]
  },
  {
   "cell_type": "code",
   "execution_count": 57,
   "metadata": {},
   "outputs": [
    {
     "name": "stdout",
     "output_type": "stream",
     "text": [
      "1.04\n",
      "4.0\n",
      "208000\n",
      "{'first': 'Corey', 'last': 'Schafer', 'pay': 208000, 'email': 'Corey.Schafer@email.com', 'raise_pay': 4.0}\n",
      "1.04\n",
      "62400\n"
     ]
    }
   ],
   "source": [
    "# changing class variable outside of class using instance, here value only changed for that instance not class \n",
    "emp_1.raise_pay = 4.0\n",
    "print(Employee.raise_pay)\n",
    "print(emp_1.raise_pay)\n",
    "emp_1.apply_raise()\n",
    "print(emp_1.pay)\n",
    "print(emp_1.__dict__)\n",
    "emp_2.apply_raise()\n",
    "print(emp_2.raise_pay)\n",
    "print(emp_2.pay)    # pay didn't change with value set with emp_1"
   ]
  },
  {
   "cell_type": "code",
   "execution_count": 61,
   "metadata": {},
   "outputs": [
    {
     "name": "stdout",
     "output_type": "stream",
     "text": [
      "0\n",
      "2\n"
     ]
    }
   ],
   "source": [
    "# taking record of number of instance created with class\n",
    "class Employee:\n",
    "    raise_pay = 1.04  # raise_pay is Class Variable that can be used by all instances of class\n",
    "    num_of_instance = 0\n",
    "    \n",
    "    def __init__(self, first, last, pay):\n",
    "        self.first = first\n",
    "        self.last = last\n",
    "        self.pay = pay\n",
    "        self.email = first + '.' + last + '@email.com'  \n",
    "        Employee.num_of_instance += 1  # this increment by 1 with each instance created\n",
    "    def fullname(self):\n",
    "        return '{} {}'.format(self.first, self.last)\n",
    "    def apply_raise(self):\n",
    "        self.pay = int(self.pay * self.raise_pay)\n",
    "print(Employee.num_of_instance)\n",
    "emp_1 = Employee('Corey', 'Schafer', 50000)\n",
    "emp_2 = Employee('Test', 'Employee', 60000)\n",
    "print(Employee.num_of_instance)"
   ]
  },
  {
   "cell_type": "code",
   "execution_count": 65,
   "metadata": {},
   "outputs": [
    {
     "name": "stdout",
     "output_type": "stream",
     "text": [
      "1.04\n",
      "1.04\n",
      "2.0\n",
      "2.0\n",
      "5.0\n",
      "5.0\n"
     ]
    }
   ],
   "source": [
    "# classmethods and staticmethods\n",
    "class Employee:\n",
    "    raise_pay = 1.04  # raise_pay is Class Variable that can be used by all instances of class\n",
    "    num_of_instance = 0\n",
    "    \n",
    "    def __init__(self, first, last, pay):\n",
    "        self.first = first\n",
    "        self.last = last\n",
    "        self.pay = pay\n",
    "        self.email = first + '.' + last + '@email.com'  \n",
    "        Employee.num_of_instance += 1  # this increment by 1 with each instance created\n",
    "        \n",
    "    def fullname(self):   # regular method\n",
    "        return '{} {}'.format(self.first, self.last)\n",
    "    def apply_raise(self):   # regular method\n",
    "        self.pay = int(self.pay * self.raise_pay)\n",
    "        \n",
    "    @classmethod         # class method\n",
    "    def set_raise_pay(cls, amount):\n",
    "        cls.raise_pay = amount\n",
    "        \n",
    "emp_1 = Employee('Corey', 'Schafer', 50000)\n",
    "emp_2 = Employee('Test', 'Employee', 60000)\n",
    "print(Employee.raise_pay)\n",
    "print(emp_1.raise_pay)\n",
    "Employee.set_raise_pay(2.0)   # using class method with class\n",
    "print(Employee.raise_pay)\n",
    "print(emp_1.raise_pay)\n",
    "emp_1.set_raise_pay(5.0)   # using class method with instance\n",
    "print(Employee.raise_pay)\n",
    "print(emp_1.raise_pay)"
   ]
  },
  {
   "cell_type": "code",
   "execution_count": 66,
   "metadata": {},
   "outputs": [
    {
     "name": "stdout",
     "output_type": "stream",
     "text": [
      "John.Doe@email.com\n",
      "70000\n"
     ]
    }
   ],
   "source": [
    "class Employee:\n",
    "    raise_pay = 1.04  # raise_pay is Class Variable that can be used by all instances of class\n",
    "    num_of_instance = 0\n",
    "    \n",
    "    def __init__(self, first, last, pay):\n",
    "        self.first = first\n",
    "        self.last = last\n",
    "        self.pay = pay\n",
    "        self.email = first + '.' + last + '@email.com'  \n",
    "        Employee.num_of_instance += 1  # this increment by 1 with each instance created\n",
    "        \n",
    "    def fullname(self):   # regular method\n",
    "        return '{} {}'.format(self.first, self.last)\n",
    "    def apply_raise(self):   # regular method\n",
    "        self.pay = int(self.pay * self.raise_pay)\n",
    "        \n",
    "    @classmethod         # class method\n",
    "    def set_raise_pay(cls, amount):\n",
    "        cls.raise_pay = amount\n",
    "emp_str_1 = 'John-Doe-70000'\n",
    "emp_str_2 = 'Steve-Smith-30000'\n",
    "emp_str_3 = 'Jane-Doe-90000'\n",
    "first, last, pay = emp_str_1.split('-')\n",
    "new_emp_1 = Employee(first, last, pay)\n",
    "print(new_emp_1.email)\n",
    "print(new_emp_1.pay)"
   ]
  },
  {
   "cell_type": "code",
   "execution_count": 68,
   "metadata": {},
   "outputs": [
    {
     "name": "stdout",
     "output_type": "stream",
     "text": [
      "John.Doe@email.com\n",
      "30000\n"
     ]
    }
   ],
   "source": [
    "# using class method as alternative constructor\n",
    "class Employee:\n",
    "    raise_pay = 1.04  # raise_pay is Class Variable that can be used by all instances of class\n",
    "    num_of_instance = 0\n",
    "    \n",
    "    def __init__(self, first, last, pay):\n",
    "        self.first = first\n",
    "        self.last = last\n",
    "        self.pay = pay\n",
    "        self.email = first + '.' + last + '@email.com'  \n",
    "        Employee.num_of_instance += 1  # this increment by 1 with each instance created\n",
    "        \n",
    "    def fullname(self):   # regular method\n",
    "        return '{} {}'.format(self.first, self.last)\n",
    "    def apply_raise(self):   # regular method\n",
    "        self.pay = int(self.pay * self.raise_pay)\n",
    "        \n",
    "    @classmethod         # class method\n",
    "    def set_raise_pay(cls, amount):\n",
    "        cls.raise_pay = amount\n",
    "    @classmethod      # class method as alternative constructor\n",
    "    def from_string(cls, emp_str):\n",
    "        first, last, pay = emp_str.split('-')\n",
    "        return cls(first, last, pay)   # return value goes to __init__ constructor\n",
    "    \n",
    "emp_str_1 = 'John-Doe-70000'\n",
    "emp_str_2 = 'Steve-Smith-30000'\n",
    "new_emp_1 = Employee.from_string(emp_str_1)\n",
    "new_emp_2 = Employee.from_string(emp_str_2)\n",
    "print(new_emp_1.email)\n",
    "print(new_emp_2.pay)"
   ]
  },
  {
   "cell_type": "code",
   "execution_count": 71,
   "metadata": {},
   "outputs": [
    {
     "name": "stdout",
     "output_type": "stream",
     "text": [
      "False\n",
      "True\n"
     ]
    }
   ],
   "source": [
    "# using static method\n",
    "class Employee:\n",
    "    raise_pay = 1.04  # raise_pay is Class Variable that can be used by all instances of class\n",
    "    num_of_instance = 0\n",
    "    \n",
    "    def __init__(self, first, last, pay):\n",
    "        self.first = first\n",
    "        self.last = last\n",
    "        self.pay = pay\n",
    "        self.email = first + '.' + last + '@email.com'  \n",
    "        Employee.num_of_instance += 1  # this increment by 1 with each instance created\n",
    "        \n",
    "    def fullname(self):   # regular method\n",
    "        return '{} {}'.format(self.first, self.last)\n",
    "    def apply_raise(self):   # regular method\n",
    "        self.pay = int(self.pay * self.raise_pay)\n",
    "        \n",
    "    @staticmethod     # static method\n",
    "    def is_workday(day):\n",
    "        if day.weekday() == 5 or day.weekday() == 6:\n",
    "            return False\n",
    "        return True\n",
    "\n",
    "import datetime\n",
    "my_date = datetime.date(2016, 7, 10)\n",
    "print(Employee.is_workday(my_date))\n",
    "my_date1 = datetime.date(2016, 7, 11)\n",
    "print(Employee.is_workday(my_date1))"
   ]
  },
  {
   "cell_type": "code",
   "execution_count": 102,
   "metadata": {},
   "outputs": [
    {
     "name": "stdout",
     "output_type": "stream",
     "text": [
      "Corey.Schafer@email.com\n",
      "Test.Employee@email.com\n",
      "1.04\n",
      "52000\n"
     ]
    }
   ],
   "source": [
    "# Creating Subclasses using Inheritance\n",
    "class Employee:\n",
    "    raise_amt = 1.04\n",
    "    def __init__(self, first, last, pay):\n",
    "        self.first = first\n",
    "        self.last = last\n",
    "        self.email = first + '.' + last + '@email.com'\n",
    "        self.pay = pay\n",
    "    def fullname(self):\n",
    "        return '{} {}'.format(self.first, self.last)\n",
    "    def apply_raise(self):\n",
    "        self.pay = int(self.pay * self.raise_amt)\n",
    "        \n",
    "class Developer(Employee):   # Creating Subclass using Inheritance\n",
    "    pass\n",
    "\n",
    "dev_1 = Developer('Corey', 'Schafer', 50000)\n",
    "dev_2 = Developer('Test', 'Employee', 60000)\n",
    "print(dev_1.email)\n",
    "print(dev_2.email)\n",
    "print(dev_1.raise_amt)\n",
    "dev_1.apply_raise()\n",
    "print(dev_1.pay)"
   ]
  },
  {
   "cell_type": "code",
   "execution_count": null,
   "metadata": {},
   "outputs": [],
   "source": [
    "# getting details info and Method resolution order about Developer subclass \n",
    "print(help(Developer))"
   ]
  },
  {
   "cell_type": "code",
   "execution_count": 113,
   "metadata": {},
   "outputs": [
    {
     "name": "stdout",
     "output_type": "stream",
     "text": [
      "1.5\n",
      "Python\n",
      "75000\n",
      "Sue.Smith@email.com\n",
      ">\n",
      "--> Corey Schafer\n",
      ">\n",
      "--> Corey Schafer\n",
      "--> Test Employee\n",
      ">\n",
      "--> Test Employee\n"
     ]
    }
   ],
   "source": [
    "# Creating Subclasses using Inheritance\n",
    "class Employee:\n",
    "    raise_amt = 1.04\n",
    "    def __init__(self, first, last, pay):\n",
    "        self.first = first\n",
    "        self.last = last\n",
    "        self.email = first + '.' + last + '@email.com'\n",
    "        self.pay = pay\n",
    "    def fullname(self):\n",
    "        return '{} {}'.format(self.first, self.last)\n",
    "    def apply_raise(self):\n",
    "        self.pay = int(self.pay * self.raise_amt)\n",
    "        \n",
    "class Developer(Employee):   # Creating Subclass using Inheritance\n",
    "    raise_amt = 1.5   \n",
    "    def __init__(self, first, last, pay, prog_lang):\n",
    "        super().__init__(first, last, pay)\n",
    "        self.prog_lang = prog_lang\n",
    "        \n",
    "class Manager(Employee):     # better not to use mutable datatypes like dict and list as default argument\n",
    "    def __init__(self, first, last, pay, employees=None):\n",
    "        super().__init__(first, last, pay)\n",
    "        if employees is None:\n",
    "            self.employees = []\n",
    "        else:\n",
    "            self.employees = employees\n",
    "    def add_emp(self, emp):\n",
    "        if emp not in self.employees:\n",
    "            self.employees.append(emp)\n",
    "    def remove_emp(self, emp):\n",
    "        if emp in self.employees:\n",
    "            self.employees.remove(emp)\n",
    "    def print_emps(self):\n",
    "        print('>')\n",
    "        for emp in self.employees:\n",
    "            print('-->', emp.fullname())\n",
    "\n",
    "dev_1 = Developer('Corey', 'Schafer', 50000, 'Python')\n",
    "dev_2 = Developer('Test', 'Employee', 60000, 'Java')\n",
    "print(dev_1.raise_amt)\n",
    "print(dev_1.prog_lang)\n",
    "dev_1.apply_raise()\n",
    "print(dev_1.pay)\n",
    "mgr_1 = Manager('Sue', 'Smith', 90000, [dev_1])\n",
    "print(mgr_1.email)\n",
    "mgr_1.print_emps()\n",
    "mgr_1.add_emp(dev_2)\n",
    "mgr_1.print_emps()\n",
    "mgr_1.remove_emp(dev_1)\n",
    "mgr_1.print_emps()"
   ]
  },
  {
   "cell_type": "code",
   "execution_count": 116,
   "metadata": {},
   "outputs": [
    {
     "name": "stdout",
     "output_type": "stream",
     "text": [
      "True\n",
      "True\n",
      "False\n"
     ]
    }
   ],
   "source": [
    "print(isinstance(mgr_1,Manager))\n",
    "print(isinstance(mgr_1,Employee))\n",
    "print(isinstance(mgr_1,Developer))"
   ]
  },
  {
   "cell_type": "code",
   "execution_count": 118,
   "metadata": {},
   "outputs": [
    {
     "name": "stdout",
     "output_type": "stream",
     "text": [
      "True\n",
      "False\n"
     ]
    }
   ],
   "source": [
    "print(issubclass(Manager,Employee))\n",
    "print(issubclass(Manager,Developer))"
   ]
  },
  {
   "cell_type": "code",
   "execution_count": 135,
   "metadata": {},
   "outputs": [
    {
     "name": "stdout",
     "output_type": "stream",
     "text": [
      "Corey Schafer - Corey.Schafer@email.com\n",
      "Employee('Corey', 'Schafer', 50000)\n",
      "Employee('Corey', 'Schafer', 50000)\n",
      "Corey Schafer - Corey.Schafer@email.com\n",
      "Corey Schafer - Corey.Schafer@email.com\n",
      "13\n",
      "110000\n"
     ]
    }
   ],
   "source": [
    "# Special (Magic/Dunder) Methods, Dunder means double underscore(__) as used to create special method\n",
    "class Employee:\n",
    "    raise_amt = 1.04\n",
    "    def __init__(self, first, last, pay):\n",
    "        self.first = first\n",
    "        self.last = last\n",
    "        self.email = first + '.' + last + '@email.com'\n",
    "        self.pay = pay\n",
    "    def fullname(self):\n",
    "        return '{} {}'.format(self.first, self.last)\n",
    "    def apply_raise(self):\n",
    "        self.pay = int(self.pay * self.raise_amt)\n",
    "        \n",
    "    def __repr__(self):    # Special (Magic/Dunder) Method, __repr__ mainly used for developer\n",
    "        return \"Employee('{}', '{}', {})\".format(self.first, self.last, self.pay)\n",
    "    def __str__(self):    # used mainly for endusers\n",
    "        return '{} - {}'.format(self.fullname(), self.email)\n",
    "    def __add__(self, other):    # adding info of two object\n",
    "        return self.pay + other.pay\n",
    "    def __len__(self):\n",
    "        return len(self.fullname())\n",
    "    \n",
    "emp_1 = Employee('Corey', 'Schafer', 50000)\n",
    "emp_2 = Employee('Test', 'Employee', 60000)\n",
    "print(emp_1)   # special method __repr__ used to return info\n",
    "print(repr(emp_1))\n",
    "print(emp_1.__repr__())\n",
    "print(str(emp_1))\n",
    "print(emp_1.__str__())\n",
    "print(len(emp_1))\n",
    "print(emp_1+emp_2)"
   ]
  },
  {
   "cell_type": "markdown",
   "metadata": {},
   "source": [
    "###### special methods link\n",
    "https://docs.python.org/3/reference/datamodel.html#special-method-names"
   ]
  },
  {
   "cell_type": "code",
   "execution_count": 134,
   "metadata": {},
   "outputs": [
    {
     "name": "stdout",
     "output_type": "stream",
     "text": [
      "3\n",
      "3\n",
      "ab\n",
      "4\n",
      "4\n"
     ]
    }
   ],
   "source": [
    "print(1+2)\n",
    "print(int.__add__(1,2))\n",
    "print(str.__add__('a','b'))\n",
    "print(len('test'))\n",
    "print('test'.__len__())"
   ]
  },
  {
   "cell_type": "code",
   "execution_count": 139,
   "metadata": {},
   "outputs": [
    {
     "name": "stdout",
     "output_type": "stream",
     "text": [
      "John\n",
      "John.Smith@email.com\n",
      "John Smith\n",
      "Corey\n",
      "Corey.Schafer@email.com\n",
      "Corey Schafer\n",
      "Delete Name!\n",
      "None\n",
      "None.None@email.com\n"
     ]
    }
   ],
   "source": [
    "# Property Decorators - Getters, Setters, and Deleters\n",
    "class Employee:\n",
    "    def __init__(self, first, last):\n",
    "        self.first = first\n",
    "        self.last = last\n",
    "\n",
    "    @property   # Getters\n",
    "    def email(self):\n",
    "        return '{}.{}@email.com'.format(self.first, self.last)\n",
    "    @property   # Getters\n",
    "    def fullname(self):\n",
    "        return '{} {}'.format(self.first, self.last)   \n",
    "    @fullname.setter  # Setters\n",
    "    def fullname(self, name):\n",
    "        first, last = name.split(' ')\n",
    "        self.first = first\n",
    "        self.last = last\n",
    "    @fullname.deleter  # Deleters\n",
    "    def fullname(self):\n",
    "        print('Delete Name!')\n",
    "        self.first = None\n",
    "        self.last = None\n",
    "\n",
    "emp_1 = Employee('John', 'Smith')\n",
    "print(emp_1.first)\n",
    "print(emp_1.email)\n",
    "print(emp_1.fullname)\n",
    "emp_1.fullname = \"Corey Schafer\"  # changing value of emp_1 using Setters\n",
    "print(emp_1.first)\n",
    "print(emp_1.email)\n",
    "print(emp_1.fullname)\n",
    "del emp_1.fullname     # deleting value of emp_1 using Deleters\n",
    "print(emp_1.first)\n",
    "print(emp_1.email)"
   ]
  }
 ],
 "metadata": {
  "kernelspec": {
   "display_name": "Python 3 (ipykernel)",
   "language": "python",
   "name": "python3"
  },
  "language_info": {
   "codemirror_mode": {
    "name": "ipython",
    "version": 3
   },
   "file_extension": ".py",
   "mimetype": "text/x-python",
   "name": "python",
   "nbconvert_exporter": "python",
   "pygments_lexer": "ipython3",
   "version": "3.10.6"
  },
  "vscode": {
   "interpreter": {
    "hash": "369f2c481f4da34e4445cda3fffd2e751bd1c4d706f27375911949ba6bb62e1c"
   }
  }
 },
 "nbformat": 4,
 "nbformat_minor": 2
}
