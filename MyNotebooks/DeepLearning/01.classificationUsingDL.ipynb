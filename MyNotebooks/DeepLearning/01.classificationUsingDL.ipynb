{
 "cells": [
  {
   "cell_type": "markdown",
   "metadata": {
    "toc": true
   },
   "source": [
    "<h1>Table of Contents<span class=\"tocSkip\"></span></h1>\n",
    "<div class=\"toc\"><ul class=\"toc-item\"><li><span><a href=\"#Importing-libraries-and-data\" data-toc-modified-id=\"Importing-libraries-and-data-1\"><span class=\"toc-item-num\">1&nbsp;&nbsp;</span>Importing libraries and data</a></span></li><li><span><a href=\"#Feature-Scaling\" data-toc-modified-id=\"Feature-Scaling-2\"><span class=\"toc-item-num\">2&nbsp;&nbsp;</span>Feature Scaling</a></span></li><li><span><a href=\"#building-ANN-model\" data-toc-modified-id=\"building-ANN-model-3\"><span class=\"toc-item-num\">3&nbsp;&nbsp;</span>building ANN model</a></span></li><li><span><a href=\"#Making-predictions-and-evaluating-model\" data-toc-modified-id=\"Making-predictions-and-evaluating-model-4\"><span class=\"toc-item-num\">4&nbsp;&nbsp;</span>Making predictions and evaluating model</a></span></li></ul></div>"
   ]
  },
  {
   "cell_type": "markdown",
   "metadata": {},
   "source": [
    "# Importing libraries and data"
   ]
  },
  {
   "cell_type": "code",
   "execution_count": 1,
   "metadata": {
    "ExecuteTime": {
     "end_time": "2023-01-24T07:58:47.100722Z",
     "start_time": "2023-01-24T07:58:17.448877Z"
    },
    "id": "D2IliGyI62B0"
   },
   "outputs": [],
   "source": [
    "import numpy as np\n",
    "import pandas as pd \n",
    "import seaborn as sns\n",
    "import matplotlib.pyplot as plt"
   ]
  },
  {
   "cell_type": "code",
   "execution_count": 2,
   "metadata": {
    "ExecuteTime": {
     "end_time": "2023-01-24T07:59:58.649349Z",
     "start_time": "2023-01-24T07:59:55.524653Z"
    },
    "colab": {
     "base_uri": "https://localhost:8080/"
    },
    "id": "4_fyxUHb7GuH",
    "outputId": "2c8a495d-cff8-49f1-b9c2-fa63165b0043"
   },
   "outputs": [
    {
     "name": "stdout",
     "output_type": "stream",
     "text": [
      "2.11.0\n"
     ]
    }
   ],
   "source": [
    "import tensorflow as tf\n",
    "print(tf.__version__)"
   ]
  },
  {
   "cell_type": "code",
   "execution_count": 3,
   "metadata": {
    "ExecuteTime": {
     "end_time": "2023-01-24T08:00:26.930535Z",
     "start_time": "2023-01-24T08:00:26.877012Z"
    }
   },
   "outputs": [
    {
     "data": {
      "text/html": [
       "<div>\n",
       "<style scoped>\n",
       "    .dataframe tbody tr th:only-of-type {\n",
       "        vertical-align: middle;\n",
       "    }\n",
       "\n",
       "    .dataframe tbody tr th {\n",
       "        vertical-align: top;\n",
       "    }\n",
       "\n",
       "    .dataframe thead th {\n",
       "        text-align: right;\n",
       "    }\n",
       "</style>\n",
       "<table border=\"1\" class=\"dataframe\">\n",
       "  <thead>\n",
       "    <tr style=\"text-align: right;\">\n",
       "      <th></th>\n",
       "      <th>RowNumber</th>\n",
       "      <th>CustomerId</th>\n",
       "      <th>Surname</th>\n",
       "      <th>CreditScore</th>\n",
       "      <th>Geography</th>\n",
       "      <th>Gender</th>\n",
       "      <th>Age</th>\n",
       "      <th>Tenure</th>\n",
       "      <th>Balance</th>\n",
       "      <th>NumOfProducts</th>\n",
       "      <th>HasCrCard</th>\n",
       "      <th>IsActiveMember</th>\n",
       "      <th>EstimatedSalary</th>\n",
       "      <th>Exited</th>\n",
       "    </tr>\n",
       "  </thead>\n",
       "  <tbody>\n",
       "    <tr>\n",
       "      <th>0</th>\n",
       "      <td>1</td>\n",
       "      <td>15634602</td>\n",
       "      <td>Hargrave</td>\n",
       "      <td>619</td>\n",
       "      <td>France</td>\n",
       "      <td>Female</td>\n",
       "      <td>42</td>\n",
       "      <td>2</td>\n",
       "      <td>0.00</td>\n",
       "      <td>1</td>\n",
       "      <td>1</td>\n",
       "      <td>1</td>\n",
       "      <td>101348.88</td>\n",
       "      <td>1</td>\n",
       "    </tr>\n",
       "    <tr>\n",
       "      <th>1</th>\n",
       "      <td>2</td>\n",
       "      <td>15647311</td>\n",
       "      <td>Hill</td>\n",
       "      <td>608</td>\n",
       "      <td>Spain</td>\n",
       "      <td>Female</td>\n",
       "      <td>41</td>\n",
       "      <td>1</td>\n",
       "      <td>83807.86</td>\n",
       "      <td>1</td>\n",
       "      <td>0</td>\n",
       "      <td>1</td>\n",
       "      <td>112542.58</td>\n",
       "      <td>0</td>\n",
       "    </tr>\n",
       "    <tr>\n",
       "      <th>2</th>\n",
       "      <td>3</td>\n",
       "      <td>15619304</td>\n",
       "      <td>Onio</td>\n",
       "      <td>502</td>\n",
       "      <td>France</td>\n",
       "      <td>Female</td>\n",
       "      <td>42</td>\n",
       "      <td>8</td>\n",
       "      <td>159660.80</td>\n",
       "      <td>3</td>\n",
       "      <td>1</td>\n",
       "      <td>0</td>\n",
       "      <td>113931.57</td>\n",
       "      <td>1</td>\n",
       "    </tr>\n",
       "    <tr>\n",
       "      <th>3</th>\n",
       "      <td>4</td>\n",
       "      <td>15701354</td>\n",
       "      <td>Boni</td>\n",
       "      <td>699</td>\n",
       "      <td>France</td>\n",
       "      <td>Female</td>\n",
       "      <td>39</td>\n",
       "      <td>1</td>\n",
       "      <td>0.00</td>\n",
       "      <td>2</td>\n",
       "      <td>0</td>\n",
       "      <td>0</td>\n",
       "      <td>93826.63</td>\n",
       "      <td>0</td>\n",
       "    </tr>\n",
       "    <tr>\n",
       "      <th>4</th>\n",
       "      <td>5</td>\n",
       "      <td>15737888</td>\n",
       "      <td>Mitchell</td>\n",
       "      <td>850</td>\n",
       "      <td>Spain</td>\n",
       "      <td>Female</td>\n",
       "      <td>43</td>\n",
       "      <td>2</td>\n",
       "      <td>125510.82</td>\n",
       "      <td>1</td>\n",
       "      <td>1</td>\n",
       "      <td>1</td>\n",
       "      <td>79084.10</td>\n",
       "      <td>0</td>\n",
       "    </tr>\n",
       "  </tbody>\n",
       "</table>\n",
       "</div>"
      ],
      "text/plain": [
       "   RowNumber  CustomerId   Surname  CreditScore Geography  Gender  Age  \\\n",
       "0          1    15634602  Hargrave          619    France  Female   42   \n",
       "1          2    15647311      Hill          608     Spain  Female   41   \n",
       "2          3    15619304      Onio          502    France  Female   42   \n",
       "3          4    15701354      Boni          699    France  Female   39   \n",
       "4          5    15737888  Mitchell          850     Spain  Female   43   \n",
       "\n",
       "   Tenure    Balance  NumOfProducts  HasCrCard  IsActiveMember  \\\n",
       "0       2       0.00              1          1               1   \n",
       "1       1   83807.86              1          0               1   \n",
       "2       8  159660.80              3          1               0   \n",
       "3       1       0.00              2          0               0   \n",
       "4       2  125510.82              1          1               1   \n",
       "\n",
       "   EstimatedSalary  Exited  \n",
       "0        101348.88       1  \n",
       "1        112542.58       0  \n",
       "2        113931.57       1  \n",
       "3         93826.63       0  \n",
       "4         79084.10       0  "
      ]
     },
     "execution_count": 3,
     "metadata": {},
     "output_type": "execute_result"
    }
   ],
   "source": [
    "dataset = pd.read_csv('datafiles/card.csv')\n",
    "dataset.head()"
   ]
  },
  {
   "cell_type": "code",
   "execution_count": 5,
   "metadata": {
    "ExecuteTime": {
     "end_time": "2023-01-24T08:01:16.715217Z",
     "start_time": "2023-01-24T08:01:16.690222Z"
    }
   },
   "outputs": [
    {
     "name": "stdout",
     "output_type": "stream",
     "text": [
      "<class 'pandas.core.frame.DataFrame'>\n",
      "RangeIndex: 10000 entries, 0 to 9999\n",
      "Data columns (total 14 columns):\n",
      " #   Column           Non-Null Count  Dtype  \n",
      "---  ------           --------------  -----  \n",
      " 0   RowNumber        10000 non-null  int64  \n",
      " 1   CustomerId       10000 non-null  int64  \n",
      " 2   Surname          10000 non-null  object \n",
      " 3   CreditScore      10000 non-null  int64  \n",
      " 4   Geography        10000 non-null  object \n",
      " 5   Gender           10000 non-null  object \n",
      " 6   Age              10000 non-null  int64  \n",
      " 7   Tenure           10000 non-null  int64  \n",
      " 8   Balance          10000 non-null  float64\n",
      " 9   NumOfProducts    10000 non-null  int64  \n",
      " 10  HasCrCard        10000 non-null  int64  \n",
      " 11  IsActiveMember   10000 non-null  int64  \n",
      " 12  EstimatedSalary  10000 non-null  float64\n",
      " 13  Exited           10000 non-null  int64  \n",
      "dtypes: float64(2), int64(9), object(3)\n",
      "memory usage: 1.1+ MB\n"
     ]
    }
   ],
   "source": [
    "dataset.info()"
   ]
  },
  {
   "cell_type": "code",
   "execution_count": 4,
   "metadata": {
    "ExecuteTime": {
     "end_time": "2023-01-24T08:00:53.624620Z",
     "start_time": "2023-01-24T08:00:53.614610Z"
    },
    "id": "gHRHobkK7Sxn"
   },
   "outputs": [],
   "source": [
    "X = dataset.iloc[:, 3:13]\n",
    "y = dataset.iloc[:, 13]"
   ]
  },
  {
   "cell_type": "code",
   "execution_count": 6,
   "metadata": {
    "ExecuteTime": {
     "end_time": "2023-01-24T08:01:28.645473Z",
     "start_time": "2023-01-24T08:01:28.631481Z"
    },
    "id": "T2yS0VL67Ufn"
   },
   "outputs": [],
   "source": [
    "# Creating dummy variables\n",
    "geography = pd.get_dummies(X[\"Geography\"],drop_first=True)\n",
    "gender = pd.get_dummies(X['Gender'],drop_first=True)"
   ]
  },
  {
   "cell_type": "code",
   "execution_count": 7,
   "metadata": {
    "ExecuteTime": {
     "end_time": "2023-01-24T08:02:22.947985Z",
     "start_time": "2023-01-24T08:02:13.351980Z"
    },
    "id": "Co2rxaFR7Wgo"
   },
   "outputs": [],
   "source": [
    "# Concatenating the Data Frames\n",
    "X = pd.concat([X,geography,gender],axis=1)\n",
    "# Droping Unnecessary columns\n",
    "X = X.drop(['Geography','Gender'],axis=1)\n",
    "# Splitting dataset into the Training set and Test set\n",
    "from sklearn.model_selection import train_test_split\n",
    "X_train, X_test, y_train, y_test = train_test_split(X, y, test_size = 0.2, random_state = 0)"
   ]
  },
  {
   "cell_type": "markdown",
   "metadata": {},
   "source": [
    "# Feature Scaling"
   ]
  },
  {
   "cell_type": "code",
   "execution_count": 8,
   "metadata": {
    "ExecuteTime": {
     "end_time": "2023-01-24T08:02:53.208431Z",
     "start_time": "2023-01-24T08:02:53.183899Z"
    },
    "id": "GNZrZXy37ZLs"
   },
   "outputs": [],
   "source": [
    "from sklearn.preprocessing import StandardScaler\n",
    "sc = StandardScaler()\n",
    "X_train = sc.fit_transform(X_train)\n",
    "X_test = sc.transform(X_test)"
   ]
  },
  {
   "cell_type": "markdown",
   "metadata": {
    "id": "uwN3bgie7bvT"
   },
   "source": [
    "# building ANN model"
   ]
  },
  {
   "cell_type": "code",
   "execution_count": 41,
   "metadata": {
    "ExecuteTime": {
     "end_time": "2023-01-24T09:11:20.686715Z",
     "start_time": "2023-01-24T09:11:20.674716Z"
    },
    "id": "rL_a7vWu7dj1"
   },
   "outputs": [],
   "source": [
    "from tensorflow.keras.models import Sequential\n",
    "from tensorflow.keras.layers import Dense\n",
    "from tensorflow.keras.layers import LeakyReLU,PReLU,ELU\n",
    "from tensorflow.keras.layers import Dropout"
   ]
  },
  {
   "cell_type": "code",
   "execution_count": 43,
   "metadata": {
    "ExecuteTime": {
     "end_time": "2023-01-24T09:20:03.356904Z",
     "start_time": "2023-01-24T09:20:03.345927Z"
    },
    "id": "VDJwvrbZ7kj4"
   },
   "outputs": [],
   "source": [
    "# Initialising ANN\n",
    "classifier = Sequential()\n",
    "# Adding input layer\n",
    "classifier.add(Dense(units=11, activation='relu'))\n",
    "# Adding first hidden layer\n",
    "classifier.add(Dense(units=7, activation='relu'))\n",
    "# Adding second hidden layer\n",
    "classifier.add(Dense(units=6, activation='relu'))\n",
    "# adding output layer, here it is 1 because it is a binary classification\n",
    "classifier.add(Dense(1, activation='sigmoid'))"
   ]
  },
  {
   "cell_type": "code",
   "execution_count": 45,
   "metadata": {
    "ExecuteTime": {
     "end_time": "2023-01-24T09:24:46.147306Z",
     "start_time": "2023-01-24T09:24:46.130106Z"
    }
   },
   "outputs": [],
   "source": [
    "opt = tf.keras.optimizers.Adam(learning_rate=0.01) "
   ]
  },
  {
   "cell_type": "code",
   "execution_count": 46,
   "metadata": {
    "ExecuteTime": {
     "end_time": "2023-01-24T09:24:47.000676Z",
     "start_time": "2023-01-24T09:24:46.990684Z"
    }
   },
   "outputs": [],
   "source": [
    "classifier.compile(optimizer=opt, loss='binary_crossentropy', metrics=['accuracy'])"
   ]
  },
  {
   "cell_type": "code",
   "execution_count": 47,
   "metadata": {
    "ExecuteTime": {
     "end_time": "2023-01-24T09:28:02.815409Z",
     "start_time": "2023-01-24T09:28:02.801799Z"
    }
   },
   "outputs": [],
   "source": [
    "early_stoppings = tf.keras.callbacks.EarlyStopping(\n",
    "    monitor=\"val_loss\",\n",
    "    min_delta=0.0001,\n",
    "    patience=20,\n",
    "    verbose=1,\n",
    "    mode=\"auto\",\n",
    "    baseline=None,\n",
    "    restore_best_weights=False,\n",
    "    start_from_epoch=0\n",
    ")"
   ]
  },
  {
   "cell_type": "code",
   "execution_count": 48,
   "metadata": {
    "ExecuteTime": {
     "end_time": "2023-01-24T09:30:14.551136Z",
     "start_time": "2023-01-24T09:29:51.238407Z"
    },
    "colab": {
     "base_uri": "https://localhost:8080/"
    },
    "id": "3qairJAs8fIc",
    "outputId": "0730a4ec-193f-41ae-daff-4ccc7673b142"
   },
   "outputs": [
    {
     "name": "stdout",
     "output_type": "stream",
     "text": [
      "Epoch 1/1000\n",
      "536/536 [==============================] - 1s 1ms/step - loss: 0.4463 - accuracy: 0.8039 - val_loss: 0.4085 - val_accuracy: 0.8228\n",
      "Epoch 2/1000\n",
      "536/536 [==============================] - 1s 1ms/step - loss: 0.3651 - accuracy: 0.8481 - val_loss: 0.3860 - val_accuracy: 0.8421\n",
      "Epoch 3/1000\n",
      "536/536 [==============================] - 1s 1ms/step - loss: 0.3518 - accuracy: 0.8533 - val_loss: 0.3685 - val_accuracy: 0.8429\n",
      "Epoch 4/1000\n",
      "536/536 [==============================] - 1s 1ms/step - loss: 0.3481 - accuracy: 0.8584 - val_loss: 0.3817 - val_accuracy: 0.8493\n",
      "Epoch 5/1000\n",
      "536/536 [==============================] - 1s 1ms/step - loss: 0.3456 - accuracy: 0.8550 - val_loss: 0.3742 - val_accuracy: 0.8376\n",
      "Epoch 6/1000\n",
      "536/536 [==============================] - 1s 1ms/step - loss: 0.3419 - accuracy: 0.8580 - val_loss: 0.3704 - val_accuracy: 0.8413\n",
      "Epoch 7/1000\n",
      "536/536 [==============================] - 1s 1ms/step - loss: 0.3443 - accuracy: 0.8587 - val_loss: 0.3670 - val_accuracy: 0.8489\n",
      "Epoch 8/1000\n",
      "536/536 [==============================] - 1s 987us/step - loss: 0.3392 - accuracy: 0.8604 - val_loss: 0.3678 - val_accuracy: 0.8485\n",
      "Epoch 9/1000\n",
      "536/536 [==============================] - 1s 1ms/step - loss: 0.3387 - accuracy: 0.8630 - val_loss: 0.3798 - val_accuracy: 0.8474\n",
      "Epoch 10/1000\n",
      "536/536 [==============================] - 1s 1ms/step - loss: 0.3399 - accuracy: 0.8597 - val_loss: 0.3727 - val_accuracy: 0.8466\n",
      "Epoch 11/1000\n",
      "536/536 [==============================] - 1s 1ms/step - loss: 0.3391 - accuracy: 0.8604 - val_loss: 0.3687 - val_accuracy: 0.8474\n",
      "Epoch 12/1000\n",
      "536/536 [==============================] - 1s 1ms/step - loss: 0.3348 - accuracy: 0.8599 - val_loss: 0.3649 - val_accuracy: 0.8512\n",
      "Epoch 13/1000\n",
      "536/536 [==============================] - 1s 1ms/step - loss: 0.3387 - accuracy: 0.8599 - val_loss: 0.3640 - val_accuracy: 0.8501\n",
      "Epoch 14/1000\n",
      "536/536 [==============================] - 1s 1ms/step - loss: 0.3345 - accuracy: 0.8614 - val_loss: 0.3755 - val_accuracy: 0.8508\n",
      "Epoch 15/1000\n",
      "536/536 [==============================] - 1s 1ms/step - loss: 0.3343 - accuracy: 0.8615 - val_loss: 0.3731 - val_accuracy: 0.8519\n",
      "Epoch 16/1000\n",
      "536/536 [==============================] - 1s 1ms/step - loss: 0.3341 - accuracy: 0.8595 - val_loss: 0.3663 - val_accuracy: 0.8482\n",
      "Epoch 17/1000\n",
      "536/536 [==============================] - 1s 1ms/step - loss: 0.3321 - accuracy: 0.8602 - val_loss: 0.3630 - val_accuracy: 0.8474\n",
      "Epoch 18/1000\n",
      "536/536 [==============================] - 1s 1ms/step - loss: 0.3328 - accuracy: 0.8647 - val_loss: 0.3616 - val_accuracy: 0.8523\n",
      "Epoch 19/1000\n",
      "536/536 [==============================] - 1s 1ms/step - loss: 0.3325 - accuracy: 0.8640 - val_loss: 0.3643 - val_accuracy: 0.8527\n",
      "Epoch 20/1000\n",
      "536/536 [==============================] - 1s 1ms/step - loss: 0.3311 - accuracy: 0.8628 - val_loss: 0.3620 - val_accuracy: 0.8516\n",
      "Epoch 21/1000\n",
      "536/536 [==============================] - 1s 1ms/step - loss: 0.3308 - accuracy: 0.8630 - val_loss: 0.3647 - val_accuracy: 0.8501\n",
      "Epoch 22/1000\n",
      "536/536 [==============================] - 1s 1ms/step - loss: 0.3304 - accuracy: 0.8645 - val_loss: 0.3686 - val_accuracy: 0.8508\n",
      "Epoch 23/1000\n",
      "536/536 [==============================] - 1s 1ms/step - loss: 0.3308 - accuracy: 0.8642 - val_loss: 0.3716 - val_accuracy: 0.8508\n",
      "Epoch 24/1000\n",
      "536/536 [==============================] - 1s 1ms/step - loss: 0.3309 - accuracy: 0.8664 - val_loss: 0.3628 - val_accuracy: 0.8512\n",
      "Epoch 25/1000\n",
      "536/536 [==============================] - 1s 1ms/step - loss: 0.3274 - accuracy: 0.8634 - val_loss: 0.3662 - val_accuracy: 0.8531\n",
      "Epoch 26/1000\n",
      "536/536 [==============================] - 1s 1ms/step - loss: 0.3290 - accuracy: 0.8625 - val_loss: 0.3791 - val_accuracy: 0.8504\n",
      "Epoch 27/1000\n",
      "536/536 [==============================] - 1s 1ms/step - loss: 0.3295 - accuracy: 0.8619 - val_loss: 0.3651 - val_accuracy: 0.8519\n",
      "Epoch 28/1000\n",
      "536/536 [==============================] - 1s 1ms/step - loss: 0.3252 - accuracy: 0.8643 - val_loss: 0.3710 - val_accuracy: 0.8493\n",
      "Epoch 29/1000\n",
      "536/536 [==============================] - 1s 1ms/step - loss: 0.3284 - accuracy: 0.8679 - val_loss: 0.3621 - val_accuracy: 0.8527\n",
      "Epoch 30/1000\n",
      "536/536 [==============================] - 1s 1ms/step - loss: 0.3257 - accuracy: 0.8651 - val_loss: 0.3638 - val_accuracy: 0.8497\n",
      "Epoch 31/1000\n",
      "536/536 [==============================] - 1s 1ms/step - loss: 0.3253 - accuracy: 0.8645 - val_loss: 0.3664 - val_accuracy: 0.8478\n",
      "Epoch 32/1000\n",
      "536/536 [==============================] - 1s 1ms/step - loss: 0.3256 - accuracy: 0.8658 - val_loss: 0.3626 - val_accuracy: 0.8493\n",
      "Epoch 33/1000\n",
      "536/536 [==============================] - 1s 1ms/step - loss: 0.3276 - accuracy: 0.8658 - val_loss: 0.3694 - val_accuracy: 0.8519\n",
      "Epoch 34/1000\n",
      "536/536 [==============================] - 1s 1ms/step - loss: 0.3259 - accuracy: 0.8634 - val_loss: 0.3665 - val_accuracy: 0.8504\n",
      "Epoch 35/1000\n",
      "536/536 [==============================] - 1s 1ms/step - loss: 0.3271 - accuracy: 0.8636 - val_loss: 0.3718 - val_accuracy: 0.8493\n",
      "Epoch 36/1000\n",
      "536/536 [==============================] - 1s 1ms/step - loss: 0.3268 - accuracy: 0.8643 - val_loss: 0.3690 - val_accuracy: 0.8482\n",
      "Epoch 37/1000\n",
      "536/536 [==============================] - 1s 1ms/step - loss: 0.3263 - accuracy: 0.8662 - val_loss: 0.3763 - val_accuracy: 0.8478\n",
      "Epoch 38/1000\n",
      "536/536 [==============================] - 1s 1ms/step - loss: 0.3251 - accuracy: 0.8653 - val_loss: 0.3742 - val_accuracy: 0.8501\n",
      "Epoch 38: early stopping\n"
     ]
    }
   ],
   "source": [
    "model_history = classifier.fit(X_train, y_train, validation_split=0.33, batch_size=10, epochs=1000, callbacks=early_stoppings)"
   ]
  },
  {
   "cell_type": "code",
   "execution_count": 49,
   "metadata": {
    "ExecuteTime": {
     "end_time": "2023-01-24T09:30:51.005840Z",
     "start_time": "2023-01-24T09:30:51.001836Z"
    },
    "colab": {
     "base_uri": "https://localhost:8080/"
    },
    "id": "Q9t_M4wICTTz",
    "outputId": "18fa935a-8009-407f-de61-7f6a83669624"
   },
   "outputs": [
    {
     "name": "stdout",
     "output_type": "stream",
     "text": [
      "dict_keys(['loss', 'accuracy', 'val_loss', 'val_accuracy'])\n"
     ]
    }
   ],
   "source": [
    "# list all data in history\n",
    "print(model_history.history.keys())"
   ]
  },
  {
   "cell_type": "code",
   "execution_count": 50,
   "metadata": {
    "ExecuteTime": {
     "end_time": "2023-01-24T09:33:02.363795Z",
     "start_time": "2023-01-24T09:33:02.252078Z"
    },
    "colab": {
     "base_uri": "https://localhost:8080/",
     "height": 295
    },
    "id": "MMOyiwzgBlLY",
    "outputId": "aeb29600-3c1f-41aa-9e29-05acf6011ed8"
   },
   "outputs": [
    {
     "data": {
      "image/png": "[encoded data removed]",
      "text/plain": [
       "<Figure size 640x480 with 1 Axes>"
      ]
     },
     "metadata": {},
     "output_type": "display_data"
    }
   ],
   "source": [
    "# summarize history for accuracy\n",
    "plt.plot(model_history.history['accuracy'])\n",
    "plt.plot(model_history.history['val_accuracy'])\n",
    "plt.title('model accuracy')\n",
    "plt.ylabel('accuracy')\n",
    "plt.xlabel('epoch')\n",
    "plt.legend(['train', 'test'], loc='upper left')\n",
    "plt.show()"
   ]
  },
  {
   "cell_type": "code",
   "execution_count": 51,
   "metadata": {
    "ExecuteTime": {
     "end_time": "2023-01-24T09:33:07.521205Z",
     "start_time": "2023-01-24T09:33:07.411806Z"
    },
    "colab": {
     "base_uri": "https://localhost:8080/",
     "height": 295
    },
    "id": "QH141RsQCEr0",
    "outputId": "4566dca0-b002-4f59-b6e8-f8654b414283"
   },
   "outputs": [
    {
     "data": {
      "image/png": "[encoded data removed]",
      "text/plain": [
       "<Figure size 640x480 with 1 Axes>"
      ]
     },
     "metadata": {},
     "output_type": "display_data"
    }
   ],
   "source": [
    "# summarize history for loss\n",
    "plt.plot(model_history.history['loss'])\n",
    "plt.plot(model_history.history['val_loss'])\n",
    "plt.title('model loss')\n",
    "plt.ylabel('loss')\n",
    "plt.xlabel('epoch')\n",
    "plt.legend(['train', 'test'], loc='upper left')\n",
    "plt.show()"
   ]
  },
  {
   "cell_type": "markdown",
   "metadata": {},
   "source": [
    "# Making predictions and evaluating model"
   ]
  },
  {
   "cell_type": "code",
   "execution_count": 52,
   "metadata": {
    "ExecuteTime": {
     "end_time": "2023-01-24T09:33:12.728522Z",
     "start_time": "2023-01-24T09:33:12.601510Z"
    },
    "id": "OYqCIIkDCd8S"
   },
   "outputs": [
    {
     "name": "stdout",
     "output_type": "stream",
     "text": [
      "63/63 [==============================] - 0s 573us/step\n"
     ]
    },
    {
     "data": {
      "text/plain": [
       "array([[0.35964692],\n",
       "       [0.32505542],\n",
       "       [0.15841869],\n",
       "       ...,\n",
       "       [0.3420241 ],\n",
       "       [0.24646208],\n",
       "       [0.31084853]], dtype=float32)"
      ]
     },
     "execution_count": 52,
     "metadata": {},
     "output_type": "execute_result"
    }
   ],
   "source": [
    "# Predicting Test set results\n",
    "y_pred = classifier.predict(X_test)\n",
    "y_pred"
   ]
  },
  {
   "cell_type": "code",
   "execution_count": 53,
   "metadata": {
    "ExecuteTime": {
     "end_time": "2023-01-24T09:33:14.936653Z",
     "start_time": "2023-01-24T09:33:14.925654Z"
    }
   },
   "outputs": [],
   "source": [
    "y_pred = (y_pred > 0.5)"
   ]
  },
  {
   "cell_type": "code",
   "execution_count": 54,
   "metadata": {
    "ExecuteTime": {
     "end_time": "2023-01-24T09:33:15.422770Z",
     "start_time": "2023-01-24T09:33:15.405506Z"
    },
    "colab": {
     "base_uri": "https://localhost:8080/"
    },
    "id": "cm3EeOGTCi3-",
    "outputId": "f3cfe210-0811-4c4e-ce72-4100b32bb79f"
   },
   "outputs": [
    {
     "data": {
      "text/plain": [
       "array([[1512,   83],\n",
       "       [ 195,  210]], dtype=int64)"
      ]
     },
     "execution_count": 54,
     "metadata": {},
     "output_type": "execute_result"
    }
   ],
   "source": [
    "# Making Confusion Matrix\n",
    "from sklearn.metrics import confusion_matrix\n",
    "cm = confusion_matrix(y_test, y_pred)\n",
    "cm"
   ]
  },
  {
   "cell_type": "code",
   "execution_count": 55,
   "metadata": {
    "ExecuteTime": {
     "end_time": "2023-01-24T09:33:19.769325Z",
     "start_time": "2023-01-24T09:33:19.749445Z"
    },
    "id": "FgfRKzzOClmP"
   },
   "outputs": [
    {
     "data": {
      "text/plain": [
       "0.861"
      ]
     },
     "execution_count": 55,
     "metadata": {},
     "output_type": "execute_result"
    }
   ],
   "source": [
    "# Calculate the Accuracy\n",
    "from sklearn.metrics import accuracy_score\n",
    "score = accuracy_score(y_test, y_pred)\n",
    "score"
   ]
  }
 ],
 "metadata": {
  "colab": {
   "name": "Untitled63.ipynb",
   "provenance": []
  },
  "kernelspec": {
   "display_name": "Python 3 (ipykernel)",
   "language": "python",
   "name": "python3"
  },
  "language_info": {
   "codemirror_mode": {
    "name": "ipython",
    "version": 3
   },
   "file_extension": ".py",
   "mimetype": "text/x-python",
   "name": "python",
   "nbconvert_exporter": "python",
   "pygments_lexer": "ipython3",
   "version": "3.10.6"
  },
  "toc": {
   "base_numbering": 1,
   "nav_menu": {},
   "number_sections": true,
   "sideBar": true,
   "skip_h1_title": false,
   "title_cell": "Table of Contents",
   "title_sidebar": "Contents",
   "toc_cell": true,
   "toc_position": {
    "height": "calc(100% - 180px)",
    "left": "10px",
    "top": "150px",
    "width": "279.409px"
   },
   "toc_section_display": true,
   "toc_window_display": false
  }
 },
 "nbformat": 4,
 "nbformat_minor": 1
}
