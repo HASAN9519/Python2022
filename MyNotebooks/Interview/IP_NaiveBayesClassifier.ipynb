{
 "cells": [
  {
   "cell_type": "markdown",
   "metadata": {
    "toc": true
   },
   "source": [
    "<h1>Table of Contents<span class=\"tocSkip\"></span></h1>\n",
    "<div class=\"toc\"><ul class=\"toc-item\"><li><span><a href=\"#Learn-Machine-Learning-Algorithms-For-Interviews\" data-toc-modified-id=\"Learn-Machine-Learning-Algorithms-For-Interviews-1\"><span class=\"toc-item-num\">1&nbsp;&nbsp;</span>Learn Machine Learning Algorithms For Interviews</a></span></li><li><span><a href=\"#What-Are-the-Basic-Assumption?\" data-toc-modified-id=\"What-Are-the-Basic-Assumption?-2\"><span class=\"toc-item-num\">2&nbsp;&nbsp;</span>What Are the Basic Assumption?</a></span></li><li><span><a href=\"#Advantages\" data-toc-modified-id=\"Advantages-3\"><span class=\"toc-item-num\">3&nbsp;&nbsp;</span>Advantages</a></span></li><li><span><a href=\"#Disadvantages\" data-toc-modified-id=\"Disadvantages-4\"><span class=\"toc-item-num\">4&nbsp;&nbsp;</span>Disadvantages</a></span></li><li><span><a href=\"#Whether-Feature-Scaling-is-required?\" data-toc-modified-id=\"Whether-Feature-Scaling-is-required?-5\"><span class=\"toc-item-num\">5&nbsp;&nbsp;</span>Whether Feature Scaling is required?</a></span></li><li><span><a href=\"#Impact-of-Missing-Values?\" data-toc-modified-id=\"Impact-of-Missing-Values?-6\"><span class=\"toc-item-num\">6&nbsp;&nbsp;</span>Impact of Missing Values?</a></span></li><li><span><a href=\"#Impact-of-outliers?\" data-toc-modified-id=\"Impact-of-outliers?-7\"><span class=\"toc-item-num\">7&nbsp;&nbsp;</span>Impact of outliers?</a></span></li></ul></div>"
   ]
  },
  {
   "cell_type": "markdown",
   "metadata": {},
   "source": [
    "# Learn Machine Learning Algorithms For Interviews\n",
    "\n",
    "Naive Bayes Classifier\n",
    "\n",
    "Theoretical Understanding:\n",
    "\n",
    "1. Tutorial 48th : https://www.youtube.com/watch?v=jS1CKhALUBQ\n",
    "2. Tutorial 49th:  https://www.youtube.com/watch?v=temQ8mHpe3k"
   ]
  },
  {
   "cell_type": "markdown",
   "metadata": {},
   "source": [
    "# What Are the Basic Assumption?\n",
    "Features Are Independent"
   ]
  },
  {
   "cell_type": "markdown",
   "metadata": {},
   "source": [
    "#  Advantages\n",
    "1. Work Very well with many number of features\n",
    "2. Works Well with Large training Dataset\n",
    "3. It converges faster when we are training the model\n",
    "4. It also performs well with categorical features"
   ]
  },
  {
   "cell_type": "markdown",
   "metadata": {},
   "source": [
    "# Disadvantages\n",
    "1. Correlated features affects performance"
   ]
  },
  {
   "cell_type": "markdown",
   "metadata": {},
   "source": [
    "# Whether Feature Scaling is required?\n",
    "No\n",
    "# Impact of Missing Values?\n",
    "Naive Bayes can handle missing data. Attributes are handled separately by the algorithm at both model construction time and prediction time. As such, if a data instance has a missing value for an attribute, it can be ignored while preparing the model, and ignored when a probability is calculated for a class value\n",
    "tutorial :https://www.youtube.com/watch?v=EqjyLfpv5oA\n",
    "# Impact of outliers?\n",
    "It is usually robust to outliers"
   ]
  },
  {
   "cell_type": "markdown",
   "metadata": {},
   "source": [
    "##### Different Problem statement you can solve using Naive Baye's\n",
    "1. Sentiment Analysis\n",
    "2. Spam classification\n",
    "3. twitter sentiment analysis\n",
    "4. document categorization"
   ]
  }
 ],
 "metadata": {
  "kernelspec": {
   "display_name": "Python 3 (ipykernel)",
   "language": "python",
   "name": "python3"
  },
  "language_info": {
   "codemirror_mode": {
    "name": "ipython",
    "version": 3
   },
   "file_extension": ".py",
   "mimetype": "text/x-python",
   "name": "python",
   "nbconvert_exporter": "python",
   "pygments_lexer": "ipython3",
   "version": "3.10.6"
  },
  "toc": {
   "base_numbering": 1,
   "nav_menu": {},
   "number_sections": true,
   "sideBar": true,
   "skip_h1_title": false,
   "title_cell": "Table of Contents",
   "title_sidebar": "Contents",
   "toc_cell": true,
   "toc_position": {
    "height": "calc(100% - 180px)",
    "left": "10px",
    "top": "150px",
    "width": "279.409px"
   },
   "toc_section_display": true,
   "toc_window_display": false
  }
 },
 "nbformat": 4,
 "nbformat_minor": 4
}
