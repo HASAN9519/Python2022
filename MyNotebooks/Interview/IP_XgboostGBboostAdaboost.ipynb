{
 "cells": [
  {
   "cell_type": "markdown",
   "metadata": {
    "toc": true
   },
   "source": [
    "<h1>Table of Contents<span class=\"tocSkip\"></span></h1>\n",
    "<div class=\"toc\"><ul class=\"toc-item\"><li><span><a href=\"#How-To-Learn-Machine-Learning-Algorithms-For-Interviews\" data-toc-modified-id=\"How-To-Learn-Machine-Learning-Algorithms-For-Interviews-1\"><span class=\"toc-item-num\">1&nbsp;&nbsp;</span>How To Learn Machine Learning Algorithms For Interviews</a></span></li></ul></div>"
   ]
  },
  {
   "cell_type": "markdown",
   "metadata": {},
   "source": [
    "# How To Learn Machine Learning Algorithms For Interviews\n",
    "\n",
    "##### Xgboost Classifier And Regressor, GB Algorithm, Adaboost\n",
    "\n",
    "Theoretical Understanding:\n",
    "1. Ensemble technique(Bagging): https://www.youtube.com/watch?v=KIOeZ5cFZ50\n",
    "2. Adaboost(Boosting Technique):https://www.youtube.com/watch?v=NLRO1-jp5F8\n",
    "3. Gradient Boosting In Depth Intuition Part 1: https://www.youtube.com/watch?v=Nol1hVtLOSg\n",
    "4. Gradient Boosting In Depth Intuition Part 2: https://www.youtube.com/watch?v=Oo9q6YtGzvc\n",
    "5. Xgboost Classifier Indepth Intuition: https://www.youtube.com/watch?v=gPciUPwWJQQ\n",
    "6. Xgboost Regression Indpeth Intuition: https://www.youtube.com/watch?v=w-_vmVfpssg\n",
    "7. Implementation of Xgboost: https://youtu.be/9HomdnM12o4"
   ]
  },
  {
   "cell_type": "markdown",
   "metadata": {},
   "source": [
    "##### 1. What Are the Basic Assumption?\n",
    "There are no such assumptions"
   ]
  },
  {
   "cell_type": "markdown",
   "metadata": {},
   "source": [
    "##### Missing Values\n",
    "1. Adaboost can handle mising values\n",
    "2. Xgboosst and GBoost cannot handle missing values"
   ]
  },
  {
   "cell_type": "markdown",
   "metadata": {},
   "source": [
    "#####  2. Advantages\n",
    "Advantages of Adaboost\n",
    "\n",
    "1. Doesn't Overfit\n",
    "2. It has few parameters to tune\n",
    "    \n",
    "Advantages of Gradient Boost And Xgboost\n",
    "\n",
    "1. It has a great performance\n",
    "2. It can solve complex non linear functions \n",
    "3. It is better in solve any kind of ML usecases.\n",
    "    "
   ]
  },
  {
   "cell_type": "markdown",
   "metadata": {},
   "source": [
    "##### 3. Disadvantages\n",
    "Disadvantages of Gradient Boosting And Xgboost\n",
    "1. It requires some amount of parameter tuning"
   ]
  },
  {
   "cell_type": "markdown",
   "metadata": {},
   "source": [
    "##### 4. Whether Feature Scaling is required?\n",
    "No\n",
    "\n",
    "##### 5. Impact of outliers?\n",
    "Robust to Outliers in Gradient Boosting And Xgboost,\n",
    "Sensitive to outliers in Adaboost"
   ]
  },
  {
   "cell_type": "markdown",
   "metadata": {},
   "source": [
    "##### Types of Problems it can solve(Supervised)\n",
    "1. Classification\n",
    "2. Regression"
   ]
  },
  {
   "cell_type": "markdown",
   "metadata": {},
   "source": [
    "##### Performance Metrics"
   ]
  },
  {
   "cell_type": "markdown",
   "metadata": {},
   "source": [
    "##### Classification\n",
    "1. Confusion Matrix \n",
    "2. Precision,Recall, F1 score\n",
    "\n",
    "##### Regression\n",
    "1. R2,Adjusted R2\n",
    "2. MSE,RMSE,MAE"
   ]
  }
 ],
 "metadata": {
  "kernelspec": {
   "display_name": "Python 3 (ipykernel)",
   "language": "python",
   "name": "python3"
  },
  "language_info": {
   "codemirror_mode": {
    "name": "ipython",
    "version": 3
   },
   "file_extension": ".py",
   "mimetype": "text/x-python",
   "name": "python",
   "nbconvert_exporter": "python",
   "pygments_lexer": "ipython3",
   "version": "3.10.6"
  },
  "toc": {
   "base_numbering": 1,
   "nav_menu": {},
   "number_sections": true,
   "sideBar": true,
   "skip_h1_title": false,
   "title_cell": "Table of Contents",
   "title_sidebar": "Contents",
   "toc_cell": true,
   "toc_position": {
    "height": "calc(100% - 180px)",
    "left": "10px",
    "top": "150px",
    "width": "279.409px"
   },
   "toc_section_display": true,
   "toc_window_display": false
  }
 },
 "nbformat": 4,
 "nbformat_minor": 4
}
