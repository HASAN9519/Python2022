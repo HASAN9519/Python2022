{
 "cells": [
  {
   "cell_type": "markdown",
   "metadata": {
    "toc": true
   },
   "source": [
    "<h1>Table of Contents<span class=\"tocSkip\"></span></h1>\n",
    "<div class=\"toc\"><ul class=\"toc-item\"><li><span><a href=\"#How-To-Learn-Machine-Learning-Algorithms-For-Interviews\" data-toc-modified-id=\"How-To-Learn-Machine-Learning-Algorithms-For-Interviews-1\"><span class=\"toc-item-num\">1&nbsp;&nbsp;</span>How To Learn Machine Learning Algorithms For Interviews</a></span><ul class=\"toc-item\"><li><span><a href=\"#Logistics-Regression\" data-toc-modified-id=\"Logistics-Regression-1.1\"><span class=\"toc-item-num\">1.1&nbsp;&nbsp;</span>Logistics Regression</a></span><ul class=\"toc-item\"><li><span><a href=\"#1.-What-Are-the-Basic-Assumption?\" data-toc-modified-id=\"1.-What-Are-the-Basic-Assumption?-1.1.1\"><span class=\"toc-item-num\">1.1.1&nbsp;&nbsp;</span>1. What Are the Basic Assumption?</a></span></li><li><span><a href=\"#2.-Advantages\" data-toc-modified-id=\"2.-Advantages-1.1.2\"><span class=\"toc-item-num\">1.1.2&nbsp;&nbsp;</span>2. Advantages</a></span></li><li><span><a href=\"#3.-Disadvantages\" data-toc-modified-id=\"3.-Disadvantages-1.1.3\"><span class=\"toc-item-num\">1.1.3&nbsp;&nbsp;</span>3. Disadvantages</a></span></li><li><span><a href=\"#4.-Whether-Feature-Scaling-is-required?\" data-toc-modified-id=\"4.-Whether-Feature-Scaling-is-required?-1.1.4\"><span class=\"toc-item-num\">1.1.4&nbsp;&nbsp;</span>4. Whether Feature Scaling is required?</a></span></li></ul></li><li><span><a href=\"#5.-Missing-Values\" data-toc-modified-id=\"5.-Missing-Values-1.2\"><span class=\"toc-item-num\">1.2&nbsp;&nbsp;</span>5. Missing Values</a></span><ul class=\"toc-item\"><li><span><a href=\"#6.-Impact-of-outliers?\" data-toc-modified-id=\"6.-Impact-of-outliers?-1.2.1\"><span class=\"toc-item-num\">1.2.1&nbsp;&nbsp;</span>6. Impact of outliers?</a></span></li><li><span><a href=\"#Types-of-Problems-it-can-solve(Supervised)\" data-toc-modified-id=\"Types-of-Problems-it-can-solve(Supervised)-1.2.2\"><span class=\"toc-item-num\">1.2.2&nbsp;&nbsp;</span>Types of Problems it can solve(Supervised)</a></span></li></ul></li><li><span><a href=\"#Practical-Implementation\" data-toc-modified-id=\"Practical-Implementation-1.3\"><span class=\"toc-item-num\">1.3&nbsp;&nbsp;</span>Practical Implementation</a></span><ul class=\"toc-item\"><li><span><a href=\"#Performance-Metrics\" data-toc-modified-id=\"Performance-Metrics-1.3.1\"><span class=\"toc-item-num\">1.3.1&nbsp;&nbsp;</span>Performance Metrics</a></span></li><li><span><a href=\"#Classification\" data-toc-modified-id=\"Classification-1.3.2\"><span class=\"toc-item-num\">1.3.2&nbsp;&nbsp;</span>Classification</a></span></li></ul></li></ul></li></ul></div>"
   ]
  },
  {
   "cell_type": "markdown",
   "metadata": {},
   "source": [
    "### How To Learn Machine Learning Algorithms For Interviews\n",
    "\n",
    "#### Logistics Regression\n",
    " \n",
    "\n",
    "Theoretical Understanding:\n",
    "\n",
    "1. Tutorial 35:Logitic Regression Part 1 https://www.youtube.com/watch?v=L_xBe7MbPwk\n",
    "2. Tutorial 36:Logitic Regression Part 2 https://www.youtube.com/watch?v=uFfsSgQgerw\n",
    "3. Tutorial 39:Logitic Regression Part 3 https://www.youtube.com/watch?v=V8fS0T_ktn4\n",
    "4. Tutorial 42:How To Find Optimal Threshold for Binary classification: https://www.youtube.com/watch?v=_AjhdXuXEDE\n",
    "5. Interview question: https://www.youtube.com/watch?v=tcaruVHXZwE&t=122s"
   ]
  },
  {
   "cell_type": "code",
   "execution_count": null,
   "metadata": {},
   "outputs": [],
   "source": []
  },
  {
   "cell_type": "markdown",
   "metadata": {},
   "source": [
    "##### 1. What Are the Basic Assumption?\n",
    "1. Linear Relation between independent features and the log odds"
   ]
  },
  {
   "cell_type": "markdown",
   "metadata": {},
   "source": [
    "#####  2. Advantages\n",
    "Advantages of Logistics Regression\n",
    "\n",
    "1. Logistic Regression Are very easy to understand\n",
    "2. It requires less training\n",
    "3. Good accuracy for many simple data sets and it performs well when the dataset is linearly separable.\n",
    "4. It makes no assumptions about distributions of classes in feature space.\n",
    "5. Logistic regression is less inclined to over-fitting but it can overfit in high dimensional datasets.One may consider Regularization (L1 and L2) techniques to avoid over-fittingin these scenarios.\n",
    "6. Logistic regression is easier to implement, interpret, and very efficient to train.\n"
   ]
  },
  {
   "cell_type": "markdown",
   "metadata": {},
   "source": [
    "##### 3. Disadvantages\n",
    "1. Sometimes Lot of Feature Engineering Is required\n",
    "2. If the independent features are correlated it may affect performance\n",
    "3. It is often quite prone to noise and overfitting\n",
    "4. If the number of observations is lesser than the number of features, Logistic Regression should not be used, otherwise, it may lead to overfitting.\n",
    "5. \tNon-linear problems can’t be solved with logistic regression because it has a linear decision surface. Linearly separable data is rarely found in real-world scenarios.\n",
    "6. It is tough to obtain complex relationships using logistic regression. More powerful and compact algorithms such as Neural Networks can easily outperform this algorithm.\n",
    "7. In Linear Regression independent and dependent variables are related linearly. But Logistic Regression needs that independent variables are linearly related to the log odds (log(p/(1-p))."
   ]
  },
  {
   "cell_type": "markdown",
   "metadata": {},
   "source": [
    "##### 4. Whether Feature Scaling is required?\n",
    "yes\n",
    "\n",
    "#### 5. Missing Values\n",
    "Sensitive to missing values\n",
    "\n",
    "##### 6. Impact of outliers?\n",
    "Like linear regression, estimates of the logistic regression are sensitive to the unusual observations: outliers, high leverage, and influential observations. Numerical examples and analysis are presented to demonstrate the most recent outlier diagnostic methods using data sets from medical domain"
   ]
  },
  {
   "cell_type": "markdown",
   "metadata": {},
   "source": [
    "##### Types of Problems it can solve(Supervised)\n",
    "1. Classification"
   ]
  },
  {
   "cell_type": "markdown",
   "metadata": {},
   "source": [
    "\n"
   ]
  },
  {
   "cell_type": "markdown",
   "metadata": {},
   "source": [
    "#### Practical Implementation\n",
    "1. http://scikit-learn.org/stable/modules/generated/sklearn.linear_model.LogisticRegression.html"
   ]
  },
  {
   "cell_type": "markdown",
   "metadata": {},
   "source": [
    "##### Performance Metrics"
   ]
  },
  {
   "cell_type": "markdown",
   "metadata": {},
   "source": [
    "##### Classification\n",
    "1. Confusion Matrix \n",
    "2. Precision,Recall, F1 score\n",
    "\n",
    "1. Part 1 https://www.youtube.com/watch?v=aWAnNHXIKww\n",
    "2. Part 2 https://www.youtube.com/watch?v=A_ZKMsZ3f3o"
   ]
  },
  {
   "cell_type": "code",
   "execution_count": null,
   "metadata": {},
   "outputs": [],
   "source": []
  }
 ],
 "metadata": {
  "kernelspec": {
   "display_name": "Python 3 (ipykernel)",
   "language": "python",
   "name": "python3"
  },
  "language_info": {
   "codemirror_mode": {
    "name": "ipython",
    "version": 3
   },
   "file_extension": ".py",
   "mimetype": "text/x-python",
   "name": "python",
   "nbconvert_exporter": "python",
   "pygments_lexer": "ipython3",
   "version": "3.10.6"
  },
  "toc": {
   "base_numbering": 1,
   "nav_menu": {},
   "number_sections": true,
   "sideBar": true,
   "skip_h1_title": false,
   "title_cell": "Table of Contents",
   "title_sidebar": "Contents",
   "toc_cell": true,
   "toc_position": {},
   "toc_section_display": true,
   "toc_window_display": false
  }
 },
 "nbformat": 4,
 "nbformat_minor": 4
}
