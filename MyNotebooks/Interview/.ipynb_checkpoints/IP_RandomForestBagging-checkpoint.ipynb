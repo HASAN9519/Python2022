{
 "cells": [
  {
   "cell_type": "markdown",
   "metadata": {
    "toc": true
   },
   "source": [
    "<h1>Table of Contents<span class=\"tocSkip\"></span></h1>\n",
    "<div class=\"toc\"><ul class=\"toc-item\"><li><span><a href=\"#How-To-Learn-Machine-Learning-Algorithms-For-Interviews\" data-toc-modified-id=\"How-To-Learn-Machine-Learning-Algorithms-For-Interviews-1\"><span class=\"toc-item-num\">1&nbsp;&nbsp;</span>How To Learn Machine Learning Algorithms For Interviews</a></span><ul class=\"toc-item\"><li><span><a href=\"#Decision-Tree-Classifier-And-Regressor\" data-toc-modified-id=\"Decision-Tree-Classifier-And-Regressor-1.1\"><span class=\"toc-item-num\">1.1&nbsp;&nbsp;</span>Decision Tree Classifier And Regressor</a></span><ul class=\"toc-item\"><li><span><a href=\"#Random-Forest-Classifier-And-Regresor\" data-toc-modified-id=\"Random-Forest-Classifier-And-Regresor-1.1.1\"><span class=\"toc-item-num\">1.1.1&nbsp;&nbsp;</span>Random Forest Classifier And Regresor</a></span></li></ul></li><li><span><a href=\"#Important-properties-of-Random-Forest-Classifiers\" data-toc-modified-id=\"Important-properties-of-Random-Forest-Classifiers-1.2\"><span class=\"toc-item-num\">1.2&nbsp;&nbsp;</span>Important properties of Random Forest Classifiers</a></span><ul class=\"toc-item\"><li><span><a href=\"#1.-What-Are-the-Basic-Assumption?\" data-toc-modified-id=\"1.-What-Are-the-Basic-Assumption?-1.2.1\"><span class=\"toc-item-num\">1.2.1&nbsp;&nbsp;</span>1. What Are the Basic Assumption?</a></span></li><li><span><a href=\"#2.-Advantages\" data-toc-modified-id=\"2.-Advantages-1.2.2\"><span class=\"toc-item-num\">1.2.2&nbsp;&nbsp;</span>2. Advantages</a></span></li><li><span><a href=\"#3.-Disadvantages\" data-toc-modified-id=\"3.-Disadvantages-1.2.3\"><span class=\"toc-item-num\">1.2.3&nbsp;&nbsp;</span>3. Disadvantages</a></span></li><li><span><a href=\"#4.-Whether-Feature-Scaling-is-required?\" data-toc-modified-id=\"4.-Whether-Feature-Scaling-is-required?-1.2.4\"><span class=\"toc-item-num\">1.2.4&nbsp;&nbsp;</span>4. Whether Feature Scaling is required?</a></span></li><li><span><a href=\"#6.-Impact-of-outliers?\" data-toc-modified-id=\"6.-Impact-of-outliers?-1.2.5\"><span class=\"toc-item-num\">1.2.5&nbsp;&nbsp;</span>6. Impact of outliers?</a></span></li><li><span><a href=\"#Types-of-Problems-it-can-solve(Supervised)\" data-toc-modified-id=\"Types-of-Problems-it-can-solve(Supervised)-1.2.6\"><span class=\"toc-item-num\">1.2.6&nbsp;&nbsp;</span>Types of Problems it can solve(Supervised)</a></span></li></ul></li><li><span><a href=\"#Practical-Implementation\" data-toc-modified-id=\"Practical-Implementation-1.3\"><span class=\"toc-item-num\">1.3&nbsp;&nbsp;</span>Practical Implementation</a></span><ul class=\"toc-item\"><li><span><a href=\"#Performance-Metrics\" data-toc-modified-id=\"Performance-Metrics-1.3.1\"><span class=\"toc-item-num\">1.3.1&nbsp;&nbsp;</span>Performance Metrics</a></span></li><li><span><a href=\"#Classification\" data-toc-modified-id=\"Classification-1.3.2\"><span class=\"toc-item-num\">1.3.2&nbsp;&nbsp;</span>Classification</a></span></li><li><span><a href=\"#Regression\" data-toc-modified-id=\"Regression-1.3.3\"><span class=\"toc-item-num\">1.3.3&nbsp;&nbsp;</span>Regression</a></span></li></ul></li></ul></li></ul></div>"
   ]
  },
  {
   "cell_type": "markdown",
   "metadata": {},
   "source": [
    "### How To Learn Machine Learning Algorithms For Interviews\n",
    "\n",
    "#### Decision Tree Classifier And Regressor\n",
    "Interview Questions:\n",
    "1. Decision Tree \n",
    "2. Entropy, Information Gain, Gini Impurity\n",
    "3. Decision Tree Working For Categorical and Numerical Features\n",
    "4. What are the scenarios where Decision Tree works well\n",
    "5. Decision Tree Low Bias And High Variance- Overfitting\n",
    "6. Hyperparameter Techniques\n",
    "7. Library used for constructing decision tree\n",
    "8. Impact of Outliers Of Decision Tree\n",
    "9. Impact of mising values on Decision Tree\n",
    "10. Does Decision Tree require Feature Scaling\n",
    "\n",
    "##### Random Forest Classifier And Regresor\n",
    "\n",
    "11. Ensemble Techniques(Boosting And Bagging)\n",
    "12. Working of Random Forest Classifier\n",
    "13. Working of Random Forest Regresor\n",
    "14. Hyperparameter Tuning(Grid Search And RandomSearch)\n",
    " \n",
    "\n",
    "Theoretical Understanding:\n",
    "\n",
    "1. Tutorial 37:Entropy In Decision Tree https://www.youtube.com/watch?v=1IQOtJ4NI_0\n",
    "2. Tutorial 38:Information Gain https://www.youtube.com/watch?v=FuTRucXB9rA\n",
    "3. Tutorial 39:Gini Impurity https://www.youtube.com/watch?v=5aIFgrrTqOw\n",
    "4. Tutorial 40: Decision Tree For Numerical Features: https://www.youtube.com/watch?v=5O8HvA9pMew \n",
    "5. How To Visualize DT: https://www.youtube.com/watch?v=ot75kOmpYjI\n",
    "\n",
    "Theoretical Understanding:\n",
    "1. Ensemble technique(Bagging): https://www.youtube.com/watch?v=KIOeZ5cFZ50\n",
    "2. Random forest Classifier And Regressor\n",
    "https://www.youtube.com/watch?v=nxFG5xdpDto\n",
    "3.  Construct Decision Tree And working in Random Forest: https://www.youtube.com/watch?v=WQ0iJSbnnZA&t=406s"
   ]
  },
  {
   "cell_type": "markdown",
   "metadata": {},
   "source": [
    "#### Important properties of Random Forest Classifiers \n",
    "\n",
    "1. Decision Tree---Low Bias And High Variance\n",
    "    \n",
    "2. Ensemble Bagging(Random Forest Classifier)--Low Bias And Low Variance\n",
    "    "
   ]
  },
  {
   "cell_type": "markdown",
   "metadata": {},
   "source": [
    "##### 1. What Are the Basic Assumption?\n",
    "There are no such assumptions"
   ]
  },
  {
   "cell_type": "markdown",
   "metadata": {},
   "source": [
    "#####  2. Advantages\n",
    "Advantages of Random Forest\n",
    "\n",
    "1. <b>Doesn't Overfit<b>\n",
    "\n",
    "2. Favourite algorithm for Kaggle competition\n",
    "\n",
    "3. Less Parameter Tuning required\n",
    "\n",
    "4. Decision Tree can handle both continuous and categorical variables.\n",
    "\n",
    "5. No feature scaling required: No feature scaling (standardization and normalization) required in case of Random Forest as it uses DEcision Tree internally\n",
    "\n",
    "6. Suitable for any kind of ML problems\n",
    "    "
   ]
  },
  {
   "cell_type": "markdown",
   "metadata": {},
   "source": [
    "##### 3. Disadvantages\n",
    "Disadvantages of Random Forest\n",
    "\n",
    "1.<b>Biased With features having many categories\n",
    "\n",
    "2. Biased in multiclass classification problems towards more frequent classes."
   ]
  },
  {
   "cell_type": "markdown",
   "metadata": {},
   "source": [
    "##### 4. Whether Feature Scaling is required?\n",
    "No\n",
    "\n",
    "##### 6. Impact of outliers?\n",
    "Robust to Outliers"
   ]
  },
  {
   "cell_type": "markdown",
   "metadata": {},
   "source": [
    "##### Types of Problems it can solve(Supervised)\n",
    "1. Classification\n",
    "2. Regression"
   ]
  },
  {
   "cell_type": "markdown",
   "metadata": {},
   "source": [
    "\n"
   ]
  },
  {
   "cell_type": "markdown",
   "metadata": {},
   "source": [
    "#### Practical Implementation\n",
    "1. https://scikit-learn.org/stable/modules/generated/sklearn.tree.DecisionTreeClassifier.html\n",
    "2. https://scikit-learn.org/stable/modules/generated/sklearn.tree.DecisionTreeRegressor.html\n",
    "\n",
    "1. https://scikit-learn.org/stable/modules/generated/sklearn.ensemble.RandomForestClassifier.html\n",
    "2. https://scikit-learn.org/stable/modules/generated/sklearn.ensemble.RandomForestRegressor.html"
   ]
  },
  {
   "cell_type": "markdown",
   "metadata": {},
   "source": [
    "##### Performance Metrics"
   ]
  },
  {
   "cell_type": "markdown",
   "metadata": {},
   "source": [
    "##### Classification\n",
    "1. Confusion Matrix \n",
    "2. Precision,Recall, F1 score\n",
    "\n",
    "##### Regression\n",
    "1. R2,Adjusted R2\n",
    "2. MSE,RMSE,MAE"
   ]
  },
  {
   "cell_type": "code",
   "execution_count": null,
   "metadata": {},
   "outputs": [],
   "source": []
  }
 ],
 "metadata": {
  "kernelspec": {
   "display_name": "Python 3 (ipykernel)",
   "language": "python",
   "name": "python3"
  },
  "language_info": {
   "codemirror_mode": {
    "name": "ipython",
    "version": 3
   },
   "file_extension": ".py",
   "mimetype": "text/x-python",
   "name": "python",
   "nbconvert_exporter": "python",
   "pygments_lexer": "ipython3",
   "version": "3.10.6"
  },
  "toc": {
   "base_numbering": 1,
   "nav_menu": {},
   "number_sections": true,
   "sideBar": true,
   "skip_h1_title": false,
   "title_cell": "Table of Contents",
   "title_sidebar": "Contents",
   "toc_cell": true,
   "toc_position": {},
   "toc_section_display": true,
   "toc_window_display": false
  }
 },
 "nbformat": 4,
 "nbformat_minor": 4
}
