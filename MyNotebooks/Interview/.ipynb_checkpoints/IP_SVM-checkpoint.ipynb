{
 "cells": [
  {
   "cell_type": "markdown",
   "metadata": {
    "toc": true
   },
   "source": [
    "<h1>Table of Contents<span class=\"tocSkip\"></span></h1>\n",
    "<div class=\"toc\"><ul class=\"toc-item\"><li><span><a href=\"#How-To-Learn-Machine-Learning-Algorithms-For-Interviews\" data-toc-modified-id=\"How-To-Learn-Machine-Learning-Algorithms-For-Interviews-1\"><span class=\"toc-item-num\">1&nbsp;&nbsp;</span>How To Learn Machine Learning Algorithms For Interviews</a></span><ul class=\"toc-item\"><li><span><a href=\"#SVM\" data-toc-modified-id=\"SVM-1.1\"><span class=\"toc-item-num\">1.1&nbsp;&nbsp;</span>SVM</a></span><ul class=\"toc-item\"><li><span><a href=\"#1.-What-Are-the-Basic-Assumption?\" data-toc-modified-id=\"1.-What-Are-the-Basic-Assumption?-1.1.1\"><span class=\"toc-item-num\">1.1.1&nbsp;&nbsp;</span>1. What Are the Basic Assumption?</a></span></li><li><span><a href=\"#2.-Advantages\" data-toc-modified-id=\"2.-Advantages-1.1.2\"><span class=\"toc-item-num\">1.1.2&nbsp;&nbsp;</span>2. Advantages</a></span></li><li><span><a href=\"#3.-Disadvantages\" data-toc-modified-id=\"3.-Disadvantages-1.1.3\"><span class=\"toc-item-num\">1.1.3&nbsp;&nbsp;</span>3. Disadvantages</a></span></li><li><span><a href=\"#4.-Whether-Feature-Scaling-is-required?\" data-toc-modified-id=\"4.-Whether-Feature-Scaling-is-required?-1.1.4\"><span class=\"toc-item-num\">1.1.4&nbsp;&nbsp;</span>4. Whether Feature Scaling is required?</a></span></li><li><span><a href=\"#5.-Impact-of-Missing-Values?\" data-toc-modified-id=\"5.-Impact-of-Missing-Values?-1.1.5\"><span class=\"toc-item-num\">1.1.5&nbsp;&nbsp;</span>5. Impact of Missing Values?</a></span></li><li><span><a href=\"#6.-Impact-of-outliers?\" data-toc-modified-id=\"6.-Impact-of-outliers?-1.1.6\"><span class=\"toc-item-num\">1.1.6&nbsp;&nbsp;</span>6. Impact of outliers?</a></span></li><li><span><a href=\"#Types-of-Problems-it-can-solve(Supervised)\" data-toc-modified-id=\"Types-of-Problems-it-can-solve(Supervised)-1.1.7\"><span class=\"toc-item-num\">1.1.7&nbsp;&nbsp;</span>Types of Problems it can solve(Supervised)</a></span></li><li><span><a href=\"#Overfitting-And-Underfitting\" data-toc-modified-id=\"Overfitting-And-Underfitting-1.1.8\"><span class=\"toc-item-num\">1.1.8&nbsp;&nbsp;</span>Overfitting And Underfitting</a></span></li><li><span><a href=\"#Different-Problem-statement-you-can-solve-using-Naive-Baye's\" data-toc-modified-id=\"Different-Problem-statement-you-can-solve-using-Naive-Baye's-1.1.9\"><span class=\"toc-item-num\">1.1.9&nbsp;&nbsp;</span>Different Problem statement you can solve using Naive Baye's</a></span></li></ul></li><li><span><a href=\"#Practical-Implementation\" data-toc-modified-id=\"Practical-Implementation-1.2\"><span class=\"toc-item-num\">1.2&nbsp;&nbsp;</span>Practical Implementation</a></span><ul class=\"toc-item\"><li><span><a href=\"#Performance-Metrics\" data-toc-modified-id=\"Performance-Metrics-1.2.1\"><span class=\"toc-item-num\">1.2.1&nbsp;&nbsp;</span>Performance Metrics</a></span></li><li><span><a href=\"#Classification\" data-toc-modified-id=\"Classification-1.2.2\"><span class=\"toc-item-num\">1.2.2&nbsp;&nbsp;</span>Classification</a></span></li><li><span><a href=\"#Regression\" data-toc-modified-id=\"Regression-1.2.3\"><span class=\"toc-item-num\">1.2.3&nbsp;&nbsp;</span>Regression</a></span></li></ul></li></ul></li></ul></div>"
   ]
  },
  {
   "cell_type": "markdown",
   "metadata": {},
   "source": [
    "### How To Learn Machine Learning Algorithms For Interviews\n",
    "\n",
    "#### SVM\n",
    "\n",
    "Theoretical Understanding:\n",
    "\n",
    "1. https://www.youtube.com/watch?v=H9yACitf-KM\n",
    "2. https://www.youtube.com/watch?v=Js3GLb1xPhc"
   ]
  },
  {
   "cell_type": "markdown",
   "metadata": {},
   "source": [
    "##### 1. What Are the Basic Assumption?\n",
    "There are no such assumptions"
   ]
  },
  {
   "cell_type": "markdown",
   "metadata": {},
   "source": [
    "#####  2. Advantages\n",
    "1. SVM is more effective in high dimensional spaces.\n",
    "2. SVM is relatively memory efficient.\n",
    "3. SVM’s are very good when we have no idea on the data.\n",
    "4. Works well with even unstructured and semi structured data like text, Images and trees.\n",
    "5. The kernel trick is real strength of SVM. With an appropriate kernel function, we can solve any complex problem.\n",
    "6. SVM models have generalization in practice, the risk of over-fitting is less in SVM."
   ]
  },
  {
   "cell_type": "markdown",
   "metadata": {},
   "source": [
    "##### 3. Disadvantages\n",
    "1. More Training Time is required for larger dataset\n",
    "2. It is difficult to choose a good kernel function\n",
    "https://www.youtube.com/watch?v=mTyT-oHoivA\n",
    "3. The SVM hyper parameters are Cost -C and gamma. It is not that easy to fine-tune these hyper-parameters. It is hard to visualize their impact"
   ]
  },
  {
   "cell_type": "markdown",
   "metadata": {},
   "source": [
    "##### 4. Whether Feature Scaling is required?\n",
    "Yes\n",
    "##### 5. Impact of Missing Values?\n",
    "Although SVMs are an attractive option when constructing a classifier, SVMs do not easily accommodate missing covariate information. Similar to other prediction and classification methods, in-attention to missing data when constructing an SVM can impact the accuracy and utility of the resulting classifier.\n",
    "##### 6. Impact of outliers?\n",
    "It is usually sensitive to outliers\n",
    "https://arxiv.org/abs/1409.0934#:~:text=Despite%20its%20popularity%2C%20SVM%20has,causes%20the%20sensitivity%20to%20outliers."
   ]
  },
  {
   "cell_type": "markdown",
   "metadata": {},
   "source": [
    "##### Types of Problems it can solve(Supervised)\n",
    "1. Classification\n",
    "2. Regression"
   ]
  },
  {
   "cell_type": "markdown",
   "metadata": {},
   "source": [
    "##### Overfitting And Underfitting\n",
    "In SVM, to avoid overfitting, we choose a Soft Margin, instead of a Hard one i.e. we let some data points enter our margin intentionally (but we still penalize it) so that our classifier don't overfit on our training sample\n",
    "\n",
    "https://scikit-learn.org/stable/modules/generated/sklearn.svm.SVC.html"
   ]
  },
  {
   "cell_type": "markdown",
   "metadata": {},
   "source": [
    "##### Different Problem statement you can solve using Naive Baye's\n",
    "1. We can use SVM with every ANN usecases\n",
    "2. Intrusion Detection\n",
    "3. Handwriting Recognition"
   ]
  },
  {
   "cell_type": "markdown",
   "metadata": {},
   "source": [
    "#### Practical Implementation\n",
    "1. https://scikit-learn.org/stable/modules/generated/sklearn.svm.SVC.html\n",
    "2. https://scikit-learn.org/stable/modules/generated/sklearn.svm.SVR.html"
   ]
  },
  {
   "cell_type": "markdown",
   "metadata": {},
   "source": [
    "##### Performance Metrics"
   ]
  },
  {
   "cell_type": "markdown",
   "metadata": {},
   "source": [
    "##### Classification\n",
    "1. Confusion Matrix \n",
    "2. Precision,Recall, F1 score\n",
    "\n",
    "##### Regression\n",
    "1. R2,Adjusted R2\n",
    "2. MSE,RMSE,MAE"
   ]
  },
  {
   "cell_type": "code",
   "execution_count": null,
   "metadata": {},
   "outputs": [],
   "source": []
  }
 ],
 "metadata": {
  "kernelspec": {
   "display_name": "Python 3 (ipykernel)",
   "language": "python",
   "name": "python3"
  },
  "language_info": {
   "codemirror_mode": {
    "name": "ipython",
    "version": 3
   },
   "file_extension": ".py",
   "mimetype": "text/x-python",
   "name": "python",
   "nbconvert_exporter": "python",
   "pygments_lexer": "ipython3",
   "version": "3.10.6"
  },
  "toc": {
   "base_numbering": 1,
   "nav_menu": {},
   "number_sections": true,
   "sideBar": true,
   "skip_h1_title": false,
   "title_cell": "Table of Contents",
   "title_sidebar": "Contents",
   "toc_cell": true,
   "toc_position": {},
   "toc_section_display": true,
   "toc_window_display": false
  }
 },
 "nbformat": 4,
 "nbformat_minor": 4
}
