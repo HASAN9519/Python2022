{
 "cells": [
  {
   "cell_type": "markdown",
   "metadata": {
    "toc": true
   },
   "source": [
    "<h1>Table of Contents<span class=\"tocSkip\"></span></h1>\n",
    "<div class=\"toc\"><ul class=\"toc-item\"><li><span><a href=\"#Learn-Machine-Learning-Algorithms-For-Interviews\" data-toc-modified-id=\"Learn-Machine-Learning-Algorithms-For-Interviews-1\"><span class=\"toc-item-num\">1&nbsp;&nbsp;</span>Learn Machine Learning Algorithms For Interviews</a></span><ul class=\"toc-item\"><li><ul class=\"toc-item\"><li><ul class=\"toc-item\"><li><span><a href=\"#Naive-Bayes-Classifier\" data-toc-modified-id=\"Naive-Bayes-Classifier-1.0.0.1\"><span class=\"toc-item-num\">1.0.0.1&nbsp;&nbsp;</span>Naive Bayes Classifier</a></span></li></ul></li></ul></li><li><span><a href=\"#What-Are-the-Basic-Assumption?\" data-toc-modified-id=\"What-Are-the-Basic-Assumption?-1.1\"><span class=\"toc-item-num\">1.1&nbsp;&nbsp;</span>What Are the Basic Assumption?</a></span></li><li><span><a href=\"#Advantages\" data-toc-modified-id=\"Advantages-1.2\"><span class=\"toc-item-num\">1.2&nbsp;&nbsp;</span>Advantages</a></span></li></ul></li></ul></div>"
   ]
  },
  {
   "cell_type": "markdown",
   "metadata": {},
   "source": [
    "# Learn Machine Learning Algorithms For Interviews\n",
    "\n",
    "#### Naive Bayes Classifier\n",
    "\n",
    "Theoretical Understanding:\n",
    "\n",
    "1. Tutorial 48th : https://www.youtube.com/watch?v=jS1CKhALUBQ\n",
    "2. Tutorial 49th:  https://www.youtube.com/watch?v=temQ8mHpe3k"
   ]
  },
  {
   "cell_type": "markdown",
   "metadata": {},
   "source": [
    "## What Are the Basic Assumption?\n",
    "Features Are Independent"
   ]
  },
  {
   "cell_type": "markdown",
   "metadata": {},
   "source": [
    "##  Advantages\n",
    "1. Work Very well with many number of features\n",
    "2. Works Well with Large training Dataset\n",
    "3. It converges faster when we are training the model\n",
    "4. It also performs well with categorical features"
   ]
  },
  {
   "cell_type": "markdown",
   "metadata": {},
   "source": [
    "##### 3. Disadvantages\n",
    "1. Correlated features affects performance"
   ]
  },
  {
   "cell_type": "markdown",
   "metadata": {},
   "source": [
    "##### 4. Whether Feature Scaling is required?\n",
    "No\n",
    "##### 5. Impact of Missing Values?\n",
    "Naive Bayes can handle missing data. Attributes are handled separately by the algorithm at both model construction time and prediction time. As such, if a data instance has a missing value for an attribute, it can be ignored while preparing the model, and ignored when a probability is calculated for a class value\n",
    "tutorial :https://www.youtube.com/watch?v=EqjyLfpv5oA\n",
    "##### 6. Impact of outliers?\n",
    "It is usually robust to outliers"
   ]
  },
  {
   "cell_type": "markdown",
   "metadata": {},
   "source": [
    "##### Different Problem statement you can solve using Naive Baye's\n",
    "1. Sentiment Analysis\n",
    "2. Spam classification\n",
    "3. twitter sentiment analysis\n",
    "4. document categorization"
   ]
  },
  {
   "cell_type": "code",
   "execution_count": null,
   "metadata": {},
   "outputs": [],
   "source": [
    "-"
   ]
  }
 ],
 "metadata": {
  "kernelspec": {
   "display_name": "Python 3 (ipykernel)",
   "language": "python",
   "name": "python3"
  },
  "language_info": {
   "codemirror_mode": {
    "name": "ipython",
    "version": 3
   },
   "file_extension": ".py",
   "mimetype": "text/x-python",
   "name": "python",
   "nbconvert_exporter": "python",
   "pygments_lexer": "ipython3",
   "version": "3.10.6"
  },
  "toc": {
   "base_numbering": 1,
   "nav_menu": {},
   "number_sections": true,
   "sideBar": true,
   "skip_h1_title": false,
   "title_cell": "Table of Contents",
   "title_sidebar": "Contents",
   "toc_cell": true,
   "toc_position": {
    "height": "calc(100% - 180px)",
    "left": "10px",
    "top": "150px",
    "width": "279.409px"
   },
   "toc_section_display": true,
   "toc_window_display": false
  }
 },
 "nbformat": 4,
 "nbformat_minor": 4
}
