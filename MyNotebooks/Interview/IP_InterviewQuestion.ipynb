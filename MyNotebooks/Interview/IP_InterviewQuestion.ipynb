{
 "cells": [
  {
   "cell_type": "code",
   "execution_count": 2,
   "metadata": {},
   "outputs": [],
   "source": [
    "import numpy as np\n",
    "import pandas as pd"
   ]
  },
  {
   "cell_type": "code",
   "execution_count": 3,
   "metadata": {},
   "outputs": [
    {
     "name": "stdout",
     "output_type": "stream",
     "text": [
      "[0.35253834 0.27461705 0.9741356  0.27755132 0.19298987 0.72537888\n",
      " 0.81311655 0.62599844 0.47374824 0.7953357  0.15430327 0.94263914\n",
      " 0.81254334 0.41313383 0.8777241  0.51947929 0.37958951 0.96498591\n",
      " 0.8645628  0.78487941 0.52309611 0.89147086 0.98959195 0.74198529\n",
      " 0.24737899 0.11392995 0.7561687  0.03755976 0.31555173 0.9736853\n",
      " 0.49116586 0.43035045 0.74096347 0.35617876 0.89051812 0.93298352\n",
      " 0.33042612 0.96471591 0.74931772 0.5181578  0.04494429 0.1491907\n",
      " 0.99757916 0.2423541  0.88298979 0.05257878 0.00241445 0.15410186\n",
      " 0.01032013 0.49131531 0.58228127 0.30504169 0.6755875  0.58724299\n",
      " 0.53761275 0.06226033 0.67045579 0.57708735 0.06627144 0.85642038\n",
      " 0.12883754 0.55469088 0.8114345  0.16328685 0.98132325 0.0833526\n",
      " 0.95432884 0.52111499 0.85821773 0.74812115 0.10833575 0.26115632\n",
      " 0.80053235 0.62402748 0.79075897 0.00264397 0.88038006 0.44412825\n",
      " 0.61794395 0.2236371  0.03844065 0.10022978 0.87300513 0.96608569\n",
      " 0.18341878 0.98255556 0.96484928 0.91968801 0.64669662 0.44897047\n",
      " 0.52443038 0.19488138 0.41307354 0.66236674 0.64644427 0.19704775\n",
      " 0.74423475 0.38989813 0.9807185  0.78161008]\n"
     ]
    }
   ],
   "source": [
    "# Generate array of ‘100’ random numbers sampled from a standard normal distribution using Numpy\n",
    "x = np.random.rand(100)\n",
    "print(x)"
   ]
  },
  {
   "cell_type": "code",
   "execution_count": 6,
   "metadata": {},
   "outputs": [
    {
     "name": "stdout",
     "output_type": "stream",
     "text": [
      "0.3132008383549227\n",
      "0.09809476514622642\n",
      "0.5437939500931601\n"
     ]
    }
   ],
   "source": [
    "print(np.std(x))\n",
    "print(np.var(x))\n",
    "print(np.mean(x))"
   ]
  },
  {
   "cell_type": "code",
   "execution_count": 7,
   "metadata": {},
   "outputs": [
    {
     "name": "stdout",
     "output_type": "stream",
     "text": [
      "0.5437939500931601\n"
     ]
    }
   ],
   "source": [
    "print(x.mean())"
   ]
  },
  {
   "cell_type": "code",
   "execution_count": 8,
   "metadata": {},
   "outputs": [
    {
     "data": {
      "text/plain": [
       "array([4, 1, 1, 1, 2, 3, 0, 0, 0, 2], dtype=int64)"
      ]
     },
     "execution_count": 8,
     "metadata": {},
     "output_type": "execute_result"
    }
   ],
   "source": [
    "# How to count the occurrence of each value in a numpy array?\n",
    "arr = np.array([0, 5, 5, 0, 2, 4, 3, 0, 0, 5, 4, 1, 9, 9])\n",
    "np.bincount(arr)\n",
    "# The argument to bincount() must consist of booleans or positive integers. Negative integers are invalid"
   ]
  },
  {
   "cell_type": "code",
   "execution_count": 9,
   "metadata": {},
   "outputs": [
    {
     "data": {
      "text/plain": [
       "array([2, 3, 5])"
      ]
     },
     "execution_count": 9,
     "metadata": {},
     "output_type": "execute_result"
    }
   ],
   "source": [
    "# How to remove from one array those items that exist in another?\n",
    "a = np.array([5, 4, 3, 2, 1])\n",
    "b = np.array([4, 8, 9, 10, 1])\n",
    "# From 'a' remove all of 'b'\n",
    "np.setdiff1d(a,b)\n",
    "# Output: array([5, 3, 2])"
   ]
  },
  {
   "cell_type": "code",
   "execution_count": 10,
   "metadata": {},
   "outputs": [
    {
     "data": {
      "text/plain": [
       "array([[0, 0, 1],\n",
       "       [1, 2, 3],\n",
       "       [4, 5, 6]])"
      ]
     },
     "execution_count": 10,
     "metadata": {},
     "output_type": "execute_result"
    }
   ],
   "source": [
    "# How to sort a numpy array by a specific column in a 2D array?\n",
    "# Choose column 2 as an example\n",
    "arr = np.array([[1, 2, 3], [4, 5, 6], [0,0,1]])\n",
    "arr[arr[:,1].argsort()]\n",
    "# Output : array([[0, 0, 1], [1, 2, 3], [4, 5, 6]])"
   ]
  },
  {
   "cell_type": "code",
   "execution_count": 12,
   "metadata": {},
   "outputs": [
    {
     "data": {
      "text/plain": [
       "array([ 0,  2,  1, 10,  9])"
      ]
     },
     "execution_count": 12,
     "metadata": {},
     "output_type": "execute_result"
    }
   ],
   "source": [
    "# How to reverse a numpy array in the most efficient way?\n",
    "arr = np.array([9, 10, 1, 2, 0])\n",
    "reverse_arr = arr[::-1]\n",
    "reverse_arr"
   ]
  },
  {
   "cell_type": "code",
   "execution_count": 13,
   "metadata": {},
   "outputs": [
    {
     "name": "stdout",
     "output_type": "stream",
     "text": [
      "37.400000000000006\n"
     ]
    }
   ],
   "source": [
    "# How to calculate percentiles when using numpy?\n",
    "arr = np.array([11, 22, 33, 44, 55, 66, 77])\n",
    "perc = np.percentile(arr, 40) #Returns the 40th percentile\n",
    "print(perc)"
   ]
  },
  {
   "cell_type": "code",
   "execution_count": 15,
   "metadata": {},
   "outputs": [
    {
     "data": {
      "text/plain": [
       "0"
      ]
     },
     "execution_count": 15,
     "metadata": {},
     "output_type": "execute_result"
    }
   ],
   "source": [
    "# What Is The Preferred Way To Check For An Empty (zero Element) Array?\n",
    "# For a numpy array, use the size attribute. The size attribute is helpful for determining the length of numpy array:\n",
    "arr = np.zeros((1,0))\n",
    "arr.size"
   ]
  },
  {
   "cell_type": "code",
   "execution_count": 16,
   "metadata": {},
   "outputs": [
    {
     "data": {
      "text/plain": [
       "array([[ True,  True,  True],\n",
       "       [ True,  True,  True],\n",
       "       [False, False, False]])"
      ]
     },
     "execution_count": 16,
     "metadata": {},
     "output_type": "execute_result"
    }
   ],
   "source": [
    "# How can you find the indices of an array where a condition is true?\n",
    "# Given an array a, the condition arr > 3 returns a boolean array and since False is\n",
    "# interpreted as 0 in Python and NumPy.\n",
    "arr = np.array([[9,8,7],[6,5,4],[3,2,1]])\n",
    "arr > 3"
   ]
  },
  {
   "cell_type": "code",
   "execution_count": 18,
   "metadata": {},
   "outputs": [
    {
     "name": "stdout",
     "output_type": "stream",
     "text": [
      "[[0 1]\n",
      " [2 3]]\n",
      "3\n",
      "0\n"
     ]
    }
   ],
   "source": [
    "# How to find the maximum and minimum value of a given flattened array?\n",
    "a = np.arange(4).reshape((2,2))\n",
    "print(a)\n",
    "max_val = np.amax(a)\n",
    "min_val = np.amin(a)\n",
    "print(max_val)\n",
    "print(min_val)"
   ]
  },
  {
   "cell_type": "code",
   "execution_count": 24,
   "metadata": {},
   "outputs": [
    {
     "name": "stdout",
     "output_type": "stream",
     "text": [
      "[[ 0  1  2  3]\n",
      " [ 4  5  6  7]\n",
      " [ 8  9 10 11]\n",
      " [12 13 14 15]]\n"
     ]
    },
    {
     "data": {
      "text/plain": [
       "array([3, 3, 3, 3])"
      ]
     },
     "execution_count": 24,
     "metadata": {},
     "output_type": "execute_result"
    }
   ],
   "source": [
    "# Write a NumPy program to calculate the difference between the maximum and the minimum values of a given array along the second axis.\n",
    "arr = np.arange(16).reshape((4, 4))\n",
    "print(arr)\n",
    "res = np.ptp(arr, 1)\n",
    "res"
   ]
  },
  {
   "cell_type": "code",
   "execution_count": 25,
   "metadata": {},
   "outputs": [
    {
     "data": {
      "text/plain": [
       "array([12, 12, 12, 12])"
      ]
     },
     "execution_count": 25,
     "metadata": {},
     "output_type": "execute_result"
    }
   ],
   "source": [
    "res = np.ptp(arr, 0)\n",
    "res"
   ]
  },
  {
   "cell_type": "code",
   "execution_count": 27,
   "metadata": {},
   "outputs": [
    {
     "name": "stdout",
     "output_type": "stream",
     "text": [
      "[[ 0  1  2  3]\n",
      " [ 4  5  6  7]\n",
      " [ 8  9 10 11]\n",
      " [12 13 14 15]]\n"
     ]
    },
    {
     "data": {
      "text/plain": [
       "7.5"
      ]
     },
     "execution_count": 27,
     "metadata": {},
     "output_type": "execute_result"
    }
   ],
   "source": [
    "# Find median of a numpy flattened array\n",
    "arr = np.arange(16).reshape((4, 4))\n",
    "print(arr)\n",
    "res = np.median(arr)\n",
    "res"
   ]
  },
  {
   "cell_type": "code",
   "execution_count": 28,
   "metadata": {},
   "outputs": [
    {
     "name": "stdout",
     "output_type": "stream",
     "text": [
      "[ 0  1  2  3  4  5  6  7  8  9 10 11 12 13 14 15]\n",
      "7.5\n",
      "4.6097722286464435\n",
      "21.25\n"
     ]
    }
   ],
   "source": [
    "# Write a NumPy program to compute the mean, standard deviation, and variance of a given array along the second axis\n",
    "x = np.arange(16)\n",
    "print(x)\n",
    "mean = np.mean(x)\n",
    "print(mean)\n",
    "std = np.std(x)\n",
    "print(std)\n",
    "var= np.var(x)\n",
    "print(var)"
   ]
  },
  {
   "cell_type": "code",
   "execution_count": 29,
   "metadata": {},
   "outputs": [
    {
     "name": "stdout",
     "output_type": "stream",
     "text": [
      "[2 1 0]\n",
      "[2 3 3]\n",
      "[[ 1.         -0.5       ]\n",
      " [-0.5         0.33333333]]\n"
     ]
    }
   ],
   "source": [
    "# Calculate covariance matrix between two numpy arrays\n",
    "x = np.array([2, 1, 0])\n",
    "y = np.array([2, 3, 3])\n",
    "print(x)\n",
    "print(y)\n",
    "cov_arr = np.cov(x, y)\n",
    "print(cov_arr)"
   ]
  },
  {
   "cell_type": "code",
   "execution_count": 30,
   "metadata": {},
   "outputs": [
    {
     "name": "stdout",
     "output_type": "stream",
     "text": [
      "[0 1 3]\n",
      "[2 4 5]\n",
      "[[1.         0.92857143]\n",
      " [0.92857143 1.        ]]\n"
     ]
    }
   ],
   "source": [
    "# Compute pearson product-moment correlation coefficients of two given numpy arrays\n",
    "x = np.array([0, 1, 3])\n",
    "y = np.array([2, 4, 5])\n",
    "print(x)\n",
    "print(y)\n",
    "cross_corr = np.corrcoef(x, y)\n",
    "print(cross_corr)"
   ]
  },
  {
   "cell_type": "code",
   "execution_count": 31,
   "metadata": {},
   "outputs": [
    {
     "data": {
      "text/plain": [
       "(array([2, 3, 1], dtype=int64), array([0, 1, 2, 3]))"
      ]
     },
     "execution_count": 31,
     "metadata": {},
     "output_type": "execute_result"
    }
   ],
   "source": [
    "# Develop a numpy program to compute the histogram of nums against the bins\n",
    "nums = np.array([0.5, 0.7, 1.0, 1.2, 1.3, 2.1])\n",
    "bins = np.array([0, 1, 2, 3])\n",
    "np.histogram(nums, bins)"
   ]
  },
  {
   "cell_type": "code",
   "execution_count": 32,
   "metadata": {},
   "outputs": [
    {
     "name": "stdout",
     "output_type": "stream",
     "text": [
      "[0 1 2 3 4 5 6]\n"
     ]
    },
    {
     "data": {
      "text/plain": [
       "array([  0,   1,   8,  27,  64, 125, 216], dtype=int32)"
      ]
     },
     "execution_count": 32,
     "metadata": {},
     "output_type": "execute_result"
    }
   ],
   "source": [
    "# Get the powers of an array values element-wise\n",
    "x = np.arange(7)\n",
    "print(x)\n",
    "np.power(x, 3)"
   ]
  },
  {
   "cell_type": "code",
   "execution_count": 33,
   "metadata": {},
   "outputs": [
    {
     "name": "stdout",
     "output_type": "stream",
     "text": [
      "[0 1 2 3 4 5 6 7 8 9]\n"
     ]
    },
    {
     "data": {
      "text/plain": [
       "array([0.        , 0.33333333, 0.66666667, 1.        , 1.33333333,\n",
       "       1.66666667, 2.        , 2.33333333, 2.66666667, 3.        ])"
      ]
     },
     "execution_count": 33,
     "metadata": {},
     "output_type": "execute_result"
    }
   ],
   "source": [
    "# Write a NumPy program to get true division of the element-wise array inputs\n",
    "x = np.arange(10)\n",
    "print(x)\n",
    "np.true_divide(x, 3)"
   ]
  },
  {
   "cell_type": "code",
   "execution_count": 34,
   "metadata": {},
   "outputs": [
    {
     "data": {
      "text/plain": [
       "x    0.0\n",
       "y    1.0\n",
       "z    2.0\n",
       "dtype: float64"
      ]
     },
     "execution_count": 34,
     "metadata": {},
     "output_type": "execute_result"
    }
   ],
   "source": [
    "# How will you create a series from dict in Pandas?\n",
    "# A Series is defined as a one-dimensional array that is capable of storing various data types.\n",
    "info = {'x' : 0., 'y' : 1., 'z' : 2.}\n",
    "a = pd.Series(info)\n",
    "a"
   ]
  },
  {
   "cell_type": "code",
   "execution_count": null,
   "metadata": {},
   "outputs": [],
   "source": [
    "# How can we create a copy of the series in Pandas?\n",
    "pd.Series.copy(deep=True)"
   ]
  },
  {
   "cell_type": "code",
   "execution_count": 35,
   "metadata": {},
   "outputs": [
    {
     "data": {
      "text/html": [
       "<div>\n",
       "<style scoped>\n",
       "    .dataframe tbody tr th:only-of-type {\n",
       "        vertical-align: middle;\n",
       "    }\n",
       "\n",
       "    .dataframe tbody tr th {\n",
       "        vertical-align: top;\n",
       "    }\n",
       "\n",
       "    .dataframe thead th {\n",
       "        text-align: right;\n",
       "    }\n",
       "</style>\n",
       "<table border=\"1\" class=\"dataframe\">\n",
       "  <thead>\n",
       "    <tr style=\"text-align: right;\">\n",
       "      <th></th>\n",
       "      <th>name</th>\n",
       "    </tr>\n",
       "  </thead>\n",
       "  <tbody>\n",
       "    <tr>\n",
       "      <th>a</th>\n",
       "      <td>Anastasia</td>\n",
       "    </tr>\n",
       "    <tr>\n",
       "      <th>b</th>\n",
       "      <td>Dima</td>\n",
       "    </tr>\n",
       "    <tr>\n",
       "      <th>c</th>\n",
       "      <td>Katherine</td>\n",
       "    </tr>\n",
       "    <tr>\n",
       "      <th>d</th>\n",
       "      <td>James</td>\n",
       "    </tr>\n",
       "    <tr>\n",
       "      <th>e</th>\n",
       "      <td>Emily</td>\n",
       "    </tr>\n",
       "  </tbody>\n",
       "</table>\n",
       "</div>"
      ],
      "text/plain": [
       "        name\n",
       "a  Anastasia\n",
       "b       Dima\n",
       "c  Katherine\n",
       "d      James\n",
       "e      Emily"
      ]
     },
     "execution_count": 35,
     "metadata": {},
     "output_type": "execute_result"
    }
   ],
   "source": [
    "# Write a Pandas program to get the first 5 rows of a given DataFrame\n",
    "exam_data = {'name': ['Anastasia', 'Dima', 'Katherine', 'James', 'Emily', 'Michael',\n",
    "'Matthew', 'Laura', 'Kevin', 'Jonas'],}\n",
    "labels = ['a', 'b', 'c', 'd', 'e', 'f', 'g', 'h', 'i', 'j']\n",
    "df = pd.DataFrame(exam_data , index=labels)\n",
    "df.iloc[:5]"
   ]
  },
  {
   "cell_type": "code",
   "execution_count": 37,
   "metadata": {},
   "outputs": [
    {
     "data": {
      "text/plain": [
       "0     2\n",
       "1     4\n",
       "2     6\n",
       "3     8\n",
       "4    10\n",
       "dtype: int64"
      ]
     },
     "execution_count": 37,
     "metadata": {},
     "output_type": "execute_result"
    }
   ],
   "source": [
    "# Develop a Pandas program to create and display a one-dimensional arraylike object containing an array of data.\n",
    "pd.Series([2, 4, 6, 8, 10])"
   ]
  },
  {
   "cell_type": "code",
   "execution_count": 38,
   "metadata": {},
   "outputs": [
    {
     "name": "stdout",
     "output_type": "stream",
     "text": [
      "<class 'pandas.core.series.Series'>\n"
     ]
    },
    {
     "data": {
      "text/plain": [
       "list"
      ]
     },
     "execution_count": 38,
     "metadata": {},
     "output_type": "execute_result"
    }
   ],
   "source": [
    "# Write a Python program to convert a Panda module Series to Python list and it's type.\n",
    "ds = pd.Series([2, 4, 6, 8, 10])\n",
    "print(type(ds))\n",
    "s = ds.tolist()\n",
    "type(s)"
   ]
  },
  {
   "cell_type": "code",
   "execution_count": 39,
   "metadata": {},
   "outputs": [
    {
     "name": "stdout",
     "output_type": "stream",
     "text": [
      "0     3\n",
      "1     7\n",
      "2    11\n",
      "3    15\n",
      "4    19\n",
      "dtype: int64\n",
      "0    1\n",
      "1    1\n",
      "2    1\n",
      "3    1\n",
      "4    1\n",
      "dtype: int64\n",
      "0     2\n",
      "1    12\n",
      "2    30\n",
      "3    56\n",
      "4    90\n",
      "dtype: int64\n",
      "0    2.000000\n",
      "1    1.333333\n",
      "2    1.200000\n",
      "3    1.142857\n",
      "4    1.111111\n",
      "dtype: float64\n"
     ]
    }
   ],
   "source": [
    "# Develop a Pandas program to add, subtract, multiple and divide two Pandas Series.\n",
    "ds1 = pd.Series([2, 4, 6, 8, 10])\n",
    "ds2 = pd.Series([1, 3, 5, 7, 9])\n",
    "sum = ds1 + ds2\n",
    "sub = ds1 - ds2\n",
    "mul = ds1 * ds2\n",
    "div = ds1 / ds2\n",
    "print(sum)\n",
    "print(sub)\n",
    "print(mul)\n",
    "print(div)"
   ]
  },
  {
   "cell_type": "code",
   "execution_count": 40,
   "metadata": {},
   "outputs": [
    {
     "data": {
      "text/plain": [
       "0    False\n",
       "1    False\n",
       "2    False\n",
       "3    False\n",
       "4    False\n",
       "dtype: bool"
      ]
     },
     "execution_count": 40,
     "metadata": {},
     "output_type": "execute_result"
    }
   ],
   "source": [
    "# Develop a Pandas program to compare the elements of the two Pandas Series.\n",
    "ds1 = pd.Series([2, 4, 6, 8, 10])\n",
    "ds2 = pd.Series([1, 3, 5, 7, 10])\n",
    "ds1 == ds2\n",
    "ds1 > ds2\n",
    "ds1 < ds2"
   ]
  },
  {
   "cell_type": "code",
   "execution_count": 41,
   "metadata": {},
   "outputs": [
    {
     "data": {
      "text/plain": [
       "0    100.00\n",
       "1    200.00\n",
       "2       NaN\n",
       "3    300.12\n",
       "4    400.00\n",
       "dtype: float64"
      ]
     },
     "execution_count": 41,
     "metadata": {},
     "output_type": "execute_result"
    }
   ],
   "source": [
    "# Develop a Pandas program to change the data type of given a column or a Series.\n",
    "s1 = pd.Series(['100', '200', 'python', '300.12', '400'])\n",
    "s2 = pd.to_numeric(s1, errors='coerce')\n",
    "s2"
   ]
  },
  {
   "cell_type": "code",
   "execution_count": 43,
   "metadata": {},
   "outputs": [
    {
     "name": "stdout",
     "output_type": "stream",
     "text": [
      "0           [Red, Black]\n",
      "1    [Red, Green, White]\n",
      "2               [Yellow]\n",
      "dtype: object\n"
     ]
    },
    {
     "data": {
      "text/plain": [
       "0       Red\n",
       "1     Black\n",
       "2       Red\n",
       "3     Green\n",
       "4     White\n",
       "5    Yellow\n",
       "dtype: object"
      ]
     },
     "execution_count": 43,
     "metadata": {},
     "output_type": "execute_result"
    }
   ],
   "source": [
    "# Write a Pandas program to convert Series of lists to one Series\n",
    "s = pd.Series([ ['Red', 'Black'], ['Red', 'Green', 'White'] , ['Yellow']])\n",
    "print(s)\n",
    "s = s.apply(pd.Series).stack().reset_index(drop=True)\n",
    "s"
   ]
  },
  {
   "cell_type": "code",
   "execution_count": 44,
   "metadata": {},
   "outputs": [
    {
     "data": {
      "text/plain": [
       "0    0\n",
       "1    1\n",
       "2    2\n",
       "3    3\n",
       "4    4\n",
       "5    5\n",
       "dtype: int64"
      ]
     },
     "execution_count": 44,
     "metadata": {},
     "output_type": "execute_result"
    }
   ],
   "source": [
    "# Write a Pandas program to create a subset of a given series based on value and condition\n",
    "s = pd.Series([0, 1,2,3,4,5,6,7,8,9,10])\n",
    "n = 6\n",
    "new_s = s[s < n]\n",
    "new_s"
   ]
  },
  {
   "cell_type": "code",
   "execution_count": 45,
   "metadata": {},
   "outputs": [
    {
     "data": {
      "text/plain": [
       "B    2\n",
       "A    1\n",
       "C    3\n",
       "D    4\n",
       "E    5\n",
       "dtype: int64"
      ]
     },
     "execution_count": 45,
     "metadata": {},
     "output_type": "execute_result"
    }
   ],
   "source": [
    "# Develop a Pandas code to alter the order of index in a given series\n",
    "s = pd.Series(data = [1,2,3,4,5], index = ['A','B','C','D','E'])\n",
    "s.reindex(index = ['B','A','C','D','E'])"
   ]
  },
  {
   "cell_type": "code",
   "execution_count": 46,
   "metadata": {},
   "outputs": [
    {
     "data": {
      "text/plain": [
       "0    1\n",
       "2    3\n",
       "4    5\n",
       "dtype: int64"
      ]
     },
     "execution_count": 46,
     "metadata": {},
     "output_type": "execute_result"
    }
   ],
   "source": [
    "# Write a Pandas code to get the items of a given series not present in another given series.\n",
    "sr1 = pd.Series([1, 2, 3, 4, 5])\n",
    "sr2 = pd.Series([2, 4, 6, 8, 10])\n",
    "result = sr1[~sr1.isin(sr2)]\n",
    "result"
   ]
  },
  {
   "cell_type": "code",
   "execution_count": 59,
   "metadata": {},
   "outputs": [
    {
     "name": "stdout",
     "output_type": "stream",
     "text": [
      "0     3\n",
      "1     4\n",
      "2     4\n",
      "3     1\n",
      "4     4\n",
      "5     4\n",
      "6     2\n",
      "7     1\n",
      "8     1\n",
      "9     3\n",
      "10    1\n",
      "11    3\n",
      "12    1\n",
      "13    1\n",
      "14    4\n",
      "dtype: int32\n"
     ]
    },
    {
     "data": {
      "text/plain": [
       "0     3\n",
       "1     4\n",
       "2     4\n",
       "4     4\n",
       "5     4\n",
       "6     2\n",
       "9     3\n",
       "11    3\n",
       "14    4\n",
       "dtype: int32"
      ]
     },
     "execution_count": 59,
     "metadata": {},
     "output_type": "execute_result"
    }
   ],
   "source": [
    "# Write a Pandas program to display the most frequent value in a given series and replace everything else as “replaced” in the series.\n",
    "np.random.RandomState(100)\n",
    "num_series = pd.Series(np.random.randint(1, 5, [15]))\n",
    "print(num_series)\n",
    "#result = num_series[~num_series.isin(num_series.value_counts().index[:1])] # = 'replaced'\n",
    "result1 = num_series[~num_series.isin(num_series.value_counts().index[:1])]\n",
    "result1"
   ]
  },
  {
   "cell_type": "code",
   "execution_count": 66,
   "metadata": {},
   "outputs": [
    {
     "name": "stdout",
     "output_type": "stream",
     "text": [
      "[1 9 4 5 9 9 6 2 2]\n"
     ]
    },
    {
     "data": {
      "text/plain": [
       "array([[3]], dtype=int64)"
      ]
     },
     "execution_count": 66,
     "metadata": {},
     "output_type": "execute_result"
    }
   ],
   "source": [
    "# Write a Pandas program to find the positions of numbers that are multiples of 5 of a given series.\n",
    "#num_series = pd.Series(np.random.randint(1, 10, 9))\n",
    "num_series = np.random.randint(1, 10, 9)\n",
    "print(num_series)\n",
    "#result = np.argwhere(num_series % 5==0)\n",
    "result = np.argwhere(num_series % 5==0)\n",
    "result"
   ]
  },
  {
   "cell_type": "code",
   "execution_count": 68,
   "metadata": {},
   "outputs": [
    {
     "data": {
      "text/html": [
       "<div>\n",
       "<style scoped>\n",
       "    .dataframe tbody tr th:only-of-type {\n",
       "        vertical-align: middle;\n",
       "    }\n",
       "\n",
       "    .dataframe tbody tr th {\n",
       "        vertical-align: top;\n",
       "    }\n",
       "\n",
       "    .dataframe thead th {\n",
       "        text-align: right;\n",
       "    }\n",
       "</style>\n",
       "<table border=\"1\" class=\"dataframe\">\n",
       "  <thead>\n",
       "    <tr style=\"text-align: right;\">\n",
       "      <th></th>\n",
       "      <th>one</th>\n",
       "      <th>two</th>\n",
       "      <th>three</th>\n",
       "    </tr>\n",
       "  </thead>\n",
       "  <tbody>\n",
       "    <tr>\n",
       "      <th>a</th>\n",
       "      <td>1.0</td>\n",
       "      <td>1</td>\n",
       "      <td>20.0</td>\n",
       "    </tr>\n",
       "    <tr>\n",
       "      <th>b</th>\n",
       "      <td>2.0</td>\n",
       "      <td>2</td>\n",
       "      <td>40.0</td>\n",
       "    </tr>\n",
       "    <tr>\n",
       "      <th>c</th>\n",
       "      <td>3.0</td>\n",
       "      <td>3</td>\n",
       "      <td>60.0</td>\n",
       "    </tr>\n",
       "    <tr>\n",
       "      <th>d</th>\n",
       "      <td>4.0</td>\n",
       "      <td>4</td>\n",
       "      <td>NaN</td>\n",
       "    </tr>\n",
       "    <tr>\n",
       "      <th>e</th>\n",
       "      <td>5.0</td>\n",
       "      <td>5</td>\n",
       "      <td>NaN</td>\n",
       "    </tr>\n",
       "    <tr>\n",
       "      <th>f</th>\n",
       "      <td>NaN</td>\n",
       "      <td>6</td>\n",
       "      <td>NaN</td>\n",
       "    </tr>\n",
       "  </tbody>\n",
       "</table>\n",
       "</div>"
      ],
      "text/plain": [
       "   one  two  three\n",
       "a  1.0    1   20.0\n",
       "b  2.0    2   40.0\n",
       "c  3.0    3   60.0\n",
       "d  4.0    4    NaN\n",
       "e  5.0    5    NaN\n",
       "f  NaN    6    NaN"
      ]
     },
     "execution_count": 68,
     "metadata": {},
     "output_type": "execute_result"
    }
   ],
   "source": [
    "# How will you add a column to a pandas DataFrame?\n",
    "info = {'one' : pd.Series([1, 2, 3, 4, 5], index=['a', 'b', 'c', 'd', 'e']),\n",
    "'two' : pd.Series([1, 2, 3, 4, 5, 6], index=['a', 'b', 'c', 'd', 'e', 'f'])}\n",
    "info = pd.DataFrame(info)\n",
    "# Add a new column to an existing DataFrame object\n",
    "info['three'] = pd.Series([20,40,60],index=['a','b','c'])\n",
    "info"
   ]
  },
  {
   "cell_type": "code",
   "execution_count": 77,
   "metadata": {},
   "outputs": [
    {
     "name": "stdout",
     "output_type": "stream",
     "text": [
      "20.0\n",
      "40.0\n",
      "60.0\n",
      "nan\n",
      "nan\n",
      "nan\n"
     ]
    }
   ],
   "source": [
    "# How to iterate over a Pandas DataFrame?\n",
    "# You can iterate over the rows of the DataFrame by using for loop in combination with an iterrows() call on the DataFrame.\n",
    "for i, j in info.iterrows():\n",
    "    print(j['three'])"
   ]
  },
  {
   "cell_type": "code",
   "execution_count": 74,
   "metadata": {},
   "outputs": [
    {
     "name": "stdout",
     "output_type": "stream",
     "text": [
      "  firstname  age\n",
      "0     Sally   50\n",
      "1      Mary   40\n",
      "2      John   30\n",
      "Sally\n",
      "Mary\n",
      "John\n"
     ]
    }
   ],
   "source": [
    "data = {\n",
    "  \"firstname\": [\"Sally\", \"Mary\", \"John\"],\n",
    "  \"age\": [50, 40, 30]\n",
    "}\n",
    "\n",
    "df = pd.DataFrame(data)\n",
    "print(df)\n",
    "for index, row in df.iterrows():\n",
    "  print(row[\"firstname\"])"
   ]
  }
 ],
 "metadata": {
  "kernelspec": {
   "display_name": "Python 3",
   "language": "python",
   "name": "python3"
  },
  "language_info": {
   "codemirror_mode": {
    "name": "ipython",
    "version": 3
   },
   "file_extension": ".py",
   "mimetype": "text/x-python",
   "name": "python",
   "nbconvert_exporter": "python",
   "pygments_lexer": "ipython3",
   "version": "3.10.6"
  }
 },
 "nbformat": 4,
 "nbformat_minor": 2
}
