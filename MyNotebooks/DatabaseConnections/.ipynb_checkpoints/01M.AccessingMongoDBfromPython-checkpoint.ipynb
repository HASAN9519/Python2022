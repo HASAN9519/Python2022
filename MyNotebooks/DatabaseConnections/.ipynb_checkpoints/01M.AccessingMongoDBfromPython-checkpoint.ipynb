{
 "cells": [
  {
   "cell_type": "markdown",
   "metadata": {},
   "source": [
    "### Connecting to mongodb server"
   ]
  },
  {
   "cell_type": "code",
   "execution_count": 5,
   "metadata": {},
   "outputs": [],
   "source": [
    "import pymongo "
   ]
  },
  {
   "cell_type": "code",
   "execution_count": 6,
   "metadata": {},
   "outputs": [],
   "source": [
    "# creating mongodb client\n",
    "# here mongodb is protocol, 127.0.0.1 is IP address, 27017 is port number\n",
    "client = pymongo.MongoClient(\"mongodb://127.0.0.1:27017/\")"
   ]
  },
  {
   "cell_type": "code",
   "execution_count": 7,
   "metadata": {},
   "outputs": [
    {
     "name": "stdout",
     "output_type": "stream",
     "text": [
      "Getting list of databases\n",
      "admin\n",
      "config\n",
      "local\n",
      "training\n"
     ]
    }
   ],
   "source": [
    "# getting database list\n",
    "print(\"Getting list of databases\")\n",
    "dbs = client.list_database_names()\n",
    "# printing all database names\n",
    "for db in dbs:\n",
    "    print(db)"
   ]
  },
  {
   "cell_type": "code",
   "execution_count": 8,
   "metadata": {},
   "outputs": [],
   "source": [
    "# selecting training database \n",
    "db = client.training\n",
    "# selecting python collection \n",
    "collection = db.python"
   ]
  },
  {
   "cell_type": "code",
   "execution_count": 12,
   "metadata": {},
   "outputs": [
    {
     "name": "stdout",
     "output_type": "stream",
     "text": [
      "Inserting a document into collection\n"
     ]
    },
    {
     "data": {
      "text/plain": [
       "<pymongo.results.InsertOneResult at 0x1f6115dfcd0>"
      ]
     },
     "execution_count": 12,
     "metadata": {},
     "output_type": "execute_result"
    }
   ],
   "source": [
    "# creating a sample document\n",
    "doc = {\"lab\":\"Accessing mongodb using python\", \"Subject\":\"No SQL Databases\"}\n",
    "# inserting a sample document\n",
    "print(\"Inserting a document into collection\")\n",
    "db.collection.insert_one(doc)"
   ]
  },
  {
   "cell_type": "code",
   "execution_count": 13,
   "metadata": {},
   "outputs": [
    {
     "name": "stdout",
     "output_type": "stream",
     "text": [
      "Printing the documents in the collection\n",
      "{'_id': ObjectId('634a66d2596a3c24f240485c'), 'lab': 'Accessing mongodb using python', 'Subject': 'No SQL Databases'}\n",
      "{'_id': ObjectId('634a68f0596a3c24f240485d'), 'lab': 'Accessing mongodb using python', 'Subject': 'No SQL Databases'}\n"
     ]
    }
   ],
   "source": [
    "# query for all documents in training database and python collection\n",
    "docs = db.collection.find()\n",
    "print(\"Printing the documents in the collection\")\n",
    "for document in docs:\n",
    "    print(document)"
   ]
  },
  {
   "cell_type": "code",
   "execution_count": 14,
   "metadata": {},
   "outputs": [
    {
     "name": "stdout",
     "output_type": "stream",
     "text": [
      "Printing the documents in the collection\n",
      "{'_id': ObjectId('634a66d2596a3c24f240485c'), 'lab': 'Accessing mongodb using python', 'Subject': 'No SQL Databases'}\n",
      "{'_id': ObjectId('634a68f0596a3c24f240485d'), 'lab': 'Accessing mongodb using python', 'Subject': 'No SQL Databases'}\n",
      "{'_id': ObjectId('634a69dc596a3c24f240485e'), 'database': 'a database contains collections'}\n",
      "{'_id': ObjectId('634a69dc596a3c24f240485f'), 'collection': 'a collection stores the documents'}\n",
      "{'_id': ObjectId('634a69dc596a3c24f2404860'), 'document': 'a document contains the data in the form or key value pairs'}\n"
     ]
    }
   ],
   "source": [
    "# creating multiple documents\n",
    "doc1 = {\"database\":\"a database contains collections\"}\n",
    "doc2 = {\"collection\":\"a collection stores the documents\"}\n",
    "doc3 = {\"document\":\"a document contains the data in the form or key value pairs\"}\n",
    "# creating a list to store all documents\n",
    "mylist = [doc1,doc2,doc3]\n",
    "# inserting multiple documents using list in insert_many() function\n",
    "db.collection.insert_many(mylist)\n",
    "# query for all documents in training database and python collection\n",
    "docs = db.collection.find()\n",
    "print(\"Printing the documents in the collection\")\n",
    "for document in docs:\n",
    "    print(document)"
   ]
  },
  {
   "cell_type": "code",
   "execution_count": 15,
   "metadata": {},
   "outputs": [
    {
     "name": "stdout",
     "output_type": "stream",
     "text": [
      "Closing server connection\n"
     ]
    }
   ],
   "source": [
    "# closing server connecton\n",
    "print(\"Closing server connection\")\n",
    "client.close()"
   ]
  }
 ],
 "metadata": {
  "kernelspec": {
   "display_name": "Python 3.10.6 64-bit",
   "language": "python",
   "name": "python3"
  },
  "language_info": {
   "codemirror_mode": {
    "name": "ipython",
    "version": 3
   },
   "file_extension": ".py",
   "mimetype": "text/x-python",
   "name": "python",
   "nbconvert_exporter": "python",
   "pygments_lexer": "ipython3",
   "version": "3.10.6"
  },
  "orig_nbformat": 4,
  "vscode": {
   "interpreter": {
    "hash": "369f2c481f4da34e4445cda3fffd2e751bd1c4d706f27375911949ba6bb62e1c"
   }
  }
 },
 "nbformat": 4,
 "nbformat_minor": 2
}
