{
 "cells": [
  {
   "cell_type": "code",
   "execution_count": 1,
   "metadata": {},
   "outputs": [],
   "source": [
    "import psycopg2"
   ]
  },
  {
   "cell_type": "code",
   "execution_count": 2,
   "metadata": {},
   "outputs": [],
   "source": [
    "# connection to test database\n",
    "hostname='localhost'\n",
    "database='test'\n",
    "username='postgres'\n",
    "pwd=2022\n",
    "port_id=5432\n",
    "\n",
    "conn = psycopg2.connect(\n",
    "    host = hostname,\n",
    "    dbname = database,\n",
    "    user = username,\n",
    "    password = pwd,\n",
    "    port = port_id)"
   ]
  },
  {
   "cell_type": "code",
   "execution_count": 3,
   "metadata": {},
   "outputs": [],
   "source": [
    "# creating cursor object\n",
    "cur = conn.cursor()"
   ]
  },
  {
   "cell_type": "code",
   "execution_count": 6,
   "metadata": {},
   "outputs": [
    {
     "name": "stdout",
     "output_type": "stream",
     "text": [
      "(3, 'rwingar0@indiegogo.com', 'Raimondo', 'Wingar', 'Male', datetime.date(1993, 12, 31), 'Bosnia and Herzegovina')\n",
      "(4, 'mmurphey1@google.com', 'Meade', 'Murphey', 'Male', datetime.date(1998, 11, 22), 'Croatia')\n",
      "(5, 'nhosby2@printfriendly.com', 'Natty', 'Hosby', 'Male', datetime.date(1994, 6, 24), 'Ireland')\n",
      "(6, 'hpybus3@rakuten.co.jp', 'Hubey', 'Pybus', 'Male', datetime.date(1997, 2, 16), 'Argentina')\n",
      "(7, 'adowry4@wp.com', 'Antin', 'Dowry', 'Male', datetime.date(1998, 6, 21), 'Philippines')\n"
     ]
    }
   ],
   "source": [
    "query = \"\"\"SELECT * FROM person LIMIT 5\"\"\"\n",
    "cur.execute(query)\n",
    "conn.commit()\n",
    "for record in cur.fetchall():\n",
    "    print(record)"
   ]
  },
  {
   "cell_type": "code",
   "execution_count": 13,
   "metadata": {},
   "outputs": [
    {
     "name": "stdout",
     "output_type": "stream",
     "text": [
      "3  rwingar0@indiegogo.com  Raimondo  Wingar  Male  1993-12-31  Bosnia and Herzegovina\n",
      "4  mmurphey1@google.com  Meade  Murphey  Male  1998-11-22  Croatia\n",
      "5  nhosby2@printfriendly.com  Natty  Hosby  Male  1994-06-24  Ireland\n",
      "6  hpybus3@rakuten.co.jp  Hubey  Pybus  Male  1997-02-16  Argentina\n",
      "7  adowry4@wp.com  Antin  Dowry  Male  1998-06-21  Philippines\n"
     ]
    }
   ],
   "source": [
    "query = \"\"\"SELECT * FROM person LIMIT 5\"\"\"\n",
    "cur.execute(query)\n",
    "conn.commit()\n",
    "for record in cur.fetchall():\n",
    "    print(record[0],'',record[1],'',record[2],'',record[3],'',record[4],'',record[5],'',record[6])"
   ]
  },
  {
   "cell_type": "code",
   "execution_count": 25,
   "metadata": {},
   "outputs": [],
   "source": [
    "# creating table pythondb\n",
    "query = \"\"\"CREATE TABLE pythondb (id INT, first_name VARCHAR(50), last_name VARCHAR(50))\"\"\"\n",
    "cur.execute(query)\n",
    "conn.commit()"
   ]
  },
  {
   "cell_type": "code",
   "execution_count": 26,
   "metadata": {},
   "outputs": [],
   "source": [
    "# inserting data into pythondb table\n",
    "query = \"\"\"INSERT INTO pythondb (id, first_name, last_name) VALUES (1,'Anne','Smith')\"\"\"\n",
    "cur.execute(query)\n",
    "conn.commit()"
   ]
  },
  {
   "cell_type": "code",
   "execution_count": 27,
   "metadata": {},
   "outputs": [],
   "source": [
    "# inserting data into pythondb table another way\n",
    "query1 = 'INSERT INTO pythondb (id, first_name, last_name) VALUES (%s,%s,%s)'\n",
    "query2 = (2,'Jack','Jones')\n",
    "cur.execute(query1,query2)\n",
    "conn.commit()"
   ]
  },
  {
   "cell_type": "code",
   "execution_count": 33,
   "metadata": {},
   "outputs": [],
   "source": [
    "# inserting multiple data into pythondb table \n",
    "query1 = 'INSERT INTO pythondb (id, first_name, last_name) VALUES (%s,%s,%s)'\n",
    "query2 = [(3,'Rahom','Ullah'),(4,'Nazra','Rahman'),(5,'Tazim','Khan')]\n",
    "for record in query2:\n",
    "    cur.execute(query1,record)\n",
    "conn.commit()"
   ]
  },
  {
   "cell_type": "code",
   "execution_count": 34,
   "metadata": {},
   "outputs": [],
   "source": [
    "# update in two ways\n",
    "query1 = \"\"\"UPDATE pythondb SET first_name='Wazim' WHERE id=5\"\"\"\n",
    "cur.execute(query1)\n",
    "query2 = 'UPDATE pythondb SET last_name= %s WHERE id=2'\n",
    "q2=('west',)\n",
    "cur.execute(query2,q2)\n",
    "conn.commit()"
   ]
  },
  {
   "cell_type": "code",
   "execution_count": 36,
   "metadata": {},
   "outputs": [],
   "source": [
    "# delete in two ways\n",
    "query1 = \"\"\"DELETE FROM pythondb WHERE id=4\"\"\"\n",
    "cur.execute(query1)\n",
    "conn.commit()\n",
    "query2 = 'DELETE FROM pythondb WHERE last_name= %s'\n",
    "q2=('west',)\n",
    "cur.execute(query2,q2)\n",
    "conn.commit()"
   ]
  },
  {
   "cell_type": "code",
   "execution_count": 23,
   "metadata": {},
   "outputs": [],
   "source": [
    "# this import helps to retrive data as a dictionary\n",
    "import psycopg2.extras\n",
    "# this will return data as dictionary, can use column name as index name\n",
    "cur1 = conn.cursor(cursor_factory=psycopg2.extras.DictCursor)"
   ]
  },
  {
   "cell_type": "code",
   "execution_count": 24,
   "metadata": {},
   "outputs": [
    {
     "name": "stdout",
     "output_type": "stream",
     "text": [
      "3 Raimondo Wingar Male rwingar0@indiegogo.com 1993-12-31\n",
      "4 Meade Murphey Male mmurphey1@google.com 1998-11-22\n",
      "5 Natty Hosby Male nhosby2@printfriendly.com 1994-06-24\n",
      "6 Hubey Pybus Male hpybus3@rakuten.co.jp 1997-02-16\n",
      "7 Antin Dowry Male adowry4@wp.com 1998-06-21\n"
     ]
    }
   ],
   "source": [
    "query = \"\"\"SELECT * FROM person LIMIT 5\"\"\"\n",
    "cur1.execute(query)\n",
    "conn.commit()\n",
    "for record in cur1.fetchall():\n",
    "    print(record['id'],record['first_name'],record['last_name'],record['gender'],record['email'],record['date_of_birth'])"
   ]
  },
  {
   "cell_type": "code",
   "execution_count": 37,
   "metadata": {},
   "outputs": [],
   "source": [
    "cur.close()\n",
    "conn.close()"
   ]
  },
  {
   "cell_type": "code",
   "execution_count": 38,
   "metadata": {},
   "outputs": [
    {
     "name": "stdout",
     "output_type": "stream",
     "text": [
      "(3, 'rwingar0@indiegogo.com', 'Raimondo', 'Wingar', 'Male', datetime.date(1993, 12, 31), 'Bosnia and Herzegovina')\n",
      "(4, 'mmurphey1@google.com', 'Meade', 'Murphey', 'Male', datetime.date(1998, 11, 22), 'Croatia')\n",
      "(5, 'nhosby2@printfriendly.com', 'Natty', 'Hosby', 'Male', datetime.date(1994, 6, 24), 'Ireland')\n",
      "(6, 'hpybus3@rakuten.co.jp', 'Hubey', 'Pybus', 'Male', datetime.date(1997, 2, 16), 'Argentina')\n",
      "(7, 'adowry4@wp.com', 'Antin', 'Dowry', 'Male', datetime.date(1998, 6, 21), 'Philippines')\n",
      "connection close\n"
     ]
    }
   ],
   "source": [
    "############################################## sample script for databaseconfig.py file\n",
    "\n",
    "import psycopg2\n",
    "\n",
    "# connection to test database\n",
    "hostname='localhost'\n",
    "database='test'\n",
    "username='postgres'\n",
    "pwd=2022\n",
    "port_id=5432\n",
    "conn = None\n",
    "# using context manager \n",
    "# A context manager usually takes care of setting up some resource e.g. opening a connection and automatically handles clean up when work is done \n",
    "# with clause will automatically close cursor when work is done and don't need to use conn.commit() as work will be done if there is no exception\n",
    "try:\n",
    "    with psycopg2.connect(\n",
    "        host = hostname,\n",
    "        dbname = database,\n",
    "        user = username,\n",
    "        password = pwd,\n",
    "        port = port_id) as conn:\n",
    "\n",
    "        with conn.cursor() as cur:\n",
    "            query = \"\"\"SELECT * FROM person LIMIT 5\"\"\"\n",
    "            cur.execute(query)\n",
    "            conn.commit()\n",
    "            for record in cur.fetchall():\n",
    "                print(record)\n",
    "\n",
    "except Exception as error:\n",
    "    print(error)\n",
    "finally:\n",
    "    if conn is not None:\n",
    "        conn.close()\n",
    "        print(\"connection close\")"
   ]
  }
 ],
 "metadata": {
  "kernelspec": {
   "display_name": "Python 3.10.6 64-bit",
   "language": "python",
   "name": "python3"
  },
  "language_info": {
   "codemirror_mode": {
    "name": "ipython",
    "version": 3
   },
   "file_extension": ".py",
   "mimetype": "text/x-python",
   "name": "python",
   "nbconvert_exporter": "python",
   "pygments_lexer": "ipython3",
   "version": "3.10.6"
  },
  "orig_nbformat": 4,
  "vscode": {
   "interpreter": {
    "hash": "369f2c481f4da34e4445cda3fffd2e751bd1c4d706f27375911949ba6bb62e1c"
   }
  }
 },
 "nbformat": 4,
 "nbformat_minor": 2
}
