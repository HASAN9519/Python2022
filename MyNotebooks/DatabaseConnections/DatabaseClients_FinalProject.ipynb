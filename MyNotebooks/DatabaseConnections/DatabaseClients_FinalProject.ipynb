{
 "cells": [
  {
   "cell_type": "markdown",
   "metadata": {
    "toc": true
   },
   "source": [
    "<h1>Table of Contents<span class=\"tocSkip\"></span></h1>\n",
    "<div class=\"toc\"><ul class=\"toc-item\"><li><span><a href=\"#Setting-up-database\" data-toc-modified-id=\"Setting-up-database-1\"><span class=\"toc-item-num\">1&nbsp;&nbsp;</span>Setting up database</a></span><ul class=\"toc-item\"><li><span><a href=\"#Establishing-a-connection\" data-toc-modified-id=\"Establishing-a-connection-1.1\"><span class=\"toc-item-num\">1.1&nbsp;&nbsp;</span>Establishing a connection</a></span></li><li><span><a href=\"#Creating-a-cursor\" data-toc-modified-id=\"Creating-a-cursor-1.2\"><span class=\"toc-item-num\">1.2&nbsp;&nbsp;</span>Creating a cursor</a></span></li><li><span><a href=\"#Creating-database-and-set-it-for-use\" data-toc-modified-id=\"Creating-database-and-set-it-for-use-1.3\"><span class=\"toc-item-num\">1.3&nbsp;&nbsp;</span>Creating database and set it for use</a></span></li><li><span><a href=\"#Creating-MenuItems-table-in-database-and-populate-it-with-data\" data-toc-modified-id=\"Creating-MenuItems-table-in-database-and-populate-it-with-data-1.4\"><span class=\"toc-item-num\">1.4&nbsp;&nbsp;</span>Creating MenuItems table in database and populate it with data</a></span></li><li><span><a href=\"#Creating-Menus-table-in-database-and-populate-it-with-data\" data-toc-modified-id=\"Creating-Menus-table-in-database-and-populate-it-with-data-1.5\"><span class=\"toc-item-num\">1.5&nbsp;&nbsp;</span>Creating Menus table in database and populate it with data</a></span></li><li><span><a href=\"#Creating-Bookings-table-in-database-and-populate-it-with-data\" data-toc-modified-id=\"Creating-Bookings-table-in-database-and-populate-it-with-data-1.6\"><span class=\"toc-item-num\">1.6&nbsp;&nbsp;</span>Creating Bookings table in database and populate it with data</a></span></li><li><span><a href=\"#Creating-Orders-table-in-database-and-populate-it-with-data\" data-toc-modified-id=\"Creating-Orders-table-in-database-and-populate-it-with-data-1.7\"><span class=\"toc-item-num\">1.7&nbsp;&nbsp;</span>Creating Orders table in database and populate it with data</a></span></li><li><span><a href=\"#Creating-Employees-table-in-database-and-populate-it-with-data\" data-toc-modified-id=\"Creating-Employees-table-in-database-and-populate-it-with-data-1.8\"><span class=\"toc-item-num\">1.8&nbsp;&nbsp;</span>Creating Employees table in database and populate it with data</a></span></li></ul></li><li><span><a href=\"#Implement-and-query-stored-procedures\" data-toc-modified-id=\"Implement-and-query-stored-procedures-2\"><span class=\"toc-item-num\">2&nbsp;&nbsp;</span>Implement and query stored procedures</a></span><ul class=\"toc-item\"><li><span><a href=\"#Creating-a-pool-named-pool_a-with-two-connections\" data-toc-modified-id=\"Creating-a-pool-named-pool_a-with-two-connections-2.1\"><span class=\"toc-item-num\">2.1&nbsp;&nbsp;</span>Creating a pool named pool_a with two connections</a></span></li><li><span><a href=\"#Getting-a-connection-from-pool\" data-toc-modified-id=\"Getting-a-connection-from-pool-2.2\"><span class=\"toc-item-num\">2.2&nbsp;&nbsp;</span>Getting a connection from pool</a></span></li><li><span><a href=\"#Implementing-a-stored-procedure-called-PeakHours\" data-toc-modified-id=\"Implementing-a-stored-procedure-called-PeakHours-2.3\"><span class=\"toc-item-num\">2.3&nbsp;&nbsp;</span>Implementing a stored procedure called PeakHours</a></span></li><li><span><a href=\"#Implementing-a-stored-procedure-called-GuestStatus\" data-toc-modified-id=\"Implementing-a-stored-procedure-called-GuestStatus-2.4\"><span class=\"toc-item-num\">2.4&nbsp;&nbsp;</span>Implementing a stored procedure called GuestStatus</a></span></li></ul></li><li><span><a href=\"#Analysis-and-sales-report\" data-toc-modified-id=\"Analysis-and-sales-report-3\"><span class=\"toc-item-num\">3&nbsp;&nbsp;</span>Analysis and sales report</a></span><ul class=\"toc-item\"><li><span><a href=\"#creating-a-connection-pool\" data-toc-modified-id=\"creating-a-connection-pool-3.1\"><span class=\"toc-item-num\">3.1&nbsp;&nbsp;</span>creating a connection pool</a></span></li><li><span><a href=\"#guests-dinner-booking-slots-using-pool-connections\" data-toc-modified-id=\"guests-dinner-booking-slots-using-pool-connections-3.2\"><span class=\"toc-item-num\">3.2&nbsp;&nbsp;</span>guests dinner booking slots using pool connections</a></span></li><li><span><a href=\"#Creating-a-report-containing-following-information:\" data-toc-modified-id=\"Creating-a-report-containing-following-information:-3.3\"><span class=\"toc-item-num\">3.3&nbsp;&nbsp;</span>Creating a report containing following information:</a></span></li><li><span><a href=\"#Creating-a-stored-procedure-called-BasicSalesReport-that-returns-following-statistics:\" data-toc-modified-id=\"Creating-a-stored-procedure-called-BasicSalesReport-that-returns-following-statistics:-3.4\"><span class=\"toc-item-num\">3.4&nbsp;&nbsp;</span>Creating a stored procedure called BasicSalesReport that returns following statistics:</a></span></li><li><span><a href=\"#Displaying-next-three-upcoming-bookings-from-Bookings-table\" data-toc-modified-id=\"Displaying-next-three-upcoming-bookings-from-Bookings-table-3.5\"><span class=\"toc-item-num\">3.5&nbsp;&nbsp;</span>Displaying next three upcoming bookings from Bookings table</a></span></li></ul></li></ul></div>"
   ]
  },
  {
   "cell_type": "markdown",
   "metadata": {},
   "source": [
    "# Setting up database"
   ]
  },
  {
   "cell_type": "raw",
   "metadata": {},
   "source": [
    "!pip install mysql.connector"
   ]
  },
  {
   "cell_type": "markdown",
   "metadata": {},
   "source": [
    "## Establishing a connection "
   ]
  },
  {
   "cell_type": "code",
   "execution_count": 1,
   "metadata": {
    "ExecuteTime": {
     "end_time": "2022-12-31T14:58:25.918459Z",
     "start_time": "2022-12-31T14:58:25.802192Z"
    }
   },
   "outputs": [],
   "source": [
    "import mysql.connector as connector\n",
    "conn = connector.connect(user=\"root\", password=\"2022\")"
   ]
  },
  {
   "cell_type": "markdown",
   "metadata": {},
   "source": [
    "## Creating a cursor"
   ]
  },
  {
   "cell_type": "code",
   "execution_count": 2,
   "metadata": {
    "ExecuteTime": {
     "end_time": "2022-12-31T14:58:53.905909Z",
     "start_time": "2022-12-31T14:58:53.888931Z"
    }
   },
   "outputs": [
    {
     "name": "stdout",
     "output_type": "stream",
     "text": [
      "Cursor is created to communicate with MySQL using Python\n"
     ]
    }
   ],
   "source": [
    "# Create cursor object to communicate with entire MySQL database\n",
    "cursor = conn.cursor()\n",
    "print(\"Cursor is created to communicate with MySQL using Python\")"
   ]
  },
  {
   "cell_type": "markdown",
   "metadata": {},
   "source": [
    "## Creating database and set it for use"
   ]
  },
  {
   "cell_type": "code",
   "execution_count": 5,
   "metadata": {
    "ExecuteTime": {
     "end_time": "2022-12-31T15:02:13.328493Z",
     "start_time": "2022-12-31T15:02:13.290283Z"
    }
   },
   "outputs": [
    {
     "name": "stdout",
     "output_type": "stream",
     "text": [
      "database 'little_lemon_db' is created\n",
      "database little_lemon is set for use\n"
     ]
    }
   ],
   "source": [
    "try:\n",
    "    cursor.execute(\"CREATE DATABASE little_lemon_db\")\n",
    "except:\n",
    "    cursor.execute(\"DROP DATABASE little_lemon_db\")\n",
    "    cursor.execute(\"CREATE DATABASE little_lemon_db\")\n",
    "print(\"database 'little_lemon_db' is created\")\n",
    "cursor.execute(\"USE little_lemon_db\")\n",
    "print(\"database little_lemon is set for use\")"
   ]
  },
  {
   "cell_type": "markdown",
   "metadata": {},
   "source": [
    "## Creating MenuItems table in database and populate it with data"
   ]
  },
  {
   "cell_type": "code",
   "execution_count": 6,
   "metadata": {
    "ExecuteTime": {
     "end_time": "2022-12-31T15:02:14.738946Z",
     "start_time": "2022-12-31T15:02:14.709949Z"
    }
   },
   "outputs": [
    {
     "name": "stdout",
     "output_type": "stream",
     "text": [
      "MenuItems table is created\n",
      "Inserting data in MenuItems table\n",
      "Total number of rows in MenuItem table: 17\n"
     ]
    }
   ],
   "source": [
    "create_menuitem_table =\"\"\"CREATE TABLE MenuItems(ItemID INT AUTO_INCREMENT, Name VARCHAR(200), Type VARCHAR(100), \n",
    "Price INT, PRIMARY KEY (ItemID));\"\"\"\n",
    "cursor.execute(create_menuitem_table)\n",
    "print(\"MenuItems table is created\")\n",
    "\n",
    "insert_menuitems =\"\"\"\n",
    "INSERT INTO MenuItems (ItemID, Name, Type, Price) VALUES\n",
    "(1,'Olives','Starters',5),\n",
    "(2,'Flatbread','Starters', 5),\n",
    "(3, 'Minestrone', 'Starters', 8),\n",
    "(4, 'Tomato bread','Starters', 8),\n",
    "(5, 'Falafel', 'Starters', 7),\n",
    "(6, 'Hummus', 'Starters', 5),\n",
    "(7, 'Greek salad', 'Main Courses', 15),\n",
    "(8, 'Bean soup', 'Main Courses', 12),\n",
    "(9, 'Pizza', 'Main Courses', 15),\n",
    "(10,'Greek yoghurt','Desserts', 7),\n",
    "(11, 'Ice cream', 'Desserts', 6),\n",
    "(12, 'Cheesecake', 'Desserts', 4),\n",
    "(13, 'Athens White wine', 'Drinks', 25),\n",
    "(14, 'Corfu Red Wine', 'Drinks', 30),\n",
    "(15, 'Turkish Coffee', 'Drinks', 10),\n",
    "(16, 'Turkish Coffee', 'Drinks', 10),\n",
    "(17, 'Kabasa', 'Main Courses', 17);\"\"\"\n",
    "\n",
    "print(\"Inserting data in MenuItems table\")\n",
    "cursor.execute(insert_menuitems)\n",
    "print(\"Total number of rows in MenuItem table: {}\".format(cursor.rowcount))\n",
    "conn.commit()"
   ]
  },
  {
   "cell_type": "markdown",
   "metadata": {},
   "source": [
    "## Creating Menus table in database and populate it with data"
   ]
  },
  {
   "cell_type": "code",
   "execution_count": 7,
   "metadata": {
    "ExecuteTime": {
     "end_time": "2022-12-31T15:03:34.694155Z",
     "start_time": "2022-12-31T15:03:34.665729Z"
    }
   },
   "outputs": [
    {
     "name": "stdout",
     "output_type": "stream",
     "text": [
      "Menu table is created\n",
      "Inserting data in Menus table\n",
      "Total number of rows in Menu table: 12\n"
     ]
    }
   ],
   "source": [
    "create_menu_table =\"\"\"CREATE TABLE Menus(MenuID INT, ItemID INT, Cuisine VARCHAR(100), PRIMARY KEY (MenuID, ItemID));\"\"\"\n",
    "cursor.execute(create_menu_table)\n",
    "print(\"Menu table is created\")\n",
    "\n",
    "insert_menus =\"\"\"\n",
    "INSERT INTO Menus (MenuID, ItemID, Cuisine) VALUES\n",
    "(1, 1, 'Greek'),\n",
    "(1, 7, 'Greek'),\n",
    "(1, 10, 'Greek'),\n",
    "(1, 13, 'Greek'),\n",
    "(2, 3, 'Italian'),\n",
    "(2, 9, 'Italian'),\n",
    "(2, 12, 'Italian'),\n",
    "(2, 15, 'Italian'),\n",
    "(3, 5, 'Turkish'),\n",
    "(3, 17, 'Turkish'),\n",
    "(3, 11, 'Turkish'),\n",
    "(3, 16, 'Turkish');\"\"\"\n",
    "\n",
    "print(\"Inserting data in Menus table\")\n",
    "cursor.execute(insert_menus)\n",
    "print(\"Total number of rows in Menu table: {}\".format(cursor.rowcount))\n",
    "conn.commit()"
   ]
  },
  {
   "cell_type": "markdown",
   "metadata": {},
   "source": [
    "## Creating Bookings table in database and populate it with data"
   ]
  },
  {
   "cell_type": "code",
   "execution_count": 8,
   "metadata": {
    "ExecuteTime": {
     "end_time": "2022-12-31T15:05:04.249710Z",
     "start_time": "2022-12-31T15:05:04.231723Z"
    }
   },
   "outputs": [
    {
     "name": "stdout",
     "output_type": "stream",
     "text": [
      "Bookings table is created\n",
      "Inserting data in Bookings table\n",
      "Total number of rows in Bookings table: 6\n"
     ]
    }
   ],
   "source": [
    "create_booking_table =\"\"\"CREATE TABLE Bookings(BookingID INT AUTO_INCREMENT, TableNo INT, GuestFirstName VARCHAR(100) NOT NULL,\n",
    "GuestLastName VARCHAR(100) NOT NULL, BookingSlot TIME NOT NULL, EmployeeID INT, PRIMARY KEY (BookingID));\"\"\"\n",
    "cursor.execute(create_booking_table)\n",
    "print(\"Bookings table is created\")\n",
    "\n",
    "insert_bookings=\"\"\"\n",
    "INSERT INTO Bookings (BookingID, TableNo, GuestFirstName, GuestLastName, BookingSlot, EmployeeID) VALUES\n",
    "(1,12,'Anna','Iversen','19:00:00',1),\n",
    "(2, 12, 'Joakim', 'Iversen', '19:00:00', 1),\n",
    "(3, 19, 'Vanessa', 'McCarthy', '15:00:00', 3),\n",
    "(4, 15, 'Marcos', 'Romero', '17:30:00', 4),\n",
    "(5, 5, 'Hiroki', 'Yamane', '18:30:00', 2),\n",
    "(6, 8, 'Diana', 'Pinto', '20:00:00', 5);\"\"\"\n",
    "\n",
    "print(\"Inserting data in Bookings table\")\n",
    "cursor.execute(insert_bookings)\n",
    "print(\"Total number of rows in Bookings table: {}\".format(cursor.rowcount))\n",
    "conn.commit()"
   ]
  },
  {
   "cell_type": "markdown",
   "metadata": {},
   "source": [
    "## Creating Orders table in database and populate it with data"
   ]
  },
  {
   "cell_type": "code",
   "execution_count": 12,
   "metadata": {
    "ExecuteTime": {
     "end_time": "2022-12-31T15:07:39.526235Z",
     "start_time": "2022-12-31T15:07:39.508709Z"
    }
   },
   "outputs": [
    {
     "name": "stdout",
     "output_type": "stream",
     "text": [
      "Orders table is created\n",
      "Inserting data in Orders table\n",
      "Total number of rows in Orders table: 5\n"
     ]
    }
   ],
   "source": [
    "create_orders_table =\"\"\"CREATE TABLE Orders(OrderID INT, TableNo INT, MenuID INT, BookingID INT, BillAmount INT,\n",
    "Quantity INT, PRIMARY KEY (OrderID,TableNo));\"\"\"\n",
    "cursor.execute(create_orders_table)\n",
    "print(\"Orders table is created\")\n",
    "\n",
    "insert_orders =\"\"\"INSERT INTO Orders (OrderID, TableNo, MenuID, BookingID, Quantity, BillAmount) VALUES\n",
    "(1, 12, 1, 1, 2, 86),\n",
    "(2, 19, 2, 2, 1, 37),\n",
    "(3, 15, 2, 3, 1, 37),\n",
    "(4, 5, 3, 4, 1, 40),\n",
    "(5, 8, 1, 5, 1, 43);\"\"\"\n",
    "\n",
    "print(\"Inserting data in Orders table\")\n",
    "cursor.execute(insert_orders)\n",
    "print(\"Total number of rows in Orders table: {}\".format(cursor.rowcount))\n",
    "conn.commit()"
   ]
  },
  {
   "cell_type": "markdown",
   "metadata": {},
   "source": [
    "## Creating Employees table in database and populate it with data"
   ]
  },
  {
   "cell_type": "code",
   "execution_count": 13,
   "metadata": {
    "ExecuteTime": {
     "end_time": "2022-12-31T15:09:08.268462Z",
     "start_time": "2022-12-31T15:09:08.240468Z"
    }
   },
   "outputs": [
    {
     "name": "stdout",
     "output_type": "stream",
     "text": [
      "Inserting data in Employees table\n",
      "Total number of rows in the Employees table:  6\n"
     ]
    }
   ],
   "source": [
    "create_employees_table =\"\"\"CREATE TABLE Employees(EmployeeID INT AUTO_INCREMENT, Name VARCHAR(200), Role VARCHAR(100),\n",
    "Address VARCHAR(200), Contact_Number INT, Email VARCHAR(100), Annual_Salary VARCHAR(100), PRIMARY KEY (EmployeeID));\"\"\"\n",
    "cursor.execute(create_employees_table)\n",
    "insert_employees =\"\"\"INSERT INTO Employees (EmployeeID, Name, Role, Address, Contact_Number, Email, Annual_Salary) VALUES\n",
    "(01,'Mario Gollini','Manager','724, Parsley Lane, Old Town, Chicago, IL',351258074,'Mario.g@littlelemon.com','$70,000'),\n",
    "(02,'Adrian Gollini','Assistant Manager','334, Dill Square, Lincoln Park, Chicago, IL',351474048,'Adrian.g@littlelemon.com','$65,000'),\n",
    "(03,'Giorgos Dioudis','Head Chef','879 Sage Street, West Loop, Chicago, IL',351970582,'Giorgos.d@littlelemon.com','$50,000'),\n",
    "(04,'Fatma Kaya','Assistant Chef','132  Bay Lane, Chicago, IL',351963569,'Fatma.k@littlelemon.com','$45,000'),\n",
    "(05,'Elena Salvai','Head Waiter','989 Thyme Square, EdgeWater, Chicago, IL',351074198,'Elena.s@littlelemon.com','$40,000'),\n",
    "(06,'John Millar','Receptionist','245 Dill Square, Lincoln Park, Chicago, IL',351584508,'John.m@littlelemon.com','$35,000');\"\"\"\n",
    "\n",
    "print(\"Inserting data in Employees table\")\n",
    "cursor.execute(insert_employees)\n",
    "print(\"Total number of rows in the Employees table: \", cursor.rowcount)\n",
    "conn.commit()"
   ]
  },
  {
   "cell_type": "markdown",
   "metadata": {},
   "source": [
    "# Implement and query stored procedures"
   ]
  },
  {
   "cell_type": "markdown",
   "metadata": {},
   "source": [
    "## Creating a pool named pool_a with two connections"
   ]
  },
  {
   "cell_type": "code",
   "execution_count": 15,
   "metadata": {
    "ExecuteTime": {
     "end_time": "2022-12-31T15:18:13.774280Z",
     "start_time": "2022-12-31T15:18:13.751272Z"
    }
   },
   "outputs": [
    {
     "name": "stdout",
     "output_type": "stream",
     "text": [
      "connection pool is created with a name:  pool_a\n",
      "pool size is: 2\n"
     ]
    }
   ],
   "source": [
    "from mysql.connector.pooling import MySQLConnectionPool\n",
    "from mysql.connector import Error\n",
    "dbconfig = {\"database\": \"little_lemon_db\", \"user\": \"root\", \"password\": \"2022\"}\n",
    "\n",
    "try:\n",
    "    pool = MySQLConnectionPool(pool_name=\"pool_a\", pool_size=2, **dbconfig)\n",
    "    print(\"connection pool is created with a name: \", pool.pool_name)\n",
    "    print(\"pool size is:\", pool.pool_size)\n",
    "\n",
    "except Error as er:\n",
    "    print(\"Error code:\", er.errno)\n",
    "    print(\"Error message:\", er.msg)"
   ]
  },
  {
   "cell_type": "markdown",
   "metadata": {},
   "source": [
    "## Getting a connection from pool"
   ]
  },
  {
   "cell_type": "code",
   "execution_count": 16,
   "metadata": {
    "ExecuteTime": {
     "end_time": "2022-12-31T15:19:26.736837Z",
     "start_time": "2022-12-31T15:19:26.722833Z"
    }
   },
   "outputs": [
    {
     "name": "stdout",
     "output_type": "stream",
     "text": [
      "Getting a connection from pool\n",
      "\n",
      "'conn1' object is created with a connection from pool\n"
     ]
    }
   ],
   "source": [
    "print(\"Getting a connection from pool\\n\")\n",
    "conn1 = pool.get_connection()\n",
    "print(\"'conn1' object is created with a connection from pool\")"
   ]
  },
  {
   "cell_type": "code",
   "execution_count": 17,
   "metadata": {
    "ExecuteTime": {
     "end_time": "2022-12-31T15:20:13.005375Z",
     "start_time": "2022-12-31T15:20:12.995374Z"
    }
   },
   "outputs": [],
   "source": [
    "cursor = conn1.cursor()"
   ]
  },
  {
   "cell_type": "markdown",
   "metadata": {
    "ExecuteTime": {
     "end_time": "2022-12-31T15:20:35.117307Z",
     "start_time": "2022-12-31T15:20:35.111324Z"
    }
   },
   "source": [
    "## Implementing a stored procedure called PeakHours\n",
    "1. Writing a SQL CREATE PROCEDURE query for PeakHours:\n",
    "    1. Using HOUR to extract hour data from BookingSlot\n",
    "    2. Using COUNT on hour part of BookingSlot data to count number of bookings\n",
    "    3. Using GROUP BY on booking hour\n",
    "    4. Useing ORDER BY to retrieve number of bookings in descending order\n",
    "2. Running stored procedure query by invoking execute module on cursor\n",
    "3. Invoking callproc to call stored procedure\n",
    "4. FetchING results in a variable called dataset\n",
    "5. Extracting names of columns\n",
    "6. Printing names of columns\n",
    "7. Printing sorted data using a for loop"
   ]
  },
  {
   "cell_type": "code",
   "execution_count": 19,
   "metadata": {
    "ExecuteTime": {
     "end_time": "2022-12-31T15:28:23.262364Z",
     "start_time": "2022-12-31T15:28:23.239372Z"
    }
   },
   "outputs": [
    {
     "name": "stdout",
     "output_type": "stream",
     "text": [
      "['Booking_Hour', 'n_Bookings']\n",
      "(19, 2)\n",
      "(15, 1)\n",
      "(17, 1)\n",
      "(18, 1)\n",
      "(20, 1)\n"
     ]
    }
   ],
   "source": [
    "cursor.execute(\"DROP PROCEDURE IF EXISTS PeakHours;\")\n",
    "stored_procedure_query =\"\"\"CREATE PROCEDURE PeakHours()\n",
    "BEGIN SELECT HOUR(BookingSlot) AS Booking_Hour, COUNT(HOUR(BookingSlot)) AS n_Bookings FROM Bookings\n",
    "GROUP BY Booking_Hour ORDER BY n_Bookings DESC;\n",
    "END\"\"\"\n",
    "\n",
    "cursor.execute(stored_procedure_query)\n",
    "cursor.callproc(\"PeakHours\")\n",
    "\n",
    "results = next(cursor.stored_results())\n",
    "dataset = results.fetchall()\n",
    "\n",
    "# Retrieve column names using list comprehension in a for loop \n",
    "for column_id in cursor.stored_results():\n",
    "    columns = [column[0] for column in column_id.description]\n",
    "print(columns)\n",
    "\n",
    "for data in dataset:\n",
    "    print(data)"
   ]
  },
  {
   "cell_type": "markdown",
   "metadata": {},
   "source": [
    "## Implementing a stored procedure called GuestStatus\n",
    "1. Writing a SQL CREATE PROCEDURE query for GuestStatus\n",
    "2. Combining first and last name of each guest from booking column using a CONCAT function\n",
    "3. Uing CASE function to implement following order statuses for each guest:\n",
    "    1. If Role in Employee table is Manager or Assistant Manager then status is Ready to pay\n",
    "    2. If Role in Employee table is Head Chef then status is Ready to serve\n",
    "    3. If Role in Employee table is Assistant Chef then status is Preparing order\n",
    "    4. If Role in Employee table is Head Waiter then status is Order served\n",
    "4. Performing a LEFT JOIN on Bookings table with Employees table ON EmployeeID\n",
    "5. Running stored procedure query by invoking execute module on cursor object\n",
    "6. Invoking callproc to call stored procedure\n",
    "7. Fetching results in a variable called dataset\n",
    "8. Extracting names of columns\n",
    "9. Printing names of columns\n",
    "10. Printing sorted data using a for loop\n",
    "11. Closing connection to return it to pool"
   ]
  },
  {
   "cell_type": "code",
   "execution_count": 20,
   "metadata": {
    "ExecuteTime": {
     "end_time": "2022-12-31T15:37:29.160811Z",
     "start_time": "2022-12-31T15:37:29.144820Z"
    }
   },
   "outputs": [
    {
     "name": "stdout",
     "output_type": "stream",
     "text": [
      "['OrderNumber', 'GuestName', 'Employee', 'Status']\n",
      "(1, 'Anna Iversen', 'Manager', 'Ready to Pay')\n",
      "(2, 'Joakim Iversen', 'Manager', 'Ready to Pay')\n",
      "(3, 'Vanessa McCarthy', 'Head Chef', 'Ready to serve')\n",
      "(4, 'Marcos Romero', 'Assistant Chef', 'Preparing order')\n",
      "(5, 'Hiroki Yamane', 'Assistant Manager', 'Ready to Pay')\n",
      "(6, 'Diana Pinto', 'Head Waiter', 'Order served')\n"
     ]
    }
   ],
   "source": [
    "stored_procedure_query = \"\"\"CREATE PROCEDURE GuestStatus()\n",
    "BEGIN SELECT Bookings.BookingID AS OrderNumber, CONCAT(GuestFirstName,' ',GuestLastName) AS GuestName, Role AS Employee, \n",
    "CASE \n",
    "WHEN Role IN ('Manager','Assistant Manager') THEN \"Ready to Pay\"\n",
    "WHEN Role = 'Head Chef' THEN \"Ready to serve\"\n",
    "WHEN Role = 'Assistant Chef' THEN \"Preparing order\"\n",
    "WHEN Role = 'Head Waiter' THEN \"Order served\"\n",
    "ELSE \"Pending\"\n",
    "END AS Status\n",
    "FROM Bookings LEFT JOIN Employees ON Employees.EmployeeID=Bookings.EmployeeID;\n",
    "END\"\"\"\n",
    "\n",
    "cursor.execute(stored_procedure_query)\n",
    "cursor.callproc(\"GuestStatus\")\n",
    "\n",
    "results = next(cursor.stored_results())\n",
    "dataset = results.fetchall()\n",
    "\n",
    "for column_id in cursor.stored_results():\n",
    "    columns = [column[0] for column in column_id.description]\n",
    "print(columns)\n",
    "\n",
    "for data in dataset:\n",
    "    print(data)\n",
    "conn1.close()"
   ]
  },
  {
   "cell_type": "markdown",
   "metadata": {},
   "source": [
    "# Analysis and sales report"
   ]
  },
  {
   "cell_type": "markdown",
   "metadata": {},
   "source": [
    "## creating a connection pool"
   ]
  },
  {
   "cell_type": "code",
   "execution_count": 21,
   "metadata": {
    "ExecuteTime": {
     "end_time": "2022-12-31T15:40:02.870197Z",
     "start_time": "2022-12-31T15:40:02.846205Z"
    }
   },
   "outputs": [
    {
     "name": "stdout",
     "output_type": "stream",
     "text": [
      "The connection pool is created with name:  pool_b\n",
      "The pool size is: 2\n"
     ]
    }
   ],
   "source": [
    "# Import MySQLConnectionPool class\n",
    "from mysql.connector.pooling import MySQLConnectionPool\n",
    "from mysql.connector import Error\n",
    "dbconfig = {\"database\": \"little_lemon_db\", \"user\": \"root\", \"password\": \"2022\"}\n",
    "# Creating a pool named \"pool_b\" with two connections\n",
    "try:\n",
    "    pool = MySQLConnectionPool(pool_name=\"pool_b\", pool_size=2, **dbconfig)\n",
    "    print(\"The connection pool is created with name: \", pool.pool_name)\n",
    "    print(\"The pool size is:\", pool.pool_size)\n",
    "except Error as er:\n",
    "    print(\"Error code:\", er.errno)\n",
    "    print(\"Error message:\", er.msg)"
   ]
  },
  {
   "cell_type": "markdown",
   "metadata": {
    "ExecuteTime": {
     "end_time": "2022-12-31T15:41:58.909177Z",
     "start_time": "2022-12-31T15:41:58.902838Z"
    }
   },
   "source": [
    "## guests dinner booking slots using pool connections "
   ]
  },
  {
   "cell_type": "code",
   "execution_count": 23,
   "metadata": {
    "ExecuteTime": {
     "end_time": "2022-12-31T15:50:17.869314Z",
     "start_time": "2022-12-31T15:50:17.835304Z"
    }
   },
   "outputs": [
    {
     "name": "stdout",
     "output_type": "stream",
     "text": [
      "A new booking is added in 'Bookings' table\n",
      "\n",
      "A new booking is added in 'Bookings' table\n",
      "\n",
      "Adding new connection in pool\n",
      "A new connection is added in pool\n",
      "\n",
      "'conn3' is added in pool\n",
      "A new booking is added in 'Bookings' table\n",
      "Connection is returned to pool\n",
      "Connection is returned to pool\n",
      "\n",
      "Connection can't be returned to pool\n",
      "Error message: Failed adding connection; queue is full\n"
     ]
    }
   ],
   "source": [
    "conn1 = pool.get_connection()\n",
    "cursor1 = conn1.cursor()\n",
    "booking1 =\"\"\"INSERT INTO Bookings (TableNo, GuestFirstName, GuestLastName, BookingSlot, EmployeeID)\n",
    "VALUES (8,'Anees','Java','18:00:00',6);\"\"\"\n",
    "cursor1.execute(booking1)\n",
    "conn1.commit()\n",
    "print(\"A new booking is added in 'Bookings' table\\n\")\n",
    "\n",
    "conn2 = pool.get_connection()\n",
    "cursor2 =conn2.cursor()\n",
    "booking2=\"\"\"INSERT INTO Bookings (TableNo, GuestFirstName, GuestLastName, BookingSlot, EmployeeID) \n",
    "VALUES (5, 'Bald','Vin','19:00:00',6);\"\"\"\n",
    "cursor2.execute(booking2)\n",
    "conn2.commit()\n",
    "print(\"A new booking is added in 'Bookings' table\\n\")\n",
    "\n",
    "# Adding a new connection to connect third user\n",
    "import mysql.connector as connector\n",
    "try:\n",
    "    conn3 = pool.get_connection()\n",
    "    print(\"guest is connected\")\n",
    "except:\n",
    "    print(\"Adding new connection in pool\")    \n",
    "    # Creating a connection\n",
    "    conn = connector.connect(user=\"root\",password=\"2022\")\n",
    "    # Adding connection into pool\n",
    "    pool.add_connection(cnx=conn)\n",
    "    print(\"A new connection is added in pool\\n\")\n",
    "        \n",
    "    conn3 = pool.get_connection()\n",
    "    print(\"'conn3' is added in pool\")\n",
    "    \n",
    "cursor3 =conn3.cursor()\n",
    "booking3 =\"\"\"INSERT INTO Bookings(TableNo, GuestFirstName, GuestLastName, BookingSlot, EmployeeID)\n",
    "VALUES (12, 'Jay','Kon','19:30:00',6);\"\"\"\n",
    "cursor3.execute(booking3)\n",
    "conn3.commit()\n",
    "print(\"A new booking is added in 'Bookings' table\")\n",
    "\n",
    "# can only return two connections back to pool as pool_size=2.\n",
    "# Closing all connections and using try-except to print pool error if pool is already full\n",
    "\n",
    "from mysql.connector import Error\n",
    "for conn in [conn1, conn2, conn3]:\n",
    "    try:\n",
    "        conn.close()\n",
    "        print(\"Connection is returned to pool\")\n",
    "    except Error as er:\n",
    "        print(\"\\nConnection can't be returned to pool\")\n",
    "        print(\"Error message:\", er.msg)"
   ]
  },
  {
   "cell_type": "markdown",
   "metadata": {},
   "source": [
    "## Creating a report containing following information:\n",
    "1. name and EmployeeID of Little Lemon manager\n",
    "2. name and role of employee who receives highest salary\n",
    "3. number of guests booked between 18:00 and 20:00\n",
    "4. full name and BookingId of each guest waiting to be seated with receptionist in sorted order with respect to their BookingSlot"
   ]
  },
  {
   "cell_type": "code",
   "execution_count": 24,
   "metadata": {
    "ExecuteTime": {
     "end_time": "2022-12-31T15:56:46.973235Z",
     "start_time": "2022-12-31T15:56:46.958224Z"
    }
   },
   "outputs": [
    {
     "name": "stdout",
     "output_type": "stream",
     "text": [
      "Getting a connection from pool\n",
      "cursor object 'cursor' is created\n",
      "('Name', 'EmployeeID')\n",
      "('Mario Gollini', 1)\n",
      "('Name', 'EmployeeID')\n",
      "('Mario Gollini', 1)\n",
      "('n_booking_between_18_20_hrs',)\n",
      "(7,)\n",
      "following guests are waiting to be seated:\n",
      "('ID', 'GuestName', 'Employee')\n",
      "(9, 'Jay Kon', 'Receptionist')\n",
      "(8, 'Bald Vin', 'Receptionist')\n",
      "(7, 'Anees Java', 'Receptionist')\n"
     ]
    }
   ],
   "source": [
    "print(\"Getting a connection from pool\")\n",
    "conn = pool.get_connection()\n",
    "cursor = conn.cursor()\n",
    "print(\"cursor object 'cursor' is created\")\n",
    "\n",
    "cursor.execute(\"\"\"SELECT Name, EmployeeID FROM Employees WHERE Role = 'Manager'\"\"\")\n",
    "results=cursor.fetchall()\n",
    "columns=cursor.column_names\n",
    "print(columns)\n",
    "for result in results:\n",
    "    print(result)\n",
    "\n",
    "# name and role of employee who receives highest salary\n",
    "cursor.execute(\"\"\"SELECT Name, EmployeeID FROM Employees ORDER BY Annual_Salary DESC LIMIT 1\"\"\")\n",
    "results=cursor.fetchall()\n",
    "columns=cursor.column_names\n",
    "print(columns)\n",
    "for result in results:\n",
    "    print(result)\n",
    "\n",
    "# number of guests booked between 18:00:00 and 20:00:00\n",
    "cursor.execute(\"\"\"SELECT COUNT(BookingID) AS n_booking_between_18_20_hrs FROM Bookings \n",
    "WHERE BookingSlot BETWEEN '18:00:00' AND '20:00:00';\"\"\")\n",
    "results=cursor.fetchall()\n",
    "columns=cursor.column_names\n",
    "print(columns)\n",
    "for result in results:\n",
    "    print(result)\n",
    "\n",
    "# Full name and BookingId of each guest waiting to be seated  \n",
    "# with receptionist in sorted order with respect to their BookingSlot\n",
    "cursor.execute(\"\"\"SELECT Bookings.BookingID AS ID, CONCAT(GuestFirstName,' ',GuestLastName) AS GuestName, Role AS Employee\n",
    "FROM Bookings LEFT JOIN Employees ON Employees.EmployeeID=Bookings.EmployeeID WHERE Employees.Role = \"Receptionist\"\n",
    "ORDER BY BookingSlot DESC;\"\"\")\n",
    "print(\"following guests are waiting to be seated:\")\n",
    "results=cursor.fetchall()\n",
    "columns=cursor.column_names\n",
    "print(columns)\n",
    "for result in results:\n",
    "    print(result)"
   ]
  },
  {
   "cell_type": "markdown",
   "metadata": {},
   "source": [
    "## Creating a stored procedure called BasicSalesReport that returns following statistics:\n",
    "1. Total sales\n",
    "2. Average sale\n",
    "3. Minimum bill paid\n",
    "4. Maximum bill paid"
   ]
  },
  {
   "cell_type": "code",
   "execution_count": 25,
   "metadata": {
    "ExecuteTime": {
     "end_time": "2022-12-31T16:01:28.439784Z",
     "start_time": "2022-12-31T16:01:28.423783Z"
    }
   },
   "outputs": [
    {
     "name": "stdout",
     "output_type": "stream",
     "text": [
      "Today's sales report:\n",
      "\t Total_Sale : 243\n",
      "\t Average_Sale : 48.6000\n",
      "\t Min_Bill_Paid : 37\n",
      "\t Max_Bill_Paid : 86\n"
     ]
    }
   ],
   "source": [
    "cursor.execute(\"DROP PROCEDURE IF EXISTS BasicSalesReport;\")\n",
    "stored_procedure_query = \"\"\"CREATE PROCEDURE BasicSalesReport()\n",
    "BEGIN SELECT \n",
    "SUM(BillAmount) AS Total_Sale,\n",
    "AVG(BillAmount) AS Average_Sale,\n",
    "MIN(BillAmount) AS Min_Bill_Paid,\n",
    "MAX(BillAmount) AS Max_Bill_Paid\n",
    "FROM Orders;\n",
    "END\"\"\"\n",
    "\n",
    "cursor.execute(stored_procedure_query)\n",
    "cursor.callproc(\"BasicSalesReport\")\n",
    "results = next(cursor.stored_results())\n",
    "results = results.fetchall()\n",
    "\n",
    "for column_id in cursor.stored_results():\n",
    "    cols = [column[0] for column in column_id.description]\n",
    "\n",
    "print(\"Today's sales report:\")\n",
    "for result in results:\n",
    "    print(\"\\t\", cols[0], \":\", result[0])\n",
    "    print(\"\\t\", cols[1], \":\", result[1])\n",
    "    print(\"\\t\", cols[2], \":\", result[2])\n",
    "    print(\"\\t\", cols[3], \":\", result[3])"
   ]
  },
  {
   "cell_type": "markdown",
   "metadata": {},
   "source": [
    "##  Displaying next three upcoming bookings from Bookings table\n",
    "1. to notify their chefs that orders are due on kitchen screen  \n",
    "2. Getting a connection from pool\n",
    "3. Creating a buffered cursor\n",
    "4. Combining data from Bookings and Employee tables, sort retrieved records in ascending order and display information of first three guests \n",
    "5. Returning connection back to pool"
   ]
  },
  {
   "cell_type": "code",
   "execution_count": 26,
   "metadata": {
    "ExecuteTime": {
     "end_time": "2022-12-31T16:06:31.294194Z",
     "start_time": "2022-12-31T16:06:31.275668Z"
    }
   },
   "outputs": [
    {
     "name": "stdout",
     "output_type": "stream",
     "text": [
      "\n",
      "BookingSlot 15:00:00\n",
      "\tGuest_name: Vanessa McCarthy\n",
      "\tAssigned to: Giorgos Dioudis [Head Chef]\n",
      "\n",
      "BookingSlot 17:30:00\n",
      "\tGuest_name: Marcos Romero\n",
      "\tAssigned to: Fatma Kaya [Assistant Chef]\n",
      "\n",
      "BookingSlot 18:00:00\n",
      "\tGuest_name: Anees Java\n",
      "\tAssigned to: John Millar [Receptionist]\n"
     ]
    }
   ],
   "source": [
    "conn = pool.get_connection()\n",
    "cursor = conn.cursor(buffered=True)\n",
    "sql_query = \"\"\"SELECT Bookings.BookingSlot,  CONCAT(Bookings.GuestFirstName,\" \",Bookings.GuestLastName) AS Guest_Name,\n",
    "Employees.Name AS Emp_Name, Employees.Role AS Emp_Role FROM Bookings INNER JOIN \n",
    "Employees ON Bookings.EmployeeID=Employees.EmployeeID ORDER BY Bookings.BookingSlot ASC;\"\"\"\n",
    "cursor.execute(sql_query)\n",
    "results = cursor.fetchmany(size=3)\n",
    "for result in results:\n",
    "    print(\"\\nBookingSlot\", result[0])\n",
    "    print(\"\\tGuest_name:\", result[1])\n",
    "    print(\"\\tAssigned to:\", result[2], \"[{}]\".format(result[3]))\n",
    "conn.close()"
   ]
  }
 ],
 "metadata": {
  "interpreter": {
   "hash": "31f2aee4e71d21fbe5cf8b01ff0e069b9275f58929596ceb00d14d90e3e16cd6"
  },
  "kernelspec": {
   "display_name": "Python 3 (ipykernel)",
   "language": "python",
   "name": "python3"
  },
  "language_info": {
   "codemirror_mode": {
    "name": "ipython",
    "version": 3
   },
   "file_extension": ".py",
   "mimetype": "text/x-python",
   "name": "python",
   "nbconvert_exporter": "python",
   "pygments_lexer": "ipython3",
   "version": "3.10.6"
  },
  "toc": {
   "base_numbering": 1,
   "nav_menu": {},
   "number_sections": true,
   "sideBar": true,
   "skip_h1_title": false,
   "title_cell": "Table of Contents",
   "title_sidebar": "Contents",
   "toc_cell": true,
   "toc_position": {
    "height": "calc(100% - 180px)",
    "left": "10px",
    "top": "150px",
    "width": "279.409px"
   },
   "toc_section_display": true,
   "toc_window_display": false
  }
 },
 "nbformat": 4,
 "nbformat_minor": 2
}
