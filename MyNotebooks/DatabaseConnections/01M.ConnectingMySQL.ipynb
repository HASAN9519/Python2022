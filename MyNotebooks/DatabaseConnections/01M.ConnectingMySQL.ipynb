{
 "cells": [
  {
   "cell_type": "markdown",
   "metadata": {},
   "source": [
    "# Import MySQL Connector/Python"
   ]
  },
  {
   "cell_type": "code",
   "execution_count": 1,
   "metadata": {
    "tags": []
   },
   "outputs": [
    {
     "name": "stdout",
     "output_type": "stream",
     "text": [
      "A connection between MySQL and Python is successfully established\n"
     ]
    }
   ],
   "source": [
    "import mysql.connector as connector\n",
    "\n",
    "try:\n",
    "    #conn = connector.connect(host=\"localhost\", user=\"root\", password='2022', auth_plugin='mysql_native_password')\n",
    "    #conn = mysql.connector.connect(user='root', password='2022', host='127.0.0.1', database='luckyshrub_db', auth_plugin='mysql_native_password')\n",
    "    conn = connector.connect(user=\"root\", password='2022', auth_plugin='mysql_native_password')\n",
    "    print(\"A connection between MySQL and Python is successfully established\")\n",
    "except connector.Error as er:\n",
    "    print(\"There is a problem connecting to the database\")\n",
    "    print(\"Error code:\", er.errno)\n",
    "    print(\"Error message:\", er.msg)  "
   ]
  },
  {
   "cell_type": "code",
   "execution_count": 2,
   "metadata": {},
   "outputs": [
    {
     "name": "stdout",
     "output_type": "stream",
     "text": [
      "('cursorsubclass',)\n",
      "('employeedb',)\n",
      "('information_schema',)\n",
      "('little_lemon',)\n",
      "('luckyshrub_db',)\n",
      "('mysql',)\n",
      "('performance_schema',)\n",
      "('students',)\n",
      "('sys',)\n"
     ]
    }
   ],
   "source": [
    "cursor = conn.cursor()\n",
    "cursor.execute(\"SHOW DATABASES;\")\n",
    "myresult = cursor.fetchall()\n",
    "for x in myresult:\n",
    "    print(x)"
   ]
  },
  {
   "cell_type": "markdown",
   "metadata": {},
   "source": [
    "## Creating Database"
   ]
  },
  {
   "cell_type": "code",
   "execution_count": 3,
   "metadata": {},
   "outputs": [
    {
     "name": "stdout",
     "output_type": "stream",
     "text": [
      "('employeedb',)\n",
      "('information_schema',)\n",
      "('little_lemon',)\n",
      "('luckyshrub_db',)\n",
      "('mysql',)\n",
      "('performance_schema',)\n",
      "('students',)\n",
      "('sys',)\n"
     ]
    }
   ],
   "source": [
    "# If exist drop database first \n",
    "cursor.execute(\"DROP DATABASE IF EXISTS little_lemon\")\n",
    "\n",
    "# Create database little_lemon and checking all databases\n",
    "cursor.execute(\"CREATE DATABASE little_lemon\")\n",
    "cursor.execute(\"SHOW DATABASES;\")\n",
    "for database in cursor:\n",
    "    print(database)"
   ]
  },
  {
   "cell_type": "code",
   "execution_count": 4,
   "metadata": {},
   "outputs": [
    {
     "data": {
      "text/plain": [
       "'little_lemon'"
      ]
     },
     "execution_count": 4,
     "metadata": {},
     "output_type": "execute_result"
    }
   ],
   "source": [
    "# Set little_lemon database for use \n",
    "cursor.execute(\"USE little_lemon;\")\n",
    "# Confirm database in use\n",
    "conn.database"
   ]
  },
  {
   "cell_type": "markdown",
   "metadata": {},
   "source": [
    "## Creating tables "
   ]
  },
  {
   "cell_type": "code",
   "execution_count": 5,
   "metadata": {},
   "outputs": [
    {
     "name": "stdout",
     "output_type": "stream",
     "text": [
      "('menuitems',)\n",
      "('menus',)\n",
      "('orders',)\n"
     ]
    }
   ],
   "source": [
    "# The SQL query for MenuItems table is: \n",
    "query = \"\"\"CREATE TABLE MenuItems (ItemID INT AUTO_INCREMENT, Name VARCHAR(200), Type VARCHAR(100), Price INT, PRIMARY KEY (ItemID));\"\"\"\n",
    "# Create MenuItems table\n",
    "cursor.execute(query)\n",
    "\n",
    "query1 = \"\"\"CREATE TABLE Menus (MenuID INT, ItemID INT, Cuisine VARCHAR(100), PRIMARY KEY (MenuID,ItemID));\"\"\"\n",
    "query2 = \"\"\"CREATE TABLE Orders (OrderID INT, TableNo INT, MenuID INT, BookingID INT, BillAmount INT, Quantity INT, PRIMARY KEY (OrderID,TableNo));\"\"\"\n",
    "# executing multiple queries\n",
    "ql = [query1, query2]\n",
    "for i in ql:\n",
    "    cursor.execute(i)\n",
    "\n",
    "# Confirm if tables is created\n",
    "cursor.execute(\"SHOW TABLES;\")\n",
    "for table in cursor:\n",
    "    print(table)"
   ]
  },
  {
   "cell_type": "markdown",
   "metadata": {},
   "source": [
    "## select statement"
   ]
  },
  {
   "cell_type": "code",
   "execution_count": 6,
   "metadata": {},
   "outputs": [
    {
     "name": "stdout",
     "output_type": "stream",
     "text": [
      "(1, 'Seamus Hogan', 'Recruitment', '351478025', 'Seamus.h@luckyshrub.com', 50000)\n",
      "(2, 'Thomas Eriksson', 'Legal', '351475058', 'Thomas.e@luckyshrub.com', 75000)\n",
      "(3, 'Simon Tolo', 'Marketing', '351930582', 'Simon.t@luckyshrub.com', 40000)\n",
      "(4, 'Francesca Soffia', 'Finance', '351258569', 'Francesca.s@luckyshrub.com', 45000)\n",
      "(5, 'Emily Sierra', 'Customer Service', '351083098', 'Emily.s@luckyshrub.com', 35000)\n",
      "(6, 'Maria Carter', 'Human Resources', '351022508', 'Maria.c@luckyshrub.com', 55000)\n",
      "(7, 'Rick Griffin', 'Marketing', '351478458', 'Rick.G@luckyshrub.com', 50000)\n"
     ]
    }
   ],
   "source": [
    "cursor.execute(\"USE luckyshrub_db;\")\n",
    "cursor.execute(\"SELECT * FROM employees;\")\n",
    "myresult = cursor.fetchall()\n",
    "for x in myresult:\n",
    "    print(x)"
   ]
  },
  {
   "cell_type": "markdown",
   "metadata": {},
   "source": [
    "## Cursor subclasses"
   ]
  },
  {
   "cell_type": "code",
   "execution_count": 5,
   "metadata": {},
   "outputs": [
    {
     "name": "stdout",
     "output_type": "stream",
     "text": [
      "2  record inserted\n"
     ]
    }
   ],
   "source": [
    "# here rowcount is a Cursor subclass\n",
    "cursor.execute(\"CREATE DATABASE IF NOT EXISTS cursorsubclass;\")\n",
    "cursor.execute(\"USE cursorsubclass;\")\n",
    "cursor.execute(\"CREATE TABLE customers(name VARCHAR(10), address VARCHAR(10));\")\n",
    "query = \"INSERT INTO customers (name, address) VALUES (%s, %s)\"\n",
    "val = [(\"John\", \"Highway 21\"), (\"Mike\", \"Highway 25\")]\n",
    "cursor.executemany(query, val)\n",
    "conn.commit()\n",
    "print(cursor.rowcount, \" record inserted\")"
   ]
  },
  {
   "cell_type": "code",
   "execution_count": 6,
   "metadata": {},
   "outputs": [
    {
     "name": "stdout",
     "output_type": "stream",
     "text": [
      "('name', 'address')  are names of columns\n"
     ]
    }
   ],
   "source": [
    "# recommanded to use buffered=True for select statement when SQL requests is taking part of a SQL query result and use it to make a\n",
    "# subsequent request from a database, otherwise will give \"Unread result found\" error, then have to run first cell again to work with database\n",
    "# buffered=True means that cursor can now execute subsequent queries without fetching all records from cursor\n",
    "# here column_names is a Cursor subclass\n",
    "cursor = conn.cursor(buffered = True)\n",
    "cursor.execute(\"USE cursorsubclass;\")\n",
    "cursor.execute(\"SELECT * FROM customers;\")\n",
    "print(cursor.column_names, \" are names of columns\")"
   ]
  },
  {
   "cell_type": "code",
   "execution_count": 7,
   "metadata": {},
   "outputs": [
    {
     "data": {
      "text/plain": [
       "[('name', 253, None, None, None, None, 1, 0, 255),\n",
       " ('address', 253, None, None, None, None, 1, 0, 255)]"
      ]
     },
     "execution_count": 7,
     "metadata": {},
     "output_type": "execute_result"
    }
   ],
   "source": [
    "cursor.description"
   ]
  },
  {
   "cell_type": "code",
   "execution_count": 8,
   "metadata": {},
   "outputs": [
    {
     "name": "stdout",
     "output_type": "stream",
     "text": [
      "\n",
      "Columns in customer table:\n",
      "name\n",
      "address\n"
     ]
    }
   ],
   "source": [
    "# Display columns\n",
    "print('\\nColumns in customer table:')\n",
    "cursor.execute('''SELECT * FROM customers;''')\n",
    "for i in cursor.description:\n",
    "    print(i[0])"
   ]
  },
  {
   "cell_type": "code",
   "execution_count": 9,
   "metadata": {},
   "outputs": [
    {
     "name": "stdout",
     "output_type": "stream",
     "text": [
      "\n",
      "Data in customer table:\n",
      "('John', 'Highway 21')\n",
      "('Mike', 'Highway 25')\n"
     ]
    }
   ],
   "source": [
    "# Display data\n",
    "print('\\nData in customer table:')\n",
    "cursor.execute('''SELECT * FROM customers;''')\n",
    "for row in cursor:\n",
    "    print(row)"
   ]
  },
  {
   "cell_type": "code",
   "execution_count": 10,
   "metadata": {},
   "outputs": [
    {
     "data": {
      "text/plain": [
       "('John', 'Highway 21')"
      ]
     },
     "execution_count": 10,
     "metadata": {},
     "output_type": "execute_result"
    }
   ],
   "source": [
    "# retrieve first record from database using fetchone module after executing SQL query\n",
    "cursor.execute(\"USE cursorsubclass;\")\n",
    "cursor.execute(\"SELECT * FROM customers;\")\n",
    "res = cursor.fetchone()\n",
    "res"
   ]
  },
  {
   "cell_type": "code",
   "execution_count": 12,
   "metadata": {},
   "outputs": [
    {
     "name": "stdout",
     "output_type": "stream",
     "text": [
      "{'Tables_in_little_lemon': 'menuitems'}\n",
      "{'Tables_in_little_lemon': 'menus'}\n",
      "{'Tables_in_little_lemon': 'orders'}\n"
     ]
    }
   ],
   "source": [
    "# Create a cursor object with dictionary=True, it is a cursor subclass\n",
    "dic_cursor = conn.cursor(dictionary=True)\n",
    "dic_cursor.execute(\"use little_lemon\")\n",
    "\n",
    "# Execute SQL query to get name of tables\n",
    "dic_cursor.execute(\"show tables;\")\n",
    "\n",
    "# Retrieve query results in a variable ‘results’\n",
    "results = dic_cursor.fetchall()\n",
    "\n",
    "# Use for loop to print names of all tables \n",
    "for table in results:\n",
    "    print(table)"
   ]
  },
  {
   "cell_type": "code",
   "execution_count": 13,
   "metadata": {},
   "outputs": [
    {
     "name": "stdout",
     "output_type": "stream",
     "text": [
      "(bytearray(b'menuitems'),)\n",
      "(bytearray(b'menus'),)\n",
      "(bytearray(b'orders'),)\n"
     ]
    }
   ],
   "source": [
    "# Create a cursor object with raw=True, it is a cursor subclass\n",
    "cursor1 = conn.cursor(raw=True)\n",
    "cursor1.execute(\"use little_lemon\")\n",
    "\n",
    "# Execute SQL query to get name of tables\n",
    "cursor1.execute(\"show tables;\")\n",
    "\n",
    "# Retrieve query results in a variable ‘results’\n",
    "results = cursor1.fetchall()\n",
    "\n",
    "# Use for loop to print names of all tables \n",
    "for table in results:\n",
    "    print(table)"
   ]
  },
  {
   "cell_type": "markdown",
   "metadata": {},
   "source": [
    "## Droping database"
   ]
  },
  {
   "cell_type": "code",
   "execution_count": 4,
   "metadata": {},
   "outputs": [],
   "source": [
    "cursor.execute(\"DROP DATABASE cursorsubclass;\")"
   ]
  },
  {
   "cell_type": "markdown",
   "metadata": {},
   "source": [
    "# Closing cursor and connection"
   ]
  },
  {
   "cell_type": "code",
   "execution_count": 14,
   "metadata": {},
   "outputs": [
    {
     "name": "stdout",
     "output_type": "stream",
     "text": [
      "MySQL connection is closed\n"
     ]
    }
   ],
   "source": [
    "if conn.is_connected():\n",
    "    conn.close()\n",
    "    print(\"MySQL connection is closed\")\n",
    "else:\n",
    "    print(\"Connection is already closed\")"
   ]
  }
 ],
 "metadata": {
  "kernelspec": {
   "display_name": "Python 3 (ipykernel)",
   "language": "python",
   "name": "python3"
  },
  "language_info": {
   "codemirror_mode": {
    "name": "ipython",
    "version": 3
   },
   "file_extension": ".py",
   "mimetype": "text/x-python",
   "name": "python",
   "nbconvert_exporter": "python",
   "pygments_lexer": "ipython3",
   "version": "3.10.6"
  },
  "toc-autonumbering": true,
  "vscode": {
   "interpreter": {
    "hash": "369f2c481f4da34e4445cda3fffd2e751bd1c4d706f27375911949ba6bb62e1c"
   }
  }
 },
 "nbformat": 4,
 "nbformat_minor": 4
}
