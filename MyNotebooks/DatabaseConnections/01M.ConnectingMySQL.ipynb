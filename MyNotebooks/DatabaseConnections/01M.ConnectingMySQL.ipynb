{
 "cells": [
  {
   "cell_type": "markdown",
   "metadata": {
    "toc": true
   },
   "source": [
    "<h1>Table of Contents<span class=\"tocSkip\"></span></h1>\n",
    "<div class=\"toc\"><ul class=\"toc-item\"><li><span><a href=\"#Import-MySQL-Connector/Python\" data-toc-modified-id=\"Import-MySQL-Connector/Python-1\"><span class=\"toc-item-num\">1&nbsp;&nbsp;</span>Import MySQL Connector/Python</a></span><ul class=\"toc-item\"><li><span><a href=\"#Creating-Database\" data-toc-modified-id=\"Creating-Database-1.1\"><span class=\"toc-item-num\">1.1&nbsp;&nbsp;</span>Creating Database</a></span></li><li><span><a href=\"#Creating-tables\" data-toc-modified-id=\"Creating-tables-1.2\"><span class=\"toc-item-num\">1.2&nbsp;&nbsp;</span>Creating tables</a></span></li><li><span><a href=\"#inserting-data\" data-toc-modified-id=\"inserting-data-1.3\"><span class=\"toc-item-num\">1.3&nbsp;&nbsp;</span>inserting data</a></span></li><li><span><a href=\"#select-statement\" data-toc-modified-id=\"select-statement-1.4\"><span class=\"toc-item-num\">1.4&nbsp;&nbsp;</span>select statement</a></span></li><li><span><a href=\"#Update\" data-toc-modified-id=\"Update-1.5\"><span class=\"toc-item-num\">1.5&nbsp;&nbsp;</span>Update</a></span></li><li><span><a href=\"#Delete\" data-toc-modified-id=\"Delete-1.6\"><span class=\"toc-item-num\">1.6&nbsp;&nbsp;</span>Delete</a></span></li><li><span><a href=\"#Filtering-and-sorting-data\" data-toc-modified-id=\"Filtering-and-sorting-data-1.7\"><span class=\"toc-item-num\">1.7&nbsp;&nbsp;</span>Filtering and sorting data</a></span></li><li><span><a href=\"#Performing-different-JOIN-operations-in-MySQL\" data-toc-modified-id=\"Performing-different-JOIN-operations-in-MySQL-1.8\"><span class=\"toc-item-num\">1.8&nbsp;&nbsp;</span>Performing different JOIN operations in MySQL</a></span></li><li><span><a href=\"#MySQL-functions-with-Python\" data-toc-modified-id=\"MySQL-functions-with-Python-1.9\"><span class=\"toc-item-num\">1.9&nbsp;&nbsp;</span>MySQL functions with Python</a></span></li><li><span><a href=\"#Working-with-date-and-time-functions-in-Python\" data-toc-modified-id=\"Working-with-date-and-time-functions-in-Python-1.10\"><span class=\"toc-item-num\">1.10&nbsp;&nbsp;</span>Working with date and time functions in Python</a></span></li><li><span><a href=\"#Accessing-stored-procedures\" data-toc-modified-id=\"Accessing-stored-procedures-1.11\"><span class=\"toc-item-num\">1.11&nbsp;&nbsp;</span>Accessing stored procedures</a></span></li><li><span><a href=\"#Python/MySQL-connection-pooling\" data-toc-modified-id=\"Python/MySQL-connection-pooling-1.12\"><span class=\"toc-item-num\">1.12&nbsp;&nbsp;</span>Python/MySQL connection pooling</a></span></li><li><span><a href=\"#Cursor-subclasses\" data-toc-modified-id=\"Cursor-subclasses-1.13\"><span class=\"toc-item-num\">1.13&nbsp;&nbsp;</span>Cursor subclasses</a></span></li><li><span><a href=\"#Droping-database\" data-toc-modified-id=\"Droping-database-1.14\"><span class=\"toc-item-num\">1.14&nbsp;&nbsp;</span>Droping database</a></span></li></ul></li><li><span><a href=\"#Closing-cursor-and-connection\" data-toc-modified-id=\"Closing-cursor-and-connection-2\"><span class=\"toc-item-num\">2&nbsp;&nbsp;</span>Closing cursor and connection</a></span></li></ul></div>"
   ]
  },
  {
   "cell_type": "markdown",
   "metadata": {
    "tags": []
   },
   "source": [
    "# Import MySQL Connector/Python"
   ]
  },
  {
   "cell_type": "code",
   "execution_count": 1,
   "metadata": {
    "ExecuteTime": {
     "end_time": "2022-12-31T06:57:07.601343Z",
     "start_time": "2022-12-31T06:57:07.468068Z"
    },
    "tags": []
   },
   "outputs": [
    {
     "name": "stdout",
     "output_type": "stream",
     "text": [
      "A connection between MySQL and Python is successfully established\n"
     ]
    }
   ],
   "source": [
    "import mysql.connector as connector\n",
    "\n",
    "try:\n",
    "    #conn = connector.connect(host=\"localhost\", user=\"root\", password='2022', auth_plugin='mysql_native_password')\n",
    "    #conn = mysql.connector.connect(user='root', password='2022', host='127.0.0.1', database='luckyshrub_db', auth_plugin='mysql_native_password')\n",
    "    conn = connector.connect(user=\"root\", password='2022', auth_plugin='mysql_native_password')\n",
    "    print(\"A connection between MySQL and Python is successfully established\")\n",
    "except connector.Error as er:\n",
    "    print(\"There is a problem connecting to the database\")\n",
    "    print(\"Error code:\", er.errno)\n",
    "    print(\"Error message:\", er.msg)  "
   ]
  },
  {
   "cell_type": "code",
   "execution_count": 2,
   "metadata": {
    "ExecuteTime": {
     "end_time": "2022-12-31T06:57:10.110133Z",
     "start_time": "2022-12-31T06:57:10.063758Z"
    },
    "tags": []
   },
   "outputs": [
    {
     "name": "stdout",
     "output_type": "stream",
     "text": [
      "('cursorsubclass',)\n",
      "('employeedb',)\n",
      "('information_schema',)\n",
      "('little_lemon',)\n",
      "('luckyshrub_db',)\n",
      "('mysql',)\n",
      "('performance_schema',)\n",
      "('students',)\n",
      "('sys',)\n"
     ]
    }
   ],
   "source": [
    "cursor = conn.cursor()\n",
    "cursor.execute(\"SHOW DATABASES;\")\n",
    "myresult = cursor.fetchall()\n",
    "for x in myresult:\n",
    "    print(x)"
   ]
  },
  {
   "cell_type": "markdown",
   "metadata": {},
   "source": [
    "## Creating Database"
   ]
  },
  {
   "cell_type": "code",
   "execution_count": 3,
   "metadata": {},
   "outputs": [
    {
     "name": "stdout",
     "output_type": "stream",
     "text": [
      "('cursorsubclass',)\n",
      "('employeedb',)\n",
      "('information_schema',)\n",
      "('little_lemon',)\n",
      "('luckyshrub_db',)\n",
      "('mysql',)\n",
      "('performance_schema',)\n",
      "('students',)\n",
      "('sys',)\n"
     ]
    }
   ],
   "source": [
    "# If exist drop database first \n",
    "cursor.execute(\"DROP DATABASE IF EXISTS little_lemon\")\n",
    "\n",
    "# Create database little_lemon and checking all databases\n",
    "cursor.execute(\"CREATE DATABASE little_lemon\")\n",
    "cursor.execute(\"SHOW DATABASES;\")\n",
    "for database in cursor:\n",
    "    print(database)"
   ]
  },
  {
   "cell_type": "code",
   "execution_count": 4,
   "metadata": {
    "tags": []
   },
   "outputs": [
    {
     "data": {
      "text/plain": [
       "'little_lemon'"
      ]
     },
     "execution_count": 4,
     "metadata": {},
     "output_type": "execute_result"
    }
   ],
   "source": [
    "# Set little_lemon database for use \n",
    "cursor.execute(\"USE little_lemon;\")\n",
    "# Confirm database in use\n",
    "conn.database"
   ]
  },
  {
   "cell_type": "markdown",
   "metadata": {},
   "source": [
    "## Creating tables "
   ]
  },
  {
   "cell_type": "code",
   "execution_count": 5,
   "metadata": {},
   "outputs": [
    {
     "name": "stdout",
     "output_type": "stream",
     "text": [
      "('menuitems',)\n",
      "('menus',)\n",
      "('orders',)\n"
     ]
    }
   ],
   "source": [
    "# The SQL query for MenuItems table is: \n",
    "query = \"\"\"CREATE TABLE MenuItems (ItemID INT, Name VARCHAR(200), Type VARCHAR(100), Price INT, PRIMARY KEY (ItemID));\"\"\"\n",
    "# Create MenuItems table\n",
    "cursor.execute(query)\n",
    "\n",
    "query1 = \"\"\"CREATE TABLE Menus (MenuID INT, ItemID INT, Cuisine VARCHAR(100), PRIMARY KEY (MenuID,ItemID));\"\"\"\n",
    "query2 = \"\"\"CREATE TABLE Orders (OrderID INT, TableNo INT, MenuID INT, BookingID INT, BillAmount INT, Quantity INT, PRIMARY KEY (OrderID,TableNo));\"\"\"\n",
    "# executing multiple queries\n",
    "ql = [query1, query2]\n",
    "for i in ql:\n",
    "    cursor.execute(i)\n",
    "\n",
    "# Confirm if tables is created\n",
    "cursor.execute(\"SHOW TABLES;\")\n",
    "for table in cursor:\n",
    "    print(table)"
   ]
  },
  {
   "cell_type": "code",
   "execution_count": 22,
   "metadata": {},
   "outputs": [],
   "source": [
    "create_booking_table = \"\"\"CREATE TABLE Bookings(BookingID INT AUTO_INCREMENT, TableNo INT, GuestFirstName VARCHAR(100) NOT NULL,\n",
    "GuestLastName VARCHAR(100) NOT NULL, BookingSlot TIME NOT NULL, EmployeeID INT, PRIMARY KEY (BookingID));\"\"\"\n",
    "cursor.execute(create_booking_table)"
   ]
  },
  {
   "cell_type": "markdown",
   "metadata": {},
   "source": [
    "## inserting data"
   ]
  },
  {
   "cell_type": "code",
   "execution_count": 6,
   "metadata": {},
   "outputs": [
    {
     "name": "stdout",
     "output_type": "stream",
     "text": [
      "Inserting data in MenuItems table\n",
      "Total number of rows in MenuItem table:  5\n",
      "Inserting data in Menus table\n",
      "Total number of rows in Menu table:  5\n",
      "Inserting data in Orders table\n",
      "Total number of rows in Orders table:  5\n"
     ]
    }
   ],
   "source": [
    "# Set little_lemon database for use \n",
    "# commit module makes sure that appropriate table is updated with new data once SQL query is executed using Python\n",
    "cursor.execute(\"USE little_lemon;\")\n",
    "insert_menuitmes=\"\"\"\n",
    "INSERT INTO MenuItems (ItemID, Name, Type, Price)\n",
    "VALUES\n",
    "(1,'Olives','Starters',5),\n",
    "(2,'Flatbread','Starters', 5),\n",
    "(3,'Minestrone', 'Starters', 8),\n",
    "(4,'Tomato bread','Starters', 8),\n",
    "(5,'Falafel', 'Starters', 7);\"\"\"\n",
    "\n",
    "insert_menu=\"\"\"\n",
    "INSERT INTO Menus (MenuID,ItemID,Cuisine)\n",
    "VALUES\n",
    "(1, 1, 'Greek'),\n",
    "(1, 7, 'Greek'),\n",
    "(1, 10, 'Greek'),\n",
    "(1, 13, 'Greek'),\n",
    "(2, 3, 'Italian');\"\"\"\n",
    "\n",
    "insert_orders=\"\"\"\n",
    "INSERT INTO Orders (OrderID, TableNo, MenuID, BookingID, Quantity, BillAmount)\n",
    "VALUES\n",
    "(1, 12, 1, 1, 2, 86),\n",
    "(2, 19, 2, 2, 1, 37),\n",
    "(3, 15, 2, 3, 1, 37),\n",
    "(4, 5, 3, 4, 1, 40),\n",
    "(5, 8, 1, 5, 1, 43);\"\"\"\n",
    "\n",
    "print(\"Inserting data in MenuItems table\")\n",
    "cursor.execute(insert_menuitmes)\n",
    "print(\"Total number of rows in MenuItem table: \", cursor.rowcount)\n",
    "conn.commit()\n",
    "\n",
    "print(\"Inserting data in Menus table\")\n",
    "cursor.execute(insert_menu)\n",
    "print(\"Total number of rows in Menu table: \", cursor.rowcount)\n",
    "conn.commit()\n",
    "\n",
    "print(\"Inserting data in Orders table\")\n",
    "cursor.execute(insert_orders)\n",
    "print(\"Total number of rows in Orders table: \", cursor.rowcount)\n",
    "conn.commit()"
   ]
  },
  {
   "cell_type": "code",
   "execution_count": 23,
   "metadata": {},
   "outputs": [],
   "source": [
    "insert_bookings =\"\"\"INSERT INTO Bookings (BookingID, TableNo, GuestFirstName, GuestLastName, BookingSlot, EmployeeID) VALUES\n",
    "(1,12,'Anna','Iversen','19:00:00',1),\n",
    "(2, 12, 'Joakim', 'Iversen', '19:00:00', 1),\n",
    "(3, 19, 'Vanessa', 'McCarthy', '15:00:00', 3),\n",
    "(4, 15, 'Marcos', 'Romero', '17:30:00', 4),\n",
    "(5, 5, 'Hiroki', 'Yamane', '18:30:00', 2),\n",
    "(6, 8, 'Diana', 'Pinto', '20:00:00', 5);\"\"\"\n",
    "cursor.execute(insert_bookings)\n",
    "conn.commit()"
   ]
  },
  {
   "cell_type": "markdown",
   "metadata": {},
   "source": [
    "## select statement"
   ]
  },
  {
   "cell_type": "code",
   "execution_count": 7,
   "metadata": {},
   "outputs": [
    {
     "name": "stdout",
     "output_type": "stream",
     "text": [
      "Data in the \"Menu\" table:\n",
      "('MenuID', 'ItemID', 'Cuisine')\n",
      "(1, 1, 'Greek')\n",
      "(1, 7, 'Greek')\n",
      "(1, 10, 'Greek')\n"
     ]
    }
   ],
   "source": [
    "all_menus = \"\"\"SELECT * FROM Menus;\"\"\"\n",
    "cursor.execute(all_menus)\n",
    "results = cursor.fetchmany(size=3)\n",
    "cols = cursor.column_names\n",
    "# Print column names and records from results using for loop\n",
    "print(\"\"\"Data in the \"Menu\" table:\"\"\")\n",
    "print(cols)\n",
    "for result in results:\n",
    "    print(result)"
   ]
  },
  {
   "cell_type": "code",
   "execution_count": 8,
   "metadata": {},
   "outputs": [
    {
     "name": "stdout",
     "output_type": "stream",
     "text": [
      "(1, 13, 'Greek')\n",
      "(2, 3, 'Italian')\n"
     ]
    }
   ],
   "source": [
    "# After grabbing first three records, cursor will be at fourth record and can call `fetchall()` to grab them\n",
    "# Remaining records after fetching the first three\n",
    "results= cursor.fetchall()\n",
    "for result in results:\n",
    "    print(result)"
   ]
  },
  {
   "cell_type": "code",
   "execution_count": 25,
   "metadata": {},
   "outputs": [
    {
     "name": "stdout",
     "output_type": "stream",
     "text": [
      "The cursor is closed\n"
     ]
    }
   ],
   "source": [
    "# closing cursor \n",
    "if conn.is_connected():\n",
    "    cursor.close()\n",
    "    print(\"The cursor is closed\")\n",
    "else:\n",
    "    print(\"cursor is already closed\")"
   ]
  },
  {
   "cell_type": "code",
   "execution_count": null,
   "metadata": {
    "execution": {
     "iopub.execute_input": "2022-12-29T09:12:45.663651Z",
     "iopub.status.busy": "2022-12-29T09:12:45.663651Z",
     "iopub.status.idle": "2022-12-29T09:12:45.686649Z",
     "shell.execute_reply": "2022-12-29T09:12:45.685648Z",
     "shell.execute_reply.started": "2022-12-29T09:12:45.663651Z"
    }
   },
   "outputs": [],
   "source": [
    "cursor.execute(\"USE luckyshrub_db;\")\n",
    "cursor.execute(\"SELECT * FROM employees;\")\n",
    "myresult = cursor.fetchall()\n",
    "for x in myresult:\n",
    "    print(x)"
   ]
  },
  {
   "cell_type": "markdown",
   "metadata": {},
   "source": [
    "## Update"
   ]
  },
  {
   "cell_type": "code",
   "execution_count": 9,
   "metadata": {},
   "outputs": [
    {
     "name": "stdout",
     "output_type": "stream",
     "text": [
      "Executing update query\n",
      "Record is updated in table\n"
     ]
    }
   ],
   "source": [
    "update_MenuItems = \"\"\"UPDATE MenuItems SET Price=10 WHERE ItemID = 5;\"\"\"\n",
    "# Execute query to update table\n",
    "print(\"Executing update query\")\n",
    "cursor.execute(update_MenuItems)\n",
    "conn.commit()\n",
    "print(\"Record is updated in table\")"
   ]
  },
  {
   "cell_type": "code",
   "execution_count": 10,
   "metadata": {},
   "outputs": [
    {
     "name": "stdout",
     "output_type": "stream",
     "text": [
      "Data in MenuItems table\n",
      "('ItemID', 'Name', 'Type', 'Price')\n",
      "(1, 'Olives', 'Starters', 5)\n",
      "(2, 'Flatbread', 'Starters', 5)\n",
      "(3, 'Minestrone', 'Starters', 8)\n",
      "(4, 'Tomato bread', 'Starters', 8)\n",
      "(5, 'Falafel', 'Starters', 10)\n"
     ]
    }
   ],
   "source": [
    "all_MenuItems = \"\"\"SELECT * FROM MenuItems;\"\"\"\n",
    "cursor.execute(all_MenuItems)\n",
    "results = cursor.fetchall()\n",
    "cols = cursor.column_names\n",
    "print(\"Data in MenuItems table\")\n",
    "print(cols)\n",
    "for result in results:  \n",
    "    print(result)"
   ]
  },
  {
   "cell_type": "code",
   "execution_count": 19,
   "metadata": {},
   "outputs": [
    {
     "name": "stdout",
     "output_type": "stream",
     "text": [
      "Executed update query\n",
      "Data in Menus table\n",
      "('MenuID', 'ItemID', 'Cuisine')\n",
      "(1, 1, 'Greek')\n",
      "(1, 5, 'Greek')\n",
      "(1, 10, 'Greek')\n",
      "(1, 13, 'Greek')\n"
     ]
    }
   ],
   "source": [
    "update_Menus = \"\"\"UPDATE Menus SET ItemID=5 WHERE ItemID = 7;\"\"\"\n",
    "# Execute query to update table\n",
    "cursor.execute(update_Menus)\n",
    "conn.commit()\n",
    "print(\"Executed update query\")\n",
    "all_MenuItems = \"\"\"SELECT * FROM Menus;\"\"\"\n",
    "cursor.execute(all_MenuItems)\n",
    "results = cursor.fetchall()\n",
    "cols = cursor.column_names\n",
    "print(\"Data in Menus table\")\n",
    "print(cols)\n",
    "for result in results:  \n",
    "    print(result)"
   ]
  },
  {
   "cell_type": "markdown",
   "metadata": {},
   "source": [
    "## Delete"
   ]
  },
  {
   "cell_type": "code",
   "execution_count": 12,
   "metadata": {},
   "outputs": [
    {
     "name": "stdout",
     "output_type": "stream",
     "text": [
      "Executing 'DELETE' query\n",
      "table is updated after deletion of requested records\n"
     ]
    }
   ],
   "source": [
    "delete_query =\"\"\"DELETE FROM Menus WHERE Cuisine = 'Italian';\"\"\"\n",
    "print(\"Executing 'DELETE' query\")\n",
    "cursor.execute(delete_query)\n",
    "conn.commit()\n",
    "print(\"table is updated after deletion of requested records\")"
   ]
  },
  {
   "cell_type": "code",
   "execution_count": 13,
   "metadata": {},
   "outputs": [
    {
     "name": "stdout",
     "output_type": "stream",
     "text": [
      "Data in \"Menu\" table:\n",
      "('MenuID', 'ItemID', 'Cuisine')\n",
      "(1, 1, 'Greek')\n",
      "(1, 7, 'Greek')\n",
      "(1, 10, 'Greek')\n",
      "(1, 13, 'Greek')\n"
     ]
    }
   ],
   "source": [
    "all_menus = \"\"\"SELECT * FROM Menus;\"\"\"\n",
    "cursor.execute(all_menus)\n",
    "results = cursor.fetchall()\n",
    "cols = cursor.column_names\n",
    "print(\"\"\"Data in \"Menu\" table:\"\"\")\n",
    "print(cols)\n",
    "for result in results:\n",
    "    print(result)"
   ]
  },
  {
   "cell_type": "markdown",
   "metadata": {},
   "source": [
    "## Filtering and sorting data"
   ]
  },
  {
   "cell_type": "code",
   "execution_count": 14,
   "metadata": {},
   "outputs": [
    {
     "name": "stdout",
     "output_type": "stream",
     "text": [
      "('ItemID', 'Name', 'Type', 'Price')\n",
      "(3, 'Minestrone', 'Starters', 8)\n",
      "(4, 'Tomato bread', 'Starters', 8)\n"
     ]
    }
   ],
   "source": [
    "filtering_and_sorting = \"\"\"SELECT * FROM MenuItems WHERE price = 8;\"\"\"\n",
    "cursor.execute(filtering_and_sorting)\n",
    "results = cursor.fetchall()\n",
    "columns = cursor.column_names\n",
    "print(columns)\n",
    "for result in results:\n",
    "    print(result)"
   ]
  },
  {
   "cell_type": "code",
   "execution_count": 15,
   "metadata": {},
   "outputs": [
    {
     "name": "stdout",
     "output_type": "stream",
     "text": [
      "('BookingID', 'BillAmount')\n",
      "(1, 86)\n",
      "(5, 43)\n"
     ]
    }
   ],
   "source": [
    "filtering_and_sorting = \"\"\"SELECT BookingID, BillAmount FROM Orders ORDER BY BillAmount DESC;\"\"\"\n",
    "cursor.execute(filtering_and_sorting)\n",
    "results = cursor.fetchmany(size=2)\n",
    "columns = cursor.column_names\n",
    "print(columns)\n",
    "for result in results:\n",
    "    print(result)"
   ]
  },
  {
   "cell_type": "markdown",
   "metadata": {},
   "source": [
    "## Performing different JOIN operations in MySQL"
   ]
  },
  {
   "cell_type": "code",
   "execution_count": 20,
   "metadata": {},
   "outputs": [
    {
     "name": "stdout",
     "output_type": "stream",
     "text": [
      "('Item_Name', 'Item_Type', 'Cuisine', 'Price')\n",
      "('Olives', 'Starters', 'Greek', 5)\n",
      "('Falafel', 'Starters', 'Greek', 10)\n"
     ]
    }
   ],
   "source": [
    "join_query=\"\"\"SELECT MenuItems.Name AS Item_Name, MenuItems.Type AS Item_Type, Menus.Cuisine AS Cuisine, MenuItems.Price AS Price \n",
    "FROM MenuItems INNER JOIN Menus ON MenuItems.ItemID=Menus.ItemID;\"\"\"\n",
    "cursor = conn.cursor()\n",
    "cursor.execute(\"USE little_lemon;\")\n",
    "cursor.execute(join_query)\n",
    "results = cursor.fetchall()\n",
    "columns = cursor.column_names\n",
    "print(columns)\n",
    "for result in results:\n",
    "    print(result)   "
   ]
  },
  {
   "cell_type": "markdown",
   "metadata": {},
   "source": [
    "## MySQL functions with Python"
   ]
  },
  {
   "cell_type": "code",
   "execution_count": 24,
   "metadata": {},
   "outputs": [
    {
     "name": "stdout",
     "output_type": "stream",
     "text": [
      "('ID', 'GuestFullName')\n",
      "\n",
      "(1, 'ANNA IVERSEN')\n",
      "(2, 'JOAKIM IVERSEN')\n",
      "(3, 'VANESSA MCCARTHY')\n",
      "(4, 'MARCOS ROMERO')\n",
      "(5, 'HIROKI YAMANE')\n",
      "(6, 'DIANA PINTO')\n"
     ]
    }
   ],
   "source": [
    "sql_query =\"\"\"SELECT BookingID AS ID, UPPER(CONCAT(GuestFirstName,' ',GuestLastName)) AS GuestFullName FROM bookings;\"\"\"\n",
    "cursor.execute(sql_query)\n",
    "results = cursor.fetchall()\n",
    "columns = cursor.column_names\n",
    "print(columns)\n",
    "print()\n",
    "for result in results:\n",
    "    print(result)  "
   ]
  },
  {
   "cell_type": "code",
   "execution_count": 30,
   "metadata": {},
   "outputs": [
    {
     "name": "stdout",
     "output_type": "stream",
     "text": [
      "Today's statistics:\n",
      "Number of bookings: 5\n",
      "Total sale: 243\n",
      "Average sale: 48.6000\n"
     ]
    }
   ],
   "source": [
    "sql_query =\"\"\"SELECT COUNT(BookingID) AS n_bookings, SUM(BillAmount) AS Total_sale, AVG(BillAmount) AS Avg_sale FROM Orders;\"\"\"\n",
    "cursor.execute(sql_query)\n",
    "results = cursor.fetchall()\n",
    "print(\"Today's statistics:\")\n",
    "for result in results:\n",
    "    print(\"Number of bookings:\",result[0])\n",
    "    print(\"Total sale:\",result[1])\n",
    "    print(\"Average sale:\",result[2])"
   ]
  },
  {
   "cell_type": "code",
   "execution_count": 31,
   "metadata": {},
   "outputs": [
    {
     "name": "stdout",
     "output_type": "stream",
     "text": [
      "('Table number', 'n_booking')\n",
      "(12, 2)\n",
      "(19, 1)\n",
      "(15, 1)\n",
      "(5, 1)\n",
      "(8, 1)\n"
     ]
    }
   ],
   "source": [
    "sql_query =\"\"\"SELECT TableNo AS 'Table number', COUNT(TableNo) AS n_booking FROM Bookings GROUP BY TableNo ORDER BY n_booking DESC;\"\"\"\n",
    "cursor.execute(sql_query)\n",
    "results = cursor.fetchall()\n",
    "columns = cursor.column_names\n",
    "print(columns)\n",
    "for result in results:\n",
    "    print(result)"
   ]
  },
  {
   "cell_type": "code",
   "execution_count": 32,
   "metadata": {},
   "outputs": [
    {
     "name": "stdout",
     "output_type": "stream",
     "text": [
      "('BookingID', 'Guest_Name', 'Arrival_slot')\n",
      "(1, 'Anna Iversen', 'Night')\n",
      "(2, 'Joakim Iversen', 'Night')\n",
      "(3, 'Vanessa McCarthy', 'Late afternoon')\n",
      "(4, 'Marcos Romero', 'Evening')\n",
      "(5, 'Hiroki Yamane', 'Evening')\n",
      "(6, 'Diana Pinto', 'Night')\n"
     ]
    }
   ],
   "source": [
    "sql_query =\"\"\"SELECT BookingID, CONCAT(GuestFirstName,' ',GuestLastName) AS Guest_Name,\n",
    "CASE\n",
    "WHEN HOUR(BookingSlot) IN (15,16) THEN \"Late afternoon\" \n",
    "WHEN HOUR(BookingSlot) IN (17,18) THEN \"Evening\" \n",
    "WHEN HOUR(BookingSlot) IN (19,20) THEN \"Night\"\n",
    "ELSE \"Time not available\" \n",
    "END AS Arrival_slot FROM Bookings;\"\"\"\n",
    "\n",
    "cursor.execute(sql_query)\n",
    "results = cursor.fetchall()\n",
    "columns = cursor.column_names\n",
    "print(columns)\n",
    "for result in results:\n",
    "    print(result)"
   ]
  },
  {
   "cell_type": "markdown",
   "metadata": {},
   "source": [
    "## Working with date and time functions in Python"
   ]
  },
  {
   "cell_type": "code",
   "execution_count": 36,
   "metadata": {},
   "outputs": [
    {
     "name": "stdout",
     "output_type": "stream",
     "text": [
      "[(1, 15), (1, 17), (1, 18), (2, 19), (1, 20)]\n",
      "Upcoming Bookings:\n",
      "\n",
      "Hour:  15 <<>> 1 Booking/s\n",
      "Hour:  17 <<>> 1 Booking/s\n",
      "Hour:  18 <<>> 1 Booking/s\n",
      "Hour:  19 <<>> 2 Booking/s\n",
      "Hour:  20 <<>> 1 Booking/s\n"
     ]
    }
   ],
   "source": [
    "sql_query = \"\"\"SELECT COUNT(BookingID) AS n_bookings, HOUR(BookingSlot) AS Hour FROM Bookings GROUP BY Hour ORDER BY Hour ASC;\"\"\"\n",
    "cursor.execute(sql_query)\n",
    "results = cursor.fetchall()\n",
    "print(results)\n",
    "print(\"\"\"Upcoming Bookings:\\n\"\"\")\n",
    "for result in results:\n",
    "    print(\"Hour: \",result[1],\"<<>>\", result[0], \"Booking/s\")"
   ]
  },
  {
   "cell_type": "code",
   "execution_count": 38,
   "metadata": {},
   "outputs": [
    {
     "name": "stdout",
     "output_type": "stream",
     "text": [
      "[(19, 'Vanessa', 'McCarthy', datetime.timedelta(seconds=54000)), (15, 'Marcos', 'Romero', datetime.timedelta(seconds=63000)), (5, 'Hiroki', 'Yamane', datetime.timedelta(seconds=66600)), (12, 'Anna', 'Iversen', datetime.timedelta(seconds=68400)), (12, 'Joakim', 'Iversen', datetime.timedelta(seconds=68400)), (8, 'Diana', 'Pinto', datetime.timedelta(seconds=72000))]\n",
      "The guests and their booking slots are:\n",
      "\n",
      "[Table no:] 19 >> Vanessa McCarthy is expected to arrive at: 15 hrs and 0 mins\n",
      "[Table no:] 15 >> Marcos Romero is expected to arrive at: 17 hrs and 30 mins\n",
      "[Table no:] 5 >> Hiroki Yamane is expected to arrive at: 18 hrs and 30 mins\n",
      "[Table no:] 12 >> Anna Iversen is expected to arrive at: 19 hrs and 0 mins\n",
      "[Table no:] 12 >> Joakim Iversen is expected to arrive at: 19 hrs and 0 mins\n",
      "[Table no:] 8 >> Diana Pinto is expected to arrive at: 20 hrs and 0 mins\n"
     ]
    }
   ],
   "source": [
    "import datetime as dt \n",
    "sql_query = \"\"\"SELECT TableNo, GuestFirstName, GuestLastName, BookingSlot FROM Bookings ORDER BY BookingSlot;\"\"\"\n",
    "cursor.execute(sql_query)\n",
    "results = cursor.fetchall()\n",
    "print(results)\n",
    "print(\"The guests and their booking slots are:\\n\")\n",
    "for result in results: \n",
    "    time = str(result[3])\n",
    "    hour = dt.datetime.strptime(time,'%H:%M:%S').hour\n",
    "    minute = dt.datetime.strptime(time,'%H:%M:%S').minute\n",
    "    print(\"[Table no:]\",result[0],\">>\",result[1],result[2], \"is expected to arrive at:\",hour,\"hrs and\", minute, \"mins\")"
   ]
  },
  {
   "cell_type": "code",
   "execution_count": 39,
   "metadata": {},
   "outputs": [
    {
     "name": "stdout",
     "output_type": "stream",
     "text": [
      "Booking time change ALERT!!\n",
      "Booking ID: 2\n",
      "Table number: 12\n",
      "Booked slot: 19:00:00\n",
      "New arrival time: 20:00:00\n"
     ]
    }
   ],
   "source": [
    "sql_query = \"\"\"SELECT BookingID, TableNo, BookingSlot, ADDTIME(BookingSlot,\"1:00:00\") as NewTime FROM Bookings\n",
    "WHERE TableNo = 12 AND BookingID = 2;\"\"\"\n",
    "\n",
    "cursor.execute(sql_query)\n",
    "results = cursor.fetchall()\n",
    "print(\"Booking time change ALERT!!\")\n",
    "for result in results:  \n",
    "    print(\"Booking ID:\",result[0])\n",
    "    print(\"Table number:\",result[1])\n",
    "    print(\"Booked slot:\",result[2])\n",
    "    print(\"New arrival time:\",result[3])"
   ]
  },
  {
   "cell_type": "markdown",
   "metadata": {},
   "source": [
    "## Accessing stored procedures"
   ]
  },
  {
   "cell_type": "code",
   "execution_count": 3,
   "metadata": {
    "ExecuteTime": {
     "end_time": "2022-12-31T07:08:28.389571Z",
     "start_time": "2022-12-31T07:08:28.350628Z"
    }
   },
   "outputs": [
    {
     "name": "stdout",
     "output_type": "stream",
     "text": [
      "['BookingID', 'CustomerName', 'BillAmount']\n",
      "(1, 'Anna Iversen', 86)\n"
     ]
    }
   ],
   "source": [
    "cursor.execute(\"USE little_lemon;\")\n",
    "stored_procedure_query =\"\"\"CREATE PROCEDURE TopSpender()\n",
    "BEGIN SELECT bookings.BookingID, CONCAT(bookings.GuestFirstname,' ',bookings.GuestLastname) AS CustomerName,\n",
    "Orders.BillAmount FROM Bookings INNER JOIN Orders ON bookings.BookingID=Orders.BookingID ORDER BY BillAmount DESC LIMIT 1;\n",
    "END\"\"\"\n",
    "\n",
    "cursor.execute(stored_procedure_query)\n",
    "# Calling stored procedure with its name\n",
    "cursor.callproc(\"TopSpender\")\n",
    "# Retrieve recrods in \"dataset\"\n",
    "results = next(cursor.stored_results())\n",
    "dataset = results.fetchall()\n",
    "\n",
    "# Retrieve column names using list comprehension in a 'for' loop \n",
    "for column_id in cursor.stored_results():\n",
    "    columns = [ column[0] for column in column_id.description ]\n",
    "print(columns)\n",
    "\n",
    "for data in dataset:\n",
    "    print(data)"
   ]
  },
  {
   "cell_type": "code",
   "execution_count": 4,
   "metadata": {
    "ExecuteTime": {
     "end_time": "2022-12-31T07:10:57.302796Z",
     "start_time": "2022-12-31T07:10:57.290814Z"
    }
   },
   "outputs": [],
   "source": [
    "cursor.execute(\"DROP PROCEDURE IF EXISTS TopSpender;\")"
   ]
  },
  {
   "cell_type": "code",
   "execution_count": 15,
   "metadata": {
    "ExecuteTime": {
     "end_time": "2022-12-31T07:18:19.407174Z",
     "start_time": "2022-12-31T07:18:19.387677Z"
    }
   },
   "outputs": [
    {
     "name": "stdout",
     "output_type": "stream",
     "text": [
      "['bookingID', 'Status']\n",
      "(1, 'Order Served')\n",
      "(2, 'Order Served')\n",
      "(3, 'Order Served')\n",
      "(4, 'Preparing Order')\n",
      "(5, 'Order Served')\n",
      "(6, 'Preparing Order')\n"
     ]
    }
   ],
   "source": [
    "stored_procedure_query =\"\"\"CREATE PROCEDURE OrderStatus()\n",
    "BEGIN SELECT bookingID, CASE\n",
    "WHEN employeeID IN (1,2,3) THEN \"Order Served\" \n",
    "WHEN employeeID IN (4,5) THEN \"Preparing Order\" \n",
    "ELSE \"In Queue\" \n",
    "END AS Status\n",
    "FROM Bookings;\n",
    "END\"\"\"\n",
    "\n",
    "cursor.execute(stored_procedure_query)\n",
    "cursor.callproc(\"OrderStatus\")\n",
    "results = next(cursor.stored_results())\n",
    "dataset = results.fetchall()\n",
    "for column_id in cursor.stored_results():\n",
    "    columns = [ column[0] for column in column_id.description ]\n",
    "print(columns)\n",
    "\n",
    "for data in dataset:\n",
    "    print(data)"
   ]
  },
  {
   "cell_type": "code",
   "execution_count": 16,
   "metadata": {
    "ExecuteTime": {
     "end_time": "2022-12-31T07:18:22.544510Z",
     "start_time": "2022-12-31T07:18:22.536510Z"
    }
   },
   "outputs": [],
   "source": [
    "cursor.execute(\"DROP PROCEDURE IF EXISTS OrderStatus;\")"
   ]
  },
  {
   "cell_type": "markdown",
   "metadata": {},
   "source": [
    "## Python/MySQL connection pooling"
   ]
  },
  {
   "cell_type": "code",
   "execution_count": 17,
   "metadata": {
    "ExecuteTime": {
     "end_time": "2022-12-31T07:43:32.249311Z",
     "start_time": "2022-12-31T07:43:32.224797Z"
    }
   },
   "outputs": [
    {
     "name": "stdout",
     "output_type": "stream",
     "text": [
      "The connection pool is created with a name:  new_pool\n",
      "The pool size is:  3\n"
     ]
    }
   ],
   "source": [
    "from mysql.connector.pooling import MySQLConnectionPool\n",
    "from mysql.connector import Error\n",
    "dbconfig = {\"database\":\"little_lemon\", \"user\" : \"root\", \"password\" : \"2022\"}\n",
    "try:\n",
    "    pool = MySQLConnectionPool(pool_name = \"new_pool\", pool_size = 3, **dbconfig) # default pool_size is 5\n",
    "    print(\"The connection pool is created with a name: \", pool.pool_name)\n",
    "    print(\"The pool size is: \", pool.pool_size)\n",
    "except Error as er:\n",
    "    print(\"Error code:\", er.errno)\n",
    "    print(\"Error message:\", er.msg)"
   ]
  },
  {
   "cell_type": "code",
   "execution_count": 18,
   "metadata": {
    "ExecuteTime": {
     "end_time": "2022-12-31T07:45:39.216584Z",
     "start_time": "2022-12-31T07:45:39.185609Z"
    }
   },
   "outputs": [
    {
     "name": "stdout",
     "output_type": "stream",
     "text": [
      "Getting a connection from pool\n",
      "A user with connection id 12 is connected to the database.\n"
     ]
    }
   ],
   "source": [
    "from mysql.connector.pooling import MySQLConnectionPool\n",
    "dbconfig = {\"database\":\"little_lemon\", \"user\" : \"root\", \"password\" : \"2022\"}\n",
    "pool = MySQLConnectionPool(pool_name = \"new_pool\", pool_size = 3, **dbconfig) # default pool_size is 5\n",
    "\n",
    "print(\"Getting a connection from pool\")\n",
    "connection1 = pool.get_connection()\n",
    "# connection_id attribute provides a unique ID for each connection in connection pool\n",
    "print(\"A user with connection id {} is connected to the database.\".format(connection1.connection_id))"
   ]
  },
  {
   "cell_type": "code",
   "execution_count": 19,
   "metadata": {
    "ExecuteTime": {
     "end_time": "2022-12-31T07:47:27.959562Z",
     "start_time": "2022-12-31T07:47:27.954564Z"
    }
   },
   "outputs": [
    {
     "name": "stdout",
     "output_type": "stream",
     "text": [
      "MySQL server version is: 8.0.31\n"
     ]
    }
   ],
   "source": [
    "db_Info = connection1.get_server_info()\n",
    "print(\"MySQL server version is:\", db_Info)"
   ]
  },
  {
   "cell_type": "code",
   "execution_count": 20,
   "metadata": {
    "ExecuteTime": {
     "end_time": "2022-12-31T07:49:29.503906Z",
     "start_time": "2022-12-31T07:49:29.490899Z"
    }
   },
   "outputs": [
    {
     "name": "stdout",
     "output_type": "stream",
     "text": [
      "Created a cursor object\n",
      "Upcoming Bookings are:\n",
      "\n",
      "('BookingId', 'GuestFirstName', 'GuestLastName')\n",
      "(1, 'Anna', 'Iversen')\n",
      "(2, 'Joakim', 'Iversen')\n",
      "(3, 'Vanessa', 'McCarthy')\n",
      "(4, 'Marcos', 'Romero')\n",
      "(5, 'Hiroki', 'Yamane')\n",
      "(6, 'Diana', 'Pinto')\n",
      "connection is placed back into pool for next user to connect\n"
     ]
    }
   ],
   "source": [
    "# Create cursor object to communicate with entire MySQL database\n",
    "cursor = connection1.cursor()\n",
    "print(\"Created a cursor object\")\n",
    "\n",
    "sql_query = \"SELECT BookingId, GuestFirstName, GuestLastName FROM Bookings;\"\n",
    "cursor.execute(sql_query)\n",
    "results = cursor.fetchall()\n",
    "cols = cursor.column_names\n",
    "print(\"\"\"Upcoming Bookings are:\\n\"\"\")\n",
    "print(cols)\n",
    "for result in results:\n",
    "    print(result)\n",
    "    \n",
    "connection1.close()\n",
    "print(\"connection is placed back into pool for next user to connect\")"
   ]
  },
  {
   "cell_type": "code",
   "execution_count": 21,
   "metadata": {
    "ExecuteTime": {
     "end_time": "2022-12-31T07:54:53.575960Z",
     "start_time": "2022-12-31T07:54:53.532065Z"
    }
   },
   "outputs": [
    {
     "name": "stdout",
     "output_type": "stream",
     "text": [
      "[Anna] is connected.\n",
      "\n",
      "[Marcos] is connected.\n",
      "\n",
      "[Diana] is connected.\n",
      "\n",
      "No more connections are available\n",
      "Adding new connection in pool\n",
      "A new connection is added in pool\n",
      "\n",
      "[Joakim] is connected\n",
      "\n",
      "No more connections are available\n",
      "Adding new connection in pool\n",
      "A new connection is added in pool\n",
      "\n",
      "[Hiroki] is connected\n",
      "\n"
     ]
    }
   ],
   "source": [
    "# Create a connection pool\n",
    "from mysql.connector.pooling import MySQLConnectionPool\n",
    "dbconfig = {\"database\":\"little_lemon\", \"user\" : \"root\", \"password\" : \"2022\"}\n",
    "pool = MySQLConnectionPool(pool_name = \"new_pool\", pool_size = 3, **dbconfig) \n",
    "\n",
    "# List of guests who want to connect to database\n",
    "guests = [\"Anna\", \"Marcos\", \"Diana\", \"Joakim\", \"Hiroki\"]\n",
    "\n",
    "# To add connection to pool, connection must be of MySQLConnection instance \n",
    "# Also possible to create via connect module and need import below\n",
    "import mysql.connector as connector\n",
    "\n",
    "# Assign connection to each user\n",
    "for guest in guests:\n",
    "    try:\n",
    "        guest_connected = pool.get_connection()\n",
    "        print(\"[{}] is connected.\\n\".format(guest))\n",
    "    except:\n",
    "        print(\"No more connections are available\")\n",
    "        print(\"Adding new connection in pool\")\n",
    "        \n",
    "        connection = connector.connect(user=\"root\",password=\"2022\")\n",
    "        # Adding connection into pool\n",
    "        pool.add_connection(cnx=connection)\n",
    "        print(\"A new connection is added in pool\\n\")\n",
    "        \n",
    "        user_connected = pool.get_connection()\n",
    "        print(\"[{}] is connected\\n\".format(guest))"
   ]
  },
  {
   "cell_type": "markdown",
   "metadata": {},
   "source": [
    "## Cursor subclasses"
   ]
  },
  {
   "cell_type": "code",
   "execution_count": null,
   "metadata": {
    "execution": {
     "iopub.execute_input": "2022-12-29T09:12:48.746814Z",
     "iopub.status.busy": "2022-12-29T09:12:48.746814Z",
     "iopub.status.idle": "2022-12-29T09:12:49.280084Z",
     "shell.execute_reply": "2022-12-29T09:12:49.279078Z",
     "shell.execute_reply.started": "2022-12-29T09:12:48.746814Z"
    },
    "scrolled": true
   },
   "outputs": [],
   "source": [
    "# here rowcount is a Cursor subclass\n",
    "cursor.execute(\"CREATE DATABASE IF NOT EXISTS cursorsubclass;\")\n",
    "cursor.execute(\"USE cursorsubclass;\")\n",
    "cursor.execute(\"CREATE TABLE customers(name VARCHAR(10), address VARCHAR(10));\")\n",
    "query = \"INSERT INTO customers (name, address) VALUES (%s, %s)\"\n",
    "val = [(\"John\", \"Highway 21\"), (\"Mike\", \"Highway 25\")]\n",
    "cursor.executemany(query, val)\n",
    "conn.commit()\n",
    "print(cursor.rowcount, \" record inserted\")"
   ]
  },
  {
   "cell_type": "code",
   "execution_count": null,
   "metadata": {
    "execution": {
     "iopub.execute_input": "2022-12-29T09:12:55.573675Z",
     "iopub.status.busy": "2022-12-29T09:12:55.573675Z",
     "iopub.status.idle": "2022-12-29T09:12:55.585675Z",
     "shell.execute_reply": "2022-12-29T09:12:55.584672Z",
     "shell.execute_reply.started": "2022-12-29T09:12:55.573675Z"
    }
   },
   "outputs": [],
   "source": [
    "# recommanded to use buffered=True for select statement when SQL requests is taking part of a SQL query result and use it to make a\n",
    "# subsequent request from a database, otherwise will give \"Unread result found\" error, then have to run first cell again to work with database\n",
    "# buffered=True means that cursor can now execute subsequent queries without fetching all records from cursor\n",
    "# here column_names is a Cursor subclass\n",
    "cursor = conn.cursor(buffered = True)\n",
    "cursor.execute(\"USE cursorsubclass;\")\n",
    "cursor.execute(\"SELECT * FROM customers;\")\n",
    "print(cursor.column_names, \" are names of columns\")"
   ]
  },
  {
   "cell_type": "code",
   "execution_count": null,
   "metadata": {
    "execution": {
     "iopub.execute_input": "2022-12-29T09:12:58.865106Z",
     "iopub.status.busy": "2022-12-29T09:12:58.865106Z",
     "iopub.status.idle": "2022-12-29T09:12:58.876107Z",
     "shell.execute_reply": "2022-12-29T09:12:58.875108Z",
     "shell.execute_reply.started": "2022-12-29T09:12:58.865106Z"
    }
   },
   "outputs": [],
   "source": [
    "cursor.description"
   ]
  },
  {
   "cell_type": "code",
   "execution_count": null,
   "metadata": {},
   "outputs": [],
   "source": [
    "# Display columns\n",
    "print('\\nColumns in customer table:')\n",
    "cursor.execute('''SELECT * FROM customers;''')\n",
    "for i in cursor.description:\n",
    "    print(i[0])"
   ]
  },
  {
   "cell_type": "code",
   "execution_count": null,
   "metadata": {},
   "outputs": [],
   "source": [
    "# Display data\n",
    "print('\\nData in customer table:')\n",
    "cursor.execute('''SELECT * FROM customers;''')\n",
    "for row in cursor:\n",
    "    print(row)"
   ]
  },
  {
   "cell_type": "code",
   "execution_count": null,
   "metadata": {},
   "outputs": [],
   "source": [
    "# retrieve first record from database using fetchone module after executing SQL query\n",
    "cursor.execute(\"USE cursorsubclass;\")\n",
    "cursor.execute(\"SELECT * FROM customers;\")\n",
    "res = cursor.fetchone()\n",
    "res"
   ]
  },
  {
   "cell_type": "code",
   "execution_count": null,
   "metadata": {},
   "outputs": [],
   "source": [
    "# Create a cursor object with dictionary=True, it is a cursor subclass\n",
    "dic_cursor = conn.cursor(dictionary=True)\n",
    "dic_cursor.execute(\"use little_lemon\")\n",
    "\n",
    "# Execute SQL query to get name of tables\n",
    "dic_cursor.execute(\"show tables;\")\n",
    "\n",
    "# Retrieve query results in a variable ‘results’\n",
    "results = dic_cursor.fetchall()\n",
    "\n",
    "# Use for loop to print names of all tables \n",
    "for table in results:\n",
    "    print(table)"
   ]
  },
  {
   "cell_type": "code",
   "execution_count": null,
   "metadata": {},
   "outputs": [],
   "source": [
    "# Create a cursor object with raw=True, it is a cursor subclass\n",
    "cursor1 = conn.cursor(raw=True)\n",
    "cursor1.execute(\"use little_lemon\")\n",
    "\n",
    "# Execute SQL query to get name of tables\n",
    "cursor1.execute(\"show tables;\")\n",
    "\n",
    "# Retrieve query results in a variable ‘results’\n",
    "results = cursor1.fetchall()\n",
    "\n",
    "# Use for loop to print names of all tables \n",
    "for table in results:\n",
    "    print(table)"
   ]
  },
  {
   "cell_type": "markdown",
   "metadata": {},
   "source": [
    "## Droping database"
   ]
  },
  {
   "cell_type": "code",
   "execution_count": null,
   "metadata": {},
   "outputs": [],
   "source": [
    "cursor.execute(\"DROP DATABASE cursorsubclass;\")"
   ]
  },
  {
   "cell_type": "markdown",
   "metadata": {},
   "source": [
    "# Closing cursor and connection"
   ]
  },
  {
   "cell_type": "code",
   "execution_count": null,
   "metadata": {},
   "outputs": [],
   "source": [
    "if conn.is_connected():\n",
    "    conn.close()\n",
    "    print(\"MySQL connection is closed\")\n",
    "else:\n",
    "    print(\"Connection is already closed\")"
   ]
  }
 ],
 "metadata": {
  "kernelspec": {
   "display_name": "Python 3 (ipykernel)",
   "language": "python",
   "name": "python3"
  },
  "language_info": {
   "codemirror_mode": {
    "name": "ipython",
    "version": 3
   },
   "file_extension": ".py",
   "mimetype": "text/x-python",
   "name": "python",
   "nbconvert_exporter": "python",
   "pygments_lexer": "ipython3",
   "version": "3.10.6"
  },
  "toc": {
   "base_numbering": 1,
   "nav_menu": {},
   "number_sections": true,
   "sideBar": true,
   "skip_h1_title": false,
   "title_cell": "Table of Contents",
   "title_sidebar": "Contents",
   "toc_cell": true,
   "toc_position": {
    "height": "calc(100% - 180px)",
    "left": "10px",
    "top": "150px",
    "width": "279.398px"
   },
   "toc_section_display": true,
   "toc_window_display": false
  },
  "toc-autonumbering": true,
  "toc-showmarkdowntxt": true,
  "toc-showtags": false,
  "vscode": {
   "interpreter": {
    "hash": "369f2c481f4da34e4445cda3fffd2e751bd1c4d706f27375911949ba6bb62e1c"
   }
  },
  "widgets": {
   "application/vnd.jupyter.widget-state+json": {
    "state": {},
    "version_major": 2,
    "version_minor": 0
   }
  }
 },
 "nbformat": 4,
 "nbformat_minor": 4
}
