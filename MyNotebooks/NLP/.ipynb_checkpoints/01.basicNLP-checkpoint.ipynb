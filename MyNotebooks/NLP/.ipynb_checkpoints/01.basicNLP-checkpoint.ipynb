{
 "cells": [
  {
   "cell_type": "markdown",
   "id": "48cfb0ec",
   "metadata": {
    "toc": true
   },
   "source": [
    "<h1>Table of Contents<span class=\"tocSkip\"></span></h1>\n",
    "<div class=\"toc\"><ul class=\"toc-item\"><li><span><a href=\"#basic-example\" data-toc-modified-id=\"basic-example-1\"><span class=\"toc-item-num\">1&nbsp;&nbsp;</span>basic example</a></span><ul class=\"toc-item\"><li><span><a href=\"#Loading-librarys\" data-toc-modified-id=\"Loading-librarys-1.1\"><span class=\"toc-item-num\">1.1&nbsp;&nbsp;</span>Loading librarys</a></span></li><li><span><a href=\"#importing-nltk-librarys\" data-toc-modified-id=\"importing-nltk-librarys-1.2\"><span class=\"toc-item-num\">1.2&nbsp;&nbsp;</span>importing nltk librarys</a></span><ul class=\"toc-item\"><li><span><a href=\"#tokenization\" data-toc-modified-id=\"tokenization-1.2.1\"><span class=\"toc-item-num\">1.2.1&nbsp;&nbsp;</span>tokenization</a></span></li><li><span><a href=\"#stopwords,-stemming-and-lemmatization\" data-toc-modified-id=\"stopwords,-stemming-and-lemmatization-1.2.2\"><span class=\"toc-item-num\">1.2.2&nbsp;&nbsp;</span>stopwords, stemming and lemmatization</a></span></li><li><span><a href=\"#Bag-OF-Words-(BOW)\" data-toc-modified-id=\"Bag-OF-Words-(BOW)-1.2.3\"><span class=\"toc-item-num\">1.2.3&nbsp;&nbsp;</span>Bag OF Words (BOW)</a></span></li><li><span><a href=\"#TFIDF\" data-toc-modified-id=\"TFIDF-1.2.4\"><span class=\"toc-item-num\">1.2.4&nbsp;&nbsp;</span>TFIDF</a></span></li></ul></li></ul></li><li><span><a href=\"#gensim,-Word2Vec,-KeyedVectors\" data-toc-modified-id=\"gensim,-Word2Vec,-KeyedVectors-2\"><span class=\"toc-item-num\">2&nbsp;&nbsp;</span>gensim, Word2Vec, KeyedVectors</a></span></li></ul></div>"
   ]
  },
  {
   "cell_type": "markdown",
   "id": "d48bc9de",
   "metadata": {},
   "source": [
    "# basic example"
   ]
  },
  {
   "cell_type": "markdown",
   "id": "c34471a6",
   "metadata": {},
   "source": [
    "## Loading librarys"
   ]
  },
  {
   "cell_type": "code",
   "execution_count": 1,
   "id": "c4ed89c6",
   "metadata": {
    "ExecuteTime": {
     "end_time": "2023-01-08T11:47:22.391626Z",
     "start_time": "2023-01-08T11:47:21.735578Z"
    }
   },
   "outputs": [],
   "source": [
    "import pandas as pd\n",
    "import numpy as np"
   ]
  },
  {
   "cell_type": "code",
   "execution_count": 3,
   "id": "cf008dbb",
   "metadata": {
    "ExecuteTime": {
     "end_time": "2023-01-08T11:47:31.406376Z",
     "start_time": "2023-01-08T11:47:31.392379Z"
    }
   },
   "outputs": [],
   "source": [
    "paragraph=\"\"\"Narendra Damodardas Modi (Gujarati: [ˈnəɾendɾə dɑmodəɾˈdɑs ˈmodiː] (listen); \n",
    "born 17 September 1950)[a] is an Indian politician serving as the 14th and current prime minister of India since 2014. \n",
    "Modi was the chief minister of Gujarat from 2001 to 2014 and is the Member of Parliament from Varanasi. \n",
    "He is a member of the Bharatiya Janata Party (BJP) and of the Rashtriya Swayamsevak Sangh (RSS), a right-wing Hindu nationalist paramilitary volunteer \n",
    "organisation. He is the first prime minister to have been born after India's independence in 1947 and the second prime minister not belonging to the \n",
    "Indian National Congress to have won two consecutive majorities in the Lok Sabha, or the lower house of India's parliament. \n",
    "He is also the longest serving prime minister from a non-Congress party.\n",
    "Born and raised in Vadnagar, a small town in northeastern Gujarat, Modi completed his secondary education there. \n",
    "He was introduced to the RSS at age eight. He has drawn attention to having to work as a child in his father's tea stall on the \n",
    "Vadnagar railway station platform, a description that has not been reliably corroborated. At age 18, Modi was married to Jashodaben Chimanlal Modi, \n",
    "whom he abandoned soon after. He left his parental home where she had come to live. He first publicly acknowledged her as his wife more than \n",
    "four decades later when required to do so by Indian law, but has made no contact with her since. Modi has asserted he had travelled in northern India \n",
    "for two years after leaving his parental home, visiting a number of religious centres, but few details of his travels have emerged. \n",
    "Upon his return to Gujarat in 1971, he became a full-time worker for the RSS. After the state of emergency was declared by prime minister \n",
    "Indira Gandhi in 1975, Modi went into hiding. The RSS assigned him to the BJP in 1985 and he held several positions within \n",
    "the party hierarchy until 2001, rising to the rank of general secretary.[b]\n",
    "\"\"\""
   ]
  },
  {
   "cell_type": "code",
   "execution_count": 4,
   "id": "7ed01ebe",
   "metadata": {
    "ExecuteTime": {
     "end_time": "2023-01-08T11:47:32.072997Z",
     "start_time": "2023-01-08T11:47:32.059993Z"
    }
   },
   "outputs": [
    {
     "data": {
      "text/plain": [
       "\"Narendra Damodardas Modi (Gujarati: [ˈnəɾendɾə dɑmodəɾˈdɑs ˈmodiː] (listen); \\nborn 17 September 1950)[a] is an Indian politician serving as the 14th and current prime minister of India since 2014. \\nModi was the chief minister of Gujarat from 2001 to 2014 and is the Member of Parliament from Varanasi. \\nHe is a member of the Bharatiya Janata Party (BJP) and of the Rashtriya Swayamsevak Sangh (RSS), a right-wing Hindu nationalist paramilitary volunteer \\norganisation. He is the first prime minister to have been born after India's independence in 1947 and the second prime minister not belonging to the \\nIndian National Congress to have won two consecutive majorities in the Lok Sabha, or the lower house of India's parliament. \\nHe is also the longest serving prime minister from a non-Congress party.\\nBorn and raised in Vadnagar, a small town in northeastern Gujarat, Modi completed his secondary education there. \\nHe was introduced to the RSS at age eight. He has drawn attention to having to work as a child in his father's tea stall on the \\nVadnagar railway station platform, a description that has not been reliably corroborated. At age 18, Modi was married to Jashodaben Chimanlal Modi, \\nwhom he abandoned soon after. He left his parental home where she had come to live. He first publicly acknowledged her as his wife more than \\nfour decades later when required to do so by Indian law, but has made no contact with her since. Modi has asserted he had travelled in northern India \\nfor two years after leaving his parental home, visiting a number of religious centres, but few details of his travels have emerged. \\nUpon his return to Gujarat in 1971, he became a full-time worker for the RSS. After the state of emergency was declared by prime minister \\nIndira Gandhi in 1975, Modi went into hiding. The RSS assigned him to the BJP in 1985 and he held several positions within \\nthe party hierarchy until 2001, rising to the rank of general secretary.[b]\\n\""
      ]
     },
     "execution_count": 4,
     "metadata": {},
     "output_type": "execute_result"
    }
   ],
   "source": [
    "paragraph"
   ]
  },
  {
   "cell_type": "markdown",
   "id": "cffec184",
   "metadata": {},
   "source": [
    "## importing nltk librarys"
   ]
  },
  {
   "cell_type": "code",
   "execution_count": 4,
   "id": "a413c38f",
   "metadata": {},
   "outputs": [],
   "source": [
    "import nltk\n",
    "from nltk.stem import PorterStemmer\n",
    "from nltk.corpus import stopwords"
   ]
  },
  {
   "cell_type": "markdown",
   "id": "25644e45",
   "metadata": {},
   "source": [
    "### tokenization"
   ]
  },
  {
   "cell_type": "code",
   "execution_count": 5,
   "id": "d3e00259",
   "metadata": {},
   "outputs": [
    {
     "name": "stderr",
     "output_type": "stream",
     "text": [
      "[nltk_data] Downloading package punkt to\n",
      "[nltk_data]     C:\\Users\\SHEHA\\AppData\\Roaming\\nltk_data...\n",
      "[nltk_data]   Package punkt is already up-to-date!\n"
     ]
    }
   ],
   "source": [
    "# tokenization converts paragraph-sentences-words\n",
    "# Punkt is a Tokenizer Model\n",
    "nltk.download('punkt')\n",
    "sentences = nltk.sent_tokenize(paragraph)"
   ]
  },
  {
   "cell_type": "code",
   "execution_count": 6,
   "id": "3d0db3d4",
   "metadata": {},
   "outputs": [
    {
     "name": "stdout",
     "output_type": "stream",
     "text": [
      "['Narendra Damodardas Modi (Gujarati: [ˈnəɾendɾə dɑmodəɾˈdɑs ˈmodiː] (listen); \\nborn 17 September 1950)[a] is an Indian politician serving as the 14th and current prime minister of India since 2014.', 'Modi was the chief minister of Gujarat from 2001 to 2014 and is the Member of Parliament from Varanasi.', 'He is a member of the Bharatiya Janata Party (BJP) and of the Rashtriya Swayamsevak Sangh (RSS), a right-wing Hindu nationalist paramilitary volunteer \\norganisation.', \"He is the first prime minister to have been born after India's independence in 1947 and the second prime minister not belonging to the \\nIndian National Congress to have won two consecutive majorities in the Lok Sabha, or the lower house of India's parliament.\", 'He is also the longest serving prime minister from a non-Congress party.', 'Born and raised in Vadnagar, a small town in northeastern Gujarat, Modi completed his secondary education there.', 'He was introduced to the RSS at age eight.', \"He has drawn attention to having to work as a child in his father's tea stall on the \\nVadnagar railway station platform, a description that has not been reliably corroborated.\", 'At age 18, Modi was married to Jashodaben Chimanlal Modi, \\nwhom he abandoned soon after.', 'He left his parental home where she had come to live.', 'He first publicly acknowledged her as his wife more than \\nfour decades later when required to do so by Indian law, but has made no contact with her since.', 'Modi has asserted he had travelled in northern India \\nfor two years after leaving his parental home, visiting a number of religious centres, but few details of his travels have emerged.', 'Upon his return to Gujarat in 1971, he became a full-time worker for the RSS.', 'After the state of emergency was declared by prime minister \\nIndira Gandhi in 1975, Modi went into hiding.', 'The RSS assigned him to the BJP in 1985 and he held several positions within \\nthe party hierarchy until 2001, rising to the rank of general secretary.', '[b]']\n"
     ]
    }
   ],
   "source": [
    "print(sentences)"
   ]
  },
  {
   "cell_type": "code",
   "execution_count": 7,
   "id": "0041e356",
   "metadata": {},
   "outputs": [
    {
     "data": {
      "text/plain": [
       "16"
      ]
     },
     "execution_count": 7,
     "metadata": {},
     "output_type": "execute_result"
    }
   ],
   "source": [
    "len(sentences)"
   ]
  },
  {
   "cell_type": "code",
   "execution_count": 8,
   "id": "2788f2a1",
   "metadata": {},
   "outputs": [],
   "source": [
    "import re\n",
    "corpus=[]\n",
    "for i in range(len(sentences)):\n",
    "    review=re.sub('[^a-zA-Z]',' ',sentences[i]) # replacing symbols and characters with white space\n",
    "    review=review.lower()\n",
    "    corpus.append(review)"
   ]
  },
  {
   "cell_type": "code",
   "execution_count": 9,
   "id": "120f1559",
   "metadata": {},
   "outputs": [
    {
     "data": {
      "text/plain": [
       "['narendra damodardas modi  gujarati    n  end   d mod   d s  modi    listen    born    september       a  is an indian politician serving as the   th and current prime minister of india since      ',\n",
       " 'modi was the chief minister of gujarat from      to      and is the member of parliament from varanasi ',\n",
       " 'he is a member of the bharatiya janata party  bjp  and of the rashtriya swayamsevak sangh  rss   a right wing hindu nationalist paramilitary volunteer  organisation ',\n",
       " 'he is the first prime minister to have been born after india s independence in      and the second prime minister not belonging to the  indian national congress to have won two consecutive majorities in the lok sabha  or the lower house of india s parliament ',\n",
       " 'he is also the longest serving prime minister from a non congress party ',\n",
       " 'born and raised in vadnagar  a small town in northeastern gujarat  modi completed his secondary education there ',\n",
       " 'he was introduced to the rss at age eight ',\n",
       " 'he has drawn attention to having to work as a child in his father s tea stall on the  vadnagar railway station platform  a description that has not been reliably corroborated ',\n",
       " 'at age     modi was married to jashodaben chimanlal modi   whom he abandoned soon after ',\n",
       " 'he left his parental home where she had come to live ',\n",
       " 'he first publicly acknowledged her as his wife more than  four decades later when required to do so by indian law  but has made no contact with her since ',\n",
       " 'modi has asserted he had travelled in northern india  for two years after leaving his parental home  visiting a number of religious centres  but few details of his travels have emerged ',\n",
       " 'upon his return to gujarat in       he became a full time worker for the rss ',\n",
       " 'after the state of emergency was declared by prime minister  indira gandhi in       modi went into hiding ',\n",
       " 'the rss assigned him to the bjp in      and he held several positions within  the party hierarchy until       rising to the rank of general secretary ',\n",
       " ' b ']"
      ]
     },
     "execution_count": 9,
     "metadata": {},
     "output_type": "execute_result"
    }
   ],
   "source": [
    "corpus"
   ]
  },
  {
   "cell_type": "markdown",
   "id": "eaf5bd1c",
   "metadata": {},
   "source": [
    "### stopwords, stemming and lemmatization"
   ]
  },
  {
   "cell_type": "code",
   "execution_count": 10,
   "id": "774068e8",
   "metadata": {},
   "outputs": [
    {
     "name": "stderr",
     "output_type": "stream",
     "text": [
      "[nltk_data] Downloading package stopwords to\n",
      "[nltk_data]     C:\\Users\\SHEHA\\AppData\\Roaming\\nltk_data...\n",
      "[nltk_data]   Package stopwords is already up-to-date!\n"
     ]
    },
    {
     "data": {
      "text/plain": [
       "['i',\n",
       " 'me',\n",
       " 'my',\n",
       " 'myself',\n",
       " 'we',\n",
       " 'our',\n",
       " 'ours',\n",
       " 'ourselves',\n",
       " 'you',\n",
       " \"you're\",\n",
       " \"you've\",\n",
       " \"you'll\",\n",
       " \"you'd\",\n",
       " 'your',\n",
       " 'yours',\n",
       " 'yourself',\n",
       " 'yourselves',\n",
       " 'he',\n",
       " 'him',\n",
       " 'his',\n",
       " 'himself',\n",
       " 'she',\n",
       " \"she's\",\n",
       " 'her',\n",
       " 'hers',\n",
       " 'herself',\n",
       " 'it',\n",
       " \"it's\",\n",
       " 'its',\n",
       " 'itself',\n",
       " 'they',\n",
       " 'them',\n",
       " 'their',\n",
       " 'theirs',\n",
       " 'themselves',\n",
       " 'what',\n",
       " 'which',\n",
       " 'who',\n",
       " 'whom',\n",
       " 'this',\n",
       " 'that',\n",
       " \"that'll\",\n",
       " 'these',\n",
       " 'those',\n",
       " 'am',\n",
       " 'is',\n",
       " 'are',\n",
       " 'was',\n",
       " 'were',\n",
       " 'be',\n",
       " 'been',\n",
       " 'being',\n",
       " 'have',\n",
       " 'has',\n",
       " 'had',\n",
       " 'having',\n",
       " 'do',\n",
       " 'does',\n",
       " 'did',\n",
       " 'doing',\n",
       " 'a',\n",
       " 'an',\n",
       " 'the',\n",
       " 'and',\n",
       " 'but',\n",
       " 'if',\n",
       " 'or',\n",
       " 'because',\n",
       " 'as',\n",
       " 'until',\n",
       " 'while',\n",
       " 'of',\n",
       " 'at',\n",
       " 'by',\n",
       " 'for',\n",
       " 'with',\n",
       " 'about',\n",
       " 'against',\n",
       " 'between',\n",
       " 'into',\n",
       " 'through',\n",
       " 'during',\n",
       " 'before',\n",
       " 'after',\n",
       " 'above',\n",
       " 'below',\n",
       " 'to',\n",
       " 'from',\n",
       " 'up',\n",
       " 'down',\n",
       " 'in',\n",
       " 'out',\n",
       " 'on',\n",
       " 'off',\n",
       " 'over',\n",
       " 'under',\n",
       " 'again',\n",
       " 'further',\n",
       " 'then',\n",
       " 'once',\n",
       " 'here',\n",
       " 'there',\n",
       " 'when',\n",
       " 'where',\n",
       " 'why',\n",
       " 'how',\n",
       " 'all',\n",
       " 'any',\n",
       " 'both',\n",
       " 'each',\n",
       " 'few',\n",
       " 'more',\n",
       " 'most',\n",
       " 'other',\n",
       " 'some',\n",
       " 'such',\n",
       " 'no',\n",
       " 'nor',\n",
       " 'not',\n",
       " 'only',\n",
       " 'own',\n",
       " 'same',\n",
       " 'so',\n",
       " 'than',\n",
       " 'too',\n",
       " 'very',\n",
       " 's',\n",
       " 't',\n",
       " 'can',\n",
       " 'will',\n",
       " 'just',\n",
       " 'don',\n",
       " \"don't\",\n",
       " 'should',\n",
       " \"should've\",\n",
       " 'now',\n",
       " 'd',\n",
       " 'll',\n",
       " 'm',\n",
       " 'o',\n",
       " 're',\n",
       " 've',\n",
       " 'y',\n",
       " 'ain',\n",
       " 'aren',\n",
       " \"aren't\",\n",
       " 'couldn',\n",
       " \"couldn't\",\n",
       " 'didn',\n",
       " \"didn't\",\n",
       " 'doesn',\n",
       " \"doesn't\",\n",
       " 'hadn',\n",
       " \"hadn't\",\n",
       " 'hasn',\n",
       " \"hasn't\",\n",
       " 'haven',\n",
       " \"haven't\",\n",
       " 'isn',\n",
       " \"isn't\",\n",
       " 'ma',\n",
       " 'mightn',\n",
       " \"mightn't\",\n",
       " 'mustn',\n",
       " \"mustn't\",\n",
       " 'needn',\n",
       " \"needn't\",\n",
       " 'shan',\n",
       " \"shan't\",\n",
       " 'shouldn',\n",
       " \"shouldn't\",\n",
       " 'wasn',\n",
       " \"wasn't\",\n",
       " 'weren',\n",
       " \"weren't\",\n",
       " 'won',\n",
       " \"won't\",\n",
       " 'wouldn',\n",
       " \"wouldn't\"]"
      ]
     },
     "execution_count": 10,
     "metadata": {},
     "output_type": "execute_result"
    }
   ],
   "source": [
    "# downloding stopwords package\n",
    "nltk.download('stopwords')\n",
    "stopwords.words('english')"
   ]
  },
  {
   "cell_type": "code",
   "execution_count": 11,
   "id": "7ef0a734",
   "metadata": {},
   "outputs": [
    {
     "data": {
      "text/plain": [
       "'histori'"
      ]
     },
     "execution_count": 11,
     "metadata": {},
     "output_type": "execute_result"
    }
   ],
   "source": [
    "# sample code of stemming\n",
    "stemmer = PorterStemmer()\n",
    "stemmer.stem('history')"
   ]
  },
  {
   "cell_type": "code",
   "execution_count": 12,
   "id": "eb3d6abc",
   "metadata": {},
   "outputs": [
    {
     "name": "stderr",
     "output_type": "stream",
     "text": [
      "[nltk_data] Downloading package wordnet to\n",
      "[nltk_data]     C:\\Users\\SHEHA\\AppData\\Roaming\\nltk_data...\n",
      "[nltk_data]   Package wordnet is already up-to-date!\n"
     ]
    },
    {
     "data": {
      "text/plain": [
       "True"
      ]
     },
     "execution_count": 12,
     "metadata": {},
     "output_type": "execute_result"
    }
   ],
   "source": [
    "# sample code of lemmatizer, takes meaningful word\n",
    "from nltk.stem import WordNetLemmatizer\n",
    "nltk.download('wordnet')"
   ]
  },
  {
   "cell_type": "code",
   "execution_count": 13,
   "id": "f04cb6e9",
   "metadata": {},
   "outputs": [
    {
     "data": {
      "text/plain": [
       "'go'"
      ]
     },
     "execution_count": 13,
     "metadata": {},
     "output_type": "execute_result"
    }
   ],
   "source": [
    "# sample code of lemmatizer\n",
    "lemmatizer = WordNetLemmatizer()\n",
    "lemmatizer.lemmatize('goes')"
   ]
  },
  {
   "cell_type": "code",
   "execution_count": 14,
   "id": "d812f1d7",
   "metadata": {},
   "outputs": [
    {
     "name": "stdout",
     "output_type": "stream",
     "text": [
      "narendra\n",
      "damodarda\n",
      "modi\n",
      "gujarati\n",
      "n\n",
      "end\n",
      "mod\n",
      "modi\n",
      "listen\n",
      "born\n",
      "septemb\n",
      "indian\n",
      "politician\n",
      "serv\n",
      "th\n",
      "current\n",
      "prime\n",
      "minist\n",
      "india\n",
      "sinc\n",
      "modi\n",
      "chief\n",
      "minist\n",
      "gujarat\n",
      "member\n",
      "parliament\n",
      "varanasi\n",
      "member\n",
      "bharatiya\n",
      "janata\n",
      "parti\n",
      "bjp\n",
      "rashtriya\n",
      "swayamsevak\n",
      "sangh\n",
      "rss\n",
      "right\n",
      "wing\n",
      "hindu\n",
      "nationalist\n",
      "paramilitari\n",
      "volunt\n",
      "organis\n",
      "first\n",
      "prime\n",
      "minist\n",
      "born\n",
      "india\n",
      "independ\n",
      "second\n",
      "prime\n",
      "minist\n",
      "belong\n",
      "indian\n",
      "nation\n",
      "congress\n",
      "two\n",
      "consecut\n",
      "major\n",
      "lok\n",
      "sabha\n",
      "lower\n",
      "hous\n",
      "india\n",
      "parliament\n",
      "also\n",
      "longest\n",
      "serv\n",
      "prime\n",
      "minist\n",
      "non\n",
      "congress\n",
      "parti\n",
      "born\n",
      "rais\n",
      "vadnagar\n",
      "small\n",
      "town\n",
      "northeastern\n",
      "gujarat\n",
      "modi\n",
      "complet\n",
      "secondari\n",
      "educ\n",
      "introduc\n",
      "rss\n",
      "age\n",
      "eight\n",
      "drawn\n",
      "attent\n",
      "work\n",
      "child\n",
      "father\n",
      "tea\n",
      "stall\n",
      "vadnagar\n",
      "railway\n",
      "station\n",
      "platform\n",
      "descript\n",
      "reliabl\n",
      "corrobor\n",
      "age\n",
      "modi\n",
      "marri\n",
      "jashodaben\n",
      "chimanl\n",
      "modi\n",
      "abandon\n",
      "soon\n",
      "left\n",
      "parent\n",
      "home\n",
      "come\n",
      "live\n",
      "first\n",
      "publicli\n",
      "acknowledg\n",
      "wife\n",
      "four\n",
      "decad\n",
      "later\n",
      "requir\n",
      "indian\n",
      "law\n",
      "made\n",
      "contact\n",
      "sinc\n",
      "modi\n",
      "assert\n",
      "travel\n",
      "northern\n",
      "india\n",
      "two\n",
      "year\n",
      "leav\n",
      "parent\n",
      "home\n",
      "visit\n",
      "number\n",
      "religi\n",
      "centr\n",
      "detail\n",
      "travel\n",
      "emerg\n",
      "upon\n",
      "return\n",
      "gujarat\n",
      "becam\n",
      "full\n",
      "time\n",
      "worker\n",
      "rss\n",
      "state\n",
      "emerg\n",
      "declar\n",
      "prime\n",
      "minist\n",
      "indira\n",
      "gandhi\n",
      "modi\n",
      "went\n",
      "hide\n",
      "rss\n",
      "assign\n",
      "bjp\n",
      "held\n",
      "sever\n",
      "posit\n",
      "within\n",
      "parti\n",
      "hierarchi\n",
      "rise\n",
      "rank\n",
      "gener\n",
      "secretari\n",
      "b\n"
     ]
    }
   ],
   "source": [
    "# sample code of stemminng in corpus\n",
    "for i in corpus:\n",
    "    words=nltk.word_tokenize(i)\n",
    "    for word in words:\n",
    "        if word not in set(stopwords.words('english')):\n",
    "            print(stemmer.stem(word))"
   ]
  },
  {
   "cell_type": "code",
   "execution_count": 15,
   "id": "8c336b47",
   "metadata": {},
   "outputs": [
    {
     "name": "stdout",
     "output_type": "stream",
     "text": [
      "narendra\n",
      "damodardas\n",
      "modi\n",
      "gujarati\n",
      "n\n",
      "end\n",
      "mod\n",
      "modi\n",
      "listen\n",
      "born\n",
      "september\n",
      "indian\n",
      "politician\n",
      "serving\n",
      "th\n",
      "current\n",
      "prime\n",
      "minister\n",
      "india\n",
      "since\n",
      "modi\n",
      "chief\n",
      "minister\n",
      "gujarat\n",
      "member\n",
      "parliament\n",
      "varanasi\n",
      "member\n",
      "bharatiya\n",
      "janata\n",
      "party\n",
      "bjp\n",
      "rashtriya\n",
      "swayamsevak\n",
      "sangh\n",
      "r\n",
      "right\n",
      "wing\n",
      "hindu\n",
      "nationalist\n",
      "paramilitary\n",
      "volunteer\n",
      "organisation\n",
      "first\n",
      "prime\n",
      "minister\n",
      "born\n",
      "india\n",
      "independence\n",
      "second\n",
      "prime\n",
      "minister\n",
      "belonging\n",
      "indian\n",
      "national\n",
      "congress\n",
      "two\n",
      "consecutive\n",
      "majority\n",
      "lok\n",
      "sabha\n",
      "lower\n",
      "house\n",
      "india\n",
      "parliament\n",
      "also\n",
      "longest\n",
      "serving\n",
      "prime\n",
      "minister\n",
      "non\n",
      "congress\n",
      "party\n",
      "born\n",
      "raised\n",
      "vadnagar\n",
      "small\n",
      "town\n",
      "northeastern\n",
      "gujarat\n",
      "modi\n",
      "completed\n",
      "secondary\n",
      "education\n",
      "introduced\n",
      "r\n",
      "age\n",
      "eight\n",
      "drawn\n",
      "attention\n",
      "work\n",
      "child\n",
      "father\n",
      "tea\n",
      "stall\n",
      "vadnagar\n",
      "railway\n",
      "station\n",
      "platform\n",
      "description\n",
      "reliably\n",
      "corroborated\n",
      "age\n",
      "modi\n",
      "married\n",
      "jashodaben\n",
      "chimanlal\n",
      "modi\n",
      "abandoned\n",
      "soon\n",
      "left\n",
      "parental\n",
      "home\n",
      "come\n",
      "live\n",
      "first\n",
      "publicly\n",
      "acknowledged\n",
      "wife\n",
      "four\n",
      "decade\n",
      "later\n",
      "required\n",
      "indian\n",
      "law\n",
      "made\n",
      "contact\n",
      "since\n",
      "modi\n",
      "asserted\n",
      "travelled\n",
      "northern\n",
      "india\n",
      "two\n",
      "year\n",
      "leaving\n",
      "parental\n",
      "home\n",
      "visiting\n",
      "number\n",
      "religious\n",
      "centre\n",
      "detail\n",
      "travel\n",
      "emerged\n",
      "upon\n",
      "return\n",
      "gujarat\n",
      "became\n",
      "full\n",
      "time\n",
      "worker\n",
      "r\n",
      "state\n",
      "emergency\n",
      "declared\n",
      "prime\n",
      "minister\n",
      "indira\n",
      "gandhi\n",
      "modi\n",
      "went\n",
      "hiding\n",
      "r\n",
      "assigned\n",
      "bjp\n",
      "held\n",
      "several\n",
      "position\n",
      "within\n",
      "party\n",
      "hierarchy\n",
      "rising\n",
      "rank\n",
      "general\n",
      "secretary\n",
      "b\n"
     ]
    }
   ],
   "source": [
    "# sample code of lemmatization in corpus \n",
    "for i in corpus:\n",
    "    words=nltk.word_tokenize(i)\n",
    "    for word in words:\n",
    "        if word not in set(stopwords.words('english')):\n",
    "            print(lemmatizer.lemmatize(word))"
   ]
  },
  {
   "cell_type": "code",
   "execution_count": 16,
   "id": "2b9014b8",
   "metadata": {},
   "outputs": [],
   "source": [
    "# main code\n",
    "# Apply Stopswords and lemmatization in corpus, not recommanded to use stemming as it results in lose of meaningful words\n",
    "import re\n",
    "corpus = []\n",
    "for i in range(len(sentences)):\n",
    "    review = re.sub('[^a-zA-Z]', ' ', sentences[i])\n",
    "    review = review.lower()\n",
    "    review = review.split()\n",
    "    review = [lemmatizer.lemmatize(word) for word in review if not word in set(stopwords.words('english'))]\n",
    "    review = ' '.join(review)\n",
    "    corpus.append(review)"
   ]
  },
  {
   "cell_type": "markdown",
   "id": "14b09911",
   "metadata": {},
   "source": [
    "### Bag OF Words (BOW)"
   ]
  },
  {
   "cell_type": "code",
   "execution_count": 17,
   "id": "6a12efee",
   "metadata": {},
   "outputs": [],
   "source": [
    "# Bag OF Words - converting word to vector\n",
    "from sklearn.feature_extraction.text import CountVectorizer\n",
    "cv = CountVectorizer(binary=True)"
   ]
  },
  {
   "cell_type": "code",
   "execution_count": 18,
   "id": "a6b87e09",
   "metadata": {},
   "outputs": [],
   "source": [
    "X = cv.fit_transform(corpus)"
   ]
  },
  {
   "cell_type": "code",
   "execution_count": 19,
   "id": "2f24d1d1",
   "metadata": {},
   "outputs": [
    {
     "data": {
      "text/plain": [
       "{'narendra': 71,\n",
       " 'damodardas': 23,\n",
       " 'modi': 70,\n",
       " 'gujarati': 41,\n",
       " 'end': 33,\n",
       " 'mod': 69,\n",
       " 'listen': 59,\n",
       " 'born': 11,\n",
       " 'september': 103,\n",
       " 'indian': 50,\n",
       " 'politician': 84,\n",
       " 'serving': 104,\n",
       " 'th': 114,\n",
       " 'current': 22,\n",
       " 'prime': 86,\n",
       " 'minister': 68,\n",
       " 'india': 49,\n",
       " 'since': 106,\n",
       " 'chief': 13,\n",
       " 'gujarat': 40,\n",
       " 'member': 67,\n",
       " 'parliament': 81,\n",
       " 'varanasi': 122,\n",
       " 'bharatiya': 9,\n",
       " 'janata': 53,\n",
       " 'party': 82,\n",
       " 'bjp': 10,\n",
       " 'rashtriya': 91,\n",
       " 'swayamsevak': 112,\n",
       " 'sangh': 99,\n",
       " 'right': 96,\n",
       " 'wing': 127,\n",
       " 'hindu': 45,\n",
       " 'nationalist': 73,\n",
       " 'paramilitary': 79,\n",
       " 'volunteer': 124,\n",
       " 'organisation': 78,\n",
       " 'first': 35,\n",
       " 'independence': 48,\n",
       " 'second': 100,\n",
       " 'belonging': 8,\n",
       " 'national': 72,\n",
       " 'congress': 18,\n",
       " 'two': 119,\n",
       " 'consecutive': 19,\n",
       " 'majority': 65,\n",
       " 'lok': 61,\n",
       " 'sabha': 98,\n",
       " 'lower': 63,\n",
       " 'house': 47,\n",
       " 'also': 3,\n",
       " 'longest': 62,\n",
       " 'non': 74,\n",
       " 'raised': 89,\n",
       " 'vadnagar': 121,\n",
       " 'small': 107,\n",
       " 'town': 116,\n",
       " 'northeastern': 75,\n",
       " 'completed': 17,\n",
       " 'secondary': 101,\n",
       " 'education': 29,\n",
       " 'introduced': 52,\n",
       " 'age': 2,\n",
       " 'eight': 30,\n",
       " 'drawn': 28,\n",
       " 'attention': 6,\n",
       " 'work': 129,\n",
       " 'child': 14,\n",
       " 'father': 34,\n",
       " 'tea': 113,\n",
       " 'stall': 109,\n",
       " 'railway': 88,\n",
       " 'station': 111,\n",
       " 'platform': 83,\n",
       " 'description': 26,\n",
       " 'reliably': 92,\n",
       " 'corroborated': 21,\n",
       " 'married': 66,\n",
       " 'jashodaben': 54,\n",
       " 'chimanlal': 15,\n",
       " 'abandoned': 0,\n",
       " 'soon': 108,\n",
       " 'left': 58,\n",
       " 'parental': 80,\n",
       " 'home': 46,\n",
       " 'come': 16,\n",
       " 'live': 60,\n",
       " 'publicly': 87,\n",
       " 'acknowledged': 1,\n",
       " 'wife': 126,\n",
       " 'four': 36,\n",
       " 'decade': 24,\n",
       " 'later': 55,\n",
       " 'required': 94,\n",
       " 'law': 56,\n",
       " 'made': 64,\n",
       " 'contact': 20,\n",
       " 'asserted': 4,\n",
       " 'travelled': 118,\n",
       " 'northern': 76,\n",
       " 'year': 131,\n",
       " 'leaving': 57,\n",
       " 'visiting': 123,\n",
       " 'number': 77,\n",
       " 'religious': 93,\n",
       " 'centre': 12,\n",
       " 'detail': 27,\n",
       " 'travel': 117,\n",
       " 'emerged': 31,\n",
       " 'upon': 120,\n",
       " 'return': 95,\n",
       " 'became': 7,\n",
       " 'full': 37,\n",
       " 'time': 115,\n",
       " 'worker': 130,\n",
       " 'state': 110,\n",
       " 'emergency': 32,\n",
       " 'declared': 25,\n",
       " 'indira': 51,\n",
       " 'gandhi': 38,\n",
       " 'went': 125,\n",
       " 'hiding': 43,\n",
       " 'assigned': 5,\n",
       " 'held': 42,\n",
       " 'several': 105,\n",
       " 'position': 85,\n",
       " 'within': 128,\n",
       " 'hierarchy': 44,\n",
       " 'rising': 97,\n",
       " 'rank': 90,\n",
       " 'general': 39,\n",
       " 'secretary': 102}"
      ]
     },
     "execution_count": 19,
     "metadata": {},
     "output_type": "execute_result"
    }
   ],
   "source": [
    "cv.vocabulary_"
   ]
  },
  {
   "cell_type": "code",
   "execution_count": 20,
   "id": "94132d93",
   "metadata": {},
   "outputs": [
    {
     "data": {
      "text/plain": [
       "'narendra damodardas modi gujarati n end mod modi listen born september indian politician serving th current prime minister india since'"
      ]
     },
     "execution_count": 20,
     "metadata": {},
     "output_type": "execute_result"
    }
   ],
   "source": [
    "corpus[0]"
   ]
  },
  {
   "cell_type": "code",
   "execution_count": 21,
   "id": "50ae4fbc",
   "metadata": {},
   "outputs": [
    {
     "data": {
      "text/plain": [
       "array([[0, 0, 0, 0, 0, 0, 0, 0, 0, 0, 0, 1, 0, 0, 0, 0, 0, 0, 0, 0, 0, 0,\n",
       "        1, 1, 0, 0, 0, 0, 0, 0, 0, 0, 0, 1, 0, 0, 0, 0, 0, 0, 0, 1, 0, 0,\n",
       "        0, 0, 0, 0, 0, 1, 1, 0, 0, 0, 0, 0, 0, 0, 0, 1, 0, 0, 0, 0, 0, 0,\n",
       "        0, 0, 1, 1, 1, 1, 0, 0, 0, 0, 0, 0, 0, 0, 0, 0, 0, 0, 1, 0, 1, 0,\n",
       "        0, 0, 0, 0, 0, 0, 0, 0, 0, 0, 0, 0, 0, 0, 0, 1, 1, 0, 1, 0, 0, 0,\n",
       "        0, 0, 0, 0, 1, 0, 0, 0, 0, 0, 0, 0, 0, 0, 0, 0, 0, 0, 0, 0, 0, 0]],\n",
       "      dtype=int64)"
      ]
     },
     "execution_count": 21,
     "metadata": {},
     "output_type": "execute_result"
    }
   ],
   "source": [
    "X[0].toarray()"
   ]
  },
  {
   "cell_type": "code",
   "execution_count": 22,
   "id": "7fdcbbae",
   "metadata": {},
   "outputs": [
    {
     "data": {
      "text/plain": [
       "scipy.sparse._csr.csr_matrix"
      ]
     },
     "execution_count": 22,
     "metadata": {},
     "output_type": "execute_result"
    }
   ],
   "source": [
    "type(X)"
   ]
  },
  {
   "cell_type": "markdown",
   "id": "755b9b67",
   "metadata": {},
   "source": [
    "### TFIDF"
   ]
  },
  {
   "cell_type": "code",
   "execution_count": 23,
   "id": "23bd18ab",
   "metadata": {},
   "outputs": [],
   "source": [
    "# TFIDF\n",
    "from sklearn.feature_extraction.text import TfidfVectorizer\n",
    "cv = TfidfVectorizer(ngram_range=(1,1),max_features=10)\n",
    "X = cv.fit_transform(corpus)"
   ]
  },
  {
   "cell_type": "code",
   "execution_count": 24,
   "id": "ae92c0c1",
   "metadata": {},
   "outputs": [
    {
     "data": {
      "text/plain": [
       "'narendra damodardas modi gujarati n end mod modi listen born september indian politician serving th current prime minister india since'"
      ]
     },
     "execution_count": 24,
     "metadata": {},
     "output_type": "execute_result"
    }
   ],
   "source": [
    "corpus[0]"
   ]
  },
  {
   "cell_type": "code",
   "execution_count": 25,
   "id": "99c2822d",
   "metadata": {},
   "outputs": [
    {
     "data": {
      "text/plain": [
       "array([[0.38064993, 0.        , 0.38064993, 0.38064993, 0.        ,\n",
       "        0.31757459, 0.5871889 , 0.        , 0.        , 0.34593707]])"
      ]
     },
     "execution_count": 25,
     "metadata": {},
     "output_type": "execute_result"
    }
   ],
   "source": [
    "X[0].toarray()"
   ]
  },
  {
   "cell_type": "markdown",
   "id": "862fa31b",
   "metadata": {},
   "source": [
    "# gensim, Word2Vec, KeyedVectors"
   ]
  },
  {
   "cell_type": "code",
   "execution_count": 1,
   "id": "c74413b8",
   "metadata": {
    "ExecuteTime": {
     "end_time": "2023-01-08T12:08:09.160173Z",
     "start_time": "2023-01-08T12:08:08.471058Z"
    }
   },
   "outputs": [],
   "source": [
    "import gensim\n",
    "from gensim.models import Word2Vec, KeyedVectors"
   ]
  },
  {
   "cell_type": "raw",
   "id": "5027f25b",
   "metadata": {},
   "source": [
    "# use this command to launch jupyter notebook on terminal if following command gives error\n",
    "jupyter notebook --ServerApp.iopub_data_rate_limit=10000000000"
   ]
  },
  {
   "cell_type": "code",
   "execution_count": 2,
   "id": "166fe44d",
   "metadata": {
    "ExecuteTime": {
     "end_time": "2023-01-08T12:08:51.060157Z",
     "start_time": "2023-01-08T12:08:10.885015Z"
    }
   },
   "outputs": [
    {
     "name": "stdout",
     "output_type": "stream",
     "text": [
      "[=-------------------------------------------------] 3.4% 56.7/1662.8MB downloaded"
     ]
    },
    {
     "ename": "KeyboardInterrupt",
     "evalue": "",
     "output_type": "error",
     "traceback": [
      "\u001b[1;31m---------------------------------------------------------------------------\u001b[0m",
      "\u001b[1;31mKeyboardInterrupt\u001b[0m                         Traceback (most recent call last)",
      "Cell \u001b[1;32mIn[2], line 5\u001b[0m\n\u001b[0;32m      1\u001b[0m \u001b[38;5;66;03m# References: https://stackoverflow.com/questions/46433778/import-googlenews-vectors-negative300-bin\u001b[39;00m\n\u001b[0;32m      2\u001b[0m \u001b[38;5;66;03m# importing pretrained word2vec model\u001b[39;00m\n\u001b[0;32m      4\u001b[0m \u001b[38;5;28;01mimport\u001b[39;00m \u001b[38;5;21;01mgensim\u001b[39;00m\u001b[38;5;21;01m.\u001b[39;00m\u001b[38;5;21;01mdownloader\u001b[39;00m \u001b[38;5;28;01mas\u001b[39;00m \u001b[38;5;21;01mapi\u001b[39;00m\n\u001b[1;32m----> 5\u001b[0m wv \u001b[38;5;241m=\u001b[39m \u001b[43mapi\u001b[49m\u001b[38;5;241;43m.\u001b[39;49m\u001b[43mload\u001b[49m\u001b[43m(\u001b[49m\u001b[38;5;124;43m'\u001b[39;49m\u001b[38;5;124;43mword2vec-google-news-300\u001b[39;49m\u001b[38;5;124;43m'\u001b[39;49m\u001b[43m)\u001b[49m\n",
      "File \u001b[1;32m~\\Downloads\\GitHubRepository\\Python2022\\tfenv\\lib\\site-packages\\gensim\\downloader.py:496\u001b[0m, in \u001b[0;36mload\u001b[1;34m(name, return_path)\u001b[0m\n\u001b[0;32m    494\u001b[0m path \u001b[38;5;241m=\u001b[39m os\u001b[38;5;241m.\u001b[39mpath\u001b[38;5;241m.\u001b[39mjoin(folder_dir, file_name)\n\u001b[0;32m    495\u001b[0m \u001b[38;5;28;01mif\u001b[39;00m \u001b[38;5;129;01mnot\u001b[39;00m os\u001b[38;5;241m.\u001b[39mpath\u001b[38;5;241m.\u001b[39mexists(folder_dir):\n\u001b[1;32m--> 496\u001b[0m     \u001b[43m_download\u001b[49m\u001b[43m(\u001b[49m\u001b[43mname\u001b[49m\u001b[43m)\u001b[49m\n\u001b[0;32m    498\u001b[0m \u001b[38;5;28;01mif\u001b[39;00m return_path:\n\u001b[0;32m    499\u001b[0m     \u001b[38;5;28;01mreturn\u001b[39;00m path\n",
      "File \u001b[1;32m~\\Downloads\\GitHubRepository\\Python2022\\tfenv\\lib\\site-packages\\gensim\\downloader.py:396\u001b[0m, in \u001b[0;36m_download\u001b[1;34m(name)\u001b[0m\n\u001b[0;32m    394\u001b[0m fname \u001b[38;5;241m=\u001b[39m \u001b[38;5;124m\"\u001b[39m\u001b[38;5;132;01m{fname}\u001b[39;00m\u001b[38;5;124m.gz\u001b[39m\u001b[38;5;124m\"\u001b[39m\u001b[38;5;241m.\u001b[39mformat(fname\u001b[38;5;241m=\u001b[39mname)\n\u001b[0;32m    395\u001b[0m dst_path \u001b[38;5;241m=\u001b[39m os\u001b[38;5;241m.\u001b[39mpath\u001b[38;5;241m.\u001b[39mjoin(tmp_dir, fname)\n\u001b[1;32m--> 396\u001b[0m \u001b[43murllib\u001b[49m\u001b[38;5;241;43m.\u001b[39;49m\u001b[43murlretrieve\u001b[49m\u001b[43m(\u001b[49m\u001b[43murl_data\u001b[49m\u001b[43m,\u001b[49m\u001b[43m \u001b[49m\u001b[43mdst_path\u001b[49m\u001b[43m,\u001b[49m\u001b[43m \u001b[49m\u001b[43mreporthook\u001b[49m\u001b[38;5;241;43m=\u001b[39;49m\u001b[43m_progress\u001b[49m\u001b[43m)\u001b[49m\n\u001b[0;32m    397\u001b[0m \u001b[38;5;28;01mif\u001b[39;00m _calculate_md5_checksum(dst_path) \u001b[38;5;241m==\u001b[39m _get_checksum(name):\n\u001b[0;32m    398\u001b[0m     sys\u001b[38;5;241m.\u001b[39mstdout\u001b[38;5;241m.\u001b[39mwrite(\u001b[38;5;124m\"\u001b[39m\u001b[38;5;130;01m\\n\u001b[39;00m\u001b[38;5;124m\"\u001b[39m)\n",
      "File \u001b[1;32mC:\\Python310\\lib\\urllib\\request.py:270\u001b[0m, in \u001b[0;36murlretrieve\u001b[1;34m(url, filename, reporthook, data)\u001b[0m\n\u001b[0;32m    267\u001b[0m     reporthook(blocknum, bs, size)\n\u001b[0;32m    269\u001b[0m \u001b[38;5;28;01mwhile\u001b[39;00m \u001b[38;5;28;01mTrue\u001b[39;00m:\n\u001b[1;32m--> 270\u001b[0m     block \u001b[38;5;241m=\u001b[39m \u001b[43mfp\u001b[49m\u001b[38;5;241;43m.\u001b[39;49m\u001b[43mread\u001b[49m\u001b[43m(\u001b[49m\u001b[43mbs\u001b[49m\u001b[43m)\u001b[49m\n\u001b[0;32m    271\u001b[0m     \u001b[38;5;28;01mif\u001b[39;00m \u001b[38;5;129;01mnot\u001b[39;00m block:\n\u001b[0;32m    272\u001b[0m         \u001b[38;5;28;01mbreak\u001b[39;00m\n",
      "File \u001b[1;32mC:\\Python310\\lib\\http\\client.py:465\u001b[0m, in \u001b[0;36mHTTPResponse.read\u001b[1;34m(self, amt)\u001b[0m\n\u001b[0;32m    462\u001b[0m \u001b[38;5;28;01mif\u001b[39;00m \u001b[38;5;28mself\u001b[39m\u001b[38;5;241m.\u001b[39mlength \u001b[38;5;129;01mis\u001b[39;00m \u001b[38;5;129;01mnot\u001b[39;00m \u001b[38;5;28;01mNone\u001b[39;00m \u001b[38;5;129;01mand\u001b[39;00m amt \u001b[38;5;241m>\u001b[39m \u001b[38;5;28mself\u001b[39m\u001b[38;5;241m.\u001b[39mlength:\n\u001b[0;32m    463\u001b[0m     \u001b[38;5;66;03m# clip the read to the \"end of response\"\u001b[39;00m\n\u001b[0;32m    464\u001b[0m     amt \u001b[38;5;241m=\u001b[39m \u001b[38;5;28mself\u001b[39m\u001b[38;5;241m.\u001b[39mlength\n\u001b[1;32m--> 465\u001b[0m s \u001b[38;5;241m=\u001b[39m \u001b[38;5;28;43mself\u001b[39;49m\u001b[38;5;241;43m.\u001b[39;49m\u001b[43mfp\u001b[49m\u001b[38;5;241;43m.\u001b[39;49m\u001b[43mread\u001b[49m\u001b[43m(\u001b[49m\u001b[43mamt\u001b[49m\u001b[43m)\u001b[49m\n\u001b[0;32m    466\u001b[0m \u001b[38;5;28;01mif\u001b[39;00m \u001b[38;5;129;01mnot\u001b[39;00m s \u001b[38;5;129;01mand\u001b[39;00m amt:\n\u001b[0;32m    467\u001b[0m     \u001b[38;5;66;03m# Ideally, we would raise IncompleteRead if the content-length\u001b[39;00m\n\u001b[0;32m    468\u001b[0m     \u001b[38;5;66;03m# wasn't satisfied, but it might break compatibility.\u001b[39;00m\n\u001b[0;32m    469\u001b[0m     \u001b[38;5;28mself\u001b[39m\u001b[38;5;241m.\u001b[39m_close_conn()\n",
      "File \u001b[1;32mC:\\Python310\\lib\\socket.py:705\u001b[0m, in \u001b[0;36mSocketIO.readinto\u001b[1;34m(self, b)\u001b[0m\n\u001b[0;32m    703\u001b[0m \u001b[38;5;28;01mwhile\u001b[39;00m \u001b[38;5;28;01mTrue\u001b[39;00m:\n\u001b[0;32m    704\u001b[0m     \u001b[38;5;28;01mtry\u001b[39;00m:\n\u001b[1;32m--> 705\u001b[0m         \u001b[38;5;28;01mreturn\u001b[39;00m \u001b[38;5;28;43mself\u001b[39;49m\u001b[38;5;241;43m.\u001b[39;49m\u001b[43m_sock\u001b[49m\u001b[38;5;241;43m.\u001b[39;49m\u001b[43mrecv_into\u001b[49m\u001b[43m(\u001b[49m\u001b[43mb\u001b[49m\u001b[43m)\u001b[49m\n\u001b[0;32m    706\u001b[0m     \u001b[38;5;28;01mexcept\u001b[39;00m timeout:\n\u001b[0;32m    707\u001b[0m         \u001b[38;5;28mself\u001b[39m\u001b[38;5;241m.\u001b[39m_timeout_occurred \u001b[38;5;241m=\u001b[39m \u001b[38;5;28;01mTrue\u001b[39;00m\n",
      "File \u001b[1;32mC:\\Python310\\lib\\ssl.py:1274\u001b[0m, in \u001b[0;36mSSLSocket.recv_into\u001b[1;34m(self, buffer, nbytes, flags)\u001b[0m\n\u001b[0;32m   1270\u001b[0m     \u001b[38;5;28;01mif\u001b[39;00m flags \u001b[38;5;241m!=\u001b[39m \u001b[38;5;241m0\u001b[39m:\n\u001b[0;32m   1271\u001b[0m         \u001b[38;5;28;01mraise\u001b[39;00m \u001b[38;5;167;01mValueError\u001b[39;00m(\n\u001b[0;32m   1272\u001b[0m           \u001b[38;5;124m\"\u001b[39m\u001b[38;5;124mnon-zero flags not allowed in calls to recv_into() on \u001b[39m\u001b[38;5;132;01m%s\u001b[39;00m\u001b[38;5;124m\"\u001b[39m \u001b[38;5;241m%\u001b[39m\n\u001b[0;32m   1273\u001b[0m           \u001b[38;5;28mself\u001b[39m\u001b[38;5;241m.\u001b[39m\u001b[38;5;18m__class__\u001b[39m)\n\u001b[1;32m-> 1274\u001b[0m     \u001b[38;5;28;01mreturn\u001b[39;00m \u001b[38;5;28;43mself\u001b[39;49m\u001b[38;5;241;43m.\u001b[39;49m\u001b[43mread\u001b[49m\u001b[43m(\u001b[49m\u001b[43mnbytes\u001b[49m\u001b[43m,\u001b[49m\u001b[43m \u001b[49m\u001b[43mbuffer\u001b[49m\u001b[43m)\u001b[49m\n\u001b[0;32m   1275\u001b[0m \u001b[38;5;28;01melse\u001b[39;00m:\n\u001b[0;32m   1276\u001b[0m     \u001b[38;5;28;01mreturn\u001b[39;00m \u001b[38;5;28msuper\u001b[39m()\u001b[38;5;241m.\u001b[39mrecv_into(buffer, nbytes, flags)\n",
      "File \u001b[1;32mC:\\Python310\\lib\\ssl.py:1130\u001b[0m, in \u001b[0;36mSSLSocket.read\u001b[1;34m(self, len, buffer)\u001b[0m\n\u001b[0;32m   1128\u001b[0m \u001b[38;5;28;01mtry\u001b[39;00m:\n\u001b[0;32m   1129\u001b[0m     \u001b[38;5;28;01mif\u001b[39;00m buffer \u001b[38;5;129;01mis\u001b[39;00m \u001b[38;5;129;01mnot\u001b[39;00m \u001b[38;5;28;01mNone\u001b[39;00m:\n\u001b[1;32m-> 1130\u001b[0m         \u001b[38;5;28;01mreturn\u001b[39;00m \u001b[38;5;28;43mself\u001b[39;49m\u001b[38;5;241;43m.\u001b[39;49m\u001b[43m_sslobj\u001b[49m\u001b[38;5;241;43m.\u001b[39;49m\u001b[43mread\u001b[49m\u001b[43m(\u001b[49m\u001b[38;5;28;43mlen\u001b[39;49m\u001b[43m,\u001b[49m\u001b[43m \u001b[49m\u001b[43mbuffer\u001b[49m\u001b[43m)\u001b[49m\n\u001b[0;32m   1131\u001b[0m     \u001b[38;5;28;01melse\u001b[39;00m:\n\u001b[0;32m   1132\u001b[0m         \u001b[38;5;28;01mreturn\u001b[39;00m \u001b[38;5;28mself\u001b[39m\u001b[38;5;241m.\u001b[39m_sslobj\u001b[38;5;241m.\u001b[39mread(\u001b[38;5;28mlen\u001b[39m)\n",
      "\u001b[1;31mKeyboardInterrupt\u001b[0m: "
     ]
    }
   ],
   "source": [
    "# References: https://stackoverflow.com/questions/46433778/import-googlenews-vectors-negative300-bin\n",
    "# importing pretrained word2vec model\n",
    "\n",
    "import gensim.downloader as api\n",
    "wv = api.load('word2vec-google-news-300')"
   ]
  },
  {
   "cell_type": "code",
   "execution_count": null,
   "id": "06e45f35",
   "metadata": {},
   "outputs": [],
   "source": [
    "\n",
    "vec_king = wv['king']"
   ]
  }
 ],
 "metadata": {
  "kernelspec": {
   "display_name": "Python 3 (ipykernel)",
   "language": "python",
   "name": "python3"
  },
  "language_info": {
   "codemirror_mode": {
    "name": "ipython",
    "version": 3
   },
   "file_extension": ".py",
   "mimetype": "text/x-python",
   "name": "python",
   "nbconvert_exporter": "python",
   "pygments_lexer": "ipython3",
   "version": "3.10.6"
  },
  "toc": {
   "base_numbering": 1,
   "nav_menu": {},
   "number_sections": true,
   "sideBar": true,
   "skip_h1_title": false,
   "title_cell": "Table of Contents",
   "title_sidebar": "Contents",
   "toc_cell": true,
   "toc_position": {
    "height": "calc(100% - 180px)",
    "left": "10px",
    "top": "150px",
    "width": "279.398px"
   },
   "toc_section_display": true,
   "toc_window_display": false
  },
  "vscode": {
   "interpreter": {
    "hash": "369f2c481f4da34e4445cda3fffd2e751bd1c4d706f27375911949ba6bb62e1c"
   }
  }
 },
 "nbformat": 4,
 "nbformat_minor": 5
}
