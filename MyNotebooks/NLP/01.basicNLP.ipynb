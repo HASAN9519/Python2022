{
 "cells": [
  {
   "cell_type": "markdown",
   "id": "48cfb0ec",
   "metadata": {
    "toc": true
   },
   "source": [
    "<h1>Table of Contents<span class=\"tocSkip\"></span></h1>\n",
    "<div class=\"toc\"><ul class=\"toc-item\"><li><span><a href=\"#basic-example\" data-toc-modified-id=\"basic-example-1\"><span class=\"toc-item-num\">1&nbsp;&nbsp;</span>basic example</a></span><ul class=\"toc-item\"><li><span><a href=\"#Loading-librarys\" data-toc-modified-id=\"Loading-librarys-1.1\"><span class=\"toc-item-num\">1.1&nbsp;&nbsp;</span>Loading librarys</a></span></li><li><span><a href=\"#importing-nltk-librarys\" data-toc-modified-id=\"importing-nltk-librarys-1.2\"><span class=\"toc-item-num\">1.2&nbsp;&nbsp;</span>importing nltk librarys</a></span><ul class=\"toc-item\"><li><span><a href=\"#tokenization\" data-toc-modified-id=\"tokenization-1.2.1\"><span class=\"toc-item-num\">1.2.1&nbsp;&nbsp;</span>tokenization</a></span></li><li><span><a href=\"#stopwords,-stemming-and-lemmatization\" data-toc-modified-id=\"stopwords,-stemming-and-lemmatization-1.2.2\"><span class=\"toc-item-num\">1.2.2&nbsp;&nbsp;</span>stopwords, stemming and lemmatization</a></span></li><li><span><a href=\"#Bag-OF-Words-(BOW)\" data-toc-modified-id=\"Bag-OF-Words-(BOW)-1.2.3\"><span class=\"toc-item-num\">1.2.3&nbsp;&nbsp;</span>Bag OF Words (BOW)</a></span></li><li><span><a href=\"#TFIDF\" data-toc-modified-id=\"TFIDF-1.2.4\"><span class=\"toc-item-num\">1.2.4&nbsp;&nbsp;</span>TFIDF</a></span></li></ul></li></ul></li><li><span><a href=\"#Word-Embedding-Techniques\" data-toc-modified-id=\"Word-Embedding-Techniques-2\"><span class=\"toc-item-num\">2&nbsp;&nbsp;</span>Word Embedding Techniques</a></span><ul class=\"toc-item\"><li><span><a href=\"#using-Embedding-Layer-in-Keras\" data-toc-modified-id=\"using-Embedding-Layer-in-Keras-2.1\"><span class=\"toc-item-num\">2.1&nbsp;&nbsp;</span>using Embedding Layer in Keras</a></span><ul class=\"toc-item\"><li><span><a href=\"#One-Hot-Representation\" data-toc-modified-id=\"One-Hot-Representation-2.1.1\"><span class=\"toc-item-num\">2.1.1&nbsp;&nbsp;</span>One Hot Representation</a></span></li><li><span><a href=\"#Word-Embedding-Represntation\" data-toc-modified-id=\"Word-Embedding-Represntation-2.1.2\"><span class=\"toc-item-num\">2.1.2&nbsp;&nbsp;</span>Word Embedding Represntation</a></span></li></ul></li></ul></li></ul></div>"
   ]
  },
  {
   "cell_type": "markdown",
   "id": "d48bc9de",
   "metadata": {},
   "source": [
    "# basic example"
   ]
  },
  {
   "cell_type": "markdown",
   "id": "c34471a6",
   "metadata": {},
   "source": [
    "## Loading librarys"
   ]
  },
  {
   "cell_type": "code",
   "execution_count": 1,
   "id": "c4ed89c6",
   "metadata": {
    "ExecuteTime": {
     "end_time": "2023-01-09T06:14:17.100670Z",
     "start_time": "2023-01-09T06:14:16.577456Z"
    }
   },
   "outputs": [],
   "source": [
    "import pandas as pd\n",
    "import numpy as np"
   ]
  },
  {
   "cell_type": "code",
   "execution_count": 3,
   "id": "cf008dbb",
   "metadata": {},
   "outputs": [],
   "source": [
    "paragraph=\"\"\"Narendra Damodardas Modi (Gujarati: [ˈnəɾendɾə dɑmodəɾˈdɑs ˈmodiː] (listen); \n",
    "born 17 September 1950)[a] is an Indian politician serving as the 14th and current prime minister of India since 2014. \n",
    "Modi was the chief minister of Gujarat from 2001 to 2014 and is the Member of Parliament from Varanasi. \n",
    "He is a member of the Bharatiya Janata Party (BJP) and of the Rashtriya Swayamsevak Sangh (RSS), a right-wing Hindu nationalist paramilitary volunteer \n",
    "organisation. He is the first prime minister to have been born after India's independence in 1947 and the second prime minister not belonging to the \n",
    "Indian National Congress to have won two consecutive majorities in the Lok Sabha, or the lower house of India's parliament. \n",
    "He is also the longest serving prime minister from a non-Congress party.\n",
    "Born and raised in Vadnagar, a small town in northeastern Gujarat, Modi completed his secondary education there. \n",
    "He was introduced to the RSS at age eight. He has drawn attention to having to work as a child in his father's tea stall on the \n",
    "Vadnagar railway station platform, a description that has not been reliably corroborated. At age 18, Modi was married to Jashodaben Chimanlal Modi, \n",
    "whom he abandoned soon after. He left his parental home where she had come to live. He first publicly acknowledged her as his wife more than \n",
    "four decades later when required to do so by Indian law, but has made no contact with her since. Modi has asserted he had travelled in northern India \n",
    "for two years after leaving his parental home, visiting a number of religious centres, but few details of his travels have emerged. \n",
    "Upon his return to Gujarat in 1971, he became a full-time worker for the RSS. After the state of emergency was declared by prime minister \n",
    "Indira Gandhi in 1975, Modi went into hiding. The RSS assigned him to the BJP in 1985 and he held several positions within \n",
    "the party hierarchy until 2001, rising to the rank of general secretary.[b]\n",
    "\"\"\""
   ]
  },
  {
   "cell_type": "code",
   "execution_count": 4,
   "id": "7ed01ebe",
   "metadata": {},
   "outputs": [
    {
     "data": {
      "text/plain": [
       "\"Narendra Damodardas Modi (Gujarati: [ˈnəɾendɾə dɑmodəɾˈdɑs ˈmodiː] (listen); \\nborn 17 September 1950)[a] is an Indian politician serving as the 14th and current prime minister of India since 2014. \\nModi was the chief minister of Gujarat from 2001 to 2014 and is the Member of Parliament from Varanasi. \\nHe is a member of the Bharatiya Janata Party (BJP) and of the Rashtriya Swayamsevak Sangh (RSS), a right-wing Hindu nationalist paramilitary volunteer \\norganisation. He is the first prime minister to have been born after India's independence in 1947 and the second prime minister not belonging to the \\nIndian National Congress to have won two consecutive majorities in the Lok Sabha, or the lower house of India's parliament. \\nHe is also the longest serving prime minister from a non-Congress party.\\nBorn and raised in Vadnagar, a small town in northeastern Gujarat, Modi completed his secondary education there. \\nHe was introduced to the RSS at age eight. He has drawn attention to having to work as a child in his father's tea stall on the \\nVadnagar railway station platform, a description that has not been reliably corroborated. At age 18, Modi was married to Jashodaben Chimanlal Modi, \\nwhom he abandoned soon after. He left his parental home where she had come to live. He first publicly acknowledged her as his wife more than \\nfour decades later when required to do so by Indian law, but has made no contact with her since. Modi has asserted he had travelled in northern India \\nfor two years after leaving his parental home, visiting a number of religious centres, but few details of his travels have emerged. \\nUpon his return to Gujarat in 1971, he became a full-time worker for the RSS. After the state of emergency was declared by prime minister \\nIndira Gandhi in 1975, Modi went into hiding. The RSS assigned him to the BJP in 1985 and he held several positions within \\nthe party hierarchy until 2001, rising to the rank of general secretary.[b]\\n\""
      ]
     },
     "execution_count": 4,
     "metadata": {},
     "output_type": "execute_result"
    }
   ],
   "source": [
    "paragraph"
   ]
  },
  {
   "cell_type": "markdown",
   "id": "cffec184",
   "metadata": {},
   "source": [
    "## importing nltk librarys"
   ]
  },
  {
   "cell_type": "code",
   "execution_count": 4,
   "id": "a413c38f",
   "metadata": {},
   "outputs": [],
   "source": [
    "import nltk\n",
    "from nltk.stem import PorterStemmer\n",
    "from nltk.corpus import stopwords"
   ]
  },
  {
   "cell_type": "markdown",
   "id": "25644e45",
   "metadata": {},
   "source": [
    "### tokenization"
   ]
  },
  {
   "cell_type": "code",
   "execution_count": 5,
   "id": "d3e00259",
   "metadata": {},
   "outputs": [
    {
     "name": "stderr",
     "output_type": "stream",
     "text": [
      "[nltk_data] Downloading package punkt to\n",
      "[nltk_data]     C:\\Users\\SHEHA\\AppData\\Roaming\\nltk_data...\n",
      "[nltk_data]   Package punkt is already up-to-date!\n"
     ]
    }
   ],
   "source": [
    "# tokenization converts paragraph-sentences-words\n",
    "# Punkt is a Tokenizer Model\n",
    "nltk.download('punkt')\n",
    "sentences = nltk.sent_tokenize(paragraph)"
   ]
  },
  {
   "cell_type": "code",
   "execution_count": 6,
   "id": "3d0db3d4",
   "metadata": {},
   "outputs": [
    {
     "name": "stdout",
     "output_type": "stream",
     "text": [
      "['Narendra Damodardas Modi (Gujarati: [ˈnəɾendɾə dɑmodəɾˈdɑs ˈmodiː] (listen); \\nborn 17 September 1950)[a] is an Indian politician serving as the 14th and current prime minister of India since 2014.', 'Modi was the chief minister of Gujarat from 2001 to 2014 and is the Member of Parliament from Varanasi.', 'He is a member of the Bharatiya Janata Party (BJP) and of the Rashtriya Swayamsevak Sangh (RSS), a right-wing Hindu nationalist paramilitary volunteer \\norganisation.', \"He is the first prime minister to have been born after India's independence in 1947 and the second prime minister not belonging to the \\nIndian National Congress to have won two consecutive majorities in the Lok Sabha, or the lower house of India's parliament.\", 'He is also the longest serving prime minister from a non-Congress party.', 'Born and raised in Vadnagar, a small town in northeastern Gujarat, Modi completed his secondary education there.', 'He was introduced to the RSS at age eight.', \"He has drawn attention to having to work as a child in his father's tea stall on the \\nVadnagar railway station platform, a description that has not been reliably corroborated.\", 'At age 18, Modi was married to Jashodaben Chimanlal Modi, \\nwhom he abandoned soon after.', 'He left his parental home where she had come to live.', 'He first publicly acknowledged her as his wife more than \\nfour decades later when required to do so by Indian law, but has made no contact with her since.', 'Modi has asserted he had travelled in northern India \\nfor two years after leaving his parental home, visiting a number of religious centres, but few details of his travels have emerged.', 'Upon his return to Gujarat in 1971, he became a full-time worker for the RSS.', 'After the state of emergency was declared by prime minister \\nIndira Gandhi in 1975, Modi went into hiding.', 'The RSS assigned him to the BJP in 1985 and he held several positions within \\nthe party hierarchy until 2001, rising to the rank of general secretary.', '[b]']\n"
     ]
    }
   ],
   "source": [
    "print(sentences)"
   ]
  },
  {
   "cell_type": "code",
   "execution_count": 7,
   "id": "0041e356",
   "metadata": {},
   "outputs": [
    {
     "data": {
      "text/plain": [
       "16"
      ]
     },
     "execution_count": 7,
     "metadata": {},
     "output_type": "execute_result"
    }
   ],
   "source": [
    "len(sentences)"
   ]
  },
  {
   "cell_type": "code",
   "execution_count": 8,
   "id": "2788f2a1",
   "metadata": {},
   "outputs": [],
   "source": [
    "import re\n",
    "corpus=[]\n",
    "for i in range(len(sentences)):\n",
    "    review=re.sub('[^a-zA-Z]',' ',sentences[i]) # replacing symbols and characters with white space\n",
    "    review=review.lower()\n",
    "    corpus.append(review)"
   ]
  },
  {
   "cell_type": "code",
   "execution_count": 9,
   "id": "120f1559",
   "metadata": {},
   "outputs": [
    {
     "data": {
      "text/plain": [
       "['narendra damodardas modi  gujarati    n  end   d mod   d s  modi    listen    born    september       a  is an indian politician serving as the   th and current prime minister of india since      ',\n",
       " 'modi was the chief minister of gujarat from      to      and is the member of parliament from varanasi ',\n",
       " 'he is a member of the bharatiya janata party  bjp  and of the rashtriya swayamsevak sangh  rss   a right wing hindu nationalist paramilitary volunteer  organisation ',\n",
       " 'he is the first prime minister to have been born after india s independence in      and the second prime minister not belonging to the  indian national congress to have won two consecutive majorities in the lok sabha  or the lower house of india s parliament ',\n",
       " 'he is also the longest serving prime minister from a non congress party ',\n",
       " 'born and raised in vadnagar  a small town in northeastern gujarat  modi completed his secondary education there ',\n",
       " 'he was introduced to the rss at age eight ',\n",
       " 'he has drawn attention to having to work as a child in his father s tea stall on the  vadnagar railway station platform  a description that has not been reliably corroborated ',\n",
       " 'at age     modi was married to jashodaben chimanlal modi   whom he abandoned soon after ',\n",
       " 'he left his parental home where she had come to live ',\n",
       " 'he first publicly acknowledged her as his wife more than  four decades later when required to do so by indian law  but has made no contact with her since ',\n",
       " 'modi has asserted he had travelled in northern india  for two years after leaving his parental home  visiting a number of religious centres  but few details of his travels have emerged ',\n",
       " 'upon his return to gujarat in       he became a full time worker for the rss ',\n",
       " 'after the state of emergency was declared by prime minister  indira gandhi in       modi went into hiding ',\n",
       " 'the rss assigned him to the bjp in      and he held several positions within  the party hierarchy until       rising to the rank of general secretary ',\n",
       " ' b ']"
      ]
     },
     "execution_count": 9,
     "metadata": {},
     "output_type": "execute_result"
    }
   ],
   "source": [
    "corpus"
   ]
  },
  {
   "cell_type": "markdown",
   "id": "eaf5bd1c",
   "metadata": {},
   "source": [
    "### stopwords, stemming and lemmatization"
   ]
  },
  {
   "cell_type": "code",
   "execution_count": 10,
   "id": "774068e8",
   "metadata": {},
   "outputs": [
    {
     "name": "stderr",
     "output_type": "stream",
     "text": [
      "[nltk_data] Downloading package stopwords to\n",
      "[nltk_data]     C:\\Users\\SHEHA\\AppData\\Roaming\\nltk_data...\n",
      "[nltk_data]   Package stopwords is already up-to-date!\n"
     ]
    },
    {
     "data": {
      "text/plain": [
       "['i',\n",
       " 'me',\n",
       " 'my',\n",
       " 'myself',\n",
       " 'we',\n",
       " 'our',\n",
       " 'ours',\n",
       " 'ourselves',\n",
       " 'you',\n",
       " \"you're\",\n",
       " \"you've\",\n",
       " \"you'll\",\n",
       " \"you'd\",\n",
       " 'your',\n",
       " 'yours',\n",
       " 'yourself',\n",
       " 'yourselves',\n",
       " 'he',\n",
       " 'him',\n",
       " 'his',\n",
       " 'himself',\n",
       " 'she',\n",
       " \"she's\",\n",
       " 'her',\n",
       " 'hers',\n",
       " 'herself',\n",
       " 'it',\n",
       " \"it's\",\n",
       " 'its',\n",
       " 'itself',\n",
       " 'they',\n",
       " 'them',\n",
       " 'their',\n",
       " 'theirs',\n",
       " 'themselves',\n",
       " 'what',\n",
       " 'which',\n",
       " 'who',\n",
       " 'whom',\n",
       " 'this',\n",
       " 'that',\n",
       " \"that'll\",\n",
       " 'these',\n",
       " 'those',\n",
       " 'am',\n",
       " 'is',\n",
       " 'are',\n",
       " 'was',\n",
       " 'were',\n",
       " 'be',\n",
       " 'been',\n",
       " 'being',\n",
       " 'have',\n",
       " 'has',\n",
       " 'had',\n",
       " 'having',\n",
       " 'do',\n",
       " 'does',\n",
       " 'did',\n",
       " 'doing',\n",
       " 'a',\n",
       " 'an',\n",
       " 'the',\n",
       " 'and',\n",
       " 'but',\n",
       " 'if',\n",
       " 'or',\n",
       " 'because',\n",
       " 'as',\n",
       " 'until',\n",
       " 'while',\n",
       " 'of',\n",
       " 'at',\n",
       " 'by',\n",
       " 'for',\n",
       " 'with',\n",
       " 'about',\n",
       " 'against',\n",
       " 'between',\n",
       " 'into',\n",
       " 'through',\n",
       " 'during',\n",
       " 'before',\n",
       " 'after',\n",
       " 'above',\n",
       " 'below',\n",
       " 'to',\n",
       " 'from',\n",
       " 'up',\n",
       " 'down',\n",
       " 'in',\n",
       " 'out',\n",
       " 'on',\n",
       " 'off',\n",
       " 'over',\n",
       " 'under',\n",
       " 'again',\n",
       " 'further',\n",
       " 'then',\n",
       " 'once',\n",
       " 'here',\n",
       " 'there',\n",
       " 'when',\n",
       " 'where',\n",
       " 'why',\n",
       " 'how',\n",
       " 'all',\n",
       " 'any',\n",
       " 'both',\n",
       " 'each',\n",
       " 'few',\n",
       " 'more',\n",
       " 'most',\n",
       " 'other',\n",
       " 'some',\n",
       " 'such',\n",
       " 'no',\n",
       " 'nor',\n",
       " 'not',\n",
       " 'only',\n",
       " 'own',\n",
       " 'same',\n",
       " 'so',\n",
       " 'than',\n",
       " 'too',\n",
       " 'very',\n",
       " 's',\n",
       " 't',\n",
       " 'can',\n",
       " 'will',\n",
       " 'just',\n",
       " 'don',\n",
       " \"don't\",\n",
       " 'should',\n",
       " \"should've\",\n",
       " 'now',\n",
       " 'd',\n",
       " 'll',\n",
       " 'm',\n",
       " 'o',\n",
       " 're',\n",
       " 've',\n",
       " 'y',\n",
       " 'ain',\n",
       " 'aren',\n",
       " \"aren't\",\n",
       " 'couldn',\n",
       " \"couldn't\",\n",
       " 'didn',\n",
       " \"didn't\",\n",
       " 'doesn',\n",
       " \"doesn't\",\n",
       " 'hadn',\n",
       " \"hadn't\",\n",
       " 'hasn',\n",
       " \"hasn't\",\n",
       " 'haven',\n",
       " \"haven't\",\n",
       " 'isn',\n",
       " \"isn't\",\n",
       " 'ma',\n",
       " 'mightn',\n",
       " \"mightn't\",\n",
       " 'mustn',\n",
       " \"mustn't\",\n",
       " 'needn',\n",
       " \"needn't\",\n",
       " 'shan',\n",
       " \"shan't\",\n",
       " 'shouldn',\n",
       " \"shouldn't\",\n",
       " 'wasn',\n",
       " \"wasn't\",\n",
       " 'weren',\n",
       " \"weren't\",\n",
       " 'won',\n",
       " \"won't\",\n",
       " 'wouldn',\n",
       " \"wouldn't\"]"
      ]
     },
     "execution_count": 10,
     "metadata": {},
     "output_type": "execute_result"
    }
   ],
   "source": [
    "# downloding stopwords package\n",
    "nltk.download('stopwords')\n",
    "stopwords.words('english')"
   ]
  },
  {
   "cell_type": "code",
   "execution_count": 11,
   "id": "7ef0a734",
   "metadata": {},
   "outputs": [
    {
     "data": {
      "text/plain": [
       "'histori'"
      ]
     },
     "execution_count": 11,
     "metadata": {},
     "output_type": "execute_result"
    }
   ],
   "source": [
    "# sample code of stemming\n",
    "stemmer = PorterStemmer()\n",
    "stemmer.stem('history')"
   ]
  },
  {
   "cell_type": "code",
   "execution_count": 12,
   "id": "eb3d6abc",
   "metadata": {},
   "outputs": [
    {
     "name": "stderr",
     "output_type": "stream",
     "text": [
      "[nltk_data] Downloading package wordnet to\n",
      "[nltk_data]     C:\\Users\\SHEHA\\AppData\\Roaming\\nltk_data...\n",
      "[nltk_data]   Package wordnet is already up-to-date!\n"
     ]
    },
    {
     "data": {
      "text/plain": [
       "True"
      ]
     },
     "execution_count": 12,
     "metadata": {},
     "output_type": "execute_result"
    }
   ],
   "source": [
    "# sample code of lemmatizer, takes meaningful word\n",
    "from nltk.stem import WordNetLemmatizer\n",
    "nltk.download('wordnet')"
   ]
  },
  {
   "cell_type": "code",
   "execution_count": 13,
   "id": "f04cb6e9",
   "metadata": {},
   "outputs": [
    {
     "data": {
      "text/plain": [
       "'go'"
      ]
     },
     "execution_count": 13,
     "metadata": {},
     "output_type": "execute_result"
    }
   ],
   "source": [
    "# sample code of lemmatizer\n",
    "lemmatizer = WordNetLemmatizer()\n",
    "lemmatizer.lemmatize('goes')"
   ]
  },
  {
   "cell_type": "code",
   "execution_count": 14,
   "id": "d812f1d7",
   "metadata": {},
   "outputs": [
    {
     "name": "stdout",
     "output_type": "stream",
     "text": [
      "narendra\n",
      "damodarda\n",
      "modi\n",
      "gujarati\n",
      "n\n",
      "end\n",
      "mod\n",
      "modi\n",
      "listen\n",
      "born\n",
      "septemb\n",
      "indian\n",
      "politician\n",
      "serv\n",
      "th\n",
      "current\n",
      "prime\n",
      "minist\n",
      "india\n",
      "sinc\n",
      "modi\n",
      "chief\n",
      "minist\n",
      "gujarat\n",
      "member\n",
      "parliament\n",
      "varanasi\n",
      "member\n",
      "bharatiya\n",
      "janata\n",
      "parti\n",
      "bjp\n",
      "rashtriya\n",
      "swayamsevak\n",
      "sangh\n",
      "rss\n",
      "right\n",
      "wing\n",
      "hindu\n",
      "nationalist\n",
      "paramilitari\n",
      "volunt\n",
      "organis\n",
      "first\n",
      "prime\n",
      "minist\n",
      "born\n",
      "india\n",
      "independ\n",
      "second\n",
      "prime\n",
      "minist\n",
      "belong\n",
      "indian\n",
      "nation\n",
      "congress\n",
      "two\n",
      "consecut\n",
      "major\n",
      "lok\n",
      "sabha\n",
      "lower\n",
      "hous\n",
      "india\n",
      "parliament\n",
      "also\n",
      "longest\n",
      "serv\n",
      "prime\n",
      "minist\n",
      "non\n",
      "congress\n",
      "parti\n",
      "born\n",
      "rais\n",
      "vadnagar\n",
      "small\n",
      "town\n",
      "northeastern\n",
      "gujarat\n",
      "modi\n",
      "complet\n",
      "secondari\n",
      "educ\n",
      "introduc\n",
      "rss\n",
      "age\n",
      "eight\n",
      "drawn\n",
      "attent\n",
      "work\n",
      "child\n",
      "father\n",
      "tea\n",
      "stall\n",
      "vadnagar\n",
      "railway\n",
      "station\n",
      "platform\n",
      "descript\n",
      "reliabl\n",
      "corrobor\n",
      "age\n",
      "modi\n",
      "marri\n",
      "jashodaben\n",
      "chimanl\n",
      "modi\n",
      "abandon\n",
      "soon\n",
      "left\n",
      "parent\n",
      "home\n",
      "come\n",
      "live\n",
      "first\n",
      "publicli\n",
      "acknowledg\n",
      "wife\n",
      "four\n",
      "decad\n",
      "later\n",
      "requir\n",
      "indian\n",
      "law\n",
      "made\n",
      "contact\n",
      "sinc\n",
      "modi\n",
      "assert\n",
      "travel\n",
      "northern\n",
      "india\n",
      "two\n",
      "year\n",
      "leav\n",
      "parent\n",
      "home\n",
      "visit\n",
      "number\n",
      "religi\n",
      "centr\n",
      "detail\n",
      "travel\n",
      "emerg\n",
      "upon\n",
      "return\n",
      "gujarat\n",
      "becam\n",
      "full\n",
      "time\n",
      "worker\n",
      "rss\n",
      "state\n",
      "emerg\n",
      "declar\n",
      "prime\n",
      "minist\n",
      "indira\n",
      "gandhi\n",
      "modi\n",
      "went\n",
      "hide\n",
      "rss\n",
      "assign\n",
      "bjp\n",
      "held\n",
      "sever\n",
      "posit\n",
      "within\n",
      "parti\n",
      "hierarchi\n",
      "rise\n",
      "rank\n",
      "gener\n",
      "secretari\n",
      "b\n"
     ]
    }
   ],
   "source": [
    "# sample code of stemminng in corpus\n",
    "for i in corpus:\n",
    "    words=nltk.word_tokenize(i)\n",
    "    for word in words:\n",
    "        if word not in set(stopwords.words('english')):\n",
    "            print(stemmer.stem(word))"
   ]
  },
  {
   "cell_type": "code",
   "execution_count": 15,
   "id": "8c336b47",
   "metadata": {},
   "outputs": [
    {
     "name": "stdout",
     "output_type": "stream",
     "text": [
      "narendra\n",
      "damodardas\n",
      "modi\n",
      "gujarati\n",
      "n\n",
      "end\n",
      "mod\n",
      "modi\n",
      "listen\n",
      "born\n",
      "september\n",
      "indian\n",
      "politician\n",
      "serving\n",
      "th\n",
      "current\n",
      "prime\n",
      "minister\n",
      "india\n",
      "since\n",
      "modi\n",
      "chief\n",
      "minister\n",
      "gujarat\n",
      "member\n",
      "parliament\n",
      "varanasi\n",
      "member\n",
      "bharatiya\n",
      "janata\n",
      "party\n",
      "bjp\n",
      "rashtriya\n",
      "swayamsevak\n",
      "sangh\n",
      "r\n",
      "right\n",
      "wing\n",
      "hindu\n",
      "nationalist\n",
      "paramilitary\n",
      "volunteer\n",
      "organisation\n",
      "first\n",
      "prime\n",
      "minister\n",
      "born\n",
      "india\n",
      "independence\n",
      "second\n",
      "prime\n",
      "minister\n",
      "belonging\n",
      "indian\n",
      "national\n",
      "congress\n",
      "two\n",
      "consecutive\n",
      "majority\n",
      "lok\n",
      "sabha\n",
      "lower\n",
      "house\n",
      "india\n",
      "parliament\n",
      "also\n",
      "longest\n",
      "serving\n",
      "prime\n",
      "minister\n",
      "non\n",
      "congress\n",
      "party\n",
      "born\n",
      "raised\n",
      "vadnagar\n",
      "small\n",
      "town\n",
      "northeastern\n",
      "gujarat\n",
      "modi\n",
      "completed\n",
      "secondary\n",
      "education\n",
      "introduced\n",
      "r\n",
      "age\n",
      "eight\n",
      "drawn\n",
      "attention\n",
      "work\n",
      "child\n",
      "father\n",
      "tea\n",
      "stall\n",
      "vadnagar\n",
      "railway\n",
      "station\n",
      "platform\n",
      "description\n",
      "reliably\n",
      "corroborated\n",
      "age\n",
      "modi\n",
      "married\n",
      "jashodaben\n",
      "chimanlal\n",
      "modi\n",
      "abandoned\n",
      "soon\n",
      "left\n",
      "parental\n",
      "home\n",
      "come\n",
      "live\n",
      "first\n",
      "publicly\n",
      "acknowledged\n",
      "wife\n",
      "four\n",
      "decade\n",
      "later\n",
      "required\n",
      "indian\n",
      "law\n",
      "made\n",
      "contact\n",
      "since\n",
      "modi\n",
      "asserted\n",
      "travelled\n",
      "northern\n",
      "india\n",
      "two\n",
      "year\n",
      "leaving\n",
      "parental\n",
      "home\n",
      "visiting\n",
      "number\n",
      "religious\n",
      "centre\n",
      "detail\n",
      "travel\n",
      "emerged\n",
      "upon\n",
      "return\n",
      "gujarat\n",
      "became\n",
      "full\n",
      "time\n",
      "worker\n",
      "r\n",
      "state\n",
      "emergency\n",
      "declared\n",
      "prime\n",
      "minister\n",
      "indira\n",
      "gandhi\n",
      "modi\n",
      "went\n",
      "hiding\n",
      "r\n",
      "assigned\n",
      "bjp\n",
      "held\n",
      "several\n",
      "position\n",
      "within\n",
      "party\n",
      "hierarchy\n",
      "rising\n",
      "rank\n",
      "general\n",
      "secretary\n",
      "b\n"
     ]
    }
   ],
   "source": [
    "# sample code of lemmatization in corpus \n",
    "for i in corpus:\n",
    "    words=nltk.word_tokenize(i)\n",
    "    for word in words:\n",
    "        if word not in set(stopwords.words('english')):\n",
    "            print(lemmatizer.lemmatize(word))"
   ]
  },
  {
   "cell_type": "code",
   "execution_count": 16,
   "id": "2b9014b8",
   "metadata": {},
   "outputs": [],
   "source": [
    "# main code\n",
    "# Apply Stopswords and lemmatization in corpus, not recommanded to use stemming as it results in lose of meaningful words\n",
    "import re\n",
    "corpus = []\n",
    "for i in range(len(sentences)):\n",
    "    review = re.sub('[^a-zA-Z]', ' ', sentences[i])\n",
    "    review = review.lower()\n",
    "    review = review.split()\n",
    "    review = [lemmatizer.lemmatize(word) for word in review if not word in set(stopwords.words('english'))]\n",
    "    review = ' '.join(review)\n",
    "    corpus.append(review)"
   ]
  },
  {
   "cell_type": "markdown",
   "id": "14b09911",
   "metadata": {},
   "source": [
    "### Bag OF Words (BOW)"
   ]
  },
  {
   "cell_type": "code",
   "execution_count": 17,
   "id": "6a12efee",
   "metadata": {},
   "outputs": [],
   "source": [
    "# Bag OF Words - converting word to vector\n",
    "from sklearn.feature_extraction.text import CountVectorizer\n",
    "cv = CountVectorizer(binary=True)"
   ]
  },
  {
   "cell_type": "code",
   "execution_count": 18,
   "id": "a6b87e09",
   "metadata": {},
   "outputs": [],
   "source": [
    "X = cv.fit_transform(corpus)"
   ]
  },
  {
   "cell_type": "code",
   "execution_count": 19,
   "id": "2f24d1d1",
   "metadata": {},
   "outputs": [
    {
     "data": {
      "text/plain": [
       "{'narendra': 71,\n",
       " 'damodardas': 23,\n",
       " 'modi': 70,\n",
       " 'gujarati': 41,\n",
       " 'end': 33,\n",
       " 'mod': 69,\n",
       " 'listen': 59,\n",
       " 'born': 11,\n",
       " 'september': 103,\n",
       " 'indian': 50,\n",
       " 'politician': 84,\n",
       " 'serving': 104,\n",
       " 'th': 114,\n",
       " 'current': 22,\n",
       " 'prime': 86,\n",
       " 'minister': 68,\n",
       " 'india': 49,\n",
       " 'since': 106,\n",
       " 'chief': 13,\n",
       " 'gujarat': 40,\n",
       " 'member': 67,\n",
       " 'parliament': 81,\n",
       " 'varanasi': 122,\n",
       " 'bharatiya': 9,\n",
       " 'janata': 53,\n",
       " 'party': 82,\n",
       " 'bjp': 10,\n",
       " 'rashtriya': 91,\n",
       " 'swayamsevak': 112,\n",
       " 'sangh': 99,\n",
       " 'right': 96,\n",
       " 'wing': 127,\n",
       " 'hindu': 45,\n",
       " 'nationalist': 73,\n",
       " 'paramilitary': 79,\n",
       " 'volunteer': 124,\n",
       " 'organisation': 78,\n",
       " 'first': 35,\n",
       " 'independence': 48,\n",
       " 'second': 100,\n",
       " 'belonging': 8,\n",
       " 'national': 72,\n",
       " 'congress': 18,\n",
       " 'two': 119,\n",
       " 'consecutive': 19,\n",
       " 'majority': 65,\n",
       " 'lok': 61,\n",
       " 'sabha': 98,\n",
       " 'lower': 63,\n",
       " 'house': 47,\n",
       " 'also': 3,\n",
       " 'longest': 62,\n",
       " 'non': 74,\n",
       " 'raised': 89,\n",
       " 'vadnagar': 121,\n",
       " 'small': 107,\n",
       " 'town': 116,\n",
       " 'northeastern': 75,\n",
       " 'completed': 17,\n",
       " 'secondary': 101,\n",
       " 'education': 29,\n",
       " 'introduced': 52,\n",
       " 'age': 2,\n",
       " 'eight': 30,\n",
       " 'drawn': 28,\n",
       " 'attention': 6,\n",
       " 'work': 129,\n",
       " 'child': 14,\n",
       " 'father': 34,\n",
       " 'tea': 113,\n",
       " 'stall': 109,\n",
       " 'railway': 88,\n",
       " 'station': 111,\n",
       " 'platform': 83,\n",
       " 'description': 26,\n",
       " 'reliably': 92,\n",
       " 'corroborated': 21,\n",
       " 'married': 66,\n",
       " 'jashodaben': 54,\n",
       " 'chimanlal': 15,\n",
       " 'abandoned': 0,\n",
       " 'soon': 108,\n",
       " 'left': 58,\n",
       " 'parental': 80,\n",
       " 'home': 46,\n",
       " 'come': 16,\n",
       " 'live': 60,\n",
       " 'publicly': 87,\n",
       " 'acknowledged': 1,\n",
       " 'wife': 126,\n",
       " 'four': 36,\n",
       " 'decade': 24,\n",
       " 'later': 55,\n",
       " 'required': 94,\n",
       " 'law': 56,\n",
       " 'made': 64,\n",
       " 'contact': 20,\n",
       " 'asserted': 4,\n",
       " 'travelled': 118,\n",
       " 'northern': 76,\n",
       " 'year': 131,\n",
       " 'leaving': 57,\n",
       " 'visiting': 123,\n",
       " 'number': 77,\n",
       " 'religious': 93,\n",
       " 'centre': 12,\n",
       " 'detail': 27,\n",
       " 'travel': 117,\n",
       " 'emerged': 31,\n",
       " 'upon': 120,\n",
       " 'return': 95,\n",
       " 'became': 7,\n",
       " 'full': 37,\n",
       " 'time': 115,\n",
       " 'worker': 130,\n",
       " 'state': 110,\n",
       " 'emergency': 32,\n",
       " 'declared': 25,\n",
       " 'indira': 51,\n",
       " 'gandhi': 38,\n",
       " 'went': 125,\n",
       " 'hiding': 43,\n",
       " 'assigned': 5,\n",
       " 'held': 42,\n",
       " 'several': 105,\n",
       " 'position': 85,\n",
       " 'within': 128,\n",
       " 'hierarchy': 44,\n",
       " 'rising': 97,\n",
       " 'rank': 90,\n",
       " 'general': 39,\n",
       " 'secretary': 102}"
      ]
     },
     "execution_count": 19,
     "metadata": {},
     "output_type": "execute_result"
    }
   ],
   "source": [
    "cv.vocabulary_"
   ]
  },
  {
   "cell_type": "code",
   "execution_count": 20,
   "id": "94132d93",
   "metadata": {},
   "outputs": [
    {
     "data": {
      "text/plain": [
       "'narendra damodardas modi gujarati n end mod modi listen born september indian politician serving th current prime minister india since'"
      ]
     },
     "execution_count": 20,
     "metadata": {},
     "output_type": "execute_result"
    }
   ],
   "source": [
    "corpus[0]"
   ]
  },
  {
   "cell_type": "code",
   "execution_count": 21,
   "id": "50ae4fbc",
   "metadata": {},
   "outputs": [
    {
     "data": {
      "text/plain": [
       "array([[0, 0, 0, 0, 0, 0, 0, 0, 0, 0, 0, 1, 0, 0, 0, 0, 0, 0, 0, 0, 0, 0,\n",
       "        1, 1, 0, 0, 0, 0, 0, 0, 0, 0, 0, 1, 0, 0, 0, 0, 0, 0, 0, 1, 0, 0,\n",
       "        0, 0, 0, 0, 0, 1, 1, 0, 0, 0, 0, 0, 0, 0, 0, 1, 0, 0, 0, 0, 0, 0,\n",
       "        0, 0, 1, 1, 1, 1, 0, 0, 0, 0, 0, 0, 0, 0, 0, 0, 0, 0, 1, 0, 1, 0,\n",
       "        0, 0, 0, 0, 0, 0, 0, 0, 0, 0, 0, 0, 0, 0, 0, 1, 1, 0, 1, 0, 0, 0,\n",
       "        0, 0, 0, 0, 1, 0, 0, 0, 0, 0, 0, 0, 0, 0, 0, 0, 0, 0, 0, 0, 0, 0]],\n",
       "      dtype=int64)"
      ]
     },
     "execution_count": 21,
     "metadata": {},
     "output_type": "execute_result"
    }
   ],
   "source": [
    "X[0].toarray()"
   ]
  },
  {
   "cell_type": "code",
   "execution_count": 22,
   "id": "7fdcbbae",
   "metadata": {},
   "outputs": [
    {
     "data": {
      "text/plain": [
       "scipy.sparse._csr.csr_matrix"
      ]
     },
     "execution_count": 22,
     "metadata": {},
     "output_type": "execute_result"
    }
   ],
   "source": [
    "type(X)"
   ]
  },
  {
   "cell_type": "markdown",
   "id": "755b9b67",
   "metadata": {},
   "source": [
    "### TFIDF"
   ]
  },
  {
   "cell_type": "code",
   "execution_count": 23,
   "id": "23bd18ab",
   "metadata": {},
   "outputs": [],
   "source": [
    "# TFIDF\n",
    "from sklearn.feature_extraction.text import TfidfVectorizer\n",
    "cv = TfidfVectorizer(ngram_range=(1,1),max_features=10)\n",
    "X = cv.fit_transform(corpus)"
   ]
  },
  {
   "cell_type": "code",
   "execution_count": 24,
   "id": "ae92c0c1",
   "metadata": {},
   "outputs": [
    {
     "data": {
      "text/plain": [
       "'narendra damodardas modi gujarati n end mod modi listen born september indian politician serving th current prime minister india since'"
      ]
     },
     "execution_count": 24,
     "metadata": {},
     "output_type": "execute_result"
    }
   ],
   "source": [
    "corpus[0]"
   ]
  },
  {
   "cell_type": "code",
   "execution_count": 25,
   "id": "99c2822d",
   "metadata": {},
   "outputs": [
    {
     "data": {
      "text/plain": [
       "array([[0.38064993, 0.        , 0.38064993, 0.38064993, 0.        ,\n",
       "        0.31757459, 0.5871889 , 0.        , 0.        , 0.34593707]])"
      ]
     },
     "execution_count": 25,
     "metadata": {},
     "output_type": "execute_result"
    }
   ],
   "source": [
    "X[0].toarray()"
   ]
  },
  {
   "cell_type": "markdown",
   "id": "862fa31b",
   "metadata": {},
   "source": [
    "# Word Embedding Techniques "
   ]
  },
  {
   "cell_type": "markdown",
   "id": "564ab966",
   "metadata": {},
   "source": [
    "## using Embedding Layer in Keras"
   ]
  },
  {
   "cell_type": "code",
   "execution_count": 2,
   "id": "322635cd",
   "metadata": {
    "ExecuteTime": {
     "end_time": "2023-01-09T06:15:48.467371Z",
     "start_time": "2023-01-09T06:14:40.128148Z"
    }
   },
   "outputs": [
    {
     "name": "stdout",
     "output_type": "stream",
     "text": [
      "2.11.0\n"
     ]
    }
   ],
   "source": [
    "import tensorflow as tf\n",
    "print(tf.__version__)"
   ]
  },
  {
   "cell_type": "code",
   "execution_count": 3,
   "id": "666bacbc",
   "metadata": {
    "ExecuteTime": {
     "end_time": "2023-01-09T06:16:49.867962Z",
     "start_time": "2023-01-09T06:16:49.857944Z"
    }
   },
   "outputs": [
    {
     "data": {
      "text/plain": [
       "['the glass of milk',\n",
       " 'the glass of juice',\n",
       " 'the cup of tea',\n",
       " 'I am a good boy',\n",
       " 'I am a good developer',\n",
       " 'understand the meaning of words',\n",
       " 'your videos are good']"
      ]
     },
     "execution_count": 3,
     "metadata": {},
     "output_type": "execute_result"
    }
   ],
   "source": [
    "# sample text\n",
    "sent=[ 'the glass of milk','the glass of juice','the cup of tea','I am a good boy','I am a good developer',\n",
    "      'understand the meaning of words','your videos are good']\n",
    "sent"
   ]
  },
  {
   "cell_type": "code",
   "execution_count": 4,
   "id": "454fe562",
   "metadata": {
    "ExecuteTime": {
     "end_time": "2023-01-09T06:17:12.231924Z",
     "start_time": "2023-01-09T06:17:12.221946Z"
    }
   },
   "outputs": [],
   "source": [
    "# giving random Vocabulary size\n",
    "voc_size=500"
   ]
  },
  {
   "cell_type": "markdown",
   "id": "248b3c8f",
   "metadata": {},
   "source": [
    "### One Hot Representation"
   ]
  },
  {
   "cell_type": "code",
   "execution_count": 5,
   "id": "46538ad9",
   "metadata": {
    "ExecuteTime": {
     "end_time": "2023-01-09T06:18:03.951343Z",
     "start_time": "2023-01-09T06:18:03.923788Z"
    }
   },
   "outputs": [
    {
     "name": "stdout",
     "output_type": "stream",
     "text": [
      "[[40, 88, 197, 99], [40, 88, 197, 315], [40, 377, 197, 132], [237, 359, 407, 99, 498], [237, 359, 407, 99, 241], [456, 40, 39, 197, 411], [226, 450, 431, 99]]\n"
     ]
    }
   ],
   "source": [
    "from tensorflow.keras.preprocessing.text import one_hot\n",
    "onehot_repr=[one_hot(words,voc_size)for words in sent] \n",
    "print(onehot_repr)"
   ]
  },
  {
   "cell_type": "markdown",
   "id": "71afc7c8",
   "metadata": {},
   "source": [
    "### Word Embedding Represntation"
   ]
  },
  {
   "cell_type": "code",
   "execution_count": 6,
   "id": "80d8d7b8",
   "metadata": {
    "ExecuteTime": {
     "end_time": "2023-01-09T06:19:12.805685Z",
     "start_time": "2023-01-09T06:19:12.791470Z"
    }
   },
   "outputs": [
    {
     "name": "stdout",
     "output_type": "stream",
     "text": [
      "[[  0   0   0   0  40  88 197  99]\n",
      " [  0   0   0   0  40  88 197 315]\n",
      " [  0   0   0   0  40 377 197 132]\n",
      " [  0   0   0 237 359 407  99 498]\n",
      " [  0   0   0 237 359 407  99 241]\n",
      " [  0   0   0 456  40  39 197 411]\n",
      " [  0   0   0   0 226 450 431  99]]\n"
     ]
    }
   ],
   "source": [
    "from tensorflow.keras.layers import Embedding\n",
    "from tensorflow.keras.preprocessing.sequence import pad_sequences\n",
    "from tensorflow.keras.models import Sequential\n",
    "\n",
    "# pre padding\n",
    "sent_length=8\n",
    "embedded_docs = pad_sequences(onehot_repr, padding='pre', maxlen=sent_length)  \n",
    "print(embedded_docs)"
   ]
  },
  {
   "cell_type": "code",
   "execution_count": 7,
   "id": "3d3ec11e",
   "metadata": {
    "ExecuteTime": {
     "end_time": "2023-01-09T06:20:55.786154Z",
     "start_time": "2023-01-09T06:20:55.717239Z"
    }
   },
   "outputs": [],
   "source": [
    "model=Sequential()\n",
    "model.add(Embedding(voc_size, 10, input_length=sent_length))  # 10 is feature dimesnions\n",
    "model.compile('adam','mse')"
   ]
  },
  {
   "cell_type": "code",
   "execution_count": 8,
   "id": "6dce5ce5",
   "metadata": {
    "ExecuteTime": {
     "end_time": "2023-01-09T06:20:58.288948Z",
     "start_time": "2023-01-09T06:20:58.276964Z"
    }
   },
   "outputs": [
    {
     "name": "stdout",
     "output_type": "stream",
     "text": [
      "Model: \"sequential\"\n",
      "_________________________________________________________________\n",
      " Layer (type)                Output Shape              Param #   \n",
      "=================================================================\n",
      " embedding (Embedding)       (None, 8, 10)             5000      \n",
      "                                                                 \n",
      "=================================================================\n",
      "Total params: 5,000\n",
      "Trainable params: 5,000\n",
      "Non-trainable params: 0\n",
      "_________________________________________________________________\n"
     ]
    }
   ],
   "source": [
    "model.summary()"
   ]
  },
  {
   "cell_type": "code",
   "execution_count": 9,
   "id": "3440c0e9",
   "metadata": {
    "ExecuteTime": {
     "end_time": "2023-01-09T06:21:15.899243Z",
     "start_time": "2023-01-09T06:21:15.890246Z"
    }
   },
   "outputs": [
    {
     "data": {
      "text/plain": [
       "array([  0,   0,   0,   0,  40,  88, 197,  99])"
      ]
     },
     "execution_count": 9,
     "metadata": {},
     "output_type": "execute_result"
    }
   ],
   "source": [
    "embedded_docs[0]"
   ]
  },
  {
   "cell_type": "code",
   "execution_count": 12,
   "id": "e2725eab",
   "metadata": {
    "ExecuteTime": {
     "end_time": "2023-01-09T06:22:45.747205Z",
     "start_time": "2023-01-09T06:22:45.698345Z"
    }
   },
   "outputs": [
    {
     "name": "stdout",
     "output_type": "stream",
     "text": [
      "1/1 [==============================] - 0s 15ms/step\n"
     ]
    },
    {
     "data": {
      "text/plain": [
       "array([[[-1.03948265e-03,  1.87656023e-02, -1.57324076e-02,\n",
       "         -6.83368370e-03,  2.39395387e-02, -3.53184938e-02,\n",
       "         -2.77746841e-03,  6.15650415e-03,  4.19757999e-02,\n",
       "         -2.23286394e-02],\n",
       "        [-1.03948265e-03,  1.87656023e-02, -1.57324076e-02,\n",
       "         -6.83368370e-03,  2.39395387e-02, -3.53184938e-02,\n",
       "         -2.77746841e-03,  6.15650415e-03,  4.19757999e-02,\n",
       "         -2.23286394e-02],\n",
       "        [-1.03948265e-03,  1.87656023e-02, -1.57324076e-02,\n",
       "         -6.83368370e-03,  2.39395387e-02, -3.53184938e-02,\n",
       "         -2.77746841e-03,  6.15650415e-03,  4.19757999e-02,\n",
       "         -2.23286394e-02],\n",
       "        [-1.03948265e-03,  1.87656023e-02, -1.57324076e-02,\n",
       "         -6.83368370e-03,  2.39395387e-02, -3.53184938e-02,\n",
       "         -2.77746841e-03,  6.15650415e-03,  4.19757999e-02,\n",
       "         -2.23286394e-02],\n",
       "        [-3.07695996e-02, -2.20198873e-02, -4.31358702e-02,\n",
       "          3.68328951e-02, -2.53195055e-02,  7.59583712e-03,\n",
       "          3.23968790e-02,  1.43244751e-02, -2.00033542e-02,\n",
       "          4.06234339e-03],\n",
       "        [-5.66418096e-03,  1.93895139e-02,  1.19772330e-02,\n",
       "         -4.56119552e-02, -5.73237985e-03,  9.37453657e-03,\n",
       "         -4.67024744e-04,  2.03894451e-03,  1.56183280e-02,\n",
       "          4.56241407e-02],\n",
       "        [ 3.86425108e-03,  2.27204710e-03,  2.56966427e-03,\n",
       "          1.53816007e-02, -4.83610407e-02,  1.83886550e-02,\n",
       "         -4.17137034e-02,  4.69127931e-02,  4.73029651e-02,\n",
       "         -4.67786081e-02],\n",
       "        [ 3.56328599e-02,  3.08240689e-02,  1.28611065e-02,\n",
       "          1.87226646e-02, -2.94314977e-02,  2.65719928e-02,\n",
       "         -1.41388550e-02,  3.24087478e-02, -1.51849389e-02,\n",
       "          1.29364021e-02]],\n",
       "\n",
       "       [[-1.03948265e-03,  1.87656023e-02, -1.57324076e-02,\n",
       "         -6.83368370e-03,  2.39395387e-02, -3.53184938e-02,\n",
       "         -2.77746841e-03,  6.15650415e-03,  4.19757999e-02,\n",
       "         -2.23286394e-02],\n",
       "        [-1.03948265e-03,  1.87656023e-02, -1.57324076e-02,\n",
       "         -6.83368370e-03,  2.39395387e-02, -3.53184938e-02,\n",
       "         -2.77746841e-03,  6.15650415e-03,  4.19757999e-02,\n",
       "         -2.23286394e-02],\n",
       "        [-1.03948265e-03,  1.87656023e-02, -1.57324076e-02,\n",
       "         -6.83368370e-03,  2.39395387e-02, -3.53184938e-02,\n",
       "         -2.77746841e-03,  6.15650415e-03,  4.19757999e-02,\n",
       "         -2.23286394e-02],\n",
       "        [-1.03948265e-03,  1.87656023e-02, -1.57324076e-02,\n",
       "         -6.83368370e-03,  2.39395387e-02, -3.53184938e-02,\n",
       "         -2.77746841e-03,  6.15650415e-03,  4.19757999e-02,\n",
       "         -2.23286394e-02],\n",
       "        [-3.07695996e-02, -2.20198873e-02, -4.31358702e-02,\n",
       "          3.68328951e-02, -2.53195055e-02,  7.59583712e-03,\n",
       "          3.23968790e-02,  1.43244751e-02, -2.00033542e-02,\n",
       "          4.06234339e-03],\n",
       "        [-5.66418096e-03,  1.93895139e-02,  1.19772330e-02,\n",
       "         -4.56119552e-02, -5.73237985e-03,  9.37453657e-03,\n",
       "         -4.67024744e-04,  2.03894451e-03,  1.56183280e-02,\n",
       "          4.56241407e-02],\n",
       "        [ 3.86425108e-03,  2.27204710e-03,  2.56966427e-03,\n",
       "          1.53816007e-02, -4.83610407e-02,  1.83886550e-02,\n",
       "         -4.17137034e-02,  4.69127931e-02,  4.73029651e-02,\n",
       "         -4.67786081e-02],\n",
       "        [-5.70996851e-03, -2.66350508e-02,  3.81161235e-02,\n",
       "          3.08449529e-02, -4.12005559e-02,  1.19946711e-02,\n",
       "         -1.89856421e-02,  8.21400434e-04, -2.59913560e-02,\n",
       "          2.10756697e-02]],\n",
       "\n",
       "       [[-1.03948265e-03,  1.87656023e-02, -1.57324076e-02,\n",
       "         -6.83368370e-03,  2.39395387e-02, -3.53184938e-02,\n",
       "         -2.77746841e-03,  6.15650415e-03,  4.19757999e-02,\n",
       "         -2.23286394e-02],\n",
       "        [-1.03948265e-03,  1.87656023e-02, -1.57324076e-02,\n",
       "         -6.83368370e-03,  2.39395387e-02, -3.53184938e-02,\n",
       "         -2.77746841e-03,  6.15650415e-03,  4.19757999e-02,\n",
       "         -2.23286394e-02],\n",
       "        [-1.03948265e-03,  1.87656023e-02, -1.57324076e-02,\n",
       "         -6.83368370e-03,  2.39395387e-02, -3.53184938e-02,\n",
       "         -2.77746841e-03,  6.15650415e-03,  4.19757999e-02,\n",
       "         -2.23286394e-02],\n",
       "        [-1.03948265e-03,  1.87656023e-02, -1.57324076e-02,\n",
       "         -6.83368370e-03,  2.39395387e-02, -3.53184938e-02,\n",
       "         -2.77746841e-03,  6.15650415e-03,  4.19757999e-02,\n",
       "         -2.23286394e-02],\n",
       "        [-3.07695996e-02, -2.20198873e-02, -4.31358702e-02,\n",
       "          3.68328951e-02, -2.53195055e-02,  7.59583712e-03,\n",
       "          3.23968790e-02,  1.43244751e-02, -2.00033542e-02,\n",
       "          4.06234339e-03],\n",
       "        [ 5.05521148e-03,  4.07204889e-02,  1.49705671e-02,\n",
       "         -2.13418733e-02,  2.86340602e-02,  3.52236293e-02,\n",
       "          1.86214186e-02,  2.84877159e-02, -3.76433358e-02,\n",
       "          3.25641148e-02],\n",
       "        [ 3.86425108e-03,  2.27204710e-03,  2.56966427e-03,\n",
       "          1.53816007e-02, -4.83610407e-02,  1.83886550e-02,\n",
       "         -4.17137034e-02,  4.69127931e-02,  4.73029651e-02,\n",
       "         -4.67786081e-02],\n",
       "        [-5.38879633e-03,  3.08721177e-02,  1.16505399e-02,\n",
       "         -4.13228199e-03,  3.57903503e-02,  3.54862548e-02,\n",
       "          4.96371128e-02, -3.81208174e-02,  3.35037000e-02,\n",
       "         -2.33246218e-02]],\n",
       "\n",
       "       [[-1.03948265e-03,  1.87656023e-02, -1.57324076e-02,\n",
       "         -6.83368370e-03,  2.39395387e-02, -3.53184938e-02,\n",
       "         -2.77746841e-03,  6.15650415e-03,  4.19757999e-02,\n",
       "         -2.23286394e-02],\n",
       "        [-1.03948265e-03,  1.87656023e-02, -1.57324076e-02,\n",
       "         -6.83368370e-03,  2.39395387e-02, -3.53184938e-02,\n",
       "         -2.77746841e-03,  6.15650415e-03,  4.19757999e-02,\n",
       "         -2.23286394e-02],\n",
       "        [-1.03948265e-03,  1.87656023e-02, -1.57324076e-02,\n",
       "         -6.83368370e-03,  2.39395387e-02, -3.53184938e-02,\n",
       "         -2.77746841e-03,  6.15650415e-03,  4.19757999e-02,\n",
       "         -2.23286394e-02],\n",
       "        [ 4.90695126e-02,  3.56558599e-02, -2.07934529e-03,\n",
       "         -1.64425857e-02,  2.40258612e-02,  2.99666859e-02,\n",
       "          4.95003797e-02, -3.26272026e-02,  3.77808325e-02,\n",
       "          2.19855458e-03],\n",
       "        [-4.60573547e-02, -3.56809869e-02, -4.05827165e-02,\n",
       "         -4.87755053e-02,  3.02123465e-02, -4.69949730e-02,\n",
       "         -2.71620397e-02, -3.89424190e-02,  1.88840367e-02,\n",
       "         -3.98507714e-02],\n",
       "        [ 4.35618497e-02,  2.32093669e-02, -2.98583042e-02,\n",
       "         -2.30291020e-02,  9.58784670e-03,  4.17451151e-02,\n",
       "         -1.65261328e-04,  3.35466862e-03,  2.06025876e-02,\n",
       "          2.69018486e-03],\n",
       "        [ 3.56328599e-02,  3.08240689e-02,  1.28611065e-02,\n",
       "          1.87226646e-02, -2.94314977e-02,  2.65719928e-02,\n",
       "         -1.41388550e-02,  3.24087478e-02, -1.51849389e-02,\n",
       "          1.29364021e-02],\n",
       "        [-3.82891297e-02,  4.75122780e-03, -1.67696252e-02,\n",
       "          1.10045075e-05, -4.39134985e-03, -1.40878931e-02,\n",
       "          4.59862873e-03,  1.91090256e-03, -2.70611048e-03,\n",
       "          3.77329029e-02]],\n",
       "\n",
       "       [[-1.03948265e-03,  1.87656023e-02, -1.57324076e-02,\n",
       "         -6.83368370e-03,  2.39395387e-02, -3.53184938e-02,\n",
       "         -2.77746841e-03,  6.15650415e-03,  4.19757999e-02,\n",
       "         -2.23286394e-02],\n",
       "        [-1.03948265e-03,  1.87656023e-02, -1.57324076e-02,\n",
       "         -6.83368370e-03,  2.39395387e-02, -3.53184938e-02,\n",
       "         -2.77746841e-03,  6.15650415e-03,  4.19757999e-02,\n",
       "         -2.23286394e-02],\n",
       "        [-1.03948265e-03,  1.87656023e-02, -1.57324076e-02,\n",
       "         -6.83368370e-03,  2.39395387e-02, -3.53184938e-02,\n",
       "         -2.77746841e-03,  6.15650415e-03,  4.19757999e-02,\n",
       "         -2.23286394e-02],\n",
       "        [ 4.90695126e-02,  3.56558599e-02, -2.07934529e-03,\n",
       "         -1.64425857e-02,  2.40258612e-02,  2.99666859e-02,\n",
       "          4.95003797e-02, -3.26272026e-02,  3.77808325e-02,\n",
       "          2.19855458e-03],\n",
       "        [-4.60573547e-02, -3.56809869e-02, -4.05827165e-02,\n",
       "         -4.87755053e-02,  3.02123465e-02, -4.69949730e-02,\n",
       "         -2.71620397e-02, -3.89424190e-02,  1.88840367e-02,\n",
       "         -3.98507714e-02],\n",
       "        [ 4.35618497e-02,  2.32093669e-02, -2.98583042e-02,\n",
       "         -2.30291020e-02,  9.58784670e-03,  4.17451151e-02,\n",
       "         -1.65261328e-04,  3.35466862e-03,  2.06025876e-02,\n",
       "          2.69018486e-03],\n",
       "        [ 3.56328599e-02,  3.08240689e-02,  1.28611065e-02,\n",
       "          1.87226646e-02, -2.94314977e-02,  2.65719928e-02,\n",
       "         -1.41388550e-02,  3.24087478e-02, -1.51849389e-02,\n",
       "          1.29364021e-02],\n",
       "        [-3.46197598e-02, -1.72279701e-02,  4.08963002e-02,\n",
       "         -2.56284606e-02, -4.50171120e-02, -4.85965498e-02,\n",
       "          3.12061422e-02, -4.02147658e-02, -1.91724300e-03,\n",
       "          4.06963490e-02]],\n",
       "\n",
       "       [[-1.03948265e-03,  1.87656023e-02, -1.57324076e-02,\n",
       "         -6.83368370e-03,  2.39395387e-02, -3.53184938e-02,\n",
       "         -2.77746841e-03,  6.15650415e-03,  4.19757999e-02,\n",
       "         -2.23286394e-02],\n",
       "        [-1.03948265e-03,  1.87656023e-02, -1.57324076e-02,\n",
       "         -6.83368370e-03,  2.39395387e-02, -3.53184938e-02,\n",
       "         -2.77746841e-03,  6.15650415e-03,  4.19757999e-02,\n",
       "         -2.23286394e-02],\n",
       "        [-1.03948265e-03,  1.87656023e-02, -1.57324076e-02,\n",
       "         -6.83368370e-03,  2.39395387e-02, -3.53184938e-02,\n",
       "         -2.77746841e-03,  6.15650415e-03,  4.19757999e-02,\n",
       "         -2.23286394e-02],\n",
       "        [-2.63953209e-03,  4.66270112e-02, -1.71073526e-03,\n",
       "          7.82484934e-03,  7.17549399e-03,  2.61625312e-02,\n",
       "          8.48895311e-03, -3.65890190e-03,  4.31632139e-02,\n",
       "         -1.79562084e-02],\n",
       "        [-3.07695996e-02, -2.20198873e-02, -4.31358702e-02,\n",
       "          3.68328951e-02, -2.53195055e-02,  7.59583712e-03,\n",
       "          3.23968790e-02,  1.43244751e-02, -2.00033542e-02,\n",
       "          4.06234339e-03],\n",
       "        [ 1.87664665e-02,  2.45712511e-02, -4.21780348e-03,\n",
       "          2.17960812e-02, -2.16285344e-02,  8.45388323e-03,\n",
       "          1.78446434e-02,  2.07112320e-02,  2.07065232e-02,\n",
       "         -3.82994637e-02],\n",
       "        [ 3.86425108e-03,  2.27204710e-03,  2.56966427e-03,\n",
       "          1.53816007e-02, -4.83610407e-02,  1.83886550e-02,\n",
       "         -4.17137034e-02,  4.69127931e-02,  4.73029651e-02,\n",
       "         -4.67786081e-02],\n",
       "        [-3.52677926e-02,  4.69027869e-02, -4.14302349e-02,\n",
       "         -3.12707201e-02, -2.11322308e-02,  2.43832916e-03,\n",
       "         -4.86818440e-02, -4.55917977e-02,  3.37898619e-02,\n",
       "         -4.74534146e-02]],\n",
       "\n",
       "       [[-1.03948265e-03,  1.87656023e-02, -1.57324076e-02,\n",
       "         -6.83368370e-03,  2.39395387e-02, -3.53184938e-02,\n",
       "         -2.77746841e-03,  6.15650415e-03,  4.19757999e-02,\n",
       "         -2.23286394e-02],\n",
       "        [-1.03948265e-03,  1.87656023e-02, -1.57324076e-02,\n",
       "         -6.83368370e-03,  2.39395387e-02, -3.53184938e-02,\n",
       "         -2.77746841e-03,  6.15650415e-03,  4.19757999e-02,\n",
       "         -2.23286394e-02],\n",
       "        [-1.03948265e-03,  1.87656023e-02, -1.57324076e-02,\n",
       "         -6.83368370e-03,  2.39395387e-02, -3.53184938e-02,\n",
       "         -2.77746841e-03,  6.15650415e-03,  4.19757999e-02,\n",
       "         -2.23286394e-02],\n",
       "        [-1.03948265e-03,  1.87656023e-02, -1.57324076e-02,\n",
       "         -6.83368370e-03,  2.39395387e-02, -3.53184938e-02,\n",
       "         -2.77746841e-03,  6.15650415e-03,  4.19757999e-02,\n",
       "         -2.23286394e-02],\n",
       "        [ 3.49875949e-02,  1.03608966e-02, -4.69057821e-02,\n",
       "         -4.94590066e-02, -1.89555045e-02, -1.74207799e-02,\n",
       "         -2.34931707e-02,  3.59972455e-02, -3.06619648e-02,\n",
       "          4.30281274e-02],\n",
       "        [-2.41367109e-02,  6.46009296e-03, -2.78087147e-02,\n",
       "         -3.05388458e-02, -3.20558548e-02, -1.77220926e-02,\n",
       "          4.61273231e-02,  1.14738941e-02, -1.61072612e-02,\n",
       "          2.25897916e-02],\n",
       "        [-4.79072332e-02,  3.18781473e-02,  1.24467611e-02,\n",
       "          9.80854034e-04, -1.93642452e-03, -3.64768617e-02,\n",
       "         -2.48686671e-02, -2.82145739e-02,  4.55971695e-02,\n",
       "         -3.24513800e-02],\n",
       "        [ 3.56328599e-02,  3.08240689e-02,  1.28611065e-02,\n",
       "          1.87226646e-02, -2.94314977e-02,  2.65719928e-02,\n",
       "         -1.41388550e-02,  3.24087478e-02, -1.51849389e-02,\n",
       "          1.29364021e-02]]], dtype=float32)"
      ]
     },
     "execution_count": 12,
     "metadata": {},
     "output_type": "execute_result"
    }
   ],
   "source": [
    "model.predict(embedded_docs)"
   ]
  },
  {
   "cell_type": "code",
   "execution_count": 13,
   "id": "02c1529e",
   "metadata": {
    "ExecuteTime": {
     "end_time": "2023-01-09T06:23:39.902613Z",
     "start_time": "2023-01-09T06:23:39.896611Z"
    }
   },
   "outputs": [
    {
     "data": {
      "text/plain": [
       "array([  0,   0,   0,   0,  40,  88, 197,  99])"
      ]
     },
     "execution_count": 13,
     "metadata": {},
     "output_type": "execute_result"
    }
   ],
   "source": [
    "embedded_docs[0]"
   ]
  },
  {
   "cell_type": "code",
   "execution_count": 14,
   "id": "7e7e7b9f",
   "metadata": {
    "ExecuteTime": {
     "end_time": "2023-01-09T06:25:28.045999Z",
     "start_time": "2023-01-09T06:25:27.994812Z"
    }
   },
   "outputs": [
    {
     "name": "stdout",
     "output_type": "stream",
     "text": [
      "1/1 [==============================] - 0s 13ms/step\n",
      "[[-0.00103948  0.0187656  -0.01573241 -0.00683368  0.02393954 -0.03531849\n",
      "  -0.00277747  0.0061565   0.0419758  -0.02232864]\n",
      " [-0.00103948  0.0187656  -0.01573241 -0.00683368  0.02393954 -0.03531849\n",
      "  -0.00277747  0.0061565   0.0419758  -0.02232864]\n",
      " [-0.00103948  0.0187656  -0.01573241 -0.00683368  0.02393954 -0.03531849\n",
      "  -0.00277747  0.0061565   0.0419758  -0.02232864]\n",
      " [-0.00103948  0.0187656  -0.01573241 -0.00683368  0.02393954 -0.03531849\n",
      "  -0.00277747  0.0061565   0.0419758  -0.02232864]\n",
      " [-0.0307696  -0.02201989 -0.04313587  0.0368329  -0.02531951  0.00759584\n",
      "   0.03239688  0.01432448 -0.02000335  0.00406234]\n",
      " [-0.00566418  0.01938951  0.01197723 -0.04561196 -0.00573238  0.00937454\n",
      "  -0.00046702  0.00203894  0.01561833  0.04562414]\n",
      " [ 0.00386425  0.00227205  0.00256966  0.0153816  -0.04836104  0.01838866\n",
      "  -0.0417137   0.04691279  0.04730297 -0.04677861]\n",
      " [ 0.03563286  0.03082407  0.01286111  0.01872266 -0.0294315   0.02657199\n",
      "  -0.01413886  0.03240875 -0.01518494  0.0129364 ]]\n"
     ]
    }
   ],
   "source": [
    "print(model.predict(embedded_docs)[0])"
   ]
  },
  {
   "cell_type": "code",
   "execution_count": null,
   "id": "9aa5a50a",
   "metadata": {},
   "outputs": [],
   "source": [
    "# Assignment\n",
    "\n",
    "sent=[\"The world is a better place\",\n",
    "      \"Marvel series is my favourite movie\",\n",
    "      \"I like DC movies\",\n",
    "      \"the cat is eating the food\",\n",
    "      \"Tom and Jerry is my favourite movie\",\n",
    "      \"Python is my favourite programming language\"]"
   ]
  },
  {
   "cell_type": "code",
   "execution_count": null,
   "id": "fb9206db",
   "metadata": {},
   "outputs": [],
   "source": []
  }
 ],
 "metadata": {
  "kernelspec": {
   "display_name": "tfenv",
   "language": "python",
   "name": "python3"
  },
  "language_info": {
   "codemirror_mode": {
    "name": "ipython",
    "version": 3
   },
   "file_extension": ".py",
   "mimetype": "text/x-python",
   "name": "python",
   "nbconvert_exporter": "python",
   "pygments_lexer": "ipython3",
   "version": "3.10.6 (tags/v3.10.6:9c7b4bd, Aug  1 2022, 21:53:49) [MSC v.1932 64 bit (AMD64)]"
  },
  "toc": {
   "base_numbering": 1,
   "nav_menu": {},
   "number_sections": true,
   "sideBar": true,
   "skip_h1_title": false,
   "title_cell": "Table of Contents",
   "title_sidebar": "Contents",
   "toc_cell": true,
   "toc_position": {
    "height": "calc(100% - 180px)",
    "left": "10px",
    "top": "150px",
    "width": "279.398px"
   },
   "toc_section_display": true,
   "toc_window_display": false
  },
  "vscode": {
   "interpreter": {
    "hash": "31d5f40c92708642d0f3bc34ab68e4fadb7088bb7d3450dc76541d6856c7e7d6"
   }
  }
 },
 "nbformat": 4,
 "nbformat_minor": 5
}
