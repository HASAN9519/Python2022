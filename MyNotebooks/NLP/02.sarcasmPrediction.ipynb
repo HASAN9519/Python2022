{
 "cells": [
  {
   "cell_type": "markdown",
   "id": "d2b187da",
   "metadata": {
    "toc": true
   },
   "source": [
    "<h1>Table of Contents<span class=\"tocSkip\"></span></h1>\n",
    "<div class=\"toc\"><ul class=\"toc-item\"><li><span><a href=\"#basic-NLP\" data-toc-modified-id=\"basic-NLP-1\"><span class=\"toc-item-num\">1&nbsp;&nbsp;</span>basic NLP</a></span><ul class=\"toc-item\"><li><span><a href=\"#Tokenization\" data-toc-modified-id=\"Tokenization-1.1\"><span class=\"toc-item-num\">1.1&nbsp;&nbsp;</span>Tokenization</a></span></li><li><span><a href=\"#Filtering-stopwords\" data-toc-modified-id=\"Filtering-stopwords-1.2\"><span class=\"toc-item-num\">1.2&nbsp;&nbsp;</span>Filtering stopwords</a></span></li><li><span><a href=\"#Stemming-&amp;-Lemmatization\" data-toc-modified-id=\"Stemming-&amp;-Lemmatization-1.3\"><span class=\"toc-item-num\">1.3&nbsp;&nbsp;</span>Stemming &amp; Lemmatization</a></span></li><li><span><a href=\"#Feature-Extraction---BOW\" data-toc-modified-id=\"Feature-Extraction---BOW-1.4\"><span class=\"toc-item-num\">1.4&nbsp;&nbsp;</span>Feature Extraction - BOW</a></span></li><li><span><a href=\"#Feature-Extraction---TFIDF\" data-toc-modified-id=\"Feature-Extraction---TFIDF-1.5\"><span class=\"toc-item-num\">1.5&nbsp;&nbsp;</span>Feature Extraction - TFIDF</a></span></li></ul></li><li><span><a href=\"#sarcasmPrediction\" data-toc-modified-id=\"sarcasmPrediction-2\"><span class=\"toc-item-num\">2&nbsp;&nbsp;</span>sarcasmPrediction</a></span><ul class=\"toc-item\"><li><span><a href=\"#importing-librarys\" data-toc-modified-id=\"importing-librarys-2.1\"><span class=\"toc-item-num\">2.1&nbsp;&nbsp;</span>importing librarys</a></span></li><li><span><a href=\"#Tokenization\" data-toc-modified-id=\"Tokenization-2.2\"><span class=\"toc-item-num\">2.2&nbsp;&nbsp;</span>Tokenization</a></span></li><li><span><a href=\"#stopwords-filtering\" data-toc-modified-id=\"stopwords-filtering-2.3\"><span class=\"toc-item-num\">2.3&nbsp;&nbsp;</span>stopwords filtering</a></span></li><li><span><a href=\"#Lemmatization\" data-toc-modified-id=\"Lemmatization-2.4\"><span class=\"toc-item-num\">2.4&nbsp;&nbsp;</span>Lemmatization</a></span></li><li><span><a href=\"#Feature-Extraction\" data-toc-modified-id=\"Feature-Extraction-2.5\"><span class=\"toc-item-num\">2.5&nbsp;&nbsp;</span>Feature Extraction</a></span></li><li><span><a href=\"#PCA---Dimentionality-Reduction\" data-toc-modified-id=\"PCA---Dimentionality-Reduction-2.6\"><span class=\"toc-item-num\">2.6&nbsp;&nbsp;</span>PCA - Dimentionality Reduction</a></span></li><li><span><a href=\"#split-dataset\" data-toc-modified-id=\"split-dataset-2.7\"><span class=\"toc-item-num\">2.7&nbsp;&nbsp;</span>split dataset</a></span></li><li><span><a href=\"#Training-Classifier\" data-toc-modified-id=\"Training-Classifier-2.8\"><span class=\"toc-item-num\">2.8&nbsp;&nbsp;</span>Training Classifier</a></span></li><li><span><a href=\"#evaluate\" data-toc-modified-id=\"evaluate-2.9\"><span class=\"toc-item-num\">2.9&nbsp;&nbsp;</span>evaluate</a></span></li></ul></li></ul></div>"
   ]
  },
  {
   "cell_type": "markdown",
   "id": "e2218361",
   "metadata": {},
   "source": [
    "# basic NLP"
   ]
  },
  {
   "cell_type": "code",
   "execution_count": 3,
   "id": "0fd8e1e3",
   "metadata": {
    "ExecuteTime": {
     "end_time": "2023-01-16T09:56:06.353199Z",
     "start_time": "2023-01-16T09:56:06.342087Z"
    }
   },
   "outputs": [
    {
     "data": {
      "text/plain": [
       "'you can do this. don’t tell people your plans. show them your results. no pressure, no diamonds. try again. fail again. fail better.'"
      ]
     },
     "execution_count": 3,
     "metadata": {},
     "output_type": "execute_result"
    }
   ],
   "source": [
    "text = \"You can do this. Don’t tell people your plans. Show them your results. No pressure, no diamonds. Try Again. Fail again. Fail better.\"\n",
    "text = text.lower()\n",
    "text"
   ]
  },
  {
   "cell_type": "markdown",
   "id": "013ec068",
   "metadata": {},
   "source": [
    "## Tokenization"
   ]
  },
  {
   "cell_type": "code",
   "execution_count": 4,
   "id": "837257a6",
   "metadata": {
    "ExecuteTime": {
     "end_time": "2023-01-16T09:56:09.180121Z",
     "start_time": "2023-01-16T09:56:09.145917Z"
    }
   },
   "outputs": [
    {
     "data": {
      "text/plain": [
       "['you can do this.',\n",
       " 'don’t tell people your plans.',\n",
       " 'show them your results.',\n",
       " 'no pressure, no diamonds.',\n",
       " 'try again.',\n",
       " 'fail again.',\n",
       " 'fail better.']"
      ]
     },
     "execution_count": 4,
     "metadata": {},
     "output_type": "execute_result"
    }
   ],
   "source": [
    "from nltk.tokenize import sent_tokenize, word_tokenize\n",
    "sent_tokens = sent_tokenize(text)\n",
    "sent_tokens"
   ]
  },
  {
   "cell_type": "code",
   "execution_count": 5,
   "id": "d4925fc3",
   "metadata": {
    "ExecuteTime": {
     "end_time": "2023-01-16T09:56:15.119142Z",
     "start_time": "2023-01-16T09:56:15.099322Z"
    },
    "collapsed": true
   },
   "outputs": [
    {
     "data": {
      "text/plain": [
       "['you',\n",
       " 'can',\n",
       " 'do',\n",
       " 'this',\n",
       " '.',\n",
       " 'don',\n",
       " '’',\n",
       " 't',\n",
       " 'tell',\n",
       " 'people',\n",
       " 'your',\n",
       " 'plans',\n",
       " '.',\n",
       " 'show',\n",
       " 'them',\n",
       " 'your',\n",
       " 'results',\n",
       " '.',\n",
       " 'no',\n",
       " 'pressure',\n",
       " ',',\n",
       " 'no',\n",
       " 'diamonds',\n",
       " '.',\n",
       " 'try',\n",
       " 'again',\n",
       " '.',\n",
       " 'fail',\n",
       " 'again',\n",
       " '.',\n",
       " 'fail',\n",
       " 'better',\n",
       " '.']"
      ]
     },
     "execution_count": 5,
     "metadata": {},
     "output_type": "execute_result"
    }
   ],
   "source": [
    "word_tokens = word_tokenize(text)\n",
    "word_tokens"
   ]
  },
  {
   "cell_type": "markdown",
   "id": "f5631d70",
   "metadata": {},
   "source": [
    "## Filtering stopwords"
   ]
  },
  {
   "cell_type": "code",
   "execution_count": 6,
   "id": "b336e669",
   "metadata": {
    "ExecuteTime": {
     "end_time": "2023-01-16T09:56:22.837588Z",
     "start_time": "2023-01-16T09:56:22.285281Z"
    }
   },
   "outputs": [
    {
     "name": "stderr",
     "output_type": "stream",
     "text": [
      "[nltk_data] Downloading package stopwords to\n",
      "[nltk_data]     C:\\Users\\SHEHA\\AppData\\Roaming\\nltk_data...\n",
      "[nltk_data]   Package stopwords is already up-to-date!\n"
     ]
    },
    {
     "data": {
      "text/plain": [
       "True"
      ]
     },
     "execution_count": 6,
     "metadata": {},
     "output_type": "execute_result"
    }
   ],
   "source": [
    "import nltk\n",
    "nltk.download('stopwords')"
   ]
  },
  {
   "cell_type": "code",
   "execution_count": 7,
   "id": "0f1a30d1",
   "metadata": {
    "ExecuteTime": {
     "end_time": "2023-01-16T09:56:26.552594Z",
     "start_time": "2023-01-16T09:56:26.538611Z"
    }
   },
   "outputs": [
    {
     "data": {
      "text/plain": [
       "{'a',\n",
       " 'about',\n",
       " 'above',\n",
       " 'after',\n",
       " 'again',\n",
       " 'against',\n",
       " 'ain',\n",
       " 'all',\n",
       " 'am',\n",
       " 'an',\n",
       " 'and',\n",
       " 'any',\n",
       " 'are',\n",
       " 'aren',\n",
       " \"aren't\",\n",
       " 'as',\n",
       " 'at',\n",
       " 'be',\n",
       " 'because',\n",
       " 'been',\n",
       " 'before',\n",
       " 'being',\n",
       " 'below',\n",
       " 'between',\n",
       " 'both',\n",
       " 'but',\n",
       " 'by',\n",
       " 'can',\n",
       " 'couldn',\n",
       " \"couldn't\",\n",
       " 'd',\n",
       " 'did',\n",
       " 'didn',\n",
       " \"didn't\",\n",
       " 'do',\n",
       " 'does',\n",
       " 'doesn',\n",
       " \"doesn't\",\n",
       " 'doing',\n",
       " 'don',\n",
       " \"don't\",\n",
       " 'down',\n",
       " 'during',\n",
       " 'each',\n",
       " 'few',\n",
       " 'for',\n",
       " 'from',\n",
       " 'further',\n",
       " 'had',\n",
       " 'hadn',\n",
       " \"hadn't\",\n",
       " 'has',\n",
       " 'hasn',\n",
       " \"hasn't\",\n",
       " 'have',\n",
       " 'haven',\n",
       " \"haven't\",\n",
       " 'having',\n",
       " 'he',\n",
       " 'her',\n",
       " 'here',\n",
       " 'hers',\n",
       " 'herself',\n",
       " 'him',\n",
       " 'himself',\n",
       " 'his',\n",
       " 'how',\n",
       " 'i',\n",
       " 'if',\n",
       " 'in',\n",
       " 'into',\n",
       " 'is',\n",
       " 'isn',\n",
       " \"isn't\",\n",
       " 'it',\n",
       " \"it's\",\n",
       " 'its',\n",
       " 'itself',\n",
       " 'just',\n",
       " 'll',\n",
       " 'm',\n",
       " 'ma',\n",
       " 'me',\n",
       " 'mightn',\n",
       " \"mightn't\",\n",
       " 'more',\n",
       " 'most',\n",
       " 'mustn',\n",
       " \"mustn't\",\n",
       " 'my',\n",
       " 'myself',\n",
       " 'needn',\n",
       " \"needn't\",\n",
       " 'no',\n",
       " 'nor',\n",
       " 'not',\n",
       " 'now',\n",
       " 'o',\n",
       " 'of',\n",
       " 'off',\n",
       " 'on',\n",
       " 'once',\n",
       " 'only',\n",
       " 'or',\n",
       " 'other',\n",
       " 'our',\n",
       " 'ours',\n",
       " 'ourselves',\n",
       " 'out',\n",
       " 'over',\n",
       " 'own',\n",
       " 're',\n",
       " 's',\n",
       " 'same',\n",
       " 'shan',\n",
       " \"shan't\",\n",
       " 'she',\n",
       " \"she's\",\n",
       " 'should',\n",
       " \"should've\",\n",
       " 'shouldn',\n",
       " \"shouldn't\",\n",
       " 'so',\n",
       " 'some',\n",
       " 'such',\n",
       " 't',\n",
       " 'than',\n",
       " 'that',\n",
       " \"that'll\",\n",
       " 'the',\n",
       " 'their',\n",
       " 'theirs',\n",
       " 'them',\n",
       " 'themselves',\n",
       " 'then',\n",
       " 'there',\n",
       " 'these',\n",
       " 'they',\n",
       " 'this',\n",
       " 'those',\n",
       " 'through',\n",
       " 'to',\n",
       " 'too',\n",
       " 'under',\n",
       " 'until',\n",
       " 'up',\n",
       " 've',\n",
       " 'very',\n",
       " 'was',\n",
       " 'wasn',\n",
       " \"wasn't\",\n",
       " 'we',\n",
       " 'were',\n",
       " 'weren',\n",
       " \"weren't\",\n",
       " 'what',\n",
       " 'when',\n",
       " 'where',\n",
       " 'which',\n",
       " 'while',\n",
       " 'who',\n",
       " 'whom',\n",
       " 'why',\n",
       " 'will',\n",
       " 'with',\n",
       " 'won',\n",
       " \"won't\",\n",
       " 'wouldn',\n",
       " \"wouldn't\",\n",
       " 'y',\n",
       " 'you',\n",
       " \"you'd\",\n",
       " \"you'll\",\n",
       " \"you're\",\n",
       " \"you've\",\n",
       " 'your',\n",
       " 'yours',\n",
       " 'yourself',\n",
       " 'yourselves'}"
      ]
     },
     "execution_count": 7,
     "metadata": {},
     "output_type": "execute_result"
    }
   ],
   "source": [
    "from nltk.corpus import stopwords\n",
    "stop_words = set(stopwords.words('english'))\n",
    "stop_words"
   ]
  },
  {
   "cell_type": "code",
   "execution_count": 8,
   "id": "b9f1a1c1",
   "metadata": {
    "ExecuteTime": {
     "end_time": "2023-01-16T09:58:15.960132Z",
     "start_time": "2023-01-16T09:58:15.940796Z"
    }
   },
   "outputs": [
    {
     "data": {
      "text/plain": [
       "['tell',\n",
       " 'people',\n",
       " 'plans',\n",
       " 'show',\n",
       " 'results',\n",
       " 'pressure',\n",
       " 'diamonds',\n",
       " 'try',\n",
       " 'fail',\n",
       " 'fail',\n",
       " 'better']"
      ]
     },
     "execution_count": 8,
     "metadata": {},
     "output_type": "execute_result"
    }
   ],
   "source": [
    "filtered_word_token = [word for word in word_tokens if word.casefold() not in stop_words and word not in ['.', ',', '’']]\n",
    "filtered_word_token"
   ]
  },
  {
   "cell_type": "code",
   "execution_count": 9,
   "id": "8a422964",
   "metadata": {
    "ExecuteTime": {
     "end_time": "2023-01-16T09:58:50.702977Z",
     "start_time": "2023-01-16T09:58:50.682970Z"
    }
   },
   "outputs": [
    {
     "data": {
      "text/plain": [
       "[[],\n",
       " ['tell', 'people', 'plans'],\n",
       " ['show', 'results'],\n",
       " ['pressure', 'diamonds'],\n",
       " ['try'],\n",
       " ['fail'],\n",
       " ['fail', 'better']]"
      ]
     },
     "execution_count": 9,
     "metadata": {},
     "output_type": "execute_result"
    }
   ],
   "source": [
    "filtered_sent_token = [[word for word in word_tokenize(sentence) if word.casefold() not in \n",
    "        stop_words and word not in ['.', ',', '’']] for sentence in sent_tokens]\n",
    "filtered_sent_token"
   ]
  },
  {
   "cell_type": "markdown",
   "id": "8794bd4d",
   "metadata": {},
   "source": [
    "## Stemming & Lemmatization"
   ]
  },
  {
   "cell_type": "code",
   "execution_count": 10,
   "id": "9f09add3",
   "metadata": {
    "ExecuteTime": {
     "end_time": "2023-01-16T09:59:14.523630Z",
     "start_time": "2023-01-16T09:59:12.387767Z"
    }
   },
   "outputs": [
    {
     "name": "stderr",
     "output_type": "stream",
     "text": [
      "[nltk_data] Downloading package wordnet to\n",
      "[nltk_data]     C:\\Users\\SHEHA\\AppData\\Roaming\\nltk_data...\n",
      "[nltk_data]   Package wordnet is already up-to-date!\n",
      "[nltk_data] Downloading package omw-1.4 to\n",
      "[nltk_data]     C:\\Users\\SHEHA\\AppData\\Roaming\\nltk_data...\n"
     ]
    },
    {
     "data": {
      "text/plain": [
       "True"
      ]
     },
     "execution_count": 10,
     "metadata": {},
     "output_type": "execute_result"
    }
   ],
   "source": [
    "nltk.download('wordnet')\n",
    "nltk.download('omw-1.4')"
   ]
  },
  {
   "cell_type": "code",
   "execution_count": 11,
   "id": "49140e96",
   "metadata": {
    "ExecuteTime": {
     "end_time": "2023-01-16T09:59:18.842681Z",
     "start_time": "2023-01-16T09:59:18.824620Z"
    }
   },
   "outputs": [],
   "source": [
    "from nltk.stem import PorterStemmer, WordNetLemmatizer\n",
    "stemmer = PorterStemmer()\n",
    "lemmatimzer = WordNetLemmatizer()"
   ]
  },
  {
   "cell_type": "code",
   "execution_count": 12,
   "id": "fd532cae",
   "metadata": {
    "ExecuteTime": {
     "end_time": "2023-01-16T09:59:20.711528Z",
     "start_time": "2023-01-16T09:59:20.693201Z"
    }
   },
   "outputs": [
    {
     "data": {
      "text/plain": [
       "['tell',\n",
       " 'peopl',\n",
       " 'plan',\n",
       " 'show',\n",
       " 'result',\n",
       " 'pressur',\n",
       " 'diamond',\n",
       " 'tri',\n",
       " 'fail',\n",
       " 'fail',\n",
       " 'better']"
      ]
     },
     "execution_count": 12,
     "metadata": {},
     "output_type": "execute_result"
    }
   ],
   "source": [
    "stemmed_word_token = [stemmer.stem(word) for word in filtered_word_token]\n",
    "stemmed_word_token"
   ]
  },
  {
   "cell_type": "code",
   "execution_count": 13,
   "id": "7b86209f",
   "metadata": {
    "ExecuteTime": {
     "end_time": "2023-01-16T09:59:24.456568Z",
     "start_time": "2023-01-16T09:59:23.414078Z"
    }
   },
   "outputs": [
    {
     "data": {
      "text/plain": [
       "['tell',\n",
       " 'people',\n",
       " 'plan',\n",
       " 'show',\n",
       " 'result',\n",
       " 'pressure',\n",
       " 'diamond',\n",
       " 'try',\n",
       " 'fail',\n",
       " 'fail',\n",
       " 'better']"
      ]
     },
     "execution_count": 13,
     "metadata": {},
     "output_type": "execute_result"
    }
   ],
   "source": [
    "lemmatized_word_token = [lemmatimzer.lemmatize(word) for word in filtered_word_token]\n",
    "lemmatized_word_token"
   ]
  },
  {
   "cell_type": "code",
   "execution_count": 14,
   "id": "c586f13b",
   "metadata": {
    "ExecuteTime": {
     "end_time": "2023-01-16T09:59:26.151044Z",
     "start_time": "2023-01-16T09:59:26.137042Z"
    }
   },
   "outputs": [
    {
     "data": {
      "text/plain": [
       "[[],\n",
       " ['tell', 'people', 'plan'],\n",
       " ['show', 'result'],\n",
       " ['pressure', 'diamond'],\n",
       " ['try'],\n",
       " ['fail'],\n",
       " ['fail', 'better']]"
      ]
     },
     "execution_count": 14,
     "metadata": {},
     "output_type": "execute_result"
    }
   ],
   "source": [
    "lemmatized_sent_tokens = [[lemmatimzer.lemmatize(word) for word in sentence] for sentence in filtered_sent_token]\n",
    "lemmatized_sent_tokens"
   ]
  },
  {
   "cell_type": "markdown",
   "id": "2141ca0b",
   "metadata": {},
   "source": [
    "## Feature Extraction - BOW"
   ]
  },
  {
   "cell_type": "code",
   "execution_count": 15,
   "id": "9f4be741",
   "metadata": {
    "ExecuteTime": {
     "end_time": "2023-01-16T09:59:28.587977Z",
     "start_time": "2023-01-16T09:59:28.580974Z"
    }
   },
   "outputs": [
    {
     "data": {
      "text/plain": [
       "['',\n",
       " 'tell people plan',\n",
       " 'show result',\n",
       " 'pressure diamond',\n",
       " 'try',\n",
       " 'fail',\n",
       " 'fail better']"
      ]
     },
     "execution_count": 15,
     "metadata": {},
     "output_type": "execute_result"
    }
   ],
   "source": [
    "lemmatized_sent_tokens = [' '.join([lemmatimzer.lemmatize(word) for word in sentence]) for sentence in filtered_sent_token]\n",
    "lemmatized_sent_tokens"
   ]
  },
  {
   "cell_type": "code",
   "execution_count": 16,
   "id": "114a53ea",
   "metadata": {
    "ExecuteTime": {
     "end_time": "2023-01-16T09:59:34.260123Z",
     "start_time": "2023-01-16T09:59:34.251115Z"
    }
   },
   "outputs": [
    {
     "data": {
      "text/plain": [
       "array([[0, 0, 0, 0, 0, 0, 0, 0, 0, 0],\n",
       "       [0, 0, 0, 1, 1, 0, 0, 0, 1, 0],\n",
       "       [0, 0, 0, 0, 0, 0, 1, 1, 0, 0],\n",
       "       [0, 1, 0, 0, 0, 1, 0, 0, 0, 0],\n",
       "       [0, 0, 0, 0, 0, 0, 0, 0, 0, 1],\n",
       "       [0, 0, 1, 0, 0, 0, 0, 0, 0, 0],\n",
       "       [1, 0, 1, 0, 0, 0, 0, 0, 0, 0]], dtype=int64)"
      ]
     },
     "execution_count": 16,
     "metadata": {},
     "output_type": "execute_result"
    }
   ],
   "source": [
    "from sklearn.feature_extraction.text import CountVectorizer\n",
    "vectorizer = CountVectorizer()\n",
    "vectorizer.fit_transform(lemmatized_sent_tokens).toarray()"
   ]
  },
  {
   "cell_type": "markdown",
   "id": "380524ec",
   "metadata": {},
   "source": [
    "## Feature Extraction - TFIDF"
   ]
  },
  {
   "cell_type": "code",
   "execution_count": 17,
   "id": "c1e22eab",
   "metadata": {
    "ExecuteTime": {
     "end_time": "2023-01-16T09:59:37.680468Z",
     "start_time": "2023-01-16T09:59:37.664414Z"
    }
   },
   "outputs": [
    {
     "data": {
      "text/plain": [
       "array([[0.        , 0.        , 0.        , 0.        , 0.        ,\n",
       "        0.        , 0.        , 0.        , 0.        , 0.        ],\n",
       "       [0.        , 0.        , 0.        , 0.57735027, 0.57735027,\n",
       "        0.        , 0.        , 0.        , 0.57735027, 0.        ],\n",
       "       [0.        , 0.        , 0.        , 0.        , 0.        ,\n",
       "        0.        , 0.70710678, 0.70710678, 0.        , 0.        ],\n",
       "       [0.        , 0.70710678, 0.        , 0.        , 0.        ,\n",
       "        0.70710678, 0.        , 0.        , 0.        , 0.        ],\n",
       "       [0.        , 0.        , 0.        , 0.        , 0.        ,\n",
       "        0.        , 0.        , 0.        , 0.        , 1.        ],\n",
       "       [0.        , 0.        , 1.        , 0.        , 0.        ,\n",
       "        0.        , 0.        , 0.        , 0.        , 0.        ],\n",
       "       [0.76944876, 0.        , 0.63870855, 0.        , 0.        ,\n",
       "        0.        , 0.        , 0.        , 0.        , 0.        ]])"
      ]
     },
     "execution_count": 17,
     "metadata": {},
     "output_type": "execute_result"
    }
   ],
   "source": [
    "from sklearn.feature_extraction.text import TfidfVectorizer\n",
    "tfidf = TfidfVectorizer()\n",
    "tfidf.fit_transform(lemmatized_sent_tokens).toarray()"
   ]
  },
  {
   "cell_type": "markdown",
   "id": "390609fc",
   "metadata": {},
   "source": [
    "# sarcasmPrediction"
   ]
  },
  {
   "cell_type": "markdown",
   "id": "75260838",
   "metadata": {},
   "source": [
    "## importing librarys"
   ]
  },
  {
   "cell_type": "code",
   "execution_count": 18,
   "id": "06adaa61",
   "metadata": {
    "ExecuteTime": {
     "end_time": "2023-01-16T10:16:33.189269Z",
     "start_time": "2023-01-16T10:16:13.437237Z"
    }
   },
   "outputs": [],
   "source": [
    "import numpy as np\n",
    "import pandas as pd\n",
    "import seaborn as sns\n",
    "import matplotlib.pyplot as plt\n",
    "%matplotlib inline"
   ]
  },
  {
   "cell_type": "code",
   "execution_count": 25,
   "id": "05108f47",
   "metadata": {
    "ExecuteTime": {
     "end_time": "2023-01-16T10:21:07.241897Z",
     "start_time": "2023-01-16T10:21:07.169262Z"
    }
   },
   "outputs": [
    {
     "data": {
      "text/html": [
       "<div>\n",
       "<style scoped>\n",
       "    .dataframe tbody tr th:only-of-type {\n",
       "        vertical-align: middle;\n",
       "    }\n",
       "\n",
       "    .dataframe tbody tr th {\n",
       "        vertical-align: top;\n",
       "    }\n",
       "\n",
       "    .dataframe thead th {\n",
       "        text-align: right;\n",
       "    }\n",
       "</style>\n",
       "<table border=\"1\" class=\"dataframe\">\n",
       "  <thead>\n",
       "    <tr style=\"text-align: right;\">\n",
       "      <th></th>\n",
       "      <th>is_sarcastic</th>\n",
       "      <th>headline</th>\n",
       "    </tr>\n",
       "  </thead>\n",
       "  <tbody>\n",
       "    <tr>\n",
       "      <th>0</th>\n",
       "      <td>1</td>\n",
       "      <td>thirtysomething scientists unveil doomsday clo...</td>\n",
       "    </tr>\n",
       "    <tr>\n",
       "      <th>1</th>\n",
       "      <td>0</td>\n",
       "      <td>dem rep. totally nails why congress is falling...</td>\n",
       "    </tr>\n",
       "    <tr>\n",
       "      <th>2</th>\n",
       "      <td>0</td>\n",
       "      <td>eat your veggies: 9 deliciously different recipes</td>\n",
       "    </tr>\n",
       "    <tr>\n",
       "      <th>3</th>\n",
       "      <td>1</td>\n",
       "      <td>inclement weather prevents liar from getting t...</td>\n",
       "    </tr>\n",
       "    <tr>\n",
       "      <th>4</th>\n",
       "      <td>1</td>\n",
       "      <td>mother comes pretty close to using word 'strea...</td>\n",
       "    </tr>\n",
       "  </tbody>\n",
       "</table>\n",
       "</div>"
      ],
      "text/plain": [
       "   is_sarcastic                                           headline\n",
       "0             1  thirtysomething scientists unveil doomsday clo...\n",
       "1             0  dem rep. totally nails why congress is falling...\n",
       "2             0  eat your veggies: 9 deliciously different recipes\n",
       "3             1  inclement weather prevents liar from getting t...\n",
       "4             1  mother comes pretty close to using word 'strea..."
      ]
     },
     "execution_count": 25,
     "metadata": {},
     "output_type": "execute_result"
    }
   ],
   "source": [
    "data = pd.read_csv('Datafiles/sarcasm.csv')\n",
    "data.drop(columns=['Unnamed: 0','article_link'], inplace=True)\n",
    "data.head()"
   ]
  },
  {
   "cell_type": "code",
   "execution_count": 26,
   "id": "9ab6917a",
   "metadata": {
    "ExecuteTime": {
     "end_time": "2023-01-16T10:21:08.966214Z",
     "start_time": "2023-01-16T10:21:08.951242Z"
    }
   },
   "outputs": [],
   "source": [
    "df = data.copy()"
   ]
  },
  {
   "cell_type": "markdown",
   "id": "bb107aff",
   "metadata": {},
   "source": [
    "## Tokenization"
   ]
  },
  {
   "cell_type": "code",
   "execution_count": 27,
   "id": "f9b6b4d9",
   "metadata": {
    "ExecuteTime": {
     "end_time": "2023-01-16T10:21:13.192552Z",
     "start_time": "2023-01-16T10:21:13.184540Z"
    }
   },
   "outputs": [
    {
     "data": {
      "text/plain": [
       "(28619, 2)"
      ]
     },
     "execution_count": 27,
     "metadata": {},
     "output_type": "execute_result"
    }
   ],
   "source": [
    "df.shape"
   ]
  },
  {
   "cell_type": "code",
   "execution_count": 28,
   "id": "0e4c434e",
   "metadata": {
    "ExecuteTime": {
     "end_time": "2023-01-16T10:21:14.569428Z",
     "start_time": "2023-01-16T10:21:14.549430Z"
    }
   },
   "outputs": [
    {
     "name": "stdout",
     "output_type": "stream",
     "text": [
      "<class 'pandas.core.frame.DataFrame'>\n",
      "RangeIndex: 28619 entries, 0 to 28618\n",
      "Data columns (total 2 columns):\n",
      " #   Column        Non-Null Count  Dtype \n",
      "---  ------        --------------  ----- \n",
      " 0   is_sarcastic  28619 non-null  int64 \n",
      " 1   headline      28619 non-null  object\n",
      "dtypes: int64(1), object(1)\n",
      "memory usage: 447.3+ KB\n"
     ]
    }
   ],
   "source": [
    "df.info()"
   ]
  },
  {
   "cell_type": "code",
   "execution_count": 29,
   "id": "d48bfed2",
   "metadata": {
    "ExecuteTime": {
     "end_time": "2023-01-16T10:21:24.709137Z",
     "start_time": "2023-01-16T10:21:24.697136Z"
    }
   },
   "outputs": [],
   "source": [
    "from nltk.tokenize import sent_tokenize, word_tokenize\n",
    "headlines = df.headline.apply(lambda row: row.lower())\n",
    "is_sarcastic = df.is_sarcastic"
   ]
  },
  {
   "cell_type": "code",
   "execution_count": 30,
   "id": "69ed4125",
   "metadata": {
    "ExecuteTime": {
     "end_time": "2023-01-16T10:21:49.175079Z",
     "start_time": "2023-01-16T10:21:47.575751Z"
    }
   },
   "outputs": [
    {
     "data": {
      "text/plain": [
       "['thirtysomething',\n",
       " 'scientists',\n",
       " 'unveil',\n",
       " 'doomsday',\n",
       " 'clock',\n",
       " 'of',\n",
       " 'hair',\n",
       " 'loss']"
      ]
     },
     "execution_count": 30,
     "metadata": {},
     "output_type": "execute_result"
    }
   ],
   "source": [
    "tokenized_headlines = headlines.apply(word_tokenize)\n",
    "tokenized_headlines.iloc[0]"
   ]
  },
  {
   "cell_type": "markdown",
   "id": "cea77003",
   "metadata": {},
   "source": [
    "## stopwords filtering"
   ]
  },
  {
   "cell_type": "code",
   "execution_count": 31,
   "id": "418b71d8",
   "metadata": {
    "ExecuteTime": {
     "end_time": "2023-01-16T10:22:34.212105Z",
     "start_time": "2023-01-16T10:22:34.204105Z"
    }
   },
   "outputs": [
    {
     "name": "stderr",
     "output_type": "stream",
     "text": [
      "[nltk_data] Downloading package stopwords to\n",
      "[nltk_data]     C:\\Users\\SHEHA\\AppData\\Roaming\\nltk_data...\n",
      "[nltk_data]   Package stopwords is already up-to-date!\n"
     ]
    }
   ],
   "source": [
    "import nltk\n",
    "nltk.download('stopwords')\n",
    "\n",
    "from nltk.corpus import stopwords\n",
    "stop_words = stopwords.words('english')"
   ]
  },
  {
   "cell_type": "code",
   "execution_count": 32,
   "id": "8d8e2633",
   "metadata": {
    "ExecuteTime": {
     "end_time": "2023-01-16T10:23:30.706551Z",
     "start_time": "2023-01-16T10:23:30.691574Z"
    }
   },
   "outputs": [],
   "source": [
    "# casefold() makes string lower case\n",
    "def remove_stopwords(sentence: list) -> list:\n",
    "    return [word for word in sentence if (word.casefold() not in stop_words) and word.isalpha()]"
   ]
  },
  {
   "cell_type": "code",
   "execution_count": 33,
   "id": "9835065d",
   "metadata": {
    "ExecuteTime": {
     "end_time": "2023-01-16T10:23:31.968984Z",
     "start_time": "2023-01-16T10:23:31.641531Z"
    }
   },
   "outputs": [
    {
     "data": {
      "text/plain": [
       "0        [thirtysomething, scientists, unveil, doomsday...\n",
       "1        [dem, totally, nails, congress, falling, short...\n",
       "2          [eat, veggies, deliciously, different, recipes]\n",
       "3        [inclement, weather, prevents, liar, getting, ...\n",
       "4        [mother, comes, pretty, close, using, word, co...\n",
       "                               ...                        \n",
       "28614         [jews, celebrate, rosh, hashasha, something]\n",
       "28615    [internal, affairs, investigator, disappointed...\n",
       "28616    [beautiful, acceptance, speech, week, came, qu...\n",
       "28617    [mars, probe, destroyed, orbiting, space, palace]\n",
       "28618                         [dad, clarifies, food, stop]\n",
       "Length: 28619, dtype: object"
      ]
     },
     "execution_count": 33,
     "metadata": {},
     "output_type": "execute_result"
    }
   ],
   "source": [
    "filtered_tokens = pd.Series(map(remove_stopwords, tokenized_headlines))\n",
    "filtered_tokens"
   ]
  },
  {
   "cell_type": "markdown",
   "id": "22dec0ca",
   "metadata": {},
   "source": [
    "## Lemmatization"
   ]
  },
  {
   "cell_type": "code",
   "execution_count": 34,
   "id": "03280464",
   "metadata": {
    "ExecuteTime": {
     "end_time": "2023-01-16T10:24:11.114260Z",
     "start_time": "2023-01-16T10:24:11.053075Z"
    }
   },
   "outputs": [
    {
     "name": "stderr",
     "output_type": "stream",
     "text": [
      "[nltk_data] Downloading package wordnet to\n",
      "[nltk_data]     C:\\Users\\SHEHA\\AppData\\Roaming\\nltk_data...\n",
      "[nltk_data]   Package wordnet is already up-to-date!\n",
      "[nltk_data] Downloading package omw-1.4 to\n",
      "[nltk_data]     C:\\Users\\SHEHA\\AppData\\Roaming\\nltk_data...\n",
      "[nltk_data]   Package omw-1.4 is already up-to-date!\n"
     ]
    },
    {
     "data": {
      "text/plain": [
       "True"
      ]
     },
     "execution_count": 34,
     "metadata": {},
     "output_type": "execute_result"
    }
   ],
   "source": [
    "nltk.download('wordnet')\n",
    "nltk.download('omw-1.4')"
   ]
  },
  {
   "cell_type": "code",
   "execution_count": 35,
   "id": "4eebf812",
   "metadata": {
    "ExecuteTime": {
     "end_time": "2023-01-16T10:24:28.151776Z",
     "start_time": "2023-01-16T10:24:28.138774Z"
    }
   },
   "outputs": [],
   "source": [
    "lemmatizer = WordNetLemmatizer()\n",
    "def lemmatize(sentence: list) -> list:\n",
    "    return ' '.join(map(lambda word: lemmatizer.lemmatize(word), sentence))"
   ]
  },
  {
   "cell_type": "code",
   "execution_count": 36,
   "id": "0e7b09fa",
   "metadata": {
    "ExecuteTime": {
     "end_time": "2023-01-16T10:24:40.893409Z",
     "start_time": "2023-01-16T10:24:40.495643Z"
    }
   },
   "outputs": [
    {
     "data": {
      "text/plain": [
       "0        thirtysomething scientist unveil doomsday cloc...\n",
       "1        dem totally nail congress falling short gender...\n",
       "2                  eat veggie deliciously different recipe\n",
       "3             inclement weather prevents liar getting work\n",
       "4            mother come pretty close using word correctly\n",
       "                               ...                        \n",
       "28614                jew celebrate rosh hashasha something\n",
       "28615    internal affair investigator disappointed cons...\n",
       "28616    beautiful acceptance speech week came queer ko...\n",
       "28617            mar probe destroyed orbiting space palace\n",
       "28618                              dad clarifies food stop\n",
       "Length: 28619, dtype: object"
      ]
     },
     "execution_count": 36,
     "metadata": {},
     "output_type": "execute_result"
    }
   ],
   "source": [
    "lemmatized_tokens = filtered_tokens.apply(lemmatize)\n",
    "lemmatized_tokens"
   ]
  },
  {
   "cell_type": "markdown",
   "id": "df56da5b",
   "metadata": {
    "ExecuteTime": {
     "end_time": "2023-01-16T10:25:02.918765Z",
     "start_time": "2023-01-16T10:25:02.911746Z"
    }
   },
   "source": [
    "## Feature Extraction"
   ]
  },
  {
   "cell_type": "code",
   "execution_count": 38,
   "id": "d5fe2151",
   "metadata": {
    "ExecuteTime": {
     "end_time": "2023-01-16T10:28:53.116715Z",
     "start_time": "2023-01-16T10:28:45.789910Z"
    }
   },
   "outputs": [
    {
     "data": {
      "text/html": [
       "<div>\n",
       "<style scoped>\n",
       "    .dataframe tbody tr th:only-of-type {\n",
       "        vertical-align: middle;\n",
       "    }\n",
       "\n",
       "    .dataframe tbody tr th {\n",
       "        vertical-align: top;\n",
       "    }\n",
       "\n",
       "    .dataframe thead th {\n",
       "        text-align: right;\n",
       "    }\n",
       "</style>\n",
       "<table border=\"1\" class=\"dataframe\">\n",
       "  <thead>\n",
       "    <tr style=\"text-align: right;\">\n",
       "      <th></th>\n",
       "      <th>0</th>\n",
       "      <th>1</th>\n",
       "      <th>2</th>\n",
       "      <th>3</th>\n",
       "      <th>4</th>\n",
       "      <th>5</th>\n",
       "      <th>6</th>\n",
       "      <th>7</th>\n",
       "      <th>8</th>\n",
       "      <th>9</th>\n",
       "      <th>...</th>\n",
       "      <th>21773</th>\n",
       "      <th>21774</th>\n",
       "      <th>21775</th>\n",
       "      <th>21776</th>\n",
       "      <th>21777</th>\n",
       "      <th>21778</th>\n",
       "      <th>21779</th>\n",
       "      <th>21780</th>\n",
       "      <th>21781</th>\n",
       "      <th>21782</th>\n",
       "    </tr>\n",
       "  </thead>\n",
       "  <tbody>\n",
       "    <tr>\n",
       "      <th>0</th>\n",
       "      <td>0.0</td>\n",
       "      <td>0.0</td>\n",
       "      <td>0.0</td>\n",
       "      <td>0.0</td>\n",
       "      <td>0.0</td>\n",
       "      <td>0.0</td>\n",
       "      <td>0.0</td>\n",
       "      <td>0.0</td>\n",
       "      <td>0.0</td>\n",
       "      <td>0.0</td>\n",
       "      <td>...</td>\n",
       "      <td>0.0</td>\n",
       "      <td>0.0</td>\n",
       "      <td>0.0</td>\n",
       "      <td>0.0</td>\n",
       "      <td>0.0</td>\n",
       "      <td>0.0</td>\n",
       "      <td>0.0</td>\n",
       "      <td>0.0</td>\n",
       "      <td>0.0</td>\n",
       "      <td>0.0</td>\n",
       "    </tr>\n",
       "    <tr>\n",
       "      <th>1</th>\n",
       "      <td>0.0</td>\n",
       "      <td>0.0</td>\n",
       "      <td>0.0</td>\n",
       "      <td>0.0</td>\n",
       "      <td>0.0</td>\n",
       "      <td>0.0</td>\n",
       "      <td>0.0</td>\n",
       "      <td>0.0</td>\n",
       "      <td>0.0</td>\n",
       "      <td>0.0</td>\n",
       "      <td>...</td>\n",
       "      <td>0.0</td>\n",
       "      <td>0.0</td>\n",
       "      <td>0.0</td>\n",
       "      <td>0.0</td>\n",
       "      <td>0.0</td>\n",
       "      <td>0.0</td>\n",
       "      <td>0.0</td>\n",
       "      <td>0.0</td>\n",
       "      <td>0.0</td>\n",
       "      <td>0.0</td>\n",
       "    </tr>\n",
       "    <tr>\n",
       "      <th>2</th>\n",
       "      <td>0.0</td>\n",
       "      <td>0.0</td>\n",
       "      <td>0.0</td>\n",
       "      <td>0.0</td>\n",
       "      <td>0.0</td>\n",
       "      <td>0.0</td>\n",
       "      <td>0.0</td>\n",
       "      <td>0.0</td>\n",
       "      <td>0.0</td>\n",
       "      <td>0.0</td>\n",
       "      <td>...</td>\n",
       "      <td>0.0</td>\n",
       "      <td>0.0</td>\n",
       "      <td>0.0</td>\n",
       "      <td>0.0</td>\n",
       "      <td>0.0</td>\n",
       "      <td>0.0</td>\n",
       "      <td>0.0</td>\n",
       "      <td>0.0</td>\n",
       "      <td>0.0</td>\n",
       "      <td>0.0</td>\n",
       "    </tr>\n",
       "    <tr>\n",
       "      <th>3</th>\n",
       "      <td>0.0</td>\n",
       "      <td>0.0</td>\n",
       "      <td>0.0</td>\n",
       "      <td>0.0</td>\n",
       "      <td>0.0</td>\n",
       "      <td>0.0</td>\n",
       "      <td>0.0</td>\n",
       "      <td>0.0</td>\n",
       "      <td>0.0</td>\n",
       "      <td>0.0</td>\n",
       "      <td>...</td>\n",
       "      <td>0.0</td>\n",
       "      <td>0.0</td>\n",
       "      <td>0.0</td>\n",
       "      <td>0.0</td>\n",
       "      <td>0.0</td>\n",
       "      <td>0.0</td>\n",
       "      <td>0.0</td>\n",
       "      <td>0.0</td>\n",
       "      <td>0.0</td>\n",
       "      <td>0.0</td>\n",
       "    </tr>\n",
       "    <tr>\n",
       "      <th>4</th>\n",
       "      <td>0.0</td>\n",
       "      <td>0.0</td>\n",
       "      <td>0.0</td>\n",
       "      <td>0.0</td>\n",
       "      <td>0.0</td>\n",
       "      <td>0.0</td>\n",
       "      <td>0.0</td>\n",
       "      <td>0.0</td>\n",
       "      <td>0.0</td>\n",
       "      <td>0.0</td>\n",
       "      <td>...</td>\n",
       "      <td>0.0</td>\n",
       "      <td>0.0</td>\n",
       "      <td>0.0</td>\n",
       "      <td>0.0</td>\n",
       "      <td>0.0</td>\n",
       "      <td>0.0</td>\n",
       "      <td>0.0</td>\n",
       "      <td>0.0</td>\n",
       "      <td>0.0</td>\n",
       "      <td>0.0</td>\n",
       "    </tr>\n",
       "    <tr>\n",
       "      <th>...</th>\n",
       "      <td>...</td>\n",
       "      <td>...</td>\n",
       "      <td>...</td>\n",
       "      <td>...</td>\n",
       "      <td>...</td>\n",
       "      <td>...</td>\n",
       "      <td>...</td>\n",
       "      <td>...</td>\n",
       "      <td>...</td>\n",
       "      <td>...</td>\n",
       "      <td>...</td>\n",
       "      <td>...</td>\n",
       "      <td>...</td>\n",
       "      <td>...</td>\n",
       "      <td>...</td>\n",
       "      <td>...</td>\n",
       "      <td>...</td>\n",
       "      <td>...</td>\n",
       "      <td>...</td>\n",
       "      <td>...</td>\n",
       "      <td>...</td>\n",
       "    </tr>\n",
       "    <tr>\n",
       "      <th>28614</th>\n",
       "      <td>0.0</td>\n",
       "      <td>0.0</td>\n",
       "      <td>0.0</td>\n",
       "      <td>0.0</td>\n",
       "      <td>0.0</td>\n",
       "      <td>0.0</td>\n",
       "      <td>0.0</td>\n",
       "      <td>0.0</td>\n",
       "      <td>0.0</td>\n",
       "      <td>0.0</td>\n",
       "      <td>...</td>\n",
       "      <td>0.0</td>\n",
       "      <td>0.0</td>\n",
       "      <td>0.0</td>\n",
       "      <td>0.0</td>\n",
       "      <td>0.0</td>\n",
       "      <td>0.0</td>\n",
       "      <td>0.0</td>\n",
       "      <td>0.0</td>\n",
       "      <td>0.0</td>\n",
       "      <td>0.0</td>\n",
       "    </tr>\n",
       "    <tr>\n",
       "      <th>28615</th>\n",
       "      <td>0.0</td>\n",
       "      <td>0.0</td>\n",
       "      <td>0.0</td>\n",
       "      <td>0.0</td>\n",
       "      <td>0.0</td>\n",
       "      <td>0.0</td>\n",
       "      <td>0.0</td>\n",
       "      <td>0.0</td>\n",
       "      <td>0.0</td>\n",
       "      <td>0.0</td>\n",
       "      <td>...</td>\n",
       "      <td>0.0</td>\n",
       "      <td>0.0</td>\n",
       "      <td>0.0</td>\n",
       "      <td>0.0</td>\n",
       "      <td>0.0</td>\n",
       "      <td>0.0</td>\n",
       "      <td>0.0</td>\n",
       "      <td>0.0</td>\n",
       "      <td>0.0</td>\n",
       "      <td>0.0</td>\n",
       "    </tr>\n",
       "    <tr>\n",
       "      <th>28616</th>\n",
       "      <td>0.0</td>\n",
       "      <td>0.0</td>\n",
       "      <td>0.0</td>\n",
       "      <td>0.0</td>\n",
       "      <td>0.0</td>\n",
       "      <td>0.0</td>\n",
       "      <td>0.0</td>\n",
       "      <td>0.0</td>\n",
       "      <td>0.0</td>\n",
       "      <td>0.0</td>\n",
       "      <td>...</td>\n",
       "      <td>0.0</td>\n",
       "      <td>0.0</td>\n",
       "      <td>0.0</td>\n",
       "      <td>0.0</td>\n",
       "      <td>0.0</td>\n",
       "      <td>0.0</td>\n",
       "      <td>0.0</td>\n",
       "      <td>0.0</td>\n",
       "      <td>0.0</td>\n",
       "      <td>0.0</td>\n",
       "    </tr>\n",
       "    <tr>\n",
       "      <th>28617</th>\n",
       "      <td>0.0</td>\n",
       "      <td>0.0</td>\n",
       "      <td>0.0</td>\n",
       "      <td>0.0</td>\n",
       "      <td>0.0</td>\n",
       "      <td>0.0</td>\n",
       "      <td>0.0</td>\n",
       "      <td>0.0</td>\n",
       "      <td>0.0</td>\n",
       "      <td>0.0</td>\n",
       "      <td>...</td>\n",
       "      <td>0.0</td>\n",
       "      <td>0.0</td>\n",
       "      <td>0.0</td>\n",
       "      <td>0.0</td>\n",
       "      <td>0.0</td>\n",
       "      <td>0.0</td>\n",
       "      <td>0.0</td>\n",
       "      <td>0.0</td>\n",
       "      <td>0.0</td>\n",
       "      <td>0.0</td>\n",
       "    </tr>\n",
       "    <tr>\n",
       "      <th>28618</th>\n",
       "      <td>0.0</td>\n",
       "      <td>0.0</td>\n",
       "      <td>0.0</td>\n",
       "      <td>0.0</td>\n",
       "      <td>0.0</td>\n",
       "      <td>0.0</td>\n",
       "      <td>0.0</td>\n",
       "      <td>0.0</td>\n",
       "      <td>0.0</td>\n",
       "      <td>0.0</td>\n",
       "      <td>...</td>\n",
       "      <td>0.0</td>\n",
       "      <td>0.0</td>\n",
       "      <td>0.0</td>\n",
       "      <td>0.0</td>\n",
       "      <td>0.0</td>\n",
       "      <td>0.0</td>\n",
       "      <td>0.0</td>\n",
       "      <td>0.0</td>\n",
       "      <td>0.0</td>\n",
       "      <td>0.0</td>\n",
       "    </tr>\n",
       "  </tbody>\n",
       "</table>\n",
       "<p>28619 rows × 21783 columns</p>\n",
       "</div>"
      ],
      "text/plain": [
       "       0      1      2      3      4      5      6      7      8      9      \\\n",
       "0        0.0    0.0    0.0    0.0    0.0    0.0    0.0    0.0    0.0    0.0   \n",
       "1        0.0    0.0    0.0    0.0    0.0    0.0    0.0    0.0    0.0    0.0   \n",
       "2        0.0    0.0    0.0    0.0    0.0    0.0    0.0    0.0    0.0    0.0   \n",
       "3        0.0    0.0    0.0    0.0    0.0    0.0    0.0    0.0    0.0    0.0   \n",
       "4        0.0    0.0    0.0    0.0    0.0    0.0    0.0    0.0    0.0    0.0   \n",
       "...      ...    ...    ...    ...    ...    ...    ...    ...    ...    ...   \n",
       "28614    0.0    0.0    0.0    0.0    0.0    0.0    0.0    0.0    0.0    0.0   \n",
       "28615    0.0    0.0    0.0    0.0    0.0    0.0    0.0    0.0    0.0    0.0   \n",
       "28616    0.0    0.0    0.0    0.0    0.0    0.0    0.0    0.0    0.0    0.0   \n",
       "28617    0.0    0.0    0.0    0.0    0.0    0.0    0.0    0.0    0.0    0.0   \n",
       "28618    0.0    0.0    0.0    0.0    0.0    0.0    0.0    0.0    0.0    0.0   \n",
       "\n",
       "       ...  21773  21774  21775  21776  21777  21778  21779  21780  21781  \\\n",
       "0      ...    0.0    0.0    0.0    0.0    0.0    0.0    0.0    0.0    0.0   \n",
       "1      ...    0.0    0.0    0.0    0.0    0.0    0.0    0.0    0.0    0.0   \n",
       "2      ...    0.0    0.0    0.0    0.0    0.0    0.0    0.0    0.0    0.0   \n",
       "3      ...    0.0    0.0    0.0    0.0    0.0    0.0    0.0    0.0    0.0   \n",
       "4      ...    0.0    0.0    0.0    0.0    0.0    0.0    0.0    0.0    0.0   \n",
       "...    ...    ...    ...    ...    ...    ...    ...    ...    ...    ...   \n",
       "28614  ...    0.0    0.0    0.0    0.0    0.0    0.0    0.0    0.0    0.0   \n",
       "28615  ...    0.0    0.0    0.0    0.0    0.0    0.0    0.0    0.0    0.0   \n",
       "28616  ...    0.0    0.0    0.0    0.0    0.0    0.0    0.0    0.0    0.0   \n",
       "28617  ...    0.0    0.0    0.0    0.0    0.0    0.0    0.0    0.0    0.0   \n",
       "28618  ...    0.0    0.0    0.0    0.0    0.0    0.0    0.0    0.0    0.0   \n",
       "\n",
       "       21782  \n",
       "0        0.0  \n",
       "1        0.0  \n",
       "2        0.0  \n",
       "3        0.0  \n",
       "4        0.0  \n",
       "...      ...  \n",
       "28614    0.0  \n",
       "28615    0.0  \n",
       "28616    0.0  \n",
       "28617    0.0  \n",
       "28618    0.0  \n",
       "\n",
       "[28619 rows x 21783 columns]"
      ]
     },
     "execution_count": 38,
     "metadata": {},
     "output_type": "execute_result"
    }
   ],
   "source": [
    "from sklearn.feature_extraction.text import TfidfVectorizer\n",
    "tfidf_vectorizer = TfidfVectorizer()\n",
    "features = pd.DataFrame(tfidf_vectorizer.fit_transform(lemmatized_tokens).toarray()).astype(np.float16)\n",
    "features"
   ]
  },
  {
   "cell_type": "markdown",
   "id": "2ec4cb36",
   "metadata": {},
   "source": [
    "## PCA - Dimentionality Reduction"
   ]
  },
  {
   "cell_type": "code",
   "execution_count": 39,
   "id": "46ec96ce",
   "metadata": {
    "ExecuteTime": {
     "end_time": "2023-01-16T10:30:09.284534Z",
     "start_time": "2023-01-16T10:28:58.814092Z"
    }
   },
   "outputs": [],
   "source": [
    "from sklearn.decomposition import PCA\n",
    "dim_reductor = PCA(n_components=100)\n",
    "features = dim_reductor.fit_transform(features)"
   ]
  },
  {
   "cell_type": "markdown",
   "id": "e304fa85",
   "metadata": {},
   "source": [
    "## split dataset"
   ]
  },
  {
   "cell_type": "code",
   "execution_count": 40,
   "id": "00803ed6",
   "metadata": {
    "ExecuteTime": {
     "end_time": "2023-01-16T10:34:52.090092Z",
     "start_time": "2023-01-16T10:34:52.030316Z"
    }
   },
   "outputs": [],
   "source": [
    "from sklearn.model_selection import train_test_split\n",
    "xtrain, xtest, ytrain, ytest = train_test_split(features, is_sarcastic, test_size=0.3, random_state=33) "
   ]
  },
  {
   "cell_type": "markdown",
   "id": "01b08a69",
   "metadata": {},
   "source": [
    "## Training Classifier"
   ]
  },
  {
   "cell_type": "code",
   "execution_count": 41,
   "id": "ccf70751",
   "metadata": {
    "ExecuteTime": {
     "end_time": "2023-01-16T10:34:55.602128Z",
     "start_time": "2023-01-16T10:34:55.538961Z"
    }
   },
   "outputs": [
    {
     "data": {
      "text/html": [
       "<style>#sk-container-id-1 {color: black;background-color: white;}#sk-container-id-1 pre{padding: 0;}#sk-container-id-1 div.sk-toggleable {background-color: white;}#sk-container-id-1 label.sk-toggleable__label {cursor: pointer;display: block;width: 100%;margin-bottom: 0;padding: 0.3em;box-sizing: border-box;text-align: center;}#sk-container-id-1 label.sk-toggleable__label-arrow:before {content: \"▸\";float: left;margin-right: 0.25em;color: #696969;}#sk-container-id-1 label.sk-toggleable__label-arrow:hover:before {color: black;}#sk-container-id-1 div.sk-estimator:hover label.sk-toggleable__label-arrow:before {color: black;}#sk-container-id-1 div.sk-toggleable__content {max-height: 0;max-width: 0;overflow: hidden;text-align: left;background-color: #f0f8ff;}#sk-container-id-1 div.sk-toggleable__content pre {margin: 0.2em;color: black;border-radius: 0.25em;background-color: #f0f8ff;}#sk-container-id-1 input.sk-toggleable__control:checked~div.sk-toggleable__content {max-height: 200px;max-width: 100%;overflow: auto;}#sk-container-id-1 input.sk-toggleable__control:checked~label.sk-toggleable__label-arrow:before {content: \"▾\";}#sk-container-id-1 div.sk-estimator input.sk-toggleable__control:checked~label.sk-toggleable__label {background-color: #d4ebff;}#sk-container-id-1 div.sk-label input.sk-toggleable__control:checked~label.sk-toggleable__label {background-color: #d4ebff;}#sk-container-id-1 input.sk-hidden--visually {border: 0;clip: rect(1px 1px 1px 1px);clip: rect(1px, 1px, 1px, 1px);height: 1px;margin: -1px;overflow: hidden;padding: 0;position: absolute;width: 1px;}#sk-container-id-1 div.sk-estimator {font-family: monospace;background-color: #f0f8ff;border: 1px dotted black;border-radius: 0.25em;box-sizing: border-box;margin-bottom: 0.5em;}#sk-container-id-1 div.sk-estimator:hover {background-color: #d4ebff;}#sk-container-id-1 div.sk-parallel-item::after {content: \"\";width: 100%;border-bottom: 1px solid gray;flex-grow: 1;}#sk-container-id-1 div.sk-label:hover label.sk-toggleable__label {background-color: #d4ebff;}#sk-container-id-1 div.sk-serial::before {content: \"\";position: absolute;border-left: 1px solid gray;box-sizing: border-box;top: 0;bottom: 0;left: 50%;z-index: 0;}#sk-container-id-1 div.sk-serial {display: flex;flex-direction: column;align-items: center;background-color: white;padding-right: 0.2em;padding-left: 0.2em;position: relative;}#sk-container-id-1 div.sk-item {position: relative;z-index: 1;}#sk-container-id-1 div.sk-parallel {display: flex;align-items: stretch;justify-content: center;background-color: white;position: relative;}#sk-container-id-1 div.sk-item::before, #sk-container-id-1 div.sk-parallel-item::before {content: \"\";position: absolute;border-left: 1px solid gray;box-sizing: border-box;top: 0;bottom: 0;left: 50%;z-index: -1;}#sk-container-id-1 div.sk-parallel-item {display: flex;flex-direction: column;z-index: 1;position: relative;background-color: white;}#sk-container-id-1 div.sk-parallel-item:first-child::after {align-self: flex-end;width: 50%;}#sk-container-id-1 div.sk-parallel-item:last-child::after {align-self: flex-start;width: 50%;}#sk-container-id-1 div.sk-parallel-item:only-child::after {width: 0;}#sk-container-id-1 div.sk-dashed-wrapped {border: 1px dashed gray;margin: 0 0.4em 0.5em 0.4em;box-sizing: border-box;padding-bottom: 0.4em;background-color: white;}#sk-container-id-1 div.sk-label label {font-family: monospace;font-weight: bold;display: inline-block;line-height: 1.2em;}#sk-container-id-1 div.sk-label-container {text-align: center;}#sk-container-id-1 div.sk-container {/* jupyter's `normalize.less` sets `[hidden] { display: none; }` but bootstrap.min.css set `[hidden] { display: none !important; }` so we also need the `!important` here to be able to override the default hidden behavior on the sphinx rendered scikit-learn.org. See: https://github.com/scikit-learn/scikit-learn/issues/21755 */display: inline-block !important;position: relative;}#sk-container-id-1 div.sk-text-repr-fallback {display: none;}</style><div id=\"sk-container-id-1\" class=\"sk-top-container\"><div class=\"sk-text-repr-fallback\"><pre>GaussianNB()</pre><b>In a Jupyter environment, please rerun this cell to show the HTML representation or trust the notebook. <br />On GitHub, the HTML representation is unable to render, please try loading this page with nbviewer.org.</b></div><div class=\"sk-container\" hidden><div class=\"sk-item\"><div class=\"sk-estimator sk-toggleable\"><input class=\"sk-toggleable__control sk-hidden--visually\" id=\"sk-estimator-id-1\" type=\"checkbox\" checked><label for=\"sk-estimator-id-1\" class=\"sk-toggleable__label sk-toggleable__label-arrow\">GaussianNB</label><div class=\"sk-toggleable__content\"><pre>GaussianNB()</pre></div></div></div></div></div>"
      ],
      "text/plain": [
       "GaussianNB()"
      ]
     },
     "execution_count": 41,
     "metadata": {},
     "output_type": "execute_result"
    }
   ],
   "source": [
    "from sklearn.naive_bayes import GaussianNB\n",
    "from sklearn.metrics import classification_report\n",
    "\n",
    "clf = GaussianNB()\n",
    "clf.fit(xtrain, ytrain)"
   ]
  },
  {
   "cell_type": "markdown",
   "id": "8c198104",
   "metadata": {},
   "source": [
    "## evaluate"
   ]
  },
  {
   "cell_type": "code",
   "execution_count": 42,
   "id": "d8450496",
   "metadata": {
    "ExecuteTime": {
     "end_time": "2023-01-16T10:34:57.954637Z",
     "start_time": "2023-01-16T10:34:57.908957Z"
    }
   },
   "outputs": [],
   "source": [
    "ypred = clf.predict(xtest)\n",
    "report = classification_report(y_pred=ypred, y_true=ytest)"
   ]
  },
  {
   "cell_type": "code",
   "execution_count": 43,
   "id": "5414b4c4",
   "metadata": {
    "ExecuteTime": {
     "end_time": "2023-01-16T10:34:59.465283Z",
     "start_time": "2023-01-16T10:34:59.453281Z"
    }
   },
   "outputs": [
    {
     "name": "stdout",
     "output_type": "stream",
     "text": [
      "              precision    recall  f1-score   support\n",
      "\n",
      "           0       0.65      0.47      0.54      4494\n",
      "           1       0.55      0.72      0.62      4092\n",
      "\n",
      "    accuracy                           0.59      8586\n",
      "   macro avg       0.60      0.59      0.58      8586\n",
      "weighted avg       0.60      0.59      0.58      8586\n",
      "\n"
     ]
    }
   ],
   "source": [
    "print(report)"
   ]
  },
  {
   "cell_type": "code",
   "execution_count": null,
   "id": "f757b4e8",
   "metadata": {},
   "outputs": [],
   "source": []
  }
 ],
 "metadata": {
  "kernelspec": {
   "display_name": "Python 3 (ipykernel)",
   "language": "python",
   "name": "python3"
  },
  "language_info": {
   "codemirror_mode": {
    "name": "ipython",
    "version": 3
   },
   "file_extension": ".py",
   "mimetype": "text/x-python",
   "name": "python",
   "nbconvert_exporter": "python",
   "pygments_lexer": "ipython3",
   "version": "3.10.6"
  },
  "toc": {
   "base_numbering": 1,
   "nav_menu": {},
   "number_sections": true,
   "sideBar": true,
   "skip_h1_title": false,
   "title_cell": "Table of Contents",
   "title_sidebar": "Contents",
   "toc_cell": true,
   "toc_position": {
    "height": "calc(100% - 180px)",
    "left": "10px",
    "top": "150px",
    "width": "279.398px"
   },
   "toc_section_display": true,
   "toc_window_display": false
  }
 },
 "nbformat": 4,
 "nbformat_minor": 5
}
