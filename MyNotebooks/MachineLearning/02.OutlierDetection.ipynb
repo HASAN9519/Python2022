{
 "cells": [
  {
   "cell_type": "markdown",
   "id": "651afdf2",
   "metadata": {
    "toc": true
   },
   "source": [
    "<h1>Table of Contents<span class=\"tocSkip\"></span></h1>\n",
    "<div class=\"toc\"><ul class=\"toc-item\"><li><span><a href=\"#Outliers-Impact-On-Machine-Learning-Algorithms\" data-toc-modified-id=\"Outliers-Impact-On-Machine-Learning-Algorithms-1\"><span class=\"toc-item-num\">1&nbsp;&nbsp;</span>Outliers Impact On Machine Learning Algorithms</a></span></li><li><span><a href=\"#Outlier-Detection-when-feature-is-Gaussian-Distributed\" data-toc-modified-id=\"Outlier-Detection-when-feature-is-Gaussian-Distributed-2\"><span class=\"toc-item-num\">2&nbsp;&nbsp;</span>Outlier Detection when feature is Gaussian Distributed</a></span></li><li><span><a href=\"#Outlier-Detection-when-Features-Are-Skewed\" data-toc-modified-id=\"Outlier-Detection-when-Features-Are-Skewed-3\"><span class=\"toc-item-num\">3&nbsp;&nbsp;</span>Outlier Detection when Features Are Skewed</a></span></li><li><span><a href=\"#Model-building\" data-toc-modified-id=\"Model-building-4\"><span class=\"toc-item-num\">4&nbsp;&nbsp;</span>Model building</a></span></li></ul></div>"
   ]
  },
  {
   "cell_type": "markdown",
   "id": "6853defd",
   "metadata": {},
   "source": [
    "# Outliers Impact On Machine Learning Algorithms\n",
    "\n",
    "Machine Learning Models Sensitive to Outliers or not:\n",
    "1. Naivye Bayes Classifier--- Not Sensitive To Outliers\n",
    "2. SVM-------- Not Sensitive To Outliers\n",
    "3. Linear Regression---------- Sensitive To Outliers\n",
    "4. Logistic Regression------- Sensitive To Outliers\n",
    "5. Decision Tree Regressor or Classifier---- Not Sensitive\n",
    "6. Ensemble(RF,XGboost,GB)------- Not Sensitive\n",
    "7. KNN--------------------------- Not Sensitive\n",
    "8. Kmeans------------------------ Sensitive\n",
    "9. Hierarichal------------------- Sensitive\n",
    "10. PCA-------------------------- Sensitive\n",
    "11. Neural Networks-------------- Sensitive"
   ]
  },
  {
   "cell_type": "markdown",
   "id": "b1980ef8",
   "metadata": {},
   "source": [
    "# Outlier Detection when feature is Gaussian Distributed"
   ]
  },
  {
   "cell_type": "code",
   "execution_count": 1,
   "id": "dc5d95ee",
   "metadata": {
    "ExecuteTime": {
     "end_time": "2022-12-22T13:02:10.567843Z",
     "start_time": "2022-12-22T13:02:07.761652Z"
    }
   },
   "outputs": [],
   "source": [
    "import pandas as pd\n",
    "import numpy as np\n",
    "import matplotlib.pyplot as plt\n",
    "import seaborn as sns\n",
    "%matplotlib inline"
   ]
  },
  {
   "cell_type": "code",
   "execution_count": 2,
   "id": "82b3e057",
   "metadata": {
    "ExecuteTime": {
     "end_time": "2022-12-22T13:02:26.664965Z",
     "start_time": "2022-12-22T13:02:26.608852Z"
    }
   },
   "outputs": [
    {
     "data": {
      "text/html": [
       "<div>\n",
       "<style scoped>\n",
       "    .dataframe tbody tr th:only-of-type {\n",
       "        vertical-align: middle;\n",
       "    }\n",
       "\n",
       "    .dataframe tbody tr th {\n",
       "        vertical-align: top;\n",
       "    }\n",
       "\n",
       "    .dataframe thead th {\n",
       "        text-align: right;\n",
       "    }\n",
       "</style>\n",
       "<table border=\"1\" class=\"dataframe\">\n",
       "  <thead>\n",
       "    <tr style=\"text-align: right;\">\n",
       "      <th></th>\n",
       "      <th>PassengerId</th>\n",
       "      <th>Survived</th>\n",
       "      <th>Pclass</th>\n",
       "      <th>Name</th>\n",
       "      <th>Sex</th>\n",
       "      <th>Age</th>\n",
       "      <th>SibSp</th>\n",
       "      <th>Parch</th>\n",
       "      <th>Ticket</th>\n",
       "      <th>Fare</th>\n",
       "      <th>Cabin</th>\n",
       "      <th>Embarked</th>\n",
       "    </tr>\n",
       "  </thead>\n",
       "  <tbody>\n",
       "    <tr>\n",
       "      <th>0</th>\n",
       "      <td>1</td>\n",
       "      <td>0</td>\n",
       "      <td>3</td>\n",
       "      <td>Braund, Mr. Owen Harris</td>\n",
       "      <td>male</td>\n",
       "      <td>22.0</td>\n",
       "      <td>1</td>\n",
       "      <td>0</td>\n",
       "      <td>A/5 21171</td>\n",
       "      <td>7.2500</td>\n",
       "      <td>NaN</td>\n",
       "      <td>S</td>\n",
       "    </tr>\n",
       "    <tr>\n",
       "      <th>1</th>\n",
       "      <td>2</td>\n",
       "      <td>1</td>\n",
       "      <td>1</td>\n",
       "      <td>Cumings, Mrs. John Bradley (Florence Briggs Th...</td>\n",
       "      <td>female</td>\n",
       "      <td>38.0</td>\n",
       "      <td>1</td>\n",
       "      <td>0</td>\n",
       "      <td>PC 17599</td>\n",
       "      <td>71.2833</td>\n",
       "      <td>C85</td>\n",
       "      <td>C</td>\n",
       "    </tr>\n",
       "    <tr>\n",
       "      <th>2</th>\n",
       "      <td>3</td>\n",
       "      <td>1</td>\n",
       "      <td>3</td>\n",
       "      <td>Heikkinen, Miss. Laina</td>\n",
       "      <td>female</td>\n",
       "      <td>26.0</td>\n",
       "      <td>0</td>\n",
       "      <td>0</td>\n",
       "      <td>STON/O2. 3101282</td>\n",
       "      <td>7.9250</td>\n",
       "      <td>NaN</td>\n",
       "      <td>S</td>\n",
       "    </tr>\n",
       "    <tr>\n",
       "      <th>3</th>\n",
       "      <td>4</td>\n",
       "      <td>1</td>\n",
       "      <td>1</td>\n",
       "      <td>Futrelle, Mrs. Jacques Heath (Lily May Peel)</td>\n",
       "      <td>female</td>\n",
       "      <td>35.0</td>\n",
       "      <td>1</td>\n",
       "      <td>0</td>\n",
       "      <td>113803</td>\n",
       "      <td>53.1000</td>\n",
       "      <td>C123</td>\n",
       "      <td>S</td>\n",
       "    </tr>\n",
       "    <tr>\n",
       "      <th>4</th>\n",
       "      <td>5</td>\n",
       "      <td>0</td>\n",
       "      <td>3</td>\n",
       "      <td>Allen, Mr. William Henry</td>\n",
       "      <td>male</td>\n",
       "      <td>35.0</td>\n",
       "      <td>0</td>\n",
       "      <td>0</td>\n",
       "      <td>373450</td>\n",
       "      <td>8.0500</td>\n",
       "      <td>NaN</td>\n",
       "      <td>S</td>\n",
       "    </tr>\n",
       "  </tbody>\n",
       "</table>\n",
       "</div>"
      ],
      "text/plain": [
       "   PassengerId  Survived  Pclass  \\\n",
       "0            1         0       3   \n",
       "1            2         1       1   \n",
       "2            3         1       3   \n",
       "3            4         1       1   \n",
       "4            5         0       3   \n",
       "\n",
       "                                                Name     Sex   Age  SibSp  \\\n",
       "0                            Braund, Mr. Owen Harris    male  22.0      1   \n",
       "1  Cumings, Mrs. John Bradley (Florence Briggs Th...  female  38.0      1   \n",
       "2                             Heikkinen, Miss. Laina  female  26.0      0   \n",
       "3       Futrelle, Mrs. Jacques Heath (Lily May Peel)  female  35.0      1   \n",
       "4                           Allen, Mr. William Henry    male  35.0      0   \n",
       "\n",
       "   Parch            Ticket     Fare Cabin Embarked  \n",
       "0      0         A/5 21171   7.2500   NaN        S  \n",
       "1      0          PC 17599  71.2833   C85        C  \n",
       "2      0  STON/O2. 3101282   7.9250   NaN        S  \n",
       "3      0            113803  53.1000  C123        S  \n",
       "4      0            373450   8.0500   NaN        S  "
      ]
     },
     "execution_count": 2,
     "metadata": {},
     "output_type": "execute_result"
    }
   ],
   "source": [
    "df = pd.read_csv('Datafiles/titanic.csv')\n",
    "df.head()"
   ]
  },
  {
   "cell_type": "code",
   "execution_count": 3,
   "id": "229ff110",
   "metadata": {
    "ExecuteTime": {
     "end_time": "2022-12-22T13:02:35.252287Z",
     "start_time": "2022-12-22T13:02:35.241286Z"
    }
   },
   "outputs": [
    {
     "data": {
      "text/plain": [
       "177"
      ]
     },
     "execution_count": 3,
     "metadata": {},
     "output_type": "execute_result"
    }
   ],
   "source": [
    "df['Age'].isnull().sum()"
   ]
  },
  {
   "cell_type": "code",
   "execution_count": 7,
   "id": "4d5aa8c4",
   "metadata": {
    "ExecuteTime": {
     "end_time": "2022-12-22T13:03:41.872675Z",
     "start_time": "2022-12-22T13:03:41.736726Z"
    }
   },
   "outputs": [
    {
     "data": {
      "text/plain": [
       "<seaborn.axisgrid.FacetGrid at 0x2ca4e6470d0>"
      ]
     },
     "execution_count": 7,
     "metadata": {},
     "output_type": "execute_result"
    },
    {
     "data": {
      "image/png": "[encoded data removed]",
      "text/plain": [
       "<Figure size 360x360 with 1 Axes>"
      ]
     },
     "metadata": {
      "needs_background": "light"
     },
     "output_type": "display_data"
    }
   ],
   "source": [
    "sns.displot(df['Age'].dropna())"
   ]
  },
  {
   "cell_type": "code",
   "execution_count": 8,
   "id": "1de08e73",
   "metadata": {
    "ExecuteTime": {
     "end_time": "2022-12-22T13:03:59.111840Z",
     "start_time": "2022-12-22T13:03:58.974112Z"
    }
   },
   "outputs": [
    {
     "data": {
      "text/plain": [
       "<seaborn.axisgrid.FacetGrid at 0x2ca4e6d0d30>"
      ]
     },
     "execution_count": 8,
     "metadata": {},
     "output_type": "execute_result"
    },
    {
     "data": {
      "image/png": "[encoded data removed]",
      "text/plain": [
       "<Figure size 360x360 with 1 Axes>"
      ]
     },
     "metadata": {
      "needs_background": "light"
     },
     "output_type": "display_data"
    }
   ],
   "source": [
    "sns.displot(df['Age'].fillna(100))"
   ]
  },
  {
   "cell_type": "code",
   "execution_count": 9,
   "id": "7b5c9896",
   "metadata": {
    "ExecuteTime": {
     "end_time": "2022-12-22T13:04:12.651856Z",
     "start_time": "2022-12-22T13:04:12.495129Z"
    }
   },
   "outputs": [
    {
     "data": {
      "text/plain": [
       "Text(0, 0.5, 'No of passenger')"
      ]
     },
     "execution_count": 9,
     "metadata": {},
     "output_type": "execute_result"
    },
    {
     "data": {
      "image/png": "[encoded data removed]",
      "text/plain": [
       "<Figure size 432x288 with 1 Axes>"
      ]
     },
     "metadata": {
      "needs_background": "light"
     },
     "output_type": "display_data"
    }
   ],
   "source": [
    "figure=df.Age.hist(bins=50)\n",
    "figure.set_title('Age')\n",
    "figure.set_xlabel('Age')\n",
    "figure.set_ylabel('No of passenger')"
   ]
  },
  {
   "cell_type": "code",
   "execution_count": 10,
   "id": "eb791c7b",
   "metadata": {
    "ExecuteTime": {
     "end_time": "2022-12-22T13:04:28.100753Z",
     "start_time": "2022-12-22T13:04:28.025337Z"
    }
   },
   "outputs": [
    {
     "data": {
      "image/png": "[encoded data removed]",
      "text/plain": [
       "<Figure size 432x288 with 1 Axes>"
      ]
     },
     "metadata": {
      "needs_background": "light"
     },
     "output_type": "display_data"
    }
   ],
   "source": [
    "figure=df.boxplot(column=\"Age\")"
   ]
  },
  {
   "cell_type": "code",
   "execution_count": 13,
   "id": "a4dd0269",
   "metadata": {
    "ExecuteTime": {
     "end_time": "2022-12-22T13:06:53.717978Z",
     "start_time": "2022-12-22T13:06:53.703986Z"
    }
   },
   "outputs": [
    {
     "data": {
      "text/plain": [
       "count    714.000000\n",
       "mean      29.699118\n",
       "std       14.526497\n",
       "min        0.420000\n",
       "25%       20.125000\n",
       "50%       28.000000\n",
       "75%       38.000000\n",
       "max       80.000000\n",
       "Name: Age, dtype: float64"
      ]
     },
     "execution_count": 13,
     "metadata": {},
     "output_type": "execute_result"
    }
   ],
   "source": [
    "df['Age'].describe()"
   ]
  },
  {
   "cell_type": "code",
   "execution_count": 15,
   "id": "0cee0161",
   "metadata": {
    "ExecuteTime": {
     "end_time": "2022-12-22T13:19:29.180574Z",
     "start_time": "2022-12-22T13:19:29.164577Z"
    }
   },
   "outputs": [
    {
     "name": "stdout",
     "output_type": "stream",
     "text": [
      "-13.880374349943303\n",
      "73.27860964406094\n",
      "29.69911764705882\n"
     ]
    }
   ],
   "source": [
    "# here Age feature is Gaussian Distributed, so using calculating boundaries which differentiates outliers\n",
    "upper_limit = df['Age'].mean() + 3* df['Age'].std()\n",
    "lower_limit = df['Age'].mean() - 3* df['Age'].std()\n",
    "print(lower_limit)\n",
    "print(upper_limit),\n",
    "print(df['Age'].mean())"
   ]
  },
  {
   "cell_type": "code",
   "execution_count": 24,
   "id": "69e3486d",
   "metadata": {
    "ExecuteTime": {
     "end_time": "2022-12-22T13:31:34.360376Z",
     "start_time": "2022-12-22T13:31:34.339364Z"
    }
   },
   "outputs": [
    {
     "data": {
      "text/plain": [
       "count    714.000000\n",
       "mean      29.687913\n",
       "std       14.490589\n",
       "min        0.420000\n",
       "25%       20.125000\n",
       "50%       28.000000\n",
       "75%       38.000000\n",
       "max       73.000000\n",
       "Name: Age, dtype: float64"
      ]
     },
     "execution_count": 24,
     "metadata": {},
     "output_type": "execute_result"
    }
   ],
   "source": [
    "data['Age'].describe()"
   ]
  },
  {
   "cell_type": "code",
   "execution_count": 44,
   "id": "de0ecaae",
   "metadata": {
    "ExecuteTime": {
     "end_time": "2022-12-22T13:39:55.259399Z",
     "start_time": "2022-12-22T13:39:55.254400Z"
    }
   },
   "outputs": [],
   "source": [
    "# replacing outliers with upper_limit, not removing outliers as titanic dataset has insufficient data\n",
    "data=df.copy()\n",
    "data.loc[data['Age']>=73,'Age']=73"
   ]
  },
  {
   "cell_type": "code",
   "execution_count": 17,
   "id": "27d34984",
   "metadata": {
    "ExecuteTime": {
     "end_time": "2022-12-22T13:24:10.745478Z",
     "start_time": "2022-12-22T13:24:10.602987Z"
    }
   },
   "outputs": [
    {
     "data": {
      "text/plain": [
       "Text(0, 0.5, 'No of passenger')"
      ]
     },
     "execution_count": 17,
     "metadata": {},
     "output_type": "execute_result"
    },
    {
     "data": {
      "image/png": "[encoded data removed]",
      "text/plain": [
       "<Figure size 432x288 with 1 Axes>"
      ]
     },
     "metadata": {
      "needs_background": "light"
     },
     "output_type": "display_data"
    }
   ],
   "source": [
    "figure=data.Age.hist(bins=50)\n",
    "figure.set_title('Age')\n",
    "figure.set_xlabel('Age')\n",
    "figure.set_ylabel('No of passenger')"
   ]
  },
  {
   "cell_type": "markdown",
   "id": "128cc2e8",
   "metadata": {},
   "source": [
    "# Outlier Detection when Features Are Skewed"
   ]
  },
  {
   "cell_type": "code",
   "execution_count": 18,
   "id": "73352434",
   "metadata": {
    "ExecuteTime": {
     "end_time": "2022-12-22T13:28:44.179258Z",
     "start_time": "2022-12-22T13:28:44.031722Z"
    }
   },
   "outputs": [
    {
     "data": {
      "text/plain": [
       "Text(0, 0.5, 'No of passenger')"
      ]
     },
     "execution_count": 18,
     "metadata": {},
     "output_type": "execute_result"
    },
    {
     "data": {
      "image/png": "[encoded data removed]",
      "text/plain": [
       "<Figure size 432x288 with 1 Axes>"
      ]
     },
     "metadata": {
      "needs_background": "light"
     },
     "output_type": "display_data"
    }
   ],
   "source": [
    "figure=df.Fare.hist(bins=50)\n",
    "figure.set_title('Fare')\n",
    "figure.set_xlabel('Fare')\n",
    "figure.set_ylabel('No of passenger')"
   ]
  },
  {
   "cell_type": "code",
   "execution_count": 19,
   "id": "4b0123ee",
   "metadata": {
    "ExecuteTime": {
     "end_time": "2022-12-22T13:29:05.113763Z",
     "start_time": "2022-12-22T13:29:05.045751Z"
    }
   },
   "outputs": [
    {
     "data": {
      "text/plain": [
       "<AxesSubplot: >"
      ]
     },
     "execution_count": 19,
     "metadata": {},
     "output_type": "execute_result"
    },
    {
     "data": {
      "image/png": "[encoded data removed]",
      "text/plain": [
       "<Figure size 432x288 with 1 Axes>"
      ]
     },
     "metadata": {
      "needs_background": "light"
     },
     "output_type": "display_data"
    }
   ],
   "source": [
    "df.boxplot(column=\"Fare\")"
   ]
  },
  {
   "cell_type": "code",
   "execution_count": 20,
   "id": "e27590f0",
   "metadata": {
    "ExecuteTime": {
     "end_time": "2022-12-22T13:29:15.147579Z",
     "start_time": "2022-12-22T13:29:15.129344Z"
    }
   },
   "outputs": [
    {
     "data": {
      "text/plain": [
       "count    891.000000\n",
       "mean      32.204208\n",
       "std       49.693429\n",
       "min        0.000000\n",
       "25%        7.910400\n",
       "50%       14.454200\n",
       "75%       31.000000\n",
       "max      512.329200\n",
       "Name: Fare, dtype: float64"
      ]
     },
     "execution_count": 20,
     "metadata": {},
     "output_type": "execute_result"
    }
   ],
   "source": [
    "df['Fare'].describe()"
   ]
  },
  {
   "cell_type": "code",
   "execution_count": 23,
   "id": "66237ab1",
   "metadata": {
    "ExecuteTime": {
     "end_time": "2022-12-22T13:31:00.153861Z",
     "start_time": "2022-12-22T13:31:00.142885Z"
    }
   },
   "outputs": [
    {
     "name": "stdout",
     "output_type": "stream",
     "text": [
      "-26.724\n",
      "65.6344\n"
     ]
    }
   ],
   "source": [
    "# Lets compute Interquantile range to calculate boundaries\n",
    "IQR=df.Fare.quantile(0.75)-df.Fare.quantile(0.25)\n",
    "lower_limit = df['Fare'].quantile(0.25)-(IQR*1.5)\n",
    "upper_limit = df['Fare'].quantile(0.75)+(IQR*1.5)\n",
    "print(lower_limit)\n",
    "print(upper_limit)"
   ]
  },
  {
   "cell_type": "code",
   "execution_count": 25,
   "id": "7f309c5e",
   "metadata": {
    "ExecuteTime": {
     "end_time": "2022-12-22T13:33:06.815768Z",
     "start_time": "2022-12-22T13:33:06.802785Z"
    }
   },
   "outputs": [
    {
     "name": "stdout",
     "output_type": "stream",
     "text": [
      "-61.358399999999996\n",
      "100.2688\n"
     ]
    }
   ],
   "source": [
    "# Extreme outliers\n",
    "lower_b = df['Fare'].quantile(0.25)-(IQR*3)\n",
    "upper_b = df['Fare'].quantile(0.75)+(IQR*3)\n",
    "print(lower_b)\n",
    "print(upper_b)"
   ]
  },
  {
   "cell_type": "code",
   "execution_count": 45,
   "id": "d60ef6bf",
   "metadata": {
    "ExecuteTime": {
     "end_time": "2022-12-22T13:40:23.337769Z",
     "start_time": "2022-12-22T13:40:23.334788Z"
    }
   },
   "outputs": [],
   "source": [
    "# replacing outliers with upper_limit, not removing outliers as titanic dataset has insufficient data\n",
    "data.loc[data['Fare']>=65,'Fare']=65"
   ]
  },
  {
   "cell_type": "code",
   "execution_count": 27,
   "id": "38267470",
   "metadata": {
    "ExecuteTime": {
     "end_time": "2022-12-22T13:34:10.085763Z",
     "start_time": "2022-12-22T13:34:09.951056Z"
    }
   },
   "outputs": [
    {
     "data": {
      "text/plain": [
       "Text(0, 0.5, 'No of passenger')"
      ]
     },
     "execution_count": 27,
     "metadata": {},
     "output_type": "execute_result"
    },
    {
     "data": {
      "image/png": "[encoded data removed]",
      "text/plain": [
       "<Figure size 432x288 with 1 Axes>"
      ]
     },
     "metadata": {
      "needs_background": "light"
     },
     "output_type": "display_data"
    }
   ],
   "source": [
    "figure=data.Fare.hist(bins=50)\n",
    "figure.set_title('Fare')\n",
    "figure.set_xlabel('Fare')\n",
    "figure.set_ylabel('No of passenger')"
   ]
  },
  {
   "cell_type": "code",
   "execution_count": 28,
   "id": "1f0fed60",
   "metadata": {
    "ExecuteTime": {
     "end_time": "2022-12-22T13:35:29.366560Z",
     "start_time": "2022-12-22T13:35:29.349552Z"
    }
   },
   "outputs": [
    {
     "data": {
      "text/plain": [
       "count    891.000000\n",
       "mean      27.027169\n",
       "std       27.296632\n",
       "min        0.000000\n",
       "25%        7.910400\n",
       "50%       14.454200\n",
       "75%       31.000000\n",
       "max      100.000000\n",
       "Name: Fare, dtype: float64"
      ]
     },
     "execution_count": 28,
     "metadata": {},
     "output_type": "execute_result"
    }
   ],
   "source": [
    "data['Fare'].describe()"
   ]
  },
  {
   "cell_type": "markdown",
   "id": "2f40ce08",
   "metadata": {},
   "source": [
    "# Model building"
   ]
  },
  {
   "cell_type": "code",
   "execution_count": 46,
   "id": "5d22394d",
   "metadata": {
    "ExecuteTime": {
     "end_time": "2022-12-22T13:40:28.256256Z",
     "start_time": "2022-12-22T13:40:28.236278Z"
    }
   },
   "outputs": [],
   "source": [
    "from sklearn.model_selection import train_test_split\n",
    "X_train,X_test,y_train,y_test=train_test_split(data[['Age','Fare']].fillna(0),data['Survived'],test_size=0.3)"
   ]
  },
  {
   "cell_type": "code",
   "execution_count": 47,
   "id": "8e1270e9",
   "metadata": {
    "ExecuteTime": {
     "end_time": "2022-12-22T13:40:29.384778Z",
     "start_time": "2022-12-22T13:40:29.368765Z"
    }
   },
   "outputs": [
    {
     "name": "stdout",
     "output_type": "stream",
     "text": [
      "Accuracy_score: 0.6940298507462687\n",
      "roc_auc_score: 0.6828680830039525\n"
     ]
    }
   ],
   "source": [
    "# Logistic Regression\n",
    "from sklearn.linear_model import LogisticRegression\n",
    "classifier=LogisticRegression()\n",
    "classifier.fit(X_train,y_train)\n",
    "y_pred=classifier.predict(X_test)\n",
    "y_pred1=classifier.predict_proba(X_test)\n",
    "\n",
    "from sklearn.metrics import accuracy_score, roc_auc_score\n",
    "print(\"Accuracy_score: {}\".format(accuracy_score(y_test,y_pred)))\n",
    "print(\"roc_auc_score: {}\".format(roc_auc_score(y_test,y_pred1[:,1]))) # y_pred1[:,1] use to make it 1d array"
   ]
  }
 ],
 "metadata": {
  "kernelspec": {
   "display_name": "Python 3 (ipykernel)",
   "language": "python",
   "name": "python3"
  },
  "language_info": {
   "codemirror_mode": {
    "name": "ipython",
    "version": 3
   },
   "file_extension": ".py",
   "mimetype": "text/x-python",
   "name": "python",
   "nbconvert_exporter": "python",
   "pygments_lexer": "ipython3",
   "version": "3.10.6"
  },
  "toc": {
   "base_numbering": 1,
   "nav_menu": {},
   "number_sections": true,
   "sideBar": true,
   "skip_h1_title": false,
   "title_cell": "Table of Contents",
   "title_sidebar": "Contents",
   "toc_cell": true,
   "toc_position": {
    "height": "calc(100% - 180px)",
    "left": "10px",
    "top": "150px",
    "width": "279.409px"
   },
   "toc_section_display": true,
   "toc_window_display": false
  }
 },
 "nbformat": 4,
 "nbformat_minor": 5
}
