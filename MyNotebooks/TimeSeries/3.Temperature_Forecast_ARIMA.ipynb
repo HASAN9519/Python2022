{
 "cells": [
  {
   "cell_type": "markdown",
   "metadata": {
    "toc": true
   },
   "source": [
    "<h1>Table of Contents<span class=\"tocSkip\"></span></h1>\n",
    "<div class=\"toc\"><ul class=\"toc-item\"><li><span><a href=\"#loading-librarys-and-data\" data-toc-modified-id=\"loading-librarys-and-data-1\"><span class=\"toc-item-num\">1&nbsp;&nbsp;</span>loading librarys and data</a></span></li><li><span><a href=\"#Checking-For-Stationarity\" data-toc-modified-id=\"Checking-For-Stationarity-2\"><span class=\"toc-item-num\">2&nbsp;&nbsp;</span>Checking For Stationarity</a></span></li><li><span><a href=\"#Figuring-Order-for-ARIMA-Model\" data-toc-modified-id=\"Figuring-Order-for-ARIMA-Model-3\"><span class=\"toc-item-num\">3&nbsp;&nbsp;</span>Figuring Order for ARIMA Model</a></span></li><li><span><a href=\"#Split-Data-into-Training-and-Testing\" data-toc-modified-id=\"Split-Data-into-Training-and-Testing-4\"><span class=\"toc-item-num\">4&nbsp;&nbsp;</span>Split Data into Training and Testing</a></span></li><li><span><a href=\"#Training-ARIMA-Model\" data-toc-modified-id=\"Training-ARIMA-Model-5\"><span class=\"toc-item-num\">5&nbsp;&nbsp;</span>Training ARIMA Model</a></span></li><li><span><a href=\"#Predictions-on-Test-Set\" data-toc-modified-id=\"Predictions-on-Test-Set-6\"><span class=\"toc-item-num\">6&nbsp;&nbsp;</span>Predictions on Test Set</a></span></li></ul></div>"
   ]
  },
  {
   "cell_type": "markdown",
   "metadata": {},
   "source": [
    "# loading librarys and data"
   ]
  },
  {
   "cell_type": "code",
   "execution_count": 1,
   "metadata": {
    "ExecuteTime": {
     "end_time": "2023-02-27T16:51:06.075404Z",
     "start_time": "2023-02-27T16:51:05.369048Z"
    },
    "colab": {},
    "colab_type": "code",
    "id": "sJUCGgJAeXmn"
   },
   "outputs": [],
   "source": [
    "import numpy as np\n",
    "import pandas as pd"
   ]
  },
  {
   "cell_type": "code",
   "execution_count": 2,
   "metadata": {
    "ExecuteTime": {
     "end_time": "2023-02-27T16:51:06.154928Z",
     "start_time": "2023-02-27T16:51:06.077406Z"
    },
    "colab": {
     "base_uri": "https://localhost:8080/",
     "height": 243
    },
    "colab_type": "code",
    "id": "rKYgCgvcebUM",
    "outputId": "8d11db02-ce47-432f-a9f6-dd8b06c79dd3"
   },
   "outputs": [
    {
     "name": "stdout",
     "output_type": "stream",
     "text": [
      "Shape of data (1821, 5)\n"
     ]
    },
    {
     "data": {
      "text/html": [
       "<div>\n",
       "<style scoped>\n",
       "    .dataframe tbody tr th:only-of-type {\n",
       "        vertical-align: middle;\n",
       "    }\n",
       "\n",
       "    .dataframe tbody tr th {\n",
       "        vertical-align: top;\n",
       "    }\n",
       "\n",
       "    .dataframe thead th {\n",
       "        text-align: right;\n",
       "    }\n",
       "</style>\n",
       "<table border=\"1\" class=\"dataframe\">\n",
       "  <thead>\n",
       "    <tr style=\"text-align: right;\">\n",
       "      <th></th>\n",
       "      <th>MinTemp</th>\n",
       "      <th>MaxTemp</th>\n",
       "      <th>AvgTemp</th>\n",
       "      <th>Sunrise</th>\n",
       "      <th>Sunset</th>\n",
       "    </tr>\n",
       "    <tr>\n",
       "      <th>DATE</th>\n",
       "      <th></th>\n",
       "      <th></th>\n",
       "      <th></th>\n",
       "      <th></th>\n",
       "      <th></th>\n",
       "    </tr>\n",
       "  </thead>\n",
       "  <tbody>\n",
       "    <tr>\n",
       "      <th>2014-01-01</th>\n",
       "      <td>33.0</td>\n",
       "      <td>46.0</td>\n",
       "      <td>40.0</td>\n",
       "      <td>657</td>\n",
       "      <td>1756</td>\n",
       "    </tr>\n",
       "    <tr>\n",
       "      <th>2014-01-02</th>\n",
       "      <td>35.0</td>\n",
       "      <td>50.0</td>\n",
       "      <td>43.0</td>\n",
       "      <td>657</td>\n",
       "      <td>1756</td>\n",
       "    </tr>\n",
       "    <tr>\n",
       "      <th>2014-01-03</th>\n",
       "      <td>36.0</td>\n",
       "      <td>45.0</td>\n",
       "      <td>41.0</td>\n",
       "      <td>657</td>\n",
       "      <td>1757</td>\n",
       "    </tr>\n",
       "    <tr>\n",
       "      <th>2014-01-04</th>\n",
       "      <td>32.0</td>\n",
       "      <td>41.0</td>\n",
       "      <td>37.0</td>\n",
       "      <td>658</td>\n",
       "      <td>1757</td>\n",
       "    </tr>\n",
       "    <tr>\n",
       "      <th>2014-01-05</th>\n",
       "      <td>24.0</td>\n",
       "      <td>38.0</td>\n",
       "      <td>31.0</td>\n",
       "      <td>658</td>\n",
       "      <td>1758</td>\n",
       "    </tr>\n",
       "  </tbody>\n",
       "</table>\n",
       "</div>"
      ],
      "text/plain": [
       "            MinTemp  MaxTemp  AvgTemp  Sunrise  Sunset\n",
       "DATE                                                  \n",
       "2014-01-01     33.0     46.0     40.0      657    1756\n",
       "2014-01-02     35.0     50.0     43.0      657    1756\n",
       "2014-01-03     36.0     45.0     41.0      657    1757\n",
       "2014-01-04     32.0     41.0     37.0      658    1757\n",
       "2014-01-05     24.0     38.0     31.0      658    1758"
      ]
     },
     "execution_count": 2,
     "metadata": {},
     "output_type": "execute_result"
    }
   ],
   "source": [
    "df=pd.read_csv('Datafiles/DailyTemps.csv', index_col='DATE', parse_dates=True)\n",
    "df=df.dropna()\n",
    "print('Shape of data',df.shape)\n",
    "df.head()"
   ]
  },
  {
   "cell_type": "code",
   "execution_count": 3,
   "metadata": {
    "ExecuteTime": {
     "end_time": "2023-02-27T16:51:06.755954Z",
     "start_time": "2023-02-27T16:51:06.156931Z"
    },
    "colab": {
     "base_uri": "https://localhost:8080/",
     "height": 334
    },
    "colab_type": "code",
    "id": "KppUuT8-ejqD",
    "outputId": "aabcf955-c76b-436f-8f4d-b1f1f35a975c"
   },
   "outputs": [
    {
     "data": {
      "text/plain": [
       "<AxesSubplot: xlabel='DATE'>"
      ]
     },
     "execution_count": 3,
     "metadata": {},
     "output_type": "execute_result"
    },
    {
     "data": {
      "image/png": "[encoded data removed]",
      "text/plain": [
       "<Figure size 864x360 with 1 Axes>"
      ]
     },
     "metadata": {
      "needs_background": "light"
     },
     "output_type": "display_data"
    }
   ],
   "source": [
    "df['AvgTemp'].plot(figsize=(12,5))"
   ]
  },
  {
   "cell_type": "markdown",
   "metadata": {
    "colab_type": "text",
    "id": "2YK8qw2Gv1bT"
   },
   "source": [
    "# Checking For Stationarity"
   ]
  },
  {
   "cell_type": "code",
   "execution_count": 4,
   "metadata": {
    "ExecuteTime": {
     "end_time": "2023-02-27T16:51:09.920822Z",
     "start_time": "2023-02-27T16:51:09.132493Z"
    },
    "colab": {},
    "colab_type": "code",
    "id": "8TqnvNbBexKT"
   },
   "outputs": [],
   "source": [
    "from statsmodels.tsa.stattools import adfuller\n",
    "\n",
    "def adf_test(dataset):\n",
    "    dftest = adfuller(dataset, autolag = 'AIC')\n",
    "    print(\"1. ADF : \",dftest[0])\n",
    "    print(\"2. P-Value : \", dftest[1])\n",
    "    print(\"3. Num Of Lags : \", dftest[2])\n",
    "    print(\"4. Num Of Observations Used For ADF Regression and Critical Values Calculation :\", dftest[3])\n",
    "    print(\"5. Critical Values :\")\n",
    "    for key, val in dftest[4].items():\n",
    "        print(\"\\t\",key, \": \", val)"
   ]
  },
  {
   "cell_type": "code",
   "execution_count": 5,
   "metadata": {
    "ExecuteTime": {
     "end_time": "2023-02-27T16:51:09.983954Z",
     "start_time": "2023-02-27T16:51:09.922850Z"
    },
    "colab": {
     "base_uri": "https://localhost:8080/",
     "height": 150
    },
    "colab_type": "code",
    "id": "muTlXcZYe3Jk",
    "outputId": "80456da0-cc9f-46a0-dbbc-875d9f8b5c51"
   },
   "outputs": [
    {
     "name": "stdout",
     "output_type": "stream",
     "text": [
      "1. ADF :  -6.554680125068785\n",
      "2. P-Value :  8.675937480199322e-09\n",
      "3. Num Of Lags :  12\n",
      "4. Num Of Observations Used For ADF Regression and Critical Values Calculation : 1808\n",
      "5. Critical Values :\n",
      "\t 1% :  -3.433972018026501\n",
      "\t 5% :  -2.8631399192826676\n",
      "\t 10% :  -2.5676217442756872\n"
     ]
    }
   ],
   "source": [
    "adf_test(df['AvgTemp'])"
   ]
  },
  {
   "cell_type": "markdown",
   "metadata": {
    "colab_type": "text",
    "id": "XE7o8ZDEv6TV"
   },
   "source": [
    "# Figuring Order for ARIMA Model"
   ]
  },
  {
   "cell_type": "code",
   "execution_count": 6,
   "metadata": {
    "ExecuteTime": {
     "end_time": "2023-02-27T16:51:13.467591Z",
     "start_time": "2023-02-27T16:51:12.934602Z"
    },
    "colab": {},
    "colab_type": "code",
    "id": "0Y1yq4A5e6j8"
   },
   "outputs": [],
   "source": [
    "# Auto Arima Function used to select order of Auto Regression Model\n",
    "from pmdarima import auto_arima\n",
    "# Ignore harmless warnings\n",
    "#import warnings\n",
    "#warnings.filterwarnings(\"ignore\")"
   ]
  },
  {
   "cell_type": "code",
   "execution_count": 7,
   "metadata": {
    "ExecuteTime": {
     "end_time": "2023-02-27T16:51:32.630650Z",
     "start_time": "2023-02-27T16:51:13.902733Z"
    },
    "colab": {
     "base_uri": "https://localhost:8080/",
     "height": 497
    },
    "colab_type": "code",
    "id": "6ikhqu-mfHCA",
    "outputId": "12c50b57-0a9c-4c14-c4a3-3061d4ebd954"
   },
   "outputs": [
    {
     "name": "stdout",
     "output_type": "stream",
     "text": [
      "Performing stepwise search to minimize aic\n",
      " ARIMA(2,0,2)(0,0,0)[0] intercept   : AIC=8344.610, Time=1.02 sec\n",
      " ARIMA(0,0,0)(0,0,0)[0] intercept   : AIC=10347.755, Time=0.02 sec\n",
      " ARIMA(1,0,0)(0,0,0)[0] intercept   : AIC=8365.701, Time=0.08 sec\n",
      " ARIMA(0,0,1)(0,0,0)[0] intercept   : AIC=9136.225, Time=0.11 sec\n",
      " ARIMA(0,0,0)(0,0,0)[0]             : AIC=19192.139, Time=0.01 sec\n",
      " ARIMA(1,0,2)(0,0,0)[0] intercept   : AIC=8355.947, Time=0.84 sec\n",
      " ARIMA(2,0,1)(0,0,0)[0] intercept   : AIC=8356.308, Time=0.81 sec\n",
      " ARIMA(3,0,2)(0,0,0)[0] intercept   : AIC=8347.221, Time=1.22 sec\n",
      " ARIMA(2,0,3)(0,0,0)[0] intercept   : AIC=8317.212, Time=1.21 sec\n",
      " ARIMA(1,0,3)(0,0,0)[0] intercept   : AIC=8330.189, Time=1.11 sec\n",
      " ARIMA(3,0,3)(0,0,0)[0] intercept   : AIC=8310.657, Time=1.44 sec\n",
      " ARIMA(4,0,3)(0,0,0)[0] intercept   : AIC=8332.297, Time=1.51 sec\n",
      " ARIMA(3,0,4)(0,0,0)[0] intercept   : AIC=8317.202, Time=1.77 sec\n",
      " ARIMA(2,0,4)(0,0,0)[0] intercept   : AIC=8305.485, Time=1.61 sec\n",
      " ARIMA(1,0,4)(0,0,0)[0] intercept   : AIC=8296.875, Time=1.49 sec\n",
      " ARIMA(0,0,4)(0,0,0)[0] intercept   : AIC=8455.435, Time=0.42 sec\n",
      " ARIMA(1,0,5)(0,0,0)[0] intercept   : AIC=8295.328, Time=1.64 sec\n",
      " ARIMA(0,0,5)(0,0,0)[0] intercept   : AIC=8419.091, Time=0.44 sec\n",
      " ARIMA(2,0,5)(0,0,0)[0] intercept   : AIC=8302.454, Time=1.76 sec\n",
      " ARIMA(1,0,5)(0,0,0)[0]             : AIC=8304.533, Time=0.17 sec\n",
      "\n",
      "Best model:  ARIMA(1,0,5)(0,0,0)[0] intercept\n",
      "Total fit time: 18.698 seconds\n"
     ]
    },
    {
     "data": {
      "text/html": [
       "<table class=\"simpletable\">\n",
       "<caption>SARIMAX Results</caption>\n",
       "<tr>\n",
       "  <th>Dep. Variable:</th>           <td>y</td>        <th>  No. Observations:  </th>   <td>1821</td>   \n",
       "</tr>\n",
       "<tr>\n",
       "  <th>Model:</th>           <td>SARIMAX(1, 0, 5)</td> <th>  Log Likelihood     </th> <td>-4139.664</td>\n",
       "</tr>\n",
       "<tr>\n",
       "  <th>Date:</th>            <td>Mon, 27 Feb 2023</td> <th>  AIC                </th> <td>8295.328</td> \n",
       "</tr>\n",
       "<tr>\n",
       "  <th>Time:</th>                <td>22:51:32</td>     <th>  BIC                </th> <td>8339.385</td> \n",
       "</tr>\n",
       "<tr>\n",
       "  <th>Sample:</th>                  <td>0</td>        <th>  HQIC               </th> <td>8311.581</td> \n",
       "</tr>\n",
       "<tr>\n",
       "  <th></th>                      <td> - 1821</td>     <th>                     </th>     <td> </td>    \n",
       "</tr>\n",
       "<tr>\n",
       "  <th>Covariance Type:</th>        <td>opg</td>       <th>                     </th>     <td> </td>    \n",
       "</tr>\n",
       "</table>\n",
       "<table class=\"simpletable\">\n",
       "<tr>\n",
       "      <td></td>         <th>coef</th>     <th>std err</th>      <th>z</th>      <th>P>|z|</th>  <th>[0.025</th>    <th>0.975]</th>  \n",
       "</tr>\n",
       "<tr>\n",
       "  <th>intercept</th> <td>    1.2874</td> <td>    0.387</td> <td>    3.328</td> <td> 0.001</td> <td>    0.529</td> <td>    2.046</td>\n",
       "</tr>\n",
       "<tr>\n",
       "  <th>ar.L1</th>     <td>    0.9725</td> <td>    0.008</td> <td>  117.127</td> <td> 0.000</td> <td>    0.956</td> <td>    0.989</td>\n",
       "</tr>\n",
       "<tr>\n",
       "  <th>ma.L1</th>     <td>   -0.1153</td> <td>    0.024</td> <td>   -4.821</td> <td> 0.000</td> <td>   -0.162</td> <td>   -0.068</td>\n",
       "</tr>\n",
       "<tr>\n",
       "  <th>ma.L2</th>     <td>   -0.2143</td> <td>    0.024</td> <td>   -8.830</td> <td> 0.000</td> <td>   -0.262</td> <td>   -0.167</td>\n",
       "</tr>\n",
       "<tr>\n",
       "  <th>ma.L3</th>     <td>   -0.2039</td> <td>    0.024</td> <td>   -8.506</td> <td> 0.000</td> <td>   -0.251</td> <td>   -0.157</td>\n",
       "</tr>\n",
       "<tr>\n",
       "  <th>ma.L4</th>     <td>   -0.1403</td> <td>    0.023</td> <td>   -6.155</td> <td> 0.000</td> <td>   -0.185</td> <td>   -0.096</td>\n",
       "</tr>\n",
       "<tr>\n",
       "  <th>ma.L5</th>     <td>   -0.0536</td> <td>    0.024</td> <td>   -2.193</td> <td> 0.028</td> <td>   -0.101</td> <td>   -0.006</td>\n",
       "</tr>\n",
       "<tr>\n",
       "  <th>sigma2</th>    <td>    5.5087</td> <td>    0.173</td> <td>   31.879</td> <td> 0.000</td> <td>    5.170</td> <td>    5.847</td>\n",
       "</tr>\n",
       "</table>\n",
       "<table class=\"simpletable\">\n",
       "<tr>\n",
       "  <th>Ljung-Box (L1) (Q):</th>     <td>0.15</td> <th>  Jarque-Bera (JB):  </th> <td>20.96</td>\n",
       "</tr>\n",
       "<tr>\n",
       "  <th>Prob(Q):</th>                <td>0.70</td> <th>  Prob(JB):          </th> <td>0.00</td> \n",
       "</tr>\n",
       "<tr>\n",
       "  <th>Heteroskedasticity (H):</th> <td>0.81</td> <th>  Skew:              </th> <td>-0.17</td>\n",
       "</tr>\n",
       "<tr>\n",
       "  <th>Prob(H) (two-sided):</th>    <td>0.01</td> <th>  Kurtosis:          </th> <td>3.39</td> \n",
       "</tr>\n",
       "</table><br/><br/>Warnings:<br/>[1] Covariance matrix calculated using the outer product of gradients (complex-step)."
      ],
      "text/plain": [
       "<class 'statsmodels.iolib.summary.Summary'>\n",
       "\"\"\"\n",
       "                               SARIMAX Results                                \n",
       "==============================================================================\n",
       "Dep. Variable:                      y   No. Observations:                 1821\n",
       "Model:               SARIMAX(1, 0, 5)   Log Likelihood               -4139.664\n",
       "Date:                Mon, 27 Feb 2023   AIC                           8295.328\n",
       "Time:                        22:51:32   BIC                           8339.385\n",
       "Sample:                             0   HQIC                          8311.581\n",
       "                               - 1821                                         \n",
       "Covariance Type:                  opg                                         \n",
       "==============================================================================\n",
       "                 coef    std err          z      P>|z|      [0.025      0.975]\n",
       "------------------------------------------------------------------------------\n",
       "intercept      1.2874      0.387      3.328      0.001       0.529       2.046\n",
       "ar.L1          0.9725      0.008    117.127      0.000       0.956       0.989\n",
       "ma.L1         -0.1153      0.024     -4.821      0.000      -0.162      -0.068\n",
       "ma.L2         -0.2143      0.024     -8.830      0.000      -0.262      -0.167\n",
       "ma.L3         -0.2039      0.024     -8.506      0.000      -0.251      -0.157\n",
       "ma.L4         -0.1403      0.023     -6.155      0.000      -0.185      -0.096\n",
       "ma.L5         -0.0536      0.024     -2.193      0.028      -0.101      -0.006\n",
       "sigma2         5.5087      0.173     31.879      0.000       5.170       5.847\n",
       "===================================================================================\n",
       "Ljung-Box (L1) (Q):                   0.15   Jarque-Bera (JB):                20.96\n",
       "Prob(Q):                              0.70   Prob(JB):                         0.00\n",
       "Heteroskedasticity (H):               0.81   Skew:                            -0.17\n",
       "Prob(H) (two-sided):                  0.01   Kurtosis:                         3.39\n",
       "===================================================================================\n",
       "\n",
       "Warnings:\n",
       "[1] Covariance matrix calculated using the outer product of gradients (complex-step).\n",
       "\"\"\""
      ]
     },
     "execution_count": 7,
     "metadata": {},
     "output_type": "execute_result"
    }
   ],
   "source": [
    "stepwise_fit = auto_arima(df['AvgTemp'],trace=True)           \n",
    "stepwise_fit.summary()"
   ]
  },
  {
   "cell_type": "markdown",
   "metadata": {},
   "source": [
    "here order of ARIMA model should be p=1, D=0, Q=5"
   ]
  },
  {
   "cell_type": "markdown",
   "metadata": {
    "colab_type": "text",
    "id": "y-JQDC6yv9_y"
   },
   "source": [
    "# Split Data into Training and Testing"
   ]
  },
  {
   "cell_type": "code",
   "execution_count": 9,
   "metadata": {
    "ExecuteTime": {
     "end_time": "2023-02-27T16:51:52.146741Z",
     "start_time": "2023-02-27T16:51:52.132759Z"
    }
   },
   "outputs": [],
   "source": [
    "df.index = pd.DatetimeIndex(df.index).to_period('D')"
   ]
  },
  {
   "cell_type": "code",
   "execution_count": 10,
   "metadata": {
    "ExecuteTime": {
     "end_time": "2023-02-27T16:51:52.895658Z",
     "start_time": "2023-02-27T16:51:52.889656Z"
    }
   },
   "outputs": [
    {
     "data": {
      "text/plain": [
       "PeriodIndex(['2014-01-01', '2014-01-02', '2014-01-03', '2014-01-04',\n",
       "             '2014-01-05', '2014-01-06', '2014-01-07', '2014-01-08',\n",
       "             '2014-01-09', '2014-01-10',\n",
       "             ...\n",
       "             '2018-12-21', '2018-12-22', '2018-12-23', '2018-12-24',\n",
       "             '2018-12-25', '2018-12-26', '2018-12-27', '2018-12-28',\n",
       "             '2018-12-29', '2018-12-30'],\n",
       "            dtype='period[D]', name='DATE', length=1821)"
      ]
     },
     "execution_count": 10,
     "metadata": {},
     "output_type": "execute_result"
    }
   ],
   "source": [
    "df.index"
   ]
  },
  {
   "cell_type": "code",
   "execution_count": 11,
   "metadata": {
    "ExecuteTime": {
     "end_time": "2023-02-27T16:51:55.035993Z",
     "start_time": "2023-02-27T16:51:55.026017Z"
    },
    "colab": {
     "base_uri": "https://localhost:8080/",
     "height": 234
    },
    "colab_type": "code",
    "id": "h-SgGft2fYMF",
    "outputId": "44f0e4aa-b673-4f81-e3cb-a9ee81948ee4"
   },
   "outputs": [
    {
     "name": "stdout",
     "output_type": "stream",
     "text": [
      "(1821, 5)\n",
      "(1791, 5) (30, 5)\n"
     ]
    }
   ],
   "source": [
    "print(df.shape)\n",
    "train = df.iloc[:-30]\n",
    "test = df.iloc[-30:]\n",
    "print(train.shape,test.shape)"
   ]
  },
  {
   "cell_type": "code",
   "execution_count": 12,
   "metadata": {
    "ExecuteTime": {
     "end_time": "2023-02-27T16:51:55.743334Z",
     "start_time": "2023-02-27T16:51:55.725357Z"
    }
   },
   "outputs": [
    {
     "data": {
      "text/plain": [
       "MinTemp      36.0\n",
       "MaxTemp      52.0\n",
       "AvgTemp      44.0\n",
       "Sunrise     640.0\n",
       "Sunset     1743.0\n",
       "Name: 2018-12-01, dtype: float64"
      ]
     },
     "execution_count": 12,
     "metadata": {},
     "output_type": "execute_result"
    }
   ],
   "source": [
    "test.iloc[0]"
   ]
  },
  {
   "cell_type": "code",
   "execution_count": 13,
   "metadata": {
    "ExecuteTime": {
     "end_time": "2023-02-27T16:51:59.788233Z",
     "start_time": "2023-02-27T16:51:59.775243Z"
    }
   },
   "outputs": [
    {
     "data": {
      "text/plain": [
       "MinTemp      39.0\n",
       "MaxTemp      52.0\n",
       "AvgTemp      46.0\n",
       "Sunrise     656.0\n",
       "Sunset     1754.0\n",
       "Name: 2018-12-30, dtype: float64"
      ]
     },
     "execution_count": 13,
     "metadata": {},
     "output_type": "execute_result"
    }
   ],
   "source": [
    "test.iloc[-1]"
   ]
  },
  {
   "cell_type": "markdown",
   "metadata": {
    "colab_type": "text",
    "id": "emUTK7M6wCmx"
   },
   "source": [
    "# Training ARIMA Model"
   ]
  },
  {
   "cell_type": "code",
   "execution_count": 48,
   "metadata": {},
   "outputs": [],
   "source": [
    "train.index = pd.DatetimeIndex(train.index).to_period('D')"
   ]
  },
  {
   "cell_type": "code",
   "execution_count": 14,
   "metadata": {
    "ExecuteTime": {
     "end_time": "2023-02-27T16:52:04.206561Z",
     "start_time": "2023-02-27T16:52:04.193045Z"
    }
   },
   "outputs": [
    {
     "data": {
      "text/plain": [
       "PeriodIndex(['2014-01-01', '2014-01-02', '2014-01-03', '2014-01-04',\n",
       "             '2014-01-05', '2014-01-06', '2014-01-07', '2014-01-08',\n",
       "             '2014-01-09', '2014-01-10',\n",
       "             ...\n",
       "             '2018-11-21', '2018-11-22', '2018-11-23', '2018-11-24',\n",
       "             '2018-11-25', '2018-11-26', '2018-11-27', '2018-11-28',\n",
       "             '2018-11-29', '2018-11-30'],\n",
       "            dtype='period[D]', name='DATE', length=1791)"
      ]
     },
     "execution_count": 14,
     "metadata": {},
     "output_type": "execute_result"
    }
   ],
   "source": [
    "train.index"
   ]
  },
  {
   "cell_type": "code",
   "execution_count": 15,
   "metadata": {
    "ExecuteTime": {
     "end_time": "2023-02-27T16:52:06.836513Z",
     "start_time": "2023-02-27T16:52:06.173888Z"
    },
    "colab": {
     "base_uri": "https://localhost:8080/",
     "height": 470
    },
    "colab_type": "code",
    "id": "LKr5XHt0fbWT",
    "outputId": "78d6a43a-ed4b-48b3-9bea-20fb185ed8e4"
   },
   "outputs": [
    {
     "data": {
      "text/html": [
       "<table class=\"simpletable\">\n",
       "<caption>SARIMAX Results</caption>\n",
       "<tr>\n",
       "  <th>Dep. Variable:</th>        <td>AvgTemp</td>     <th>  No. Observations:  </th>   <td>1791</td>   \n",
       "</tr>\n",
       "<tr>\n",
       "  <th>Model:</th>            <td>ARIMA(1, 0, 5)</td>  <th>  Log Likelihood     </th> <td>-4070.198</td>\n",
       "</tr>\n",
       "<tr>\n",
       "  <th>Date:</th>            <td>Mon, 27 Feb 2023</td> <th>  AIC                </th> <td>8156.395</td> \n",
       "</tr>\n",
       "<tr>\n",
       "  <th>Time:</th>                <td>22:52:06</td>     <th>  BIC                </th> <td>8200.320</td> \n",
       "</tr>\n",
       "<tr>\n",
       "  <th>Sample:</th>             <td>01-01-2014</td>    <th>  HQIC               </th> <td>8172.614</td> \n",
       "</tr>\n",
       "<tr>\n",
       "  <th></th>                   <td>- 11-30-2018</td>   <th>                     </th>     <td> </td>    \n",
       "</tr>\n",
       "<tr>\n",
       "  <th>Covariance Type:</th>        <td>opg</td>       <th>                     </th>     <td> </td>    \n",
       "</tr>\n",
       "</table>\n",
       "<table class=\"simpletable\">\n",
       "<tr>\n",
       "     <td></td>       <th>coef</th>     <th>std err</th>      <th>z</th>      <th>P>|z|</th>  <th>[0.025</th>    <th>0.975]</th>  \n",
       "</tr>\n",
       "<tr>\n",
       "  <th>const</th>  <td>   46.5856</td> <td>    0.758</td> <td>   61.454</td> <td> 0.000</td> <td>   45.100</td> <td>   48.071</td>\n",
       "</tr>\n",
       "<tr>\n",
       "  <th>ar.L1</th>  <td>    0.9856</td> <td>    0.005</td> <td>  188.230</td> <td> 0.000</td> <td>    0.975</td> <td>    0.996</td>\n",
       "</tr>\n",
       "<tr>\n",
       "  <th>ma.L1</th>  <td>   -0.1412</td> <td>    0.023</td> <td>   -6.124</td> <td> 0.000</td> <td>   -0.186</td> <td>   -0.096</td>\n",
       "</tr>\n",
       "<tr>\n",
       "  <th>ma.L2</th>  <td>   -0.2268</td> <td>    0.024</td> <td>   -9.635</td> <td> 0.000</td> <td>   -0.273</td> <td>   -0.181</td>\n",
       "</tr>\n",
       "<tr>\n",
       "  <th>ma.L3</th>  <td>   -0.2168</td> <td>    0.023</td> <td>   -9.251</td> <td> 0.000</td> <td>   -0.263</td> <td>   -0.171</td>\n",
       "</tr>\n",
       "<tr>\n",
       "  <th>ma.L4</th>  <td>   -0.1479</td> <td>    0.023</td> <td>   -6.491</td> <td> 0.000</td> <td>   -0.193</td> <td>   -0.103</td>\n",
       "</tr>\n",
       "<tr>\n",
       "  <th>ma.L5</th>  <td>   -0.0595</td> <td>    0.024</td> <td>   -2.438</td> <td> 0.015</td> <td>   -0.107</td> <td>   -0.012</td>\n",
       "</tr>\n",
       "<tr>\n",
       "  <th>sigma2</th> <td>    5.5093</td> <td>    0.174</td> <td>   31.624</td> <td> 0.000</td> <td>    5.168</td> <td>    5.851</td>\n",
       "</tr>\n",
       "</table>\n",
       "<table class=\"simpletable\">\n",
       "<tr>\n",
       "  <th>Ljung-Box (L1) (Q):</th>     <td>0.00</td> <th>  Jarque-Bera (JB):  </th> <td>14.88</td>\n",
       "</tr>\n",
       "<tr>\n",
       "  <th>Prob(Q):</th>                <td>0.97</td> <th>  Prob(JB):          </th> <td>0.00</td> \n",
       "</tr>\n",
       "<tr>\n",
       "  <th>Heteroskedasticity (H):</th> <td>0.82</td> <th>  Skew:              </th> <td>-0.15</td>\n",
       "</tr>\n",
       "<tr>\n",
       "  <th>Prob(H) (two-sided):</th>    <td>0.01</td> <th>  Kurtosis:          </th> <td>3.33</td> \n",
       "</tr>\n",
       "</table><br/><br/>Warnings:<br/>[1] Covariance matrix calculated using the outer product of gradients (complex-step)."
      ],
      "text/plain": [
       "<class 'statsmodels.iolib.summary.Summary'>\n",
       "\"\"\"\n",
       "                               SARIMAX Results                                \n",
       "==============================================================================\n",
       "Dep. Variable:                AvgTemp   No. Observations:                 1791\n",
       "Model:                 ARIMA(1, 0, 5)   Log Likelihood               -4070.198\n",
       "Date:                Mon, 27 Feb 2023   AIC                           8156.395\n",
       "Time:                        22:52:06   BIC                           8200.320\n",
       "Sample:                    01-01-2014   HQIC                          8172.614\n",
       "                         - 11-30-2018                                         \n",
       "Covariance Type:                  opg                                         \n",
       "==============================================================================\n",
       "                 coef    std err          z      P>|z|      [0.025      0.975]\n",
       "------------------------------------------------------------------------------\n",
       "const         46.5856      0.758     61.454      0.000      45.100      48.071\n",
       "ar.L1          0.9856      0.005    188.230      0.000       0.975       0.996\n",
       "ma.L1         -0.1412      0.023     -6.124      0.000      -0.186      -0.096\n",
       "ma.L2         -0.2268      0.024     -9.635      0.000      -0.273      -0.181\n",
       "ma.L3         -0.2168      0.023     -9.251      0.000      -0.263      -0.171\n",
       "ma.L4         -0.1479      0.023     -6.491      0.000      -0.193      -0.103\n",
       "ma.L5         -0.0595      0.024     -2.438      0.015      -0.107      -0.012\n",
       "sigma2         5.5093      0.174     31.624      0.000       5.168       5.851\n",
       "===================================================================================\n",
       "Ljung-Box (L1) (Q):                   0.00   Jarque-Bera (JB):                14.88\n",
       "Prob(Q):                              0.97   Prob(JB):                         0.00\n",
       "Heteroskedasticity (H):               0.82   Skew:                            -0.15\n",
       "Prob(H) (two-sided):                  0.01   Kurtosis:                         3.33\n",
       "===================================================================================\n",
       "\n",
       "Warnings:\n",
       "[1] Covariance matrix calculated using the outer product of gradients (complex-step).\n",
       "\"\"\""
      ]
     },
     "execution_count": 15,
     "metadata": {},
     "output_type": "execute_result"
    }
   ],
   "source": [
    "#from statsmodels.tsa.arima_model import ARIMA\n",
    "#import statsmodels.tsa.arima.model.ARIMA as arima\n",
    "from statsmodels.tsa.arima.model import ARIMA\n",
    "#model = ARIMA(dataFrame.columnName, order=(1,0,0))\n",
    "\n",
    "model = ARIMA(train['AvgTemp'], order=(1,0,5))\n",
    "model = model.fit()\n",
    "model.summary() "
   ]
  },
  {
   "cell_type": "markdown",
   "metadata": {
    "colab_type": "text",
    "id": "QnJXQ4iBwFec"
   },
   "source": [
    "# Predictions on Test Set"
   ]
  },
  {
   "cell_type": "code",
   "execution_count": 17,
   "metadata": {
    "ExecuteTime": {
     "end_time": "2023-02-27T16:53:32.524015Z",
     "start_time": "2023-02-27T16:53:32.514015Z"
    }
   },
   "outputs": [],
   "source": [
    "y_pred = model.get_forecast(len(test.index))"
   ]
  },
  {
   "cell_type": "code",
   "execution_count": 20,
   "metadata": {
    "ExecuteTime": {
     "end_time": "2023-02-27T16:55:35.016328Z",
     "start_time": "2023-02-27T16:55:35.006301Z"
    }
   },
   "outputs": [
    {
     "data": {
      "text/plain": [
       "<statsmodels.tsa.statespace.mlemodel.PredictionResultsWrapper at 0x2847ca75510>"
      ]
     },
     "execution_count": 20,
     "metadata": {},
     "output_type": "execute_result"
    }
   ],
   "source": [
    "y_pred"
   ]
  },
  {
   "cell_type": "code",
   "execution_count": 18,
   "metadata": {
    "ExecuteTime": {
     "end_time": "2023-02-27T16:54:05.900736Z",
     "start_time": "2023-02-27T16:54:05.881929Z"
    }
   },
   "outputs": [],
   "source": [
    "y_pred_df = y_pred.conf_int(alpha = 0.05) "
   ]
  },
  {
   "cell_type": "code",
   "execution_count": 19,
   "metadata": {
    "ExecuteTime": {
     "end_time": "2023-02-27T16:54:59.635511Z",
     "start_time": "2023-02-27T16:54:59.611973Z"
    }
   },
   "outputs": [
    {
     "data": {
      "text/html": [
       "<div>\n",
       "<style scoped>\n",
       "    .dataframe tbody tr th:only-of-type {\n",
       "        vertical-align: middle;\n",
       "    }\n",
       "\n",
       "    .dataframe tbody tr th {\n",
       "        vertical-align: top;\n",
       "    }\n",
       "\n",
       "    .dataframe thead th {\n",
       "        text-align: right;\n",
       "    }\n",
       "</style>\n",
       "<table border=\"1\" class=\"dataframe\">\n",
       "  <thead>\n",
       "    <tr style=\"text-align: right;\">\n",
       "      <th></th>\n",
       "      <th>lower AvgTemp</th>\n",
       "      <th>upper AvgTemp</th>\n",
       "    </tr>\n",
       "  </thead>\n",
       "  <tbody>\n",
       "    <tr>\n",
       "      <th>2018-11-27</th>\n",
       "      <td>40.153692</td>\n",
       "      <td>49.354525</td>\n",
       "    </tr>\n",
       "    <tr>\n",
       "      <th>2018-11-28</th>\n",
       "      <td>38.966791</td>\n",
       "      <td>51.008798</td>\n",
       "    </tr>\n",
       "    <tr>\n",
       "      <th>2018-11-29</th>\n",
       "      <td>38.754787</td>\n",
       "      <td>52.022694</td>\n",
       "    </tr>\n",
       "    <tr>\n",
       "      <th>2018-11-30</th>\n",
       "      <td>38.861226</td>\n",
       "      <td>52.581864</td>\n",
       "    </tr>\n",
       "    <tr>\n",
       "      <th>2018-12-01</th>\n",
       "      <td>38.924678</td>\n",
       "      <td>52.802787</td>\n",
       "    </tr>\n",
       "    <tr>\n",
       "      <th>2018-12-02</th>\n",
       "      <td>38.894246</td>\n",
       "      <td>52.854006</td>\n",
       "    </tr>\n",
       "    <tr>\n",
       "      <th>2018-12-03</th>\n",
       "      <td>38.865059</td>\n",
       "      <td>52.903681</td>\n",
       "    </tr>\n",
       "    <tr>\n",
       "      <th>2018-12-04</th>\n",
       "      <td>38.837062</td>\n",
       "      <td>52.951870</td>\n",
       "    </tr>\n",
       "    <tr>\n",
       "      <th>2018-12-05</th>\n",
       "      <td>38.810205</td>\n",
       "      <td>52.998629</td>\n",
       "    </tr>\n",
       "    <tr>\n",
       "      <th>2018-12-06</th>\n",
       "      <td>38.784439</td>\n",
       "      <td>53.044010</td>\n",
       "    </tr>\n",
       "    <tr>\n",
       "      <th>2018-12-07</th>\n",
       "      <td>38.759718</td>\n",
       "      <td>53.088064</td>\n",
       "    </tr>\n",
       "    <tr>\n",
       "      <th>2018-12-08</th>\n",
       "      <td>38.735999</td>\n",
       "      <td>53.130838</td>\n",
       "    </tr>\n",
       "    <tr>\n",
       "      <th>2018-12-09</th>\n",
       "      <td>38.713238</td>\n",
       "      <td>53.172379</td>\n",
       "    </tr>\n",
       "    <tr>\n",
       "      <th>2018-12-10</th>\n",
       "      <td>38.691398</td>\n",
       "      <td>53.212728</td>\n",
       "    </tr>\n",
       "    <tr>\n",
       "      <th>2018-12-11</th>\n",
       "      <td>38.670441</td>\n",
       "      <td>53.251929</td>\n",
       "    </tr>\n",
       "    <tr>\n",
       "      <th>2018-12-12</th>\n",
       "      <td>38.650331</td>\n",
       "      <td>53.290020</td>\n",
       "    </tr>\n",
       "    <tr>\n",
       "      <th>2018-12-13</th>\n",
       "      <td>38.631033</td>\n",
       "      <td>53.327039</td>\n",
       "    </tr>\n",
       "    <tr>\n",
       "      <th>2018-12-14</th>\n",
       "      <td>38.612516</td>\n",
       "      <td>53.363023</td>\n",
       "    </tr>\n",
       "    <tr>\n",
       "      <th>2018-12-15</th>\n",
       "      <td>38.594748</td>\n",
       "      <td>53.398006</td>\n",
       "    </tr>\n",
       "    <tr>\n",
       "      <th>2018-12-16</th>\n",
       "      <td>38.577700</td>\n",
       "      <td>53.432021</td>\n",
       "    </tr>\n",
       "    <tr>\n",
       "      <th>2018-12-17</th>\n",
       "      <td>38.561344</td>\n",
       "      <td>53.465100</td>\n",
       "    </tr>\n",
       "    <tr>\n",
       "      <th>2018-12-18</th>\n",
       "      <td>38.545652</td>\n",
       "      <td>53.497274</td>\n",
       "    </tr>\n",
       "    <tr>\n",
       "      <th>2018-12-19</th>\n",
       "      <td>38.530599</td>\n",
       "      <td>53.528572</td>\n",
       "    </tr>\n",
       "    <tr>\n",
       "      <th>2018-12-20</th>\n",
       "      <td>38.516159</td>\n",
       "      <td>53.559023</td>\n",
       "    </tr>\n",
       "    <tr>\n",
       "      <th>2018-12-21</th>\n",
       "      <td>38.502311</td>\n",
       "      <td>53.588652</td>\n",
       "    </tr>\n",
       "    <tr>\n",
       "      <th>2018-12-22</th>\n",
       "      <td>38.489029</td>\n",
       "      <td>53.617487</td>\n",
       "    </tr>\n",
       "    <tr>\n",
       "      <th>2018-12-23</th>\n",
       "      <td>38.476294</td>\n",
       "      <td>53.645551</td>\n",
       "    </tr>\n",
       "    <tr>\n",
       "      <th>2018-12-24</th>\n",
       "      <td>38.464084</td>\n",
       "      <td>53.672870</td>\n",
       "    </tr>\n",
       "    <tr>\n",
       "      <th>2018-12-25</th>\n",
       "      <td>38.452379</td>\n",
       "      <td>53.699465</td>\n",
       "    </tr>\n",
       "    <tr>\n",
       "      <th>2018-12-26</th>\n",
       "      <td>38.441161</td>\n",
       "      <td>53.725361</td>\n",
       "    </tr>\n",
       "  </tbody>\n",
       "</table>\n",
       "</div>"
      ],
      "text/plain": [
       "            lower AvgTemp  upper AvgTemp\n",
       "2018-11-27      40.153692      49.354525\n",
       "2018-11-28      38.966791      51.008798\n",
       "2018-11-29      38.754787      52.022694\n",
       "2018-11-30      38.861226      52.581864\n",
       "2018-12-01      38.924678      52.802787\n",
       "2018-12-02      38.894246      52.854006\n",
       "2018-12-03      38.865059      52.903681\n",
       "2018-12-04      38.837062      52.951870\n",
       "2018-12-05      38.810205      52.998629\n",
       "2018-12-06      38.784439      53.044010\n",
       "2018-12-07      38.759718      53.088064\n",
       "2018-12-08      38.735999      53.130838\n",
       "2018-12-09      38.713238      53.172379\n",
       "2018-12-10      38.691398      53.212728\n",
       "2018-12-11      38.670441      53.251929\n",
       "2018-12-12      38.650331      53.290020\n",
       "2018-12-13      38.631033      53.327039\n",
       "2018-12-14      38.612516      53.363023\n",
       "2018-12-15      38.594748      53.398006\n",
       "2018-12-16      38.577700      53.432021\n",
       "2018-12-17      38.561344      53.465100\n",
       "2018-12-18      38.545652      53.497274\n",
       "2018-12-19      38.530599      53.528572\n",
       "2018-12-20      38.516159      53.559023\n",
       "2018-12-21      38.502311      53.588652\n",
       "2018-12-22      38.489029      53.617487\n",
       "2018-12-23      38.476294      53.645551\n",
       "2018-12-24      38.464084      53.672870\n",
       "2018-12-25      38.452379      53.699465\n",
       "2018-12-26      38.441161      53.725361"
      ]
     },
     "execution_count": 19,
     "metadata": {},
     "output_type": "execute_result"
    }
   ],
   "source": [
    "y_pred_df"
   ]
  },
  {
   "cell_type": "code",
   "execution_count": null,
   "metadata": {},
   "outputs": [],
   "source": [
    "y_pred_df[\"Predictions\"] = model.predict(start = y_pred_df.index[0], end = y_pred_df.index[-1])\n",
    "y_pred_df.index = test.index\n",
    "y"
   ]
  },
  {
   "cell_type": "code",
   "execution_count": null,
   "metadata": {},
   "outputs": [],
   "source": [
    "y_pred = ARIMAmodel.get_forecast(len(test.index))\n",
    "y_pred_df = y_pred.conf_int(alpha = 0.05) \n",
    "y_pred_df[\"Predictions\"] = ARIMAmodel.predict(start = y_pred_df.index[0], end = y_pred_df.index[-1])\n",
    "\n"
   ]
  },
  {
   "cell_type": "code",
   "execution_count": null,
   "metadata": {},
   "outputs": [],
   "source": []
  },
  {
   "cell_type": "code",
   "execution_count": null,
   "metadata": {},
   "outputs": [],
   "source": [
    "y_pred_out = y_pred_df[\"Predictions\"] \n",
    "plt.plot(y_pred_out, color='Yellow', label = 'ARIMA Predictions')\n",
    "plt.legend()"
   ]
  },
  {
   "cell_type": "code",
   "execution_count": null,
   "metadata": {},
   "outputs": [],
   "source": []
  },
  {
   "cell_type": "code",
   "execution_count": 52,
   "metadata": {},
   "outputs": [],
   "source": [
    "test.index = pd.DatetimeIndex(test.index).to_period('D')"
   ]
  },
  {
   "cell_type": "code",
   "execution_count": 16,
   "metadata": {},
   "outputs": [
    {
     "data": {
      "text/plain": [
       "DatetimeIndex(['2018-12-01', '2018-12-02', '2018-12-03', '2018-12-04',\n",
       "               '2018-12-05', '2018-12-06', '2018-12-07', '2018-12-08',\n",
       "               '2018-12-09', '2018-12-10', '2018-12-11', '2018-12-12',\n",
       "               '2018-12-13', '2018-12-14', '2018-12-15', '2018-12-16',\n",
       "               '2018-12-17', '2018-12-18', '2018-12-19', '2018-12-20',\n",
       "               '2018-12-21', '2018-12-22', '2018-12-23', '2018-12-24',\n",
       "               '2018-12-25', '2018-12-26', '2018-12-27', '2018-12-28',\n",
       "               '2018-12-29', '2018-12-30'],\n",
       "              dtype='datetime64[ns]', name='DATE', freq=None)"
      ]
     },
     "execution_count": 16,
     "metadata": {},
     "output_type": "execute_result"
    }
   ],
   "source": [
    "test.index"
   ]
  },
  {
   "cell_type": "code",
   "execution_count": 61,
   "metadata": {},
   "outputs": [
    {
     "data": {
      "text/plain": [
       "PeriodIndex(['2014-01-01', '2014-01-02', '2014-01-03', '2014-01-04',\n",
       "             '2014-01-05', '2014-01-06', '2014-01-07', '2014-01-08',\n",
       "             '2014-01-09', '2014-01-10',\n",
       "             ...\n",
       "             '2018-11-21', '2018-11-22', '2018-11-23', '2018-11-24',\n",
       "             '2018-11-25', '2018-11-26', '2018-11-27', '2018-11-28',\n",
       "             '2018-11-29', '2018-11-30'],\n",
       "            dtype='period[D]', name='DATE', length=1791)"
      ]
     },
     "execution_count": 61,
     "metadata": {},
     "output_type": "execute_result"
    }
   ],
   "source": [
    "train.index"
   ]
  },
  {
   "cell_type": "code",
   "execution_count": 101,
   "metadata": {},
   "outputs": [
    {
     "data": {
      "text/plain": [
       "Period('2018-12-01', 'D')"
      ]
     },
     "execution_count": 101,
     "metadata": {},
     "output_type": "execute_result"
    }
   ],
   "source": [
    "test.index[0]"
   ]
  },
  {
   "cell_type": "code",
   "execution_count": 102,
   "metadata": {},
   "outputs": [
    {
     "name": "stdout",
     "output_type": "stream",
     "text": [
      "2018-12-01    45.863733\n",
      "Freq: D, Name: ARIMA1 predictions, dtype: float64\n"
     ]
    }
   ],
   "source": [
    "#pred1 = model.predict(start='2014-01-01', end='2014-01-30').rename('ARIMA1 predictions')\n",
    "pred1 = model.predict(start=test.index[0]).rename('ARIMA1 predictions')\n",
    "print(pred1)"
   ]
  },
  {
   "cell_type": "code",
   "execution_count": 103,
   "metadata": {},
   "outputs": [
    {
     "name": "stdout",
     "output_type": "stream",
     "text": [
      "2018-12-02    45.874126\n",
      "Freq: D, Name: ARIMA1 predictions, dtype: float64\n"
     ]
    }
   ],
   "source": [
    "pred1 = model.predict(start=test.index[1]).rename('ARIMA1 predictions')\n",
    "print(pred1)"
   ]
  },
  {
   "cell_type": "code",
   "execution_count": 106,
   "metadata": {},
   "outputs": [
    {
     "name": "stdout",
     "output_type": "stream",
     "text": [
      "2018-12-16    46.004861\n",
      "Freq: D, Name: ARIMA1 predictions, dtype: float64\n"
     ]
    }
   ],
   "source": [
    "pred1 = model.predict(start=test.index[15]).rename('ARIMA1 predictions')\n",
    "print(pred1)"
   ]
  },
  {
   "cell_type": "code",
   "execution_count": null,
   "metadata": {},
   "outputs": [],
   "source": []
  },
  {
   "cell_type": "code",
   "execution_count": 87,
   "metadata": {},
   "outputs": [
    {
     "data": {
      "text/plain": [
       "<AxesSubplot: xlabel='DATE'>"
      ]
     },
     "execution_count": 87,
     "metadata": {},
     "output_type": "execute_result"
    },
    {
     "data": {
      "image/png": "[encoded data removed]",
      "text/plain": [
       "<Figure size 432x288 with 1 Axes>"
      ]
     },
     "metadata": {
      "needs_background": "light"
     },
     "output_type": "display_data"
    }
   ],
   "source": [
    "pred1.plot()"
   ]
  },
  {
   "cell_type": "code",
   "execution_count": 76,
   "metadata": {},
   "outputs": [
    {
     "data": {
      "text/plain": [
       "<statsmodels.tsa.arima.model.ARIMAResultsWrapper at 0x179045e7b50>"
      ]
     },
     "execution_count": 76,
     "metadata": {},
     "output_type": "execute_result"
    }
   ],
   "source": [
    "model"
   ]
  },
  {
   "cell_type": "code",
   "execution_count": 17,
   "metadata": {},
   "outputs": [
    {
     "data": {
      "text/plain": [
       "DatetimeIndex(['2014-01-01', '2014-01-02', '2014-01-03', '2014-01-04',\n",
       "               '2014-01-05', '2014-01-06', '2014-01-07', '2014-01-08',\n",
       "               '2014-01-09', '2014-01-10',\n",
       "               ...\n",
       "               '2018-11-21', '2018-11-22', '2018-11-23', '2018-11-24',\n",
       "               '2018-11-25', '2018-11-26', '2018-11-27', '2018-11-28',\n",
       "               '2018-11-29', '2018-11-30'],\n",
       "              dtype='datetime64[ns]', name='DATE', length=1791, freq=None)"
      ]
     },
     "execution_count": 17,
     "metadata": {},
     "output_type": "execute_result"
    }
   ],
   "source": [
    "train.index"
   ]
  },
  {
   "cell_type": "code",
   "execution_count": 88,
   "metadata": {},
   "outputs": [
    {
     "data": {
      "text/plain": [
       "PeriodIndex(['2018-12-01', '2018-12-02', '2018-12-03', '2018-12-04',\n",
       "             '2018-12-05', '2018-12-06', '2018-12-07', '2018-12-08',\n",
       "             '2018-12-09', '2018-12-10', '2018-12-11', '2018-12-12',\n",
       "             '2018-12-13', '2018-12-14', '2018-12-15', '2018-12-16',\n",
       "             '2018-12-17', '2018-12-18', '2018-12-19', '2018-12-20',\n",
       "             '2018-12-21', '2018-12-22', '2018-12-23', '2018-12-24',\n",
       "             '2018-12-25', '2018-12-26', '2018-12-27', '2018-12-28',\n",
       "             '2018-12-29', '2018-12-30'],\n",
       "            dtype='period[D]', name='DATE')"
      ]
     },
     "execution_count": 88,
     "metadata": {},
     "output_type": "execute_result"
    }
   ],
   "source": [
    "test.index"
   ]
  },
  {
   "cell_type": "code",
   "execution_count": 22,
   "metadata": {},
   "outputs": [
    {
     "name": "stdout",
     "output_type": "stream",
     "text": [
      "1791    44.754109\n",
      "1792    44.987795\n",
      "1793    45.388741\n",
      "1794    45.721545\n",
      "1795    45.863733\n",
      "1796    45.874126\n",
      "1797    45.884370\n",
      "1798    45.894466\n",
      "1799    45.904417\n",
      "1800    45.914225\n",
      "1801    45.923891\n",
      "1802    45.933418\n",
      "1803    45.942808\n",
      "1804    45.952063\n",
      "1805    45.961185\n",
      "1806    45.970175\n",
      "1807    45.979036\n",
      "1808    45.987769\n",
      "1809    45.996377\n",
      "1810    46.004861\n",
      "1811    46.013222\n",
      "1812    46.021463\n",
      "1813    46.029586\n",
      "1814    46.037591\n",
      "1815    46.045481\n",
      "1816    46.053258\n",
      "1817    46.060923\n",
      "1818    46.068477\n",
      "1819    46.075922\n",
      "1820    46.083261\n",
      "Name: ARIMA predictions, dtype: float64\n"
     ]
    },
    {
     "name": "stderr",
     "output_type": "stream",
     "text": [
      "C:\\Python310\\lib\\site-packages\\statsmodels\\tsa\\base\\tsa_model.py:834: ValueWarning: No supported index is available. Prediction results will be given with an integer index beginning at `start`.\n",
      "  return get_prediction_index(\n"
     ]
    }
   ],
   "source": [
    "start = len(train)\n",
    "end = len(train)+len(test) - 1\n",
    "pred = model.predict(start=start, end=end).rename('ARIMA predictions')\n",
    "print(pred)"
   ]
  },
  {
   "cell_type": "code",
   "execution_count": null,
   "metadata": {},
   "outputs": [],
   "source": [
    "p = ARIMA.predict("
   ]
  },
  {
   "cell_type": "code",
   "execution_count": 78,
   "metadata": {},
   "outputs": [
    {
     "data": {
      "text/plain": [
       "1791"
      ]
     },
     "execution_count": 78,
     "metadata": {},
     "output_type": "execute_result"
    }
   ],
   "source": [
    "start = len(train['AvgTemp'])\n",
    "start"
   ]
  },
  {
   "cell_type": "code",
   "execution_count": 83,
   "metadata": {},
   "outputs": [],
   "source": [
    "start = test['AvgTemp'].index[0]\n",
    "end = test['AvgTemp'].index[0]"
   ]
  },
  {
   "cell_type": "code",
   "execution_count": 82,
   "metadata": {},
   "outputs": [
    {
     "data": {
      "text/plain": [
       "Period('2018-12-30', 'D')"
      ]
     },
     "execution_count": 82,
     "metadata": {},
     "output_type": "execute_result"
    }
   ],
   "source": [
    "test['AvgTemp'].index[-1]"
   ]
  },
  {
   "cell_type": "code",
   "execution_count": 89,
   "metadata": {},
   "outputs": [
    {
     "name": "stdout",
     "output_type": "stream",
     "text": [
      "2018-12-01    45.863733\n",
      "2018-12-02    45.874126\n",
      "2018-12-03    45.884370\n",
      "2018-12-04    45.894466\n",
      "2018-12-05    45.904417\n",
      "2018-12-06    45.914225\n",
      "2018-12-07    45.923891\n",
      "2018-12-08    45.933418\n",
      "2018-12-09    45.942808\n",
      "2018-12-10    45.952063\n",
      "2018-12-11    45.961185\n",
      "2018-12-12    45.970175\n",
      "2018-12-13    45.979036\n",
      "2018-12-14    45.987769\n",
      "2018-12-15    45.996377\n",
      "2018-12-16    46.004861\n",
      "2018-12-17    46.013222\n",
      "2018-12-18    46.021463\n",
      "2018-12-19    46.029586\n",
      "2018-12-20    46.037591\n",
      "2018-12-21    46.045481\n",
      "2018-12-22    46.053258\n",
      "2018-12-23    46.060923\n",
      "2018-12-24    46.068477\n",
      "2018-12-25    46.075922\n",
      "2018-12-26    46.083261\n",
      "2018-12-27    46.090493\n",
      "2018-12-28    46.097622\n",
      "2018-12-29    46.104648\n",
      "2018-12-30    46.111573\n",
      "Freq: D, Name: ARIMA predictions, dtype: float64\n"
     ]
    }
   ],
   "source": [
    "#start = len(train['AvgTemp'])\n",
    "#end = len(train['AvgTemp'])+len(test['AvgTemp']) - 1\n",
    "pred = model.predict(start='2018-12-01', end='2018-12-30',typ='levels').rename('ARIMA predictions')\n",
    "print(pred)"
   ]
  },
  {
   "cell_type": "code",
   "execution_count": 85,
   "metadata": {},
   "outputs": [
    {
     "data": {
      "text/plain": [
       "2018-12-01    45.863733\n",
       "Freq: D, Name: ARIMA predictions, dtype: float64"
      ]
     },
     "execution_count": 85,
     "metadata": {},
     "output_type": "execute_result"
    }
   ],
   "source": [
    "pred"
   ]
  },
  {
   "cell_type": "code",
   "execution_count": 31,
   "metadata": {},
   "outputs": [
    {
     "data": {
      "text/plain": [
       "DATE\n",
       "2018-12-01    44.754109\n",
       "2018-12-02    44.987795\n",
       "2018-12-03    45.388741\n",
       "2018-12-04    45.721545\n",
       "2018-12-05    45.863733\n",
       "2018-12-06    45.874126\n",
       "2018-12-07    45.884370\n",
       "2018-12-08    45.894466\n",
       "2018-12-09    45.904417\n",
       "2018-12-10    45.914225\n",
       "2018-12-11    45.923891\n",
       "2018-12-12    45.933418\n",
       "2018-12-13    45.942808\n",
       "2018-12-14    45.952063\n",
       "2018-12-15    45.961185\n",
       "2018-12-16    45.970175\n",
       "2018-12-17    45.979036\n",
       "2018-12-18    45.987769\n",
       "2018-12-19    45.996377\n",
       "2018-12-20    46.004861\n",
       "2018-12-21    46.013222\n",
       "2018-12-22    46.021463\n",
       "2018-12-23    46.029586\n",
       "2018-12-24    46.037591\n",
       "2018-12-25    46.045481\n",
       "2018-12-26    46.053258\n",
       "2018-12-27    46.060923\n",
       "2018-12-28    46.068477\n",
       "2018-12-29    46.075922\n",
       "2018-12-30    46.083261\n",
       "Name: ARIMA predictions, dtype: float64"
      ]
     },
     "execution_count": 31,
     "metadata": {},
     "output_type": "execute_result"
    }
   ],
   "source": [
    "pred.index = test.index\n",
    "pred"
   ]
  },
  {
   "cell_type": "code",
   "execution_count": 37,
   "metadata": {},
   "outputs": [
    {
     "data": {
      "text/plain": [
       "pandas.core.series.Series"
      ]
     },
     "execution_count": 37,
     "metadata": {},
     "output_type": "execute_result"
    }
   ],
   "source": [
    "type(pred)"
   ]
  },
  {
   "cell_type": "code",
   "execution_count": 38,
   "metadata": {},
   "outputs": [
    {
     "data": {
      "text/plain": [
       "pandas.core.series.Series"
      ]
     },
     "execution_count": 38,
     "metadata": {},
     "output_type": "execute_result"
    }
   ],
   "source": [
    "type(test['AvgTemp'])"
   ]
  },
  {
   "cell_type": "code",
   "execution_count": 45,
   "metadata": {},
   "outputs": [
    {
     "data": {
      "text/plain": [
       "DATE\n",
       "2018-12-01    44.0\n",
       "2018-12-02    42.0\n",
       "2018-12-03    45.0\n",
       "2018-12-04    48.0\n",
       "2018-12-05    45.0\n",
       "2018-12-06    44.0\n",
       "2018-12-07    45.0\n",
       "2018-12-08    44.0\n",
       "2018-12-09    45.0\n",
       "2018-12-10    46.0\n",
       "2018-12-11    47.0\n",
       "2018-12-12    47.0\n",
       "2018-12-13    45.0\n",
       "2018-12-14    46.0\n",
       "2018-12-15    47.0\n",
       "2018-12-16    49.0\n",
       "2018-12-17    51.0\n",
       "2018-12-18    43.0\n",
       "2018-12-19    42.0\n",
       "2018-12-20    48.0\n",
       "2018-12-21    50.0\n",
       "2018-12-22    47.0\n",
       "2018-12-23    47.0\n",
       "2018-12-24    44.0\n",
       "2018-12-25    42.0\n",
       "2018-12-26    40.0\n",
       "2018-12-27    39.0\n",
       "2018-12-28    40.0\n",
       "2018-12-29    42.0\n",
       "2018-12-30    46.0\n",
       "Name: AvgTemp, dtype: float64"
      ]
     },
     "execution_count": 45,
     "metadata": {},
     "output_type": "execute_result"
    }
   ],
   "source": [
    "test['AvgTemp']"
   ]
  },
  {
   "cell_type": "code",
   "execution_count": 39,
   "metadata": {},
   "outputs": [
    {
     "name": "stdout",
     "output_type": "stream",
     "text": [
      "<class 'pandas.core.series.Series'>\n",
      "DatetimeIndex: 30 entries, 2018-12-01 to 2018-12-30\n",
      "Series name: AvgTemp\n",
      "Non-Null Count  Dtype  \n",
      "--------------  -----  \n",
      "30 non-null     float64\n",
      "dtypes: float64(1)\n",
      "memory usage: 480.0 bytes\n"
     ]
    }
   ],
   "source": [
    "test['AvgTemp'].info()"
   ]
  },
  {
   "cell_type": "code",
   "execution_count": 40,
   "metadata": {},
   "outputs": [
    {
     "name": "stdout",
     "output_type": "stream",
     "text": [
      "<class 'pandas.core.series.Series'>\n",
      "DatetimeIndex: 30 entries, 2018-12-01 to 2018-12-30\n",
      "Series name: ARIMA predictions\n",
      "Non-Null Count  Dtype  \n",
      "--------------  -----  \n",
      "30 non-null     float64\n",
      "dtypes: float64(1)\n",
      "memory usage: 480.0 bytes\n"
     ]
    }
   ],
   "source": [
    "pred.info()"
   ]
  },
  {
   "cell_type": "code",
   "execution_count": 44,
   "metadata": {},
   "outputs": [
    {
     "data": {
      "text/plain": [
       "<AxesSubplot: xlabel='DATE'>"
      ]
     },
     "execution_count": 44,
     "metadata": {},
     "output_type": "execute_result"
    },
    {
     "data": {
      "image/png": "[encoded data removed]",
      "text/plain": [
       "<Figure size 432x288 with 1 Axes>"
      ]
     },
     "metadata": {
      "needs_background": "light"
     },
     "output_type": "display_data"
    }
   ],
   "source": [
    "pred.plot()"
   ]
  },
  {
   "cell_type": "code",
   "execution_count": 19,
   "metadata": {},
   "outputs": [
    {
     "data": {
      "text/plain": [
       "<AxesSubplot: xlabel='DATE'>"
      ]
     },
     "execution_count": 19,
     "metadata": {},
     "output_type": "execute_result"
    },
    {
     "data": {
      "image/png": "[encoded data removed]",
      "text/plain": [
       "<Figure size 432x288 with 1 Axes>"
      ]
     },
     "metadata": {
      "needs_background": "light"
     },
     "output_type": "display_data"
    }
   ],
   "source": [
    "test['AvgTemp'].plot()"
   ]
  },
  {
   "cell_type": "code",
   "execution_count": 33,
   "metadata": {},
   "outputs": [
    {
     "data": {
      "text/plain": [
       "(30,)"
      ]
     },
     "execution_count": 33,
     "metadata": {},
     "output_type": "execute_result"
    }
   ],
   "source": [
    "pred.shape"
   ]
  },
  {
   "cell_type": "code",
   "execution_count": 34,
   "metadata": {},
   "outputs": [
    {
     "data": {
      "text/plain": [
       "(30,)"
      ]
     },
     "execution_count": 34,
     "metadata": {},
     "output_type": "execute_result"
    }
   ],
   "source": [
    "test['AvgTemp'].shape"
   ]
  },
  {
   "cell_type": "code",
   "execution_count": 35,
   "metadata": {},
   "outputs": [
    {
     "data": {
      "text/plain": [
       "DATE\n",
       "2018-12-01    44.0\n",
       "2018-12-02    42.0\n",
       "2018-12-03    45.0\n",
       "2018-12-04    48.0\n",
       "2018-12-05    45.0\n",
       "2018-12-06    44.0\n",
       "2018-12-07    45.0\n",
       "2018-12-08    44.0\n",
       "2018-12-09    45.0\n",
       "2018-12-10    46.0\n",
       "2018-12-11    47.0\n",
       "2018-12-12    47.0\n",
       "2018-12-13    45.0\n",
       "2018-12-14    46.0\n",
       "2018-12-15    47.0\n",
       "2018-12-16    49.0\n",
       "2018-12-17    51.0\n",
       "2018-12-18    43.0\n",
       "2018-12-19    42.0\n",
       "2018-12-20    48.0\n",
       "2018-12-21    50.0\n",
       "2018-12-22    47.0\n",
       "2018-12-23    47.0\n",
       "2018-12-24    44.0\n",
       "2018-12-25    42.0\n",
       "2018-12-26    40.0\n",
       "2018-12-27    39.0\n",
       "2018-12-28    40.0\n",
       "2018-12-29    42.0\n",
       "2018-12-30    46.0\n",
       "Name: AvgTemp, dtype: float64"
      ]
     },
     "execution_count": 35,
     "metadata": {},
     "output_type": "execute_result"
    }
   ],
   "source": [
    "test['AvgTemp']"
   ]
  },
  {
   "cell_type": "code",
   "execution_count": 30,
   "metadata": {},
   "outputs": [
    {
     "data": {
      "text/plain": [
       "30"
      ]
     },
     "execution_count": 30,
     "metadata": {},
     "output_type": "execute_result"
    }
   ],
   "source": [
    "len(pred)"
   ]
  },
  {
   "cell_type": "code",
   "execution_count": 29,
   "metadata": {},
   "outputs": [
    {
     "data": {
      "text/plain": [
       "DatetimeIndex(['2018-12-01', '2018-12-02', '2018-12-03', '2018-12-04',\n",
       "               '2018-12-05', '2018-12-06', '2018-12-07', '2018-12-08',\n",
       "               '2018-12-09', '2018-12-10', '2018-12-11', '2018-12-12',\n",
       "               '2018-12-13', '2018-12-14', '2018-12-15', '2018-12-16',\n",
       "               '2018-12-17', '2018-12-18', '2018-12-19', '2018-12-20',\n",
       "               '2018-12-21', '2018-12-22', '2018-12-23', '2018-12-24',\n",
       "               '2018-12-25', '2018-12-26', '2018-12-27', '2018-12-28',\n",
       "               '2018-12-29', '2018-12-30'],\n",
       "              dtype='datetime64[ns]', name='DATE', freq=None)"
      ]
     },
     "execution_count": 29,
     "metadata": {},
     "output_type": "execute_result"
    }
   ],
   "source": [
    "test.index"
   ]
  },
  {
   "cell_type": "code",
   "execution_count": 114,
   "metadata": {},
   "outputs": [
    {
     "data": {
      "text/plain": [
       "1791    44.754109\n",
       "1792    44.987795\n",
       "1793    45.388741\n",
       "1794    45.721545\n",
       "1795    45.863733\n",
       "1796    45.874126\n",
       "1797    45.884370\n",
       "1798    45.894466\n",
       "1799    45.904417\n",
       "1800    45.914225\n",
       "1801    45.923891\n",
       "1802    45.933418\n",
       "1803    45.942808\n",
       "1804    45.952063\n",
       "1805    45.961185\n",
       "1806    45.970175\n",
       "1807    45.979036\n",
       "1808    45.987769\n",
       "1809    45.996377\n",
       "1810    46.004861\n",
       "1811    46.013222\n",
       "1812    46.021463\n",
       "1813    46.029586\n",
       "1814    46.037591\n",
       "1815    46.045481\n",
       "1816    46.053258\n",
       "1817    46.060923\n",
       "1818    46.068477\n",
       "1819    46.075922\n",
       "1820    46.083261\n",
       "Name: ARIMA predictions, dtype: float64"
      ]
     },
     "execution_count": 114,
     "metadata": {},
     "output_type": "execute_result"
    }
   ],
   "source": [
    "pred"
   ]
  },
  {
   "cell_type": "code",
   "execution_count": 32,
   "metadata": {},
   "outputs": [
    {
     "data": {
      "text/plain": [
       "<AxesSubplot: xlabel='DATE'>"
      ]
     },
     "execution_count": 32,
     "metadata": {},
     "output_type": "execute_result"
    },
    {
     "data": {
      "image/png": "[encoded data removed]",
      "text/plain": [
       "<Figure size 432x288 with 1 Axes>"
      ]
     },
     "metadata": {
      "needs_background": "light"
     },
     "output_type": "display_data"
    }
   ],
   "source": [
    "#index_future_dates = pd.date_range(start='2018-12-01', end='2018-12-30')\n",
    "#pred.index = index_future_dates\n",
    "pred.plot(legend=True)\n"
   ]
  },
  {
   "cell_type": "code",
   "execution_count": 97,
   "metadata": {},
   "outputs": [
    {
     "data": {
      "text/plain": [
       "1791"
      ]
     },
     "execution_count": 97,
     "metadata": {},
     "output_type": "execute_result"
    }
   ],
   "source": [
    "start = len(train)\n",
    "start"
   ]
  },
  {
   "cell_type": "code",
   "execution_count": 95,
   "metadata": {},
   "outputs": [
    {
     "data": {
      "text/plain": [
       "1791"
      ]
     },
     "execution_count": 95,
     "metadata": {},
     "output_type": "execute_result"
    }
   ],
   "source": [
    "train.shape[0]"
   ]
  },
  {
   "cell_type": "code",
   "execution_count": 94,
   "metadata": {},
   "outputs": [
    {
     "data": {
      "text/plain": [
       "1820"
      ]
     },
     "execution_count": 94,
     "metadata": {},
     "output_type": "execute_result"
    }
   ],
   "source": [
    "train.shape[0]+test.shape[0]-1"
   ]
  },
  {
   "cell_type": "code",
   "execution_count": 90,
   "metadata": {},
   "outputs": [
    {
     "data": {
      "text/plain": [
       "DatetimeIndex(['2018-12-01', '2018-12-02', '2018-12-03', '2018-12-04',\n",
       "               '2018-12-05', '2018-12-06', '2018-12-07', '2018-12-08',\n",
       "               '2018-12-09', '2018-12-10', '2018-12-11', '2018-12-12',\n",
       "               '2018-12-13', '2018-12-14', '2018-12-15', '2018-12-16',\n",
       "               '2018-12-17', '2018-12-18', '2018-12-19', '2018-12-20',\n",
       "               '2018-12-21', '2018-12-22', '2018-12-23', '2018-12-24',\n",
       "               '2018-12-25', '2018-12-26', '2018-12-27', '2018-12-28',\n",
       "               '2018-12-29', '2018-12-30'],\n",
       "              dtype='datetime64[ns]', freq='D')"
      ]
     },
     "execution_count": 90,
     "metadata": {},
     "output_type": "execute_result"
    }
   ],
   "source": [
    "index_future_dates = pd.date_range(start='2018-12-01', end='2018-12-30')\n",
    "index_future_dates"
   ]
  },
  {
   "cell_type": "code",
   "execution_count": 95,
   "metadata": {},
   "outputs": [
    {
     "data": {
      "text/plain": [
       "Timestamp('2018-12-01 00:00:00', freq='D')"
      ]
     },
     "execution_count": 95,
     "metadata": {},
     "output_type": "execute_result"
    }
   ],
   "source": [
    "start = index_future_dates[0]"
   ]
  },
  {
   "cell_type": "code",
   "execution_count": 96,
   "metadata": {},
   "outputs": [
    {
     "data": {
      "text/plain": [
       "Timestamp('2018-12-30 00:00:00', freq='D')"
      ]
     },
     "execution_count": 96,
     "metadata": {},
     "output_type": "execute_result"
    }
   ],
   "source": [
    "end = index_future_dates[-1]"
   ]
  },
  {
   "cell_type": "code",
   "execution_count": 97,
   "metadata": {},
   "outputs": [
    {
     "name": "stdout",
     "output_type": "stream",
     "text": [
      "2018-12-01    45.863733\n",
      "Freq: D, Name: ARIMA predictions, dtype: float64\n"
     ]
    }
   ],
   "source": [
    "pred = model.predict(start=start, end=end).rename('ARIMA predictions')\n",
    "print(pred)"
   ]
  },
  {
   "cell_type": "code",
   "execution_count": null,
   "metadata": {},
   "outputs": [],
   "source": []
  },
  {
   "cell_type": "code",
   "execution_count": 84,
   "metadata": {},
   "outputs": [
    {
     "data": {
      "text/plain": [
       "<AxesSubplot: xlabel='DATE'>"
      ]
     },
     "execution_count": 84,
     "metadata": {},
     "output_type": "execute_result"
    },
    {
     "data": {
      "image/png": "[encoded data removed]",
      "text/plain": [
       "<Figure size 432x288 with 1 Axes>"
      ]
     },
     "metadata": {
      "needs_background": "light"
     },
     "output_type": "display_data"
    }
   ],
   "source": [
    "index_future_dates = pd.date_range(start='2018-12-01', end='2018-12-30')\n",
    "pred.index=index_future_dates\n",
    "pred.plot(legend=True)\n",
    "test['AvgTemp'].plot(legend=True)"
   ]
  },
  {
   "cell_type": "code",
   "execution_count": 83,
   "metadata": {
    "colab": {
     "base_uri": "https://localhost:8080/",
     "height": 331
    },
    "colab_type": "code",
    "id": "2ZtJTygKfg5i",
    "outputId": "46053cf4-b267-4cb8-c89d-fbb7f1fc079c"
   },
   "outputs": [
    {
     "name": "stderr",
     "output_type": "stream",
     "text": [
      "C:\\Python310\\lib\\site-packages\\statsmodels\\tsa\\base\\tsa_model.py:834: ValueWarning: No supported index is available. Prediction results will be given with an integer index beginning at `start`.\n",
      "  return get_prediction_index(\n"
     ]
    },
    {
     "data": {
      "text/plain": [
       "<AxesSubplot: xlabel='DATE'>"
      ]
     },
     "execution_count": 83,
     "metadata": {},
     "output_type": "execute_result"
    },
    {
     "data": {
      "image/png": "[encoded data removed]",
      "text/plain": [
       "<Figure size 432x288 with 1 Axes>"
      ]
     },
     "metadata": {
      "needs_background": "light"
     },
     "output_type": "display_data"
    }
   ],
   "source": [
    "start = len(train)\n",
    "end = len(train)+len(test) - 1\n",
    "# if predicted values dont have date values as index, have to uncomment following two commented lines to plot a graph\n",
    "#index_future_dates=pd.date_range(start='2018-12-01', end='2018-12-30')\n",
    "pred = model.predict(start=start, end=end, typ='levels').rename('ARIMA predictions')\n",
    "#pred.index=index_future_dates\n",
    "pred.plot(legend=True)\n",
    "test['AvgTemp'].plot(legend=True)"
   ]
  },
  {
   "cell_type": "code",
   "execution_count": 36,
   "metadata": {},
   "outputs": [
    {
     "data": {
      "text/plain": [
       "<AxesSubplot: xlabel='DATE'>"
      ]
     },
     "execution_count": 36,
     "metadata": {},
     "output_type": "execute_result"
    },
    {
     "data": {
      "image/png": "[encoded data removed]",
      "text/plain": [
       "<Figure size 432x288 with 1 Axes>"
      ]
     },
     "metadata": {
      "needs_background": "light"
     },
     "output_type": "display_data"
    }
   ],
   "source": [
    "pred.plot()"
   ]
  },
  {
   "cell_type": "code",
   "execution_count": null,
   "metadata": {},
   "outputs": [],
   "source": [
    "pred"
   ]
  },
  {
   "cell_type": "code",
   "execution_count": 117,
   "metadata": {},
   "outputs": [
    {
     "data": {
      "text/plain": [
       "2018-12-01    44.754109\n",
       "2018-12-02    44.987795\n",
       "2018-12-03    45.388741\n",
       "2018-12-04    45.721545\n",
       "2018-12-05    45.863733\n",
       "2018-12-06    45.874126\n",
       "2018-12-07    45.884370\n",
       "2018-12-08    45.894466\n",
       "2018-12-09    45.904417\n",
       "2018-12-10    45.914225\n",
       "2018-12-11    45.923891\n",
       "2018-12-12    45.933418\n",
       "2018-12-13    45.942808\n",
       "2018-12-14    45.952063\n",
       "2018-12-15    45.961185\n",
       "2018-12-16    45.970175\n",
       "2018-12-17    45.979036\n",
       "2018-12-18    45.987769\n",
       "2018-12-19    45.996377\n",
       "2018-12-20    46.004861\n",
       "2018-12-21    46.013222\n",
       "2018-12-22    46.021463\n",
       "2018-12-23    46.029586\n",
       "2018-12-24    46.037591\n",
       "2018-12-25    46.045481\n",
       "2018-12-26    46.053258\n",
       "2018-12-27    46.060923\n",
       "2018-12-28    46.068477\n",
       "2018-12-29    46.075922\n",
       "2018-12-30    46.083261\n",
       "Freq: D, Name: ARIMA predictions, dtype: float64"
      ]
     },
     "execution_count": 117,
     "metadata": {},
     "output_type": "execute_result"
    }
   ],
   "source": [
    "pred"
   ]
  },
  {
   "cell_type": "code",
   "execution_count": 119,
   "metadata": {},
   "outputs": [
    {
     "data": {
      "text/plain": [
       "DATE\n",
       "2018-12-01    44.0\n",
       "2018-12-02    42.0\n",
       "2018-12-03    45.0\n",
       "2018-12-04    48.0\n",
       "2018-12-05    45.0\n",
       "2018-12-06    44.0\n",
       "2018-12-07    45.0\n",
       "2018-12-08    44.0\n",
       "2018-12-09    45.0\n",
       "2018-12-10    46.0\n",
       "2018-12-11    47.0\n",
       "2018-12-12    47.0\n",
       "2018-12-13    45.0\n",
       "2018-12-14    46.0\n",
       "2018-12-15    47.0\n",
       "2018-12-16    49.0\n",
       "2018-12-17    51.0\n",
       "2018-12-18    43.0\n",
       "2018-12-19    42.0\n",
       "2018-12-20    48.0\n",
       "2018-12-21    50.0\n",
       "2018-12-22    47.0\n",
       "2018-12-23    47.0\n",
       "2018-12-24    44.0\n",
       "2018-12-25    42.0\n",
       "2018-12-26    40.0\n",
       "2018-12-27    39.0\n",
       "2018-12-28    40.0\n",
       "2018-12-29    42.0\n",
       "2018-12-30    46.0\n",
       "Freq: D, Name: AvgTemp, dtype: float64"
      ]
     },
     "execution_count": 119,
     "metadata": {},
     "output_type": "execute_result"
    }
   ],
   "source": [
    "test['AvgTemp']"
   ]
  },
  {
   "cell_type": "code",
   "execution_count": 121,
   "metadata": {},
   "outputs": [
    {
     "data": {
      "text/plain": [
       "pandas.core.series.Series"
      ]
     },
     "execution_count": 121,
     "metadata": {},
     "output_type": "execute_result"
    }
   ],
   "source": [
    "type(test['AvgTemp'])"
   ]
  },
  {
   "cell_type": "code",
   "execution_count": 16,
   "metadata": {},
   "outputs": [
    {
     "data": {
      "text/plain": [
       "<AxesSubplot: xlabel='DATE'>"
      ]
     },
     "execution_count": 16,
     "metadata": {},
     "output_type": "execute_result"
    },
    {
     "data": {
      "image/png": "[encoded data removed]",
      "text/plain": [
       "<Figure size 432x288 with 1 Axes>"
      ]
     },
     "metadata": {
      "needs_background": "light"
     },
     "output_type": "display_data"
    }
   ],
   "source": [
    "test['AvgTemp'].plot(legend=True)"
   ]
  },
  {
   "cell_type": "code",
   "execution_count": null,
   "metadata": {},
   "outputs": [],
   "source": []
  },
  {
   "cell_type": "code",
   "execution_count": 14,
   "metadata": {
    "colab": {
     "base_uri": "https://localhost:8080/",
     "height": 331
    },
    "colab_type": "code",
    "id": "grTT31Tdfqfb",
    "outputId": "8caf1342-cc91-496f-c4ca-9159007add83"
   },
   "outputs": [
    {
     "data": {
      "text/plain": [
       "<matplotlib.axes._subplots.AxesSubplot at 0x7f15c37b9f60>"
      ]
     },
     "execution_count": 14,
     "metadata": {
      "tags": []
     },
     "output_type": "execute_result"
    },
    {
     "data": {
      "image/png": "[encoded data removed]",
      "text/plain": [
       "<Figure size 432x288 with 1 Axes>"
      ]
     },
     "metadata": {
      "needs_background": "light",
      "tags": []
     },
     "output_type": "display_data"
    }
   ],
   "source": [
    "pred.plot(legend='ARIMA Predictions')\n",
    "test['AvgTemp'].plot(legend=True)"
   ]
  },
  {
   "cell_type": "code",
   "execution_count": 15,
   "metadata": {
    "colab": {
     "base_uri": "https://localhost:8080/",
     "height": 33
    },
    "colab_type": "code",
    "id": "3R2eTZHDfz5H",
    "outputId": "8dcb8e41-f96d-4adf-9784-21342aacb1a4"
   },
   "outputs": [
    {
     "data": {
      "text/plain": [
       "45.0"
      ]
     },
     "execution_count": 15,
     "metadata": {
      "tags": []
     },
     "output_type": "execute_result"
    }
   ],
   "source": [
    "test['AvgTemp'].mean()"
   ]
  },
  {
   "cell_type": "code",
   "execution_count": 16,
   "metadata": {
    "colab": {
     "base_uri": "https://localhost:8080/",
     "height": 33
    },
    "colab_type": "code",
    "id": "zQ7SB2lQux5x",
    "outputId": "740e2eeb-e2b0-42ac-ec76-58da663146e9"
   },
   "outputs": [
    {
     "name": "stdout",
     "output_type": "stream",
     "text": [
      "2.326343714317439\n"
     ]
    }
   ],
   "source": [
    "from sklearn.metrics import mean_squared_error\n",
    "from math import sqrt\n",
    "rmse=sqrt(mean_squared_error(pred,test['AvgTemp']))\n",
    "print(rmse)\n"
   ]
  },
  {
   "cell_type": "code",
   "execution_count": 17,
   "metadata": {
    "colab": {
     "base_uri": "https://localhost:8080/",
     "height": 226
    },
    "colab_type": "code",
    "id": "DgJUq_lGvV10",
    "outputId": "c4087b3d-d92b-44ce-b116-fa1c7ffd3b47"
   },
   "outputs": [
    {
     "data": {
      "text/html": [
       "<div>\n",
       "<style scoped>\n",
       "    .dataframe tbody tr th:only-of-type {\n",
       "        vertical-align: middle;\n",
       "    }\n",
       "\n",
       "    .dataframe tbody tr th {\n",
       "        vertical-align: top;\n",
       "    }\n",
       "\n",
       "    .dataframe thead th {\n",
       "        text-align: right;\n",
       "    }\n",
       "</style>\n",
       "<table border=\"1\" class=\"dataframe\">\n",
       "  <thead>\n",
       "    <tr style=\"text-align: right;\">\n",
       "      <th></th>\n",
       "      <th>MinTemp</th>\n",
       "      <th>MaxTemp</th>\n",
       "      <th>AvgTemp</th>\n",
       "      <th>Sunrise</th>\n",
       "      <th>Sunset</th>\n",
       "    </tr>\n",
       "    <tr>\n",
       "      <th>DATE</th>\n",
       "      <th></th>\n",
       "      <th></th>\n",
       "      <th></th>\n",
       "      <th></th>\n",
       "      <th></th>\n",
       "    </tr>\n",
       "  </thead>\n",
       "  <tbody>\n",
       "    <tr>\n",
       "      <th>2018-12-26</th>\n",
       "      <td>35.0</td>\n",
       "      <td>45.0</td>\n",
       "      <td>40.0</td>\n",
       "      <td>654</td>\n",
       "      <td>1752</td>\n",
       "    </tr>\n",
       "    <tr>\n",
       "      <th>2018-12-27</th>\n",
       "      <td>33.0</td>\n",
       "      <td>44.0</td>\n",
       "      <td>39.0</td>\n",
       "      <td>655</td>\n",
       "      <td>1752</td>\n",
       "    </tr>\n",
       "    <tr>\n",
       "      <th>2018-12-28</th>\n",
       "      <td>33.0</td>\n",
       "      <td>47.0</td>\n",
       "      <td>40.0</td>\n",
       "      <td>655</td>\n",
       "      <td>1753</td>\n",
       "    </tr>\n",
       "    <tr>\n",
       "      <th>2018-12-29</th>\n",
       "      <td>36.0</td>\n",
       "      <td>47.0</td>\n",
       "      <td>42.0</td>\n",
       "      <td>655</td>\n",
       "      <td>1753</td>\n",
       "    </tr>\n",
       "    <tr>\n",
       "      <th>2018-12-30</th>\n",
       "      <td>39.0</td>\n",
       "      <td>52.0</td>\n",
       "      <td>46.0</td>\n",
       "      <td>656</td>\n",
       "      <td>1754</td>\n",
       "    </tr>\n",
       "  </tbody>\n",
       "</table>\n",
       "</div>"
      ],
      "text/plain": [
       "            MinTemp  MaxTemp  AvgTemp  Sunrise  Sunset\n",
       "DATE                                                  \n",
       "2018-12-26     35.0     45.0     40.0      654    1752\n",
       "2018-12-27     33.0     44.0     39.0      655    1752\n",
       "2018-12-28     33.0     47.0     40.0      655    1753\n",
       "2018-12-29     36.0     47.0     42.0      655    1753\n",
       "2018-12-30     39.0     52.0     46.0      656    1754"
      ]
     },
     "execution_count": 17,
     "metadata": {
      "tags": []
     },
     "output_type": "execute_result"
    }
   ],
   "source": [
    "model2=ARIMA(df['AvgTemp'],order=(1,0,5))\n",
    "model2=model2.fit()\n",
    "df.tail()"
   ]
  },
  {
   "cell_type": "markdown",
   "metadata": {
    "colab_type": "text",
    "id": "hQ4chXSmvSZw"
   },
   "source": [
    "#For Future Dates"
   ]
  },
  {
   "cell_type": "code",
   "execution_count": 18,
   "metadata": {
    "colab": {
     "base_uri": "https://localhost:8080/",
     "height": 552
    },
    "colab_type": "code",
    "id": "ZsjzMPfKqVag",
    "outputId": "8de3772d-8613-4db7-91d4-673d3a1909e9"
   },
   "outputs": [
    {
     "name": "stdout",
     "output_type": "stream",
     "text": [
      "2018-12-30    46.418064\n",
      "2018-12-31    46.113783\n",
      "2019-01-01    45.617772\n",
      "2019-01-02    45.249555\n",
      "2019-01-03    45.116984\n",
      "2019-01-04    45.136771\n",
      "2019-01-05    45.156280\n",
      "2019-01-06    45.175516\n",
      "2019-01-07    45.194482\n",
      "2019-01-08    45.213183\n",
      "2019-01-09    45.231622\n",
      "2019-01-10    45.249802\n",
      "2019-01-11    45.267728\n",
      "2019-01-12    45.285403\n",
      "2019-01-13    45.302830\n",
      "2019-01-14    45.320012\n",
      "2019-01-15    45.336955\n",
      "2019-01-16    45.353659\n",
      "2019-01-17    45.370130\n",
      "2019-01-18    45.386370\n",
      "2019-01-19    45.402383\n",
      "2019-01-20    45.418171\n",
      "2019-01-21    45.433738\n",
      "2019-01-22    45.449087\n",
      "2019-01-23    45.464221\n",
      "2019-01-24    45.479143\n",
      "2019-01-25    45.493855\n",
      "2019-01-26    45.508362\n",
      "2019-01-27    45.522665\n",
      "2019-01-28    45.536769\n",
      "2019-01-29    45.550674\n",
      "Freq: D, Name: ARIMA Predictions, dtype: float64\n"
     ]
    }
   ],
   "source": [
    "index_future_dates=pd.date_range(start='2018-12-30',end='2019-01-29')\n",
    "#print(index_future_dates)\n",
    "pred=model2.predict(start=len(df),end=len(df)+30,typ='levels').rename('ARIMA Predictions')\n",
    "#print(comp_pred)\n",
    "pred.index=index_future_dates\n",
    "print(pred)"
   ]
  },
  {
   "cell_type": "code",
   "execution_count": 19,
   "metadata": {
    "colab": {
     "base_uri": "https://localhost:8080/",
     "height": 372
    },
    "colab_type": "code",
    "id": "hPgempSauwqo",
    "outputId": "3dc42a39-ff4d-4c6e-ac68-0cef1ffe7d01"
   },
   "outputs": [
    {
     "data": {
      "text/plain": [
       "<matplotlib.axes._subplots.AxesSubplot at 0x7f15c37985f8>"
      ]
     },
     "execution_count": 19,
     "metadata": {
      "tags": []
     },
     "output_type": "execute_result"
    },
    {
     "data": {
      "image/png": "[encoded data removed]",
      "text/plain": [
       "<Figure size 864x360 with 1 Axes>"
      ]
     },
     "metadata": {
      "needs_background": "light",
      "tags": []
     },
     "output_type": "display_data"
    }
   ],
   "source": [
    "pred.plot(figsize=(12,5),legend=True)\n"
   ]
  },
  {
   "cell_type": "code",
   "execution_count": null,
   "metadata": {
    "colab": {},
    "colab_type": "code",
    "id": "JeeTSWbZww7r"
   },
   "outputs": [],
   "source": []
  }
 ],
 "metadata": {
  "colab": {
   "authorship_tag": "ABX9TyNyCEF0bu5JjuFIh9AZRrLX",
   "collapsed_sections": [],
   "include_colab_link": true,
   "name": "Temperature_Forecast_ARIMA.ipynb",
   "provenance": [],
   "toc_visible": true
  },
  "kernelspec": {
   "display_name": "Python 3 (ipykernel)",
   "language": "python",
   "name": "python3"
  },
  "language_info": {
   "codemirror_mode": {
    "name": "ipython",
    "version": 3
   },
   "file_extension": ".py",
   "mimetype": "text/x-python",
   "name": "python",
   "nbconvert_exporter": "python",
   "pygments_lexer": "ipython3",
   "version": "3.10.6"
  },
  "toc": {
   "base_numbering": 1,
   "nav_menu": {},
   "number_sections": true,
   "sideBar": true,
   "skip_h1_title": false,
   "title_cell": "Table of Contents",
   "title_sidebar": "Contents",
   "toc_cell": true,
   "toc_position": {
    "height": "calc(100% - 180px)",
    "left": "10px",
    "top": "150px",
    "width": "279.409px"
   },
   "toc_section_display": true,
   "toc_window_display": false
  }
 },
 "nbformat": 4,
 "nbformat_minor": 1
}
