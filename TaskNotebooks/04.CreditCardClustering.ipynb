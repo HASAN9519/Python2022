{
 "cells": [
  {
   "cell_type": "markdown",
   "id": "a6fb4af4",
   "metadata": {
    "toc": true
   },
   "source": [
    "<h1>Table of Contents<span class=\"tocSkip\"></span></h1>\n",
    "<div class=\"toc\"><ul class=\"toc-item\"><li><span><a href=\"#Library-Imports\" data-toc-modified-id=\"Library-Imports-1\"><span class=\"toc-item-num\">1&nbsp;&nbsp;</span>Library Imports</a></span></li><li><span><a href=\"#Loading-Data\" data-toc-modified-id=\"Loading-Data-2\"><span class=\"toc-item-num\">2&nbsp;&nbsp;</span>Loading Data</a></span></li><li><span><a href=\"#Pre-processing\" data-toc-modified-id=\"Pre-processing-3\"><span class=\"toc-item-num\">3&nbsp;&nbsp;</span>Pre-processing</a></span></li><li><span><a href=\"#feature-selection\" data-toc-modified-id=\"feature-selection-4\"><span class=\"toc-item-num\">4&nbsp;&nbsp;</span>feature selection</a></span></li><li><span><a href=\"#applying-algorithms\" data-toc-modified-id=\"applying-algorithms-5\"><span class=\"toc-item-num\">5&nbsp;&nbsp;</span>applying algorithms</a></span><ul class=\"toc-item\"><li><span><a href=\"#KMeans\" data-toc-modified-id=\"KMeans-5.1\"><span class=\"toc-item-num\">5.1&nbsp;&nbsp;</span>KMeans</a></span></li></ul></li></ul></div>"
   ]
  },
  {
   "cell_type": "markdown",
   "id": "15ff8556",
   "metadata": {},
   "source": [
    "# Library Imports"
   ]
  },
  {
   "cell_type": "code",
   "execution_count": 11,
   "id": "6334a45f",
   "metadata": {
    "ExecuteTime": {
     "end_time": "2023-01-08T14:19:54.904530Z",
     "start_time": "2023-01-08T14:19:54.898550Z"
    }
   },
   "outputs": [],
   "source": [
    "import numpy as np\n",
    "import pandas as pd\n",
    "import seaborn as sns\n",
    "import matplotlib.pyplot as plt\n",
    "%matplotlib inline"
   ]
  },
  {
   "cell_type": "markdown",
   "id": "3c1c7cf0",
   "metadata": {},
   "source": [
    "# Loading Data"
   ]
  },
  {
   "cell_type": "code",
   "execution_count": 26,
   "id": "6b2734bc",
   "metadata": {
    "ExecuteTime": {
     "end_time": "2023-01-08T14:37:46.337749Z",
     "start_time": "2023-01-08T14:37:46.307710Z"
    }
   },
   "outputs": [
    {
     "data": {
      "text/plain": [
       "Index(['CUST_ID', 'BALANCE', 'BALANCE_FREQUENCY', 'PURCHASES',\n",
       "       'ONEOFF_PURCHASES', 'INSTALLMENTS_PURCHASES', 'CASH_ADVANCE',\n",
       "       'PURCHASES_FREQUENCY', 'ONEOFF_PURCHASES_FREQUENCY',\n",
       "       'PURCHASES_INSTALLMENTS_FREQUENCY', 'CASH_ADVANCE_FREQUENCY',\n",
       "       'CASH_ADVANCE_TRX', 'PURCHASES_TRX', 'CREDIT_LIMIT', 'PAYMENTS',\n",
       "       'MINIMUM_PAYMENTS', 'PRC_FULL_PAYMENT', 'TENURE'],\n",
       "      dtype='object')"
      ]
     },
     "execution_count": 26,
     "metadata": {},
     "output_type": "execute_result"
    }
   ],
   "source": [
    "data = pd.read_csv('Datasets/creditcard.csv')\n",
    "data.columns"
   ]
  },
  {
   "cell_type": "code",
   "execution_count": 27,
   "id": "05ed3873",
   "metadata": {
    "ExecuteTime": {
     "end_time": "2023-01-08T14:37:46.826633Z",
     "start_time": "2023-01-08T14:37:46.812633Z"
    }
   },
   "outputs": [
    {
     "data": {
      "text/html": [
       "<div>\n",
       "<style scoped>\n",
       "    .dataframe tbody tr th:only-of-type {\n",
       "        vertical-align: middle;\n",
       "    }\n",
       "\n",
       "    .dataframe tbody tr th {\n",
       "        vertical-align: top;\n",
       "    }\n",
       "\n",
       "    .dataframe thead th {\n",
       "        text-align: right;\n",
       "    }\n",
       "</style>\n",
       "<table border=\"1\" class=\"dataframe\">\n",
       "  <thead>\n",
       "    <tr style=\"text-align: right;\">\n",
       "      <th></th>\n",
       "      <th>CUST_ID</th>\n",
       "      <th>BALANCE</th>\n",
       "      <th>BALANCE_FREQUENCY</th>\n",
       "      <th>PURCHASES</th>\n",
       "      <th>ONEOFF_PURCHASES</th>\n",
       "      <th>INSTALLMENTS_PURCHASES</th>\n",
       "      <th>CASH_ADVANCE</th>\n",
       "      <th>PURCHASES_FREQUENCY</th>\n",
       "      <th>ONEOFF_PURCHASES_FREQUENCY</th>\n",
       "      <th>PURCHASES_INSTALLMENTS_FREQUENCY</th>\n",
       "      <th>CASH_ADVANCE_FREQUENCY</th>\n",
       "      <th>CASH_ADVANCE_TRX</th>\n",
       "      <th>PURCHASES_TRX</th>\n",
       "      <th>CREDIT_LIMIT</th>\n",
       "      <th>PAYMENTS</th>\n",
       "      <th>MINIMUM_PAYMENTS</th>\n",
       "      <th>PRC_FULL_PAYMENT</th>\n",
       "      <th>TENURE</th>\n",
       "    </tr>\n",
       "  </thead>\n",
       "  <tbody>\n",
       "    <tr>\n",
       "      <th>0</th>\n",
       "      <td>C10001</td>\n",
       "      <td>40.900749</td>\n",
       "      <td>0.818182</td>\n",
       "      <td>95.40</td>\n",
       "      <td>0.00</td>\n",
       "      <td>95.4</td>\n",
       "      <td>0.000000</td>\n",
       "      <td>0.166667</td>\n",
       "      <td>0.000000</td>\n",
       "      <td>0.083333</td>\n",
       "      <td>0.000000</td>\n",
       "      <td>0</td>\n",
       "      <td>2</td>\n",
       "      <td>1000.0</td>\n",
       "      <td>201.802084</td>\n",
       "      <td>139.509787</td>\n",
       "      <td>0.000000</td>\n",
       "      <td>12</td>\n",
       "    </tr>\n",
       "    <tr>\n",
       "      <th>1</th>\n",
       "      <td>C10002</td>\n",
       "      <td>3202.467416</td>\n",
       "      <td>0.909091</td>\n",
       "      <td>0.00</td>\n",
       "      <td>0.00</td>\n",
       "      <td>0.0</td>\n",
       "      <td>6442.945483</td>\n",
       "      <td>0.000000</td>\n",
       "      <td>0.000000</td>\n",
       "      <td>0.000000</td>\n",
       "      <td>0.250000</td>\n",
       "      <td>4</td>\n",
       "      <td>0</td>\n",
       "      <td>7000.0</td>\n",
       "      <td>4103.032597</td>\n",
       "      <td>1072.340217</td>\n",
       "      <td>0.222222</td>\n",
       "      <td>12</td>\n",
       "    </tr>\n",
       "    <tr>\n",
       "      <th>2</th>\n",
       "      <td>C10003</td>\n",
       "      <td>2495.148862</td>\n",
       "      <td>1.000000</td>\n",
       "      <td>773.17</td>\n",
       "      <td>773.17</td>\n",
       "      <td>0.0</td>\n",
       "      <td>0.000000</td>\n",
       "      <td>1.000000</td>\n",
       "      <td>1.000000</td>\n",
       "      <td>0.000000</td>\n",
       "      <td>0.000000</td>\n",
       "      <td>0</td>\n",
       "      <td>12</td>\n",
       "      <td>7500.0</td>\n",
       "      <td>622.066742</td>\n",
       "      <td>627.284787</td>\n",
       "      <td>0.000000</td>\n",
       "      <td>12</td>\n",
       "    </tr>\n",
       "    <tr>\n",
       "      <th>3</th>\n",
       "      <td>C10004</td>\n",
       "      <td>1666.670542</td>\n",
       "      <td>0.636364</td>\n",
       "      <td>1499.00</td>\n",
       "      <td>1499.00</td>\n",
       "      <td>0.0</td>\n",
       "      <td>205.788017</td>\n",
       "      <td>0.083333</td>\n",
       "      <td>0.083333</td>\n",
       "      <td>0.000000</td>\n",
       "      <td>0.083333</td>\n",
       "      <td>1</td>\n",
       "      <td>1</td>\n",
       "      <td>7500.0</td>\n",
       "      <td>0.000000</td>\n",
       "      <td>NaN</td>\n",
       "      <td>0.000000</td>\n",
       "      <td>12</td>\n",
       "    </tr>\n",
       "    <tr>\n",
       "      <th>4</th>\n",
       "      <td>C10005</td>\n",
       "      <td>817.714335</td>\n",
       "      <td>1.000000</td>\n",
       "      <td>16.00</td>\n",
       "      <td>16.00</td>\n",
       "      <td>0.0</td>\n",
       "      <td>0.000000</td>\n",
       "      <td>0.083333</td>\n",
       "      <td>0.083333</td>\n",
       "      <td>0.000000</td>\n",
       "      <td>0.000000</td>\n",
       "      <td>0</td>\n",
       "      <td>1</td>\n",
       "      <td>1200.0</td>\n",
       "      <td>678.334763</td>\n",
       "      <td>244.791237</td>\n",
       "      <td>0.000000</td>\n",
       "      <td>12</td>\n",
       "    </tr>\n",
       "  </tbody>\n",
       "</table>\n",
       "</div>"
      ],
      "text/plain": [
       "  CUST_ID      BALANCE  BALANCE_FREQUENCY  PURCHASES  ONEOFF_PURCHASES  \\\n",
       "0  C10001    40.900749           0.818182      95.40              0.00   \n",
       "1  C10002  3202.467416           0.909091       0.00              0.00   \n",
       "2  C10003  2495.148862           1.000000     773.17            773.17   \n",
       "3  C10004  1666.670542           0.636364    1499.00           1499.00   \n",
       "4  C10005   817.714335           1.000000      16.00             16.00   \n",
       "\n",
       "   INSTALLMENTS_PURCHASES  CASH_ADVANCE  PURCHASES_FREQUENCY  \\\n",
       "0                    95.4      0.000000             0.166667   \n",
       "1                     0.0   6442.945483             0.000000   \n",
       "2                     0.0      0.000000             1.000000   \n",
       "3                     0.0    205.788017             0.083333   \n",
       "4                     0.0      0.000000             0.083333   \n",
       "\n",
       "   ONEOFF_PURCHASES_FREQUENCY  PURCHASES_INSTALLMENTS_FREQUENCY  \\\n",
       "0                    0.000000                          0.083333   \n",
       "1                    0.000000                          0.000000   \n",
       "2                    1.000000                          0.000000   \n",
       "3                    0.083333                          0.000000   \n",
       "4                    0.083333                          0.000000   \n",
       "\n",
       "   CASH_ADVANCE_FREQUENCY  CASH_ADVANCE_TRX  PURCHASES_TRX  CREDIT_LIMIT  \\\n",
       "0                0.000000                 0              2        1000.0   \n",
       "1                0.250000                 4              0        7000.0   \n",
       "2                0.000000                 0             12        7500.0   \n",
       "3                0.083333                 1              1        7500.0   \n",
       "4                0.000000                 0              1        1200.0   \n",
       "\n",
       "      PAYMENTS  MINIMUM_PAYMENTS  PRC_FULL_PAYMENT  TENURE  \n",
       "0   201.802084        139.509787          0.000000      12  \n",
       "1  4103.032597       1072.340217          0.222222      12  \n",
       "2   622.066742        627.284787          0.000000      12  \n",
       "3     0.000000               NaN          0.000000      12  \n",
       "4   678.334763        244.791237          0.000000      12  "
      ]
     },
     "execution_count": 27,
     "metadata": {},
     "output_type": "execute_result"
    }
   ],
   "source": [
    "data.head()"
   ]
  },
  {
   "cell_type": "markdown",
   "id": "b43e6f5e",
   "metadata": {},
   "source": [
    "# Pre-processing"
   ]
  },
  {
   "cell_type": "code",
   "execution_count": 28,
   "id": "a266381b",
   "metadata": {
    "ExecuteTime": {
     "end_time": "2023-01-08T14:37:47.505147Z",
     "start_time": "2023-01-08T14:37:47.487148Z"
    }
   },
   "outputs": [
    {
     "name": "stdout",
     "output_type": "stream",
     "text": [
      "<class 'pandas.core.frame.DataFrame'>\n",
      "RangeIndex: 8950 entries, 0 to 8949\n",
      "Data columns (total 18 columns):\n",
      " #   Column                            Non-Null Count  Dtype  \n",
      "---  ------                            --------------  -----  \n",
      " 0   CUST_ID                           8950 non-null   object \n",
      " 1   BALANCE                           8950 non-null   float64\n",
      " 2   BALANCE_FREQUENCY                 8950 non-null   float64\n",
      " 3   PURCHASES                         8950 non-null   float64\n",
      " 4   ONEOFF_PURCHASES                  8950 non-null   float64\n",
      " 5   INSTALLMENTS_PURCHASES            8950 non-null   float64\n",
      " 6   CASH_ADVANCE                      8950 non-null   float64\n",
      " 7   PURCHASES_FREQUENCY               8950 non-null   float64\n",
      " 8   ONEOFF_PURCHASES_FREQUENCY        8950 non-null   float64\n",
      " 9   PURCHASES_INSTALLMENTS_FREQUENCY  8950 non-null   float64\n",
      " 10  CASH_ADVANCE_FREQUENCY            8950 non-null   float64\n",
      " 11  CASH_ADVANCE_TRX                  8950 non-null   int64  \n",
      " 12  PURCHASES_TRX                     8950 non-null   int64  \n",
      " 13  CREDIT_LIMIT                      8949 non-null   float64\n",
      " 14  PAYMENTS                          8950 non-null   float64\n",
      " 15  MINIMUM_PAYMENTS                  8637 non-null   float64\n",
      " 16  PRC_FULL_PAYMENT                  8950 non-null   float64\n",
      " 17  TENURE                            8950 non-null   int64  \n",
      "dtypes: float64(14), int64(3), object(1)\n",
      "memory usage: 1.2+ MB\n"
     ]
    }
   ],
   "source": [
    "data.info()"
   ]
  },
  {
   "cell_type": "code",
   "execution_count": 29,
   "id": "39ea9676",
   "metadata": {
    "ExecuteTime": {
     "end_time": "2023-01-08T14:37:47.724120Z",
     "start_time": "2023-01-08T14:37:47.712121Z"
    }
   },
   "outputs": [
    {
     "data": {
      "text/plain": [
       "CUST_ID                               0\n",
       "BALANCE                               0\n",
       "BALANCE_FREQUENCY                     0\n",
       "PURCHASES                             0\n",
       "ONEOFF_PURCHASES                      0\n",
       "INSTALLMENTS_PURCHASES                0\n",
       "CASH_ADVANCE                          0\n",
       "PURCHASES_FREQUENCY                   0\n",
       "ONEOFF_PURCHASES_FREQUENCY            0\n",
       "PURCHASES_INSTALLMENTS_FREQUENCY      0\n",
       "CASH_ADVANCE_FREQUENCY                0\n",
       "CASH_ADVANCE_TRX                      0\n",
       "PURCHASES_TRX                         0\n",
       "CREDIT_LIMIT                          1\n",
       "PAYMENTS                              0\n",
       "MINIMUM_PAYMENTS                    313\n",
       "PRC_FULL_PAYMENT                      0\n",
       "TENURE                                0\n",
       "dtype: int64"
      ]
     },
     "execution_count": 29,
     "metadata": {},
     "output_type": "execute_result"
    }
   ],
   "source": [
    "data.isnull().sum()"
   ]
  },
  {
   "cell_type": "code",
   "execution_count": 30,
   "id": "04ea1394",
   "metadata": {
    "ExecuteTime": {
     "end_time": "2023-01-08T14:37:49.689094Z",
     "start_time": "2023-01-08T14:37:49.676092Z"
    }
   },
   "outputs": [],
   "source": [
    "data.dropna(axis = 0, how ='any',inplace=True) "
   ]
  },
  {
   "cell_type": "code",
   "execution_count": 31,
   "id": "ee1c3199",
   "metadata": {
    "ExecuteTime": {
     "end_time": "2023-01-08T14:37:49.923384Z",
     "start_time": "2023-01-08T14:37:49.917385Z"
    }
   },
   "outputs": [],
   "source": [
    "data.drop(columns=\"CUST_ID\",inplace=True, axis=1)"
   ]
  },
  {
   "cell_type": "code",
   "execution_count": 32,
   "id": "989b3a6b",
   "metadata": {
    "ExecuteTime": {
     "end_time": "2023-01-08T14:37:50.141369Z",
     "start_time": "2023-01-08T14:37:50.119387Z"
    }
   },
   "outputs": [
    {
     "name": "stdout",
     "output_type": "stream",
     "text": [
      "<class 'pandas.core.frame.DataFrame'>\n",
      "Int64Index: 8636 entries, 0 to 8949\n",
      "Data columns (total 17 columns):\n",
      " #   Column                            Non-Null Count  Dtype  \n",
      "---  ------                            --------------  -----  \n",
      " 0   BALANCE                           8636 non-null   float64\n",
      " 1   BALANCE_FREQUENCY                 8636 non-null   float64\n",
      " 2   PURCHASES                         8636 non-null   float64\n",
      " 3   ONEOFF_PURCHASES                  8636 non-null   float64\n",
      " 4   INSTALLMENTS_PURCHASES            8636 non-null   float64\n",
      " 5   CASH_ADVANCE                      8636 non-null   float64\n",
      " 6   PURCHASES_FREQUENCY               8636 non-null   float64\n",
      " 7   ONEOFF_PURCHASES_FREQUENCY        8636 non-null   float64\n",
      " 8   PURCHASES_INSTALLMENTS_FREQUENCY  8636 non-null   float64\n",
      " 9   CASH_ADVANCE_FREQUENCY            8636 non-null   float64\n",
      " 10  CASH_ADVANCE_TRX                  8636 non-null   int64  \n",
      " 11  PURCHASES_TRX                     8636 non-null   int64  \n",
      " 12  CREDIT_LIMIT                      8636 non-null   float64\n",
      " 13  PAYMENTS                          8636 non-null   float64\n",
      " 14  MINIMUM_PAYMENTS                  8636 non-null   float64\n",
      " 15  PRC_FULL_PAYMENT                  8636 non-null   float64\n",
      " 16  TENURE                            8636 non-null   int64  \n",
      "dtypes: float64(14), int64(3)\n",
      "memory usage: 1.2 MB\n"
     ]
    }
   ],
   "source": [
    "data.info()"
   ]
  },
  {
   "cell_type": "code",
   "execution_count": 33,
   "id": "5564c022",
   "metadata": {
    "ExecuteTime": {
     "end_time": "2023-01-08T14:37:52.198514Z",
     "start_time": "2023-01-08T14:37:52.183530Z"
    }
   },
   "outputs": [
    {
     "data": {
      "text/plain": [
       "Index(['BALANCE', 'BALANCE_FREQUENCY', 'PURCHASES', 'ONEOFF_PURCHASES',\n",
       "       'INSTALLMENTS_PURCHASES', 'CASH_ADVANCE', 'PURCHASES_FREQUENCY',\n",
       "       'ONEOFF_PURCHASES_FREQUENCY', 'PURCHASES_INSTALLMENTS_FREQUENCY',\n",
       "       'CASH_ADVANCE_FREQUENCY', 'CASH_ADVANCE_TRX', 'PURCHASES_TRX',\n",
       "       'CREDIT_LIMIT', 'PAYMENTS', 'MINIMUM_PAYMENTS', 'PRC_FULL_PAYMENT',\n",
       "       'TENURE'],\n",
       "      dtype='object')"
      ]
     },
     "execution_count": 33,
     "metadata": {},
     "output_type": "execute_result"
    }
   ],
   "source": [
    "data.columns"
   ]
  },
  {
   "cell_type": "code",
   "execution_count": 34,
   "id": "120e0d42",
   "metadata": {
    "ExecuteTime": {
     "end_time": "2023-01-08T14:37:52.985014Z",
     "start_time": "2023-01-08T14:37:52.970033Z"
    }
   },
   "outputs": [],
   "source": [
    "features =['BALANCE', 'BALANCE_FREQUENCY', 'PURCHASES', 'ONEOFF_PURCHASES',\n",
    "       'INSTALLMENTS_PURCHASES', 'CASH_ADVANCE', 'PURCHASES_FREQUENCY',\n",
    "       'ONEOFF_PURCHASES_FREQUENCY', 'PURCHASES_INSTALLMENTS_FREQUENCY',\n",
    "       'CASH_ADVANCE_FREQUENCY', 'CASH_ADVANCE_TRX', 'PURCHASES_TRX',\n",
    "       'CREDIT_LIMIT', 'PAYMENTS', 'MINIMUM_PAYMENTS', 'PRC_FULL_PAYMENT',\n",
    "       'TENURE']"
   ]
  },
  {
   "cell_type": "code",
   "execution_count": 35,
   "id": "ed668492",
   "metadata": {
    "ExecuteTime": {
     "end_time": "2023-01-08T14:37:53.898073Z",
     "start_time": "2023-01-08T14:37:53.876070Z"
    }
   },
   "outputs": [
    {
     "data": {
      "text/html": [
       "<div>\n",
       "<style scoped>\n",
       "    .dataframe tbody tr th:only-of-type {\n",
       "        vertical-align: middle;\n",
       "    }\n",
       "\n",
       "    .dataframe tbody tr th {\n",
       "        vertical-align: top;\n",
       "    }\n",
       "\n",
       "    .dataframe thead th {\n",
       "        text-align: right;\n",
       "    }\n",
       "</style>\n",
       "<table border=\"1\" class=\"dataframe\">\n",
       "  <thead>\n",
       "    <tr style=\"text-align: right;\">\n",
       "      <th></th>\n",
       "      <th>BALANCE</th>\n",
       "      <th>BALANCE_FREQUENCY</th>\n",
       "      <th>PURCHASES</th>\n",
       "      <th>ONEOFF_PURCHASES</th>\n",
       "      <th>INSTALLMENTS_PURCHASES</th>\n",
       "      <th>CASH_ADVANCE</th>\n",
       "      <th>PURCHASES_FREQUENCY</th>\n",
       "      <th>ONEOFF_PURCHASES_FREQUENCY</th>\n",
       "      <th>PURCHASES_INSTALLMENTS_FREQUENCY</th>\n",
       "      <th>CASH_ADVANCE_FREQUENCY</th>\n",
       "      <th>CASH_ADVANCE_TRX</th>\n",
       "      <th>PURCHASES_TRX</th>\n",
       "      <th>CREDIT_LIMIT</th>\n",
       "      <th>PAYMENTS</th>\n",
       "      <th>MINIMUM_PAYMENTS</th>\n",
       "      <th>PRC_FULL_PAYMENT</th>\n",
       "      <th>TENURE</th>\n",
       "    </tr>\n",
       "  </thead>\n",
       "  <tbody>\n",
       "    <tr>\n",
       "      <th>0</th>\n",
       "      <td>-0.744625</td>\n",
       "      <td>-0.370047</td>\n",
       "      <td>-0.429184</td>\n",
       "      <td>-0.359160</td>\n",
       "      <td>-0.354826</td>\n",
       "      <td>-0.468655</td>\n",
       "      <td>-0.820769</td>\n",
       "      <td>-0.686280</td>\n",
       "      <td>-0.717179</td>\n",
       "      <td>-0.681953</td>\n",
       "      <td>-0.479437</td>\n",
       "      <td>-0.517623</td>\n",
       "      <td>-0.962575</td>\n",
       "      <td>-0.543942</td>\n",
       "      <td>-0.305508</td>\n",
       "      <td>-0.537727</td>\n",
       "      <td>0.355181</td>\n",
       "    </tr>\n",
       "    <tr>\n",
       "      <th>1</th>\n",
       "      <td>0.764152</td>\n",
       "      <td>0.067679</td>\n",
       "      <td>-0.473208</td>\n",
       "      <td>-0.359160</td>\n",
       "      <td>-0.458839</td>\n",
       "      <td>2.568556</td>\n",
       "      <td>-1.236139</td>\n",
       "      <td>-0.686280</td>\n",
       "      <td>-0.926522</td>\n",
       "      <td>0.557022</td>\n",
       "      <td>0.099258</td>\n",
       "      <td>-0.597054</td>\n",
       "      <td>0.677204</td>\n",
       "      <td>0.796852</td>\n",
       "      <td>0.087689</td>\n",
       "      <td>0.212380</td>\n",
       "      <td>0.355181</td>\n",
       "    </tr>\n",
       "    <tr>\n",
       "      <th>2</th>\n",
       "      <td>0.426602</td>\n",
       "      <td>0.505405</td>\n",
       "      <td>-0.116413</td>\n",
       "      <td>0.099909</td>\n",
       "      <td>-0.458839</td>\n",
       "      <td>-0.468655</td>\n",
       "      <td>1.256077</td>\n",
       "      <td>2.646651</td>\n",
       "      <td>-0.926522</td>\n",
       "      <td>-0.681953</td>\n",
       "      <td>-0.479437</td>\n",
       "      <td>-0.120467</td>\n",
       "      <td>0.813852</td>\n",
       "      <td>-0.399503</td>\n",
       "      <td>-0.099906</td>\n",
       "      <td>-0.537727</td>\n",
       "      <td>0.355181</td>\n",
       "    </tr>\n",
       "    <tr>\n",
       "      <th>4</th>\n",
       "      <td>-0.373910</td>\n",
       "      <td>0.505405</td>\n",
       "      <td>-0.465825</td>\n",
       "      <td>-0.349660</td>\n",
       "      <td>-0.458839</td>\n",
       "      <td>-0.468655</td>\n",
       "      <td>-1.028455</td>\n",
       "      <td>-0.408536</td>\n",
       "      <td>-0.926522</td>\n",
       "      <td>-0.681953</td>\n",
       "      <td>-0.479437</td>\n",
       "      <td>-0.557339</td>\n",
       "      <td>-0.907916</td>\n",
       "      <td>-0.380165</td>\n",
       "      <td>-0.261131</td>\n",
       "      <td>-0.537727</td>\n",
       "      <td>0.355181</td>\n",
       "    </tr>\n",
       "    <tr>\n",
       "      <th>5</th>\n",
       "      <td>0.099551</td>\n",
       "      <td>0.505405</td>\n",
       "      <td>0.142062</td>\n",
       "      <td>-0.359160</td>\n",
       "      <td>0.994815</td>\n",
       "      <td>-0.468655</td>\n",
       "      <td>0.425339</td>\n",
       "      <td>-0.686280</td>\n",
       "      <td>0.538882</td>\n",
       "      <td>-0.681953</td>\n",
       "      <td>-0.479437</td>\n",
       "      <td>-0.279329</td>\n",
       "      <td>-0.743938</td>\n",
       "      <td>-0.132119</td>\n",
       "      <td>0.650363</td>\n",
       "      <td>-0.537727</td>\n",
       "      <td>0.355181</td>\n",
       "    </tr>\n",
       "  </tbody>\n",
       "</table>\n",
       "</div>"
      ],
      "text/plain": [
       "    BALANCE  BALANCE_FREQUENCY  PURCHASES  ONEOFF_PURCHASES  \\\n",
       "0 -0.744625          -0.370047  -0.429184         -0.359160   \n",
       "1  0.764152           0.067679  -0.473208         -0.359160   \n",
       "2  0.426602           0.505405  -0.116413          0.099909   \n",
       "4 -0.373910           0.505405  -0.465825         -0.349660   \n",
       "5  0.099551           0.505405   0.142062         -0.359160   \n",
       "\n",
       "   INSTALLMENTS_PURCHASES  CASH_ADVANCE  PURCHASES_FREQUENCY  \\\n",
       "0               -0.354826     -0.468655            -0.820769   \n",
       "1               -0.458839      2.568556            -1.236139   \n",
       "2               -0.458839     -0.468655             1.256077   \n",
       "4               -0.458839     -0.468655            -1.028455   \n",
       "5                0.994815     -0.468655             0.425339   \n",
       "\n",
       "   ONEOFF_PURCHASES_FREQUENCY  PURCHASES_INSTALLMENTS_FREQUENCY  \\\n",
       "0                   -0.686280                         -0.717179   \n",
       "1                   -0.686280                         -0.926522   \n",
       "2                    2.646651                         -0.926522   \n",
       "4                   -0.408536                         -0.926522   \n",
       "5                   -0.686280                          0.538882   \n",
       "\n",
       "   CASH_ADVANCE_FREQUENCY  CASH_ADVANCE_TRX  PURCHASES_TRX  CREDIT_LIMIT  \\\n",
       "0               -0.681953         -0.479437      -0.517623     -0.962575   \n",
       "1                0.557022          0.099258      -0.597054      0.677204   \n",
       "2               -0.681953         -0.479437      -0.120467      0.813852   \n",
       "4               -0.681953         -0.479437      -0.557339     -0.907916   \n",
       "5               -0.681953         -0.479437      -0.279329     -0.743938   \n",
       "\n",
       "   PAYMENTS  MINIMUM_PAYMENTS  PRC_FULL_PAYMENT    TENURE  \n",
       "0 -0.543942         -0.305508         -0.537727  0.355181  \n",
       "1  0.796852          0.087689          0.212380  0.355181  \n",
       "2 -0.399503         -0.099906         -0.537727  0.355181  \n",
       "4 -0.380165         -0.261131         -0.537727  0.355181  \n",
       "5 -0.132119          0.650363         -0.537727  0.355181  "
      ]
     },
     "execution_count": 35,
     "metadata": {},
     "output_type": "execute_result"
    }
   ],
   "source": [
    "from sklearn.preprocessing import StandardScaler\n",
    "scaler = StandardScaler()\n",
    "data[features] = scaler.fit_transform(data[features])\n",
    "data.head()"
   ]
  },
  {
   "cell_type": "code",
   "execution_count": 53,
   "id": "f4360c4e",
   "metadata": {
    "ExecuteTime": {
     "end_time": "2023-01-08T14:59:00.457921Z",
     "start_time": "2023-01-08T14:59:00.423832Z"
    }
   },
   "outputs": [
    {
     "data": {
      "text/html": [
       "<div>\n",
       "<style scoped>\n",
       "    .dataframe tbody tr th:only-of-type {\n",
       "        vertical-align: middle;\n",
       "    }\n",
       "\n",
       "    .dataframe tbody tr th {\n",
       "        vertical-align: top;\n",
       "    }\n",
       "\n",
       "    .dataframe thead th {\n",
       "        text-align: right;\n",
       "    }\n",
       "</style>\n",
       "<table border=\"1\" class=\"dataframe\">\n",
       "  <thead>\n",
       "    <tr style=\"text-align: right;\">\n",
       "      <th></th>\n",
       "      <th>count</th>\n",
       "      <th>mean</th>\n",
       "      <th>std</th>\n",
       "      <th>min</th>\n",
       "      <th>25%</th>\n",
       "      <th>50%</th>\n",
       "      <th>75%</th>\n",
       "      <th>max</th>\n",
       "    </tr>\n",
       "  </thead>\n",
       "  <tbody>\n",
       "    <tr>\n",
       "      <th>BALANCE</th>\n",
       "      <td>8636.0</td>\n",
       "      <td>0.000000e+00</td>\n",
       "      <td>1.000058</td>\n",
       "      <td>-0.764144</td>\n",
       "      <td>-0.693469</td>\n",
       "      <td>-0.326598</td>\n",
       "      <td>0.240507</td>\n",
       "      <td>8.323708</td>\n",
       "    </tr>\n",
       "    <tr>\n",
       "      <th>BALANCE_FREQUENCY</th>\n",
       "      <td>8636.0</td>\n",
       "      <td>-3.422716e-16</td>\n",
       "      <td>1.000058</td>\n",
       "      <td>-4.309583</td>\n",
       "      <td>0.067679</td>\n",
       "      <td>0.505405</td>\n",
       "      <td>0.505405</td>\n",
       "      <td>0.505405</td>\n",
       "    </tr>\n",
       "    <tr>\n",
       "      <th>PURCHASES</th>\n",
       "      <td>8636.0</td>\n",
       "      <td>1.151876e-17</td>\n",
       "      <td>1.000058</td>\n",
       "      <td>-0.473208</td>\n",
       "      <td>-0.453195</td>\n",
       "      <td>-0.299970</td>\n",
       "      <td>0.055629</td>\n",
       "      <td>22.157141</td>\n",
       "    </tr>\n",
       "    <tr>\n",
       "      <th>ONEOFF_PURCHASES</th>\n",
       "      <td>8636.0</td>\n",
       "      <td>-3.291073e-17</td>\n",
       "      <td>1.000058</td>\n",
       "      <td>-0.359160</td>\n",
       "      <td>-0.359160</td>\n",
       "      <td>-0.332444</td>\n",
       "      <td>-0.003445</td>\n",
       "      <td>23.842835</td>\n",
       "    </tr>\n",
       "    <tr>\n",
       "      <th>INSTALLMENTS_PURCHASES</th>\n",
       "      <td>8636.0</td>\n",
       "      <td>-2.797412e-17</td>\n",
       "      <td>1.000058</td>\n",
       "      <td>-0.458839</td>\n",
       "      <td>-0.458839</td>\n",
       "      <td>-0.355496</td>\n",
       "      <td>0.069019</td>\n",
       "      <td>24.072555</td>\n",
       "    </tr>\n",
       "    <tr>\n",
       "      <th>CASH_ADVANCE</th>\n",
       "      <td>8636.0</td>\n",
       "      <td>-4.278395e-17</td>\n",
       "      <td>1.000058</td>\n",
       "      <td>-0.468655</td>\n",
       "      <td>-0.468655</td>\n",
       "      <td>-0.468655</td>\n",
       "      <td>0.065152</td>\n",
       "      <td>21.751881</td>\n",
       "    </tr>\n",
       "    <tr>\n",
       "      <th>PURCHASES_FREQUENCY</th>\n",
       "      <td>8636.0</td>\n",
       "      <td>6.582147e-18</td>\n",
       "      <td>1.000058</td>\n",
       "      <td>-1.236139</td>\n",
       "      <td>-1.028455</td>\n",
       "      <td>0.009969</td>\n",
       "      <td>1.048393</td>\n",
       "      <td>1.256077</td>\n",
       "    </tr>\n",
       "    <tr>\n",
       "      <th>ONEOFF_PURCHASES_FREQUENCY</th>\n",
       "      <td>8636.0</td>\n",
       "      <td>-3.291073e-18</td>\n",
       "      <td>1.000058</td>\n",
       "      <td>-0.686280</td>\n",
       "      <td>-0.686280</td>\n",
       "      <td>-0.408536</td>\n",
       "      <td>0.424696</td>\n",
       "      <td>2.646651</td>\n",
       "    </tr>\n",
       "    <tr>\n",
       "      <th>PURCHASES_INSTALLMENTS_FREQUENCY</th>\n",
       "      <td>8636.0</td>\n",
       "      <td>8.227683e-18</td>\n",
       "      <td>1.000058</td>\n",
       "      <td>-0.926522</td>\n",
       "      <td>-0.926522</td>\n",
       "      <td>-0.507834</td>\n",
       "      <td>0.957570</td>\n",
       "      <td>1.585600</td>\n",
       "    </tr>\n",
       "    <tr>\n",
       "      <th>CASH_ADVANCE_FREQUENCY</th>\n",
       "      <td>8636.0</td>\n",
       "      <td>2.468305e-17</td>\n",
       "      <td>1.000058</td>\n",
       "      <td>-0.681953</td>\n",
       "      <td>-0.681953</td>\n",
       "      <td>-0.681953</td>\n",
       "      <td>0.557022</td>\n",
       "      <td>6.751896</td>\n",
       "    </tr>\n",
       "    <tr>\n",
       "      <th>CASH_ADVANCE_TRX</th>\n",
       "      <td>8636.0</td>\n",
       "      <td>2.715136e-17</td>\n",
       "      <td>1.000058</td>\n",
       "      <td>-0.479437</td>\n",
       "      <td>-0.479437</td>\n",
       "      <td>-0.479437</td>\n",
       "      <td>0.099258</td>\n",
       "      <td>17.315429</td>\n",
       "    </tr>\n",
       "    <tr>\n",
       "      <th>PURCHASES_TRX</th>\n",
       "      <td>8636.0</td>\n",
       "      <td>-1.151876e-17</td>\n",
       "      <td>1.000058</td>\n",
       "      <td>-0.597054</td>\n",
       "      <td>-0.557339</td>\n",
       "      <td>-0.319045</td>\n",
       "      <td>0.117827</td>\n",
       "      <td>13.621138</td>\n",
       "    </tr>\n",
       "    <tr>\n",
       "      <th>CREDIT_LIMIT</th>\n",
       "      <td>8636.0</td>\n",
       "      <td>1.118965e-16</td>\n",
       "      <td>1.000058</td>\n",
       "      <td>-1.222207</td>\n",
       "      <td>-0.798598</td>\n",
       "      <td>-0.415982</td>\n",
       "      <td>0.540556</td>\n",
       "      <td>6.963026</td>\n",
       "    </tr>\n",
       "    <tr>\n",
       "      <th>PAYMENTS</th>\n",
       "      <td>8636.0</td>\n",
       "      <td>-2.632859e-17</td>\n",
       "      <td>1.000058</td>\n",
       "      <td>-0.613281</td>\n",
       "      <td>-0.469446</td>\n",
       "      <td>-0.305124</td>\n",
       "      <td>0.057280</td>\n",
       "      <td>16.818912</td>\n",
       "    </tr>\n",
       "    <tr>\n",
       "      <th>MINIMUM_PAYMENTS</th>\n",
       "      <td>8636.0</td>\n",
       "      <td>-4.442949e-17</td>\n",
       "      <td>1.000058</td>\n",
       "      <td>-0.364304</td>\n",
       "      <td>-0.293008</td>\n",
       "      <td>-0.232611</td>\n",
       "      <td>-0.016358</td>\n",
       "      <td>31.841586</td>\n",
       "    </tr>\n",
       "    <tr>\n",
       "      <th>PRC_FULL_PAYMENT</th>\n",
       "      <td>8636.0</td>\n",
       "      <td>5.923932e-17</td>\n",
       "      <td>1.000058</td>\n",
       "      <td>-0.537727</td>\n",
       "      <td>-0.537727</td>\n",
       "      <td>-0.537727</td>\n",
       "      <td>0.024855</td>\n",
       "      <td>2.837758</td>\n",
       "    </tr>\n",
       "    <tr>\n",
       "      <th>TENURE</th>\n",
       "      <td>8636.0</td>\n",
       "      <td>9.215005e-17</td>\n",
       "      <td>1.000058</td>\n",
       "      <td>-4.221800</td>\n",
       "      <td>0.355181</td>\n",
       "      <td>0.355181</td>\n",
       "      <td>0.355181</td>\n",
       "      <td>0.355181</td>\n",
       "    </tr>\n",
       "  </tbody>\n",
       "</table>\n",
       "</div>"
      ],
      "text/plain": [
       "                                   count          mean       std       min  \\\n",
       "BALANCE                           8636.0  0.000000e+00  1.000058 -0.764144   \n",
       "BALANCE_FREQUENCY                 8636.0 -3.422716e-16  1.000058 -4.309583   \n",
       "PURCHASES                         8636.0  1.151876e-17  1.000058 -0.473208   \n",
       "ONEOFF_PURCHASES                  8636.0 -3.291073e-17  1.000058 -0.359160   \n",
       "INSTALLMENTS_PURCHASES            8636.0 -2.797412e-17  1.000058 -0.458839   \n",
       "CASH_ADVANCE                      8636.0 -4.278395e-17  1.000058 -0.468655   \n",
       "PURCHASES_FREQUENCY               8636.0  6.582147e-18  1.000058 -1.236139   \n",
       "ONEOFF_PURCHASES_FREQUENCY        8636.0 -3.291073e-18  1.000058 -0.686280   \n",
       "PURCHASES_INSTALLMENTS_FREQUENCY  8636.0  8.227683e-18  1.000058 -0.926522   \n",
       "CASH_ADVANCE_FREQUENCY            8636.0  2.468305e-17  1.000058 -0.681953   \n",
       "CASH_ADVANCE_TRX                  8636.0  2.715136e-17  1.000058 -0.479437   \n",
       "PURCHASES_TRX                     8636.0 -1.151876e-17  1.000058 -0.597054   \n",
       "CREDIT_LIMIT                      8636.0  1.118965e-16  1.000058 -1.222207   \n",
       "PAYMENTS                          8636.0 -2.632859e-17  1.000058 -0.613281   \n",
       "MINIMUM_PAYMENTS                  8636.0 -4.442949e-17  1.000058 -0.364304   \n",
       "PRC_FULL_PAYMENT                  8636.0  5.923932e-17  1.000058 -0.537727   \n",
       "TENURE                            8636.0  9.215005e-17  1.000058 -4.221800   \n",
       "\n",
       "                                       25%       50%       75%        max  \n",
       "BALANCE                          -0.693469 -0.326598  0.240507   8.323708  \n",
       "BALANCE_FREQUENCY                 0.067679  0.505405  0.505405   0.505405  \n",
       "PURCHASES                        -0.453195 -0.299970  0.055629  22.157141  \n",
       "ONEOFF_PURCHASES                 -0.359160 -0.332444 -0.003445  23.842835  \n",
       "INSTALLMENTS_PURCHASES           -0.458839 -0.355496  0.069019  24.072555  \n",
       "CASH_ADVANCE                     -0.468655 -0.468655  0.065152  21.751881  \n",
       "PURCHASES_FREQUENCY              -1.028455  0.009969  1.048393   1.256077  \n",
       "ONEOFF_PURCHASES_FREQUENCY       -0.686280 -0.408536  0.424696   2.646651  \n",
       "PURCHASES_INSTALLMENTS_FREQUENCY -0.926522 -0.507834  0.957570   1.585600  \n",
       "CASH_ADVANCE_FREQUENCY           -0.681953 -0.681953  0.557022   6.751896  \n",
       "CASH_ADVANCE_TRX                 -0.479437 -0.479437  0.099258  17.315429  \n",
       "PURCHASES_TRX                    -0.557339 -0.319045  0.117827  13.621138  \n",
       "CREDIT_LIMIT                     -0.798598 -0.415982  0.540556   6.963026  \n",
       "PAYMENTS                         -0.469446 -0.305124  0.057280  16.818912  \n",
       "MINIMUM_PAYMENTS                 -0.293008 -0.232611 -0.016358  31.841586  \n",
       "PRC_FULL_PAYMENT                 -0.537727 -0.537727  0.024855   2.837758  \n",
       "TENURE                            0.355181  0.355181  0.355181   0.355181  "
      ]
     },
     "execution_count": 53,
     "metadata": {},
     "output_type": "execute_result"
    }
   ],
   "source": [
    "data.describe().T"
   ]
  },
  {
   "cell_type": "code",
   "execution_count": 71,
   "id": "eeda38e3",
   "metadata": {
    "ExecuteTime": {
     "end_time": "2023-01-08T15:26:07.155452Z",
     "start_time": "2023-01-08T15:26:06.877757Z"
    }
   },
   "outputs": [
    {
     "data": {
      "text/plain": [
       "<AxesSubplot: >"
      ]
     },
     "execution_count": 71,
     "metadata": {},
     "output_type": "execute_result"
    },
    {
     "data": {
      "image/png": "[encoded data removed]",
      "text/plain": [
       "<Figure size 432x288 with 1 Axes>"
      ]
     },
     "metadata": {},
     "output_type": "display_data"
    }
   ],
   "source": [
    "sns.boxplot(data=data)"
   ]
  },
  {
   "cell_type": "markdown",
   "id": "7822fe96",
   "metadata": {},
   "source": [
    "# feature selection"
   ]
  },
  {
   "cell_type": "code",
   "execution_count": 54,
   "id": "7acc64c8",
   "metadata": {
    "ExecuteTime": {
     "end_time": "2023-01-08T15:00:02.952774Z",
     "start_time": "2023-01-08T15:00:02.899962Z"
    }
   },
   "outputs": [
    {
     "data": {
      "text/html": [
       "<style>#sk-container-id-3 {color: black;background-color: white;}#sk-container-id-3 pre{padding: 0;}#sk-container-id-3 div.sk-toggleable {background-color: white;}#sk-container-id-3 label.sk-toggleable__label {cursor: pointer;display: block;width: 100%;margin-bottom: 0;padding: 0.3em;box-sizing: border-box;text-align: center;}#sk-container-id-3 label.sk-toggleable__label-arrow:before {content: \"▸\";float: left;margin-right: 0.25em;color: #696969;}#sk-container-id-3 label.sk-toggleable__label-arrow:hover:before {color: black;}#sk-container-id-3 div.sk-estimator:hover label.sk-toggleable__label-arrow:before {color: black;}#sk-container-id-3 div.sk-toggleable__content {max-height: 0;max-width: 0;overflow: hidden;text-align: left;background-color: #f0f8ff;}#sk-container-id-3 div.sk-toggleable__content pre {margin: 0.2em;color: black;border-radius: 0.25em;background-color: #f0f8ff;}#sk-container-id-3 input.sk-toggleable__control:checked~div.sk-toggleable__content {max-height: 200px;max-width: 100%;overflow: auto;}#sk-container-id-3 input.sk-toggleable__control:checked~label.sk-toggleable__label-arrow:before {content: \"▾\";}#sk-container-id-3 div.sk-estimator input.sk-toggleable__control:checked~label.sk-toggleable__label {background-color: #d4ebff;}#sk-container-id-3 div.sk-label input.sk-toggleable__control:checked~label.sk-toggleable__label {background-color: #d4ebff;}#sk-container-id-3 input.sk-hidden--visually {border: 0;clip: rect(1px 1px 1px 1px);clip: rect(1px, 1px, 1px, 1px);height: 1px;margin: -1px;overflow: hidden;padding: 0;position: absolute;width: 1px;}#sk-container-id-3 div.sk-estimator {font-family: monospace;background-color: #f0f8ff;border: 1px dotted black;border-radius: 0.25em;box-sizing: border-box;margin-bottom: 0.5em;}#sk-container-id-3 div.sk-estimator:hover {background-color: #d4ebff;}#sk-container-id-3 div.sk-parallel-item::after {content: \"\";width: 100%;border-bottom: 1px solid gray;flex-grow: 1;}#sk-container-id-3 div.sk-label:hover label.sk-toggleable__label {background-color: #d4ebff;}#sk-container-id-3 div.sk-serial::before {content: \"\";position: absolute;border-left: 1px solid gray;box-sizing: border-box;top: 0;bottom: 0;left: 50%;z-index: 0;}#sk-container-id-3 div.sk-serial {display: flex;flex-direction: column;align-items: center;background-color: white;padding-right: 0.2em;padding-left: 0.2em;position: relative;}#sk-container-id-3 div.sk-item {position: relative;z-index: 1;}#sk-container-id-3 div.sk-parallel {display: flex;align-items: stretch;justify-content: center;background-color: white;position: relative;}#sk-container-id-3 div.sk-item::before, #sk-container-id-3 div.sk-parallel-item::before {content: \"\";position: absolute;border-left: 1px solid gray;box-sizing: border-box;top: 0;bottom: 0;left: 50%;z-index: -1;}#sk-container-id-3 div.sk-parallel-item {display: flex;flex-direction: column;z-index: 1;position: relative;background-color: white;}#sk-container-id-3 div.sk-parallel-item:first-child::after {align-self: flex-end;width: 50%;}#sk-container-id-3 div.sk-parallel-item:last-child::after {align-self: flex-start;width: 50%;}#sk-container-id-3 div.sk-parallel-item:only-child::after {width: 0;}#sk-container-id-3 div.sk-dashed-wrapped {border: 1px dashed gray;margin: 0 0.4em 0.5em 0.4em;box-sizing: border-box;padding-bottom: 0.4em;background-color: white;}#sk-container-id-3 div.sk-label label {font-family: monospace;font-weight: bold;display: inline-block;line-height: 1.2em;}#sk-container-id-3 div.sk-label-container {text-align: center;}#sk-container-id-3 div.sk-container {/* jupyter's `normalize.less` sets `[hidden] { display: none; }` but bootstrap.min.css set `[hidden] { display: none !important; }` so we also need the `!important` here to be able to override the default hidden behavior on the sphinx rendered scikit-learn.org. See: https://github.com/scikit-learn/scikit-learn/issues/21755 */display: inline-block !important;position: relative;}#sk-container-id-3 div.sk-text-repr-fallback {display: none;}</style><div id=\"sk-container-id-3\" class=\"sk-top-container\"><div class=\"sk-text-repr-fallback\"><pre>VarianceThreshold(threshold=0)</pre><b>In a Jupyter environment, please rerun this cell to show the HTML representation or trust the notebook. <br />On GitHub, the HTML representation is unable to render, please try loading this page with nbviewer.org.</b></div><div class=\"sk-container\" hidden><div class=\"sk-item\"><div class=\"sk-estimator sk-toggleable\"><input class=\"sk-toggleable__control sk-hidden--visually\" id=\"sk-estimator-id-3\" type=\"checkbox\" checked><label for=\"sk-estimator-id-3\" class=\"sk-toggleable__label sk-toggleable__label-arrow\">VarianceThreshold</label><div class=\"sk-toggleable__content\"><pre>VarianceThreshold(threshold=0)</pre></div></div></div></div></div>"
      ],
      "text/plain": [
       "VarianceThreshold(threshold=0)"
      ]
     },
     "execution_count": 54,
     "metadata": {},
     "output_type": "execute_result"
    }
   ],
   "source": [
    "from sklearn.feature_selection import VarianceThreshold\n",
    "var_thres = VarianceThreshold(threshold=0)\n",
    "var_thres.fit(data)"
   ]
  },
  {
   "cell_type": "code",
   "execution_count": 55,
   "id": "ef1d281a",
   "metadata": {
    "ExecuteTime": {
     "end_time": "2023-01-08T15:00:15.975410Z",
     "start_time": "2023-01-08T15:00:15.963399Z"
    }
   },
   "outputs": [
    {
     "data": {
      "text/plain": [
       "array([ True,  True,  True,  True,  True,  True,  True,  True,  True,\n",
       "        True,  True,  True,  True,  True,  True,  True,  True])"
      ]
     },
     "execution_count": 55,
     "metadata": {},
     "output_type": "execute_result"
    }
   ],
   "source": [
    "var_thres.get_support()"
   ]
  },
  {
   "cell_type": "code",
   "execution_count": 57,
   "id": "c680dca9",
   "metadata": {
    "ExecuteTime": {
     "end_time": "2023-01-08T15:00:37.755987Z",
     "start_time": "2023-01-08T15:00:37.738876Z"
    }
   },
   "outputs": [
    {
     "data": {
      "text/plain": [
       "17"
      ]
     },
     "execution_count": 57,
     "metadata": {},
     "output_type": "execute_result"
    }
   ],
   "source": [
    "len(data.columns[var_thres.get_support()])"
   ]
  },
  {
   "cell_type": "code",
   "execution_count": 58,
   "id": "d716e0c4",
   "metadata": {
    "ExecuteTime": {
     "end_time": "2023-01-08T15:03:31.410089Z",
     "start_time": "2023-01-08T15:03:31.081307Z"
    }
   },
   "outputs": [
    {
     "data": {
      "text/plain": [
       "<AxesSubplot: >"
      ]
     },
     "execution_count": 58,
     "metadata": {},
     "output_type": "execute_result"
    },
    {
     "data": {
      "image/png": "[encoded data removed]",
      "text/plain": [
       "<Figure size 792x792 with 2 Axes>"
      ]
     },
     "metadata": {},
     "output_type": "display_data"
    }
   ],
   "source": [
    "# Using Pearson Correlation\n",
    "corrmat = data.corr()\n",
    "fig, ax = plt.subplots()\n",
    "fig.set_size_inches(11,11)\n",
    "sns.heatmap(corrmat)"
   ]
  },
  {
   "cell_type": "code",
   "execution_count": 60,
   "id": "b88462af",
   "metadata": {
    "ExecuteTime": {
     "end_time": "2023-01-08T15:04:55.291527Z",
     "start_time": "2023-01-08T15:04:55.273539Z"
    }
   },
   "outputs": [
    {
     "data": {
      "text/plain": [
       "17"
      ]
     },
     "execution_count": 60,
     "metadata": {},
     "output_type": "execute_result"
    }
   ],
   "source": [
    "corr_matrix = data.corr()\n",
    "len(corr_matrix.columns)"
   ]
  },
  {
   "cell_type": "code",
   "execution_count": 61,
   "id": "4e48d850",
   "metadata": {
    "ExecuteTime": {
     "end_time": "2023-01-08T15:07:49.829272Z",
     "start_time": "2023-01-08T15:07:49.825267Z"
    }
   },
   "outputs": [],
   "source": [
    "# with following function can select highly correlated features\n",
    "# it will remove first feature that is correlated with anything other feature\n",
    "def correlation(dataset, threshold):\n",
    "    col_corr = set()  # Set of all names of correlated columns\n",
    "    corr_matrix = dataset.corr()\n",
    "    for i in range(len(corr_matrix.columns)):\n",
    "        for j in range(i):\n",
    "            if abs(corr_matrix.iloc[i, j]) > threshold: # interested in absolute coeff value\n",
    "                colname = corr_matrix.columns[i]  # getting the name of column\n",
    "                col_corr.add(colname)\n",
    "    return col_corr"
   ]
  },
  {
   "cell_type": "code",
   "execution_count": 74,
   "id": "b2017672",
   "metadata": {
    "ExecuteTime": {
     "end_time": "2023-01-08T15:33:44.194886Z",
     "start_time": "2023-01-08T15:33:44.171879Z"
    }
   },
   "outputs": [
    {
     "data": {
      "text/plain": [
       "9"
      ]
     },
     "execution_count": 74,
     "metadata": {},
     "output_type": "execute_result"
    }
   ],
   "source": [
    "corr_features = correlation(data, 0.5)\n",
    "len(set(corr_features))"
   ]
  },
  {
   "cell_type": "code",
   "execution_count": null,
   "id": "06c0e454",
   "metadata": {},
   "outputs": [],
   "source": []
  },
  {
   "cell_type": "code",
   "execution_count": null,
   "id": "b7f79f85",
   "metadata": {},
   "outputs": [],
   "source": []
  },
  {
   "cell_type": "code",
   "execution_count": null,
   "id": "924bf480",
   "metadata": {},
   "outputs": [],
   "source": []
  },
  {
   "cell_type": "code",
   "execution_count": null,
   "id": "2546fc3a",
   "metadata": {},
   "outputs": [],
   "source": []
  },
  {
   "cell_type": "code",
   "execution_count": null,
   "id": "e5b57565",
   "metadata": {},
   "outputs": [],
   "source": []
  },
  {
   "cell_type": "code",
   "execution_count": 36,
   "id": "1a2f4179",
   "metadata": {
    "ExecuteTime": {
     "end_time": "2023-01-08T14:37:58.737528Z",
     "start_time": "2023-01-08T14:37:58.714549Z"
    }
   },
   "outputs": [
    {
     "data": {
      "text/html": [
       "<style>#sk-container-id-2 {color: black;background-color: white;}#sk-container-id-2 pre{padding: 0;}#sk-container-id-2 div.sk-toggleable {background-color: white;}#sk-container-id-2 label.sk-toggleable__label {cursor: pointer;display: block;width: 100%;margin-bottom: 0;padding: 0.3em;box-sizing: border-box;text-align: center;}#sk-container-id-2 label.sk-toggleable__label-arrow:before {content: \"▸\";float: left;margin-right: 0.25em;color: #696969;}#sk-container-id-2 label.sk-toggleable__label-arrow:hover:before {color: black;}#sk-container-id-2 div.sk-estimator:hover label.sk-toggleable__label-arrow:before {color: black;}#sk-container-id-2 div.sk-toggleable__content {max-height: 0;max-width: 0;overflow: hidden;text-align: left;background-color: #f0f8ff;}#sk-container-id-2 div.sk-toggleable__content pre {margin: 0.2em;color: black;border-radius: 0.25em;background-color: #f0f8ff;}#sk-container-id-2 input.sk-toggleable__control:checked~div.sk-toggleable__content {max-height: 200px;max-width: 100%;overflow: auto;}#sk-container-id-2 input.sk-toggleable__control:checked~label.sk-toggleable__label-arrow:before {content: \"▾\";}#sk-container-id-2 div.sk-estimator input.sk-toggleable__control:checked~label.sk-toggleable__label {background-color: #d4ebff;}#sk-container-id-2 div.sk-label input.sk-toggleable__control:checked~label.sk-toggleable__label {background-color: #d4ebff;}#sk-container-id-2 input.sk-hidden--visually {border: 0;clip: rect(1px 1px 1px 1px);clip: rect(1px, 1px, 1px, 1px);height: 1px;margin: -1px;overflow: hidden;padding: 0;position: absolute;width: 1px;}#sk-container-id-2 div.sk-estimator {font-family: monospace;background-color: #f0f8ff;border: 1px dotted black;border-radius: 0.25em;box-sizing: border-box;margin-bottom: 0.5em;}#sk-container-id-2 div.sk-estimator:hover {background-color: #d4ebff;}#sk-container-id-2 div.sk-parallel-item::after {content: \"\";width: 100%;border-bottom: 1px solid gray;flex-grow: 1;}#sk-container-id-2 div.sk-label:hover label.sk-toggleable__label {background-color: #d4ebff;}#sk-container-id-2 div.sk-serial::before {content: \"\";position: absolute;border-left: 1px solid gray;box-sizing: border-box;top: 0;bottom: 0;left: 50%;z-index: 0;}#sk-container-id-2 div.sk-serial {display: flex;flex-direction: column;align-items: center;background-color: white;padding-right: 0.2em;padding-left: 0.2em;position: relative;}#sk-container-id-2 div.sk-item {position: relative;z-index: 1;}#sk-container-id-2 div.sk-parallel {display: flex;align-items: stretch;justify-content: center;background-color: white;position: relative;}#sk-container-id-2 div.sk-item::before, #sk-container-id-2 div.sk-parallel-item::before {content: \"\";position: absolute;border-left: 1px solid gray;box-sizing: border-box;top: 0;bottom: 0;left: 50%;z-index: -1;}#sk-container-id-2 div.sk-parallel-item {display: flex;flex-direction: column;z-index: 1;position: relative;background-color: white;}#sk-container-id-2 div.sk-parallel-item:first-child::after {align-self: flex-end;width: 50%;}#sk-container-id-2 div.sk-parallel-item:last-child::after {align-self: flex-start;width: 50%;}#sk-container-id-2 div.sk-parallel-item:only-child::after {width: 0;}#sk-container-id-2 div.sk-dashed-wrapped {border: 1px dashed gray;margin: 0 0.4em 0.5em 0.4em;box-sizing: border-box;padding-bottom: 0.4em;background-color: white;}#sk-container-id-2 div.sk-label label {font-family: monospace;font-weight: bold;display: inline-block;line-height: 1.2em;}#sk-container-id-2 div.sk-label-container {text-align: center;}#sk-container-id-2 div.sk-container {/* jupyter's `normalize.less` sets `[hidden] { display: none; }` but bootstrap.min.css set `[hidden] { display: none !important; }` so we also need the `!important` here to be able to override the default hidden behavior on the sphinx rendered scikit-learn.org. See: https://github.com/scikit-learn/scikit-learn/issues/21755 */display: inline-block !important;position: relative;}#sk-container-id-2 div.sk-text-repr-fallback {display: none;}</style><div id=\"sk-container-id-2\" class=\"sk-top-container\"><div class=\"sk-text-repr-fallback\"><pre>PCA(n_components=2)</pre><b>In a Jupyter environment, please rerun this cell to show the HTML representation or trust the notebook. <br />On GitHub, the HTML representation is unable to render, please try loading this page with nbviewer.org.</b></div><div class=\"sk-container\" hidden><div class=\"sk-item\"><div class=\"sk-estimator sk-toggleable\"><input class=\"sk-toggleable__control sk-hidden--visually\" id=\"sk-estimator-id-2\" type=\"checkbox\" checked><label for=\"sk-estimator-id-2\" class=\"sk-toggleable__label sk-toggleable__label-arrow\">PCA</label><div class=\"sk-toggleable__content\"><pre>PCA(n_components=2)</pre></div></div></div></div></div>"
      ],
      "text/plain": [
       "PCA(n_components=2)"
      ]
     },
     "execution_count": 36,
     "metadata": {},
     "output_type": "execute_result"
    }
   ],
   "source": [
    "from sklearn.decomposition import PCA\n",
    "pca = PCA(n_components=2)\n",
    "pca.fit(data)"
   ]
  },
  {
   "cell_type": "code",
   "execution_count": 37,
   "id": "d5e9fba2",
   "metadata": {
    "ExecuteTime": {
     "end_time": "2023-01-08T14:38:04.929328Z",
     "start_time": "2023-01-08T14:38:04.918320Z"
    }
   },
   "outputs": [
    {
     "data": {
      "text/plain": [
       "(8636, 17)"
      ]
     },
     "execution_count": 37,
     "metadata": {},
     "output_type": "execute_result"
    }
   ],
   "source": [
    "data.shape"
   ]
  },
  {
   "cell_type": "code",
   "execution_count": 38,
   "id": "39339338",
   "metadata": {
    "ExecuteTime": {
     "end_time": "2023-01-08T14:38:10.665636Z",
     "start_time": "2023-01-08T14:38:10.655636Z"
    }
   },
   "outputs": [
    {
     "data": {
      "text/plain": [
       "(8636, 2)"
      ]
     },
     "execution_count": 38,
     "metadata": {},
     "output_type": "execute_result"
    }
   ],
   "source": [
    "x_pca = pca.transform(data)\n",
    "x_pca.shape"
   ]
  },
  {
   "cell_type": "code",
   "execution_count": 40,
   "id": "bb99b78f",
   "metadata": {
    "ExecuteTime": {
     "end_time": "2023-01-08T14:40:56.022529Z",
     "start_time": "2023-01-08T14:40:52.519630Z"
    }
   },
   "outputs": [
    {
     "ename": "ValueError",
     "evalue": "'c' argument must be a color, a sequence of colors, or a sequence of numbers, not        BALANCE  BALANCE_FREQUENCY  PURCHASES  ONEOFF_PURCHASES  \\\n0    -0.744625          -0.370047  -0.429184         -0.359160   \n1     0.764152           0.067679  -0.473208         -0.359160   \n2     0.426602           0.505405  -0.116413          0.099909   \n4    -0.373910           0.505405  -0.465825         -0.349660   \n5     0.099551           0.505405   0.142062         -0.359160   \n...        ...                ...        ...               ...   \n8943 -0.761342          -1.902089  -0.463563         -0.346751   \n8945 -0.750546           0.505405  -0.338865         -0.359160   \n8947 -0.752977          -0.297095  -0.406572         -0.359160   \n8948 -0.757721          -0.297095  -0.473208         -0.359160   \n8949 -0.586278          -1.099590   0.031295          0.289957   \n\n      INSTALLMENTS_PURCHASES  CASH_ADVANCE  PURCHASES_FREQUENCY  \\\n0                  -0.354826     -0.468655            -0.820769   \n1                  -0.458839      2.568556            -1.236139   \n2                  -0.458839     -0.468655             1.256077   \n4                  -0.458839     -0.468655            -1.028455   \n5                   0.994815     -0.468655             0.425339   \n...                      ...           ...                  ...   \n8943               -0.458839     -0.468655            -0.820769   \n8945               -0.141436     -0.468655             1.256077   \n8947               -0.301402     -0.468655             0.840707   \n8948               -0.458839     -0.451422            -1.236139   \n8949               -0.458839     -0.408769             0.425339   \n\n      ONEOFF_PURCHASES_FREQUENCY  PURCHASES_INSTALLMENTS_FREQUENCY  \\\n0                      -0.686280                         -0.717179   \n1                      -0.686280                         -0.926522   \n2                       2.646651                         -0.926522   \n4                      -0.408536                         -0.926522   \n5                      -0.686280                          0.538882   \n...                          ...                               ...   \n8943                   -0.130790                         -0.926522   \n8945                   -0.686280                          1.166912   \n8947                   -0.686280                          0.748227   \n8948                   -0.686280                         -0.926522   \n8949                    1.535675                         -0.926522   \n\n      CASH_ADVANCE_FREQUENCY  CASH_ADVANCE_TRX  PURCHASES_TRX  CREDIT_LIMIT  \\\n0                  -0.681953         -0.479437      -0.517623     -0.962575   \n1                   0.557022          0.099258      -0.597054      0.677204   \n2                  -0.681953         -0.479437      -0.120467      0.813852   \n4                  -0.681953         -0.479437      -0.557339     -0.907916   \n5                  -0.681953         -0.479437      -0.279329     -0.743938   \n...                      ...               ...            ...           ...   \n8943               -0.681953         -0.479437      -0.557339     -1.099224   \n8945               -0.681953         -0.479437      -0.358760     -0.962575   \n8947               -0.681953         -0.479437      -0.398476     -0.962575   \n8948                0.144032         -0.190089      -0.597054     -1.099224   \n8949                0.970012         -0.190089       0.316405     -0.907916   \n\n      PAYMENTS  MINIMUM_PAYMENTS  PRC_FULL_PAYMENT    TENURE  \n0    -0.543942         -0.305508         -0.537727  0.355181  \n1     0.796852          0.087689          0.212380  0.355181  \n2    -0.399503         -0.099906         -0.537727  0.355181  \n4    -0.380165         -0.261131         -0.537727  0.355181  \n5    -0.132119          0.650363         -0.537727  0.355181  \n...        ...               ...               ...       ...  \n8943 -0.593143         -0.345988         -0.537727 -4.221800  \n8945 -0.501396         -0.343706          1.150015 -4.221800  \n8947 -0.585367         -0.329572          0.306144 -4.221800  \n8948 -0.595238         -0.340811          0.306144 -4.221800  \n8949 -0.591589         -0.327098         -0.537727 -4.221800  \n\n[8636 rows x 17 columns]",
     "output_type": "error",
     "traceback": [
      "\u001b[1;31m---------------------------------------------------------------------------\u001b[0m",
      "\u001b[1;31mValueError\u001b[0m                                Traceback (most recent call last)",
      "File \u001b[1;32mC:\\Python310\\lib\\site-packages\\matplotlib\\axes\\_axes.py:4375\u001b[0m, in \u001b[0;36mAxes._parse_scatter_color_args\u001b[1;34m(c, edgecolors, kwargs, xsize, get_next_color_func)\u001b[0m\n\u001b[0;32m   4374\u001b[0m \u001b[38;5;28;01mtry\u001b[39;00m:  \u001b[38;5;66;03m# Is 'c' acceptable as PathCollection facecolors?\u001b[39;00m\n\u001b[1;32m-> 4375\u001b[0m     colors \u001b[38;5;241m=\u001b[39m \u001b[43mmcolors\u001b[49m\u001b[38;5;241;43m.\u001b[39;49m\u001b[43mto_rgba_array\u001b[49m\u001b[43m(\u001b[49m\u001b[43mc\u001b[49m\u001b[43m)\u001b[49m\n\u001b[0;32m   4376\u001b[0m \u001b[38;5;28;01mexcept\u001b[39;00m (\u001b[38;5;167;01mTypeError\u001b[39;00m, \u001b[38;5;167;01mValueError\u001b[39;00m) \u001b[38;5;28;01mas\u001b[39;00m err:\n",
      "File \u001b[1;32mC:\\Python310\\lib\\site-packages\\matplotlib\\colors.py:487\u001b[0m, in \u001b[0;36mto_rgba_array\u001b[1;34m(c, alpha)\u001b[0m\n\u001b[0;32m    486\u001b[0m \u001b[38;5;28;01melse\u001b[39;00m:\n\u001b[1;32m--> 487\u001b[0m     rgba \u001b[38;5;241m=\u001b[39m np\u001b[38;5;241m.\u001b[39marray([to_rgba(cc) \u001b[38;5;28;01mfor\u001b[39;00m cc \u001b[38;5;129;01min\u001b[39;00m c])\n\u001b[0;32m    489\u001b[0m \u001b[38;5;28;01mif\u001b[39;00m alpha \u001b[38;5;129;01mis\u001b[39;00m \u001b[38;5;129;01mnot\u001b[39;00m \u001b[38;5;28;01mNone\u001b[39;00m:\n",
      "File \u001b[1;32mC:\\Python310\\lib\\site-packages\\matplotlib\\colors.py:487\u001b[0m, in \u001b[0;36m<listcomp>\u001b[1;34m(.0)\u001b[0m\n\u001b[0;32m    486\u001b[0m \u001b[38;5;28;01melse\u001b[39;00m:\n\u001b[1;32m--> 487\u001b[0m     rgba \u001b[38;5;241m=\u001b[39m np\u001b[38;5;241m.\u001b[39marray([\u001b[43mto_rgba\u001b[49m\u001b[43m(\u001b[49m\u001b[43mcc\u001b[49m\u001b[43m)\u001b[49m \u001b[38;5;28;01mfor\u001b[39;00m cc \u001b[38;5;129;01min\u001b[39;00m c])\n\u001b[0;32m    489\u001b[0m \u001b[38;5;28;01mif\u001b[39;00m alpha \u001b[38;5;129;01mis\u001b[39;00m \u001b[38;5;129;01mnot\u001b[39;00m \u001b[38;5;28;01mNone\u001b[39;00m:\n",
      "File \u001b[1;32mC:\\Python310\\lib\\site-packages\\matplotlib\\colors.py:299\u001b[0m, in \u001b[0;36mto_rgba\u001b[1;34m(c, alpha)\u001b[0m\n\u001b[0;32m    298\u001b[0m \u001b[38;5;28;01mif\u001b[39;00m rgba \u001b[38;5;129;01mis\u001b[39;00m \u001b[38;5;28;01mNone\u001b[39;00m:  \u001b[38;5;66;03m# Suppress exception chaining of cache lookup failure.\u001b[39;00m\n\u001b[1;32m--> 299\u001b[0m     rgba \u001b[38;5;241m=\u001b[39m \u001b[43m_to_rgba_no_colorcycle\u001b[49m\u001b[43m(\u001b[49m\u001b[43mc\u001b[49m\u001b[43m,\u001b[49m\u001b[43m \u001b[49m\u001b[43malpha\u001b[49m\u001b[43m)\u001b[49m\n\u001b[0;32m    300\u001b[0m     \u001b[38;5;28;01mtry\u001b[39;00m:\n",
      "File \u001b[1;32mC:\\Python310\\lib\\site-packages\\matplotlib\\colors.py:374\u001b[0m, in \u001b[0;36m_to_rgba_no_colorcycle\u001b[1;34m(c, alpha)\u001b[0m\n\u001b[0;32m    373\u001b[0m         \u001b[38;5;28;01mreturn\u001b[39;00m c, c, c, alpha \u001b[38;5;28;01mif\u001b[39;00m alpha \u001b[38;5;129;01mis\u001b[39;00m \u001b[38;5;129;01mnot\u001b[39;00m \u001b[38;5;28;01mNone\u001b[39;00m \u001b[38;5;28;01melse\u001b[39;00m \u001b[38;5;241m1.\u001b[39m\n\u001b[1;32m--> 374\u001b[0m     \u001b[38;5;28;01mraise\u001b[39;00m \u001b[38;5;167;01mValueError\u001b[39;00m(\u001b[38;5;124mf\u001b[39m\u001b[38;5;124m\"\u001b[39m\u001b[38;5;124mInvalid RGBA argument: \u001b[39m\u001b[38;5;132;01m{\u001b[39;00morig_c\u001b[38;5;132;01m!r}\u001b[39;00m\u001b[38;5;124m\"\u001b[39m)\n\u001b[0;32m    375\u001b[0m \u001b[38;5;66;03m# turn 2-D array into 1-D array\u001b[39;00m\n",
      "\u001b[1;31mValueError\u001b[0m: Invalid RGBA argument: 'BALANCE'",
      "\nThe above exception was the direct cause of the following exception:\n",
      "\u001b[1;31mValueError\u001b[0m                                Traceback (most recent call last)",
      "Input \u001b[1;32mIn [40]\u001b[0m, in \u001b[0;36m<cell line: 2>\u001b[1;34m()\u001b[0m\n\u001b[0;32m      1\u001b[0m plt\u001b[38;5;241m.\u001b[39mfigure(figsize\u001b[38;5;241m=\u001b[39m(\u001b[38;5;241m8\u001b[39m,\u001b[38;5;241m6\u001b[39m))\n\u001b[1;32m----> 2\u001b[0m \u001b[43mplt\u001b[49m\u001b[38;5;241;43m.\u001b[39;49m\u001b[43mscatter\u001b[49m\u001b[43m(\u001b[49m\u001b[43mx_pca\u001b[49m\u001b[43m[\u001b[49m\u001b[43m:\u001b[49m\u001b[43m,\u001b[49m\u001b[38;5;241;43m0\u001b[39;49m\u001b[43m]\u001b[49m\u001b[43m,\u001b[49m\u001b[43mx_pca\u001b[49m\u001b[43m[\u001b[49m\u001b[43m:\u001b[49m\u001b[43m,\u001b[49m\u001b[38;5;241;43m1\u001b[39;49m\u001b[43m]\u001b[49m\u001b[43m,\u001b[49m\u001b[43m \u001b[49m\u001b[43mc\u001b[49m\u001b[38;5;241;43m=\u001b[39;49m\u001b[43mdata\u001b[49m\u001b[43m,\u001b[49m\u001b[43mcmap\u001b[49m\u001b[38;5;241;43m=\u001b[39;49m\u001b[38;5;124;43m'\u001b[39;49m\u001b[38;5;124;43mplasma\u001b[39;49m\u001b[38;5;124;43m'\u001b[39;49m\u001b[43m)\u001b[49m\n\u001b[0;32m      3\u001b[0m plt\u001b[38;5;241m.\u001b[39mxlabel(\u001b[38;5;124m'\u001b[39m\u001b[38;5;124mFirst principal component\u001b[39m\u001b[38;5;124m'\u001b[39m)\n\u001b[0;32m      4\u001b[0m plt\u001b[38;5;241m.\u001b[39mylabel(\u001b[38;5;124m'\u001b[39m\u001b[38;5;124mSecond Principal Component\u001b[39m\u001b[38;5;124m'\u001b[39m)\n",
      "File \u001b[1;32mC:\\Python310\\lib\\site-packages\\matplotlib\\pyplot.py:2790\u001b[0m, in \u001b[0;36mscatter\u001b[1;34m(x, y, s, c, marker, cmap, norm, vmin, vmax, alpha, linewidths, edgecolors, plotnonfinite, data, **kwargs)\u001b[0m\n\u001b[0;32m   2785\u001b[0m \u001b[38;5;129m@_copy_docstring_and_deprecators\u001b[39m(Axes\u001b[38;5;241m.\u001b[39mscatter)\n\u001b[0;32m   2786\u001b[0m \u001b[38;5;28;01mdef\u001b[39;00m \u001b[38;5;21mscatter\u001b[39m(\n\u001b[0;32m   2787\u001b[0m         x, y, s\u001b[38;5;241m=\u001b[39m\u001b[38;5;28;01mNone\u001b[39;00m, c\u001b[38;5;241m=\u001b[39m\u001b[38;5;28;01mNone\u001b[39;00m, marker\u001b[38;5;241m=\u001b[39m\u001b[38;5;28;01mNone\u001b[39;00m, cmap\u001b[38;5;241m=\u001b[39m\u001b[38;5;28;01mNone\u001b[39;00m, norm\u001b[38;5;241m=\u001b[39m\u001b[38;5;28;01mNone\u001b[39;00m,\n\u001b[0;32m   2788\u001b[0m         vmin\u001b[38;5;241m=\u001b[39m\u001b[38;5;28;01mNone\u001b[39;00m, vmax\u001b[38;5;241m=\u001b[39m\u001b[38;5;28;01mNone\u001b[39;00m, alpha\u001b[38;5;241m=\u001b[39m\u001b[38;5;28;01mNone\u001b[39;00m, linewidths\u001b[38;5;241m=\u001b[39m\u001b[38;5;28;01mNone\u001b[39;00m, \u001b[38;5;241m*\u001b[39m,\n\u001b[0;32m   2789\u001b[0m         edgecolors\u001b[38;5;241m=\u001b[39m\u001b[38;5;28;01mNone\u001b[39;00m, plotnonfinite\u001b[38;5;241m=\u001b[39m\u001b[38;5;28;01mFalse\u001b[39;00m, data\u001b[38;5;241m=\u001b[39m\u001b[38;5;28;01mNone\u001b[39;00m, \u001b[38;5;241m*\u001b[39m\u001b[38;5;241m*\u001b[39mkwargs):\n\u001b[1;32m-> 2790\u001b[0m     __ret \u001b[38;5;241m=\u001b[39m gca()\u001b[38;5;241m.\u001b[39mscatter(\n\u001b[0;32m   2791\u001b[0m         x, y, s\u001b[38;5;241m=\u001b[39ms, c\u001b[38;5;241m=\u001b[39mc, marker\u001b[38;5;241m=\u001b[39mmarker, cmap\u001b[38;5;241m=\u001b[39mcmap, norm\u001b[38;5;241m=\u001b[39mnorm,\n\u001b[0;32m   2792\u001b[0m         vmin\u001b[38;5;241m=\u001b[39mvmin, vmax\u001b[38;5;241m=\u001b[39mvmax, alpha\u001b[38;5;241m=\u001b[39malpha, linewidths\u001b[38;5;241m=\u001b[39mlinewidths,\n\u001b[0;32m   2793\u001b[0m         edgecolors\u001b[38;5;241m=\u001b[39medgecolors, plotnonfinite\u001b[38;5;241m=\u001b[39mplotnonfinite,\n\u001b[0;32m   2794\u001b[0m         \u001b[38;5;241m*\u001b[39m\u001b[38;5;241m*\u001b[39m({\u001b[38;5;124m\"\u001b[39m\u001b[38;5;124mdata\u001b[39m\u001b[38;5;124m\"\u001b[39m: data} \u001b[38;5;28;01mif\u001b[39;00m data \u001b[38;5;129;01mis\u001b[39;00m \u001b[38;5;129;01mnot\u001b[39;00m \u001b[38;5;28;01mNone\u001b[39;00m \u001b[38;5;28;01melse\u001b[39;00m {}), \u001b[38;5;241m*\u001b[39m\u001b[38;5;241m*\u001b[39mkwargs)\n\u001b[0;32m   2795\u001b[0m     sci(__ret)\n\u001b[0;32m   2796\u001b[0m     \u001b[38;5;28;01mreturn\u001b[39;00m __ret\n",
      "File \u001b[1;32mC:\\Python310\\lib\\site-packages\\matplotlib\\__init__.py:1423\u001b[0m, in \u001b[0;36m_preprocess_data.<locals>.inner\u001b[1;34m(ax, data, *args, **kwargs)\u001b[0m\n\u001b[0;32m   1420\u001b[0m \u001b[38;5;129m@functools\u001b[39m\u001b[38;5;241m.\u001b[39mwraps(func)\n\u001b[0;32m   1421\u001b[0m \u001b[38;5;28;01mdef\u001b[39;00m \u001b[38;5;21minner\u001b[39m(ax, \u001b[38;5;241m*\u001b[39margs, data\u001b[38;5;241m=\u001b[39m\u001b[38;5;28;01mNone\u001b[39;00m, \u001b[38;5;241m*\u001b[39m\u001b[38;5;241m*\u001b[39mkwargs):\n\u001b[0;32m   1422\u001b[0m     \u001b[38;5;28;01mif\u001b[39;00m data \u001b[38;5;129;01mis\u001b[39;00m \u001b[38;5;28;01mNone\u001b[39;00m:\n\u001b[1;32m-> 1423\u001b[0m         \u001b[38;5;28;01mreturn\u001b[39;00m func(ax, \u001b[38;5;241m*\u001b[39m\u001b[38;5;28mmap\u001b[39m(sanitize_sequence, args), \u001b[38;5;241m*\u001b[39m\u001b[38;5;241m*\u001b[39mkwargs)\n\u001b[0;32m   1425\u001b[0m     bound \u001b[38;5;241m=\u001b[39m new_sig\u001b[38;5;241m.\u001b[39mbind(ax, \u001b[38;5;241m*\u001b[39margs, \u001b[38;5;241m*\u001b[39m\u001b[38;5;241m*\u001b[39mkwargs)\n\u001b[0;32m   1426\u001b[0m     auto_label \u001b[38;5;241m=\u001b[39m (bound\u001b[38;5;241m.\u001b[39marguments\u001b[38;5;241m.\u001b[39mget(label_namer)\n\u001b[0;32m   1427\u001b[0m                   \u001b[38;5;129;01mor\u001b[39;00m bound\u001b[38;5;241m.\u001b[39mkwargs\u001b[38;5;241m.\u001b[39mget(label_namer))\n",
      "File \u001b[1;32mC:\\Python310\\lib\\site-packages\\matplotlib\\axes\\_axes.py:4538\u001b[0m, in \u001b[0;36mAxes.scatter\u001b[1;34m(self, x, y, s, c, marker, cmap, norm, vmin, vmax, alpha, linewidths, edgecolors, plotnonfinite, **kwargs)\u001b[0m\n\u001b[0;32m   4535\u001b[0m \u001b[38;5;28;01mif\u001b[39;00m edgecolors \u001b[38;5;129;01mis\u001b[39;00m \u001b[38;5;28;01mNone\u001b[39;00m:\n\u001b[0;32m   4536\u001b[0m     orig_edgecolor \u001b[38;5;241m=\u001b[39m kwargs\u001b[38;5;241m.\u001b[39mget(\u001b[38;5;124m'\u001b[39m\u001b[38;5;124medgecolor\u001b[39m\u001b[38;5;124m'\u001b[39m, \u001b[38;5;28;01mNone\u001b[39;00m)\n\u001b[0;32m   4537\u001b[0m c, colors, edgecolors \u001b[38;5;241m=\u001b[39m \\\n\u001b[1;32m-> 4538\u001b[0m     \u001b[38;5;28;43mself\u001b[39;49m\u001b[38;5;241;43m.\u001b[39;49m\u001b[43m_parse_scatter_color_args\u001b[49m\u001b[43m(\u001b[49m\n\u001b[0;32m   4539\u001b[0m \u001b[43m        \u001b[49m\u001b[43mc\u001b[49m\u001b[43m,\u001b[49m\u001b[43m \u001b[49m\u001b[43medgecolors\u001b[49m\u001b[43m,\u001b[49m\u001b[43m \u001b[49m\u001b[43mkwargs\u001b[49m\u001b[43m,\u001b[49m\u001b[43m \u001b[49m\u001b[43mx\u001b[49m\u001b[38;5;241;43m.\u001b[39;49m\u001b[43msize\u001b[49m\u001b[43m,\u001b[49m\n\u001b[0;32m   4540\u001b[0m \u001b[43m        \u001b[49m\u001b[43mget_next_color_func\u001b[49m\u001b[38;5;241;43m=\u001b[39;49m\u001b[38;5;28;43mself\u001b[39;49m\u001b[38;5;241;43m.\u001b[39;49m\u001b[43m_get_patches_for_fill\u001b[49m\u001b[38;5;241;43m.\u001b[39;49m\u001b[43mget_next_color\u001b[49m\u001b[43m)\u001b[49m\n\u001b[0;32m   4542\u001b[0m \u001b[38;5;28;01mif\u001b[39;00m plotnonfinite \u001b[38;5;129;01mand\u001b[39;00m colors \u001b[38;5;129;01mis\u001b[39;00m \u001b[38;5;28;01mNone\u001b[39;00m:\n\u001b[0;32m   4543\u001b[0m     c \u001b[38;5;241m=\u001b[39m np\u001b[38;5;241m.\u001b[39mma\u001b[38;5;241m.\u001b[39mmasked_invalid(c)\n",
      "File \u001b[1;32mC:\\Python310\\lib\\site-packages\\matplotlib\\axes\\_axes.py:4384\u001b[0m, in \u001b[0;36mAxes._parse_scatter_color_args\u001b[1;34m(c, edgecolors, kwargs, xsize, get_next_color_func)\u001b[0m\n\u001b[0;32m   4381\u001b[0m             \u001b[38;5;28;01mraise\u001b[39;00m invalid_shape_exception(c\u001b[38;5;241m.\u001b[39msize, xsize) \u001b[38;5;28;01mfrom\u001b[39;00m \u001b[38;5;21;01merr\u001b[39;00m\n\u001b[0;32m   4382\u001b[0m         \u001b[38;5;66;03m# Both the mapping *and* the RGBA conversion failed: pretty\u001b[39;00m\n\u001b[0;32m   4383\u001b[0m         \u001b[38;5;66;03m# severe failure => one may appreciate a verbose feedback.\u001b[39;00m\n\u001b[1;32m-> 4384\u001b[0m         \u001b[38;5;28;01mraise\u001b[39;00m \u001b[38;5;167;01mValueError\u001b[39;00m(\n\u001b[0;32m   4385\u001b[0m             \u001b[38;5;124mf\u001b[39m\u001b[38;5;124m\"\u001b[39m\u001b[38;5;124m'\u001b[39m\u001b[38;5;124mc\u001b[39m\u001b[38;5;124m'\u001b[39m\u001b[38;5;124m argument must be a color, a sequence of colors, \u001b[39m\u001b[38;5;124m\"\u001b[39m\n\u001b[0;32m   4386\u001b[0m             \u001b[38;5;124mf\u001b[39m\u001b[38;5;124m\"\u001b[39m\u001b[38;5;124mor a sequence of numbers, not \u001b[39m\u001b[38;5;132;01m{\u001b[39;00mc\u001b[38;5;132;01m}\u001b[39;00m\u001b[38;5;124m\"\u001b[39m) \u001b[38;5;28;01mfrom\u001b[39;00m \u001b[38;5;21;01merr\u001b[39;00m\n\u001b[0;32m   4387\u001b[0m \u001b[38;5;28;01melse\u001b[39;00m:\n\u001b[0;32m   4388\u001b[0m     \u001b[38;5;28;01mif\u001b[39;00m \u001b[38;5;28mlen\u001b[39m(colors) \u001b[38;5;129;01mnot\u001b[39;00m \u001b[38;5;129;01min\u001b[39;00m (\u001b[38;5;241m0\u001b[39m, \u001b[38;5;241m1\u001b[39m, xsize):\n\u001b[0;32m   4389\u001b[0m         \u001b[38;5;66;03m# NB: remember that a single color is also acceptable.\u001b[39;00m\n\u001b[0;32m   4390\u001b[0m         \u001b[38;5;66;03m# Besides *colors* will be an empty array if c == 'none'.\u001b[39;00m\n",
      "\u001b[1;31mValueError\u001b[0m: 'c' argument must be a color, a sequence of colors, or a sequence of numbers, not        BALANCE  BALANCE_FREQUENCY  PURCHASES  ONEOFF_PURCHASES  \\\n0    -0.744625          -0.370047  -0.429184         -0.359160   \n1     0.764152           0.067679  -0.473208         -0.359160   \n2     0.426602           0.505405  -0.116413          0.099909   \n4    -0.373910           0.505405  -0.465825         -0.349660   \n5     0.099551           0.505405   0.142062         -0.359160   \n...        ...                ...        ...               ...   \n8943 -0.761342          -1.902089  -0.463563         -0.346751   \n8945 -0.750546           0.505405  -0.338865         -0.359160   \n8947 -0.752977          -0.297095  -0.406572         -0.359160   \n8948 -0.757721          -0.297095  -0.473208         -0.359160   \n8949 -0.586278          -1.099590   0.031295          0.289957   \n\n      INSTALLMENTS_PURCHASES  CASH_ADVANCE  PURCHASES_FREQUENCY  \\\n0                  -0.354826     -0.468655            -0.820769   \n1                  -0.458839      2.568556            -1.236139   \n2                  -0.458839     -0.468655             1.256077   \n4                  -0.458839     -0.468655            -1.028455   \n5                   0.994815     -0.468655             0.425339   \n...                      ...           ...                  ...   \n8943               -0.458839     -0.468655            -0.820769   \n8945               -0.141436     -0.468655             1.256077   \n8947               -0.301402     -0.468655             0.840707   \n8948               -0.458839     -0.451422            -1.236139   \n8949               -0.458839     -0.408769             0.425339   \n\n      ONEOFF_PURCHASES_FREQUENCY  PURCHASES_INSTALLMENTS_FREQUENCY  \\\n0                      -0.686280                         -0.717179   \n1                      -0.686280                         -0.926522   \n2                       2.646651                         -0.926522   \n4                      -0.408536                         -0.926522   \n5                      -0.686280                          0.538882   \n...                          ...                               ...   \n8943                   -0.130790                         -0.926522   \n8945                   -0.686280                          1.166912   \n8947                   -0.686280                          0.748227   \n8948                   -0.686280                         -0.926522   \n8949                    1.535675                         -0.926522   \n\n      CASH_ADVANCE_FREQUENCY  CASH_ADVANCE_TRX  PURCHASES_TRX  CREDIT_LIMIT  \\\n0                  -0.681953         -0.479437      -0.517623     -0.962575   \n1                   0.557022          0.099258      -0.597054      0.677204   \n2                  -0.681953         -0.479437      -0.120467      0.813852   \n4                  -0.681953         -0.479437      -0.557339     -0.907916   \n5                  -0.681953         -0.479437      -0.279329     -0.743938   \n...                      ...               ...            ...           ...   \n8943               -0.681953         -0.479437      -0.557339     -1.099224   \n8945               -0.681953         -0.479437      -0.358760     -0.962575   \n8947               -0.681953         -0.479437      -0.398476     -0.962575   \n8948                0.144032         -0.190089      -0.597054     -1.099224   \n8949                0.970012         -0.190089       0.316405     -0.907916   \n\n      PAYMENTS  MINIMUM_PAYMENTS  PRC_FULL_PAYMENT    TENURE  \n0    -0.543942         -0.305508         -0.537727  0.355181  \n1     0.796852          0.087689          0.212380  0.355181  \n2    -0.399503         -0.099906         -0.537727  0.355181  \n4    -0.380165         -0.261131         -0.537727  0.355181  \n5    -0.132119          0.650363         -0.537727  0.355181  \n...        ...               ...               ...       ...  \n8943 -0.593143         -0.345988         -0.537727 -4.221800  \n8945 -0.501396         -0.343706          1.150015 -4.221800  \n8947 -0.585367         -0.329572          0.306144 -4.221800  \n8948 -0.595238         -0.340811          0.306144 -4.221800  \n8949 -0.591589         -0.327098         -0.537727 -4.221800  \n\n[8636 rows x 17 columns]"
     ]
    },
    {
     "data": {
      "image/png": "[encoded data removed]",
      "text/plain": [
       "<Figure size 576x432 with 1 Axes>"
      ]
     },
     "metadata": {
      "needs_background": "light"
     },
     "output_type": "display_data"
    }
   ],
   "source": [
    "plt.figure(figsize=(8,6))\n",
    "plt.scatter(x_pca[:,0],x_pca[:,1], c=data,cmap='plasma')\n",
    "plt.xlabel('First principal component')\n",
    "plt.ylabel('Second Principal Component')"
   ]
  },
  {
   "cell_type": "code",
   "execution_count": null,
   "id": "c580ecf3",
   "metadata": {},
   "outputs": [],
   "source": []
  },
  {
   "cell_type": "code",
   "execution_count": null,
   "id": "4867b3ba",
   "metadata": {},
   "outputs": [],
   "source": []
  },
  {
   "cell_type": "markdown",
   "id": "b2fcdbfe",
   "metadata": {},
   "source": [
    "# applying algorithms"
   ]
  },
  {
   "cell_type": "markdown",
   "id": "b1c9a069",
   "metadata": {},
   "source": [
    "## KMeans"
   ]
  },
  {
   "cell_type": "code",
   "execution_count": 75,
   "id": "e91c7216",
   "metadata": {
    "ExecuteTime": {
     "end_time": "2023-01-08T15:42:39.280758Z",
     "start_time": "2023-01-08T15:42:39.262768Z"
    }
   },
   "outputs": [
    {
     "data": {
      "text/plain": [
       "(8636, 17)"
      ]
     },
     "execution_count": 75,
     "metadata": {},
     "output_type": "execute_result"
    }
   ],
   "source": [
    "dfk = data.copy()\n",
    "dfk.shape"
   ]
  },
  {
   "cell_type": "code",
   "execution_count": 76,
   "id": "b914345f",
   "metadata": {
    "ExecuteTime": {
     "end_time": "2023-01-08T15:42:41.490660Z",
     "start_time": "2023-01-08T15:42:41.364631Z"
    }
   },
   "outputs": [
    {
     "data": {
      "text/html": [
       "<div>\n",
       "<style scoped>\n",
       "    .dataframe tbody tr th:only-of-type {\n",
       "        vertical-align: middle;\n",
       "    }\n",
       "\n",
       "    .dataframe tbody tr th {\n",
       "        vertical-align: top;\n",
       "    }\n",
       "\n",
       "    .dataframe thead th {\n",
       "        text-align: right;\n",
       "    }\n",
       "</style>\n",
       "<table border=\"1\" class=\"dataframe\">\n",
       "  <thead>\n",
       "    <tr style=\"text-align: right;\">\n",
       "      <th></th>\n",
       "      <th>BALANCE</th>\n",
       "      <th>BALANCE_FREQUENCY</th>\n",
       "      <th>PURCHASES</th>\n",
       "      <th>ONEOFF_PURCHASES</th>\n",
       "      <th>INSTALLMENTS_PURCHASES</th>\n",
       "      <th>CASH_ADVANCE</th>\n",
       "      <th>PURCHASES_FREQUENCY</th>\n",
       "      <th>ONEOFF_PURCHASES_FREQUENCY</th>\n",
       "      <th>PURCHASES_INSTALLMENTS_FREQUENCY</th>\n",
       "      <th>CASH_ADVANCE_FREQUENCY</th>\n",
       "      <th>CASH_ADVANCE_TRX</th>\n",
       "      <th>PURCHASES_TRX</th>\n",
       "      <th>CREDIT_LIMIT</th>\n",
       "      <th>PAYMENTS</th>\n",
       "      <th>MINIMUM_PAYMENTS</th>\n",
       "      <th>PRC_FULL_PAYMENT</th>\n",
       "      <th>TENURE</th>\n",
       "      <th>cluster</th>\n",
       "    </tr>\n",
       "  </thead>\n",
       "  <tbody>\n",
       "    <tr>\n",
       "      <th>0</th>\n",
       "      <td>-0.744625</td>\n",
       "      <td>-0.370047</td>\n",
       "      <td>-0.429184</td>\n",
       "      <td>-0.359160</td>\n",
       "      <td>-0.354826</td>\n",
       "      <td>-0.468655</td>\n",
       "      <td>-0.820769</td>\n",
       "      <td>-0.686280</td>\n",
       "      <td>-0.717179</td>\n",
       "      <td>-0.681953</td>\n",
       "      <td>-0.479437</td>\n",
       "      <td>-0.517623</td>\n",
       "      <td>-0.962575</td>\n",
       "      <td>-0.543942</td>\n",
       "      <td>-0.305508</td>\n",
       "      <td>-0.537727</td>\n",
       "      <td>0.355181</td>\n",
       "      <td>3</td>\n",
       "    </tr>\n",
       "    <tr>\n",
       "      <th>1</th>\n",
       "      <td>0.764152</td>\n",
       "      <td>0.067679</td>\n",
       "      <td>-0.473208</td>\n",
       "      <td>-0.359160</td>\n",
       "      <td>-0.458839</td>\n",
       "      <td>2.568556</td>\n",
       "      <td>-1.236139</td>\n",
       "      <td>-0.686280</td>\n",
       "      <td>-0.926522</td>\n",
       "      <td>0.557022</td>\n",
       "      <td>0.099258</td>\n",
       "      <td>-0.597054</td>\n",
       "      <td>0.677204</td>\n",
       "      <td>0.796852</td>\n",
       "      <td>0.087689</td>\n",
       "      <td>0.212380</td>\n",
       "      <td>0.355181</td>\n",
       "      <td>4</td>\n",
       "    </tr>\n",
       "    <tr>\n",
       "      <th>2</th>\n",
       "      <td>0.426602</td>\n",
       "      <td>0.505405</td>\n",
       "      <td>-0.116413</td>\n",
       "      <td>0.099909</td>\n",
       "      <td>-0.458839</td>\n",
       "      <td>-0.468655</td>\n",
       "      <td>1.256077</td>\n",
       "      <td>2.646651</td>\n",
       "      <td>-0.926522</td>\n",
       "      <td>-0.681953</td>\n",
       "      <td>-0.479437</td>\n",
       "      <td>-0.120467</td>\n",
       "      <td>0.813852</td>\n",
       "      <td>-0.399503</td>\n",
       "      <td>-0.099906</td>\n",
       "      <td>-0.537727</td>\n",
       "      <td>0.355181</td>\n",
       "      <td>0</td>\n",
       "    </tr>\n",
       "    <tr>\n",
       "      <th>4</th>\n",
       "      <td>-0.373910</td>\n",
       "      <td>0.505405</td>\n",
       "      <td>-0.465825</td>\n",
       "      <td>-0.349660</td>\n",
       "      <td>-0.458839</td>\n",
       "      <td>-0.468655</td>\n",
       "      <td>-1.028455</td>\n",
       "      <td>-0.408536</td>\n",
       "      <td>-0.926522</td>\n",
       "      <td>-0.681953</td>\n",
       "      <td>-0.479437</td>\n",
       "      <td>-0.557339</td>\n",
       "      <td>-0.907916</td>\n",
       "      <td>-0.380165</td>\n",
       "      <td>-0.261131</td>\n",
       "      <td>-0.537727</td>\n",
       "      <td>0.355181</td>\n",
       "      <td>3</td>\n",
       "    </tr>\n",
       "    <tr>\n",
       "      <th>5</th>\n",
       "      <td>0.099551</td>\n",
       "      <td>0.505405</td>\n",
       "      <td>0.142062</td>\n",
       "      <td>-0.359160</td>\n",
       "      <td>0.994815</td>\n",
       "      <td>-0.468655</td>\n",
       "      <td>0.425339</td>\n",
       "      <td>-0.686280</td>\n",
       "      <td>0.538882</td>\n",
       "      <td>-0.681953</td>\n",
       "      <td>-0.479437</td>\n",
       "      <td>-0.279329</td>\n",
       "      <td>-0.743938</td>\n",
       "      <td>-0.132119</td>\n",
       "      <td>0.650363</td>\n",
       "      <td>-0.537727</td>\n",
       "      <td>0.355181</td>\n",
       "      <td>1</td>\n",
       "    </tr>\n",
       "  </tbody>\n",
       "</table>\n",
       "</div>"
      ],
      "text/plain": [
       "    BALANCE  BALANCE_FREQUENCY  PURCHASES  ONEOFF_PURCHASES  \\\n",
       "0 -0.744625          -0.370047  -0.429184         -0.359160   \n",
       "1  0.764152           0.067679  -0.473208         -0.359160   \n",
       "2  0.426602           0.505405  -0.116413          0.099909   \n",
       "4 -0.373910           0.505405  -0.465825         -0.349660   \n",
       "5  0.099551           0.505405   0.142062         -0.359160   \n",
       "\n",
       "   INSTALLMENTS_PURCHASES  CASH_ADVANCE  PURCHASES_FREQUENCY  \\\n",
       "0               -0.354826     -0.468655            -0.820769   \n",
       "1               -0.458839      2.568556            -1.236139   \n",
       "2               -0.458839     -0.468655             1.256077   \n",
       "4               -0.458839     -0.468655            -1.028455   \n",
       "5                0.994815     -0.468655             0.425339   \n",
       "\n",
       "   ONEOFF_PURCHASES_FREQUENCY  PURCHASES_INSTALLMENTS_FREQUENCY  \\\n",
       "0                   -0.686280                         -0.717179   \n",
       "1                   -0.686280                         -0.926522   \n",
       "2                    2.646651                         -0.926522   \n",
       "4                   -0.408536                         -0.926522   \n",
       "5                   -0.686280                          0.538882   \n",
       "\n",
       "   CASH_ADVANCE_FREQUENCY  CASH_ADVANCE_TRX  PURCHASES_TRX  CREDIT_LIMIT  \\\n",
       "0               -0.681953         -0.479437      -0.517623     -0.962575   \n",
       "1                0.557022          0.099258      -0.597054      0.677204   \n",
       "2               -0.681953         -0.479437      -0.120467      0.813852   \n",
       "4               -0.681953         -0.479437      -0.557339     -0.907916   \n",
       "5               -0.681953         -0.479437      -0.279329     -0.743938   \n",
       "\n",
       "   PAYMENTS  MINIMUM_PAYMENTS  PRC_FULL_PAYMENT    TENURE  cluster  \n",
       "0 -0.543942         -0.305508         -0.537727  0.355181        3  \n",
       "1  0.796852          0.087689          0.212380  0.355181        4  \n",
       "2 -0.399503         -0.099906         -0.537727  0.355181        0  \n",
       "4 -0.380165         -0.261131         -0.537727  0.355181        3  \n",
       "5 -0.132119          0.650363         -0.537727  0.355181        1  "
      ]
     },
     "execution_count": 76,
     "metadata": {},
     "output_type": "execute_result"
    }
   ],
   "source": [
    "from sklearn.cluster import KMeans\n",
    "kmeans = KMeans(n_clusters=7, random_state=33)\n",
    "dfk['cluster'] = kmeans.fit_predict(dfk[features])\n",
    "dfk.head()"
   ]
  },
  {
   "cell_type": "code",
   "execution_count": 77,
   "id": "35bf6393",
   "metadata": {
    "ExecuteTime": {
     "end_time": "2023-01-08T15:42:45.349008Z",
     "start_time": "2023-01-08T15:42:44.798653Z"
    }
   },
   "outputs": [
    {
     "data": {
      "text/plain": [
       "<AxesSubplot: xlabel='BALANCE', ylabel='BALANCE_FREQUENCY'>"
      ]
     },
     "execution_count": 77,
     "metadata": {},
     "output_type": "execute_result"
    },
    {
     "data": {
      "image/png": "[encoded data removed]",
      "text/plain": [
       "<Figure size 432x288 with 1 Axes>"
      ]
     },
     "metadata": {},
     "output_type": "display_data"
    }
   ],
   "source": [
    "sns.scatterplot(data=dfk, x='BALANCE', y='BALANCE_FREQUENCY', hue='cluster')"
   ]
  },
  {
   "cell_type": "code",
   "execution_count": 44,
   "id": "fd6d325c",
   "metadata": {
    "ExecuteTime": {
     "end_time": "2023-01-08T14:50:17.597206Z",
     "start_time": "2023-01-08T14:50:17.578189Z"
    }
   },
   "outputs": [
    {
     "data": {
      "text/plain": [
       "108086.64609719646"
      ]
     },
     "execution_count": 44,
     "metadata": {},
     "output_type": "execute_result"
    }
   ],
   "source": [
    "kmeans.inertia_"
   ]
  },
  {
   "cell_type": "code",
   "execution_count": 67,
   "id": "feaf5d6b",
   "metadata": {
    "ExecuteTime": {
     "end_time": "2023-01-08T15:20:53.275740Z",
     "start_time": "2023-01-08T15:20:51.290295Z"
    }
   },
   "outputs": [],
   "source": [
    "# Elbow Method\n",
    "inertia = []\n",
    "n_clusters = []\n",
    "for k in range(2, 20):\n",
    "    model = KMeans(n_clusters=k)\n",
    "    model.fit(dfk[features])\n",
    "    inertia.append(model.inertia_)\n",
    "    n_clusters.append(k)  "
   ]
  },
  {
   "cell_type": "code",
   "execution_count": 68,
   "id": "fde10e65",
   "metadata": {
    "ExecuteTime": {
     "end_time": "2023-01-08T15:20:55.454732Z",
     "start_time": "2023-01-08T15:20:55.315191Z"
    }
   },
   "outputs": [
    {
     "data": {
      "text/plain": [
       "<AxesSubplot: >"
      ]
     },
     "execution_count": 68,
     "metadata": {},
     "output_type": "execute_result"
    },
    {
     "data": {
      "image/png": "[encoded data removed]",
      "text/plain": [
       "<Figure size 432x288 with 1 Axes>"
      ]
     },
     "metadata": {},
     "output_type": "display_data"
    }
   ],
   "source": [
    "sns.lineplot(x=n_clusters, y=inertia)"
   ]
  },
  {
   "cell_type": "code",
   "execution_count": 46,
   "id": "e20aee16",
   "metadata": {
    "ExecuteTime": {
     "end_time": "2023-01-08T14:50:45.506197Z",
     "start_time": "2023-01-08T14:50:44.575317Z"
    }
   },
   "outputs": [
    {
     "data": {
      "text/plain": [
       "0.24772149965735396"
      ]
     },
     "execution_count": 46,
     "metadata": {},
     "output_type": "execute_result"
    }
   ],
   "source": [
    "# validate\n",
    "from sklearn.metrics import silhouette_score, silhouette_samples\n",
    "sscore = silhouette_score(dfk[features], dfk.cluster)\n",
    "sscore"
   ]
  },
  {
   "cell_type": "code",
   "execution_count": 48,
   "id": "84d31181",
   "metadata": {
    "ExecuteTime": {
     "end_time": "2023-01-08T14:52:47.721334Z",
     "start_time": "2023-01-08T14:52:46.793755Z"
    }
   },
   "outputs": [
    {
     "data": {
      "text/plain": [
       "array([0.4584373 , 0.10367415, 0.19630187, ..., 0.28481703, 0.21343992,\n",
       "       0.18269496])"
      ]
     },
     "execution_count": 48,
     "metadata": {},
     "output_type": "execute_result"
    }
   ],
   "source": [
    "ssamples = silhouette_samples(dfk[features], dfk.cluster)\n",
    "ssamples"
   ]
  },
  {
   "cell_type": "code",
   "execution_count": 49,
   "id": "13408e1b",
   "metadata": {
    "ExecuteTime": {
     "end_time": "2023-01-08T14:52:51.332077Z",
     "start_time": "2023-01-08T14:52:51.214575Z"
    }
   },
   "outputs": [
    {
     "data": {
      "image/png": "[encoded data removed]",
      "text/plain": [
       "<Figure size 432x288 with 1 Axes>"
      ]
     },
     "metadata": {},
     "output_type": "display_data"
    }
   ],
   "source": [
    "# Visualization\n",
    "sns.set_style('whitegrid')\n",
    "ylow = 10\n",
    "for c in set(kmeans.labels_):\n",
    "    csample = ssamples[dfk.cluster==c]\n",
    "    csample.sort()\n",
    "    yup = ylow+csample.shape[0]\n",
    "    plt.fill_betweenx(np.arange(ylow, yup), 0, csample)\n",
    "    ylow = yup + 10\n",
    "plt.show()"
   ]
  },
  {
   "cell_type": "code",
   "execution_count": null,
   "id": "9fb879f8",
   "metadata": {},
   "outputs": [],
   "source": []
  },
  {
   "cell_type": "code",
   "execution_count": null,
   "id": "cee1c53a",
   "metadata": {},
   "outputs": [],
   "source": []
  },
  {
   "cell_type": "code",
   "execution_count": null,
   "id": "66981e13",
   "metadata": {},
   "outputs": [],
   "source": []
  },
  {
   "cell_type": "code",
   "execution_count": null,
   "id": "cd696564",
   "metadata": {},
   "outputs": [],
   "source": []
  },
  {
   "cell_type": "code",
   "execution_count": null,
   "id": "3dc16cbd",
   "metadata": {},
   "outputs": [],
   "source": []
  },
  {
   "cell_type": "code",
   "execution_count": null,
   "id": "f247ad6d",
   "metadata": {},
   "outputs": [],
   "source": []
  },
  {
   "cell_type": "code",
   "execution_count": null,
   "id": "62d411b7",
   "metadata": {},
   "outputs": [],
   "source": []
  },
  {
   "cell_type": "code",
   "execution_count": null,
   "id": "838be3cd",
   "metadata": {},
   "outputs": [],
   "source": []
  }
 ],
 "metadata": {
  "kernelspec": {
   "display_name": "Python 3 (ipykernel)",
   "language": "python",
   "name": "python3"
  },
  "language_info": {
   "codemirror_mode": {
    "name": "ipython",
    "version": 3
   },
   "file_extension": ".py",
   "mimetype": "text/x-python",
   "name": "python",
   "nbconvert_exporter": "python",
   "pygments_lexer": "ipython3",
   "version": "3.10.6"
  },
  "toc": {
   "base_numbering": 1,
   "nav_menu": {},
   "number_sections": true,
   "sideBar": true,
   "skip_h1_title": false,
   "title_cell": "Table of Contents",
   "title_sidebar": "Contents",
   "toc_cell": true,
   "toc_position": {
    "height": "calc(100% - 180px)",
    "left": "10px",
    "top": "150px",
    "width": "182px"
   },
   "toc_section_display": true,
   "toc_window_display": false
  }
 },
 "nbformat": 4,
 "nbformat_minor": 5
}
