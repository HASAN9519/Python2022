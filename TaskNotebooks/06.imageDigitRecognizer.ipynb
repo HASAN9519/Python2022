{
 "cells": [
  {
   "cell_type": "markdown",
   "id": "6aa1a3d5",
   "metadata": {
    "toc": true
   },
   "source": [
    "<h1>Table of Contents<span class=\"tocSkip\"></span></h1>\n",
    "<div class=\"toc\"><ul class=\"toc-item\"><li><span><a href=\"#Loading-Data-and-Librarys\" data-toc-modified-id=\"Loading-Data-and-Librarys-1\"><span class=\"toc-item-num\">1&nbsp;&nbsp;</span>Loading Data and Librarys</a></span></li><li><span><a href=\"#image-processing\" data-toc-modified-id=\"image-processing-2\"><span class=\"toc-item-num\">2&nbsp;&nbsp;</span>image processing</a></span></li><li><span><a href=\"#model-building-using-train-data\" data-toc-modified-id=\"model-building-using-train-data-3\"><span class=\"toc-item-num\">3&nbsp;&nbsp;</span>model building using train data</a></span><ul class=\"toc-item\"><li><span><a href=\"#train-test-split\" data-toc-modified-id=\"train-test-split-3.1\"><span class=\"toc-item-num\">3.1&nbsp;&nbsp;</span>train test split</a></span></li><li><span><a href=\"#Feature-Extraction-/-Dimensionality-Reduction\" data-toc-modified-id=\"Feature-Extraction-/-Dimensionality-Reduction-3.2\"><span class=\"toc-item-num\">3.2&nbsp;&nbsp;</span>Feature Extraction / Dimensionality Reduction</a></span></li><li><span><a href=\"#Model-buiding-using-support-vector-machine(SVC)\" data-toc-modified-id=\"Model-buiding-using-support-vector-machine(SVC)-3.3\"><span class=\"toc-item-num\">3.3&nbsp;&nbsp;</span>Model buiding using support vector machine(SVC)</a></span></li><li><span><a href=\"#model-evaluation\" data-toc-modified-id=\"model-evaluation-3.4\"><span class=\"toc-item-num\">3.4&nbsp;&nbsp;</span>model evaluation</a></span></li></ul></li><li><span><a href=\"#Hyper-parameter-tuning-and-cross-validation-using-train-data\" data-toc-modified-id=\"Hyper-parameter-tuning-and-cross-validation-using-train-data-4\"><span class=\"toc-item-num\">4&nbsp;&nbsp;</span>Hyper-parameter tuning and cross validation using train data</a></span></li><li><span><a href=\"#Full-process-on-train-data-using-Pipeline\" data-toc-modified-id=\"Full-process-on-train-data-using-Pipeline-5\"><span class=\"toc-item-num\">5&nbsp;&nbsp;</span>Full process on train data using Pipeline</a></span></li><li><span><a href=\"#prediction-on-test-data-using-Pipeline\" data-toc-modified-id=\"prediction-on-test-data-using-Pipeline-6\"><span class=\"toc-item-num\">6&nbsp;&nbsp;</span>prediction on test data using Pipeline</a></span></li><li><span><a href=\"#kaggle-submission\" data-toc-modified-id=\"kaggle-submission-7\"><span class=\"toc-item-num\">7&nbsp;&nbsp;</span>kaggle submission</a></span></li></ul></div>"
   ]
  },
  {
   "cell_type": "markdown",
   "id": "ca00429a",
   "metadata": {
    "id": "ca00429a"
   },
   "source": [
    "# Loading Data and Librarys"
   ]
  },
  {
   "cell_type": "code",
   "execution_count": 1,
   "id": "8d154dcf",
   "metadata": {
    "ExecuteTime": {
     "end_time": "2023-01-20T14:40:12.565502Z",
     "start_time": "2023-01-20T14:40:11.539554Z"
    },
    "id": "8d154dcf"
   },
   "outputs": [],
   "source": [
    "import numpy as np\n",
    "import pandas as pd\n",
    "import seaborn as sns \n",
    "import matplotlib.pyplot as plt\n",
    "%matplotlib inline"
   ]
  },
  {
   "cell_type": "code",
   "execution_count": 2,
   "id": "207b21c7",
   "metadata": {
    "ExecuteTime": {
     "end_time": "2023-01-20T14:40:14.411874Z",
     "start_time": "2023-01-20T14:40:13.331227Z"
    },
    "id": "207b21c7"
   },
   "outputs": [
    {
     "data": {
      "text/plain": [
       "(42000, 785)"
      ]
     },
     "execution_count": 2,
     "metadata": {},
     "output_type": "execute_result"
    }
   ],
   "source": [
    "train_data = pd.read_csv('Datasets/digit_train.csv')\n",
    "train_data.shape"
   ]
  },
  {
   "cell_type": "code",
   "execution_count": 3,
   "id": "0f67f3c7",
   "metadata": {
    "ExecuteTime": {
     "end_time": "2023-01-20T14:40:16.560213Z",
     "start_time": "2023-01-20T14:40:16.532700Z"
    },
    "colab": {
     "base_uri": "https://localhost:8080/"
    },
    "id": "0f67f3c7",
    "outputId": "ec7b23d3-5ba1-4518-f83b-e88edfb28c47"
   },
   "outputs": [
    {
     "name": "stdout",
     "output_type": "stream",
     "text": [
      "<class 'pandas.core.frame.DataFrame'>\n",
      "RangeIndex: 42000 entries, 0 to 41999\n",
      "Columns: 785 entries, label to pixel783\n",
      "dtypes: int64(785)\n",
      "memory usage: 251.5 MB\n"
     ]
    }
   ],
   "source": [
    "train_data.info()"
   ]
  },
  {
   "cell_type": "code",
   "execution_count": 4,
   "id": "c9607ea7",
   "metadata": {
    "ExecuteTime": {
     "end_time": "2023-01-20T14:40:24.758208Z",
     "start_time": "2023-01-20T14:40:24.739214Z"
    },
    "colab": {
     "base_uri": "https://localhost:8080/",
     "height": 299
    },
    "id": "c9607ea7",
    "outputId": "1ff2c922-d572-40cc-e5c6-398df8de69fa"
   },
   "outputs": [
    {
     "data": {
      "text/html": [
       "<div>\n",
       "<style scoped>\n",
       "    .dataframe tbody tr th:only-of-type {\n",
       "        vertical-align: middle;\n",
       "    }\n",
       "\n",
       "    .dataframe tbody tr th {\n",
       "        vertical-align: top;\n",
       "    }\n",
       "\n",
       "    .dataframe thead th {\n",
       "        text-align: right;\n",
       "    }\n",
       "</style>\n",
       "<table border=\"1\" class=\"dataframe\">\n",
       "  <thead>\n",
       "    <tr style=\"text-align: right;\">\n",
       "      <th></th>\n",
       "      <th>label</th>\n",
       "      <th>pixel0</th>\n",
       "      <th>pixel1</th>\n",
       "      <th>pixel2</th>\n",
       "      <th>pixel3</th>\n",
       "      <th>pixel4</th>\n",
       "      <th>pixel5</th>\n",
       "      <th>pixel6</th>\n",
       "      <th>pixel7</th>\n",
       "      <th>pixel8</th>\n",
       "      <th>...</th>\n",
       "      <th>pixel774</th>\n",
       "      <th>pixel775</th>\n",
       "      <th>pixel776</th>\n",
       "      <th>pixel777</th>\n",
       "      <th>pixel778</th>\n",
       "      <th>pixel779</th>\n",
       "      <th>pixel780</th>\n",
       "      <th>pixel781</th>\n",
       "      <th>pixel782</th>\n",
       "      <th>pixel783</th>\n",
       "    </tr>\n",
       "  </thead>\n",
       "  <tbody>\n",
       "    <tr>\n",
       "      <th>0</th>\n",
       "      <td>1</td>\n",
       "      <td>0</td>\n",
       "      <td>0</td>\n",
       "      <td>0</td>\n",
       "      <td>0</td>\n",
       "      <td>0</td>\n",
       "      <td>0</td>\n",
       "      <td>0</td>\n",
       "      <td>0</td>\n",
       "      <td>0</td>\n",
       "      <td>...</td>\n",
       "      <td>0</td>\n",
       "      <td>0</td>\n",
       "      <td>0</td>\n",
       "      <td>0</td>\n",
       "      <td>0</td>\n",
       "      <td>0</td>\n",
       "      <td>0</td>\n",
       "      <td>0</td>\n",
       "      <td>0</td>\n",
       "      <td>0</td>\n",
       "    </tr>\n",
       "    <tr>\n",
       "      <th>1</th>\n",
       "      <td>0</td>\n",
       "      <td>0</td>\n",
       "      <td>0</td>\n",
       "      <td>0</td>\n",
       "      <td>0</td>\n",
       "      <td>0</td>\n",
       "      <td>0</td>\n",
       "      <td>0</td>\n",
       "      <td>0</td>\n",
       "      <td>0</td>\n",
       "      <td>...</td>\n",
       "      <td>0</td>\n",
       "      <td>0</td>\n",
       "      <td>0</td>\n",
       "      <td>0</td>\n",
       "      <td>0</td>\n",
       "      <td>0</td>\n",
       "      <td>0</td>\n",
       "      <td>0</td>\n",
       "      <td>0</td>\n",
       "      <td>0</td>\n",
       "    </tr>\n",
       "    <tr>\n",
       "      <th>2</th>\n",
       "      <td>1</td>\n",
       "      <td>0</td>\n",
       "      <td>0</td>\n",
       "      <td>0</td>\n",
       "      <td>0</td>\n",
       "      <td>0</td>\n",
       "      <td>0</td>\n",
       "      <td>0</td>\n",
       "      <td>0</td>\n",
       "      <td>0</td>\n",
       "      <td>...</td>\n",
       "      <td>0</td>\n",
       "      <td>0</td>\n",
       "      <td>0</td>\n",
       "      <td>0</td>\n",
       "      <td>0</td>\n",
       "      <td>0</td>\n",
       "      <td>0</td>\n",
       "      <td>0</td>\n",
       "      <td>0</td>\n",
       "      <td>0</td>\n",
       "    </tr>\n",
       "    <tr>\n",
       "      <th>3</th>\n",
       "      <td>4</td>\n",
       "      <td>0</td>\n",
       "      <td>0</td>\n",
       "      <td>0</td>\n",
       "      <td>0</td>\n",
       "      <td>0</td>\n",
       "      <td>0</td>\n",
       "      <td>0</td>\n",
       "      <td>0</td>\n",
       "      <td>0</td>\n",
       "      <td>...</td>\n",
       "      <td>0</td>\n",
       "      <td>0</td>\n",
       "      <td>0</td>\n",
       "      <td>0</td>\n",
       "      <td>0</td>\n",
       "      <td>0</td>\n",
       "      <td>0</td>\n",
       "      <td>0</td>\n",
       "      <td>0</td>\n",
       "      <td>0</td>\n",
       "    </tr>\n",
       "    <tr>\n",
       "      <th>4</th>\n",
       "      <td>0</td>\n",
       "      <td>0</td>\n",
       "      <td>0</td>\n",
       "      <td>0</td>\n",
       "      <td>0</td>\n",
       "      <td>0</td>\n",
       "      <td>0</td>\n",
       "      <td>0</td>\n",
       "      <td>0</td>\n",
       "      <td>0</td>\n",
       "      <td>...</td>\n",
       "      <td>0</td>\n",
       "      <td>0</td>\n",
       "      <td>0</td>\n",
       "      <td>0</td>\n",
       "      <td>0</td>\n",
       "      <td>0</td>\n",
       "      <td>0</td>\n",
       "      <td>0</td>\n",
       "      <td>0</td>\n",
       "      <td>0</td>\n",
       "    </tr>\n",
       "  </tbody>\n",
       "</table>\n",
       "<p>5 rows × 785 columns</p>\n",
       "</div>"
      ],
      "text/plain": [
       "   label  pixel0  pixel1  pixel2  pixel3  pixel4  pixel5  pixel6  pixel7  \\\n",
       "0      1       0       0       0       0       0       0       0       0   \n",
       "1      0       0       0       0       0       0       0       0       0   \n",
       "2      1       0       0       0       0       0       0       0       0   \n",
       "3      4       0       0       0       0       0       0       0       0   \n",
       "4      0       0       0       0       0       0       0       0       0   \n",
       "\n",
       "   pixel8  ...  pixel774  pixel775  pixel776  pixel777  pixel778  pixel779  \\\n",
       "0       0  ...         0         0         0         0         0         0   \n",
       "1       0  ...         0         0         0         0         0         0   \n",
       "2       0  ...         0         0         0         0         0         0   \n",
       "3       0  ...         0         0         0         0         0         0   \n",
       "4       0  ...         0         0         0         0         0         0   \n",
       "\n",
       "   pixel780  pixel781  pixel782  pixel783  \n",
       "0         0         0         0         0  \n",
       "1         0         0         0         0  \n",
       "2         0         0         0         0  \n",
       "3         0         0         0         0  \n",
       "4         0         0         0         0  \n",
       "\n",
       "[5 rows x 785 columns]"
      ]
     },
     "execution_count": 4,
     "metadata": {},
     "output_type": "execute_result"
    }
   ],
   "source": [
    "train_data.head()"
   ]
  },
  {
   "cell_type": "code",
   "execution_count": 5,
   "id": "b25d2093",
   "metadata": {
    "ExecuteTime": {
     "end_time": "2023-01-20T14:40:27.511327Z",
     "start_time": "2023-01-20T14:40:27.468320Z"
    },
    "id": "b25d2093"
   },
   "outputs": [
    {
     "data": {
      "text/plain": [
       "(42000, 785)"
      ]
     },
     "execution_count": 5,
     "metadata": {},
     "output_type": "execute_result"
    }
   ],
   "source": [
    "train_df = train_data.copy()\n",
    "train_df.shape"
   ]
  },
  {
   "cell_type": "code",
   "execution_count": 6,
   "id": "9oVdenDMRyZk",
   "metadata": {
    "ExecuteTime": {
     "end_time": "2023-01-20T14:40:32.157376Z",
     "start_time": "2023-01-20T14:40:32.118374Z"
    },
    "colab": {
     "base_uri": "https://localhost:8080/"
    },
    "id": "9oVdenDMRyZk",
    "outputId": "35cc4bec-fd2a-44d5-d9db-11d3eb90a018"
   },
   "outputs": [
    {
     "data": {
      "text/plain": [
       "array([0, 0, 0, 0, 0, 0, 0, 0, 0, 0, 0, 0, 0, 0, 0, 0, 0, 0, 0, 0, 0, 0,\n",
       "       0, 0, 0, 0, 0, 0, 0, 0, 0, 0, 0, 0, 0, 0, 0, 0, 0, 0, 0, 0, 0, 0,\n",
       "       0, 0, 0, 0, 0, 0, 0, 0, 0, 0, 0, 0, 0, 0, 0, 0, 0, 0, 0, 0, 0, 0,\n",
       "       0, 0, 0, 0, 0, 0, 0, 0, 0, 0, 0, 0, 0, 0, 0, 0, 0, 0, 0, 0, 0, 0,\n",
       "       0, 0, 0, 0, 0, 0, 0, 0, 0, 0, 0, 0, 0, 0, 0, 0, 0, 0, 0, 0, 0, 0,\n",
       "       0, 0, 0, 0, 0, 0, 0, 0, 0, 0, 0, 0, 0, 0, 0, 0, 0, 0, 0, 0, 0, 0,\n",
       "       0, 0, 0, 0, 0, 0, 0, 0, 0, 0, 0, 0, 0, 0, 0, 0, 0, 0, 0, 0, 0, 0,\n",
       "       0, 0, 0, 0, 0, 0, 0, 0, 0, 0, 0, 0, 0, 0, 0, 0, 0, 0, 0, 0, 0, 0,\n",
       "       0, 0, 0, 0, 0, 0, 0, 0, 0, 0, 0, 0, 0, 0, 0, 0, 0, 0, 0, 0, 0, 0,\n",
       "       0, 0, 0, 0, 0, 0, 0, 0, 0, 0, 0, 0, 0, 0, 0, 0, 0, 0, 0, 0, 0, 0,\n",
       "       0, 0, 0, 0, 0, 0, 0, 0, 0, 0, 0, 0, 0, 0, 0, 0, 0, 0, 0, 0, 0, 0,\n",
       "       0, 0, 0, 0, 0, 0, 0, 0, 0, 0, 0, 0, 0, 0, 0, 0, 0, 0, 0, 0, 0, 0,\n",
       "       0, 0, 0, 0, 0, 0, 0, 0, 0, 0, 0, 0, 0, 0, 0, 0, 0, 0, 0, 0, 0, 0,\n",
       "       0, 0, 0, 0, 0, 0, 0, 0, 0, 0, 0, 0, 0, 0, 0, 0, 0, 0, 0, 0, 0, 0,\n",
       "       0, 0, 0, 0, 0, 0, 0, 0, 0, 0, 0, 0, 0, 0, 0, 0, 0, 0, 0, 0, 0, 0,\n",
       "       0, 0, 0, 0, 0, 0, 0, 0, 0, 0, 0, 0, 0, 0, 0, 0, 0, 0, 0, 0, 0, 0,\n",
       "       0, 0, 0, 0, 0, 0, 0, 0, 0, 0, 0, 0, 0, 0, 0, 0, 0, 0, 0, 0, 0, 0,\n",
       "       0, 0, 0, 0, 0, 0, 0, 0, 0, 0, 0, 0, 0, 0, 0, 0, 0, 0, 0, 0, 0, 0,\n",
       "       0, 0, 0, 0, 0, 0, 0, 0, 0, 0, 0, 0, 0, 0, 0, 0, 0, 0, 0, 0, 0, 0,\n",
       "       0, 0, 0, 0, 0, 0, 0, 0, 0, 0, 0, 0, 0, 0, 0, 0, 0, 0, 0, 0, 0, 0,\n",
       "       0, 0, 0, 0, 0, 0, 0, 0, 0, 0, 0, 0, 0, 0, 0, 0, 0, 0, 0, 0, 0, 0,\n",
       "       0, 0, 0, 0, 0, 0, 0, 0, 0, 0, 0, 0, 0, 0, 0, 0, 0, 0, 0, 0, 0, 0,\n",
       "       0, 0, 0, 0, 0, 0, 0, 0, 0, 0, 0, 0, 0, 0, 0, 0, 0, 0, 0, 0, 0, 0,\n",
       "       0, 0, 0, 0, 0, 0, 0, 0, 0, 0, 0, 0, 0, 0, 0, 0, 0, 0, 0, 0, 0, 0,\n",
       "       0, 0, 0, 0, 0, 0, 0, 0, 0, 0, 0, 0, 0, 0, 0, 0, 0, 0, 0, 0, 0, 0,\n",
       "       0, 0, 0, 0, 0, 0, 0, 0, 0, 0, 0, 0, 0, 0, 0, 0, 0, 0, 0, 0, 0, 0,\n",
       "       0, 0, 0, 0, 0, 0, 0, 0, 0, 0, 0, 0, 0, 0, 0, 0, 0, 0, 0, 0, 0, 0,\n",
       "       0, 0, 0, 0, 0, 0, 0, 0, 0, 0, 0, 0, 0, 0, 0, 0, 0, 0, 0, 0, 0, 0,\n",
       "       0, 0, 0, 0, 0, 0, 0, 0, 0, 0, 0, 0, 0, 0, 0, 0, 0, 0, 0, 0, 0, 0,\n",
       "       0, 0, 0, 0, 0, 0, 0, 0, 0, 0, 0, 0, 0, 0, 0, 0, 0, 0, 0, 0, 0, 0,\n",
       "       0, 0, 0, 0, 0, 0, 0, 0, 0, 0, 0, 0, 0, 0, 0, 0, 0, 0, 0, 0, 0, 0,\n",
       "       0, 0, 0, 0, 0, 0, 0, 0, 0, 0, 0, 0, 0, 0, 0, 0, 0, 0, 0, 0, 0, 0,\n",
       "       0, 0, 0, 0, 0, 0, 0, 0, 0, 0, 0, 0, 0, 0, 0, 0, 0, 0, 0, 0, 0, 0,\n",
       "       0, 0, 0, 0, 0, 0, 0, 0, 0, 0, 0, 0, 0, 0, 0, 0, 0, 0, 0, 0, 0, 0,\n",
       "       0, 0, 0, 0, 0, 0, 0, 0, 0, 0, 0, 0, 0, 0, 0, 0, 0, 0, 0, 0, 0, 0,\n",
       "       0, 0, 0, 0, 0, 0, 0, 0, 0, 0, 0, 0, 0, 0, 0], dtype=int64)"
      ]
     },
     "execution_count": 6,
     "metadata": {},
     "output_type": "execute_result"
    }
   ],
   "source": [
    "train_df.isnull().sum().values"
   ]
  },
  {
   "cell_type": "code",
   "execution_count": 8,
   "id": "eefb3ed4",
   "metadata": {
    "ExecuteTime": {
     "end_time": "2023-01-20T15:04:54.195525Z",
     "start_time": "2023-01-20T15:04:54.148989Z"
    }
   },
   "outputs": [
    {
     "data": {
      "text/plain": [
       "label       0\n",
       "pixel0      0\n",
       "pixel1      0\n",
       "pixel2      0\n",
       "pixel3      0\n",
       "           ..\n",
       "pixel779    0\n",
       "pixel780    0\n",
       "pixel781    0\n",
       "pixel782    0\n",
       "pixel783    0\n",
       "Length: 785, dtype: int64"
      ]
     },
     "execution_count": 8,
     "metadata": {},
     "output_type": "execute_result"
    }
   ],
   "source": [
    "train_df.isnull().sum()"
   ]
  },
  {
   "cell_type": "code",
   "execution_count": 9,
   "id": "CgIhCwjRSBOg",
   "metadata": {
    "ExecuteTime": {
     "end_time": "2023-01-20T15:04:57.583864Z",
     "start_time": "2023-01-20T15:04:57.494557Z"
    },
    "id": "CgIhCwjRSBOg"
   },
   "outputs": [],
   "source": [
    "train_df.dropna(inplace=True)"
   ]
  },
  {
   "cell_type": "code",
   "execution_count": 10,
   "id": "E1C7uqxcSP6A",
   "metadata": {
    "ExecuteTime": {
     "end_time": "2023-01-20T15:04:58.371733Z",
     "start_time": "2023-01-20T15:04:58.363731Z"
    },
    "colab": {
     "base_uri": "https://localhost:8080/"
    },
    "id": "E1C7uqxcSP6A",
    "outputId": "49e08784-d5f4-4dce-8327-8f18923e88ab"
   },
   "outputs": [
    {
     "data": {
      "text/plain": [
       "(42000, 785)"
      ]
     },
     "execution_count": 10,
     "metadata": {},
     "output_type": "execute_result"
    }
   ],
   "source": [
    "train_df.shape"
   ]
  },
  {
   "cell_type": "markdown",
   "id": "2641972f",
   "metadata": {
    "id": "2641972f"
   },
   "source": [
    "# image processing"
   ]
  },
  {
   "cell_type": "code",
   "execution_count": 11,
   "id": "d7c967ae",
   "metadata": {
    "ExecuteTime": {
     "end_time": "2023-01-20T15:07:46.489985Z",
     "start_time": "2023-01-20T15:07:46.474612Z"
    },
    "colab": {
     "base_uri": "https://localhost:8080/"
    },
    "id": "d7c967ae",
    "outputId": "3983df6f-d743-48c1-eecb-11f00e5382c8"
   },
   "outputs": [
    {
     "data": {
      "text/plain": [
       "(28, 28)"
      ]
     },
     "execution_count": 11,
     "metadata": {},
     "output_type": "execute_result"
    }
   ],
   "source": [
    "# Each image is 28 pixels in height and 28 pixels in width\n",
    "image = train_df.iloc[889].values[1:].reshape(28,28)\n",
    "image.shape"
   ]
  },
  {
   "cell_type": "code",
   "execution_count": 12,
   "id": "9ed6f003",
   "metadata": {
    "ExecuteTime": {
     "end_time": "2023-01-20T15:08:05.636636Z",
     "start_time": "2023-01-20T15:08:05.386056Z"
    },
    "colab": {
     "base_uri": "https://localhost:8080/",
     "height": 369
    },
    "id": "9ed6f003",
    "outputId": "a3c93d12-d650-4172-d73a-17f4f4652a70"
   },
   "outputs": [
    {
     "name": "stderr",
     "output_type": "stream",
     "text": [
      "C:\\Python310\\lib\\site-packages\\skimage\\io\\_plugins\\matplotlib_plugin.py:150: UserWarning: Low image data range; displaying image with stretched contrast.\n",
      "  lo, hi, cmap = _get_display_range(image)\n"
     ]
    },
    {
     "data": {
      "text/plain": [
       "<matplotlib.image.AxesImage at 0x2aa84b1b8e0>"
      ]
     },
     "execution_count": 12,
     "metadata": {},
     "output_type": "execute_result"
    },
    {
     "data": {
      "image/png": "[encoded data removed]",
      "text/plain": [
       "<Figure size 432x288 with 2 Axes>"
      ]
     },
     "metadata": {
      "needs_background": "light"
     },
     "output_type": "display_data"
    }
   ],
   "source": [
    "from skimage import io\n",
    "\n",
    "io.imshow(image)"
   ]
  },
  {
   "cell_type": "code",
   "execution_count": 13,
   "id": "ff08e3fa",
   "metadata": {
    "ExecuteTime": {
     "end_time": "2023-01-20T15:08:12.682213Z",
     "start_time": "2023-01-20T15:08:12.674216Z"
    },
    "colab": {
     "base_uri": "https://localhost:8080/"
    },
    "id": "ff08e3fa",
    "outputId": "36bd8953-f9a7-4a35-9751-67a3f9ff4b2f"
   },
   "outputs": [
    {
     "data": {
      "text/plain": [
       "255"
      ]
     },
     "execution_count": 13,
     "metadata": {},
     "output_type": "execute_result"
    }
   ],
   "source": [
    "image.max()"
   ]
  },
  {
   "cell_type": "markdown",
   "id": "cce13540",
   "metadata": {
    "id": "cce13540"
   },
   "source": [
    "# model building using train data"
   ]
  },
  {
   "cell_type": "markdown",
   "id": "5c9bf771",
   "metadata": {},
   "source": [
    "## train test split"
   ]
  },
  {
   "cell_type": "code",
   "execution_count": 15,
   "id": "ba940e09",
   "metadata": {
    "ExecuteTime": {
     "end_time": "2023-01-20T15:12:03.276658Z",
     "start_time": "2023-01-20T15:12:03.174193Z"
    },
    "id": "ba940e09"
   },
   "outputs": [],
   "source": [
    "images = train_df.drop(columns=['label']).values\n",
    "label = train_df.label"
   ]
  },
  {
   "cell_type": "code",
   "execution_count": 16,
   "id": "YxN89hINTVGS",
   "metadata": {
    "ExecuteTime": {
     "end_time": "2023-01-20T15:12:05.578346Z",
     "start_time": "2023-01-20T15:12:05.476274Z"
    },
    "colab": {
     "base_uri": "https://localhost:8080/"
    },
    "id": "YxN89hINTVGS",
    "outputId": "84ea67ae-bf15-4e77-f340-606faf300210"
   },
   "outputs": [
    {
     "data": {
      "text/plain": [
       "array([[0., 0., 0., ..., 0., 0., 0.],\n",
       "       [0., 0., 0., ..., 0., 0., 0.],\n",
       "       [0., 0., 0., ..., 0., 0., 0.],\n",
       "       ...,\n",
       "       [0., 0., 0., ..., 0., 0., 0.],\n",
       "       [0., 0., 0., ..., 0., 0., 0.],\n",
       "       [0., 0., 0., ..., 0., 0., 0.]])"
      ]
     },
     "execution_count": 16,
     "metadata": {},
     "output_type": "execute_result"
    }
   ],
   "source": [
    "images = images/255.0\n",
    "images"
   ]
  },
  {
   "cell_type": "code",
   "execution_count": 26,
   "id": "edc5712e",
   "metadata": {
    "ExecuteTime": {
     "end_time": "2023-01-20T15:32:10.539032Z",
     "start_time": "2023-01-20T15:32:10.523027Z"
    }
   },
   "outputs": [
    {
     "data": {
      "text/plain": [
       "(42000, 784)"
      ]
     },
     "execution_count": 26,
     "metadata": {},
     "output_type": "execute_result"
    }
   ],
   "source": [
    "images.shape"
   ]
  },
  {
   "cell_type": "code",
   "execution_count": 17,
   "id": "0UwiT3OdTcJf",
   "metadata": {
    "ExecuteTime": {
     "end_time": "2023-01-20T15:12:08.207563Z",
     "start_time": "2023-01-20T15:12:08.188557Z"
    },
    "colab": {
     "base_uri": "https://localhost:8080/"
    },
    "id": "0UwiT3OdTcJf",
    "outputId": "2e3f373c-621a-43f2-e03b-b1e92d11f1dd"
   },
   "outputs": [
    {
     "data": {
      "text/plain": [
       "1.0"
      ]
     },
     "execution_count": 17,
     "metadata": {},
     "output_type": "execute_result"
    }
   ],
   "source": [
    "images.max()"
   ]
  },
  {
   "cell_type": "code",
   "execution_count": 18,
   "id": "75cd6852",
   "metadata": {
    "ExecuteTime": {
     "end_time": "2023-01-20T15:12:36.307615Z",
     "start_time": "2023-01-20T15:12:36.053258Z"
    },
    "id": "75cd6852"
   },
   "outputs": [],
   "source": [
    "from sklearn.model_selection import train_test_split\n",
    "\n",
    "xtrain, xtest, ytrain, ytest = train_test_split(images, label, test_size=0.3, random_state=33)"
   ]
  },
  {
   "cell_type": "code",
   "execution_count": 19,
   "id": "22071e18",
   "metadata": {
    "ExecuteTime": {
     "end_time": "2023-01-20T15:12:59.626252Z",
     "start_time": "2023-01-20T15:12:59.613270Z"
    }
   },
   "outputs": [
    {
     "name": "stdout",
     "output_type": "stream",
     "text": [
      "(29400, 784)\n",
      "(12600, 784)\n"
     ]
    }
   ],
   "source": [
    "print(xtrain.shape)\n",
    "print(xtest.shape)"
   ]
  },
  {
   "cell_type": "markdown",
   "id": "V4C-UiV9Tke7",
   "metadata": {
    "id": "V4C-UiV9Tke7"
   },
   "source": [
    "## Feature Extraction / Dimensionality Reduction"
   ]
  },
  {
   "cell_type": "code",
   "execution_count": 20,
   "id": "rm_Ns7tOU3sg",
   "metadata": {
    "ExecuteTime": {
     "end_time": "2023-01-20T15:16:11.946144Z",
     "start_time": "2023-01-20T15:16:07.770438Z"
    },
    "id": "rm_Ns7tOU3sg"
   },
   "outputs": [],
   "source": [
    "# Feature Extraction/Dimensionality Reduction using HOG(Histogram of Oriented Gradients)\n",
    "from skimage import feature\n",
    "\n",
    "transform = lambda image: feature.hog(image.reshape(28,28))\n",
    "train_vector = np.array(list(map(transform , xtrain)))\n",
    "test_vector = np.array(list(map(transform , xtest)))"
   ]
  },
  {
   "cell_type": "code",
   "execution_count": 21,
   "id": "jGBR0e0qTqCL",
   "metadata": {
    "ExecuteTime": {
     "end_time": "2023-01-20T15:16:28.417390Z",
     "start_time": "2023-01-20T15:16:28.411409Z"
    },
    "id": "jGBR0e0qTqCL"
   },
   "outputs": [
    {
     "name": "stdout",
     "output_type": "stream",
     "text": [
      "(29400, 81)\n",
      "(12600, 81)\n"
     ]
    }
   ],
   "source": [
    "print(train_vector.shape)\n",
    "print(test_vector.shape)"
   ]
  },
  {
   "cell_type": "markdown",
   "id": "7e1ae992",
   "metadata": {
    "id": "7e1ae992"
   },
   "source": [
    "## Model buiding using support vector machine(SVC)"
   ]
  },
  {
   "cell_type": "code",
   "execution_count": 22,
   "id": "36aae823",
   "metadata": {
    "ExecuteTime": {
     "end_time": "2023-01-20T15:17:45.130409Z",
     "start_time": "2023-01-20T15:17:31.178926Z"
    },
    "id": "36aae823"
   },
   "outputs": [
    {
     "data": {
      "text/html": [
       "<style>#sk-container-id-1 {color: black;background-color: white;}#sk-container-id-1 pre{padding: 0;}#sk-container-id-1 div.sk-toggleable {background-color: white;}#sk-container-id-1 label.sk-toggleable__label {cursor: pointer;display: block;width: 100%;margin-bottom: 0;padding: 0.3em;box-sizing: border-box;text-align: center;}#sk-container-id-1 label.sk-toggleable__label-arrow:before {content: \"▸\";float: left;margin-right: 0.25em;color: #696969;}#sk-container-id-1 label.sk-toggleable__label-arrow:hover:before {color: black;}#sk-container-id-1 div.sk-estimator:hover label.sk-toggleable__label-arrow:before {color: black;}#sk-container-id-1 div.sk-toggleable__content {max-height: 0;max-width: 0;overflow: hidden;text-align: left;background-color: #f0f8ff;}#sk-container-id-1 div.sk-toggleable__content pre {margin: 0.2em;color: black;border-radius: 0.25em;background-color: #f0f8ff;}#sk-container-id-1 input.sk-toggleable__control:checked~div.sk-toggleable__content {max-height: 200px;max-width: 100%;overflow: auto;}#sk-container-id-1 input.sk-toggleable__control:checked~label.sk-toggleable__label-arrow:before {content: \"▾\";}#sk-container-id-1 div.sk-estimator input.sk-toggleable__control:checked~label.sk-toggleable__label {background-color: #d4ebff;}#sk-container-id-1 div.sk-label input.sk-toggleable__control:checked~label.sk-toggleable__label {background-color: #d4ebff;}#sk-container-id-1 input.sk-hidden--visually {border: 0;clip: rect(1px 1px 1px 1px);clip: rect(1px, 1px, 1px, 1px);height: 1px;margin: -1px;overflow: hidden;padding: 0;position: absolute;width: 1px;}#sk-container-id-1 div.sk-estimator {font-family: monospace;background-color: #f0f8ff;border: 1px dotted black;border-radius: 0.25em;box-sizing: border-box;margin-bottom: 0.5em;}#sk-container-id-1 div.sk-estimator:hover {background-color: #d4ebff;}#sk-container-id-1 div.sk-parallel-item::after {content: \"\";width: 100%;border-bottom: 1px solid gray;flex-grow: 1;}#sk-container-id-1 div.sk-label:hover label.sk-toggleable__label {background-color: #d4ebff;}#sk-container-id-1 div.sk-serial::before {content: \"\";position: absolute;border-left: 1px solid gray;box-sizing: border-box;top: 0;bottom: 0;left: 50%;z-index: 0;}#sk-container-id-1 div.sk-serial {display: flex;flex-direction: column;align-items: center;background-color: white;padding-right: 0.2em;padding-left: 0.2em;position: relative;}#sk-container-id-1 div.sk-item {position: relative;z-index: 1;}#sk-container-id-1 div.sk-parallel {display: flex;align-items: stretch;justify-content: center;background-color: white;position: relative;}#sk-container-id-1 div.sk-item::before, #sk-container-id-1 div.sk-parallel-item::before {content: \"\";position: absolute;border-left: 1px solid gray;box-sizing: border-box;top: 0;bottom: 0;left: 50%;z-index: -1;}#sk-container-id-1 div.sk-parallel-item {display: flex;flex-direction: column;z-index: 1;position: relative;background-color: white;}#sk-container-id-1 div.sk-parallel-item:first-child::after {align-self: flex-end;width: 50%;}#sk-container-id-1 div.sk-parallel-item:last-child::after {align-self: flex-start;width: 50%;}#sk-container-id-1 div.sk-parallel-item:only-child::after {width: 0;}#sk-container-id-1 div.sk-dashed-wrapped {border: 1px dashed gray;margin: 0 0.4em 0.5em 0.4em;box-sizing: border-box;padding-bottom: 0.4em;background-color: white;}#sk-container-id-1 div.sk-label label {font-family: monospace;font-weight: bold;display: inline-block;line-height: 1.2em;}#sk-container-id-1 div.sk-label-container {text-align: center;}#sk-container-id-1 div.sk-container {/* jupyter's `normalize.less` sets `[hidden] { display: none; }` but bootstrap.min.css set `[hidden] { display: none !important; }` so we also need the `!important` here to be able to override the default hidden behavior on the sphinx rendered scikit-learn.org. See: https://github.com/scikit-learn/scikit-learn/issues/21755 */display: inline-block !important;position: relative;}#sk-container-id-1 div.sk-text-repr-fallback {display: none;}</style><div id=\"sk-container-id-1\" class=\"sk-top-container\"><div class=\"sk-text-repr-fallback\"><pre>SVC()</pre><b>In a Jupyter environment, please rerun this cell to show the HTML representation or trust the notebook. <br />On GitHub, the HTML representation is unable to render, please try loading this page with nbviewer.org.</b></div><div class=\"sk-container\" hidden><div class=\"sk-item\"><div class=\"sk-estimator sk-toggleable\"><input class=\"sk-toggleable__control sk-hidden--visually\" id=\"sk-estimator-id-1\" type=\"checkbox\" checked><label for=\"sk-estimator-id-1\" class=\"sk-toggleable__label sk-toggleable__label-arrow\">SVC</label><div class=\"sk-toggleable__content\"><pre>SVC()</pre></div></div></div></div></div>"
      ],
      "text/plain": [
       "SVC()"
      ]
     },
     "execution_count": 22,
     "metadata": {},
     "output_type": "execute_result"
    }
   ],
   "source": [
    "from sklearn.svm import SVC\n",
    "\n",
    "digit_recognizer = SVC()\n",
    "digit_recognizer.fit(train_vector, ytrain)"
   ]
  },
  {
   "cell_type": "markdown",
   "id": "ad91b3b7",
   "metadata": {
    "id": "ad91b3b7"
   },
   "source": [
    "## model evaluation"
   ]
  },
  {
   "cell_type": "code",
   "execution_count": 23,
   "id": "e381442c",
   "metadata": {
    "ExecuteTime": {
     "end_time": "2023-01-20T15:19:33.345040Z",
     "start_time": "2023-01-20T15:19:27.167068Z"
    },
    "id": "e381442c"
   },
   "outputs": [],
   "source": [
    "ypred = digit_recognizer.predict(test_vector)"
   ]
  },
  {
   "cell_type": "code",
   "execution_count": 24,
   "id": "9f3c16b6",
   "metadata": {
    "ExecuteTime": {
     "end_time": "2023-01-20T15:19:42.869163Z",
     "start_time": "2023-01-20T15:19:42.834530Z"
    },
    "id": "9f3c16b6"
   },
   "outputs": [],
   "source": [
    "from sklearn.metrics import classification_report\n",
    "report = classification_report(ytest, ypred)"
   ]
  },
  {
   "cell_type": "code",
   "execution_count": 25,
   "id": "867140d7",
   "metadata": {
    "ExecuteTime": {
     "end_time": "2023-01-20T15:19:51.204109Z",
     "start_time": "2023-01-20T15:19:51.186100Z"
    },
    "colab": {
     "base_uri": "https://localhost:8080/"
    },
    "id": "867140d7",
    "outputId": "ba53a36d-e42d-42bb-d7d4-16599bfa4d38"
   },
   "outputs": [
    {
     "name": "stdout",
     "output_type": "stream",
     "text": [
      "              precision    recall  f1-score   support\n",
      "\n",
      "           0       0.99      0.99      0.99      1247\n",
      "           1       0.99      0.99      0.99      1455\n",
      "           2       0.97      0.97      0.97      1244\n",
      "           3       0.96      0.97      0.97      1321\n",
      "           4       0.96      0.97      0.97      1221\n",
      "           5       0.98      0.97      0.98      1133\n",
      "           6       0.98      0.99      0.98      1245\n",
      "           7       0.97      0.96      0.96      1317\n",
      "           8       0.96      0.95      0.96      1206\n",
      "           9       0.96      0.96      0.96      1211\n",
      "\n",
      "    accuracy                           0.97     12600\n",
      "   macro avg       0.97      0.97      0.97     12600\n",
      "weighted avg       0.97      0.97      0.97     12600\n",
      "\n"
     ]
    }
   ],
   "source": [
    "print(report)"
   ]
  },
  {
   "cell_type": "markdown",
   "id": "UWJcaaFsXQWA",
   "metadata": {
    "id": "UWJcaaFsXQWA"
   },
   "source": [
    "# Hyper-parameter tuning and cross validation using train data"
   ]
  },
  {
   "cell_type": "code",
   "execution_count": 27,
   "id": "ofiUCVa8Xdnn",
   "metadata": {
    "ExecuteTime": {
     "end_time": "2023-01-20T15:32:33.687273Z",
     "start_time": "2023-01-20T15:32:33.680274Z"
    },
    "id": "ofiUCVa8Xdnn"
   },
   "outputs": [],
   "source": [
    "from sklearn.model_selection import RandomizedSearchCV\n",
    "\n",
    "grid = RandomizedSearchCV(\n",
    "    digit_recognizer,\n",
    "    param_distributions={\n",
    "        'C': np.arange(1.0, 100, 2),\n",
    "        'kernel': ['rbf', 'linear', 'poly', 'sigmoid'],\n",
    "        'degree': [3, 4, 5, 6, 7],\n",
    "        'gamma': ['scale', 'auto'],\n",
    "        'decision_function_shape': ['ovo', 'ovr']\n",
    "    }, cv=10, scoring='accuracy', n_jobs=4, verbose=1)"
   ]
  },
  {
   "cell_type": "code",
   "execution_count": 28,
   "id": "7lkj3mrxYt_P",
   "metadata": {
    "ExecuteTime": {
     "end_time": "2023-01-20T15:32:46.484963Z",
     "start_time": "2023-01-20T15:32:42.250067Z"
    },
    "id": "7lkj3mrxYt_P"
   },
   "outputs": [
    {
     "data": {
      "text/plain": [
       "(42000, 81)"
      ]
     },
     "execution_count": 28,
     "metadata": {},
     "output_type": "execute_result"
    }
   ],
   "source": [
    "feature_vector = np.array(list(map(transform, images)))\n",
    "feature_vector.shape"
   ]
  },
  {
   "cell_type": "code",
   "execution_count": 30,
   "id": "94bfdeee",
   "metadata": {
    "ExecuteTime": {
     "end_time": "2023-01-20T15:33:07.549889Z",
     "start_time": "2023-01-20T15:33:07.534888Z"
    }
   },
   "outputs": [
    {
     "data": {
      "text/plain": [
       "(42000,)"
      ]
     },
     "execution_count": 30,
     "metadata": {},
     "output_type": "execute_result"
    }
   ],
   "source": [
    "label.shape"
   ]
  },
  {
   "cell_type": "code",
   "execution_count": 36,
   "id": "824ce654",
   "metadata": {
    "ExecuteTime": {
     "end_time": "2023-01-20T16:16:50.759171Z",
     "start_time": "2023-01-20T16:16:50.745843Z"
    }
   },
   "outputs": [
    {
     "data": {
      "text/plain": [
       "(42000, 81)"
      ]
     },
     "execution_count": 36,
     "metadata": {},
     "output_type": "execute_result"
    }
   ],
   "source": [
    "feature_vector.shape"
   ]
  },
  {
   "cell_type": "code",
   "execution_count": 31,
   "id": "dssrZ-CQXlSF",
   "metadata": {
    "ExecuteTime": {
     "end_time": "2023-01-20T16:12:30.360312Z",
     "start_time": "2023-01-20T15:33:18.434622Z"
    },
    "colab": {
     "base_uri": "https://localhost:8080/"
    },
    "id": "dssrZ-CQXlSF",
    "outputId": "900c8e6d-2de8-4dd4-a87f-8e6e55d83e90"
   },
   "outputs": [
    {
     "name": "stdout",
     "output_type": "stream",
     "text": [
      "Fitting 10 folds for each of 10 candidates, totalling 100 fits\n"
     ]
    },
    {
     "data": {
      "text/html": [
       "<style>#sk-container-id-2 {color: black;background-color: white;}#sk-container-id-2 pre{padding: 0;}#sk-container-id-2 div.sk-toggleable {background-color: white;}#sk-container-id-2 label.sk-toggleable__label {cursor: pointer;display: block;width: 100%;margin-bottom: 0;padding: 0.3em;box-sizing: border-box;text-align: center;}#sk-container-id-2 label.sk-toggleable__label-arrow:before {content: \"▸\";float: left;margin-right: 0.25em;color: #696969;}#sk-container-id-2 label.sk-toggleable__label-arrow:hover:before {color: black;}#sk-container-id-2 div.sk-estimator:hover label.sk-toggleable__label-arrow:before {color: black;}#sk-container-id-2 div.sk-toggleable__content {max-height: 0;max-width: 0;overflow: hidden;text-align: left;background-color: #f0f8ff;}#sk-container-id-2 div.sk-toggleable__content pre {margin: 0.2em;color: black;border-radius: 0.25em;background-color: #f0f8ff;}#sk-container-id-2 input.sk-toggleable__control:checked~div.sk-toggleable__content {max-height: 200px;max-width: 100%;overflow: auto;}#sk-container-id-2 input.sk-toggleable__control:checked~label.sk-toggleable__label-arrow:before {content: \"▾\";}#sk-container-id-2 div.sk-estimator input.sk-toggleable__control:checked~label.sk-toggleable__label {background-color: #d4ebff;}#sk-container-id-2 div.sk-label input.sk-toggleable__control:checked~label.sk-toggleable__label {background-color: #d4ebff;}#sk-container-id-2 input.sk-hidden--visually {border: 0;clip: rect(1px 1px 1px 1px);clip: rect(1px, 1px, 1px, 1px);height: 1px;margin: -1px;overflow: hidden;padding: 0;position: absolute;width: 1px;}#sk-container-id-2 div.sk-estimator {font-family: monospace;background-color: #f0f8ff;border: 1px dotted black;border-radius: 0.25em;box-sizing: border-box;margin-bottom: 0.5em;}#sk-container-id-2 div.sk-estimator:hover {background-color: #d4ebff;}#sk-container-id-2 div.sk-parallel-item::after {content: \"\";width: 100%;border-bottom: 1px solid gray;flex-grow: 1;}#sk-container-id-2 div.sk-label:hover label.sk-toggleable__label {background-color: #d4ebff;}#sk-container-id-2 div.sk-serial::before {content: \"\";position: absolute;border-left: 1px solid gray;box-sizing: border-box;top: 0;bottom: 0;left: 50%;z-index: 0;}#sk-container-id-2 div.sk-serial {display: flex;flex-direction: column;align-items: center;background-color: white;padding-right: 0.2em;padding-left: 0.2em;position: relative;}#sk-container-id-2 div.sk-item {position: relative;z-index: 1;}#sk-container-id-2 div.sk-parallel {display: flex;align-items: stretch;justify-content: center;background-color: white;position: relative;}#sk-container-id-2 div.sk-item::before, #sk-container-id-2 div.sk-parallel-item::before {content: \"\";position: absolute;border-left: 1px solid gray;box-sizing: border-box;top: 0;bottom: 0;left: 50%;z-index: -1;}#sk-container-id-2 div.sk-parallel-item {display: flex;flex-direction: column;z-index: 1;position: relative;background-color: white;}#sk-container-id-2 div.sk-parallel-item:first-child::after {align-self: flex-end;width: 50%;}#sk-container-id-2 div.sk-parallel-item:last-child::after {align-self: flex-start;width: 50%;}#sk-container-id-2 div.sk-parallel-item:only-child::after {width: 0;}#sk-container-id-2 div.sk-dashed-wrapped {border: 1px dashed gray;margin: 0 0.4em 0.5em 0.4em;box-sizing: border-box;padding-bottom: 0.4em;background-color: white;}#sk-container-id-2 div.sk-label label {font-family: monospace;font-weight: bold;display: inline-block;line-height: 1.2em;}#sk-container-id-2 div.sk-label-container {text-align: center;}#sk-container-id-2 div.sk-container {/* jupyter's `normalize.less` sets `[hidden] { display: none; }` but bootstrap.min.css set `[hidden] { display: none !important; }` so we also need the `!important` here to be able to override the default hidden behavior on the sphinx rendered scikit-learn.org. See: https://github.com/scikit-learn/scikit-learn/issues/21755 */display: inline-block !important;position: relative;}#sk-container-id-2 div.sk-text-repr-fallback {display: none;}</style><div id=\"sk-container-id-2\" class=\"sk-top-container\"><div class=\"sk-text-repr-fallback\"><pre>RandomizedSearchCV(cv=10, estimator=SVC(), n_jobs=4,\n",
       "                   param_distributions={&#x27;C&#x27;: array([ 1.,  3.,  5.,  7.,  9., 11., 13., 15., 17., 19., 21., 23., 25.,\n",
       "       27., 29., 31., 33., 35., 37., 39., 41., 43., 45., 47., 49., 51.,\n",
       "       53., 55., 57., 59., 61., 63., 65., 67., 69., 71., 73., 75., 77.,\n",
       "       79., 81., 83., 85., 87., 89., 91., 93., 95., 97., 99.]),\n",
       "                                        &#x27;decision_function_shape&#x27;: [&#x27;ovo&#x27;,\n",
       "                                                                    &#x27;ovr&#x27;],\n",
       "                                        &#x27;degree&#x27;: [3, 4, 5, 6, 7],\n",
       "                                        &#x27;gamma&#x27;: [&#x27;scale&#x27;, &#x27;auto&#x27;],\n",
       "                                        &#x27;kernel&#x27;: [&#x27;rbf&#x27;, &#x27;linear&#x27;, &#x27;poly&#x27;,\n",
       "                                                   &#x27;sigmoid&#x27;]},\n",
       "                   scoring=&#x27;accuracy&#x27;, verbose=1)</pre><b>In a Jupyter environment, please rerun this cell to show the HTML representation or trust the notebook. <br />On GitHub, the HTML representation is unable to render, please try loading this page with nbviewer.org.</b></div><div class=\"sk-container\" hidden><div class=\"sk-item sk-dashed-wrapped\"><div class=\"sk-label-container\"><div class=\"sk-label sk-toggleable\"><input class=\"sk-toggleable__control sk-hidden--visually\" id=\"sk-estimator-id-2\" type=\"checkbox\" ><label for=\"sk-estimator-id-2\" class=\"sk-toggleable__label sk-toggleable__label-arrow\">RandomizedSearchCV</label><div class=\"sk-toggleable__content\"><pre>RandomizedSearchCV(cv=10, estimator=SVC(), n_jobs=4,\n",
       "                   param_distributions={&#x27;C&#x27;: array([ 1.,  3.,  5.,  7.,  9., 11., 13., 15., 17., 19., 21., 23., 25.,\n",
       "       27., 29., 31., 33., 35., 37., 39., 41., 43., 45., 47., 49., 51.,\n",
       "       53., 55., 57., 59., 61., 63., 65., 67., 69., 71., 73., 75., 77.,\n",
       "       79., 81., 83., 85., 87., 89., 91., 93., 95., 97., 99.]),\n",
       "                                        &#x27;decision_function_shape&#x27;: [&#x27;ovo&#x27;,\n",
       "                                                                    &#x27;ovr&#x27;],\n",
       "                                        &#x27;degree&#x27;: [3, 4, 5, 6, 7],\n",
       "                                        &#x27;gamma&#x27;: [&#x27;scale&#x27;, &#x27;auto&#x27;],\n",
       "                                        &#x27;kernel&#x27;: [&#x27;rbf&#x27;, &#x27;linear&#x27;, &#x27;poly&#x27;,\n",
       "                                                   &#x27;sigmoid&#x27;]},\n",
       "                   scoring=&#x27;accuracy&#x27;, verbose=1)</pre></div></div></div><div class=\"sk-parallel\"><div class=\"sk-parallel-item\"><div class=\"sk-item\"><div class=\"sk-label-container\"><div class=\"sk-label sk-toggleable\"><input class=\"sk-toggleable__control sk-hidden--visually\" id=\"sk-estimator-id-3\" type=\"checkbox\" ><label for=\"sk-estimator-id-3\" class=\"sk-toggleable__label sk-toggleable__label-arrow\">estimator: SVC</label><div class=\"sk-toggleable__content\"><pre>SVC()</pre></div></div></div><div class=\"sk-serial\"><div class=\"sk-item\"><div class=\"sk-estimator sk-toggleable\"><input class=\"sk-toggleable__control sk-hidden--visually\" id=\"sk-estimator-id-4\" type=\"checkbox\" ><label for=\"sk-estimator-id-4\" class=\"sk-toggleable__label sk-toggleable__label-arrow\">SVC</label><div class=\"sk-toggleable__content\"><pre>SVC()</pre></div></div></div></div></div></div></div></div></div></div>"
      ],
      "text/plain": [
       "RandomizedSearchCV(cv=10, estimator=SVC(), n_jobs=4,\n",
       "                   param_distributions={'C': array([ 1.,  3.,  5.,  7.,  9., 11., 13., 15., 17., 19., 21., 23., 25.,\n",
       "       27., 29., 31., 33., 35., 37., 39., 41., 43., 45., 47., 49., 51.,\n",
       "       53., 55., 57., 59., 61., 63., 65., 67., 69., 71., 73., 75., 77.,\n",
       "       79., 81., 83., 85., 87., 89., 91., 93., 95., 97., 99.]),\n",
       "                                        'decision_function_shape': ['ovo',\n",
       "                                                                    'ovr'],\n",
       "                                        'degree': [3, 4, 5, 6, 7],\n",
       "                                        'gamma': ['scale', 'auto'],\n",
       "                                        'kernel': ['rbf', 'linear', 'poly',\n",
       "                                                   'sigmoid']},\n",
       "                   scoring='accuracy', verbose=1)"
      ]
     },
     "execution_count": 31,
     "metadata": {},
     "output_type": "execute_result"
    }
   ],
   "source": [
    "grid.fit(feature_vector, label)"
   ]
  },
  {
   "cell_type": "code",
   "execution_count": 32,
   "id": "msMhxwOdZgXv",
   "metadata": {
    "ExecuteTime": {
     "end_time": "2023-01-20T16:12:45.238926Z",
     "start_time": "2023-01-20T16:12:45.229947Z"
    },
    "colab": {
     "base_uri": "https://localhost:8080/"
    },
    "id": "msMhxwOdZgXv",
    "outputId": "eae9fe9f-b92f-4a5f-fc97-2a0ffda850ff"
   },
   "outputs": [
    {
     "data": {
      "text/plain": [
       "0.9762380952380951"
      ]
     },
     "execution_count": 32,
     "metadata": {},
     "output_type": "execute_result"
    }
   ],
   "source": [
    "grid.best_score_"
   ]
  },
  {
   "cell_type": "code",
   "execution_count": 33,
   "id": "KuHa32XlZioV",
   "metadata": {
    "ExecuteTime": {
     "end_time": "2023-01-20T16:12:51.156750Z",
     "start_time": "2023-01-20T16:12:51.146747Z"
    },
    "colab": {
     "base_uri": "https://localhost:8080/"
    },
    "id": "KuHa32XlZioV",
    "outputId": "e06a2ca5-e635-423e-bd02-8bb71dd7563d"
   },
   "outputs": [
    {
     "data": {
      "text/plain": [
       "{'kernel': 'poly',\n",
       " 'gamma': 'scale',\n",
       " 'degree': 6,\n",
       " 'decision_function_shape': 'ovr',\n",
       " 'C': 67.0}"
      ]
     },
     "execution_count": 33,
     "metadata": {},
     "output_type": "execute_result"
    }
   ],
   "source": [
    "grid.best_params_"
   ]
  },
  {
   "cell_type": "code",
   "execution_count": 34,
   "id": "uGmzS7JudRxF",
   "metadata": {
    "ExecuteTime": {
     "end_time": "2023-01-20T16:12:56.294469Z",
     "start_time": "2023-01-20T16:12:56.284461Z"
    },
    "colab": {
     "base_uri": "https://localhost:8080/"
    },
    "id": "uGmzS7JudRxF",
    "outputId": "720a875e-2976-475f-bac8-b626ca3a3b2a"
   },
   "outputs": [
    {
     "data": {
      "text/html": [
       "<style>#sk-container-id-3 {color: black;background-color: white;}#sk-container-id-3 pre{padding: 0;}#sk-container-id-3 div.sk-toggleable {background-color: white;}#sk-container-id-3 label.sk-toggleable__label {cursor: pointer;display: block;width: 100%;margin-bottom: 0;padding: 0.3em;box-sizing: border-box;text-align: center;}#sk-container-id-3 label.sk-toggleable__label-arrow:before {content: \"▸\";float: left;margin-right: 0.25em;color: #696969;}#sk-container-id-3 label.sk-toggleable__label-arrow:hover:before {color: black;}#sk-container-id-3 div.sk-estimator:hover label.sk-toggleable__label-arrow:before {color: black;}#sk-container-id-3 div.sk-toggleable__content {max-height: 0;max-width: 0;overflow: hidden;text-align: left;background-color: #f0f8ff;}#sk-container-id-3 div.sk-toggleable__content pre {margin: 0.2em;color: black;border-radius: 0.25em;background-color: #f0f8ff;}#sk-container-id-3 input.sk-toggleable__control:checked~div.sk-toggleable__content {max-height: 200px;max-width: 100%;overflow: auto;}#sk-container-id-3 input.sk-toggleable__control:checked~label.sk-toggleable__label-arrow:before {content: \"▾\";}#sk-container-id-3 div.sk-estimator input.sk-toggleable__control:checked~label.sk-toggleable__label {background-color: #d4ebff;}#sk-container-id-3 div.sk-label input.sk-toggleable__control:checked~label.sk-toggleable__label {background-color: #d4ebff;}#sk-container-id-3 input.sk-hidden--visually {border: 0;clip: rect(1px 1px 1px 1px);clip: rect(1px, 1px, 1px, 1px);height: 1px;margin: -1px;overflow: hidden;padding: 0;position: absolute;width: 1px;}#sk-container-id-3 div.sk-estimator {font-family: monospace;background-color: #f0f8ff;border: 1px dotted black;border-radius: 0.25em;box-sizing: border-box;margin-bottom: 0.5em;}#sk-container-id-3 div.sk-estimator:hover {background-color: #d4ebff;}#sk-container-id-3 div.sk-parallel-item::after {content: \"\";width: 100%;border-bottom: 1px solid gray;flex-grow: 1;}#sk-container-id-3 div.sk-label:hover label.sk-toggleable__label {background-color: #d4ebff;}#sk-container-id-3 div.sk-serial::before {content: \"\";position: absolute;border-left: 1px solid gray;box-sizing: border-box;top: 0;bottom: 0;left: 50%;z-index: 0;}#sk-container-id-3 div.sk-serial {display: flex;flex-direction: column;align-items: center;background-color: white;padding-right: 0.2em;padding-left: 0.2em;position: relative;}#sk-container-id-3 div.sk-item {position: relative;z-index: 1;}#sk-container-id-3 div.sk-parallel {display: flex;align-items: stretch;justify-content: center;background-color: white;position: relative;}#sk-container-id-3 div.sk-item::before, #sk-container-id-3 div.sk-parallel-item::before {content: \"\";position: absolute;border-left: 1px solid gray;box-sizing: border-box;top: 0;bottom: 0;left: 50%;z-index: -1;}#sk-container-id-3 div.sk-parallel-item {display: flex;flex-direction: column;z-index: 1;position: relative;background-color: white;}#sk-container-id-3 div.sk-parallel-item:first-child::after {align-self: flex-end;width: 50%;}#sk-container-id-3 div.sk-parallel-item:last-child::after {align-self: flex-start;width: 50%;}#sk-container-id-3 div.sk-parallel-item:only-child::after {width: 0;}#sk-container-id-3 div.sk-dashed-wrapped {border: 1px dashed gray;margin: 0 0.4em 0.5em 0.4em;box-sizing: border-box;padding-bottom: 0.4em;background-color: white;}#sk-container-id-3 div.sk-label label {font-family: monospace;font-weight: bold;display: inline-block;line-height: 1.2em;}#sk-container-id-3 div.sk-label-container {text-align: center;}#sk-container-id-3 div.sk-container {/* jupyter's `normalize.less` sets `[hidden] { display: none; }` but bootstrap.min.css set `[hidden] { display: none !important; }` so we also need the `!important` here to be able to override the default hidden behavior on the sphinx rendered scikit-learn.org. See: https://github.com/scikit-learn/scikit-learn/issues/21755 */display: inline-block !important;position: relative;}#sk-container-id-3 div.sk-text-repr-fallback {display: none;}</style><div id=\"sk-container-id-3\" class=\"sk-top-container\"><div class=\"sk-text-repr-fallback\"><pre>SVC(C=67.0, degree=6, kernel=&#x27;poly&#x27;)</pre><b>In a Jupyter environment, please rerun this cell to show the HTML representation or trust the notebook. <br />On GitHub, the HTML representation is unable to render, please try loading this page with nbviewer.org.</b></div><div class=\"sk-container\" hidden><div class=\"sk-item\"><div class=\"sk-estimator sk-toggleable\"><input class=\"sk-toggleable__control sk-hidden--visually\" id=\"sk-estimator-id-5\" type=\"checkbox\" checked><label for=\"sk-estimator-id-5\" class=\"sk-toggleable__label sk-toggleable__label-arrow\">SVC</label><div class=\"sk-toggleable__content\"><pre>SVC(C=67.0, degree=6, kernel=&#x27;poly&#x27;)</pre></div></div></div></div></div>"
      ],
      "text/plain": [
       "SVC(C=67.0, degree=6, kernel='poly')"
      ]
     },
     "execution_count": 34,
     "metadata": {},
     "output_type": "execute_result"
    }
   ],
   "source": [
    "grid.best_estimator_"
   ]
  },
  {
   "cell_type": "code",
   "execution_count": 38,
   "id": "8151481f",
   "metadata": {
    "ExecuteTime": {
     "end_time": "2023-01-20T16:17:59.035753Z",
     "start_time": "2023-01-20T16:17:47.909396Z"
    }
   },
   "outputs": [],
   "source": [
    "ypred = grid.predict(feature_vector)\n",
    "report2 = classification_report(label, ypred)"
   ]
  },
  {
   "cell_type": "code",
   "execution_count": 39,
   "id": "ba9ef197",
   "metadata": {
    "ExecuteTime": {
     "end_time": "2023-01-20T16:18:03.014701Z",
     "start_time": "2023-01-20T16:18:03.005702Z"
    }
   },
   "outputs": [
    {
     "name": "stdout",
     "output_type": "stream",
     "text": [
      "              precision    recall  f1-score   support\n",
      "\n",
      "           0       1.00      1.00      1.00      4132\n",
      "           1       1.00      1.00      1.00      4684\n",
      "           2       1.00      1.00      1.00      4177\n",
      "           3       1.00      1.00      1.00      4351\n",
      "           4       1.00      1.00      1.00      4072\n",
      "           5       1.00      1.00      1.00      3795\n",
      "           6       1.00      1.00      1.00      4137\n",
      "           7       1.00      1.00      1.00      4401\n",
      "           8       1.00      1.00      1.00      4063\n",
      "           9       1.00      1.00      1.00      4188\n",
      "\n",
      "    accuracy                           1.00     42000\n",
      "   macro avg       1.00      1.00      1.00     42000\n",
      "weighted avg       1.00      1.00      1.00     42000\n",
      "\n"
     ]
    }
   ],
   "source": [
    "print(report2)"
   ]
  },
  {
   "cell_type": "markdown",
   "id": "4a2U1dL1aOrc",
   "metadata": {
    "id": "4a2U1dL1aOrc"
   },
   "source": [
    "# Full process on train data using Pipeline "
   ]
  },
  {
   "cell_type": "code",
   "execution_count": 70,
   "id": "5167801a",
   "metadata": {
    "ExecuteTime": {
     "end_time": "2023-01-20T17:29:52.444962Z",
     "start_time": "2023-01-20T17:29:52.366417Z"
    }
   },
   "outputs": [],
   "source": [
    "new_images = train_df.drop(columns=['label']).values\n",
    "new_labels = train_df.label"
   ]
  },
  {
   "cell_type": "markdown",
   "id": "dbe03c4a",
   "metadata": {},
   "source": [
    "function taken from\n",
    "https://towardsdatascience.com/creating-custom-transformers-for-sklearn-pipelines-d3d51852ecc1"
   ]
  },
  {
   "cell_type": "code",
   "execution_count": 71,
   "id": "R7u8KY27aUXJ",
   "metadata": {
    "ExecuteTime": {
     "end_time": "2023-01-20T17:29:56.454810Z",
     "start_time": "2023-01-20T17:29:56.447293Z"
    },
    "id": "R7u8KY27aUXJ"
   },
   "outputs": [],
   "source": [
    "from sklearn.pipeline import Pipeline\n",
    "from sklearn.base import BaseEstimator, TransformerMixin\n",
    "\n",
    "# here BaseEstimator and TransformerMixin are classes\n",
    "class PreProcessor(BaseEstimator, TransformerMixin):\n",
    "    def __init__(self):\n",
    "        pass\n",
    "    \n",
    "    # don't need this in this pipeline, there is no operation needed on y, that's why it is none \n",
    "    def fit(self, X, y=None):\n",
    "        self.X = X\n",
    "        self.y = y\n",
    "        return self\n",
    "  \n",
    "    def transform(self, X, y=None):\n",
    "        transform = lambda image: feature.hog(image.reshape(28,28)/255.0)\n",
    "        feature_vector = np.array(list(map(transform, X)))\n",
    "        return feature_vector"
   ]
  },
  {
   "cell_type": "code",
   "execution_count": 72,
   "id": "BcATeYx9aOfL",
   "metadata": {
    "ExecuteTime": {
     "end_time": "2023-01-20T17:29:59.691669Z",
     "start_time": "2023-01-20T17:29:59.679670Z"
    },
    "id": "BcATeYx9aOfL"
   },
   "outputs": [],
   "source": [
    "# parameters of SVC are taken from grid.best_estimator_\n",
    "pipeline = Pipeline([\n",
    "    ('feature_extractor', PreProcessor()), \n",
    "    ('digit_recognizer', SVC(\n",
    "        C=67.0, \n",
    "        degree=7, \n",
    "        kernel='poly',\n",
    "        gamma='scale',\n",
    "        decision_function_shape='ovr'\n",
    "        )\n",
    "    )\n",
    "])"
   ]
  },
  {
   "cell_type": "code",
   "execution_count": 89,
   "id": "267e4534",
   "metadata": {
    "ExecuteTime": {
     "end_time": "2023-01-20T17:42:19.959781Z",
     "start_time": "2023-01-20T17:42:19.954774Z"
    }
   },
   "outputs": [
    {
     "data": {
      "text/plain": [
       "numpy.ndarray"
      ]
     },
     "execution_count": 89,
     "metadata": {},
     "output_type": "execute_result"
    }
   ],
   "source": [
    "type(new_images)"
   ]
  },
  {
   "cell_type": "code",
   "execution_count": 90,
   "id": "ff72e95f",
   "metadata": {
    "ExecuteTime": {
     "end_time": "2023-01-20T17:44:40.503900Z",
     "start_time": "2023-01-20T17:44:40.484365Z"
    }
   },
   "outputs": [
    {
     "data": {
      "text/plain": [
       "(42000, 784)"
      ]
     },
     "execution_count": 90,
     "metadata": {},
     "output_type": "execute_result"
    }
   ],
   "source": [
    "new_images.shape"
   ]
  },
  {
   "cell_type": "code",
   "execution_count": 91,
   "id": "e685dfc8",
   "metadata": {
    "ExecuteTime": {
     "end_time": "2023-01-20T17:44:47.229346Z",
     "start_time": "2023-01-20T17:44:47.222345Z"
    }
   },
   "outputs": [
    {
     "data": {
      "text/plain": [
       "array([[0, 0, 0, ..., 0, 0, 0],\n",
       "       [0, 0, 0, ..., 0, 0, 0],\n",
       "       [0, 0, 0, ..., 0, 0, 0],\n",
       "       ...,\n",
       "       [0, 0, 0, ..., 0, 0, 0],\n",
       "       [0, 0, 0, ..., 0, 0, 0],\n",
       "       [0, 0, 0, ..., 0, 0, 0]], dtype=int64)"
      ]
     },
     "execution_count": 91,
     "metadata": {},
     "output_type": "execute_result"
    }
   ],
   "source": [
    "new_images"
   ]
  },
  {
   "cell_type": "code",
   "execution_count": 99,
   "id": "59ef4ff4",
   "metadata": {
    "ExecuteTime": {
     "end_time": "2023-01-20T17:50:36.559592Z",
     "start_time": "2023-01-20T17:50:36.555613Z"
    }
   },
   "outputs": [
    {
     "name": "stdout",
     "output_type": "stream",
     "text": [
      "<class 'pandas.core.series.Series'>\n",
      "(42000,)\n"
     ]
    }
   ],
   "source": [
    "print(type(new_labels))\n",
    "print(new_labels.shape)"
   ]
  },
  {
   "cell_type": "code",
   "execution_count": 102,
   "id": "b4554976",
   "metadata": {
    "ExecuteTime": {
     "end_time": "2023-01-20T17:53:13.679715Z",
     "start_time": "2023-01-20T17:53:13.660631Z"
    }
   },
   "outputs": [
    {
     "data": {
      "text/plain": [
       "0    1\n",
       "1    0\n",
       "2    1\n",
       "3    4\n",
       "4    0\n",
       "Name: label, dtype: int64"
      ]
     },
     "execution_count": 102,
     "metadata": {},
     "output_type": "execute_result"
    }
   ],
   "source": [
    "new_labels.head()"
   ]
  },
  {
   "cell_type": "code",
   "execution_count": 73,
   "id": "Olw__VVoaHyj",
   "metadata": {
    "ExecuteTime": {
     "end_time": "2023-01-20T17:30:26.421231Z",
     "start_time": "2023-01-20T17:30:00.467123Z"
    },
    "colab": {
     "base_uri": "https://localhost:8080/"
    },
    "id": "Olw__VVoaHyj",
    "outputId": "fe961bbf-375f-4106-9228-e2fd8cd72848"
   },
   "outputs": [
    {
     "data": {
      "text/html": [
       "<style>#sk-container-id-5 {color: black;background-color: white;}#sk-container-id-5 pre{padding: 0;}#sk-container-id-5 div.sk-toggleable {background-color: white;}#sk-container-id-5 label.sk-toggleable__label {cursor: pointer;display: block;width: 100%;margin-bottom: 0;padding: 0.3em;box-sizing: border-box;text-align: center;}#sk-container-id-5 label.sk-toggleable__label-arrow:before {content: \"▸\";float: left;margin-right: 0.25em;color: #696969;}#sk-container-id-5 label.sk-toggleable__label-arrow:hover:before {color: black;}#sk-container-id-5 div.sk-estimator:hover label.sk-toggleable__label-arrow:before {color: black;}#sk-container-id-5 div.sk-toggleable__content {max-height: 0;max-width: 0;overflow: hidden;text-align: left;background-color: #f0f8ff;}#sk-container-id-5 div.sk-toggleable__content pre {margin: 0.2em;color: black;border-radius: 0.25em;background-color: #f0f8ff;}#sk-container-id-5 input.sk-toggleable__control:checked~div.sk-toggleable__content {max-height: 200px;max-width: 100%;overflow: auto;}#sk-container-id-5 input.sk-toggleable__control:checked~label.sk-toggleable__label-arrow:before {content: \"▾\";}#sk-container-id-5 div.sk-estimator input.sk-toggleable__control:checked~label.sk-toggleable__label {background-color: #d4ebff;}#sk-container-id-5 div.sk-label input.sk-toggleable__control:checked~label.sk-toggleable__label {background-color: #d4ebff;}#sk-container-id-5 input.sk-hidden--visually {border: 0;clip: rect(1px 1px 1px 1px);clip: rect(1px, 1px, 1px, 1px);height: 1px;margin: -1px;overflow: hidden;padding: 0;position: absolute;width: 1px;}#sk-container-id-5 div.sk-estimator {font-family: monospace;background-color: #f0f8ff;border: 1px dotted black;border-radius: 0.25em;box-sizing: border-box;margin-bottom: 0.5em;}#sk-container-id-5 div.sk-estimator:hover {background-color: #d4ebff;}#sk-container-id-5 div.sk-parallel-item::after {content: \"\";width: 100%;border-bottom: 1px solid gray;flex-grow: 1;}#sk-container-id-5 div.sk-label:hover label.sk-toggleable__label {background-color: #d4ebff;}#sk-container-id-5 div.sk-serial::before {content: \"\";position: absolute;border-left: 1px solid gray;box-sizing: border-box;top: 0;bottom: 0;left: 50%;z-index: 0;}#sk-container-id-5 div.sk-serial {display: flex;flex-direction: column;align-items: center;background-color: white;padding-right: 0.2em;padding-left: 0.2em;position: relative;}#sk-container-id-5 div.sk-item {position: relative;z-index: 1;}#sk-container-id-5 div.sk-parallel {display: flex;align-items: stretch;justify-content: center;background-color: white;position: relative;}#sk-container-id-5 div.sk-item::before, #sk-container-id-5 div.sk-parallel-item::before {content: \"\";position: absolute;border-left: 1px solid gray;box-sizing: border-box;top: 0;bottom: 0;left: 50%;z-index: -1;}#sk-container-id-5 div.sk-parallel-item {display: flex;flex-direction: column;z-index: 1;position: relative;background-color: white;}#sk-container-id-5 div.sk-parallel-item:first-child::after {align-self: flex-end;width: 50%;}#sk-container-id-5 div.sk-parallel-item:last-child::after {align-self: flex-start;width: 50%;}#sk-container-id-5 div.sk-parallel-item:only-child::after {width: 0;}#sk-container-id-5 div.sk-dashed-wrapped {border: 1px dashed gray;margin: 0 0.4em 0.5em 0.4em;box-sizing: border-box;padding-bottom: 0.4em;background-color: white;}#sk-container-id-5 div.sk-label label {font-family: monospace;font-weight: bold;display: inline-block;line-height: 1.2em;}#sk-container-id-5 div.sk-label-container {text-align: center;}#sk-container-id-5 div.sk-container {/* jupyter's `normalize.less` sets `[hidden] { display: none; }` but bootstrap.min.css set `[hidden] { display: none !important; }` so we also need the `!important` here to be able to override the default hidden behavior on the sphinx rendered scikit-learn.org. See: https://github.com/scikit-learn/scikit-learn/issues/21755 */display: inline-block !important;position: relative;}#sk-container-id-5 div.sk-text-repr-fallback {display: none;}</style><div id=\"sk-container-id-5\" class=\"sk-top-container\"><div class=\"sk-text-repr-fallback\"><pre>Pipeline(steps=[(&#x27;feature_extractor&#x27;, PreProcessor()),\n",
       "                (&#x27;digit_recognizer&#x27;, SVC(C=67.0, degree=7, kernel=&#x27;poly&#x27;))])</pre><b>In a Jupyter environment, please rerun this cell to show the HTML representation or trust the notebook. <br />On GitHub, the HTML representation is unable to render, please try loading this page with nbviewer.org.</b></div><div class=\"sk-container\" hidden><div class=\"sk-item sk-dashed-wrapped\"><div class=\"sk-label-container\"><div class=\"sk-label sk-toggleable\"><input class=\"sk-toggleable__control sk-hidden--visually\" id=\"sk-estimator-id-9\" type=\"checkbox\" ><label for=\"sk-estimator-id-9\" class=\"sk-toggleable__label sk-toggleable__label-arrow\">Pipeline</label><div class=\"sk-toggleable__content\"><pre>Pipeline(steps=[(&#x27;feature_extractor&#x27;, PreProcessor()),\n",
       "                (&#x27;digit_recognizer&#x27;, SVC(C=67.0, degree=7, kernel=&#x27;poly&#x27;))])</pre></div></div></div><div class=\"sk-serial\"><div class=\"sk-item\"><div class=\"sk-estimator sk-toggleable\"><input class=\"sk-toggleable__control sk-hidden--visually\" id=\"sk-estimator-id-10\" type=\"checkbox\" ><label for=\"sk-estimator-id-10\" class=\"sk-toggleable__label sk-toggleable__label-arrow\">PreProcessor</label><div class=\"sk-toggleable__content\"><pre>PreProcessor()</pre></div></div></div><div class=\"sk-item\"><div class=\"sk-estimator sk-toggleable\"><input class=\"sk-toggleable__control sk-hidden--visually\" id=\"sk-estimator-id-11\" type=\"checkbox\" ><label for=\"sk-estimator-id-11\" class=\"sk-toggleable__label sk-toggleable__label-arrow\">SVC</label><div class=\"sk-toggleable__content\"><pre>SVC(C=67.0, degree=7, kernel=&#x27;poly&#x27;)</pre></div></div></div></div></div></div></div>"
      ],
      "text/plain": [
       "Pipeline(steps=[('feature_extractor', PreProcessor()),\n",
       "                ('digit_recognizer', SVC(C=67.0, degree=7, kernel='poly'))])"
      ]
     },
     "execution_count": 73,
     "metadata": {},
     "output_type": "execute_result"
    }
   ],
   "source": [
    "pipeline.fit(new_images, new_labels)"
   ]
  },
  {
   "cell_type": "code",
   "execution_count": 74,
   "id": "b77G0VpcfMUA",
   "metadata": {
    "ExecuteTime": {
     "end_time": "2023-01-20T17:30:45.007343Z",
     "start_time": "2023-01-20T17:30:28.496680Z"
    },
    "id": "b77G0VpcfMUA"
   },
   "outputs": [],
   "source": [
    "ypred = pipeline.predict(new_images)\n",
    "report3 = classification_report(new_labels, ypred)"
   ]
  },
  {
   "cell_type": "code",
   "execution_count": 75,
   "id": "n9fZk7PifSOv",
   "metadata": {
    "ExecuteTime": {
     "end_time": "2023-01-20T17:30:46.688954Z",
     "start_time": "2023-01-20T17:30:46.683961Z"
    },
    "colab": {
     "base_uri": "https://localhost:8080/"
    },
    "id": "n9fZk7PifSOv",
    "outputId": "fdd26563-4792-402b-e758-5b63da16c58e"
   },
   "outputs": [
    {
     "name": "stdout",
     "output_type": "stream",
     "text": [
      "              precision    recall  f1-score   support\n",
      "\n",
      "           0       1.00      1.00      1.00      4132\n",
      "           1       1.00      1.00      1.00      4684\n",
      "           2       1.00      1.00      1.00      4177\n",
      "           3       1.00      1.00      1.00      4351\n",
      "           4       1.00      1.00      1.00      4072\n",
      "           5       1.00      1.00      1.00      3795\n",
      "           6       1.00      1.00      1.00      4137\n",
      "           7       1.00      1.00      1.00      4401\n",
      "           8       1.00      1.00      1.00      4063\n",
      "           9       1.00      1.00      1.00      4188\n",
      "\n",
      "    accuracy                           1.00     42000\n",
      "   macro avg       1.00      1.00      1.00     42000\n",
      "weighted avg       1.00      1.00      1.00     42000\n",
      "\n"
     ]
    }
   ],
   "source": [
    "print(report3)"
   ]
  },
  {
   "cell_type": "markdown",
   "id": "95541174",
   "metadata": {},
   "source": [
    "# prediction on test data using Pipeline"
   ]
  },
  {
   "cell_type": "code",
   "execution_count": 78,
   "id": "c6a6bf3b",
   "metadata": {
    "ExecuteTime": {
     "end_time": "2023-01-20T17:34:09.226349Z",
     "start_time": "2023-01-20T17:34:08.513136Z"
    }
   },
   "outputs": [
    {
     "data": {
      "text/plain": [
       "(28000, 784)"
      ]
     },
     "execution_count": 78,
     "metadata": {},
     "output_type": "execute_result"
    }
   ],
   "source": [
    "test_data = pd.read_csv('Datasets/digit_test.csv')\n",
    "test_data.shape"
   ]
  },
  {
   "cell_type": "code",
   "execution_count": 80,
   "id": "86c8d847",
   "metadata": {
    "ExecuteTime": {
     "end_time": "2023-01-20T17:34:29.428288Z",
     "start_time": "2023-01-20T17:34:29.374799Z"
    }
   },
   "outputs": [
    {
     "name": "stdout",
     "output_type": "stream",
     "text": [
      "<class 'pandas.core.frame.DataFrame'>\n",
      "RangeIndex: 28000 entries, 0 to 27999\n",
      "Columns: 784 entries, pixel0 to pixel783\n",
      "dtypes: int64(784)\n",
      "memory usage: 167.5 MB\n"
     ]
    }
   ],
   "source": [
    "test_data.info()"
   ]
  },
  {
   "cell_type": "code",
   "execution_count": 82,
   "id": "80dbf508",
   "metadata": {
    "ExecuteTime": {
     "end_time": "2023-01-20T17:35:08.176507Z",
     "start_time": "2023-01-20T17:35:08.160530Z"
    }
   },
   "outputs": [
    {
     "data": {
      "text/html": [
       "<div>\n",
       "<style scoped>\n",
       "    .dataframe tbody tr th:only-of-type {\n",
       "        vertical-align: middle;\n",
       "    }\n",
       "\n",
       "    .dataframe tbody tr th {\n",
       "        vertical-align: top;\n",
       "    }\n",
       "\n",
       "    .dataframe thead th {\n",
       "        text-align: right;\n",
       "    }\n",
       "</style>\n",
       "<table border=\"1\" class=\"dataframe\">\n",
       "  <thead>\n",
       "    <tr style=\"text-align: right;\">\n",
       "      <th></th>\n",
       "      <th>pixel0</th>\n",
       "      <th>pixel1</th>\n",
       "      <th>pixel2</th>\n",
       "      <th>pixel3</th>\n",
       "      <th>pixel4</th>\n",
       "      <th>pixel5</th>\n",
       "      <th>pixel6</th>\n",
       "      <th>pixel7</th>\n",
       "      <th>pixel8</th>\n",
       "      <th>pixel9</th>\n",
       "      <th>...</th>\n",
       "      <th>pixel774</th>\n",
       "      <th>pixel775</th>\n",
       "      <th>pixel776</th>\n",
       "      <th>pixel777</th>\n",
       "      <th>pixel778</th>\n",
       "      <th>pixel779</th>\n",
       "      <th>pixel780</th>\n",
       "      <th>pixel781</th>\n",
       "      <th>pixel782</th>\n",
       "      <th>pixel783</th>\n",
       "    </tr>\n",
       "  </thead>\n",
       "  <tbody>\n",
       "    <tr>\n",
       "      <th>0</th>\n",
       "      <td>0</td>\n",
       "      <td>0</td>\n",
       "      <td>0</td>\n",
       "      <td>0</td>\n",
       "      <td>0</td>\n",
       "      <td>0</td>\n",
       "      <td>0</td>\n",
       "      <td>0</td>\n",
       "      <td>0</td>\n",
       "      <td>0</td>\n",
       "      <td>...</td>\n",
       "      <td>0</td>\n",
       "      <td>0</td>\n",
       "      <td>0</td>\n",
       "      <td>0</td>\n",
       "      <td>0</td>\n",
       "      <td>0</td>\n",
       "      <td>0</td>\n",
       "      <td>0</td>\n",
       "      <td>0</td>\n",
       "      <td>0</td>\n",
       "    </tr>\n",
       "    <tr>\n",
       "      <th>1</th>\n",
       "      <td>0</td>\n",
       "      <td>0</td>\n",
       "      <td>0</td>\n",
       "      <td>0</td>\n",
       "      <td>0</td>\n",
       "      <td>0</td>\n",
       "      <td>0</td>\n",
       "      <td>0</td>\n",
       "      <td>0</td>\n",
       "      <td>0</td>\n",
       "      <td>...</td>\n",
       "      <td>0</td>\n",
       "      <td>0</td>\n",
       "      <td>0</td>\n",
       "      <td>0</td>\n",
       "      <td>0</td>\n",
       "      <td>0</td>\n",
       "      <td>0</td>\n",
       "      <td>0</td>\n",
       "      <td>0</td>\n",
       "      <td>0</td>\n",
       "    </tr>\n",
       "    <tr>\n",
       "      <th>2</th>\n",
       "      <td>0</td>\n",
       "      <td>0</td>\n",
       "      <td>0</td>\n",
       "      <td>0</td>\n",
       "      <td>0</td>\n",
       "      <td>0</td>\n",
       "      <td>0</td>\n",
       "      <td>0</td>\n",
       "      <td>0</td>\n",
       "      <td>0</td>\n",
       "      <td>...</td>\n",
       "      <td>0</td>\n",
       "      <td>0</td>\n",
       "      <td>0</td>\n",
       "      <td>0</td>\n",
       "      <td>0</td>\n",
       "      <td>0</td>\n",
       "      <td>0</td>\n",
       "      <td>0</td>\n",
       "      <td>0</td>\n",
       "      <td>0</td>\n",
       "    </tr>\n",
       "    <tr>\n",
       "      <th>3</th>\n",
       "      <td>0</td>\n",
       "      <td>0</td>\n",
       "      <td>0</td>\n",
       "      <td>0</td>\n",
       "      <td>0</td>\n",
       "      <td>0</td>\n",
       "      <td>0</td>\n",
       "      <td>0</td>\n",
       "      <td>0</td>\n",
       "      <td>0</td>\n",
       "      <td>...</td>\n",
       "      <td>0</td>\n",
       "      <td>0</td>\n",
       "      <td>0</td>\n",
       "      <td>0</td>\n",
       "      <td>0</td>\n",
       "      <td>0</td>\n",
       "      <td>0</td>\n",
       "      <td>0</td>\n",
       "      <td>0</td>\n",
       "      <td>0</td>\n",
       "    </tr>\n",
       "    <tr>\n",
       "      <th>4</th>\n",
       "      <td>0</td>\n",
       "      <td>0</td>\n",
       "      <td>0</td>\n",
       "      <td>0</td>\n",
       "      <td>0</td>\n",
       "      <td>0</td>\n",
       "      <td>0</td>\n",
       "      <td>0</td>\n",
       "      <td>0</td>\n",
       "      <td>0</td>\n",
       "      <td>...</td>\n",
       "      <td>0</td>\n",
       "      <td>0</td>\n",
       "      <td>0</td>\n",
       "      <td>0</td>\n",
       "      <td>0</td>\n",
       "      <td>0</td>\n",
       "      <td>0</td>\n",
       "      <td>0</td>\n",
       "      <td>0</td>\n",
       "      <td>0</td>\n",
       "    </tr>\n",
       "  </tbody>\n",
       "</table>\n",
       "<p>5 rows × 784 columns</p>\n",
       "</div>"
      ],
      "text/plain": [
       "   pixel0  pixel1  pixel2  pixel3  pixel4  pixel5  pixel6  pixel7  pixel8  \\\n",
       "0       0       0       0       0       0       0       0       0       0   \n",
       "1       0       0       0       0       0       0       0       0       0   \n",
       "2       0       0       0       0       0       0       0       0       0   \n",
       "3       0       0       0       0       0       0       0       0       0   \n",
       "4       0       0       0       0       0       0       0       0       0   \n",
       "\n",
       "   pixel9  ...  pixel774  pixel775  pixel776  pixel777  pixel778  pixel779  \\\n",
       "0       0  ...         0         0         0         0         0         0   \n",
       "1       0  ...         0         0         0         0         0         0   \n",
       "2       0  ...         0         0         0         0         0         0   \n",
       "3       0  ...         0         0         0         0         0         0   \n",
       "4       0  ...         0         0         0         0         0         0   \n",
       "\n",
       "   pixel780  pixel781  pixel782  pixel783  \n",
       "0         0         0         0         0  \n",
       "1         0         0         0         0  \n",
       "2         0         0         0         0  \n",
       "3         0         0         0         0  \n",
       "4         0         0         0         0  \n",
       "\n",
       "[5 rows x 784 columns]"
      ]
     },
     "execution_count": 82,
     "metadata": {},
     "output_type": "execute_result"
    }
   ],
   "source": [
    "test_data.head()"
   ]
  },
  {
   "cell_type": "code",
   "execution_count": 85,
   "id": "1c332085",
   "metadata": {
    "ExecuteTime": {
     "end_time": "2023-01-20T17:36:09.854034Z",
     "start_time": "2023-01-20T17:36:09.814636Z"
    }
   },
   "outputs": [
    {
     "data": {
      "text/plain": [
       "pixel0      0\n",
       "pixel1      0\n",
       "pixel2      0\n",
       "pixel3      0\n",
       "pixel4      0\n",
       "           ..\n",
       "pixel779    0\n",
       "pixel780    0\n",
       "pixel781    0\n",
       "pixel782    0\n",
       "pixel783    0\n",
       "Length: 784, dtype: int64"
      ]
     },
     "execution_count": 85,
     "metadata": {},
     "output_type": "execute_result"
    }
   ],
   "source": [
    "test_data.isnull().sum()"
   ]
  },
  {
   "cell_type": "code",
   "execution_count": 92,
   "id": "2f82cdb0",
   "metadata": {
    "ExecuteTime": {
     "end_time": "2023-01-20T17:45:11.554383Z",
     "start_time": "2023-01-20T17:45:11.539398Z"
    }
   },
   "outputs": [
    {
     "data": {
      "text/plain": [
       "array([[0, 0, 0, ..., 0, 0, 0],\n",
       "       [0, 0, 0, ..., 0, 0, 0],\n",
       "       [0, 0, 0, ..., 0, 0, 0],\n",
       "       ...,\n",
       "       [0, 0, 0, ..., 0, 0, 0],\n",
       "       [0, 0, 0, ..., 0, 0, 0],\n",
       "       [0, 0, 0, ..., 0, 0, 0]], dtype=int64)"
      ]
     },
     "execution_count": 92,
     "metadata": {},
     "output_type": "execute_result"
    }
   ],
   "source": [
    "test_images = test_data.values\n",
    "test_images"
   ]
  },
  {
   "cell_type": "code",
   "execution_count": 93,
   "id": "ecd468f5",
   "metadata": {
    "ExecuteTime": {
     "end_time": "2023-01-20T17:45:28.241235Z",
     "start_time": "2023-01-20T17:45:28.235236Z"
    }
   },
   "outputs": [
    {
     "data": {
      "text/plain": [
       "(28000, 784)"
      ]
     },
     "execution_count": 93,
     "metadata": {},
     "output_type": "execute_result"
    }
   ],
   "source": [
    "test_images.shape"
   ]
  },
  {
   "cell_type": "code",
   "execution_count": 124,
   "id": "9c67b99d",
   "metadata": {
    "ExecuteTime": {
     "end_time": "2023-01-20T18:19:18.416766Z",
     "start_time": "2023-01-20T18:19:07.674764Z"
    }
   },
   "outputs": [
    {
     "data": {
      "text/plain": [
       "array([2, 0, 9, ..., 3, 9, 2], dtype=int64)"
      ]
     },
     "execution_count": 124,
     "metadata": {},
     "output_type": "execute_result"
    }
   ],
   "source": [
    "test_ypred = pipeline.predict(test_images)\n",
    "test_ypred"
   ]
  },
  {
   "cell_type": "code",
   "execution_count": 125,
   "id": "7e15ad7b",
   "metadata": {
    "ExecuteTime": {
     "end_time": "2023-01-20T18:19:50.114358Z",
     "start_time": "2023-01-20T18:19:50.106349Z"
    }
   },
   "outputs": [
    {
     "data": {
      "text/plain": [
       "(28000,)"
      ]
     },
     "execution_count": 125,
     "metadata": {},
     "output_type": "execute_result"
    }
   ],
   "source": [
    "test_ypred.shape"
   ]
  },
  {
   "cell_type": "markdown",
   "id": "95bb3203",
   "metadata": {},
   "source": [
    "# kaggle submission"
   ]
  },
  {
   "cell_type": "code",
   "execution_count": 137,
   "id": "c332ad8f",
   "metadata": {
    "ExecuteTime": {
     "end_time": "2023-01-20T18:39:14.469559Z",
     "start_time": "2023-01-20T18:39:14.449575Z"
    }
   },
   "outputs": [
    {
     "data": {
      "text/html": [
       "<div>\n",
       "<style scoped>\n",
       "    .dataframe tbody tr th:only-of-type {\n",
       "        vertical-align: middle;\n",
       "    }\n",
       "\n",
       "    .dataframe tbody tr th {\n",
       "        vertical-align: top;\n",
       "    }\n",
       "\n",
       "    .dataframe thead th {\n",
       "        text-align: right;\n",
       "    }\n",
       "</style>\n",
       "<table border=\"1\" class=\"dataframe\">\n",
       "  <thead>\n",
       "    <tr style=\"text-align: right;\">\n",
       "      <th></th>\n",
       "      <th>ImageId</th>\n",
       "    </tr>\n",
       "  </thead>\n",
       "  <tbody>\n",
       "    <tr>\n",
       "      <th>1</th>\n",
       "      <td>1</td>\n",
       "    </tr>\n",
       "    <tr>\n",
       "      <th>2</th>\n",
       "      <td>2</td>\n",
       "    </tr>\n",
       "    <tr>\n",
       "      <th>3</th>\n",
       "      <td>3</td>\n",
       "    </tr>\n",
       "    <tr>\n",
       "      <th>4</th>\n",
       "      <td>4</td>\n",
       "    </tr>\n",
       "    <tr>\n",
       "      <th>5</th>\n",
       "      <td>5</td>\n",
       "    </tr>\n",
       "    <tr>\n",
       "      <th>...</th>\n",
       "      <td>...</td>\n",
       "    </tr>\n",
       "    <tr>\n",
       "      <th>27996</th>\n",
       "      <td>27996</td>\n",
       "    </tr>\n",
       "    <tr>\n",
       "      <th>27997</th>\n",
       "      <td>27997</td>\n",
       "    </tr>\n",
       "    <tr>\n",
       "      <th>27998</th>\n",
       "      <td>27998</td>\n",
       "    </tr>\n",
       "    <tr>\n",
       "      <th>27999</th>\n",
       "      <td>27999</td>\n",
       "    </tr>\n",
       "    <tr>\n",
       "      <th>28000</th>\n",
       "      <td>28000</td>\n",
       "    </tr>\n",
       "  </tbody>\n",
       "</table>\n",
       "<p>28000 rows × 1 columns</p>\n",
       "</div>"
      ],
      "text/plain": [
       "       ImageId\n",
       "1            1\n",
       "2            2\n",
       "3            3\n",
       "4            4\n",
       "5            5\n",
       "...        ...\n",
       "27996    27996\n",
       "27997    27997\n",
       "27998    27998\n",
       "27999    27999\n",
       "28000    28000\n",
       "\n",
       "[28000 rows x 1 columns]"
      ]
     },
     "execution_count": 137,
     "metadata": {},
     "output_type": "execute_result"
    }
   ],
   "source": [
    "ImageId_df = pd.DataFrame(np.zeros((28000)), columns=['col'])\n",
    "ImageId_df.index = ImageId_df.index + 1\n",
    "ImageId_df['ImageId'] = ImageId_df.index\n",
    "ImageId_df.drop(columns='col',inplace=True)\n",
    "ImageId_df"
   ]
  },
  {
   "cell_type": "code",
   "execution_count": 141,
   "id": "0905ee56",
   "metadata": {
    "ExecuteTime": {
     "end_time": "2023-01-20T18:43:13.428629Z",
     "start_time": "2023-01-20T18:43:13.417628Z"
    }
   },
   "outputs": [
    {
     "data": {
      "text/html": [
       "<div>\n",
       "<style scoped>\n",
       "    .dataframe tbody tr th:only-of-type {\n",
       "        vertical-align: middle;\n",
       "    }\n",
       "\n",
       "    .dataframe tbody tr th {\n",
       "        vertical-align: top;\n",
       "    }\n",
       "\n",
       "    .dataframe thead th {\n",
       "        text-align: right;\n",
       "    }\n",
       "</style>\n",
       "<table border=\"1\" class=\"dataframe\">\n",
       "  <thead>\n",
       "    <tr style=\"text-align: right;\">\n",
       "      <th></th>\n",
       "      <th>Label</th>\n",
       "    </tr>\n",
       "  </thead>\n",
       "  <tbody>\n",
       "    <tr>\n",
       "      <th>1</th>\n",
       "      <td>2</td>\n",
       "    </tr>\n",
       "    <tr>\n",
       "      <th>2</th>\n",
       "      <td>0</td>\n",
       "    </tr>\n",
       "    <tr>\n",
       "      <th>3</th>\n",
       "      <td>9</td>\n",
       "    </tr>\n",
       "    <tr>\n",
       "      <th>4</th>\n",
       "      <td>0</td>\n",
       "    </tr>\n",
       "    <tr>\n",
       "      <th>5</th>\n",
       "      <td>3</td>\n",
       "    </tr>\n",
       "    <tr>\n",
       "      <th>...</th>\n",
       "      <td>...</td>\n",
       "    </tr>\n",
       "    <tr>\n",
       "      <th>27996</th>\n",
       "      <td>9</td>\n",
       "    </tr>\n",
       "    <tr>\n",
       "      <th>27997</th>\n",
       "      <td>7</td>\n",
       "    </tr>\n",
       "    <tr>\n",
       "      <th>27998</th>\n",
       "      <td>3</td>\n",
       "    </tr>\n",
       "    <tr>\n",
       "      <th>27999</th>\n",
       "      <td>9</td>\n",
       "    </tr>\n",
       "    <tr>\n",
       "      <th>28000</th>\n",
       "      <td>2</td>\n",
       "    </tr>\n",
       "  </tbody>\n",
       "</table>\n",
       "<p>28000 rows × 1 columns</p>\n",
       "</div>"
      ],
      "text/plain": [
       "       Label\n",
       "1          2\n",
       "2          0\n",
       "3          9\n",
       "4          0\n",
       "5          3\n",
       "...      ...\n",
       "27996      9\n",
       "27997      7\n",
       "27998      3\n",
       "27999      9\n",
       "28000      2\n",
       "\n",
       "[28000 rows x 1 columns]"
      ]
     },
     "execution_count": 141,
     "metadata": {},
     "output_type": "execute_result"
    }
   ],
   "source": [
    "pred_df = pd.DataFrame(test_ypred, columns=['Label'])\n",
    "pred_df.index = pred_df.index + 1\n",
    "pred_df"
   ]
  },
  {
   "cell_type": "code",
   "execution_count": 143,
   "id": "2e960025",
   "metadata": {
    "ExecuteTime": {
     "end_time": "2023-01-20T18:44:24.913607Z",
     "start_time": "2023-01-20T18:44:24.870368Z"
    }
   },
   "outputs": [],
   "source": [
    "# Create Sample Submission file \n",
    "submission_df = pd.concat([ImageId_df, pred_df], axis=1)\n",
    "submission_df.to_csv('KaggleSubmissions/digitsubmission.csv', index=False)"
   ]
  }
 ],
 "metadata": {
  "colab": {
   "provenance": []
  },
  "kernelspec": {
   "display_name": "Python 3 (ipykernel)",
   "language": "python",
   "name": "python3"
  },
  "language_info": {
   "codemirror_mode": {
    "name": "ipython",
    "version": 3
   },
   "file_extension": ".py",
   "mimetype": "text/x-python",
   "name": "python",
   "nbconvert_exporter": "python",
   "pygments_lexer": "ipython3",
   "version": "3.10.6"
  },
  "toc": {
   "base_numbering": 1,
   "nav_menu": {},
   "number_sections": true,
   "sideBar": true,
   "skip_h1_title": false,
   "title_cell": "Table of Contents",
   "title_sidebar": "Contents",
   "toc_cell": true,
   "toc_position": {
    "height": "calc(100% - 180px)",
    "left": "10px",
    "top": "150px",
    "width": "279.398px"
   },
   "toc_section_display": true,
   "toc_window_display": false
  }
 },
 "nbformat": 4,
 "nbformat_minor": 5
}
