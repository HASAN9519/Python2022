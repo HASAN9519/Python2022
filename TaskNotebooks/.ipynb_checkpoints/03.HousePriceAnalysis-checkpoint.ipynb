{
 "cells": [
  {
   "cell_type": "markdown",
   "id": "5a85f63a",
   "metadata": {
    "toc": true
   },
   "source": [
    "<h1>Table of Contents<span class=\"tocSkip\"></span></h1>\n",
    "<div class=\"toc\"><ul class=\"toc-item\"><li><span><a href=\"#Loading-Librarys\" data-toc-modified-id=\"Loading-Librarys-1\"><span class=\"toc-item-num\">1&nbsp;&nbsp;</span>Loading Librarys</a></span></li><li><span><a href=\"#Loading-Data\" data-toc-modified-id=\"Loading-Data-2\"><span class=\"toc-item-num\">2&nbsp;&nbsp;</span>Loading Data</a></span></li><li><span><a href=\"#Feature-Engineering\" data-toc-modified-id=\"Feature-Engineering-3\"><span class=\"toc-item-num\">3&nbsp;&nbsp;</span>Feature Engineering</a></span><ul class=\"toc-item\"><li><span><a href=\"#Removing-missing-value\" data-toc-modified-id=\"Removing-missing-value-3.1\"><span class=\"toc-item-num\">3.1&nbsp;&nbsp;</span>Removing missing value</a></span></li><li><span><a href=\"#train-test-split\" data-toc-modified-id=\"train-test-split-3.2\"><span class=\"toc-item-num\">3.2&nbsp;&nbsp;</span>train test split</a></span></li></ul></li><li><span><a href=\"#Feature-Selection-Techniques\" data-toc-modified-id=\"Feature-Selection-Techniques-4\"><span class=\"toc-item-num\">4&nbsp;&nbsp;</span>Feature Selection Techniques</a></span><ul class=\"toc-item\"><li><span><a href=\"#Recursive-Feature-Elimination-(RFE)\" data-toc-modified-id=\"Recursive-Feature-Elimination-(RFE)-4.1\"><span class=\"toc-item-num\">4.1&nbsp;&nbsp;</span>Recursive Feature Elimination (RFE)</a></span></li><li><span><a href=\"#Mutual-Info-Regression\" data-toc-modified-id=\"Mutual-Info-Regression-4.2\"><span class=\"toc-item-num\">4.2&nbsp;&nbsp;</span>Mutual Info Regression</a></span></li></ul></li><li><span><a href=\"#Data-Preprocessing\" data-toc-modified-id=\"Data-Preprocessing-5\"><span class=\"toc-item-num\">5&nbsp;&nbsp;</span>Data Preprocessing</a></span><ul class=\"toc-item\"><li><span><a href=\"#Data-Standardization-on-train-set-and-test-set\" data-toc-modified-id=\"Data-Standardization-on-train-set-and-test-set-5.1\"><span class=\"toc-item-num\">5.1&nbsp;&nbsp;</span>Data Standardization on train set and test set</a></span></li><li><span><a href=\"#Outlier-Detection-and-Removal-(optional)\" data-toc-modified-id=\"Outlier-Detection-and-Removal-(optional)-5.2\"><span class=\"toc-item-num\">5.2&nbsp;&nbsp;</span>Outlier Detection and Removal (optional)</a></span></li></ul></li><li><span><a href=\"#Building-Model\" data-toc-modified-id=\"Building-Model-6\"><span class=\"toc-item-num\">6&nbsp;&nbsp;</span>Building Model</a></span><ul class=\"toc-item\"><li><span><a href=\"#Multiple-Linear-Regression-Model\" data-toc-modified-id=\"Multiple-Linear-Regression-Model-6.1\"><span class=\"toc-item-num\">6.1&nbsp;&nbsp;</span>Multiple Linear Regression Model</a></span></li><li><span><a href=\"#K-Nearest-Neighbor(KNN)-Model\" data-toc-modified-id=\"K-Nearest-Neighbor(KNN)-Model-6.2\"><span class=\"toc-item-num\">6.2&nbsp;&nbsp;</span>K-Nearest Neighbor(KNN) Model</a></span></li></ul></li><li><span><a href=\"#Model-Evaluation-on-train-and-test-dataset\" data-toc-modified-id=\"Model-Evaluation-on-train-and-test-dataset-7\"><span class=\"toc-item-num\">7&nbsp;&nbsp;</span>Model Evaluation on train and test dataset</a></span></li><li><span><a href=\"#Model-with-Crossvalidation\" data-toc-modified-id=\"Model-with-Crossvalidation-8\"><span class=\"toc-item-num\">8&nbsp;&nbsp;</span>Model with Crossvalidation</a></span></li><li><span><a href=\"#Model-validation-on-Unknown-data\" data-toc-modified-id=\"Model-validation-on-Unknown-data-9\"><span class=\"toc-item-num\">9&nbsp;&nbsp;</span>Model validation on Unknown data</a></span></li></ul></div>"
   ]
  },
  {
   "cell_type": "markdown",
   "id": "ce5faa7d",
   "metadata": {},
   "source": [
    "## Loading Librarys"
   ]
  },
  {
   "cell_type": "code",
   "execution_count": 1,
   "id": "50dc99b9",
   "metadata": {
    "ExecuteTime": {
     "end_time": "2022-12-13T14:08:55.405294Z",
     "start_time": "2022-12-13T14:08:53.621231Z"
    }
   },
   "outputs": [],
   "source": [
    "import numpy as np\n",
    "import matplotlib.pyplot as plt\n",
    "import pandas as pd\n",
    "import seaborn as sns\n",
    "%matplotlib inline"
   ]
  },
  {
   "cell_type": "markdown",
   "id": "c51e832e",
   "metadata": {},
   "source": [
    "## Loading Data"
   ]
  },
  {
   "cell_type": "code",
   "execution_count": 2,
   "id": "9761b52c",
   "metadata": {
    "ExecuteTime": {
     "end_time": "2022-12-13T14:08:56.893770Z",
     "start_time": "2022-12-13T14:08:56.855770Z"
    }
   },
   "outputs": [
    {
     "data": {
      "text/html": [
       "<div>\n",
       "<style scoped>\n",
       "    .dataframe tbody tr th:only-of-type {\n",
       "        vertical-align: middle;\n",
       "    }\n",
       "\n",
       "    .dataframe tbody tr th {\n",
       "        vertical-align: top;\n",
       "    }\n",
       "\n",
       "    .dataframe thead th {\n",
       "        text-align: right;\n",
       "    }\n",
       "</style>\n",
       "<table border=\"1\" class=\"dataframe\">\n",
       "  <thead>\n",
       "    <tr style=\"text-align: right;\">\n",
       "      <th></th>\n",
       "      <th>Id</th>\n",
       "      <th>MSSubClass</th>\n",
       "      <th>MSZoning</th>\n",
       "      <th>LotFrontage</th>\n",
       "      <th>LotArea</th>\n",
       "      <th>Street</th>\n",
       "      <th>Alley</th>\n",
       "      <th>LotShape</th>\n",
       "      <th>LandContour</th>\n",
       "      <th>Utilities</th>\n",
       "      <th>...</th>\n",
       "      <th>PoolArea</th>\n",
       "      <th>PoolQC</th>\n",
       "      <th>Fence</th>\n",
       "      <th>MiscFeature</th>\n",
       "      <th>MiscVal</th>\n",
       "      <th>MoSold</th>\n",
       "      <th>YrSold</th>\n",
       "      <th>SaleType</th>\n",
       "      <th>SaleCondition</th>\n",
       "      <th>SalePrice</th>\n",
       "    </tr>\n",
       "  </thead>\n",
       "  <tbody>\n",
       "    <tr>\n",
       "      <th>0</th>\n",
       "      <td>1</td>\n",
       "      <td>60</td>\n",
       "      <td>RL</td>\n",
       "      <td>65.0</td>\n",
       "      <td>8450</td>\n",
       "      <td>Pave</td>\n",
       "      <td>NaN</td>\n",
       "      <td>Reg</td>\n",
       "      <td>Lvl</td>\n",
       "      <td>AllPub</td>\n",
       "      <td>...</td>\n",
       "      <td>0</td>\n",
       "      <td>NaN</td>\n",
       "      <td>NaN</td>\n",
       "      <td>NaN</td>\n",
       "      <td>0</td>\n",
       "      <td>2</td>\n",
       "      <td>2008</td>\n",
       "      <td>WD</td>\n",
       "      <td>Normal</td>\n",
       "      <td>208500</td>\n",
       "    </tr>\n",
       "    <tr>\n",
       "      <th>1</th>\n",
       "      <td>2</td>\n",
       "      <td>20</td>\n",
       "      <td>RL</td>\n",
       "      <td>80.0</td>\n",
       "      <td>9600</td>\n",
       "      <td>Pave</td>\n",
       "      <td>NaN</td>\n",
       "      <td>Reg</td>\n",
       "      <td>Lvl</td>\n",
       "      <td>AllPub</td>\n",
       "      <td>...</td>\n",
       "      <td>0</td>\n",
       "      <td>NaN</td>\n",
       "      <td>NaN</td>\n",
       "      <td>NaN</td>\n",
       "      <td>0</td>\n",
       "      <td>5</td>\n",
       "      <td>2007</td>\n",
       "      <td>WD</td>\n",
       "      <td>Normal</td>\n",
       "      <td>181500</td>\n",
       "    </tr>\n",
       "    <tr>\n",
       "      <th>2</th>\n",
       "      <td>3</td>\n",
       "      <td>60</td>\n",
       "      <td>RL</td>\n",
       "      <td>68.0</td>\n",
       "      <td>11250</td>\n",
       "      <td>Pave</td>\n",
       "      <td>NaN</td>\n",
       "      <td>IR1</td>\n",
       "      <td>Lvl</td>\n",
       "      <td>AllPub</td>\n",
       "      <td>...</td>\n",
       "      <td>0</td>\n",
       "      <td>NaN</td>\n",
       "      <td>NaN</td>\n",
       "      <td>NaN</td>\n",
       "      <td>0</td>\n",
       "      <td>9</td>\n",
       "      <td>2008</td>\n",
       "      <td>WD</td>\n",
       "      <td>Normal</td>\n",
       "      <td>223500</td>\n",
       "    </tr>\n",
       "    <tr>\n",
       "      <th>3</th>\n",
       "      <td>4</td>\n",
       "      <td>70</td>\n",
       "      <td>RL</td>\n",
       "      <td>60.0</td>\n",
       "      <td>9550</td>\n",
       "      <td>Pave</td>\n",
       "      <td>NaN</td>\n",
       "      <td>IR1</td>\n",
       "      <td>Lvl</td>\n",
       "      <td>AllPub</td>\n",
       "      <td>...</td>\n",
       "      <td>0</td>\n",
       "      <td>NaN</td>\n",
       "      <td>NaN</td>\n",
       "      <td>NaN</td>\n",
       "      <td>0</td>\n",
       "      <td>2</td>\n",
       "      <td>2006</td>\n",
       "      <td>WD</td>\n",
       "      <td>Abnorml</td>\n",
       "      <td>140000</td>\n",
       "    </tr>\n",
       "    <tr>\n",
       "      <th>4</th>\n",
       "      <td>5</td>\n",
       "      <td>60</td>\n",
       "      <td>RL</td>\n",
       "      <td>84.0</td>\n",
       "      <td>14260</td>\n",
       "      <td>Pave</td>\n",
       "      <td>NaN</td>\n",
       "      <td>IR1</td>\n",
       "      <td>Lvl</td>\n",
       "      <td>AllPub</td>\n",
       "      <td>...</td>\n",
       "      <td>0</td>\n",
       "      <td>NaN</td>\n",
       "      <td>NaN</td>\n",
       "      <td>NaN</td>\n",
       "      <td>0</td>\n",
       "      <td>12</td>\n",
       "      <td>2008</td>\n",
       "      <td>WD</td>\n",
       "      <td>Normal</td>\n",
       "      <td>250000</td>\n",
       "    </tr>\n",
       "  </tbody>\n",
       "</table>\n",
       "<p>5 rows × 81 columns</p>\n",
       "</div>"
      ],
      "text/plain": [
       "   Id  MSSubClass MSZoning  LotFrontage  LotArea Street Alley LotShape  \\\n",
       "0   1          60       RL         65.0     8450   Pave   NaN      Reg   \n",
       "1   2          20       RL         80.0     9600   Pave   NaN      Reg   \n",
       "2   3          60       RL         68.0    11250   Pave   NaN      IR1   \n",
       "3   4          70       RL         60.0     9550   Pave   NaN      IR1   \n",
       "4   5          60       RL         84.0    14260   Pave   NaN      IR1   \n",
       "\n",
       "  LandContour Utilities  ... PoolArea PoolQC Fence MiscFeature MiscVal MoSold  \\\n",
       "0         Lvl    AllPub  ...        0    NaN   NaN         NaN       0      2   \n",
       "1         Lvl    AllPub  ...        0    NaN   NaN         NaN       0      5   \n",
       "2         Lvl    AllPub  ...        0    NaN   NaN         NaN       0      9   \n",
       "3         Lvl    AllPub  ...        0    NaN   NaN         NaN       0      2   \n",
       "4         Lvl    AllPub  ...        0    NaN   NaN         NaN       0     12   \n",
       "\n",
       "  YrSold  SaleType  SaleCondition  SalePrice  \n",
       "0   2008        WD         Normal     208500  \n",
       "1   2007        WD         Normal     181500  \n",
       "2   2008        WD         Normal     223500  \n",
       "3   2006        WD        Abnorml     140000  \n",
       "4   2008        WD         Normal     250000  \n",
       "\n",
       "[5 rows x 81 columns]"
      ]
     },
     "execution_count": 2,
     "metadata": {},
     "output_type": "execute_result"
    }
   ],
   "source": [
    "data = pd.read_csv('Datasets/trainHousePrices.csv')\n",
    "data.head()"
   ]
  },
  {
   "cell_type": "markdown",
   "id": "0574e0a1",
   "metadata": {},
   "source": [
    "## Feature Engineering "
   ]
  },
  {
   "cell_type": "markdown",
   "id": "ab0d1fbd",
   "metadata": {},
   "source": [
    "### Removing missing value"
   ]
  },
  {
   "cell_type": "code",
   "execution_count": 3,
   "id": "0fd9d0c7",
   "metadata": {
    "ExecuteTime": {
     "end_time": "2022-12-13T14:09:00.072860Z",
     "start_time": "2022-12-13T14:09:00.059860Z"
    }
   },
   "outputs": [
    {
     "data": {
      "text/plain": [
       "43"
      ]
     },
     "execution_count": 3,
     "metadata": {},
     "output_type": "execute_result"
    }
   ],
   "source": [
    "cat_cols = data.select_dtypes('object').columns\n",
    "len(cat_cols)"
   ]
  },
  {
   "cell_type": "code",
   "execution_count": 4,
   "id": "813cf188",
   "metadata": {
    "ExecuteTime": {
     "end_time": "2022-12-13T14:09:01.065021Z",
     "start_time": "2022-12-13T14:09:01.058042Z"
    }
   },
   "outputs": [],
   "source": [
    "data.drop(columns=cat_cols, inplace=True)"
   ]
  },
  {
   "cell_type": "code",
   "execution_count": 5,
   "id": "0058ded3",
   "metadata": {
    "ExecuteTime": {
     "end_time": "2022-12-13T14:09:01.941783Z",
     "start_time": "2022-12-13T14:09:01.926770Z"
    }
   },
   "outputs": [],
   "source": [
    "# removing missing values\n",
    "data.dropna(axis = 0, how ='any',inplace=True) "
   ]
  },
  {
   "cell_type": "code",
   "execution_count": null,
   "id": "c91536a2",
   "metadata": {},
   "outputs": [],
   "source": [
    "#data.isnull().sum()"
   ]
  },
  {
   "cell_type": "code",
   "execution_count": 6,
   "id": "da2690cf",
   "metadata": {
    "ExecuteTime": {
     "end_time": "2022-12-13T14:09:03.166592Z",
     "start_time": "2022-12-13T14:09:03.158595Z"
    }
   },
   "outputs": [
    {
     "data": {
      "text/plain": [
       "(1121, 38)"
      ]
     },
     "execution_count": 6,
     "metadata": {},
     "output_type": "execute_result"
    }
   ],
   "source": [
    "data.shape"
   ]
  },
  {
   "cell_type": "markdown",
   "id": "d827bb8e",
   "metadata": {},
   "source": [
    "### train test split"
   ]
  },
  {
   "cell_type": "code",
   "execution_count": 7,
   "id": "3e367cd4",
   "metadata": {
    "ExecuteTime": {
     "end_time": "2022-12-13T14:09:08.430885Z",
     "start_time": "2022-12-13T14:09:08.208760Z"
    }
   },
   "outputs": [],
   "source": [
    "from sklearn.model_selection import train_test_split\n",
    "xtrain, xtest, ytrain, ytest = train_test_split(data.drop(columns=['SalePrice']), data['SalePrice'], test_size=0.2, random_state=33)"
   ]
  },
  {
   "cell_type": "code",
   "execution_count": 8,
   "id": "9b201432",
   "metadata": {
    "ExecuteTime": {
     "end_time": "2022-12-13T14:09:09.451944Z",
     "start_time": "2022-12-13T14:09:09.440944Z"
    }
   },
   "outputs": [
    {
     "name": "stdout",
     "output_type": "stream",
     "text": [
      "(896, 37)\n",
      "(896,)\n",
      "(225, 37)\n",
      "(225,)\n"
     ]
    }
   ],
   "source": [
    "print(xtrain.shape)\n",
    "print(ytrain.shape)\n",
    "print(xtest.shape)\n",
    "print(ytest.shape)"
   ]
  },
  {
   "cell_type": "markdown",
   "id": "17e90e15",
   "metadata": {},
   "source": [
    "## Feature Selection Techniques"
   ]
  },
  {
   "cell_type": "markdown",
   "id": "62933062",
   "metadata": {},
   "source": [
    "### Recursive Feature Elimination (RFE)"
   ]
  },
  {
   "cell_type": "raw",
   "id": "79a92992",
   "metadata": {},
   "source": [
    "# old code\n",
    "# input split\n",
    "X = data1.drop(columns=['SalePrice'], axis=1)\n",
    "y = data1['SalePrice']\n",
    "rfe = RFE(estimator=DecisionTreeRegressor(), n_features_to_select=5)\n",
    "rfe.fit(X, y)\n",
    "\n",
    "feature_cols = data1.drop(columns=['SalePrice'], axis=1).columns\n",
    "feature_cols.shape\n",
    "data1[feature_cols] = scaler.fit_transform(data1[feature_cols])\n",
    "\n",
    "plt.figure(figsize=(10,15))\n",
    "sns.heatmap(data1.corr()[['SalePrice']].sort_values(by=['SalePrice'], ascending=False),annot=True)\n",
    "sns.pairplot(data1[feature_list],hue='OverallQual')\n",
    "\n",
    "feature_withtarget = feature_list.copy()\n",
    "feature_withtarget.append('SalePrice')\n",
    "feature_withtarget\n",
    "\n",
    "sns.pairplot(data1[feature_withtarget],hue='SalePrice')\n",
    "\n",
    "X = df.drop(columns=['SalePrice'], axis=1).columns\n",
    "for i in X:\n",
    "    print(i)\n",
    "    \n",
    "scores = mutual_info_regression(xtrain, ytrain.values.reshape(-1,), random_state=33)\n",
    "scores = pd.DataFrame(scores)\n",
    "scores.index = xtrain.columns\n",
    "scores.sort_values(by=0, ascending=False)"
   ]
  },
  {
   "cell_type": "code",
   "execution_count": 9,
   "id": "e3fe79d9",
   "metadata": {
    "ExecuteTime": {
     "end_time": "2022-12-13T14:09:19.397149Z",
     "start_time": "2022-12-13T14:09:19.101334Z"
    }
   },
   "outputs": [
    {
     "data": {
      "text/html": [
       "<style>#sk-container-id-1 {color: black;background-color: white;}#sk-container-id-1 pre{padding: 0;}#sk-container-id-1 div.sk-toggleable {background-color: white;}#sk-container-id-1 label.sk-toggleable__label {cursor: pointer;display: block;width: 100%;margin-bottom: 0;padding: 0.3em;box-sizing: border-box;text-align: center;}#sk-container-id-1 label.sk-toggleable__label-arrow:before {content: \"▸\";float: left;margin-right: 0.25em;color: #696969;}#sk-container-id-1 label.sk-toggleable__label-arrow:hover:before {color: black;}#sk-container-id-1 div.sk-estimator:hover label.sk-toggleable__label-arrow:before {color: black;}#sk-container-id-1 div.sk-toggleable__content {max-height: 0;max-width: 0;overflow: hidden;text-align: left;background-color: #f0f8ff;}#sk-container-id-1 div.sk-toggleable__content pre {margin: 0.2em;color: black;border-radius: 0.25em;background-color: #f0f8ff;}#sk-container-id-1 input.sk-toggleable__control:checked~div.sk-toggleable__content {max-height: 200px;max-width: 100%;overflow: auto;}#sk-container-id-1 input.sk-toggleable__control:checked~label.sk-toggleable__label-arrow:before {content: \"▾\";}#sk-container-id-1 div.sk-estimator input.sk-toggleable__control:checked~label.sk-toggleable__label {background-color: #d4ebff;}#sk-container-id-1 div.sk-label input.sk-toggleable__control:checked~label.sk-toggleable__label {background-color: #d4ebff;}#sk-container-id-1 input.sk-hidden--visually {border: 0;clip: rect(1px 1px 1px 1px);clip: rect(1px, 1px, 1px, 1px);height: 1px;margin: -1px;overflow: hidden;padding: 0;position: absolute;width: 1px;}#sk-container-id-1 div.sk-estimator {font-family: monospace;background-color: #f0f8ff;border: 1px dotted black;border-radius: 0.25em;box-sizing: border-box;margin-bottom: 0.5em;}#sk-container-id-1 div.sk-estimator:hover {background-color: #d4ebff;}#sk-container-id-1 div.sk-parallel-item::after {content: \"\";width: 100%;border-bottom: 1px solid gray;flex-grow: 1;}#sk-container-id-1 div.sk-label:hover label.sk-toggleable__label {background-color: #d4ebff;}#sk-container-id-1 div.sk-serial::before {content: \"\";position: absolute;border-left: 1px solid gray;box-sizing: border-box;top: 0;bottom: 0;left: 50%;z-index: 0;}#sk-container-id-1 div.sk-serial {display: flex;flex-direction: column;align-items: center;background-color: white;padding-right: 0.2em;padding-left: 0.2em;position: relative;}#sk-container-id-1 div.sk-item {position: relative;z-index: 1;}#sk-container-id-1 div.sk-parallel {display: flex;align-items: stretch;justify-content: center;background-color: white;position: relative;}#sk-container-id-1 div.sk-item::before, #sk-container-id-1 div.sk-parallel-item::before {content: \"\";position: absolute;border-left: 1px solid gray;box-sizing: border-box;top: 0;bottom: 0;left: 50%;z-index: -1;}#sk-container-id-1 div.sk-parallel-item {display: flex;flex-direction: column;z-index: 1;position: relative;background-color: white;}#sk-container-id-1 div.sk-parallel-item:first-child::after {align-self: flex-end;width: 50%;}#sk-container-id-1 div.sk-parallel-item:last-child::after {align-self: flex-start;width: 50%;}#sk-container-id-1 div.sk-parallel-item:only-child::after {width: 0;}#sk-container-id-1 div.sk-dashed-wrapped {border: 1px dashed gray;margin: 0 0.4em 0.5em 0.4em;box-sizing: border-box;padding-bottom: 0.4em;background-color: white;}#sk-container-id-1 div.sk-label label {font-family: monospace;font-weight: bold;display: inline-block;line-height: 1.2em;}#sk-container-id-1 div.sk-label-container {text-align: center;}#sk-container-id-1 div.sk-container {/* jupyter's `normalize.less` sets `[hidden] { display: none; }` but bootstrap.min.css set `[hidden] { display: none !important; }` so we also need the `!important` here to be able to override the default hidden behavior on the sphinx rendered scikit-learn.org. See: https://github.com/scikit-learn/scikit-learn/issues/21755 */display: inline-block !important;position: relative;}#sk-container-id-1 div.sk-text-repr-fallback {display: none;}</style><div id=\"sk-container-id-1\" class=\"sk-top-container\"><div class=\"sk-text-repr-fallback\"><pre>RFE(estimator=DecisionTreeRegressor(), n_features_to_select=5)</pre><b>In a Jupyter environment, please rerun this cell to show the HTML representation or trust the notebook. <br />On GitHub, the HTML representation is unable to render, please try loading this page with nbviewer.org.</b></div><div class=\"sk-container\" hidden><div class=\"sk-item sk-dashed-wrapped\"><div class=\"sk-label-container\"><div class=\"sk-label sk-toggleable\"><input class=\"sk-toggleable__control sk-hidden--visually\" id=\"sk-estimator-id-1\" type=\"checkbox\" ><label for=\"sk-estimator-id-1\" class=\"sk-toggleable__label sk-toggleable__label-arrow\">RFE</label><div class=\"sk-toggleable__content\"><pre>RFE(estimator=DecisionTreeRegressor(), n_features_to_select=5)</pre></div></div></div><div class=\"sk-parallel\"><div class=\"sk-parallel-item\"><div class=\"sk-item\"><div class=\"sk-label-container\"><div class=\"sk-label sk-toggleable\"><input class=\"sk-toggleable__control sk-hidden--visually\" id=\"sk-estimator-id-2\" type=\"checkbox\" ><label for=\"sk-estimator-id-2\" class=\"sk-toggleable__label sk-toggleable__label-arrow\">estimator: DecisionTreeRegressor</label><div class=\"sk-toggleable__content\"><pre>DecisionTreeRegressor()</pre></div></div></div><div class=\"sk-serial\"><div class=\"sk-item\"><div class=\"sk-estimator sk-toggleable\"><input class=\"sk-toggleable__control sk-hidden--visually\" id=\"sk-estimator-id-3\" type=\"checkbox\" ><label for=\"sk-estimator-id-3\" class=\"sk-toggleable__label sk-toggleable__label-arrow\">DecisionTreeRegressor</label><div class=\"sk-toggleable__content\"><pre>DecisionTreeRegressor()</pre></div></div></div></div></div></div></div></div></div></div>"
      ],
      "text/plain": [
       "RFE(estimator=DecisionTreeRegressor(), n_features_to_select=5)"
      ]
     },
     "execution_count": 9,
     "metadata": {},
     "output_type": "execute_result"
    }
   ],
   "source": [
    "from sklearn.feature_selection import RFE\n",
    "from sklearn.tree import DecisionTreeRegressor\n",
    "rfe = RFE(estimator=DecisionTreeRegressor(), n_features_to_select=5)\n",
    "rfe.fit(xtrain, ytrain)"
   ]
  },
  {
   "cell_type": "code",
   "execution_count": 10,
   "id": "314f0237",
   "metadata": {
    "ExecuteTime": {
     "end_time": "2022-12-13T14:09:21.765262Z",
     "start_time": "2022-12-13T14:09:21.757263Z"
    }
   },
   "outputs": [
    {
     "name": "stdout",
     "output_type": "stream",
     "text": [
      "0\n",
      "Id selected=False rank=15\n",
      "1\n",
      "MSSubClass selected=False rank=19\n",
      "2\n",
      "LotFrontage selected=False rank=3\n",
      "3\n",
      "LotArea selected=False rank=8\n",
      "4\n",
      "OverallQual selected=True rank=1\n",
      "5\n",
      "OverallCond selected=False rank=11\n",
      "6\n",
      "YearBuilt selected=False rank=5\n",
      "7\n",
      "YearRemodAdd selected=False rank=2\n",
      "8\n",
      "MasVnrArea selected=False rank=22\n",
      "9\n",
      "BsmtFinSF1 selected=True rank=1\n",
      "10\n",
      "BsmtFinSF2 selected=False rank=27\n",
      "11\n",
      "BsmtUnfSF selected=False rank=14\n",
      "12\n",
      "TotalBsmtSF selected=True rank=1\n",
      "13\n",
      "1stFlrSF selected=False rank=4\n",
      "14\n",
      "2ndFlrSF selected=True rank=1\n",
      "15\n",
      "LowQualFinSF selected=False rank=32\n",
      "16\n",
      "GrLivArea selected=True rank=1\n",
      "17\n",
      "BsmtFullBath selected=False rank=24\n",
      "18\n",
      "BsmtHalfBath selected=False rank=28\n",
      "19\n",
      "FullBath selected=False rank=17\n",
      "20\n",
      "HalfBath selected=False rank=25\n",
      "21\n",
      "BedroomAbvGr selected=False rank=16\n",
      "22\n",
      "KitchenAbvGr selected=False rank=29\n",
      "23\n",
      "TotRmsAbvGrd selected=False rank=20\n",
      "24\n",
      "Fireplaces selected=False rank=18\n",
      "25\n",
      "GarageYrBlt selected=False rank=12\n",
      "26\n",
      "GarageCars selected=False rank=10\n",
      "27\n",
      "GarageArea selected=False rank=6\n",
      "28\n",
      "WoodDeckSF selected=False rank=7\n",
      "29\n",
      "OpenPorchSF selected=False rank=13\n",
      "30\n",
      "EnclosedPorch selected=False rank=23\n",
      "31\n",
      "3SsnPorch selected=False rank=31\n",
      "32\n",
      "ScreenPorch selected=False rank=26\n",
      "33\n",
      "PoolArea selected=False rank=33\n",
      "34\n",
      "MiscVal selected=False rank=30\n",
      "35\n",
      "MoSold selected=False rank=9\n",
      "36\n",
      "YrSold selected=False rank=21\n"
     ]
    }
   ],
   "source": [
    "# zip() function returns a zip object which is an iterator of tuples where first item in each passed iterator is paired together \n",
    "# and then second item in each passed iterator are paired together etc\n",
    "# If passed iterators have different lengths, iterator with least items decides length of new iterator\n",
    "feature_list=[]\n",
    "for i, col in zip(range(xtrain.shape[1]), xtrain.columns):\n",
    "    print(i)\n",
    "    print(f\"{col} selected={rfe.support_[i]} rank={rfe.ranking_[i]}\")\n",
    "    # taking features with rank 1\n",
    "    if rfe.ranking_[i] == 1:\n",
    "        feature_list.append(col)"
   ]
  },
  {
   "cell_type": "code",
   "execution_count": 11,
   "id": "50fa4b5d",
   "metadata": {
    "ExecuteTime": {
     "end_time": "2022-12-13T14:09:25.878187Z",
     "start_time": "2022-12-13T14:09:25.871188Z"
    }
   },
   "outputs": [
    {
     "data": {
      "text/plain": [
       "['OverallQual', 'BsmtFinSF1', 'TotalBsmtSF', '2ndFlrSF', 'GrLivArea']"
      ]
     },
     "execution_count": 11,
     "metadata": {},
     "output_type": "execute_result"
    }
   ],
   "source": [
    "# this are selected features\n",
    "feature_list"
   ]
  },
  {
   "cell_type": "markdown",
   "id": "b8b73740",
   "metadata": {},
   "source": [
    "### Mutual Info Regression"
   ]
  },
  {
   "cell_type": "code",
   "execution_count": 12,
   "id": "dbeb1268",
   "metadata": {
    "ExecuteTime": {
     "end_time": "2022-12-13T14:09:28.090813Z",
     "start_time": "2022-12-13T14:09:28.055809Z"
    }
   },
   "outputs": [
    {
     "data": {
      "text/html": [
       "<div>\n",
       "<style scoped>\n",
       "    .dataframe tbody tr th:only-of-type {\n",
       "        vertical-align: middle;\n",
       "    }\n",
       "\n",
       "    .dataframe tbody tr th {\n",
       "        vertical-align: top;\n",
       "    }\n",
       "\n",
       "    .dataframe thead th {\n",
       "        text-align: right;\n",
       "    }\n",
       "</style>\n",
       "<table border=\"1\" class=\"dataframe\">\n",
       "  <thead>\n",
       "    <tr style=\"text-align: right;\">\n",
       "      <th></th>\n",
       "      <th>0</th>\n",
       "    </tr>\n",
       "  </thead>\n",
       "  <tbody>\n",
       "    <tr>\n",
       "      <th>OverallQual</th>\n",
       "      <td>0.536291</td>\n",
       "    </tr>\n",
       "    <tr>\n",
       "      <th>GrLivArea</th>\n",
       "      <td>0.345777</td>\n",
       "    </tr>\n",
       "    <tr>\n",
       "      <th>TotalBsmtSF</th>\n",
       "      <td>0.287096</td>\n",
       "    </tr>\n",
       "    <tr>\n",
       "      <th>2ndFlrSF</th>\n",
       "      <td>0.121582</td>\n",
       "    </tr>\n",
       "    <tr>\n",
       "      <th>BsmtFinSF1</th>\n",
       "      <td>0.112723</td>\n",
       "    </tr>\n",
       "  </tbody>\n",
       "</table>\n",
       "</div>"
      ],
      "text/plain": [
       "                    0\n",
       "OverallQual  0.536291\n",
       "GrLivArea    0.345777\n",
       "TotalBsmtSF  0.287096\n",
       "2ndFlrSF     0.121582\n",
       "BsmtFinSF1   0.112723"
      ]
     },
     "execution_count": 12,
     "metadata": {},
     "output_type": "execute_result"
    }
   ],
   "source": [
    "from sklearn.feature_selection import mutual_info_regression\n",
    "scores = mutual_info_regression(xtrain[feature_list], ytrain, random_state=33)\n",
    "scores = pd.DataFrame(scores)\n",
    "scores.index = xtrain[feature_list].columns\n",
    "scores.sort_values(by=0, ascending=False)"
   ]
  },
  {
   "cell_type": "markdown",
   "id": "8f863231",
   "metadata": {},
   "source": [
    "## Data Preprocessing"
   ]
  },
  {
   "cell_type": "markdown",
   "id": "85a5c23b",
   "metadata": {},
   "source": [
    "### Data Standardization on train set and test set"
   ]
  },
  {
   "cell_type": "code",
   "execution_count": 28,
   "id": "e941e76f",
   "metadata": {
    "ExecuteTime": {
     "end_time": "2022-12-13T14:11:45.042418Z",
     "start_time": "2022-12-13T14:11:45.028439Z"
    }
   },
   "outputs": [
    {
     "data": {
      "text/plain": [
       "(896, 5)"
      ]
     },
     "execution_count": 28,
     "metadata": {},
     "output_type": "execute_result"
    }
   ],
   "source": [
    "xtrain[feature_list].shape"
   ]
  },
  {
   "cell_type": "code",
   "execution_count": 29,
   "id": "46ecf08f",
   "metadata": {
    "ExecuteTime": {
     "end_time": "2022-12-13T14:11:45.997577Z",
     "start_time": "2022-12-13T14:11:45.992578Z"
    }
   },
   "outputs": [
    {
     "data": {
      "text/plain": [
       "(225, 5)"
      ]
     },
     "execution_count": 29,
     "metadata": {},
     "output_type": "execute_result"
    }
   ],
   "source": [
    "xtest[feature_list].shape"
   ]
  },
  {
   "cell_type": "code",
   "execution_count": 30,
   "id": "95bd583b",
   "metadata": {
    "ExecuteTime": {
     "end_time": "2022-12-13T14:11:50.713092Z",
     "start_time": "2022-12-13T14:11:50.695118Z"
    }
   },
   "outputs": [
    {
     "name": "stdout",
     "output_type": "stream",
     "text": [
      "(896, 5)\n",
      "(225, 5)\n"
     ]
    }
   ],
   "source": [
    "# Data Standardization on training and test data\n",
    "xtrain_scaled = xtrain[feature_list].copy()\n",
    "print(xtrain_scaled.shape)\n",
    "xtest_scaled = xtest[feature_list].copy()\n",
    "print(xtest_scaled.shape)"
   ]
  },
  {
   "cell_type": "code",
   "execution_count": 31,
   "id": "8a962fcb",
   "metadata": {
    "ExecuteTime": {
     "end_time": "2022-12-13T14:11:52.101683Z",
     "start_time": "2022-12-13T14:11:52.091706Z"
    }
   },
   "outputs": [],
   "source": [
    "from sklearn.preprocessing import StandardScaler, MinMaxScaler, RobustScaler\n",
    "scaler = StandardScaler()"
   ]
  },
  {
   "cell_type": "code",
   "execution_count": 32,
   "id": "1d4d3749",
   "metadata": {
    "ExecuteTime": {
     "end_time": "2022-12-13T14:11:53.783507Z",
     "start_time": "2022-12-13T14:11:53.774519Z"
    }
   },
   "outputs": [],
   "source": [
    "# fit and transform are both applied on training data\n",
    "xtrain_scaled[feature_list] = scaler.fit_transform(xtrain_scaled[feature_list])\n",
    "# only transform is applied on test data as features used to fit training data is applied in test data to perform transform \n",
    "xtest_scaled[feature_list] = scaler.transform(xtest_scaled[feature_list])"
   ]
  },
  {
   "cell_type": "code",
   "execution_count": 33,
   "id": "97cbc94c",
   "metadata": {
    "ExecuteTime": {
     "end_time": "2022-12-13T14:11:58.697116Z",
     "start_time": "2022-12-13T14:11:58.681106Z"
    }
   },
   "outputs": [
    {
     "data": {
      "text/html": [
       "<div>\n",
       "<style scoped>\n",
       "    .dataframe tbody tr th:only-of-type {\n",
       "        vertical-align: middle;\n",
       "    }\n",
       "\n",
       "    .dataframe tbody tr th {\n",
       "        vertical-align: top;\n",
       "    }\n",
       "\n",
       "    .dataframe thead th {\n",
       "        text-align: right;\n",
       "    }\n",
       "</style>\n",
       "<table border=\"1\" class=\"dataframe\">\n",
       "  <thead>\n",
       "    <tr style=\"text-align: right;\">\n",
       "      <th></th>\n",
       "      <th>OverallQual</th>\n",
       "      <th>BsmtFinSF1</th>\n",
       "      <th>TotalBsmtSF</th>\n",
       "      <th>2ndFlrSF</th>\n",
       "      <th>GrLivArea</th>\n",
       "    </tr>\n",
       "  </thead>\n",
       "  <tbody>\n",
       "    <tr>\n",
       "      <th>1409</th>\n",
       "      <td>0.594695</td>\n",
       "      <td>-1.008738</td>\n",
       "      <td>-0.633447</td>\n",
       "      <td>1.163213</td>\n",
       "      <td>1.155468</td>\n",
       "    </tr>\n",
       "    <tr>\n",
       "      <th>1092</th>\n",
       "      <td>-0.137237</td>\n",
       "      <td>-0.022244</td>\n",
       "      <td>0.308832</td>\n",
       "      <td>-0.115806</td>\n",
       "      <td>0.355092</td>\n",
       "    </tr>\n",
       "    <tr>\n",
       "      <th>1140</th>\n",
       "      <td>-0.869170</td>\n",
       "      <td>0.978243</td>\n",
       "      <td>-0.244455</td>\n",
       "      <td>-0.818920</td>\n",
       "      <td>-1.133326</td>\n",
       "    </tr>\n",
       "    <tr>\n",
       "      <th>1094</th>\n",
       "      <td>-0.869170</td>\n",
       "      <td>-0.430368</td>\n",
       "      <td>-0.283113</td>\n",
       "      <td>-0.818920</td>\n",
       "      <td>-1.165421</td>\n",
       "    </tr>\n",
       "    <tr>\n",
       "      <th>1013</th>\n",
       "      <td>-0.869170</td>\n",
       "      <td>-0.432700</td>\n",
       "      <td>-0.075328</td>\n",
       "      <td>-0.818920</td>\n",
       "      <td>-0.992909</td>\n",
       "    </tr>\n",
       "  </tbody>\n",
       "</table>\n",
       "</div>"
      ],
      "text/plain": [
       "      OverallQual  BsmtFinSF1  TotalBsmtSF  2ndFlrSF  GrLivArea\n",
       "1409     0.594695   -1.008738    -0.633447  1.163213   1.155468\n",
       "1092    -0.137237   -0.022244     0.308832 -0.115806   0.355092\n",
       "1140    -0.869170    0.978243    -0.244455 -0.818920  -1.133326\n",
       "1094    -0.869170   -0.430368    -0.283113 -0.818920  -1.165421\n",
       "1013    -0.869170   -0.432700    -0.075328 -0.818920  -0.992909"
      ]
     },
     "execution_count": 33,
     "metadata": {},
     "output_type": "execute_result"
    }
   ],
   "source": [
    "xtrain_scaled.head()"
   ]
  },
  {
   "cell_type": "code",
   "execution_count": 34,
   "id": "c0303a3a",
   "metadata": {
    "ExecuteTime": {
     "end_time": "2022-12-13T14:12:01.569468Z",
     "start_time": "2022-12-13T14:12:01.548450Z"
    }
   },
   "outputs": [
    {
     "data": {
      "text/html": [
       "<div>\n",
       "<style scoped>\n",
       "    .dataframe tbody tr th:only-of-type {\n",
       "        vertical-align: middle;\n",
       "    }\n",
       "\n",
       "    .dataframe tbody tr th {\n",
       "        vertical-align: top;\n",
       "    }\n",
       "\n",
       "    .dataframe thead th {\n",
       "        text-align: right;\n",
       "    }\n",
       "</style>\n",
       "<table border=\"1\" class=\"dataframe\">\n",
       "  <thead>\n",
       "    <tr style=\"text-align: right;\">\n",
       "      <th></th>\n",
       "      <th>OverallQual</th>\n",
       "      <th>BsmtFinSF1</th>\n",
       "      <th>TotalBsmtSF</th>\n",
       "      <th>2ndFlrSF</th>\n",
       "      <th>GrLivArea</th>\n",
       "    </tr>\n",
       "  </thead>\n",
       "  <tbody>\n",
       "    <tr>\n",
       "      <th>913</th>\n",
       "      <td>-0.869170</td>\n",
       "      <td>-0.346411</td>\n",
       "      <td>-0.126066</td>\n",
       "      <td>1.496266</td>\n",
       "      <td>0.972926</td>\n",
       "    </tr>\n",
       "    <tr>\n",
       "      <th>144</th>\n",
       "      <td>-0.869170</td>\n",
       "      <td>2.097668</td>\n",
       "      <td>1.630439</td>\n",
       "      <td>-0.818920</td>\n",
       "      <td>0.423294</td>\n",
       "    </tr>\n",
       "    <tr>\n",
       "      <th>1445</th>\n",
       "      <td>-0.137237</td>\n",
       "      <td>-0.572628</td>\n",
       "      <td>-0.577877</td>\n",
       "      <td>-0.818920</td>\n",
       "      <td>-1.211558</td>\n",
       "    </tr>\n",
       "    <tr>\n",
       "      <th>1382</th>\n",
       "      <td>0.594695</td>\n",
       "      <td>-1.008738</td>\n",
       "      <td>-1.104587</td>\n",
       "      <td>0.948115</td>\n",
       "      <td>0.491497</td>\n",
       "    </tr>\n",
       "    <tr>\n",
       "      <th>885</th>\n",
       "      <td>2.058560</td>\n",
       "      <td>1.878448</td>\n",
       "      <td>1.557956</td>\n",
       "      <td>-0.818920</td>\n",
       "      <td>0.385181</td>\n",
       "    </tr>\n",
       "  </tbody>\n",
       "</table>\n",
       "</div>"
      ],
      "text/plain": [
       "      OverallQual  BsmtFinSF1  TotalBsmtSF  2ndFlrSF  GrLivArea\n",
       "913     -0.869170   -0.346411    -0.126066  1.496266   0.972926\n",
       "144     -0.869170    2.097668     1.630439 -0.818920   0.423294\n",
       "1445    -0.137237   -0.572628    -0.577877 -0.818920  -1.211558\n",
       "1382     0.594695   -1.008738    -1.104587  0.948115   0.491497\n",
       "885      2.058560    1.878448     1.557956 -0.818920   0.385181"
      ]
     },
     "execution_count": 34,
     "metadata": {},
     "output_type": "execute_result"
    }
   ],
   "source": [
    "xtest_scaled.head()"
   ]
  },
  {
   "cell_type": "code",
   "execution_count": 35,
   "id": "99af046d",
   "metadata": {
    "ExecuteTime": {
     "end_time": "2022-12-13T14:12:07.038024Z",
     "start_time": "2022-12-13T14:12:04.323892Z"
    }
   },
   "outputs": [
    {
     "data": {
      "text/plain": [
       "<seaborn.axisgrid.PairGrid at 0x22f0159cc10>"
      ]
     },
     "execution_count": 35,
     "metadata": {},
     "output_type": "execute_result"
    },
    {
     "data": {
      "image/png": "[encoded data removed]",
      "text/plain": [
       "<Figure size 900x900 with 30 Axes>"
      ]
     },
     "metadata": {
      "needs_background": "light"
     },
     "output_type": "display_data"
    }
   ],
   "source": [
    "sns.pairplot(xtrain_scaled)"
   ]
  },
  {
   "cell_type": "markdown",
   "id": "9eb61732",
   "metadata": {},
   "source": [
    "### Outlier Detection and Removal (optional)"
   ]
  },
  {
   "cell_type": "code",
   "execution_count": 36,
   "id": "e726fcb4",
   "metadata": {
    "ExecuteTime": {
     "end_time": "2022-12-13T14:12:23.342357Z",
     "start_time": "2022-12-13T14:12:23.331356Z"
    }
   },
   "outputs": [
    {
     "data": {
      "text/plain": [
       "(896, 5)"
      ]
     },
     "execution_count": 36,
     "metadata": {},
     "output_type": "execute_result"
    }
   ],
   "source": [
    "newxtrain = xtrain_scaled.copy()\n",
    "newxtrain.shape"
   ]
  },
  {
   "cell_type": "code",
   "execution_count": 37,
   "id": "2f420f85",
   "metadata": {
    "ExecuteTime": {
     "end_time": "2022-12-13T14:12:30.581397Z",
     "start_time": "2022-12-13T14:12:30.563873Z"
    }
   },
   "outputs": [
    {
     "data": {
      "text/plain": [
       "(896,)"
      ]
     },
     "execution_count": 37,
     "metadata": {},
     "output_type": "execute_result"
    }
   ],
   "source": [
    "newytrain = ytrain.copy()\n",
    "newytrain.shape"
   ]
  },
  {
   "cell_type": "code",
   "execution_count": 38,
   "id": "97c3f5bb",
   "metadata": {
    "ExecuteTime": {
     "end_time": "2022-12-13T14:12:41.489985Z",
     "start_time": "2022-12-13T14:12:41.469981Z"
    }
   },
   "outputs": [],
   "source": [
    "class OutlierTreatment:\n",
    "    \n",
    "    def __init__(self, dff):\n",
    "        self.dff = dff\n",
    "    \n",
    "    def outlier(self):\n",
    "        Q1 = self.dff.quantile(0.25)\n",
    "        Q3 = self.dff.quantile(0.75)\n",
    "        IQR = Q3 - Q1\n",
    "        lower_limit = Q1 - 1.5*IQR\n",
    "        upper_limit = Q3 + 1.5*IQR\n",
    "        return lower_limit, upper_limit\n",
    "        \n",
    "    def countoutlier(self, dfx):\n",
    "        self.lower_limit, self.upper_limit = self.outlier()\n",
    "        Total_outlier = len(dfx[(self.dff <= self.lower_limit)|(self.dff >= self.upper_limit)])\n",
    "        return Total_outlier\n",
    "    \n",
    "    def cleanoutlier(self, dfx, dfy):\n",
    "        self.lower_limit, self.upper_limit = self.outlier()\n",
    "        outliers = dfx[(self.dff <= self.lower_limit)|(self.dff >= self.upper_limit)]\n",
    "        dfx.drop(outliers.index, inplace=True)\n",
    "        dfy.drop(outliers.index, inplace=True)\n",
    "        return dfx, dfy"
   ]
  },
  {
   "cell_type": "code",
   "execution_count": 39,
   "id": "27c4f006",
   "metadata": {
    "ExecuteTime": {
     "end_time": "2022-12-13T14:12:43.371399Z",
     "start_time": "2022-12-13T14:12:43.350402Z"
    }
   },
   "outputs": [
    {
     "name": "stdout",
     "output_type": "stream",
     "text": [
      "OverallQual   16\n",
      "BsmtFinSF1   4\n",
      "TotalBsmtSF   37\n",
      "2ndFlrSF   1\n",
      "GrLivArea   21\n"
     ]
    }
   ],
   "source": [
    "# checking total outlier in every feature column\n",
    "for i in newxtrain.columns:\n",
    "        d = OutlierTreatment(newxtrain[i])\n",
    "        d.outlier()\n",
    "        print(i,' ',d.countoutlier(newxtrain))"
   ]
  },
  {
   "cell_type": "code",
   "execution_count": 40,
   "id": "05d307ca",
   "metadata": {
    "ExecuteTime": {
     "end_time": "2022-12-13T14:12:44.663522Z",
     "start_time": "2022-12-13T14:12:44.648524Z"
    }
   },
   "outputs": [],
   "source": [
    "for i in newxtrain.columns:\n",
    "    d = OutlierTreatment(newxtrain[i])\n",
    "    if d.countoutlier(newxtrain) < 5:\n",
    "        d.cleanoutlier(newxtrain, newytrain)"
   ]
  },
  {
   "cell_type": "code",
   "execution_count": 41,
   "id": "e98354ca",
   "metadata": {
    "ExecuteTime": {
     "end_time": "2022-12-13T14:12:46.904297Z",
     "start_time": "2022-12-13T14:12:46.888854Z"
    }
   },
   "outputs": [
    {
     "name": "stdout",
     "output_type": "stream",
     "text": [
      "(891, 5)\n",
      "(891,)\n"
     ]
    }
   ],
   "source": [
    "print(newxtrain.shape)\n",
    "print(newytrain.shape)"
   ]
  },
  {
   "cell_type": "code",
   "execution_count": 42,
   "id": "da53a366",
   "metadata": {
    "ExecuteTime": {
     "end_time": "2022-12-13T14:12:50.053540Z",
     "start_time": "2022-12-13T14:12:50.041537Z"
    }
   },
   "outputs": [
    {
     "data": {
      "text/html": [
       "<div>\n",
       "<style scoped>\n",
       "    .dataframe tbody tr th:only-of-type {\n",
       "        vertical-align: middle;\n",
       "    }\n",
       "\n",
       "    .dataframe tbody tr th {\n",
       "        vertical-align: top;\n",
       "    }\n",
       "\n",
       "    .dataframe thead th {\n",
       "        text-align: right;\n",
       "    }\n",
       "</style>\n",
       "<table border=\"1\" class=\"dataframe\">\n",
       "  <thead>\n",
       "    <tr style=\"text-align: right;\">\n",
       "      <th></th>\n",
       "      <th>OverallQual</th>\n",
       "      <th>BsmtFinSF1</th>\n",
       "      <th>TotalBsmtSF</th>\n",
       "      <th>2ndFlrSF</th>\n",
       "      <th>GrLivArea</th>\n",
       "    </tr>\n",
       "  </thead>\n",
       "  <tbody>\n",
       "    <tr>\n",
       "      <th>1409</th>\n",
       "      <td>0.594695</td>\n",
       "      <td>-1.008738</td>\n",
       "      <td>-0.633447</td>\n",
       "      <td>1.163213</td>\n",
       "      <td>1.155468</td>\n",
       "    </tr>\n",
       "    <tr>\n",
       "      <th>1092</th>\n",
       "      <td>-0.137237</td>\n",
       "      <td>-0.022244</td>\n",
       "      <td>0.308832</td>\n",
       "      <td>-0.115806</td>\n",
       "      <td>0.355092</td>\n",
       "    </tr>\n",
       "    <tr>\n",
       "      <th>1140</th>\n",
       "      <td>-0.869170</td>\n",
       "      <td>0.978243</td>\n",
       "      <td>-0.244455</td>\n",
       "      <td>-0.818920</td>\n",
       "      <td>-1.133326</td>\n",
       "    </tr>\n",
       "    <tr>\n",
       "      <th>1094</th>\n",
       "      <td>-0.869170</td>\n",
       "      <td>-0.430368</td>\n",
       "      <td>-0.283113</td>\n",
       "      <td>-0.818920</td>\n",
       "      <td>-1.165421</td>\n",
       "    </tr>\n",
       "    <tr>\n",
       "      <th>1013</th>\n",
       "      <td>-0.869170</td>\n",
       "      <td>-0.432700</td>\n",
       "      <td>-0.075328</td>\n",
       "      <td>-0.818920</td>\n",
       "      <td>-0.992909</td>\n",
       "    </tr>\n",
       "  </tbody>\n",
       "</table>\n",
       "</div>"
      ],
      "text/plain": [
       "      OverallQual  BsmtFinSF1  TotalBsmtSF  2ndFlrSF  GrLivArea\n",
       "1409     0.594695   -1.008738    -0.633447  1.163213   1.155468\n",
       "1092    -0.137237   -0.022244     0.308832 -0.115806   0.355092\n",
       "1140    -0.869170    0.978243    -0.244455 -0.818920  -1.133326\n",
       "1094    -0.869170   -0.430368    -0.283113 -0.818920  -1.165421\n",
       "1013    -0.869170   -0.432700    -0.075328 -0.818920  -0.992909"
      ]
     },
     "execution_count": 42,
     "metadata": {},
     "output_type": "execute_result"
    }
   ],
   "source": [
    "newxtrain.head()"
   ]
  },
  {
   "cell_type": "code",
   "execution_count": 43,
   "id": "73993a86",
   "metadata": {
    "ExecuteTime": {
     "end_time": "2022-12-13T14:12:51.217494Z",
     "start_time": "2022-12-13T14:12:51.203492Z"
    }
   },
   "outputs": [
    {
     "data": {
      "text/plain": [
       "1409    215000\n",
       "1092    136500\n",
       "1140    139000\n",
       "1094    129000\n",
       "1013     85000\n",
       "Name: SalePrice, dtype: int64"
      ]
     },
     "execution_count": 43,
     "metadata": {},
     "output_type": "execute_result"
    }
   ],
   "source": [
    "newytrain.head()"
   ]
  },
  {
   "cell_type": "code",
   "execution_count": 44,
   "id": "1df011b4",
   "metadata": {
    "ExecuteTime": {
     "end_time": "2022-12-13T14:12:54.001691Z",
     "start_time": "2022-12-13T14:12:53.867477Z"
    }
   },
   "outputs": [
    {
     "data": {
      "text/plain": [
       "<AxesSubplot: >"
      ]
     },
     "execution_count": 44,
     "metadata": {},
     "output_type": "execute_result"
    },
    {
     "data": {
      "image/png": "[encoded data removed]",
      "text/plain": [
       "<Figure size 720x360 with 1 Axes>"
      ]
     },
     "metadata": {
      "needs_background": "light"
     },
     "output_type": "display_data"
    }
   ],
   "source": [
    "plt.figure(figsize=(10,5))\n",
    "sns.set(style='darkgrid')\n",
    "sns.boxplot(data=newxtrain)"
   ]
  },
  {
   "cell_type": "markdown",
   "id": "8d3038c4",
   "metadata": {},
   "source": [
    "## Building Model"
   ]
  },
  {
   "cell_type": "markdown",
   "id": "0cbac3f6",
   "metadata": {},
   "source": [
    "### Multiple Linear Regression Model"
   ]
  },
  {
   "cell_type": "code",
   "execution_count": 45,
   "id": "80dd6daa",
   "metadata": {
    "ExecuteTime": {
     "end_time": "2022-12-13T14:12:58.006038Z",
     "start_time": "2022-12-13T14:12:57.999037Z"
    }
   },
   "outputs": [],
   "source": [
    "from sklearn.linear_model import LinearRegression\n",
    "from sklearn.metrics import mean_absolute_error, mean_squared_error, r2_score\n",
    "class Metrics:\n",
    "    def evaluate(self, model, features, target):\n",
    "        ypred = model.predict(features)\n",
    "        mae = mean_absolute_error(y_true=target, y_pred=ypred)\n",
    "        mse = mean_squared_error(y_true=target, y_pred=ypred)\n",
    "        r2 = r2_score(y_true=target, y_pred=ypred)*100\n",
    "        print(f\"MAE :: {mae: .4f}\")\n",
    "        print(f\"MSE :: {mse: .4f}\")\n",
    "        print(f\"R2 :: {r2: .4f}\")\n",
    "        return [np.round(mae, 4), np.round(mse, 4), np.round(r2, 4)]\n",
    "evaluator = Metrics()"
   ]
  },
  {
   "cell_type": "code",
   "execution_count": 46,
   "id": "55e686dc",
   "metadata": {
    "ExecuteTime": {
     "end_time": "2022-12-13T14:12:58.996510Z",
     "start_time": "2022-12-13T14:12:58.982511Z"
    }
   },
   "outputs": [
    {
     "data": {
      "text/html": [
       "<style>#sk-container-id-2 {color: black;background-color: white;}#sk-container-id-2 pre{padding: 0;}#sk-container-id-2 div.sk-toggleable {background-color: white;}#sk-container-id-2 label.sk-toggleable__label {cursor: pointer;display: block;width: 100%;margin-bottom: 0;padding: 0.3em;box-sizing: border-box;text-align: center;}#sk-container-id-2 label.sk-toggleable__label-arrow:before {content: \"▸\";float: left;margin-right: 0.25em;color: #696969;}#sk-container-id-2 label.sk-toggleable__label-arrow:hover:before {color: black;}#sk-container-id-2 div.sk-estimator:hover label.sk-toggleable__label-arrow:before {color: black;}#sk-container-id-2 div.sk-toggleable__content {max-height: 0;max-width: 0;overflow: hidden;text-align: left;background-color: #f0f8ff;}#sk-container-id-2 div.sk-toggleable__content pre {margin: 0.2em;color: black;border-radius: 0.25em;background-color: #f0f8ff;}#sk-container-id-2 input.sk-toggleable__control:checked~div.sk-toggleable__content {max-height: 200px;max-width: 100%;overflow: auto;}#sk-container-id-2 input.sk-toggleable__control:checked~label.sk-toggleable__label-arrow:before {content: \"▾\";}#sk-container-id-2 div.sk-estimator input.sk-toggleable__control:checked~label.sk-toggleable__label {background-color: #d4ebff;}#sk-container-id-2 div.sk-label input.sk-toggleable__control:checked~label.sk-toggleable__label {background-color: #d4ebff;}#sk-container-id-2 input.sk-hidden--visually {border: 0;clip: rect(1px 1px 1px 1px);clip: rect(1px, 1px, 1px, 1px);height: 1px;margin: -1px;overflow: hidden;padding: 0;position: absolute;width: 1px;}#sk-container-id-2 div.sk-estimator {font-family: monospace;background-color: #f0f8ff;border: 1px dotted black;border-radius: 0.25em;box-sizing: border-box;margin-bottom: 0.5em;}#sk-container-id-2 div.sk-estimator:hover {background-color: #d4ebff;}#sk-container-id-2 div.sk-parallel-item::after {content: \"\";width: 100%;border-bottom: 1px solid gray;flex-grow: 1;}#sk-container-id-2 div.sk-label:hover label.sk-toggleable__label {background-color: #d4ebff;}#sk-container-id-2 div.sk-serial::before {content: \"\";position: absolute;border-left: 1px solid gray;box-sizing: border-box;top: 0;bottom: 0;left: 50%;z-index: 0;}#sk-container-id-2 div.sk-serial {display: flex;flex-direction: column;align-items: center;background-color: white;padding-right: 0.2em;padding-left: 0.2em;position: relative;}#sk-container-id-2 div.sk-item {position: relative;z-index: 1;}#sk-container-id-2 div.sk-parallel {display: flex;align-items: stretch;justify-content: center;background-color: white;position: relative;}#sk-container-id-2 div.sk-item::before, #sk-container-id-2 div.sk-parallel-item::before {content: \"\";position: absolute;border-left: 1px solid gray;box-sizing: border-box;top: 0;bottom: 0;left: 50%;z-index: -1;}#sk-container-id-2 div.sk-parallel-item {display: flex;flex-direction: column;z-index: 1;position: relative;background-color: white;}#sk-container-id-2 div.sk-parallel-item:first-child::after {align-self: flex-end;width: 50%;}#sk-container-id-2 div.sk-parallel-item:last-child::after {align-self: flex-start;width: 50%;}#sk-container-id-2 div.sk-parallel-item:only-child::after {width: 0;}#sk-container-id-2 div.sk-dashed-wrapped {border: 1px dashed gray;margin: 0 0.4em 0.5em 0.4em;box-sizing: border-box;padding-bottom: 0.4em;background-color: white;}#sk-container-id-2 div.sk-label label {font-family: monospace;font-weight: bold;display: inline-block;line-height: 1.2em;}#sk-container-id-2 div.sk-label-container {text-align: center;}#sk-container-id-2 div.sk-container {/* jupyter's `normalize.less` sets `[hidden] { display: none; }` but bootstrap.min.css set `[hidden] { display: none !important; }` so we also need the `!important` here to be able to override the default hidden behavior on the sphinx rendered scikit-learn.org. See: https://github.com/scikit-learn/scikit-learn/issues/21755 */display: inline-block !important;position: relative;}#sk-container-id-2 div.sk-text-repr-fallback {display: none;}</style><div id=\"sk-container-id-2\" class=\"sk-top-container\"><div class=\"sk-text-repr-fallback\"><pre>LinearRegression()</pre><b>In a Jupyter environment, please rerun this cell to show the HTML representation or trust the notebook. <br />On GitHub, the HTML representation is unable to render, please try loading this page with nbviewer.org.</b></div><div class=\"sk-container\" hidden><div class=\"sk-item\"><div class=\"sk-estimator sk-toggleable\"><input class=\"sk-toggleable__control sk-hidden--visually\" id=\"sk-estimator-id-4\" type=\"checkbox\" checked><label for=\"sk-estimator-id-4\" class=\"sk-toggleable__label sk-toggleable__label-arrow\">LinearRegression</label><div class=\"sk-toggleable__content\"><pre>LinearRegression()</pre></div></div></div></div></div>"
      ],
      "text/plain": [
       "LinearRegression()"
      ]
     },
     "execution_count": 46,
     "metadata": {},
     "output_type": "execute_result"
    }
   ],
   "source": [
    "Linearmodel = LinearRegression()\n",
    "Linearmodel.fit(newxtrain, newytrain)"
   ]
  },
  {
   "cell_type": "markdown",
   "id": "8e9fb2a6",
   "metadata": {},
   "source": [
    "### K-Nearest Neighbor(KNN) Model"
   ]
  },
  {
   "cell_type": "code",
   "execution_count": 47,
   "id": "1ddad095",
   "metadata": {
    "ExecuteTime": {
     "end_time": "2022-12-13T14:13:02.889063Z",
     "start_time": "2022-12-13T14:13:02.867042Z"
    }
   },
   "outputs": [
    {
     "data": {
      "text/html": [
       "<style>#sk-container-id-3 {color: black;background-color: white;}#sk-container-id-3 pre{padding: 0;}#sk-container-id-3 div.sk-toggleable {background-color: white;}#sk-container-id-3 label.sk-toggleable__label {cursor: pointer;display: block;width: 100%;margin-bottom: 0;padding: 0.3em;box-sizing: border-box;text-align: center;}#sk-container-id-3 label.sk-toggleable__label-arrow:before {content: \"▸\";float: left;margin-right: 0.25em;color: #696969;}#sk-container-id-3 label.sk-toggleable__label-arrow:hover:before {color: black;}#sk-container-id-3 div.sk-estimator:hover label.sk-toggleable__label-arrow:before {color: black;}#sk-container-id-3 div.sk-toggleable__content {max-height: 0;max-width: 0;overflow: hidden;text-align: left;background-color: #f0f8ff;}#sk-container-id-3 div.sk-toggleable__content pre {margin: 0.2em;color: black;border-radius: 0.25em;background-color: #f0f8ff;}#sk-container-id-3 input.sk-toggleable__control:checked~div.sk-toggleable__content {max-height: 200px;max-width: 100%;overflow: auto;}#sk-container-id-3 input.sk-toggleable__control:checked~label.sk-toggleable__label-arrow:before {content: \"▾\";}#sk-container-id-3 div.sk-estimator input.sk-toggleable__control:checked~label.sk-toggleable__label {background-color: #d4ebff;}#sk-container-id-3 div.sk-label input.sk-toggleable__control:checked~label.sk-toggleable__label {background-color: #d4ebff;}#sk-container-id-3 input.sk-hidden--visually {border: 0;clip: rect(1px 1px 1px 1px);clip: rect(1px, 1px, 1px, 1px);height: 1px;margin: -1px;overflow: hidden;padding: 0;position: absolute;width: 1px;}#sk-container-id-3 div.sk-estimator {font-family: monospace;background-color: #f0f8ff;border: 1px dotted black;border-radius: 0.25em;box-sizing: border-box;margin-bottom: 0.5em;}#sk-container-id-3 div.sk-estimator:hover {background-color: #d4ebff;}#sk-container-id-3 div.sk-parallel-item::after {content: \"\";width: 100%;border-bottom: 1px solid gray;flex-grow: 1;}#sk-container-id-3 div.sk-label:hover label.sk-toggleable__label {background-color: #d4ebff;}#sk-container-id-3 div.sk-serial::before {content: \"\";position: absolute;border-left: 1px solid gray;box-sizing: border-box;top: 0;bottom: 0;left: 50%;z-index: 0;}#sk-container-id-3 div.sk-serial {display: flex;flex-direction: column;align-items: center;background-color: white;padding-right: 0.2em;padding-left: 0.2em;position: relative;}#sk-container-id-3 div.sk-item {position: relative;z-index: 1;}#sk-container-id-3 div.sk-parallel {display: flex;align-items: stretch;justify-content: center;background-color: white;position: relative;}#sk-container-id-3 div.sk-item::before, #sk-container-id-3 div.sk-parallel-item::before {content: \"\";position: absolute;border-left: 1px solid gray;box-sizing: border-box;top: 0;bottom: 0;left: 50%;z-index: -1;}#sk-container-id-3 div.sk-parallel-item {display: flex;flex-direction: column;z-index: 1;position: relative;background-color: white;}#sk-container-id-3 div.sk-parallel-item:first-child::after {align-self: flex-end;width: 50%;}#sk-container-id-3 div.sk-parallel-item:last-child::after {align-self: flex-start;width: 50%;}#sk-container-id-3 div.sk-parallel-item:only-child::after {width: 0;}#sk-container-id-3 div.sk-dashed-wrapped {border: 1px dashed gray;margin: 0 0.4em 0.5em 0.4em;box-sizing: border-box;padding-bottom: 0.4em;background-color: white;}#sk-container-id-3 div.sk-label label {font-family: monospace;font-weight: bold;display: inline-block;line-height: 1.2em;}#sk-container-id-3 div.sk-label-container {text-align: center;}#sk-container-id-3 div.sk-container {/* jupyter's `normalize.less` sets `[hidden] { display: none; }` but bootstrap.min.css set `[hidden] { display: none !important; }` so we also need the `!important` here to be able to override the default hidden behavior on the sphinx rendered scikit-learn.org. See: https://github.com/scikit-learn/scikit-learn/issues/21755 */display: inline-block !important;position: relative;}#sk-container-id-3 div.sk-text-repr-fallback {display: none;}</style><div id=\"sk-container-id-3\" class=\"sk-top-container\"><div class=\"sk-text-repr-fallback\"><pre>KNeighborsRegressor(n_neighbors=7)</pre><b>In a Jupyter environment, please rerun this cell to show the HTML representation or trust the notebook. <br />On GitHub, the HTML representation is unable to render, please try loading this page with nbviewer.org.</b></div><div class=\"sk-container\" hidden><div class=\"sk-item\"><div class=\"sk-estimator sk-toggleable\"><input class=\"sk-toggleable__control sk-hidden--visually\" id=\"sk-estimator-id-5\" type=\"checkbox\" checked><label for=\"sk-estimator-id-5\" class=\"sk-toggleable__label sk-toggleable__label-arrow\">KNeighborsRegressor</label><div class=\"sk-toggleable__content\"><pre>KNeighborsRegressor(n_neighbors=7)</pre></div></div></div></div></div>"
      ],
      "text/plain": [
       "KNeighborsRegressor(n_neighbors=7)"
      ]
     },
     "execution_count": 47,
     "metadata": {},
     "output_type": "execute_result"
    }
   ],
   "source": [
    "from sklearn.neighbors import KNeighborsRegressor\n",
    "knnmodel = KNeighborsRegressor(n_neighbors=7)\n",
    "knnmodel.fit(newxtrain, newytrain)"
   ]
  },
  {
   "cell_type": "markdown",
   "id": "26673921",
   "metadata": {},
   "source": [
    "## Model Evaluation on train and test dataset"
   ]
  },
  {
   "cell_type": "raw",
   "id": "ab1c3e44",
   "metadata": {},
   "source": [
    "Mean Absolute Error is called (MAE) and Root Mean Squared Error is called (RMSE)\n",
    "Both MAE and RMSE can range from 0 to ∞, They are negatively-oriented scores: Lower values are better\n",
    "closer r-squared value is to 1, better is fit\n",
    "An r-squared value of 0 indicates that regression line does not fit data at all while value of 1 indicates a perfect fit"
   ]
  },
  {
   "cell_type": "code",
   "execution_count": 48,
   "id": "8bc73123",
   "metadata": {
    "ExecuteTime": {
     "end_time": "2022-12-13T14:13:05.171889Z",
     "start_time": "2022-12-13T14:13:05.164368Z"
    }
   },
   "outputs": [
    {
     "name": "stdout",
     "output_type": "stream",
     "text": [
      "Linear Regression Model\n",
      "Error Metrics for train set\n",
      "MAE ::  23507.8917\n",
      "MSE ::  1085233475.3036\n",
      "R2 ::  81.1072\n"
     ]
    },
    {
     "data": {
      "text/plain": [
       "[23507.8917, 1085233475.3036, 81.1072]"
      ]
     },
     "execution_count": 48,
     "metadata": {},
     "output_type": "execute_result"
    }
   ],
   "source": [
    "print(\"Linear Regression Model\")\n",
    "print(\"Error Metrics for train set\")\n",
    "evaluator = Metrics()\n",
    "evaluator.evaluate(Linearmodel, newxtrain, newytrain)"
   ]
  },
  {
   "cell_type": "code",
   "execution_count": 49,
   "id": "bb4e7db2",
   "metadata": {
    "ExecuteTime": {
     "end_time": "2022-12-13T14:13:07.333492Z",
     "start_time": "2022-12-13T14:13:07.317490Z"
    }
   },
   "outputs": [
    {
     "name": "stdout",
     "output_type": "stream",
     "text": [
      "Linear Regression Model\n",
      "Error Metrics for test set\n",
      "MAE ::  28920.8064\n",
      "MSE ::  3340928380.8683\n",
      "R2 ::  60.7142\n"
     ]
    },
    {
     "data": {
      "text/plain": [
       "[28920.8064, 3340928380.8683, 60.7142]"
      ]
     },
     "execution_count": 49,
     "metadata": {},
     "output_type": "execute_result"
    }
   ],
   "source": [
    "print(\"Linear Regression Model\")\n",
    "print(\"Error Metrics for test set\")\n",
    "evaluator = Metrics()\n",
    "evaluator.evaluate(Linearmodel, xtest_scaled, ytest)"
   ]
  },
  {
   "cell_type": "code",
   "execution_count": 34,
   "id": "325f520b",
   "metadata": {},
   "outputs": [
    {
     "name": "stdout",
     "output_type": "stream",
     "text": [
      "K-Nearest Neighbor(KNN) Model\n",
      "Error Metrics for train set\n",
      "MAE ::  18729.8727\n",
      "MSE ::  729375836.7872\n",
      "R2 ::  87.3023\n"
     ]
    },
    {
     "data": {
      "text/plain": [
       "[18729.8727, 729375836.7872, 87.3023]"
      ]
     },
     "execution_count": 34,
     "metadata": {},
     "output_type": "execute_result"
    }
   ],
   "source": [
    "print(\"K-Nearest Neighbor(KNN) Model\")\n",
    "print(\"Error Metrics for train set\")\n",
    "evaluator.evaluate(knnmodel, newxtrain, newytrain)"
   ]
  },
  {
   "cell_type": "code",
   "execution_count": 35,
   "id": "f882c91e",
   "metadata": {},
   "outputs": [
    {
     "name": "stdout",
     "output_type": "stream",
     "text": [
      "K-Nearest Neighbor(KNN) Model\n",
      "Error Metrics for test set\n",
      "MAE ::  25856.2381\n",
      "MSE ::  1807846684.4708\n",
      "R2 ::  78.7416\n"
     ]
    },
    {
     "data": {
      "text/plain": [
       "[25856.2381, 1807846684.4708, 78.7416]"
      ]
     },
     "execution_count": 35,
     "metadata": {},
     "output_type": "execute_result"
    }
   ],
   "source": [
    "print(\"K-Nearest Neighbor(KNN) Model\")\n",
    "print(\"Error Metrics for test set\")\n",
    "evaluator.evaluate(knnmodel, xtest_scaled, ytest)"
   ]
  },
  {
   "cell_type": "markdown",
   "id": "3a6a546a",
   "metadata": {},
   "source": [
    "## Model with Crossvalidation"
   ]
  },
  {
   "cell_type": "code",
   "execution_count": 36,
   "id": "95c86d1c",
   "metadata": {},
   "outputs": [
    {
     "name": "stdout",
     "output_type": "stream",
     "text": [
      "train data index (896,)\n",
      "test data index (225,)\n",
      "train data index (897,)\n",
      "test data index (224,)\n",
      "train data index (897,)\n",
      "test data index (224,)\n",
      "train data index (897,)\n",
      "test data index (224,)\n",
      "train data index (897,)\n",
      "test data index (224,)\n"
     ]
    }
   ],
   "source": [
    "from sklearn.model_selection import KFold\n",
    "kfold = KFold(n_splits=5)\n",
    "for train_idx, test_idx in kfold.split(data[feature_list], data.SalePrice):\n",
    "    print(\"train data index\", train_idx.shape)\n",
    "    print(\"test data index\", test_idx.shape)"
   ]
  },
  {
   "cell_type": "code",
   "execution_count": 64,
   "id": "8624ec9c",
   "metadata": {},
   "outputs": [
    {
     "name": "stdout",
     "output_type": "stream",
     "text": [
      "Linear Regression Model\n",
      "train_report\n",
      "MAE ::  24587.3747\n",
      "MSE ::  1391110021.6406\n",
      "R2 ::  78.4110\n",
      "test_report\n",
      "MAE ::  28971.7497\n",
      "MSE ::  3278218368.9155\n",
      "R2 ::  61.4516\n",
      "=====================================\n",
      "train_report\n",
      "MAE ::  26879.8882\n",
      "MSE ::  1914638128.6028\n",
      "R2 ::  73.8290\n",
      "test_report\n",
      "MAE ::  22585.6639\n",
      "MSE ::  999659409.5532\n",
      "R2 ::  80.4516\n",
      "=====================================\n",
      "train_report\n",
      "MAE ::  27204.4547\n",
      "MSE ::  1940213259.7364\n",
      "R2 ::  74.2078\n",
      "test_report\n",
      "MAE ::  22029.6437\n",
      "MSE ::  903026757.1664\n",
      "R2 ::  78.4927\n",
      "=====================================\n",
      "train_report\n",
      "MAE ::  24611.8186\n",
      "MSE ::  1568640959.9097\n",
      "R2 ::  75.8340\n",
      "test_report\n",
      "MAE ::  30455.6294\n",
      "MSE ::  2391565158.5224\n",
      "R2 ::  71.6985\n",
      "=====================================\n",
      "train_report\n",
      "MAE ::  26172.2286\n",
      "MSE ::  1781857925.1705\n",
      "R2 ::  73.1024\n",
      "test_report\n",
      "MAE ::  25991.4580\n",
      "MSE ::  1579155735.5348\n",
      "R2 ::  79.9926\n",
      "=====================================\n"
     ]
    }
   ],
   "source": [
    "LR_eval_test_scores = []\n",
    "kfold = KFold(n_splits=5, shuffle=True, random_state=33)\n",
    "print(\"Linear Regression Model\")\n",
    "for train_idx, test_idx in kfold.split(data[feature_list], data.SalePrice):\n",
    "    # setting up data\n",
    "    xtrain = data[feature_list].iloc[train_idx]\n",
    "    xtest = data[feature_list].iloc[test_idx]\n",
    "    ytrain = data.SalePrice.iloc[train_idx]\n",
    "    ytest = data.SalePrice.iloc[test_idx]\n",
    "    \n",
    "    # Data Standardization on train set and test set\n",
    "    scaler = StandardScaler()\n",
    "    # fit and transform are both applied on training data\n",
    "    xtrain[feature_list] = scaler.fit_transform(xtrain[feature_list])\n",
    "    # only transform is applied on test data as features used to fit training data is applied in test data to perform transform \n",
    "    xtest[feature_list] = scaler.transform(xtest[feature_list])\n",
    "\n",
    "    # modeling\n",
    "    Linearmodel = LinearRegression()\n",
    "    Linearmodel.fit(xtrain, ytrain)\n",
    "    \n",
    "    # evaluation\n",
    "    print(\"train_report\")\n",
    "    train_report = evaluator.evaluate(model=Linearmodel, features=xtrain, target=ytrain)\n",
    "    print(\"test_report\")\n",
    "    test_report = evaluator.evaluate(model=Linearmodel, features=xtest, target=ytest)\n",
    "    print('=====================================')\n",
    "    LR_eval_test_scores.append(test_report)"
   ]
  },
  {
   "cell_type": "code",
   "execution_count": 65,
   "id": "5a328a89",
   "metadata": {},
   "outputs": [
    {
     "data": {
      "text/plain": [
       "[[28971.7497, 3278218368.9155, 61.4516],\n",
       " [22585.6639, 999659409.5532, 80.4516],\n",
       " [22029.6437, 903026757.1664, 78.4927],\n",
       " [30455.6294, 2391565158.5224, 71.6985],\n",
       " [25991.458, 1579155735.5348, 79.9926]]"
      ]
     },
     "execution_count": 65,
     "metadata": {},
     "output_type": "execute_result"
    }
   ],
   "source": [
    "LR_eval_test_scores"
   ]
  },
  {
   "cell_type": "code",
   "execution_count": 66,
   "id": "339ead6f",
   "metadata": {},
   "outputs": [
    {
     "data": {
      "text/plain": [
       "array([[28971.75, 3278218368.92, 61.45],\n",
       "       [22585.66, 999659409.55, 80.45],\n",
       "       [22029.64, 903026757.17, 78.49],\n",
       "       [30455.63, 2391565158.52, 71.70],\n",
       "       [25991.46, 1579155735.53, 79.99]])"
      ]
     },
     "execution_count": 66,
     "metadata": {},
     "output_type": "execute_result"
    }
   ],
   "source": [
    "# converting list to numpy array\n",
    "# force-suppress exponential Scientific Notation in Numpy When Creating Array From Nested List\n",
    "np.set_printoptions(suppress=True, formatter={'float_kind':'{:.2f}'.format})\n",
    "LRts = np.array(LR_eval_test_scores)\n",
    "LRts"
   ]
  },
  {
   "cell_type": "code",
   "execution_count": 68,
   "id": "8adc8af4",
   "metadata": {},
   "outputs": [
    {
     "name": "stdout",
     "output_type": "stream",
     "text": [
      "Max Value:  [30455.63 3278218368.92 80.45]\n",
      "Min Value:  [22029.64 903026757.17 61.45]\n",
      "Avg Value:  [26006.83 1830325085.94 74.42]\n"
     ]
    }
   ],
   "source": [
    "# order of metrics in array: MAE, MSE, R2 \n",
    "print(\"Max Value: \",LRts.max(axis=0))\n",
    "print(\"Min Value: \",LRts.min(axis=0))\n",
    "print(\"Avg Value: \",LRts.mean(axis=0))"
   ]
  },
  {
   "cell_type": "code",
   "execution_count": 69,
   "id": "bb2b577f",
   "metadata": {},
   "outputs": [
    {
     "name": "stdout",
     "output_type": "stream",
     "text": [
      "K-Nearest Neighbor(KNN) Model\n",
      "train_report\n",
      "MAE ::  19834.4815\n",
      "MSE ::  1019393287.9509\n",
      "R2 ::  84.1798\n",
      "test_report\n",
      "MAE ::  25856.2381\n",
      "MSE ::  1807846684.4708\n",
      "R2 ::  78.7416\n",
      "=====================================\n",
      "train_report\n",
      "MAE ::  22366.1204\n",
      "MSE ::  1387479976.4467\n",
      "R2 ::  81.0346\n",
      "test_report\n",
      "MAE ::  18644.7124\n",
      "MSE ::  697289648.9112\n",
      "R2 ::  86.3645\n",
      "=====================================\n",
      "train_report\n",
      "MAE ::  22601.8548\n",
      "MSE ::  1406637876.8476\n",
      "R2 ::  81.3009\n",
      "test_report\n",
      "MAE ::  17566.8355\n",
      "MSE ::  617394307.4557\n",
      "R2 ::  85.2956\n",
      "=====================================\n",
      "train_report\n",
      "MAE ::  20678.9857\n",
      "MSE ::  1121573023.1464\n",
      "R2 ::  82.7214\n",
      "test_report\n",
      "MAE ::  24076.3680\n",
      "MSE ::  1629366620.8966\n",
      "R2 ::  80.7182\n",
      "=====================================\n",
      "train_report\n",
      "MAE ::  21539.0885\n",
      "MSE ::  1210290344.9053\n",
      "R2 ::  81.7303\n",
      "test_report\n",
      "MAE ::  20610.2991\n",
      "MSE ::  1300845338.4050\n",
      "R2 ::  83.5187\n",
      "=====================================\n"
     ]
    }
   ],
   "source": [
    "KNN_eval_test_scores = []\n",
    "kfold = KFold(n_splits=5, shuffle=True, random_state=33)\n",
    "print(\"K-Nearest Neighbor(KNN) Model\")\n",
    "for train_idx, test_idx in kfold.split(data[feature_list], data.SalePrice):\n",
    "    # setting up data\n",
    "    xtrain = data[feature_list].iloc[train_idx]\n",
    "    xtest = data[feature_list].iloc[test_idx]\n",
    "    ytrain = data.SalePrice.iloc[train_idx]\n",
    "    ytest = data.SalePrice.iloc[test_idx]\n",
    "    \n",
    "    # Data Standardization on train set and test set\n",
    "    scaler = StandardScaler()\n",
    "    # fit and transform are both applied on training data\n",
    "    xtrain[feature_list] = scaler.fit_transform(xtrain[feature_list])\n",
    "    # only transform is applied on test data as features used to fit training data is applied in test data to perform transform \n",
    "    xtest[feature_list] = scaler.transform(xtest[feature_list])\n",
    "\n",
    "    # modeling\n",
    "    knnmodel = KNeighborsRegressor(n_neighbors=7)\n",
    "    knnmodel.fit(newxtrain, newytrain)\n",
    "    \n",
    "    # evaluation\n",
    "    print(\"train_report\")\n",
    "    train_report = evaluator.evaluate(model=knnmodel, features=xtrain, target=ytrain)\n",
    "    print(\"test_report\")\n",
    "    test_report = evaluator.evaluate(model=knnmodel, features=xtest, target=ytest)\n",
    "    print('=====================================')\n",
    "    KNN_eval_test_scores.append(test_report)"
   ]
  },
  {
   "cell_type": "code",
   "execution_count": 70,
   "id": "a49357cc",
   "metadata": {},
   "outputs": [
    {
     "data": {
      "text/plain": [
       "[[25856.2381, 1807846684.4708, 78.7416],\n",
       " [18644.7124, 697289648.9112, 86.3645],\n",
       " [17566.8355, 617394307.4557, 85.2956],\n",
       " [24076.368, 1629366620.8966, 80.7182],\n",
       " [20610.2991, 1300845338.405, 83.5187]]"
      ]
     },
     "execution_count": 70,
     "metadata": {},
     "output_type": "execute_result"
    }
   ],
   "source": [
    "KNN_eval_test_scores"
   ]
  },
  {
   "cell_type": "code",
   "execution_count": 71,
   "id": "249ccd5b",
   "metadata": {},
   "outputs": [
    {
     "data": {
      "text/plain": [
       "array([[25856.24, 1807846684.47, 78.74],\n",
       "       [18644.71, 697289648.91, 86.36],\n",
       "       [17566.84, 617394307.46, 85.30],\n",
       "       [24076.37, 1629366620.90, 80.72],\n",
       "       [20610.30, 1300845338.40, 83.52]])"
      ]
     },
     "execution_count": 71,
     "metadata": {},
     "output_type": "execute_result"
    }
   ],
   "source": [
    "# converting list to numpy array\n",
    "# force-suppress exponential Scientific Notation in Numpy When Creating Array From Nested List\n",
    "np.set_printoptions(suppress=True, formatter={'float_kind':'{:.2f}'.format})\n",
    "KNNts = np.array(KNN_eval_test_scores)\n",
    "KNNts"
   ]
  },
  {
   "cell_type": "code",
   "execution_count": 72,
   "id": "d884fe99",
   "metadata": {},
   "outputs": [
    {
     "name": "stdout",
     "output_type": "stream",
     "text": [
      "Max Value:  [25856.24 1807846684.47 86.36]\n",
      "Min Value:  [17566.84 617394307.46 78.74]\n",
      "Avg Value:  [21350.89 1210548520.03 82.93]\n"
     ]
    }
   ],
   "source": [
    "# order of metrics in array: MAE, MSE, R2 \n",
    "print(\"Max Value: \",KNNts.max(axis=0))\n",
    "print(\"Min Value: \",KNNts.min(axis=0))\n",
    "print(\"Avg Value: \",KNNts.mean(axis=0))"
   ]
  },
  {
   "cell_type": "code",
   "execution_count": null,
   "id": "a998b719",
   "metadata": {},
   "outputs": [],
   "source": []
  },
  {
   "cell_type": "code",
   "execution_count": 130,
   "id": "d1b76828",
   "metadata": {},
   "outputs": [],
   "source": []
  },
  {
   "cell_type": "code",
   "execution_count": 51,
   "id": "83af357f",
   "metadata": {},
   "outputs": [],
   "source": []
  },
  {
   "cell_type": "code",
   "execution_count": null,
   "id": "2cc7d13d",
   "metadata": {},
   "outputs": [],
   "source": []
  },
  {
   "cell_type": "code",
   "execution_count": null,
   "id": "4c321024",
   "metadata": {},
   "outputs": [],
   "source": []
  },
  {
   "cell_type": "code",
   "execution_count": 116,
   "id": "4d6b8a9d",
   "metadata": {},
   "outputs": [],
   "source": []
  },
  {
   "cell_type": "markdown",
   "id": "eb55b690",
   "metadata": {},
   "source": [
    "## Model validation on Unknown data"
   ]
  },
  {
   "cell_type": "code",
   "execution_count": 225,
   "id": "6eb1ab0e",
   "metadata": {},
   "outputs": [
    {
     "data": {
      "text/plain": [
       "(1459, 80)"
      ]
     },
     "execution_count": 225,
     "metadata": {},
     "output_type": "execute_result"
    }
   ],
   "source": [
    "testdata = pd.read_csv('Datasets/testHousePrices.csv')\n",
    "testdata.shape"
   ]
  },
  {
   "cell_type": "code",
   "execution_count": 226,
   "id": "9c5108e0",
   "metadata": {},
   "outputs": [],
   "source": [
    "cat_cols = testdata.select_dtypes('object').columns\n",
    "testdata.drop(columns=cat_cols, inplace=True)"
   ]
  },
  {
   "cell_type": "code",
   "execution_count": 227,
   "id": "8d85da86",
   "metadata": {},
   "outputs": [
    {
     "data": {
      "text/plain": [
       "(1459, 37)"
      ]
     },
     "execution_count": 227,
     "metadata": {},
     "output_type": "execute_result"
    }
   ],
   "source": [
    "testdata.shape"
   ]
  },
  {
   "cell_type": "code",
   "execution_count": 228,
   "id": "80297311",
   "metadata": {},
   "outputs": [
    {
     "data": {
      "text/plain": [
       "Index(['Id', 'MSSubClass', 'LotFrontage', 'LotArea', 'OverallQual',\n",
       "       'OverallCond', 'YearBuilt', 'YearRemodAdd', 'MasVnrArea', 'BsmtFinSF1',\n",
       "       'BsmtFinSF2', 'BsmtUnfSF', 'TotalBsmtSF', '1stFlrSF', '2ndFlrSF',\n",
       "       'LowQualFinSF', 'GrLivArea', 'BsmtFullBath', 'BsmtHalfBath', 'FullBath',\n",
       "       'HalfBath', 'BedroomAbvGr', 'KitchenAbvGr', 'TotRmsAbvGrd',\n",
       "       'Fireplaces', 'GarageYrBlt', 'GarageCars', 'GarageArea', 'WoodDeckSF',\n",
       "       'OpenPorchSF', 'EnclosedPorch', '3SsnPorch', 'ScreenPorch', 'PoolArea',\n",
       "       'MiscVal', 'MoSold', 'YrSold'],\n",
       "      dtype='object')"
      ]
     },
     "execution_count": 228,
     "metadata": {},
     "output_type": "execute_result"
    }
   ],
   "source": [
    "testdata.columns"
   ]
  },
  {
   "cell_type": "code",
   "execution_count": 229,
   "id": "1dea0974",
   "metadata": {},
   "outputs": [],
   "source": [
    "# removing missing values\n",
    "testdata.dropna(axis = 0, how ='any',inplace=True) "
   ]
  },
  {
   "cell_type": "code",
   "execution_count": 230,
   "id": "5fb0c746",
   "metadata": {},
   "outputs": [
    {
     "data": {
      "text/plain": [
       "(1146, 37)"
      ]
     },
     "execution_count": 230,
     "metadata": {},
     "output_type": "execute_result"
    }
   ],
   "source": [
    "testdata.shape"
   ]
  },
  {
   "cell_type": "code",
   "execution_count": 231,
   "id": "17ff2180",
   "metadata": {},
   "outputs": [
    {
     "data": {
      "text/html": [
       "<div>\n",
       "<style scoped>\n",
       "    .dataframe tbody tr th:only-of-type {\n",
       "        vertical-align: middle;\n",
       "    }\n",
       "\n",
       "    .dataframe tbody tr th {\n",
       "        vertical-align: top;\n",
       "    }\n",
       "\n",
       "    .dataframe thead th {\n",
       "        text-align: right;\n",
       "    }\n",
       "</style>\n",
       "<table border=\"1\" class=\"dataframe\">\n",
       "  <thead>\n",
       "    <tr style=\"text-align: right;\">\n",
       "      <th></th>\n",
       "      <th>OverallQual</th>\n",
       "      <th>BsmtFinSF1</th>\n",
       "      <th>TotalBsmtSF</th>\n",
       "      <th>2ndFlrSF</th>\n",
       "      <th>GrLivArea</th>\n",
       "    </tr>\n",
       "  </thead>\n",
       "  <tbody>\n",
       "    <tr>\n",
       "      <th>0</th>\n",
       "      <td>5</td>\n",
       "      <td>468.0</td>\n",
       "      <td>882.0</td>\n",
       "      <td>0</td>\n",
       "      <td>896</td>\n",
       "    </tr>\n",
       "    <tr>\n",
       "      <th>1</th>\n",
       "      <td>6</td>\n",
       "      <td>923.0</td>\n",
       "      <td>1329.0</td>\n",
       "      <td>0</td>\n",
       "      <td>1329</td>\n",
       "    </tr>\n",
       "    <tr>\n",
       "      <th>2</th>\n",
       "      <td>5</td>\n",
       "      <td>791.0</td>\n",
       "      <td>928.0</td>\n",
       "      <td>701</td>\n",
       "      <td>1629</td>\n",
       "    </tr>\n",
       "    <tr>\n",
       "      <th>3</th>\n",
       "      <td>6</td>\n",
       "      <td>602.0</td>\n",
       "      <td>926.0</td>\n",
       "      <td>678</td>\n",
       "      <td>1604</td>\n",
       "    </tr>\n",
       "    <tr>\n",
       "      <th>4</th>\n",
       "      <td>8</td>\n",
       "      <td>263.0</td>\n",
       "      <td>1280.0</td>\n",
       "      <td>0</td>\n",
       "      <td>1280</td>\n",
       "    </tr>\n",
       "    <tr>\n",
       "      <th>...</th>\n",
       "      <td>...</td>\n",
       "      <td>...</td>\n",
       "      <td>...</td>\n",
       "      <td>...</td>\n",
       "      <td>...</td>\n",
       "    </tr>\n",
       "    <tr>\n",
       "      <th>1451</th>\n",
       "      <td>5</td>\n",
       "      <td>119.0</td>\n",
       "      <td>1104.0</td>\n",
       "      <td>0</td>\n",
       "      <td>1360</td>\n",
       "    </tr>\n",
       "    <tr>\n",
       "      <th>1452</th>\n",
       "      <td>4</td>\n",
       "      <td>408.0</td>\n",
       "      <td>546.0</td>\n",
       "      <td>546</td>\n",
       "      <td>1092</td>\n",
       "    </tr>\n",
       "    <tr>\n",
       "      <th>1455</th>\n",
       "      <td>4</td>\n",
       "      <td>252.0</td>\n",
       "      <td>546.0</td>\n",
       "      <td>546</td>\n",
       "      <td>1092</td>\n",
       "    </tr>\n",
       "    <tr>\n",
       "      <th>1456</th>\n",
       "      <td>5</td>\n",
       "      <td>1224.0</td>\n",
       "      <td>1224.0</td>\n",
       "      <td>0</td>\n",
       "      <td>1224</td>\n",
       "    </tr>\n",
       "    <tr>\n",
       "      <th>1458</th>\n",
       "      <td>7</td>\n",
       "      <td>758.0</td>\n",
       "      <td>996.0</td>\n",
       "      <td>1004</td>\n",
       "      <td>2000</td>\n",
       "    </tr>\n",
       "  </tbody>\n",
       "</table>\n",
       "<p>1146 rows × 5 columns</p>\n",
       "</div>"
      ],
      "text/plain": [
       "      OverallQual  BsmtFinSF1  TotalBsmtSF  2ndFlrSF  GrLivArea\n",
       "0               5       468.0        882.0         0        896\n",
       "1               6       923.0       1329.0         0       1329\n",
       "2               5       791.0        928.0       701       1629\n",
       "3               6       602.0        926.0       678       1604\n",
       "4               8       263.0       1280.0         0       1280\n",
       "...           ...         ...          ...       ...        ...\n",
       "1451            5       119.0       1104.0         0       1360\n",
       "1452            4       408.0        546.0       546       1092\n",
       "1455            4       252.0        546.0       546       1092\n",
       "1456            5      1224.0       1224.0         0       1224\n",
       "1458            7       758.0        996.0      1004       2000\n",
       "\n",
       "[1146 rows x 5 columns]"
      ]
     },
     "execution_count": 231,
     "metadata": {},
     "output_type": "execute_result"
    }
   ],
   "source": [
    "testdata1 = testdata[feature_list]\n",
    "testdata1"
   ]
  },
  {
   "cell_type": "code",
   "execution_count": 224,
   "id": "8cea7e5e",
   "metadata": {},
   "outputs": [
    {
     "data": {
      "text/html": [
       "<div>\n",
       "<style scoped>\n",
       "    .dataframe tbody tr th:only-of-type {\n",
       "        vertical-align: middle;\n",
       "    }\n",
       "\n",
       "    .dataframe tbody tr th {\n",
       "        vertical-align: top;\n",
       "    }\n",
       "\n",
       "    .dataframe thead th {\n",
       "        text-align: right;\n",
       "    }\n",
       "</style>\n",
       "<table border=\"1\" class=\"dataframe\">\n",
       "  <thead>\n",
       "    <tr style=\"text-align: right;\">\n",
       "      <th></th>\n",
       "      <th>OverallQual</th>\n",
       "      <th>BsmtFinSF1</th>\n",
       "      <th>TotalBsmtSF</th>\n",
       "      <th>2ndFlrSF</th>\n",
       "      <th>GrLivArea</th>\n",
       "    </tr>\n",
       "  </thead>\n",
       "  <tbody>\n",
       "    <tr>\n",
       "      <th>0</th>\n",
       "      <td>-0.780901</td>\n",
       "      <td>0.062096</td>\n",
       "      <td>-0.385099</td>\n",
       "      <td>-0.779421</td>\n",
       "      <td>-1.216014</td>\n",
       "    </tr>\n",
       "    <tr>\n",
       "      <th>1</th>\n",
       "      <td>-0.095144</td>\n",
       "      <td>1.042790</td>\n",
       "      <td>0.606923</td>\n",
       "      <td>-0.779421</td>\n",
       "      <td>-0.311419</td>\n",
       "    </tr>\n",
       "    <tr>\n",
       "      <th>2</th>\n",
       "      <td>-0.780901</td>\n",
       "      <td>0.758281</td>\n",
       "      <td>-0.283011</td>\n",
       "      <td>0.936509</td>\n",
       "      <td>0.315320</td>\n",
       "    </tr>\n",
       "    <tr>\n",
       "      <th>3</th>\n",
       "      <td>-0.095144</td>\n",
       "      <td>0.350916</td>\n",
       "      <td>-0.287450</td>\n",
       "      <td>0.880209</td>\n",
       "      <td>0.263092</td>\n",
       "    </tr>\n",
       "    <tr>\n",
       "      <th>4</th>\n",
       "      <td>1.276369</td>\n",
       "      <td>-0.379755</td>\n",
       "      <td>0.498178</td>\n",
       "      <td>-0.779421</td>\n",
       "      <td>-0.413787</td>\n",
       "    </tr>\n",
       "    <tr>\n",
       "      <th>...</th>\n",
       "      <td>...</td>\n",
       "      <td>...</td>\n",
       "      <td>...</td>\n",
       "      <td>...</td>\n",
       "      <td>...</td>\n",
       "    </tr>\n",
       "    <tr>\n",
       "      <th>1451</th>\n",
       "      <td>-0.780901</td>\n",
       "      <td>-0.690129</td>\n",
       "      <td>0.107583</td>\n",
       "      <td>-0.779421</td>\n",
       "      <td>-0.246656</td>\n",
       "    </tr>\n",
       "    <tr>\n",
       "      <th>1452</th>\n",
       "      <td>-1.466657</td>\n",
       "      <td>-0.067227</td>\n",
       "      <td>-1.130779</td>\n",
       "      <td>0.557095</td>\n",
       "      <td>-0.806544</td>\n",
       "    </tr>\n",
       "    <tr>\n",
       "      <th>1455</th>\n",
       "      <td>-1.466657</td>\n",
       "      <td>-0.403465</td>\n",
       "      <td>-1.130779</td>\n",
       "      <td>0.557095</td>\n",
       "      <td>-0.806544</td>\n",
       "    </tr>\n",
       "    <tr>\n",
       "      <th>1456</th>\n",
       "      <td>-0.780901</td>\n",
       "      <td>1.691557</td>\n",
       "      <td>0.373898</td>\n",
       "      <td>-0.779421</td>\n",
       "      <td>-0.530778</td>\n",
       "    </tr>\n",
       "    <tr>\n",
       "      <th>1458</th>\n",
       "      <td>0.590612</td>\n",
       "      <td>0.687154</td>\n",
       "      <td>-0.132100</td>\n",
       "      <td>1.678202</td>\n",
       "      <td>1.090389</td>\n",
       "    </tr>\n",
       "  </tbody>\n",
       "</table>\n",
       "<p>1146 rows × 5 columns</p>\n",
       "</div>"
      ],
      "text/plain": [
       "      OverallQual  BsmtFinSF1  TotalBsmtSF  2ndFlrSF  GrLivArea\n",
       "0       -0.780901    0.062096    -0.385099 -0.779421  -1.216014\n",
       "1       -0.095144    1.042790     0.606923 -0.779421  -0.311419\n",
       "2       -0.780901    0.758281    -0.283011  0.936509   0.315320\n",
       "3       -0.095144    0.350916    -0.287450  0.880209   0.263092\n",
       "4        1.276369   -0.379755     0.498178 -0.779421  -0.413787\n",
       "...           ...         ...          ...       ...        ...\n",
       "1451    -0.780901   -0.690129     0.107583 -0.779421  -0.246656\n",
       "1452    -1.466657   -0.067227    -1.130779  0.557095  -0.806544\n",
       "1455    -1.466657   -0.403465    -1.130779  0.557095  -0.806544\n",
       "1456    -0.780901    1.691557     0.373898 -0.779421  -0.530778\n",
       "1458     0.590612    0.687154    -0.132100  1.678202   1.090389\n",
       "\n",
       "[1146 rows x 5 columns]"
      ]
     },
     "execution_count": 224,
     "metadata": {},
     "output_type": "execute_result"
    }
   ],
   "source": [
    "testdata1 = testdata1.copy()\n",
    "testdata1[feature_list] = scaler.fit_transform(testdata1[feature_list])\n",
    "testdata1"
   ]
  },
  {
   "cell_type": "code",
   "execution_count": 189,
   "id": "ba77481f",
   "metadata": {},
   "outputs": [
    {
     "data": {
      "text/plain": [
       "array([[125557.14285714],\n",
       "       [182342.85714286],\n",
       "       [181785.71428571],\n",
       "       ...,\n",
       "       [ 89500.        ],\n",
       "       [163762.42857143],\n",
       "       [234855.71428571]])"
      ]
     },
     "execution_count": 189,
     "metadata": {},
     "output_type": "execute_result"
    }
   ],
   "source": [
    "pred = knnmodel.predict(testdata1)\n",
    "pred"
   ]
  },
  {
   "cell_type": "code",
   "execution_count": 190,
   "id": "090c0f23",
   "metadata": {},
   "outputs": [
    {
     "data": {
      "text/plain": [
       "array([[119595.09692295],\n",
       "       [196368.7841026 ],\n",
       "       [169596.96602682],\n",
       "       ...,\n",
       "       [ 87631.30181343],\n",
       "       [170512.83495017],\n",
       "       [240144.70577082]])"
      ]
     },
     "execution_count": 190,
     "metadata": {},
     "output_type": "execute_result"
    }
   ],
   "source": [
    "pred2 = Linearmodel.predict(testdata1)\n",
    "pred2"
   ]
  }
 ],
 "metadata": {
  "kernelspec": {
   "display_name": "Python 3 (ipykernel)",
   "language": "python",
   "name": "python3"
  },
  "language_info": {
   "codemirror_mode": {
    "name": "ipython",
    "version": 3
   },
   "file_extension": ".py",
   "mimetype": "text/x-python",
   "name": "python",
   "nbconvert_exporter": "python",
   "pygments_lexer": "ipython3",
   "version": "3.10.6"
  },
  "toc": {
   "base_numbering": 1,
   "nav_menu": {},
   "number_sections": true,
   "sideBar": true,
   "skip_h1_title": false,
   "title_cell": "Table of Contents",
   "title_sidebar": "Contents",
   "toc_cell": true,
   "toc_position": {
    "height": "calc(100% - 180px)",
    "left": "10px",
    "top": "150px",
    "width": "279.398px"
   },
   "toc_section_display": false,
   "toc_window_display": false
  }
 },
 "nbformat": 4,
 "nbformat_minor": 5
}
