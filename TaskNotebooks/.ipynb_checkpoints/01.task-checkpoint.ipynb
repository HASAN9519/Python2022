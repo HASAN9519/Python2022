{
 "cells": [
  {
   "cell_type": "markdown",
   "metadata": {
    "toc": true
   },
   "source": [
    "<h1>Table of Contents<span class=\"tocSkip\"></span></h1>\n",
    "<div class=\"toc\"><ul class=\"toc-item\"><li><span><a href=\"#Find-Smallest-Between-4-Number-Using-Ternary-Operation-and-Conditional-Statement\" data-toc-modified-id=\"Find-Smallest-Between-4-Number-Using-Ternary-Operation-and-Conditional-Statement-1\"><span class=\"toc-item-num\">1&nbsp;&nbsp;</span>Find Smallest Between 4 Number Using Ternary Operation and Conditional Statement</a></span></li><li><span><a href=\"#SMART-DOOR-SYSTEM\" data-toc-modified-id=\"SMART-DOOR-SYSTEM-2\"><span class=\"toc-item-num\">2&nbsp;&nbsp;</span>SMART DOOR SYSTEM</a></span></li><li><span><a href=\"#Task:-Find-Factorial-of-number-using-recursion\" data-toc-modified-id=\"Task:-Find-Factorial-of-number-using-recursion-3\"><span class=\"toc-item-num\">3&nbsp;&nbsp;</span>Task: Find Factorial of number using recursion</a></span></li><li><span><a href=\"#Write-a-Python-program-to-check-vowels-present-in-a-word-using-a-list-and-also-show-the-total-count-of-them\" data-toc-modified-id=\"Write-a-Python-program-to-check-vowels-present-in-a-word-using-a-list-and-also-show-the-total-count-of-them-4\"><span class=\"toc-item-num\">4&nbsp;&nbsp;</span>Write a Python program to check vowels present in a word using a list and also show the total count of them</a></span><ul class=\"toc-item\"><li><span><a href=\"#Write-a-Python-program-to-count-different-denominations-(note-of-2000,-500,-100,-50,-20,10,-5,-2,-1)-for-a-given-amount-of-money\" data-toc-modified-id=\"Write-a-Python-program-to-count-different-denominations-(note-of-2000,-500,-100,-50,-20,10,-5,-2,-1)-for-a-given-amount-of-money-4.1\"><span class=\"toc-item-num\">4.1&nbsp;&nbsp;</span>Write a Python program to count different denominations (note of 2000, 500, 100, 50, 20,10, 5, 2, 1) for a given amount of money</a></span><ul class=\"toc-item\"><li><span><a href=\"#Calculate-Pooja's-account-balance-after-an-attempted-transaction-for-given-condition\" data-toc-modified-id=\"Calculate-Pooja's-account-balance-after-an-attempted-transaction-for-given-condition-4.1.1\"><span class=\"toc-item-num\">4.1.1&nbsp;&nbsp;</span>Calculate Pooja's account balance after an attempted transaction for given condition</a></span></li></ul></li><li><span><a href=\"#Determine-whether-Chef-will-find-the-game-interesting-or-not\" data-toc-modified-id=\"Determine-whether-Chef-will-find-the-game-interesting-or-not-4.2\"><span class=\"toc-item-num\">4.2&nbsp;&nbsp;</span>Determine whether Chef will find the game interesting or not</a></span></li><li><span><a href=\"#Ask-the-user-to-guess-a-fruit-name,-check-how-close-the-guess-is-and-Give-users-a-chance-to-select-the-best-guess\" data-toc-modified-id=\"Ask-the-user-to-guess-a-fruit-name,-check-how-close-the-guess-is-and-Give-users-a-chance-to-select-the-best-guess-4.3\"><span class=\"toc-item-num\">4.3&nbsp;&nbsp;</span>Ask the user to guess a fruit name, check how close the guess is and Give users a chance to select the best guess</a></span></li></ul></li><li><span><a href=\"#Design-classes-for-LinkedIn\" data-toc-modified-id=\"Design-classes-for-LinkedIn-5\"><span class=\"toc-item-num\">5&nbsp;&nbsp;</span>Design classes for LinkedIn</a></span></li><li><span><a href=\"#Online-Banking-System\" data-toc-modified-id=\"Online-Banking-System-6\"><span class=\"toc-item-num\">6&nbsp;&nbsp;</span>Online Banking System</a></span></li></ul></div>"
   ]
  },
  {
   "cell_type": "markdown",
   "metadata": {},
   "source": [
    "### Find Smallest Between 4 Number Using Ternary Operation and Conditional Statement"
   ]
  },
  {
   "cell_type": "code",
   "execution_count": 75,
   "metadata": {},
   "outputs": [
    {
     "name": "stdout",
     "output_type": "stream",
     "text": [
      "numbers are 4, 3, 2, 1\n",
      "1\n"
     ]
    }
   ],
   "source": [
    "#using ternary operation\n",
    "a = int(input())\n",
    "b = int(input())\n",
    "c = int(input())\n",
    "d = int(input())\n",
    "print(f\"numbers are {a}, {b}, {c}, {d}\")\n",
    "small = a if (a<b and a<c and a<d) else (b if (b<a and b<c and b<d) else (c if c<a and c<b and c<d else d))\n",
    "print(small) "
   ]
  },
  {
   "cell_type": "code",
   "execution_count": 2,
   "metadata": {},
   "outputs": [
    {
     "name": "stdout",
     "output_type": "stream",
     "text": [
      "numbers are 2, 3, 3, 4\n",
      "2\n"
     ]
    }
   ],
   "source": [
    "#using Conditional Statement\n",
    "a = int(input())\n",
    "b = int(input())\n",
    "c = int(input())\n",
    "d = int(input())\n",
    "print(f\"numbers are {a}, {b}, {c}, {d}\")\n",
    "if a<b and a<c and a<d:\n",
    "    print(a)\n",
    "elif b<a and b<c and b<d:\n",
    "    print(b)\n",
    "elif c<a and c<b and c<d:\n",
    "    print(c)\n",
    "else:\n",
    "    print(d)"
   ]
  },
  {
   "cell_type": "markdown",
   "metadata": {},
   "source": [
    "### SMART DOOR SYSTEM"
   ]
  },
  {
   "cell_type": "code",
   "execution_count": 12,
   "metadata": {},
   "outputs": [
    {
     "name": "stdout",
     "output_type": "stream",
     "text": [
      "Wrong Password..Try Again\n",
      "Wrong Password..Try Again\n",
      "You Have To Answer Security Question to reset pass...what is your fav place?\n",
      "answer acepted\n",
      "New password has been updated\n",
      "Wrong Password..Try Again\n",
      "Welcome!....You can Enter\n"
     ]
    }
   ],
   "source": [
    "#using function\n",
    "org_pass = \"open@123\" #global variable\n",
    "def smartdoor():\n",
    "    global org_pass #refer to the global variable by using the global keyword\n",
    "    password = 1\n",
    "    while password < 4:\n",
    "        seq_ans = \"london\"\n",
    "        pass_code = input(\"Please Enter Password: \")\n",
    "        if pass_code ==  org_pass:\n",
    "            print(\"Welcome!....You can Enter\")\n",
    "            break\n",
    "        elif password != 3:\n",
    "            print(\"Wrong Password..Try Again\")\n",
    "        else:\n",
    "            print(\"You Have To Answer Security Question to reset pass...what is your fav place?\")\n",
    "            seq_code = input(\"Please Enter secret answer :\")\n",
    "            if seq_code == seq_ans:\n",
    "                print(\"answer acepted\")\n",
    "                new_org_pass = input(\"give new password :\")\n",
    "                org_pass = new_org_pass\n",
    "                print(\"New password has been updated\")            \n",
    "                #password = 0\n",
    "                smartdoor()\n",
    "            else:\n",
    "                print(\"wrong Sequrity Answer...Door is Locked\")\n",
    "        \n",
    "        #org_pass = new_arg_pass\n",
    "        password += 1\n",
    "\n",
    "smartdoor()"
   ]
  },
  {
   "cell_type": "code",
   "execution_count": 7,
   "metadata": {},
   "outputs": [
    {
     "name": "stdout",
     "output_type": "stream",
     "text": [
      "Wrong Password..Try Again\n",
      "Wrong Password..Try Again\n",
      "You Have To Answer Security Question to reset pass...what is your fav place?\n",
      "answer acepted\n",
      "New password has been updated\n",
      "Wrong Password..Try Again\n",
      "Welcome!....You can Enter\n"
     ]
    }
   ],
   "source": [
    "#using while loop\n",
    "org_pass = \"open@123\"\n",
    "password = 1\n",
    "while password < 4:\n",
    "    seq_ans = \"london\"\n",
    "    pass_code = input(\"Please Enter Password: \")\n",
    "    if pass_code ==  org_pass:\n",
    "        print(\"Welcome!....You can Enter\")\n",
    "        break\n",
    "    elif password != 3:\n",
    "        print(\"Wrong Password..Try Again\")\n",
    "    else:\n",
    "        print(\"You Have To Answer Security Question to reset pass...what is your fav place?\")\n",
    "        seq_code = input(\"Please Enter secret answer :\")\n",
    "        if seq_code == seq_ans:\n",
    "            print(\"answer acepted\")\n",
    "            new_org_pass = input(\"give new password :\")\n",
    "            org_pass = new_org_pass\n",
    "            print(\"New password has been updated\")            \n",
    "            password = 0\n",
    "        else:\n",
    "            print(\"wrong Sequrity Answer...Door is Locked\")\n",
    "    \n",
    "    #org_pass = new_arg_pass\n",
    "    password += 1\n",
    "    "
   ]
  },
  {
   "cell_type": "markdown",
   "metadata": {},
   "source": [
    "### Task: Find Factorial of number using recursion"
   ]
  },
  {
   "cell_type": "code",
   "execution_count": 13,
   "metadata": {},
   "outputs": [
    {
     "data": {
      "text/plain": [
       "720"
      ]
     },
     "execution_count": 13,
     "metadata": {},
     "output_type": "execute_result"
    }
   ],
   "source": [
    "def fact(num: int) -> int:\n",
    "    if num < 1:\n",
    "        return 1\n",
    "    return num*fact(num - 1)\n",
    "\n",
    "fact(num = int(input(\"Please Enter number :\")))"
   ]
  },
  {
   "cell_type": "markdown",
   "metadata": {},
   "source": [
    "### Write a Python program to check vowels present in a word using a list and also show the total count of them"
   ]
  },
  {
   "cell_type": "code",
   "execution_count": 12,
   "metadata": {},
   "outputs": [
    {
     "name": "stdout",
     "output_type": "stream",
     "text": [
      "Given Word is elephant\n",
      "list of vowels in the word ['e', 'e', 'a']\n",
      "total vowels found: 3\n",
      "list of nonvowels in the word ['l', 'p', 'h', 'n', 't']\n",
      "total vowels found: 5\n"
     ]
    }
   ],
   "source": [
    "words = input(\"Please Enter word\")\n",
    "vowels = ['a','e','i','o','u']\n",
    "vowels_found = []\n",
    "vowels_notfound = []\n",
    "for x in words:\n",
    "    if x in vowels:\n",
    "        vowels_found.append(x)\n",
    "    else:\n",
    "        vowels_notfound.append(x)\n",
    "print(\"Given Word is\",words)\n",
    "print(\"list of vowels in the word\",vowels_found)\n",
    "print(\"total vowels found:\",len(vowels_found))\n",
    "print(\"list of nonvowels in the word\",vowels_notfound)\n",
    "print(\"total vowels found:\",len(vowels_notfound))"
   ]
  },
  {
   "cell_type": "code",
   "execution_count": 13,
   "metadata": {},
   "outputs": [
    {
     "name": "stdout",
     "output_type": "stream",
     "text": [
      "dict_keys(['e', 'a'])\n",
      "dict_values([2, 1])\n"
     ]
    }
   ],
   "source": [
    "from collections import Counter\n",
    "print(Counter(vowels_found).keys()) \n",
    "print(Counter(vowels_found).values())"
   ]
  },
  {
   "cell_type": "markdown",
   "metadata": {},
   "source": [
    "#### Write a Python program to count different denominations (note of 2000, 500, 100, 50, 20,10, 5, 2, 1) for a given amount of money"
   ]
  },
  {
   "cell_type": "code",
   "execution_count": 76,
   "metadata": {},
   "outputs": [
    {
     "name": "stdout",
     "output_type": "stream",
     "text": [
      "Given amount to money 1000\n",
      "Number of TK 500 notes will be 2\n",
      "Number of TK 100 notes will be 10\n",
      "Number of TK 50 notes will be 20\n",
      "Number of TK 20 notes will be 50\n",
      "Number of TK 10 notes will be 100\n",
      "Number of TK 5 notes will be 200\n",
      "Number of TK 2 notes will be 500\n",
      "Number of TK 1 notes will be 1000\n"
     ]
    }
   ],
   "source": [
    "amount = int(input(\"Please Enter amount to money\"))\n",
    "print(\"Given amount to money\",amount)\n",
    "if amount/2000 >= 1:\n",
    "    denom = int(amount/2000)\n",
    "    print(\"Number of TK 2000 notes will be\",denom)\n",
    "if amount/500 >= 1:\n",
    "    denom = int(amount/500)\n",
    "    print(\"Number of TK 500 notes will be\",denom)\n",
    "if amount/100 >= 1:\n",
    "    denom = int(amount/100)\n",
    "    print(\"Number of TK 100 notes will be\",denom)\n",
    "if amount/50 >= 1:\n",
    "    denom = int(amount/50)\n",
    "    print(\"Number of TK 50 notes will be\",denom)\n",
    "if amount/20 >= 1:\n",
    "    denom = int(amount/20)\n",
    "    print(\"Number of TK 20 notes will be\",denom)\n",
    "if amount/10 >= 1:\n",
    "    denom = int(amount/10)\n",
    "    print(\"Number of TK 10 notes will be\",denom)\n",
    "if amount/5 >= 1:\n",
    "    denom = int(amount/5)\n",
    "    print(\"Number of TK 5 notes will be\",denom)\n",
    "if amount/2 >= 1:\n",
    "    denom = int(amount/2)\n",
    "    print(\"Number of TK 2 notes will be\",denom)\n",
    "if amount/1 >= 1:\n",
    "    denom = int(amount/1)\n",
    "    print(\"Number of TK 1 notes will be\",denom)"
   ]
  },
  {
   "cell_type": "code",
   "execution_count": 88,
   "metadata": {},
   "outputs": [
    {
     "name": "stdout",
     "output_type": "stream",
     "text": [
      "Given amount to money 500\n",
      "numbers of TK 2000,500,100,50,20,10,5,2,1 notes are following 0,1,5,10,25,50,100,250,500\n"
     ]
    }
   ],
   "source": [
    "amount = int(input(\"Please Enter amount to money\"))\n",
    "print(\"Given amount to money\",amount)\n",
    "d2000 = int(amount/2000) if (amount/2000 >= 1) else 0\n",
    "d500 = int(amount/500) if (amount/500 >= 1) else 0\n",
    "d100 = int(amount/100) if (amount/100 >= 1) else 0\n",
    "d50 = int(amount/50) if (amount/50 >= 1) else 0\n",
    "d20 = int(amount/20) if (amount/20 >= 1) else 0\n",
    "d10 = int(amount/10) if (amount/10 >= 1) else 0\n",
    "d5 = int(amount/5) if (amount/5 >= 1) else 0\n",
    "d2 = int(amount/2) if (amount/2 >= 1) else 0\n",
    "d1 = int(amount/1) if (amount/1 >= 1) else 0\n",
    "print(f\"numbers of TK 2000,500,100,50,20,10,5,2,1 notes are following {d2000},{d500},{d100},{d50},{d20},{d10},{d5},{d2},{d1}\")"
   ]
  },
  {
   "cell_type": "code",
   "execution_count": 95,
   "metadata": {},
   "outputs": [
    {
     "name": "stdout",
     "output_type": "stream",
     "text": [
      "Given amount to money 10688\n",
      "Number of TK 2000 notes will be 5\n",
      "Number of TK 500 notes will be 1\n",
      "Number of TK 100 notes will be 1\n",
      "Number of TK 50 notes will be 1\n",
      "Number of TK 20 notes will be 1\n",
      "Number of TK 10 notes will be 1\n",
      "Number of TK 5 notes will be 1\n",
      "Number of TK 2 notes will be 1\n",
      "Number of TK 1 notes will be 1\n"
     ]
    }
   ],
   "source": [
    "#calculating maximum number of notes for each note togeather \n",
    "amount = int(input(\"Please Enter amount to money\"))\n",
    "print(\"Given amount to money\",amount)\n",
    "notes = [2000,500,100,50,20,10,5,2,1]\n",
    "for x in notes:\n",
    "    if amount/x >= 1:\n",
    "        denom = int(amount/x)\n",
    "        amount = amount - (x*denom)\n",
    "        print(f\"Number of TK {x} notes will be\",denom)"
   ]
  },
  {
   "cell_type": "markdown",
   "metadata": {},
   "source": [
    "##### Calculate Pooja's account balance after an attempted transaction for given condition"
   ]
  },
  {
   "cell_type": "code",
   "execution_count": 42,
   "metadata": {},
   "outputs": [
    {
     "name": "stdout",
     "output_type": "stream",
     "text": [
      "Given amount to withdraw: $US 4995.5\n",
      "withdrawl is successful\n",
      "amount withdrawn: $US 4995.5\n",
      "Remaining Balance: $US 4.0\n"
     ]
    }
   ],
   "source": [
    "acc_balance = 5000\n",
    "bank_charge = 0.5\n",
    "amount = float(input(\"Please Enter amount to withdraw $US\"))\n",
    "print(\"Given amount to withdraw: $US\",amount)\n",
    "if amount < acc_balance and int(amount)%5 == 0:\n",
    "    print(\"withdrawl is successful\")\n",
    "    acc_balance -= (bank_charge+amount)\n",
    "    print(\"amount withdrawn: $US\", amount)\n",
    "else:\n",
    "    print(\"transaction is unsuccessful\")\n",
    "\n",
    "print(\"Remaining Balance: $US\",acc_balance)"
   ]
  },
  {
   "cell_type": "markdown",
   "metadata": {},
   "source": [
    "#### Determine whether Chef will find the game interesting or not"
   ]
  },
  {
   "cell_type": "code",
   "execution_count": 48,
   "metadata": {},
   "outputs": [
    {
     "name": "stdout",
     "output_type": "stream",
     "text": [
      "Team1 Ratings: 3.0\n",
      "Team2 Ratings: 5.0\n",
      "Chef will find the game interesting\n"
     ]
    }
   ],
   "source": [
    "rating = 2.0\n",
    "team1 = float(input(\"Enter Team1 rating\"))\n",
    "team2 = float(input(\"Enter Team2 rating\"))\n",
    "print(\"Team1 Ratings:\",team1)\n",
    "print(\"Team2 Ratings:\",team2)\n",
    "if (team1 - team2) <= rating:\n",
    "    print(\"Chef will find the game interesting\")\n",
    "else:\n",
    "    print(\"Chef won't find the game interesting\")"
   ]
  },
  {
   "cell_type": "markdown",
   "metadata": {},
   "source": [
    "#### Ask the user to guess a fruit name, check how close the guess is and Give users a chance to select the best guess"
   ]
  },
  {
   "cell_type": "code",
   "execution_count": 146,
   "metadata": {},
   "outputs": [
    {
     "name": "stdout",
     "output_type": "stream",
     "text": [
      "Guessed fruit is lemon\n",
      "Guessed fruit color is green\n",
      "well done...Halfway there...you're close\n",
      "Guessed fruit shape is oval\n",
      "no...you guessed wrong shape...try again\n"
     ]
    }
   ],
   "source": [
    "fruit = input(\"type a fruit name\")\n",
    "print(\"Guessed fruit is\",fruit)\n",
    "fruit_color = {'apple':'red','orange':'orange','mango':'yellow','lemon':'green','banana':'yellow'}\n",
    "fruit_shape = {'apple':'round','orange':'round','mango':'oval','lemon':'round','banana':'curved'}\n",
    "\n",
    "if fruit in fruit_color.keys():\n",
    "    fcolor = input(f\"type the color of {fruit} from red, green, orange or yellow\")\n",
    "    print(\"Guessed fruit color is\",fcolor)\n",
    "    if fcolor == fruit_color[fruit]:\n",
    "        print(\"well done...Halfway there...you're close\")\n",
    "        fshape = input(f\"type the shape of {fruit} from round, oval or curved\")\n",
    "        print(\"Guessed fruit shape is\",fshape)\n",
    "        if fshape == fruit_shape[fruit]:\n",
    "            print(f\"well done...you have guessed {fruit} right\")\n",
    "        else:\n",
    "            print(\"no...you guessed wrong shape...try again\")\n",
    "    else:\n",
    "        print(\"no...you guessed wrong color...try again\")\n",
    "else:\n",
    "    print(\"the fruit is not listed\")"
   ]
  },
  {
   "cell_type": "markdown",
   "metadata": {},
   "source": [
    "### Design classes for LinkedIn"
   ]
  },
  {
   "cell_type": "code",
   "execution_count": 50,
   "metadata": {},
   "outputs": [],
   "source": [
    "class LinkedInClass:\n",
    "    platform = 'LinkedIn'\n",
    "\n",
    "    def __init__(self, uid: int, uname: str, password: str, email: str, rating: float) -> None:\n",
    "        self.uid = uid\n",
    "        self.uname = uname\n",
    "        self.__password = password\n",
    "        self.email = email\n",
    "        self.rating = rating\n",
    "    \n",
    "    @property           \n",
    "    def password(self) -> str:      \n",
    "        return self.__password\n",
    "    \n",
    "    @password.setter       \n",
    "    def password(self, new) -> None:\n",
    "        self.__password = new\n",
    "    \n",
    "    @password.deleter\n",
    "    def password(self) -> None:\n",
    "        del self.__password\n",
    "    \n",
    "    # when functions are inside class they are called Methods \n",
    "    def getInfo(self) -> str:\n",
    "        return (self.uid, self.uname, self.email, self.rating)\n",
    "\n",
    "    def __repr__(self) -> str:\n",
    "        return f'Linkedin User details(user_id= {self.uid}, user_name= {self.uname}, user_email= {self.email}, user_rating= {self.rating})'"
   ]
  },
  {
   "cell_type": "code",
   "execution_count": 51,
   "metadata": {},
   "outputs": [
    {
     "name": "stdout",
     "output_type": "stream",
     "text": [
      "Linkedin User details(user_id= 1, user_name= Arif, user_email= as@gmail.com, user_rating= 2.5)\n"
     ]
    }
   ],
   "source": [
    "u1 = LinkedInClass(1, 'Arif', 'abc123', 'as@gmail.com', 2.5)\n",
    "u2 = LinkedInClass(2, 'karim', 'abb123', 'af@gmail.com', 7.5)\n",
    "u3 = LinkedInClass(3, 'Asif', 'abd123', 'ag@gmail.com', 5.5)\n",
    "u4 = LinkedInClass(4, 'rahim', 'abf123', 'aghg@gmail.com', 9.5)\n",
    "print(u1)"
   ]
  },
  {
   "cell_type": "code",
   "execution_count": 41,
   "metadata": {},
   "outputs": [
    {
     "data": {
      "text/plain": [
       "'london'"
      ]
     },
     "execution_count": 41,
     "metadata": {},
     "output_type": "execute_result"
    }
   ],
   "source": [
    "u2.password"
   ]
  },
  {
   "cell_type": "code",
   "execution_count": 52,
   "metadata": {},
   "outputs": [
    {
     "data": {
      "text/plain": [
       "'london'"
      ]
     },
     "execution_count": 52,
     "metadata": {},
     "output_type": "execute_result"
    }
   ],
   "source": [
    "# calling setter\n",
    "u2.password = 'london'\n",
    "u2.password"
   ]
  },
  {
   "cell_type": "code",
   "execution_count": 55,
   "metadata": {},
   "outputs": [
    {
     "name": "stdout",
     "output_type": "stream",
     "text": [
      "no value\n"
     ]
    }
   ],
   "source": [
    "try:\n",
    "    print(u1.password)\n",
    "except:\n",
    "    print(\"no value\")"
   ]
  },
  {
   "cell_type": "code",
   "execution_count": 54,
   "metadata": {},
   "outputs": [],
   "source": [
    "del u1.password"
   ]
  },
  {
   "cell_type": "code",
   "execution_count": 5,
   "metadata": {},
   "outputs": [
    {
     "data": {
      "text/plain": [
       "(1, 'Arif', 'as@gmail.com', 2.5)"
      ]
     },
     "execution_count": 5,
     "metadata": {},
     "output_type": "execute_result"
    }
   ],
   "source": [
    "u1.getInfo()"
   ]
  },
  {
   "cell_type": "markdown",
   "metadata": {},
   "source": [
    "### Online Banking System\n",
    "- Accounts: Create Account, Close Account, Pin Cahnge, balance check\n",
    "- Transaction: Deposit, Withdraw, Transfer"
   ]
  },
  {
   "cell_type": "code",
   "execution_count": 9,
   "metadata": {},
   "outputs": [],
   "source": [
    "class BankMainClass:\n",
    "    platform = 'Banking System'\n",
    "\n",
    "    def __init__(self, in_uid: int, in_uname: str, in_password: str, in_email: str, designation: str) -> None:\n",
    "        self.in_uid = in_uid\n",
    "        self.in_uname = in_uname\n",
    "        self.__in_password = in_password\n",
    "        self.in_email = in_email\n",
    "        self.designation = designation\n",
    "    \n",
    "    @property           \n",
    "    def in_password(self) -> str:      \n",
    "        return self.__in_password\n",
    "    \n",
    "    @in_password.setter       \n",
    "    def in_password(self, new) -> None:\n",
    "        self.__in_password = new\n",
    "    \n",
    "    @in_password.deleter\n",
    "    def in_password(self) -> None:\n",
    "        del self.__in_password\n",
    "    \n",
    "    # when functions are inside class they are called Methods \n",
    "    def getInfo(self) -> str:\n",
    "        return (self.in_uid, self.in_uname, self.in_email, self.designation)"
   ]
  },
  {
   "cell_type": "code",
   "execution_count": 13,
   "metadata": {},
   "outputs": [],
   "source": [
    "bankofficials = []\n",
    "def storeoff(x):\n",
    "    z = x.getInfo()\n",
    "    bankofficials.append(z)"
   ]
  },
  {
   "cell_type": "code",
   "execution_count": 14,
   "metadata": {},
   "outputs": [],
   "source": [
    "b1 = BankMainClass(1,'Arif','abc12rt3','asb@gmail.com','Manager')\n",
    "storeoff(b1)\n",
    "b2 = BankMainClass(2,'hasan','abc123er','asbsd@gmail.com','Accountant')\n",
    "storeoff(b2)\n",
    "b3 = BankMainClass(3,'omar','abc123df','asbcc@gmail.com','officer')\n",
    "storeoff(b3)"
   ]
  },
  {
   "cell_type": "code",
   "execution_count": 16,
   "metadata": {},
   "outputs": [
    {
     "name": "stdout",
     "output_type": "stream",
     "text": [
      "Bank Officials details(user_id= 1, user_name= Arif, user_email= asb@gmail.com, designation= Manager)\n",
      "Bank Officials details(user_id= 2, user_name= hasan, user_email= asbsd@gmail.com, designation= Accountant)\n",
      "Bank Officials details(user_id= 3, user_name= omar, user_email= asbcc@gmail.com, designation= Peon)\n"
     ]
    }
   ],
   "source": [
    "for i,j,k,l in bankofficials:\n",
    "    print(f'Bank Officials details(user_id= {i}, user_name= {j}, user_email= {k}, designation= {l})')"
   ]
  },
  {
   "cell_type": "code",
   "execution_count": 24,
   "metadata": {},
   "outputs": [],
   "source": [
    "class BankClientClass:\n",
    "    platform = 'Banking System'\n",
    "    def __init__(self, cl_uid: int, cl_uname: str, cl_password: str, cl_email: str, acc_num: str, acc_balance: float, acc_status: str,\\\n",
    "                                    acc_pin: int) -> None:\n",
    "        self.cl_uid = cl_uid\n",
    "        self.cl_uname = cl_uname\n",
    "        self.__cl_password = cl_password\n",
    "        self.cl_email = cl_email\n",
    "        self.acc_num = acc_num\n",
    "        self.acc_balance = acc_balance\n",
    "        self.acc_status = acc_status\n",
    "        self.__acc_pin = acc_pin\n",
    "    \n",
    "    @property           \n",
    "    def cl_password(self) -> str:      \n",
    "        return self.__cl_password\n",
    "    \n",
    "    @cl_password.setter       \n",
    "    def cl_password(self, new) -> None:\n",
    "        self.__cl_password = new\n",
    "    \n",
    "    @cl_password.deleter\n",
    "    def cl_password(self) -> None:\n",
    "        del self.__cl_password\n",
    "    \n",
    "    def getInfo1(self) -> str:\n",
    "        return (self.cl_uid, self.cl_uname, self.cl_email, self.acc_num, self.acc_status)"
   ]
  },
  {
   "cell_type": "code",
   "execution_count": 25,
   "metadata": {},
   "outputs": [],
   "source": [
    "bankclients = []\n",
    "def storeclient(x):\n",
    "    z = x.getInfo1()\n",
    "    bankclients.append(z)"
   ]
  },
  {
   "cell_type": "code",
   "execution_count": 26,
   "metadata": {},
   "outputs": [],
   "source": [
    "c1 = BankClientClass(1,'Arif','abcr123','asbg@gmail.com','C11',12000,'Active',1234)\n",
    "storeclient(c1)\n",
    "c1 = BankClientClass(12,'kamal','abcd123','asb3@gmail.com','C12',15000,'not Active',1235)\n",
    "storeclient(c1)\n",
    "c1 = BankClientClass(13,'monir','abce123','asb2@gmail.com','C13',18000,'freezed',1237)\n",
    "storeclient(c1)"
   ]
  },
  {
   "cell_type": "code",
   "execution_count": 28,
   "metadata": {},
   "outputs": [
    {
     "name": "stdout",
     "output_type": "stream",
     "text": [
      "Clients User details(user_id= 1, user_name= Arif, user_email= asbg@gmail.com, acc_num= C11, acc_status=Active\n",
      "Clients User details(user_id= 12, user_name= kamal, user_email= asb3@gmail.com, acc_num= C12, acc_status=not Active\n",
      "Clients User details(user_id= 13, user_name= monir, user_email= asb2@gmail.com, acc_num= C13, acc_status=freezed\n"
     ]
    }
   ],
   "source": [
    "for i,j,k,l,m in bankclients:\n",
    "    print(f'Clients User details(user_id= {i}, user_name= {j}, user_email= {k}, acc_num= {l}, acc_status={m}')"
   ]
  },
  {
   "cell_type": "code",
   "execution_count": 42,
   "metadata": {},
   "outputs": [],
   "source": [
    "class BankTransactionClass(BankClientClass, BankMainClass):\n",
    "    def __init__(self, cl_uid: int, cl_uname: str, acc_num: str, acc_status: str, trans_type: str, trans_amount: float, in_uname:str) -> None:\n",
    "        self.trans_type = trans_type\n",
    "        self.trans_amount = trans_amount\n",
    "        BankClientClass.__init__(self, cl_uid, cl_uname,'','',acc_num,'',acc_status,'')\n",
    "        BankMainClass.__init__(self,'',in_uname,'','','')\n",
    "        #BankMainClass.__init__(in_uname)\n",
    "    def getInfo2(self) -> str:\n",
    "        return (self.cl_uid, self.cl_uname, self.acc_num, self.trans_type, self.trans_amount, self.in_uname)"
   ]
  },
  {
   "cell_type": "code",
   "execution_count": 43,
   "metadata": {},
   "outputs": [],
   "source": [
    "banktrans = []\n",
    "def storetrans(x):\n",
    "    z = x.getInfo2()\n",
    "    banktrans.append(z)"
   ]
  },
  {
   "cell_type": "code",
   "execution_count": 44,
   "metadata": {},
   "outputs": [],
   "source": [
    "t1 = BankTransactionClass(11,'Arif','c11','active','withdraw','250.7','rahim')\n",
    "storetrans(t1)\n",
    "t2 = BankTransactionClass(12,'sakib','c12','active','transfer','2220.7','rahim')\n",
    "storetrans(t2)\n",
    "t3 = BankTransactionClass(13,'john','c13','active','deposit','500000','Rahul')\n",
    "storetrans(t3)"
   ]
  },
  {
   "cell_type": "code",
   "execution_count": 45,
   "metadata": {},
   "outputs": [
    {
     "name": "stdout",
     "output_type": "stream",
     "text": [
      "Transaction Details (user_id= 11, user_name= Arif, acc_num= c11, trans_type= withdraw,trans_amount= 250.7, verified by=rahim\n",
      "Transaction Details (user_id= 12, user_name= sakib, acc_num= c12, trans_type= transfer,trans_amount= 2220.7, verified by=rahim\n",
      "Transaction Details (user_id= 13, user_name= john, acc_num= c13, trans_type= deposit,trans_amount= 500000, verified by=Rahul\n"
     ]
    }
   ],
   "source": [
    "for i,j,k,l,m,n in banktrans:\n",
    "    print(f'Transaction Details (user_id= {i}, user_name= {j}, acc_num= {k}, trans_type= {l},trans_amount= {m}, verified by={n}')"
   ]
  }
 ],
 "metadata": {
  "kernelspec": {
   "display_name": "Python 3 (ipykernel)",
   "language": "python",
   "name": "python3"
  },
  "language_info": {
   "codemirror_mode": {
    "name": "ipython",
    "version": 3
   },
   "file_extension": ".py",
   "mimetype": "text/x-python",
   "name": "python",
   "nbconvert_exporter": "python",
   "pygments_lexer": "ipython3",
   "version": "3.10.6"
  },
  "toc": {
   "base_numbering": 1,
   "nav_menu": {},
   "number_sections": true,
   "sideBar": true,
   "skip_h1_title": false,
   "title_cell": "Table of Contents",
   "title_sidebar": "Contents",
   "toc_cell": true,
   "toc_position": {
    "height": "calc(100% - 180px)",
    "left": "10px",
    "top": "150px",
    "width": "279.409px"
   },
   "toc_section_display": true,
   "toc_window_display": false
  },
  "vscode": {
   "interpreter": {
    "hash": "369f2c481f4da34e4445cda3fffd2e751bd1c4d706f27375911949ba6bb62e1c"
   }
  }
 },
 "nbformat": 4,
 "nbformat_minor": 2
}
