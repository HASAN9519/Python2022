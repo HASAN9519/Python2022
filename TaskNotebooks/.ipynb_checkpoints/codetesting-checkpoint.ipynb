{
 "cells": [
  {
   "cell_type": "markdown",
   "id": "9fdc65e2",
   "metadata": {
    "toc": true
   },
   "source": [
    "<h1>Table of Contents<span class=\"tocSkip\"></span></h1>\n",
    "<div class=\"toc\"><ul class=\"toc-item\"><li><span><a href=\"#Pipeline\" data-toc-modified-id=\"Pipeline-1\"><span class=\"toc-item-num\">1&nbsp;&nbsp;</span>Pipeline</a></span></li></ul></div>"
   ]
  },
  {
   "cell_type": "code",
   "execution_count": 2,
   "id": "15fd1f46",
   "metadata": {
    "ExecuteTime": {
     "end_time": "2022-12-13T16:26:50.611063Z",
     "start_time": "2022-12-13T16:26:48.875799Z"
    }
   },
   "outputs": [],
   "source": [
    "import numpy as np\n",
    "import matplotlib.pyplot as plt\n",
    "import pandas as pd\n",
    "import seaborn as sns\n",
    "%matplotlib inline"
   ]
  },
  {
   "cell_type": "code",
   "execution_count": null,
   "id": "2bb36173",
   "metadata": {
    "ExecuteTime": {
     "end_time": "2022-12-13T16:26:52.155957Z",
     "start_time": "2022-12-13T16:26:52.128960Z"
    }
   },
   "outputs": [],
   "source": [
    "data = pd.read_csv('Datasets/trainHousePrices.csv')\n",
    "cat_cols = data.select_dtypes('object').columns\n",
    "data.drop(columns=cat_cols, inplace=True)\n",
    "data.dropna(axis = 0, how ='any',inplace=True) \n",
    "data.shape"
   ]
  },
  {
   "cell_type": "code",
   "execution_count": null,
   "id": "057d33f6",
   "metadata": {
    "ExecuteTime": {
     "end_time": "2022-12-13T16:26:55.830431Z",
     "start_time": "2022-12-13T16:26:55.249915Z"
    }
   },
   "outputs": [],
   "source": [
    "from sklearn.model_selection import train_test_split\n",
    "xtrain, xtest, ytrain, ytest = train_test_split(data.drop(columns=['SalePrice']), data['SalePrice'], test_size=0.2, random_state=33)\n",
    "from sklearn.feature_selection import RFE\n",
    "from sklearn.tree import DecisionTreeRegressor\n",
    "rfe = RFE(estimator=DecisionTreeRegressor(), n_features_to_select=5)\n",
    "rfe.fit(xtrain, ytrain)\n",
    "feature_list=[]\n",
    "for i, col in zip(range(xtrain.shape[1]), xtrain.columns):\n",
    "    if rfe.ranking_[i] == 1:\n",
    "        feature_list.append(col)\n",
    "from sklearn.linear_model import LinearRegression\n",
    "from sklearn.metrics import mean_absolute_error, mean_squared_error, r2_score\n",
    "class Metrics:\n",
    "    def evaluate(self, model, features, target):\n",
    "        ypred = model.predict(features)\n",
    "        mae = mean_absolute_error(y_true=target, y_pred=ypred)\n",
    "        mse = mean_squared_error(y_true=target, y_pred=ypred)\n",
    "        r2 = r2_score(y_true=target, y_pred=ypred)*100\n",
    "        print(f\"MAE :: {mae: .4f}\")\n",
    "        print(f\"MSE :: {mse: .4f}\")\n",
    "        print(f\"R2 :: {r2: .4f}\")\n",
    "        return [np.round(mae, 4), np.round(mse, 4), np.round(r2, 4)]\n",
    "evaluator = Metrics()"
   ]
  },
  {
   "cell_type": "code",
   "execution_count": null,
   "id": "825fe250",
   "metadata": {},
   "outputs": [],
   "source": [
    "class OutlierTreatment:\n",
    "    \n",
    "    def __init__(self, dff):\n",
    "        self.dff = dff\n",
    "    \n",
    "    def outlier(self):\n",
    "        Q1 = self.dff.quantile(0.25)\n",
    "        Q3 = self.dff.quantile(0.75)\n",
    "        IQR = Q3 - Q1\n",
    "        lower_limit = Q1 - 1.5*IQR\n",
    "        upper_limit = Q3 + 1.5*IQR\n",
    "        return lower_limit, upper_limit\n",
    "        \n",
    "    def countoutlier(self, dfx):\n",
    "        self.lower_limit, self.upper_limit = self.outlier()\n",
    "        Total_outlier = len(dfx[(self.dff <= self.lower_limit)|(self.dff >= self.upper_limit)])\n",
    "        return Total_outlier\n",
    "    \n",
    "    def cleanoutlier(self, dfx, dfy):\n",
    "        self.lower_limit, self.upper_limit = self.outlier()\n",
    "        outliers = dfx[(self.dff <= self.lower_limit)|(self.dff >= self.upper_limit)]\n",
    "        dfx.drop(outliers.index, inplace=True)\n",
    "        dfy.drop(outliers.index, inplace=True)\n",
    "        return dfx, dfy"
   ]
  },
  {
   "cell_type": "code",
   "execution_count": null,
   "id": "36e0b622",
   "metadata": {},
   "outputs": [],
   "source": [
    "print(xtrain[feature_list].shape)\n",
    "print(ytrain.shape)\n",
    "print(\"After removing outlier\")\n",
    "# checking total outlier in every feature column\n",
    "for i in xtrain[feature_list].columns:\n",
    "    d = OutlierTreatment(xtrain[i])\n",
    "    if d.countoutlier(xtrain) < 5:\n",
    "        d.cleanoutlier(xtrain, ytrain)\n",
    "print(xtrain[feature_list].shape)\n",
    "print(ytrain.shape)"
   ]
  },
  {
   "cell_type": "code",
   "execution_count": null,
   "id": "c552c965",
   "metadata": {
    "ExecuteTime": {
     "end_time": "2022-12-13T16:27:05.653970Z",
     "start_time": "2022-12-13T16:27:05.646967Z"
    }
   },
   "outputs": [],
   "source": [
    "from sklearn.preprocessing import StandardScaler, MinMaxScaler, RobustScaler"
   ]
  },
  {
   "cell_type": "code",
   "execution_count": null,
   "id": "8849677d",
   "metadata": {
    "ExecuteTime": {
     "end_time": "2022-12-13T16:27:09.760979Z",
     "start_time": "2022-12-13T16:27:09.748975Z"
    }
   },
   "outputs": [],
   "source": [
    "xtrain1 = xtrain[feature_list].copy()\n",
    "xtest1 = xtest[feature_list].copy()"
   ]
  },
  {
   "cell_type": "code",
   "execution_count": null,
   "id": "525b099b",
   "metadata": {
    "ExecuteTime": {
     "end_time": "2022-12-13T16:27:24.864044Z",
     "start_time": "2022-12-13T16:27:24.848048Z"
    }
   },
   "outputs": [],
   "source": [
    "scaler = StandardScaler()\n",
    "# fit and transform are both applied on training data\n",
    "xtrain[feature_list] = scaler.fit_transform(xtrain[feature_list])\n",
    "# only transform is applied on test data as features used to fit training data is applied in test data to perform transform \n",
    "xtest[feature_list] = scaler.transform(xtest[feature_list])"
   ]
  },
  {
   "cell_type": "code",
   "execution_count": null,
   "id": "c77c1a89",
   "metadata": {
    "ExecuteTime": {
     "end_time": "2022-12-13T16:27:29.697310Z",
     "start_time": "2022-12-13T16:27:29.674766Z"
    }
   },
   "outputs": [],
   "source": [
    "Linearmodel1 = LinearRegression()\n",
    "Linearmodel1.fit(xtrain[feature_list], ytrain)"
   ]
  },
  {
   "cell_type": "code",
   "execution_count": null,
   "id": "4b69b65f",
   "metadata": {
    "ExecuteTime": {
     "end_time": "2022-12-13T16:27:32.802892Z",
     "start_time": "2022-12-13T16:27:32.790755Z"
    }
   },
   "outputs": [],
   "source": [
    "evaluator = Metrics()\n",
    "evaluator.evaluate(Linearmodel1, xtrain[feature_list], ytrain)"
   ]
  },
  {
   "cell_type": "code",
   "execution_count": null,
   "id": "9f2dea63",
   "metadata": {
    "ExecuteTime": {
     "end_time": "2022-12-13T16:27:37.451679Z",
     "start_time": "2022-12-13T16:27:37.435932Z"
    }
   },
   "outputs": [],
   "source": [
    "evaluator.evaluate(Linearmodel1, xtest[feature_list], ytest)"
   ]
  },
  {
   "cell_type": "markdown",
   "id": "3e9fc494",
   "metadata": {},
   "source": [
    "## Pipeline"
   ]
  },
  {
   "cell_type": "code",
   "execution_count": null,
   "id": "4f933f1e",
   "metadata": {
    "ExecuteTime": {
     "end_time": "2022-12-13T16:28:27.832016Z",
     "start_time": "2022-12-13T16:28:27.809009Z"
    }
   },
   "outputs": [],
   "source": [
    "from sklearn.pipeline import Pipeline\n",
    "pipeline = Pipeline([('ScalerObject', StandardScaler()), ('ModelName', LinearRegression())], verbose=True)\n",
    "pipeline.fit(xtrain1[feature_list], ytrain)"
   ]
  },
  {
   "cell_type": "code",
   "execution_count": null,
   "id": "21963162",
   "metadata": {
    "ExecuteTime": {
     "end_time": "2022-12-13T16:28:37.479602Z",
     "start_time": "2022-12-13T16:28:37.465602Z"
    }
   },
   "outputs": [],
   "source": [
    "evaluator.evaluate(model=pipeline, features=xtrain1[feature_list], target=ytrain)"
   ]
  },
  {
   "cell_type": "code",
   "execution_count": null,
   "id": "af57284f",
   "metadata": {
    "ExecuteTime": {
     "end_time": "2022-12-13T16:28:45.919325Z",
     "start_time": "2022-12-13T16:28:45.902325Z"
    }
   },
   "outputs": [],
   "source": [
    "evaluator.evaluate(model=pipeline, features=xtest1[feature_list], target=ytest)"
   ]
  },
  {
   "cell_type": "code",
   "execution_count": null,
   "id": "f498795b",
   "metadata": {
    "ExecuteTime": {
     "end_time": "2022-12-13T16:29:20.325143Z",
     "start_time": "2022-12-13T16:29:20.306143Z"
    }
   },
   "outputs": [],
   "source": [
    "xtrain1[feature_list].head()"
   ]
  },
  {
   "cell_type": "code",
   "execution_count": null,
   "id": "2c55fe4f",
   "metadata": {
    "ExecuteTime": {
     "end_time": "2022-12-13T16:29:22.075036Z",
     "start_time": "2022-12-13T16:29:22.057516Z"
    }
   },
   "outputs": [],
   "source": [
    "xtest1[feature_list].head()"
   ]
  },
  {
   "cell_type": "code",
   "execution_count": null,
   "id": "1b8b6ba4",
   "metadata": {},
   "outputs": [],
   "source": []
  },
  {
   "cell_type": "code",
   "execution_count": null,
   "id": "b5362f03",
   "metadata": {},
   "outputs": [],
   "source": []
  }
 ],
 "metadata": {
  "kernelspec": {
   "display_name": "Python 3 (ipykernel)",
   "language": "python",
   "name": "python3"
  },
  "language_info": {
   "codemirror_mode": {
    "name": "ipython",
    "version": 3
   },
   "file_extension": ".py",
   "mimetype": "text/x-python",
   "name": "python",
   "nbconvert_exporter": "python",
   "pygments_lexer": "ipython3",
   "version": "3.10.6"
  },
  "toc": {
   "base_numbering": 1,
   "nav_menu": {},
   "number_sections": true,
   "sideBar": true,
   "skip_h1_title": false,
   "title_cell": "Table of Contents",
   "title_sidebar": "Contents",
   "toc_cell": true,
   "toc_position": {},
   "toc_section_display": true,
   "toc_window_display": false
  },
  "vscode": {
   "interpreter": {
    "hash": "369f2c481f4da34e4445cda3fffd2e751bd1c4d706f27375911949ba6bb62e1c"
   }
  }
 },
 "nbformat": 4,
 "nbformat_minor": 5
}
