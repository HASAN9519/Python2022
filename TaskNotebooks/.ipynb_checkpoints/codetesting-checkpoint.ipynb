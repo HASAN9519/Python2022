{
 "cells": [
  {
   "cell_type": "markdown",
   "id": "9fdc65e2",
   "metadata": {
    "toc": true
   },
   "source": [
    "<h1>Table of Contents<span class=\"tocSkip\"></span></h1>\n",
    "<div class=\"toc\"><ul class=\"toc-item\"><li><span><a href=\"#Pipeline\" data-toc-modified-id=\"Pipeline-1\"><span class=\"toc-item-num\">1&nbsp;&nbsp;</span>Pipeline</a></span></li></ul></div>"
   ]
  },
  {
   "cell_type": "code",
   "execution_count": 1,
   "id": "15fd1f46",
   "metadata": {
    "ExecuteTime": {
     "end_time": "2022-12-13T16:26:50.611063Z",
     "start_time": "2022-12-13T16:26:48.875799Z"
    }
   },
   "outputs": [],
   "source": [
    "import numpy as np\n",
    "import matplotlib.pyplot as plt\n",
    "import pandas as pd\n",
    "import seaborn as sns\n",
    "%matplotlib inline"
   ]
  },
  {
   "cell_type": "code",
   "execution_count": 2,
   "id": "2bb36173",
   "metadata": {
    "ExecuteTime": {
     "end_time": "2022-12-13T16:26:52.155957Z",
     "start_time": "2022-12-13T16:26:52.128960Z"
    }
   },
   "outputs": [
    {
     "data": {
      "text/plain": [
       "(1121, 38)"
      ]
     },
     "execution_count": 2,
     "metadata": {},
     "output_type": "execute_result"
    }
   ],
   "source": [
    "data = pd.read_csv('Datasets/trainHousePrices.csv')\n",
    "cat_cols = data.select_dtypes('object').columns\n",
    "data.drop(columns=cat_cols, inplace=True)\n",
    "data.dropna(axis = 0, how ='any',inplace=True) \n",
    "data.shape"
   ]
  },
  {
   "cell_type": "code",
   "execution_count": 3,
   "id": "057d33f6",
   "metadata": {
    "ExecuteTime": {
     "end_time": "2022-12-13T16:26:55.830431Z",
     "start_time": "2022-12-13T16:26:55.249915Z"
    }
   },
   "outputs": [],
   "source": [
    "from sklearn.model_selection import train_test_split\n",
    "xtrain, xtest, ytrain, ytest = train_test_split(data.drop(columns=['SalePrice']), data['SalePrice'], test_size=0.2, random_state=33)\n",
    "from sklearn.feature_selection import RFE\n",
    "from sklearn.tree import DecisionTreeRegressor\n",
    "rfe = RFE(estimator=DecisionTreeRegressor(), n_features_to_select=5)\n",
    "rfe.fit(xtrain, ytrain)\n",
    "feature_list=[]\n",
    "for i, col in zip(range(xtrain.shape[1]), xtrain.columns):\n",
    "    if rfe.ranking_[i] == 1:\n",
    "        feature_list.append(col)\n",
    "from sklearn.linear_model import LinearRegression\n",
    "from sklearn.metrics import mean_absolute_error, mean_squared_error, r2_score\n",
    "class Metrics:\n",
    "    def evaluate(self, model, features, target):\n",
    "        ypred = model.predict(features)\n",
    "        mae = mean_absolute_error(y_true=target, y_pred=ypred)\n",
    "        mse = mean_squared_error(y_true=target, y_pred=ypred)\n",
    "        r2 = r2_score(y_true=target, y_pred=ypred)*100\n",
    "        print(f\"MAE :: {mae: .4f}\")\n",
    "        print(f\"MSE :: {mse: .4f}\")\n",
    "        print(f\"R2 :: {r2: .4f}\")\n",
    "        return [np.round(mae, 4), np.round(mse, 4), np.round(r2, 4)]\n",
    "evaluator = Metrics()"
   ]
  },
  {
   "cell_type": "code",
   "execution_count": 56,
   "id": "825fe250",
   "metadata": {},
   "outputs": [],
   "source": [
    "class OutlierTreatment:\n",
    "    \n",
    "    def __init__(self, dff):\n",
    "        self.dff = dff\n",
    "    \n",
    "    def outlier(self):\n",
    "        Q1 = self.dff.quantile(0.25)\n",
    "        Q3 = self.dff.quantile(0.75)\n",
    "        IQR = Q3 - Q1\n",
    "        lower_limit = Q1 - 1.5*IQR\n",
    "        upper_limit = Q3 + 1.5*IQR\n",
    "        return lower_limit, upper_limit\n",
    "        \n",
    "    def countoutlier(self, dfx):\n",
    "        self.lower_limit, self.upper_limit = self.outlier()\n",
    "        Total_outlier = len(dfx[(self.dff <= self.lower_limit)|(self.dff >= self.upper_limit)])\n",
    "        return Total_outlier\n",
    "    \n",
    "    def cleanoutlier(self, dfx, dfy):\n",
    "        self.lower_limit, self.upper_limit = self.outlier()\n",
    "        outliers = dfx[(self.dff <= self.lower_limit)|(self.dff >= self.upper_limit)]\n",
    "        dfx.drop(outliers.index, inplace=True)\n",
    "        dfy.drop(outliers.index, inplace=True)\n",
    "        return dfx, dfy"
   ]
  },
  {
   "cell_type": "code",
   "execution_count": 57,
   "id": "36e0b622",
   "metadata": {},
   "outputs": [
    {
     "name": "stdout",
     "output_type": "stream",
     "text": [
      "(896, 5)\n",
      "(896,)\n",
      "After removing outlier\n",
      "(891, 5)\n",
      "(891,)\n"
     ]
    }
   ],
   "source": [
    "print(xtrain[feature_list].shape)\n",
    "print(ytrain.shape)\n",
    "print(\"After removing outlier\")\n",
    "# checking total outlier in every feature column\n",
    "for i in xtrain[feature_list].columns:\n",
    "    d = OutlierTreatment(xtrain[i])\n",
    "    if d.countoutlier(xtrain) < 5:\n",
    "        d.cleanoutlier(xtrain, ytrain)\n",
    "print(xtrain[feature_list].shape)\n",
    "print(ytrain.shape)"
   ]
  },
  {
   "cell_type": "code",
   "execution_count": 4,
   "id": "c552c965",
   "metadata": {
    "ExecuteTime": {
     "end_time": "2022-12-13T16:27:05.653970Z",
     "start_time": "2022-12-13T16:27:05.646967Z"
    }
   },
   "outputs": [],
   "source": [
    "from sklearn.preprocessing import StandardScaler, MinMaxScaler, RobustScaler"
   ]
  },
  {
   "cell_type": "code",
   "execution_count": 5,
   "id": "8849677d",
   "metadata": {
    "ExecuteTime": {
     "end_time": "2022-12-13T16:27:09.760979Z",
     "start_time": "2022-12-13T16:27:09.748975Z"
    }
   },
   "outputs": [],
   "source": [
    "xtrain1 = xtrain[feature_list].copy()\n",
    "xtest1 = xtest[feature_list].copy()"
   ]
  },
  {
   "cell_type": "code",
   "execution_count": 6,
   "id": "525b099b",
   "metadata": {
    "ExecuteTime": {
     "end_time": "2022-12-13T16:27:24.864044Z",
     "start_time": "2022-12-13T16:27:24.848048Z"
    }
   },
   "outputs": [],
   "source": [
    "scaler = StandardScaler()\n",
    "# fit and transform are both applied on training data\n",
    "xtrain[feature_list] = scaler.fit_transform(xtrain[feature_list])\n",
    "# only transform is applied on test data as features used to fit training data is applied in test data to perform transform \n",
    "xtest[feature_list] = scaler.transform(xtest[feature_list])"
   ]
  },
  {
   "cell_type": "code",
   "execution_count": 7,
   "id": "c77c1a89",
   "metadata": {
    "ExecuteTime": {
     "end_time": "2022-12-13T16:27:29.697310Z",
     "start_time": "2022-12-13T16:27:29.674766Z"
    }
   },
   "outputs": [
    {
     "data": {
      "text/html": [
       "<style>#sk-container-id-1 {color: black;background-color: white;}#sk-container-id-1 pre{padding: 0;}#sk-container-id-1 div.sk-toggleable {background-color: white;}#sk-container-id-1 label.sk-toggleable__label {cursor: pointer;display: block;width: 100%;margin-bottom: 0;padding: 0.3em;box-sizing: border-box;text-align: center;}#sk-container-id-1 label.sk-toggleable__label-arrow:before {content: \"▸\";float: left;margin-right: 0.25em;color: #696969;}#sk-container-id-1 label.sk-toggleable__label-arrow:hover:before {color: black;}#sk-container-id-1 div.sk-estimator:hover label.sk-toggleable__label-arrow:before {color: black;}#sk-container-id-1 div.sk-toggleable__content {max-height: 0;max-width: 0;overflow: hidden;text-align: left;background-color: #f0f8ff;}#sk-container-id-1 div.sk-toggleable__content pre {margin: 0.2em;color: black;border-radius: 0.25em;background-color: #f0f8ff;}#sk-container-id-1 input.sk-toggleable__control:checked~div.sk-toggleable__content {max-height: 200px;max-width: 100%;overflow: auto;}#sk-container-id-1 input.sk-toggleable__control:checked~label.sk-toggleable__label-arrow:before {content: \"▾\";}#sk-container-id-1 div.sk-estimator input.sk-toggleable__control:checked~label.sk-toggleable__label {background-color: #d4ebff;}#sk-container-id-1 div.sk-label input.sk-toggleable__control:checked~label.sk-toggleable__label {background-color: #d4ebff;}#sk-container-id-1 input.sk-hidden--visually {border: 0;clip: rect(1px 1px 1px 1px);clip: rect(1px, 1px, 1px, 1px);height: 1px;margin: -1px;overflow: hidden;padding: 0;position: absolute;width: 1px;}#sk-container-id-1 div.sk-estimator {font-family: monospace;background-color: #f0f8ff;border: 1px dotted black;border-radius: 0.25em;box-sizing: border-box;margin-bottom: 0.5em;}#sk-container-id-1 div.sk-estimator:hover {background-color: #d4ebff;}#sk-container-id-1 div.sk-parallel-item::after {content: \"\";width: 100%;border-bottom: 1px solid gray;flex-grow: 1;}#sk-container-id-1 div.sk-label:hover label.sk-toggleable__label {background-color: #d4ebff;}#sk-container-id-1 div.sk-serial::before {content: \"\";position: absolute;border-left: 1px solid gray;box-sizing: border-box;top: 0;bottom: 0;left: 50%;z-index: 0;}#sk-container-id-1 div.sk-serial {display: flex;flex-direction: column;align-items: center;background-color: white;padding-right: 0.2em;padding-left: 0.2em;position: relative;}#sk-container-id-1 div.sk-item {position: relative;z-index: 1;}#sk-container-id-1 div.sk-parallel {display: flex;align-items: stretch;justify-content: center;background-color: white;position: relative;}#sk-container-id-1 div.sk-item::before, #sk-container-id-1 div.sk-parallel-item::before {content: \"\";position: absolute;border-left: 1px solid gray;box-sizing: border-box;top: 0;bottom: 0;left: 50%;z-index: -1;}#sk-container-id-1 div.sk-parallel-item {display: flex;flex-direction: column;z-index: 1;position: relative;background-color: white;}#sk-container-id-1 div.sk-parallel-item:first-child::after {align-self: flex-end;width: 50%;}#sk-container-id-1 div.sk-parallel-item:last-child::after {align-self: flex-start;width: 50%;}#sk-container-id-1 div.sk-parallel-item:only-child::after {width: 0;}#sk-container-id-1 div.sk-dashed-wrapped {border: 1px dashed gray;margin: 0 0.4em 0.5em 0.4em;box-sizing: border-box;padding-bottom: 0.4em;background-color: white;}#sk-container-id-1 div.sk-label label {font-family: monospace;font-weight: bold;display: inline-block;line-height: 1.2em;}#sk-container-id-1 div.sk-label-container {text-align: center;}#sk-container-id-1 div.sk-container {/* jupyter's `normalize.less` sets `[hidden] { display: none; }` but bootstrap.min.css set `[hidden] { display: none !important; }` so we also need the `!important` here to be able to override the default hidden behavior on the sphinx rendered scikit-learn.org. See: https://github.com/scikit-learn/scikit-learn/issues/21755 */display: inline-block !important;position: relative;}#sk-container-id-1 div.sk-text-repr-fallback {display: none;}</style><div id=\"sk-container-id-1\" class=\"sk-top-container\"><div class=\"sk-text-repr-fallback\"><pre>LinearRegression()</pre><b>In a Jupyter environment, please rerun this cell to show the HTML representation or trust the notebook. <br />On GitHub, the HTML representation is unable to render, please try loading this page with nbviewer.org.</b></div><div class=\"sk-container\" hidden><div class=\"sk-item\"><div class=\"sk-estimator sk-toggleable\"><input class=\"sk-toggleable__control sk-hidden--visually\" id=\"sk-estimator-id-1\" type=\"checkbox\" checked><label for=\"sk-estimator-id-1\" class=\"sk-toggleable__label sk-toggleable__label-arrow\">LinearRegression</label><div class=\"sk-toggleable__content\"><pre>LinearRegression()</pre></div></div></div></div></div>"
      ],
      "text/plain": [
       "LinearRegression()"
      ]
     },
     "execution_count": 7,
     "metadata": {},
     "output_type": "execute_result"
    }
   ],
   "source": [
    "Linearmodel1 = LinearRegression()\n",
    "Linearmodel1.fit(xtrain[feature_list], ytrain)"
   ]
  },
  {
   "cell_type": "code",
   "execution_count": 8,
   "id": "4b69b65f",
   "metadata": {
    "ExecuteTime": {
     "end_time": "2022-12-13T16:27:32.802892Z",
     "start_time": "2022-12-13T16:27:32.790755Z"
    }
   },
   "outputs": [
    {
     "name": "stdout",
     "output_type": "stream",
     "text": [
      "MAE ::  24587.3747\n",
      "MSE ::  1391110021.6406\n",
      "R2 ::  78.4110\n"
     ]
    },
    {
     "data": {
      "text/plain": [
       "[24587.3747, 1391110021.6406, 78.411]"
      ]
     },
     "execution_count": 8,
     "metadata": {},
     "output_type": "execute_result"
    }
   ],
   "source": [
    "evaluator = Metrics()\n",
    "evaluator.evaluate(Linearmodel1, xtrain[feature_list], ytrain)"
   ]
  },
  {
   "cell_type": "code",
   "execution_count": 9,
   "id": "9f2dea63",
   "metadata": {
    "ExecuteTime": {
     "end_time": "2022-12-13T16:27:37.451679Z",
     "start_time": "2022-12-13T16:27:37.435932Z"
    }
   },
   "outputs": [
    {
     "name": "stdout",
     "output_type": "stream",
     "text": [
      "MAE ::  28971.7497\n",
      "MSE ::  3278218368.9155\n",
      "R2 ::  61.4516\n"
     ]
    },
    {
     "data": {
      "text/plain": [
       "[28971.7497, 3278218368.9155, 61.4516]"
      ]
     },
     "execution_count": 9,
     "metadata": {},
     "output_type": "execute_result"
    }
   ],
   "source": [
    "evaluator.evaluate(Linearmodel1, xtest[feature_list], ytest)"
   ]
  },
  {
   "cell_type": "markdown",
   "id": "3e9fc494",
   "metadata": {},
   "source": [
    "## Pipeline"
   ]
  },
  {
   "cell_type": "code",
   "execution_count": 12,
   "id": "4f933f1e",
   "metadata": {
    "ExecuteTime": {
     "end_time": "2022-12-13T16:28:27.832016Z",
     "start_time": "2022-12-13T16:28:27.809009Z"
    }
   },
   "outputs": [
    {
     "name": "stdout",
     "output_type": "stream",
     "text": [
      "[Pipeline] ...... (step 1 of 2) Processing ScalerObject, total=   0.0s\n",
      "[Pipeline] ......... (step 2 of 2) Processing ModelName, total=   0.0s\n"
     ]
    },
    {
     "data": {
      "text/html": [
       "<style>#sk-container-id-2 {color: black;background-color: white;}#sk-container-id-2 pre{padding: 0;}#sk-container-id-2 div.sk-toggleable {background-color: white;}#sk-container-id-2 label.sk-toggleable__label {cursor: pointer;display: block;width: 100%;margin-bottom: 0;padding: 0.3em;box-sizing: border-box;text-align: center;}#sk-container-id-2 label.sk-toggleable__label-arrow:before {content: \"▸\";float: left;margin-right: 0.25em;color: #696969;}#sk-container-id-2 label.sk-toggleable__label-arrow:hover:before {color: black;}#sk-container-id-2 div.sk-estimator:hover label.sk-toggleable__label-arrow:before {color: black;}#sk-container-id-2 div.sk-toggleable__content {max-height: 0;max-width: 0;overflow: hidden;text-align: left;background-color: #f0f8ff;}#sk-container-id-2 div.sk-toggleable__content pre {margin: 0.2em;color: black;border-radius: 0.25em;background-color: #f0f8ff;}#sk-container-id-2 input.sk-toggleable__control:checked~div.sk-toggleable__content {max-height: 200px;max-width: 100%;overflow: auto;}#sk-container-id-2 input.sk-toggleable__control:checked~label.sk-toggleable__label-arrow:before {content: \"▾\";}#sk-container-id-2 div.sk-estimator input.sk-toggleable__control:checked~label.sk-toggleable__label {background-color: #d4ebff;}#sk-container-id-2 div.sk-label input.sk-toggleable__control:checked~label.sk-toggleable__label {background-color: #d4ebff;}#sk-container-id-2 input.sk-hidden--visually {border: 0;clip: rect(1px 1px 1px 1px);clip: rect(1px, 1px, 1px, 1px);height: 1px;margin: -1px;overflow: hidden;padding: 0;position: absolute;width: 1px;}#sk-container-id-2 div.sk-estimator {font-family: monospace;background-color: #f0f8ff;border: 1px dotted black;border-radius: 0.25em;box-sizing: border-box;margin-bottom: 0.5em;}#sk-container-id-2 div.sk-estimator:hover {background-color: #d4ebff;}#sk-container-id-2 div.sk-parallel-item::after {content: \"\";width: 100%;border-bottom: 1px solid gray;flex-grow: 1;}#sk-container-id-2 div.sk-label:hover label.sk-toggleable__label {background-color: #d4ebff;}#sk-container-id-2 div.sk-serial::before {content: \"\";position: absolute;border-left: 1px solid gray;box-sizing: border-box;top: 0;bottom: 0;left: 50%;z-index: 0;}#sk-container-id-2 div.sk-serial {display: flex;flex-direction: column;align-items: center;background-color: white;padding-right: 0.2em;padding-left: 0.2em;position: relative;}#sk-container-id-2 div.sk-item {position: relative;z-index: 1;}#sk-container-id-2 div.sk-parallel {display: flex;align-items: stretch;justify-content: center;background-color: white;position: relative;}#sk-container-id-2 div.sk-item::before, #sk-container-id-2 div.sk-parallel-item::before {content: \"\";position: absolute;border-left: 1px solid gray;box-sizing: border-box;top: 0;bottom: 0;left: 50%;z-index: -1;}#sk-container-id-2 div.sk-parallel-item {display: flex;flex-direction: column;z-index: 1;position: relative;background-color: white;}#sk-container-id-2 div.sk-parallel-item:first-child::after {align-self: flex-end;width: 50%;}#sk-container-id-2 div.sk-parallel-item:last-child::after {align-self: flex-start;width: 50%;}#sk-container-id-2 div.sk-parallel-item:only-child::after {width: 0;}#sk-container-id-2 div.sk-dashed-wrapped {border: 1px dashed gray;margin: 0 0.4em 0.5em 0.4em;box-sizing: border-box;padding-bottom: 0.4em;background-color: white;}#sk-container-id-2 div.sk-label label {font-family: monospace;font-weight: bold;display: inline-block;line-height: 1.2em;}#sk-container-id-2 div.sk-label-container {text-align: center;}#sk-container-id-2 div.sk-container {/* jupyter's `normalize.less` sets `[hidden] { display: none; }` but bootstrap.min.css set `[hidden] { display: none !important; }` so we also need the `!important` here to be able to override the default hidden behavior on the sphinx rendered scikit-learn.org. See: https://github.com/scikit-learn/scikit-learn/issues/21755 */display: inline-block !important;position: relative;}#sk-container-id-2 div.sk-text-repr-fallback {display: none;}</style><div id=\"sk-container-id-2\" class=\"sk-top-container\"><div class=\"sk-text-repr-fallback\"><pre>Pipeline(steps=[(&#x27;ScalerObject&#x27;, StandardScaler()),\n",
       "                (&#x27;ModelName&#x27;, LinearRegression())],\n",
       "         verbose=True)</pre><b>In a Jupyter environment, please rerun this cell to show the HTML representation or trust the notebook. <br />On GitHub, the HTML representation is unable to render, please try loading this page with nbviewer.org.</b></div><div class=\"sk-container\" hidden><div class=\"sk-item sk-dashed-wrapped\"><div class=\"sk-label-container\"><div class=\"sk-label sk-toggleable\"><input class=\"sk-toggleable__control sk-hidden--visually\" id=\"sk-estimator-id-2\" type=\"checkbox\" ><label for=\"sk-estimator-id-2\" class=\"sk-toggleable__label sk-toggleable__label-arrow\">Pipeline</label><div class=\"sk-toggleable__content\"><pre>Pipeline(steps=[(&#x27;ScalerObject&#x27;, StandardScaler()),\n",
       "                (&#x27;ModelName&#x27;, LinearRegression())],\n",
       "         verbose=True)</pre></div></div></div><div class=\"sk-serial\"><div class=\"sk-item\"><div class=\"sk-estimator sk-toggleable\"><input class=\"sk-toggleable__control sk-hidden--visually\" id=\"sk-estimator-id-3\" type=\"checkbox\" ><label for=\"sk-estimator-id-3\" class=\"sk-toggleable__label sk-toggleable__label-arrow\">StandardScaler</label><div class=\"sk-toggleable__content\"><pre>StandardScaler()</pre></div></div></div><div class=\"sk-item\"><div class=\"sk-estimator sk-toggleable\"><input class=\"sk-toggleable__control sk-hidden--visually\" id=\"sk-estimator-id-4\" type=\"checkbox\" ><label for=\"sk-estimator-id-4\" class=\"sk-toggleable__label sk-toggleable__label-arrow\">LinearRegression</label><div class=\"sk-toggleable__content\"><pre>LinearRegression()</pre></div></div></div></div></div></div></div>"
      ],
      "text/plain": [
       "Pipeline(steps=[('ScalerObject', StandardScaler()),\n",
       "                ('ModelName', LinearRegression())],\n",
       "         verbose=True)"
      ]
     },
     "execution_count": 12,
     "metadata": {},
     "output_type": "execute_result"
    }
   ],
   "source": [
    "from sklearn.pipeline import Pipeline\n",
    "pipeline = Pipeline([('ScalerObject', StandardScaler()), ('ModelName', LinearRegression())], verbose=True)\n",
    "pipeline.fit(xtrain1[feature_list], ytrain)"
   ]
  },
  {
   "cell_type": "code",
   "execution_count": 13,
   "id": "21963162",
   "metadata": {
    "ExecuteTime": {
     "end_time": "2022-12-13T16:28:37.479602Z",
     "start_time": "2022-12-13T16:28:37.465602Z"
    }
   },
   "outputs": [
    {
     "name": "stdout",
     "output_type": "stream",
     "text": [
      "MAE ::  24587.3747\n",
      "MSE ::  1391110021.6406\n",
      "R2 ::  78.4110\n"
     ]
    },
    {
     "data": {
      "text/plain": [
       "[24587.3747, 1391110021.6406, 78.411]"
      ]
     },
     "execution_count": 13,
     "metadata": {},
     "output_type": "execute_result"
    }
   ],
   "source": [
    "evaluator.evaluate(model=pipeline, features=xtrain1[feature_list], target=ytrain)"
   ]
  },
  {
   "cell_type": "code",
   "execution_count": 14,
   "id": "af57284f",
   "metadata": {
    "ExecuteTime": {
     "end_time": "2022-12-13T16:28:45.919325Z",
     "start_time": "2022-12-13T16:28:45.902325Z"
    }
   },
   "outputs": [
    {
     "name": "stdout",
     "output_type": "stream",
     "text": [
      "MAE ::  28971.7497\n",
      "MSE ::  3278218368.9155\n",
      "R2 ::  61.4516\n"
     ]
    },
    {
     "data": {
      "text/plain": [
       "[28971.7497, 3278218368.9155, 61.4516]"
      ]
     },
     "execution_count": 14,
     "metadata": {},
     "output_type": "execute_result"
    }
   ],
   "source": [
    "evaluator.evaluate(model=pipeline, features=xtest1[feature_list], target=ytest)"
   ]
  },
  {
   "cell_type": "code",
   "execution_count": 15,
   "id": "f498795b",
   "metadata": {
    "ExecuteTime": {
     "end_time": "2022-12-13T16:29:20.325143Z",
     "start_time": "2022-12-13T16:29:20.306143Z"
    }
   },
   "outputs": [
    {
     "data": {
      "text/html": [
       "<div>\n",
       "<style scoped>\n",
       "    .dataframe tbody tr th:only-of-type {\n",
       "        vertical-align: middle;\n",
       "    }\n",
       "\n",
       "    .dataframe tbody tr th {\n",
       "        vertical-align: top;\n",
       "    }\n",
       "\n",
       "    .dataframe thead th {\n",
       "        text-align: right;\n",
       "    }\n",
       "</style>\n",
       "<table border=\"1\" class=\"dataframe\">\n",
       "  <thead>\n",
       "    <tr style=\"text-align: right;\">\n",
       "      <th></th>\n",
       "      <th>OverallQual</th>\n",
       "      <th>BsmtFinSF1</th>\n",
       "      <th>TotalBsmtSF</th>\n",
       "      <th>2ndFlrSF</th>\n",
       "      <th>GrLivArea</th>\n",
       "    </tr>\n",
       "  </thead>\n",
       "  <tbody>\n",
       "    <tr>\n",
       "      <th>1409</th>\n",
       "      <td>7</td>\n",
       "      <td>0</td>\n",
       "      <td>791</td>\n",
       "      <td>857</td>\n",
       "      <td>2093</td>\n",
       "    </tr>\n",
       "    <tr>\n",
       "      <th>1092</th>\n",
       "      <td>6</td>\n",
       "      <td>423</td>\n",
       "      <td>1181</td>\n",
       "      <td>304</td>\n",
       "      <td>1694</td>\n",
       "    </tr>\n",
       "    <tr>\n",
       "      <th>1140</th>\n",
       "      <td>5</td>\n",
       "      <td>852</td>\n",
       "      <td>952</td>\n",
       "      <td>0</td>\n",
       "      <td>952</td>\n",
       "    </tr>\n",
       "    <tr>\n",
       "      <th>1094</th>\n",
       "      <td>5</td>\n",
       "      <td>248</td>\n",
       "      <td>936</td>\n",
       "      <td>0</td>\n",
       "      <td>936</td>\n",
       "    </tr>\n",
       "    <tr>\n",
       "      <th>1013</th>\n",
       "      <td>5</td>\n",
       "      <td>247</td>\n",
       "      <td>1022</td>\n",
       "      <td>0</td>\n",
       "      <td>1022</td>\n",
       "    </tr>\n",
       "  </tbody>\n",
       "</table>\n",
       "</div>"
      ],
      "text/plain": [
       "      OverallQual  BsmtFinSF1  TotalBsmtSF  2ndFlrSF  GrLivArea\n",
       "1409            7           0          791       857       2093\n",
       "1092            6         423         1181       304       1694\n",
       "1140            5         852          952         0        952\n",
       "1094            5         248          936         0        936\n",
       "1013            5         247         1022         0       1022"
      ]
     },
     "execution_count": 15,
     "metadata": {},
     "output_type": "execute_result"
    }
   ],
   "source": [
    "xtrain1[feature_list].head()"
   ]
  },
  {
   "cell_type": "code",
   "execution_count": 16,
   "id": "2c55fe4f",
   "metadata": {
    "ExecuteTime": {
     "end_time": "2022-12-13T16:29:22.075036Z",
     "start_time": "2022-12-13T16:29:22.057516Z"
    }
   },
   "outputs": [
    {
     "data": {
      "text/html": [
       "<div>\n",
       "<style scoped>\n",
       "    .dataframe tbody tr th:only-of-type {\n",
       "        vertical-align: middle;\n",
       "    }\n",
       "\n",
       "    .dataframe tbody tr th {\n",
       "        vertical-align: top;\n",
       "    }\n",
       "\n",
       "    .dataframe thead th {\n",
       "        text-align: right;\n",
       "    }\n",
       "</style>\n",
       "<table border=\"1\" class=\"dataframe\">\n",
       "  <thead>\n",
       "    <tr style=\"text-align: right;\">\n",
       "      <th></th>\n",
       "      <th>OverallQual</th>\n",
       "      <th>BsmtFinSF1</th>\n",
       "      <th>TotalBsmtSF</th>\n",
       "      <th>2ndFlrSF</th>\n",
       "      <th>GrLivArea</th>\n",
       "    </tr>\n",
       "  </thead>\n",
       "  <tbody>\n",
       "    <tr>\n",
       "      <th>913</th>\n",
       "      <td>5</td>\n",
       "      <td>284</td>\n",
       "      <td>1001</td>\n",
       "      <td>1001</td>\n",
       "      <td>2002</td>\n",
       "    </tr>\n",
       "    <tr>\n",
       "      <th>144</th>\n",
       "      <td>5</td>\n",
       "      <td>1332</td>\n",
       "      <td>1728</td>\n",
       "      <td>0</td>\n",
       "      <td>1728</td>\n",
       "    </tr>\n",
       "    <tr>\n",
       "      <th>1445</th>\n",
       "      <td>6</td>\n",
       "      <td>187</td>\n",
       "      <td>814</td>\n",
       "      <td>0</td>\n",
       "      <td>913</td>\n",
       "    </tr>\n",
       "    <tr>\n",
       "      <th>1382</th>\n",
       "      <td>7</td>\n",
       "      <td>0</td>\n",
       "      <td>596</td>\n",
       "      <td>764</td>\n",
       "      <td>1762</td>\n",
       "    </tr>\n",
       "    <tr>\n",
       "      <th>885</th>\n",
       "      <td>9</td>\n",
       "      <td>1238</td>\n",
       "      <td>1698</td>\n",
       "      <td>0</td>\n",
       "      <td>1709</td>\n",
       "    </tr>\n",
       "  </tbody>\n",
       "</table>\n",
       "</div>"
      ],
      "text/plain": [
       "      OverallQual  BsmtFinSF1  TotalBsmtSF  2ndFlrSF  GrLivArea\n",
       "913             5         284         1001      1001       2002\n",
       "144             5        1332         1728         0       1728\n",
       "1445            6         187          814         0        913\n",
       "1382            7           0          596       764       1762\n",
       "885             9        1238         1698         0       1709"
      ]
     },
     "execution_count": 16,
     "metadata": {},
     "output_type": "execute_result"
    }
   ],
   "source": [
    "xtest1[feature_list].head()"
   ]
  },
  {
   "cell_type": "code",
   "execution_count": null,
   "id": "1b8b6ba4",
   "metadata": {},
   "outputs": [],
   "source": []
  },
  {
   "cell_type": "code",
   "execution_count": null,
   "id": "b5362f03",
   "metadata": {},
   "outputs": [],
   "source": []
  }
 ],
 "metadata": {
  "kernelspec": {
   "display_name": "Python 3 (ipykernel)",
   "language": "python",
   "name": "python3"
  },
  "language_info": {
   "codemirror_mode": {
    "name": "ipython",
    "version": 3
   },
   "file_extension": ".py",
   "mimetype": "text/x-python",
   "name": "python",
   "nbconvert_exporter": "python",
   "pygments_lexer": "ipython3",
   "version": "3.10.6"
  },
  "toc": {
   "base_numbering": 1,
   "nav_menu": {},
   "number_sections": true,
   "sideBar": true,
   "skip_h1_title": false,
   "title_cell": "Table of Contents",
   "title_sidebar": "Contents",
   "toc_cell": true,
   "toc_position": {},
   "toc_section_display": true,
   "toc_window_display": false
  }
 },
 "nbformat": 4,
 "nbformat_minor": 5
}
