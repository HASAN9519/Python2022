{
 "cells": [
  {
   "cell_type": "markdown",
   "id": "9fdc65e2",
   "metadata": {
    "toc": true
   },
   "source": [
    "<h1>Table of Contents<span class=\"tocSkip\"></span></h1>\n",
    "<div class=\"toc\"><ul class=\"toc-item\"><li><span><a href=\"#Pipeline\" data-toc-modified-id=\"Pipeline-1\"><span class=\"toc-item-num\">1&nbsp;&nbsp;</span>Pipeline</a></span></li><li><span><a href=\"#new-test\" data-toc-modified-id=\"new-test-2\"><span class=\"toc-item-num\">2&nbsp;&nbsp;</span>new test</a></span></li></ul></div>"
   ]
  },
  {
   "cell_type": "code",
   "execution_count": 1,
   "id": "15fd1f46",
   "metadata": {
    "ExecuteTime": {
     "end_time": "2023-02-10T13:43:44.881443Z",
     "start_time": "2023-02-10T13:43:41.900848Z"
    }
   },
   "outputs": [],
   "source": [
    "import numpy as np\n",
    "import matplotlib.pyplot as plt\n",
    "import pandas as pd\n",
    "import seaborn as sns\n",
    "%matplotlib inline"
   ]
  },
  {
   "cell_type": "code",
   "execution_count": 11,
   "id": "679dc1d1",
   "metadata": {
    "ExecuteTime": {
     "end_time": "2023-02-10T14:02:12.472280Z",
     "start_time": "2023-02-10T14:02:11.615587Z"
    }
   },
   "outputs": [],
   "source": [
    "import os\n",
    "from skimage import io\n",
    "from skimage import transform, feature"
   ]
  },
  {
   "cell_type": "code",
   "execution_count": null,
   "id": "2bb36173",
   "metadata": {
    "ExecuteTime": {
     "end_time": "2022-12-13T16:26:52.155957Z",
     "start_time": "2022-12-13T16:26:52.128960Z"
    }
   },
   "outputs": [],
   "source": [
    "data = pd.read_csv('Datasets/trainHousePrices.csv')\n",
    "cat_cols = data.select_dtypes('object').columns\n",
    "data.drop(columns=cat_cols, inplace=True)\n",
    "data.dropna(axis = 0, how ='any',inplace=True) \n",
    "data.shape"
   ]
  },
  {
   "cell_type": "code",
   "execution_count": null,
   "id": "057d33f6",
   "metadata": {
    "ExecuteTime": {
     "end_time": "2022-12-13T16:26:55.830431Z",
     "start_time": "2022-12-13T16:26:55.249915Z"
    }
   },
   "outputs": [],
   "source": [
    "from sklearn.model_selection import train_test_split\n",
    "xtrain, xtest, ytrain, ytest = train_test_split(data.drop(columns=['SalePrice']), data['SalePrice'], test_size=0.2, random_state=33)\n",
    "from sklearn.feature_selection import RFE\n",
    "from sklearn.tree import DecisionTreeRegressor\n",
    "rfe = RFE(estimator=DecisionTreeRegressor(), n_features_to_select=5)\n",
    "rfe.fit(xtrain, ytrain)\n",
    "feature_list=[]\n",
    "for i, col in zip(range(xtrain.shape[1]), xtrain.columns):\n",
    "    if rfe.ranking_[i] == 1:\n",
    "        feature_list.append(col)\n",
    "from sklearn.linear_model import LinearRegression\n",
    "from sklearn.metrics import mean_absolute_error, mean_squared_error, r2_score\n",
    "class Metrics:\n",
    "    def evaluate(self, model, features, target):\n",
    "        ypred = model.predict(features)\n",
    "        mae = mean_absolute_error(y_true=target, y_pred=ypred)\n",
    "        mse = mean_squared_error(y_true=target, y_pred=ypred)\n",
    "        r2 = r2_score(y_true=target, y_pred=ypred)*100\n",
    "        print(f\"MAE :: {mae: .4f}\")\n",
    "        print(f\"MSE :: {mse: .4f}\")\n",
    "        print(f\"R2 :: {r2: .4f}\")\n",
    "        return [np.round(mae, 4), np.round(mse, 4), np.round(r2, 4)]\n",
    "evaluator = Metrics()"
   ]
  },
  {
   "cell_type": "code",
   "execution_count": null,
   "id": "825fe250",
   "metadata": {},
   "outputs": [],
   "source": [
    "class OutlierTreatment:\n",
    "    \n",
    "    def __init__(self, dff):\n",
    "        self.dff = dff\n",
    "    \n",
    "    def outlier(self):\n",
    "        Q1 = self.dff.quantile(0.25)\n",
    "        Q3 = self.dff.quantile(0.75)\n",
    "        IQR = Q3 - Q1\n",
    "        lower_limit = Q1 - 1.5*IQR\n",
    "        upper_limit = Q3 + 1.5*IQR\n",
    "        return lower_limit, upper_limit\n",
    "        \n",
    "    def countoutlier(self, dfx):\n",
    "        self.lower_limit, self.upper_limit = self.outlier()\n",
    "        Total_outlier = len(dfx[(self.dff <= self.lower_limit)|(self.dff >= self.upper_limit)])\n",
    "        return Total_outlier\n",
    "    \n",
    "    def cleanoutlier(self, dfx, dfy):\n",
    "        self.lower_limit, self.upper_limit = self.outlier()\n",
    "        outliers = dfx[(self.dff <= self.lower_limit)|(self.dff >= self.upper_limit)]\n",
    "        dfx.drop(outliers.index, inplace=True)\n",
    "        dfy.drop(outliers.index, inplace=True)\n",
    "        return dfx, dfy"
   ]
  },
  {
   "cell_type": "code",
   "execution_count": null,
   "id": "36e0b622",
   "metadata": {},
   "outputs": [],
   "source": [
    "print(xtrain[feature_list].shape)\n",
    "print(ytrain.shape)\n",
    "print(\"After removing outlier\")\n",
    "# checking total outlier in every feature column\n",
    "for i in xtrain[feature_list].columns:\n",
    "    d = OutlierTreatment(xtrain[i])\n",
    "    if d.countoutlier(xtrain) < 5:\n",
    "        d.cleanoutlier(xtrain, ytrain)\n",
    "print(xtrain[feature_list].shape)\n",
    "print(ytrain.shape)"
   ]
  },
  {
   "cell_type": "code",
   "execution_count": null,
   "id": "c552c965",
   "metadata": {
    "ExecuteTime": {
     "end_time": "2022-12-13T16:27:05.653970Z",
     "start_time": "2022-12-13T16:27:05.646967Z"
    }
   },
   "outputs": [],
   "source": [
    "from sklearn.preprocessing import StandardScaler, MinMaxScaler, RobustScaler"
   ]
  },
  {
   "cell_type": "code",
   "execution_count": null,
   "id": "8849677d",
   "metadata": {
    "ExecuteTime": {
     "end_time": "2022-12-13T16:27:09.760979Z",
     "start_time": "2022-12-13T16:27:09.748975Z"
    }
   },
   "outputs": [],
   "source": [
    "xtrain1 = xtrain[feature_list].copy()\n",
    "xtest1 = xtest[feature_list].copy()"
   ]
  },
  {
   "cell_type": "code",
   "execution_count": null,
   "id": "525b099b",
   "metadata": {
    "ExecuteTime": {
     "end_time": "2022-12-13T16:27:24.864044Z",
     "start_time": "2022-12-13T16:27:24.848048Z"
    }
   },
   "outputs": [],
   "source": [
    "scaler = StandardScaler()\n",
    "# fit and transform are both applied on training data\n",
    "xtrain[feature_list] = scaler.fit_transform(xtrain[feature_list])\n",
    "# only transform is applied on test data as features used to fit training data is applied in test data to perform transform \n",
    "xtest[feature_list] = scaler.transform(xtest[feature_list])"
   ]
  },
  {
   "cell_type": "code",
   "execution_count": null,
   "id": "c77c1a89",
   "metadata": {
    "ExecuteTime": {
     "end_time": "2022-12-13T16:27:29.697310Z",
     "start_time": "2022-12-13T16:27:29.674766Z"
    }
   },
   "outputs": [],
   "source": [
    "Linearmodel1 = LinearRegression()\n",
    "Linearmodel1.fit(xtrain[feature_list], ytrain)"
   ]
  },
  {
   "cell_type": "code",
   "execution_count": null,
   "id": "4b69b65f",
   "metadata": {
    "ExecuteTime": {
     "end_time": "2022-12-13T16:27:32.802892Z",
     "start_time": "2022-12-13T16:27:32.790755Z"
    }
   },
   "outputs": [],
   "source": [
    "evaluator = Metrics()\n",
    "evaluator.evaluate(Linearmodel1, xtrain[feature_list], ytrain)"
   ]
  },
  {
   "cell_type": "code",
   "execution_count": null,
   "id": "9f2dea63",
   "metadata": {
    "ExecuteTime": {
     "end_time": "2022-12-13T16:27:37.451679Z",
     "start_time": "2022-12-13T16:27:37.435932Z"
    }
   },
   "outputs": [],
   "source": [
    "evaluator.evaluate(Linearmodel1, xtest[feature_list], ytest)"
   ]
  },
  {
   "cell_type": "markdown",
   "id": "3e9fc494",
   "metadata": {},
   "source": [
    "# Pipeline"
   ]
  },
  {
   "cell_type": "code",
   "execution_count": null,
   "id": "4f933f1e",
   "metadata": {
    "ExecuteTime": {
     "end_time": "2022-12-13T16:28:27.832016Z",
     "start_time": "2022-12-13T16:28:27.809009Z"
    }
   },
   "outputs": [],
   "source": [
    "from sklearn.pipeline import Pipeline\n",
    "pipeline = Pipeline([('ScalerObject', StandardScaler()), ('ModelName', LinearRegression())], verbose=True)\n",
    "pipeline.fit(xtrain1[feature_list], ytrain)"
   ]
  },
  {
   "cell_type": "code",
   "execution_count": null,
   "id": "21963162",
   "metadata": {
    "ExecuteTime": {
     "end_time": "2022-12-13T16:28:37.479602Z",
     "start_time": "2022-12-13T16:28:37.465602Z"
    }
   },
   "outputs": [],
   "source": [
    "evaluator.evaluate(model=pipeline, features=xtrain1[feature_list], target=ytrain)"
   ]
  },
  {
   "cell_type": "code",
   "execution_count": null,
   "id": "af57284f",
   "metadata": {
    "ExecuteTime": {
     "end_time": "2022-12-13T16:28:45.919325Z",
     "start_time": "2022-12-13T16:28:45.902325Z"
    }
   },
   "outputs": [],
   "source": [
    "evaluator.evaluate(model=pipeline, features=xtest1[feature_list], target=ytest)"
   ]
  },
  {
   "cell_type": "code",
   "execution_count": null,
   "id": "f498795b",
   "metadata": {
    "ExecuteTime": {
     "end_time": "2022-12-13T16:29:20.325143Z",
     "start_time": "2022-12-13T16:29:20.306143Z"
    }
   },
   "outputs": [],
   "source": [
    "xtrain1[feature_list].head()"
   ]
  },
  {
   "cell_type": "code",
   "execution_count": null,
   "id": "2c55fe4f",
   "metadata": {
    "ExecuteTime": {
     "end_time": "2022-12-13T16:29:22.075036Z",
     "start_time": "2022-12-13T16:29:22.057516Z"
    }
   },
   "outputs": [],
   "source": [
    "xtest1[feature_list].head()"
   ]
  },
  {
   "cell_type": "markdown",
   "id": "400ed8ef",
   "metadata": {},
   "source": [
    "# new test"
   ]
  },
  {
   "cell_type": "code",
   "execution_count": 13,
   "id": "b5362f03",
   "metadata": {
    "ExecuteTime": {
     "end_time": "2023-02-10T14:02:29.863343Z",
     "start_time": "2023-02-10T14:02:29.260249Z"
    }
   },
   "outputs": [
    {
     "data": {
      "text/plain": [
       "(64, 64, 3)"
      ]
     },
     "execution_count": 13,
     "metadata": {},
     "output_type": "execute_result"
    }
   ],
   "source": [
    "image_id = 'DSC_0365.JPG'\n",
    "path = os.path.join(r'Datasets\\crops_test\\Bacterial_leaf_blight', image_id)\n",
    "image = io.imread(path)\n",
    "resized_img = transform.resize(image, output_shape=(64,64))\n",
    "resized_img.shape"
   ]
  },
  {
   "cell_type": "code",
   "execution_count": 45,
   "id": "ca177f6b",
   "metadata": {
    "ExecuteTime": {
     "end_time": "2023-02-10T14:31:14.334688Z",
     "start_time": "2023-02-10T14:31:14.321686Z"
    }
   },
   "outputs": [
    {
     "data": {
      "text/plain": [
       "array([[[0.89485325, 0.83851504, 0.81789253],\n",
       "        [0.89398881, 0.83723754, 0.81727361],\n",
       "        [0.8918832 , 0.8388547 , 0.81807434],\n",
       "        ...,\n",
       "        [0.89941971, 0.84357442, 0.82150739],\n",
       "        [0.89724369, 0.84115237, 0.82120664],\n",
       "        [0.8982708 , 0.84177405, 0.82190821]],\n",
       "\n",
       "       [[0.89479781, 0.83600028, 0.8155353 ],\n",
       "        [0.89183272, 0.83614189, 0.81640463],\n",
       "        [0.89048233, 0.83706812, 0.81681097],\n",
       "        ...,\n",
       "        [0.9014021 , 0.84212211, 0.82090004],\n",
       "        [0.89759691, 0.83970371, 0.82036974],\n",
       "        [0.89620128, 0.84012427, 0.82038281]],\n",
       "\n",
       "       [[0.89224508, 0.83681492, 0.81693112],\n",
       "        [0.89059558, 0.83694467, 0.81798508],\n",
       "        [0.89110041, 0.83751571, 0.81773497],\n",
       "        ...,\n",
       "        [0.90155452, 0.84327672, 0.82159582],\n",
       "        [0.89962227, 0.84017274, 0.82048695],\n",
       "        [0.89678722, 0.83935588, 0.81943701]],\n",
       "\n",
       "       ...,\n",
       "\n",
       "       [[0.89376435, 0.83924015, 0.818184  ],\n",
       "        [0.89561038, 0.84141238, 0.81943547],\n",
       "        [0.89086291, 0.83840503, 0.81610784],\n",
       "        ...,\n",
       "        [0.89315441, 0.84053351, 0.82121402],\n",
       "        [0.89289394, 0.84225062, 0.82338031],\n",
       "        [0.89223244, 0.84182016, 0.82183428]],\n",
       "\n",
       "       [[0.89595127, 0.84309298, 0.8217431 ],\n",
       "        [0.89570154, 0.84380987, 0.82175547],\n",
       "        [0.89274572, 0.8413194 , 0.81922493],\n",
       "        ...,\n",
       "        [0.89219697, 0.83967274, 0.8207506 ],\n",
       "        [0.89057242, 0.84117447, 0.82191026],\n",
       "        [0.89051501, 0.84213271, 0.82055523]],\n",
       "\n",
       "       [[0.89575426, 0.84284421, 0.82081088],\n",
       "        [0.89351917, 0.84352886, 0.82076644],\n",
       "        [0.89200811, 0.84198383, 0.82095575],\n",
       "        ...,\n",
       "        [0.89169782, 0.83796286, 0.82101828],\n",
       "        [0.89297269, 0.83973761, 0.82167596],\n",
       "        [0.89312131, 0.84112241, 0.82061944]]])"
      ]
     },
     "execution_count": 45,
     "metadata": {},
     "output_type": "execute_result"
    }
   ],
   "source": [
    "resized_img"
   ]
  },
  {
   "cell_type": "code",
   "execution_count": 47,
   "id": "1ca01115",
   "metadata": {
    "ExecuteTime": {
     "end_time": "2023-02-10T14:32:11.861824Z",
     "start_time": "2023-02-10T14:32:11.846109Z"
    }
   },
   "outputs": [],
   "source": [
    "resized_img = resized_img.flatten()"
   ]
  },
  {
   "cell_type": "code",
   "execution_count": 48,
   "id": "58172bfd",
   "metadata": {
    "ExecuteTime": {
     "end_time": "2023-02-10T14:32:12.746315Z",
     "start_time": "2023-02-10T14:32:12.739314Z"
    }
   },
   "outputs": [
    {
     "data": {
      "text/plain": [
       "numpy.ndarray"
      ]
     },
     "execution_count": 48,
     "metadata": {},
     "output_type": "execute_result"
    }
   ],
   "source": [
    "type(resized_img)"
   ]
  },
  {
   "cell_type": "code",
   "execution_count": 49,
   "id": "1bdedfbe",
   "metadata": {
    "ExecuteTime": {
     "end_time": "2023-02-10T14:32:14.884734Z",
     "start_time": "2023-02-10T14:32:14.877736Z"
    }
   },
   "outputs": [],
   "source": [
    "feature_vector = feature.hog(resized_img.reshape(64,64,3), channel_axis=-1)"
   ]
  },
  {
   "cell_type": "code",
   "execution_count": 50,
   "id": "84ccb0f9",
   "metadata": {
    "ExecuteTime": {
     "end_time": "2023-02-10T14:32:15.911371Z",
     "start_time": "2023-02-10T14:32:15.905373Z"
    }
   },
   "outputs": [
    {
     "data": {
      "text/plain": [
       "numpy.ndarray"
      ]
     },
     "execution_count": 50,
     "metadata": {},
     "output_type": "execute_result"
    }
   ],
   "source": [
    "type(feature_vector)"
   ]
  },
  {
   "cell_type": "code",
   "execution_count": 51,
   "id": "14cfe99d",
   "metadata": {
    "ExecuteTime": {
     "end_time": "2023-02-10T14:32:16.812233Z",
     "start_time": "2023-02-10T14:32:16.797339Z"
    }
   },
   "outputs": [
    {
     "data": {
      "text/plain": [
       "(2916,)"
      ]
     },
     "execution_count": 51,
     "metadata": {},
     "output_type": "execute_result"
    }
   ],
   "source": [
    "feature_vector.shape"
   ]
  },
  {
   "cell_type": "code",
   "execution_count": 21,
   "id": "8c5b6b48",
   "metadata": {
    "ExecuteTime": {
     "end_time": "2023-02-10T14:18:09.544209Z",
     "start_time": "2023-02-10T14:18:09.512230Z"
    }
   },
   "outputs": [],
   "source": [
    "from joblib import dump, load\n",
    "image_classifier = load('Models/cropDiseaseFinalModel.pkl')"
   ]
  },
  {
   "cell_type": "code",
   "execution_count": 52,
   "id": "cb7ba791",
   "metadata": {
    "ExecuteTime": {
     "end_time": "2023-02-10T14:32:34.521711Z",
     "start_time": "2023-02-10T14:32:34.513712Z"
    }
   },
   "outputs": [
    {
     "data": {
      "text/plain": [
       "array([0.12081085, 0.08550791, 0.02190302, ..., 0.01969084, 0.02721586,\n",
       "       0.02180824])"
      ]
     },
     "execution_count": 52,
     "metadata": {},
     "output_type": "execute_result"
    }
   ],
   "source": [
    "feature_vector "
   ]
  },
  {
   "cell_type": "code",
   "execution_count": 36,
   "id": "dc6adb23",
   "metadata": {
    "ExecuteTime": {
     "end_time": "2023-02-10T14:28:04.943666Z",
     "start_time": "2023-02-10T14:28:04.928655Z"
    }
   },
   "outputs": [
    {
     "data": {
      "text/plain": [
       "array([[0.12081085, 0.08550791, 0.02190302, ..., 0.01969084, 0.02721586,\n",
       "        0.02180824]])"
      ]
     },
     "execution_count": 36,
     "metadata": {},
     "output_type": "execute_result"
    }
   ],
   "source": [
    "# Reshape your data either using array.reshape(-1, 1) if your data has a single feature or array.reshape(1, -1) if it contains a single sample.\n",
    "feature_vector1 = feature_vector.copy()\n",
    "feature_vector1 = feature_vector1.reshape(1, -1)\n",
    "feature_vector1"
   ]
  },
  {
   "cell_type": "code",
   "execution_count": 37,
   "id": "0dbb8b91",
   "metadata": {
    "ExecuteTime": {
     "end_time": "2023-02-10T14:28:10.131243Z",
     "start_time": "2023-02-10T14:28:10.118263Z"
    }
   },
   "outputs": [
    {
     "data": {
      "text/plain": [
       "numpy.ndarray"
      ]
     },
     "execution_count": 37,
     "metadata": {},
     "output_type": "execute_result"
    }
   ],
   "source": [
    "type(feature_vector1)"
   ]
  },
  {
   "cell_type": "code",
   "execution_count": 38,
   "id": "f4a7ab81",
   "metadata": {
    "ExecuteTime": {
     "end_time": "2023-02-10T14:28:11.155217Z",
     "start_time": "2023-02-10T14:28:11.142232Z"
    }
   },
   "outputs": [
    {
     "data": {
      "text/plain": [
       "(1, 2916)"
      ]
     },
     "execution_count": 38,
     "metadata": {},
     "output_type": "execute_result"
    }
   ],
   "source": [
    "feature_vector1.shape"
   ]
  },
  {
   "cell_type": "code",
   "execution_count": 40,
   "id": "8aaf0feb",
   "metadata": {
    "ExecuteTime": {
     "end_time": "2023-02-10T14:29:18.899023Z",
     "start_time": "2023-02-10T14:29:18.874649Z"
    }
   },
   "outputs": [],
   "source": [
    "ypred_test = image_classifier.predict_proba(feature_vector1)"
   ]
  },
  {
   "cell_type": "code",
   "execution_count": 44,
   "id": "ad833029",
   "metadata": {
    "ExecuteTime": {
     "end_time": "2023-02-10T14:29:56.247880Z",
     "start_time": "2023-02-10T14:29:56.238880Z"
    }
   },
   "outputs": [
    {
     "data": {
      "text/plain": [
       "0.9999831650836787"
      ]
     },
     "execution_count": 44,
     "metadata": {},
     "output_type": "execute_result"
    }
   ],
   "source": [
    "ypred_test[0].max()"
   ]
  },
  {
   "cell_type": "code",
   "execution_count": 53,
   "id": "f8965084",
   "metadata": {
    "ExecuteTime": {
     "end_time": "2023-02-10T14:34:37.109969Z",
     "start_time": "2023-02-10T14:34:37.092452Z"
    }
   },
   "outputs": [],
   "source": [
    "class PreProcessor:\n",
    "    def __init__(self)->None:\n",
    "        pass\n",
    "        \n",
    "    def process_and_normalize(self, image_id: str):\n",
    "        path = os.path.join(r'Datasets\\crops_test\\Bacterial_leaf_blight', image_id)\n",
    "        try:\n",
    "            image = io.imread(path)           \n",
    "        except FileNotFoundError as fe:\n",
    "            return ('Image not found!', False)\n",
    "\n",
    "        resized_img = transform.resize(image, output_shape=(64,64))\n",
    "        return resized_img.flatten()"
   ]
  },
  {
   "cell_type": "code",
   "execution_count": 62,
   "id": "f287984c",
   "metadata": {
    "ExecuteTime": {
     "end_time": "2023-02-10T14:48:12.426887Z",
     "start_time": "2023-02-10T14:48:12.417887Z"
    }
   },
   "outputs": [],
   "source": [
    "from sklearn.base import BaseEstimator, TransformerMixin\n",
    "\n",
    "class hog_transformation(BaseEstimator, TransformerMixin):\n",
    "    def __init__(self):\n",
    "        pass\n",
    "    \n",
    "    # don't need this in this pipeline, there is no operation needed on y, that's why it is none \n",
    "    def fit(self, X, y=None):\n",
    "        self.X = X\n",
    "        self.y = y\n",
    "        return self\n",
    "  \n",
    "    def transform(self, X, y=None):\n",
    "        #hog_transform = lambda image: feature.hog(image.reshape(64,64,3), channel_axis=-1)\n",
    "        #feature_vector = np.array(list(map(hog_transform, X)))\n",
    "        feature_vector = feature.hog(X.reshape(64,64,3), channel_axis=-1)\n",
    "        # if data has a single feature or it contains a single sample then array.reshape(1, -1)\n",
    "        feature_vector = feature_vector.reshape(1, -1)\n",
    "        return feature_vector"
   ]
  },
  {
   "cell_type": "code",
   "execution_count": 66,
   "id": "5d233c7d",
   "metadata": {
    "ExecuteTime": {
     "end_time": "2023-02-10T14:49:46.342754Z",
     "start_time": "2023-02-10T14:49:46.330702Z"
    }
   },
   "outputs": [],
   "source": [
    "from sklearn.pipeline import Pipeline\n",
    "pipeline = Pipeline([\n",
    "    ('feature_extractor', hog_transformation()), \n",
    "    ('MLPClassifier', image_classifier)\n",
    "])"
   ]
  },
  {
   "cell_type": "code",
   "execution_count": 67,
   "id": "b03007bb",
   "metadata": {
    "ExecuteTime": {
     "end_time": "2023-02-10T14:49:49.004798Z",
     "start_time": "2023-02-10T14:49:48.992794Z"
    }
   },
   "outputs": [],
   "source": [
    "preprocessor = PreProcessor()"
   ]
  },
  {
   "cell_type": "code",
   "execution_count": 68,
   "id": "59e238af",
   "metadata": {
    "ExecuteTime": {
     "end_time": "2023-02-10T14:49:49.631979Z",
     "start_time": "2023-02-10T14:49:49.621947Z"
    }
   },
   "outputs": [],
   "source": [
    "def get(image_id: str):\n",
    "    vector = preprocessor.process_and_normalize(image_id=image_id)\n",
    "    images_vector = np.array(vector)\n",
    "    return images_vector"
   ]
  },
  {
   "cell_type": "code",
   "execution_count": null,
   "id": "ec707ae9",
   "metadata": {},
   "outputs": [],
   "source": []
  },
  {
   "cell_type": "code",
   "execution_count": null,
   "id": "3f3e5ead",
   "metadata": {},
   "outputs": [],
   "source": []
  },
  {
   "cell_type": "code",
   "execution_count": 59,
   "id": "f0d92948",
   "metadata": {
    "ExecuteTime": {
     "end_time": "2023-02-10T14:40:56.858133Z",
     "start_time": "2023-02-10T14:40:56.235826Z"
    }
   },
   "outputs": [],
   "source": [
    "output = get(image_id)"
   ]
  },
  {
   "cell_type": "code",
   "execution_count": 60,
   "id": "09e23faf",
   "metadata": {
    "ExecuteTime": {
     "end_time": "2023-02-10T14:41:00.557628Z",
     "start_time": "2023-02-10T14:41:00.543107Z"
    }
   },
   "outputs": [
    {
     "data": {
      "text/plain": [
       "array([0.89485325, 0.83851504, 0.81789253, ..., 0.89312131, 0.84112241,\n",
       "       0.82061944])"
      ]
     },
     "execution_count": 60,
     "metadata": {},
     "output_type": "execute_result"
    }
   ],
   "source": [
    "output"
   ]
  },
  {
   "cell_type": "code",
   "execution_count": null,
   "id": "835c1acf",
   "metadata": {},
   "outputs": [],
   "source": []
  },
  {
   "cell_type": "code",
   "execution_count": null,
   "id": "877bee2c",
   "metadata": {},
   "outputs": [],
   "source": []
  },
  {
   "cell_type": "code",
   "execution_count": null,
   "id": "a4b84bb5",
   "metadata": {},
   "outputs": [],
   "source": []
  },
  {
   "cell_type": "code",
   "execution_count": 69,
   "id": "50bcd532",
   "metadata": {
    "ExecuteTime": {
     "end_time": "2023-02-10T14:49:53.383446Z",
     "start_time": "2023-02-10T14:49:53.372465Z"
    }
   },
   "outputs": [],
   "source": [
    "def get(image_id: str):\n",
    "    vector = preprocessor.process_and_normalize(image_id=image_id)\n",
    "    images_vector = np.array(vector)\n",
    "    ypred_test = pipeline.predict_proba(images_vector)[0]\n",
    "    diseases = ['Bacterial_leaf_blight', 'Brown_spot', 'Leaf_smut']\n",
    "    return {\n",
    "            'disease': diseases[ypred_test.argmax()],\n",
    "            'confidence': ypred_test.max()\n",
    "        }"
   ]
  },
  {
   "cell_type": "code",
   "execution_count": 70,
   "id": "0e0dd684",
   "metadata": {
    "ExecuteTime": {
     "end_time": "2023-02-10T14:49:54.676230Z",
     "start_time": "2023-02-10T14:49:54.047634Z"
    }
   },
   "outputs": [
    {
     "data": {
      "text/plain": [
       "{'disease': 'Bacterial_leaf_blight', 'confidence': 0.9999831650836787}"
      ]
     },
     "execution_count": 70,
     "metadata": {},
     "output_type": "execute_result"
    }
   ],
   "source": [
    "get(image_id)"
   ]
  },
  {
   "cell_type": "code",
   "execution_count": 87,
   "id": "227c0021",
   "metadata": {
    "ExecuteTime": {
     "end_time": "2023-02-10T16:50:43.393573Z",
     "start_time": "2023-02-10T16:50:43.375011Z"
    }
   },
   "outputs": [],
   "source": [
    "class PreProcessor:\n",
    "    def __init__(self)->None:\n",
    "        pass\n",
    "        \n",
    "    def process_and_normalize(self, image_id: str):\n",
    "        path = os.path.join(r'Datasets\\crops_test\\Bacterial_leaf_blight', image_id)\n",
    "        try:\n",
    "            image = io.imread(path)           \n",
    "        except FileNotFoundError as fe:\n",
    "            return ('Image not found!', False)\n",
    "\n",
    "        resized_img = transform.resize(image, output_shape=(64,64))\n",
    "        resized_img = resized_img.flatten()\n",
    "        #return (None, True)\n",
    "        #return resized_img\n",
    "        return {\n",
    "            'disease': 'c',\n",
    "            'confidence': 'd'\n",
    "        }"
   ]
  },
  {
   "cell_type": "code",
   "execution_count": 90,
   "id": "39545cbe",
   "metadata": {
    "ExecuteTime": {
     "end_time": "2023-02-10T16:50:51.546123Z",
     "start_time": "2023-02-10T16:50:50.934126Z"
    }
   },
   "outputs": [],
   "source": [
    "image_id = 'DSC_0365.JPG'\n",
    "preprocessor = PreProcessor()\n",
    "ok = preprocessor.process_and_normalize(image_id=image_id)"
   ]
  },
  {
   "cell_type": "code",
   "execution_count": 92,
   "id": "be101618",
   "metadata": {
    "ExecuteTime": {
     "end_time": "2023-02-10T16:51:00.370339Z",
     "start_time": "2023-02-10T16:51:00.360030Z"
    }
   },
   "outputs": [
    {
     "data": {
      "text/plain": [
       "dict"
      ]
     },
     "execution_count": 92,
     "metadata": {},
     "output_type": "execute_result"
    }
   ],
   "source": [
    "type(ok)"
   ]
  },
  {
   "cell_type": "code",
   "execution_count": 94,
   "id": "aba0962d",
   "metadata": {
    "ExecuteTime": {
     "end_time": "2023-02-10T16:51:57.341532Z",
     "start_time": "2023-02-10T16:51:57.331522Z"
    }
   },
   "outputs": [],
   "source": [
    "result = {\n",
    "            'disease': 's',\n",
    "            'confidence': 'd'\n",
    "        }"
   ]
  },
  {
   "cell_type": "code",
   "execution_count": 95,
   "id": "8f2c3d73",
   "metadata": {
    "ExecuteTime": {
     "end_time": "2023-02-10T16:52:05.982200Z",
     "start_time": "2023-02-10T16:52:05.965155Z"
    }
   },
   "outputs": [
    {
     "data": {
      "text/plain": [
       "dict"
      ]
     },
     "execution_count": 95,
     "metadata": {},
     "output_type": "execute_result"
    }
   ],
   "source": [
    "type(result)"
   ]
  }
 ],
 "metadata": {
  "kernelspec": {
   "display_name": "Python 3 (ipykernel)",
   "language": "python",
   "name": "python3"
  },
  "language_info": {
   "codemirror_mode": {
    "name": "ipython",
    "version": 3
   },
   "file_extension": ".py",
   "mimetype": "text/x-python",
   "name": "python",
   "nbconvert_exporter": "python",
   "pygments_lexer": "ipython3",
   "version": "3.10.6"
  },
  "toc": {
   "base_numbering": 1,
   "nav_menu": {},
   "number_sections": true,
   "sideBar": true,
   "skip_h1_title": false,
   "title_cell": "Table of Contents",
   "title_sidebar": "Contents",
   "toc_cell": true,
   "toc_position": {},
   "toc_section_display": true,
   "toc_window_display": false
  },
  "vscode": {
   "interpreter": {
    "hash": "369f2c481f4da34e4445cda3fffd2e751bd1c4d706f27375911949ba6bb62e1c"
   }
  }
 },
 "nbformat": 4,
 "nbformat_minor": 5
}
