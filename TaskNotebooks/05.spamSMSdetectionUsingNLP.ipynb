{
 "cells": [
  {
   "cell_type": "markdown",
   "id": "f469c76a",
   "metadata": {
    "toc": true
   },
   "source": [
    "<h1>Table of Contents<span class=\"tocSkip\"></span></h1>\n",
    "<div class=\"toc\"><ul class=\"toc-item\"><li><span><a href=\"#importing-librarys-and-dataset\" data-toc-modified-id=\"importing-librarys-and-dataset-1\"><span class=\"toc-item-num\">1&nbsp;&nbsp;</span>importing librarys and dataset</a></span></li><li><span><a href=\"#Tokenization\" data-toc-modified-id=\"Tokenization-2\"><span class=\"toc-item-num\">2&nbsp;&nbsp;</span>Tokenization</a></span></li><li><span><a href=\"#Filtering-stopwords\" data-toc-modified-id=\"Filtering-stopwords-3\"><span class=\"toc-item-num\">3&nbsp;&nbsp;</span>Filtering stopwords</a></span></li><li><span><a href=\"#Lemmatization\" data-toc-modified-id=\"Lemmatization-4\"><span class=\"toc-item-num\">4&nbsp;&nbsp;</span>Lemmatization</a></span></li><li><span><a href=\"#Feature-Extraction\" data-toc-modified-id=\"Feature-Extraction-5\"><span class=\"toc-item-num\">5&nbsp;&nbsp;</span>Feature Extraction</a></span></li><li><span><a href=\"#PCA---Dimentionality-Reduction\" data-toc-modified-id=\"PCA---Dimentionality-Reduction-6\"><span class=\"toc-item-num\">6&nbsp;&nbsp;</span>PCA - Dimentionality Reduction</a></span></li><li><span><a href=\"#split-dataset\" data-toc-modified-id=\"split-dataset-7\"><span class=\"toc-item-num\">7&nbsp;&nbsp;</span>split dataset</a></span></li><li><span><a href=\"#Training-Classifier\" data-toc-modified-id=\"Training-Classifier-8\"><span class=\"toc-item-num\">8&nbsp;&nbsp;</span>Training Classifier</a></span><ul class=\"toc-item\"><li><span><a href=\"#using-GaussianNB\" data-toc-modified-id=\"using-GaussianNB-8.1\"><span class=\"toc-item-num\">8.1&nbsp;&nbsp;</span>using GaussianNB</a></span></li><li><span><a href=\"#using-LSTM\" data-toc-modified-id=\"using-LSTM-8.2\"><span class=\"toc-item-num\">8.2&nbsp;&nbsp;</span>using LSTM</a></span></li></ul></li></ul></div>"
   ]
  },
  {
   "cell_type": "markdown",
   "id": "13d734fc",
   "metadata": {},
   "source": [
    "# importing librarys and dataset"
   ]
  },
  {
   "cell_type": "code",
   "execution_count": 1,
   "id": "0c637ede",
   "metadata": {
    "ExecuteTime": {
     "end_time": "2023-01-16T13:45:15.896446Z",
     "start_time": "2023-01-16T13:45:14.757007Z"
    }
   },
   "outputs": [],
   "source": [
    "import numpy as np\n",
    "import pandas as pd\n",
    "import seaborn as sns\n",
    "import matplotlib.pyplot as plt\n",
    "%matplotlib inline"
   ]
  },
  {
   "cell_type": "code",
   "execution_count": 2,
   "id": "3a4efc9f",
   "metadata": {
    "ExecuteTime": {
     "end_time": "2023-01-16T13:45:16.116878Z",
     "start_time": "2023-01-16T13:45:16.092286Z"
    }
   },
   "outputs": [
    {
     "data": {
      "text/html": [
       "<div>\n",
       "<style scoped>\n",
       "    .dataframe tbody tr th:only-of-type {\n",
       "        vertical-align: middle;\n",
       "    }\n",
       "\n",
       "    .dataframe tbody tr th {\n",
       "        vertical-align: top;\n",
       "    }\n",
       "\n",
       "    .dataframe thead th {\n",
       "        text-align: right;\n",
       "    }\n",
       "</style>\n",
       "<table border=\"1\" class=\"dataframe\">\n",
       "  <thead>\n",
       "    <tr style=\"text-align: right;\">\n",
       "      <th></th>\n",
       "      <th>sms</th>\n",
       "      <th>label</th>\n",
       "    </tr>\n",
       "  </thead>\n",
       "  <tbody>\n",
       "    <tr>\n",
       "      <th>0</th>\n",
       "      <td>Go until jurong point, crazy.. Available only ...</td>\n",
       "      <td>0</td>\n",
       "    </tr>\n",
       "    <tr>\n",
       "      <th>1</th>\n",
       "      <td>Ok lar... Joking wif u oni...\\n</td>\n",
       "      <td>0</td>\n",
       "    </tr>\n",
       "    <tr>\n",
       "      <th>2</th>\n",
       "      <td>Free entry in 2 a wkly comp to win FA Cup fina...</td>\n",
       "      <td>1</td>\n",
       "    </tr>\n",
       "    <tr>\n",
       "      <th>3</th>\n",
       "      <td>U dun say so early hor... U c already then say...</td>\n",
       "      <td>0</td>\n",
       "    </tr>\n",
       "    <tr>\n",
       "      <th>4</th>\n",
       "      <td>Nah I don't think he goes to usf, he lives aro...</td>\n",
       "      <td>0</td>\n",
       "    </tr>\n",
       "  </tbody>\n",
       "</table>\n",
       "</div>"
      ],
      "text/plain": [
       "                                                 sms  label\n",
       "0  Go until jurong point, crazy.. Available only ...      0\n",
       "1                    Ok lar... Joking wif u oni...\\n      0\n",
       "2  Free entry in 2 a wkly comp to win FA Cup fina...      1\n",
       "3  U dun say so early hor... U c already then say...      0\n",
       "4  Nah I don't think he goes to usf, he lives aro...      0"
      ]
     },
     "execution_count": 2,
     "metadata": {},
     "output_type": "execute_result"
    }
   ],
   "source": [
    "data = pd.read_csv('Datasets/smsText.csv')\n",
    "data.head()"
   ]
  },
  {
   "cell_type": "code",
   "execution_count": 3,
   "id": "4b19bd47",
   "metadata": {
    "ExecuteTime": {
     "end_time": "2023-01-16T13:45:16.461674Z",
     "start_time": "2023-01-16T13:45:16.445143Z"
    }
   },
   "outputs": [
    {
     "name": "stdout",
     "output_type": "stream",
     "text": [
      "<class 'pandas.core.frame.DataFrame'>\n",
      "RangeIndex: 5574 entries, 0 to 5573\n",
      "Data columns (total 2 columns):\n",
      " #   Column  Non-Null Count  Dtype \n",
      "---  ------  --------------  ----- \n",
      " 0   sms     5574 non-null   object\n",
      " 1   label   5574 non-null   int64 \n",
      "dtypes: int64(1), object(1)\n",
      "memory usage: 87.2+ KB\n"
     ]
    }
   ],
   "source": [
    "data.info()"
   ]
  },
  {
   "cell_type": "code",
   "execution_count": 4,
   "id": "96b77e3e",
   "metadata": {
    "ExecuteTime": {
     "end_time": "2023-01-16T13:45:19.569417Z",
     "start_time": "2023-01-16T13:45:19.556218Z"
    }
   },
   "outputs": [],
   "source": [
    "df = data.copy()"
   ]
  },
  {
   "cell_type": "markdown",
   "id": "55a36c92",
   "metadata": {},
   "source": [
    "# Tokenization"
   ]
  },
  {
   "cell_type": "code",
   "execution_count": 5,
   "id": "2ff0187f",
   "metadata": {
    "ExecuteTime": {
     "end_time": "2023-01-16T13:45:20.341785Z",
     "start_time": "2023-01-16T13:45:20.322167Z"
    }
   },
   "outputs": [],
   "source": [
    "sms = df.sms.apply(lambda row: row.lower())\n",
    "label = df.label"
   ]
  },
  {
   "cell_type": "code",
   "execution_count": 6,
   "id": "34415308",
   "metadata": {
    "ExecuteTime": {
     "end_time": "2023-01-16T13:45:25.113810Z",
     "start_time": "2023-01-16T13:45:24.005994Z"
    }
   },
   "outputs": [
    {
     "data": {
      "text/plain": [
       "['go',\n",
       " 'until',\n",
       " 'jurong',\n",
       " 'point',\n",
       " ',',\n",
       " 'crazy',\n",
       " '..',\n",
       " 'available',\n",
       " 'only',\n",
       " 'in',\n",
       " 'bugis',\n",
       " 'n',\n",
       " 'great',\n",
       " 'world',\n",
       " 'la',\n",
       " 'e',\n",
       " 'buffet',\n",
       " '...',\n",
       " 'cine',\n",
       " 'there',\n",
       " 'got',\n",
       " 'amore',\n",
       " 'wat',\n",
       " '...']"
      ]
     },
     "execution_count": 6,
     "metadata": {},
     "output_type": "execute_result"
    }
   ],
   "source": [
    "from nltk.tokenize import sent_tokenize, word_tokenize\n",
    "tokenized_sms = sms.apply(word_tokenize)\n",
    "tokenized_sms.iloc[0]"
   ]
  },
  {
   "cell_type": "markdown",
   "id": "24efed86",
   "metadata": {},
   "source": [
    "# Filtering stopwords"
   ]
  },
  {
   "cell_type": "code",
   "execution_count": 9,
   "id": "518e2f86",
   "metadata": {
    "ExecuteTime": {
     "end_time": "2023-01-16T13:46:15.082604Z",
     "start_time": "2023-01-16T13:46:14.677216Z"
    }
   },
   "outputs": [
    {
     "name": "stderr",
     "output_type": "stream",
     "text": [
      "[nltk_data] Downloading package stopwords to\n",
      "[nltk_data]     C:\\Users\\SHEHA\\AppData\\Roaming\\nltk_data...\n",
      "[nltk_data]   Package stopwords is already up-to-date!\n"
     ]
    },
    {
     "data": {
      "text/plain": [
       "True"
      ]
     },
     "execution_count": 9,
     "metadata": {},
     "output_type": "execute_result"
    }
   ],
   "source": [
    "import nltk\n",
    "nltk.download('stopwords')"
   ]
  },
  {
   "cell_type": "code",
   "execution_count": 10,
   "id": "5a4f0caa",
   "metadata": {
    "ExecuteTime": {
     "end_time": "2023-01-16T13:46:17.372311Z",
     "start_time": "2023-01-16T13:46:17.354306Z"
    }
   },
   "outputs": [],
   "source": [
    "from nltk.corpus import stopwords\n",
    "stop_words = stopwords.words('english')"
   ]
  },
  {
   "cell_type": "code",
   "execution_count": 13,
   "id": "4c94240f",
   "metadata": {
    "ExecuteTime": {
     "end_time": "2023-01-16T13:54:18.518110Z",
     "start_time": "2023-01-16T13:54:18.510894Z"
    }
   },
   "outputs": [],
   "source": [
    "def remove_stopwords(sentence: list) -> list:\n",
    "    return [word for word in sentence if (word.casefold() not in stop_words) and word.isalpha()]"
   ]
  },
  {
   "cell_type": "code",
   "execution_count": 14,
   "id": "ff43f8ae",
   "metadata": {
    "ExecuteTime": {
     "end_time": "2023-01-16T13:54:19.778842Z",
     "start_time": "2023-01-16T13:54:19.675232Z"
    }
   },
   "outputs": [
    {
     "data": {
      "text/plain": [
       "0       [go, jurong, point, crazy, available, bugis, n...\n",
       "1                          [ok, lar, joking, wif, u, oni]\n",
       "2       [free, entry, wkly, comp, win, fa, cup, final,...\n",
       "3           [u, dun, say, early, hor, u, c, already, say]\n",
       "4          [nah, think, goes, usf, lives, around, though]\n",
       "                              ...                        \n",
       "5569    [time, tried, contact, u, pound, prize, claim,...\n",
       "5570                   [ü, b, going, esplanade, fr, home]\n",
       "5571                            [pity, mood, suggestions]\n",
       "5572    [guy, bitching, acted, like, interested, buyin...\n",
       "5573                                   [rofl, true, name]\n",
       "Length: 5574, dtype: object"
      ]
     },
     "execution_count": 14,
     "metadata": {},
     "output_type": "execute_result"
    }
   ],
   "source": [
    "filtered_tokens = pd.Series(map(remove_stopwords, tokenized_sms))\n",
    "filtered_tokens"
   ]
  },
  {
   "cell_type": "code",
   "execution_count": 16,
   "id": "7911f023",
   "metadata": {
    "ExecuteTime": {
     "end_time": "2023-01-16T13:54:49.224427Z",
     "start_time": "2023-01-16T13:54:49.206150Z"
    }
   },
   "outputs": [
    {
     "data": {
      "text/plain": [
       "['go',\n",
       " 'jurong',\n",
       " 'point',\n",
       " 'crazy',\n",
       " 'available',\n",
       " 'bugis',\n",
       " 'n',\n",
       " 'great',\n",
       " 'world',\n",
       " 'la',\n",
       " 'e',\n",
       " 'buffet',\n",
       " 'cine',\n",
       " 'got',\n",
       " 'amore',\n",
       " 'wat']"
      ]
     },
     "execution_count": 16,
     "metadata": {},
     "output_type": "execute_result"
    }
   ],
   "source": [
    "filtered_tokens.iloc[0]"
   ]
  },
  {
   "cell_type": "markdown",
   "id": "4c041fa7",
   "metadata": {},
   "source": [
    "# Lemmatization"
   ]
  },
  {
   "cell_type": "code",
   "execution_count": 17,
   "id": "730eaf55",
   "metadata": {
    "ExecuteTime": {
     "end_time": "2023-01-16T13:56:07.817905Z",
     "start_time": "2023-01-16T13:56:07.664373Z"
    }
   },
   "outputs": [
    {
     "name": "stderr",
     "output_type": "stream",
     "text": [
      "[nltk_data] Downloading package wordnet to\n",
      "[nltk_data]     C:\\Users\\SHEHA\\AppData\\Roaming\\nltk_data...\n",
      "[nltk_data]   Package wordnet is already up-to-date!\n",
      "[nltk_data] Downloading package omw-1.4 to\n",
      "[nltk_data]     C:\\Users\\SHEHA\\AppData\\Roaming\\nltk_data...\n",
      "[nltk_data]   Package omw-1.4 is already up-to-date!\n"
     ]
    },
    {
     "data": {
      "text/plain": [
       "True"
      ]
     },
     "execution_count": 17,
     "metadata": {},
     "output_type": "execute_result"
    }
   ],
   "source": [
    "nltk.download('wordnet')\n",
    "nltk.download('omw-1.4')"
   ]
  },
  {
   "cell_type": "code",
   "execution_count": 18,
   "id": "6503e70e",
   "metadata": {
    "ExecuteTime": {
     "end_time": "2023-01-16T13:56:49.188966Z",
     "start_time": "2023-01-16T13:56:49.180984Z"
    }
   },
   "outputs": [],
   "source": [
    "from nltk.stem import PorterStemmer, WordNetLemmatizer\n",
    "\n",
    "lemmatizer = WordNetLemmatizer()\n",
    "def lemmatize(sentence: list) -> list:\n",
    "    return ' '.join(map(lambda word: lemmatizer.lemmatize(word), sentence))"
   ]
  },
  {
   "cell_type": "code",
   "execution_count": 19,
   "id": "e0d98b31",
   "metadata": {
    "ExecuteTime": {
     "end_time": "2023-01-16T13:57:04.846189Z",
     "start_time": "2023-01-16T13:57:03.728129Z"
    }
   },
   "outputs": [
    {
     "data": {
      "text/plain": [
       "0       go jurong point crazy available bugis n great ...\n",
       "1                                 ok lar joking wif u oni\n",
       "2       free entry wkly comp win fa cup final tkts may...\n",
       "3                     u dun say early hor u c already say\n",
       "4                     nah think go usf life around though\n",
       "                              ...                        \n",
       "5569    time tried contact u pound prize claim easy ca...\n",
       "5570                          ü b going esplanade fr home\n",
       "5571                                 pity mood suggestion\n",
       "5572    guy bitching acted like interested buying some...\n",
       "5573                                       rofl true name\n",
       "Length: 5574, dtype: object"
      ]
     },
     "execution_count": 19,
     "metadata": {},
     "output_type": "execute_result"
    }
   ],
   "source": [
    "lemmatized_tokens = filtered_tokens.apply(lemmatize)\n",
    "lemmatized_tokens"
   ]
  },
  {
   "cell_type": "code",
   "execution_count": 20,
   "id": "d034b781",
   "metadata": {
    "ExecuteTime": {
     "end_time": "2023-01-16T13:57:25.545939Z",
     "start_time": "2023-01-16T13:57:25.540929Z"
    }
   },
   "outputs": [
    {
     "data": {
      "text/plain": [
       "'go jurong point crazy available bugis n great world la e buffet cine got amore wat'"
      ]
     },
     "execution_count": 20,
     "metadata": {},
     "output_type": "execute_result"
    }
   ],
   "source": [
    "lemmatized_tokens.iloc[0]"
   ]
  },
  {
   "cell_type": "markdown",
   "id": "41458a1f",
   "metadata": {},
   "source": [
    "# Feature Extraction"
   ]
  },
  {
   "cell_type": "code",
   "execution_count": 21,
   "id": "6c8c1a7d",
   "metadata": {
    "ExecuteTime": {
     "end_time": "2023-01-16T13:58:39.823034Z",
     "start_time": "2023-01-16T13:58:39.544671Z"
    }
   },
   "outputs": [
    {
     "data": {
      "text/html": [
       "<div>\n",
       "<style scoped>\n",
       "    .dataframe tbody tr th:only-of-type {\n",
       "        vertical-align: middle;\n",
       "    }\n",
       "\n",
       "    .dataframe tbody tr th {\n",
       "        vertical-align: top;\n",
       "    }\n",
       "\n",
       "    .dataframe thead th {\n",
       "        text-align: right;\n",
       "    }\n",
       "</style>\n",
       "<table border=\"1\" class=\"dataframe\">\n",
       "  <thead>\n",
       "    <tr style=\"text-align: right;\">\n",
       "      <th></th>\n",
       "      <th>0</th>\n",
       "      <th>1</th>\n",
       "      <th>2</th>\n",
       "      <th>3</th>\n",
       "      <th>4</th>\n",
       "      <th>5</th>\n",
       "      <th>6</th>\n",
       "      <th>7</th>\n",
       "      <th>8</th>\n",
       "      <th>9</th>\n",
       "      <th>...</th>\n",
       "      <th>6677</th>\n",
       "      <th>6678</th>\n",
       "      <th>6679</th>\n",
       "      <th>6680</th>\n",
       "      <th>6681</th>\n",
       "      <th>6682</th>\n",
       "      <th>6683</th>\n",
       "      <th>6684</th>\n",
       "      <th>6685</th>\n",
       "      <th>6686</th>\n",
       "    </tr>\n",
       "  </thead>\n",
       "  <tbody>\n",
       "    <tr>\n",
       "      <th>0</th>\n",
       "      <td>0.0</td>\n",
       "      <td>0.0</td>\n",
       "      <td>0.0</td>\n",
       "      <td>0.0</td>\n",
       "      <td>0.0</td>\n",
       "      <td>0.0</td>\n",
       "      <td>0.0</td>\n",
       "      <td>0.0</td>\n",
       "      <td>0.0</td>\n",
       "      <td>0.0</td>\n",
       "      <td>...</td>\n",
       "      <td>0.0</td>\n",
       "      <td>0.0</td>\n",
       "      <td>0.0</td>\n",
       "      <td>0.0</td>\n",
       "      <td>0.0</td>\n",
       "      <td>0.0</td>\n",
       "      <td>0.0</td>\n",
       "      <td>0.0</td>\n",
       "      <td>0.0</td>\n",
       "      <td>0.0</td>\n",
       "    </tr>\n",
       "    <tr>\n",
       "      <th>1</th>\n",
       "      <td>0.0</td>\n",
       "      <td>0.0</td>\n",
       "      <td>0.0</td>\n",
       "      <td>0.0</td>\n",
       "      <td>0.0</td>\n",
       "      <td>0.0</td>\n",
       "      <td>0.0</td>\n",
       "      <td>0.0</td>\n",
       "      <td>0.0</td>\n",
       "      <td>0.0</td>\n",
       "      <td>...</td>\n",
       "      <td>0.0</td>\n",
       "      <td>0.0</td>\n",
       "      <td>0.0</td>\n",
       "      <td>0.0</td>\n",
       "      <td>0.0</td>\n",
       "      <td>0.0</td>\n",
       "      <td>0.0</td>\n",
       "      <td>0.0</td>\n",
       "      <td>0.0</td>\n",
       "      <td>0.0</td>\n",
       "    </tr>\n",
       "    <tr>\n",
       "      <th>2</th>\n",
       "      <td>0.0</td>\n",
       "      <td>0.0</td>\n",
       "      <td>0.0</td>\n",
       "      <td>0.0</td>\n",
       "      <td>0.0</td>\n",
       "      <td>0.0</td>\n",
       "      <td>0.0</td>\n",
       "      <td>0.0</td>\n",
       "      <td>0.0</td>\n",
       "      <td>0.0</td>\n",
       "      <td>...</td>\n",
       "      <td>0.0</td>\n",
       "      <td>0.0</td>\n",
       "      <td>0.0</td>\n",
       "      <td>0.0</td>\n",
       "      <td>0.0</td>\n",
       "      <td>0.0</td>\n",
       "      <td>0.0</td>\n",
       "      <td>0.0</td>\n",
       "      <td>0.0</td>\n",
       "      <td>0.0</td>\n",
       "    </tr>\n",
       "    <tr>\n",
       "      <th>3</th>\n",
       "      <td>0.0</td>\n",
       "      <td>0.0</td>\n",
       "      <td>0.0</td>\n",
       "      <td>0.0</td>\n",
       "      <td>0.0</td>\n",
       "      <td>0.0</td>\n",
       "      <td>0.0</td>\n",
       "      <td>0.0</td>\n",
       "      <td>0.0</td>\n",
       "      <td>0.0</td>\n",
       "      <td>...</td>\n",
       "      <td>0.0</td>\n",
       "      <td>0.0</td>\n",
       "      <td>0.0</td>\n",
       "      <td>0.0</td>\n",
       "      <td>0.0</td>\n",
       "      <td>0.0</td>\n",
       "      <td>0.0</td>\n",
       "      <td>0.0</td>\n",
       "      <td>0.0</td>\n",
       "      <td>0.0</td>\n",
       "    </tr>\n",
       "    <tr>\n",
       "      <th>4</th>\n",
       "      <td>0.0</td>\n",
       "      <td>0.0</td>\n",
       "      <td>0.0</td>\n",
       "      <td>0.0</td>\n",
       "      <td>0.0</td>\n",
       "      <td>0.0</td>\n",
       "      <td>0.0</td>\n",
       "      <td>0.0</td>\n",
       "      <td>0.0</td>\n",
       "      <td>0.0</td>\n",
       "      <td>...</td>\n",
       "      <td>0.0</td>\n",
       "      <td>0.0</td>\n",
       "      <td>0.0</td>\n",
       "      <td>0.0</td>\n",
       "      <td>0.0</td>\n",
       "      <td>0.0</td>\n",
       "      <td>0.0</td>\n",
       "      <td>0.0</td>\n",
       "      <td>0.0</td>\n",
       "      <td>0.0</td>\n",
       "    </tr>\n",
       "    <tr>\n",
       "      <th>...</th>\n",
       "      <td>...</td>\n",
       "      <td>...</td>\n",
       "      <td>...</td>\n",
       "      <td>...</td>\n",
       "      <td>...</td>\n",
       "      <td>...</td>\n",
       "      <td>...</td>\n",
       "      <td>...</td>\n",
       "      <td>...</td>\n",
       "      <td>...</td>\n",
       "      <td>...</td>\n",
       "      <td>...</td>\n",
       "      <td>...</td>\n",
       "      <td>...</td>\n",
       "      <td>...</td>\n",
       "      <td>...</td>\n",
       "      <td>...</td>\n",
       "      <td>...</td>\n",
       "      <td>...</td>\n",
       "      <td>...</td>\n",
       "      <td>...</td>\n",
       "    </tr>\n",
       "    <tr>\n",
       "      <th>5569</th>\n",
       "      <td>0.0</td>\n",
       "      <td>0.0</td>\n",
       "      <td>0.0</td>\n",
       "      <td>0.0</td>\n",
       "      <td>0.0</td>\n",
       "      <td>0.0</td>\n",
       "      <td>0.0</td>\n",
       "      <td>0.0</td>\n",
       "      <td>0.0</td>\n",
       "      <td>0.0</td>\n",
       "      <td>...</td>\n",
       "      <td>0.0</td>\n",
       "      <td>0.0</td>\n",
       "      <td>0.0</td>\n",
       "      <td>0.0</td>\n",
       "      <td>0.0</td>\n",
       "      <td>0.0</td>\n",
       "      <td>0.0</td>\n",
       "      <td>0.0</td>\n",
       "      <td>0.0</td>\n",
       "      <td>0.0</td>\n",
       "    </tr>\n",
       "    <tr>\n",
       "      <th>5570</th>\n",
       "      <td>0.0</td>\n",
       "      <td>0.0</td>\n",
       "      <td>0.0</td>\n",
       "      <td>0.0</td>\n",
       "      <td>0.0</td>\n",
       "      <td>0.0</td>\n",
       "      <td>0.0</td>\n",
       "      <td>0.0</td>\n",
       "      <td>0.0</td>\n",
       "      <td>0.0</td>\n",
       "      <td>...</td>\n",
       "      <td>0.0</td>\n",
       "      <td>0.0</td>\n",
       "      <td>0.0</td>\n",
       "      <td>0.0</td>\n",
       "      <td>0.0</td>\n",
       "      <td>0.0</td>\n",
       "      <td>0.0</td>\n",
       "      <td>0.0</td>\n",
       "      <td>0.0</td>\n",
       "      <td>0.0</td>\n",
       "    </tr>\n",
       "    <tr>\n",
       "      <th>5571</th>\n",
       "      <td>0.0</td>\n",
       "      <td>0.0</td>\n",
       "      <td>0.0</td>\n",
       "      <td>0.0</td>\n",
       "      <td>0.0</td>\n",
       "      <td>0.0</td>\n",
       "      <td>0.0</td>\n",
       "      <td>0.0</td>\n",
       "      <td>0.0</td>\n",
       "      <td>0.0</td>\n",
       "      <td>...</td>\n",
       "      <td>0.0</td>\n",
       "      <td>0.0</td>\n",
       "      <td>0.0</td>\n",
       "      <td>0.0</td>\n",
       "      <td>0.0</td>\n",
       "      <td>0.0</td>\n",
       "      <td>0.0</td>\n",
       "      <td>0.0</td>\n",
       "      <td>0.0</td>\n",
       "      <td>0.0</td>\n",
       "    </tr>\n",
       "    <tr>\n",
       "      <th>5572</th>\n",
       "      <td>0.0</td>\n",
       "      <td>0.0</td>\n",
       "      <td>0.0</td>\n",
       "      <td>0.0</td>\n",
       "      <td>0.0</td>\n",
       "      <td>0.0</td>\n",
       "      <td>0.0</td>\n",
       "      <td>0.0</td>\n",
       "      <td>0.0</td>\n",
       "      <td>0.0</td>\n",
       "      <td>...</td>\n",
       "      <td>0.0</td>\n",
       "      <td>0.0</td>\n",
       "      <td>0.0</td>\n",
       "      <td>0.0</td>\n",
       "      <td>0.0</td>\n",
       "      <td>0.0</td>\n",
       "      <td>0.0</td>\n",
       "      <td>0.0</td>\n",
       "      <td>0.0</td>\n",
       "      <td>0.0</td>\n",
       "    </tr>\n",
       "    <tr>\n",
       "      <th>5573</th>\n",
       "      <td>0.0</td>\n",
       "      <td>0.0</td>\n",
       "      <td>0.0</td>\n",
       "      <td>0.0</td>\n",
       "      <td>0.0</td>\n",
       "      <td>0.0</td>\n",
       "      <td>0.0</td>\n",
       "      <td>0.0</td>\n",
       "      <td>0.0</td>\n",
       "      <td>0.0</td>\n",
       "      <td>...</td>\n",
       "      <td>0.0</td>\n",
       "      <td>0.0</td>\n",
       "      <td>0.0</td>\n",
       "      <td>0.0</td>\n",
       "      <td>0.0</td>\n",
       "      <td>0.0</td>\n",
       "      <td>0.0</td>\n",
       "      <td>0.0</td>\n",
       "      <td>0.0</td>\n",
       "      <td>0.0</td>\n",
       "    </tr>\n",
       "  </tbody>\n",
       "</table>\n",
       "<p>5574 rows × 6687 columns</p>\n",
       "</div>"
      ],
      "text/plain": [
       "      0     1     2     3     4     5     6     7     8     9     ...  6677  \\\n",
       "0      0.0   0.0   0.0   0.0   0.0   0.0   0.0   0.0   0.0   0.0  ...   0.0   \n",
       "1      0.0   0.0   0.0   0.0   0.0   0.0   0.0   0.0   0.0   0.0  ...   0.0   \n",
       "2      0.0   0.0   0.0   0.0   0.0   0.0   0.0   0.0   0.0   0.0  ...   0.0   \n",
       "3      0.0   0.0   0.0   0.0   0.0   0.0   0.0   0.0   0.0   0.0  ...   0.0   \n",
       "4      0.0   0.0   0.0   0.0   0.0   0.0   0.0   0.0   0.0   0.0  ...   0.0   \n",
       "...    ...   ...   ...   ...   ...   ...   ...   ...   ...   ...  ...   ...   \n",
       "5569   0.0   0.0   0.0   0.0   0.0   0.0   0.0   0.0   0.0   0.0  ...   0.0   \n",
       "5570   0.0   0.0   0.0   0.0   0.0   0.0   0.0   0.0   0.0   0.0  ...   0.0   \n",
       "5571   0.0   0.0   0.0   0.0   0.0   0.0   0.0   0.0   0.0   0.0  ...   0.0   \n",
       "5572   0.0   0.0   0.0   0.0   0.0   0.0   0.0   0.0   0.0   0.0  ...   0.0   \n",
       "5573   0.0   0.0   0.0   0.0   0.0   0.0   0.0   0.0   0.0   0.0  ...   0.0   \n",
       "\n",
       "      6678  6679  6680  6681  6682  6683  6684  6685  6686  \n",
       "0      0.0   0.0   0.0   0.0   0.0   0.0   0.0   0.0   0.0  \n",
       "1      0.0   0.0   0.0   0.0   0.0   0.0   0.0   0.0   0.0  \n",
       "2      0.0   0.0   0.0   0.0   0.0   0.0   0.0   0.0   0.0  \n",
       "3      0.0   0.0   0.0   0.0   0.0   0.0   0.0   0.0   0.0  \n",
       "4      0.0   0.0   0.0   0.0   0.0   0.0   0.0   0.0   0.0  \n",
       "...    ...   ...   ...   ...   ...   ...   ...   ...   ...  \n",
       "5569   0.0   0.0   0.0   0.0   0.0   0.0   0.0   0.0   0.0  \n",
       "5570   0.0   0.0   0.0   0.0   0.0   0.0   0.0   0.0   0.0  \n",
       "5571   0.0   0.0   0.0   0.0   0.0   0.0   0.0   0.0   0.0  \n",
       "5572   0.0   0.0   0.0   0.0   0.0   0.0   0.0   0.0   0.0  \n",
       "5573   0.0   0.0   0.0   0.0   0.0   0.0   0.0   0.0   0.0  \n",
       "\n",
       "[5574 rows x 6687 columns]"
      ]
     },
     "execution_count": 21,
     "metadata": {},
     "output_type": "execute_result"
    }
   ],
   "source": [
    "from sklearn.feature_extraction.text import TfidfVectorizer\n",
    "\n",
    "tfidf_vectorizer = TfidfVectorizer()\n",
    "features = pd.DataFrame(tfidf_vectorizer.fit_transform(lemmatized_tokens).toarray()).astype(np.float16)\n",
    "features"
   ]
  },
  {
   "cell_type": "markdown",
   "id": "34446fa0",
   "metadata": {
    "ExecuteTime": {
     "end_time": "2023-01-16T13:58:50.681704Z",
     "start_time": "2023-01-16T13:58:50.675727Z"
    }
   },
   "source": [
    "# PCA - Dimentionality Reduction"
   ]
  },
  {
   "cell_type": "code",
   "execution_count": 23,
   "id": "107a9c97",
   "metadata": {
    "ExecuteTime": {
     "end_time": "2023-01-16T13:59:19.646665Z",
     "start_time": "2023-01-16T13:59:17.871604Z"
    }
   },
   "outputs": [],
   "source": [
    "from sklearn.decomposition import PCA\n",
    "\n",
    "dim_reductor = PCA(n_components=100)\n",
    "features = dim_reductor.fit_transform(features)"
   ]
  },
  {
   "cell_type": "code",
   "execution_count": 31,
   "id": "bd63e37f",
   "metadata": {
    "ExecuteTime": {
     "end_time": "2023-01-16T14:10:46.422079Z",
     "start_time": "2023-01-16T14:10:46.409095Z"
    }
   },
   "outputs": [
    {
     "data": {
      "text/plain": [
       "(5574, 100)"
      ]
     },
     "execution_count": 31,
     "metadata": {},
     "output_type": "execute_result"
    }
   ],
   "source": [
    "features.shape"
   ]
  },
  {
   "cell_type": "markdown",
   "id": "57e91de2",
   "metadata": {},
   "source": [
    "# split dataset"
   ]
  },
  {
   "cell_type": "code",
   "execution_count": 25,
   "id": "91e9dcfc",
   "metadata": {
    "ExecuteTime": {
     "end_time": "2023-01-16T14:00:10.118735Z",
     "start_time": "2023-01-16T14:00:10.098761Z"
    }
   },
   "outputs": [],
   "source": [
    "from sklearn.model_selection import train_test_split\n",
    "xtrain, xtest, ytrain, ytest = train_test_split(features, label, test_size=0.3, random_state=33) "
   ]
  },
  {
   "cell_type": "markdown",
   "id": "941d93a8",
   "metadata": {},
   "source": [
    "# Training Classifier"
   ]
  },
  {
   "cell_type": "markdown",
   "id": "29d9e239",
   "metadata": {},
   "source": [
    "## using GaussianNB"
   ]
  },
  {
   "cell_type": "code",
   "execution_count": 26,
   "id": "dabe3973",
   "metadata": {
    "ExecuteTime": {
     "end_time": "2023-01-16T14:01:39.401729Z",
     "start_time": "2023-01-16T14:01:39.376751Z"
    }
   },
   "outputs": [
    {
     "data": {
      "text/html": [
       "<style>#sk-container-id-1 {color: black;background-color: white;}#sk-container-id-1 pre{padding: 0;}#sk-container-id-1 div.sk-toggleable {background-color: white;}#sk-container-id-1 label.sk-toggleable__label {cursor: pointer;display: block;width: 100%;margin-bottom: 0;padding: 0.3em;box-sizing: border-box;text-align: center;}#sk-container-id-1 label.sk-toggleable__label-arrow:before {content: \"▸\";float: left;margin-right: 0.25em;color: #696969;}#sk-container-id-1 label.sk-toggleable__label-arrow:hover:before {color: black;}#sk-container-id-1 div.sk-estimator:hover label.sk-toggleable__label-arrow:before {color: black;}#sk-container-id-1 div.sk-toggleable__content {max-height: 0;max-width: 0;overflow: hidden;text-align: left;background-color: #f0f8ff;}#sk-container-id-1 div.sk-toggleable__content pre {margin: 0.2em;color: black;border-radius: 0.25em;background-color: #f0f8ff;}#sk-container-id-1 input.sk-toggleable__control:checked~div.sk-toggleable__content {max-height: 200px;max-width: 100%;overflow: auto;}#sk-container-id-1 input.sk-toggleable__control:checked~label.sk-toggleable__label-arrow:before {content: \"▾\";}#sk-container-id-1 div.sk-estimator input.sk-toggleable__control:checked~label.sk-toggleable__label {background-color: #d4ebff;}#sk-container-id-1 div.sk-label input.sk-toggleable__control:checked~label.sk-toggleable__label {background-color: #d4ebff;}#sk-container-id-1 input.sk-hidden--visually {border: 0;clip: rect(1px 1px 1px 1px);clip: rect(1px, 1px, 1px, 1px);height: 1px;margin: -1px;overflow: hidden;padding: 0;position: absolute;width: 1px;}#sk-container-id-1 div.sk-estimator {font-family: monospace;background-color: #f0f8ff;border: 1px dotted black;border-radius: 0.25em;box-sizing: border-box;margin-bottom: 0.5em;}#sk-container-id-1 div.sk-estimator:hover {background-color: #d4ebff;}#sk-container-id-1 div.sk-parallel-item::after {content: \"\";width: 100%;border-bottom: 1px solid gray;flex-grow: 1;}#sk-container-id-1 div.sk-label:hover label.sk-toggleable__label {background-color: #d4ebff;}#sk-container-id-1 div.sk-serial::before {content: \"\";position: absolute;border-left: 1px solid gray;box-sizing: border-box;top: 0;bottom: 0;left: 50%;z-index: 0;}#sk-container-id-1 div.sk-serial {display: flex;flex-direction: column;align-items: center;background-color: white;padding-right: 0.2em;padding-left: 0.2em;position: relative;}#sk-container-id-1 div.sk-item {position: relative;z-index: 1;}#sk-container-id-1 div.sk-parallel {display: flex;align-items: stretch;justify-content: center;background-color: white;position: relative;}#sk-container-id-1 div.sk-item::before, #sk-container-id-1 div.sk-parallel-item::before {content: \"\";position: absolute;border-left: 1px solid gray;box-sizing: border-box;top: 0;bottom: 0;left: 50%;z-index: -1;}#sk-container-id-1 div.sk-parallel-item {display: flex;flex-direction: column;z-index: 1;position: relative;background-color: white;}#sk-container-id-1 div.sk-parallel-item:first-child::after {align-self: flex-end;width: 50%;}#sk-container-id-1 div.sk-parallel-item:last-child::after {align-self: flex-start;width: 50%;}#sk-container-id-1 div.sk-parallel-item:only-child::after {width: 0;}#sk-container-id-1 div.sk-dashed-wrapped {border: 1px dashed gray;margin: 0 0.4em 0.5em 0.4em;box-sizing: border-box;padding-bottom: 0.4em;background-color: white;}#sk-container-id-1 div.sk-label label {font-family: monospace;font-weight: bold;display: inline-block;line-height: 1.2em;}#sk-container-id-1 div.sk-label-container {text-align: center;}#sk-container-id-1 div.sk-container {/* jupyter's `normalize.less` sets `[hidden] { display: none; }` but bootstrap.min.css set `[hidden] { display: none !important; }` so we also need the `!important` here to be able to override the default hidden behavior on the sphinx rendered scikit-learn.org. See: https://github.com/scikit-learn/scikit-learn/issues/21755 */display: inline-block !important;position: relative;}#sk-container-id-1 div.sk-text-repr-fallback {display: none;}</style><div id=\"sk-container-id-1\" class=\"sk-top-container\"><div class=\"sk-text-repr-fallback\"><pre>GaussianNB()</pre><b>In a Jupyter environment, please rerun this cell to show the HTML representation or trust the notebook. <br />On GitHub, the HTML representation is unable to render, please try loading this page with nbviewer.org.</b></div><div class=\"sk-container\" hidden><div class=\"sk-item\"><div class=\"sk-estimator sk-toggleable\"><input class=\"sk-toggleable__control sk-hidden--visually\" id=\"sk-estimator-id-1\" type=\"checkbox\" checked><label for=\"sk-estimator-id-1\" class=\"sk-toggleable__label sk-toggleable__label-arrow\">GaussianNB</label><div class=\"sk-toggleable__content\"><pre>GaussianNB()</pre></div></div></div></div></div>"
      ],
      "text/plain": [
       "GaussianNB()"
      ]
     },
     "execution_count": 26,
     "metadata": {},
     "output_type": "execute_result"
    }
   ],
   "source": [
    "from sklearn.naive_bayes import GaussianNB\n",
    "clf = GaussianNB()\n",
    "clf.fit(xtrain, ytrain)"
   ]
  },
  {
   "cell_type": "code",
   "execution_count": 40,
   "id": "f5a434da",
   "metadata": {
    "ExecuteTime": {
     "end_time": "2023-01-16T14:26:02.948228Z",
     "start_time": "2023-01-16T14:26:02.921723Z"
    }
   },
   "outputs": [
    {
     "name": "stdout",
     "output_type": "stream",
     "text": [
      "              precision    recall  f1-score   support\n",
      "\n",
      "           0       0.96      0.91      0.93      1449\n",
      "           1       0.56      0.75      0.64       224\n",
      "\n",
      "    accuracy                           0.89      1673\n",
      "   macro avg       0.76      0.83      0.79      1673\n",
      "weighted avg       0.91      0.89      0.89      1673\n",
      "\n"
     ]
    }
   ],
   "source": [
    "from sklearn.metrics import classification_report\n",
    "ypred = clf.predict(xtest)\n",
    "report = classification_report(y_true=ytest, y_pred=ypred)\n",
    "print(report)"
   ]
  },
  {
   "cell_type": "code",
   "execution_count": 37,
   "id": "7097eea4",
   "metadata": {
    "ExecuteTime": {
     "end_time": "2023-01-16T14:24:23.302390Z",
     "start_time": "2023-01-16T14:24:23.282386Z"
    }
   },
   "outputs": [
    {
     "data": {
      "text/plain": [
       "array([[1317,  132],\n",
       "       [  56,  168]], dtype=int64)"
      ]
     },
     "execution_count": 37,
     "metadata": {},
     "output_type": "execute_result"
    }
   ],
   "source": [
    "from sklearn.metrics import confusion_matrix\n",
    "confusion_matrix(y_true=ytest, y_pred=ypred)"
   ]
  },
  {
   "cell_type": "code",
   "execution_count": null,
   "id": "2feb2321",
   "metadata": {},
   "outputs": [],
   "source": []
  },
  {
   "cell_type": "code",
   "execution_count": null,
   "id": "b8c0955b",
   "metadata": {},
   "outputs": [],
   "source": []
  },
  {
   "cell_type": "code",
   "execution_count": null,
   "id": "44fc2812",
   "metadata": {},
   "outputs": [],
   "source": []
  },
  {
   "cell_type": "markdown",
   "id": "b8467e69",
   "metadata": {},
   "source": [
    "## using LSTM"
   ]
  },
  {
   "cell_type": "code",
   "execution_count": 28,
   "id": "1fa6bbd6",
   "metadata": {
    "ExecuteTime": {
     "end_time": "2023-01-16T14:06:47.621945Z",
     "start_time": "2023-01-16T14:06:47.606937Z"
    }
   },
   "outputs": [],
   "source": [
    "import tensorflow as tf\n",
    "from tensorflow.keras.layers import Embedding\n",
    "from tensorflow.keras.preprocessing.sequence import pad_sequences\n",
    "from tensorflow.keras.models import Sequential\n",
    "from tensorflow.keras.preprocessing.text import one_hot\n",
    "from tensorflow.keras.layers import LSTM\n",
    "from tensorflow.keras.layers import Dense"
   ]
  },
  {
   "cell_type": "code",
   "execution_count": 95,
   "id": "c9505291",
   "metadata": {
    "ExecuteTime": {
     "end_time": "2023-01-16T14:57:27.075529Z",
     "start_time": "2023-01-16T14:57:26.896482Z"
    }
   },
   "outputs": [
    {
     "name": "stdout",
     "output_type": "stream",
     "text": [
      "Model: \"sequential_6\"\n",
      "_________________________________________________________________\n",
      " Layer (type)                Output Shape              Param #   \n",
      "=================================================================\n",
      " embedding_4 (Embedding)     (None, 100, 40)           200000    \n",
      "                                                                 \n",
      " lstm_4 (LSTM)               (None, 100)               56400     \n",
      "                                                                 \n",
      " dense_4 (Dense)             (None, 1)                 101       \n",
      "                                                                 \n",
      "=================================================================\n",
      "Total params: 256,501\n",
      "Trainable params: 256,501\n",
      "Non-trainable params: 0\n",
      "_________________________________________________________________\n",
      "None\n"
     ]
    }
   ],
   "source": [
    "# Vocabulary size\n",
    "# using loss='binary_crossentropy' as it is a binary classification problem\n",
    "\n",
    "voc_size = 5000\n",
    "embedding_vector_features = 40 # features representation\n",
    "model=Sequential()\n",
    "model.add(Embedding(voc_size, embedding_vector_features, input_length=100))\n",
    "model.add(LSTM(100))\n",
    "model.add(Dense(1, activation='sigmoid'))\n",
    "model.compile(loss='binary_crossentropy', optimizer='adam', metrics=['accuracy'])\n",
    "print(model.summary())"
   ]
  },
  {
   "cell_type": "code",
   "execution_count": 96,
   "id": "b1ed7fe5",
   "metadata": {
    "ExecuteTime": {
     "end_time": "2023-01-16T14:58:05.279885Z",
     "start_time": "2023-01-16T14:57:28.006037Z"
    }
   },
   "outputs": [
    {
     "name": "stdout",
     "output_type": "stream",
     "text": [
      "Epoch 1/10\n",
      "61/61 [==============================] - 5s 66ms/step - loss: 0.4274 - accuracy: 0.8547 - val_loss: 0.3975 - val_accuracy: 0.8661\n",
      "Epoch 2/10\n",
      "61/61 [==============================] - 3s 54ms/step - loss: 0.3958 - accuracy: 0.8659 - val_loss: 0.3947 - val_accuracy: 0.8661\n",
      "Epoch 3/10\n",
      "61/61 [==============================] - 3s 54ms/step - loss: 0.3973 - accuracy: 0.8659 - val_loss: 0.3984 - val_accuracy: 0.8661\n",
      "Epoch 4/10\n",
      "61/61 [==============================] - 4s 58ms/step - loss: 0.3957 - accuracy: 0.8659 - val_loss: 0.3944 - val_accuracy: 0.8661\n",
      "Epoch 5/10\n",
      "61/61 [==============================] - 4s 59ms/step - loss: 0.3970 - accuracy: 0.8659 - val_loss: 0.3937 - val_accuracy: 0.8661\n",
      "Epoch 6/10\n",
      "61/61 [==============================] - 4s 59ms/step - loss: 0.3949 - accuracy: 0.8659 - val_loss: 0.3943 - val_accuracy: 0.8661\n",
      "Epoch 7/10\n",
      "61/61 [==============================] - 4s 62ms/step - loss: 0.3958 - accuracy: 0.8659 - val_loss: 0.3940 - val_accuracy: 0.8661\n",
      "Epoch 8/10\n",
      "61/61 [==============================] - 4s 60ms/step - loss: 0.3967 - accuracy: 0.8659 - val_loss: 0.3937 - val_accuracy: 0.8661\n",
      "Epoch 9/10\n",
      "61/61 [==============================] - 4s 60ms/step - loss: 0.3964 - accuracy: 0.8659 - val_loss: 0.3948 - val_accuracy: 0.8661\n",
      "Epoch 10/10\n",
      "61/61 [==============================] - 4s 59ms/step - loss: 0.3952 - accuracy: 0.8659 - val_loss: 0.3938 - val_accuracy: 0.8661\n"
     ]
    },
    {
     "data": {
      "text/plain": [
       "<keras.callbacks.History at 0x147ffb360e0>"
      ]
     },
     "execution_count": 96,
     "metadata": {},
     "output_type": "execute_result"
    }
   ],
   "source": [
    "model.fit(xtrain, ytrain, validation_data=(xtest, ytest), epochs=10, batch_size=64)"
   ]
  },
  {
   "cell_type": "code",
   "execution_count": 97,
   "id": "c8a1886f",
   "metadata": {
    "ExecuteTime": {
     "end_time": "2023-01-16T14:58:26.915232Z",
     "start_time": "2023-01-16T14:58:22.842778Z"
    }
   },
   "outputs": [
    {
     "name": "stdout",
     "output_type": "stream",
     "text": [
      "122/122 [==============================] - 4s 33ms/step - loss: 0.3962 - accuracy: 0.8659\n"
     ]
    },
    {
     "data": {
      "text/plain": [
       "<keras.callbacks.History at 0x1478842d840>"
      ]
     },
     "execution_count": 97,
     "metadata": {},
     "output_type": "execute_result"
    }
   ],
   "source": [
    "model.fit(xtrain, ytrain)"
   ]
  },
  {
   "cell_type": "code",
   "execution_count": 98,
   "id": "614b7648",
   "metadata": {
    "ExecuteTime": {
     "end_time": "2023-01-16T14:58:29.577364Z",
     "start_time": "2023-01-16T14:58:28.842664Z"
    }
   },
   "outputs": [
    {
     "name": "stdout",
     "output_type": "stream",
     "text": [
      "53/53 [==============================] - 1s 9ms/step\n"
     ]
    }
   ],
   "source": [
    "ypred_lstm1 = model.predict(xtest)"
   ]
  },
  {
   "cell_type": "code",
   "execution_count": 99,
   "id": "6ff60a53",
   "metadata": {
    "ExecuteTime": {
     "end_time": "2023-01-16T14:58:30.968002Z",
     "start_time": "2023-01-16T14:58:30.957497Z"
    }
   },
   "outputs": [
    {
     "data": {
      "text/plain": [
       "(1673, 1)"
      ]
     },
     "execution_count": 99,
     "metadata": {},
     "output_type": "execute_result"
    }
   ],
   "source": [
    "ypred_lstm1.shape"
   ]
  },
  {
   "cell_type": "code",
   "execution_count": 100,
   "id": "61711988",
   "metadata": {
    "ExecuteTime": {
     "end_time": "2023-01-16T14:58:33.109050Z",
     "start_time": "2023-01-16T14:58:33.095069Z"
    }
   },
   "outputs": [
    {
     "data": {
      "text/plain": [
       "array([[0.16614172],\n",
       "       [0.16614172],\n",
       "       [0.16614172],\n",
       "       ...,\n",
       "       [0.16614172],\n",
       "       [0.16614172],\n",
       "       [0.16614172]], dtype=float32)"
      ]
     },
     "execution_count": 100,
     "metadata": {},
     "output_type": "execute_result"
    }
   ],
   "source": [
    "ypred_lstm1"
   ]
  },
  {
   "cell_type": "code",
   "execution_count": 110,
   "id": "cd4170f8",
   "metadata": {
    "ExecuteTime": {
     "end_time": "2023-01-16T14:59:46.578972Z",
     "start_time": "2023-01-16T14:59:46.573972Z"
    }
   },
   "outputs": [],
   "source": [
    "ypred_lstm2 = ypred_lstm1.copy()"
   ]
  },
  {
   "cell_type": "code",
   "execution_count": 111,
   "id": "15bb1a81",
   "metadata": {
    "ExecuteTime": {
     "end_time": "2023-01-16T14:59:47.005569Z",
     "start_time": "2023-01-16T14:59:47.001565Z"
    }
   },
   "outputs": [],
   "source": [
    "ypred_lstm2 = np.where(ypred_lstm > 16614172, 0,1)"
   ]
  },
  {
   "cell_type": "code",
   "execution_count": 112,
   "id": "aefa4447",
   "metadata": {
    "ExecuteTime": {
     "end_time": "2023-01-16T14:59:47.558203Z",
     "start_time": "2023-01-16T14:59:47.548203Z"
    }
   },
   "outputs": [
    {
     "data": {
      "text/plain": [
       "array([[1],\n",
       "       [1],\n",
       "       [1],\n",
       "       ...,\n",
       "       [1],\n",
       "       [1],\n",
       "       [1]])"
      ]
     },
     "execution_count": 112,
     "metadata": {},
     "output_type": "execute_result"
    }
   ],
   "source": [
    "ypred_lstm2"
   ]
  },
  {
   "cell_type": "code",
   "execution_count": 113,
   "id": "e991471c",
   "metadata": {
    "ExecuteTime": {
     "end_time": "2023-01-16T14:59:49.270659Z",
     "start_time": "2023-01-16T14:59:49.259657Z"
    }
   },
   "outputs": [
    {
     "name": "stdout",
     "output_type": "stream",
     "text": [
      "              precision    recall  f1-score   support\n",
      "\n",
      "           0       0.00      0.00      0.00      1449\n",
      "           1       0.13      1.00      0.24       224\n",
      "\n",
      "    accuracy                           0.13      1673\n",
      "   macro avg       0.07      0.50      0.12      1673\n",
      "weighted avg       0.02      0.13      0.03      1673\n",
      "\n"
     ]
    },
    {
     "name": "stderr",
     "output_type": "stream",
     "text": [
      "C:\\Users\\SHEHA\\Downloads\\GitHubRepository\\Python2022\\tfenv\\lib\\site-packages\\sklearn\\metrics\\_classification.py:1344: UndefinedMetricWarning: Precision and F-score are ill-defined and being set to 0.0 in labels with no predicted samples. Use `zero_division` parameter to control this behavior.\n",
      "  _warn_prf(average, modifier, msg_start, len(result))\n",
      "C:\\Users\\SHEHA\\Downloads\\GitHubRepository\\Python2022\\tfenv\\lib\\site-packages\\sklearn\\metrics\\_classification.py:1344: UndefinedMetricWarning: Precision and F-score are ill-defined and being set to 0.0 in labels with no predicted samples. Use `zero_division` parameter to control this behavior.\n",
      "  _warn_prf(average, modifier, msg_start, len(result))\n",
      "C:\\Users\\SHEHA\\Downloads\\GitHubRepository\\Python2022\\tfenv\\lib\\site-packages\\sklearn\\metrics\\_classification.py:1344: UndefinedMetricWarning: Precision and F-score are ill-defined and being set to 0.0 in labels with no predicted samples. Use `zero_division` parameter to control this behavior.\n",
      "  _warn_prf(average, modifier, msg_start, len(result))\n"
     ]
    }
   ],
   "source": [
    "report = classification_report(y_true=ytest, y_pred=ypred_lstm2)\n",
    "print(report)"
   ]
  },
  {
   "cell_type": "code",
   "execution_count": null,
   "id": "2606308d",
   "metadata": {},
   "outputs": [],
   "source": []
  },
  {
   "cell_type": "code",
   "execution_count": 73,
   "id": "e0b3a492",
   "metadata": {
    "ExecuteTime": {
     "end_time": "2023-01-16T14:50:25.712793Z",
     "start_time": "2023-01-16T14:50:20.553227Z"
    }
   },
   "outputs": [
    {
     "name": "stdout",
     "output_type": "stream",
     "text": [
      "122/122 [==============================] - 5s 32ms/step - loss: 0.4192 - accuracy: 0.8582\n"
     ]
    },
    {
     "data": {
      "text/plain": [
       "<keras.callbacks.History at 0x147f7e70ca0>"
      ]
     },
     "execution_count": 73,
     "metadata": {},
     "output_type": "execute_result"
    }
   ],
   "source": []
  },
  {
   "cell_type": "code",
   "execution_count": 74,
   "id": "bdc5d39a",
   "metadata": {
    "ExecuteTime": {
     "end_time": "2023-01-16T14:50:27.167077Z",
     "start_time": "2023-01-16T14:50:26.597773Z"
    }
   },
   "outputs": [
    {
     "name": "stdout",
     "output_type": "stream",
     "text": [
      "53/53 [==============================] - 1s 9ms/step\n"
     ]
    }
   ],
   "source": [
    "ypred_lstm1 = model.predict(xtest)"
   ]
  },
  {
   "cell_type": "code",
   "execution_count": 58,
   "id": "07f60009",
   "metadata": {
    "ExecuteTime": {
     "end_time": "2023-01-16T14:38:46.219914Z",
     "start_time": "2023-01-16T14:38:46.198425Z"
    }
   },
   "outputs": [
    {
     "data": {
      "text/plain": [
       "0    3378\n",
       "1     523\n",
       "Name: label, dtype: int64"
      ]
     },
     "execution_count": 58,
     "metadata": {},
     "output_type": "execute_result"
    }
   ],
   "source": [
    "ytrain.value_counts()"
   ]
  },
  {
   "cell_type": "code",
   "execution_count": 48,
   "id": "ae0b95e8",
   "metadata": {
    "ExecuteTime": {
     "end_time": "2023-01-16T14:31:22.236585Z",
     "start_time": "2023-01-16T14:31:22.219030Z"
    }
   },
   "outputs": [
    {
     "data": {
      "text/plain": [
       "(1673, 1)"
      ]
     },
     "execution_count": 48,
     "metadata": {},
     "output_type": "execute_result"
    }
   ],
   "source": [
    "ypred_lstm.shape"
   ]
  },
  {
   "cell_type": "code",
   "execution_count": 50,
   "id": "65f48dde",
   "metadata": {
    "ExecuteTime": {
     "end_time": "2023-01-16T14:32:41.688426Z",
     "start_time": "2023-01-16T14:32:41.678430Z"
    }
   },
   "outputs": [
    {
     "data": {
      "text/plain": [
       "array([0, 1, 0, ..., 1, 0, 0], dtype=int64)"
      ]
     },
     "execution_count": 50,
     "metadata": {},
     "output_type": "execute_result"
    }
   ],
   "source": [
    "ypred"
   ]
  },
  {
   "cell_type": "code",
   "execution_count": 49,
   "id": "bf0ee833",
   "metadata": {
    "ExecuteTime": {
     "end_time": "2023-01-16T14:31:51.566164Z",
     "start_time": "2023-01-16T14:31:51.548143Z"
    }
   },
   "outputs": [
    {
     "data": {
      "text/plain": [
       "array([[0.14365998],\n",
       "       [0.14365998],\n",
       "       [0.14365998],\n",
       "       ...,\n",
       "       [0.14365998],\n",
       "       [0.14365998],\n",
       "       [0.14365998]], dtype=float32)"
      ]
     },
     "execution_count": 49,
     "metadata": {},
     "output_type": "execute_result"
    }
   ],
   "source": [
    "ypred_lstm"
   ]
  },
  {
   "cell_type": "code",
   "execution_count": 45,
   "id": "b85efdc9",
   "metadata": {
    "ExecuteTime": {
     "end_time": "2023-01-16T14:30:37.680581Z",
     "start_time": "2023-01-16T14:30:37.668053Z"
    }
   },
   "outputs": [],
   "source": [
    "ypred_lstm = np.where(ypred_lstm > 0.5, 1,0)"
   ]
  },
  {
   "cell_type": "code",
   "execution_count": 52,
   "id": "8fdc44ce",
   "metadata": {
    "ExecuteTime": {
     "end_time": "2023-01-16T14:35:31.573199Z",
     "start_time": "2023-01-16T14:35:31.022777Z"
    }
   },
   "outputs": [
    {
     "name": "stdout",
     "output_type": "stream",
     "text": [
      "53/53 [==============================] - 1s 9ms/step\n"
     ]
    },
    {
     "data": {
      "text/plain": [
       "array([[0.14365998],\n",
       "       [0.14365998],\n",
       "       [0.14365998],\n",
       "       ...,\n",
       "       [0.14365998],\n",
       "       [0.14365998],\n",
       "       [0.14365998]], dtype=float32)"
      ]
     },
     "execution_count": 52,
     "metadata": {},
     "output_type": "execute_result"
    }
   ],
   "source": [
    "ypred_lstm1 = model.predict(xtest)\n",
    "ypred_lstm1"
   ]
  },
  {
   "cell_type": "code",
   "execution_count": 46,
   "id": "bedf1587",
   "metadata": {
    "ExecuteTime": {
     "end_time": "2023-01-16T14:30:38.689127Z",
     "start_time": "2023-01-16T14:30:38.673147Z"
    }
   },
   "outputs": [
    {
     "data": {
      "text/plain": [
       "array([[1449,    0],\n",
       "       [ 224,    0]], dtype=int64)"
      ]
     },
     "execution_count": 46,
     "metadata": {},
     "output_type": "execute_result"
    }
   ],
   "source": [
    "confusion_matrix(ytest, ypred_lstm)"
   ]
  },
  {
   "cell_type": "code",
   "execution_count": 44,
   "id": "082a6551",
   "metadata": {
    "ExecuteTime": {
     "end_time": "2023-01-16T14:30:17.786429Z",
     "start_time": "2023-01-16T14:30:17.779448Z"
    }
   },
   "outputs": [
    {
     "data": {
      "text/plain": [
       "0.8661087866108786"
      ]
     },
     "execution_count": 44,
     "metadata": {},
     "output_type": "execute_result"
    }
   ],
   "source": [
    "from sklearn.metrics import accuracy_score\n",
    "accuracy_score(ytest, ypred_lstm)"
   ]
  },
  {
   "cell_type": "code",
   "execution_count": 71,
   "id": "9b3a576c",
   "metadata": {
    "ExecuteTime": {
     "end_time": "2023-01-16T14:49:22.310420Z",
     "start_time": "2023-01-16T14:49:22.297415Z"
    }
   },
   "outputs": [
    {
     "name": "stdout",
     "output_type": "stream",
     "text": [
      "              precision    recall  f1-score   support\n",
      "\n",
      "           0       0.87      1.00      0.93      1449\n",
      "           1       0.00      0.00      0.00       224\n",
      "\n",
      "    accuracy                           0.87      1673\n",
      "   macro avg       0.43      0.50      0.46      1673\n",
      "weighted avg       0.75      0.87      0.80      1673\n",
      "\n"
     ]
    },
    {
     "name": "stderr",
     "output_type": "stream",
     "text": [
      "C:\\Users\\SHEHA\\Downloads\\GitHubRepository\\Python2022\\tfenv\\lib\\site-packages\\sklearn\\metrics\\_classification.py:1344: UndefinedMetricWarning: Precision and F-score are ill-defined and being set to 0.0 in labels with no predicted samples. Use `zero_division` parameter to control this behavior.\n",
      "  _warn_prf(average, modifier, msg_start, len(result))\n",
      "C:\\Users\\SHEHA\\Downloads\\GitHubRepository\\Python2022\\tfenv\\lib\\site-packages\\sklearn\\metrics\\_classification.py:1344: UndefinedMetricWarning: Precision and F-score are ill-defined and being set to 0.0 in labels with no predicted samples. Use `zero_division` parameter to control this behavior.\n",
      "  _warn_prf(average, modifier, msg_start, len(result))\n",
      "C:\\Users\\SHEHA\\Downloads\\GitHubRepository\\Python2022\\tfenv\\lib\\site-packages\\sklearn\\metrics\\_classification.py:1344: UndefinedMetricWarning: Precision and F-score are ill-defined and being set to 0.0 in labels with no predicted samples. Use `zero_division` parameter to control this behavior.\n",
      "  _warn_prf(average, modifier, msg_start, len(result))\n"
     ]
    }
   ],
   "source": [
    "report = classification_report(y_true=ytest, y_pred=ypred_lstm1)\n",
    "print(report)"
   ]
  },
  {
   "cell_type": "code",
   "execution_count": null,
   "id": "ae511344",
   "metadata": {},
   "outputs": [],
   "source": []
  },
  {
   "cell_type": "code",
   "execution_count": 90,
   "id": "34c4b96d",
   "metadata": {
    "ExecuteTime": {
     "end_time": "2023-01-16T14:54:55.295178Z",
     "start_time": "2023-01-16T14:54:55.275639Z"
    }
   },
   "outputs": [
    {
     "data": {
      "text/plain": [
       "0    1449\n",
       "1     224\n",
       "Name: label, dtype: int64"
      ]
     },
     "execution_count": 90,
     "metadata": {},
     "output_type": "execute_result"
    }
   ],
   "source": [
    "ytest.value_counts()"
   ]
  },
  {
   "cell_type": "code",
   "execution_count": 63,
   "id": "a362af0a",
   "metadata": {
    "ExecuteTime": {
     "end_time": "2023-01-16T14:45:36.258512Z",
     "start_time": "2023-01-16T14:45:36.244705Z"
    }
   },
   "outputs": [
    {
     "data": {
      "text/plain": [
       "(1673, 100)"
      ]
     },
     "execution_count": 63,
     "metadata": {},
     "output_type": "execute_result"
    }
   ],
   "source": [
    "xtest.shape"
   ]
  }
 ],
 "metadata": {
  "kernelspec": {
   "display_name": "Python 3 (ipykernel)",
   "language": "python",
   "name": "python3"
  },
  "language_info": {
   "codemirror_mode": {
    "name": "ipython",
    "version": 3
   },
   "file_extension": ".py",
   "mimetype": "text/x-python",
   "name": "python",
   "nbconvert_exporter": "python",
   "pygments_lexer": "ipython3",
   "version": "3.10.6"
  },
  "toc": {
   "base_numbering": 1,
   "nav_menu": {},
   "number_sections": true,
   "sideBar": true,
   "skip_h1_title": false,
   "title_cell": "Table of Contents",
   "title_sidebar": "Contents",
   "toc_cell": true,
   "toc_position": {
    "height": "calc(100% - 180px)",
    "left": "10px",
    "top": "150px",
    "width": "279.409px"
   },
   "toc_section_display": true,
   "toc_window_display": false
  }
 },
 "nbformat": 4,
 "nbformat_minor": 5
}
