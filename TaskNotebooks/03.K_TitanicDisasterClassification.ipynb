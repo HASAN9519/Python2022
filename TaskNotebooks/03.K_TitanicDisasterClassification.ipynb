{
 "cells": [
  {
   "cell_type": "markdown",
   "id": "3c617a02",
   "metadata": {
    "toc": true
   },
   "source": [
    "<h1>Table of Contents<span class=\"tocSkip\"></span></h1>\n",
    "<div class=\"toc\"><ul class=\"toc-item\"><li><span><a href=\"#Loading-Librarys\" data-toc-modified-id=\"Loading-Librarys-1\"><span class=\"toc-item-num\">1&nbsp;&nbsp;</span>Loading Librarys</a></span></li><li><span><a href=\"#Loading-Data\" data-toc-modified-id=\"Loading-Data-2\"><span class=\"toc-item-num\">2&nbsp;&nbsp;</span>Loading Data</a></span></li><li><span><a href=\"#Feature-Engineering\" data-toc-modified-id=\"Feature-Engineering-3\"><span class=\"toc-item-num\">3&nbsp;&nbsp;</span>Feature Engineering</a></span><ul class=\"toc-item\"><li><span><a href=\"#On-train-data\" data-toc-modified-id=\"On-train-data-3.1\"><span class=\"toc-item-num\">3.1&nbsp;&nbsp;</span>On train data</a></span><ul class=\"toc-item\"><li><span><a href=\"#EDA\" data-toc-modified-id=\"EDA-3.1.1\"><span class=\"toc-item-num\">3.1.1&nbsp;&nbsp;</span>EDA</a></span></li><li><span><a href=\"#Handling-missing-value\" data-toc-modified-id=\"Handling-missing-value-3.1.2\"><span class=\"toc-item-num\">3.1.2&nbsp;&nbsp;</span>Handling missing value</a></span></li></ul></li><li><span><a href=\"#On-test-data\" data-toc-modified-id=\"On-test-data-3.2\"><span class=\"toc-item-num\">3.2&nbsp;&nbsp;</span>On test data</a></span><ul class=\"toc-item\"><li><span><a href=\"#Handling-missing-value\" data-toc-modified-id=\"Handling-missing-value-3.2.1\"><span class=\"toc-item-num\">3.2.1&nbsp;&nbsp;</span>Handling missing value</a></span></li></ul></li></ul></li><li><span><a href=\"#Handling-Categorical-Features\" data-toc-modified-id=\"Handling-Categorical-Features-4\"><span class=\"toc-item-num\">4&nbsp;&nbsp;</span>Handling Categorical Features</a></span><ul class=\"toc-item\"><li><span><a href=\"#spliting-train-and-test-dataset\" data-toc-modified-id=\"spliting-train-and-test-dataset-4.1\"><span class=\"toc-item-num\">4.1&nbsp;&nbsp;</span>spliting train and test dataset</a></span></li></ul></li><li><span><a href=\"#Feature-Selection\" data-toc-modified-id=\"Feature-Selection-5\"><span class=\"toc-item-num\">5&nbsp;&nbsp;</span>Feature Selection</a></span></li><li><span><a href=\"#Feature-Normalization/Standardization\" data-toc-modified-id=\"Feature-Normalization/Standardization-6\"><span class=\"toc-item-num\">6&nbsp;&nbsp;</span>Feature Normalization/Standardization</a></span></li><li><span><a href=\"#model-selection\" data-toc-modified-id=\"model-selection-7\"><span class=\"toc-item-num\">7&nbsp;&nbsp;</span>model selection</a></span><ul class=\"toc-item\"><li><span><a href=\"#Baseline-Metrics\" data-toc-modified-id=\"Baseline-Metrics-7.1\"><span class=\"toc-item-num\">7.1&nbsp;&nbsp;</span>Baseline Metrics</a></span></li><li><span><a href=\"#Logistic-Regression\" data-toc-modified-id=\"Logistic-Regression-7.2\"><span class=\"toc-item-num\">7.2&nbsp;&nbsp;</span>Logistic Regression</a></span><ul class=\"toc-item\"><li><span><a href=\"#Model-evaluation\" data-toc-modified-id=\"Model-evaluation-7.2.1\"><span class=\"toc-item-num\">7.2.1&nbsp;&nbsp;</span>Model evaluation</a></span></li></ul></li><li><span><a href=\"#KNN-model\" data-toc-modified-id=\"KNN-model-7.3\"><span class=\"toc-item-num\">7.3&nbsp;&nbsp;</span>KNN model</a></span></li><li><span><a href=\"#KNN-model-with-Hyperparameter-Tuning\" data-toc-modified-id=\"KNN-model-with-Hyperparameter-Tuning-7.4\"><span class=\"toc-item-num\">7.4&nbsp;&nbsp;</span>KNN model with Hyperparameter Tuning</a></span></li><li><span><a href=\"#DecisionTreeClassifier-Model\" data-toc-modified-id=\"DecisionTreeClassifier-Model-7.5\"><span class=\"toc-item-num\">7.5&nbsp;&nbsp;</span>DecisionTreeClassifier Model</a></span></li><li><span><a href=\"#RandomForestClassifier-model\" data-toc-modified-id=\"RandomForestClassifier-model-7.6\"><span class=\"toc-item-num\">7.6&nbsp;&nbsp;</span>RandomForestClassifier model</a></span></li><li><span><a href=\"#xgboost-classifier\" data-toc-modified-id=\"xgboost-classifier-7.7\"><span class=\"toc-item-num\">7.7&nbsp;&nbsp;</span>xgboost classifier</a></span></li></ul></li><li><span><a href=\"#kaggle-submissions\" data-toc-modified-id=\"kaggle-submissions-8\"><span class=\"toc-item-num\">8&nbsp;&nbsp;</span>kaggle submissions</a></span></li></ul></div>"
   ]
  },
  {
   "cell_type": "markdown",
   "id": "19d36282",
   "metadata": {
    "tags": []
   },
   "source": [
    "# Loading Librarys"
   ]
  },
  {
   "cell_type": "code",
   "execution_count": 58,
   "id": "a2f3635a",
   "metadata": {
    "ExecuteTime": {
     "end_time": "2023-01-01T15:52:38.540900Z",
     "start_time": "2023-01-01T15:52:38.525898Z"
    }
   },
   "outputs": [],
   "source": [
    "import numpy as np\n",
    "import matplotlib.pyplot as plt\n",
    "import pandas as pd\n",
    "import seaborn as sns\n",
    "%matplotlib inline"
   ]
  },
  {
   "cell_type": "markdown",
   "id": "f13b02d6",
   "metadata": {},
   "source": [
    "# Loading Data"
   ]
  },
  {
   "cell_type": "code",
   "execution_count": 59,
   "id": "c837b19c",
   "metadata": {
    "ExecuteTime": {
     "end_time": "2023-01-01T15:52:38.555899Z",
     "start_time": "2023-01-01T15:52:38.542902Z"
    }
   },
   "outputs": [
    {
     "data": {
      "text/html": [
       "<div>\n",
       "<style scoped>\n",
       "    .dataframe tbody tr th:only-of-type {\n",
       "        vertical-align: middle;\n",
       "    }\n",
       "\n",
       "    .dataframe tbody tr th {\n",
       "        vertical-align: top;\n",
       "    }\n",
       "\n",
       "    .dataframe thead th {\n",
       "        text-align: right;\n",
       "    }\n",
       "</style>\n",
       "<table border=\"1\" class=\"dataframe\">\n",
       "  <thead>\n",
       "    <tr style=\"text-align: right;\">\n",
       "      <th></th>\n",
       "      <th>PassengerId</th>\n",
       "      <th>Survived</th>\n",
       "      <th>Pclass</th>\n",
       "      <th>Name</th>\n",
       "      <th>Sex</th>\n",
       "      <th>Age</th>\n",
       "      <th>SibSp</th>\n",
       "      <th>Parch</th>\n",
       "      <th>Ticket</th>\n",
       "      <th>Fare</th>\n",
       "      <th>Cabin</th>\n",
       "      <th>Embarked</th>\n",
       "    </tr>\n",
       "  </thead>\n",
       "  <tbody>\n",
       "    <tr>\n",
       "      <th>0</th>\n",
       "      <td>1</td>\n",
       "      <td>0</td>\n",
       "      <td>3</td>\n",
       "      <td>Braund, Mr. Owen Harris</td>\n",
       "      <td>male</td>\n",
       "      <td>22.0</td>\n",
       "      <td>1</td>\n",
       "      <td>0</td>\n",
       "      <td>A/5 21171</td>\n",
       "      <td>7.2500</td>\n",
       "      <td>NaN</td>\n",
       "      <td>S</td>\n",
       "    </tr>\n",
       "    <tr>\n",
       "      <th>1</th>\n",
       "      <td>2</td>\n",
       "      <td>1</td>\n",
       "      <td>1</td>\n",
       "      <td>Cumings, Mrs. John Bradley (Florence Briggs Th...</td>\n",
       "      <td>female</td>\n",
       "      <td>38.0</td>\n",
       "      <td>1</td>\n",
       "      <td>0</td>\n",
       "      <td>PC 17599</td>\n",
       "      <td>71.2833</td>\n",
       "      <td>C85</td>\n",
       "      <td>C</td>\n",
       "    </tr>\n",
       "    <tr>\n",
       "      <th>2</th>\n",
       "      <td>3</td>\n",
       "      <td>1</td>\n",
       "      <td>3</td>\n",
       "      <td>Heikkinen, Miss. Laina</td>\n",
       "      <td>female</td>\n",
       "      <td>26.0</td>\n",
       "      <td>0</td>\n",
       "      <td>0</td>\n",
       "      <td>STON/O2. 3101282</td>\n",
       "      <td>7.9250</td>\n",
       "      <td>NaN</td>\n",
       "      <td>S</td>\n",
       "    </tr>\n",
       "    <tr>\n",
       "      <th>3</th>\n",
       "      <td>4</td>\n",
       "      <td>1</td>\n",
       "      <td>1</td>\n",
       "      <td>Futrelle, Mrs. Jacques Heath (Lily May Peel)</td>\n",
       "      <td>female</td>\n",
       "      <td>35.0</td>\n",
       "      <td>1</td>\n",
       "      <td>0</td>\n",
       "      <td>113803</td>\n",
       "      <td>53.1000</td>\n",
       "      <td>C123</td>\n",
       "      <td>S</td>\n",
       "    </tr>\n",
       "    <tr>\n",
       "      <th>4</th>\n",
       "      <td>5</td>\n",
       "      <td>0</td>\n",
       "      <td>3</td>\n",
       "      <td>Allen, Mr. William Henry</td>\n",
       "      <td>male</td>\n",
       "      <td>35.0</td>\n",
       "      <td>0</td>\n",
       "      <td>0</td>\n",
       "      <td>373450</td>\n",
       "      <td>8.0500</td>\n",
       "      <td>NaN</td>\n",
       "      <td>S</td>\n",
       "    </tr>\n",
       "  </tbody>\n",
       "</table>\n",
       "</div>"
      ],
      "text/plain": [
       "   PassengerId  Survived  Pclass  \\\n",
       "0            1         0       3   \n",
       "1            2         1       1   \n",
       "2            3         1       3   \n",
       "3            4         1       1   \n",
       "4            5         0       3   \n",
       "\n",
       "                                                Name     Sex   Age  SibSp  \\\n",
       "0                            Braund, Mr. Owen Harris    male  22.0      1   \n",
       "1  Cumings, Mrs. John Bradley (Florence Briggs Th...  female  38.0      1   \n",
       "2                             Heikkinen, Miss. Laina  female  26.0      0   \n",
       "3       Futrelle, Mrs. Jacques Heath (Lily May Peel)  female  35.0      1   \n",
       "4                           Allen, Mr. William Henry    male  35.0      0   \n",
       "\n",
       "   Parch            Ticket     Fare Cabin Embarked  \n",
       "0      0         A/5 21171   7.2500   NaN        S  \n",
       "1      0          PC 17599  71.2833   C85        C  \n",
       "2      0  STON/O2. 3101282   7.9250   NaN        S  \n",
       "3      0            113803  53.1000  C123        S  \n",
       "4      0            373450   8.0500   NaN        S  "
      ]
     },
     "execution_count": 59,
     "metadata": {},
     "output_type": "execute_result"
    }
   ],
   "source": [
    "train_df = pd.read_csv('Datasets/titanic_train.csv')\n",
    "train_df.head()"
   ]
  },
  {
   "cell_type": "code",
   "execution_count": 60,
   "id": "d2b2ca0b-2423-400f-b406-946b57777c63",
   "metadata": {
    "ExecuteTime": {
     "end_time": "2023-01-01T15:52:38.571898Z",
     "start_time": "2023-01-01T15:52:38.556903Z"
    }
   },
   "outputs": [
    {
     "data": {
      "text/html": [
       "<div>\n",
       "<style scoped>\n",
       "    .dataframe tbody tr th:only-of-type {\n",
       "        vertical-align: middle;\n",
       "    }\n",
       "\n",
       "    .dataframe tbody tr th {\n",
       "        vertical-align: top;\n",
       "    }\n",
       "\n",
       "    .dataframe thead th {\n",
       "        text-align: right;\n",
       "    }\n",
       "</style>\n",
       "<table border=\"1\" class=\"dataframe\">\n",
       "  <thead>\n",
       "    <tr style=\"text-align: right;\">\n",
       "      <th></th>\n",
       "      <th>PassengerId</th>\n",
       "      <th>Pclass</th>\n",
       "      <th>Name</th>\n",
       "      <th>Sex</th>\n",
       "      <th>Age</th>\n",
       "      <th>SibSp</th>\n",
       "      <th>Parch</th>\n",
       "      <th>Ticket</th>\n",
       "      <th>Fare</th>\n",
       "      <th>Cabin</th>\n",
       "      <th>Embarked</th>\n",
       "    </tr>\n",
       "  </thead>\n",
       "  <tbody>\n",
       "    <tr>\n",
       "      <th>0</th>\n",
       "      <td>892</td>\n",
       "      <td>3</td>\n",
       "      <td>Kelly, Mr. James</td>\n",
       "      <td>male</td>\n",
       "      <td>34.5</td>\n",
       "      <td>0</td>\n",
       "      <td>0</td>\n",
       "      <td>330911</td>\n",
       "      <td>7.8292</td>\n",
       "      <td>NaN</td>\n",
       "      <td>Q</td>\n",
       "    </tr>\n",
       "    <tr>\n",
       "      <th>1</th>\n",
       "      <td>893</td>\n",
       "      <td>3</td>\n",
       "      <td>Wilkes, Mrs. James (Ellen Needs)</td>\n",
       "      <td>female</td>\n",
       "      <td>47.0</td>\n",
       "      <td>1</td>\n",
       "      <td>0</td>\n",
       "      <td>363272</td>\n",
       "      <td>7.0000</td>\n",
       "      <td>NaN</td>\n",
       "      <td>S</td>\n",
       "    </tr>\n",
       "    <tr>\n",
       "      <th>2</th>\n",
       "      <td>894</td>\n",
       "      <td>2</td>\n",
       "      <td>Myles, Mr. Thomas Francis</td>\n",
       "      <td>male</td>\n",
       "      <td>62.0</td>\n",
       "      <td>0</td>\n",
       "      <td>0</td>\n",
       "      <td>240276</td>\n",
       "      <td>9.6875</td>\n",
       "      <td>NaN</td>\n",
       "      <td>Q</td>\n",
       "    </tr>\n",
       "    <tr>\n",
       "      <th>3</th>\n",
       "      <td>895</td>\n",
       "      <td>3</td>\n",
       "      <td>Wirz, Mr. Albert</td>\n",
       "      <td>male</td>\n",
       "      <td>27.0</td>\n",
       "      <td>0</td>\n",
       "      <td>0</td>\n",
       "      <td>315154</td>\n",
       "      <td>8.6625</td>\n",
       "      <td>NaN</td>\n",
       "      <td>S</td>\n",
       "    </tr>\n",
       "    <tr>\n",
       "      <th>4</th>\n",
       "      <td>896</td>\n",
       "      <td>3</td>\n",
       "      <td>Hirvonen, Mrs. Alexander (Helga E Lindqvist)</td>\n",
       "      <td>female</td>\n",
       "      <td>22.0</td>\n",
       "      <td>1</td>\n",
       "      <td>1</td>\n",
       "      <td>3101298</td>\n",
       "      <td>12.2875</td>\n",
       "      <td>NaN</td>\n",
       "      <td>S</td>\n",
       "    </tr>\n",
       "  </tbody>\n",
       "</table>\n",
       "</div>"
      ],
      "text/plain": [
       "   PassengerId  Pclass                                          Name     Sex  \\\n",
       "0          892       3                              Kelly, Mr. James    male   \n",
       "1          893       3              Wilkes, Mrs. James (Ellen Needs)  female   \n",
       "2          894       2                     Myles, Mr. Thomas Francis    male   \n",
       "3          895       3                              Wirz, Mr. Albert    male   \n",
       "4          896       3  Hirvonen, Mrs. Alexander (Helga E Lindqvist)  female   \n",
       "\n",
       "    Age  SibSp  Parch   Ticket     Fare Cabin Embarked  \n",
       "0  34.5      0      0   330911   7.8292   NaN        Q  \n",
       "1  47.0      1      0   363272   7.0000   NaN        S  \n",
       "2  62.0      0      0   240276   9.6875   NaN        Q  \n",
       "3  27.0      0      0   315154   8.6625   NaN        S  \n",
       "4  22.0      1      1  3101298  12.2875   NaN        S  "
      ]
     },
     "execution_count": 60,
     "metadata": {},
     "output_type": "execute_result"
    }
   ],
   "source": [
    "test_df = pd.read_csv('Datasets/titanic_test.csv')\n",
    "test_df.head()"
   ]
  },
  {
   "cell_type": "code",
   "execution_count": 61,
   "id": "39259707-c69a-44bb-99f4-c229eb13dd00",
   "metadata": {
    "ExecuteTime": {
     "end_time": "2023-01-01T15:52:38.587912Z",
     "start_time": "2023-01-01T15:52:38.573902Z"
    }
   },
   "outputs": [
    {
     "data": {
      "text/html": [
       "<div>\n",
       "<style scoped>\n",
       "    .dataframe tbody tr th:only-of-type {\n",
       "        vertical-align: middle;\n",
       "    }\n",
       "\n",
       "    .dataframe tbody tr th {\n",
       "        vertical-align: top;\n",
       "    }\n",
       "\n",
       "    .dataframe thead th {\n",
       "        text-align: right;\n",
       "    }\n",
       "</style>\n",
       "<table border=\"1\" class=\"dataframe\">\n",
       "  <thead>\n",
       "    <tr style=\"text-align: right;\">\n",
       "      <th></th>\n",
       "      <th>PassengerId</th>\n",
       "    </tr>\n",
       "  </thead>\n",
       "  <tbody>\n",
       "    <tr>\n",
       "      <th>0</th>\n",
       "      <td>892</td>\n",
       "    </tr>\n",
       "    <tr>\n",
       "      <th>1</th>\n",
       "      <td>893</td>\n",
       "    </tr>\n",
       "    <tr>\n",
       "      <th>2</th>\n",
       "      <td>894</td>\n",
       "    </tr>\n",
       "    <tr>\n",
       "      <th>3</th>\n",
       "      <td>895</td>\n",
       "    </tr>\n",
       "    <tr>\n",
       "      <th>4</th>\n",
       "      <td>896</td>\n",
       "    </tr>\n",
       "  </tbody>\n",
       "</table>\n",
       "</div>"
      ],
      "text/plain": [
       "   PassengerId\n",
       "0          892\n",
       "1          893\n",
       "2          894\n",
       "3          895\n",
       "4          896"
      ]
     },
     "execution_count": 61,
     "metadata": {},
     "output_type": "execute_result"
    }
   ],
   "source": [
    "# saving PassengerId column of test_df for kaggle submission\n",
    "df_id = test_df[['PassengerId']]\n",
    "df_id.head()"
   ]
  },
  {
   "cell_type": "markdown",
   "id": "9e651af0",
   "metadata": {
    "tags": []
   },
   "source": [
    "# Feature Engineering"
   ]
  },
  {
   "cell_type": "markdown",
   "id": "cea96076-f9ab-4f0a-b840-41700e34d995",
   "metadata": {},
   "source": [
    "## On train data"
   ]
  },
  {
   "cell_type": "markdown",
   "id": "c699cb0b",
   "metadata": {},
   "source": [
    "### EDA"
   ]
  },
  {
   "cell_type": "code",
   "execution_count": 62,
   "id": "95ad7614",
   "metadata": {
    "ExecuteTime": {
     "end_time": "2023-01-01T15:52:38.603429Z",
     "start_time": "2023-01-01T15:52:38.589911Z"
    }
   },
   "outputs": [
    {
     "name": "stdout",
     "output_type": "stream",
     "text": [
      "<class 'pandas.core.frame.DataFrame'>\n",
      "RangeIndex: 891 entries, 0 to 890\n",
      "Data columns (total 12 columns):\n",
      " #   Column       Non-Null Count  Dtype  \n",
      "---  ------       --------------  -----  \n",
      " 0   PassengerId  891 non-null    int64  \n",
      " 1   Survived     891 non-null    int64  \n",
      " 2   Pclass       891 non-null    int64  \n",
      " 3   Name         891 non-null    object \n",
      " 4   Sex          891 non-null    object \n",
      " 5   Age          714 non-null    float64\n",
      " 6   SibSp        891 non-null    int64  \n",
      " 7   Parch        891 non-null    int64  \n",
      " 8   Ticket       891 non-null    object \n",
      " 9   Fare         891 non-null    float64\n",
      " 10  Cabin        204 non-null    object \n",
      " 11  Embarked     889 non-null    object \n",
      "dtypes: float64(2), int64(5), object(5)\n",
      "memory usage: 83.7+ KB\n"
     ]
    }
   ],
   "source": [
    "train_df.info()"
   ]
  },
  {
   "cell_type": "code",
   "execution_count": 63,
   "id": "2de31875",
   "metadata": {
    "ExecuteTime": {
     "end_time": "2023-01-01T15:52:38.619431Z",
     "start_time": "2023-01-01T15:52:38.605430Z"
    }
   },
   "outputs": [
    {
     "name": "stdout",
     "output_type": "stream",
     "text": [
      "(891, 9)\n"
     ]
    }
   ],
   "source": [
    "train_df.drop([\"PassengerId\",\"Name\",\"Ticket\"],axis=1,inplace=True)\n",
    "print(train_df.shape)"
   ]
  },
  {
   "cell_type": "code",
   "execution_count": 64,
   "id": "2764d0ed",
   "metadata": {
    "ExecuteTime": {
     "end_time": "2023-01-01T15:52:38.635436Z",
     "start_time": "2023-01-01T15:52:38.621430Z"
    }
   },
   "outputs": [
    {
     "data": {
      "text/plain": [
       "Index(['Survived', 'Pclass', 'Sex', 'Age', 'SibSp', 'Parch', 'Fare', 'Cabin',\n",
       "       'Embarked'],\n",
       "      dtype='object')"
      ]
     },
     "execution_count": 64,
     "metadata": {},
     "output_type": "execute_result"
    }
   ],
   "source": [
    "train_df.columns"
   ]
  },
  {
   "cell_type": "markdown",
   "id": "beda719e",
   "metadata": {},
   "source": [
    "### Handling missing value"
   ]
  },
  {
   "cell_type": "code",
   "execution_count": 65,
   "id": "62a99660",
   "metadata": {
    "ExecuteTime": {
     "end_time": "2023-01-01T15:52:38.651429Z",
     "start_time": "2023-01-01T15:52:38.638437Z"
    }
   },
   "outputs": [
    {
     "data": {
      "text/plain": [
       "Survived      0\n",
       "Pclass        0\n",
       "Sex           0\n",
       "Age         177\n",
       "SibSp         0\n",
       "Parch         0\n",
       "Fare          0\n",
       "Cabin       687\n",
       "Embarked      2\n",
       "dtype: int64"
      ]
     },
     "execution_count": 65,
     "metadata": {},
     "output_type": "execute_result"
    }
   ],
   "source": [
    "train_df.isnull().sum()"
   ]
  },
  {
   "cell_type": "code",
   "execution_count": 66,
   "id": "3a946d20",
   "metadata": {
    "ExecuteTime": {
     "end_time": "2023-01-01T15:52:38.667434Z",
     "start_time": "2023-01-01T15:52:38.652430Z"
    }
   },
   "outputs": [
    {
     "data": {
      "text/plain": [
       "14.526497332334042"
      ]
     },
     "execution_count": 66,
     "metadata": {},
     "output_type": "execute_result"
    }
   ],
   "source": [
    "before_imp = train_df['Age'].std()\n",
    "before_imp"
   ]
  },
  {
   "cell_type": "code",
   "execution_count": 67,
   "id": "ef8b7ba4",
   "metadata": {
    "ExecuteTime": {
     "end_time": "2023-01-01T15:52:38.683441Z",
     "start_time": "2023-01-01T15:52:38.671439Z"
    }
   },
   "outputs": [
    {
     "data": {
      "text/plain": [
       "14.526497332334042"
      ]
     },
     "execution_count": 67,
     "metadata": {},
     "output_type": "execute_result"
    }
   ],
   "source": [
    "train_df['Age'].fillna(train_df['Age'].dropna().sample(train_df['Age'].isnull().sum(),random_state=0)).std()"
   ]
  },
  {
   "cell_type": "code",
   "execution_count": 68,
   "id": "c9255bca",
   "metadata": {
    "ExecuteTime": {
     "end_time": "2023-01-01T15:52:39.000979Z",
     "start_time": "2023-01-01T15:52:38.685446Z"
    }
   },
   "outputs": [
    {
     "data": {
      "text/plain": [
       "<matplotlib.legend.Legend at 0x21c7e638400>"
      ]
     },
     "execution_count": 68,
     "metadata": {},
     "output_type": "execute_result"
    },
    {
     "data": {
      "image/png": "[encoded data removed]",
      "text/plain": [
       "<Figure size 720x432 with 1 Axes>"
      ]
     },
     "metadata": {
      "needs_background": "light"
     },
     "output_type": "display_data"
    }
   ],
   "source": [
    "fig = plt.figure(figsize=(10,6))\n",
    "ax = fig.add_subplot(111)\n",
    "train_df['Age'].plot(kind='kde', ax=ax)\n",
    "train_df['Age'].fillna(train_df['Age'].dropna().sample(train_df['Age'].isnull().sum(),random_state=0)).plot(kind='kde', ax=ax, color='red')\n",
    "lines, labels = ax.get_legend_handles_labels()\n",
    "ax.legend(lines, labels, loc='best')"
   ]
  },
  {
   "cell_type": "code",
   "execution_count": 69,
   "id": "74a115ba",
   "metadata": {
    "ExecuteTime": {
     "end_time": "2023-01-01T15:52:39.016976Z",
     "start_time": "2023-01-01T15:52:39.002986Z"
    }
   },
   "outputs": [],
   "source": [
    "def impute_nan(df, variable):\n",
    "    # It will have random sample to fill na\n",
    "    random_sample = df[variable].dropna().sample(df[variable].isnull().sum(),random_state=0)\n",
    "    # pandas need to have same index in order to merge the dataset\n",
    "    random_sample.index=df[df[variable].isnull()].index\n",
    "    df.loc[df[variable].isnull(), variable] = random_sample"
   ]
  },
  {
   "cell_type": "code",
   "execution_count": 70,
   "id": "b7fa1d6f",
   "metadata": {
    "ExecuteTime": {
     "end_time": "2023-01-01T15:52:39.032977Z",
     "start_time": "2023-01-01T15:52:39.018976Z"
    }
   },
   "outputs": [],
   "source": [
    "impute_nan(train_df,\"Age\")"
   ]
  },
  {
   "cell_type": "code",
   "execution_count": 71,
   "id": "a0fe379e",
   "metadata": {
    "ExecuteTime": {
     "end_time": "2023-01-01T15:52:39.048977Z",
     "start_time": "2023-01-01T15:52:39.034978Z"
    }
   },
   "outputs": [
    {
     "data": {
      "text/plain": [
       "14.56365408956869"
      ]
     },
     "execution_count": 71,
     "metadata": {},
     "output_type": "execute_result"
    }
   ],
   "source": [
    "train_df['Age'].std()"
   ]
  },
  {
   "cell_type": "code",
   "execution_count": 72,
   "id": "6e059632",
   "metadata": {
    "ExecuteTime": {
     "end_time": "2023-01-01T15:52:39.208029Z",
     "start_time": "2023-01-01T15:52:39.050983Z"
    }
   },
   "outputs": [
    {
     "data": {
      "text/plain": [
       "<matplotlib.legend.Legend at 0x21c7e638f70>"
      ]
     },
     "execution_count": 72,
     "metadata": {},
     "output_type": "execute_result"
    },
    {
     "data": {
      "image/png": "[encoded data removed]",
      "text/plain": [
       "<Figure size 720x432 with 1 Axes>"
      ]
     },
     "metadata": {
      "needs_background": "light"
     },
     "output_type": "display_data"
    }
   ],
   "source": [
    "fig = plt.figure(figsize=(10,6))\n",
    "ax = fig.add_subplot(111)\n",
    "train_df['Age'].plot(kind='kde', ax=ax)\n",
    "lines, labels = ax.get_legend_handles_labels()\n",
    "ax.legend(lines, labels, loc='best')"
   ]
  },
  {
   "cell_type": "code",
   "execution_count": 73,
   "id": "078fa111",
   "metadata": {
    "ExecuteTime": {
     "end_time": "2023-01-01T15:52:39.224028Z",
     "start_time": "2023-01-01T15:52:39.210031Z"
    }
   },
   "outputs": [
    {
     "data": {
      "text/plain": [
       "'B96 B98'"
      ]
     },
     "execution_count": 73,
     "metadata": {},
     "output_type": "execute_result"
    }
   ],
   "source": [
    "train_df['Cabin'].mode()[0]"
   ]
  },
  {
   "cell_type": "code",
   "execution_count": 74,
   "id": "21d9713e",
   "metadata": {
    "ExecuteTime": {
     "end_time": "2023-01-01T15:52:39.240026Z",
     "start_time": "2023-01-01T15:52:39.226027Z"
    }
   },
   "outputs": [],
   "source": [
    "def impute_nan_frequent(df,variable):\n",
    "    most_frequent_category = df[variable].mode()[0]\n",
    "    df[variable].fillna(most_frequent_category,inplace=True)"
   ]
  },
  {
   "cell_type": "code",
   "execution_count": 75,
   "id": "6edb9ee7-a18d-4c68-b035-e1ba8f44fe46",
   "metadata": {
    "ExecuteTime": {
     "end_time": "2023-01-01T15:52:39.255029Z",
     "start_time": "2023-01-01T15:52:39.242026Z"
    }
   },
   "outputs": [],
   "source": [
    "impute_nan_frequent(train_df,'Cabin')"
   ]
  },
  {
   "cell_type": "code",
   "execution_count": 76,
   "id": "80080ca0-3573-414a-bcbb-a3e7d7be7e5c",
   "metadata": {
    "ExecuteTime": {
     "end_time": "2023-01-01T15:52:39.271030Z",
     "start_time": "2023-01-01T15:52:39.257027Z"
    }
   },
   "outputs": [],
   "source": [
    "impute_nan_frequent(train_df,'Embarked')"
   ]
  },
  {
   "cell_type": "code",
   "execution_count": 77,
   "id": "b416c1aa",
   "metadata": {
    "ExecuteTime": {
     "end_time": "2023-01-01T15:52:39.287033Z",
     "start_time": "2023-01-01T15:52:39.273028Z"
    }
   },
   "outputs": [
    {
     "data": {
      "text/plain": [
       "Survived    0\n",
       "Pclass      0\n",
       "Sex         0\n",
       "Age         0\n",
       "SibSp       0\n",
       "Parch       0\n",
       "Fare        0\n",
       "Cabin       0\n",
       "Embarked    0\n",
       "dtype: int64"
      ]
     },
     "execution_count": 77,
     "metadata": {},
     "output_type": "execute_result"
    }
   ],
   "source": [
    "train_df.isnull().sum()"
   ]
  },
  {
   "cell_type": "markdown",
   "id": "e2599ede-298b-4e99-9e02-873ee0e1c07d",
   "metadata": {},
   "source": [
    "## On test data"
   ]
  },
  {
   "cell_type": "markdown",
   "id": "a31ce0bb-c038-4c14-9e61-4a10949ff67f",
   "metadata": {},
   "source": [
    "### Handling missing value"
   ]
  },
  {
   "cell_type": "code",
   "execution_count": 78,
   "id": "a8471a8c-0b47-4d85-88c7-df865f91cf5a",
   "metadata": {
    "ExecuteTime": {
     "end_time": "2023-01-01T15:52:39.303102Z",
     "start_time": "2023-01-01T15:52:39.289036Z"
    }
   },
   "outputs": [
    {
     "name": "stdout",
     "output_type": "stream",
     "text": [
      "(418, 8)\n"
     ]
    }
   ],
   "source": [
    "# droping column\n",
    "test_df.drop([\"PassengerId\",\"Name\",\"Ticket\"],axis=1,inplace=True)\n",
    "print(test_df.shape)"
   ]
  },
  {
   "cell_type": "code",
   "execution_count": 79,
   "id": "c2fb7083-132f-4a57-a0d8-b486f7d4c2b6",
   "metadata": {
    "ExecuteTime": {
     "end_time": "2023-01-01T15:52:39.319098Z",
     "start_time": "2023-01-01T15:52:39.305103Z"
    }
   },
   "outputs": [
    {
     "name": "stdout",
     "output_type": "stream",
     "text": [
      "before imputation:  14.181209235624422\n",
      "After imputation:  14.20976479743526\n"
     ]
    }
   ],
   "source": [
    "print(\"before imputation: \", test_df['Age'].std())\n",
    "impute_nan(test_df,\"Age\")\n",
    "print(\"After imputation: \", test_df['Age'].std())"
   ]
  },
  {
   "cell_type": "code",
   "execution_count": 80,
   "id": "0436b382-b232-4ef4-8e1a-c3c758fc2579",
   "metadata": {
    "ExecuteTime": {
     "end_time": "2023-01-01T15:52:39.335100Z",
     "start_time": "2023-01-01T15:52:39.321102Z"
    }
   },
   "outputs": [],
   "source": [
    "impute_nan(test_df,\"Fare\")"
   ]
  },
  {
   "cell_type": "code",
   "execution_count": 81,
   "id": "8da771ee-a8d6-4fba-8164-5a84bfddca6e",
   "metadata": {
    "ExecuteTime": {
     "end_time": "2023-01-01T15:52:39.351229Z",
     "start_time": "2023-01-01T15:52:39.337099Z"
    }
   },
   "outputs": [],
   "source": [
    "impute_nan_frequent(test_df,'Cabin')"
   ]
  },
  {
   "cell_type": "code",
   "execution_count": 82,
   "id": "e8cf8703-b16e-411c-9346-34554c1fb925",
   "metadata": {
    "ExecuteTime": {
     "end_time": "2023-01-01T15:52:39.367207Z",
     "start_time": "2023-01-01T15:52:39.354220Z"
    }
   },
   "outputs": [
    {
     "data": {
      "text/plain": [
       "Pclass      0\n",
       "Sex         0\n",
       "Age         0\n",
       "SibSp       0\n",
       "Parch       0\n",
       "Fare        0\n",
       "Cabin       0\n",
       "Embarked    0\n",
       "dtype: int64"
      ]
     },
     "execution_count": 82,
     "metadata": {},
     "output_type": "execute_result"
    }
   ],
   "source": [
    "test_df.isnull().sum()"
   ]
  },
  {
   "cell_type": "code",
   "execution_count": 83,
   "id": "9d027c8b-4023-4169-9abb-fbb2a1cfc54e",
   "metadata": {
    "ExecuteTime": {
     "end_time": "2023-01-01T15:52:39.383218Z",
     "start_time": "2023-01-01T15:52:39.369205Z"
    }
   },
   "outputs": [
    {
     "name": "stdout",
     "output_type": "stream",
     "text": [
      "<class 'pandas.core.frame.DataFrame'>\n",
      "RangeIndex: 418 entries, 0 to 417\n",
      "Data columns (total 8 columns):\n",
      " #   Column    Non-Null Count  Dtype  \n",
      "---  ------    --------------  -----  \n",
      " 0   Pclass    418 non-null    int64  \n",
      " 1   Sex       418 non-null    object \n",
      " 2   Age       418 non-null    float64\n",
      " 3   SibSp     418 non-null    int64  \n",
      " 4   Parch     418 non-null    int64  \n",
      " 5   Fare      418 non-null    float64\n",
      " 6   Cabin     418 non-null    object \n",
      " 7   Embarked  418 non-null    object \n",
      "dtypes: float64(2), int64(3), object(3)\n",
      "memory usage: 26.2+ KB\n"
     ]
    }
   ],
   "source": [
    "test_df.info()"
   ]
  },
  {
   "cell_type": "markdown",
   "id": "78a5a33e-1412-41eb-b6ae-6ec25d9a5fc7",
   "metadata": {},
   "source": [
    "# Handling Categorical Features"
   ]
  },
  {
   "cell_type": "code",
   "execution_count": 84,
   "id": "61ee9d2e-8344-40df-bd63-af6d31f4c274",
   "metadata": {
    "ExecuteTime": {
     "end_time": "2023-01-01T15:52:39.398732Z",
     "start_time": "2023-01-01T15:52:39.385219Z"
    }
   },
   "outputs": [
    {
     "name": "stdout",
     "output_type": "stream",
     "text": [
      "(891, 9)\n",
      "(418, 8)\n"
     ]
    }
   ],
   "source": [
    "print(train_df.shape)\n",
    "print(test_df.shape)"
   ]
  },
  {
   "cell_type": "code",
   "execution_count": 85,
   "id": "bbac2642-b8cd-446f-9d7b-6270d9e7d3a1",
   "metadata": {
    "ExecuteTime": {
     "end_time": "2023-01-01T15:52:39.414731Z",
     "start_time": "2023-01-01T15:52:39.402734Z"
    }
   },
   "outputs": [
    {
     "data": {
      "text/plain": [
       "(1309, 9)"
      ]
     },
     "execution_count": 85,
     "metadata": {},
     "output_type": "execute_result"
    }
   ],
   "source": [
    "# Combining test_df and train_df as there can be difference between categorical features of test_df and train_df\n",
    "combine_df = pd.concat([train_df, test_df],axis=0)\n",
    "combine_df.shape"
   ]
  },
  {
   "cell_type": "code",
   "execution_count": 86,
   "id": "a8000aa0-0430-4d2b-ba95-e596fcb5d4a0",
   "metadata": {
    "ExecuteTime": {
     "end_time": "2023-01-01T15:52:39.430735Z",
     "start_time": "2023-01-01T15:52:39.415733Z"
    }
   },
   "outputs": [
    {
     "data": {
      "text/html": [
       "<div>\n",
       "<style scoped>\n",
       "    .dataframe tbody tr th:only-of-type {\n",
       "        vertical-align: middle;\n",
       "    }\n",
       "\n",
       "    .dataframe tbody tr th {\n",
       "        vertical-align: top;\n",
       "    }\n",
       "\n",
       "    .dataframe thead th {\n",
       "        text-align: right;\n",
       "    }\n",
       "</style>\n",
       "<table border=\"1\" class=\"dataframe\">\n",
       "  <thead>\n",
       "    <tr style=\"text-align: right;\">\n",
       "      <th></th>\n",
       "      <th>Survived</th>\n",
       "      <th>Pclass</th>\n",
       "      <th>Sex</th>\n",
       "      <th>Age</th>\n",
       "      <th>SibSp</th>\n",
       "      <th>Parch</th>\n",
       "      <th>Fare</th>\n",
       "      <th>Cabin</th>\n",
       "      <th>Embarked</th>\n",
       "    </tr>\n",
       "  </thead>\n",
       "  <tbody>\n",
       "    <tr>\n",
       "      <th>0</th>\n",
       "      <td>0.0</td>\n",
       "      <td>3</td>\n",
       "      <td>male</td>\n",
       "      <td>22.0</td>\n",
       "      <td>1</td>\n",
       "      <td>0</td>\n",
       "      <td>7.2500</td>\n",
       "      <td>B96 B98</td>\n",
       "      <td>S</td>\n",
       "    </tr>\n",
       "    <tr>\n",
       "      <th>1</th>\n",
       "      <td>1.0</td>\n",
       "      <td>1</td>\n",
       "      <td>female</td>\n",
       "      <td>38.0</td>\n",
       "      <td>1</td>\n",
       "      <td>0</td>\n",
       "      <td>71.2833</td>\n",
       "      <td>C85</td>\n",
       "      <td>C</td>\n",
       "    </tr>\n",
       "    <tr>\n",
       "      <th>2</th>\n",
       "      <td>1.0</td>\n",
       "      <td>3</td>\n",
       "      <td>female</td>\n",
       "      <td>26.0</td>\n",
       "      <td>0</td>\n",
       "      <td>0</td>\n",
       "      <td>7.9250</td>\n",
       "      <td>B96 B98</td>\n",
       "      <td>S</td>\n",
       "    </tr>\n",
       "    <tr>\n",
       "      <th>3</th>\n",
       "      <td>1.0</td>\n",
       "      <td>1</td>\n",
       "      <td>female</td>\n",
       "      <td>35.0</td>\n",
       "      <td>1</td>\n",
       "      <td>0</td>\n",
       "      <td>53.1000</td>\n",
       "      <td>C123</td>\n",
       "      <td>S</td>\n",
       "    </tr>\n",
       "    <tr>\n",
       "      <th>4</th>\n",
       "      <td>0.0</td>\n",
       "      <td>3</td>\n",
       "      <td>male</td>\n",
       "      <td>35.0</td>\n",
       "      <td>0</td>\n",
       "      <td>0</td>\n",
       "      <td>8.0500</td>\n",
       "      <td>B96 B98</td>\n",
       "      <td>S</td>\n",
       "    </tr>\n",
       "  </tbody>\n",
       "</table>\n",
       "</div>"
      ],
      "text/plain": [
       "   Survived  Pclass     Sex   Age  SibSp  Parch     Fare    Cabin Embarked\n",
       "0       0.0       3    male  22.0      1      0   7.2500  B96 B98        S\n",
       "1       1.0       1  female  38.0      1      0  71.2833      C85        C\n",
       "2       1.0       3  female  26.0      0      0   7.9250  B96 B98        S\n",
       "3       1.0       1  female  35.0      1      0  53.1000     C123        S\n",
       "4       0.0       3    male  35.0      0      0   8.0500  B96 B98        S"
      ]
     },
     "execution_count": 86,
     "metadata": {},
     "output_type": "execute_result"
    }
   ],
   "source": [
    "combine_df.head()"
   ]
  },
  {
   "cell_type": "code",
   "execution_count": 87,
   "id": "14eec715-00ce-4413-a173-f15bf0070c47",
   "metadata": {
    "ExecuteTime": {
     "end_time": "2023-01-01T15:52:39.446733Z",
     "start_time": "2023-01-01T15:52:39.432742Z"
    }
   },
   "outputs": [
    {
     "data": {
      "text/plain": [
       "Index(['Sex', 'Cabin', 'Embarked'], dtype='object')"
      ]
     },
     "execution_count": 87,
     "metadata": {},
     "output_type": "execute_result"
    }
   ],
   "source": [
    "ob_columns = combine_df.select_dtypes('object').columns\n",
    "ob_columns"
   ]
  },
  {
   "cell_type": "code",
   "execution_count": 88,
   "id": "09780166-4f59-4962-a946-22cce8f0f2de",
   "metadata": {
    "ExecuteTime": {
     "end_time": "2023-01-01T15:52:39.462733Z",
     "start_time": "2023-01-01T15:52:39.448737Z"
    }
   },
   "outputs": [],
   "source": [
    "combine_df[\"Sex\"] = pd.get_dummies(combine_df[\"Sex\"], drop_first=True)"
   ]
  },
  {
   "cell_type": "code",
   "execution_count": 89,
   "id": "215d2ea0-e866-4206-8c00-ccdf07ddb66a",
   "metadata": {
    "ExecuteTime": {
     "end_time": "2023-01-01T15:52:39.478742Z",
     "start_time": "2023-01-01T15:52:39.464734Z"
    }
   },
   "outputs": [
    {
     "data": {
      "text/plain": [
       "1    843\n",
       "0    466\n",
       "Name: Sex, dtype: int64"
      ]
     },
     "execution_count": 89,
     "metadata": {},
     "output_type": "execute_result"
    }
   ],
   "source": [
    "combine_df[\"Sex\"].value_counts()"
   ]
  },
  {
   "cell_type": "raw",
   "id": "562bc161-ae3b-4d46-8c68-c30ca81ae538",
   "metadata": {},
   "source": [
    "for i in ob_columns:\n",
    "    new_df = pd.get_dummies(combine_df[i], drop_first=True)\n",
    "    combine_df.drop([i], axis=1, inplace=True)\n",
    "    combine_df = pd.concat([combine_df, new_df], axis=1)"
   ]
  },
  {
   "cell_type": "code",
   "execution_count": 90,
   "id": "f5686071-fda3-4086-ada8-7c6954a9bbd5",
   "metadata": {
    "ExecuteTime": {
     "end_time": "2023-01-01T15:52:39.494261Z",
     "start_time": "2023-01-01T15:52:39.480740Z"
    }
   },
   "outputs": [],
   "source": [
    "combine_df = pd.get_dummies(combine_df, columns = ['Embarked'], drop_first=True)"
   ]
  },
  {
   "cell_type": "code",
   "execution_count": 91,
   "id": "ce064d73-61c9-468a-9656-99220dddb41c",
   "metadata": {
    "ExecuteTime": {
     "end_time": "2023-01-01T15:52:39.510259Z",
     "start_time": "2023-01-01T15:52:39.496269Z"
    }
   },
   "outputs": [
    {
     "data": {
      "text/plain": [
       "B    1079\n",
       "C      94\n",
       "D      46\n",
       "E      41\n",
       "A      22\n",
       "F      21\n",
       "G       5\n",
       "T       1\n",
       "Name: Cabin, dtype: int64"
      ]
     },
     "execution_count": 91,
     "metadata": {},
     "output_type": "execute_result"
    }
   ],
   "source": [
    "combine_df['Cabin'] = combine_df['Cabin'].astype(str).str[0]\n",
    "combine_df['Cabin'].value_counts()"
   ]
  },
  {
   "cell_type": "code",
   "execution_count": 92,
   "id": "7e560250-55d3-4286-b691-636451d068bf",
   "metadata": {
    "ExecuteTime": {
     "end_time": "2023-01-01T15:52:39.526259Z",
     "start_time": "2023-01-01T15:52:39.512261Z"
    }
   },
   "outputs": [
    {
     "data": {
      "text/plain": [
       "Cabin\n",
       "A    0.466667\n",
       "B    0.328338\n",
       "C    0.593220\n",
       "D    0.757576\n",
       "E    0.750000\n",
       "F    0.615385\n",
       "G    0.500000\n",
       "T    0.000000\n",
       "Name: Survived, dtype: float64"
      ]
     },
     "execution_count": 92,
     "metadata": {},
     "output_type": "execute_result"
    }
   ],
   "source": [
    "# group by cabin based on target column Survived\n",
    "combine_df.groupby(['Cabin'])['Survived'].mean()"
   ]
  },
  {
   "cell_type": "code",
   "execution_count": 93,
   "id": "c6b7645b-cb22-4aec-9061-16c1501b889d",
   "metadata": {
    "ExecuteTime": {
     "end_time": "2023-01-01T15:52:39.542259Z",
     "start_time": "2023-01-01T15:52:39.528266Z"
    }
   },
   "outputs": [
    {
     "data": {
      "text/plain": [
       "{'T': 0, 'B': 1, 'A': 2, 'G': 3, 'C': 4, 'F': 5, 'E': 6, 'D': 7}"
      ]
     },
     "execution_count": 93,
     "metadata": {},
     "output_type": "execute_result"
    }
   ],
   "source": [
    "# creating rank based on cabin\n",
    "ordinal_labels = combine_df.groupby(['Cabin'])['Survived'].mean().sort_values().index\n",
    "ordinal_labels2 = {k:i for i,k in enumerate(ordinal_labels,0)}\n",
    "ordinal_labels2"
   ]
  },
  {
   "cell_type": "code",
   "execution_count": 94,
   "id": "c044fa34-24d2-4075-8e95-27f202f6c8ea",
   "metadata": {
    "ExecuteTime": {
     "end_time": "2023-01-01T15:52:39.558262Z",
     "start_time": "2023-01-01T15:52:39.543261Z"
    }
   },
   "outputs": [],
   "source": [
    "combine_df['Cabin'] = combine_df['Cabin'].map(ordinal_labels2)"
   ]
  },
  {
   "cell_type": "code",
   "execution_count": 95,
   "id": "f464502f-d138-4159-8f1f-e870227735d0",
   "metadata": {
    "ExecuteTime": {
     "end_time": "2023-01-01T15:52:39.574260Z",
     "start_time": "2023-01-01T15:52:39.561270Z"
    }
   },
   "outputs": [
    {
     "data": {
      "text/html": [
       "<div>\n",
       "<style scoped>\n",
       "    .dataframe tbody tr th:only-of-type {\n",
       "        vertical-align: middle;\n",
       "    }\n",
       "\n",
       "    .dataframe tbody tr th {\n",
       "        vertical-align: top;\n",
       "    }\n",
       "\n",
       "    .dataframe thead th {\n",
       "        text-align: right;\n",
       "    }\n",
       "</style>\n",
       "<table border=\"1\" class=\"dataframe\">\n",
       "  <thead>\n",
       "    <tr style=\"text-align: right;\">\n",
       "      <th></th>\n",
       "      <th>Survived</th>\n",
       "      <th>Pclass</th>\n",
       "      <th>Sex</th>\n",
       "      <th>Age</th>\n",
       "      <th>SibSp</th>\n",
       "      <th>Parch</th>\n",
       "      <th>Fare</th>\n",
       "      <th>Cabin</th>\n",
       "      <th>Embarked_Q</th>\n",
       "      <th>Embarked_S</th>\n",
       "    </tr>\n",
       "  </thead>\n",
       "  <tbody>\n",
       "    <tr>\n",
       "      <th>0</th>\n",
       "      <td>0.0</td>\n",
       "      <td>3</td>\n",
       "      <td>1</td>\n",
       "      <td>22.0</td>\n",
       "      <td>1</td>\n",
       "      <td>0</td>\n",
       "      <td>7.2500</td>\n",
       "      <td>1</td>\n",
       "      <td>0</td>\n",
       "      <td>1</td>\n",
       "    </tr>\n",
       "    <tr>\n",
       "      <th>1</th>\n",
       "      <td>1.0</td>\n",
       "      <td>1</td>\n",
       "      <td>0</td>\n",
       "      <td>38.0</td>\n",
       "      <td>1</td>\n",
       "      <td>0</td>\n",
       "      <td>71.2833</td>\n",
       "      <td>4</td>\n",
       "      <td>0</td>\n",
       "      <td>0</td>\n",
       "    </tr>\n",
       "    <tr>\n",
       "      <th>2</th>\n",
       "      <td>1.0</td>\n",
       "      <td>3</td>\n",
       "      <td>0</td>\n",
       "      <td>26.0</td>\n",
       "      <td>0</td>\n",
       "      <td>0</td>\n",
       "      <td>7.9250</td>\n",
       "      <td>1</td>\n",
       "      <td>0</td>\n",
       "      <td>1</td>\n",
       "    </tr>\n",
       "    <tr>\n",
       "      <th>3</th>\n",
       "      <td>1.0</td>\n",
       "      <td>1</td>\n",
       "      <td>0</td>\n",
       "      <td>35.0</td>\n",
       "      <td>1</td>\n",
       "      <td>0</td>\n",
       "      <td>53.1000</td>\n",
       "      <td>4</td>\n",
       "      <td>0</td>\n",
       "      <td>1</td>\n",
       "    </tr>\n",
       "    <tr>\n",
       "      <th>4</th>\n",
       "      <td>0.0</td>\n",
       "      <td>3</td>\n",
       "      <td>1</td>\n",
       "      <td>35.0</td>\n",
       "      <td>0</td>\n",
       "      <td>0</td>\n",
       "      <td>8.0500</td>\n",
       "      <td>1</td>\n",
       "      <td>0</td>\n",
       "      <td>1</td>\n",
       "    </tr>\n",
       "  </tbody>\n",
       "</table>\n",
       "</div>"
      ],
      "text/plain": [
       "   Survived  Pclass  Sex   Age  SibSp  Parch     Fare  Cabin  Embarked_Q  \\\n",
       "0       0.0       3    1  22.0      1      0   7.2500      1           0   \n",
       "1       1.0       1    0  38.0      1      0  71.2833      4           0   \n",
       "2       1.0       3    0  26.0      0      0   7.9250      1           0   \n",
       "3       1.0       1    0  35.0      1      0  53.1000      4           0   \n",
       "4       0.0       3    1  35.0      0      0   8.0500      1           0   \n",
       "\n",
       "   Embarked_S  \n",
       "0           1  \n",
       "1           0  \n",
       "2           1  \n",
       "3           1  \n",
       "4           1  "
      ]
     },
     "execution_count": 95,
     "metadata": {},
     "output_type": "execute_result"
    }
   ],
   "source": [
    "combine_df.head()"
   ]
  },
  {
   "cell_type": "code",
   "execution_count": 96,
   "id": "1c02ceb0-115d-4498-8815-595f121492c8",
   "metadata": {
    "ExecuteTime": {
     "end_time": "2023-01-01T15:52:39.590282Z",
     "start_time": "2023-01-01T15:52:39.576264Z"
    }
   },
   "outputs": [
    {
     "data": {
      "text/plain": [
       "10"
      ]
     },
     "execution_count": 96,
     "metadata": {},
     "output_type": "execute_result"
    }
   ],
   "source": [
    "len(combine_df.columns)"
   ]
  },
  {
   "cell_type": "code",
   "execution_count": 97,
   "id": "639b67bc-321c-4f6a-bd32-a9125630e9fd",
   "metadata": {
    "ExecuteTime": {
     "end_time": "2023-01-01T15:52:39.605811Z",
     "start_time": "2023-01-01T15:52:39.592799Z"
    }
   },
   "outputs": [
    {
     "data": {
      "text/plain": [
       "10"
      ]
     },
     "execution_count": 97,
     "metadata": {},
     "output_type": "execute_result"
    }
   ],
   "source": [
    "# removing duplicated columns\n",
    "combine_df = combine_df.loc[:,~combine_df.columns.duplicated()]\n",
    "len(combine_df.columns)"
   ]
  },
  {
   "cell_type": "code",
   "execution_count": 98,
   "id": "254b57f7-5cd2-4b00-9544-ba2ba2e2770f",
   "metadata": {
    "ExecuteTime": {
     "end_time": "2023-01-01T15:52:39.620810Z",
     "start_time": "2023-01-01T15:52:39.608811Z"
    }
   },
   "outputs": [],
   "source": [
    "combine_df = combine_df.copy()\n",
    "for i in combine_df.select_dtypes('uint8').columns:\n",
    "    combine_df[i] = combine_df[i].astype('int64')"
   ]
  },
  {
   "cell_type": "code",
   "execution_count": 99,
   "id": "ac6c7125-16c2-42e2-a22e-aa7cc4f41d47",
   "metadata": {
    "ExecuteTime": {
     "end_time": "2023-01-01T15:52:39.635810Z",
     "start_time": "2023-01-01T15:52:39.622809Z"
    }
   },
   "outputs": [
    {
     "name": "stdout",
     "output_type": "stream",
     "text": [
      "<class 'pandas.core.frame.DataFrame'>\n",
      "Int64Index: 1309 entries, 0 to 417\n",
      "Data columns (total 10 columns):\n",
      " #   Column      Non-Null Count  Dtype  \n",
      "---  ------      --------------  -----  \n",
      " 0   Survived    891 non-null    float64\n",
      " 1   Pclass      1309 non-null   int64  \n",
      " 2   Sex         1309 non-null   int64  \n",
      " 3   Age         1309 non-null   float64\n",
      " 4   SibSp       1309 non-null   int64  \n",
      " 5   Parch       1309 non-null   int64  \n",
      " 6   Fare        1309 non-null   float64\n",
      " 7   Cabin       1309 non-null   int64  \n",
      " 8   Embarked_Q  1309 non-null   int64  \n",
      " 9   Embarked_S  1309 non-null   int64  \n",
      "dtypes: float64(3), int64(7)\n",
      "memory usage: 112.5 KB\n"
     ]
    }
   ],
   "source": [
    "combine_df.info()"
   ]
  },
  {
   "cell_type": "raw",
   "id": "fd0a58b7-cf13-487f-8423-44d972714d51",
   "metadata": {},
   "source": [
    "# old codes\n",
    "\n",
    "df.groupby(['Cabin'])['Survived'].mean()\n",
    "ordinal_labels=df.groupby(['Cabin'])['Survived'].mean().sort_values().index\n",
    "ordinal_labels2={k:i for i,k in enumerate(ordinal_labels,0)}\n",
    "df['Cabin']=df['Cabin'].map(ordinal_labels2)\n",
    "df.head()"
   ]
  },
  {
   "cell_type": "markdown",
   "id": "799a0f11-9f32-488e-8371-17f9b2468c66",
   "metadata": {},
   "source": [
    "## spliting train and test dataset"
   ]
  },
  {
   "cell_type": "code",
   "execution_count": 100,
   "id": "894e06a2-df71-4262-a7ab-20bcbeaaaf04",
   "metadata": {
    "ExecuteTime": {
     "end_time": "2023-01-01T15:52:39.651811Z",
     "start_time": "2023-01-01T15:52:39.637816Z"
    }
   },
   "outputs": [
    {
     "name": "stdout",
     "output_type": "stream",
     "text": [
      "(891, 10)\n",
      "(418, 10)\n"
     ]
    }
   ],
   "source": [
    "df_Train = combine_df.iloc[:891,:]\n",
    "df_Test = combine_df.iloc[891:,:]\n",
    "df_Train = df_Train.copy() \n",
    "df_Test = df_Test.copy() \n",
    "print(df_Train.shape)\n",
    "print(df_Test.shape)"
   ]
  },
  {
   "cell_type": "code",
   "execution_count": 101,
   "id": "a24743bf-d60b-43d5-917c-a361d430a0e8",
   "metadata": {
    "ExecuteTime": {
     "end_time": "2023-01-01T15:52:39.667808Z",
     "start_time": "2023-01-01T15:52:39.654812Z"
    }
   },
   "outputs": [],
   "source": [
    "df_Test.drop(['Survived'],axis=1,inplace=True)"
   ]
  },
  {
   "cell_type": "code",
   "execution_count": 102,
   "id": "a7f650ef-f0ca-4ecb-a9d6-0491dd5382b9",
   "metadata": {
    "ExecuteTime": {
     "end_time": "2023-01-01T15:52:39.683819Z",
     "start_time": "2023-01-01T15:52:39.669824Z"
    }
   },
   "outputs": [
    {
     "name": "stdout",
     "output_type": "stream",
     "text": [
      "(891, 10)\n",
      "(891, 9)\n"
     ]
    }
   ],
   "source": [
    "print(df_Train.shape)\n",
    "print(train_df.shape)"
   ]
  },
  {
   "cell_type": "code",
   "execution_count": 103,
   "id": "18ef6ba8-e816-41a3-882c-34e2cf693b31",
   "metadata": {
    "ExecuteTime": {
     "end_time": "2023-01-01T15:52:39.699345Z",
     "start_time": "2023-01-01T15:52:39.685831Z"
    }
   },
   "outputs": [
    {
     "name": "stdout",
     "output_type": "stream",
     "text": [
      "(418, 9)\n",
      "(418, 8)\n"
     ]
    }
   ],
   "source": [
    "print(df_Test.shape)\n",
    "print(test_df.shape)"
   ]
  },
  {
   "cell_type": "code",
   "execution_count": 104,
   "id": "71061963-410d-4146-8bfe-9747e959ac85",
   "metadata": {
    "ExecuteTime": {
     "end_time": "2023-01-01T15:52:39.715341Z",
     "start_time": "2023-01-01T15:52:39.701336Z"
    }
   },
   "outputs": [
    {
     "data": {
      "text/html": [
       "<div>\n",
       "<style scoped>\n",
       "    .dataframe tbody tr th:only-of-type {\n",
       "        vertical-align: middle;\n",
       "    }\n",
       "\n",
       "    .dataframe tbody tr th {\n",
       "        vertical-align: top;\n",
       "    }\n",
       "\n",
       "    .dataframe thead th {\n",
       "        text-align: right;\n",
       "    }\n",
       "</style>\n",
       "<table border=\"1\" class=\"dataframe\">\n",
       "  <thead>\n",
       "    <tr style=\"text-align: right;\">\n",
       "      <th></th>\n",
       "      <th>Survived</th>\n",
       "      <th>Pclass</th>\n",
       "      <th>Sex</th>\n",
       "      <th>Age</th>\n",
       "      <th>SibSp</th>\n",
       "      <th>Parch</th>\n",
       "      <th>Fare</th>\n",
       "      <th>Cabin</th>\n",
       "      <th>Embarked</th>\n",
       "    </tr>\n",
       "  </thead>\n",
       "  <tbody>\n",
       "    <tr>\n",
       "      <th>890</th>\n",
       "      <td>0</td>\n",
       "      <td>3</td>\n",
       "      <td>male</td>\n",
       "      <td>32.0</td>\n",
       "      <td>0</td>\n",
       "      <td>0</td>\n",
       "      <td>7.75</td>\n",
       "      <td>B96 B98</td>\n",
       "      <td>Q</td>\n",
       "    </tr>\n",
       "  </tbody>\n",
       "</table>\n",
       "</div>"
      ],
      "text/plain": [
       "     Survived  Pclass   Sex   Age  SibSp  Parch  Fare    Cabin Embarked\n",
       "890         0       3  male  32.0      0      0  7.75  B96 B98        Q"
      ]
     },
     "execution_count": 104,
     "metadata": {},
     "output_type": "execute_result"
    }
   ],
   "source": [
    "train_df.tail(1)"
   ]
  },
  {
   "cell_type": "code",
   "execution_count": 105,
   "id": "8e23f749-6d2b-41f8-a17d-0ab758b501a0",
   "metadata": {
    "ExecuteTime": {
     "end_time": "2023-01-01T15:52:39.731341Z",
     "start_time": "2023-01-01T15:52:39.717345Z"
    }
   },
   "outputs": [
    {
     "data": {
      "text/html": [
       "<div>\n",
       "<style scoped>\n",
       "    .dataframe tbody tr th:only-of-type {\n",
       "        vertical-align: middle;\n",
       "    }\n",
       "\n",
       "    .dataframe tbody tr th {\n",
       "        vertical-align: top;\n",
       "    }\n",
       "\n",
       "    .dataframe thead th {\n",
       "        text-align: right;\n",
       "    }\n",
       "</style>\n",
       "<table border=\"1\" class=\"dataframe\">\n",
       "  <thead>\n",
       "    <tr style=\"text-align: right;\">\n",
       "      <th></th>\n",
       "      <th>Survived</th>\n",
       "      <th>Pclass</th>\n",
       "      <th>Sex</th>\n",
       "      <th>Age</th>\n",
       "      <th>SibSp</th>\n",
       "      <th>Parch</th>\n",
       "      <th>Fare</th>\n",
       "      <th>Cabin</th>\n",
       "      <th>Embarked_Q</th>\n",
       "      <th>Embarked_S</th>\n",
       "    </tr>\n",
       "  </thead>\n",
       "  <tbody>\n",
       "    <tr>\n",
       "      <th>890</th>\n",
       "      <td>0.0</td>\n",
       "      <td>3</td>\n",
       "      <td>1</td>\n",
       "      <td>32.0</td>\n",
       "      <td>0</td>\n",
       "      <td>0</td>\n",
       "      <td>7.75</td>\n",
       "      <td>1</td>\n",
       "      <td>1</td>\n",
       "      <td>0</td>\n",
       "    </tr>\n",
       "  </tbody>\n",
       "</table>\n",
       "</div>"
      ],
      "text/plain": [
       "     Survived  Pclass  Sex   Age  SibSp  Parch  Fare  Cabin  Embarked_Q  \\\n",
       "890       0.0       3    1  32.0      0      0  7.75      1           1   \n",
       "\n",
       "     Embarked_S  \n",
       "890           0  "
      ]
     },
     "execution_count": 105,
     "metadata": {},
     "output_type": "execute_result"
    }
   ],
   "source": [
    "df_Train.tail(1)"
   ]
  },
  {
   "cell_type": "code",
   "execution_count": 106,
   "id": "9257fae3-8ee5-4f2f-bdab-3d5920a0699c",
   "metadata": {
    "ExecuteTime": {
     "end_time": "2023-01-01T15:52:39.747339Z",
     "start_time": "2023-01-01T15:52:39.733349Z"
    }
   },
   "outputs": [
    {
     "data": {
      "text/html": [
       "<div>\n",
       "<style scoped>\n",
       "    .dataframe tbody tr th:only-of-type {\n",
       "        vertical-align: middle;\n",
       "    }\n",
       "\n",
       "    .dataframe tbody tr th {\n",
       "        vertical-align: top;\n",
       "    }\n",
       "\n",
       "    .dataframe thead th {\n",
       "        text-align: right;\n",
       "    }\n",
       "</style>\n",
       "<table border=\"1\" class=\"dataframe\">\n",
       "  <thead>\n",
       "    <tr style=\"text-align: right;\">\n",
       "      <th></th>\n",
       "      <th>Pclass</th>\n",
       "      <th>Sex</th>\n",
       "      <th>Age</th>\n",
       "      <th>SibSp</th>\n",
       "      <th>Parch</th>\n",
       "      <th>Fare</th>\n",
       "      <th>Cabin</th>\n",
       "      <th>Embarked</th>\n",
       "    </tr>\n",
       "  </thead>\n",
       "  <tbody>\n",
       "    <tr>\n",
       "      <th>0</th>\n",
       "      <td>3</td>\n",
       "      <td>male</td>\n",
       "      <td>34.5</td>\n",
       "      <td>0</td>\n",
       "      <td>0</td>\n",
       "      <td>7.8292</td>\n",
       "      <td>B57 B59 B63 B66</td>\n",
       "      <td>Q</td>\n",
       "    </tr>\n",
       "  </tbody>\n",
       "</table>\n",
       "</div>"
      ],
      "text/plain": [
       "   Pclass   Sex   Age  SibSp  Parch    Fare            Cabin Embarked\n",
       "0       3  male  34.5      0      0  7.8292  B57 B59 B63 B66        Q"
      ]
     },
     "execution_count": 106,
     "metadata": {},
     "output_type": "execute_result"
    }
   ],
   "source": [
    "test_df.head(1)"
   ]
  },
  {
   "cell_type": "code",
   "execution_count": 107,
   "id": "efb780a8-eb54-43c3-94a0-dbeb6098a38c",
   "metadata": {
    "ExecuteTime": {
     "end_time": "2023-01-01T15:52:39.763340Z",
     "start_time": "2023-01-01T15:52:39.749344Z"
    }
   },
   "outputs": [
    {
     "data": {
      "text/html": [
       "<div>\n",
       "<style scoped>\n",
       "    .dataframe tbody tr th:only-of-type {\n",
       "        vertical-align: middle;\n",
       "    }\n",
       "\n",
       "    .dataframe tbody tr th {\n",
       "        vertical-align: top;\n",
       "    }\n",
       "\n",
       "    .dataframe thead th {\n",
       "        text-align: right;\n",
       "    }\n",
       "</style>\n",
       "<table border=\"1\" class=\"dataframe\">\n",
       "  <thead>\n",
       "    <tr style=\"text-align: right;\">\n",
       "      <th></th>\n",
       "      <th>Pclass</th>\n",
       "      <th>Sex</th>\n",
       "      <th>Age</th>\n",
       "      <th>SibSp</th>\n",
       "      <th>Parch</th>\n",
       "      <th>Fare</th>\n",
       "      <th>Cabin</th>\n",
       "      <th>Embarked_Q</th>\n",
       "      <th>Embarked_S</th>\n",
       "    </tr>\n",
       "  </thead>\n",
       "  <tbody>\n",
       "    <tr>\n",
       "      <th>0</th>\n",
       "      <td>3</td>\n",
       "      <td>1</td>\n",
       "      <td>34.5</td>\n",
       "      <td>0</td>\n",
       "      <td>0</td>\n",
       "      <td>7.8292</td>\n",
       "      <td>1</td>\n",
       "      <td>1</td>\n",
       "      <td>0</td>\n",
       "    </tr>\n",
       "  </tbody>\n",
       "</table>\n",
       "</div>"
      ],
      "text/plain": [
       "   Pclass  Sex   Age  SibSp  Parch    Fare  Cabin  Embarked_Q  Embarked_S\n",
       "0       3    1  34.5      0      0  7.8292      1           1           0"
      ]
     },
     "execution_count": 107,
     "metadata": {},
     "output_type": "execute_result"
    }
   ],
   "source": [
    "df_Test.head(1)"
   ]
  },
  {
   "cell_type": "code",
   "execution_count": 108,
   "id": "48ff58c8-9711-4a7d-bceb-fe0931930ba2",
   "metadata": {
    "ExecuteTime": {
     "end_time": "2023-01-01T15:52:39.779350Z",
     "start_time": "2023-01-01T15:52:39.766349Z"
    }
   },
   "outputs": [],
   "source": [
    "X_train = df_Train.drop(['Survived'],axis=1)\n",
    "y_train = df_Train['Survived'] "
   ]
  },
  {
   "cell_type": "code",
   "execution_count": 109,
   "id": "cbdb4017-e2ee-4c3f-ada5-271b41c20137",
   "metadata": {
    "ExecuteTime": {
     "end_time": "2023-01-01T15:52:39.794869Z",
     "start_time": "2023-01-01T15:52:39.781361Z"
    }
   },
   "outputs": [
    {
     "data": {
      "text/plain": [
       "9"
      ]
     },
     "execution_count": 109,
     "metadata": {},
     "output_type": "execute_result"
    }
   ],
   "source": [
    "feature_list = X_train.columns\n",
    "len(feature_list)"
   ]
  },
  {
   "cell_type": "code",
   "execution_count": 110,
   "id": "655ba23d",
   "metadata": {
    "ExecuteTime": {
     "end_time": "2023-01-01T15:52:39.810871Z",
     "start_time": "2023-01-01T15:52:39.796869Z"
    }
   },
   "outputs": [
    {
     "data": {
      "text/plain": [
       "(array([3.08736994e+01, 9.27024470e+01, 1.25650301e+01, 2.58186538e+00,\n",
       "        1.00974991e+01, 4.51831909e+03, 9.56852459e+01, 1.08467891e-02,\n",
       "        5.48920482e+00]),\n",
       " array([2.75378563e-08, 6.07783826e-22, 3.93032422e-04, 1.08094210e-01,\n",
       "        1.48470676e-03, 0.00000000e+00, 1.34680442e-22, 9.17051963e-01,\n",
       "        1.91342437e-02]))"
      ]
     },
     "execution_count": 110,
     "metadata": {},
     "output_type": "execute_result"
    }
   ],
   "source": [
    "# Performing chi2 test, chi2 returns 2 values: Fscore and pvalue\n",
    "# higher Fscore is better means important feature and lower pvalue is better means important feature\n",
    "from sklearn.feature_selection import chi2\n",
    "f_p_values=chi2(X_train, y_train)\n",
    "f_p_values"
   ]
  },
  {
   "cell_type": "code",
   "execution_count": 111,
   "id": "224b31cf",
   "metadata": {
    "ExecuteTime": {
     "end_time": "2023-01-01T15:52:39.826868Z",
     "start_time": "2023-01-01T15:52:39.811872Z"
    }
   },
   "outputs": [
    {
     "data": {
      "text/plain": [
       "Fare          0.000000e+00\n",
       "Cabin         1.346804e-22\n",
       "Sex           6.077838e-22\n",
       "Pclass        2.753786e-08\n",
       "Age           3.930324e-04\n",
       "Parch         1.484707e-03\n",
       "Embarked_S    1.913424e-02\n",
       "SibSp         1.080942e-01\n",
       "Embarked_Q    9.170520e-01\n",
       "dtype: float64"
      ]
     },
     "execution_count": 111,
     "metadata": {},
     "output_type": "execute_result"
    }
   ],
   "source": [
    "p_values=pd.Series(f_p_values[1]) # taking p values\n",
    "p_values.index=X_train.columns\n",
    "p_values.sort_values() # lower feature will be at first"
   ]
  },
  {
   "cell_type": "code",
   "execution_count": 112,
   "id": "e07d265d",
   "metadata": {
    "ExecuteTime": {
     "end_time": "2023-01-01T15:52:39.842868Z",
     "start_time": "2023-01-01T15:52:39.828872Z"
    }
   },
   "outputs": [
    {
     "data": {
      "text/plain": [
       "Fare          4518.319091\n",
       "Cabin           95.685246\n",
       "Sex             92.702447\n",
       "Pclass          30.873699\n",
       "Age             12.565030\n",
       "Parch           10.097499\n",
       "Embarked_S       5.489205\n",
       "SibSp            2.581865\n",
       "Embarked_Q       0.010847\n",
       "dtype: float64"
      ]
     },
     "execution_count": 112,
     "metadata": {},
     "output_type": "execute_result"
    }
   ],
   "source": [
    "f_values=pd.Series(f_p_values[0]) # taking Fscore values\n",
    "f_values.index=X_train.columns\n",
    "f_values.sort_values(ascending=False) # higher feature will be at first"
   ]
  },
  {
   "cell_type": "code",
   "execution_count": 113,
   "id": "c69f28cf-21a6-4cb4-a971-829acbe3742a",
   "metadata": {
    "ExecuteTime": {
     "end_time": "2023-01-01T15:52:49.256808Z",
     "start_time": "2023-01-01T15:52:49.238810Z"
    }
   },
   "outputs": [],
   "source": [
    "from sklearn.preprocessing import StandardScaler\n",
    "scaler = StandardScaler()\n",
    "\n",
    "# fit and transform are both applied on training data\n",
    "X_train[feature_list] = scaler.fit_transform(X_train[feature_list])\n",
    "\n",
    "# only transform is applied on test data as features used to fit training data is applied in test data to perform transform \n",
    "df_Test[feature_list] = scaler.transform(df_Test[feature_list])"
   ]
  },
  {
   "cell_type": "code",
   "execution_count": 114,
   "id": "19390937-34c3-45c8-a0e5-b96d67411a13",
   "metadata": {
    "ExecuteTime": {
     "end_time": "2023-01-01T15:52:49.949858Z",
     "start_time": "2023-01-01T15:52:49.926857Z"
    }
   },
   "outputs": [
    {
     "data": {
      "text/html": [
       "<div>\n",
       "<style scoped>\n",
       "    .dataframe tbody tr th:only-of-type {\n",
       "        vertical-align: middle;\n",
       "    }\n",
       "\n",
       "    .dataframe tbody tr th {\n",
       "        vertical-align: top;\n",
       "    }\n",
       "\n",
       "    .dataframe thead th {\n",
       "        text-align: right;\n",
       "    }\n",
       "</style>\n",
       "<table border=\"1\" class=\"dataframe\">\n",
       "  <thead>\n",
       "    <tr style=\"text-align: right;\">\n",
       "      <th></th>\n",
       "      <th>Pclass</th>\n",
       "      <th>Sex</th>\n",
       "      <th>Age</th>\n",
       "      <th>SibSp</th>\n",
       "      <th>Parch</th>\n",
       "      <th>Fare</th>\n",
       "      <th>Cabin</th>\n",
       "      <th>Embarked_Q</th>\n",
       "      <th>Embarked_S</th>\n",
       "    </tr>\n",
       "  </thead>\n",
       "  <tbody>\n",
       "    <tr>\n",
       "      <th>0</th>\n",
       "      <td>0.827377</td>\n",
       "      <td>0.737695</td>\n",
       "      <td>-0.529034</td>\n",
       "      <td>0.432793</td>\n",
       "      <td>-0.473674</td>\n",
       "      <td>-0.502445</td>\n",
       "      <td>-0.421518</td>\n",
       "      <td>-0.307562</td>\n",
       "      <td>0.615838</td>\n",
       "    </tr>\n",
       "    <tr>\n",
       "      <th>1</th>\n",
       "      <td>-1.566107</td>\n",
       "      <td>-1.355574</td>\n",
       "      <td>0.570208</td>\n",
       "      <td>0.432793</td>\n",
       "      <td>-0.473674</td>\n",
       "      <td>0.786845</td>\n",
       "      <td>1.428592</td>\n",
       "      <td>-0.307562</td>\n",
       "      <td>-1.623803</td>\n",
       "    </tr>\n",
       "  </tbody>\n",
       "</table>\n",
       "</div>"
      ],
      "text/plain": [
       "     Pclass       Sex       Age     SibSp     Parch      Fare     Cabin  \\\n",
       "0  0.827377  0.737695 -0.529034  0.432793 -0.473674 -0.502445 -0.421518   \n",
       "1 -1.566107 -1.355574  0.570208  0.432793 -0.473674  0.786845  1.428592   \n",
       "\n",
       "   Embarked_Q  Embarked_S  \n",
       "0   -0.307562    0.615838  \n",
       "1   -0.307562   -1.623803  "
      ]
     },
     "execution_count": 114,
     "metadata": {},
     "output_type": "execute_result"
    }
   ],
   "source": [
    "X_train.head(2)"
   ]
  },
  {
   "cell_type": "code",
   "execution_count": 115,
   "id": "c90b4c1c-1301-4fb0-a5f7-50a051d148c1",
   "metadata": {
    "ExecuteTime": {
     "end_time": "2023-01-01T15:52:50.485892Z",
     "start_time": "2023-01-01T15:52:50.474895Z"
    }
   },
   "outputs": [
    {
     "data": {
      "text/html": [
       "<div>\n",
       "<style scoped>\n",
       "    .dataframe tbody tr th:only-of-type {\n",
       "        vertical-align: middle;\n",
       "    }\n",
       "\n",
       "    .dataframe tbody tr th {\n",
       "        vertical-align: top;\n",
       "    }\n",
       "\n",
       "    .dataframe thead th {\n",
       "        text-align: right;\n",
       "    }\n",
       "</style>\n",
       "<table border=\"1\" class=\"dataframe\">\n",
       "  <thead>\n",
       "    <tr style=\"text-align: right;\">\n",
       "      <th></th>\n",
       "      <th>Pclass</th>\n",
       "      <th>Sex</th>\n",
       "      <th>Age</th>\n",
       "      <th>SibSp</th>\n",
       "      <th>Parch</th>\n",
       "      <th>Fare</th>\n",
       "      <th>Cabin</th>\n",
       "      <th>Embarked_Q</th>\n",
       "      <th>Embarked_S</th>\n",
       "    </tr>\n",
       "  </thead>\n",
       "  <tbody>\n",
       "    <tr>\n",
       "      <th>0</th>\n",
       "      <td>0.827377</td>\n",
       "      <td>0.737695</td>\n",
       "      <td>0.329749</td>\n",
       "      <td>-0.474545</td>\n",
       "      <td>-0.473674</td>\n",
       "      <td>-0.490783</td>\n",
       "      <td>-0.421518</td>\n",
       "      <td>3.251373</td>\n",
       "      <td>-1.623803</td>\n",
       "    </tr>\n",
       "    <tr>\n",
       "      <th>1</th>\n",
       "      <td>0.827377</td>\n",
       "      <td>-1.355574</td>\n",
       "      <td>1.188532</td>\n",
       "      <td>0.432793</td>\n",
       "      <td>-0.473674</td>\n",
       "      <td>-0.507479</td>\n",
       "      <td>-0.421518</td>\n",
       "      <td>-0.307562</td>\n",
       "      <td>0.615838</td>\n",
       "    </tr>\n",
       "  </tbody>\n",
       "</table>\n",
       "</div>"
      ],
      "text/plain": [
       "     Pclass       Sex       Age     SibSp     Parch      Fare     Cabin  \\\n",
       "0  0.827377  0.737695  0.329749 -0.474545 -0.473674 -0.490783 -0.421518   \n",
       "1  0.827377 -1.355574  1.188532  0.432793 -0.473674 -0.507479 -0.421518   \n",
       "\n",
       "   Embarked_Q  Embarked_S  \n",
       "0    3.251373   -1.623803  \n",
       "1   -0.307562    0.615838  "
      ]
     },
     "execution_count": 115,
     "metadata": {},
     "output_type": "execute_result"
    }
   ],
   "source": [
    "df_Test.head(2)"
   ]
  },
  {
   "cell_type": "markdown",
   "id": "d485bcd0",
   "metadata": {
    "tags": []
   },
   "source": [
    "# Feature Selection"
   ]
  },
  {
   "cell_type": "code",
   "execution_count": 116,
   "id": "89ae15f6-903e-4fc2-b411-38648385a54a",
   "metadata": {
    "ExecuteTime": {
     "end_time": "2023-01-01T15:52:55.928601Z",
     "start_time": "2023-01-01T15:52:55.882542Z"
    }
   },
   "outputs": [
    {
     "data": {
      "text/html": [
       "<div>\n",
       "<style scoped>\n",
       "    .dataframe tbody tr th:only-of-type {\n",
       "        vertical-align: middle;\n",
       "    }\n",
       "\n",
       "    .dataframe tbody tr th {\n",
       "        vertical-align: top;\n",
       "    }\n",
       "\n",
       "    .dataframe thead th {\n",
       "        text-align: right;\n",
       "    }\n",
       "</style>\n",
       "<table border=\"1\" class=\"dataframe\">\n",
       "  <thead>\n",
       "    <tr style=\"text-align: right;\">\n",
       "      <th></th>\n",
       "      <th>0</th>\n",
       "    </tr>\n",
       "  </thead>\n",
       "  <tbody>\n",
       "    <tr>\n",
       "      <th>Sex</th>\n",
       "      <td>0.141220</td>\n",
       "    </tr>\n",
       "    <tr>\n",
       "      <th>Fare</th>\n",
       "      <td>0.140409</td>\n",
       "    </tr>\n",
       "    <tr>\n",
       "      <th>Pclass</th>\n",
       "      <td>0.062176</td>\n",
       "    </tr>\n",
       "    <tr>\n",
       "      <th>Embarked_S</th>\n",
       "      <td>0.045104</td>\n",
       "    </tr>\n",
       "    <tr>\n",
       "      <th>Parch</th>\n",
       "      <td>0.025309</td>\n",
       "    </tr>\n",
       "    <tr>\n",
       "      <th>Cabin</th>\n",
       "      <td>0.024072</td>\n",
       "    </tr>\n",
       "    <tr>\n",
       "      <th>SibSp</th>\n",
       "      <td>0.014651</td>\n",
       "    </tr>\n",
       "    <tr>\n",
       "      <th>Age</th>\n",
       "      <td>0.012010</td>\n",
       "    </tr>\n",
       "    <tr>\n",
       "      <th>Embarked_Q</th>\n",
       "      <td>0.000000</td>\n",
       "    </tr>\n",
       "  </tbody>\n",
       "</table>\n",
       "</div>"
      ],
      "text/plain": [
       "                   0\n",
       "Sex         0.141220\n",
       "Fare        0.140409\n",
       "Pclass      0.062176\n",
       "Embarked_S  0.045104\n",
       "Parch       0.025309\n",
       "Cabin       0.024072\n",
       "SibSp       0.014651\n",
       "Age         0.012010\n",
       "Embarked_Q  0.000000"
      ]
     },
     "execution_count": 116,
     "metadata": {},
     "output_type": "execute_result"
    }
   ],
   "source": [
    "from sklearn.feature_selection import mutual_info_classif\n",
    "scores = mutual_info_classif(X_train, y_train)\n",
    "scores = pd.DataFrame(scores)\n",
    "scores.index = X_train.columns\n",
    "scores.sort_values(by=0, ascending=False)"
   ]
  },
  {
   "cell_type": "markdown",
   "id": "fe5324d0-7229-43f3-a4a2-7191d9d40223",
   "metadata": {},
   "source": [
    "# Feature Normalization/Standardization"
   ]
  },
  {
   "cell_type": "code",
   "execution_count": 117,
   "id": "ef5bfaf3-5f1a-4583-a09e-b9954d365fee",
   "metadata": {
    "ExecuteTime": {
     "end_time": "2023-01-01T15:53:02.967364Z",
     "start_time": "2023-01-01T15:53:02.955367Z"
    }
   },
   "outputs": [
    {
     "data": {
      "text/plain": [
       "9"
      ]
     },
     "execution_count": 117,
     "metadata": {},
     "output_type": "execute_result"
    }
   ],
   "source": [
    "feature_list = X_train.columns\n",
    "len(feature_list)"
   ]
  },
  {
   "cell_type": "code",
   "execution_count": 118,
   "id": "5acb4a76-0c4e-4fde-827c-8580d5be9e00",
   "metadata": {
    "ExecuteTime": {
     "end_time": "2023-01-01T15:53:17.377234Z",
     "start_time": "2023-01-01T15:53:17.356151Z"
    }
   },
   "outputs": [],
   "source": [
    "from sklearn.preprocessing import StandardScaler\n",
    "scaler = StandardScaler()\n",
    "\n",
    "# fit and transform are both applied on training data\n",
    "X_train[feature_list] = scaler.fit_transform(X_train[feature_list])\n",
    "\n",
    "# only transform is applied on test data as features used to fit training data is applied in test data to perform transform \n",
    "df_Test[feature_list] = scaler.transform(df_Test[feature_list])"
   ]
  },
  {
   "cell_type": "code",
   "execution_count": 119,
   "id": "9748fa73-8e92-4d79-947e-09becc8bce60",
   "metadata": {
    "ExecuteTime": {
     "end_time": "2023-01-01T15:53:17.895454Z",
     "start_time": "2023-01-01T15:53:17.874938Z"
    }
   },
   "outputs": [
    {
     "data": {
      "text/html": [
       "<div>\n",
       "<style scoped>\n",
       "    .dataframe tbody tr th:only-of-type {\n",
       "        vertical-align: middle;\n",
       "    }\n",
       "\n",
       "    .dataframe tbody tr th {\n",
       "        vertical-align: top;\n",
       "    }\n",
       "\n",
       "    .dataframe thead th {\n",
       "        text-align: right;\n",
       "    }\n",
       "</style>\n",
       "<table border=\"1\" class=\"dataframe\">\n",
       "  <thead>\n",
       "    <tr style=\"text-align: right;\">\n",
       "      <th></th>\n",
       "      <th>Pclass</th>\n",
       "      <th>Sex</th>\n",
       "      <th>Age</th>\n",
       "      <th>SibSp</th>\n",
       "      <th>Parch</th>\n",
       "      <th>Fare</th>\n",
       "      <th>Cabin</th>\n",
       "      <th>Embarked_Q</th>\n",
       "      <th>Embarked_S</th>\n",
       "    </tr>\n",
       "  </thead>\n",
       "  <tbody>\n",
       "    <tr>\n",
       "      <th>0</th>\n",
       "      <td>0.827377</td>\n",
       "      <td>0.737695</td>\n",
       "      <td>-0.529034</td>\n",
       "      <td>0.432793</td>\n",
       "      <td>-0.473674</td>\n",
       "      <td>-0.502445</td>\n",
       "      <td>-0.421518</td>\n",
       "      <td>-0.307562</td>\n",
       "      <td>0.615838</td>\n",
       "    </tr>\n",
       "  </tbody>\n",
       "</table>\n",
       "</div>"
      ],
      "text/plain": [
       "     Pclass       Sex       Age     SibSp     Parch      Fare     Cabin  \\\n",
       "0  0.827377  0.737695 -0.529034  0.432793 -0.473674 -0.502445 -0.421518   \n",
       "\n",
       "   Embarked_Q  Embarked_S  \n",
       "0   -0.307562    0.615838  "
      ]
     },
     "execution_count": 119,
     "metadata": {},
     "output_type": "execute_result"
    }
   ],
   "source": [
    "X_train.head(1)"
   ]
  },
  {
   "cell_type": "raw",
   "id": "d23fa4f8-bd03-48f1-9ca9-c9b03527e3a2",
   "metadata": {},
   "source": [
    "[['Fare','Cabin','Sex','Pclass']]"
   ]
  },
  {
   "cell_type": "markdown",
   "id": "f6522c99-0e1e-44e5-bee8-390f30f566f6",
   "metadata": {
    "tags": []
   },
   "source": [
    "# model selection"
   ]
  },
  {
   "cell_type": "markdown",
   "id": "9c6b9a58",
   "metadata": {
    "ExecuteTime": {
     "end_time": "2023-01-01T15:53:44.587838Z",
     "start_time": "2023-01-01T15:53:44.570839Z"
    }
   },
   "source": [
    "## Baseline Metrics"
   ]
  },
  {
   "cell_type": "code",
   "execution_count": 121,
   "id": "91d6956d",
   "metadata": {
    "ExecuteTime": {
     "end_time": "2023-01-01T15:59:33.174985Z",
     "start_time": "2023-01-01T15:59:33.080170Z"
    }
   },
   "outputs": [],
   "source": [
    "from sklearn.tree import DecisionTreeClassifier\n",
    "from sklearn.neighbors import KNeighborsClassifier\n",
    "from sklearn.linear_model import LogisticRegression\n",
    "from sklearn.ensemble import RandomForestClassifier\n",
    "import xgboost as xgb\n",
    "import lightgbm as lgb\n",
    "from sklearn.ensemble import AdaBoostClassifier, GradientBoostingClassifier, ExtraTreesClassifier\n",
    "\n",
    "baseline_models = {\n",
    "    'DecisionTree': DecisionTreeClassifier(),\n",
    "    'KNN': KNeighborsClassifier(),\n",
    "    'LogisticRegression': LogisticRegression(max_iter=10000),\n",
    "    'RandomForest': RandomForestClassifier(max_depth=7, n_estimators=1700),\n",
    "    'XGBoost': xgb.XGBClassifier(**{'eval_metric': 'error', 'n_jobs': 4, 'objective': 'binary:logistic'}),\n",
    "    'LGBM': lgb.LGBMClassifier(),\n",
    "    'AdaBoost': AdaBoostClassifier(),\n",
    "    'ExtraTreesClassifier': ExtraTreesClassifier()}"
   ]
  },
  {
   "cell_type": "code",
   "execution_count": 122,
   "id": "c14d0ca6",
   "metadata": {
    "ExecuteTime": {
     "end_time": "2023-01-01T16:03:04.300377Z",
     "start_time": "2023-01-01T16:02:20.192682Z"
    }
   },
   "outputs": [
    {
     "name": "stderr",
     "output_type": "stream",
     "text": [
      "100%|███████████████████████████████████████████████████████████████████████████████| 8/8 [00:44<00:00,  5.51s/it]\n"
     ]
    }
   ],
   "source": [
    "from sklearn.model_selection import StratifiedKFold, KFold\n",
    "from sklearn import metrics\n",
    "from sklearn.metrics import mean_squared_error\n",
    "from tqdm import tqdm\n",
    "from sklearn.metrics import confusion_matrix, precision_score, recall_score, roc_auc_score, accuracy_score, f1_score, plot_roc_curve, auc\n",
    "\n",
    "k = 5\n",
    "skf = StratifiedKFold(n_splits=k, random_state=24, shuffle=True)\n",
    "kf = KFold(n_splits=k, shuffle=True)\n",
    "baseline_metrics = {}\n",
    "metrics_data = []\n",
    "for name, model in tqdm(baseline_models.items()):\n",
    "\n",
    "    acc_list = []\n",
    "    f1_list = []\n",
    "    for i in range(5):\n",
    "        for train_index, test_index in kf.split(X_train, y_train):\n",
    "\n",
    "            # check if accuracy will be better after smote or adasyn?\n",
    "            # smo = ADASYN(sampling_strategy='minority')\n",
    "            # X_smo, y_smo = smo.fit_resample(X_train_prepared.loc[train_index].values, y_train.loc[train_index])\n",
    "            # model.fit(X_smo, y_smo)\n",
    "\n",
    "            model.fit(X_train.loc[train_index].values, y_train.loc[train_index])\n",
    "            y_pred = model.predict(X_train.loc[test_index].values)\n",
    "            acc_list.append(accuracy_score(y_train[test_index], y_pred))\n",
    "            f1_list.append(f1_score(y_train[test_index], y_pred))\n",
    "        \n",
    "    metrics_data.append([name, np.mean(acc_list), np.std(acc_list), np.mean(f1_list), np.std(f1_list)])"
   ]
  },
  {
   "cell_type": "code",
   "execution_count": 123,
   "id": "6c70d6c6",
   "metadata": {
    "ExecuteTime": {
     "end_time": "2023-01-01T16:03:46.714999Z",
     "start_time": "2023-01-01T16:03:46.705986Z"
    }
   },
   "outputs": [],
   "source": [
    "metrics_df = pd.DataFrame(metrics_data, columns=['algorithm', 'accuracy mean', 'accuracy std', 'f1 mean', 'f1 std'])\n",
    "metrics_df.sort_values(by='accuracy mean', ascending=False, inplace=True)"
   ]
  },
  {
   "cell_type": "code",
   "execution_count": 124,
   "id": "a3b50d43",
   "metadata": {
    "ExecuteTime": {
     "end_time": "2023-01-01T16:03:51.618545Z",
     "start_time": "2023-01-01T16:03:51.540500Z"
    }
   },
   "outputs": [
    {
     "data": {
      "text/html": [
       "<style type=\"text/css\">\n",
       "#T_eba34_row0_col1, #T_eba34_row0_col3, #T_eba34_row1_col1, #T_eba34_row1_col3, #T_eba34_row2_col1, #T_eba34_row2_col3, #T_eba34_row3_col1, #T_eba34_row3_col3, #T_eba34_row4_col1, #T_eba34_row4_col3, #T_eba34_row5_col1, #T_eba34_row5_col3, #T_eba34_row6_col1, #T_eba34_row6_col3, #T_eba34_row7_col1, #T_eba34_row7_col3 {\n",
       "  background-color: darkorange;\n",
       "  font-weight: bold;\n",
       "}\n",
       "</style>\n",
       "<table id=\"T_eba34\">\n",
       "  <thead>\n",
       "    <tr>\n",
       "      <th class=\"blank level0\" >&nbsp;</th>\n",
       "      <th id=\"T_eba34_level0_col0\" class=\"col_heading level0 col0\" >algorithm</th>\n",
       "      <th id=\"T_eba34_level0_col1\" class=\"col_heading level0 col1\" >accuracy mean</th>\n",
       "      <th id=\"T_eba34_level0_col2\" class=\"col_heading level0 col2\" >accuracy std</th>\n",
       "      <th id=\"T_eba34_level0_col3\" class=\"col_heading level0 col3\" >f1 mean</th>\n",
       "      <th id=\"T_eba34_level0_col4\" class=\"col_heading level0 col4\" >f1 std</th>\n",
       "    </tr>\n",
       "  </thead>\n",
       "  <tbody>\n",
       "    <tr>\n",
       "      <th id=\"T_eba34_level0_row0\" class=\"row_heading level0 row0\" >3</th>\n",
       "      <td id=\"T_eba34_row0_col0\" class=\"data row0 col0\" >RandomForest</td>\n",
       "      <td id=\"T_eba34_row0_col1\" class=\"data row0 col1\" >0.824233</td>\n",
       "      <td id=\"T_eba34_row0_col2\" class=\"data row0 col2\" >0.024504</td>\n",
       "      <td id=\"T_eba34_row0_col3\" class=\"data row0 col3\" >0.749610</td>\n",
       "      <td id=\"T_eba34_row0_col4\" class=\"data row0 col4\" >0.039976</td>\n",
       "    </tr>\n",
       "    <tr>\n",
       "      <th id=\"T_eba34_level0_row1\" class=\"row_heading level0 row1\" >4</th>\n",
       "      <td id=\"T_eba34_row1_col0\" class=\"data row1 col0\" >XGBoost</td>\n",
       "      <td id=\"T_eba34_row1_col1\" class=\"data row1 col1\" >0.814589</td>\n",
       "      <td id=\"T_eba34_row1_col2\" class=\"data row1 col2\" >0.025845</td>\n",
       "      <td id=\"T_eba34_row1_col3\" class=\"data row1 col3\" >0.749892</td>\n",
       "      <td id=\"T_eba34_row1_col4\" class=\"data row1 col4\" >0.035176</td>\n",
       "    </tr>\n",
       "    <tr>\n",
       "      <th id=\"T_eba34_level0_row2\" class=\"row_heading level0 row2\" >5</th>\n",
       "      <td id=\"T_eba34_row2_col0\" class=\"data row2 col0\" >LGBM</td>\n",
       "      <td id=\"T_eba34_row2_col1\" class=\"data row2 col1\" >0.813467</td>\n",
       "      <td id=\"T_eba34_row2_col2\" class=\"data row2 col2\" >0.023706</td>\n",
       "      <td id=\"T_eba34_row2_col3\" class=\"data row2 col3\" >0.746797</td>\n",
       "      <td id=\"T_eba34_row2_col4\" class=\"data row2 col4\" >0.031721</td>\n",
       "    </tr>\n",
       "    <tr>\n",
       "      <th id=\"T_eba34_level0_row3\" class=\"row_heading level0 row3\" >7</th>\n",
       "      <td id=\"T_eba34_row3_col0\" class=\"data row3 col0\" >ExtraTreesClassifier</td>\n",
       "      <td id=\"T_eba34_row3_col1\" class=\"data row3 col1\" >0.802929</td>\n",
       "      <td id=\"T_eba34_row3_col2\" class=\"data row3 col2\" >0.037446</td>\n",
       "      <td id=\"T_eba34_row3_col3\" class=\"data row3 col3\" >0.739696</td>\n",
       "      <td id=\"T_eba34_row3_col4\" class=\"data row3 col4\" >0.052213</td>\n",
       "    </tr>\n",
       "    <tr>\n",
       "      <th id=\"T_eba34_level0_row4\" class=\"row_heading level0 row4\" >1</th>\n",
       "      <td id=\"T_eba34_row4_col0\" class=\"data row4 col0\" >KNN</td>\n",
       "      <td id=\"T_eba34_row4_col1\" class=\"data row4 col1\" >0.799992</td>\n",
       "      <td id=\"T_eba34_row4_col2\" class=\"data row4 col2\" >0.027955</td>\n",
       "      <td id=\"T_eba34_row4_col3\" class=\"data row4 col3\" >0.728845</td>\n",
       "      <td id=\"T_eba34_row4_col4\" class=\"data row4 col4\" >0.042495</td>\n",
       "    </tr>\n",
       "    <tr>\n",
       "      <th id=\"T_eba34_level0_row5\" class=\"row_heading level0 row5\" >2</th>\n",
       "      <td id=\"T_eba34_row5_col0\" class=\"data row5 col0\" >LogisticRegression</td>\n",
       "      <td id=\"T_eba34_row5_col1\" class=\"data row5 col1\" >0.796172</td>\n",
       "      <td id=\"T_eba34_row5_col2\" class=\"data row5 col2\" >0.022753</td>\n",
       "      <td id=\"T_eba34_row5_col3\" class=\"data row5 col3\" >0.724510</td>\n",
       "      <td id=\"T_eba34_row5_col4\" class=\"data row5 col4\" >0.038366</td>\n",
       "    </tr>\n",
       "    <tr>\n",
       "      <th id=\"T_eba34_level0_row6\" class=\"row_heading level0 row6\" >6</th>\n",
       "      <td id=\"T_eba34_row6_col0\" class=\"data row6 col0\" >AdaBoost</td>\n",
       "      <td id=\"T_eba34_row6_col1\" class=\"data row6 col1\" >0.795745</td>\n",
       "      <td id=\"T_eba34_row6_col2\" class=\"data row6 col2\" >0.029648</td>\n",
       "      <td id=\"T_eba34_row6_col3\" class=\"data row6 col3\" >0.730804</td>\n",
       "      <td id=\"T_eba34_row6_col4\" class=\"data row6 col4\" >0.039104</td>\n",
       "    </tr>\n",
       "    <tr>\n",
       "      <th id=\"T_eba34_level0_row7\" class=\"row_heading level0 row7\" >0</th>\n",
       "      <td id=\"T_eba34_row7_col0\" class=\"data row7 col0\" >DecisionTree</td>\n",
       "      <td id=\"T_eba34_row7_col1\" class=\"data row7 col1\" >0.772388</td>\n",
       "      <td id=\"T_eba34_row7_col2\" class=\"data row7 col2\" >0.025512</td>\n",
       "      <td id=\"T_eba34_row7_col3\" class=\"data row7 col3\" >0.705059</td>\n",
       "      <td id=\"T_eba34_row7_col4\" class=\"data row7 col4\" >0.029337</td>\n",
       "    </tr>\n",
       "  </tbody>\n",
       "</table>\n"
      ],
      "text/plain": [
       "<pandas.io.formats.style.Styler at 0x21c7e752410>"
      ]
     },
     "execution_count": 124,
     "metadata": {},
     "output_type": "execute_result"
    }
   ],
   "source": [
    "my_style = 'background-color: darkorange; font-weight: bold'\n",
    "metrics_df.style.applymap(lambda x: my_style, subset=['accuracy mean', 'f1 mean'])"
   ]
  },
  {
   "cell_type": "code",
   "execution_count": 125,
   "id": "0ca2cffa",
   "metadata": {
    "ExecuteTime": {
     "end_time": "2023-01-01T16:04:02.248170Z",
     "start_time": "2023-01-01T16:04:02.114353Z"
    }
   },
   "outputs": [
    {
     "data": {
      "image/png": "[encoded data removed]",
      "text/plain": [
       "<Figure size 576x432 with 1 Axes>"
      ]
     },
     "metadata": {
      "needs_background": "light"
     },
     "output_type": "display_data"
    }
   ],
   "source": [
    "plt.figure(figsize=[8,6])\n",
    "g = sns.barplot(x=\"accuracy mean\", y=\"algorithm\", data = metrics_df.sort_values(by='accuracy mean', ascending=False), \n",
    "                palette=\"Set1\",orient = \"h\",**{'xerr': metrics_df['accuracy std']})\n",
    "g.set_xlabel(\"Mean Accuracy Value\")\n",
    "g = g.set_title(\"Cross validation scores\")"
   ]
  },
  {
   "cell_type": "code",
   "execution_count": null,
   "id": "f575b4a5",
   "metadata": {},
   "outputs": [],
   "source": []
  },
  {
   "cell_type": "code",
   "execution_count": null,
   "id": "7774032b",
   "metadata": {},
   "outputs": [],
   "source": []
  },
  {
   "cell_type": "markdown",
   "id": "74ae88cc-4831-4edb-9b26-6f38832f8011",
   "metadata": {},
   "source": [
    "## Logistic Regression"
   ]
  },
  {
   "cell_type": "code",
   "execution_count": 261,
   "id": "3c31a72c",
   "metadata": {},
   "outputs": [
    {
     "data": {
      "text/html": [
       "<style>#sk-container-id-19 {color: black;background-color: white;}#sk-container-id-19 pre{padding: 0;}#sk-container-id-19 div.sk-toggleable {background-color: white;}#sk-container-id-19 label.sk-toggleable__label {cursor: pointer;display: block;width: 100%;margin-bottom: 0;padding: 0.3em;box-sizing: border-box;text-align: center;}#sk-container-id-19 label.sk-toggleable__label-arrow:before {content: \"▸\";float: left;margin-right: 0.25em;color: #696969;}#sk-container-id-19 label.sk-toggleable__label-arrow:hover:before {color: black;}#sk-container-id-19 div.sk-estimator:hover label.sk-toggleable__label-arrow:before {color: black;}#sk-container-id-19 div.sk-toggleable__content {max-height: 0;max-width: 0;overflow: hidden;text-align: left;background-color: #f0f8ff;}#sk-container-id-19 div.sk-toggleable__content pre {margin: 0.2em;color: black;border-radius: 0.25em;background-color: #f0f8ff;}#sk-container-id-19 input.sk-toggleable__control:checked~div.sk-toggleable__content {max-height: 200px;max-width: 100%;overflow: auto;}#sk-container-id-19 input.sk-toggleable__control:checked~label.sk-toggleable__label-arrow:before {content: \"▾\";}#sk-container-id-19 div.sk-estimator input.sk-toggleable__control:checked~label.sk-toggleable__label {background-color: #d4ebff;}#sk-container-id-19 div.sk-label input.sk-toggleable__control:checked~label.sk-toggleable__label {background-color: #d4ebff;}#sk-container-id-19 input.sk-hidden--visually {border: 0;clip: rect(1px 1px 1px 1px);clip: rect(1px, 1px, 1px, 1px);height: 1px;margin: -1px;overflow: hidden;padding: 0;position: absolute;width: 1px;}#sk-container-id-19 div.sk-estimator {font-family: monospace;background-color: #f0f8ff;border: 1px dotted black;border-radius: 0.25em;box-sizing: border-box;margin-bottom: 0.5em;}#sk-container-id-19 div.sk-estimator:hover {background-color: #d4ebff;}#sk-container-id-19 div.sk-parallel-item::after {content: \"\";width: 100%;border-bottom: 1px solid gray;flex-grow: 1;}#sk-container-id-19 div.sk-label:hover label.sk-toggleable__label {background-color: #d4ebff;}#sk-container-id-19 div.sk-serial::before {content: \"\";position: absolute;border-left: 1px solid gray;box-sizing: border-box;top: 0;bottom: 0;left: 50%;z-index: 0;}#sk-container-id-19 div.sk-serial {display: flex;flex-direction: column;align-items: center;background-color: white;padding-right: 0.2em;padding-left: 0.2em;position: relative;}#sk-container-id-19 div.sk-item {position: relative;z-index: 1;}#sk-container-id-19 div.sk-parallel {display: flex;align-items: stretch;justify-content: center;background-color: white;position: relative;}#sk-container-id-19 div.sk-item::before, #sk-container-id-19 div.sk-parallel-item::before {content: \"\";position: absolute;border-left: 1px solid gray;box-sizing: border-box;top: 0;bottom: 0;left: 50%;z-index: -1;}#sk-container-id-19 div.sk-parallel-item {display: flex;flex-direction: column;z-index: 1;position: relative;background-color: white;}#sk-container-id-19 div.sk-parallel-item:first-child::after {align-self: flex-end;width: 50%;}#sk-container-id-19 div.sk-parallel-item:last-child::after {align-self: flex-start;width: 50%;}#sk-container-id-19 div.sk-parallel-item:only-child::after {width: 0;}#sk-container-id-19 div.sk-dashed-wrapped {border: 1px dashed gray;margin: 0 0.4em 0.5em 0.4em;box-sizing: border-box;padding-bottom: 0.4em;background-color: white;}#sk-container-id-19 div.sk-label label {font-family: monospace;font-weight: bold;display: inline-block;line-height: 1.2em;}#sk-container-id-19 div.sk-label-container {text-align: center;}#sk-container-id-19 div.sk-container {/* jupyter's `normalize.less` sets `[hidden] { display: none; }` but bootstrap.min.css set `[hidden] { display: none !important; }` so we also need the `!important` here to be able to override the default hidden behavior on the sphinx rendered scikit-learn.org. See: https://github.com/scikit-learn/scikit-learn/issues/21755 */display: inline-block !important;position: relative;}#sk-container-id-19 div.sk-text-repr-fallback {display: none;}</style><div id=\"sk-container-id-19\" class=\"sk-top-container\"><div class=\"sk-text-repr-fallback\"><pre>LogisticRegression(max_iter=500)</pre><b>In a Jupyter environment, please rerun this cell to show the HTML representation or trust the notebook. <br />On GitHub, the HTML representation is unable to render, please try loading this page with nbviewer.org.</b></div><div class=\"sk-container\" hidden><div class=\"sk-item\"><div class=\"sk-estimator sk-toggleable\"><input class=\"sk-toggleable__control sk-hidden--visually\" id=\"sk-estimator-id-35\" type=\"checkbox\" checked><label for=\"sk-estimator-id-35\" class=\"sk-toggleable__label sk-toggleable__label-arrow\">LogisticRegression</label><div class=\"sk-toggleable__content\"><pre>LogisticRegression(max_iter=500)</pre></div></div></div></div></div>"
      ],
      "text/plain": [
       "LogisticRegression(max_iter=500)"
      ]
     },
     "execution_count": 261,
     "metadata": {},
     "output_type": "execute_result"
    }
   ],
   "source": [
    "from sklearn.linear_model import LogisticRegression\n",
    "logistic_model = LogisticRegression(max_iter=500)\n",
    "logistic_model.fit(X_train, y_train)"
   ]
  },
  {
   "cell_type": "code",
   "execution_count": 235,
   "id": "7d95de61",
   "metadata": {},
   "outputs": [
    {
     "data": {
      "text/plain": [
       "{'C': 1.0,\n",
       " 'class_weight': None,\n",
       " 'dual': False,\n",
       " 'fit_intercept': True,\n",
       " 'intercept_scaling': 1,\n",
       " 'l1_ratio': None,\n",
       " 'max_iter': 500,\n",
       " 'multi_class': 'auto',\n",
       " 'n_jobs': None,\n",
       " 'penalty': 'l2',\n",
       " 'random_state': None,\n",
       " 'solver': 'lbfgs',\n",
       " 'tol': 0.0001,\n",
       " 'verbose': 0,\n",
       " 'warm_start': False}"
      ]
     },
     "execution_count": 235,
     "metadata": {},
     "output_type": "execute_result"
    }
   ],
   "source": [
    "logistic_model.get_params()"
   ]
  },
  {
   "cell_type": "markdown",
   "id": "033fb37b-548c-440d-8137-20ad2cea3b76",
   "metadata": {},
   "source": [
    "### Model evaluation"
   ]
  },
  {
   "cell_type": "code",
   "execution_count": 230,
   "id": "e16bf943-7875-4a6e-a73c-e92d9c20197b",
   "metadata": {},
   "outputs": [],
   "source": [
    "from sklearn.metrics import (\n",
    "    classification_report, f1_score, accuracy_score, confusion_matrix, precision_score, recall_score,\n",
    "    ConfusionMatrixDisplay\n",
    ")"
   ]
  },
  {
   "cell_type": "code",
   "execution_count": 262,
   "id": "1cce2263-53ba-4aaf-b31c-e50f79283662",
   "metadata": {},
   "outputs": [
    {
     "data": {
      "text/plain": [
       "0.8013468013468014"
      ]
     },
     "execution_count": 262,
     "metadata": {},
     "output_type": "execute_result"
    }
   ],
   "source": [
    "# predicting on train data\n",
    "ypred = logistic_model.predict(X_train)\n",
    "accuracy_score(y_train, ypred)"
   ]
  },
  {
   "cell_type": "code",
   "execution_count": 97,
   "id": "fb0a54b0-48d5-4d58-b6ee-7696816a74c1",
   "metadata": {},
   "outputs": [
    {
     "data": {
      "text/plain": [
       "0.8015220307440175"
      ]
     },
     "execution_count": 97,
     "metadata": {},
     "output_type": "execute_result"
    }
   ],
   "source": [
    "f1_score(y_train, ypred, average='weighted')"
   ]
  },
  {
   "cell_type": "code",
   "execution_count": 98,
   "id": "ffad61f4-efe3-4d1d-9846-60f3747539b5",
   "metadata": {},
   "outputs": [
    {
     "name": "stdout",
     "output_type": "stream",
     "text": [
      "              precision    recall  f1-score   support\n",
      "\n",
      "         0.0       0.83      0.85      0.84       549\n",
      "         1.0       0.75      0.72      0.74       342\n",
      "\n",
      "    accuracy                           0.80       891\n",
      "   macro avg       0.79      0.79      0.79       891\n",
      "weighted avg       0.80      0.80      0.80       891\n",
      "\n"
     ]
    }
   ],
   "source": [
    "report1 = classification_report(y_train, ypred)\n",
    "print(report1)"
   ]
  },
  {
   "cell_type": "code",
   "execution_count": 100,
   "id": "6b24c11a-9231-4fc3-8bd9-17feb603ecda",
   "metadata": {},
   "outputs": [
    {
     "data": {
      "text/plain": [
       "array([[469,  80],\n",
       "       [ 96, 246]], dtype=int64)"
      ]
     },
     "execution_count": 100,
     "metadata": {},
     "output_type": "execute_result"
    }
   ],
   "source": [
    "cm = confusion_matrix(y_train, ypred)\n",
    "cm"
   ]
  },
  {
   "cell_type": "code",
   "execution_count": 101,
   "id": "90fdf0d7-ec10-4505-a425-65fbc2337514",
   "metadata": {},
   "outputs": [
    {
     "data": {
      "text/plain": [
       "array([0.7877095 , 0.7752809 , 0.7752809 , 0.7752809 , 0.80337079])"
      ]
     },
     "execution_count": 101,
     "metadata": {},
     "output_type": "execute_result"
    }
   ],
   "source": [
    "from sklearn.model_selection import cross_val_score\n",
    "model = LogisticRegression(penalty='l2', max_iter=1000)\n",
    "cv = cross_val_score(model, X_train, y_train, scoring='accuracy', cv=5)\n",
    "cv"
   ]
  },
  {
   "cell_type": "code",
   "execution_count": 102,
   "id": "555606d1-e4d2-4ada-ad04-44ea2bff2458",
   "metadata": {},
   "outputs": [
    {
     "data": {
      "text/plain": [
       "0.7833845960705543"
      ]
     },
     "execution_count": 102,
     "metadata": {},
     "output_type": "execute_result"
    }
   ],
   "source": [
    "cv.mean()"
   ]
  },
  {
   "cell_type": "markdown",
   "id": "35425ef8-12c3-4d5d-9be1-b53e3b396689",
   "metadata": {},
   "source": [
    "## KNN model"
   ]
  },
  {
   "cell_type": "code",
   "execution_count": 263,
   "id": "65e0d9b2-828f-47e7-9c66-d2f41868abfa",
   "metadata": {},
   "outputs": [
    {
     "data": {
      "text/plain": [
       "0.8597081930415263"
      ]
     },
     "execution_count": 263,
     "metadata": {},
     "output_type": "execute_result"
    }
   ],
   "source": [
    "from sklearn.neighbors import KNeighborsClassifier\n",
    "knn_model = KNeighborsClassifier()\n",
    "knn_model.fit(X_train, y_train)\n",
    "ypred = knn_model.predict(X_train)\n",
    "accuracy_score(y_train, ypred)"
   ]
  },
  {
   "cell_type": "code",
   "execution_count": 264,
   "id": "de7e90da-2892-400e-a6c0-695f504dda66",
   "metadata": {},
   "outputs": [
    {
     "data": {
      "text/plain": [
       "0.8588027881514714"
      ]
     },
     "execution_count": 264,
     "metadata": {},
     "output_type": "execute_result"
    }
   ],
   "source": [
    "f1_score(y_train, ypred, average='weighted')"
   ]
  },
  {
   "cell_type": "code",
   "execution_count": 116,
   "id": "45e61d29-be24-4d48-8413-714cde1ad230",
   "metadata": {},
   "outputs": [
    {
     "name": "stdout",
     "output_type": "stream",
     "text": [
      "              precision    recall  f1-score   support\n",
      "\n",
      "         0.0       0.87      0.90      0.89       549\n",
      "         1.0       0.83      0.78      0.81       342\n",
      "\n",
      "    accuracy                           0.86       891\n",
      "   macro avg       0.85      0.84      0.85       891\n",
      "weighted avg       0.86      0.86      0.86       891\n",
      "\n"
     ]
    }
   ],
   "source": [
    "report2 = classification_report(y_train, ypred)\n",
    "print(report2)"
   ]
  },
  {
   "cell_type": "code",
   "execution_count": 117,
   "id": "d1b4cf2c-bbf8-4a05-8b69-e3c78af3c2f1",
   "metadata": {},
   "outputs": [
    {
     "data": {
      "text/plain": [
       "array([[496,  53],\n",
       "       [ 74, 268]], dtype=int64)"
      ]
     },
     "execution_count": 117,
     "metadata": {},
     "output_type": "execute_result"
    }
   ],
   "source": [
    "cm = confusion_matrix(y_train, ypred)\n",
    "cm"
   ]
  },
  {
   "cell_type": "markdown",
   "id": "cc0b2b23-c07c-4723-bbed-f31921824a57",
   "metadata": {},
   "source": [
    "## KNN model with Hyperparameter Tuning"
   ]
  },
  {
   "cell_type": "code",
   "execution_count": 265,
   "id": "e75fbf7e-d918-402a-861e-5f1f78d37676",
   "metadata": {},
   "outputs": [],
   "source": [
    "from sklearn.model_selection import GridSearchCV\n",
    "knn_model = KNeighborsClassifier()\n",
    "grid = GridSearchCV(knn_model,\n",
    "                    param_grid={\n",
    "                        'algorithm': ['ball_tree', 'kd_tree', 'brute'],\n",
    "                        'metric': ['minkowski', 'euclidean', 'manhattan'],\n",
    "                        'n_neighbors': np.arange(5, 25, 3),\n",
    "                        'weights': ['uniform', 'distance']\n",
    "                    },\n",
    "                    cv=5, scoring='accuracy', verbose=True\n",
    "            )"
   ]
  },
  {
   "cell_type": "code",
   "execution_count": 266,
   "id": "3b9d065b-79a6-4301-9912-0c364d29ebfd",
   "metadata": {},
   "outputs": [
    {
     "name": "stdout",
     "output_type": "stream",
     "text": [
      "Fitting 5 folds for each of 126 candidates, totalling 630 fits\n"
     ]
    },
    {
     "data": {
      "text/html": [
       "<style>#sk-container-id-20 {color: black;background-color: white;}#sk-container-id-20 pre{padding: 0;}#sk-container-id-20 div.sk-toggleable {background-color: white;}#sk-container-id-20 label.sk-toggleable__label {cursor: pointer;display: block;width: 100%;margin-bottom: 0;padding: 0.3em;box-sizing: border-box;text-align: center;}#sk-container-id-20 label.sk-toggleable__label-arrow:before {content: \"▸\";float: left;margin-right: 0.25em;color: #696969;}#sk-container-id-20 label.sk-toggleable__label-arrow:hover:before {color: black;}#sk-container-id-20 div.sk-estimator:hover label.sk-toggleable__label-arrow:before {color: black;}#sk-container-id-20 div.sk-toggleable__content {max-height: 0;max-width: 0;overflow: hidden;text-align: left;background-color: #f0f8ff;}#sk-container-id-20 div.sk-toggleable__content pre {margin: 0.2em;color: black;border-radius: 0.25em;background-color: #f0f8ff;}#sk-container-id-20 input.sk-toggleable__control:checked~div.sk-toggleable__content {max-height: 200px;max-width: 100%;overflow: auto;}#sk-container-id-20 input.sk-toggleable__control:checked~label.sk-toggleable__label-arrow:before {content: \"▾\";}#sk-container-id-20 div.sk-estimator input.sk-toggleable__control:checked~label.sk-toggleable__label {background-color: #d4ebff;}#sk-container-id-20 div.sk-label input.sk-toggleable__control:checked~label.sk-toggleable__label {background-color: #d4ebff;}#sk-container-id-20 input.sk-hidden--visually {border: 0;clip: rect(1px 1px 1px 1px);clip: rect(1px, 1px, 1px, 1px);height: 1px;margin: -1px;overflow: hidden;padding: 0;position: absolute;width: 1px;}#sk-container-id-20 div.sk-estimator {font-family: monospace;background-color: #f0f8ff;border: 1px dotted black;border-radius: 0.25em;box-sizing: border-box;margin-bottom: 0.5em;}#sk-container-id-20 div.sk-estimator:hover {background-color: #d4ebff;}#sk-container-id-20 div.sk-parallel-item::after {content: \"\";width: 100%;border-bottom: 1px solid gray;flex-grow: 1;}#sk-container-id-20 div.sk-label:hover label.sk-toggleable__label {background-color: #d4ebff;}#sk-container-id-20 div.sk-serial::before {content: \"\";position: absolute;border-left: 1px solid gray;box-sizing: border-box;top: 0;bottom: 0;left: 50%;z-index: 0;}#sk-container-id-20 div.sk-serial {display: flex;flex-direction: column;align-items: center;background-color: white;padding-right: 0.2em;padding-left: 0.2em;position: relative;}#sk-container-id-20 div.sk-item {position: relative;z-index: 1;}#sk-container-id-20 div.sk-parallel {display: flex;align-items: stretch;justify-content: center;background-color: white;position: relative;}#sk-container-id-20 div.sk-item::before, #sk-container-id-20 div.sk-parallel-item::before {content: \"\";position: absolute;border-left: 1px solid gray;box-sizing: border-box;top: 0;bottom: 0;left: 50%;z-index: -1;}#sk-container-id-20 div.sk-parallel-item {display: flex;flex-direction: column;z-index: 1;position: relative;background-color: white;}#sk-container-id-20 div.sk-parallel-item:first-child::after {align-self: flex-end;width: 50%;}#sk-container-id-20 div.sk-parallel-item:last-child::after {align-self: flex-start;width: 50%;}#sk-container-id-20 div.sk-parallel-item:only-child::after {width: 0;}#sk-container-id-20 div.sk-dashed-wrapped {border: 1px dashed gray;margin: 0 0.4em 0.5em 0.4em;box-sizing: border-box;padding-bottom: 0.4em;background-color: white;}#sk-container-id-20 div.sk-label label {font-family: monospace;font-weight: bold;display: inline-block;line-height: 1.2em;}#sk-container-id-20 div.sk-label-container {text-align: center;}#sk-container-id-20 div.sk-container {/* jupyter's `normalize.less` sets `[hidden] { display: none; }` but bootstrap.min.css set `[hidden] { display: none !important; }` so we also need the `!important` here to be able to override the default hidden behavior on the sphinx rendered scikit-learn.org. See: https://github.com/scikit-learn/scikit-learn/issues/21755 */display: inline-block !important;position: relative;}#sk-container-id-20 div.sk-text-repr-fallback {display: none;}</style><div id=\"sk-container-id-20\" class=\"sk-top-container\"><div class=\"sk-text-repr-fallback\"><pre>GridSearchCV(cv=5, estimator=KNeighborsClassifier(),\n",
       "             param_grid={&#x27;algorithm&#x27;: [&#x27;ball_tree&#x27;, &#x27;kd_tree&#x27;, &#x27;brute&#x27;],\n",
       "                         &#x27;metric&#x27;: [&#x27;minkowski&#x27;, &#x27;euclidean&#x27;, &#x27;manhattan&#x27;],\n",
       "                         &#x27;n_neighbors&#x27;: array([ 5,  8, 11, 14, 17, 20, 23]),\n",
       "                         &#x27;weights&#x27;: [&#x27;uniform&#x27;, &#x27;distance&#x27;]},\n",
       "             scoring=&#x27;accuracy&#x27;, verbose=True)</pre><b>In a Jupyter environment, please rerun this cell to show the HTML representation or trust the notebook. <br />On GitHub, the HTML representation is unable to render, please try loading this page with nbviewer.org.</b></div><div class=\"sk-container\" hidden><div class=\"sk-item sk-dashed-wrapped\"><div class=\"sk-label-container\"><div class=\"sk-label sk-toggleable\"><input class=\"sk-toggleable__control sk-hidden--visually\" id=\"sk-estimator-id-36\" type=\"checkbox\" ><label for=\"sk-estimator-id-36\" class=\"sk-toggleable__label sk-toggleable__label-arrow\">GridSearchCV</label><div class=\"sk-toggleable__content\"><pre>GridSearchCV(cv=5, estimator=KNeighborsClassifier(),\n",
       "             param_grid={&#x27;algorithm&#x27;: [&#x27;ball_tree&#x27;, &#x27;kd_tree&#x27;, &#x27;brute&#x27;],\n",
       "                         &#x27;metric&#x27;: [&#x27;minkowski&#x27;, &#x27;euclidean&#x27;, &#x27;manhattan&#x27;],\n",
       "                         &#x27;n_neighbors&#x27;: array([ 5,  8, 11, 14, 17, 20, 23]),\n",
       "                         &#x27;weights&#x27;: [&#x27;uniform&#x27;, &#x27;distance&#x27;]},\n",
       "             scoring=&#x27;accuracy&#x27;, verbose=True)</pre></div></div></div><div class=\"sk-parallel\"><div class=\"sk-parallel-item\"><div class=\"sk-item\"><div class=\"sk-label-container\"><div class=\"sk-label sk-toggleable\"><input class=\"sk-toggleable__control sk-hidden--visually\" id=\"sk-estimator-id-37\" type=\"checkbox\" ><label for=\"sk-estimator-id-37\" class=\"sk-toggleable__label sk-toggleable__label-arrow\">estimator: KNeighborsClassifier</label><div class=\"sk-toggleable__content\"><pre>KNeighborsClassifier()</pre></div></div></div><div class=\"sk-serial\"><div class=\"sk-item\"><div class=\"sk-estimator sk-toggleable\"><input class=\"sk-toggleable__control sk-hidden--visually\" id=\"sk-estimator-id-38\" type=\"checkbox\" ><label for=\"sk-estimator-id-38\" class=\"sk-toggleable__label sk-toggleable__label-arrow\">KNeighborsClassifier</label><div class=\"sk-toggleable__content\"><pre>KNeighborsClassifier()</pre></div></div></div></div></div></div></div></div></div></div>"
      ],
      "text/plain": [
       "GridSearchCV(cv=5, estimator=KNeighborsClassifier(),\n",
       "             param_grid={'algorithm': ['ball_tree', 'kd_tree', 'brute'],\n",
       "                         'metric': ['minkowski', 'euclidean', 'manhattan'],\n",
       "                         'n_neighbors': array([ 5,  8, 11, 14, 17, 20, 23]),\n",
       "                         'weights': ['uniform', 'distance']},\n",
       "             scoring='accuracy', verbose=True)"
      ]
     },
     "execution_count": 266,
     "metadata": {},
     "output_type": "execute_result"
    }
   ],
   "source": [
    "grid.fit(X_train, y_train)"
   ]
  },
  {
   "cell_type": "code",
   "execution_count": 267,
   "id": "95a6a77f-3927-445b-ae18-2748c5cf3dac",
   "metadata": {},
   "outputs": [
    {
     "data": {
      "text/plain": [
       "0.8170610758897746"
      ]
     },
     "execution_count": 267,
     "metadata": {},
     "output_type": "execute_result"
    }
   ],
   "source": [
    "grid.best_score_"
   ]
  },
  {
   "cell_type": "code",
   "execution_count": 268,
   "id": "85515093-794e-4712-84e5-5a28ce4a6aff",
   "metadata": {},
   "outputs": [
    {
     "data": {
      "text/plain": [
       "0.8383838383838383"
      ]
     },
     "execution_count": 268,
     "metadata": {},
     "output_type": "execute_result"
    }
   ],
   "source": [
    "ypred = grid.predict(X_train)\n",
    "accuracy_score(y_train, ypred)"
   ]
  },
  {
   "cell_type": "code",
   "execution_count": 269,
   "id": "aadc8b32-75ab-4f48-a7c1-ce31cdb8f6c4",
   "metadata": {},
   "outputs": [
    {
     "data": {
      "text/plain": [
       "{'algorithm': 'ball_tree',\n",
       " 'metric': 'manhattan',\n",
       " 'n_neighbors': 14,\n",
       " 'weights': 'uniform'}"
      ]
     },
     "execution_count": 269,
     "metadata": {},
     "output_type": "execute_result"
    }
   ],
   "source": [
    "grid.best_params_"
   ]
  },
  {
   "cell_type": "code",
   "execution_count": 270,
   "id": "e0d0890a-b178-49a1-bc7e-9047c39fa6ea",
   "metadata": {},
   "outputs": [
    {
     "data": {
      "text/html": [
       "<style>#sk-container-id-21 {color: black;background-color: white;}#sk-container-id-21 pre{padding: 0;}#sk-container-id-21 div.sk-toggleable {background-color: white;}#sk-container-id-21 label.sk-toggleable__label {cursor: pointer;display: block;width: 100%;margin-bottom: 0;padding: 0.3em;box-sizing: border-box;text-align: center;}#sk-container-id-21 label.sk-toggleable__label-arrow:before {content: \"▸\";float: left;margin-right: 0.25em;color: #696969;}#sk-container-id-21 label.sk-toggleable__label-arrow:hover:before {color: black;}#sk-container-id-21 div.sk-estimator:hover label.sk-toggleable__label-arrow:before {color: black;}#sk-container-id-21 div.sk-toggleable__content {max-height: 0;max-width: 0;overflow: hidden;text-align: left;background-color: #f0f8ff;}#sk-container-id-21 div.sk-toggleable__content pre {margin: 0.2em;color: black;border-radius: 0.25em;background-color: #f0f8ff;}#sk-container-id-21 input.sk-toggleable__control:checked~div.sk-toggleable__content {max-height: 200px;max-width: 100%;overflow: auto;}#sk-container-id-21 input.sk-toggleable__control:checked~label.sk-toggleable__label-arrow:before {content: \"▾\";}#sk-container-id-21 div.sk-estimator input.sk-toggleable__control:checked~label.sk-toggleable__label {background-color: #d4ebff;}#sk-container-id-21 div.sk-label input.sk-toggleable__control:checked~label.sk-toggleable__label {background-color: #d4ebff;}#sk-container-id-21 input.sk-hidden--visually {border: 0;clip: rect(1px 1px 1px 1px);clip: rect(1px, 1px, 1px, 1px);height: 1px;margin: -1px;overflow: hidden;padding: 0;position: absolute;width: 1px;}#sk-container-id-21 div.sk-estimator {font-family: monospace;background-color: #f0f8ff;border: 1px dotted black;border-radius: 0.25em;box-sizing: border-box;margin-bottom: 0.5em;}#sk-container-id-21 div.sk-estimator:hover {background-color: #d4ebff;}#sk-container-id-21 div.sk-parallel-item::after {content: \"\";width: 100%;border-bottom: 1px solid gray;flex-grow: 1;}#sk-container-id-21 div.sk-label:hover label.sk-toggleable__label {background-color: #d4ebff;}#sk-container-id-21 div.sk-serial::before {content: \"\";position: absolute;border-left: 1px solid gray;box-sizing: border-box;top: 0;bottom: 0;left: 50%;z-index: 0;}#sk-container-id-21 div.sk-serial {display: flex;flex-direction: column;align-items: center;background-color: white;padding-right: 0.2em;padding-left: 0.2em;position: relative;}#sk-container-id-21 div.sk-item {position: relative;z-index: 1;}#sk-container-id-21 div.sk-parallel {display: flex;align-items: stretch;justify-content: center;background-color: white;position: relative;}#sk-container-id-21 div.sk-item::before, #sk-container-id-21 div.sk-parallel-item::before {content: \"\";position: absolute;border-left: 1px solid gray;box-sizing: border-box;top: 0;bottom: 0;left: 50%;z-index: -1;}#sk-container-id-21 div.sk-parallel-item {display: flex;flex-direction: column;z-index: 1;position: relative;background-color: white;}#sk-container-id-21 div.sk-parallel-item:first-child::after {align-self: flex-end;width: 50%;}#sk-container-id-21 div.sk-parallel-item:last-child::after {align-self: flex-start;width: 50%;}#sk-container-id-21 div.sk-parallel-item:only-child::after {width: 0;}#sk-container-id-21 div.sk-dashed-wrapped {border: 1px dashed gray;margin: 0 0.4em 0.5em 0.4em;box-sizing: border-box;padding-bottom: 0.4em;background-color: white;}#sk-container-id-21 div.sk-label label {font-family: monospace;font-weight: bold;display: inline-block;line-height: 1.2em;}#sk-container-id-21 div.sk-label-container {text-align: center;}#sk-container-id-21 div.sk-container {/* jupyter's `normalize.less` sets `[hidden] { display: none; }` but bootstrap.min.css set `[hidden] { display: none !important; }` so we also need the `!important` here to be able to override the default hidden behavior on the sphinx rendered scikit-learn.org. See: https://github.com/scikit-learn/scikit-learn/issues/21755 */display: inline-block !important;position: relative;}#sk-container-id-21 div.sk-text-repr-fallback {display: none;}</style><div id=\"sk-container-id-21\" class=\"sk-top-container\"><div class=\"sk-text-repr-fallback\"><pre>KNeighborsClassifier(algorithm=&#x27;ball_tree&#x27;, metric=&#x27;manhattan&#x27;, n_neighbors=14)</pre><b>In a Jupyter environment, please rerun this cell to show the HTML representation or trust the notebook. <br />On GitHub, the HTML representation is unable to render, please try loading this page with nbviewer.org.</b></div><div class=\"sk-container\" hidden><div class=\"sk-item\"><div class=\"sk-estimator sk-toggleable\"><input class=\"sk-toggleable__control sk-hidden--visually\" id=\"sk-estimator-id-39\" type=\"checkbox\" checked><label for=\"sk-estimator-id-39\" class=\"sk-toggleable__label sk-toggleable__label-arrow\">KNeighborsClassifier</label><div class=\"sk-toggleable__content\"><pre>KNeighborsClassifier(algorithm=&#x27;ball_tree&#x27;, metric=&#x27;manhattan&#x27;, n_neighbors=14)</pre></div></div></div></div></div>"
      ],
      "text/plain": [
       "KNeighborsClassifier(algorithm='ball_tree', metric='manhattan', n_neighbors=14)"
      ]
     },
     "execution_count": 270,
     "metadata": {},
     "output_type": "execute_result"
    }
   ],
   "source": [
    "grid.best_estimator_"
   ]
  },
  {
   "cell_type": "code",
   "execution_count": 271,
   "id": "df6d69a2-9554-42a0-8def-aacc80247b5b",
   "metadata": {},
   "outputs": [
    {
     "data": {
      "text/plain": [
       "0.8383838383838383"
      ]
     },
     "execution_count": 271,
     "metadata": {},
     "output_type": "execute_result"
    }
   ],
   "source": [
    "model = KNeighborsClassifier(algorithm='kd_tree', metric='manhattan', n_neighbors=14)\n",
    "model.fit(X_train, y_train)\n",
    "ypred = model.predict(X_train)\n",
    "accuracy_score(y_train, ypred)"
   ]
  },
  {
   "cell_type": "raw",
   "id": "b0cc8094-6c42-4795-9db7-b70b4bc01d29",
   "metadata": {},
   "source": [
    "from sklearn.pipeline import Pipeline\n",
    "xtrain, xtest, ytrain, ytest = train_test_split(df.drop(columns=['Survived']), df['Survived'], test_size=0.3, random_state=33)\n",
    "\n",
    "pipe = Pipeline(steps=[('scaler', StandardScaler()), ('knn', KNeighborsClassifier())])\n",
    "pipe.get_params().keys()"
   ]
  },
  {
   "cell_type": "raw",
   "id": "dde53c4c-fc40-4cb6-846c-5feb760db8a2",
   "metadata": {},
   "source": [
    "grid = GridSearchCV(pipe,\n",
    "                    param_grid={\n",
    "                        'knn__algorithm': ['ball_tree', 'kd_tree', 'brute'],\n",
    "                        'knn__metric': ['minkowski', 'euclidean', 'manhattan'],\n",
    "                        'knn__n_neighbors': np.arange(5, 25, 3),\n",
    "                        'knn__weights': ['uniform', 'distance']\n",
    "                    },\n",
    "                    cv=5, scoring='accuracy', verbose=True\n",
    "            )\n",
    "grid.fit(xtrain[['Fare','Sex','Pclass']], ytrain)\n",
    "grid.best_score_"
   ]
  },
  {
   "cell_type": "raw",
   "id": "2ab421c0-d1dc-4a9d-8a67-c0b7d56a597f",
   "metadata": {},
   "source": [
    "from sklearn.pipeline import make_pipeline\n",
    "xtrain, xtest, ytrain, ytest = train_test_split(df.drop(columns=['Survived']), df['Survived'], test_size=0.3, random_state=33)\n",
    "\n",
    "pipe = make_pipeline(StandardScaler(), KNeighborsClassifier())\n",
    "pipe.get_params().keys()"
   ]
  },
  {
   "cell_type": "raw",
   "id": "fc9328e7-9461-46d9-b15a-ae9f39cfaa61",
   "metadata": {},
   "source": [
    "grid = GridSearchCV(pipe,\n",
    "                    param_grid={\n",
    "                        'kneighborsclassifier__algorithm': ['ball_tree', 'kd_tree', 'brute'],\n",
    "                        'kneighborsclassifier__metric': ['minkowski', 'euclidean', 'manhattan'],\n",
    "                        'kneighborsclassifier__n_neighbors': np.arange(5, 25, 3),\n",
    "                        'kneighborsclassifier__weights': ['uniform', 'distance']\n",
    "                    },\n",
    "                    cv=5, scoring='accuracy', verbose=True\n",
    "            )\n",
    "grid.fit(xtrain, ytrain)\n",
    "grid.best_score_"
   ]
  },
  {
   "cell_type": "markdown",
   "id": "6e2a433c-902b-448f-a45c-985e3de11cef",
   "metadata": {},
   "source": [
    "## DecisionTreeClassifier Model"
   ]
  },
  {
   "cell_type": "code",
   "execution_count": 272,
   "id": "dc956099-841b-4ae8-afad-d4a04c31ccaa",
   "metadata": {},
   "outputs": [
    {
     "data": {
      "text/plain": [
       "0.8473625140291807"
      ]
     },
     "execution_count": 272,
     "metadata": {},
     "output_type": "execute_result"
    }
   ],
   "source": [
    "from sklearn.tree import DecisionTreeClassifier\n",
    "dt_model = DecisionTreeClassifier(random_state=0, max_depth=5)\n",
    "dt_model.fit(X_train, y_train)\n",
    "ypred = dt_model.predict(X_train)\n",
    "accuracy_score(y_train, ypred)"
   ]
  },
  {
   "cell_type": "raw",
   "id": "705eb03c-ad51-4c6d-acd7-2509c1b7d2e1",
   "metadata": {},
   "source": [
    "from sklearn.pipeline import Pipeline\n",
    "xtrain, xtest, ytrain, ytest = train_test_split(df.drop(columns=['Survived']), df['Survived'], test_size=0.3, random_state=33)\n",
    "\n",
    "pipe = Pipeline(steps=[('scaler', StandardScaler()), ('dt', DecisionTreeClassifier())])\n",
    "pipe.get_params().keys()"
   ]
  },
  {
   "cell_type": "raw",
   "id": "b0a1d446-9e86-49fa-a5eb-fd97965fd783",
   "metadata": {},
   "source": [
    "grid = GridSearchCV(pipe,\n",
    "                    param_grid={\n",
    "                        'dt__criterion': [\"gini\", \"entropy\", \"log_loss\"],\n",
    "                        'dt__splitter': [\"best\", \"random\"],\n",
    "                        'dt__max_features': [\"sqrt\", \"log2\"],\n",
    "                        'dt__max_depth': np.arange(1, 10, 1),\n",
    "                        'dt__random_state': np.arange(1, 40, 5)\n",
    "                    },\n",
    "                    cv=5, scoring='accuracy', verbose=True\n",
    "            )\n",
    "grid.fit(xtrain[['Fare','Sex','Pclass']], ytrain)"
   ]
  },
  {
   "cell_type": "code",
   "execution_count": 273,
   "id": "393ae253-2e64-4756-8264-d388fd06d5d6",
   "metadata": {},
   "outputs": [
    {
     "name": "stdout",
     "output_type": "stream",
     "text": [
      "Fitting 5 folds for each of 864 candidates, totalling 4320 fits\n"
     ]
    },
    {
     "data": {
      "text/html": [
       "<style>#sk-container-id-22 {color: black;background-color: white;}#sk-container-id-22 pre{padding: 0;}#sk-container-id-22 div.sk-toggleable {background-color: white;}#sk-container-id-22 label.sk-toggleable__label {cursor: pointer;display: block;width: 100%;margin-bottom: 0;padding: 0.3em;box-sizing: border-box;text-align: center;}#sk-container-id-22 label.sk-toggleable__label-arrow:before {content: \"▸\";float: left;margin-right: 0.25em;color: #696969;}#sk-container-id-22 label.sk-toggleable__label-arrow:hover:before {color: black;}#sk-container-id-22 div.sk-estimator:hover label.sk-toggleable__label-arrow:before {color: black;}#sk-container-id-22 div.sk-toggleable__content {max-height: 0;max-width: 0;overflow: hidden;text-align: left;background-color: #f0f8ff;}#sk-container-id-22 div.sk-toggleable__content pre {margin: 0.2em;color: black;border-radius: 0.25em;background-color: #f0f8ff;}#sk-container-id-22 input.sk-toggleable__control:checked~div.sk-toggleable__content {max-height: 200px;max-width: 100%;overflow: auto;}#sk-container-id-22 input.sk-toggleable__control:checked~label.sk-toggleable__label-arrow:before {content: \"▾\";}#sk-container-id-22 div.sk-estimator input.sk-toggleable__control:checked~label.sk-toggleable__label {background-color: #d4ebff;}#sk-container-id-22 div.sk-label input.sk-toggleable__control:checked~label.sk-toggleable__label {background-color: #d4ebff;}#sk-container-id-22 input.sk-hidden--visually {border: 0;clip: rect(1px 1px 1px 1px);clip: rect(1px, 1px, 1px, 1px);height: 1px;margin: -1px;overflow: hidden;padding: 0;position: absolute;width: 1px;}#sk-container-id-22 div.sk-estimator {font-family: monospace;background-color: #f0f8ff;border: 1px dotted black;border-radius: 0.25em;box-sizing: border-box;margin-bottom: 0.5em;}#sk-container-id-22 div.sk-estimator:hover {background-color: #d4ebff;}#sk-container-id-22 div.sk-parallel-item::after {content: \"\";width: 100%;border-bottom: 1px solid gray;flex-grow: 1;}#sk-container-id-22 div.sk-label:hover label.sk-toggleable__label {background-color: #d4ebff;}#sk-container-id-22 div.sk-serial::before {content: \"\";position: absolute;border-left: 1px solid gray;box-sizing: border-box;top: 0;bottom: 0;left: 50%;z-index: 0;}#sk-container-id-22 div.sk-serial {display: flex;flex-direction: column;align-items: center;background-color: white;padding-right: 0.2em;padding-left: 0.2em;position: relative;}#sk-container-id-22 div.sk-item {position: relative;z-index: 1;}#sk-container-id-22 div.sk-parallel {display: flex;align-items: stretch;justify-content: center;background-color: white;position: relative;}#sk-container-id-22 div.sk-item::before, #sk-container-id-22 div.sk-parallel-item::before {content: \"\";position: absolute;border-left: 1px solid gray;box-sizing: border-box;top: 0;bottom: 0;left: 50%;z-index: -1;}#sk-container-id-22 div.sk-parallel-item {display: flex;flex-direction: column;z-index: 1;position: relative;background-color: white;}#sk-container-id-22 div.sk-parallel-item:first-child::after {align-self: flex-end;width: 50%;}#sk-container-id-22 div.sk-parallel-item:last-child::after {align-self: flex-start;width: 50%;}#sk-container-id-22 div.sk-parallel-item:only-child::after {width: 0;}#sk-container-id-22 div.sk-dashed-wrapped {border: 1px dashed gray;margin: 0 0.4em 0.5em 0.4em;box-sizing: border-box;padding-bottom: 0.4em;background-color: white;}#sk-container-id-22 div.sk-label label {font-family: monospace;font-weight: bold;display: inline-block;line-height: 1.2em;}#sk-container-id-22 div.sk-label-container {text-align: center;}#sk-container-id-22 div.sk-container {/* jupyter's `normalize.less` sets `[hidden] { display: none; }` but bootstrap.min.css set `[hidden] { display: none !important; }` so we also need the `!important` here to be able to override the default hidden behavior on the sphinx rendered scikit-learn.org. See: https://github.com/scikit-learn/scikit-learn/issues/21755 */display: inline-block !important;position: relative;}#sk-container-id-22 div.sk-text-repr-fallback {display: none;}</style><div id=\"sk-container-id-22\" class=\"sk-top-container\"><div class=\"sk-text-repr-fallback\"><pre>GridSearchCV(cv=5, estimator=DecisionTreeClassifier(),\n",
       "             param_grid={&#x27;criterion&#x27;: [&#x27;gini&#x27;, &#x27;entropy&#x27;, &#x27;log_loss&#x27;],\n",
       "                         &#x27;max_depth&#x27;: array([1, 2, 3, 4, 5, 6, 7, 8, 9]),\n",
       "                         &#x27;max_features&#x27;: [&#x27;sqrt&#x27;, &#x27;log2&#x27;],\n",
       "                         &#x27;random_state&#x27;: array([ 1,  6, 11, 16, 21, 26, 31, 36]),\n",
       "                         &#x27;splitter&#x27;: [&#x27;best&#x27;, &#x27;random&#x27;]},\n",
       "             scoring=&#x27;accuracy&#x27;, verbose=True)</pre><b>In a Jupyter environment, please rerun this cell to show the HTML representation or trust the notebook. <br />On GitHub, the HTML representation is unable to render, please try loading this page with nbviewer.org.</b></div><div class=\"sk-container\" hidden><div class=\"sk-item sk-dashed-wrapped\"><div class=\"sk-label-container\"><div class=\"sk-label sk-toggleable\"><input class=\"sk-toggleable__control sk-hidden--visually\" id=\"sk-estimator-id-40\" type=\"checkbox\" ><label for=\"sk-estimator-id-40\" class=\"sk-toggleable__label sk-toggleable__label-arrow\">GridSearchCV</label><div class=\"sk-toggleable__content\"><pre>GridSearchCV(cv=5, estimator=DecisionTreeClassifier(),\n",
       "             param_grid={&#x27;criterion&#x27;: [&#x27;gini&#x27;, &#x27;entropy&#x27;, &#x27;log_loss&#x27;],\n",
       "                         &#x27;max_depth&#x27;: array([1, 2, 3, 4, 5, 6, 7, 8, 9]),\n",
       "                         &#x27;max_features&#x27;: [&#x27;sqrt&#x27;, &#x27;log2&#x27;],\n",
       "                         &#x27;random_state&#x27;: array([ 1,  6, 11, 16, 21, 26, 31, 36]),\n",
       "                         &#x27;splitter&#x27;: [&#x27;best&#x27;, &#x27;random&#x27;]},\n",
       "             scoring=&#x27;accuracy&#x27;, verbose=True)</pre></div></div></div><div class=\"sk-parallel\"><div class=\"sk-parallel-item\"><div class=\"sk-item\"><div class=\"sk-label-container\"><div class=\"sk-label sk-toggleable\"><input class=\"sk-toggleable__control sk-hidden--visually\" id=\"sk-estimator-id-41\" type=\"checkbox\" ><label for=\"sk-estimator-id-41\" class=\"sk-toggleable__label sk-toggleable__label-arrow\">estimator: DecisionTreeClassifier</label><div class=\"sk-toggleable__content\"><pre>DecisionTreeClassifier()</pre></div></div></div><div class=\"sk-serial\"><div class=\"sk-item\"><div class=\"sk-estimator sk-toggleable\"><input class=\"sk-toggleable__control sk-hidden--visually\" id=\"sk-estimator-id-42\" type=\"checkbox\" ><label for=\"sk-estimator-id-42\" class=\"sk-toggleable__label sk-toggleable__label-arrow\">DecisionTreeClassifier</label><div class=\"sk-toggleable__content\"><pre>DecisionTreeClassifier()</pre></div></div></div></div></div></div></div></div></div></div>"
      ],
      "text/plain": [
       "GridSearchCV(cv=5, estimator=DecisionTreeClassifier(),\n",
       "             param_grid={'criterion': ['gini', 'entropy', 'log_loss'],\n",
       "                         'max_depth': array([1, 2, 3, 4, 5, 6, 7, 8, 9]),\n",
       "                         'max_features': ['sqrt', 'log2'],\n",
       "                         'random_state': array([ 1,  6, 11, 16, 21, 26, 31, 36]),\n",
       "                         'splitter': ['best', 'random']},\n",
       "             scoring='accuracy', verbose=True)"
      ]
     },
     "execution_count": 273,
     "metadata": {},
     "output_type": "execute_result"
    }
   ],
   "source": [
    "dt_model = DecisionTreeClassifier()\n",
    "grid = GridSearchCV(dt_model,\n",
    "                    param_grid={\n",
    "                        'criterion': [\"gini\", \"entropy\", \"log_loss\"],\n",
    "                        'splitter': [\"best\", \"random\"],\n",
    "                        'max_features': [\"sqrt\", \"log2\"],\n",
    "                        'max_depth': np.arange(1, 10, 1),\n",
    "                        'random_state': np.arange(1, 40, 5)\n",
    "                    },\n",
    "                    cv=5, scoring='accuracy', verbose=True\n",
    "            )\n",
    "grid.fit(X_train, y_train)"
   ]
  },
  {
   "cell_type": "code",
   "execution_count": 274,
   "id": "8d194fb8-c521-40ce-a8de-15131fa64ba7",
   "metadata": {},
   "outputs": [
    {
     "data": {
      "text/plain": [
       "0.8159876969430669"
      ]
     },
     "execution_count": 274,
     "metadata": {},
     "output_type": "execute_result"
    }
   ],
   "source": [
    "grid.best_score_"
   ]
  },
  {
   "cell_type": "code",
   "execution_count": 275,
   "id": "38622b84-e48d-4168-89e3-4d70acf61d31",
   "metadata": {},
   "outputs": [
    {
     "data": {
      "text/plain": [
       "{'criterion': 'entropy',\n",
       " 'max_depth': 6,\n",
       " 'max_features': 'sqrt',\n",
       " 'random_state': 36,\n",
       " 'splitter': 'random'}"
      ]
     },
     "execution_count": 275,
     "metadata": {},
     "output_type": "execute_result"
    }
   ],
   "source": [
    "grid.best_params_"
   ]
  },
  {
   "cell_type": "code",
   "execution_count": 276,
   "id": "fbfe2b71-77d0-4c9f-b61e-6cc9d181906d",
   "metadata": {},
   "outputs": [
    {
     "data": {
      "text/plain": [
       "0.8282828282828283"
      ]
     },
     "execution_count": 276,
     "metadata": {},
     "output_type": "execute_result"
    }
   ],
   "source": [
    "ypred = grid.predict(X_train)\n",
    "accuracy_score(y_train, ypred)"
   ]
  },
  {
   "cell_type": "markdown",
   "id": "a84cdd10-3fe4-4401-8fca-3c472a0a79b5",
   "metadata": {},
   "source": [
    "## RandomForestClassifier model"
   ]
  },
  {
   "cell_type": "code",
   "execution_count": 309,
   "id": "42211ccf-7a22-4b04-8465-ee53ce738585",
   "metadata": {},
   "outputs": [
    {
     "data": {
      "text/plain": [
       "0.8170594837261503"
      ]
     },
     "execution_count": 309,
     "metadata": {},
     "output_type": "execute_result"
    }
   ],
   "source": [
    "from sklearn.ensemble import RandomForestClassifier\n",
    "features = [\"Pclass\", \"Sex\", \"SibSp\", \"Parch\"]\n",
    "rf_model = RandomForestClassifier(n_estimators=100,  random_state=33, max_depth=10)\n",
    "rf_model.fit(X_train[features], y_train)\n",
    "ypred = rf_model.predict(X_train[features])\n",
    "accuracy_score(y_train, ypred)"
   ]
  },
  {
   "cell_type": "code",
   "execution_count": 310,
   "id": "dd15feaa-3b23-4547-8445-dc13d11aaa04",
   "metadata": {},
   "outputs": [
    {
     "data": {
      "text/plain": [
       "0.789033958947963"
      ]
     },
     "execution_count": 310,
     "metadata": {},
     "output_type": "execute_result"
    }
   ],
   "source": [
    "cv = cross_val_score(rf_model, X_train, y_train, scoring='accuracy', cv=5)\n",
    "cv.mean()"
   ]
  },
  {
   "cell_type": "code",
   "execution_count": 278,
   "id": "813af5c4-39c5-450a-8046-6f90201683d7",
   "metadata": {},
   "outputs": [
    {
     "data": {
      "text/plain": [
       "<bound method BaseEstimator.get_params of RandomForestClassifier(max_depth=10, random_state=33)>"
      ]
     },
     "execution_count": 278,
     "metadata": {},
     "output_type": "execute_result"
    }
   ],
   "source": [
    "rf_model.get_params"
   ]
  },
  {
   "cell_type": "raw",
   "id": "0ffc53ce-d93d-494d-a272-7e5b757d1f97",
   "metadata": {},
   "source": [
    "from sklearn.pipeline import Pipeline\n",
    "xtrain, xtest, ytrain, ytest = train_test_split(df.drop(columns=['Survived']), df['Survived'], test_size=0.3, random_state=33)\n",
    "\n",
    "pipe = Pipeline(steps=[('scaler', StandardScaler()), ('rf', RandomForestClassifier())])\n",
    "pipe.get_params().keys()"
   ]
  },
  {
   "cell_type": "raw",
   "id": "e5b9f1f9-37c6-43d2-a51f-04a282430ac5",
   "metadata": {},
   "source": [
    "grid = GridSearchCV(pipe,\n",
    "                    param_grid={\n",
    "                        'rf__criterion': [\"gini\", \"entropy\", \"log_loss\"],\n",
    "                        'rf__max_features': [\"sqrt\", \"log2\"],            \n",
    "                        'rf__max_depth': np.arange(1, 10, 1),\n",
    "                        'rf__n_estimators': [100],\n",
    "                        'rf__random_state': [33]\n",
    "                    },\n",
    "                    cv=5, scoring='accuracy', verbose=True\n",
    "            )\n",
    "grid.fit(xtrain, ytrain)"
   ]
  },
  {
   "cell_type": "code",
   "execution_count": 300,
   "id": "388c4f09-0cd3-43dd-80a7-278773ad6f64",
   "metadata": {},
   "outputs": [
    {
     "name": "stdout",
     "output_type": "stream",
     "text": [
      "Fitting 5 folds for each of 54 candidates, totalling 270 fits\n"
     ]
    },
    {
     "data": {
      "text/html": [
       "<style>#sk-container-id-26 {color: black;background-color: white;}#sk-container-id-26 pre{padding: 0;}#sk-container-id-26 div.sk-toggleable {background-color: white;}#sk-container-id-26 label.sk-toggleable__label {cursor: pointer;display: block;width: 100%;margin-bottom: 0;padding: 0.3em;box-sizing: border-box;text-align: center;}#sk-container-id-26 label.sk-toggleable__label-arrow:before {content: \"▸\";float: left;margin-right: 0.25em;color: #696969;}#sk-container-id-26 label.sk-toggleable__label-arrow:hover:before {color: black;}#sk-container-id-26 div.sk-estimator:hover label.sk-toggleable__label-arrow:before {color: black;}#sk-container-id-26 div.sk-toggleable__content {max-height: 0;max-width: 0;overflow: hidden;text-align: left;background-color: #f0f8ff;}#sk-container-id-26 div.sk-toggleable__content pre {margin: 0.2em;color: black;border-radius: 0.25em;background-color: #f0f8ff;}#sk-container-id-26 input.sk-toggleable__control:checked~div.sk-toggleable__content {max-height: 200px;max-width: 100%;overflow: auto;}#sk-container-id-26 input.sk-toggleable__control:checked~label.sk-toggleable__label-arrow:before {content: \"▾\";}#sk-container-id-26 div.sk-estimator input.sk-toggleable__control:checked~label.sk-toggleable__label {background-color: #d4ebff;}#sk-container-id-26 div.sk-label input.sk-toggleable__control:checked~label.sk-toggleable__label {background-color: #d4ebff;}#sk-container-id-26 input.sk-hidden--visually {border: 0;clip: rect(1px 1px 1px 1px);clip: rect(1px, 1px, 1px, 1px);height: 1px;margin: -1px;overflow: hidden;padding: 0;position: absolute;width: 1px;}#sk-container-id-26 div.sk-estimator {font-family: monospace;background-color: #f0f8ff;border: 1px dotted black;border-radius: 0.25em;box-sizing: border-box;margin-bottom: 0.5em;}#sk-container-id-26 div.sk-estimator:hover {background-color: #d4ebff;}#sk-container-id-26 div.sk-parallel-item::after {content: \"\";width: 100%;border-bottom: 1px solid gray;flex-grow: 1;}#sk-container-id-26 div.sk-label:hover label.sk-toggleable__label {background-color: #d4ebff;}#sk-container-id-26 div.sk-serial::before {content: \"\";position: absolute;border-left: 1px solid gray;box-sizing: border-box;top: 0;bottom: 0;left: 50%;z-index: 0;}#sk-container-id-26 div.sk-serial {display: flex;flex-direction: column;align-items: center;background-color: white;padding-right: 0.2em;padding-left: 0.2em;position: relative;}#sk-container-id-26 div.sk-item {position: relative;z-index: 1;}#sk-container-id-26 div.sk-parallel {display: flex;align-items: stretch;justify-content: center;background-color: white;position: relative;}#sk-container-id-26 div.sk-item::before, #sk-container-id-26 div.sk-parallel-item::before {content: \"\";position: absolute;border-left: 1px solid gray;box-sizing: border-box;top: 0;bottom: 0;left: 50%;z-index: -1;}#sk-container-id-26 div.sk-parallel-item {display: flex;flex-direction: column;z-index: 1;position: relative;background-color: white;}#sk-container-id-26 div.sk-parallel-item:first-child::after {align-self: flex-end;width: 50%;}#sk-container-id-26 div.sk-parallel-item:last-child::after {align-self: flex-start;width: 50%;}#sk-container-id-26 div.sk-parallel-item:only-child::after {width: 0;}#sk-container-id-26 div.sk-dashed-wrapped {border: 1px dashed gray;margin: 0 0.4em 0.5em 0.4em;box-sizing: border-box;padding-bottom: 0.4em;background-color: white;}#sk-container-id-26 div.sk-label label {font-family: monospace;font-weight: bold;display: inline-block;line-height: 1.2em;}#sk-container-id-26 div.sk-label-container {text-align: center;}#sk-container-id-26 div.sk-container {/* jupyter's `normalize.less` sets `[hidden] { display: none; }` but bootstrap.min.css set `[hidden] { display: none !important; }` so we also need the `!important` here to be able to override the default hidden behavior on the sphinx rendered scikit-learn.org. See: https://github.com/scikit-learn/scikit-learn/issues/21755 */display: inline-block !important;position: relative;}#sk-container-id-26 div.sk-text-repr-fallback {display: none;}</style><div id=\"sk-container-id-26\" class=\"sk-top-container\"><div class=\"sk-text-repr-fallback\"><pre>GridSearchCV(cv=5, estimator=RandomForestClassifier(),\n",
       "             param_grid={&#x27;criterion&#x27;: [&#x27;gini&#x27;, &#x27;entropy&#x27;, &#x27;log_loss&#x27;],\n",
       "                         &#x27;max_depth&#x27;: array([1, 2, 3, 4, 5, 6, 7, 8, 9]),\n",
       "                         &#x27;max_features&#x27;: [&#x27;sqrt&#x27;, &#x27;log2&#x27;],\n",
       "                         &#x27;n_estimators&#x27;: [100], &#x27;random_state&#x27;: [33]},\n",
       "             scoring=&#x27;accuracy&#x27;, verbose=True)</pre><b>In a Jupyter environment, please rerun this cell to show the HTML representation or trust the notebook. <br />On GitHub, the HTML representation is unable to render, please try loading this page with nbviewer.org.</b></div><div class=\"sk-container\" hidden><div class=\"sk-item sk-dashed-wrapped\"><div class=\"sk-label-container\"><div class=\"sk-label sk-toggleable\"><input class=\"sk-toggleable__control sk-hidden--visually\" id=\"sk-estimator-id-52\" type=\"checkbox\" ><label for=\"sk-estimator-id-52\" class=\"sk-toggleable__label sk-toggleable__label-arrow\">GridSearchCV</label><div class=\"sk-toggleable__content\"><pre>GridSearchCV(cv=5, estimator=RandomForestClassifier(),\n",
       "             param_grid={&#x27;criterion&#x27;: [&#x27;gini&#x27;, &#x27;entropy&#x27;, &#x27;log_loss&#x27;],\n",
       "                         &#x27;max_depth&#x27;: array([1, 2, 3, 4, 5, 6, 7, 8, 9]),\n",
       "                         &#x27;max_features&#x27;: [&#x27;sqrt&#x27;, &#x27;log2&#x27;],\n",
       "                         &#x27;n_estimators&#x27;: [100], &#x27;random_state&#x27;: [33]},\n",
       "             scoring=&#x27;accuracy&#x27;, verbose=True)</pre></div></div></div><div class=\"sk-parallel\"><div class=\"sk-parallel-item\"><div class=\"sk-item\"><div class=\"sk-label-container\"><div class=\"sk-label sk-toggleable\"><input class=\"sk-toggleable__control sk-hidden--visually\" id=\"sk-estimator-id-53\" type=\"checkbox\" ><label for=\"sk-estimator-id-53\" class=\"sk-toggleable__label sk-toggleable__label-arrow\">estimator: RandomForestClassifier</label><div class=\"sk-toggleable__content\"><pre>RandomForestClassifier()</pre></div></div></div><div class=\"sk-serial\"><div class=\"sk-item\"><div class=\"sk-estimator sk-toggleable\"><input class=\"sk-toggleable__control sk-hidden--visually\" id=\"sk-estimator-id-54\" type=\"checkbox\" ><label for=\"sk-estimator-id-54\" class=\"sk-toggleable__label sk-toggleable__label-arrow\">RandomForestClassifier</label><div class=\"sk-toggleable__content\"><pre>RandomForestClassifier()</pre></div></div></div></div></div></div></div></div></div></div>"
      ],
      "text/plain": [
       "GridSearchCV(cv=5, estimator=RandomForestClassifier(),\n",
       "             param_grid={'criterion': ['gini', 'entropy', 'log_loss'],\n",
       "                         'max_depth': array([1, 2, 3, 4, 5, 6, 7, 8, 9]),\n",
       "                         'max_features': ['sqrt', 'log2'],\n",
       "                         'n_estimators': [100], 'random_state': [33]},\n",
       "             scoring='accuracy', verbose=True)"
      ]
     },
     "execution_count": 300,
     "metadata": {},
     "output_type": "execute_result"
    }
   ],
   "source": [
    "rf_model = RandomForestClassifier()\n",
    "rf_grid = GridSearchCV(rf_model,\n",
    "                    param_grid={\n",
    "                        'criterion': [\"gini\", \"entropy\", \"log_loss\"],\n",
    "                        'max_features': [\"sqrt\", \"log2\"],            \n",
    "                        'max_depth': np.arange(1, 10, 1),\n",
    "                        'n_estimators': [100],\n",
    "                        'random_state': [33]\n",
    "                    },\n",
    "                    cv=5, scoring='accuracy', verbose=True\n",
    "            )\n",
    "rf_grid.fit(X_train, y_train)"
   ]
  },
  {
   "cell_type": "code",
   "execution_count": 301,
   "id": "6d091d09-56ac-4655-b230-7075e6c80317",
   "metadata": {},
   "outputs": [
    {
     "data": {
      "text/plain": [
       "0.8339087314041805"
      ]
     },
     "execution_count": 301,
     "metadata": {},
     "output_type": "execute_result"
    }
   ],
   "source": [
    "rf_grid.best_score_"
   ]
  },
  {
   "cell_type": "code",
   "execution_count": 161,
   "id": "0e2a08ec-26fc-4c47-bd0c-542c3d00fe14",
   "metadata": {},
   "outputs": [
    {
     "data": {
      "text/plain": [
       "{'criterion': 'gini',\n",
       " 'max_depth': 8,\n",
       " 'max_features': 'sqrt',\n",
       " 'n_estimators': 100,\n",
       " 'random_state': 33}"
      ]
     },
     "execution_count": 161,
     "metadata": {},
     "output_type": "execute_result"
    }
   ],
   "source": [
    "rf_grid.best_params_"
   ]
  },
  {
   "cell_type": "code",
   "execution_count": 302,
   "id": "42a4b783-72d9-4559-9bec-86f4d87481c1",
   "metadata": {},
   "outputs": [
    {
     "data": {
      "text/plain": [
       "0.9270482603815937"
      ]
     },
     "execution_count": 302,
     "metadata": {},
     "output_type": "execute_result"
    }
   ],
   "source": [
    "ypred = rf_grid.predict(X_train)\n",
    "accuracy_score(y_train, ypred)"
   ]
  },
  {
   "cell_type": "markdown",
   "id": "e9aa9ef1-00ba-4ab6-9226-1d673ae10c57",
   "metadata": {},
   "source": [
    "## xgboost classifier"
   ]
  },
  {
   "cell_type": "code",
   "execution_count": 304,
   "id": "30ce599e-1089-43fd-874d-884c09b53d11",
   "metadata": {},
   "outputs": [
    {
     "data": {
      "text/plain": [
       "0.9876543209876543"
      ]
     },
     "execution_count": 304,
     "metadata": {},
     "output_type": "execute_result"
    }
   ],
   "source": [
    "from xgboost import XGBClassifier\n",
    "xgb_model =  XGBClassifier(n_estimators=100,  random_state=33, max_depth=10)\n",
    "xgb_model.fit(X_train, y_train)\n",
    "ypred = xgb_model.predict(X_train)\n",
    "accuracy_score(y_train, ypred)"
   ]
  },
  {
   "cell_type": "code",
   "execution_count": 306,
   "id": "812c4116-3eb7-4d10-bdc5-c297ebff8cfa",
   "metadata": {},
   "outputs": [
    {
     "data": {
      "text/plain": [
       "0.8171050153788212"
      ]
     },
     "execution_count": 306,
     "metadata": {},
     "output_type": "execute_result"
    }
   ],
   "source": [
    "cv = cross_val_score(xgb_model, X_train, y_train, scoring='accuracy', cv=5)\n",
    "cv.mean()"
   ]
  },
  {
   "cell_type": "code",
   "execution_count": null,
   "id": "bc832fbd-1aea-458b-ad14-73fc1ec424d2",
   "metadata": {},
   "outputs": [],
   "source": []
  },
  {
   "cell_type": "code",
   "execution_count": null,
   "id": "3aa72cb0-7b05-4b85-a826-ee978e28bbb0",
   "metadata": {},
   "outputs": [],
   "source": []
  },
  {
   "cell_type": "code",
   "execution_count": null,
   "id": "212b0702-5761-4a82-8e2b-9a6d1974a2c8",
   "metadata": {},
   "outputs": [],
   "source": []
  },
  {
   "cell_type": "markdown",
   "id": "7079085b-d256-43f2-880d-f15db84f467c",
   "metadata": {},
   "source": [
    "# kaggle submissions"
   ]
  },
  {
   "cell_type": "code",
   "execution_count": 285,
   "id": "c41b4a6c-c6b3-4dbd-a270-0e437bf35034",
   "metadata": {},
   "outputs": [
    {
     "data": {
      "text/plain": [
       "418"
      ]
     },
     "execution_count": 285,
     "metadata": {},
     "output_type": "execute_result"
    }
   ],
   "source": [
    "#y_pred = xgb_model.predict(df_Test)\n",
    "y_pred = rf_grid.predict(df_Test)\n",
    "len(y_pred)"
   ]
  },
  {
   "cell_type": "code",
   "execution_count": 288,
   "id": "c0f0a9b0-bdff-423e-845a-aa55e1ea3608",
   "metadata": {},
   "outputs": [],
   "source": [
    "# Create Sample Submission file \n",
    "pred_df = pd.DataFrame(y_pred, columns=['Survived'])\n",
    "submission_df = pd.concat([df_id, pred_df], axis=1)\n",
    "submission_df.to_csv('KaggleSubmissions/titanicsubmission1.csv',index=False)"
   ]
  },
  {
   "cell_type": "code",
   "execution_count": null,
   "id": "2c94d73b-63c8-4014-81f4-733f6c171102",
   "metadata": {},
   "outputs": [],
   "source": []
  }
 ],
 "metadata": {
  "kernelspec": {
   "display_name": "Python 3",
   "language": "python",
   "name": "python3"
  },
  "language_info": {
   "codemirror_mode": {
    "name": "ipython",
    "version": 3
   },
   "file_extension": ".py",
   "mimetype": "text/x-python",
   "name": "python",
   "nbconvert_exporter": "python",
   "pygments_lexer": "ipython3",
   "version": "3.10.6 (tags/v3.10.6:9c7b4bd, Aug  1 2022, 21:53:49) [MSC v.1932 64 bit (AMD64)]"
  },
  "toc": {
   "base_numbering": 1,
   "nav_menu": {},
   "number_sections": true,
   "sideBar": true,
   "skip_h1_title": false,
   "title_cell": "Table of Contents",
   "title_sidebar": "Contents",
   "toc_cell": true,
   "toc_position": {
    "height": "calc(100% - 180px)",
    "left": "10px",
    "top": "150px",
    "width": "279.398px"
   },
   "toc_section_display": true,
   "toc_window_display": false
  },
  "toc-autonumbering": true,
  "toc-showcode": false,
  "toc-showmarkdowntxt": false,
  "toc-showtags": false,
  "vscode": {
   "interpreter": {
    "hash": "369f2c481f4da34e4445cda3fffd2e751bd1c4d706f27375911949ba6bb62e1c"
   }
  }
 },
 "nbformat": 4,
 "nbformat_minor": 5
}
