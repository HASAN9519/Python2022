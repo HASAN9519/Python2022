{
 "cells": [
  {
   "cell_type": "markdown",
   "id": "198bfa74",
   "metadata": {
    "toc": true
   },
   "source": [
    "<h1>Table of Contents<span class=\"tocSkip\"></span></h1>\n",
    "<div class=\"toc\"><ul class=\"toc-item\"><li><span><a href=\"#Hyperparameter-Tuning-:-cross_val_score,-GridSearchCV\" data-toc-modified-id=\"Hyperparameter-Tuning-:-cross_val_score,-GridSearchCV-1\"><span class=\"toc-item-num\">1&nbsp;&nbsp;</span>Hyperparameter Tuning : cross_val_score, GridSearchCV</a></span></li><li><span><a href=\"#Classification-Models\" data-toc-modified-id=\"Classification-Models-2\"><span class=\"toc-item-num\">2&nbsp;&nbsp;</span>Classification Models</a></span><ul class=\"toc-item\"><li><span><a href=\"#Logistic-Regression\" data-toc-modified-id=\"Logistic-Regression-2.1\"><span class=\"toc-item-num\">2.1&nbsp;&nbsp;</span>Logistic Regression</a></span></li><li><span><a href=\"#KNN\" data-toc-modified-id=\"KNN-2.2\"><span class=\"toc-item-num\">2.2&nbsp;&nbsp;</span>KNN</a></span></li><li><span><a href=\"#classification-model--evaluation\" data-toc-modified-id=\"classification-model--evaluation-2.3\"><span class=\"toc-item-num\">2.3&nbsp;&nbsp;</span>classification model  evaluation</a></span></li></ul></li></ul></div>"
   ]
  },
  {
   "cell_type": "markdown",
   "id": "2e07c8f6",
   "metadata": {},
   "source": [
    "## Hyperparameter Tuning : cross_val_score, GridSearchCV"
   ]
  },
  {
   "cell_type": "raw",
   "id": "7e2c0ca2",
   "metadata": {},
   "source": [
    "from sklearn.model_selection import cross_val_score, GridSearchCV\n",
    "\n",
    "model = LogisticRegression(penalty='l2', max_iter=1000)\n",
    "cv = cross_val_score(model, df.drop(columns=['species']), df.species, scoring='accuracy', cv=5)\n",
    "cv\n",
    "\n",
    "grid = GridSearchCV(knn_model,\n",
    "                    param_grid={\n",
    "                        'algorithm': ['ball_tree', 'kd_tree', 'brute'],\n",
    "                        'metric': ['minkowski', 'euclidean', 'manhattan'],\n",
    "                        'n_neighbors': np.arange(5, 25, 3),\n",
    "                        'weights': ['uniform', 'distance']\n",
    "                    },\n",
    "                    cv=5, scoring='accuracy', verbose=True\n",
    "            )\n",
    "grid.fit(df.drop(columns=['species']), df.species)\n",
    "grid.best_params_\n",
    "grid.best_score_\n",
    "best_model = grid.best_estimator_\n",
    "best_model"
   ]
  },
  {
   "cell_type": "raw",
   "id": "b6630410",
   "metadata": {},
   "source": []
  },
  {
   "cell_type": "markdown",
   "id": "90c745db",
   "metadata": {},
   "source": []
  },
  {
   "cell_type": "markdown",
   "id": "1f125238",
   "metadata": {},
   "source": [
    "## Classification Models"
   ]
  },
  {
   "cell_type": "markdown",
   "id": "5830b946",
   "metadata": {},
   "source": [
    "###  Logistic Regression"
   ]
  },
  {
   "cell_type": "raw",
   "id": "aee44a4e",
   "metadata": {},
   "source": [
    "from sklearn.linear_model import LogisticRegression\n",
    "logistic_model = LogisticRegression()\n",
    "logistic_model.fit(xtrain, ytrain)\n",
    "\n",
    "# to see model parameters after fit\n",
    "logistic_model.get_params()\n",
    "\n"
   ]
  },
  {
   "cell_type": "raw",
   "id": "b1d89797",
   "metadata": {},
   "source": []
  },
  {
   "cell_type": "markdown",
   "id": "ad0467d8",
   "metadata": {},
   "source": [
    "### KNN"
   ]
  },
  {
   "cell_type": "raw",
   "id": "6190c4b7",
   "metadata": {},
   "source": [
    "from sklearn.neighbors import KNeighborsClassifier\n",
    "knn_model = KNeighborsClassifier()\n",
    "\n",
    "knn_model.get_params()"
   ]
  },
  {
   "cell_type": "raw",
   "id": "131c12b8",
   "metadata": {},
   "source": []
  },
  {
   "cell_type": "raw",
   "id": "8a36c5c9",
   "metadata": {},
   "source": []
  },
  {
   "cell_type": "raw",
   "id": "bc4a416e",
   "metadata": {},
   "source": []
  },
  {
   "cell_type": "markdown",
   "id": "37d65ba8",
   "metadata": {},
   "source": [
    "### classification model  evaluation\n",
    "classification_report, f1_score, accuracy_score, confusion_matrix, precision_score, recall_score,\n",
    "    ConfusionMatrixDisplay"
   ]
  },
  {
   "cell_type": "raw",
   "id": "5021fbf1",
   "metadata": {},
   "source": [
    "from sklearn.metrics import (\n",
    "    classification_report, f1_score, accuracy_score, confusion_matrix, precision_score, recall_score,\n",
    "    ConfusionMatrixDisplay\n",
    ")\n",
    "\n",
    "ypred = logistic_model.predict(xtest)\n",
    "accuracy_score(ypred, ytest)\n",
    "\n",
    "f1_score(y_pred=ypred, y_true=ytest, average='weighted')\n",
    "\n",
    "classification_report(ypred, ytest, output_dict=True)\n",
    "\n",
    "report1 = classification_report(ypred, ytest)\n",
    "print(report1)\n",
    "\n",
    "cm = confusion_matrix(y_pred=ypred, y_true=ytest)\n",
    "cm\n",
    "\n",
    "cmd = ConfusionMatrixDisplay(confusion_matrix=cm, display_labels=['Setosa', 'Versicolor', 'Virginica'])\n",
    "cmd.plot()\n",
    "\n",
    "\n"
   ]
  },
  {
   "cell_type": "raw",
   "id": "0437fb25",
   "metadata": {},
   "source": []
  },
  {
   "cell_type": "raw",
   "id": "7be096af",
   "metadata": {},
   "source": []
  },
  {
   "cell_type": "raw",
   "id": "3e579171",
   "metadata": {},
   "source": []
  },
  {
   "cell_type": "raw",
   "id": "c97f0e40",
   "metadata": {},
   "source": []
  },
  {
   "cell_type": "raw",
   "id": "1c8b109a",
   "metadata": {},
   "source": []
  },
  {
   "cell_type": "raw",
   "id": "3d88bb51",
   "metadata": {},
   "source": []
  },
  {
   "cell_type": "raw",
   "id": "7f8cfeb9",
   "metadata": {},
   "source": []
  },
  {
   "cell_type": "raw",
   "id": "6cf44b51",
   "metadata": {},
   "source": []
  },
  {
   "cell_type": "raw",
   "id": "d3e25dba",
   "metadata": {},
   "source": []
  },
  {
   "cell_type": "raw",
   "id": "fa1f9bc6",
   "metadata": {},
   "source": []
  },
  {
   "cell_type": "raw",
   "id": "478c9986",
   "metadata": {},
   "source": []
  },
  {
   "cell_type": "raw",
   "id": "38138f40",
   "metadata": {},
   "source": []
  },
  {
   "cell_type": "raw",
   "id": "98c21695",
   "metadata": {},
   "source": []
  },
  {
   "cell_type": "raw",
   "id": "abcdb2e2",
   "metadata": {},
   "source": []
  },
  {
   "cell_type": "raw",
   "id": "71b1e1a4",
   "metadata": {},
   "source": []
  }
 ],
 "metadata": {
  "kernelspec": {
   "display_name": "Python 3",
   "language": "python",
   "name": "python3"
  },
  "language_info": {
   "codemirror_mode": {
    "name": "ipython",
    "version": 3
   },
   "file_extension": ".py",
   "mimetype": "text/x-python",
   "name": "python",
   "nbconvert_exporter": "python",
   "pygments_lexer": "ipython3",
   "version": "3.10.6 (tags/v3.10.6:9c7b4bd, Aug  1 2022, 21:53:49) [MSC v.1932 64 bit (AMD64)]"
  },
  "toc": {
   "base_numbering": 1,
   "nav_menu": {},
   "number_sections": true,
   "sideBar": true,
   "skip_h1_title": false,
   "title_cell": "Table of Contents",
   "title_sidebar": "Contents",
   "toc_cell": true,
   "toc_position": {},
   "toc_section_display": true,
   "toc_window_display": false
  },
  "vscode": {
   "interpreter": {
    "hash": "369f2c481f4da34e4445cda3fffd2e751bd1c4d706f27375911949ba6bb62e1c"
   }
  }
 },
 "nbformat": 4,
 "nbformat_minor": 5
}
