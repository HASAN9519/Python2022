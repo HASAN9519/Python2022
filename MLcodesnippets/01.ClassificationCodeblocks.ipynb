{
 "cells": [
  {
   "cell_type": "markdown",
   "id": "198bfa74",
   "metadata": {
    "toc": true
   },
   "source": [
    "<h1>Table of Contents<span class=\"tocSkip\"></span></h1>\n",
    "<div class=\"toc\"><ul class=\"toc-item\"><li><span><a href=\"#Hyperparameter-Tuning-:-cross_val_score,-GridSearchCV\" data-toc-modified-id=\"Hyperparameter-Tuning-:-cross_val_score,-GridSearchCV-1\"><span class=\"toc-item-num\">1&nbsp;&nbsp;</span>Hyperparameter Tuning : cross_val_score, GridSearchCV</a></span></li><li><span><a href=\"#Classification-Models\" data-toc-modified-id=\"Classification-Models-2\"><span class=\"toc-item-num\">2&nbsp;&nbsp;</span>Classification Models</a></span><ul class=\"toc-item\"><li><span><a href=\"#Logistic-Regression\" data-toc-modified-id=\"Logistic-Regression-2.1\"><span class=\"toc-item-num\">2.1&nbsp;&nbsp;</span>Logistic Regression</a></span></li><li><span><a href=\"#KNN\" data-toc-modified-id=\"KNN-2.2\"><span class=\"toc-item-num\">2.2&nbsp;&nbsp;</span>KNN</a></span></li></ul></li><li><span><a href=\"#classification-model--evaluation\" data-toc-modified-id=\"classification-model--evaluation-3\"><span class=\"toc-item-num\">3&nbsp;&nbsp;</span>classification model  evaluation</a></span><ul class=\"toc-item\"><li><span><a href=\"#classification_report,-f1_score,-accuracy_score,-confusion_matrix,-precision_score,-recall_score,-ConfusionMatrixDisplay\" data-toc-modified-id=\"classification_report,-f1_score,-accuracy_score,-confusion_matrix,-precision_score,-recall_score,-ConfusionMatrixDisplay-3.1\"><span class=\"toc-item-num\">3.1&nbsp;&nbsp;</span>classification_report, f1_score, accuracy_score, confusion_matrix, precision_score, recall_score, ConfusionMatrixDisplay</a></span></li></ul></li></ul></div>"
   ]
  },
  {
   "cell_type": "markdown",
   "id": "2e07c8f6",
   "metadata": {},
   "source": [
    "# Hyperparameter Tuning : cross_val_score, GridSearchCV"
   ]
  },
  {
   "cell_type": "markdown",
   "id": "0bbeb955",
   "metadata": {},
   "source": [
    "```\n",
    "from sklearn.model_selection import cross_val_score, GridSearchCV\n",
    "\n",
    "model = LogisticRegression(penalty='l2', max_iter=1000)\n",
    "cv = cross_val_score(model, df.drop(columns=['species']), df.species, scoring='accuracy', cv=5)\n",
    "cv\n",
    "\n",
    "grid = GridSearchCV(knn_model,\n",
    "                    param_grid={\n",
    "                        'algorithm': ['ball_tree', 'kd_tree', 'brute'],\n",
    "                        'metric': ['minkowski', 'euclidean', 'manhattan'],\n",
    "                        'n_neighbors': np.arange(5, 25, 3),\n",
    "                        'weights': ['uniform', 'distance']\n",
    "                    },\n",
    "                    cv=5, scoring='accuracy', verbose=True\n",
    "            )\n",
    "grid.fit(df.drop(columns=['species']), df.species)\n",
    "grid.best_params_\n",
    "grid.best_score_\n",
    "best_model = grid.best_estimator_\n",
    "best_model\n",
    "```"
   ]
  },
  {
   "cell_type": "markdown",
   "id": "1f125238",
   "metadata": {},
   "source": [
    "# Classification Models"
   ]
  },
  {
   "cell_type": "markdown",
   "id": "5830b946",
   "metadata": {},
   "source": [
    "##  Logistic Regression"
   ]
  },
  {
   "cell_type": "markdown",
   "id": "88da1477",
   "metadata": {},
   "source": [
    "```\n",
    "from sklearn.linear_model import LogisticRegression\n",
    "logistic_model = LogisticRegression()\n",
    "logistic_model.fit(xtrain, ytrain)\n",
    "\n",
    "# to see model parameters after fit\n",
    "logistic_model.get_params()\n",
    "```"
   ]
  },
  {
   "cell_type": "markdown",
   "id": "ad0467d8",
   "metadata": {},
   "source": [
    "## KNN"
   ]
  },
  {
   "cell_type": "markdown",
   "id": "d754bc6a",
   "metadata": {},
   "source": [
    "```\n",
    "from sklearn.neighbors import KNeighborsClassifier\n",
    "knn_model = KNeighborsClassifier()\n",
    "\n",
    "knn_model.get_params()\n",
    "```"
   ]
  },
  {
   "cell_type": "markdown",
   "id": "37d65ba8",
   "metadata": {},
   "source": [
    "# classification model  evaluation"
   ]
  },
  {
   "cell_type": "markdown",
   "id": "54a1650a",
   "metadata": {},
   "source": [
    "## classification_report, f1_score, accuracy_score, confusion_matrix, precision_score, recall_score, ConfusionMatrixDisplay"
   ]
  },
  {
   "cell_type": "markdown",
   "id": "100117ee",
   "metadata": {},
   "source": [
    "```\n",
    "from sklearn.metrics import (\n",
    "    classification_report, f1_score, accuracy_score, confusion_matrix, precision_score, recall_score,\n",
    "    ConfusionMatrixDisplay\n",
    ")\n",
    "\n",
    "ypred = logistic_model.predict(xtest)\n",
    "accuracy_score(ypred, ytest)\n",
    "\n",
    "f1_score(y_pred=ypred, y_true=ytest, average='weighted')\n",
    "\n",
    "classification_report(ypred, ytest, output_dict=True)\n",
    "\n",
    "report1 = classification_report(ypred, ytest)\n",
    "print(report1)\n",
    "\n",
    "cm = confusion_matrix(y_pred=ypred, y_true=ytest)\n",
    "cm\n",
    "\n",
    "cmd = ConfusionMatrixDisplay(confusion_matrix=cm, display_labels=['Setosa', 'Versicolor', 'Virginica'])\n",
    "cmd.plot()\n",
    "```"
   ]
  }
 ],
 "metadata": {
  "kernelspec": {
   "display_name": "Python 3 (ipykernel)",
   "language": "python",
   "name": "python3"
  },
  "language_info": {
   "codemirror_mode": {
    "name": "ipython",
    "version": 3
   },
   "file_extension": ".py",
   "mimetype": "text/x-python",
   "name": "python",
   "nbconvert_exporter": "python",
   "pygments_lexer": "ipython3",
   "version": "3.10.6"
  },
  "toc": {
   "base_numbering": 1,
   "nav_menu": {},
   "number_sections": true,
   "sideBar": true,
   "skip_h1_title": false,
   "title_cell": "Table of Contents",
   "title_sidebar": "Contents",
   "toc_cell": true,
   "toc_position": {
    "height": "calc(100% - 180px)",
    "left": "10px",
    "top": "150px",
    "width": "279.409px"
   },
   "toc_section_display": true,
   "toc_window_display": false
  },
  "vscode": {
   "interpreter": {
    "hash": "369f2c481f4da34e4445cda3fffd2e751bd1c4d706f27375911949ba6bb62e1c"
   }
  }
 },
 "nbformat": 4,
 "nbformat_minor": 5
}
