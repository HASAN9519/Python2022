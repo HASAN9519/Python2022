{
 "cells": [
  {
   "cell_type": "markdown",
   "id": "3d5a74de",
   "metadata": {
    "toc": true
   },
   "source": [
    "<h1>Table of Contents<span class=\"tocSkip\"></span></h1>\n",
    "<div class=\"toc\"><ul class=\"toc-item\"><li><span><a href=\"#Filtering-based-on-a-criteria\" data-toc-modified-id=\"Filtering-based-on-a-criteria-1\"><span class=\"toc-item-num\">1&nbsp;&nbsp;</span>Filtering based on a criteria</a></span></li><li><span><a href=\"#index\" data-toc-modified-id=\"index-2\"><span class=\"toc-item-num\">2&nbsp;&nbsp;</span>index</a></span></li><li><span><a href=\"#filtering-based-on-values\" data-toc-modified-id=\"filtering-based-on-values-3\"><span class=\"toc-item-num\">3&nbsp;&nbsp;</span>filtering based on values</a></span></li></ul></div>"
   ]
  },
  {
   "cell_type": "markdown",
   "id": "2dc45cc9",
   "metadata": {},
   "source": [
    "# Filtering based on a criteria"
   ]
  },
  {
   "cell_type": "markdown",
   "id": "c78b7914",
   "metadata": {},
   "source": [
    "```\n",
    "# create condition boolean series\n",
    "condition = df_can['Continent'] == 'Asia'\n",
    "print(condition)\n",
    "# pass condition into dataFrame\n",
    "df_can[condition]\n",
    "```"
   ]
  },
  {
   "cell_type": "markdown",
   "id": "7d3d9e67",
   "metadata": {},
   "source": [
    "```\n",
    "# we can pass multiple criteria in the same line.\n",
    "# let's filter for AreaNAme = Asia and RegName = Southern Asia\n",
    "\n",
    "df_can[(df_can['Continent']=='Asia') & (df_can['Region']=='Southern Asia')]\n",
    "\n",
    "# note: When using 'and' and 'or' operators, pandas requires we use '&' and '|' instead of 'and' and 'or'\n",
    "# don't forget to enclose the two conditions in parentheses\n",
    "```"
   ]
  },
  {
   "cell_type": "markdown",
   "id": "4030086e",
   "metadata": {},
   "source": [
    "```\n",
    "df_can.sort_values(by='Total', ascending=False, axis=0, inplace=True)\n",
    "```"
   ]
  },
  {
   "cell_type": "markdown",
   "id": "558de5aa",
   "metadata": {},
   "source": [
    "# index"
   ]
  },
  {
   "cell_type": "markdown",
   "id": "d9fd660f",
   "metadata": {},
   "source": [
    "```\n",
    "# getting index of value_count() to numpy array\n",
    "df1.DatabaseDesireNextYear.value_counts().index.to_numpy()\n",
    "```"
   ]
  },
  {
   "cell_type": "markdown",
   "id": "01e7286d",
   "metadata": {},
   "source": [
    "# filtering based on values"
   ]
  },
  {
   "cell_type": "markdown",
   "id": "4c3dbc45",
   "metadata": {},
   "source": [
    "```\n",
    "# returning those index where value_counts() == 1\n",
    "df4['Respondent'].value_counts().index[df4['Respondent'].value_counts() == 1]\n",
    "```"
   ]
  },
  {
   "cell_type": "code",
   "execution_count": 7,
   "id": "924b9d44",
   "metadata": {
    "ExecuteTime": {
     "end_time": "2023-02-08T16:39:34.019996Z",
     "start_time": "2023-02-08T16:39:34.008997Z"
    }
   },
   "outputs": [
    {
     "data": {
      "text/html": [
       "<div>\n",
       "<style scoped>\n",
       "    .dataframe tbody tr th:only-of-type {\n",
       "        vertical-align: middle;\n",
       "    }\n",
       "\n",
       "    .dataframe tbody tr th {\n",
       "        vertical-align: top;\n",
       "    }\n",
       "\n",
       "    .dataframe thead th {\n",
       "        text-align: right;\n",
       "    }\n",
       "</style>\n",
       "<table border=\"1\" class=\"dataframe\">\n",
       "  <thead>\n",
       "    <tr style=\"text-align: right;\">\n",
       "      <th></th>\n",
       "      <th>name</th>\n",
       "      <th>subjects</th>\n",
       "      <th>marks</th>\n",
       "      <th>age</th>\n",
       "    </tr>\n",
       "  </thead>\n",
       "  <tbody>\n",
       "    <tr>\n",
       "      <th>0</th>\n",
       "      <td>sravan</td>\n",
       "      <td>java</td>\n",
       "      <td>98</td>\n",
       "      <td>11</td>\n",
       "    </tr>\n",
       "    <tr>\n",
       "      <th>1</th>\n",
       "      <td>ojsawi</td>\n",
       "      <td>php</td>\n",
       "      <td>90</td>\n",
       "      <td>23</td>\n",
       "    </tr>\n",
       "    <tr>\n",
       "      <th>2</th>\n",
       "      <td>bobby</td>\n",
       "      <td>java</td>\n",
       "      <td>78</td>\n",
       "      <td>11</td>\n",
       "    </tr>\n",
       "    <tr>\n",
       "      <th>3</th>\n",
       "      <td>rohith</td>\n",
       "      <td>php</td>\n",
       "      <td>91</td>\n",
       "      <td>21</td>\n",
       "    </tr>\n",
       "    <tr>\n",
       "      <th>4</th>\n",
       "      <td>gnanesh</td>\n",
       "      <td>java</td>\n",
       "      <td>87</td>\n",
       "      <td>21</td>\n",
       "    </tr>\n",
       "    <tr>\n",
       "      <th>5</th>\n",
       "      <td>sravan</td>\n",
       "      <td>html/css</td>\n",
       "      <td>78</td>\n",
       "      <td>21</td>\n",
       "    </tr>\n",
       "    <tr>\n",
       "      <th>6</th>\n",
       "      <td>sravan</td>\n",
       "      <td>python</td>\n",
       "      <td>89</td>\n",
       "      <td>24</td>\n",
       "    </tr>\n",
       "    <tr>\n",
       "      <th>7</th>\n",
       "      <td>ojaswi</td>\n",
       "      <td>R</td>\n",
       "      <td>90</td>\n",
       "      <td>21</td>\n",
       "    </tr>\n",
       "  </tbody>\n",
       "</table>\n",
       "</div>"
      ],
      "text/plain": [
       "      name  subjects  marks  age\n",
       "0   sravan      java     98   11\n",
       "1   ojsawi       php     90   23\n",
       "2    bobby      java     78   11\n",
       "3   rohith       php     91   21\n",
       "4  gnanesh      java     87   21\n",
       "5   sravan  html/css     78   21\n",
       "6   sravan    python     89   24\n",
       "7   ojaswi         R     90   21"
      ]
     },
     "execution_count": 7,
     "metadata": {},
     "output_type": "execute_result"
    }
   ],
   "source": [
    "import pandas as pd \n",
    "data = pd.DataFrame({\n",
    "    'name': ['sravan', 'ojsawi', 'bobby',  'rohith',\n",
    "             'gnanesh', 'sravan', 'sravan', 'ojaswi'],\n",
    "    'subjects': ['java', 'php', 'java', 'php', 'java',\n",
    "                 'html/css', 'python', 'R'],\n",
    "    'marks': [98, 90, 78, 91, 87, 78, 89, 90],\n",
    "    'age': [11, 23, 11, 21, 21, 21, 24, 21]\n",
    "})\n",
    "data"
   ]
  },
  {
   "cell_type": "code",
   "execution_count": 12,
   "id": "cf58d5fc",
   "metadata": {
    "ExecuteTime": {
     "end_time": "2023-02-08T16:40:17.964131Z",
     "start_time": "2023-02-08T16:40:17.952138Z"
    }
   },
   "outputs": [
    {
     "data": {
      "text/plain": [
       "21    4\n",
       "11    2\n",
       "23    1\n",
       "24    1\n",
       "Name: age, dtype: int64"
      ]
     },
     "execution_count": 12,
     "metadata": {},
     "output_type": "execute_result"
    }
   ],
   "source": [
    "data.age.value_counts()"
   ]
  },
  {
   "cell_type": "code",
   "execution_count": 8,
   "id": "ddb4824f",
   "metadata": {
    "ExecuteTime": {
     "end_time": "2023-02-08T16:39:37.122786Z",
     "start_time": "2023-02-08T16:39:37.113804Z"
    }
   },
   "outputs": [
    {
     "data": {
      "text/plain": [
       "array([ True, False,  True, False, False, False, False, False])"
      ]
     },
     "execution_count": 8,
     "metadata": {},
     "output_type": "execute_result"
    }
   ],
   "source": [
    "# filters values by returning bool values for those rows with occurrence of age value 2 times from dataframe\n",
    "(data['age'].value_counts()[data['age']] == 2).values"
   ]
  },
  {
   "cell_type": "code",
   "execution_count": 13,
   "id": "ddaa87d5",
   "metadata": {
    "ExecuteTime": {
     "end_time": "2023-02-08T16:40:54.556820Z",
     "start_time": "2023-02-08T16:40:54.547810Z"
    }
   },
   "outputs": [
    {
     "data": {
      "text/html": [
       "<div>\n",
       "<style scoped>\n",
       "    .dataframe tbody tr th:only-of-type {\n",
       "        vertical-align: middle;\n",
       "    }\n",
       "\n",
       "    .dataframe tbody tr th {\n",
       "        vertical-align: top;\n",
       "    }\n",
       "\n",
       "    .dataframe thead th {\n",
       "        text-align: right;\n",
       "    }\n",
       "</style>\n",
       "<table border=\"1\" class=\"dataframe\">\n",
       "  <thead>\n",
       "    <tr style=\"text-align: right;\">\n",
       "      <th></th>\n",
       "      <th>name</th>\n",
       "      <th>subjects</th>\n",
       "      <th>marks</th>\n",
       "      <th>age</th>\n",
       "    </tr>\n",
       "  </thead>\n",
       "  <tbody>\n",
       "    <tr>\n",
       "      <th>0</th>\n",
       "      <td>sravan</td>\n",
       "      <td>java</td>\n",
       "      <td>98</td>\n",
       "      <td>11</td>\n",
       "    </tr>\n",
       "    <tr>\n",
       "      <th>2</th>\n",
       "      <td>bobby</td>\n",
       "      <td>java</td>\n",
       "      <td>78</td>\n",
       "      <td>11</td>\n",
       "    </tr>\n",
       "  </tbody>\n",
       "</table>\n",
       "</div>"
      ],
      "text/plain": [
       "     name subjects  marks  age\n",
       "0  sravan     java     98   11\n",
       "2   bobby     java     78   11"
      ]
     },
     "execution_count": 13,
     "metadata": {},
     "output_type": "execute_result"
    }
   ],
   "source": [
    "data[((data['age'].value_counts()[data['age']] == 2).values)]"
   ]
  },
  {
   "cell_type": "code",
   "execution_count": 5,
   "id": "51fa6ac1",
   "metadata": {
    "ExecuteTime": {
     "end_time": "2023-02-08T16:35:34.136202Z",
     "start_time": "2023-02-08T16:35:34.124201Z"
    }
   },
   "outputs": [
    {
     "name": "stdout",
     "output_type": "stream",
     "text": [
      "2\n"
     ]
    },
    {
     "data": {
      "text/html": [
       "<div>\n",
       "<style scoped>\n",
       "    .dataframe tbody tr th:only-of-type {\n",
       "        vertical-align: middle;\n",
       "    }\n",
       "\n",
       "    .dataframe tbody tr th {\n",
       "        vertical-align: top;\n",
       "    }\n",
       "\n",
       "    .dataframe thead th {\n",
       "        text-align: right;\n",
       "    }\n",
       "</style>\n",
       "<table border=\"1\" class=\"dataframe\">\n",
       "  <thead>\n",
       "    <tr style=\"text-align: right;\">\n",
       "      <th></th>\n",
       "      <th>name</th>\n",
       "      <th>subjects</th>\n",
       "      <th>marks</th>\n",
       "      <th>age</th>\n",
       "    </tr>\n",
       "  </thead>\n",
       "  <tbody>\n",
       "    <tr>\n",
       "      <th>0</th>\n",
       "      <td>sravan</td>\n",
       "      <td>java</td>\n",
       "      <td>98</td>\n",
       "      <td>11</td>\n",
       "    </tr>\n",
       "    <tr>\n",
       "      <th>2</th>\n",
       "      <td>bobby</td>\n",
       "      <td>java</td>\n",
       "      <td>78</td>\n",
       "      <td>11</td>\n",
       "    </tr>\n",
       "  </tbody>\n",
       "</table>\n",
       "</div>"
      ],
      "text/plain": [
       "     name subjects  marks  age\n",
       "0  sravan     java     98   11\n",
       "2   bobby     java     78   11"
      ]
     },
     "execution_count": 5,
     "metadata": {},
     "output_type": "execute_result"
    }
   ],
   "source": [
    "print(len(data[((data['age'].value_counts()[data['age']] == 2).values) & ((data['subjects'] == 'java').values)]))\n",
    "data[((data['age'].value_counts()[data['age']] == 2).values) & ((data['subjects'] == 'java').values)]"
   ]
  }
 ],
 "metadata": {
  "kernelspec": {
   "display_name": "Python 3 (ipykernel)",
   "language": "python",
   "name": "python3"
  },
  "language_info": {
   "codemirror_mode": {
    "name": "ipython",
    "version": 3
   },
   "file_extension": ".py",
   "mimetype": "text/x-python",
   "name": "python",
   "nbconvert_exporter": "python",
   "pygments_lexer": "ipython3",
   "version": "3.10.6"
  },
  "toc": {
   "base_numbering": 1,
   "nav_menu": {},
   "number_sections": true,
   "sideBar": true,
   "skip_h1_title": false,
   "title_cell": "Table of Contents",
   "title_sidebar": "Contents",
   "toc_cell": true,
   "toc_position": {
    "height": "calc(100% - 180px)",
    "left": "10px",
    "top": "150px",
    "width": "279.398px"
   },
   "toc_section_display": true,
   "toc_window_display": false
  }
 },
 "nbformat": 4,
 "nbformat_minor": 5
}
