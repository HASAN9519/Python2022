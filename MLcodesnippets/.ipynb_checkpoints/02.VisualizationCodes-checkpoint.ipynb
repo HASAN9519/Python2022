{
 "cells": [
  {
   "cell_type": "markdown",
   "id": "2399b809",
   "metadata": {
    "toc": true
   },
   "source": [
    "<h1>Table of Contents<span class=\"tocSkip\"></span></h1>\n",
    "<div class=\"toc\"><ul class=\"toc-item\"><li><span><a href=\"#Basic-visualization-codes\" data-toc-modified-id=\"Basic-visualization-codes-1\"><span class=\"toc-item-num\">1&nbsp;&nbsp;</span>Basic visualization codes</a></span><ul class=\"toc-item\"><li><span><a href=\"#Pie-Chart\" data-toc-modified-id=\"Pie-Chart-1.1\"><span class=\"toc-item-num\">1.1&nbsp;&nbsp;</span>Pie Chart</a></span></li><li><span><a href=\"#barplot\" data-toc-modified-id=\"barplot-1.2\"><span class=\"toc-item-num\">1.2&nbsp;&nbsp;</span>barplot</a></span></li><li><span><a href=\"#Count-plot\" data-toc-modified-id=\"Count-plot-1.3\"><span class=\"toc-item-num\">1.3&nbsp;&nbsp;</span>Count plot</a></span></li><li><span><a href=\"#boxplot\" data-toc-modified-id=\"boxplot-1.4\"><span class=\"toc-item-num\">1.4&nbsp;&nbsp;</span>boxplot</a></span></li><li><span><a href=\"#Residual-Plot-for-regression\" data-toc-modified-id=\"Residual-Plot-for-regression-1.5\"><span class=\"toc-item-num\">1.5&nbsp;&nbsp;</span>Residual Plot for regression</a></span></li><li><span><a href=\"#distribution-plot\" data-toc-modified-id=\"distribution-plot-1.6\"><span class=\"toc-item-num\">1.6&nbsp;&nbsp;</span>distribution plot</a></span><ul class=\"toc-item\"><li><span><a href=\"#kdeplot\" data-toc-modified-id=\"kdeplot-1.6.1\"><span class=\"toc-item-num\">1.6.1&nbsp;&nbsp;</span>kdeplot</a></span></li><li><span><a href=\"#histplot\" data-toc-modified-id=\"histplot-1.6.2\"><span class=\"toc-item-num\">1.6.2&nbsp;&nbsp;</span>histplot</a></span></li><li><span><a href=\"#regplot\" data-toc-modified-id=\"regplot-1.6.3\"><span class=\"toc-item-num\">1.6.3&nbsp;&nbsp;</span>regplot</a></span></li></ul></li></ul></li><li><span><a href=\"#Classifier-Vizualization\" data-toc-modified-id=\"Classifier-Vizualization-2\"><span class=\"toc-item-num\">2&nbsp;&nbsp;</span>Classifier Vizualization</a></span></li></ul></div>"
   ]
  },
  {
   "cell_type": "markdown",
   "id": "e40cd365",
   "metadata": {},
   "source": [
    "# Basic visualization codes"
   ]
  },
  {
   "cell_type": "markdown",
   "id": "5667beda",
   "metadata": {},
   "source": [
    "## Pie Chart"
   ]
  },
  {
   "cell_type": "markdown",
   "id": "bca142da",
   "metadata": {},
   "source": [
    "```\n",
    "# Pie Chart - Top 3 countries that uses zomato\n",
    "plt.pie(country_val[:3],labels=country_names[:3],autopct='%1.2f%%')\n",
    "\n",
    "plt.pie(city_values[:5], labels=city_labels[:5], autopct='%1.2f%%')\n",
    "```"
   ]
  },
  {
   "cell_type": "markdown",
   "id": "dc5b17da",
   "metadata": {},
   "source": [
    "## barplot"
   ]
  },
  {
   "cell_type": "markdown",
   "id": "e1bf984c",
   "metadata": {},
   "source": [
    "```\n",
    "import matplotlib.pyplot as plt\n",
    "plt.rcParams['figure.figsize'] = (12, 6)\n",
    "sns.barplot(x=\"Aggregate rating\",y=\"Rating Count\",data=ratings)\n",
    "\n",
    "sns.barplot(x=\"Aggregate rating\",y=\"Rating Count\",hue='Rating color',data=ratings,palette=['blue','red','orange','yellow','green','green'])\n",
    "\n",
    "plt.rcParams['figure.figsize'] = (10, 6)\n",
    "sns.barplot(x='Occupation',y='Purchase',hue='Gender',data=df)\n",
    "```"
   ]
  },
  {
   "cell_type": "markdown",
   "id": "871d1ca6",
   "metadata": {},
   "source": [
    "##  Count plot"
   ]
  },
  {
   "cell_type": "markdown",
   "id": "a6a47f89",
   "metadata": {},
   "source": [
    "```\n",
    "sns.countplot(x=\"Rating color\",data=ratings,palette=['blue','red','orange','yellow','green','green'])\n",
    "```"
   ]
  },
  {
   "cell_type": "markdown",
   "id": "151cd645",
   "metadata": {},
   "source": [
    "## boxplot"
   ]
  },
  {
   "cell_type": "markdown",
   "id": "ec4811f4",
   "metadata": {},
   "source": [
    "```\n",
    "sns.pairplot(df, hue='species')\n",
    "sns.boxplot(data=df)\n",
    "```"
   ]
  },
  {
   "cell_type": "markdown",
   "id": "05a6bcdd",
   "metadata": {},
   "source": [
    "## Residual Plot for regression"
   ]
  },
  {
   "cell_type": "markdown",
   "id": "ed8edfab",
   "metadata": {},
   "source": [
    "```\n",
    "width = 12\n",
    "height = 10\n",
    "plt.figure(figsize=(width, height))\n",
    "sns.residplot(x=df['highway-mpg'], y=df['price'])\n",
    "plt.show()\n",
    "```"
   ]
  },
  {
   "cell_type": "markdown",
   "id": "63b5fb93",
   "metadata": {},
   "source": [
    "## distribution plot\n",
    "fitted values vs actual values"
   ]
  },
  {
   "cell_type": "markdown",
   "id": "997f2e60",
   "metadata": {},
   "source": [
    "### kdeplot"
   ]
  },
  {
   "cell_type": "markdown",
   "id": "fc300028",
   "metadata": {},
   "source": [
    "```\n",
    "# kdeplot\n",
    "plt.figure(figsize=(12, 10))\n",
    "ax1 = sns.kdeplot(df['price'], color=\"r\", label=\"Actual Value\")\n",
    "sns.kdeplot(Y_hat, color=\"b\", label=\"Fitted Values\", ax=ax1)\n",
    "\n",
    "plt.title('Actual vs Fitted Values for Price')\n",
    "plt.xlabel('Price (in dollars)')\n",
    "plt.ylabel('Proportion of Cars')\n",
    "plt.show()\n",
    "```"
   ]
  },
  {
   "cell_type": "markdown",
   "id": "b7e86a96",
   "metadata": {},
   "source": [
    "### histplot"
   ]
  },
  {
   "cell_type": "markdown",
   "id": "a8d86966",
   "metadata": {},
   "source": [
    "```\n",
    "plt.figure(figsize=(12, 6))\n",
    "ax1 = sns.histplot(df['price'], color=\"g\", label=\"Actual Value\", kde=True)\n",
    "sns.histplot(Y_hat, color=\"b\", label=\"Fitted Values\", kde=True, ax=ax1)\n",
    "\n",
    "plt.title('Actual vs Fitted Values for Price')\n",
    "plt.xlabel('Price (in dollars)')\n",
    "plt.ylabel('Proportion of Cars')\n",
    "plt.show()\n",
    "```"
   ]
  },
  {
   "cell_type": "markdown",
   "id": "e60ab388",
   "metadata": {},
   "source": [
    "### regplot"
   ]
  },
  {
   "cell_type": "markdown",
   "id": "4d3b7c7c",
   "metadata": {},
   "source": [
    "```\n",
    "sns.regplot(x=\"engine-size\", y=\"price\", data=df)\n",
    "plt.ylim(0,)\n",
    "```"
   ]
  },
  {
   "cell_type": "markdown",
   "id": "b032bf9e",
   "metadata": {},
   "source": [
    "# Classifier Vizualization"
   ]
  },
  {
   "cell_type": "markdown",
   "id": "e1227e30",
   "metadata": {},
   "source": [
    "```\n",
    "model3 = KNeighborsClassifier(algorithm='ball_tree', n_neighbors=8, weights='distance')\n",
    "model3.fit(df[['PL', 'PW']], df.species)\n",
    "\n",
    "df.describe().T\n",
    "x1, x2 = np.meshgrid(np.arange(1.0, 7.0, 0.01), np.arange(0.09, 2.60, 0.01))\n",
    "# np.c_ use to concat two array verticaly\n",
    "# flatten() used to transform 2d array to 1d array\n",
    "features = np.c_[x1.flatten(), x2.flatten()]\n",
    "features = pd.DataFrame(features,columns=['PL','PW'])\n",
    "yy = model3.predict(features)\n",
    "ypredGrid = yy.reshape(x1.shape)\n",
    "\n",
    "plt.figure()\n",
    "plt.pcolormesh(x1, x2, ypredGrid)\n",
    "plt.scatter(df.PL, df.PW, c=df.species, edgecolors='blue')\n",
    "plt.tight_layout()\n",
    "plt.show()\n",
    "```"
   ]
  },
  {
   "cell_type": "markdown",
   "id": "f9919b4c",
   "metadata": {},
   "source": [
    "```\n",
    "plt.figure()\n",
    "logistic_model = LogisticRegression()\n",
    "logistic_model.fit(df[['PL', 'PW']], df.species)\n",
    "yy = logistic_model.predict(features).reshape(x1.shape)\n",
    "plt.pcolormesh(x1, x2, yy)\n",
    "plt.scatter(df.PL, df.PW, c=df.species, edgecolors='black')\n",
    "plt.tight_layout()\n",
    "plt.show()\n",
    "```"
   ]
  }
 ],
 "metadata": {
  "kernelspec": {
   "display_name": "Python 3 (ipykernel)",
   "language": "python",
   "name": "python3"
  },
  "language_info": {
   "codemirror_mode": {
    "name": "ipython",
    "version": 3
   },
   "file_extension": ".py",
   "mimetype": "text/x-python",
   "name": "python",
   "nbconvert_exporter": "python",
   "pygments_lexer": "ipython3",
   "version": "3.10.6"
  },
  "toc": {
   "base_numbering": 1,
   "nav_menu": {},
   "number_sections": true,
   "sideBar": true,
   "skip_h1_title": false,
   "title_cell": "Table of Contents",
   "title_sidebar": "Contents",
   "toc_cell": true,
   "toc_position": {
    "height": "calc(100% - 180px)",
    "left": "10px",
    "top": "150px",
    "width": "279.398px"
   },
   "toc_section_display": true,
   "toc_window_display": false
  },
  "vscode": {
   "interpreter": {
    "hash": "369f2c481f4da34e4445cda3fffd2e751bd1c4d706f27375911949ba6bb62e1c"
   }
  }
 },
 "nbformat": 4,
 "nbformat_minor": 5
}
