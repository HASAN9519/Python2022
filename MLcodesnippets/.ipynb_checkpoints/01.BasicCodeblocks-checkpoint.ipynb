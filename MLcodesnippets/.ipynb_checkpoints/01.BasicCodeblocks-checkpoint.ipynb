{
 "cells": [
  {
   "cell_type": "markdown",
   "id": "07da13a8",
   "metadata": {
    "toc": true
   },
   "source": [
    "<h1>Table of Contents<span class=\"tocSkip\"></span></h1>\n",
    "<div class=\"toc\"><ul class=\"toc-item\"><li><span><a href=\"#Feature-Engineering\" data-toc-modified-id=\"Feature-Engineering-1\"><span class=\"toc-item-num\">1&nbsp;&nbsp;</span>Feature Engineering</a></span><ul class=\"toc-item\"><li><span><a href=\"#Removing-missing-value\" data-toc-modified-id=\"Removing-missing-value-1.1\"><span class=\"toc-item-num\">1.1&nbsp;&nbsp;</span>Removing missing value</a></span></li><li><span><a href=\"#train-test-split\" data-toc-modified-id=\"train-test-split-1.2\"><span class=\"toc-item-num\">1.2&nbsp;&nbsp;</span>train test split</a></span></li></ul></li><li><span><a href=\"#Feature-Selection-Techniques\" data-toc-modified-id=\"Feature-Selection-Techniques-2\"><span class=\"toc-item-num\">2&nbsp;&nbsp;</span>Feature Selection Techniques</a></span><ul class=\"toc-item\"><li><span><a href=\"#Recursive-Feature-Elimination-(RFE)\" data-toc-modified-id=\"Recursive-Feature-Elimination-(RFE)-2.1\"><span class=\"toc-item-num\">2.1&nbsp;&nbsp;</span>Recursive Feature Elimination (RFE)</a></span></li></ul></li></ul></div>"
   ]
  },
  {
   "cell_type": "markdown",
   "id": "827787dd",
   "metadata": {},
   "source": [
    "## Feature Engineering"
   ]
  },
  {
   "cell_type": "markdown",
   "id": "476711e0",
   "metadata": {},
   "source": [
    "### Removing missing value"
   ]
  },
  {
   "cell_type": "raw",
   "id": "c09c0922",
   "metadata": {},
   "source": [
    "# removing missing values\n",
    "data.dropna(axis = 0, how ='any',inplace=True) "
   ]
  },
  {
   "cell_type": "markdown",
   "id": "7b6723f1",
   "metadata": {},
   "source": [
    "### train test split"
   ]
  },
  {
   "cell_type": "raw",
   "id": "4517123a",
   "metadata": {},
   "source": [
    "from sklearn.model_selection import train_test_split\n",
    "xtrain, xtest, ytrain, ytest = train_test_split(data.drop(columns=['SalePrice']), data['SalePrice'], test_size=0.2, random_state=33)\n",
    "\n",
    "print(xtrain.shape)\n",
    "print(ytrain.shape)\n",
    "print(xtest.shape)\n",
    "print(ytest.shape)"
   ]
  },
  {
   "cell_type": "markdown",
   "id": "3482a73d",
   "metadata": {},
   "source": [
    "## Feature Selection Techniques"
   ]
  },
  {
   "cell_type": "markdown",
   "id": "7485bb67",
   "metadata": {},
   "source": [
    "### Recursive Feature Elimination (RFE)"
   ]
  },
  {
   "cell_type": "raw",
   "id": "c1de2de2",
   "metadata": {},
   "source": [
    "from sklearn.feature_selection import RFE\n",
    "from sklearn.tree import DecisionTreeRegressor\n",
    "rfe = RFE(estimator=DecisionTreeRegressor(), n_features_to_select=5)\n",
    "rfe.fit(xtrain, ytrain)\n",
    "\n",
    "# zip() function returns a zip object which is an iterator of tuples where first item in each passed iterator is paired together \n",
    "# and then second item in each passed iterator are paired together etc\n",
    "# If passed iterators have different lengths, iterator with least items decides length of new iterator\n",
    "feature_list=[]\n",
    "for i, col in zip(range(xtrain.shape[1]), xtrain.columns):\n",
    "    print(i)\n",
    "    print(f\"{col} selected={rfe.support_[i]} rank={rfe.ranking_[i]}\")\n",
    "    if rfe.ranking_[i] == 1:\n",
    "        feature_list.append(col)\n",
    "feature_list\n"
   ]
  },
  {
   "cell_type": "code",
   "execution_count": null,
   "id": "9666c55f",
   "metadata": {},
   "outputs": [],
   "source": []
  },
  {
   "cell_type": "code",
   "execution_count": null,
   "id": "6137d14e",
   "metadata": {},
   "outputs": [],
   "source": []
  },
  {
   "cell_type": "code",
   "execution_count": null,
   "id": "81d3a559",
   "metadata": {},
   "outputs": [],
   "source": []
  },
  {
   "cell_type": "code",
   "execution_count": null,
   "id": "26eb91c5",
   "metadata": {},
   "outputs": [],
   "source": []
  },
  {
   "cell_type": "code",
   "execution_count": null,
   "id": "9fe05cc1",
   "metadata": {},
   "outputs": [],
   "source": []
  },
  {
   "cell_type": "raw",
   "id": "aec9ffb8",
   "metadata": {},
   "source": [
    "# orginal function\n",
    "class OutlierTreatment:\n",
    "    \n",
    "    def __init__(self, dff):\n",
    "        self.dff = dff\n",
    "        \n",
    "    def getInfo(self):\n",
    "        return (self.dff.shape)\n",
    "    \n",
    "    def outlier(self):\n",
    "        Q1 = self.dff.quantile(0.25)\n",
    "        Q3 = self.dff.quantile(0.75)\n",
    "        IQR = Q3 - Q1\n",
    "        lower_limit = Q1 - 1.5*IQR\n",
    "        upper_limit = Q3 + 1.5*IQR\n",
    "        return lower_limit, upper_limit\n",
    "        \n",
    "    def countoutlier(self, dfa):\n",
    "        self.lower_limit, self.upper_limit = self.outlier()\n",
    "        Total_outlier = len(dfa[(self.dff <= self.lower_limit)|(self.dff >= self.upper_limit)])\n",
    "        return Total_outlier\n",
    "    \n",
    "    def cleanoutlier(self, dfa):\n",
    "        self.lower_limit, self.upper_limit = self.outlier()\n",
    "        dfx = dfa[(self.dff>self.lower_limit)&(self.dff<self.upper_limit)]\n",
    "        return dfx"
   ]
  },
  {
   "cell_type": "code",
   "execution_count": null,
   "id": "ca84de9c",
   "metadata": {},
   "outputs": [],
   "source": []
  }
 ],
 "metadata": {
  "kernelspec": {
   "display_name": "Python 3 (ipykernel)",
   "language": "python",
   "name": "python3"
  },
  "language_info": {
   "codemirror_mode": {
    "name": "ipython",
    "version": 3
   },
   "file_extension": ".py",
   "mimetype": "text/x-python",
   "name": "python",
   "nbconvert_exporter": "python",
   "pygments_lexer": "ipython3",
   "version": "3.10.6"
  },
  "toc": {
   "base_numbering": 1,
   "nav_menu": {},
   "number_sections": true,
   "sideBar": true,
   "skip_h1_title": false,
   "title_cell": "Table of Contents",
   "title_sidebar": "Contents",
   "toc_cell": true,
   "toc_position": {
    "height": "calc(100% - 180px)",
    "left": "10px",
    "top": "150px",
    "width": "279.409px"
   },
   "toc_section_display": true,
   "toc_window_display": false
  }
 },
 "nbformat": 4,
 "nbformat_minor": 5
}
