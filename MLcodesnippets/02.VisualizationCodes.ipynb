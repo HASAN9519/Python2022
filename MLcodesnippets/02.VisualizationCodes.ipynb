{
 "cells": [
  {
   "cell_type": "markdown",
   "id": "2399b809",
   "metadata": {
    "toc": true
   },
   "source": [
    "<h1>Table of Contents<span class=\"tocSkip\"></span></h1>\n",
    "<div class=\"toc\"><ul class=\"toc-item\"><li><span><a href=\"#Basic-visualization-codes\" data-toc-modified-id=\"Basic-visualization-codes-1\"><span class=\"toc-item-num\">1&nbsp;&nbsp;</span>Basic visualization codes</a></span></li><li><span><a href=\"#Classifier-Vizualization\" data-toc-modified-id=\"Classifier-Vizualization-2\"><span class=\"toc-item-num\">2&nbsp;&nbsp;</span>Classifier Vizualization</a></span></li></ul></div>"
   ]
  },
  {
   "cell_type": "markdown",
   "id": "e40cd365",
   "metadata": {},
   "source": [
    "## Basic visualization codes"
   ]
  },
  {
   "cell_type": "raw",
   "id": "94baafbf",
   "metadata": {},
   "source": [
    "# Pie Chart- Top 3 countries that uses zomato\n",
    "plt.pie(country_val[:3],labels=country_names[:3],autopct='%1.2f%%')"
   ]
  },
  {
   "cell_type": "raw",
   "id": "8b5c64db",
   "metadata": {},
   "source": [
    "import matplotlib.pyplot as plt\n",
    "plt.rcParams['figure.figsize'] = (12, 6)\n",
    "sns.barplot(x=\"Aggregate rating\",y=\"Rating Count\",data=ratings)"
   ]
  },
  {
   "cell_type": "raw",
   "id": "1bbce682",
   "metadata": {},
   "source": [
    "sns.barplot(x=\"Aggregate rating\",y=\"Rating Count\",hue='Rating color',data=ratings,palette=['blue','red','orange','yellow','green','green'])"
   ]
  },
  {
   "cell_type": "raw",
   "id": "da554fdb",
   "metadata": {},
   "source": [
    "# Count plot\n",
    "sns.countplot(x=\"Rating color\",data=ratings,palette=['blue','red','orange','yellow','green','green'])"
   ]
  },
  {
   "cell_type": "raw",
   "id": "30e10d94",
   "metadata": {},
   "source": [
    "plt.pie(city_values[:5], labels=city_labels[:5], autopct='%1.2f%%')"
   ]
  },
  {
   "cell_type": "raw",
   "id": "9c7eda8a",
   "metadata": {},
   "source": [
    "plt.rcParams['figure.figsize'] = (10, 6)\n",
    "sns.barplot(x='Occupation',y='Purchase',hue='Gender',data=df)"
   ]
  },
  {
   "cell_type": "raw",
   "id": "5b4669d0",
   "metadata": {},
   "source": [
    "sns.pairplot(df, hue='species')\n",
    "sns.boxplot(data=df)"
   ]
  },
  {
   "cell_type": "raw",
   "id": "04260bac",
   "metadata": {},
   "source": []
  },
  {
   "cell_type": "markdown",
   "id": "b032bf9e",
   "metadata": {},
   "source": [
    "## Classifier Vizualization"
   ]
  },
  {
   "cell_type": "raw",
   "id": "f4af30bd",
   "metadata": {},
   "source": [
    "model3 = KNeighborsClassifier(algorithm='ball_tree', n_neighbors=8, weights='distance')\n",
    "model3.fit(df[['PL', 'PW']], df.species)\n",
    "\n",
    "df.describe().T\n",
    "x1, x2 = np.meshgrid(np.arange(1.0, 7.0, 0.01), np.arange(0.09, 2.60, 0.01))\n",
    "# np.c_ use to concat two array verticaly\n",
    "# flatten() used to transform 2d array to 1d array\n",
    "features = np.c_[x1.flatten(), x2.flatten()]\n",
    "features = pd.DataFrame(features,columns=['PL','PW'])\n",
    "yy = model3.predict(features)\n",
    "ypredGrid = yy.reshape(x1.shape)\n",
    "\n",
    "plt.figure()\n",
    "plt.pcolormesh(x1, x2, ypredGrid)\n",
    "plt.scatter(df.PL, df.PW, c=df.species, edgecolors='blue')\n",
    "plt.tight_layout()\n",
    "plt.show()"
   ]
  },
  {
   "cell_type": "raw",
   "id": "706380e6",
   "metadata": {},
   "source": [
    "plt.figure()\n",
    "logistic_model = LogisticRegression()\n",
    "logistic_model.fit(df[['PL', 'PW']], df.species)\n",
    "yy = logistic_model.predict(features).reshape(x1.shape)\n",
    "plt.pcolormesh(x1, x2, yy)\n",
    "plt.scatter(df.PL, df.PW, c=df.species, edgecolors='black')\n",
    "plt.tight_layout()\n",
    "plt.show()"
   ]
  },
  {
   "cell_type": "raw",
   "id": "6cca7105",
   "metadata": {},
   "source": []
  },
  {
   "cell_type": "raw",
   "id": "010fd5ab",
   "metadata": {},
   "source": []
  },
  {
   "cell_type": "raw",
   "id": "0daa6519",
   "metadata": {},
   "source": []
  },
  {
   "cell_type": "raw",
   "id": "5adfc027",
   "metadata": {},
   "source": []
  },
  {
   "cell_type": "raw",
   "id": "61b607a0",
   "metadata": {},
   "source": []
  },
  {
   "cell_type": "raw",
   "id": "9474390f",
   "metadata": {},
   "source": []
  }
 ],
 "metadata": {
  "kernelspec": {
   "display_name": "Python 3",
   "language": "python",
   "name": "python3"
  },
  "language_info": {
   "codemirror_mode": {
    "name": "ipython",
    "version": 3
   },
   "file_extension": ".py",
   "mimetype": "text/x-python",
   "name": "python",
   "nbconvert_exporter": "python",
   "pygments_lexer": "ipython3",
   "version": "3.10.6 (tags/v3.10.6:9c7b4bd, Aug  1 2022, 21:53:49) [MSC v.1932 64 bit (AMD64)]"
  },
  "toc": {
   "base_numbering": 1,
   "nav_menu": {},
   "number_sections": true,
   "sideBar": true,
   "skip_h1_title": false,
   "title_cell": "Table of Contents",
   "title_sidebar": "Contents",
   "toc_cell": true,
   "toc_position": {},
   "toc_section_display": true,
   "toc_window_display": false
  },
  "vscode": {
   "interpreter": {
    "hash": "369f2c481f4da34e4445cda3fffd2e751bd1c4d706f27375911949ba6bb62e1c"
   }
  }
 },
 "nbformat": 4,
 "nbformat_minor": 5
}
