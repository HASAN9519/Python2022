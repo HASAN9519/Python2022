{
 "cells": [
  {
   "cell_type": "markdown",
   "id": "4b6b5bcc",
   "metadata": {
    "toc": true
   },
   "source": [
    "<h1>Table of Contents<span class=\"tocSkip\"></span></h1>\n",
    "<div class=\"toc\"><ul class=\"toc-item\"><li><span><a href=\"#1.---Sigmod-function\" data-toc-modified-id=\"1.---Sigmod-function-1\"><span class=\"toc-item-num\">1&nbsp;&nbsp;</span><strong>1.   Sigmod function</strong></a></span></li></ul></div>"
   ]
  },
  {
   "cell_type": "markdown",
   "id": "444ed2b3",
   "metadata": {},
   "source": [
    "## **1.   Sigmod function**\n",
    "\n",
    "The function formula and chart are as follows\n",
    "\n",
    "![alt](data/bird.jpg)"
   ]
  },
  {
   "attachments": {},
   "cell_type": "markdown",
   "id": "a2a7220d",
   "metadata": {},
   "source": [
    "**<div align=\"center\"><font size=5>Optimizers</font></div>**"
   ]
  },
  {
   "attachments": {},
   "cell_type": "markdown",
   "id": "a84c2e60",
   "metadata": {},
   "source": [
    "`x += - learning_rate * dx`"
   ]
  },
  {
   "attachments": {},
   "cell_type": "markdown",
   "id": "e10b4a58",
   "metadata": {},
   "source": [
    ">Setting value of hyper-parameters:\n",
    "n Generally value is 50 ～ 256"
   ]
  },
  {
   "cell_type": "markdown",
   "id": "bbc9438a",
   "metadata": {},
   "source": [
    "> Activation function also helps to normalize the output of each neuron to a range between 1 and 0 or between -1 and 1."
   ]
  }
 ],
 "metadata": {
  "kernelspec": {
   "display_name": "Python 3",
   "language": "python",
   "name": "python3"
  },
  "language_info": {
   "codemirror_mode": {
    "name": "ipython",
    "version": 3
   },
   "file_extension": ".py",
   "mimetype": "text/x-python",
   "name": "python",
   "nbconvert_exporter": "python",
   "pygments_lexer": "ipython3",
   "version": "3.10.6 (tags/v3.10.6:9c7b4bd, Aug  1 2022, 21:53:49) [MSC v.1932 64 bit (AMD64)]"
  },
  "toc": {
   "base_numbering": 1,
   "nav_menu": {},
   "number_sections": true,
   "sideBar": true,
   "skip_h1_title": false,
   "title_cell": "Table of Contents",
   "title_sidebar": "Contents",
   "toc_cell": true,
   "toc_position": {
    "height": "calc(100% - 180px)",
    "left": "10px",
    "top": "150px",
    "width": "279.409px"
   },
   "toc_section_display": true,
   "toc_window_display": false
  },
  "vscode": {
   "interpreter": {
    "hash": "369f2c481f4da34e4445cda3fffd2e751bd1c4d706f27375911949ba6bb62e1c"
   }
  }
 },
 "nbformat": 4,
 "nbformat_minor": 5
}
