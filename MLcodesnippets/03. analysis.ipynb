{
 "cells": [
  {
   "cell_type": "markdown",
   "id": "3d5a74de",
   "metadata": {
    "toc": true
   },
   "source": [
    "<h1>Table of Contents<span class=\"tocSkip\"></span></h1>\n",
    "<div class=\"toc\"><ul class=\"toc-item\"><li><span><a href=\"#Filtering-based-on-a-criteria\" data-toc-modified-id=\"Filtering-based-on-a-criteria-1\"><span class=\"toc-item-num\">1&nbsp;&nbsp;</span>Filtering based on a criteria</a></span></li></ul></div>"
   ]
  },
  {
   "cell_type": "markdown",
   "id": "2dc45cc9",
   "metadata": {},
   "source": [
    "# Filtering based on a criteria"
   ]
  },
  {
   "cell_type": "raw",
   "id": "7a5b9e21",
   "metadata": {},
   "source": [
    "# create condition boolean series\n",
    "condition = df_can['Continent'] == 'Asia'\n",
    "print(condition)\n",
    "# pass condition into dataFrame\n",
    "df_can[condition]"
   ]
  },
  {
   "cell_type": "raw",
   "id": "70abefd2",
   "metadata": {},
   "source": [
    "# we can pass multiple criteria in the same line.\n",
    "# let's filter for AreaNAme = Asia and RegName = Southern Asia\n",
    "\n",
    "df_can[(df_can['Continent']=='Asia') & (df_can['Region']=='Southern Asia')]\n",
    "\n",
    "# note: When using 'and' and 'or' operators, pandas requires we use '&' and '|' instead of 'and' and 'or'\n",
    "# don't forget to enclose the two conditions in parentheses"
   ]
  },
  {
   "cell_type": "raw",
   "id": "5924f93b",
   "metadata": {},
   "source": [
    "df_can.sort_values(by='Total', ascending=False, axis=0, inplace=True)"
   ]
  },
  {
   "cell_type": "raw",
   "id": "610028ba",
   "metadata": {},
   "source": []
  },
  {
   "cell_type": "raw",
   "id": "3eb12027",
   "metadata": {},
   "source": []
  },
  {
   "cell_type": "raw",
   "id": "bb469ec7",
   "metadata": {},
   "source": []
  },
  {
   "cell_type": "raw",
   "id": "3bd47744",
   "metadata": {},
   "source": []
  },
  {
   "cell_type": "raw",
   "id": "e9ce0dae",
   "metadata": {},
   "source": []
  },
  {
   "cell_type": "raw",
   "id": "b1f585f7",
   "metadata": {},
   "source": []
  },
  {
   "cell_type": "raw",
   "id": "60e5ce3e",
   "metadata": {},
   "source": []
  },
  {
   "cell_type": "raw",
   "id": "97a296fb",
   "metadata": {},
   "source": []
  },
  {
   "cell_type": "raw",
   "id": "c9789e53",
   "metadata": {},
   "source": []
  }
 ],
 "metadata": {
  "kernelspec": {
   "display_name": "Python 3 (ipykernel)",
   "language": "python",
   "name": "python3"
  },
  "language_info": {
   "codemirror_mode": {
    "name": "ipython",
    "version": 3
   },
   "file_extension": ".py",
   "mimetype": "text/x-python",
   "name": "python",
   "nbconvert_exporter": "python",
   "pygments_lexer": "ipython3",
   "version": "3.10.6"
  },
  "toc": {
   "base_numbering": 1,
   "nav_menu": {},
   "number_sections": true,
   "sideBar": true,
   "skip_h1_title": false,
   "title_cell": "Table of Contents",
   "title_sidebar": "Contents",
   "toc_cell": true,
   "toc_position": {
    "height": "calc(100% - 180px)",
    "left": "10px",
    "top": "150px",
    "width": "279.409px"
   },
   "toc_section_display": true,
   "toc_window_display": false
  }
 },
 "nbformat": 4,
 "nbformat_minor": 5
}
