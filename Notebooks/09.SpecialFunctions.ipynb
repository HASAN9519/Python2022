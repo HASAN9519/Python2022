{
  "cells": [
    {
      "cell_type": "markdown",
      "metadata": {
        "id": "Z-ux0R-eAS9f"
      },
      "source": [
        "### Generator"
      ]
    },
    {
      "cell_type": "code",
      "execution_count": 158,
      "metadata": {
        "id": "ZY8mkRf2AS9i"
      },
      "outputs": [
        {
          "data": {
            "text/plain": [
              "[1, 4, 9, 16, 25, 36, 49, 64]"
            ]
          },
          "execution_count": 158,
          "metadata": {},
          "output_type": "execute_result"
        }
      ],
      "source": [
        "#normal function\n",
        "def generate(low:int, up:int):\n",
        "    sq = []\n",
        "    for num in range(low, up):\n",
        "        sq.append(num**2)\n",
        "    return sq\n",
        "    \n",
        "generate(1, 9)"
      ]
    },
    {
      "cell_type": "code",
      "execution_count": 43,
      "metadata": {
        "id": "q99S43slAS9j"
      },
      "outputs": [],
      "source": [
        "#function using generator which is yield, instead of returning a value gives back a generator object to the caller\n",
        "#when thread of execution finds yield keyword in the function, execution stops at that line itself and returns a generator object\n",
        "#values from generator object are fetched one at a time instead of full list together\n",
        "#generator is special type of iterator, once used won't be available again\n",
        "#values are not stored in memory and are only available when called\n",
        "def generate1(low:int, up:int):\n",
        "    sq = []\n",
        "    for num in range(low, up):\n",
        "        #if num == (up-1):\n",
        "            #break;\n",
        "        sq.append(num**2)\n",
        "        yield sq\n",
        "gen = generate1(1, 4)"
      ]
    },
    {
      "cell_type": "code",
      "execution_count": 36,
      "metadata": {
        "id": "-Pe_t-MAAS9j",
        "outputId": "f67271ad-3577-4b46-cd46-d167b180a22f"
      },
      "outputs": [
        {
          "name": "stdout",
          "output_type": "stream",
          "text": [
            "finish\n"
          ]
        }
      ],
      "source": [
        "#next() function returns the next item in an iterator\n",
        "try:\n",
        "    print(next(gen))\n",
        "except:\n",
        "    print(\"finish\")"
      ]
    },
    {
      "cell_type": "code",
      "execution_count": 44,
      "metadata": {},
      "outputs": [
        {
          "name": "stdout",
          "output_type": "stream",
          "text": [
            "[[1, 4, 9], [1, 4, 9], [1, 4, 9]]\n"
          ]
        }
      ],
      "source": [
        "print(list(gen))"
      ]
    },
    {
      "cell_type": "code",
      "execution_count": 30,
      "metadata": {},
      "outputs": [
        {
          "data": {
            "text/plain": [
              "[1]"
            ]
          },
          "execution_count": 30,
          "metadata": {},
          "output_type": "execute_result"
        }
      ],
      "source": [
        "next(generate1(1, 4))"
      ]
    },
    {
      "cell_type": "code",
      "execution_count": 20,
      "metadata": {},
      "outputs": [],
      "source": [
        "for i in gen:\n",
        "    print(i)"
      ]
    },
    {
      "cell_type": "code",
      "execution_count": 162,
      "metadata": {},
      "outputs": [
        {
          "data": {
            "text/plain": [
              "<generator object generate1 at 0x0000025F642C5BD0>"
            ]
          },
          "execution_count": 162,
          "metadata": {},
          "output_type": "execute_result"
        }
      ],
      "source": [
        "generate1(1, 4)"
      ]
    },
    {
      "cell_type": "code",
      "execution_count": 118,
      "metadata": {},
      "outputs": [],
      "source": [
        "try:\n",
        "    next(gen)\n",
        "except:\n",
        "    pass"
      ]
    },
    {
      "cell_type": "code",
      "execution_count": 10,
      "metadata": {},
      "outputs": [
        {
          "name": "stdout",
          "output_type": "stream",
          "text": [
            "done\n",
            "done\n",
            "done\n",
            "done\n"
          ]
        },
        {
          "data": {
            "text/plain": [
              "[1, 4, 9]"
            ]
          },
          "execution_count": 10,
          "metadata": {},
          "output_type": "execute_result"
        }
      ],
      "source": [
        "def generate2(low:int, up:int):\n",
        "    sq = []\n",
        "    for num in range(low, up):\n",
        "        if num == (up-1):\n",
        "            print(\"done\")\n",
        "            break;\n",
        "        sq.append(num**2)\n",
        "        \n",
        "        print(\"done\")   \n",
        "    return sq\n",
        "generate2(1,5)"
      ]
    },
    {
      "cell_type": "markdown",
      "metadata": {
        "id": "Ytp6Y7S1AS9k"
      },
      "source": [
        "### Decorator"
      ]
    },
    {
      "cell_type": "code",
      "execution_count": 52,
      "metadata": {
        "id": "Pm5q6QjIAS9l"
      },
      "outputs": [],
      "source": [
        "#Decorator takes another fuction as argument & returns a function\n",
        "#place_order function decorated through login_required function\n",
        "#place_order function execute inside login_required function \n",
        "#if logged_in = True, order will take place otherwise false\n",
        "logged_in = True\n",
        "def login_required(function):\n",
        "    def wrapper(*args, **kwargs):\n",
        "        if not logged_in:\n",
        "            return False\n",
        "        func = function(*args, **kwargs)\n",
        "        return func\n",
        "    return wrapper"
      ]
    },
    {
      "cell_type": "code",
      "execution_count": 53,
      "metadata": {
        "id": "QqGlUBRwAS9l"
      },
      "outputs": [],
      "source": [
        "@login_required\n",
        "def place_order(pid:int, title:str, price:float):\n",
        "    print(f'Your Order of {title} is placed!')"
      ]
    },
    {
      "cell_type": "code",
      "execution_count": 54,
      "metadata": {
        "id": "rtYB6witAS9m",
        "outputId": "f9d1d673-144b-4d5d-9bd1-f211d1be973f"
      },
      "outputs": [
        {
          "name": "stdout",
          "output_type": "stream",
          "text": [
            "Your Order of IPHONE X is placed!\n"
          ]
        }
      ],
      "source": [
        "place_order(332534, 'IPHONE X', 120000.0)"
      ]
    },
    {
      "cell_type": "markdown",
      "metadata": {
        "id": "b1cUgVJUAS9m"
      },
      "source": [
        "### Map"
      ]
    },
    {
      "cell_type": "code",
      "execution_count": 55,
      "metadata": {
        "id": "QQgZ-R9cAS9m"
      },
      "outputs": [],
      "source": [
        "check = lambda num: True if num%2==0 else False"
      ]
    },
    {
      "cell_type": "code",
      "execution_count": 56,
      "metadata": {
        "id": "CpAgnLh8AS9m",
        "outputId": "a86011f6-9915-40d8-e83c-c96bba59eb65"
      },
      "outputs": [
        {
          "data": {
            "text/plain": [
              "False"
            ]
          },
          "execution_count": 56,
          "metadata": {},
          "output_type": "execute_result"
        }
      ],
      "source": [
        "#it will give output for only one argument, more than one argument will give error\n",
        "check(3)"
      ]
    },
    {
      "cell_type": "code",
      "execution_count": 57,
      "metadata": {
        "id": "IoI4s67vAS9n",
        "outputId": "50b1c06e-12dc-4603-c596-588ebd86211e"
      },
      "outputs": [
        {
          "data": {
            "text/plain": [
              "[True, False, True, True, True, True]"
            ]
          },
          "execution_count": 57,
          "metadata": {},
          "output_type": "execute_result"
        }
      ],
      "source": [
        "#map takes more arguments\n",
        "list(map(check, [2,3,4,6,78,8]))"
      ]
    },
    {
      "cell_type": "markdown",
      "metadata": {
        "id": "jcBKrwd_AS9n"
      },
      "source": [
        "### Filter"
      ]
    },
    {
      "cell_type": "code",
      "execution_count": 63,
      "metadata": {
        "id": "csnk_zioAS9n"
      },
      "outputs": [],
      "source": [
        "check1 = lambda num: True if num%2==0 else False"
      ]
    },
    {
      "cell_type": "code",
      "execution_count": 62,
      "metadata": {
        "id": "bK9DoKGEAS9n",
        "outputId": "0fbea14e-fcb3-482d-f8f6-615ad9b506a2"
      },
      "outputs": [
        {
          "data": {
            "text/plain": [
              "[2, 4, 6]"
            ]
          },
          "execution_count": 62,
          "metadata": {},
          "output_type": "execute_result"
        }
      ],
      "source": [
        "#filter returns iterables which are True based on condition stated in the function\n",
        "list(filter(check1, [2,3,4,5,6,7]))"
      ]
    },
    {
      "cell_type": "code",
      "execution_count": 70,
      "metadata": {},
      "outputs": [
        {
          "data": {
            "text/plain": [
              "[3, 5, 7]"
            ]
          },
          "execution_count": 70,
          "metadata": {},
          "output_type": "execute_result"
        }
      ],
      "source": [
        "check2 = lambda num: True if num%2 != 0 else False\n",
        "list(filter(check2, [2,3,4,5,6,7]))"
      ]
    },
    {
      "cell_type": "markdown",
      "metadata": {
        "id": "BKT3xrBuAS9n"
      },
      "source": [
        "### Reduce"
      ]
    },
    {
      "cell_type": "code",
      "execution_count": 71,
      "metadata": {
        "id": "S_jj1_-LAS9o"
      },
      "outputs": [
        {
          "data": {
            "text/plain": [
              "15"
            ]
          },
          "execution_count": 71,
          "metadata": {},
          "output_type": "execute_result"
        }
      ],
      "source": [
        "#reduce used for cumulative tasks\n",
        "from functools import reduce\n",
        "add = lambda x, y: (x+y)\n",
        "reduce(add, [1,2,3,4,5])"
      ]
    },
    {
      "cell_type": "code",
      "execution_count": 73,
      "metadata": {
        "id": "3phzREraAS9o",
        "outputId": "05d16858-c1fe-4814-cf0c-6723a3f74551"
      },
      "outputs": [
        {
          "data": {
            "text/plain": [
              "4.0625"
            ]
          },
          "execution_count": 73,
          "metadata": {},
          "output_type": "execute_result"
        }
      ],
      "source": [
        "add1 = lambda x, y: (x+y)/2\n",
        "reduce(add1, [1,2,3,4,5])"
      ]
    }
  ],
  "metadata": {
    "colab": {
      "provenance": []
    },
    "kernelspec": {
      "display_name": "Python 3.10.6 64-bit",
      "language": "python",
      "name": "python3"
    },
    "language_info": {
      "codemirror_mode": {
        "name": "ipython",
        "version": 3
      },
      "file_extension": ".py",
      "mimetype": "text/x-python",
      "name": "python",
      "nbconvert_exporter": "python",
      "pygments_lexer": "ipython3",
      "version": "3.10.6"
    },
    "orig_nbformat": 4,
    "vscode": {
      "interpreter": {
        "hash": "369f2c481f4da34e4445cda3fffd2e751bd1c4d706f27375911949ba6bb62e1c"
      }
    }
  },
  "nbformat": 4,
  "nbformat_minor": 0
}
