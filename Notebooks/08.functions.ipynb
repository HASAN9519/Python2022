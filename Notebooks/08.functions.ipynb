{
  "cells": [
    {
      "cell_type": "markdown",
      "metadata": {
        "id": "BHEKq5VAHj4v"
      },
      "source": [
        "# Function"
      ]
    },
    {
      "cell_type": "code",
      "execution_count": 7,
      "metadata": {
        "id": "loyGCNY4Hj4x"
      },
      "outputs": [],
      "source": [
        "def greet() -> None: #here '-> None' means what function will return, its none because it is just printing strings, it's not necessary but good practice\n",
        "    print(\"Welcome Python!\")\n",
        "    print(\"How may I help you?\")"
      ]
    },
    {
      "cell_type": "code",
      "execution_count": 2,
      "metadata": {
        "id": "dt0KItEEHj4y",
        "outputId": "53ec2562-a18d-42a8-f091-581b9356bc43"
      },
      "outputs": [
        {
          "name": "stdout",
          "output_type": "stream",
          "text": [
            "Welcome Python!\n",
            "How may I help you?\n"
          ]
        }
      ],
      "source": [
        "greet()"
      ]
    },
    {
      "cell_type": "code",
      "execution_count": 3,
      "metadata": {},
      "outputs": [
        {
          "name": "stdout",
          "output_type": "stream",
          "text": [
            "hello...hasan\n"
          ]
        }
      ],
      "source": [
        "def great1():\n",
        "    print(\"hello...hasan\")\n",
        "\n",
        "great1()"
      ]
    },
    {
      "cell_type": "code",
      "execution_count": 4,
      "metadata": {
        "id": "tHR98fI7Hj4z",
        "outputId": "6c6197a9-ac1d-426e-dc6d-39b75975a9b9"
      },
      "outputs": [
        {
          "name": "stdout",
          "output_type": "stream",
          "text": [
            "Welcome Python!\n",
            "How may I help you?\n"
          ]
        }
      ],
      "source": [
        "var = greet() #function stored in a variable"
      ]
    },
    {
      "cell_type": "code",
      "execution_count": 5,
      "metadata": {
        "id": "Eexs5twEHj4z",
        "outputId": "33f84fb0-a7c6-4f23-9c00-16f1f04f1878"
      },
      "outputs": [
        {
          "name": "stdout",
          "output_type": "stream",
          "text": [
            "None\n"
          ]
        }
      ],
      "source": [
        "print(var)"
      ]
    },
    {
      "cell_type": "code",
      "execution_count": 21,
      "metadata": {},
      "outputs": [],
      "source": [
        "def rem()-> str:\n",
        "    num = int(input(\"Please Enter number :\"))\n",
        "    if num%2 == 0:\n",
        "        return 'Even'\n",
        "    else:\n",
        "        return 'Odd'"
      ]
    },
    {
      "cell_type": "code",
      "execution_count": 23,
      "metadata": {},
      "outputs": [
        {
          "name": "stdout",
          "output_type": "stream",
          "text": [
            "Odd\n"
          ]
        }
      ],
      "source": [
        "v = rem()\n",
        "print(v)"
      ]
    },
    {
      "cell_type": "code",
      "execution_count": 24,
      "metadata": {},
      "outputs": [],
      "source": [
        "def rem1()-> str:\n",
        "    num = int(input(\"Please Enter number :\"))\n",
        "    if num%2 == 0:\n",
        "        print(\"Even\")\n",
        "    else:\n",
        "        print(\"Odd\")"
      ]
    },
    {
      "cell_type": "code",
      "execution_count": 25,
      "metadata": {},
      "outputs": [
        {
          "name": "stdout",
          "output_type": "stream",
          "text": [
            "Even\n",
            "None\n"
          ]
        }
      ],
      "source": [
        "#print(v1) will give None as we didn't use return in rem1() function\n",
        "v1 = rem1()\n",
        "print(v1)"
      ]
    },
    {
      "cell_type": "markdown",
      "metadata": {
        "id": "t9KOhb3ZHj40"
      },
      "source": [
        "# Function with arguments and return"
      ]
    },
    {
      "cell_type": "code",
      "execution_count": 26,
      "metadata": {
        "id": "X4RtPEPrHj40"
      },
      "outputs": [],
      "source": [
        "def check(num: int) -> bool: #num: int written to understand what type of argument function will take, only num can be written\n",
        "    \"\"\"\n",
        "    #docstring where details of function is written to help another person understand the code\n",
        "    This will check even or odd number\n",
        "    >>> check(5)\n",
        "    >>> False\n",
        "    \"\"\"\n",
        "    if num % 2 == 0:\n",
        "        return True\n",
        "    else:\n",
        "        return False"
      ]
    },
    {
      "cell_type": "code",
      "execution_count": 28,
      "metadata": {
        "id": "3scsRUwxHj41"
      },
      "outputs": [
        {
          "data": {
            "text/plain": [
              "True"
            ]
          },
          "execution_count": 28,
          "metadata": {},
          "output_type": "execute_result"
        }
      ],
      "source": [
        "var = check(6)\n",
        "var"
      ]
    },
    {
      "cell_type": "code",
      "execution_count": 30,
      "metadata": {
        "id": "qMILx2gaHj41",
        "outputId": "d96297d5-6547-47f8-8b7a-e7ec1419d951"
      },
      "outputs": [
        {
          "data": {
            "text/plain": [
              "False"
            ]
          },
          "execution_count": 30,
          "metadata": {},
          "output_type": "execute_result"
        }
      ],
      "source": [
        "def check1(num): \n",
        "    if num % 2 == 0:\n",
        "        return True\n",
        "    else:\n",
        "        return False\n",
        "var1 = check(5)\n",
        "var1"
      ]
    },
    {
      "cell_type": "markdown",
      "metadata": {
        "id": "6mDQkll-Hj42"
      },
      "source": [
        "# Dynamic *args"
      ]
    },
    {
      "cell_type": "code",
      "execution_count": 31,
      "metadata": {
        "id": "DDHUNlkBHj42"
      },
      "outputs": [],
      "source": [
        "def check(*nums: tuple[int]) -> list: #'*' means it will more than one value, 'tuple[int]' also optional, no harm if not written\n",
        "    \"\"\"\n",
        "    This will check even or odd number\n",
        "    >>> check(2,3,4,56,73,67,78)\n",
        "    >>> [True, False, True, True, False, False, True]\n",
        "    \"\"\"\n",
        "    res = []\n",
        "    for num in nums:\n",
        "        if num % 2 == 0:\n",
        "            res.append(True)\n",
        "        else:\n",
        "            res.append(False)\n",
        "    return res"
      ]
    },
    {
      "cell_type": "code",
      "execution_count": 32,
      "metadata": {
        "id": "u9nfSZO9Hj43",
        "outputId": "55e889c0-32ab-4780-ca0b-d19197841a37"
      },
      "outputs": [
        {
          "data": {
            "text/plain": [
              "[True, False, True, True, False, False, True]"
            ]
          },
          "execution_count": 32,
          "metadata": {},
          "output_type": "execute_result"
        }
      ],
      "source": [
        "check(2,3,4,56,73,67,78)"
      ]
    },
    {
      "cell_type": "code",
      "execution_count": 40,
      "metadata": {
        "id": "fBdK6CnrHj43"
      },
      "outputs": [
        {
          "data": {
            "text/plain": [
              "[True, False, True, True, False, False, True]"
            ]
          },
          "execution_count": 40,
          "metadata": {},
          "output_type": "execute_result"
        }
      ],
      "source": [
        "def check(*nums):\n",
        "    res = []\n",
        "    for num in nums:\n",
        "        if num % 2 == 0:\n",
        "            res.append(True)\n",
        "        else:\n",
        "            res.append(False)\n",
        "    return res\n",
        "\n",
        "check(2,3,4,56,73,67,78)"
      ]
    },
    {
      "cell_type": "markdown",
      "metadata": {
        "id": "KdS9jZfaHj43"
      },
      "source": [
        "# keyword argument"
      ]
    },
    {
      "cell_type": "code",
      "execution_count": 47,
      "metadata": {
        "id": "43QGpPH5Hj43"
      },
      "outputs": [
        {
          "data": {
            "text/plain": [
              "True"
            ]
          },
          "execution_count": 47,
          "metadata": {},
          "output_type": "execute_result"
        }
      ],
      "source": [
        "def check(num:int = 5, divisor:int = 2) -> bool: #if argument values not given, default values 4 & 2 will be passed as argument values\n",
        "    if num % divisor == 0:\n",
        "        return True\n",
        "    else:\n",
        "        return False\n",
        "\n",
        "check(9,3)"
      ]
    },
    {
      "cell_type": "code",
      "execution_count": 48,
      "metadata": {
        "id": "WPbquqGGHj43",
        "outputId": "1676a210-6a9d-4fa4-a2da-8a240689324f"
      },
      "outputs": [
        {
          "data": {
            "text/plain": [
              "False"
            ]
          },
          "execution_count": 48,
          "metadata": {},
          "output_type": "execute_result"
        }
      ],
      "source": [
        "check()"
      ]
    },
    {
      "cell_type": "code",
      "execution_count": 49,
      "metadata": {
        "id": "CVrmVl7uHj44",
        "outputId": "a1bdc400-1f9d-43f4-97b4-7bf44e45a32f"
      },
      "outputs": [
        {
          "data": {
            "text/plain": [
              "True"
            ]
          },
          "execution_count": 49,
          "metadata": {},
          "output_type": "execute_result"
        }
      ],
      "source": [
        "check(divisor=3, num=9)"
      ]
    },
    {
      "cell_type": "code",
      "execution_count": 50,
      "metadata": {
        "id": "t76YoLvXHj44",
        "outputId": "2186587a-e83b-4e9e-969a-11fdf036fa2f"
      },
      "outputs": [
        {
          "data": {
            "text/plain": [
              "True"
            ]
          },
          "execution_count": 50,
          "metadata": {},
          "output_type": "execute_result"
        }
      ],
      "source": [
        "check(9, divisor=3)"
      ]
    },
    {
      "cell_type": "code",
      "execution_count": 53,
      "metadata": {},
      "outputs": [
        {
          "data": {
            "text/plain": [
              "True"
            ]
          },
          "execution_count": 53,
          "metadata": {},
          "output_type": "execute_result"
        }
      ],
      "source": [
        "def check(num=5, divisor=2):\n",
        "    if num % divisor == 0:\n",
        "        return True\n",
        "    else:\n",
        "        return False\n",
        "\n",
        "check(9,3)"
      ]
    },
    {
      "cell_type": "markdown",
      "metadata": {
        "id": "Klj_1MkYHj44"
      },
      "source": [
        "# **kwargs"
      ]
    },
    {
      "cell_type": "code",
      "execution_count": 66,
      "metadata": {},
      "outputs": [
        {
          "name": "stdout",
          "output_type": "stream",
          "text": [
            "('name', 'age', 'email')\n"
          ]
        }
      ],
      "source": [
        "def inf(*kwargs):\n",
        "    print(kwargs)    \n",
        "\n",
        "inf('name', 'age', 'email')"
      ]
    },
    {
      "cell_type": "code",
      "execution_count": 67,
      "metadata": {},
      "outputs": [
        {
          "name": "stdout",
          "output_type": "stream",
          "text": [
            "{'name': 'John', 'age': 23, 'email': 'john@gmail.com'}\n"
          ]
        }
      ],
      "source": [
        "def inf(**kwargs): #'**' used for taking dictionaries \n",
        "    print(kwargs)    \n",
        "\n",
        "inf(name='John', age=23, email='john@gmail.com')"
      ]
    },
    {
      "cell_type": "code",
      "execution_count": 68,
      "metadata": {},
      "outputs": [],
      "source": [
        "def getInfo(*args, **kwargs):\n",
        "    print(args)\n",
        "    for key, val in kwargs.items():\n",
        "        print(key, ':', val)"
      ]
    },
    {
      "cell_type": "code",
      "execution_count": 69,
      "metadata": {},
      "outputs": [
        {
          "name": "stdout",
          "output_type": "stream",
          "text": [
            "('john@', 'aley@', 'alex@')\n",
            "name : John\n",
            "age : 23\n",
            "email : john@gmail.com\n"
          ]
        }
      ],
      "source": [
        "getInfo('john@','aley@', 'alex@', name='John', age=23, email='john@gmail.com')"
      ]
    },
    {
      "cell_type": "markdown",
      "metadata": {
        "id": "GkCBBjgOHj45"
      },
      "source": [
        "# Recursion"
      ]
    },
    {
      "cell_type": "code",
      "execution_count": 1,
      "metadata": {
        "id": "zr8sgpAyHj45",
        "outputId": "1dbe825c-f0cd-4e01-b7ad-1fbcb711a167"
      },
      "outputs": [
        {
          "data": {
            "text/plain": [
              "55"
            ]
          },
          "execution_count": 1,
          "metadata": {},
          "output_type": "execute_result"
        }
      ],
      "source": [
        "summ =0\n",
        "for num in range(1,11):\n",
        "    summ = summ + num\n",
        "summ"
      ]
    },
    {
      "cell_type": "code",
      "execution_count": 2,
      "metadata": {
        "id": "mfZ1J8g1Hj45"
      },
      "outputs": [
        {
          "data": {
            "text/plain": [
              "55"
            ]
          },
          "execution_count": 2,
          "metadata": {},
          "output_type": "execute_result"
        }
      ],
      "source": [
        "#using recursion\n",
        "def summation(num: int) -> int:\n",
        "    if num < 0:\n",
        "        return 0 # return 0 means function will stop here\n",
        "    return num + summation(num - 1)\n",
        "\n",
        "summation(10)"
      ]
    },
    {
      "cell_type": "code",
      "execution_count": 8,
      "metadata": {
        "id": "ZZfcZ9bAHj45",
        "outputId": "e164e20c-604d-4d87-cdd3-ea8f30b7b2de"
      },
      "outputs": [
        {
          "data": {
            "text/plain": [
              "55"
            ]
          },
          "execution_count": 8,
          "metadata": {},
          "output_type": "execute_result"
        }
      ],
      "source": [
        "def summation(num: int) -> int:\n",
        "    if num < 0:\n",
        "        return 0\n",
        "    return num + summation(num - 1)\n",
        "\n",
        "summation(num = int(input(\"Please Enter number :\")))"
      ]
    },
    {
      "cell_type": "markdown",
      "metadata": {},
      "source": [
        "### Lambda"
      ]
    },
    {
      "cell_type": "code",
      "execution_count": 1,
      "metadata": {},
      "outputs": [],
      "source": [
        "#anonymous function uses the variable where the function resides \n",
        "is_even = lambda num: \"Even\" if num%2==0 else \"Odd\""
      ]
    },
    {
      "cell_type": "code",
      "execution_count": 2,
      "metadata": {},
      "outputs": [
        {
          "data": {
            "text/plain": [
              "'Odd'"
            ]
          },
          "execution_count": 2,
          "metadata": {},
          "output_type": "execute_result"
        }
      ],
      "source": [
        "is_even(9)"
      ]
    },
    {
      "cell_type": "code",
      "execution_count": 3,
      "metadata": {},
      "outputs": [],
      "source": [
        "equation = lambda a, b: (a**2) + (2*a*b) + (b**2)"
      ]
    },
    {
      "cell_type": "code",
      "execution_count": 4,
      "metadata": {},
      "outputs": [
        {
          "data": {
            "text/plain": [
              "25"
            ]
          },
          "execution_count": 4,
          "metadata": {},
          "output_type": "execute_result"
        }
      ],
      "source": [
        "equation(2,3)"
      ]
    },
    {
      "attachments": {},
      "cell_type": "markdown",
      "metadata": {},
      "source": [
        "### nested function"
      ]
    },
    {
      "cell_type": "code",
      "execution_count": 1,
      "metadata": {},
      "outputs": [
        {
          "name": "stdout",
          "output_type": "stream",
          "text": [
            "------- Menu -------\n",
            "1. espresso  |  1.99\n",
            "2. coffee    |   2.5\n",
            "3. cake      |  2.79\n",
            "4. soup      |   4.5\n",
            "5. sandwich  |  4.99\n",
            "\n",
            "You have ordered 3 items\n",
            "['espresso', 'cake', 'sandwich']\n",
            "Calculating bill subtotal...\n",
            "Subtotal for the order is: 9.77\n",
            "Calculating tax from subtotal...\n",
            "Tax for the order is: 1.47\n",
            "Grand Total 11.24\n",
            "Item names ['espresso', 'cake', 'sandwich']\n"
          ]
        }
      ],
      "source": [
        "menu = {\n",
        "    1: {\"name\": 'espresso',\n",
        "        \"price\": 1.99},\n",
        "    2: {\"name\": 'coffee', \n",
        "        \"price\": 2.50},\n",
        "    3: {\"name\": 'cake', \n",
        "        \"price\": 2.79},\n",
        "    4: {\"name\": 'soup', \n",
        "        \"price\": 4.50},\n",
        "    5: {\"name\": 'sandwich',\n",
        "        \"price\": 4.99}\n",
        "}\n",
        "\n",
        "# will display menu\n",
        "def display_menu():\n",
        "    print(\"------- Menu -------\")\n",
        "    for selection in menu:\n",
        "        print(f\"{selection}. {menu[selection]['name'] : <9} | {menu[selection]['price'] : >5}\")\n",
        "    print()\n",
        "\n",
        "# will create an order by prompting user to select menu items\n",
        "def take_order():\n",
        "    display_menu()\n",
        "    order = []\n",
        "    count = 1\n",
        "    for i in range(3):\n",
        "        item = input('Select menu item number ' + str(count) + ' (from 1 to 5): ')\n",
        "        count += 1\n",
        "        order.append(menu[int(item)])\n",
        "    return order\n",
        "\n",
        "# will print out the items in an order\n",
        "def print_order(order):\n",
        "    print('You have ordered ' + str(len(order)) + ' items')\n",
        "    items = []\n",
        "    items = [item[\"name\"] for item in order]\n",
        "    print(items)\n",
        "\n",
        "def calculate_subtotal(order):\n",
        "    print('Calculating bill subtotal...')\n",
        "    subtotal = 0\n",
        "    for item in order:\n",
        "        subtotal += item[\"price\"]\n",
        "    return round(subtotal, 2)\n",
        "\n",
        "def calculate_tax(subtotal):\n",
        "    print('Calculating tax from subtotal...')\n",
        "    tax = subtotal*.15\n",
        "    return round(tax, 2)\n",
        "\n",
        "def summarize_order(order,subtotal,tax):\n",
        "    total = subtotal + tax\n",
        "    names = []\n",
        "    names = [item[\"name\"] for item in order]\n",
        "    return names, total\n",
        "\n",
        "\n",
        "def main():\n",
        "    order = take_order()\n",
        "    print_order(order)\n",
        "    subtotal = calculate_subtotal(order)\n",
        "    print(\"Subtotal for the order is: \" + str(subtotal))\n",
        "    tax = calculate_tax(subtotal)\n",
        "    print(\"Tax for the order is: \" + str(tax))\n",
        "    names, total = summarize_order(order,subtotal,tax)\n",
        "    print(\"Grand Total\", total)\n",
        "    print(\"Item names\", names)\n",
        "\n",
        "if __name__ == \"__main__\":\n",
        "    main()"
      ]
    }
  ],
  "metadata": {
    "colab": {
      "name": "functions.ipynb",
      "provenance": []
    },
    "kernelspec": {
      "display_name": "Python 3.10.6 64-bit",
      "language": "python",
      "name": "python3"
    },
    "language_info": {
      "codemirror_mode": {
        "name": "ipython",
        "version": 3
      },
      "file_extension": ".py",
      "mimetype": "text/x-python",
      "name": "python",
      "nbconvert_exporter": "python",
      "pygments_lexer": "ipython3",
      "version": "3.10.6 (tags/v3.10.6:9c7b4bd, Aug  1 2022, 21:53:49) [MSC v.1932 64 bit (AMD64)]"
    },
    "orig_nbformat": 4,
    "vscode": {
      "interpreter": {
        "hash": "369f2c481f4da34e4445cda3fffd2e751bd1c4d706f27375911949ba6bb62e1c"
      }
    }
  },
  "nbformat": 4,
  "nbformat_minor": 0
}
