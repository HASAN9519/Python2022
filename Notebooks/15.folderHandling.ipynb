{
 "cells": [
  {
   "cell_type": "markdown",
   "metadata": {
    "toc": true
   },
   "source": [
    "<h1>Table of Contents<span class=\"tocSkip\"></span></h1>\n",
    "<div class=\"toc\"><ul class=\"toc-item\"><li><span><a href=\"#Changing-Directory\" data-toc-modified-id=\"Changing-Directory-1\"><span class=\"toc-item-num\">1&nbsp;&nbsp;</span>Changing Directory</a></span></li><li><span><a href=\"#Folder-Operations\" data-toc-modified-id=\"Folder-Operations-2\"><span class=\"toc-item-num\">2&nbsp;&nbsp;</span>Folder Operations</a></span><ul class=\"toc-item\"><li><span><a href=\"#Folder-Creation\" data-toc-modified-id=\"Folder-Creation-2.1\"><span class=\"toc-item-num\">2.1&nbsp;&nbsp;</span>Folder Creation</a></span></li><li><span><a href=\"#Folder-Renaming\" data-toc-modified-id=\"Folder-Renaming-2.2\"><span class=\"toc-item-num\">2.2&nbsp;&nbsp;</span>Folder Renaming</a></span></li><li><span><a href=\"#Folder-and-file-Removing\" data-toc-modified-id=\"Folder-and-file-Removing-2.3\"><span class=\"toc-item-num\">2.3&nbsp;&nbsp;</span>Folder and file Removing</a></span></li><li><span><a href=\"#Walking\" data-toc-modified-id=\"Walking-2.4\"><span class=\"toc-item-num\">2.4&nbsp;&nbsp;</span>Walking</a></span></li></ul></li></ul></div>"
   ]
  },
  {
   "cell_type": "markdown",
   "metadata": {},
   "source": [
    "### Changing Directory"
   ]
  },
  {
   "cell_type": "code",
   "execution_count": 1,
   "metadata": {},
   "outputs": [],
   "source": [
    "# importing os module or pakage to work with directory\n",
    "import os"
   ]
  },
  {
   "cell_type": "code",
   "execution_count": 2,
   "metadata": {},
   "outputs": [
    {
     "data": {
      "text/plain": [
       "'c:\\\\Users\\\\SHEHA\\\\Downloads\\\\GitHubRepository\\\\Python2022\\\\Notebooks'"
      ]
     },
     "execution_count": 2,
     "metadata": {},
     "output_type": "execute_result"
    }
   ],
   "source": [
    "# current location\n",
    "os.getcwd()"
   ]
  },
  {
   "cell_type": "code",
   "execution_count": 5,
   "metadata": {},
   "outputs": [
    {
     "data": {
      "text/plain": [
       "['.git',\n",
       " 'ExtraNotebooks',\n",
       " 'firpro.py',\n",
       " 'new.py',\n",
       " 'Notebooks',\n",
       " 'README.md',\n",
       " 'test.py',\n",
       " 'test4.py',\n",
       " 'test5.py']"
      ]
     },
     "execution_count": 5,
     "metadata": {},
     "output_type": "execute_result"
    }
   ],
   "source": [
    "# getting contents for specified directory\n",
    "os.listdir('c:\\\\Users\\\\SHEHA\\\\Downloads\\\\GitHubRepository\\\\Python2022')"
   ]
  },
  {
   "cell_type": "code",
   "execution_count": 4,
   "metadata": {},
   "outputs": [
    {
     "data": {
      "text/plain": [
       "['01.variables.ipynb',\n",
       " '02.formatting.ipynb',\n",
       " '03.datastructures.ipynb',\n",
       " '04.operators.ipynb',\n",
       " '05.conditionals.ipynb',\n",
       " '06.loops.ipynb',\n",
       " '07.listcomprehension.ipynb',\n",
       " '08.functions.ipynb',\n",
       " '09.SpecialFunctions.ipynb',\n",
       " '10.OOP.ipynb',\n",
       " '11.OOP2.ipynb',\n",
       " '12.inheritance.ipynb',\n",
       " '13.exceptions.ipynb',\n",
       " '14.filehandling.ipynb',\n",
       " '15.folderHandling.ipynb',\n",
       " 'f1.txt',\n",
       " 'f2.txt',\n",
       " 'f3.txt',\n",
       " 'task.ipynb']"
      ]
     },
     "execution_count": 4,
     "metadata": {},
     "output_type": "execute_result"
    }
   ],
   "source": [
    "# current directory files\n",
    "os.listdir()"
   ]
  },
  {
   "cell_type": "code",
   "execution_count": 6,
   "metadata": {},
   "outputs": [
    {
     "data": {
      "text/plain": [
       "'c:\\\\Users\\\\SHEHA\\\\Downloads\\\\GitHubRepository\\\\Python2022'"
      ]
     },
     "execution_count": 6,
     "metadata": {},
     "output_type": "execute_result"
    }
   ],
   "source": [
    "# changing current to specified directory\n",
    "os.chdir('c:\\\\Users\\\\SHEHA\\\\Downloads\\\\GitHubRepository\\\\Python2022')\n",
    "os.getcwd()"
   ]
  },
  {
   "cell_type": "code",
   "execution_count": 8,
   "metadata": {},
   "outputs": [
    {
     "data": {
      "text/plain": [
       "'c:\\\\Users\\\\SHEHA\\\\Downloads'"
      ]
     },
     "execution_count": 8,
     "metadata": {},
     "output_type": "execute_result"
    }
   ],
   "source": [
    "# changing current to parent directory\n",
    "os.chdir('..')\n",
    "os.getcwd()"
   ]
  },
  {
   "cell_type": "markdown",
   "metadata": {},
   "source": [
    "### Folder Operations"
   ]
  },
  {
   "cell_type": "markdown",
   "metadata": {},
   "source": [
    "#### Folder Creation"
   ]
  },
  {
   "cell_type": "code",
   "execution_count": 10,
   "metadata": {},
   "outputs": [
    {
     "data": {
      "text/plain": [
       "'c:\\\\Users\\\\SHEHA\\\\Downloads\\\\GitHubRepository\\\\Python2022'"
      ]
     },
     "execution_count": 10,
     "metadata": {},
     "output_type": "execute_result"
    }
   ],
   "source": [
    "os.chdir('c:\\\\Users\\\\SHEHA\\\\Downloads\\\\GitHubRepository\\\\Python2022')\n",
    "os.getcwd()"
   ]
  },
  {
   "cell_type": "code",
   "execution_count": 11,
   "metadata": {},
   "outputs": [],
   "source": [
    "# mkdir creates single directory at a time\n",
    "os.mkdir('New1')\n",
    "os.mkdir('New1\\\\New1.1')\n",
    "os.mkdir('New1\\\\New1.2')"
   ]
  },
  {
   "cell_type": "code",
   "execution_count": 31,
   "metadata": {},
   "outputs": [],
   "source": [
    "# mkdirs creates multiple directory at a time\n",
    "# creates New2 and New2.2 at same time but mkdir will give error\n",
    "os.makedirs('New2\\\\New2.1')\n",
    "os.makedirs('New2\\\\New2.2')"
   ]
  },
  {
   "cell_type": "markdown",
   "metadata": {},
   "source": [
    "#### Folder Renaming"
   ]
  },
  {
   "cell_type": "code",
   "execution_count": 32,
   "metadata": {},
   "outputs": [],
   "source": [
    "# first old name and then new name in argument\n",
    "os.rename('New1', 'New11')\n",
    "os.rename('New2', 'New22')\n"
   ]
  },
  {
   "cell_type": "code",
   "execution_count": 17,
   "metadata": {},
   "outputs": [],
   "source": [
    "# use double backslash or use r in front of string to rename folder or file inside directory\n",
    "os.rename(r'New11\\New1.1', r'New11\\New11.1')"
   ]
  },
  {
   "cell_type": "code",
   "execution_count": 18,
   "metadata": {},
   "outputs": [],
   "source": [
    "os.rename(r'New11\\New1.2', r'New11\\New11.2')"
   ]
  },
  {
   "cell_type": "code",
   "execution_count": 33,
   "metadata": {},
   "outputs": [],
   "source": [
    "os.rename('New22\\\\New2.1', 'New22\\\\New22.1')\n",
    "os.rename('New22\\\\New2.2', 'New22\\\\New22.2')"
   ]
  },
  {
   "cell_type": "code",
   "execution_count": 19,
   "metadata": {},
   "outputs": [],
   "source": [
    "os.rename('test.py','test1.py')"
   ]
  },
  {
   "cell_type": "markdown",
   "metadata": {},
   "source": [
    "#### Folder and file Removing"
   ]
  },
  {
   "cell_type": "code",
   "execution_count": 27,
   "metadata": {},
   "outputs": [],
   "source": [
    "# deleting file inside directory\n",
    "# remove only used for delete file not directory or folder\n",
    "os.remove('Notebooks\\\\f3.txt')"
   ]
  },
  {
   "cell_type": "code",
   "execution_count": 28,
   "metadata": {},
   "outputs": [],
   "source": [
    "# creating empty directory in current directory\n",
    "os.mkdir('New33')"
   ]
  },
  {
   "cell_type": "code",
   "execution_count": 29,
   "metadata": {},
   "outputs": [],
   "source": [
    "# deleting empty directory using removedirs\n",
    "os.removedirs('New33')"
   ]
  },
  {
   "cell_type": "code",
   "execution_count": 35,
   "metadata": {},
   "outputs": [],
   "source": [
    "# removedirs can't directly delete directory with child folder of file \n",
    "# first delete child files or folders and parent directory deletes automatically when last clild deletes \n",
    "os.removedirs(r'New22\\New22.1')\n",
    "os.removedirs(r'New22\\New22.2')"
   ]
  },
  {
   "cell_type": "markdown",
   "metadata": {},
   "source": [
    "#### Walking"
   ]
  },
  {
   "cell_type": "code",
   "execution_count": 36,
   "metadata": {},
   "outputs": [
    {
     "data": {
      "text/plain": [
       "['.git',\n",
       " 'ExtraNotebooks',\n",
       " 'firpro.py',\n",
       " 'new.py',\n",
       " 'New11',\n",
       " 'Notebooks',\n",
       " 'README.md',\n",
       " 'test1.py',\n",
       " 'test4.py',\n",
       " 'test5.py']"
      ]
     },
     "execution_count": 36,
     "metadata": {},
     "output_type": "execute_result"
    }
   ],
   "source": [
    "# listdir only shows folders of current or specified directory but not their child directories or folders\n",
    "os.listdir()"
   ]
  },
  {
   "cell_type": "code",
   "execution_count": 37,
   "metadata": {},
   "outputs": [
    {
     "data": {
      "text/plain": [
       "<generator object _walk at 0x0000025622C6CA50>"
      ]
     },
     "execution_count": 37,
     "metadata": {},
     "output_type": "execute_result"
    }
   ],
   "source": [
    "# walk fuction creates generator object and returns it\n",
    "# creating generator object of current directory specified by .\n",
    "# generator object stores all path, directory and file info of specified directory\n",
    "os.walk('.')"
   ]
  },
  {
   "cell_type": "code",
   "execution_count": 42,
   "metadata": {},
   "outputs": [
    {
     "name": "stdout",
     "output_type": "stream",
     "text": [
      ". ['.git', 'ExtraNotebooks', 'New11', 'Notebooks'] ['firpro.py', 'new.py', 'README.md', 'test1.py', 'test4.py', 'test5.py']\n",
      ".\\.git ['fsmonitor--daemon', 'hooks', 'info', 'logs', 'objects', 'refs'] ['COMMIT_EDITMSG', 'config', 'description', 'FETCH_HEAD', 'HEAD', 'index', 'ORIG_HEAD', 'packed-refs']\n",
      ".\\.git\\fsmonitor--daemon ['cookies'] []\n",
      ".\\.git\\fsmonitor--daemon\\cookies [] []\n",
      ".\\.git\\hooks [] ['applypatch-msg.sample', 'commit-msg.sample', 'fsmonitor-watchman.sample', 'post-update.sample', 'pre-applypatch.sample', 'pre-commit.sample', 'pre-merge-commit.sample', 'pre-push.sample', 'pre-rebase.sample', 'pre-receive.sample', 'prepare-commit-msg.sample', 'push-to-checkout.sample', 'update.sample']\n",
      ".\\.git\\info [] ['exclude']\n",
      ".\\.git\\logs ['refs'] ['HEAD']\n",
      ".\\.git\\logs\\refs ['heads', 'remotes'] []\n",
      ".\\.git\\logs\\refs\\heads [] ['main']\n",
      ".\\.git\\logs\\refs\\remotes ['origin'] []\n",
      ".\\.git\\logs\\refs\\remotes\\origin [] ['HEAD', 'main']\n",
      ".\\.git\\objects ['00', '02', '03', '05', '06', '09', '0a', '0b', '0c', '0d', '0e', '0f', '10', '13', '14', '17', '19', '1b', '1c', '1d', '1e', '20', '22', '26', '28', '29', '2a', '2e', '2f', '30', '32', '34', '35', '36', '37', '38', '3a', '3b', '3d', '3e', '3f', '40', '41', '42', '43', '45', '47', '48', '49', '4a', '4c', '4e', '4f', '50', '51', '53', '56', '59', '5a', '5d', '5f', '60', '61', '62', '63', '64', '65', '67', '69', '6b', '6c', '6e', '71', '74', '75', '77', '78', '79', '7a', '7c', '7e', '81', '82', '83', '85', '87', '88', '8a', '8b', '8e', '90', '92', '93', '97', '98', '9b', '9d', '9e', 'a0', 'a3', 'a4', 'a5', 'a7', 'ac', 'af', 'b0', 'b2', 'b6', 'b7', 'b8', 'b9', 'bb', 'bd', 'be', 'c0', 'c4', 'c5', 'c8', 'cb', 'cc', 'cd', 'ce', 'cf', 'd0', 'd2', 'd3', 'd4', 'd5', 'd6', 'd8', 'dc', 'dd', 'e0', 'e2', 'e4', 'e5', 'e6', 'e7', 'e9', 'ea', 'ec', 'ee', 'ef', 'f1', 'f2', 'f3', 'f5', 'f7', 'f8', 'f9', 'fc', 'fd', 'fe', 'ff', 'info', 'pack'] []\n",
      ".\\.git\\objects\\00 [] ['7c5ef8ada4b3a20fd4d91d3e62a2c986958c53', '9a81ba813e629081e0cf15ca77270beae704bc']\n",
      ".\\.git\\objects\\02 [] ['fc72c5afdd0e5566f0c810a010fc29ddfeb9b4']\n",
      ".\\.git\\objects\\03 [] ['359d5252711286e97e31fd04dcabf307c56bef', 'cb5d96eed9bdee20e7dee0595f355c61e220b4']\n",
      ".\\.git\\objects\\05 [] ['bed326de23add5fc5707a0fd34aee0d8262a70']\n",
      ".\\.git\\objects\\06 [] ['4fc823429d209234733593118548680264dbe2']\n",
      ".\\.git\\objects\\09 [] ['0d4476e0b91adf4f3074d500d7abdf709bf3f1', '93915df7d277d503ae99f67a8efb7450115b90']\n",
      ".\\.git\\objects\\0a [] ['8cce05ae82fea4c0a990e986a6f199945a027c', 'fce30c7dbfb991083bf1bcd7fdd3f5c217c185']\n",
      ".\\.git\\objects\\0b [] ['09e588fca97ac7a000b6dcf2f5ecbcdf001b70', '7ca4968268952ff08cc07984ba943eac36787f']\n",
      ".\\.git\\objects\\0c [] ['28e7d28b41277ee01b15bbed09772d731a53d4']\n",
      ".\\.git\\objects\\0d [] ['11ce3f31e99885c15287960e75cff88ed7be7c', '87a8e0d9e1b6237caa45da8212c7ad2dd0aefd', 'def3a57a9adefff97c5e5c6592feeda116bdd8']\n",
      ".\\.git\\objects\\0e [] ['cd0aee74ca08f200b8ca5b563b81dcc97301ac']\n",
      ".\\.git\\objects\\0f [] ['5ff334990c776bcca772069155abfe7b055e20']\n",
      ".\\.git\\objects\\10 [] ['8923eebc81e5ab96f11d7a1702e6e3bfbd09f7']\n",
      ".\\.git\\objects\\13 [] ['cd8ac74979baa90e9ac055504eee1fe1f243a0']\n",
      ".\\.git\\objects\\14 [] ['399d35d73b9b9d056ad8ee0655b14e67858dc9']\n",
      ".\\.git\\objects\\17 [] ['c2f95a0aa70bcfb45b2e6ad8c9baceb6c1e05e']\n",
      ".\\.git\\objects\\19 [] ['4368976d9157e262cc1ab728bccd195f50bfcd', '49045694a0c04f26b442e9be20ae35e0585cd4']\n",
      ".\\.git\\objects\\1b [] ['36597142d85e8a87272b71ad2b0004335d6d7e', '963f51eadaf3d5d136c8f3f2d69e55db1e2012']\n",
      ".\\.git\\objects\\1c [] ['bd8bd033bebde11685ba24ad9e66e3d5fd8353']\n",
      ".\\.git\\objects\\1d [] ['5dd9066c4c2575b9abb732dc6a87dab86a38a5']\n",
      ".\\.git\\objects\\1e [] ['290712056fa4925c6b7275c2d402a40dbf8793']\n",
      ".\\.git\\objects\\20 [] ['ca71de6171e06ecfde895cc39f73a374499dbe', 'ce756c171fdd3aaaebabb01b7d7bd59ac01532', 'f039f1955574763a3f0f99396181a4c0e22703']\n",
      ".\\.git\\objects\\22 [] ['1493dbed8c3ad7d401090faa25b60e2f23f22b']\n",
      ".\\.git\\objects\\26 [] ['caac4291f3e9800a500937e8e94461fe4fed13']\n",
      ".\\.git\\objects\\28 [] ['e16f1a7e9043accd481732488226d89c09e4a9']\n",
      ".\\.git\\objects\\29 [] ['1501c39ff1bcea37dbf939d7266d27daf8a947']\n",
      ".\\.git\\objects\\2a [] ['2908fe144ddc53f169f31941d53be166ddf2d4', 'b6d3453d5d4f06b052931c2b17f40a7019c910']\n",
      ".\\.git\\objects\\2e [] ['1e478f3e875c62fe113c161605d813adec78ec', 'b039ff9d3a5d9b5d62e6ae8dced436cf156765']\n",
      ".\\.git\\objects\\2f [] ['87719ecae4c4fd84dbd6232f7297499fc47f3f', 'cb763c3e6efc2f3176b4e924acbfdf9485d9f3']\n",
      ".\\.git\\objects\\30 [] ['3d3b7d5cc2101ff6cd14e5b528e047f2f6ca45']\n",
      ".\\.git\\objects\\32 [] ['875a722efbe10bd4cc44cfd9c31075146477d9']\n",
      ".\\.git\\objects\\34 [] ['6f7c76629262240b305eeb43e322f4b8c1a865', 'b136951d45aeaf8e46334af1ec3b747aba924c']\n",
      ".\\.git\\objects\\35 [] ['82b93e9e87d042e725d127699074165764896f', '9dd5d8ced9daf6f2864ea839d90b2bf7cab931']\n",
      ".\\.git\\objects\\36 [] ['9c4a9e31ce02a1ed31d62deeae623828131b2a']\n",
      ".\\.git\\objects\\37 [] ['0fc5b260df084f6369f42fdfe01a677b3614ec']\n",
      ".\\.git\\objects\\38 [] ['a3e48e8293c5d5d5f97d09518130155b778875']\n",
      ".\\.git\\objects\\3a [] ['0ee0ffc5b0e616ba339174bfce2416f7b2192b']\n",
      ".\\.git\\objects\\3b [] ['2a8d2cf378b0daa30e802b14878ba5ab7018bc', '3fb546424d8ff790e4ae9e259688260b7c98ca', 'b348466898d0823d162f61e43537f64e7a09d9']\n",
      ".\\.git\\objects\\3d [] ['63b6440078f7b3a7e924d93179e78b44ce6693']\n",
      ".\\.git\\objects\\3e [] ['be72f884808ab04d6b850fda3f150aecf97ea8', 'edbc57c09c2cb97b1609f077496aa6d88dea1b']\n",
      ".\\.git\\objects\\3f [] ['6a8d42693fb95e1d84cd7d9b45b4e09a7c0d96', 'a4aba5b569df0d5855674280375e84e37889d7']\n",
      ".\\.git\\objects\\40 [] ['07e85deb8d34b04ca0d826fc867537a0fafe31', '2f3f18bc270be58f89e52cc932097fb2d2ce1c', '77fd94861d908cc45aeefc614c129d1aae7e66']\n",
      ".\\.git\\objects\\41 [] ['4c66192ea06a7312ba08a0e2718be931a68808', '8c6d1347825f52e448dbc9250661763c3b8fbb', '9eaf4a320da8fa63003b474295dac0fac0f0e7']\n",
      ".\\.git\\objects\\42 [] ['e41e7f44989d59fd359a4c7a4d69979de0c69b']\n",
      ".\\.git\\objects\\43 [] ['c65a38174a3f57b925f870b4e992d7445498f7']\n",
      ".\\.git\\objects\\45 [] ['c096d4e2a460333a948a91a7ed774fcf85fd85', 'f5b244bd6571070fb36065b5d358c6c9b66664']\n",
      ".\\.git\\objects\\47 [] ['f0eca5b6dfaf8fe7f3c2a7e1f31107c25b2607']\n",
      ".\\.git\\objects\\48 [] ['43041f75c828a3b65e7551294c2c2968aabf73']\n",
      ".\\.git\\objects\\49 [] ['5e30c3dba3d2a64a4e9e6c60ea4385b2e0f433', '6039a5e4894392bbf804b741ead267ead64205', 'a3db9b4f4ca5690fabe3625988ce4b9909e21c', 'b27b64f9039bd133656d88b6d92baa05216d8d']\n",
      ".\\.git\\objects\\4a [] ['2aa5613ae0ff2002471f70f76d24fa394d2185']\n",
      ".\\.git\\objects\\4c [] ['1610a2452dee6a96cda653911f5a33d9775c26', '686073fb85920ac64a89db93acb227965880be', '9bcbcda7a65b5449fc6707516a886f0efe477d', 'b56e0ebc654d0454f5bb7af5f4ab6960abb762']\n",
      ".\\.git\\objects\\4e [] ['ef817364768f3c325af8266757e0b511526689', 'fbff2783126e357c0e6bb8a582f798f1e918dd']\n",
      ".\\.git\\objects\\4f [] ['223f32053059be7f8c878fd9c8dc08a78cfee9']\n",
      ".\\.git\\objects\\50 [] ['e7a61c0de298fc4ca35b06f5974e5547b0f330']\n",
      ".\\.git\\objects\\51 [] ['a700ec11f49e7ebad345e902d789f6b8608518']\n",
      ".\\.git\\objects\\53 [] ['c722042e857fb3be38fd78a29a6908f223dd22']\n",
      ".\\.git\\objects\\56 [] ['fbd97976e44c990b199764b958dc64da062148']\n",
      ".\\.git\\objects\\59 [] ['8ea74d1b9866524510051c713b97e909d6cad3']\n",
      ".\\.git\\objects\\5a [] ['195a5ce8b755fe5184d27133480edbf9841e9b', '23f392bf58cbfdf2fefdb8fbd481574330ed1a', 'bb6b35439930c86d25afbb2d8fcfaf8c0b8516']\n",
      ".\\.git\\objects\\5d [] ['37b129a9aabdb8a2da7e2cce752d8d2c097f22']\n",
      ".\\.git\\objects\\5f [] ['1d194fb718dfb33a1d23dda402275d9a16dad4', '679d491131f86523de76633aed8369c4cd3d68', '9451d54d78f2f8a5aeb645372c724544ead27d', 'b28c3a290028d76d70b111299cdd991cea28e8', 'cb1dff7af979be3cdd5abac6d66087be7b568f']\n",
      ".\\.git\\objects\\60 [] ['cd7cf017301dfdb80207f9192027bdae83babd']\n",
      ".\\.git\\objects\\61 [] ['859decf804726744413377c82dde7acf767aee']\n",
      ".\\.git\\objects\\62 [] ['9dd2b7beb9ea5072d35a64fb5e8657ecb6826a', 'c39bedda5e57ee768335e7cdc6e52ec6f4bffe']\n",
      ".\\.git\\objects\\63 [] ['af69f60b700add8264ec4c0d91e14a7a196f47']\n",
      ".\\.git\\objects\\64 [] ['6d8a2fa53e3cb2cff538550cc342e136aac34c', 'aa4603f4f062cd8600d76815849c1131ca2165']\n",
      ".\\.git\\objects\\65 [] ['13413e0f70cd1d70e34b810e9280370812a340']\n",
      ".\\.git\\objects\\67 [] ['48a48aec507fb492a420d30cff945ecb416bd6', '6fde0c907d3b7088bc69e1b8b4702c9a45e997']\n",
      ".\\.git\\objects\\69 [] ['580cd15609a6253726b74e2c213f456303f44e']\n",
      ".\\.git\\objects\\6b [] ['04435284ec0d930cf071e4bfad5f2bec1fdf17']\n",
      ".\\.git\\objects\\6c [] ['80533318b5c1416be462fc6bef432c397aa3a2']\n",
      ".\\.git\\objects\\6e [] ['8ac569dce0cf9e24b0620891650381e00d40f7']\n",
      ".\\.git\\objects\\71 [] ['110303578b70426be77b28ce9bb8f217e8f3af', 'b46b391e6265c64dafdd994ef403f81be50a4d']\n",
      ".\\.git\\objects\\74 [] ['737d0103395637e7e78e37555597487e9021ad', 'b56dc82aded35b286560ffa9471ae17bf0e0d7']\n",
      ".\\.git\\objects\\75 [] ['282a3c2eeecce974433e5b37f88f81444644fa', '986cf8fc38b3fa53171ea2f04d15c96fd79e83', 'df22ea5d79f2e2347b68ed6349452cee9340f6']\n",
      ".\\.git\\objects\\77 [] ['3155839cac35401eaacba92257efade606e20d']\n",
      ".\\.git\\objects\\78 [] ['cbcf8b4f19d2f169ce80596c238b4d72fa8483']\n",
      ".\\.git\\objects\\79 [] ['3344284c91eaf28ca2c5c8ef7b4b4ad7db040f']\n",
      ".\\.git\\objects\\7a [] ['477e70929b475323ceaa9d00c53895f07e1767', 'ebee0843990f75069b1d7707420a9cb5cf8ad7']\n",
      ".\\.git\\objects\\7c [] ['54653db32a2312665e69c49a83530b41d92a64']\n",
      ".\\.git\\objects\\7e [] ['2b4e50d884f53f1f5dad009eff889aef309e1b']\n",
      ".\\.git\\objects\\81 [] ['4d651f72a5e7f975c36225082e60f2a6f967f4', '6d04c5e9f792cedf06c1382222b603302e0132', 'b21c746f32adff9f931c00e208cd181d6cc0af']\n",
      ".\\.git\\objects\\82 [] ['c148114f1877d274870d35eea05f2fa03a88f9']\n",
      ".\\.git\\objects\\83 [] ['462f6a5cbac7bdb4fbdd7d7675e359fa74ac4d', '6d0aa23ec42b81cecfa41ce503208aabef50dc', 'be9a02ef7f98b5154156c1a82e3a4c9ef5d04d']\n",
      ".\\.git\\objects\\85 [] ['90ee74f5b6d894b6b9159407a4a35c0baa61a2', 'dc197af79c9e8685906fa0e1c7f6e56d068bae', 'ea3f546c08b276a81e81abfb16d8839bd2b33f']\n",
      ".\\.git\\objects\\87 [] ['78523237d955527c897c6903541c2fbae31987', '9f4a79b2cb058e02fe4d40b6fb2c2e95dab982']\n",
      ".\\.git\\objects\\88 [] ['949f0908406d5cc2db0c6dd8d0ab8475c20622']\n",
      ".\\.git\\objects\\8a [] ['2ec0266afcd58c6d792010ecf4249573a0c00c', '4f7ad2f4ca48d4e4353dcdc7cae1b80bc28e17']\n",
      ".\\.git\\objects\\8b [] ['97c8dfb7a6d5723801d4adef65e986665114bb']\n",
      ".\\.git\\objects\\8e [] ['54e876c98147242492b9c9607b063c604b4d73']\n",
      ".\\.git\\objects\\90 [] ['0302aad76c1b742b52ea8d12bb0bc4aaaa2db2', 'a36effd24982f2c88990cf3a67a3c20136410f']\n",
      ".\\.git\\objects\\92 [] ['3e50e21b5e8a55eddff4a712dd9bbcf5933d8a', '92dee6aaba5759745806f52a4afac721587774']\n",
      ".\\.git\\objects\\93 [] ['1c7827d10ee359c5213ec9892b0772df700e8f']\n",
      ".\\.git\\objects\\97 [] ['90a822e93fc669ce6fe7e4d3e885d6ba27c4b7']\n",
      ".\\.git\\objects\\98 [] ['4d20962491499c137825326d2548dd33779ac5']\n",
      ".\\.git\\objects\\9b [] ['aa839e34082f64db3a895a194db8b6ee5b748b']\n",
      ".\\.git\\objects\\9d [] ['78aef9e7231d126ecedd5cfa193468a4432a50']\n",
      ".\\.git\\objects\\9e [] ['4256969f35984e8d41d8b4ef293c0b8993438d', '9bd5cc9ff12794220fa8d850136871738d1bc6']\n",
      ".\\.git\\objects\\a0 [] ['cd08943dcd171354cbe0280a56aa2609ee0a96']\n",
      ".\\.git\\objects\\a3 [] ['3b44b7e3465a6ef5eef588ab263fdfe669dbed']\n",
      ".\\.git\\objects\\a4 [] ['4971d02cde739985d20a7b2d7b02db631ae46e']\n",
      ".\\.git\\objects\\a5 [] ['a6c9a44e2116e759c73ab3a413e657ba4fe0fc', 'ab2dd02ccce395ab85f64e900617c3999a4cf9']\n",
      ".\\.git\\objects\\a7 [] ['3694a1a95141469f7b44977cfc5845b259c910']\n",
      ".\\.git\\objects\\ac [] ['52614d8bbf74dbccaafc86f4f91ad3b0b0b062']\n",
      ".\\.git\\objects\\af [] ['ec6014ecc4dbd1401db3304651bb1ecbed5a49']\n",
      ".\\.git\\objects\\b0 [] ['e809c53f84d3f343ba38dee8272bb36a3d0569']\n",
      ".\\.git\\objects\\b2 [] ['496e548ca11e5c678f483bfa72714eee66a6fc', 'ef522b6dca29051e55d8b12ed2239b4ad159e5']\n",
      ".\\.git\\objects\\b6 [] ['1133a8f2a98cc04b4bc28a5133b17b15516a88', '431dae6893c09fe3b38f126fd9a5dfc4a1d5ba']\n",
      ".\\.git\\objects\\b7 [] ['59c0e12a9f54c1004f24a9642cd3118a00fe63']\n",
      ".\\.git\\objects\\b8 [] ['d44c23bd38818fa315ff482dad154dc389327b', 'e3f34599668861fe12ad94d164a9be0991679c']\n",
      ".\\.git\\objects\\b9 [] ['14756221f149ad51261223409c9465887752bb', '99c5d0e14cd60ab41687cf646f70b352ce329b']\n",
      ".\\.git\\objects\\bb [] ['49574a46dcb148f4fbc617dbd85de448f859ea']\n",
      ".\\.git\\objects\\bd [] ['a94b7b43fc171a8ac07fcfe6eb9cb0b3bc778b']\n",
      ".\\.git\\objects\\be [] ['7b0df7fb66129b5a435e46d5714fcc9c2a8abd']\n",
      ".\\.git\\objects\\c0 [] ['1f64ff8ed83412d8bfb2b9bc6d42a532407a2d', 'd95d8f83f5508ccb1ab595159751eea3a2578a']\n",
      ".\\.git\\objects\\c4 [] ['3d0e99ae6bcbbab48ed506a82f7d79c13945f3', '3ddbc4c07bb89bf76201a8b33f3226e03a2694', '6c08afa8404beb1d8ed33dbb80c80806b2da11', 'a544bf505e85ab3387a441d95b6d6e8ed54372']\n",
      ".\\.git\\objects\\c5 [] ['34ebfb678c7421c3cd8fe98b2048ed95fd7b93', 'b3636fe5d7f41f2785f9b7f8cfc5d00b0ffdd2']\n",
      ".\\.git\\objects\\c8 [] ['d7ff9cb1e962bbad6789dc64ed45383bd20d4d', 'e04ab0ede7ba411c67701af19918b0801599e9', 'e63dc4c5085913358465a6cb09f6e0238e46cf']\n",
      ".\\.git\\objects\\cb [] ['ed7783674f619a409422ac525f9609377084df']\n",
      ".\\.git\\objects\\cc [] ['ef3417bf612c1e10d6d6ff344e51a63a05ba8a']\n",
      ".\\.git\\objects\\cd [] ['f9689c265b5bdc76ae309e31b025d2ee198daf']\n",
      ".\\.git\\objects\\ce [] ['4c0a85fdbdd5bcac00174f12251df4c1828ac3', 'cc25355814f396e15ef36c5fab71c83f95d225']\n",
      ".\\.git\\objects\\cf [] ['210c4bc19ed79cb37e54afb812a1e6e79b0940', '77658e7fa3c861e72b9111c1f2cb0fb0e3b430']\n",
      ".\\.git\\objects\\d0 [] ['4a2d33d1513ad776c8b1e02a6e5bdc233aed0f']\n",
      ".\\.git\\objects\\d2 [] ['2947660aa44ddbe9c8456824aaef9693012a52']\n",
      ".\\.git\\objects\\d3 [] ['707a39ea9491116369ac79b6f8107214334c92']\n",
      ".\\.git\\objects\\d4 [] ['3c3662f9233dff60a70123ffe8be3813045dda']\n",
      ".\\.git\\objects\\d5 [] ['004f8be5f766481867d753771978b2690f6b42']\n",
      ".\\.git\\objects\\d6 [] ['89a6ca79eed4db85ffdc9d8d818a75dae9653a', '9bc0f5f5de6ea4e92ea6a77b8ceecc2ed66955']\n",
      ".\\.git\\objects\\d8 [] ['615bb40d828be913e0db4b0073bcd9ccebda9b', '789b17647375de8a1466422406506e883082ef', '98869523b6b1a65987bba70d44f2546d56f4cb', 'a19559fae9bd4a65612ef382474bc43939be66']\n",
      ".\\.git\\objects\\dc [] ['779292026f83126d792f7885536e595a6f8b74', 'c7c7d2664578ff83182b7589caf0f3c6676451']\n",
      ".\\.git\\objects\\dd [] ['a47fb04ed4489268227fb8d3253859708aa956']\n",
      ".\\.git\\objects\\e0 [] ['cb72340b3a1556ae05962c4ac1c3e1bc8f767e']\n",
      ".\\.git\\objects\\e2 [] ['e0ce27d2086d30eb26cdd295b9f8e9c942b88b']\n",
      ".\\.git\\objects\\e4 [] ['fbf6576eed4b830683bc030a3494b3cf6e74d8']\n",
      ".\\.git\\objects\\e5 [] ['b103a017155192a451464e08de4dbcbd807355']\n",
      ".\\.git\\objects\\e6 [] ['9de29bb2d1d6434b8b29ae775ad8c2e48c5391']\n",
      ".\\.git\\objects\\e7 [] ['5154b7c390fdc4aa85d86e0a191be255a00627', '8762ae20d317af5906ef216072853cef81a202', 'b5d7f2f18e6d66e2021fe0e629301fd5d3f108']\n",
      ".\\.git\\objects\\e9 [] ['1b034bfa99f33bfd8f51b750bc616cb2833c83']\n",
      ".\\.git\\objects\\ea [] ['0503cf2e4fc9d76fe49e3d4b44c8b1f5f1fe92', '426003a6a1cd405b7ae6f6a4168f325ea74611', 'a8b7551dabab18ad07942f66e214e35961ff31', 'dffe209175d28563f588a105c720e11d8d041c', 'f4f70cf1260239cb44bae378bd7ddba8aaf0d1']\n",
      ".\\.git\\objects\\ec [] ['93a7630cb16005912f0d9481cc31d2a796b1de']\n",
      ".\\.git\\objects\\ee [] ['be4259a1b0a265f43687e04fd9e5f84a74059b', 'c48e2a4552bddd5d7ea87ee5fe526264487918']\n",
      ".\\.git\\objects\\ef [] ['c748b47fc666ff3c44033fc9c06822ee167f45']\n",
      ".\\.git\\objects\\f1 [] ['23097cbb6a63061426318668ec12b2b9d2078b']\n",
      ".\\.git\\objects\\f2 [] ['75f5662c293fdffce17082350c56cf9cdc1527']\n",
      ".\\.git\\objects\\f3 [] ['2f1b3a2beeb3bc983e54fe61ea659b0b5408eb']\n",
      ".\\.git\\objects\\f5 [] ['5f5a86aafcbe68dd98f6b8b7be9fabcc898168', '86dcff4497467e150f80025f969ec1ebbfc9b0']\n",
      ".\\.git\\objects\\f7 [] ['a292ed7bca059dc8be3c8fc28b8a3753d6ef58']\n",
      ".\\.git\\objects\\f8 [] ['0f6f5e2629a7e7fe5747ddc89ba77f0186d574', 'fd508cbca8a3766142726bc92aacb3b203e81d']\n",
      ".\\.git\\objects\\f9 [] ['a236fa684e27ae0805d8a464439ac6091482dc', 'a63bb6c2608cff939a62ed298c686fffc3c847']\n",
      ".\\.git\\objects\\fc [] ['3cc8b83270f12c805efdadfed510709010be05', '854ed3ddea7466dc054bf2d0b3fedfcada2baf', '8ed025738651585aa57b734165a50509d96ffa']\n",
      ".\\.git\\objects\\fd [] ['f8c81070052a9fd491a4febd6585a679e8f1a7']\n",
      ".\\.git\\objects\\fe [] ['1ac43b64ed98a09422873f9b5bf5ceed859075', '5644a3a4a6dbe699fc7a2c57a7ba379fb3493a', '6e45d43b32a136266e6622441a3fcc18b1fb29']\n",
      ".\\.git\\objects\\ff [] ['806046e5c6bdcd50edd612dffb229c4911fa04', '93c178510f7eaceb4830a383844e6ee40eb6f4']\n",
      ".\\.git\\objects\\info [] []\n",
      ".\\.git\\objects\\pack [] ['pack-446ab07a06cd536bacf7d801a178ba8ed4551848.idx', 'pack-446ab07a06cd536bacf7d801a178ba8ed4551848.pack']\n",
      ".\\.git\\refs ['heads', 'remotes', 'tags'] []\n",
      ".\\.git\\refs\\heads [] ['main']\n",
      ".\\.git\\refs\\remotes ['origin'] []\n",
      ".\\.git\\refs\\remotes\\origin [] ['HEAD', 'main']\n",
      ".\\.git\\refs\\tags [] []\n",
      ".\\ExtraNotebooks [] ['extra.ipynb']\n",
      ".\\New11 ['New11.1', 'New11.2'] []\n",
      ".\\New11\\New11.1 [] []\n",
      ".\\New11\\New11.2 [] []\n",
      ".\\Notebooks [] ['01.variables.ipynb', '02.formatting.ipynb', '03.datastructures.ipynb', '04.operators.ipynb', '05.conditionals.ipynb', '06.loops.ipynb', '07.listcomprehension.ipynb', '08.functions.ipynb', '09.SpecialFunctions.ipynb', '10.OOP.ipynb', '11.OOP2.ipynb', '12.inheritance.ipynb', '13.exceptions.ipynb', '14.filehandling.ipynb', '15.folderHandling.ipynb', 'f1.txt', 'f2.txt', 'task.ipynb']\n"
     ]
    }
   ],
   "source": [
    "# in output, [] means no files or folder on that folder or directory\n",
    "for path, dirs, files in os.walk('.'):\n",
    "    print(path, dirs, files)"
   ]
  },
  {
   "cell_type": "code",
   "execution_count": 43,
   "metadata": {},
   "outputs": [
    {
     "name": "stdout",
     "output_type": "stream",
     "text": [
      "Notebooks [] ['01.variables.ipynb', '02.formatting.ipynb', '03.datastructures.ipynb', '04.operators.ipynb', '05.conditionals.ipynb', '06.loops.ipynb', '07.listcomprehension.ipynb', '08.functions.ipynb', '09.SpecialFunctions.ipynb', '10.OOP.ipynb', '11.OOP2.ipynb', '12.inheritance.ipynb', '13.exceptions.ipynb', '14.filehandling.ipynb', '15.folderHandling.ipynb', 'f1.txt', 'f2.txt', 'task.ipynb']\n"
     ]
    }
   ],
   "source": [
    "for path, dirs, files in os.walk('Notebooks'):\n",
    "    print(path, dirs, files)"
   ]
  },
  {
   "cell_type": "code",
   "execution_count": 126,
   "metadata": {},
   "outputs": [
    {
     "name": "stdout",
     "output_type": "stream",
     "text": [
      "New11 ['New11.1', 'New11.2'] []\n",
      "New11\\New11.1 ['New1'] []\n",
      "New11\\New11.1\\New1 [] []\n",
      "New11\\New11.2 [] []\n"
     ]
    }
   ],
   "source": [
    "# first creating n1.txt and n2.txt inside New11.1 folder in editor then run following code \n",
    "for path, dirs, files in os.walk('New11'):\n",
    "    print(path, dirs, files)"
   ]
  },
  {
   "cell_type": "code",
   "execution_count": 127,
   "metadata": {},
   "outputs": [
    {
     "name": "stdout",
     "output_type": "stream",
     "text": [
      "New11 ['New11.1', 'New11.2'] []\n",
      "New11\\New11.1 ['New1'] []\n",
      "New11\\New11.1\\New1 [] []\n",
      "New11\\New11.2 [] []\n"
     ]
    }
   ],
   "source": [
    "# append() inserts argument as single element to end of list, length of list increases by one\n",
    "# extend() Iterates over its argument and adding each element to list and extends list \n",
    "# length of list increases by number of elements in its argument\n",
    "f = []\n",
    "d = []\n",
    "for path, dirs, files in os.walk('New11'):\n",
    "    print(path, dirs, files)\n",
    "    f.extend([os.path.join(path,file) for file in files if path != 'New11'])\n",
    "    d.append(path)"
   ]
  },
  {
   "cell_type": "code",
   "execution_count": 135,
   "metadata": {},
   "outputs": [
    {
     "data": {
      "text/plain": [
       "['New11', 'New11\\\\New11.1', 'New11\\\\New11.1\\\\New1', 'New11\\\\New11.2']"
      ]
     },
     "execution_count": 135,
     "metadata": {},
     "output_type": "execute_result"
    }
   ],
   "source": [
    "d"
   ]
  },
  {
   "cell_type": "code",
   "execution_count": 124,
   "metadata": {},
   "outputs": [],
   "source": [
    "for file in f[:]:\n",
    "    f.pop()\n",
    "    os.remove(file)"
   ]
  },
  {
   "cell_type": "code",
   "execution_count": 125,
   "metadata": {},
   "outputs": [
    {
     "data": {
      "text/plain": [
       "[]"
      ]
     },
     "execution_count": 125,
     "metadata": {},
     "output_type": "execute_result"
    }
   ],
   "source": [
    "f"
   ]
  },
  {
   "cell_type": "code",
   "execution_count": 168,
   "metadata": {},
   "outputs": [
    {
     "name": "stdout",
     "output_type": "stream",
     "text": [
      "done removing\n"
     ]
    }
   ],
   "source": [
    "try:\n",
    "    for folder in d[::-1]:\n",
    "        os.removedirs(folder)\n",
    "except:\n",
    "    print(\"done removing\")"
   ]
  }
 ],
 "metadata": {
  "kernelspec": {
   "display_name": "Python 3 (ipykernel)",
   "language": "python",
   "name": "python3"
  },
  "language_info": {
   "codemirror_mode": {
    "name": "ipython",
    "version": 3
   },
   "file_extension": ".py",
   "mimetype": "text/x-python",
   "name": "python",
   "nbconvert_exporter": "python",
   "pygments_lexer": "ipython3",
   "version": "0.0.0"
  },
  "toc": {
   "base_numbering": 1,
   "nav_menu": {},
   "number_sections": true,
   "sideBar": true,
   "skip_h1_title": false,
   "title_cell": "Table of Contents",
   "title_sidebar": "Contents",
   "toc_cell": true,
   "toc_position": {},
   "toc_section_display": true,
   "toc_window_display": false
  },
  "vscode": {
   "interpreter": {
    "hash": "369f2c481f4da34e4445cda3fffd2e751bd1c4d706f27375911949ba6bb62e1c"
   }
  }
 },
 "nbformat": 4,
 "nbformat_minor": 2
}
