{
 "cells": [
  {
   "cell_type": "markdown",
   "metadata": {},
   "source": [
    "# List []"
   ]
  },
  {
   "cell_type": "code",
   "execution_count": 17,
   "metadata": {},
   "outputs": [
    {
     "data": {
      "text/plain": [
       "[23, 19, 21, 22, 31, 24, 25, 27]"
      ]
     },
     "execution_count": 17,
     "metadata": {},
     "output_type": "execute_result"
    }
   ],
   "source": [
    "# list is a data type that is mutable, Once a list has been created Elements can be modified and Individual values can be replaced\n",
    "var = [23, 19, 21, 22, 31, 24, 25, 27]\n",
    "var "
   ]
  },
  {
   "cell_type": "code",
   "execution_count": 19,
   "metadata": {},
   "outputs": [
    {
     "name": "stdout",
     "output_type": "stream",
     "text": [
      "19\n"
     ]
    }
   ],
   "source": [
    "#print(max(var))\n",
    "print(min(var))"
   ]
  },
  {
   "cell_type": "code",
   "execution_count": 2,
   "metadata": {},
   "outputs": [
    {
     "data": {
      "text/plain": [
       "[19, 21, 22, 31]"
      ]
     },
     "execution_count": 2,
     "metadata": {},
     "output_type": "execute_result"
    }
   ],
   "source": [
    "# slicing\n",
    "var[1]\n",
    "var[1:5]"
   ]
  },
  {
   "cell_type": "code",
   "execution_count": 3,
   "metadata": {},
   "outputs": [
    {
     "data": {
      "text/plain": [
       "[23, 20, 17, 18, 19, 24, 25, 27]"
      ]
     },
     "execution_count": 3,
     "metadata": {},
     "output_type": "execute_result"
    }
   ],
   "source": [
    "# update\n",
    "var[1] = 20\n",
    "var[2:5] = 17, 18, 19\n",
    "var"
   ]
  },
  {
   "cell_type": "code",
   "execution_count": 4,
   "metadata": {},
   "outputs": [
    {
     "data": {
      "text/plain": [
       "[23, 17, 18, 19, 24, 25, 27]"
      ]
     },
     "execution_count": 4,
     "metadata": {},
     "output_type": "execute_result"
    }
   ],
   "source": [
    "# delete\n",
    "del var[1]\n",
    "var"
   ]
  },
  {
   "cell_type": "code",
   "execution_count": 5,
   "metadata": {},
   "outputs": [],
   "source": [
    "del var"
   ]
  },
  {
   "cell_type": "code",
   "execution_count": 20,
   "metadata": {},
   "outputs": [],
   "source": [
    "# methods\n",
    "var = [23, 19, 21, 22, 31, 24, 25, 27, 27]\n",
    "var1 = [45, 67, 67.5]\n",
    "#var.append(32)\n",
    "#var.insert(2, 20)\n",
    "#var.count(27)\n",
    "#var.index(27)\n",
    "#var.pop()\n",
    "#var.pop(1)\n",
    "#var.remove(22)\n",
    "#var.extend(var1)\n",
    "#var.reverse()\n",
    "#var.sort(reverse=False)\n",
    "#var[var.index(27)] = 27.5\n",
    "#var.clear()"
   ]
  },
  {
   "cell_type": "code",
   "execution_count": 13,
   "metadata": {},
   "outputs": [
    {
     "name": "stdout",
     "output_type": "stream",
     "text": [
      "[2, 3, 4, 5, 8, 11]\n",
      "11\n",
      "8\n",
      "5\n",
      "4\n",
      "3\n"
     ]
    },
    {
     "data": {
      "text/plain": [
       "[2]"
      ]
     },
     "execution_count": 13,
     "metadata": {},
     "output_type": "execute_result"
    }
   ],
   "source": [
    "l = [11,2,3,4,5,8]\n",
    "l.sort()\n",
    "print(l)\n",
    "for i in l[:0:-1]:\n",
    "    print(i)\n",
    "    l.pop()\n",
    "l"
   ]
  },
  {
   "cell_type": "code",
   "execution_count": 1,
   "metadata": {},
   "outputs": [
    {
     "data": {
      "text/plain": [
       "['History', 'Math', 'Physics', 'CompSci']"
      ]
     },
     "execution_count": 1,
     "metadata": {},
     "output_type": "execute_result"
    }
   ],
   "source": [
    "list_1 = ['History', 'Math', 'Physics', 'CompSci']\n",
    "list_1 "
   ]
  },
  {
   "cell_type": "code",
   "execution_count": 7,
   "metadata": {},
   "outputs": [
    {
     "name": "stdout",
     "output_type": "stream",
     "text": [
      "['History', ['a', 'b'], 'biology', 'Math', 'Physics', 'CompSci', 'art']\n"
     ]
    }
   ],
   "source": [
    "#print(len(list_1))\n",
    "#print(list_1[1])\n",
    "#print(list_1[0:3])\n",
    "#list_1.append('art')\n",
    "#list_1.insert(1,'biology') # insert into specific index\n",
    "ls =['a','b']\n",
    "list_1.insert(1,ls)\n",
    "print(list_1) \n"
   ]
  },
  {
   "cell_type": "code",
   "execution_count": 9,
   "metadata": {},
   "outputs": [
    {
     "name": "stdout",
     "output_type": "stream",
     "text": [
      "['History', ['a', 'b'], 'biology', 'Math', 'Physics', 'CompSci', 'art', 'c', 'd']\n"
     ]
    }
   ],
   "source": [
    "ls1 =['c','d']\n",
    "list_1.extend(ls1)\n",
    "print(list_1)"
   ]
  },
  {
   "cell_type": "code",
   "execution_count": 10,
   "metadata": {},
   "outputs": [
    {
     "name": "stdout",
     "output_type": "stream",
     "text": [
      "d\n",
      "['History', ['a', 'b'], 'biology', 'Math', 'Physics', 'CompSci', 'art', 'c']\n"
     ]
    }
   ],
   "source": [
    "# pop returns value that it removes from list, pop removes last item of list\n",
    "p = list_1.pop()\n",
    "print(p)\n",
    "print(list_1)"
   ]
  },
  {
   "cell_type": "code",
   "execution_count": 16,
   "metadata": {},
   "outputs": [
    {
     "name": "stdout",
     "output_type": "stream",
     "text": [
      "['CompSci', 'History', 'Math', 'Physics']\n"
     ]
    }
   ],
   "source": [
    "list_2 = ['History', 'Math', 'Physics', 'CompSci']\n",
    "list_2 = sorted(list_2)\n",
    "print(list_2)"
   ]
  },
  {
   "cell_type": "code",
   "execution_count": 20,
   "metadata": {},
   "outputs": [
    {
     "name": "stdout",
     "output_type": "stream",
     "text": [
      "2\n"
     ]
    }
   ],
   "source": [
    "print(list_2.index('Math'))"
   ]
  },
  {
   "cell_type": "code",
   "execution_count": 21,
   "metadata": {},
   "outputs": [
    {
     "name": "stdout",
     "output_type": "stream",
     "text": [
      "True\n"
     ]
    }
   ],
   "source": [
    "print('Math'in list_2)"
   ]
  },
  {
   "cell_type": "code",
   "execution_count": 22,
   "metadata": {},
   "outputs": [
    {
     "name": "stdout",
     "output_type": "stream",
     "text": [
      "CompSci\n",
      "History\n",
      "Math\n",
      "Physics\n"
     ]
    }
   ],
   "source": [
    "for i in list_2:\n",
    "    print(i)"
   ]
  },
  {
   "cell_type": "code",
   "execution_count": 25,
   "metadata": {},
   "outputs": [
    {
     "name": "stdout",
     "output_type": "stream",
     "text": [
      "(0, 'CompSci')\n",
      "(1, 'History')\n",
      "(2, 'Math')\n",
      "(3, 'Physics')\n"
     ]
    }
   ],
   "source": [
    "for i in enumerate(list_2):\n",
    "    print(i)"
   ]
  },
  {
   "cell_type": "code",
   "execution_count": 27,
   "metadata": {},
   "outputs": [
    {
     "name": "stdout",
     "output_type": "stream",
     "text": [
      "1 CompSci\n",
      "2 History\n",
      "3 Math\n",
      "4 Physics\n"
     ]
    }
   ],
   "source": [
    "# enumerate returns index\n",
    "for index, i in enumerate(list_2,start=1):\n",
    "    print(index,i)"
   ]
  },
  {
   "cell_type": "code",
   "execution_count": 36,
   "metadata": {},
   "outputs": [
    {
     "name": "stdout",
     "output_type": "stream",
     "text": [
      "CompSci, History, Math, Physics\n"
     ]
    }
   ],
   "source": [
    "# list to string separated by coma\n",
    "list_2_str = ', '.join(list_2)\n",
    "print(list_2_str) "
   ]
  },
  {
   "cell_type": "code",
   "execution_count": 39,
   "metadata": {},
   "outputs": [
    {
     "name": "stdout",
     "output_type": "stream",
     "text": [
      "['CompSci', ' History', ' Math', ' Physics']\n"
     ]
    }
   ],
   "source": [
    "# string to list\n",
    "list_3 = list_2_str.split(',')\n",
    "print(list_3)"
   ]
  },
  {
   "cell_type": "code",
   "execution_count": null,
   "metadata": {},
   "outputs": [],
   "source": [
    "# ways to Create Empty Lists\n",
    "empty_list = []\n",
    "empty_list = list()"
   ]
  },
  {
   "cell_type": "markdown",
   "metadata": {},
   "source": [
    "# Shallow Copy and Deep Copy"
   ]
  },
  {
   "cell_type": "code",
   "execution_count": 1,
   "metadata": {},
   "outputs": [],
   "source": [
    "var1 = [45, 67, 67.5]"
   ]
  },
  {
   "cell_type": "code",
   "execution_count": 2,
   "metadata": {},
   "outputs": [
    {
     "name": "stdout",
     "output_type": "stream",
     "text": [
      "[45, 67, 67.5, 99]\n",
      "[45, 67, 67.5, 99]\n"
     ]
    }
   ],
   "source": [
    "# shallow copy\n",
    "var2 = var1\n",
    "var2.append(99)\n",
    "print(var1)\n",
    "print(var2)"
   ]
  },
  {
   "cell_type": "code",
   "execution_count": 3,
   "metadata": {},
   "outputs": [
    {
     "name": "stdout",
     "output_type": "stream",
     "text": [
      "[65]\n"
     ]
    }
   ],
   "source": [
    "var1 = [45, 67, 67.5]\n",
    "var2 = [65]\n",
    "var1 = var2\n",
    "#var2.append(99)\n",
    "print(var1)\n",
    "#print(var2)"
   ]
  },
  {
   "cell_type": "code",
   "execution_count": 23,
   "metadata": {},
   "outputs": [],
   "source": [
    "# deep copy\n",
    "var3 = var1.copy()\n",
    "var3.append(100)"
   ]
  },
  {
   "cell_type": "code",
   "execution_count": 24,
   "metadata": {},
   "outputs": [
    {
     "data": {
      "text/plain": [
       "5"
      ]
     },
     "execution_count": 24,
     "metadata": {},
     "output_type": "execute_result"
    }
   ],
   "source": [
    "len(var3)"
   ]
  },
  {
   "cell_type": "code",
   "execution_count": 25,
   "metadata": {},
   "outputs": [
    {
     "data": {
      "text/plain": [
       "6"
      ]
     },
     "execution_count": 25,
     "metadata": {},
     "output_type": "execute_result"
    }
   ],
   "source": [
    "s = \"Python\"\n",
    "len(s)"
   ]
  },
  {
   "cell_type": "markdown",
   "metadata": {},
   "source": [
    "# Tuple ()"
   ]
  },
  {
   "cell_type": "code",
   "execution_count": 40,
   "metadata": {},
   "outputs": [
    {
     "data": {
      "text/plain": [
       "(67, 67, 'Python', True, (1+7j))"
      ]
     },
     "execution_count": 40,
     "metadata": {},
     "output_type": "execute_result"
    }
   ],
   "source": [
    "# tuples immutable (meaning they cannot be changed), tuple consists of string and list, as Strings are immutable so can't change its value\n",
    "tup = (45, 67, 67, \"Python\", True, 1+7j)\n",
    "tup[1:]"
   ]
  },
  {
   "cell_type": "code",
   "execution_count": 29,
   "metadata": {},
   "outputs": [],
   "source": [
    "del tup "
   ]
  },
  {
   "cell_type": "code",
   "execution_count": 41,
   "metadata": {},
   "outputs": [
    {
     "name": "stdout",
     "output_type": "stream",
     "text": [
      "('History', 'Math', 'Physics', 'CompSci')\n",
      "('History', 'Math', 'Physics', 'CompSci')\n"
     ]
    }
   ],
   "source": [
    "tuple_1 = ('History', 'Math', 'Physics', 'CompSci')\n",
    "tuple_2 = tuple_1 \n",
    "print(tuple_1)\n",
    "print(tuple_2)"
   ]
  },
  {
   "cell_type": "code",
   "execution_count": null,
   "metadata": {},
   "outputs": [],
   "source": [
    "# ways to Create Empty Tuples\n",
    "empty_tuple = ()\n",
    "empty_tuple = tuple()"
   ]
  },
  {
   "cell_type": "markdown",
   "metadata": {},
   "source": [
    "# Set{}"
   ]
  },
  {
   "cell_type": "code",
   "execution_count": 31,
   "metadata": {},
   "outputs": [
    {
     "data": {
      "text/plain": [
       "{2, 3, 4, 5, 6}"
      ]
     },
     "execution_count": 31,
     "metadata": {},
     "output_type": "execute_result"
    }
   ],
   "source": [
    "s1 = {6,2,2,3,3,4,5}\n",
    "s1"
   ]
  },
  {
   "cell_type": "code",
   "execution_count": 42,
   "metadata": {},
   "outputs": [],
   "source": [
    "# methods\n",
    "s1 = {6,2,2,3,3,4,5}\n",
    "s2 = {6, 5, 7, 9, 8}\n",
    "s3 = {1,2,3,4}\n",
    "s4 = {3,4}\n",
    "#s1.union(s2)\n",
    "#s1.intersection(s2)\n",
    "#s1.difference(s2)\n",
    "#s2.difference(s1)\n",
    "#s1.symmetric_difference(s2)\n",
    "#s1.isdisjoint(s2)\n",
    "#s3.issuperset(s4)\n",
    "#s4.issubset(s3)\n",
    "#s1.difference_update(s2)"
   ]
  },
  {
   "cell_type": "code",
   "execution_count": 48,
   "metadata": {},
   "outputs": [
    {
     "data": {
      "text/plain": [
       "{2, 3, 4, 5, 6}"
      ]
     },
     "execution_count": 48,
     "metadata": {},
     "output_type": "execute_result"
    }
   ],
   "source": [
    "# methods\n",
    "s1 = {2,3,4}\n",
    "#s1.add(45)\n",
    "#s1.discard(46)\n",
    "#s1.remove(4)\n",
    "#s1.pop()\n",
    "s1.update({4,5,6})\n",
    "s1"
   ]
  },
  {
   "cell_type": "code",
   "execution_count": 42,
   "metadata": {},
   "outputs": [
    {
     "name": "stdout",
     "output_type": "stream",
     "text": [
      "{'History', 'CompSci', 'Physics', 'Math'}\n"
     ]
    }
   ],
   "source": [
    "# Sets\n",
    "cs_courses = {'History', 'Math', 'Physics', 'CompSci'}\n",
    "print(cs_courses)"
   ]
  },
  {
   "cell_type": "code",
   "execution_count": 43,
   "metadata": {},
   "outputs": [],
   "source": [
    "# ways to Create Empty Sets\n",
    "empty_set = set()"
   ]
  },
  {
   "cell_type": "markdown",
   "metadata": {},
   "source": [
    "# dictionary"
   ]
  },
  {
   "cell_type": "code",
   "execution_count": 49,
   "metadata": {},
   "outputs": [
    {
     "data": {
      "text/plain": [
       "{'roll': 23, 'name': 'Alexa Smith', 'dept': 'CSE'}"
      ]
     },
     "execution_count": 49,
     "metadata": {},
     "output_type": "execute_result"
    }
   ],
   "source": [
    "std = {'roll': 23, 'name': \"Alexa Smith\", 'dept': \"CSE\"}\n",
    "std"
   ]
  },
  {
   "cell_type": "code",
   "execution_count": 51,
   "metadata": {},
   "outputs": [
    {
     "data": {
      "text/plain": [
       "'Alexa Smith'"
      ]
     },
     "execution_count": 51,
     "metadata": {},
     "output_type": "execute_result"
    }
   ],
   "source": [
    "# access\n",
    "std['name']\n",
    "#std['dept']"
   ]
  },
  {
   "cell_type": "code",
   "execution_count": 52,
   "metadata": {},
   "outputs": [],
   "source": [
    "# update\n",
    "std['roll'] = 21"
   ]
  },
  {
   "cell_type": "code",
   "execution_count": 53,
   "metadata": {},
   "outputs": [
    {
     "data": {
      "text/plain": [
       "{'roll': 21,\n",
       " 'name': 'Alexa Smith',\n",
       " 'dept': 'CSE',\n",
       " 'subs': ['Math', 'OS', 'Networks']}"
      ]
     },
     "execution_count": 53,
     "metadata": {},
     "output_type": "execute_result"
    }
   ],
   "source": [
    "# adding new key:value\n",
    "std['subs'] = ['Math', 'OS', 'Networks']\n",
    "std"
   ]
  },
  {
   "cell_type": "code",
   "execution_count": 58,
   "metadata": {},
   "outputs": [
    {
     "data": {
      "text/plain": [
       "'CSE'"
      ]
     },
     "execution_count": 58,
     "metadata": {},
     "output_type": "execute_result"
    }
   ],
   "source": [
    "# methods\n",
    "#std.keys()\n",
    "#std.values()\n",
    "#std.items()\n",
    "#std.get('dept', \"NA\")\n",
    "std.pop('dept')"
   ]
  },
  {
   "cell_type": "code",
   "execution_count": 59,
   "metadata": {},
   "outputs": [
    {
     "data": {
      "text/plain": [
       "('subs', ['Math', 'OS', 'Networks'])"
      ]
     },
     "execution_count": 59,
     "metadata": {},
     "output_type": "execute_result"
    }
   ],
   "source": [
    "std.popitem()"
   ]
  },
  {
   "cell_type": "code",
   "execution_count": 60,
   "metadata": {},
   "outputs": [
    {
     "data": {
      "text/plain": [
       "{'dept': 'default', 'subs': 'default'}"
      ]
     },
     "execution_count": 60,
     "metadata": {},
     "output_type": "execute_result"
    }
   ],
   "source": [
    "std.fromkeys(['dept', 'subs'], 'default')"
   ]
  },
  {
   "cell_type": "code",
   "execution_count": 61,
   "metadata": {},
   "outputs": [],
   "source": [
    "std.update({'dept': 'default', 'subs': 'default'})"
   ]
  },
  {
   "cell_type": "code",
   "execution_count": 62,
   "metadata": {},
   "outputs": [],
   "source": [
    "std.setdefault(99)"
   ]
  },
  {
   "cell_type": "code",
   "execution_count": 63,
   "metadata": {},
   "outputs": [
    {
     "data": {
      "text/plain": [
       "{'roll': 21,\n",
       " 'name': 'Alexa Smith',\n",
       " 'dept': 'default',\n",
       " 'subs': 'default',\n",
       " 99: None}"
      ]
     },
     "execution_count": 63,
     "metadata": {},
     "output_type": "execute_result"
    }
   ],
   "source": [
    "std"
   ]
  },
  {
   "cell_type": "code",
   "execution_count": 45,
   "metadata": {},
   "outputs": [
    {
     "name": "stdout",
     "output_type": "stream",
     "text": [
      "John\n",
      "not found\n"
     ]
    }
   ],
   "source": [
    "student = {'name': 'John', 'age': 25, 'courses': ['Math', 'CompSci']}\n",
    "print(student.get('name'))\n",
    "print(student.get('email','not found'))"
   ]
  },
  {
   "cell_type": "code",
   "execution_count": 46,
   "metadata": {},
   "outputs": [
    {
     "name": "stdout",
     "output_type": "stream",
     "text": [
      "{'name': 'John', 'age': '27', 'courses': ['Math', 'CompSci'], 'phone': '017678'}\n"
     ]
    }
   ],
   "source": [
    "student.update({'age':'27','phone':'017678'})\n",
    "print(student)"
   ]
  },
  {
   "cell_type": "code",
   "execution_count": 47,
   "metadata": {},
   "outputs": [
    {
     "name": "stdout",
     "output_type": "stream",
     "text": [
      "{'name': 'John', 'age': '27', 'courses': ['Math', 'CompSci'], 'phone': '017678', 'gender': 'male'}\n",
      "{'name': 'John', 'age': '27', 'courses': ['Math', 'CompSci'], 'phone': '017678'}\n"
     ]
    }
   ],
   "source": [
    "student.update({'gender':'male'})\n",
    "print(student)\n",
    "del student['gender']\n",
    "print(student)"
   ]
  },
  {
   "cell_type": "code",
   "execution_count": 48,
   "metadata": {},
   "outputs": [
    {
     "name": "stdout",
     "output_type": "stream",
     "text": [
      "name John\n",
      "age 27\n",
      "courses ['Math', 'CompSci']\n",
      "phone 017678\n"
     ]
    }
   ],
   "source": [
    "for key, value in student.items():\n",
    "    print(key, value)"
   ]
  }
 ],
 "metadata": {
  "kernelspec": {
   "display_name": "Python 3.10.2 64-bit",
   "language": "python",
   "name": "python3"
  },
  "language_info": {
   "codemirror_mode": {
    "name": "ipython",
    "version": 3
   },
   "file_extension": ".py",
   "mimetype": "text/x-python",
   "name": "python",
   "nbconvert_exporter": "python",
   "pygments_lexer": "ipython3",
   "version": "3.10.6"
  },
  "orig_nbformat": 4,
  "vscode": {
   "interpreter": {
    "hash": "369f2c481f4da34e4445cda3fffd2e751bd1c4d706f27375911949ba6bb62e1c"
   }
  }
 },
 "nbformat": 4,
 "nbformat_minor": 2
}
