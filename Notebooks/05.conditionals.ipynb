{
 "cells": [
  {
   "cell_type": "markdown",
   "metadata": {},
   "source": [
    "# Conditionals Statements"
   ]
  },
  {
   "cell_type": "markdown",
   "metadata": {},
   "source": [
    "##### Comparisons name and their sign\n",
    "    # Equal:            ==\n",
    "    # Not Equal:        !=\n",
    "    # Greater Than:     >\n",
    "    # Less Than:        <\n",
    "    # Greater or Equal: >=\n",
    "    # Less or Equal:    <=\n",
    "    # Object Identity:  is\n",
    "##### False Values can be return as:\n",
    "    # False\n",
    "    # None\n",
    "    # Zero of any numeric type\n",
    "    # Any empty sequence For example '', (), []\n",
    "    # Any empty mapping For example {}"
   ]
  },
  {
   "cell_type": "code",
   "execution_count": 1,
   "metadata": {},
   "outputs": [
    {
     "name": "stdout",
     "output_type": "stream",
     "text": [
      "Admin Page\n"
     ]
    }
   ],
   "source": [
    "user = 'Admin'\n",
    "log_in_status=True\n",
    "if user == 'Admin' and log_in_status:\n",
    "    print('Admin Page')\n",
    "else:\n",
    "    print('restricted')"
   ]
  },
  {
   "cell_type": "code",
   "execution_count": 2,
   "metadata": {},
   "outputs": [
    {
     "name": "stdout",
     "output_type": "stream",
     "text": [
      "restricted\n"
     ]
    }
   ],
   "source": [
    "user = 'Admin'\n",
    "log_in_status=False\n",
    "if user == 'Admin' and log_in_status:\n",
    "    print('Admin Page')\n",
    "else:\n",
    "    print('restricted')"
   ]
  },
  {
   "cell_type": "code",
   "execution_count": 4,
   "metadata": {},
   "outputs": [
    {
     "name": "stdout",
     "output_type": "stream",
     "text": [
      "welcome\n"
     ]
    }
   ],
   "source": [
    "log_in_status=True\n",
    "if not log_in_status:\n",
    "    print('Please log in')\n",
    "else:\n",
    "    print('welcome')"
   ]
  },
  {
   "cell_type": "code",
   "execution_count": 8,
   "metadata": {},
   "outputs": [
    {
     "name": "stdout",
     "output_type": "stream",
     "text": [
      "True\n",
      "False\n",
      "2592222242944\n",
      "2592222163136\n"
     ]
    }
   ],
   "source": [
    "# id shows memory block\n",
    "a = [1,2,3]\n",
    "b = [1,2,3]\n",
    "print(a==b)\n",
    "print(a is b)\n",
    "print(id(a))\n",
    "print(id(b))"
   ]
  },
  {
   "cell_type": "code",
   "execution_count": 11,
   "metadata": {},
   "outputs": [
    {
     "name": "stdout",
     "output_type": "stream",
     "text": [
      "2592222236352\n",
      "2592222236352\n",
      "True\n"
     ]
    }
   ],
   "source": [
    "a = [1,2,3]\n",
    "b=a\n",
    "print(id(a))\n",
    "print(id(b))\n",
    "print(a is b)"
   ]
  },
  {
   "cell_type": "code",
   "execution_count": 20,
   "metadata": {},
   "outputs": [
    {
     "name": "stdout",
     "output_type": "stream",
     "text": [
      "Evaluated to False\n"
     ]
    }
   ],
   "source": [
    "#condition = True\n",
    "#condition = None\n",
    "#condition = 0\n",
    "#condition = ()\n",
    "condition = {}\n",
    "if condition:\n",
    "    print('Evaluated to True')\n",
    "else:\n",
    "    print('Evaluated to False')"
   ]
  },
  {
   "cell_type": "code",
   "execution_count": 1,
   "metadata": {},
   "outputs": [
    {
     "name": "stdout",
     "output_type": "stream",
     "text": [
      "Even Number!\n",
      "''\n"
     ]
    }
   ],
   "source": [
    "num = 44\n",
    "if num % 2 == 0:\n",
    "    print(\"Even Number!\")\n",
    "print(\"''\")"
   ]
  },
  {
   "cell_type": "code",
   "execution_count": 2,
   "metadata": {},
   "outputs": [
    {
     "name": "stdout",
     "output_type": "stream",
     "text": [
      "Odd Number!\n"
     ]
    }
   ],
   "source": [
    "num = 45\n",
    "if num % 2 == 0:\n",
    "    print(\"Even Number!\")\n",
    "else:\n",
    "    print(\"Odd Number!\")"
   ]
  },
  {
   "cell_type": "code",
   "execution_count": 3,
   "metadata": {},
   "outputs": [
    {
     "name": "stdout",
     "output_type": "stream",
     "text": [
      "Even Number!\n"
     ]
    }
   ],
   "source": [
    "num = 44\n",
    "if num&1:\n",
    "    print(\"Odd Number!\")\n",
    "else:\n",
    "    print(\"Even Number!\")"
   ]
  },
  {
   "cell_type": "code",
   "execution_count": 4,
   "metadata": {},
   "outputs": [
    {
     "data": {
      "text/plain": [
       "0"
      ]
     },
     "execution_count": 4,
     "metadata": {},
     "output_type": "execute_result"
    }
   ],
   "source": [
    "num = 44\n",
    "num&1"
   ]
  },
  {
   "cell_type": "code",
   "execution_count": 5,
   "metadata": {},
   "outputs": [
    {
     "name": "stdout",
     "output_type": "stream",
     "text": [
      "Grade B\n"
     ]
    }
   ],
   "source": [
    "# if elif else\n",
    "avg = 78\n",
    "if avg > 80:\n",
    "    print('Grade A')\n",
    "elif avg > 60:\n",
    "    print('Grade B')\n",
    "elif avg > 40:\n",
    "    print('Grade C')\n",
    "else:\n",
    "    print('Grade D')"
   ]
  },
  {
   "cell_type": "code",
   "execution_count": 6,
   "metadata": {},
   "outputs": [
    {
     "name": "stdout",
     "output_type": "stream",
     "text": [
      " Gold Credit Card!\n"
     ]
    }
   ],
   "source": [
    "# nested if elif else\n",
    "age = 24\n",
    "salary = 60000\n",
    "if age > 18:\n",
    "    if salary >= 100000:\n",
    "        print(\"Dimond Credit Card!\")\n",
    "    elif salary >= 60000:\n",
    "        print(\" Gold Credit Card!\")\n",
    "    else:\n",
    "        print(\"Silver Credit Card!\")\n",
    "elif age > 15:\n",
    "    print(\"Green Card!\")\n",
    "else:\n",
    "    print(\"Not eligible!\")"
   ]
  },
  {
   "cell_type": "code",
   "execution_count": 7,
   "metadata": {},
   "outputs": [
    {
     "name": "stdout",
     "output_type": "stream",
     "text": [
      "Silver Credit Card!\n"
     ]
    }
   ],
   "source": [
    "age = 24\n",
    "salary = 40000\n",
    "if age > 18 and salary >= 100000:\n",
    "    print(\"Dimond Credit Card!\")\n",
    "elif age > 18 and salary >= 60000:\n",
    "        print(\" Gold Credit Card!\")\n",
    "elif age > 18 and salary >= 30000:\n",
    "    print(\"Silver Credit Card!\")\n",
    "elif age > 15:\n",
    "    print(\"Green Card!\")\n",
    "else:\n",
    "    print(\"Not eligible!\")"
   ]
  }
 ],
 "metadata": {
  "kernelspec": {
   "display_name": "Python 3 (ipykernel)",
   "language": "python",
   "name": "python3"
  },
  "language_info": {
   "codemirror_mode": {
    "name": "ipython",
    "version": 3
   },
   "file_extension": ".py",
   "mimetype": "text/x-python",
   "name": "python",
   "nbconvert_exporter": "python",
   "pygments_lexer": "ipython3",
   "version": "3.10.6 (tags/v3.10.6:9c7b4bd, Aug  1 2022, 21:53:49) [MSC v.1932 64 bit (AMD64)]"
  },
  "vscode": {
   "interpreter": {
    "hash": "369f2c481f4da34e4445cda3fffd2e751bd1c4d706f27375911949ba6bb62e1c"
   }
  }
 },
 "nbformat": 4,
 "nbformat_minor": 2
}
