{
 "cells": [
  {
   "cell_type": "markdown",
   "metadata": {},
   "source": [
    "### Find Smallest Between 4 Number Using Ternary Operation and Conditional Statement"
   ]
  },
  {
   "cell_type": "code",
   "execution_count": 75,
   "metadata": {},
   "outputs": [
    {
     "name": "stdout",
     "output_type": "stream",
     "text": [
      "numbers are 4, 3, 2, 1\n",
      "1\n"
     ]
    }
   ],
   "source": [
    "#using ternary operation\n",
    "a = int(input())\n",
    "b = int(input())\n",
    "c = int(input())\n",
    "d = int(input())\n",
    "print(f\"numbers are {a}, {b}, {c}, {d}\")\n",
    "small = a if (a<b and a<c and a<d) else (b if (b<a and b<c and b<d) else (c if c<a and c<b and c<d else d))\n",
    "print(small) "
   ]
  },
  {
   "cell_type": "code",
   "execution_count": 2,
   "metadata": {},
   "outputs": [
    {
     "name": "stdout",
     "output_type": "stream",
     "text": [
      "numbers are 2, 3, 3, 4\n",
      "2\n"
     ]
    }
   ],
   "source": [
    "#using Conditional Statement\n",
    "a = int(input())\n",
    "b = int(input())\n",
    "c = int(input())\n",
    "d = int(input())\n",
    "print(f\"numbers are {a}, {b}, {c}, {d}\")\n",
    "if a<b and a<c and a<d:\n",
    "    print(a)\n",
    "elif b<a and b<c and b<d:\n",
    "    print(b)\n",
    "elif c<a and c<b and c<d:\n",
    "    print(c)\n",
    "else:\n",
    "    print(d)"
   ]
  },
  {
   "cell_type": "markdown",
   "metadata": {},
   "source": [
    "### SMART DOOR SYSTEM"
   ]
  },
  {
   "cell_type": "code",
   "execution_count": 12,
   "metadata": {},
   "outputs": [
    {
     "name": "stdout",
     "output_type": "stream",
     "text": [
      "Wrong Password..Try Again\n",
      "Wrong Password..Try Again\n",
      "You Have To Answer Security Question to reset pass...what is your fav place?\n",
      "answer acepted\n",
      "New password has been updated\n",
      "Wrong Password..Try Again\n",
      "Welcome!....You can Enter\n"
     ]
    }
   ],
   "source": [
    "#using function\n",
    "org_pass = \"open@123\" #global variable\n",
    "def smartdoor():\n",
    "    global org_pass #refer to the global variable by using the global keyword\n",
    "    password = 1\n",
    "    while password < 4:\n",
    "        seq_ans = \"london\"\n",
    "        pass_code = input(\"Please Enter Password: \")\n",
    "        if pass_code ==  org_pass:\n",
    "            print(\"Welcome!....You can Enter\")\n",
    "            break\n",
    "        elif password != 3:\n",
    "            print(\"Wrong Password..Try Again\")\n",
    "        else:\n",
    "            print(\"You Have To Answer Security Question to reset pass...what is your fav place?\")\n",
    "            seq_code = input(\"Please Enter secret answer :\")\n",
    "            if seq_code == seq_ans:\n",
    "                print(\"answer acepted\")\n",
    "                new_org_pass = input(\"give new password :\")\n",
    "                org_pass = new_org_pass\n",
    "                print(\"New password has been updated\")            \n",
    "                #password = 0\n",
    "                smartdoor()\n",
    "            else:\n",
    "                print(\"wrong Sequrity Answer...Door is Locked\")\n",
    "        \n",
    "        #org_pass = new_arg_pass\n",
    "        password += 1\n",
    "\n",
    "smartdoor()"
   ]
  },
  {
   "cell_type": "code",
   "execution_count": 7,
   "metadata": {},
   "outputs": [
    {
     "name": "stdout",
     "output_type": "stream",
     "text": [
      "Wrong Password..Try Again\n",
      "Wrong Password..Try Again\n",
      "You Have To Answer Security Question to reset pass...what is your fav place?\n",
      "answer acepted\n",
      "New password has been updated\n",
      "Wrong Password..Try Again\n",
      "Welcome!....You can Enter\n"
     ]
    }
   ],
   "source": [
    "#using while loop\n",
    "org_pass = \"open@123\"\n",
    "password = 1\n",
    "while password < 4:\n",
    "    seq_ans = \"london\"\n",
    "    pass_code = input(\"Please Enter Password: \")\n",
    "    if pass_code ==  org_pass:\n",
    "        print(\"Welcome!....You can Enter\")\n",
    "        break\n",
    "    elif password != 3:\n",
    "        print(\"Wrong Password..Try Again\")\n",
    "    else:\n",
    "        print(\"You Have To Answer Security Question to reset pass...what is your fav place?\")\n",
    "        seq_code = input(\"Please Enter secret answer :\")\n",
    "        if seq_code == seq_ans:\n",
    "            print(\"answer acepted\")\n",
    "            new_org_pass = input(\"give new password :\")\n",
    "            org_pass = new_org_pass\n",
    "            print(\"New password has been updated\")            \n",
    "            password = 0\n",
    "        else:\n",
    "            print(\"wrong Sequrity Answer...Door is Locked\")\n",
    "    \n",
    "    #org_pass = new_arg_pass\n",
    "    password += 1\n",
    "    "
   ]
  },
  {
   "cell_type": "markdown",
   "metadata": {},
   "source": [
    "### Task: Find Factorial of number using recursion"
   ]
  },
  {
   "cell_type": "code",
   "execution_count": 13,
   "metadata": {},
   "outputs": [
    {
     "data": {
      "text/plain": [
       "720"
      ]
     },
     "execution_count": 13,
     "metadata": {},
     "output_type": "execute_result"
    }
   ],
   "source": [
    "def fact(num: int) -> int:\n",
    "    if num < 1:\n",
    "        return 1\n",
    "    return num*fact(num - 1)\n",
    "\n",
    "fact(num = int(input(\"Please Enter number :\")))"
   ]
  },
  {
   "cell_type": "markdown",
   "metadata": {},
   "source": [
    "### Write a Python program to check vowels present in a word using a list and also show the total count of them"
   ]
  },
  {
   "cell_type": "code",
   "execution_count": 12,
   "metadata": {},
   "outputs": [
    {
     "name": "stdout",
     "output_type": "stream",
     "text": [
      "Given Word is elephant\n",
      "list of vowels in the word ['e', 'e', 'a']\n",
      "total vowels found: 3\n",
      "list of nonvowels in the word ['l', 'p', 'h', 'n', 't']\n",
      "total vowels found: 5\n"
     ]
    }
   ],
   "source": [
    "words = input(\"Please Enter word\")\n",
    "vowels = ['a','e','i','o','u']\n",
    "vowels_found = []\n",
    "vowels_notfound = []\n",
    "for x in words:\n",
    "    if x in vowels:\n",
    "        vowels_found.append(x)\n",
    "    else:\n",
    "        vowels_notfound.append(x)\n",
    "print(\"Given Word is\",words)\n",
    "print(\"list of vowels in the word\",vowels_found)\n",
    "print(\"total vowels found:\",len(vowels_found))\n",
    "print(\"list of nonvowels in the word\",vowels_notfound)\n",
    "print(\"total vowels found:\",len(vowels_notfound))"
   ]
  },
  {
   "cell_type": "code",
   "execution_count": 13,
   "metadata": {},
   "outputs": [
    {
     "name": "stdout",
     "output_type": "stream",
     "text": [
      "dict_keys(['e', 'a'])\n",
      "dict_values([2, 1])\n"
     ]
    }
   ],
   "source": [
    "from collections import Counter\n",
    "print(Counter(vowels_found).keys()) \n",
    "print(Counter(vowels_found).values())"
   ]
  },
  {
   "cell_type": "markdown",
   "metadata": {},
   "source": [
    "#### Write a Python program to count different denominations (note of 2000, 500, 100, 50, 20,10, 5, 2, 1) for a given amount of money"
   ]
  },
  {
   "cell_type": "code",
   "execution_count": 76,
   "metadata": {},
   "outputs": [
    {
     "name": "stdout",
     "output_type": "stream",
     "text": [
      "Given amount to money 1000\n",
      "Number of TK 500 notes will be 2\n",
      "Number of TK 100 notes will be 10\n",
      "Number of TK 50 notes will be 20\n",
      "Number of TK 20 notes will be 50\n",
      "Number of TK 10 notes will be 100\n",
      "Number of TK 5 notes will be 200\n",
      "Number of TK 2 notes will be 500\n",
      "Number of TK 1 notes will be 1000\n"
     ]
    }
   ],
   "source": [
    "amount = int(input(\"Please Enter amount to money\"))\n",
    "print(\"Given amount to money\",amount)\n",
    "if amount/2000 >= 1:\n",
    "    denom = int(amount/2000)\n",
    "    print(\"Number of TK 2000 notes will be\",denom)\n",
    "if amount/500 >= 1:\n",
    "    denom = int(amount/500)\n",
    "    print(\"Number of TK 500 notes will be\",denom)\n",
    "if amount/100 >= 1:\n",
    "    denom = int(amount/100)\n",
    "    print(\"Number of TK 100 notes will be\",denom)\n",
    "if amount/50 >= 1:\n",
    "    denom = int(amount/50)\n",
    "    print(\"Number of TK 50 notes will be\",denom)\n",
    "if amount/20 >= 1:\n",
    "    denom = int(amount/20)\n",
    "    print(\"Number of TK 20 notes will be\",denom)\n",
    "if amount/10 >= 1:\n",
    "    denom = int(amount/10)\n",
    "    print(\"Number of TK 10 notes will be\",denom)\n",
    "if amount/5 >= 1:\n",
    "    denom = int(amount/5)\n",
    "    print(\"Number of TK 5 notes will be\",denom)\n",
    "if amount/2 >= 1:\n",
    "    denom = int(amount/2)\n",
    "    print(\"Number of TK 2 notes will be\",denom)\n",
    "if amount/1 >= 1:\n",
    "    denom = int(amount/1)\n",
    "    print(\"Number of TK 1 notes will be\",denom)"
   ]
  },
  {
   "cell_type": "code",
   "execution_count": 88,
   "metadata": {},
   "outputs": [
    {
     "name": "stdout",
     "output_type": "stream",
     "text": [
      "Given amount to money 500\n",
      "numbers of TK 2000,500,100,50,20,10,5,2,1 notes are following 0,1,5,10,25,50,100,250,500\n"
     ]
    }
   ],
   "source": [
    "amount = int(input(\"Please Enter amount to money\"))\n",
    "print(\"Given amount to money\",amount)\n",
    "d2000 = int(amount/2000) if (amount/2000 >= 1) else 0\n",
    "d500 = int(amount/500) if (amount/500 >= 1) else 0\n",
    "d100 = int(amount/100) if (amount/100 >= 1) else 0\n",
    "d50 = int(amount/50) if (amount/50 >= 1) else 0\n",
    "d20 = int(amount/20) if (amount/20 >= 1) else 0\n",
    "d10 = int(amount/10) if (amount/10 >= 1) else 0\n",
    "d5 = int(amount/5) if (amount/5 >= 1) else 0\n",
    "d2 = int(amount/2) if (amount/2 >= 1) else 0\n",
    "d1 = int(amount/1) if (amount/1 >= 1) else 0\n",
    "print(f\"numbers of TK 2000,500,100,50,20,10,5,2,1 notes are following {d2000},{d500},{d100},{d50},{d20},{d10},{d5},{d2},{d1}\")"
   ]
  },
  {
   "cell_type": "code",
   "execution_count": 95,
   "metadata": {},
   "outputs": [
    {
     "name": "stdout",
     "output_type": "stream",
     "text": [
      "Given amount to money 10688\n",
      "Number of TK 2000 notes will be 5\n",
      "Number of TK 500 notes will be 1\n",
      "Number of TK 100 notes will be 1\n",
      "Number of TK 50 notes will be 1\n",
      "Number of TK 20 notes will be 1\n",
      "Number of TK 10 notes will be 1\n",
      "Number of TK 5 notes will be 1\n",
      "Number of TK 2 notes will be 1\n",
      "Number of TK 1 notes will be 1\n"
     ]
    }
   ],
   "source": [
    "#calculating maximum number of notes for each note togeather \n",
    "amount = int(input(\"Please Enter amount to money\"))\n",
    "print(\"Given amount to money\",amount)\n",
    "notes = [2000,500,100,50,20,10,5,2,1]\n",
    "for x in notes:\n",
    "    if amount/x >= 1:\n",
    "        denom = int(amount/x)\n",
    "        amount = amount - (x*denom)\n",
    "        print(f\"Number of TK {x} notes will be\",denom)"
   ]
  },
  {
   "cell_type": "markdown",
   "metadata": {},
   "source": [
    "##### Calculate Pooja's account balance after an attempted transaction for given condition"
   ]
  },
  {
   "cell_type": "code",
   "execution_count": 42,
   "metadata": {},
   "outputs": [
    {
     "name": "stdout",
     "output_type": "stream",
     "text": [
      "Given amount to withdraw: $US 4995.5\n",
      "withdrawl is successful\n",
      "amount withdrawn: $US 4995.5\n",
      "Remaining Balance: $US 4.0\n"
     ]
    }
   ],
   "source": [
    "acc_balance = 5000\n",
    "bank_charge = 0.5\n",
    "amount = float(input(\"Please Enter amount to withdraw $US\"))\n",
    "print(\"Given amount to withdraw: $US\",amount)\n",
    "if amount < acc_balance and int(amount)%5 == 0:\n",
    "    print(\"withdrawl is successful\")\n",
    "    acc_balance -= (bank_charge+amount)\n",
    "    print(\"amount withdrawn: $US\", amount)\n",
    "else:\n",
    "    print(\"transaction is unsuccessful\")\n",
    "\n",
    "print(\"Remaining Balance: $US\",acc_balance)"
   ]
  },
  {
   "cell_type": "markdown",
   "metadata": {},
   "source": [
    "#### Determine whether Chef will find the game interesting or not"
   ]
  },
  {
   "cell_type": "code",
   "execution_count": 48,
   "metadata": {},
   "outputs": [
    {
     "name": "stdout",
     "output_type": "stream",
     "text": [
      "Team1 Ratings: 3.0\n",
      "Team2 Ratings: 5.0\n",
      "Chef will find the game interesting\n"
     ]
    }
   ],
   "source": [
    "rating = 2.0\n",
    "team1 = float(input(\"Enter Team1 rating\"))\n",
    "team2 = float(input(\"Enter Team2 rating\"))\n",
    "print(\"Team1 Ratings:\",team1)\n",
    "print(\"Team2 Ratings:\",team2)\n",
    "if (team1 - team2) <= rating:\n",
    "    print(\"Chef will find the game interesting\")\n",
    "else:\n",
    "    print(\"Chef won't find the game interesting\")"
   ]
  },
  {
   "cell_type": "markdown",
   "metadata": {},
   "source": [
    "#### Ask the user to guess a fruit name, check how close the guess is and Give users a chance to select the best guess"
   ]
  },
  {
   "cell_type": "code",
   "execution_count": 146,
   "metadata": {},
   "outputs": [
    {
     "name": "stdout",
     "output_type": "stream",
     "text": [
      "Guessed fruit is lemon\n",
      "Guessed fruit color is green\n",
      "well done...Halfway there...you're close\n",
      "Guessed fruit shape is oval\n",
      "no...you guessed wrong shape...try again\n"
     ]
    }
   ],
   "source": [
    "fruit = input(\"type a fruit name\")\n",
    "print(\"Guessed fruit is\",fruit)\n",
    "fruit_color = {'apple':'red','orange':'orange','mango':'yellow','lemon':'green','banana':'yellow'}\n",
    "fruit_shape = {'apple':'round','orange':'round','mango':'oval','lemon':'round','banana':'curved'}\n",
    "\n",
    "if fruit in fruit_color.keys():\n",
    "    fcolor = input(f\"type the color of {fruit} from red, green, orange or yellow\")\n",
    "    print(\"Guessed fruit color is\",fcolor)\n",
    "    if fcolor == fruit_color[fruit]:\n",
    "        print(\"well done...Halfway there...you're close\")\n",
    "        fshape = input(f\"type the shape of {fruit} from round, oval or curved\")\n",
    "        print(\"Guessed fruit shape is\",fshape)\n",
    "        if fshape == fruit_shape[fruit]:\n",
    "            print(f\"well done...you have guessed {fruit} right\")\n",
    "        else:\n",
    "            print(\"no...you guessed wrong shape...try again\")\n",
    "    else:\n",
    "        print(\"no...you guessed wrong color...try again\")\n",
    "else:\n",
    "    print(\"the fruit is not listed\")"
   ]
  }
 ],
 "metadata": {
  "kernelspec": {
   "display_name": "Python 3.10.6 64-bit",
   "language": "python",
   "name": "python3"
  },
  "language_info": {
   "codemirror_mode": {
    "name": "ipython",
    "version": 3
   },
   "file_extension": ".py",
   "mimetype": "text/x-python",
   "name": "python",
   "nbconvert_exporter": "python",
   "pygments_lexer": "ipython3",
   "version": "3.10.6"
  },
  "orig_nbformat": 4,
  "vscode": {
   "interpreter": {
    "hash": "369f2c481f4da34e4445cda3fffd2e751bd1c4d706f27375911949ba6bb62e1c"
   }
  }
 },
 "nbformat": 4,
 "nbformat_minor": 2
}
