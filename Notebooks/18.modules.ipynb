{
 "cells": [
  {
   "cell_type": "code",
   "execution_count": 1,
   "metadata": {},
   "outputs": [],
   "source": [
    "# importing myMath from Notebooks as myMath is in Notebooks folder\n",
    "# by importing myMath, can use functions and classes of myMath file in this file\n",
    "# running this cell will create .pyc file in __pycache__ folder\n",
    "# pyc files are created by Python interpreter when a .py file is imported\n",
    "import myMath"
   ]
  },
  {
   "cell_type": "code",
   "execution_count": 2,
   "metadata": {},
   "outputs": [
    {
     "data": {
      "text/plain": [
       "5"
      ]
     },
     "execution_count": 2,
     "metadata": {},
     "output_type": "execute_result"
    }
   ],
   "source": [
    "myMath.add(2, 3)"
   ]
  },
  {
   "cell_type": "code",
   "execution_count": 3,
   "metadata": {},
   "outputs": [
    {
     "data": {
      "text/plain": [
       "-1"
      ]
     },
     "execution_count": 3,
     "metadata": {},
     "output_type": "execute_result"
    }
   ],
   "source": [
    "myMath.sub(4, 5)"
   ]
  },
  {
   "cell_type": "code",
   "execution_count": 4,
   "metadata": {},
   "outputs": [
    {
     "data": {
      "text/plain": [
       "12"
      ]
     },
     "execution_count": 4,
     "metadata": {},
     "output_type": "execute_result"
    }
   ],
   "source": [
    "from myMath import add\n",
    "add(4,8)"
   ]
  },
  {
   "cell_type": "code",
   "execution_count": 5,
   "metadata": {},
   "outputs": [
    {
     "data": {
      "text/plain": [
       "15"
      ]
     },
     "execution_count": 5,
     "metadata": {},
     "output_type": "execute_result"
    }
   ],
   "source": [
    "from myMath import Math\n",
    "o1 = Math([1,2,3,4,5,])\n",
    "o1.sum()"
   ]
  },
  {
   "cell_type": "code",
   "execution_count": 6,
   "metadata": {},
   "outputs": [
    {
     "data": {
      "text/plain": [
       "9"
      ]
     },
     "execution_count": 6,
     "metadata": {},
     "output_type": "execute_result"
    }
   ],
   "source": [
    "myMath.var"
   ]
  },
  {
   "cell_type": "code",
   "execution_count": 1,
   "metadata": {},
   "outputs": [
    {
     "name": "stdout",
     "output_type": "stream",
     "text": [
      "Employee name is:   Mario\n",
      "Employee age is:  55\n",
      "Employee title is:   owner\n",
      "employee_dict: {'first_name': 'Mario', 'age': 55, 'title': 'owner'}\n",
      "json_object: {\"first_name\": \"Mario\", \"age\": 55, \"title\": \"owner\"}\n"
     ]
    }
   ],
   "source": [
    "''' \n",
    "Import statements: Import built-in json python package\n",
    "From myMath.py import details function and employee_name, age, title variables\n",
    "'''\n",
    "import json\n",
    "from myMath import details, employee_name, age, title\n",
    "\n",
    "def create_dict(name, age, title):\n",
    "    \"\"\" Creates a dictionary that stores an employee's information\n",
    "    Return a dictionary that maps \"first_name\" to name, \"age\" to age and \"title\" to title\n",
    "    Returns: dict - A dictionary that maps \"first_name\", \"age\", and \"title\" to name, age, and title arguments respectively\n",
    "    values should be typecasted correctly (name - string, age - int, title - string)\n",
    "    \"\"\"\n",
    "    ndict = {\"first_name\": str(name), \"age\":int(age), \"title\":str(title)}\n",
    "    return ndict\n",
    "\n",
    "def write_json_to_file(json_obj, output_file):\n",
    "    \"\"\" Write json string to a new file defined by output_file and Write json_obj to new file\n",
    "    Args: json_obj: json string containing employee information\n",
    "    output_file: file where json is being written to\n",
    "    \"\"\"\n",
    "    file = open(output_file,'w')\n",
    "    file.write(json_obj)\n",
    "    file.close()\n",
    "    return file\n",
    "\n",
    "def main():\n",
    "    details()\n",
    "    # Create employee dictionary\n",
    "    employee_dict = create_dict(employee_name, age, title)\n",
    "    print(\"employee_dict: \" + str(employee_dict))\n",
    "    json_object = json.dumps(employee_dict)\n",
    "    print(\"json_object: \" + str(json_object))\n",
    "\n",
    "    # Write out the json object to file\n",
    "    write_json_to_file(json_object, \"employee.json\")\n",
    "\n",
    "if __name__ == \"__main__\":\n",
    "    main()"
   ]
  }
 ],
 "metadata": {
  "kernelspec": {
   "display_name": "Python 3.10.6 64-bit",
   "language": "python",
   "name": "python3"
  },
  "language_info": {
   "codemirror_mode": {
    "name": "ipython",
    "version": 3
   },
   "file_extension": ".py",
   "mimetype": "text/x-python",
   "name": "python",
   "nbconvert_exporter": "python",
   "pygments_lexer": "ipython3",
   "version": "3.10.6 (tags/v3.10.6:9c7b4bd, Aug  1 2022, 21:53:49) [MSC v.1932 64 bit (AMD64)]"
  },
  "orig_nbformat": 4,
  "vscode": {
   "interpreter": {
    "hash": "369f2c481f4da34e4445cda3fffd2e751bd1c4d706f27375911949ba6bb62e1c"
   }
  }
 },
 "nbformat": 4,
 "nbformat_minor": 2
}
