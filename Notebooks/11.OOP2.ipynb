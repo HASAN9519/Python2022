{
 "cells": [
  {
   "cell_type": "markdown",
   "metadata": {},
   "source": [
    "### Class Method and Static Method"
   ]
  },
  {
   "cell_type": "code",
   "execution_count": 4,
   "metadata": {},
   "outputs": [],
   "source": [
    "class Product:\n",
    "    platform = 'AMAZON'\n",
    "\n",
    "    def __init__(self, pid: int, title: str, price: float) -> None:  #self means instance method\n",
    "        self.pid = pid\n",
    "        self.title = title\n",
    "        self.price = price\n",
    "    \n",
    "    @classmethod                                       #using decorator to define class method\n",
    "    def ObjectfromStr(cls, string: str):\n",
    "        pid, title, price = string.split('-')\n",
    "        return cls(int(pid), title, float(price))\n",
    "    \n",
    "    @staticmethod                                      #using function without creating object is called static method\n",
    "    def add(x:int, y:int) -> int:\n",
    "        return x+y\n",
    "    \n",
    "    def __repr__(self) -> str:\n",
    "        return f'Product(pid={self.pid}, title={self.title}, price={self.price})'"
   ]
  },
  {
   "cell_type": "code",
   "execution_count": 5,
   "metadata": {},
   "outputs": [
    {
     "data": {
      "text/plain": [
       "Product(pid=2332, title=IPHONE, price=120000.0)"
      ]
     },
     "execution_count": 5,
     "metadata": {},
     "output_type": "execute_result"
    }
   ],
   "source": [
    "p1 = Product(2332, 'IPHONE', 120000.00)\n",
    "p1"
   ]
  },
  {
   "cell_type": "code",
   "execution_count": 6,
   "metadata": {},
   "outputs": [
    {
     "data": {
      "text/plain": [
       "Product(pid=22323, title=IPHONE, price=120000.0)"
      ]
     },
     "execution_count": 6,
     "metadata": {},
     "output_type": "execute_result"
    }
   ],
   "source": [
    "p2 = Product.ObjectfromStr('22323-IPHONE-120000')\n",
    "p2"
   ]
  },
  {
   "cell_type": "code",
   "execution_count": 7,
   "metadata": {},
   "outputs": [
    {
     "data": {
      "text/plain": [
       "5"
      ]
     },
     "execution_count": 7,
     "metadata": {},
     "output_type": "execute_result"
    }
   ],
   "source": [
    "Product.add(2,3)"
   ]
  },
  {
   "cell_type": "markdown",
   "metadata": {},
   "source": [
    "### Magic Methods and Operator Overriding"
   ]
  },
  {
   "cell_type": "code",
   "execution_count": 16,
   "metadata": {},
   "outputs": [],
   "source": [
    "class Product1:\n",
    "    platform = 'AMAZON'\n",
    "\n",
    "    def __init__(self, pid: int, title: str, price: float) -> None:\n",
    "        self.pid = pid\n",
    "        self.title = title\n",
    "        self.price = price\n",
    "    \n",
    "    #magic methods start with double underscore and ends with double underscore\n",
    "    #changing names of magic methods will throw error\n",
    "    def __gt__(self, others) -> bool:  #others will take Product1 class itself\n",
    "        return self.price > others.price\n",
    "    \n",
    "    def __ge__(self, others) -> bool:\n",
    "        return self.price >= others.price\n",
    "\n",
    "    def __add__(self, others) -> bool:\n",
    "        return self.price + others.price\n",
    "    \n",
    "    def __repr__(self) -> str:\n",
    "        return f'Product1(pid={self.pid}, title={self.title})'"
   ]
  },
  {
   "cell_type": "code",
   "execution_count": 27,
   "metadata": {},
   "outputs": [],
   "source": [
    "p1 = Product1(2332, 'IPHONE', 180000.00)\n",
    "p2 = Product1(2337, 'IPHONE X', 160000.00)\n",
    "p3 = Product1(2340, 'IPHONE XS', 120000.00)"
   ]
  },
  {
   "cell_type": "code",
   "execution_count": 28,
   "metadata": {},
   "outputs": [
    {
     "data": {
      "text/plain": [
       "(True, True, False)"
      ]
     },
     "execution_count": 28,
     "metadata": {},
     "output_type": "execute_result"
    }
   ],
   "source": [
    "p1 > p2, p2 > p3, p3 > p1"
   ]
  },
  {
   "cell_type": "code",
   "execution_count": 29,
   "metadata": {},
   "outputs": [
    {
     "data": {
      "text/plain": [
       "(True, False, True)"
      ]
     },
     "execution_count": 29,
     "metadata": {},
     "output_type": "execute_result"
    }
   ],
   "source": [
    "p1 >= p2, p1 <= p2, p3 <= p2"
   ]
  },
  {
   "cell_type": "code",
   "execution_count": 31,
   "metadata": {},
   "outputs": [
    {
     "data": {
      "text/plain": [
       "(340000.0, 280000.0)"
      ]
     },
     "execution_count": 31,
     "metadata": {},
     "output_type": "execute_result"
    }
   ],
   "source": [
    "p1 + p2, p2 + p3"
   ]
  },
  {
   "attachments": {},
   "cell_type": "markdown",
   "metadata": {},
   "source": [
    "## Method Resolution Order"
   ]
  },
  {
   "cell_type": "code",
   "execution_count": 1,
   "metadata": {},
   "outputs": [
    {
     "name": "stdout",
     "output_type": "stream",
     "text": [
      "Function inside C\n"
     ]
    }
   ],
   "source": [
    "class A:\n",
    "    def b(self):\n",
    "        return \"Function inside A\"\n",
    "class B:\n",
    "    pass\n",
    "class C:\n",
    "    def b(self):\n",
    "        return \"Function inside C\"\n",
    "class D(B, C, A):\n",
    "    pass\n",
    "class D(C):\n",
    "    pass\n",
    "d = D()\n",
    "print(d.b())"
   ]
  },
  {
   "attachments": {},
   "cell_type": "markdown",
   "metadata": {},
   "source": [
    "## Abstract Classes and Methods"
   ]
  },
  {
   "cell_type": "code",
   "execution_count": 47,
   "metadata": {},
   "outputs": [
    {
     "name": "stdout",
     "output_type": "stream",
     "text": [
      "This is the Swiss Bank\n",
      "Swiss Bank: 1000\n",
      "Withdrawn amount: 30\n",
      "New Balance: 970\n",
      "Insufficient funds\n"
     ]
    }
   ],
   "source": [
    "# Import ABC and abstractmethod from module abc (which stands for abstract base classes)\n",
    "from abc import ABC, abstractmethod\n",
    "\n",
    "# Class Bank\n",
    "class Bank(ABC):     # need to pass ABC module to make it abstract class\n",
    "    \"\"\" An abstract bank class, This class must derive from class ABC\n",
    "    Write a basicinfo() function that prints out \"This is a generic bank\" and returns string \"Generic bank: 0\" \n",
    "    Define a second function called withdraw and keep it empty by adding `pass` keyword under it, Make this function abstract by\n",
    "    adding an '@abstractmethod' tag right above function declaration\n",
    "    \"\"\"\n",
    "    def basicinfo():\n",
    "        print(\"This is a generic bank\")\n",
    "        return \"Generic bank: 0\"\n",
    "\n",
    "    @abstractmethod\n",
    "    def withdraw():\n",
    "        pass \n",
    "\n",
    "# Class Swiss\n",
    "class Swiss(Bank):\n",
    "    \"\"\" A specific type of bank than derives from class Bank, This class must derive from class Bank\n",
    "    Create a constructor for this class that initializes a class variable `bal` to 1000\n",
    "    Implement basicinfo() function so that it prints \"This is the Swiss Bank\" and returns a string with \"Swiss Bank: \"\n",
    "    (don't forget space after colon) followed by current bank balance\n",
    "    For example, if self.bal = 80, then it would return \"Swiss Bank: 80\"\n",
    "    Implement withdraw so that it takes one argument (in addition to self) that is an integer which represents amount to be withdrawn\n",
    "    from the bank, Deduct withdrawn amount from bank bal, print withdrawn amount (\"Withdrawn amount: {amount}\"), \n",
    "    print new balance (\"New Balance: {self.bal}\"), and return new balance.\n",
    "    Note: Make sure to verify that there is enough money to withdraw! If amount is greater than balance, then do not deduct any \n",
    "    money from class variable `bal`, Instead print a statement saying `\"Insufficient funds\"` and return original account balance instead\n",
    "    \"\"\"\n",
    "    def __init__(self) -> None:\n",
    "        self.bal = 1000  # class variable\n",
    "        #super().__init__()\n",
    "\n",
    "    def basicinfo(self):\n",
    "        print(\"This is the Swiss Bank\")\n",
    "        return \"Swiss Bank: {}\".format(self.bal)\n",
    "        \n",
    "    def withdraw(self, amt):\n",
    "        if amt <= self.bal:\n",
    "            self.bal=self.bal - amt\n",
    "            print(\"Withdrawn amount: {}\".format(amt))\n",
    "            print(\"New Balance: {}\".format(self.bal))\n",
    "            return self.bal\n",
    "        else:\n",
    "            print(\"Insufficient funds\")\n",
    "            return self.bal\n",
    "\n",
    "# Driver Code\n",
    "def main():\n",
    "    assert issubclass(Bank, ABC), \"Bank must derive from class ABC\"\n",
    "    s = Swiss()\n",
    "    print(s.basicinfo())\n",
    "    s.withdraw(30)\n",
    "    s.withdraw(1000)\n",
    "\n",
    "if __name__ == \"__main__\":\n",
    "    main()"
   ]
  }
 ],
 "metadata": {
  "kernelspec": {
   "display_name": "Python 3.10.6 64-bit",
   "language": "python",
   "name": "python3"
  },
  "language_info": {
   "codemirror_mode": {
    "name": "ipython",
    "version": 3
   },
   "file_extension": ".py",
   "mimetype": "text/x-python",
   "name": "python",
   "nbconvert_exporter": "python",
   "pygments_lexer": "ipython3",
   "version": "3.10.6 (tags/v3.10.6:9c7b4bd, Aug  1 2022, 21:53:49) [MSC v.1932 64 bit (AMD64)]"
  },
  "orig_nbformat": 4,
  "vscode": {
   "interpreter": {
    "hash": "369f2c481f4da34e4445cda3fffd2e751bd1c4d706f27375911949ba6bb62e1c"
   }
  }
 },
 "nbformat": 4,
 "nbformat_minor": 2
}
