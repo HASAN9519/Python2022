{
 "cells": [
  {
   "cell_type": "markdown",
   "metadata": {},
   "source": [
    "### Class Method and Static Method"
   ]
  },
  {
   "cell_type": "code",
   "execution_count": 4,
   "metadata": {},
   "outputs": [],
   "source": [
    "class Product:\n",
    "    platform = 'AMAZON'\n",
    "\n",
    "    def __init__(self, pid: int, title: str, price: float) -> None:  #self means instance method\n",
    "        self.pid = pid\n",
    "        self.title = title\n",
    "        self.price = price\n",
    "    \n",
    "    @classmethod                                       #using decorator to define class method\n",
    "    def ObjectfromStr(cls, string: str):\n",
    "        pid, title, price = string.split('-')\n",
    "        return cls(int(pid), title, float(price))\n",
    "    \n",
    "    @staticmethod                                      #using function without creating object is called static method\n",
    "    def add(x:int, y:int) -> int:\n",
    "        return x+y\n",
    "    \n",
    "    def __repr__(self) -> str:\n",
    "        return f'Product(pid={self.pid}, title={self.title}, price={self.price})'"
   ]
  },
  {
   "cell_type": "code",
   "execution_count": 5,
   "metadata": {},
   "outputs": [
    {
     "data": {
      "text/plain": [
       "Product(pid=2332, title=IPHONE, price=120000.0)"
      ]
     },
     "execution_count": 5,
     "metadata": {},
     "output_type": "execute_result"
    }
   ],
   "source": [
    "p1 = Product(2332, 'IPHONE', 120000.00)\n",
    "p1"
   ]
  },
  {
   "cell_type": "code",
   "execution_count": 6,
   "metadata": {},
   "outputs": [
    {
     "data": {
      "text/plain": [
       "Product(pid=22323, title=IPHONE, price=120000.0)"
      ]
     },
     "execution_count": 6,
     "metadata": {},
     "output_type": "execute_result"
    }
   ],
   "source": [
    "p2 = Product.ObjectfromStr('22323-IPHONE-120000')\n",
    "p2"
   ]
  },
  {
   "cell_type": "code",
   "execution_count": 7,
   "metadata": {},
   "outputs": [
    {
     "data": {
      "text/plain": [
       "5"
      ]
     },
     "execution_count": 7,
     "metadata": {},
     "output_type": "execute_result"
    }
   ],
   "source": [
    "Product.add(2,3)"
   ]
  },
  {
   "cell_type": "markdown",
   "metadata": {},
   "source": [
    "### Magic Methods and Operator Overriding"
   ]
  },
  {
   "cell_type": "code",
   "execution_count": 16,
   "metadata": {},
   "outputs": [],
   "source": [
    "class Product1:\n",
    "    platform = 'AMAZON'\n",
    "\n",
    "    def __init__(self, pid: int, title: str, price: float) -> None:\n",
    "        self.pid = pid\n",
    "        self.title = title\n",
    "        self.price = price\n",
    "    \n",
    "    #magic methods start with double underscore and ends with double underscore\n",
    "    #changing names of magic methods will throw error\n",
    "    def __gt__(self, others) -> bool:  #others will take Product1 class itself\n",
    "        return self.price > others.price\n",
    "    \n",
    "    def __ge__(self, others) -> bool:\n",
    "        return self.price >= others.price\n",
    "\n",
    "    def __add__(self, others) -> bool:\n",
    "        return self.price + others.price\n",
    "    \n",
    "    def __repr__(self) -> str:\n",
    "        return f'Product1(pid={self.pid}, title={self.title})'"
   ]
  },
  {
   "cell_type": "code",
   "execution_count": 27,
   "metadata": {},
   "outputs": [],
   "source": [
    "p1 = Product1(2332, 'IPHONE', 180000.00)\n",
    "p2 = Product1(2337, 'IPHONE X', 160000.00)\n",
    "p3 = Product1(2340, 'IPHONE XS', 120000.00)"
   ]
  },
  {
   "cell_type": "code",
   "execution_count": 28,
   "metadata": {},
   "outputs": [
    {
     "data": {
      "text/plain": [
       "(True, True, False)"
      ]
     },
     "execution_count": 28,
     "metadata": {},
     "output_type": "execute_result"
    }
   ],
   "source": [
    "p1 > p2, p2 > p3, p3 > p1"
   ]
  },
  {
   "cell_type": "code",
   "execution_count": 29,
   "metadata": {},
   "outputs": [
    {
     "data": {
      "text/plain": [
       "(True, False, True)"
      ]
     },
     "execution_count": 29,
     "metadata": {},
     "output_type": "execute_result"
    }
   ],
   "source": [
    "p1 >= p2, p1 <= p2, p3 <= p2"
   ]
  },
  {
   "cell_type": "code",
   "execution_count": 31,
   "metadata": {},
   "outputs": [
    {
     "data": {
      "text/plain": [
       "(340000.0, 280000.0)"
      ]
     },
     "execution_count": 31,
     "metadata": {},
     "output_type": "execute_result"
    }
   ],
   "source": [
    "p1 + p2, p2 + p3"
   ]
  }
 ],
 "metadata": {
  "kernelspec": {
   "display_name": "Python 3.10.6 64-bit",
   "language": "python",
   "name": "python3"
  },
  "language_info": {
   "codemirror_mode": {
    "name": "ipython",
    "version": 3
   },
   "file_extension": ".py",
   "mimetype": "text/x-python",
   "name": "python",
   "nbconvert_exporter": "python",
   "pygments_lexer": "ipython3",
   "version": "3.10.6"
  },
  "orig_nbformat": 4,
  "vscode": {
   "interpreter": {
    "hash": "369f2c481f4da34e4445cda3fffd2e751bd1c4d706f27375911949ba6bb62e1c"
   }
  }
 },
 "nbformat": 4,
 "nbformat_minor": 2
}
