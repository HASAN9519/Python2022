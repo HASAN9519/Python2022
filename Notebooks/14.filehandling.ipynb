{
 "cells": [
  {
   "cell_type": "markdown",
   "metadata": {},
   "source": [
    "### File "
   ]
  },
  {
   "cell_type": "code",
   "execution_count": 68,
   "metadata": {},
   "outputs": [],
   "source": [
    "# write mode creates file if it's not created in directory\n",
    "# if file exist, write mode will remove all content of file and write content newly everytime write mode is called\n",
    "file = open('f1.txt', mode='w')\n",
    "file.write('Line1\\n')\n",
    "# writelines used to write multiple lines\n",
    "file.writelines(['Line2\\n', 'Line3\\n'])\n",
    "file.close()"
   ]
  },
  {
   "cell_type": "code",
   "execution_count": 9,
   "metadata": {},
   "outputs": [],
   "source": [
    "# append mode also creates file if it's not created in directory\n",
    "# append mode don't remove contents of file instead append contents after existed contents everytime append mode is called\n",
    "file = open('f2.txt', mode='a')\n",
    "file.write('Line7\\n')\n",
    "file.writelines(['Line8\\n', 'Line9\\n'])\n",
    "file.close()"
   ]
  },
  {
   "cell_type": "code",
   "execution_count": 11,
   "metadata": {},
   "outputs": [
    {
     "name": "stdout",
     "output_type": "stream",
     "text": [
      "[Errno 17] File exists: 'f3.txt'\n"
     ]
    }
   ],
   "source": [
    "# xclusive mode don't allow create file if it's already existed and throw a error\n",
    "try:\n",
    "    file = open('f3.txt', mode='x')\n",
    "    file.write('\\nLine7')\n",
    "    file.writelines(['\\nLine8', '\\nLine9'])\n",
    "    file.close()\n",
    "except Exception as e:\n",
    "    print(e)"
   ]
  },
  {
   "cell_type": "code",
   "execution_count": 23,
   "metadata": {},
   "outputs": [
    {
     "name": "stdout",
     "output_type": "stream",
     "text": [
      "Line7\n",
      "L\n"
     ]
    }
   ],
   "source": [
    "# read mode\n",
    "file = open('f2.txt', mode='r')\n",
    "# returns whole file as string\n",
    "#data = file.read()\n",
    "# returns based on specified size, new line is also counted \n",
    "data = file.read(7)\n",
    "print(data)\n",
    "file.close()"
   ]
  },
  {
   "cell_type": "code",
   "execution_count": 25,
   "metadata": {},
   "outputs": [
    {
     "name": "stdout",
     "output_type": "stream",
     "text": [
      "['Line7\\n', 'Line8\\n']\n"
     ]
    }
   ],
   "source": [
    "# read mode\n",
    "file = open('f2.txt', mode='r')\n",
    "# readlines returns whole file in list\n",
    "#data = file.readlines()\n",
    "data = file.readlines(7)\n",
    "print(data)\n",
    "file.close()"
   ]
  },
  {
   "cell_type": "code",
   "execution_count": 44,
   "metadata": {},
   "outputs": [
    {
     "name": "stdout",
     "output_type": "stream",
     "text": [
      "[b'Line1\\r\\n', b'Line2\\r\\n', b'Line3\\r\\n']\n"
     ]
    }
   ],
   "source": [
    "# read bytes mode\n",
    "file = open('f1.txt', mode='rb')\n",
    "data = file.readlines()\n",
    "print(data)\n",
    "file.close()"
   ]
  },
  {
   "cell_type": "code",
   "execution_count": 70,
   "metadata": {},
   "outputs": [
    {
     "name": "stdout",
     "output_type": "stream",
     "text": [
      "['Line1\\n', 'Line2\\n', 'Line3\\n', 'Line4\\n']\n"
     ]
    }
   ],
   "source": [
    "# read write mode\n",
    "# don't remove contents of file instead write contents after existed contents everytime append mode is called\n",
    "file = open('f1.txt', mode='r+')\n",
    "file.write('Line4\\n')\n",
    "data = file.readlines()\n",
    "print(data)\n",
    "file.close()"
   ]
  },
  {
   "cell_type": "code",
   "execution_count": 45,
   "metadata": {},
   "outputs": [
    {
     "name": "stdout",
     "output_type": "stream",
     "text": [
      "not writable\n"
     ]
    }
   ],
   "source": [
    "# can't write in read mode or can't read on write mode\n",
    "try:\n",
    "    file = open('f1.txt', mode='r')\n",
    "    file.write('hfdhss\\n')\n",
    "    file.close()\n",
    "except Exception as e:\n",
    "    print(e)"
   ]
  },
  {
   "cell_type": "code",
   "execution_count": 46,
   "metadata": {},
   "outputs": [],
   "source": [
    "# can't read on append mode but can write on append mode\n",
    "try:\n",
    "    file = open('f1.txt', mode='a')\n",
    "    #file.read()\n",
    "    file.write('newline1\\n')\n",
    "    file.close()\n",
    "except Exception as e:\n",
    "    print(e)"
   ]
  },
  {
   "cell_type": "code",
   "execution_count": 47,
   "metadata": {},
   "outputs": [
    {
     "name": "stdout",
     "output_type": "stream",
     "text": [
      "Readable: False\n",
      "Writable:  True\n",
      "Closed:  False\n",
      "After Closed:  True\n"
     ]
    }
   ],
   "source": [
    "# Checkers\n",
    "file = open('f1.txt', mode='a')\n",
    "print('Readable:', file.readable())\n",
    "print('Writable: ', file.writable())\n",
    "print('Closed: ', file.closed)\n",
    "file.close()\n",
    "print('After Closed: ', file.closed)"
   ]
  },
  {
   "cell_type": "markdown",
   "metadata": {},
   "source": [
    "### With"
   ]
  },
  {
   "cell_type": "code",
   "execution_count": 71,
   "metadata": {},
   "outputs": [
    {
     "name": "stdout",
     "output_type": "stream",
     "text": [
      "Readable: False\n",
      "Writable:  True\n",
      "Closed:  False\n",
      "After Closed:  True\n"
     ]
    }
   ],
   "source": [
    "# file automatically closes when with block ends\n",
    "with open('f1.txt', mode='a') as file:\n",
    "    print('Readable:', file.readable())\n",
    "    print('Writable: ', file.writable())\n",
    "    file.write('newline\\n')\n",
    "    print('Closed: ', file.closed)\n",
    "print('After Closed: ', file.closed)"
   ]
  },
  {
   "cell_type": "code",
   "execution_count": 76,
   "metadata": {},
   "outputs": [
    {
     "name": "stdout",
     "output_type": "stream",
     "text": [
      "['Line1\\n', 'Line2\\n', 'Line3\\n', 'Line4\\n', 'Line4\\n', 'newline\\n', 'newline3\\n', 'newline3\\n', 'newline3\\n', 'newline3\\n']\n"
     ]
    }
   ],
   "source": [
    "# using readlines instead of read as it giving some problem\n",
    "with open('f1.txt', mode='r+') as file:\n",
    "    file.write('newline4\\n')\n",
    "    d = file.readlines()\n",
    "    print(d)"
   ]
  }
 ],
 "metadata": {
  "kernelspec": {
   "display_name": "Python 3.10.6 64-bit",
   "language": "python",
   "name": "python3"
  },
  "language_info": {
   "codemirror_mode": {
    "name": "ipython",
    "version": 3
   },
   "file_extension": ".py",
   "mimetype": "text/x-python",
   "name": "python",
   "nbconvert_exporter": "python",
   "pygments_lexer": "ipython3",
   "version": "3.10.6"
  },
  "orig_nbformat": 4,
  "vscode": {
   "interpreter": {
    "hash": "369f2c481f4da34e4445cda3fffd2e751bd1c4d706f27375911949ba6bb62e1c"
   }
  }
 },
 "nbformat": 4,
 "nbformat_minor": 2
}
