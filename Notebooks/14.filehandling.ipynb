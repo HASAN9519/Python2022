{
 "cells": [
  {
   "cell_type": "markdown",
   "metadata": {},
   "source": [
    "# File "
   ]
  },
  {
   "cell_type": "code",
   "execution_count": 15,
   "metadata": {},
   "outputs": [],
   "source": [
    "# write mode\n",
    "file = open('f1.txt', mode='w')\n",
    "file.write('Line4')\n",
    "file.writelines(['\\nLine5', '\\nLine6'])\n",
    "file.close()"
   ]
  },
  {
   "cell_type": "code",
   "execution_count": 16,
   "metadata": {},
   "outputs": [],
   "source": [
    "# append mode\n",
    "file = open('f1.txt', mode='a')\n",
    "file.write('\\nLine7')\n",
    "file.writelines(['\\nLine8', '\\nLine9'])\n",
    "file.close()"
   ]
  },
  {
   "cell_type": "code",
   "execution_count": 17,
   "metadata": {},
   "outputs": [
    {
     "ename": "FileExistsError",
     "evalue": "[Errno 17] File exists: 'f1.txt'",
     "output_type": "error",
     "traceback": [
      "\u001b[1;31m---------------------------------------------------------------------------\u001b[0m",
      "\u001b[1;31mFileExistsError\u001b[0m                           Traceback (most recent call last)",
      "\u001b[1;32me:\\HRV\\Professional\\Machine-Learning\\MLDS 1019\\5_FileFolderHAndling\\file.ipynb Cell 4\u001b[0m in \u001b[0;36m<cell line: 2>\u001b[1;34m()\u001b[0m\n\u001b[0;32m      <a href='vscode-notebook-cell:/e%3A/HRV/Professional/Machine-Learning/MLDS%201019/5_FileFolderHAndling/file.ipynb#W3sZmlsZQ%3D%3D?line=0'>1</a>\u001b[0m \u001b[39m# write mode\u001b[39;00m\n\u001b[1;32m----> <a href='vscode-notebook-cell:/e%3A/HRV/Professional/Machine-Learning/MLDS%201019/5_FileFolderHAndling/file.ipynb#W3sZmlsZQ%3D%3D?line=1'>2</a>\u001b[0m file \u001b[39m=\u001b[39m \u001b[39mopen\u001b[39;49m(\u001b[39m'\u001b[39;49m\u001b[39mf1.txt\u001b[39;49m\u001b[39m'\u001b[39;49m, mode\u001b[39m=\u001b[39;49m\u001b[39m'\u001b[39;49m\u001b[39mx\u001b[39;49m\u001b[39m'\u001b[39;49m)\n\u001b[0;32m      <a href='vscode-notebook-cell:/e%3A/HRV/Professional/Machine-Learning/MLDS%201019/5_FileFolderHAndling/file.ipynb#W3sZmlsZQ%3D%3D?line=2'>3</a>\u001b[0m file\u001b[39m.\u001b[39mwrite(\u001b[39m'\u001b[39m\u001b[39m\\n\u001b[39;00m\u001b[39mLine7\u001b[39m\u001b[39m'\u001b[39m)\n\u001b[0;32m      <a href='vscode-notebook-cell:/e%3A/HRV/Professional/Machine-Learning/MLDS%201019/5_FileFolderHAndling/file.ipynb#W3sZmlsZQ%3D%3D?line=3'>4</a>\u001b[0m file\u001b[39m.\u001b[39mwritelines([\u001b[39m'\u001b[39m\u001b[39m\\n\u001b[39;00m\u001b[39mLine8\u001b[39m\u001b[39m'\u001b[39m, \u001b[39m'\u001b[39m\u001b[39m\\n\u001b[39;00m\u001b[39mLine9\u001b[39m\u001b[39m'\u001b[39m])\n",
      "\u001b[1;31mFileExistsError\u001b[0m: [Errno 17] File exists: 'f1.txt'"
     ]
    }
   ],
   "source": [
    "# xclusive mode\n",
    "file = open('f1.txt', mode='x')\n",
    "file.write('\\nLine7')\n",
    "file.writelines(['\\nLine8', '\\nLine9'])\n",
    "file.close()"
   ]
  },
  {
   "cell_type": "code",
   "execution_count": 26,
   "metadata": {},
   "outputs": [
    {
     "name": "stdout",
     "output_type": "stream",
     "text": [
      "Line4\n",
      "Li\n"
     ]
    }
   ],
   "source": [
    "# read mode\n",
    "file = open('f1.txt', mode='r')\n",
    "data = file.read(8)\n",
    "print(data)\n",
    "file.close()"
   ]
  },
  {
   "cell_type": "code",
   "execution_count": 27,
   "metadata": {},
   "outputs": [
    {
     "name": "stdout",
     "output_type": "stream",
     "text": [
      "['Line4\\n', 'Line5\\n']\n"
     ]
    }
   ],
   "source": [
    "# read mode\n",
    "file = open('f1.txt', mode='r')\n",
    "data = file.readlines(6)\n",
    "print(data)\n",
    "file.close()"
   ]
  },
  {
   "cell_type": "code",
   "execution_count": 29,
   "metadata": {},
   "outputs": [
    {
     "name": "stdout",
     "output_type": "stream",
     "text": [
      "b'Line4\\r\\nL'\n"
     ]
    }
   ],
   "source": [
    "# read bytes mode\n",
    "file = open('f1.txt', mode='rb')\n",
    "data = file.read(8)\n",
    "print(data)\n",
    "file.close()"
   ]
  },
  {
   "cell_type": "code",
   "execution_count": 31,
   "metadata": {},
   "outputs": [
    {
     "name": "stdout",
     "output_type": "stream",
     "text": [
      "Line4\n",
      "Li\n"
     ]
    }
   ],
   "source": [
    "# read write mode\n",
    "file = open('f1.txt', mode='r+')\n",
    "data = file.read(8)\n",
    "print(data)\n",
    "file.write('\\nLine11')\n",
    "file.close()"
   ]
  },
  {
   "cell_type": "code",
   "execution_count": 32,
   "metadata": {},
   "outputs": [
    {
     "ename": "UnsupportedOperation",
     "evalue": "not writable",
     "output_type": "error",
     "traceback": [
      "\u001b[1;31m---------------------------------------------------------------------------\u001b[0m",
      "\u001b[1;31mUnsupportedOperation\u001b[0m                      Traceback (most recent call last)",
      "\u001b[1;32me:\\HRV\\Professional\\Machine-Learning\\MLDS 1019\\5_FileFolderHAndling\\file.ipynb Cell 9\u001b[0m in \u001b[0;36m<cell line: 3>\u001b[1;34m()\u001b[0m\n\u001b[0;32m      <a href='vscode-notebook-cell:/e%3A/HRV/Professional/Machine-Learning/MLDS%201019/5_FileFolderHAndling/file.ipynb#X11sZmlsZQ%3D%3D?line=0'>1</a>\u001b[0m \u001b[39m# read mode\u001b[39;00m\n\u001b[0;32m      <a href='vscode-notebook-cell:/e%3A/HRV/Professional/Machine-Learning/MLDS%201019/5_FileFolderHAndling/file.ipynb#X11sZmlsZQ%3D%3D?line=1'>2</a>\u001b[0m file \u001b[39m=\u001b[39m \u001b[39mopen\u001b[39m(\u001b[39m'\u001b[39m\u001b[39mf1.txt\u001b[39m\u001b[39m'\u001b[39m, mode\u001b[39m=\u001b[39m\u001b[39m'\u001b[39m\u001b[39mr\u001b[39m\u001b[39m'\u001b[39m)\n\u001b[1;32m----> <a href='vscode-notebook-cell:/e%3A/HRV/Professional/Machine-Learning/MLDS%201019/5_FileFolderHAndling/file.ipynb#X11sZmlsZQ%3D%3D?line=2'>3</a>\u001b[0m file\u001b[39m.\u001b[39;49mwrite(\u001b[39m'\u001b[39;49m\u001b[39mhfdhss\u001b[39;49m\u001b[39m'\u001b[39;49m)\n\u001b[0;32m      <a href='vscode-notebook-cell:/e%3A/HRV/Professional/Machine-Learning/MLDS%201019/5_FileFolderHAndling/file.ipynb#X11sZmlsZQ%3D%3D?line=3'>4</a>\u001b[0m file\u001b[39m.\u001b[39mclose()\n",
      "\u001b[1;31mUnsupportedOperation\u001b[0m: not writable"
     ]
    }
   ],
   "source": [
    "# read mode\n",
    "file = open('f1.txt', mode='r')\n",
    "file.write('hfdhss')\n",
    "file.close()"
   ]
  },
  {
   "cell_type": "code",
   "execution_count": 33,
   "metadata": {},
   "outputs": [
    {
     "ename": "UnsupportedOperation",
     "evalue": "not readable",
     "output_type": "error",
     "traceback": [
      "\u001b[1;31m---------------------------------------------------------------------------\u001b[0m",
      "\u001b[1;31mUnsupportedOperation\u001b[0m                      Traceback (most recent call last)",
      "\u001b[1;32me:\\HRV\\Professional\\Machine-Learning\\MLDS 1019\\5_FileFolderHAndling\\file.ipynb Cell 10\u001b[0m in \u001b[0;36m<cell line: 3>\u001b[1;34m()\u001b[0m\n\u001b[0;32m      <a href='vscode-notebook-cell:/e%3A/HRV/Professional/Machine-Learning/MLDS%201019/5_FileFolderHAndling/file.ipynb#X12sZmlsZQ%3D%3D?line=0'>1</a>\u001b[0m \u001b[39m# read mode\u001b[39;00m\n\u001b[0;32m      <a href='vscode-notebook-cell:/e%3A/HRV/Professional/Machine-Learning/MLDS%201019/5_FileFolderHAndling/file.ipynb#X12sZmlsZQ%3D%3D?line=1'>2</a>\u001b[0m file \u001b[39m=\u001b[39m \u001b[39mopen\u001b[39m(\u001b[39m'\u001b[39m\u001b[39mf1.txt\u001b[39m\u001b[39m'\u001b[39m, mode\u001b[39m=\u001b[39m\u001b[39m'\u001b[39m\u001b[39ma\u001b[39m\u001b[39m'\u001b[39m)\n\u001b[1;32m----> <a href='vscode-notebook-cell:/e%3A/HRV/Professional/Machine-Learning/MLDS%201019/5_FileFolderHAndling/file.ipynb#X12sZmlsZQ%3D%3D?line=2'>3</a>\u001b[0m file\u001b[39m.\u001b[39;49mread()\n\u001b[0;32m      <a href='vscode-notebook-cell:/e%3A/HRV/Professional/Machine-Learning/MLDS%201019/5_FileFolderHAndling/file.ipynb#X12sZmlsZQ%3D%3D?line=3'>4</a>\u001b[0m file\u001b[39m.\u001b[39mclose()\n",
      "\u001b[1;31mUnsupportedOperation\u001b[0m: not readable"
     ]
    }
   ],
   "source": [
    "# read mode\n",
    "file = open('f1.txt', mode='a')\n",
    "file.read()\n",
    "file.close()"
   ]
  },
  {
   "cell_type": "code",
   "execution_count": 34,
   "metadata": {},
   "outputs": [
    {
     "name": "stdout",
     "output_type": "stream",
     "text": [
      "Readable: False\n",
      "Writable:  True\n",
      "Closed:  False\n",
      "After Closed:  True\n"
     ]
    }
   ],
   "source": [
    "# Checkers\n",
    "file = open('f1.txt', mode='a')\n",
    "print('Readable:', file.readable())\n",
    "print('Writable: ', file.writable())\n",
    "print('Closed: ', file.closed)\n",
    "file.close()\n",
    "print('After Closed: ', file.closed)"
   ]
  },
  {
   "cell_type": "markdown",
   "metadata": {},
   "source": [
    "# with"
   ]
  },
  {
   "cell_type": "code",
   "execution_count": 35,
   "metadata": {},
   "outputs": [
    {
     "name": "stdout",
     "output_type": "stream",
     "text": [
      "Readable: False\n",
      "Writable:  True\n",
      "Closed:  False\n",
      "After Closed:  True\n"
     ]
    }
   ],
   "source": [
    "with open('f1.txt', mode='a') as file:\n",
    "    print('Readable:', file.readable())\n",
    "    print('Writable: ', file.writable())\n",
    "    file.write('Frim with')\n",
    "    print('Closed: ', file.closed)\n",
    "print('After Closed: ', file.closed)"
   ]
  },
  {
   "cell_type": "code",
   "execution_count": 45,
   "metadata": {},
   "outputs": [
    {
     "name": "stdout",
     "output_type": "stream",
     "text": [
      "\n",
      "Line5\n",
      "Line6\n",
      "Line7\n",
      "Line8\n",
      "Line9\n",
      "Line11Frim withWriteWriteWriteWriteWriteWrite\n"
     ]
    }
   ],
   "source": [
    "with open('f1.txt', mode='r+') as file:\n",
    "    file.write('Write')\n",
    "    d = file.read()\n",
    "    print(d)"
   ]
  },
  {
   "cell_type": "code",
   "execution_count": null,
   "metadata": {},
   "outputs": [],
   "source": []
  }
 ],
 "metadata": {
  "kernelspec": {
   "display_name": "Python 3.10.6 64-bit",
   "language": "python",
   "name": "python3"
  },
  "language_info": {
   "codemirror_mode": {
    "name": "ipython",
    "version": 3
   },
   "file_extension": ".py",
   "mimetype": "text/x-python",
   "name": "python",
   "nbconvert_exporter": "python",
   "pygments_lexer": "ipython3",
   "version": "3.10.6"
  },
  "orig_nbformat": 4,
  "vscode": {
   "interpreter": {
    "hash": "369f2c481f4da34e4445cda3fffd2e751bd1c4d706f27375911949ba6bb62e1c"
   }
  }
 },
 "nbformat": 4,
 "nbformat_minor": 2
}
