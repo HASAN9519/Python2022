{
  "cells": [
    {
      "cell_type": "markdown",
      "metadata": {
        "id": "Z-ux0R-eAS9f"
      },
      "source": [
        "### Generator"
      ]
    },
    {
      "cell_type": "code",
      "execution_count": 158,
      "metadata": {
        "id": "ZY8mkRf2AS9i"
      },
      "outputs": [
        {
          "data": {
            "text/plain": [
              "[1, 4, 9, 16, 25, 36, 49, 64]"
            ]
          },
          "execution_count": 158,
          "metadata": {},
          "output_type": "execute_result"
        }
      ],
      "source": [
        "#normal function\n",
        "def generate(low:int, up:int):\n",
        "    sq = []\n",
        "    for num in range(low, up):\n",
        "        sq.append(num**2)\n",
        "    return sq\n",
        "    \n",
        "generate(1, 9)"
      ]
    },
    {
      "cell_type": "code",
      "execution_count": 159,
      "metadata": {
        "id": "q99S43slAS9j"
      },
      "outputs": [],
      "source": [
        "#function using generator which is yield, gives one output at a time while running the function\n",
        "#return gives all output togeather after end of the function\n",
        "def generate1(low:int, up:int):\n",
        "    sq = []\n",
        "    for num in range(low, up):\n",
        "        sq.append(num**2)\n",
        "        yield sq\n",
        "gen = generate1(1, 4)"
      ]
    },
    {
      "cell_type": "code",
      "execution_count": 161,
      "metadata": {
        "id": "-Pe_t-MAAS9j",
        "outputId": "f67271ad-3577-4b46-cd46-d167b180a22f"
      },
      "outputs": [
        {
          "name": "stdout",
          "output_type": "stream",
          "text": [
            "finish\n"
          ]
        }
      ],
      "source": [
        "#next() function returns the next item in an iterator\n",
        "try:\n",
        "    print(next(gen))\n",
        "except StopIteration:\n",
        "    break\n",
        "    #print(\"finish\")"
      ]
    },
    {
      "cell_type": "code",
      "execution_count": 162,
      "metadata": {},
      "outputs": [
        {
          "data": {
            "text/plain": [
              "<generator object generate1 at 0x0000025F642C5BD0>"
            ]
          },
          "execution_count": 162,
          "metadata": {},
          "output_type": "execute_result"
        }
      ],
      "source": [
        "generate1(1, 4)"
      ]
    },
    {
      "cell_type": "code",
      "execution_count": 118,
      "metadata": {},
      "outputs": [],
      "source": [
        "try:\n",
        "    next(gen)\n",
        "except:\n",
        "    pass"
      ]
    },
    {
      "cell_type": "code",
      "execution_count": 91,
      "metadata": {},
      "outputs": [
        {
          "name": "stdout",
          "output_type": "stream",
          "text": [
            "done\n",
            "done\n",
            "done\n",
            "done\n"
          ]
        },
        {
          "data": {
            "text/plain": [
              "[1, 4, 9, 16]"
            ]
          },
          "execution_count": 91,
          "metadata": {},
          "output_type": "execute_result"
        }
      ],
      "source": [
        "def generate2(low:int, up:int):\n",
        "    sq = []\n",
        "    for num in range(low, up):\n",
        "        sq.append(num**2)\n",
        "        if num == (up-1):\n",
        "            print(\"done\")\n",
        "            break;\n",
        "        print(\"done\")   \n",
        "    return sq\n",
        "generate(1,5)"
      ]
    },
    {
      "cell_type": "markdown",
      "metadata": {
        "id": "Ytp6Y7S1AS9k"
      },
      "source": [
        "# Decorator"
      ]
    },
    {
      "cell_type": "code",
      "execution_count": null,
      "metadata": {
        "id": "kdzLA3LBAS9k"
      },
      "outputs": [],
      "source": [
        "logged_in = True"
      ]
    },
    {
      "cell_type": "code",
      "execution_count": null,
      "metadata": {
        "id": "Pm5q6QjIAS9l"
      },
      "outputs": [],
      "source": [
        "def login_required(function):\n",
        "    def wrapper(*args, **kwargs):\n",
        "        if not logged_in:\n",
        "            return False\n",
        "        func = function(*args, **kwargs)\n",
        "        return func\n",
        "    return wrapper"
      ]
    },
    {
      "cell_type": "code",
      "execution_count": null,
      "metadata": {
        "id": "QqGlUBRwAS9l"
      },
      "outputs": [],
      "source": [
        "@login_required\n",
        "def place_order(pid:int, title:str, price:float, uid=9998):\n",
        "    print(f'Your Order of {title} is placed!')\n"
      ]
    },
    {
      "cell_type": "code",
      "execution_count": null,
      "metadata": {
        "id": "rtYB6witAS9m",
        "outputId": "f9d1d673-144b-4d5d-9bd1-f211d1be973f"
      },
      "outputs": [
        {
          "name": "stdout",
          "output_type": "stream",
          "text": [
            "Your Order of IPHONE X is placed!\n"
          ]
        }
      ],
      "source": [
        "place_order(332534, 'IPHONE X', 120000.0)"
      ]
    },
    {
      "cell_type": "markdown",
      "metadata": {
        "id": "b1cUgVJUAS9m"
      },
      "source": [
        "# Map, reduce, filter"
      ]
    },
    {
      "cell_type": "code",
      "execution_count": null,
      "metadata": {
        "id": "QQgZ-R9cAS9m"
      },
      "outputs": [],
      "source": [
        "check = lambda num: True if num%2==0 else False"
      ]
    },
    {
      "cell_type": "code",
      "execution_count": null,
      "metadata": {
        "id": "CpAgnLh8AS9m",
        "outputId": "a86011f6-9915-40d8-e83c-c96bba59eb65"
      },
      "outputs": [
        {
          "ename": "TypeError",
          "evalue": "<lambda>() takes 1 positional argument but 6 were given",
          "output_type": "error",
          "traceback": [
            "\u001b[1;31m---------------------------------------------------------------------------\u001b[0m",
            "\u001b[1;31mTypeError\u001b[0m                                 Traceback (most recent call last)",
            "\u001b[1;32me:\\HRV\\Professional\\Machine-Learning\\MLDS 1019\\2_Functions\\specialFunctions.ipynb Cell 13\u001b[0m in \u001b[0;36m<cell line: 1>\u001b[1;34m()\u001b[0m\n\u001b[1;32m----> <a href='vscode-notebook-cell:/e%3A/HRV/Professional/Machine-Learning/MLDS%201019/2_Functions/specialFunctions.ipynb#X16sZmlsZQ%3D%3D?line=0'>1</a>\u001b[0m check(\u001b[39m3\u001b[39;49m, \u001b[39m3\u001b[39;49m,\u001b[39m4\u001b[39;49m,\u001b[39m6\u001b[39;49m,\u001b[39m78\u001b[39;49m,\u001b[39m8\u001b[39;49m)\n",
            "\u001b[1;31mTypeError\u001b[0m: <lambda>() takes 1 positional argument but 6 were given"
          ]
        }
      ],
      "source": [
        "check(3, 3,4,6,78,8)"
      ]
    },
    {
      "cell_type": "code",
      "execution_count": null,
      "metadata": {
        "id": "IoI4s67vAS9n",
        "outputId": "50b1c06e-12dc-4603-c596-588ebd86211e"
      },
      "outputs": [
        {
          "data": {
            "text/plain": [
              "[True, False, True, True, True, True]"
            ]
          },
          "execution_count": 8,
          "metadata": {},
          "output_type": "execute_result"
        }
      ],
      "source": [
        "list(map(check, [2,3,4,6,78,8]))"
      ]
    },
    {
      "cell_type": "markdown",
      "metadata": {
        "id": "jcBKrwd_AS9n"
      },
      "source": [
        "# filter"
      ]
    },
    {
      "cell_type": "code",
      "execution_count": null,
      "metadata": {
        "id": "csnk_zioAS9n"
      },
      "outputs": [],
      "source": [
        "check = lambda num: True if num%2!=0 else False"
      ]
    },
    {
      "cell_type": "code",
      "execution_count": null,
      "metadata": {
        "id": "bK9DoKGEAS9n",
        "outputId": "0fbea14e-fcb3-482d-f8f6-615ad9b506a2"
      },
      "outputs": [
        {
          "data": {
            "text/plain": [
              "[3]"
            ]
          },
          "execution_count": 11,
          "metadata": {},
          "output_type": "execute_result"
        }
      ],
      "source": [
        "list(filter(check, [2,3,4,6,78,8]))"
      ]
    },
    {
      "cell_type": "markdown",
      "metadata": {
        "id": "BKT3xrBuAS9n"
      },
      "source": [
        "# reduce"
      ]
    },
    {
      "cell_type": "code",
      "execution_count": null,
      "metadata": {
        "id": "S_jj1_-LAS9o"
      },
      "outputs": [],
      "source": [
        "from functools import reduce"
      ]
    },
    {
      "cell_type": "code",
      "execution_count": null,
      "metadata": {
        "id": "TZGe9twFAS9o"
      },
      "outputs": [],
      "source": [
        "add = lambda x, y: (x+y)/x"
      ]
    },
    {
      "cell_type": "code",
      "execution_count": null,
      "metadata": {
        "id": "vjcaN22CAS9o",
        "outputId": "daef82b1-fb68-406c-d3a1-acf7ffa8de69"
      },
      "outputs": [
        {
          "ename": "TypeError",
          "evalue": "<lambda>() takes 2 positional arguments but 5 were given",
          "output_type": "error",
          "traceback": [
            "\u001b[1;31m---------------------------------------------------------------------------\u001b[0m",
            "\u001b[1;31mTypeError\u001b[0m                                 Traceback (most recent call last)",
            "\u001b[1;32me:\\HRV\\Professional\\Machine-Learning\\MLDS 1019\\2_Functions\\specialFunctions.ipynb Cell 21\u001b[0m in \u001b[0;36m<cell line: 1>\u001b[1;34m()\u001b[0m\n\u001b[1;32m----> <a href='vscode-notebook-cell:/e%3A/HRV/Professional/Machine-Learning/MLDS%201019/2_Functions/specialFunctions.ipynb#X26sZmlsZQ%3D%3D?line=0'>1</a>\u001b[0m add(\u001b[39m1\u001b[39;49m,\u001b[39m2\u001b[39;49m,\u001b[39m3\u001b[39;49m,\u001b[39m4\u001b[39;49m,\u001b[39m5\u001b[39;49m)\n",
            "\u001b[1;31mTypeError\u001b[0m: <lambda>() takes 2 positional arguments but 5 were given"
          ]
        }
      ],
      "source": [
        "add(1,2,3,4,5)"
      ]
    },
    {
      "cell_type": "code",
      "execution_count": null,
      "metadata": {
        "id": "3phzREraAS9o",
        "outputId": "05d16858-c1fe-4814-cf0c-6723a3f74551"
      },
      "outputs": [
        {
          "data": {
            "text/plain": [
              "2.6666666666666665"
            ]
          },
          "execution_count": 6,
          "metadata": {},
          "output_type": "execute_result"
        }
      ],
      "source": [
        "reduce(add, [1,2,3,4,5])"
      ]
    },
    {
      "cell_type": "code",
      "execution_count": null,
      "metadata": {
        "id": "XprGBpz_AS9o"
      },
      "outputs": [],
      "source": [
        "reduce(add, [0,1,2,4,5])"
      ]
    }
  ],
  "metadata": {
    "colab": {
      "provenance": []
    },
    "kernelspec": {
      "display_name": "Python 3.10.6 64-bit",
      "language": "python",
      "name": "python3"
    },
    "language_info": {
      "codemirror_mode": {
        "name": "ipython",
        "version": 3
      },
      "file_extension": ".py",
      "mimetype": "text/x-python",
      "name": "python",
      "nbconvert_exporter": "python",
      "pygments_lexer": "ipython3",
      "version": "3.10.6"
    },
    "orig_nbformat": 4,
    "vscode": {
      "interpreter": {
        "hash": "369f2c481f4da34e4445cda3fffd2e751bd1c4d706f27375911949ba6bb62e1c"
      }
    }
  },
  "nbformat": 4,
  "nbformat_minor": 0
}
