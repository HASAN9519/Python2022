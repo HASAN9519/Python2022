{
 "cells": [
  {
   "cell_type": "markdown",
   "metadata": {
    "toc": true
   },
   "source": [
    "<h1>Table of Contents<span class=\"tocSkip\"></span></h1>\n",
    "<div class=\"toc\"><ul class=\"toc-item\"><li><span><a href=\"#Connecting-To-Database\" data-toc-modified-id=\"Connecting-To-Database-1\"><span class=\"toc-item-num\">1&nbsp;&nbsp;</span>Connecting To Database</a></span></li><li><span><a href=\"#Create-Table\" data-toc-modified-id=\"Create-Table-2\"><span class=\"toc-item-num\">2&nbsp;&nbsp;</span>Create Table</a></span></li><li><span><a href=\"#Adding-Rows\" data-toc-modified-id=\"Adding-Rows-3\"><span class=\"toc-item-num\">3&nbsp;&nbsp;</span>Adding Rows</a></span></li><li><span><a href=\"#Select-info\" data-toc-modified-id=\"Select-info-4\"><span class=\"toc-item-num\">4&nbsp;&nbsp;</span>Select info</a></span></li><li><span><a href=\"#Updating-row\" data-toc-modified-id=\"Updating-row-5\"><span class=\"toc-item-num\">5&nbsp;&nbsp;</span>Updating row</a></span></li><li><span><a href=\"#Deleting-row\" data-toc-modified-id=\"Deleting-row-6\"><span class=\"toc-item-num\">6&nbsp;&nbsp;</span>Deleting row</a></span></li><li><span><a href=\"#WHERE-Clause\" data-toc-modified-id=\"WHERE-Clause-7\"><span class=\"toc-item-num\">7&nbsp;&nbsp;</span>WHERE Clause</a></span></li><li><span><a href=\"#AND,-OR,-NOT,-IN\" data-toc-modified-id=\"AND,-OR,-NOT,-IN-8\"><span class=\"toc-item-num\">8&nbsp;&nbsp;</span>AND, OR, NOT, IN</a></span></li><li><span><a href=\"#Wild-Cards-with-LIKE\" data-toc-modified-id=\"Wild-Cards-with-LIKE-9\"><span class=\"toc-item-num\">9&nbsp;&nbsp;</span>Wild Cards with LIKE</a></span></li><li><span><a href=\"#Aggregate-Function\" data-toc-modified-id=\"Aggregate-Function-10\"><span class=\"toc-item-num\">10&nbsp;&nbsp;</span>Aggregate Function</a></span></li><li><span><a href=\"#Group-BY\" data-toc-modified-id=\"Group-BY-11\"><span class=\"toc-item-num\">11&nbsp;&nbsp;</span>Group BY</a></span></li><li><span><a href=\"#ORDER-BY\" data-toc-modified-id=\"ORDER-BY-12\"><span class=\"toc-item-num\">12&nbsp;&nbsp;</span>ORDER BY</a></span></li><li><span><a href=\"#Deleting-Table-and-Database\" data-toc-modified-id=\"Deleting-Table-and-Database-13\"><span class=\"toc-item-num\">13&nbsp;&nbsp;</span>Deleting Table and Database</a></span></li><li><span><a href=\"#Closing-Database\" data-toc-modified-id=\"Closing-Database-14\"><span class=\"toc-item-num\">14&nbsp;&nbsp;</span>Closing Database</a></span></li></ul></div>"
   ]
  },
  {
   "cell_type": "markdown",
   "metadata": {},
   "source": [
    "### Connecting To Database"
   ]
  },
  {
   "cell_type": "code",
   "execution_count": 164,
   "metadata": {},
   "outputs": [
    {
     "name": "stdout",
     "output_type": "stream",
     "text": [
      "<sqlite3.Connection object at 0x00000269D4700240>\n"
     ]
    }
   ],
   "source": [
    "# importing sqlite3 library to create database object and connect with database\n",
    "# creating database name mydatabase\n",
    "# close() method used to disconnect database\n",
    "import sqlite3 as sq3\n",
    "conn = sq3.connect('mydatabase.sqlite3')\n",
    "print(conn)\n",
    "conn.close()"
   ]
  },
  {
   "cell_type": "markdown",
   "metadata": {},
   "source": [
    "### Create Table"
   ]
  },
  {
   "cell_type": "code",
   "execution_count": 166,
   "metadata": {},
   "outputs": [],
   "source": [
    "# cursor() invoke methods that execute SQLite statements, fetch data from result sets of queries\n",
    "# without commit() method, data won't save in database\n",
    "with sq3.connect('mydatabase.sqlite3') as conn:\n",
    "    cursor = conn.cursor()\n",
    "    cursor.execute(\"\"\"DROP TABLE IF EXISTS student\"\"\")\n",
    "    cursor.execute(\"\"\"CREATE TABLE student(roll int PRIMARY KEY, name CHAR(25), age INT, email VARCHAR(30))\"\"\")\n",
    "    conn.commit()"
   ]
  },
  {
   "cell_type": "code",
   "execution_count": 167,
   "metadata": {},
   "outputs": [],
   "source": [
    "cursor.execute(\"\"\"CREATE TABLE student1(roll int PRIMARY KEY, name CHAR(25), age INT, email VARCHAR(30))\"\"\")\n",
    "conn.commit()"
   ]
  },
  {
   "cell_type": "code",
   "execution_count": 168,
   "metadata": {},
   "outputs": [
    {
     "name": "stdout",
     "output_type": "stream",
     "text": [
      "[('student',), ('student1',)]\n"
     ]
    }
   ],
   "source": [
    "# finding list of tables in database\n",
    "tab = cursor.execute(\"\"\"SELECT name FROM sqlite_schema WHERE type='table' ORDER BY name\"\"\")\n",
    "print(list(tab))"
   ]
  },
  {
   "cell_type": "markdown",
   "metadata": {},
   "source": [
    "### Adding Rows"
   ]
  },
  {
   "cell_type": "code",
   "execution_count": 169,
   "metadata": {},
   "outputs": [],
   "source": [
    "with sq3.connect('mydatabase.sqlite3') as conn:\n",
    "    cursor = conn.cursor()\n",
    "    cursor.execute(\"\"\"INSERT INTO student VALUES(?,?,?,?)\"\"\", (4,\"Tessa young\",26,\"tessa@yahoo.com\"))\n",
    "    conn.commit()"
   ]
  },
  {
   "cell_type": "code",
   "execution_count": 170,
   "metadata": {},
   "outputs": [],
   "source": [
    "# executemany() used for executing multiple query\n",
    "users = [(101, 'Alley Perry', 26, 'alley@yahoo.com'), \n",
    "         (102, 'John Smith', 27, 'john@gmail.com'),\n",
    "         (103, \"Alexa Jones\", 23, \"alexa@gmail.com\"),\n",
    "         (104, \"Alley P\", 26, \"alley@yahoo.com\"),\n",
    "         (105, \"John S\", 27, \"john@gmail.com\")]\n",
    "with sq3.connect('mydatabase.sqlite3') as conn:\n",
    "    cursor = conn.cursor()\n",
    "    cursor.executemany(\"\"\"INSERT INTO student VALUES(?,?,?,?)\"\"\", users)\n",
    "    conn.commit()"
   ]
  },
  {
   "cell_type": "markdown",
   "metadata": {},
   "source": [
    "### Select info"
   ]
  },
  {
   "cell_type": "code",
   "execution_count": 171,
   "metadata": {},
   "outputs": [
    {
     "name": "stdout",
     "output_type": "stream",
     "text": [
      "[(4, 'Tessa young', 26, 'tessa@yahoo.com'), (101, 'Alley Perry', 26, 'alley@yahoo.com'), (102, 'John Smith', 27, 'john@gmail.com'), (103, 'Alexa Jones', 23, 'alexa@gmail.com'), (104, 'Alley P', 26, 'alley@yahoo.com'), (105, 'John S', 27, 'john@gmail.com')]\n"
     ]
    }
   ],
   "source": [
    "with sq3.connect('mydatabase.sqlite3') as conn:\n",
    "    cursor = conn.cursor()\n",
    "    res = cursor.execute(\"\"\"SELECT * FROM student\"\"\")\n",
    "    print(list(res))"
   ]
  },
  {
   "cell_type": "code",
   "execution_count": 172,
   "metadata": {},
   "outputs": [
    {
     "name": "stdout",
     "output_type": "stream",
     "text": [
      "[(4, 'Tessa young', 26, 'tessa@yahoo.com'), (101, 'Alley Perry', 26, 'alley@yahoo.com'), (102, 'John Smith', 27, 'john@gmail.com'), (103, 'Alexa Jones', 23, 'alexa@gmail.com'), (104, 'Alley P', 26, 'alley@yahoo.com'), (105, 'John S', 27, 'john@gmail.com')]\n",
      "[(4, 'Tessa young', 26, 'tessa@yahoo.com'), (101, 'Alley Perry', 26, 'alley@yahoo.com'), (102, 'John Smith', 27, 'john@gmail.com'), (103, 'Alexa Jones', 23, 'alexa@gmail.com'), (104, 'Alley P', 26, 'alley@yahoo.com'), (105, 'John S', 27, 'john@gmail.com')]\n",
      "[4, 'Tessa young', 26, 'tessa@yahoo.com']\n",
      "[(4, 'Tessa young', 26, 'tessa@yahoo.com'), (101, 'Alley Perry', 26, 'alley@yahoo.com'), (102, 'John Smith', 27, 'john@gmail.com')]\n"
     ]
    }
   ],
   "source": [
    "res1 = cursor.execute(\"\"\"SELECT * FROM student\"\"\")\n",
    "print(list(res1))\n",
    "res2 = cursor.execute(\"\"\"SELECT * FROM student\"\"\").fetchall() #fetching all row\n",
    "print(list(res2))\n",
    "res3 = cursor.execute(\"\"\"SELECT * FROM student\"\"\").fetchone() #fetching one row\n",
    "print(list(res3))\n",
    "res4 = cursor.execute(\"\"\"SELECT * FROM student\"\"\").fetchmany(3) #fetching specified number of rows\n",
    "print(list(res4))"
   ]
  },
  {
   "cell_type": "code",
   "execution_count": 173,
   "metadata": {},
   "outputs": [
    {
     "data": {
      "text/plain": [
       "tuple"
      ]
     },
     "execution_count": 173,
     "metadata": {},
     "output_type": "execute_result"
    }
   ],
   "source": [
    "res = cursor.execute(\"\"\"SELECT * FROM student\"\"\")\n",
    "t = res.fetchone()\n",
    "type(t)"
   ]
  },
  {
   "cell_type": "code",
   "execution_count": 174,
   "metadata": {},
   "outputs": [
    {
     "name": "stdout",
     "output_type": "stream",
     "text": [
      "(4, 'Tessa young', 26, 'tessa@yahoo.com')\n",
      "(101, 'Alley Perry', 26, 'alley@yahoo.com')\n",
      "(102, 'John Smith', 27, 'john@gmail.com')\n",
      "(103, 'Alexa Jones', 23, 'alexa@gmail.com')\n",
      "(104, 'Alley P', 26, 'alley@yahoo.com')\n",
      "(105, 'John S', 27, 'john@gmail.com')\n"
     ]
    }
   ],
   "source": [
    "res = cursor.execute(\"\"\"SELECT * FROM student\"\"\") # data stores in res Cursor object \n",
    "while True:\n",
    "    row = res.fetchone()\n",
    "    if row == None:\n",
    "        break\n",
    "    print(row)"
   ]
  },
  {
   "cell_type": "code",
   "execution_count": 175,
   "metadata": {},
   "outputs": [
    {
     "name": "stdout",
     "output_type": "stream",
     "text": [
      "(4, 'Tessa young', 26, 'tessa@yahoo.com')\n",
      "(101, 'Alley Perry', 26, 'alley@yahoo.com')\n",
      "(102, 'John Smith', 27, 'john@gmail.com')\n",
      "(104, 'Alley P', 26, 'alley@yahoo.com')\n",
      "(105, 'John S', 27, 'john@gmail.com')\n"
     ]
    }
   ],
   "source": [
    "sq = \"SELECT * FROM student WHERE age>23\"\n",
    "res = cursor.execute(sq)\n",
    "while True:\n",
    "    row = cursor.fetchone()\n",
    "    if row == None:\n",
    "        break\n",
    "    print(row)"
   ]
  },
  {
   "cell_type": "markdown",
   "metadata": {},
   "source": [
    "### Updating row"
   ]
  },
  {
   "cell_type": "code",
   "execution_count": 176,
   "metadata": {},
   "outputs": [
    {
     "name": "stdout",
     "output_type": "stream",
     "text": [
      "[(100, 'Tessa John', 26, 'tessa@yahoo.com'), (101, 'Alley Perry', 26, 'alley@yahoo.com'), (102, 'John Smith', 27, 'john@gmail.com'), (103, 'Alexa Jones', 23, 'alexa@gmail.com'), (104, 'Alley P', 26, 'alley@yahoo.com'), (105, 'John S', 27, 'john@gmail.com')]\n"
     ]
    }
   ],
   "source": [
    "cursor.execute(\"\"\"UPDATE student SET roll=?, name=? WHERE roll=?\"\"\",(100,\"Tessa John\",4))\n",
    "conn.commit()\n",
    "res = cursor.execute(\"\"\"SELECT * FROM student\"\"\")\n",
    "print(list(res))"
   ]
  },
  {
   "cell_type": "code",
   "execution_count": 177,
   "metadata": {},
   "outputs": [
    {
     "name": "stdout",
     "output_type": "stream",
     "text": [
      "[(100, 'Tessa John', 26, 'tessa@yahoo.com'), (101, 'Alley Perry', 25, 'alley@yahoo.com'), (102, 'John Smith', 25, 'john@gmail.com'), (103, 'Alexa Jones', 23, 'alexa@gmail.com'), (104, 'Alley P', 26, 'alley@yahoo.com'), (105, 'John S', 27, 'john@gmail.com')]\n"
     ]
    }
   ],
   "source": [
    "# updating multiple row\n",
    "cursor.execute(\"\"\"UPDATE student SET age=? WHERE roll IN (?,?)\"\"\",(25,101,102))\n",
    "conn.commit()\n",
    "res = cursor.execute(\"\"\"SELECT * FROM student\"\"\")\n",
    "print(list(res))"
   ]
  },
  {
   "cell_type": "markdown",
   "metadata": {},
   "source": [
    "### Deleting row"
   ]
  },
  {
   "cell_type": "code",
   "execution_count": 178,
   "metadata": {},
   "outputs": [
    {
     "name": "stdout",
     "output_type": "stream",
     "text": [
      "[(101, 'Alley Perry', 25, 'alley@yahoo.com'), (102, 'John Smith', 25, 'john@gmail.com'), (103, 'Alexa Jones', 23, 'alexa@gmail.com'), (104, 'Alley P', 26, 'alley@yahoo.com'), (105, 'John S', 27, 'john@gmail.com')]\n"
     ]
    }
   ],
   "source": [
    "# using coma after one argument here (114,) as it won't take single argument, without coma will give error\n",
    "cursor.execute(\"\"\"DELETE FROM student WHERE roll=?\"\"\",(100,))\n",
    "conn.commit()\n",
    "res = cursor.execute(\"\"\"SELECT * FROM student\"\"\")\n",
    "print(list(res))"
   ]
  },
  {
   "cell_type": "code",
   "execution_count": 179,
   "metadata": {},
   "outputs": [
    {
     "name": "stdout",
     "output_type": "stream",
     "text": [
      "[(101, 'Alley Perry', 25, 'alley@yahoo.com'), (102, 'John Smith', 25, 'john@gmail.com'), (103, 'Alexa Jones', 23, 'alexa@gmail.com'), (104, 'Alley P', 26, 'alley@yahoo.com')]\n"
     ]
    }
   ],
   "source": [
    "cursor.execute(\"\"\"DELETE FROM student WHERE roll=105\"\"\")\n",
    "conn.commit()\n",
    "res = cursor.execute(\"\"\"SELECT * FROM student\"\"\")\n",
    "print(list(res))"
   ]
  },
  {
   "cell_type": "markdown",
   "metadata": {},
   "source": [
    "### WHERE Clause"
   ]
  },
  {
   "cell_type": "code",
   "execution_count": 180,
   "metadata": {},
   "outputs": [
    {
     "name": "stdout",
     "output_type": "stream",
     "text": [
      "[(104, 'Alley P', 26, 'alley@yahoo.com')]\n"
     ]
    }
   ],
   "source": [
    "res = cursor.execute(\"\"\"SELECT * FROM student WHERE age>?\"\"\",(25,))\n",
    "print(list(res))"
   ]
  },
  {
   "cell_type": "markdown",
   "metadata": {},
   "source": [
    "### AND, OR, NOT, IN"
   ]
  },
  {
   "cell_type": "code",
   "execution_count": 181,
   "metadata": {},
   "outputs": [
    {
     "name": "stdout",
     "output_type": "stream",
     "text": [
      "[(101, 'Alley Perry', 25, 'alley@yahoo.com')]\n"
     ]
    }
   ],
   "source": [
    "res = cursor.execute(\"\"\"SELECT * FROM student WHERE age>? AND NOT roll>=?\"\"\",(24,102))\n",
    "print(list(res))"
   ]
  },
  {
   "cell_type": "markdown",
   "metadata": {},
   "source": [
    "### Wild Cards with LIKE"
   ]
  },
  {
   "cell_type": "code",
   "execution_count": 182,
   "metadata": {},
   "outputs": [
    {
     "name": "stdout",
     "output_type": "stream",
     "text": [
      "[(101, 'Alley Perry', 25, 'alley@yahoo.com')]\n",
      "[(102, 'John Smith', 25, 'john@gmail.com')]\n",
      "[(101, 'Alley Perry', 25, 'alley@yahoo.com'), (104, 'Alley P', 26, 'alley@yahoo.com')]\n",
      "[(101, 'Alley Perry', 25, 'alley@yahoo.com'), (104, 'Alley P', 26, 'alley@yahoo.com')]\n"
     ]
    }
   ],
   "source": [
    "# 1st query finds name ending with y, 2nd query finds name starting with j, 3rd query finds name having l on 3rd position in name\n",
    "# 4th query finds email with yahoo in it, using upper or lower case wil give same result as LIKE is case insensitive\n",
    "res = cursor.execute(\"\"\"SELECT * FROM student WHERE name LIKE '%y'\"\"\")\n",
    "print(list(res))\n",
    "res = cursor.execute(\"\"\"SELECT * FROM student WHERE name LIKE 'jo%'\"\"\")\n",
    "print(list(res))\n",
    "res = cursor.execute(\"\"\"SELECT * FROM student WHERE name LIKE '__l%'\"\"\")\n",
    "print(list(res))\n",
    "res = cursor.execute(\"\"\"SELECT * FROM student WHERE email LIKE '%yahoo%'\"\"\")\n",
    "print(list(res))"
   ]
  },
  {
   "cell_type": "markdown",
   "metadata": {},
   "source": [
    "### Aggregate Function"
   ]
  },
  {
   "cell_type": "code",
   "execution_count": 183,
   "metadata": {},
   "outputs": [
    {
     "name": "stdout",
     "output_type": "stream",
     "text": [
      "[(26, 23, 24.75, 99, 4)]\n"
     ]
    }
   ],
   "source": [
    "res = cursor.execute(\"\"\"SELECT MAX(age), MIN(age), AVG(age), SUM(age), COUNT(*) FROM student\"\"\")\n",
    "print(list(res))"
   ]
  },
  {
   "cell_type": "markdown",
   "metadata": {},
   "source": [
    "### Group BY"
   ]
  },
  {
   "cell_type": "code",
   "execution_count": 184,
   "metadata": {},
   "outputs": [
    {
     "name": "stdout",
     "output_type": "stream",
     "text": [
      "[(1, 23), (2, 25), (1, 26)]\n"
     ]
    }
   ],
   "source": [
    "res = cursor.execute(\"\"\"SELECT COUNT(*), age FROM student GROUP BY age\"\"\")\n",
    "print(list(res))"
   ]
  },
  {
   "cell_type": "markdown",
   "metadata": {},
   "source": [
    "### ORDER BY"
   ]
  },
  {
   "cell_type": "code",
   "execution_count": 185,
   "metadata": {},
   "outputs": [
    {
     "name": "stdout",
     "output_type": "stream",
     "text": [
      "(104, 'Alley P', 26, 'alley@yahoo.com')\n",
      "(101, 'Alley Perry', 25, 'alley@yahoo.com')\n",
      "(102, 'John Smith', 25, 'john@gmail.com')\n",
      "(103, 'Alexa Jones', 23, 'alexa@gmail.com')\n"
     ]
    }
   ],
   "source": [
    "res = cursor.execute(\"\"\"SELECT * FROM student ORDER BY age DESC, roll ASC\"\"\")\n",
    "for user in res:\n",
    "    print(user)"
   ]
  },
  {
   "cell_type": "markdown",
   "metadata": {},
   "source": [
    "### Deleting Table and Database"
   ]
  },
  {
   "cell_type": "code",
   "execution_count": 186,
   "metadata": {},
   "outputs": [
    {
     "name": "stdout",
     "output_type": "stream",
     "text": [
      "[('student',), ('student1',)]\n",
      "[('student',)]\n"
     ]
    }
   ],
   "source": [
    "# deleting table\n",
    "cursor.execute(\"\"\"SELECT name FROM sqlite_schema WHERE type='table' ORDER BY name\"\"\")\n",
    "print(cursor.fetchall())\n",
    "cursor.execute(\"\"\"DROP TABLE student1\"\"\")\n",
    "conn.commit()\n",
    "cursor.execute(\"\"\"SELECT name FROM sqlite_schema WHERE type='table' ORDER BY name\"\"\")\n",
    "print(cursor.fetchall())"
   ]
  },
  {
   "cell_type": "code",
   "execution_count": 161,
   "metadata": {},
   "outputs": [
    {
     "name": "stdout",
     "output_type": "stream",
     "text": [
      "<sqlite3.Connection object at 0x00000269D4697A40>\n"
     ]
    }
   ],
   "source": [
    "# first creating sample database, closing database before delete\n",
    "conn1 = sq3.connect('testdatabase.sqlite3')\n",
    "print(conn1)\n",
    "conn1.close()"
   ]
  },
  {
   "cell_type": "code",
   "execution_count": 162,
   "metadata": {},
   "outputs": [],
   "source": [
    "# database can't be delete using query in sqlite3, have to remove using os module\n",
    "import os\n",
    "os.getcwd()\n",
    "os.remove('testdatabase.sqlite3')"
   ]
  },
  {
   "cell_type": "markdown",
   "metadata": {},
   "source": [
    "### Closing Database "
   ]
  },
  {
   "cell_type": "code",
   "execution_count": 163,
   "metadata": {},
   "outputs": [],
   "source": [
    "conn.close()"
   ]
  }
 ],
 "metadata": {
  "kernelspec": {
   "display_name": "Python 3 (ipykernel)",
   "language": "python",
   "name": "python3"
  },
  "language_info": {
   "codemirror_mode": {
    "name": "ipython",
    "version": 3
   },
   "file_extension": ".py",
   "mimetype": "text/x-python",
   "name": "python",
   "nbconvert_exporter": "python",
   "pygments_lexer": "ipython3",
   "version": "3.10.6"
  },
  "toc": {
   "base_numbering": 1,
   "nav_menu": {},
   "number_sections": true,
   "sideBar": true,
   "skip_h1_title": false,
   "title_cell": "Table of Contents",
   "title_sidebar": "Contents",
   "toc_cell": true,
   "toc_position": {},
   "toc_section_display": true,
   "toc_window_display": false
  },
  "vscode": {
   "interpreter": {
    "hash": "369f2c481f4da34e4445cda3fffd2e751bd1c4d706f27375911949ba6bb62e1c"
   }
  }
 },
 "nbformat": 4,
 "nbformat_minor": 2
}
