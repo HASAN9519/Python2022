{
 "cells": [
  {
   "cell_type": "markdown",
   "metadata": {
    "toc": true
   },
   "source": [
    "<h1>Table of Contents<span class=\"tocSkip\"></span></h1>\n",
    "<div class=\"toc\"><ul class=\"toc-item\"><li><span><a href=\"#File\" data-toc-modified-id=\"File-1\"><span class=\"toc-item-num\">1&nbsp;&nbsp;</span>File</a></span></li><li><span><a href=\"#With\" data-toc-modified-id=\"With-2\"><span class=\"toc-item-num\">2&nbsp;&nbsp;</span>With</a></span></li></ul></div>"
   ]
  },
  {
   "cell_type": "markdown",
   "metadata": {},
   "source": [
    "### File "
   ]
  },
  {
   "cell_type": "code",
   "execution_count": 68,
   "metadata": {},
   "outputs": [],
   "source": [
    "# write mode creates file if it's not created in directory\n",
    "# if file exist, write mode will remove all content of file and write content newly everytime write mode is called\n",
    "file = open('f1.txt', mode='w')\n",
    "file.write('Line1\\n')\n",
    "# writelines used to write multiple lines\n",
    "file.writelines(['Line2\\n', 'Line3\\n'])\n",
    "file.close()"
   ]
  },
  {
   "cell_type": "code",
   "execution_count": 9,
   "metadata": {},
   "outputs": [],
   "source": [
    "# append mode also creates file if it's not created in directory\n",
    "# append mode don't remove contents of file instead append contents after existed contents everytime append mode is called\n",
    "file = open('f2.txt', mode='a')\n",
    "file.write('Line7\\n')\n",
    "file.writelines(['Line8\\n', 'Line9\\n'])\n",
    "file.close()"
   ]
  },
  {
   "cell_type": "code",
   "execution_count": 11,
   "metadata": {},
   "outputs": [
    {
     "name": "stdout",
     "output_type": "stream",
     "text": [
      "[Errno 17] File exists: 'f3.txt'\n"
     ]
    }
   ],
   "source": [
    "# xclusive mode don't allow create file if it's already existed and throw a error\n",
    "try:\n",
    "    file = open('f3.txt', mode='x')\n",
    "    file.write('\\nLine7')\n",
    "    file.writelines(['\\nLine8', '\\nLine9'])\n",
    "    file.close()\n",
    "except Exception as e:\n",
    "    print(e)"
   ]
  },
  {
   "cell_type": "code",
   "execution_count": 23,
   "metadata": {},
   "outputs": [
    {
     "name": "stdout",
     "output_type": "stream",
     "text": [
      "Line7\n",
      "L\n"
     ]
    }
   ],
   "source": [
    "# read mode\n",
    "file = open('f2.txt', mode='r')\n",
    "# returns whole file as string\n",
    "#data = file.read()\n",
    "# returns based on specified size, new line is also counted \n",
    "data = file.read(7)\n",
    "print(data)\n",
    "file.close()"
   ]
  },
  {
   "cell_type": "code",
   "execution_count": 25,
   "metadata": {},
   "outputs": [
    {
     "name": "stdout",
     "output_type": "stream",
     "text": [
      "['Line7\\n', 'Line8\\n']\n"
     ]
    }
   ],
   "source": [
    "# read mode\n",
    "file = open('f2.txt', mode='r')\n",
    "# readlines returns whole file in list\n",
    "#data = file.readlines()\n",
    "data = file.readlines(7)\n",
    "print(data)\n",
    "file.close()"
   ]
  },
  {
   "cell_type": "code",
   "execution_count": 44,
   "metadata": {},
   "outputs": [
    {
     "name": "stdout",
     "output_type": "stream",
     "text": [
      "[b'Line1\\r\\n', b'Line2\\r\\n', b'Line3\\r\\n']\n"
     ]
    }
   ],
   "source": [
    "# read bytes mode\n",
    "file = open('f1.txt', mode='rb')\n",
    "data = file.readlines()\n",
    "print(data)\n",
    "file.close()"
   ]
  },
  {
   "cell_type": "code",
   "execution_count": 70,
   "metadata": {},
   "outputs": [
    {
     "name": "stdout",
     "output_type": "stream",
     "text": [
      "['Line1\\n', 'Line2\\n', 'Line3\\n', 'Line4\\n']\n"
     ]
    }
   ],
   "source": [
    "# read write mode\n",
    "# don't remove contents of file instead write contents after existed contents everytime append mode is called\n",
    "file = open('f1.txt', mode='r+')\n",
    "file.write('Line4\\n')\n",
    "data = file.readlines()\n",
    "print(data)\n",
    "file.close()"
   ]
  },
  {
   "cell_type": "code",
   "execution_count": 45,
   "metadata": {},
   "outputs": [
    {
     "name": "stdout",
     "output_type": "stream",
     "text": [
      "not writable\n"
     ]
    }
   ],
   "source": [
    "# can't write in read mode or can't read on write mode\n",
    "try:\n",
    "    file = open('f1.txt', mode='r')\n",
    "    file.write('hfdhss\\n')\n",
    "    file.close()\n",
    "except Exception as e:\n",
    "    print(e)"
   ]
  },
  {
   "cell_type": "code",
   "execution_count": 46,
   "metadata": {},
   "outputs": [],
   "source": [
    "# can't read on append mode but can write on append mode\n",
    "try:\n",
    "    file = open('f1.txt', mode='a')\n",
    "    #file.read()\n",
    "    file.write('newline1\\n')\n",
    "    file.close()\n",
    "except Exception as e:\n",
    "    print(e)"
   ]
  },
  {
   "cell_type": "code",
   "execution_count": 47,
   "metadata": {},
   "outputs": [
    {
     "name": "stdout",
     "output_type": "stream",
     "text": [
      "Readable: False\n",
      "Writable:  True\n",
      "Closed:  False\n",
      "After Closed:  True\n"
     ]
    }
   ],
   "source": [
    "# Checkers\n",
    "file = open('f1.txt', mode='a')\n",
    "print('Readable:', file.readable())\n",
    "print('Writable: ', file.writable())\n",
    "print('Closed: ', file.closed)\n",
    "file.close()\n",
    "print('After Closed: ', file.closed)"
   ]
  },
  {
   "cell_type": "markdown",
   "metadata": {},
   "source": [
    "### With"
   ]
  },
  {
   "cell_type": "code",
   "execution_count": 71,
   "metadata": {},
   "outputs": [
    {
     "name": "stdout",
     "output_type": "stream",
     "text": [
      "Readable: False\n",
      "Writable:  True\n",
      "Closed:  False\n",
      "After Closed:  True\n"
     ]
    }
   ],
   "source": [
    "# file automatically closes when with block ends\n",
    "with open('f1.txt', mode='a') as file:\n",
    "    print('Readable:', file.readable())\n",
    "    print('Writable: ', file.writable())\n",
    "    file.write('newline\\n')\n",
    "    print('Closed: ', file.closed)\n",
    "print('After Closed: ', file.closed)"
   ]
  },
  {
   "cell_type": "code",
   "execution_count": 76,
   "metadata": {},
   "outputs": [
    {
     "name": "stdout",
     "output_type": "stream",
     "text": [
      "['Line1\\n', 'Line2\\n', 'Line3\\n', 'Line4\\n', 'Line4\\n', 'newline\\n', 'newline3\\n', 'newline3\\n', 'newline3\\n', 'newline3\\n']\n"
     ]
    }
   ],
   "source": [
    "# using readlines instead of read as it giving some problem\n",
    "with open('f1.txt', mode='r+') as file:\n",
    "    file.write('newline4\\n')\n",
    "    d = file.readlines()\n",
    "    print(d)"
   ]
  },
  {
   "cell_type": "code",
   "execution_count": null,
   "metadata": {},
   "outputs": [],
   "source": [
    "### Creating Files assignment\n",
    "# there will be some text line in sampletext.txt file\n",
    "\n",
    "def read_file(file_name):\n",
    "    \"\"\" Reads in a file.\n",
    "        1. Open and read the given file into a variable using the File read()\n",
    "           function\n",
    "        2. Print the contents of the file\n",
    "        3. Return the contents of the file\n",
    "    Args:\n",
    "        file_name: the name of the file to be read\n",
    "    Returns:\n",
    "        string: contents of the given file.\n",
    "    \"\"\"\n",
    "    ### WRITE SOLUTION HERE\n",
    "    file = open(file_name,'r')\n",
    "    data = file.read()\n",
    "    print(data)\n",
    "    return data\n",
    "    raise NotImplementedError()\n",
    "\n",
    "def read_file_into_list(file_name):\n",
    "    \"\"\" Reads in a file and stores each line as an element in a list\n",
    "        1. Open the given file\n",
    "        2. Read the file line by line and append each line to a list\n",
    "        3. Return the list\n",
    "    Args:\n",
    "        file_name: the name of the file to be read\n",
    "    Returns:\n",
    "        list: a list where each element is a line in the file.\n",
    "    \"\"\"\n",
    "    ### WRITE SOLUTION HERE\n",
    "    file = open(file_name,'r')\n",
    "    line = []\n",
    "    for x in file.readlines():\n",
    "        line.append(x)\n",
    "    return line\n",
    "    raise NotImplementedError()\n",
    "\n",
    "def write_first_line_to_file(file_contents, output_filename):\n",
    "    \"\"\" Writes the first line of a string to a file.\n",
    "        1. Get the first line of file_contents\n",
    "        2. Use the File write() function to write the first line into a file\n",
    "           with the name from output_filename\n",
    "        We determine the first line to be everything in a string before the\n",
    "        first newline ('\\n') character.\n",
    "    Args:\n",
    "        file_contents: string to be split and written into output file\n",
    "        output_filename: the name of the file to be written to\n",
    "    \"\"\"\n",
    "    ### WRITE SOLUTION HERE\n",
    "    file = open(output_filename, mode='w')\n",
    "    f_content = (file_contents.split(\"\\n\"))\n",
    "    f_content_str = f_content[0]\n",
    "    file.write(f_content_str)\n",
    "    #f_content = file.write(file_contents)\n",
    "    #f_content_list = f_content.split(\"\\n\")\n",
    "    return output_filename\n",
    "\n",
    "    raise NotImplementedError()\n",
    "\n",
    "\n",
    "def read_even_numbered_lines(file_name):\n",
    "    \"\"\" Reads in the even numbered lines of a file\n",
    "        1. Open and read the given file into a variable\n",
    "        2. Read the file line-by-line and add the even-numbered lines to a list\n",
    "        3. Return the list\n",
    "\n",
    "    Args:\n",
    "        file_name: the name of the file to be read\n",
    "\n",
    "    Returns:\n",
    "        list: a list of the even-numbered lines of the file\n",
    "    \"\"\"\n",
    "    ### WRITE SOLUTION HERE\n",
    "    file = open(file_name, 'r')\n",
    "    line = []\n",
    "    for i, x in enumerate(file.readlines()):\n",
    "        if (i+1)%2 ==  0: \n",
    "            line.append(x)\n",
    "    return line\n",
    "    raise NotImplementedError()\n",
    "\n",
    "def read_file_in_reverse(file_name):\n",
    "    \"\"\" Reads a file and returns a list of the lines in reverse order\n",
    "\n",
    "    [IMPLEMENT ME]\n",
    "        1. Open and read the given file into a variable\n",
    "        2. Read the file line-by-line and store the lines in a list in reverse order\n",
    "        3. Print the list\n",
    "        4. Return the list\n",
    "\n",
    "    Args:\n",
    "        file_name: the name of the file to be read\n",
    "\n",
    "    Returns:\n",
    "        list: list of the lines of the file in reverse order.\n",
    "    \"\"\"\n",
    "    ### WRITE SOLUTION HERE\n",
    "    file = open(file_name, 'r')\n",
    "    reversed_list = []\n",
    "    for line in file.readlines():\n",
    "        reversed_list = [line] + reversed_list\n",
    "    return  reversed_list\n",
    "    raise NotImplementedError()\n",
    "\n",
    "'''\n",
    "Here are some sample commands to help you run/test your implementations.\n",
    "Feel free to uncomment/modify/add to them as you wish.\n",
    "'''\n",
    "def main():\n",
    "    file_contents = read_file(\"sampletext.txt\")\n",
    "    print(read_file_into_list(\"sampletext.txt\"))\n",
    "    file_contents = \"hello \\nworld\"\n",
    "    write_first_line_to_file(file_contents, \"online.txt\")\n",
    "    print(read_even_numbered_lines(\"sampletext.txt\"))\n",
    "    print(read_file_in_reverse(\"sampletext.txt\"))\n",
    "\n",
    "if __name__ == \"__main__\":\n",
    "    main()"
   ]
  }
 ],
 "metadata": {
  "kernelspec": {
   "display_name": "Python 3 (ipykernel)",
   "language": "python",
   "name": "python3"
  },
  "language_info": {
   "codemirror_mode": {
    "name": "ipython",
    "version": 3
   },
   "file_extension": ".py",
   "mimetype": "text/x-python",
   "name": "python",
   "nbconvert_exporter": "python",
   "pygments_lexer": "ipython3",
   "version": "3.10.6"
  },
  "toc": {
   "base_numbering": 1,
   "nav_menu": {},
   "number_sections": true,
   "sideBar": true,
   "skip_h1_title": false,
   "title_cell": "Table of Contents",
   "title_sidebar": "Contents",
   "toc_cell": true,
   "toc_position": {},
   "toc_section_display": true,
   "toc_window_display": false
  },
  "vscode": {
   "interpreter": {
    "hash": "369f2c481f4da34e4445cda3fffd2e751bd1c4d706f27375911949ba6bb62e1c"
   }
  }
 },
 "nbformat": 4,
 "nbformat_minor": 2
}
