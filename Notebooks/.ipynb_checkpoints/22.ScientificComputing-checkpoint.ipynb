{
 "cells": [
  {
   "cell_type": "markdown",
   "id": "cec4249c",
   "metadata": {},
   "source": [
    "### Importing Librarys"
   ]
  },
  {
   "cell_type": "code",
   "execution_count": 1,
   "id": "69f22f4b",
   "metadata": {},
   "outputs": [
    {
     "data": {
      "text/plain": [
       "'1.23.1'"
      ]
     },
     "execution_count": 1,
     "metadata": {},
     "output_type": "execute_result"
    }
   ],
   "source": [
    "import numpy as np\n",
    "np.__version__"
   ]
  },
  {
   "cell_type": "markdown",
   "id": "c6ad00c5",
   "metadata": {},
   "source": [
    "### Array"
   ]
  },
  {
   "cell_type": "code",
   "execution_count": 2,
   "id": "ca395411",
   "metadata": {},
   "outputs": [
    {
     "data": {
      "text/plain": [
       "array([ 1,  2, 52,  7,  4,  7])"
      ]
     },
     "execution_count": 2,
     "metadata": {},
     "output_type": "execute_result"
    }
   ],
   "source": [
    "arr = np.array([1,2,52,7,4,7])\n",
    "arr"
   ]
  },
  {
   "cell_type": "markdown",
   "id": "20a3f956",
   "metadata": {},
   "source": [
    "### Instant Array Generation"
   ]
  },
  {
   "cell_type": "code",
   "execution_count": 3,
   "id": "15cdc5a0",
   "metadata": {},
   "outputs": [
    {
     "data": {
      "text/plain": [
       "array([[0., 0.],\n",
       "       [0., 0.]])"
      ]
     },
     "execution_count": 3,
     "metadata": {},
     "output_type": "execute_result"
    }
   ],
   "source": [
    "np.zeros([2, 2])"
   ]
  },
  {
   "cell_type": "code",
   "execution_count": 4,
   "id": "a7a32047",
   "metadata": {},
   "outputs": [
    {
     "data": {
      "text/plain": [
       "array([[[0., 0., 0.],\n",
       "        [0., 0., 0.]],\n",
       "\n",
       "       [[0., 0., 0.],\n",
       "        [0., 0., 0.]]])"
      ]
     },
     "execution_count": 4,
     "metadata": {},
     "output_type": "execute_result"
    }
   ],
   "source": [
    "np.zeros([2, 2, 3])"
   ]
  },
  {
   "cell_type": "code",
   "execution_count": 5,
   "id": "797888b8",
   "metadata": {},
   "outputs": [
    {
     "data": {
      "text/plain": [
       "array([[1., 1., 1.],\n",
       "       [1., 1., 1.],\n",
       "       [1., 1., 1.]])"
      ]
     },
     "execution_count": 5,
     "metadata": {},
     "output_type": "execute_result"
    }
   ],
   "source": [
    "np.ones([3, 3])"
   ]
  },
  {
   "cell_type": "code",
   "execution_count": 6,
   "id": "b9b8710d",
   "metadata": {},
   "outputs": [
    {
     "data": {
      "text/plain": [
       "array([[1., 0., 0.],\n",
       "       [0., 1., 0.],\n",
       "       [0., 0., 1.]])"
      ]
     },
     "execution_count": 6,
     "metadata": {},
     "output_type": "execute_result"
    }
   ],
   "source": [
    "# diagonal matrix\n",
    "np.eye(3,3)"
   ]
  },
  {
   "cell_type": "code",
   "execution_count": 7,
   "id": "e3a1998e",
   "metadata": {},
   "outputs": [
    {
     "data": {
      "text/plain": [
       "array([[1., 0., 0., 0., 0.],\n",
       "       [0., 1., 0., 0., 0.],\n",
       "       [0., 0., 1., 0., 0.],\n",
       "       [0., 0., 0., 1., 0.],\n",
       "       [0., 0., 0., 0., 1.]])"
      ]
     },
     "execution_count": 7,
     "metadata": {},
     "output_type": "execute_result"
    }
   ],
   "source": [
    "np.eye(5,5)"
   ]
  },
  {
   "cell_type": "code",
   "execution_count": 8,
   "id": "c203175b",
   "metadata": {},
   "outputs": [
    {
     "data": {
      "text/plain": [
       "array([[0., 0., 0., 1., 0.],\n",
       "       [0., 0., 0., 0., 1.],\n",
       "       [0., 0., 0., 0., 0.],\n",
       "       [0., 0., 0., 0., 0.],\n",
       "       [0., 0., 0., 0., 0.]])"
      ]
     },
     "execution_count": 8,
     "metadata": {},
     "output_type": "execute_result"
    }
   ],
   "source": [
    "# k is called key, k determines way of column traversing\n",
    "np.eye(5,5, k=3)"
   ]
  },
  {
   "cell_type": "code",
   "execution_count": 9,
   "id": "192cd4a8",
   "metadata": {},
   "outputs": [
    {
     "data": {
      "text/plain": [
       "array([[0., 0., 0., 0., 0.],\n",
       "       [0., 0., 0., 0., 0.],\n",
       "       [0., 0., 0., 0., 0.],\n",
       "       [1., 0., 0., 0., 0.],\n",
       "       [0., 1., 0., 0., 0.]])"
      ]
     },
     "execution_count": 9,
     "metadata": {},
     "output_type": "execute_result"
    }
   ],
   "source": [
    "np.eye(5,5, k=-3)"
   ]
  },
  {
   "cell_type": "code",
   "execution_count": 10,
   "id": "e268cc2d",
   "metadata": {},
   "outputs": [
    {
     "data": {
      "text/plain": [
       "array([[1., 0., 0.],\n",
       "       [0., 1., 0.],\n",
       "       [0., 0., 1.]])"
      ]
     },
     "execution_count": 10,
     "metadata": {},
     "output_type": "execute_result"
    }
   ],
   "source": [
    "# generates empty matrix\n",
    "np.empty([3,3])"
   ]
  },
  {
   "cell_type": "code",
   "execution_count": 12,
   "id": "cefd1446",
   "metadata": {},
   "outputs": [
    {
     "data": {
      "text/plain": [
       "array([[5, 5, 5],\n",
       "       [5, 5, 5],\n",
       "       [5, 5, 5]])"
      ]
     },
     "execution_count": 12,
     "metadata": {},
     "output_type": "execute_result"
    }
   ],
   "source": [
    "# here 5 is used to fill matrix\n",
    "np.full([3,3], 5)"
   ]
  },
  {
   "cell_type": "code",
   "execution_count": 13,
   "id": "944513d2",
   "metadata": {},
   "outputs": [
    {
     "data": {
      "text/plain": [
       "array([ 1,  2,  3,  4,  5,  6,  7,  8,  9, 10])"
      ]
     },
     "execution_count": 13,
     "metadata": {},
     "output_type": "execute_result"
    }
   ],
   "source": [
    "np.arange(1,11)"
   ]
  },
  {
   "cell_type": "code",
   "execution_count": 14,
   "id": "5d3f3085",
   "metadata": {},
   "outputs": [
    {
     "data": {
      "text/plain": [
       "array([1, 3, 5, 7, 9])"
      ]
     },
     "execution_count": 14,
     "metadata": {},
     "output_type": "execute_result"
    }
   ],
   "source": [
    "np.arange(1,11, 2)"
   ]
  },
  {
   "cell_type": "code",
   "execution_count": 15,
   "id": "e51d0c35",
   "metadata": {},
   "outputs": [
    {
     "data": {
      "text/plain": [
       "array([1.        , 1.16666667, 1.33333333, 1.5       , 1.66666667,\n",
       "       1.83333333, 2.        ])"
      ]
     },
     "execution_count": 15,
     "metadata": {},
     "output_type": "execute_result"
    }
   ],
   "source": [
    "np.linspace(1,2,7)"
   ]
  },
  {
   "cell_type": "code",
   "execution_count": 17,
   "id": "216fe99c",
   "metadata": {},
   "outputs": [
    {
     "data": {
      "text/plain": [
       "(array([2.  , 2.25, 2.5 , 2.75, 3.  ]), 0.25)"
      ]
     },
     "execution_count": 17,
     "metadata": {},
     "output_type": "execute_result"
    }
   ],
   "source": [
    "# If restep is True, returns (samples, step) where step is spacing between samples\n",
    "np.linspace(2,3,5,retstep=True)"
   ]
  },
  {
   "cell_type": "code",
   "execution_count": 18,
   "id": "c0ec1ef3",
   "metadata": {},
   "outputs": [
    {
     "data": {
      "text/plain": [
       "array([2. , 2.2, 2.4, 2.6, 2.8])"
      ]
     },
     "execution_count": 18,
     "metadata": {},
     "output_type": "execute_result"
    }
   ],
   "source": [
    "# if endpoint True, stop is last sample Otherwise it is not included, Default is True\n",
    "np.linspace(2,3,5,endpoint=False)"
   ]
  },
  {
   "cell_type": "code",
   "execution_count": 19,
   "id": "3527e37f",
   "metadata": {},
   "outputs": [
    {
     "data": {
      "text/plain": [
       "[array([[1, 3, 5, 7, 9],\n",
       "        [1, 3, 5, 7, 9],\n",
       "        [1, 3, 5, 7, 9],\n",
       "        [1, 3, 5, 7, 9],\n",
       "        [1, 3, 5, 7, 9]]),\n",
       " array([[1, 1, 1, 1, 1],\n",
       "        [3, 3, 3, 3, 3],\n",
       "        [5, 5, 5, 5, 5],\n",
       "        [7, 7, 7, 7, 7],\n",
       "        [9, 9, 9, 9, 9]])]"
      ]
     },
     "execution_count": 19,
     "metadata": {},
     "output_type": "execute_result"
    }
   ],
   "source": [
    "# generates 2d Matrix\n",
    "np.meshgrid(np.arange(1, 10, 2), np.arange(1, 10, 2))"
   ]
  },
  {
   "cell_type": "code",
   "execution_count": 20,
   "id": "f7580514",
   "metadata": {},
   "outputs": [
    {
     "data": {
      "text/plain": [
       "27"
      ]
     },
     "execution_count": 20,
     "metadata": {},
     "output_type": "execute_result"
    }
   ],
   "source": [
    "# generating random value, generates one value between 1 and 100\n",
    "np.random.randint(1, 100)"
   ]
  },
  {
   "cell_type": "code",
   "execution_count": 21,
   "id": "eb98368e",
   "metadata": {},
   "outputs": [
    {
     "data": {
      "text/plain": [
       "array([-1.8345281 , -0.9283363 , -0.28701173, -0.79632645,  1.62375421,\n",
       "        2.05424585, -0.57121597,  1.78525532,  0.26632367, -0.52093402])"
      ]
     },
     "execution_count": 21,
     "metadata": {},
     "output_type": "execute_result"
    }
   ],
   "source": [
    "# generating array of random values\n",
    "np.random.randn(10)"
   ]
  },
  {
   "cell_type": "markdown",
   "id": "02c56b32",
   "metadata": {},
   "source": [
    "### Types of Arrays"
   ]
  },
  {
   "cell_type": "code",
   "execution_count": 22,
   "id": "e4bbe331",
   "metadata": {},
   "outputs": [
    {
     "data": {
      "text/plain": [
       "(numpy.ndarray, dtype('float64'))"
      ]
     },
     "execution_count": 22,
     "metadata": {},
     "output_type": "execute_result"
    }
   ],
   "source": [
    "arr = np.random.randn(10)\n",
    "type(arr), arr.dtype"
   ]
  },
  {
   "cell_type": "code",
   "execution_count": 23,
   "id": "55b71f66",
   "metadata": {},
   "outputs": [
    {
     "data": {
      "text/plain": [
       "array([ 1,  2, 52,  7,  4,  7], dtype=int64)"
      ]
     },
     "execution_count": 23,
     "metadata": {},
     "output_type": "execute_result"
    }
   ],
   "source": [
    "# defining type of np array\n",
    "np.array([1,2,52,7,4,7], dtype=np.int64)"
   ]
  },
  {
   "cell_type": "code",
   "execution_count": 24,
   "id": "b83bd02a",
   "metadata": {},
   "outputs": [
    {
     "data": {
      "text/plain": [
       "array([ 1.,  2., 52.,  7.,  4.,  7.], dtype=float16)"
      ]
     },
     "execution_count": 24,
     "metadata": {},
     "output_type": "execute_result"
    }
   ],
   "source": [
    "np.array([1,2,52,7,4,7], dtype=np.float16)"
   ]
  },
  {
   "cell_type": "code",
   "execution_count": 25,
   "id": "42c1bc16",
   "metadata": {},
   "outputs": [
    {
     "data": {
      "text/plain": [
       "array([ True, False,  True,  True, False, False,  True])"
      ]
     },
     "execution_count": 25,
     "metadata": {},
     "output_type": "execute_result"
    }
   ],
   "source": [
    "# using np.bool_ instead of np.bool as np.bool_ supports array types\n",
    "np.array([True, False, True, True, False, 0, 1], dtype=np.bool_)"
   ]
  },
  {
   "cell_type": "code",
   "execution_count": 26,
   "id": "3cd343ba",
   "metadata": {},
   "outputs": [
    {
     "data": {
      "text/plain": [
       "array([ 1.+0.j,  2.+0.j, 52.+0.j,  7.+0.j,  4.+0.j,  7.+0.j])"
      ]
     },
     "execution_count": 26,
     "metadata": {},
     "output_type": "execute_result"
    }
   ],
   "source": [
    "np.array([1,2,52,7,4,7], dtype=np.complex_)"
   ]
  },
  {
   "cell_type": "code",
   "execution_count": 27,
   "id": "c5553d7e",
   "metadata": {},
   "outputs": [
    {
     "data": {
      "text/plain": [
       "array([b'apple', b'python', b'banana', b'grapes'], dtype='|S6')"
      ]
     },
     "execution_count": 27,
     "metadata": {},
     "output_type": "execute_result"
    }
   ],
   "source": [
    "# b for bytes in output as it stores string in bytes\n",
    "np.array(['apple', 'python', 'banana', 'grapes'], dtype=np.string_)"
   ]
  },
  {
   "cell_type": "markdown",
   "id": "6c8f93ac",
   "metadata": {},
   "source": [
    "### Inspect Arrays"
   ]
  },
  {
   "cell_type": "code",
   "execution_count": 28,
   "id": "2a0089f7",
   "metadata": {},
   "outputs": [
    {
     "data": {
      "text/plain": [
       "array([-0.98491696, -0.08885706, -0.25826838, -1.39829731, -0.03467342,\n",
       "        0.91462589, -1.63910637,  1.84256166,  0.08658311, -1.10825304])"
      ]
     },
     "execution_count": 28,
     "metadata": {},
     "output_type": "execute_result"
    }
   ],
   "source": [
    "arr"
   ]
  },
  {
   "cell_type": "code",
   "execution_count": 29,
   "id": "2734b122",
   "metadata": {},
   "outputs": [
    {
     "data": {
      "text/plain": [
       "1"
      ]
     },
     "execution_count": 29,
     "metadata": {},
     "output_type": "execute_result"
    }
   ],
   "source": [
    "arr.ndim"
   ]
  },
  {
   "cell_type": "code",
   "execution_count": 30,
   "id": "b31c527b",
   "metadata": {},
   "outputs": [
    {
     "data": {
      "text/plain": [
       "2"
      ]
     },
     "execution_count": 30,
     "metadata": {},
     "output_type": "execute_result"
    }
   ],
   "source": [
    "arr2 = np.full([3,3], 5)\n",
    "arr2.ndim"
   ]
  },
  {
   "cell_type": "code",
   "execution_count": 31,
   "id": "4afc4fb3",
   "metadata": {},
   "outputs": [
    {
     "data": {
      "text/plain": [
       "dtype('float64')"
      ]
     },
     "execution_count": 31,
     "metadata": {},
     "output_type": "execute_result"
    }
   ],
   "source": [
    "arr.dtype"
   ]
  },
  {
   "cell_type": "code",
   "execution_count": 32,
   "id": "70099f23",
   "metadata": {},
   "outputs": [
    {
     "data": {
      "text/plain": [
       "8"
      ]
     },
     "execution_count": 32,
     "metadata": {},
     "output_type": "execute_result"
    }
   ],
   "source": [
    "# itemsize is Length of one array element in bytes\n",
    "arr.itemsize"
   ]
  },
  {
   "cell_type": "code",
   "execution_count": 33,
   "id": "b78a5600",
   "metadata": {},
   "outputs": [
    {
     "data": {
      "text/plain": [
       "10"
      ]
     },
     "execution_count": 33,
     "metadata": {},
     "output_type": "execute_result"
    }
   ],
   "source": [
    "# total element of an array\n",
    "arr.size"
   ]
  },
  {
   "cell_type": "code",
   "execution_count": 34,
   "id": "0930125d",
   "metadata": {},
   "outputs": [
    {
     "data": {
      "text/plain": [
       "(10,)"
      ]
     },
     "execution_count": 34,
     "metadata": {},
     "output_type": "execute_result"
    }
   ],
   "source": [
    "arr.shape"
   ]
  },
  {
   "cell_type": "code",
   "execution_count": 35,
   "id": "34ff0b35",
   "metadata": {},
   "outputs": [
    {
     "data": {
      "text/plain": [
       "(3, 3)"
      ]
     },
     "execution_count": 35,
     "metadata": {},
     "output_type": "execute_result"
    }
   ],
   "source": [
    "arr2.shape"
   ]
  },
  {
   "cell_type": "markdown",
   "id": "f5ff28a1",
   "metadata": {},
   "source": [
    "### Slicing and Indexing"
   ]
  },
  {
   "cell_type": "code",
   "execution_count": 36,
   "id": "d7784b9b",
   "metadata": {},
   "outputs": [],
   "source": [
    "arr3 = np.array([\n",
    "    [23 ,14, 54, 27, 67, 54],\n",
    "    [22, 56, 29, 70, 23, 67],\n",
    "    [22, 53, 78, 14, 63, 85],\n",
    "    [21, 53, 64, 52, 79, 94]\n",
    "])"
   ]
  },
  {
   "cell_type": "code",
   "execution_count": 37,
   "id": "f3e7180f",
   "metadata": {},
   "outputs": [
    {
     "data": {
      "text/plain": [
       "(4, 6)"
      ]
     },
     "execution_count": 37,
     "metadata": {},
     "output_type": "execute_result"
    }
   ],
   "source": [
    "arr3.shape"
   ]
  },
  {
   "cell_type": "code",
   "execution_count": 38,
   "id": "25b4c499",
   "metadata": {},
   "outputs": [
    {
     "data": {
      "text/plain": [
       "54"
      ]
     },
     "execution_count": 38,
     "metadata": {},
     "output_type": "execute_result"
    }
   ],
   "source": [
    "arr3[0, 2]"
   ]
  },
  {
   "cell_type": "code",
   "execution_count": 39,
   "id": "3c23ab5d",
   "metadata": {},
   "outputs": [
    {
     "data": {
      "text/plain": [
       "array([[29, 70],\n",
       "       [78, 14]])"
      ]
     },
     "execution_count": 39,
     "metadata": {},
     "output_type": "execute_result"
    }
   ],
   "source": [
    "arr3[1:3, 2:4]"
   ]
  },
  {
   "cell_type": "code",
   "execution_count": 40,
   "id": "049f70f5",
   "metadata": {},
   "outputs": [
    {
     "data": {
      "text/plain": [
       "array([[56, 70, 67],\n",
       "       [53, 14, 85],\n",
       "       [53, 52, 94]])"
      ]
     },
     "execution_count": 40,
     "metadata": {},
     "output_type": "execute_result"
    }
   ],
   "source": [
    "# first 1 indicates slicing will start from row 1\n",
    "# second 1 indicates slicing will start from coumn 1\n",
    "# 2 indicates step size\n",
    "arr3[1:, 1::2]"
   ]
  },
  {
   "cell_type": "markdown",
   "id": "25a957a6",
   "metadata": {},
   "source": [
    "### Filtering"
   ]
  },
  {
   "cell_type": "code",
   "execution_count": 41,
   "id": "e2aec7f3",
   "metadata": {},
   "outputs": [
    {
     "data": {
      "text/plain": [
       "array([[ True,  True, False,  True, False, False],\n",
       "       [ True, False,  True, False,  True, False],\n",
       "       [ True, False, False,  True, False, False],\n",
       "       [ True, False, False, False, False, False]])"
      ]
     },
     "execution_count": 41,
     "metadata": {},
     "output_type": "execute_result"
    }
   ],
   "source": [
    "arr3 < 50"
   ]
  },
  {
   "cell_type": "code",
   "execution_count": 42,
   "id": "e8c03b03",
   "metadata": {},
   "outputs": [
    {
     "data": {
      "text/plain": [
       "array([23, 14, 27, 22, 29, 23, 22, 14, 21])"
      ]
     },
     "execution_count": 42,
     "metadata": {},
     "output_type": "execute_result"
    }
   ],
   "source": [
    "arr3[arr3 < 50]"
   ]
  },
  {
   "cell_type": "code",
   "execution_count": 43,
   "id": "f6598814",
   "metadata": {},
   "outputs": [
    {
     "data": {
      "text/plain": [
       "array([23, 27, 67, 29, 23, 67, 53, 63, 85, 21, 53, 79])"
      ]
     },
     "execution_count": 43,
     "metadata": {},
     "output_type": "execute_result"
    }
   ],
   "source": [
    "# getting only odd numbers\n",
    "arr3[arr3%2 == 1]"
   ]
  },
  {
   "cell_type": "code",
   "execution_count": 44,
   "id": "047031ce",
   "metadata": {},
   "outputs": [
    {
     "data": {
      "text/plain": [
       "array([67, 67, 53, 63, 85, 53, 79])"
      ]
     },
     "execution_count": 44,
     "metadata": {},
     "output_type": "execute_result"
    }
   ],
   "source": [
    "arr3[(arr3%2 == 1) & (arr3>50)]"
   ]
  },
  {
   "cell_type": "code",
   "execution_count": 45,
   "id": "c7563de8",
   "metadata": {},
   "outputs": [
    {
     "data": {
      "text/plain": [
       "array([54, 54, 56, 70, 78, 64, 52, 94])"
      ]
     },
     "execution_count": 45,
     "metadata": {},
     "output_type": "execute_result"
    }
   ],
   "source": [
    "# Tilde sign ~ works as not condition \n",
    "arr3[~(arr3%2 == 1) & (arr3>50)]"
   ]
  },
  {
   "cell_type": "code",
   "execution_count": 46,
   "id": "7968244a",
   "metadata": {},
   "outputs": [
    {
     "data": {
      "text/plain": [
       "array([23, 14, 27, 22, 29, 23, 22, 14, 21])"
      ]
     },
     "execution_count": 46,
     "metadata": {},
     "output_type": "execute_result"
    }
   ],
   "source": [
    "arr3[~(arr3>50)]"
   ]
  },
  {
   "cell_type": "markdown",
   "id": "9a819411",
   "metadata": {},
   "source": [
    "### Operators"
   ]
  },
  {
   "cell_type": "code",
   "execution_count": 47,
   "id": "b048bf5b",
   "metadata": {},
   "outputs": [
    {
     "data": {
      "text/plain": [
       "array([[ 46,  28, 108,  54, 134, 108],\n",
       "       [ 44, 112,  58, 140,  46, 134],\n",
       "       [ 44, 106, 156,  28, 126, 170],\n",
       "       [ 42, 106, 128, 104, 158, 188]])"
      ]
     },
     "execution_count": 47,
     "metadata": {},
     "output_type": "execute_result"
    }
   ],
   "source": [
    "# numpy broadcasting\n",
    "arr3 + arr3"
   ]
  },
  {
   "cell_type": "code",
   "execution_count": 55,
   "id": "5fe7cb80",
   "metadata": {},
   "outputs": [
    {
     "data": {
      "text/plain": [
       "array([[ 529,  196, 2916,  729, 4489, 2916],\n",
       "       [ 484, 3136,  841, 4900,  529, 4489],\n",
       "       [ 484, 2809, 6084,  196, 3969, 7225],\n",
       "       [ 441, 2809, 4096, 2704, 6241, 8836]])"
      ]
     },
     "execution_count": 55,
     "metadata": {},
     "output_type": "execute_result"
    }
   ],
   "source": [
    "arr3 * arr3"
   ]
  },
  {
   "cell_type": "code",
   "execution_count": 49,
   "id": "ae2d52e7",
   "metadata": {},
   "outputs": [
    {
     "data": {
      "text/plain": [
       "array([[28, 19, 59, 32, 72, 59],\n",
       "       [27, 61, 34, 75, 28, 72],\n",
       "       [27, 58, 83, 19, 68, 90],\n",
       "       [26, 58, 69, 57, 84, 99]])"
      ]
     },
     "execution_count": 49,
     "metadata": {},
     "output_type": "execute_result"
    }
   ],
   "source": [
    "arr3 + 5"
   ]
  },
  {
   "cell_type": "code",
   "execution_count": 50,
   "id": "b715b8f3",
   "metadata": {},
   "outputs": [],
   "source": [
    "arr4 = np.array([\n",
    "    [23 ,14, 54],\n",
    "    [22, 56, 29],\n",
    "    [22, 53, 78],\n",
    "])"
   ]
  },
  {
   "cell_type": "code",
   "execution_count": 51,
   "id": "3d98a98e",
   "metadata": {},
   "outputs": [
    {
     "data": {
      "text/plain": [
       "array([[2025, 3968, 5860],\n",
       "       [2376, 4981, 5074],\n",
       "       [3388, 7410, 8809]])"
      ]
     },
     "execution_count": 51,
     "metadata": {},
     "output_type": "execute_result"
    }
   ],
   "source": [
    "arr4@arr4"
   ]
  },
  {
   "cell_type": "code",
   "execution_count": 52,
   "id": "f6219580",
   "metadata": {},
   "outputs": [
    {
     "data": {
      "text/plain": [
       "array([[ 529,  196, 2916],\n",
       "       [ 484, 3136,  841],\n",
       "       [ 484, 2809, 6084]])"
      ]
     },
     "execution_count": 52,
     "metadata": {},
     "output_type": "execute_result"
    }
   ],
   "source": [
    "arr4*arr4"
   ]
  },
  {
   "cell_type": "markdown",
   "id": "af743769",
   "metadata": {},
   "source": [
    "### Load and Save"
   ]
  },
  {
   "cell_type": "code",
   "execution_count": 58,
   "id": "84198feb",
   "metadata": {},
   "outputs": [],
   "source": [
    "# to know parameters of save, press Esc to close documentation\n",
    "np.save?"
   ]
  },
  {
   "cell_type": "code",
   "execution_count": 59,
   "id": "b73dea33",
   "metadata": {},
   "outputs": [],
   "source": [
    "res = arr4@arr4"
   ]
  },
  {
   "cell_type": "code",
   "execution_count": 60,
   "id": "a6675756",
   "metadata": {},
   "outputs": [],
   "source": [
    "# saving res to data.npy file, file can't be be read \n",
    "np.save('data.npy', res)"
   ]
  },
  {
   "cell_type": "code",
   "execution_count": 61,
   "id": "113d0fee",
   "metadata": {},
   "outputs": [
    {
     "data": {
      "text/plain": [
       "array([[2025, 3968, 5860],\n",
       "       [2376, 4981, 5074],\n",
       "       [3388, 7410, 8809]])"
      ]
     },
     "execution_count": 61,
     "metadata": {},
     "output_type": "execute_result"
    }
   ],
   "source": [
    "# loading data.npy\n",
    "np.load('data.npy')"
   ]
  },
  {
   "cell_type": "code",
   "execution_count": 62,
   "id": "bb9e9806",
   "metadata": {},
   "outputs": [],
   "source": [
    "# savez use to save multiple array in numpy zip file\n",
    "# here array arr4 and res are being saved into data.npz file\n",
    "np.savez('data.npz', ar1=arr4, ar2=res)"
   ]
  },
  {
   "cell_type": "code",
   "execution_count": 63,
   "id": "679174de",
   "metadata": {},
   "outputs": [],
   "source": [
    "data = np.load('data.npz')"
   ]
  },
  {
   "cell_type": "code",
   "execution_count": 64,
   "id": "31b11fdb",
   "metadata": {},
   "outputs": [
    {
     "data": {
      "text/plain": [
       "['ar1', 'ar2']"
      ]
     },
     "execution_count": 64,
     "metadata": {},
     "output_type": "execute_result"
    }
   ],
   "source": [
    "data.files"
   ]
  },
  {
   "cell_type": "code",
   "execution_count": 66,
   "id": "36e0ad7d",
   "metadata": {},
   "outputs": [
    {
     "data": {
      "text/plain": [
       "array([[23, 14, 54],\n",
       "       [22, 56, 29],\n",
       "       [22, 53, 78]])"
      ]
     },
     "execution_count": 66,
     "metadata": {},
     "output_type": "execute_result"
    }
   ],
   "source": [
    "data['ar1']"
   ]
  },
  {
   "cell_type": "code",
   "execution_count": 67,
   "id": "ba2c2a47",
   "metadata": {},
   "outputs": [
    {
     "data": {
      "text/plain": [
       "array([[2025, 3968, 5860],\n",
       "       [2376, 4981, 5074],\n",
       "       [3388, 7410, 8809]])"
      ]
     },
     "execution_count": 67,
     "metadata": {},
     "output_type": "execute_result"
    }
   ],
   "source": [
    "data['ar2']"
   ]
  },
  {
   "cell_type": "markdown",
   "id": "3210396e",
   "metadata": {},
   "source": [
    "## Statistics with NumPy"
   ]
  },
  {
   "cell_type": "code",
   "execution_count": 67,
   "id": "dc346e64",
   "metadata": {},
   "outputs": [
    {
     "data": {
      "text/plain": [
       "array([[23,  0, 54],\n",
       "       [22, 56, 29],\n",
       "       [22, 53, 78]])"
      ]
     },
     "execution_count": 67,
     "metadata": {},
     "output_type": "execute_result"
    }
   ],
   "source": [
    "matrix = data['arr4']\n",
    "matrix[0,1] = 0\n",
    "matrix"
   ]
  },
  {
   "cell_type": "code",
   "execution_count": 68,
   "id": "2b2f238f",
   "metadata": {},
   "outputs": [
    {
     "data": {
      "text/plain": [
       "337"
      ]
     },
     "execution_count": 68,
     "metadata": {},
     "output_type": "execute_result"
    }
   ],
   "source": [
    "matrix.sum()"
   ]
  },
  {
   "cell_type": "code",
   "execution_count": 69,
   "id": "b06631f8",
   "metadata": {},
   "outputs": [
    {
     "data": {
      "text/plain": [
       "array([ 67, 109, 161])"
      ]
     },
     "execution_count": 69,
     "metadata": {},
     "output_type": "execute_result"
    }
   ],
   "source": [
    "matrix.sum(axis=0)     # column major"
   ]
  },
  {
   "cell_type": "code",
   "execution_count": 70,
   "id": "8aa50374",
   "metadata": {},
   "outputs": [
    {
     "data": {
      "text/plain": [
       "array([ 77, 107, 153])"
      ]
     },
     "execution_count": 70,
     "metadata": {},
     "output_type": "execute_result"
    }
   ],
   "source": [
    "matrix.sum(axis=1)     # row major"
   ]
  },
  {
   "cell_type": "code",
   "execution_count": 71,
   "id": "ba4c2108",
   "metadata": {},
   "outputs": [
    {
     "data": {
      "text/plain": [
       "array([25.66666667, 35.66666667, 51.        ])"
      ]
     },
     "execution_count": 71,
     "metadata": {},
     "output_type": "execute_result"
    }
   ],
   "source": [
    "matrix.mean()\n",
    "matrix.mean(axis=0)\n",
    "matrix.mean(axis=1)"
   ]
  },
  {
   "cell_type": "code",
   "execution_count": 72,
   "id": "e79806cf",
   "metadata": {},
   "outputs": [
    {
     "data": {
      "text/plain": [
       "False"
      ]
     },
     "execution_count": 72,
     "metadata": {},
     "output_type": "execute_result"
    }
   ],
   "source": [
    "matrix.all()"
   ]
  },
  {
   "cell_type": "code",
   "execution_count": 73,
   "id": "2fac429c",
   "metadata": {},
   "outputs": [
    {
     "data": {
      "text/plain": [
       "True"
      ]
     },
     "execution_count": 73,
     "metadata": {},
     "output_type": "execute_result"
    }
   ],
   "source": [
    "matrix.any()"
   ]
  },
  {
   "cell_type": "code",
   "execution_count": 77,
   "id": "5582a11a",
   "metadata": {},
   "outputs": [
    {
     "data": {
      "text/plain": [
       "array([ 23,  23,  77,  99, 155, 184, 206, 259, 337])"
      ]
     },
     "execution_count": 77,
     "metadata": {},
     "output_type": "execute_result"
    }
   ],
   "source": [
    "matrix.cumsum()"
   ]
  },
  {
   "cell_type": "code",
   "execution_count": 78,
   "id": "43060831",
   "metadata": {},
   "outputs": [
    {
     "data": {
      "text/plain": [
       "array([23,  0,  0,  0,  0,  0,  0,  0,  0])"
      ]
     },
     "execution_count": 78,
     "metadata": {},
     "output_type": "execute_result"
    }
   ],
   "source": [
    "  matrix.cumprod()"
   ]
  },
  {
   "cell_type": "code",
   "execution_count": 80,
   "id": "cb47a9f1",
   "metadata": {},
   "outputs": [
    {
     "data": {
      "text/plain": [
       "array([23, 56, 78])"
      ]
     },
     "execution_count": 80,
     "metadata": {},
     "output_type": "execute_result"
    }
   ],
   "source": [
    "matrix.max(axis=0)"
   ]
  },
  {
   "cell_type": "code",
   "execution_count": 81,
   "id": "8014097a",
   "metadata": {},
   "outputs": [
    {
     "data": {
      "text/plain": [
       "array([ 0, 22, 22])"
      ]
     },
     "execution_count": 81,
     "metadata": {},
     "output_type": "execute_result"
    }
   ],
   "source": [
    "matrix.min(axis=1)"
   ]
  },
  {
   "cell_type": "code",
   "execution_count": 83,
   "id": "704e08c3",
   "metadata": {},
   "outputs": [
    {
     "data": {
      "text/plain": [
       "array([2.22222222e-01, 6.61555556e+02, 4.00222222e+02])"
      ]
     },
     "execution_count": 83,
     "metadata": {},
     "output_type": "execute_result"
    }
   ],
   "source": [
    "matrix.var(axis=0)"
   ]
  },
  {
   "cell_type": "code",
   "execution_count": 84,
   "id": "575449c0",
   "metadata": {},
   "outputs": [
    {
     "data": {
      "text/plain": [
       "array([ 0.47140452, 25.7207223 , 20.00555478])"
      ]
     },
     "execution_count": 84,
     "metadata": {},
     "output_type": "execute_result"
    }
   ],
   "source": [
    "np.sqrt(matrix.var(axis=0))"
   ]
  },
  {
   "cell_type": "code",
   "execution_count": 85,
   "id": "edd5e17c",
   "metadata": {},
   "outputs": [
    {
     "data": {
      "text/plain": [
       "array([ 0.47140452, 25.7207223 , 20.00555478])"
      ]
     },
     "execution_count": 85,
     "metadata": {},
     "output_type": "execute_result"
    }
   ],
   "source": [
    "matrix.std(axis=0)"
   ]
  },
  {
   "cell_type": "code",
   "execution_count": 88,
   "id": "5a3ae4a8",
   "metadata": {},
   "outputs": [
    {
     "data": {
      "text/plain": [
       "array([[ 734.33333333, -337.16666667,  395.5       ],\n",
       "       [-337.16666667,  322.33333333,  128.5       ],\n",
       "       [ 395.5       ,  128.5       ,  787.        ]])"
      ]
     },
     "execution_count": 88,
     "metadata": {},
     "output_type": "execute_result"
    }
   ],
   "source": [
    "np.cov(matrix)"
   ]
  },
  {
   "cell_type": "code",
   "execution_count": 151,
   "id": "66c1c871",
   "metadata": {},
   "outputs": [
    {
     "data": {
      "text/plain": [
       "array([22. , 26.5, 41.5])"
      ]
     },
     "execution_count": 151,
     "metadata": {},
     "output_type": "execute_result"
    }
   ],
   "source": [
    "np.quantile(matrix, 0.25, axis=0)"
   ]
  },
  {
   "cell_type": "markdown",
   "id": "7f6544e6",
   "metadata": {},
   "source": [
    "# Linear Algebra"
   ]
  },
  {
   "cell_type": "code",
   "execution_count": 89,
   "id": "ad324359",
   "metadata": {},
   "outputs": [],
   "source": [
    "from numpy import linalg"
   ]
  },
  {
   "cell_type": "code",
   "execution_count": 90,
   "id": "8066e361",
   "metadata": {},
   "outputs": [
    {
     "data": {
      "text/plain": [
       "61549.00000000004"
      ]
     },
     "execution_count": 90,
     "metadata": {},
     "output_type": "execute_result"
    }
   ],
   "source": [
    "linalg.det(matrix)"
   ]
  },
  {
   "cell_type": "code",
   "execution_count": 91,
   "id": "6cb655ee",
   "metadata": {},
   "outputs": [
    {
     "data": {
      "text/plain": [
       "array([[ 0.04599587,  0.04649954, -0.04913159],\n",
       "       [-0.0175145 ,  0.00984581,  0.0084648 ],\n",
       "       [-0.00107232, -0.01980536,  0.02092642]])"
      ]
     },
     "execution_count": 91,
     "metadata": {},
     "output_type": "execute_result"
    }
   ],
   "source": [
    "linalg.inv(matrix)"
   ]
  },
  {
   "cell_type": "code",
   "execution_count": 92,
   "id": "dcf0f5a5",
   "metadata": {},
   "outputs": [
    {
     "data": {
      "text/plain": [
       "131.46482419263336"
      ]
     },
     "execution_count": 92,
     "metadata": {},
     "output_type": "execute_result"
    }
   ],
   "source": [
    "linalg.norm(matrix)"
   ]
  },
  {
   "cell_type": "code",
   "execution_count": 94,
   "id": "23edb4e6",
   "metadata": {},
   "outputs": [
    {
     "data": {
      "text/plain": [
       "array([0., 0., 1.])"
      ]
     },
     "execution_count": 94,
     "metadata": {},
     "output_type": "execute_result"
    }
   ],
   "source": [
    "a = matrix\n",
    "b = matrix[:, -1]\n",
    "linalg.solve(a, b)"
   ]
  },
  {
   "cell_type": "code",
   "execution_count": 95,
   "id": "04818c6a",
   "metadata": {},
   "outputs": [
    {
     "data": {
      "text/plain": [
       "(array([[ 0.39459475,  0.74764402,  0.53415672],\n",
       "        [ 0.48566771, -0.66319199,  0.56947631],\n",
       "        [ 0.78001401,  0.03471031, -0.62479863]]),\n",
       " array([123.78009873,  42.73274033,  11.63615326]),\n",
       " array([[ 0.29827636,  0.55370884,  0.77745594],\n",
       "        [ 0.07884389, -0.82604356,  0.55806423],\n",
       "        [ 0.95121756, -0.10515971, -0.29004582]]))"
      ]
     },
     "execution_count": 95,
     "metadata": {},
     "output_type": "execute_result"
    }
   ],
   "source": [
    "linalg.svd(matrix)"
   ]
  },
  {
   "cell_type": "code",
   "execution_count": 96,
   "id": "34640058",
   "metadata": {},
   "outputs": [
    {
     "data": {
      "text/plain": [
       "(array([122.54005649 +0.j        ,  17.22997175+14.33194507j,\n",
       "         17.22997175-14.33194507j]),\n",
       " array([[ 0.41944866+0.j        ,  0.86853618+0.j        ,\n",
       "          0.86853618-0.j        ],\n",
       "        [ 0.4756565 +0.j        , -0.31644817-0.28940537j,\n",
       "         -0.31644817+0.28940537j],\n",
       "        [ 0.77318414+0.j        , -0.09280515+0.23051505j,\n",
       "         -0.09280515-0.23051505j]]))"
      ]
     },
     "execution_count": 96,
     "metadata": {},
     "output_type": "execute_result"
    }
   ],
   "source": [
    "linalg.eig(matrix)"
   ]
  },
  {
   "cell_type": "code",
   "execution_count": 97,
   "id": "04bb6b87",
   "metadata": {},
   "outputs": [
    {
     "data": {
      "text/plain": [
       "(array([ 10.34860957,  16.5692369 , 130.08215354]),\n",
       " array([[-0.61245287,  0.74006312, -0.27786337],\n",
       "        [ 0.70660845,  0.35492888, -0.61215194],\n",
       "        [-0.35440934, -0.57125482, -0.74031207]]))"
      ]
     },
     "execution_count": 97,
     "metadata": {},
     "output_type": "execute_result"
    }
   ],
   "source": [
    "linalg.eigh(matrix)"
   ]
  },
  {
   "cell_type": "code",
   "execution_count": 99,
   "id": "0b84e428",
   "metadata": {},
   "outputs": [
    {
     "data": {
      "text/plain": [
       "array([[ 3434,  5724, 10908],\n",
       "       [ 4752,  9346, 10148],\n",
       "       [ 6776, 14204, 17618]])"
      ]
     },
     "execution_count": 99,
     "metadata": {},
     "output_type": "execute_result"
    }
   ],
   "source": [
    "np.dot(matrix, matrix*2)"
   ]
  },
  {
   "cell_type": "code",
   "execution_count": 100,
   "id": "2b857d9e",
   "metadata": {},
   "outputs": [
    {
     "data": {
      "text/plain": [
       "array([[0, 0, 0],\n",
       "       [0, 0, 0],\n",
       "       [0, 0, 0]])"
      ]
     },
     "execution_count": 100,
     "metadata": {},
     "output_type": "execute_result"
    }
   ],
   "source": [
    "np.cross(matrix, matrix*2)"
   ]
  },
  {
   "cell_type": "code",
   "execution_count": 101,
   "id": "8fe9fc31",
   "metadata": {},
   "outputs": [
    {
     "data": {
      "text/plain": [
       "3"
      ]
     },
     "execution_count": 101,
     "metadata": {},
     "output_type": "execute_result"
    }
   ],
   "source": [
    "linalg.matrix_rank(matrix)"
   ]
  },
  {
   "cell_type": "code",
   "execution_count": 102,
   "id": "8c6865f1",
   "metadata": {},
   "outputs": [
    {
     "data": {
      "text/plain": [
       "array([[-0.8462204 ,  0.        , -0.55878905],\n",
       "       [-0.00885131, -0.521551  , -0.66363388],\n",
       "       [-0.00885131,  0.39592515,  0.51397846]])"
      ]
     },
     "execution_count": 102,
     "metadata": {},
     "output_type": "execute_result"
    }
   ],
   "source": [
    "np.sin(matrix)"
   ]
  },
  {
   "cell_type": "code",
   "execution_count": 103,
   "id": "585d6113",
   "metadata": {},
   "outputs": [
    {
     "data": {
      "text/plain": [
       "array([[-0.53283302,  1.        , -0.82930983],\n",
       "       [-0.99996083,  0.85322011, -0.74805753],\n",
       "       [-0.99996083, -0.91828279, -0.85780309]])"
      ]
     },
     "execution_count": 103,
     "metadata": {},
     "output_type": "execute_result"
    }
   ],
   "source": [
    "np.cos(matrix)"
   ]
  },
  {
   "cell_type": "code",
   "execution_count": 104,
   "id": "49fe8b7b",
   "metadata": {},
   "outputs": [
    {
     "data": {
      "text/plain": [
       "array([[ 1.58815308,  0.        ,  0.6738001 ],\n",
       "       [ 0.00885166, -0.61127369,  0.88714284],\n",
       "       [ 0.00885166, -0.4311582 , -0.59918   ]])"
      ]
     },
     "execution_count": 104,
     "metadata": {},
     "output_type": "execute_result"
    }
   ],
   "source": [
    "np.tan(matrix)"
   ]
  },
  {
   "cell_type": "code",
   "execution_count": 105,
   "id": "2eacf700",
   "metadata": {},
   "outputs": [
    {
     "data": {
      "text/plain": [
       "array([[23,  0, 54],\n",
       "       [22, 56, 29],\n",
       "       [22, 53, 78]])"
      ]
     },
     "execution_count": 105,
     "metadata": {},
     "output_type": "execute_result"
    }
   ],
   "source": [
    "matrix"
   ]
  },
  {
   "cell_type": "code",
   "execution_count": 106,
   "id": "74910fbe",
   "metadata": {},
   "outputs": [
    {
     "data": {
      "text/plain": [
       "array([[23, 22, 22],\n",
       "       [ 0, 56, 53],\n",
       "       [54, 29, 78]])"
      ]
     },
     "execution_count": 106,
     "metadata": {},
     "output_type": "execute_result"
    }
   ],
   "source": [
    "matrix.T"
   ]
  },
  {
   "cell_type": "code",
   "execution_count": 107,
   "id": "39ab1dd4",
   "metadata": {},
   "outputs": [
    {
     "data": {
      "text/plain": [
       "array([[23, 22, 22],\n",
       "       [ 0, 56, 53],\n",
       "       [54, 29, 78]])"
      ]
     },
     "execution_count": 107,
     "metadata": {},
     "output_type": "execute_result"
    }
   ],
   "source": [
    "np.transpose(matrix)"
   ]
  },
  {
   "cell_type": "markdown",
   "id": "ed244a01",
   "metadata": {},
   "source": [
    "## Array Manipulation"
   ]
  },
  {
   "cell_type": "code",
   "execution_count": 108,
   "id": "124955c0",
   "metadata": {},
   "outputs": [
    {
     "data": {
      "text/plain": [
       "(3, 3)"
      ]
     },
     "execution_count": 108,
     "metadata": {},
     "output_type": "execute_result"
    }
   ],
   "source": [
    "matrix.shape"
   ]
  },
  {
   "cell_type": "code",
   "execution_count": 113,
   "id": "4239d8c2",
   "metadata": {},
   "outputs": [
    {
     "data": {
      "text/plain": [
       "array([[23,  0, 54, 22, 56, 29, 22, 53, 78]])"
      ]
     },
     "execution_count": 113,
     "metadata": {},
     "output_type": "execute_result"
    }
   ],
   "source": [
    "matrix.reshape(1, 9)"
   ]
  },
  {
   "cell_type": "code",
   "execution_count": 114,
   "id": "af45df74",
   "metadata": {},
   "outputs": [],
   "source": [
    "mat1 = np.array(\n",
    "    [[28, 19, 59, 32, 72, 59],\n",
    "       [27, 61, 34, 75, 28, 72],\n",
    "       [27, 58, 83, 19, 68, 90],\n",
    "       [26, 58, 69, 57, 84, 99]])"
   ]
  },
  {
   "cell_type": "code",
   "execution_count": 115,
   "id": "d20e37d3",
   "metadata": {},
   "outputs": [
    {
     "data": {
      "text/plain": [
       "(4, 6)"
      ]
     },
     "execution_count": 115,
     "metadata": {},
     "output_type": "execute_result"
    }
   ],
   "source": [
    "mat1.shape"
   ]
  },
  {
   "cell_type": "code",
   "execution_count": 118,
   "id": "4860d93e",
   "metadata": {},
   "outputs": [
    {
     "data": {
      "text/plain": [
       "array([[28, 19, 59, 32],\n",
       "       [72, 59, 27, 61],\n",
       "       [34, 75, 28, 72],\n",
       "       [27, 58, 83, 19],\n",
       "       [68, 90, 26, 58],\n",
       "       [69, 57, 84, 99]])"
      ]
     },
     "execution_count": 118,
     "metadata": {},
     "output_type": "execute_result"
    }
   ],
   "source": [
    "mat1.reshape(6, 4)"
   ]
  },
  {
   "cell_type": "code",
   "execution_count": 120,
   "id": "84eb682e",
   "metadata": {},
   "outputs": [
    {
     "data": {
      "text/plain": [
       "array([28, 19, 59, 32, 72, 59, 27, 61, 34, 75, 28, 72, 27, 58, 83, 19, 68,\n",
       "       90, 26, 58, 69, 57, 84, 99])"
      ]
     },
     "execution_count": 120,
     "metadata": {},
     "output_type": "execute_result"
    }
   ],
   "source": [
    "mat1.ravel()"
   ]
  },
  {
   "cell_type": "code",
   "execution_count": 121,
   "id": "fa88f2c8",
   "metadata": {},
   "outputs": [
    {
     "data": {
      "text/plain": [
       "array([28, 19, 59, 32, 72, 59, 27, 61, 34, 75, 28, 72, 27, 58, 83, 19, 68,\n",
       "       90, 26, 58, 69, 57, 84, 99])"
      ]
     },
     "execution_count": 121,
     "metadata": {},
     "output_type": "execute_result"
    }
   ],
   "source": [
    "mat1.flatten()"
   ]
  },
  {
   "cell_type": "code",
   "execution_count": 123,
   "id": "0d4afdaf",
   "metadata": {},
   "outputs": [
    {
     "data": {
      "text/plain": [
       "23"
      ]
     },
     "execution_count": 123,
     "metadata": {},
     "output_type": "execute_result"
    }
   ],
   "source": [
    "mat1.argmax()"
   ]
  },
  {
   "cell_type": "code",
   "execution_count": 124,
   "id": "569bf316",
   "metadata": {},
   "outputs": [
    {
     "data": {
      "text/plain": [
       "array([0, 1, 2, 1, 3, 3], dtype=int64)"
      ]
     },
     "execution_count": 124,
     "metadata": {},
     "output_type": "execute_result"
    }
   ],
   "source": [
    "mat1.argmax(axis=0)"
   ]
  },
  {
   "cell_type": "code",
   "execution_count": 125,
   "id": "cb0cea1f",
   "metadata": {},
   "outputs": [
    {
     "data": {
      "text/plain": [
       "array([3, 0, 1, 2, 1, 0], dtype=int64)"
      ]
     },
     "execution_count": 125,
     "metadata": {},
     "output_type": "execute_result"
    }
   ],
   "source": [
    "mat1.argmin(axis=0)"
   ]
  },
  {
   "cell_type": "code",
   "execution_count": 127,
   "id": "d3a0fb77",
   "metadata": {},
   "outputs": [
    {
     "data": {
      "text/plain": [
       "array([[3, 0, 1, 2, 1, 0],\n",
       "       [1, 2, 0, 0, 2, 1],\n",
       "       [2, 3, 3, 3, 0, 2],\n",
       "       [0, 1, 2, 1, 3, 3]], dtype=int64)"
      ]
     },
     "execution_count": 127,
     "metadata": {},
     "output_type": "execute_result"
    }
   ],
   "source": [
    "mat1.argsort(axis=0)"
   ]
  },
  {
   "cell_type": "code",
   "execution_count": 129,
   "id": "d48a4ad3",
   "metadata": {},
   "outputs": [
    {
     "data": {
      "text/plain": [
       "(4, 6)"
      ]
     },
     "execution_count": 129,
     "metadata": {},
     "output_type": "execute_result"
    }
   ],
   "source": [
    "mat1.shape"
   ]
  },
  {
   "cell_type": "code",
   "execution_count": 131,
   "id": "0a9a0d41",
   "metadata": {},
   "outputs": [
    {
     "data": {
      "text/plain": [
       "array([[[[28, 19],\n",
       "         [59, 32]],\n",
       "\n",
       "        [[72, 59],\n",
       "         [27, 61]],\n",
       "\n",
       "        [[34, 75],\n",
       "         [28, 72]]],\n",
       "\n",
       "\n",
       "       [[[27, 58],\n",
       "         [83, 19]],\n",
       "\n",
       "        [[68, 90],\n",
       "         [26, 58]],\n",
       "\n",
       "        [[69, 57],\n",
       "         [84, 99]]]])"
      ]
     },
     "execution_count": 131,
     "metadata": {},
     "output_type": "execute_result"
    }
   ],
   "source": [
    "mat1.reshape(2, 3, 2, 2)"
   ]
  },
  {
   "cell_type": "code",
   "execution_count": 132,
   "id": "9c35624b",
   "metadata": {},
   "outputs": [
    {
     "data": {
      "text/plain": [
       "dtype('int32')"
      ]
     },
     "execution_count": 132,
     "metadata": {},
     "output_type": "execute_result"
    }
   ],
   "source": [
    "mat1.dtype"
   ]
  },
  {
   "cell_type": "code",
   "execution_count": 134,
   "id": "436f8b51",
   "metadata": {},
   "outputs": [
    {
     "data": {
      "text/plain": [
       "array([[28.+0.j, 19.+0.j, 59.+0.j, 32.+0.j, 72.+0.j, 59.+0.j],\n",
       "       [27.+0.j, 61.+0.j, 34.+0.j, 75.+0.j, 28.+0.j, 72.+0.j],\n",
       "       [27.+0.j, 58.+0.j, 83.+0.j, 19.+0.j, 68.+0.j, 90.+0.j],\n",
       "       [26.+0.j, 58.+0.j, 69.+0.j, 57.+0.j, 84.+0.j, 99.+0.j]])"
      ]
     },
     "execution_count": 134,
     "metadata": {},
     "output_type": "execute_result"
    }
   ],
   "source": [
    "mat1.astype(np.complex_)"
   ]
  },
  {
   "cell_type": "code",
   "execution_count": 137,
   "id": "e3781bde",
   "metadata": {},
   "outputs": [
    {
     "data": {
      "text/plain": [
       "[array([[28, 19, 59],\n",
       "        [27, 61, 34],\n",
       "        [27, 58, 83],\n",
       "        [26, 58, 69]]),\n",
       " array([[32, 72, 59],\n",
       "        [75, 28, 72],\n",
       "        [19, 68, 90],\n",
       "        [57, 84, 99]])]"
      ]
     },
     "execution_count": 137,
     "metadata": {},
     "output_type": "execute_result"
    }
   ],
   "source": [
    "np.hsplit(mat1, 2)"
   ]
  },
  {
   "cell_type": "code",
   "execution_count": 138,
   "id": "20ea005c",
   "metadata": {},
   "outputs": [
    {
     "data": {
      "text/plain": [
       "[array([[28, 19, 59, 32, 72, 59],\n",
       "        [27, 61, 34, 75, 28, 72]]),\n",
       " array([[27, 58, 83, 19, 68, 90],\n",
       "        [26, 58, 69, 57, 84, 99]])]"
      ]
     },
     "execution_count": 138,
     "metadata": {},
     "output_type": "execute_result"
    }
   ],
   "source": [
    "np.vsplit(mat1, 2)"
   ]
  },
  {
   "cell_type": "code",
   "execution_count": 147,
   "id": "bb4da893",
   "metadata": {},
   "outputs": [
    {
     "data": {
      "text/plain": [
       "array([[ 1,  2,  3,  4],\n",
       "       [ 1,  4,  9, 16],\n",
       "       [ 1,  8, 27, 64]])"
      ]
     },
     "execution_count": 147,
     "metadata": {},
     "output_type": "execute_result"
    }
   ],
   "source": [
    "np.vstack(\n",
    "    (np.arange(1,5), np.arange(1,5)**2, np.arange(1,5)**3)\n",
    ")"
   ]
  },
  {
   "cell_type": "code",
   "execution_count": 146,
   "id": "1fa7def8",
   "metadata": {},
   "outputs": [
    {
     "data": {
      "text/plain": [
       "array([ 1,  2,  3,  4,  1,  4,  9, 16,  1,  8, 27, 64])"
      ]
     },
     "execution_count": 146,
     "metadata": {},
     "output_type": "execute_result"
    }
   ],
   "source": [
    "np.hstack(\n",
    "    (np.arange(1,5), np.arange(1,5)**2, np.arange(1,5)**3)\n",
    ")"
   ]
  },
  {
   "cell_type": "code",
   "execution_count": null,
   "id": "92653171",
   "metadata": {},
   "outputs": [],
   "source": []
  },
  {
   "cell_type": "code",
   "execution_count": null,
   "id": "21a9dbcb",
   "metadata": {},
   "outputs": [],
   "source": []
  }
 ],
 "metadata": {
  "kernelspec": {
   "display_name": "Python 3 (ipykernel)",
   "language": "python",
   "name": "python3"
  },
  "language_info": {
   "codemirror_mode": {
    "name": "ipython",
    "version": 3
   },
   "file_extension": ".py",
   "mimetype": "text/x-python",
   "name": "python",
   "nbconvert_exporter": "python",
   "pygments_lexer": "ipython3",
   "version": "3.10.6"
  }
 },
 "nbformat": 4,
 "nbformat_minor": 5
}
