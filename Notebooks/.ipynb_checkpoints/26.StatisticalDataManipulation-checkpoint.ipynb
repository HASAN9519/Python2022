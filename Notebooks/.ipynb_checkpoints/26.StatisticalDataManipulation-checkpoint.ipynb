{
 "cells": [
  {
   "cell_type": "markdown",
   "id": "35bd7bf2",
   "metadata": {
    "toc": true
   },
   "source": [
    "<h1>Table of Contents<span class=\"tocSkip\"></span></h1>\n",
    "<div class=\"toc\"><ul class=\"toc-item\"><li><span><a href=\"#replace\" data-toc-modified-id=\"replace-1\"><span class=\"toc-item-num\">1&nbsp;&nbsp;</span>replace</a></span></li><li><span><a href=\"#drop_duplicates()\" data-toc-modified-id=\"drop_duplicates()-2\"><span class=\"toc-item-num\">2&nbsp;&nbsp;</span>drop_duplicates()</a></span></li><li><span><a href=\"#plotting\" data-toc-modified-id=\"plotting-3\"><span class=\"toc-item-num\">3&nbsp;&nbsp;</span>plotting</a></span></li><li><span><a href=\"#outlier-detection\" data-toc-modified-id=\"outlier-detection-4\"><span class=\"toc-item-num\">4&nbsp;&nbsp;</span>outlier detection</a></span></li></ul></div>"
   ]
  },
  {
   "cell_type": "code",
   "execution_count": 1,
   "id": "3dfbeadb",
   "metadata": {},
   "outputs": [],
   "source": [
    "import numpy as np\n",
    "import pandas as pd"
   ]
  },
  {
   "cell_type": "code",
   "execution_count": 2,
   "id": "c64996fc",
   "metadata": {},
   "outputs": [
    {
     "data": {
      "text/html": [
       "<div>\n",
       "<style scoped>\n",
       "    .dataframe tbody tr th:only-of-type {\n",
       "        vertical-align: middle;\n",
       "    }\n",
       "\n",
       "    .dataframe tbody tr th {\n",
       "        vertical-align: top;\n",
       "    }\n",
       "\n",
       "    .dataframe thead th {\n",
       "        text-align: right;\n",
       "    }\n",
       "</style>\n",
       "<table border=\"1\" class=\"dataframe\">\n",
       "  <thead>\n",
       "    <tr style=\"text-align: right;\">\n",
       "      <th></th>\n",
       "      <th>SL</th>\n",
       "      <th>SW</th>\n",
       "      <th>PL</th>\n",
       "      <th>PW</th>\n",
       "      <th>Species</th>\n",
       "    </tr>\n",
       "  </thead>\n",
       "  <tbody>\n",
       "    <tr>\n",
       "      <th>0</th>\n",
       "      <td>5.1</td>\n",
       "      <td>3.5</td>\n",
       "      <td>1.4</td>\n",
       "      <td>0.2</td>\n",
       "      <td>Iris-setosa</td>\n",
       "    </tr>\n",
       "    <tr>\n",
       "      <th>1</th>\n",
       "      <td>4.9</td>\n",
       "      <td>3.0</td>\n",
       "      <td>1.4</td>\n",
       "      <td>0.2</td>\n",
       "      <td>Iris-setosa</td>\n",
       "    </tr>\n",
       "    <tr>\n",
       "      <th>2</th>\n",
       "      <td>4.7</td>\n",
       "      <td>3.2</td>\n",
       "      <td>1.3</td>\n",
       "      <td>0.2</td>\n",
       "      <td>Iris-setosa</td>\n",
       "    </tr>\n",
       "    <tr>\n",
       "      <th>3</th>\n",
       "      <td>4.6</td>\n",
       "      <td>3.1</td>\n",
       "      <td>1.5</td>\n",
       "      <td>0.2</td>\n",
       "      <td>Iris-setosa</td>\n",
       "    </tr>\n",
       "    <tr>\n",
       "      <th>4</th>\n",
       "      <td>5.0</td>\n",
       "      <td>3.6</td>\n",
       "      <td>1.4</td>\n",
       "      <td>0.2</td>\n",
       "      <td>Iris-setosa</td>\n",
       "    </tr>\n",
       "    <tr>\n",
       "      <th>...</th>\n",
       "      <td>...</td>\n",
       "      <td>...</td>\n",
       "      <td>...</td>\n",
       "      <td>...</td>\n",
       "      <td>...</td>\n",
       "    </tr>\n",
       "    <tr>\n",
       "      <th>145</th>\n",
       "      <td>6.7</td>\n",
       "      <td>3.0</td>\n",
       "      <td>5.2</td>\n",
       "      <td>2.3</td>\n",
       "      <td>Iris-virginica</td>\n",
       "    </tr>\n",
       "    <tr>\n",
       "      <th>146</th>\n",
       "      <td>6.3</td>\n",
       "      <td>2.5</td>\n",
       "      <td>5.0</td>\n",
       "      <td>1.9</td>\n",
       "      <td>Iris-virginica</td>\n",
       "    </tr>\n",
       "    <tr>\n",
       "      <th>147</th>\n",
       "      <td>6.5</td>\n",
       "      <td>3.0</td>\n",
       "      <td>5.2</td>\n",
       "      <td>2.0</td>\n",
       "      <td>Iris-virginica</td>\n",
       "    </tr>\n",
       "    <tr>\n",
       "      <th>148</th>\n",
       "      <td>6.2</td>\n",
       "      <td>3.4</td>\n",
       "      <td>5.4</td>\n",
       "      <td>2.3</td>\n",
       "      <td>Iris-virginica</td>\n",
       "    </tr>\n",
       "    <tr>\n",
       "      <th>149</th>\n",
       "      <td>5.9</td>\n",
       "      <td>3.0</td>\n",
       "      <td>5.1</td>\n",
       "      <td>1.8</td>\n",
       "      <td>Iris-virginica</td>\n",
       "    </tr>\n",
       "  </tbody>\n",
       "</table>\n",
       "<p>150 rows × 5 columns</p>\n",
       "</div>"
      ],
      "text/plain": [
       "      SL   SW   PL   PW         Species\n",
       "0    5.1  3.5  1.4  0.2     Iris-setosa\n",
       "1    4.9  3.0  1.4  0.2     Iris-setosa\n",
       "2    4.7  3.2  1.3  0.2     Iris-setosa\n",
       "3    4.6  3.1  1.5  0.2     Iris-setosa\n",
       "4    5.0  3.6  1.4  0.2     Iris-setosa\n",
       "..   ...  ...  ...  ...             ...\n",
       "145  6.7  3.0  5.2  2.3  Iris-virginica\n",
       "146  6.3  2.5  5.0  1.9  Iris-virginica\n",
       "147  6.5  3.0  5.2  2.0  Iris-virginica\n",
       "148  6.2  3.4  5.4  2.3  Iris-virginica\n",
       "149  5.9  3.0  5.1  1.8  Iris-virginica\n",
       "\n",
       "[150 rows x 5 columns]"
      ]
     },
     "execution_count": 2,
     "metadata": {},
     "output_type": "execute_result"
    }
   ],
   "source": [
    "source = \"https://archive.ics.uci.edu/ml/machine-learning-databases/iris/iris.data\"\n",
    "columns = ['SL','SW','PL','PW','Species']\n",
    "df = pd.read_csv(source, names=columns)\n",
    "df"
   ]
  },
  {
   "cell_type": "code",
   "execution_count": 3,
   "id": "111e666b",
   "metadata": {},
   "outputs": [
    {
     "data": {
      "text/html": [
       "<div>\n",
       "<style scoped>\n",
       "    .dataframe tbody tr th:only-of-type {\n",
       "        vertical-align: middle;\n",
       "    }\n",
       "\n",
       "    .dataframe tbody tr th {\n",
       "        vertical-align: top;\n",
       "    }\n",
       "\n",
       "    .dataframe thead th {\n",
       "        text-align: right;\n",
       "    }\n",
       "</style>\n",
       "<table border=\"1\" class=\"dataframe\">\n",
       "  <thead>\n",
       "    <tr style=\"text-align: right;\">\n",
       "      <th></th>\n",
       "      <th>count</th>\n",
       "      <th>mean</th>\n",
       "      <th>std</th>\n",
       "      <th>min</th>\n",
       "      <th>25%</th>\n",
       "      <th>50%</th>\n",
       "      <th>75%</th>\n",
       "      <th>max</th>\n",
       "    </tr>\n",
       "  </thead>\n",
       "  <tbody>\n",
       "    <tr>\n",
       "      <th>SL</th>\n",
       "      <td>150.0</td>\n",
       "      <td>5.843333</td>\n",
       "      <td>0.828066</td>\n",
       "      <td>4.3</td>\n",
       "      <td>5.1</td>\n",
       "      <td>5.80</td>\n",
       "      <td>6.4</td>\n",
       "      <td>7.9</td>\n",
       "    </tr>\n",
       "    <tr>\n",
       "      <th>SW</th>\n",
       "      <td>150.0</td>\n",
       "      <td>3.054000</td>\n",
       "      <td>0.433594</td>\n",
       "      <td>2.0</td>\n",
       "      <td>2.8</td>\n",
       "      <td>3.00</td>\n",
       "      <td>3.3</td>\n",
       "      <td>4.4</td>\n",
       "    </tr>\n",
       "    <tr>\n",
       "      <th>PL</th>\n",
       "      <td>150.0</td>\n",
       "      <td>3.758667</td>\n",
       "      <td>1.764420</td>\n",
       "      <td>1.0</td>\n",
       "      <td>1.6</td>\n",
       "      <td>4.35</td>\n",
       "      <td>5.1</td>\n",
       "      <td>6.9</td>\n",
       "    </tr>\n",
       "    <tr>\n",
       "      <th>PW</th>\n",
       "      <td>150.0</td>\n",
       "      <td>1.198667</td>\n",
       "      <td>0.763161</td>\n",
       "      <td>0.1</td>\n",
       "      <td>0.3</td>\n",
       "      <td>1.30</td>\n",
       "      <td>1.8</td>\n",
       "      <td>2.5</td>\n",
       "    </tr>\n",
       "  </tbody>\n",
       "</table>\n",
       "</div>"
      ],
      "text/plain": [
       "    count      mean       std  min  25%   50%  75%  max\n",
       "SL  150.0  5.843333  0.828066  4.3  5.1  5.80  6.4  7.9\n",
       "SW  150.0  3.054000  0.433594  2.0  2.8  3.00  3.3  4.4\n",
       "PL  150.0  3.758667  1.764420  1.0  1.6  4.35  5.1  6.9\n",
       "PW  150.0  1.198667  0.763161  0.1  0.3  1.30  1.8  2.5"
      ]
     },
     "execution_count": 3,
     "metadata": {},
     "output_type": "execute_result"
    }
   ],
   "source": [
    "df.describe().T"
   ]
  },
  {
   "cell_type": "code",
   "execution_count": 4,
   "id": "a84c9b77",
   "metadata": {},
   "outputs": [
    {
     "data": {
      "text/plain": [
       "Iris-setosa        50\n",
       "Iris-versicolor    50\n",
       "Iris-virginica     50\n",
       "Name: Species, dtype: int64"
      ]
     },
     "execution_count": 4,
     "metadata": {},
     "output_type": "execute_result"
    }
   ],
   "source": [
    "df.Species.value_counts()"
   ]
  },
  {
   "cell_type": "code",
   "execution_count": 5,
   "id": "77bc3fe6",
   "metadata": {},
   "outputs": [
    {
     "data": {
      "text/html": [
       "<div>\n",
       "<style scoped>\n",
       "    .dataframe tbody tr th:only-of-type {\n",
       "        vertical-align: middle;\n",
       "    }\n",
       "\n",
       "    .dataframe tbody tr th {\n",
       "        vertical-align: top;\n",
       "    }\n",
       "\n",
       "    .dataframe thead th {\n",
       "        text-align: right;\n",
       "    }\n",
       "</style>\n",
       "<table border=\"1\" class=\"dataframe\">\n",
       "  <thead>\n",
       "    <tr style=\"text-align: right;\">\n",
       "      <th></th>\n",
       "      <th>SL</th>\n",
       "      <th>SW</th>\n",
       "      <th>PL</th>\n",
       "      <th>PW</th>\n",
       "    </tr>\n",
       "  </thead>\n",
       "  <tbody>\n",
       "    <tr>\n",
       "      <th>SL</th>\n",
       "      <td>1.000000</td>\n",
       "      <td>-0.109369</td>\n",
       "      <td>0.871754</td>\n",
       "      <td>0.817954</td>\n",
       "    </tr>\n",
       "    <tr>\n",
       "      <th>SW</th>\n",
       "      <td>-0.109369</td>\n",
       "      <td>1.000000</td>\n",
       "      <td>-0.420516</td>\n",
       "      <td>-0.356544</td>\n",
       "    </tr>\n",
       "    <tr>\n",
       "      <th>PL</th>\n",
       "      <td>0.871754</td>\n",
       "      <td>-0.420516</td>\n",
       "      <td>1.000000</td>\n",
       "      <td>0.962757</td>\n",
       "    </tr>\n",
       "    <tr>\n",
       "      <th>PW</th>\n",
       "      <td>0.817954</td>\n",
       "      <td>-0.356544</td>\n",
       "      <td>0.962757</td>\n",
       "      <td>1.000000</td>\n",
       "    </tr>\n",
       "  </tbody>\n",
       "</table>\n",
       "</div>"
      ],
      "text/plain": [
       "          SL        SW        PL        PW\n",
       "SL  1.000000 -0.109369  0.871754  0.817954\n",
       "SW -0.109369  1.000000 -0.420516 -0.356544\n",
       "PL  0.871754 -0.420516  1.000000  0.962757\n",
       "PW  0.817954 -0.356544  0.962757  1.000000"
      ]
     },
     "execution_count": 5,
     "metadata": {},
     "output_type": "execute_result"
    }
   ],
   "source": [
    "df.corr()"
   ]
  },
  {
   "cell_type": "code",
   "execution_count": 6,
   "id": "5910d1fe",
   "metadata": {},
   "outputs": [
    {
     "data": {
      "text/html": [
       "<div>\n",
       "<style scoped>\n",
       "    .dataframe tbody tr th:only-of-type {\n",
       "        vertical-align: middle;\n",
       "    }\n",
       "\n",
       "    .dataframe tbody tr th {\n",
       "        vertical-align: top;\n",
       "    }\n",
       "\n",
       "    .dataframe thead th {\n",
       "        text-align: right;\n",
       "    }\n",
       "</style>\n",
       "<table border=\"1\" class=\"dataframe\">\n",
       "  <thead>\n",
       "    <tr style=\"text-align: right;\">\n",
       "      <th></th>\n",
       "      <th>PL</th>\n",
       "    </tr>\n",
       "  </thead>\n",
       "  <tbody>\n",
       "    <tr>\n",
       "      <th>SL</th>\n",
       "      <td>0.871754</td>\n",
       "    </tr>\n",
       "    <tr>\n",
       "      <th>SW</th>\n",
       "      <td>-0.420516</td>\n",
       "    </tr>\n",
       "    <tr>\n",
       "      <th>PL</th>\n",
       "      <td>1.000000</td>\n",
       "    </tr>\n",
       "    <tr>\n",
       "      <th>PW</th>\n",
       "      <td>0.962757</td>\n",
       "    </tr>\n",
       "  </tbody>\n",
       "</table>\n",
       "</div>"
      ],
      "text/plain": [
       "          PL\n",
       "SL  0.871754\n",
       "SW -0.420516\n",
       "PL  1.000000\n",
       "PW  0.962757"
      ]
     },
     "execution_count": 6,
     "metadata": {},
     "output_type": "execute_result"
    }
   ],
   "source": [
    "# correlation of PL with others\n",
    "df.corr()[['PL']]"
   ]
  },
  {
   "cell_type": "code",
   "execution_count": 7,
   "id": "9075ceb2",
   "metadata": {},
   "outputs": [
    {
     "data": {
      "text/plain": [
       "PL    0.871754\n",
       "Name: SL, dtype: float64"
      ]
     },
     "execution_count": 7,
     "metadata": {},
     "output_type": "execute_result"
    }
   ],
   "source": [
    "df.corr()[['PL']].loc['SL']"
   ]
  },
  {
   "cell_type": "code",
   "execution_count": 8,
   "id": "ae7e9fe6",
   "metadata": {},
   "outputs": [
    {
     "data": {
      "text/plain": [
       "SL    1.000000\n",
       "SW   -0.109369\n",
       "PL    0.871754\n",
       "PW    0.817954\n",
       "dtype: float64"
      ]
     },
     "execution_count": 8,
     "metadata": {},
     "output_type": "execute_result"
    }
   ],
   "source": [
    "# correlation of SL with others\n",
    "df.corrwith(df.SL)"
   ]
  },
  {
   "cell_type": "code",
   "execution_count": 9,
   "id": "a0ac9ac1",
   "metadata": {},
   "outputs": [
    {
     "data": {
      "text/html": [
       "<div>\n",
       "<style scoped>\n",
       "    .dataframe tbody tr th:only-of-type {\n",
       "        vertical-align: middle;\n",
       "    }\n",
       "\n",
       "    .dataframe tbody tr th {\n",
       "        vertical-align: top;\n",
       "    }\n",
       "\n",
       "    .dataframe thead th {\n",
       "        text-align: right;\n",
       "    }\n",
       "</style>\n",
       "<table border=\"1\" class=\"dataframe\">\n",
       "  <thead>\n",
       "    <tr style=\"text-align: right;\">\n",
       "      <th></th>\n",
       "      <th>SL</th>\n",
       "      <th>SW</th>\n",
       "      <th>PL</th>\n",
       "      <th>PW</th>\n",
       "    </tr>\n",
       "    <tr>\n",
       "      <th>Species</th>\n",
       "      <th></th>\n",
       "      <th></th>\n",
       "      <th></th>\n",
       "      <th></th>\n",
       "    </tr>\n",
       "  </thead>\n",
       "  <tbody>\n",
       "    <tr>\n",
       "      <th>Iris-setosa</th>\n",
       "      <td>50</td>\n",
       "      <td>50</td>\n",
       "      <td>50</td>\n",
       "      <td>50</td>\n",
       "    </tr>\n",
       "    <tr>\n",
       "      <th>Iris-versicolor</th>\n",
       "      <td>50</td>\n",
       "      <td>50</td>\n",
       "      <td>50</td>\n",
       "      <td>50</td>\n",
       "    </tr>\n",
       "    <tr>\n",
       "      <th>Iris-virginica</th>\n",
       "      <td>50</td>\n",
       "      <td>50</td>\n",
       "      <td>50</td>\n",
       "      <td>50</td>\n",
       "    </tr>\n",
       "  </tbody>\n",
       "</table>\n",
       "</div>"
      ],
      "text/plain": [
       "                 SL  SW  PL  PW\n",
       "Species                        \n",
       "Iris-setosa      50  50  50  50\n",
       "Iris-versicolor  50  50  50  50\n",
       "Iris-virginica   50  50  50  50"
      ]
     },
     "execution_count": 9,
     "metadata": {},
     "output_type": "execute_result"
    }
   ],
   "source": [
    "# groupby based on Species\n",
    "df.groupby(by='Species').count()"
   ]
  },
  {
   "cell_type": "code",
   "execution_count": 10,
   "id": "90cb3ac5",
   "metadata": {},
   "outputs": [
    {
     "data": {
      "text/html": [
       "<div>\n",
       "<style scoped>\n",
       "    .dataframe tbody tr th:only-of-type {\n",
       "        vertical-align: middle;\n",
       "    }\n",
       "\n",
       "    .dataframe tbody tr th {\n",
       "        vertical-align: top;\n",
       "    }\n",
       "\n",
       "    .dataframe thead th {\n",
       "        text-align: right;\n",
       "    }\n",
       "</style>\n",
       "<table border=\"1\" class=\"dataframe\">\n",
       "  <thead>\n",
       "    <tr style=\"text-align: right;\">\n",
       "      <th></th>\n",
       "      <th>SL</th>\n",
       "      <th>SW</th>\n",
       "      <th>PL</th>\n",
       "      <th>PW</th>\n",
       "    </tr>\n",
       "    <tr>\n",
       "      <th>Species</th>\n",
       "      <th></th>\n",
       "      <th></th>\n",
       "      <th></th>\n",
       "      <th></th>\n",
       "    </tr>\n",
       "  </thead>\n",
       "  <tbody>\n",
       "    <tr>\n",
       "      <th>Iris-setosa</th>\n",
       "      <td>5.006</td>\n",
       "      <td>3.418</td>\n",
       "      <td>1.464</td>\n",
       "      <td>0.244</td>\n",
       "    </tr>\n",
       "    <tr>\n",
       "      <th>Iris-versicolor</th>\n",
       "      <td>5.936</td>\n",
       "      <td>2.770</td>\n",
       "      <td>4.260</td>\n",
       "      <td>1.326</td>\n",
       "    </tr>\n",
       "    <tr>\n",
       "      <th>Iris-virginica</th>\n",
       "      <td>6.588</td>\n",
       "      <td>2.974</td>\n",
       "      <td>5.552</td>\n",
       "      <td>2.026</td>\n",
       "    </tr>\n",
       "  </tbody>\n",
       "</table>\n",
       "</div>"
      ],
      "text/plain": [
       "                    SL     SW     PL     PW\n",
       "Species                                    \n",
       "Iris-setosa      5.006  3.418  1.464  0.244\n",
       "Iris-versicolor  5.936  2.770  4.260  1.326\n",
       "Iris-virginica   6.588  2.974  5.552  2.026"
      ]
     },
     "execution_count": 10,
     "metadata": {},
     "output_type": "execute_result"
    }
   ],
   "source": [
    "df.groupby(by='Species').mean()"
   ]
  },
  {
   "cell_type": "code",
   "execution_count": 11,
   "id": "188db492",
   "metadata": {},
   "outputs": [
    {
     "data": {
      "text/html": [
       "<div>\n",
       "<style scoped>\n",
       "    .dataframe tbody tr th:only-of-type {\n",
       "        vertical-align: middle;\n",
       "    }\n",
       "\n",
       "    .dataframe tbody tr th {\n",
       "        vertical-align: top;\n",
       "    }\n",
       "\n",
       "    .dataframe thead th {\n",
       "        text-align: right;\n",
       "    }\n",
       "</style>\n",
       "<table border=\"1\" class=\"dataframe\">\n",
       "  <thead>\n",
       "    <tr style=\"text-align: right;\">\n",
       "      <th></th>\n",
       "      <th>SL</th>\n",
       "      <th>SW</th>\n",
       "      <th>PL</th>\n",
       "      <th>PW</th>\n",
       "    </tr>\n",
       "    <tr>\n",
       "      <th>Species</th>\n",
       "      <th></th>\n",
       "      <th></th>\n",
       "      <th></th>\n",
       "      <th></th>\n",
       "    </tr>\n",
       "  </thead>\n",
       "  <tbody>\n",
       "    <tr>\n",
       "      <th>Iris-setosa</th>\n",
       "      <td>0.352490</td>\n",
       "      <td>0.381024</td>\n",
       "      <td>0.173511</td>\n",
       "      <td>0.107210</td>\n",
       "    </tr>\n",
       "    <tr>\n",
       "      <th>Iris-versicolor</th>\n",
       "      <td>0.516171</td>\n",
       "      <td>0.313798</td>\n",
       "      <td>0.469911</td>\n",
       "      <td>0.197753</td>\n",
       "    </tr>\n",
       "    <tr>\n",
       "      <th>Iris-virginica</th>\n",
       "      <td>0.635880</td>\n",
       "      <td>0.322497</td>\n",
       "      <td>0.551895</td>\n",
       "      <td>0.274650</td>\n",
       "    </tr>\n",
       "  </tbody>\n",
       "</table>\n",
       "</div>"
      ],
      "text/plain": [
       "                       SL        SW        PL        PW\n",
       "Species                                                \n",
       "Iris-setosa      0.352490  0.381024  0.173511  0.107210\n",
       "Iris-versicolor  0.516171  0.313798  0.469911  0.197753\n",
       "Iris-virginica   0.635880  0.322497  0.551895  0.274650"
      ]
     },
     "execution_count": 11,
     "metadata": {},
     "output_type": "execute_result"
    }
   ],
   "source": [
    "df.groupby(by='Species').std()"
   ]
  },
  {
   "cell_type": "code",
   "execution_count": 12,
   "id": "4be09076",
   "metadata": {},
   "outputs": [
    {
     "data": {
      "text/plain": [
       "SL         float64\n",
       "SW         float64\n",
       "PL         float64\n",
       "PW         float64\n",
       "Species     object\n",
       "dtype: object"
      ]
     },
     "execution_count": 12,
     "metadata": {},
     "output_type": "execute_result"
    }
   ],
   "source": [
    "df.dtypes"
   ]
  },
  {
   "cell_type": "markdown",
   "id": "1260aef6",
   "metadata": {},
   "source": [
    "### replace"
   ]
  },
  {
   "cell_type": "code",
   "execution_count": 13,
   "id": "8184d729",
   "metadata": {},
   "outputs": [],
   "source": [
    "# can replace Species name\n",
    "df1 = df[[\"SL\", \"SW\", \"PL\", \"PW\", \"Species\"]]\n",
    "df1.Species = df1.Species.replace({'Iris-setosa':0, 'Iris-versicolor':1, 'Iris-virginica':2})"
   ]
  },
  {
   "cell_type": "code",
   "execution_count": 14,
   "id": "6fb88458",
   "metadata": {},
   "outputs": [
    {
     "data": {
      "text/html": [
       "<div>\n",
       "<style scoped>\n",
       "    .dataframe tbody tr th:only-of-type {\n",
       "        vertical-align: middle;\n",
       "    }\n",
       "\n",
       "    .dataframe tbody tr th {\n",
       "        vertical-align: top;\n",
       "    }\n",
       "\n",
       "    .dataframe thead th {\n",
       "        text-align: right;\n",
       "    }\n",
       "</style>\n",
       "<table border=\"1\" class=\"dataframe\">\n",
       "  <thead>\n",
       "    <tr style=\"text-align: right;\">\n",
       "      <th></th>\n",
       "      <th>SL</th>\n",
       "      <th>SW</th>\n",
       "      <th>PL</th>\n",
       "      <th>PW</th>\n",
       "      <th>Species</th>\n",
       "    </tr>\n",
       "  </thead>\n",
       "  <tbody>\n",
       "    <tr>\n",
       "      <th>0</th>\n",
       "      <td>5.1</td>\n",
       "      <td>3.5</td>\n",
       "      <td>1.4</td>\n",
       "      <td>0.2</td>\n",
       "      <td>0</td>\n",
       "    </tr>\n",
       "    <tr>\n",
       "      <th>1</th>\n",
       "      <td>4.9</td>\n",
       "      <td>3.0</td>\n",
       "      <td>1.4</td>\n",
       "      <td>0.2</td>\n",
       "      <td>0</td>\n",
       "    </tr>\n",
       "    <tr>\n",
       "      <th>2</th>\n",
       "      <td>4.7</td>\n",
       "      <td>3.2</td>\n",
       "      <td>1.3</td>\n",
       "      <td>0.2</td>\n",
       "      <td>0</td>\n",
       "    </tr>\n",
       "    <tr>\n",
       "      <th>3</th>\n",
       "      <td>4.6</td>\n",
       "      <td>3.1</td>\n",
       "      <td>1.5</td>\n",
       "      <td>0.2</td>\n",
       "      <td>0</td>\n",
       "    </tr>\n",
       "    <tr>\n",
       "      <th>4</th>\n",
       "      <td>5.0</td>\n",
       "      <td>3.6</td>\n",
       "      <td>1.4</td>\n",
       "      <td>0.2</td>\n",
       "      <td>0</td>\n",
       "    </tr>\n",
       "    <tr>\n",
       "      <th>...</th>\n",
       "      <td>...</td>\n",
       "      <td>...</td>\n",
       "      <td>...</td>\n",
       "      <td>...</td>\n",
       "      <td>...</td>\n",
       "    </tr>\n",
       "    <tr>\n",
       "      <th>145</th>\n",
       "      <td>6.7</td>\n",
       "      <td>3.0</td>\n",
       "      <td>5.2</td>\n",
       "      <td>2.3</td>\n",
       "      <td>2</td>\n",
       "    </tr>\n",
       "    <tr>\n",
       "      <th>146</th>\n",
       "      <td>6.3</td>\n",
       "      <td>2.5</td>\n",
       "      <td>5.0</td>\n",
       "      <td>1.9</td>\n",
       "      <td>2</td>\n",
       "    </tr>\n",
       "    <tr>\n",
       "      <th>147</th>\n",
       "      <td>6.5</td>\n",
       "      <td>3.0</td>\n",
       "      <td>5.2</td>\n",
       "      <td>2.0</td>\n",
       "      <td>2</td>\n",
       "    </tr>\n",
       "    <tr>\n",
       "      <th>148</th>\n",
       "      <td>6.2</td>\n",
       "      <td>3.4</td>\n",
       "      <td>5.4</td>\n",
       "      <td>2.3</td>\n",
       "      <td>2</td>\n",
       "    </tr>\n",
       "    <tr>\n",
       "      <th>149</th>\n",
       "      <td>5.9</td>\n",
       "      <td>3.0</td>\n",
       "      <td>5.1</td>\n",
       "      <td>1.8</td>\n",
       "      <td>2</td>\n",
       "    </tr>\n",
       "  </tbody>\n",
       "</table>\n",
       "<p>150 rows × 5 columns</p>\n",
       "</div>"
      ],
      "text/plain": [
       "      SL   SW   PL   PW  Species\n",
       "0    5.1  3.5  1.4  0.2        0\n",
       "1    4.9  3.0  1.4  0.2        0\n",
       "2    4.7  3.2  1.3  0.2        0\n",
       "3    4.6  3.1  1.5  0.2        0\n",
       "4    5.0  3.6  1.4  0.2        0\n",
       "..   ...  ...  ...  ...      ...\n",
       "145  6.7  3.0  5.2  2.3        2\n",
       "146  6.3  2.5  5.0  1.9        2\n",
       "147  6.5  3.0  5.2  2.0        2\n",
       "148  6.2  3.4  5.4  2.3        2\n",
       "149  5.9  3.0  5.1  1.8        2\n",
       "\n",
       "[150 rows x 5 columns]"
      ]
     },
     "execution_count": 14,
     "metadata": {},
     "output_type": "execute_result"
    }
   ],
   "source": [
    "df1"
   ]
  },
  {
   "cell_type": "code",
   "execution_count": 15,
   "id": "2846d6ea",
   "metadata": {},
   "outputs": [
    {
     "data": {
      "text/plain": [
       "SL         float64\n",
       "SW         float64\n",
       "PL         float64\n",
       "PW         float64\n",
       "Species      int64\n",
       "dtype: object"
      ]
     },
     "execution_count": 15,
     "metadata": {},
     "output_type": "execute_result"
    }
   ],
   "source": [
    "df1.dtypes"
   ]
  },
  {
   "cell_type": "markdown",
   "id": "f8a44c6f",
   "metadata": {},
   "source": [
    "### drop_duplicates()"
   ]
  },
  {
   "cell_type": "code",
   "execution_count": 16,
   "id": "9b1fe4a0",
   "metadata": {},
   "outputs": [
    {
     "data": {
      "text/html": [
       "<div>\n",
       "<style scoped>\n",
       "    .dataframe tbody tr th:only-of-type {\n",
       "        vertical-align: middle;\n",
       "    }\n",
       "\n",
       "    .dataframe tbody tr th {\n",
       "        vertical-align: top;\n",
       "    }\n",
       "\n",
       "    .dataframe thead th {\n",
       "        text-align: right;\n",
       "    }\n",
       "</style>\n",
       "<table border=\"1\" class=\"dataframe\">\n",
       "  <thead>\n",
       "    <tr style=\"text-align: right;\">\n",
       "      <th></th>\n",
       "      <th>SL</th>\n",
       "      <th>SW</th>\n",
       "      <th>PL</th>\n",
       "      <th>PW</th>\n",
       "      <th>Species</th>\n",
       "    </tr>\n",
       "  </thead>\n",
       "  <tbody>\n",
       "    <tr>\n",
       "      <th>0</th>\n",
       "      <td>5.1</td>\n",
       "      <td>3.5</td>\n",
       "      <td>1.4</td>\n",
       "      <td>0.2</td>\n",
       "      <td>0</td>\n",
       "    </tr>\n",
       "    <tr>\n",
       "      <th>1</th>\n",
       "      <td>4.9</td>\n",
       "      <td>3.0</td>\n",
       "      <td>1.4</td>\n",
       "      <td>0.2</td>\n",
       "      <td>0</td>\n",
       "    </tr>\n",
       "    <tr>\n",
       "      <th>2</th>\n",
       "      <td>4.7</td>\n",
       "      <td>3.2</td>\n",
       "      <td>1.3</td>\n",
       "      <td>0.2</td>\n",
       "      <td>0</td>\n",
       "    </tr>\n",
       "    <tr>\n",
       "      <th>3</th>\n",
       "      <td>4.6</td>\n",
       "      <td>3.1</td>\n",
       "      <td>1.5</td>\n",
       "      <td>0.2</td>\n",
       "      <td>0</td>\n",
       "    </tr>\n",
       "    <tr>\n",
       "      <th>4</th>\n",
       "      <td>5.0</td>\n",
       "      <td>3.6</td>\n",
       "      <td>1.4</td>\n",
       "      <td>0.2</td>\n",
       "      <td>0</td>\n",
       "    </tr>\n",
       "    <tr>\n",
       "      <th>...</th>\n",
       "      <td>...</td>\n",
       "      <td>...</td>\n",
       "      <td>...</td>\n",
       "      <td>...</td>\n",
       "      <td>...</td>\n",
       "    </tr>\n",
       "    <tr>\n",
       "      <th>145</th>\n",
       "      <td>6.7</td>\n",
       "      <td>3.0</td>\n",
       "      <td>5.2</td>\n",
       "      <td>2.3</td>\n",
       "      <td>2</td>\n",
       "    </tr>\n",
       "    <tr>\n",
       "      <th>146</th>\n",
       "      <td>6.3</td>\n",
       "      <td>2.5</td>\n",
       "      <td>5.0</td>\n",
       "      <td>1.9</td>\n",
       "      <td>2</td>\n",
       "    </tr>\n",
       "    <tr>\n",
       "      <th>147</th>\n",
       "      <td>6.5</td>\n",
       "      <td>3.0</td>\n",
       "      <td>5.2</td>\n",
       "      <td>2.0</td>\n",
       "      <td>2</td>\n",
       "    </tr>\n",
       "    <tr>\n",
       "      <th>148</th>\n",
       "      <td>6.2</td>\n",
       "      <td>3.4</td>\n",
       "      <td>5.4</td>\n",
       "      <td>2.3</td>\n",
       "      <td>2</td>\n",
       "    </tr>\n",
       "    <tr>\n",
       "      <th>149</th>\n",
       "      <td>5.9</td>\n",
       "      <td>3.0</td>\n",
       "      <td>5.1</td>\n",
       "      <td>1.8</td>\n",
       "      <td>2</td>\n",
       "    </tr>\n",
       "  </tbody>\n",
       "</table>\n",
       "<p>147 rows × 5 columns</p>\n",
       "</div>"
      ],
      "text/plain": [
       "      SL   SW   PL   PW  Species\n",
       "0    5.1  3.5  1.4  0.2        0\n",
       "1    4.9  3.0  1.4  0.2        0\n",
       "2    4.7  3.2  1.3  0.2        0\n",
       "3    4.6  3.1  1.5  0.2        0\n",
       "4    5.0  3.6  1.4  0.2        0\n",
       "..   ...  ...  ...  ...      ...\n",
       "145  6.7  3.0  5.2  2.3        2\n",
       "146  6.3  2.5  5.0  1.9        2\n",
       "147  6.5  3.0  5.2  2.0        2\n",
       "148  6.2  3.4  5.4  2.3        2\n",
       "149  5.9  3.0  5.1  1.8        2\n",
       "\n",
       "[147 rows x 5 columns]"
      ]
     },
     "execution_count": 16,
     "metadata": {},
     "output_type": "execute_result"
    }
   ],
   "source": [
    "df1.drop_duplicates(inplace=True)\n",
    "df1"
   ]
  },
  {
   "cell_type": "markdown",
   "id": "bbc31269",
   "metadata": {},
   "source": [
    "### plotting"
   ]
  },
  {
   "cell_type": "code",
   "execution_count": 17,
   "id": "9856e8a3",
   "metadata": {},
   "outputs": [
    {
     "data": {
      "text/plain": [
       "<AxesSubplot: ylabel='Frequency'>"
      ]
     },
     "execution_count": 17,
     "metadata": {},
     "output_type": "execute_result"
    },
    {
     "data": {
      "image/png": "[encoded data removed]",
      "text/plain": [
       "<Figure size 432x288 with 1 Axes>"
      ]
     },
     "metadata": {
      "needs_background": "light"
     },
     "output_type": "display_data"
    }
   ],
   "source": [
    "df.PL.plot(kind='hist', bins=5)"
   ]
  },
  {
   "cell_type": "code",
   "execution_count": 18,
   "id": "c671bf93",
   "metadata": {},
   "outputs": [
    {
     "data": {
      "text/plain": [
       "<AxesSubplot: ylabel='Frequency'>"
      ]
     },
     "execution_count": 18,
     "metadata": {},
     "output_type": "execute_result"
    },
    {
     "data": {
      "image/png": "[encoded data removed]",
      "text/plain": [
       "<Figure size 432x288 with 1 Axes>"
      ]
     },
     "metadata": {
      "needs_background": "light"
     },
     "output_type": "display_data"
    }
   ],
   "source": [
    "df.PL.plot.hist(bins=5)"
   ]
  },
  {
   "cell_type": "code",
   "execution_count": 20,
   "id": "504ae595",
   "metadata": {},
   "outputs": [
    {
     "data": {
      "text/plain": [
       "<AxesSubplot: xlabel='PL', ylabel='PW'>"
      ]
     },
     "execution_count": 20,
     "metadata": {},
     "output_type": "execute_result"
    },
    {
     "data": {
      "image/png": "[encoded data removed]",
      "text/plain": [
       "<Figure size 432x288 with 1 Axes>"
      ]
     },
     "metadata": {
      "needs_background": "light"
     },
     "output_type": "display_data"
    }
   ],
   "source": [
    "df.plot.scatter(x='PL',y='PW',c='DarkBlue')"
   ]
  },
  {
   "cell_type": "markdown",
   "id": "7eba955a",
   "metadata": {},
   "source": [
    "### outlier detection"
   ]
  },
  {
   "cell_type": "code",
   "execution_count": 21,
   "id": "841ff5ad",
   "metadata": {},
   "outputs": [
    {
     "data": {
      "text/plain": [
       "<AxesSubplot: >"
      ]
     },
     "execution_count": 21,
     "metadata": {},
     "output_type": "execute_result"
    },
    {
     "data": {
      "image/png": "[encoded data removed]",
      "text/plain": [
       "<Figure size 432x288 with 1 Axes>"
      ]
     },
     "metadata": {
      "needs_background": "light"
     },
     "output_type": "display_data"
    }
   ],
   "source": [
    "df.plot.box()"
   ]
  },
  {
   "cell_type": "code",
   "execution_count": 22,
   "id": "f4a2d955",
   "metadata": {},
   "outputs": [],
   "source": [
    "import matplotlib.pyplot as plt\n",
    "import seaborn as sns\n",
    "import ipywidgets"
   ]
  },
  {
   "cell_type": "code",
   "execution_count": 24,
   "id": "25179df7",
   "metadata": {},
   "outputs": [
    {
     "data": {
      "text/plain": [
       "<AxesSubplot: >"
      ]
     },
     "execution_count": 24,
     "metadata": {},
     "output_type": "execute_result"
    },
    {
     "data": {
      "application/vnd.jupyter.widget-view+json": {
       "model_id": "5c3caab921cf45a39d33b0087497cf2c",
       "version_major": 2,
       "version_minor": 0
      },
      "image/png": "[encoded data removed]",
      "text/html": [
       "\n",
       "            <div style=\"display: inline-block;\">\n",
       "                <div class=\"jupyter-widgets widget-label\" style=\"text-align: center;\">\n",
       "                    Figure\n",
       "                </div>\n",
       "                <img src='data:image/png;base64,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' width=640.0/>\n",
       "            </div>\n",
       "        "
      ],
      "text/plain": [
       "Canvas(toolbar=Toolbar(toolitems=[('Home', 'Reset original view', 'home', 'home'), ('Back', 'Back to previous …"
      ]
     },
     "metadata": {},
     "output_type": "display_data"
    }
   ],
   "source": [
    "%matplotlib widget\n",
    "sns.heatmap(df.corr(), annot=True)"
   ]
  },
  {
   "cell_type": "code",
   "execution_count": 25,
   "id": "5830a8ef",
   "metadata": {},
   "outputs": [
    {
     "data": {
      "text/plain": [
       "<AxesSubplot: xlabel='PL', ylabel='PW'>"
      ]
     },
     "execution_count": 25,
     "metadata": {},
     "output_type": "execute_result"
    },
    {
     "data": {
      "image/png": "[encoded data removed]",
      "text/plain": [
       "<Figure size 432x288 with 1 Axes>"
      ]
     },
     "metadata": {
      "needs_background": "light"
     },
     "output_type": "display_data"
    }
   ],
   "source": [
    "%matplotlib inline\n",
    "sns.scatterplot(data = df, x='PL',y='PW',hue='Species',palette='Set2') # palette is different color set"
   ]
  },
  {
   "cell_type": "code",
   "execution_count": 26,
   "id": "148738c3",
   "metadata": {},
   "outputs": [
    {
     "data": {
      "text/plain": [
       "<AxesSubplot: xlabel='PL', ylabel='PW'>"
      ]
     },
     "execution_count": 26,
     "metadata": {},
     "output_type": "execute_result"
    },
    {
     "data": {
      "image/png": "[encoded data removed]",
      "text/plain": [
       "<Figure size 432x288 with 1 Axes>"
      ]
     },
     "metadata": {},
     "output_type": "display_data"
    }
   ],
   "source": [
    "%matplotlib inline\n",
    "sns.set(style='darkgrid')\n",
    "sns.scatterplot(data = df, x='PL',y='PW',hue='Species',palette='Set2') # palette is different color set"
   ]
  },
  {
   "cell_type": "code",
   "execution_count": 27,
   "id": "bddb7518",
   "metadata": {},
   "outputs": [
    {
     "data": {
      "text/plain": [
       "<AxesSubplot: xlabel='PL', ylabel='PW'>"
      ]
     },
     "execution_count": 27,
     "metadata": {},
     "output_type": "execute_result"
    },
    {
     "data": {
      "image/png": "[encoded data removed]",
      "text/plain": [
       "<Figure size 432x288 with 1 Axes>"
      ]
     },
     "metadata": {},
     "output_type": "display_data"
    }
   ],
   "source": [
    "%matplotlib inline\n",
    "sns.set(style='darkgrid')\n",
    "sns.lineplot(data = df, x='PL',y='PW',hue='Species',palette='Set2') # palette is different color set"
   ]
  },
  {
   "cell_type": "code",
   "execution_count": 28,
   "id": "357de769",
   "metadata": {},
   "outputs": [
    {
     "data": {
      "text/plain": [
       "<AxesSubplot: xlabel='PL', ylabel='Count'>"
      ]
     },
     "execution_count": 28,
     "metadata": {},
     "output_type": "execute_result"
    },
    {
     "data": {
      "image/png": "[encoded data removed]",
      "text/plain": [
       "<Figure size 432x288 with 1 Axes>"
      ]
     },
     "metadata": {},
     "output_type": "display_data"
    }
   ],
   "source": [
    "%matplotlib inline\n",
    "sns.set(style='darkgrid')\n",
    "sns.histplot(data = df, x='PL', bins=6)"
   ]
  },
  {
   "cell_type": "code",
   "execution_count": 29,
   "id": "1b34e8ab",
   "metadata": {},
   "outputs": [
    {
     "data": {
      "text/plain": [
       "<AxesSubplot: >"
      ]
     },
     "execution_count": 29,
     "metadata": {},
     "output_type": "execute_result"
    },
    {
     "data": {
      "image/png": "[encoded data removed]",
      "text/plain": [
       "<Figure size 432x288 with 1 Axes>"
      ]
     },
     "metadata": {},
     "output_type": "display_data"
    }
   ],
   "source": [
    "sns.set(style='darkgrid')\n",
    "sns.boxplot(data = df)"
   ]
  },
  {
   "cell_type": "code",
   "execution_count": null,
   "id": "a3849ea1",
   "metadata": {},
   "outputs": [],
   "source": []
  }
 ],
 "metadata": {
  "kernelspec": {
   "display_name": "Python 3 (ipykernel)",
   "language": "python",
   "name": "python3"
  },
  "language_info": {
   "codemirror_mode": {
    "name": "ipython",
    "version": 3
   },
   "file_extension": ".py",
   "mimetype": "text/x-python",
   "name": "python",
   "nbconvert_exporter": "python",
   "pygments_lexer": "ipython3",
   "version": "3.10.6"
  },
  "toc": {
   "base_numbering": 1,
   "nav_menu": {},
   "number_sections": true,
   "sideBar": true,
   "skip_h1_title": false,
   "title_cell": "Table of Contents",
   "title_sidebar": "Contents",
   "toc_cell": true,
   "toc_position": {},
   "toc_section_display": true,
   "toc_window_display": false
  },
  "vscode": {
   "interpreter": {
    "hash": "369f2c481f4da34e4445cda3fffd2e751bd1c4d706f27375911949ba6bb62e1c"
   }
  }
 },
 "nbformat": 4,
 "nbformat_minor": 5
}
