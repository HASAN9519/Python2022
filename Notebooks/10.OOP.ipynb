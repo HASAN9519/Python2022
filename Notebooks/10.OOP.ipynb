{
  "cells": [
    {
      "cell_type": "markdown",
      "metadata": {
        "id": "bMfvUEKDAdg0"
      },
      "source": [
        "# OOP\n",
        "- Class\n",
        "- Object\n",
        "- Encapsulation\n",
        "- Abstraction\n",
        "- Inheritance\n",
        "- Polymorphism"
      ]
    },
    {
      "cell_type": "code",
      "execution_count": null,
      "metadata": {
        "id": "YDtmDOPNAdg2"
      },
      "outputs": [],
      "source": [
        "# Creating Class\n",
        "class Product:\n",
        "    # Class or GLobal Attributes\n",
        "    platform = 'AMAZON'\n",
        "\n",
        "    # Constructor\n",
        "    def __init__(self, pid: int, title: str, price: float) -> None:\n",
        "        self.pid = pid\n",
        "        self.title = title\n",
        "        self.price = price\n",
        "    \n",
        "    # Methods\n",
        "    def getInfo(self) -> str:\n",
        "        return (self.pid,self.title, self.price)\n",
        "\n",
        "    def getDiscount(self) -> float:\n",
        "        return self.price - (self.price * (15/100))\n",
        "    \n",
        "    def __repr__(self) -> str:\n",
        "        return f'Product(pid={self.pid}, title={self.title})'"
      ]
    },
    {
      "cell_type": "code",
      "execution_count": null,
      "metadata": {
        "id": "DxHlsIO-Adg3",
        "outputId": "ac964290-64e9-418a-ac78-fca2f69f5112"
      },
      "outputs": [
        {
          "name": "stdout",
          "output_type": "stream",
          "text": [
            "Product(pid=243, title=IPHONE)\n"
          ]
        }
      ],
      "source": [
        "# Creating Object From The class\n",
        "p1 = Product(243, 'IPHONE', 120000.00)\n",
        "p2 = Product(243, 'IPHONE X', 150000.00)\n",
        "print(p1)"
      ]
    },
    {
      "cell_type": "code",
      "execution_count": null,
      "metadata": {
        "id": "_DAHy1BUAdg4",
        "outputId": "37f618d2-92c8-47e8-bfc1-eb39b9c0fe39"
      },
      "outputs": [
        {
          "data": {
            "text/plain": [
              "120000.0"
            ]
          },
          "execution_count": 24,
          "metadata": {},
          "output_type": "execute_result"
        }
      ],
      "source": [
        "p1.title\n",
        "p1.price"
      ]
    },
    {
      "cell_type": "code",
      "execution_count": null,
      "metadata": {
        "id": "zY9oCjdlAdg5",
        "outputId": "cc5a2864-c8ef-4d0a-bc96-8b1fa649bc60"
      },
      "outputs": [
        {
          "data": {
            "text/plain": [
              "150000.0"
            ]
          },
          "execution_count": 17,
          "metadata": {},
          "output_type": "execute_result"
        }
      ],
      "source": [
        "p2.price"
      ]
    },
    {
      "cell_type": "code",
      "execution_count": null,
      "metadata": {
        "id": "mOJxFhF4Adg5",
        "outputId": "531bd485-4e73-46f4-d0f6-b1c5a45977cc"
      },
      "outputs": [
        {
          "data": {
            "text/plain": [
              "'AMAZON'"
            ]
          },
          "execution_count": 18,
          "metadata": {},
          "output_type": "execute_result"
        }
      ],
      "source": [
        "p1.platform"
      ]
    },
    {
      "cell_type": "code",
      "execution_count": null,
      "metadata": {
        "id": "zql48Sj_Adg5",
        "outputId": "f2fb3bee-2af3-4dd9-a9ce-057eab5e955d"
      },
      "outputs": [
        {
          "data": {
            "text/plain": [
              "'AMAZON'"
            ]
          },
          "execution_count": 19,
          "metadata": {},
          "output_type": "execute_result"
        }
      ],
      "source": [
        "p1.platform"
      ]
    },
    {
      "cell_type": "code",
      "execution_count": null,
      "metadata": {
        "id": "RGUb3T_ZAdg5",
        "outputId": "a826e6e9-4d0d-439a-b925-ef604597d8e3"
      },
      "outputs": [
        {
          "data": {
            "text/plain": [
              "(243, 'IPHONE', 120000.0)"
            ]
          },
          "execution_count": 20,
          "metadata": {},
          "output_type": "execute_result"
        }
      ],
      "source": [
        "p1.getInfo()"
      ]
    },
    {
      "cell_type": "code",
      "execution_count": null,
      "metadata": {
        "id": "oDBdRyIdAdg5",
        "outputId": "d1d22ac4-fc5d-4088-b982-2d6631a37734"
      },
      "outputs": [
        {
          "data": {
            "text/plain": [
              "(243, 'IPHONE X', 150000.0)"
            ]
          },
          "execution_count": 21,
          "metadata": {},
          "output_type": "execute_result"
        }
      ],
      "source": [
        "p2.getInfo()"
      ]
    },
    {
      "cell_type": "code",
      "execution_count": null,
      "metadata": {
        "id": "F47-9EijAdg6",
        "outputId": "c44fdc65-18d9-41f8-b307-7db525efacef"
      },
      "outputs": [
        {
          "data": {
            "text/plain": [
              "102000.0"
            ]
          },
          "execution_count": 25,
          "metadata": {},
          "output_type": "execute_result"
        }
      ],
      "source": [
        "p1.getDiscount()"
      ]
    },
    {
      "cell_type": "code",
      "execution_count": null,
      "metadata": {
        "id": "xBierQ8vAdg6",
        "outputId": "40a926de-086c-425b-ce16-35caa6321b8c"
      },
      "outputs": [
        {
          "data": {
            "text/plain": [
              "127500.0"
            ]
          },
          "execution_count": 26,
          "metadata": {},
          "output_type": "execute_result"
        }
      ],
      "source": [
        "p2.getDiscount()"
      ]
    },
    {
      "cell_type": "markdown",
      "metadata": {
        "id": "tOGrqsx7Adg6"
      },
      "source": [
        "# Getter, Setter, Deleter"
      ]
    },
    {
      "cell_type": "code",
      "execution_count": null,
      "metadata": {
        "id": "FMig3RY_Adg6"
      },
      "outputs": [],
      "source": [
        "class Product:\n",
        "    platform = 'AMAZON'\n",
        "\n",
        "    def __init__(self, pid: int, title: str, price: float) -> None:\n",
        "        self.pid = pid\n",
        "        self.title = title\n",
        "        self.price = price\n",
        "        self.__code = 352323     # Private attribute\n",
        "    \n",
        "    @property           #getter\n",
        "    def code(self) -> int:\n",
        "        return self.__code\n",
        "    \n",
        "    @code.setter  \n",
        "    def code(self, new) -> None:\n",
        "        self.__code = new\n",
        "    \n",
        "    @code.deleter\n",
        "    def code(self) -> None:\n",
        "        del self.__code\n",
        "\n",
        "    def getDiscount(self) -> float:\n",
        "        return self.price - (self.price * (15/100))\n",
        "    \n",
        "    def __repr__(self) -> str:\n",
        "        return f'Product(pid={self.pid}, title={self.title})'"
      ]
    },
    {
      "cell_type": "code",
      "execution_count": null,
      "metadata": {
        "id": "FmXyD0KgAdg6"
      },
      "outputs": [],
      "source": [
        "p1 = Product(243, 'IPHONE', 120000.00)\n",
        "p2 = Product(243, 'IPHONE X', 150000.00)"
      ]
    },
    {
      "cell_type": "code",
      "execution_count": null,
      "metadata": {
        "id": "UgbGy92YAdg7",
        "outputId": "a088f967-5355-4667-b099-e0f630547189"
      },
      "outputs": [
        {
          "data": {
            "text/plain": [
              "352323"
            ]
          },
          "execution_count": 55,
          "metadata": {},
          "output_type": "execute_result"
        }
      ],
      "source": [
        "p1.code             # calling getter"
      ]
    },
    {
      "cell_type": "code",
      "execution_count": null,
      "metadata": {
        "id": "vhT7CgfQAdg7",
        "outputId": "c5d9dc10-6cf2-4517-c16a-377e0b77490e"
      },
      "outputs": [
        {
          "data": {
            "text/plain": [
              "904548"
            ]
          },
          "execution_count": 56,
          "metadata": {},
          "output_type": "execute_result"
        }
      ],
      "source": [
        "p1.code = 904548     # calling setter\n",
        "p1.code"
      ]
    },
    {
      "cell_type": "code",
      "execution_count": null,
      "metadata": {
        "id": "6_DKRkfqAdg7"
      },
      "outputs": [],
      "source": [
        "del p1.code"
      ]
    },
    {
      "cell_type": "code",
      "execution_count": null,
      "metadata": {
        "id": "pXnsk1ZyAdg7"
      },
      "outputs": [],
      "source": [
        "del p1.price"
      ]
    },
    {
      "cell_type": "code",
      "execution_count": null,
      "metadata": {
        "id": "cTUJ0t3YAdg7",
        "outputId": "f0f1835d-5b6f-4dad-9252-817b7eebdf1c"
      },
      "outputs": [
        {
          "ename": "AttributeError",
          "evalue": "'Product' object has no attribute '_Product__code'",
          "output_type": "error",
          "traceback": [
            "\u001b[1;31m---------------------------------------------------------------------------\u001b[0m",
            "\u001b[1;31mAttributeError\u001b[0m                            Traceback (most recent call last)",
            "\u001b[1;32me:\\HRV\\Professional\\Machine-Learning\\MLDS 1019\\2_OOP\\oop.ipynb Cell 19\u001b[0m in \u001b[0;36m<cell line: 1>\u001b[1;34m()\u001b[0m\n\u001b[1;32m----> <a href='vscode-notebook-cell:/e%3A/HRV/Professional/Machine-Learning/MLDS%201019/2_OOP/oop.ipynb#X24sZmlsZQ%3D%3D?line=0'>1</a>\u001b[0m p1\u001b[39m.\u001b[39;49mcode\n",
            "\u001b[1;32me:\\HRV\\Professional\\Machine-Learning\\MLDS 1019\\2_OOP\\oop.ipynb Cell 19\u001b[0m in \u001b[0;36mProduct.code\u001b[1;34m(self)\u001b[0m\n\u001b[0;32m     <a href='vscode-notebook-cell:/e%3A/HRV/Professional/Machine-Learning/MLDS%201019/2_OOP/oop.ipynb#X24sZmlsZQ%3D%3D?line=9'>10</a>\u001b[0m \u001b[39m@property\u001b[39m           \u001b[39m#getter\u001b[39;00m\n\u001b[0;32m     <a href='vscode-notebook-cell:/e%3A/HRV/Professional/Machine-Learning/MLDS%201019/2_OOP/oop.ipynb#X24sZmlsZQ%3D%3D?line=10'>11</a>\u001b[0m \u001b[39mdef\u001b[39;00m \u001b[39mcode\u001b[39m(\u001b[39mself\u001b[39m) \u001b[39m-\u001b[39m\u001b[39m>\u001b[39m \u001b[39mint\u001b[39m:\n\u001b[1;32m---> <a href='vscode-notebook-cell:/e%3A/HRV/Professional/Machine-Learning/MLDS%201019/2_OOP/oop.ipynb#X24sZmlsZQ%3D%3D?line=11'>12</a>\u001b[0m     \u001b[39mreturn\u001b[39;00m \u001b[39mself\u001b[39;49m\u001b[39m.\u001b[39;49m__code\n",
            "\u001b[1;31mAttributeError\u001b[0m: 'Product' object has no attribute '_Product__code'"
          ]
        }
      ],
      "source": [
        "p1.code"
      ]
    },
    {
      "cell_type": "markdown",
      "metadata": {
        "id": "UnrGIUgoAdhF"
      },
      "source": [
        "# You have Design classes for LinkedIn"
      ]
    },
    {
      "cell_type": "code",
      "execution_count": null,
      "metadata": {
        "id": "4CUsUwblAdhF"
      },
      "outputs": [],
      "source": []
    }
  ],
  "metadata": {
    "kernelspec": {
      "display_name": "Python 3.10.6 64-bit",
      "language": "python",
      "name": "python3"
    },
    "language_info": {
      "codemirror_mode": {
        "name": "ipython",
        "version": 3
      },
      "file_extension": ".py",
      "mimetype": "text/x-python",
      "name": "python",
      "nbconvert_exporter": "python",
      "pygments_lexer": "ipython3",
      "version": "3.10.6"
    },
    "orig_nbformat": 4,
    "vscode": {
      "interpreter": {
        "hash": "369f2c481f4da34e4445cda3fffd2e751bd1c4d706f27375911949ba6bb62e1c"
      }
    },
    "colab": {
      "provenance": []
    }
  },
  "nbformat": 4,
  "nbformat_minor": 0
}