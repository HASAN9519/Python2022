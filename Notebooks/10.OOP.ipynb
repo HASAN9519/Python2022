{
  "cells": [
    {
      "cell_type": "markdown",
      "metadata": {
        "id": "bMfvUEKDAdg0"
      },
      "source": [
        "### OOP\n",
        "- Class\n",
        "- Object\n",
        "- Encapsulation\n",
        "- Abstraction\n",
        "- Inheritance\n",
        "- Polymorphism"
      ]
    },
    {
      "cell_type": "code",
      "execution_count": 1,
      "metadata": {
        "id": "YDtmDOPNAdg2"
      },
      "outputs": [],
      "source": [
        "# Creating Class\n",
        "class Product:\n",
        "    # Class or GLobal Attributes\n",
        "    platform = 'AMAZON'\n",
        "\n",
        "    # Constructor is foundation to create objects from a class\n",
        "    def __init__(self, pid: int, title: str, price: float) -> None:\n",
        "        self.pid = pid\n",
        "        self.title = title\n",
        "        self.price = price\n",
        "    \n",
        "    # when functions are inside class they are called Methods \n",
        "    def getInfo(self) -> str:\n",
        "        return (self.pid, self.title, self.price)\n",
        "\n",
        "    def getDiscount(self) -> float:\n",
        "        return self.price - (self.price * (15/100))\n",
        "    \n",
        "    def __repr__(self) -> str:\n",
        "        return f'Product(pid={self.pid}, title={self.title})'"
      ]
    },
    {
      "cell_type": "code",
      "execution_count": 4,
      "metadata": {
        "id": "DxHlsIO-Adg3",
        "outputId": "ac964290-64e9-418a-ac78-fca2f69f5112"
      },
      "outputs": [
        {
          "name": "stdout",
          "output_type": "stream",
          "text": [
            "Product(pid=243, title=IPHONE)\n",
            "Product(pid=243, title=IPHONE X)\n"
          ]
        }
      ],
      "source": [
        "# Creating Object From The class\n",
        "p1 = Product(243, 'IPHONE', 120000.00)\n",
        "p2 = Product(243, 'IPHONE X', 150000.00)\n",
        "print(p1)\n",
        "print(p2)"
      ]
    },
    {
      "cell_type": "code",
      "execution_count": 6,
      "metadata": {
        "id": "_DAHy1BUAdg4",
        "outputId": "37f618d2-92c8-47e8-bfc1-eb39b9c0fe39"
      },
      "outputs": [
        {
          "data": {
            "text/plain": [
              "120000.0"
            ]
          },
          "execution_count": 6,
          "metadata": {},
          "output_type": "execute_result"
        }
      ],
      "source": [
        "#p1.title\n",
        "p1.price\n",
        "#p1.platform"
      ]
    },
    {
      "cell_type": "code",
      "execution_count": 8,
      "metadata": {
        "id": "RGUb3T_ZAdg5",
        "outputId": "a826e6e9-4d0d-439a-b925-ef604597d8e3"
      },
      "outputs": [
        {
          "data": {
            "text/plain": [
              "(243, 'IPHONE', 120000.0)"
            ]
          },
          "execution_count": 8,
          "metadata": {},
          "output_type": "execute_result"
        }
      ],
      "source": [
        "p1.getInfo()\n",
        "#p2.getInfo()"
      ]
    },
    {
      "cell_type": "code",
      "execution_count": 9,
      "metadata": {
        "id": "F47-9EijAdg6",
        "outputId": "c44fdc65-18d9-41f8-b307-7db525efacef"
      },
      "outputs": [
        {
          "data": {
            "text/plain": [
              "127500.0"
            ]
          },
          "execution_count": 9,
          "metadata": {},
          "output_type": "execute_result"
        }
      ],
      "source": [
        "#p1.getDiscount()\n",
        "p2.getDiscount()"
      ]
    },
    {
      "cell_type": "markdown",
      "metadata": {
        "id": "tOGrqsx7Adg6"
      },
      "source": [
        "# Getter, Setter, Deleter"
      ]
    },
    {
      "cell_type": "code",
      "execution_count": 29,
      "metadata": {
        "id": "FMig3RY_Adg6"
      },
      "outputs": [],
      "source": [
        "class Product1:\n",
        "    platform = 'AMAZON'\n",
        "\n",
        "    def __init__(self, pid: int, title: str, price: float) -> None:\n",
        "        self.pid = pid\n",
        "        self.title = title\n",
        "        self.price = price\n",
        "        self.__code = 352323     # using double underscore to make Private attribute\n",
        "    \n",
        "    #getter using decorator\n",
        "    @property           \n",
        "    def code(self) -> int:      #method name should be same as Private attribute\n",
        "        return self.__code\n",
        "    \n",
        "    @code.setter       \n",
        "    def code(self, new) -> None:\n",
        "        self.__code = new\n",
        "    \n",
        "    @code.deleter\n",
        "    def code(self) -> None:\n",
        "        del self.__code\n",
        "\n",
        "    def getDiscount(self) -> float:\n",
        "        return self.price - (self.price * (15/100))\n",
        "    \n",
        "    def __repr__(self) -> str:\n",
        "        return f'Product(pid={self.pid}, title={self.title})'"
      ]
    },
    {
      "cell_type": "code",
      "execution_count": 30,
      "metadata": {
        "id": "FmXyD0KgAdg6"
      },
      "outputs": [],
      "source": [
        "p1 = Product1(243, 'IPHONE', 120000.00)\n",
        "p2 = Product1(243, 'IPHONE X', 150000.00)"
      ]
    },
    {
      "cell_type": "code",
      "execution_count": 31,
      "metadata": {
        "id": "UgbGy92YAdg7",
        "outputId": "a088f967-5355-4667-b099-e0f630547189"
      },
      "outputs": [
        {
          "data": {
            "text/plain": [
              "352323"
            ]
          },
          "execution_count": 31,
          "metadata": {},
          "output_type": "execute_result"
        }
      ],
      "source": [
        "# calling getter\n",
        "p2.code             "
      ]
    },
    {
      "cell_type": "code",
      "execution_count": 32,
      "metadata": {
        "id": "vhT7CgfQAdg7",
        "outputId": "c5d9dc10-6cf2-4517-c16a-377e0b77490e"
      },
      "outputs": [
        {
          "data": {
            "text/plain": [
              "904548"
            ]
          },
          "execution_count": 32,
          "metadata": {},
          "output_type": "execute_result"
        }
      ],
      "source": [
        "# calling setter\n",
        "p1.code = 904548     \n",
        "p1.code"
      ]
    },
    {
      "cell_type": "code",
      "execution_count": 33,
      "metadata": {},
      "outputs": [
        {
          "data": {
            "text/plain": [
              "120000.0"
            ]
          },
          "execution_count": 33,
          "metadata": {},
          "output_type": "execute_result"
        }
      ],
      "source": [
        "p1.price"
      ]
    },
    {
      "cell_type": "code",
      "execution_count": 34,
      "metadata": {},
      "outputs": [],
      "source": [
        "del p1.price"
      ]
    },
    {
      "cell_type": "code",
      "execution_count": 35,
      "metadata": {},
      "outputs": [
        {
          "name": "stdout",
          "output_type": "stream",
          "text": [
            "no value\n"
          ]
        }
      ],
      "source": [
        "try:\n",
        "    print(p1.price)\n",
        "except:\n",
        "    print(\"no value\")"
      ]
    },
    {
      "cell_type": "code",
      "execution_count": 37,
      "metadata": {},
      "outputs": [
        {
          "name": "stdout",
          "output_type": "stream",
          "text": [
            "Product(pid=243, title=IPHONE)\n"
          ]
        }
      ],
      "source": [
        "print(p1)"
      ]
    },
    {
      "cell_type": "code",
      "execution_count": 38,
      "metadata": {
        "id": "6_DKRkfqAdg7"
      },
      "outputs": [],
      "source": [
        "del p1.code"
      ]
    },
    {
      "cell_type": "code",
      "execution_count": 39,
      "metadata": {
        "id": "pXnsk1ZyAdg7"
      },
      "outputs": [
        {
          "name": "stdout",
          "output_type": "stream",
          "text": [
            "no value\n"
          ]
        }
      ],
      "source": [
        "try:\n",
        "    print(p1.code)\n",
        "except:\n",
        "    print(\"no value\")"
      ]
    }
  ],
  "metadata": {
    "colab": {
      "provenance": []
    },
    "kernelspec": {
      "display_name": "Python 3.10.6 64-bit",
      "language": "python",
      "name": "python3"
    },
    "language_info": {
      "codemirror_mode": {
        "name": "ipython",
        "version": 3
      },
      "file_extension": ".py",
      "mimetype": "text/x-python",
      "name": "python",
      "nbconvert_exporter": "python",
      "pygments_lexer": "ipython3",
      "version": "3.10.6"
    },
    "orig_nbformat": 4,
    "vscode": {
      "interpreter": {
        "hash": "369f2c481f4da34e4445cda3fffd2e751bd1c4d706f27375911949ba6bb62e1c"
      }
    }
  },
  "nbformat": 4,
  "nbformat_minor": 0
}
