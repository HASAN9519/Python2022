{
 "cells": [
  {
   "cell_type": "markdown",
   "metadata": {
    "toc": true
   },
   "source": [
    "<h1>Table of Contents<span class=\"tocSkip\"></span></h1>\n",
    "<div class=\"toc\"><ul class=\"toc-item\"><li><span><a href=\"#Try-and-Except\" data-toc-modified-id=\"Try-and-Except-1\"><span class=\"toc-item-num\">1&nbsp;&nbsp;</span>Try and Except</a></span></li><li><span><a href=\"#Specific-Exception-Handling\" data-toc-modified-id=\"Specific-Exception-Handling-2\"><span class=\"toc-item-num\">2&nbsp;&nbsp;</span>Specific Exception Handling</a></span></li><li><span><a href=\"#Finally-and-Else\" data-toc-modified-id=\"Finally-and-Else-3\"><span class=\"toc-item-num\">3&nbsp;&nbsp;</span>Finally and Else</a></span></li><li><span><a href=\"#Raise-Exception\" data-toc-modified-id=\"Raise-Exception-4\"><span class=\"toc-item-num\">4&nbsp;&nbsp;</span>Raise Exception</a></span></li><li><span><a href=\"#Custom-Exception\" data-toc-modified-id=\"Custom-Exception-5\"><span class=\"toc-item-num\">5&nbsp;&nbsp;</span>Custom Exception</a></span></li></ul></div>"
   ]
  },
  {
   "cell_type": "markdown",
   "metadata": {},
   "source": [
    "### Try and Except"
   ]
  },
  {
   "cell_type": "code",
   "execution_count": 1,
   "metadata": {},
   "outputs": [
    {
     "name": "stdout",
     "output_type": "stream",
     "text": [
      "division by zero\n",
      "0.0\n"
     ]
    }
   ],
   "source": [
    "res = 0.0\n",
    "try:\n",
    "    num = int(input(\"Dividend: \"))\n",
    "    div = int(input('Divisor: '))\n",
    "    res = num/div\n",
    "except Exception as e:\n",
    "    print(e)\n",
    "    \n",
    "print(res)"
   ]
  },
  {
   "cell_type": "markdown",
   "metadata": {},
   "source": [
    "### Specific Exception Handling"
   ]
  },
  {
   "cell_type": "code",
   "execution_count": 3,
   "metadata": {},
   "outputs": [
    {
     "name": "stdout",
     "output_type": "stream",
     "text": [
      "invalid literal for int() with base 10: 'e'\n",
      "33.5\n"
     ]
    }
   ],
   "source": [
    "res = 0.0\n",
    "try:\n",
    "    num = int(input(\"Dividend: \"))\n",
    "    div = int(input('Divisor: '))\n",
    "    res = num/div\n",
    "except ZeroDivisionError as z:\n",
    "    res = num/1\n",
    "    print(z)\n",
    "except ValueError as v:\n",
    "    res = num/2\n",
    "    print(v)\n",
    "    \n",
    "print(res)"
   ]
  },
  {
   "cell_type": "markdown",
   "metadata": {},
   "source": [
    "### Finally and Else"
   ]
  },
  {
   "cell_type": "code",
   "execution_count": 4,
   "metadata": {},
   "outputs": [
    {
     "name": "stdout",
     "output_type": "stream",
     "text": [
      "invalid literal for int() with base 10: 'o'\n",
      "28.0\n"
     ]
    }
   ],
   "source": [
    "# finally block will always run whether exception occurs or not\n",
    "res = 0.0\n",
    "try:\n",
    "    num = int(input(\"Dividend: \"))\n",
    "    div = int(input('Divisor: '))\n",
    "    res = num/div\n",
    "except ZeroDivisionError as z:\n",
    "    res = num/1\n",
    "    print(z)\n",
    "except ValueError as v:\n",
    "    res = num/2\n",
    "    print(v)\n",
    "finally:\n",
    "    print(res)"
   ]
  },
  {
   "cell_type": "code",
   "execution_count": 6,
   "metadata": {},
   "outputs": [
    {
     "name": "stdout",
     "output_type": "stream",
     "text": [
      "invalid literal for int() with base 10: 'j'\n"
     ]
    }
   ],
   "source": [
    "# else block will run if there is no exception\n",
    "res = 0.0\n",
    "try:\n",
    "    num = int(input(\"Dividend: \"))\n",
    "    div = int(input('Divisor: '))\n",
    "    res = num/div\n",
    "except ZeroDivisionError as z:\n",
    "    res = num/1\n",
    "    print(z)\n",
    "except ValueError as v:\n",
    "    res = num/2\n",
    "    print(v)\n",
    "else:\n",
    "    print(res)"
   ]
  },
  {
   "cell_type": "markdown",
   "metadata": {},
   "source": [
    "### Raise Exception"
   ]
  },
  {
   "cell_type": "code",
   "execution_count": 7,
   "metadata": {},
   "outputs": [
    {
     "ename": "Exception",
     "evalue": "Age < 20",
     "output_type": "error",
     "traceback": [
      "\u001b[1;31m---------------------------------------------------------------------------\u001b[0m",
      "\u001b[1;31mException\u001b[0m                                 Traceback (most recent call last)",
      "\u001b[1;32mc:\\Users\\SHEHA\\Downloads\\GitHubRepository\\Python2022\\Notebooks\\13.exceptions.ipynb Cell 9\u001b[0m in \u001b[0;36m<cell line: 2>\u001b[1;34m()\u001b[0m\n\u001b[0;32m      <a href='vscode-notebook-cell:/c%3A/Users/SHEHA/Downloads/GitHubRepository/Python2022/Notebooks/13.exceptions.ipynb#X11sZmlsZQ%3D%3D?line=0'>1</a>\u001b[0m age \u001b[39m=\u001b[39m \u001b[39mint\u001b[39m(\u001b[39minput\u001b[39m(\u001b[39m\"\u001b[39m\u001b[39mAge: \u001b[39m\u001b[39m\"\u001b[39m))\n\u001b[0;32m      <a href='vscode-notebook-cell:/c%3A/Users/SHEHA/Downloads/GitHubRepository/Python2022/Notebooks/13.exceptions.ipynb#X11sZmlsZQ%3D%3D?line=1'>2</a>\u001b[0m \u001b[39mif\u001b[39;00m age \u001b[39m<\u001b[39m \u001b[39m20\u001b[39m:\n\u001b[1;32m----> <a href='vscode-notebook-cell:/c%3A/Users/SHEHA/Downloads/GitHubRepository/Python2022/Notebooks/13.exceptions.ipynb#X11sZmlsZQ%3D%3D?line=2'>3</a>\u001b[0m     \u001b[39mraise\u001b[39;00m \u001b[39mException\u001b[39;00m(\u001b[39m'\u001b[39m\u001b[39mAge < 20\u001b[39m\u001b[39m'\u001b[39m)\n\u001b[0;32m      <a href='vscode-notebook-cell:/c%3A/Users/SHEHA/Downloads/GitHubRepository/Python2022/Notebooks/13.exceptions.ipynb#X11sZmlsZQ%3D%3D?line=3'>4</a>\u001b[0m \u001b[39mprint\u001b[39m(age)\n",
      "\u001b[1;31mException\u001b[0m: Age < 20"
     ]
    }
   ],
   "source": [
    "age = int(input(\"Age: \"))\n",
    "if age < 20:\n",
    "    raise Exception('Age < 20')\n",
    "print(age)"
   ]
  },
  {
   "cell_type": "markdown",
   "metadata": {},
   "source": [
    "### Custom Exception"
   ]
  },
  {
   "cell_type": "code",
   "execution_count": 8,
   "metadata": {},
   "outputs": [],
   "source": [
    "class EligiblityError(Exception):\n",
    "    pass"
   ]
  },
  {
   "cell_type": "code",
   "execution_count": 9,
   "metadata": {},
   "outputs": [
    {
     "ename": "EligiblityError",
     "evalue": "Age < 20",
     "output_type": "error",
     "traceback": [
      "\u001b[1;31m---------------------------------------------------------------------------\u001b[0m",
      "\u001b[1;31mEligiblityError\u001b[0m                           Traceback (most recent call last)",
      "\u001b[1;32mc:\\Users\\SHEHA\\Downloads\\GitHubRepository\\Python2022\\Notebooks\\13.exceptions.ipynb Cell 12\u001b[0m in \u001b[0;36m<cell line: 2>\u001b[1;34m()\u001b[0m\n\u001b[0;32m      <a href='vscode-notebook-cell:/c%3A/Users/SHEHA/Downloads/GitHubRepository/Python2022/Notebooks/13.exceptions.ipynb#X15sZmlsZQ%3D%3D?line=0'>1</a>\u001b[0m age \u001b[39m=\u001b[39m \u001b[39mint\u001b[39m(\u001b[39minput\u001b[39m(\u001b[39m\"\u001b[39m\u001b[39mAge: \u001b[39m\u001b[39m\"\u001b[39m))\n\u001b[0;32m      <a href='vscode-notebook-cell:/c%3A/Users/SHEHA/Downloads/GitHubRepository/Python2022/Notebooks/13.exceptions.ipynb#X15sZmlsZQ%3D%3D?line=1'>2</a>\u001b[0m \u001b[39mif\u001b[39;00m age \u001b[39m<\u001b[39m \u001b[39m20\u001b[39m:\n\u001b[1;32m----> <a href='vscode-notebook-cell:/c%3A/Users/SHEHA/Downloads/GitHubRepository/Python2022/Notebooks/13.exceptions.ipynb#X15sZmlsZQ%3D%3D?line=2'>3</a>\u001b[0m     \u001b[39mraise\u001b[39;00m EligiblityError(\u001b[39m'\u001b[39m\u001b[39mAge < 20\u001b[39m\u001b[39m'\u001b[39m)\n\u001b[0;32m      <a href='vscode-notebook-cell:/c%3A/Users/SHEHA/Downloads/GitHubRepository/Python2022/Notebooks/13.exceptions.ipynb#X15sZmlsZQ%3D%3D?line=3'>4</a>\u001b[0m \u001b[39mprint\u001b[39m(age)\n",
      "\u001b[1;31mEligiblityError\u001b[0m: Age < 20"
     ]
    }
   ],
   "source": [
    "age = int(input(\"Age: \"))\n",
    "if age < 20:\n",
    "    raise EligiblityError('Age < 20')\n",
    "print(age)"
   ]
  },
  {
   "cell_type": "code",
   "execution_count": 11,
   "metadata": {},
   "outputs": [
    {
     "name": "stdout",
     "output_type": "stream",
     "text": [
      "Age < 20\n",
      "4\n"
     ]
    }
   ],
   "source": [
    "try:\n",
    "    age = int(input(\"Age: \"))\n",
    "    if age < 20:\n",
    "        raise EligiblityError('Age < 20')\n",
    "except EligiblityError as e:\n",
    "    print(e)\n",
    "print(age)"
   ]
  },
  {
   "cell_type": "code",
   "execution_count": 14,
   "metadata": {},
   "outputs": [
    {
     "ename": "AssertionError",
     "evalue": "Age < 20",
     "output_type": "error",
     "traceback": [
      "\u001b[1;31m---------------------------------------------------------------------------\u001b[0m",
      "\u001b[1;31mAssertionError\u001b[0m                            Traceback (most recent call last)",
      "\u001b[1;32mc:\\Users\\SHEHA\\Downloads\\GitHubRepository\\Python2022\\Notebooks\\13.exceptions.ipynb Cell 14\u001b[0m in \u001b[0;36m<cell line: 3>\u001b[1;34m()\u001b[0m\n\u001b[0;32m      <a href='vscode-notebook-cell:/c%3A/Users/SHEHA/Downloads/GitHubRepository/Python2022/Notebooks/13.exceptions.ipynb#X20sZmlsZQ%3D%3D?line=0'>1</a>\u001b[0m \u001b[39m# Assertion error\u001b[39;00m\n\u001b[0;32m      <a href='vscode-notebook-cell:/c%3A/Users/SHEHA/Downloads/GitHubRepository/Python2022/Notebooks/13.exceptions.ipynb#X20sZmlsZQ%3D%3D?line=1'>2</a>\u001b[0m age \u001b[39m=\u001b[39m \u001b[39m12\u001b[39m\n\u001b[1;32m----> <a href='vscode-notebook-cell:/c%3A/Users/SHEHA/Downloads/GitHubRepository/Python2022/Notebooks/13.exceptions.ipynb#X20sZmlsZQ%3D%3D?line=2'>3</a>\u001b[0m \u001b[39massert\u001b[39;00m age \u001b[39m>\u001b[39m \u001b[39m20\u001b[39m, \u001b[39m'\u001b[39m\u001b[39mAge < 20\u001b[39m\u001b[39m'\u001b[39m\n\u001b[0;32m      <a href='vscode-notebook-cell:/c%3A/Users/SHEHA/Downloads/GitHubRepository/Python2022/Notebooks/13.exceptions.ipynb#X20sZmlsZQ%3D%3D?line=3'>4</a>\u001b[0m \u001b[39mprint\u001b[39m(age)\n",
      "\u001b[1;31mAssertionError\u001b[0m: Age < 20"
     ]
    }
   ],
   "source": [
    "# Assertion error\n",
    "age = 12\n",
    "assert age > 20, 'Age < 20'\n",
    "print(age)"
   ]
  }
 ],
 "metadata": {
  "kernelspec": {
   "display_name": "Python 3 (ipykernel)",
   "language": "python",
   "name": "python3"
  },
  "language_info": {
   "codemirror_mode": {
    "name": "ipython",
    "version": 3
   },
   "file_extension": ".py",
   "mimetype": "text/x-python",
   "name": "python",
   "nbconvert_exporter": "python",
   "pygments_lexer": "ipython3",
   "version": "3.10.6 (tags/v3.10.6:9c7b4bd, Aug  1 2022, 21:53:49) [MSC v.1932 64 bit (AMD64)]"
  },
  "toc": {
   "base_numbering": 1,
   "nav_menu": {},
   "number_sections": true,
   "sideBar": true,
   "skip_h1_title": false,
   "title_cell": "Table of Contents",
   "title_sidebar": "Contents",
   "toc_cell": true,
   "toc_position": {
    "height": "calc(100% - 180px)",
    "left": "10px",
    "top": "150px",
    "width": "279.409px"
   },
   "toc_section_display": true,
   "toc_window_display": false
  },
  "vscode": {
   "interpreter": {
    "hash": "369f2c481f4da34e4445cda3fffd2e751bd1c4d706f27375911949ba6bb62e1c"
   }
  }
 },
 "nbformat": 4,
 "nbformat_minor": 2
}
