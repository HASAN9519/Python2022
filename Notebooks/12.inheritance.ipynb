{
 "cells": [
  {
   "cell_type": "markdown",
   "metadata": {},
   "source": [
    "### Inheritance"
   ]
  },
  {
   "cell_type": "code",
   "execution_count": 1,
   "metadata": {},
   "outputs": [],
   "source": [
    "# Parent or Super or Base Class\n",
    "class Product:\n",
    "    platform = 'AMAZON'\n",
    "\n",
    "    def __init__(self, pid: int, title: str, price: float) -> None:\n",
    "        self.pid = pid\n",
    "        self.title = title\n",
    "        self.price = price\n",
    "    \n",
    "    def __repr__(self) -> str:\n",
    "        return f'Product(pid={self.pid}, title={self.title})'"
   ]
  },
  {
   "cell_type": "code",
   "execution_count": 23,
   "metadata": {},
   "outputs": [],
   "source": [
    "# Parent or Super or Base Class\n",
    "class Seller:\n",
    "    def __init__(self, sid: int, sname: str) -> None:\n",
    "        self.sid = sid\n",
    "        self.sname = sname"
   ]
  },
  {
   "cell_type": "code",
   "execution_count": 19,
   "metadata": {},
   "outputs": [],
   "source": [
    "# Derived or Child or Sub Class because it inherited Product Class \n",
    "# Single Inheritance\n",
    "class Cloth(Product):\n",
    "    def __init__(self, pid: int, title: str, price: float, fabric: str) -> None:\n",
    "        self.fabric = fabric\n",
    "        super().__init__(pid, title, price)  # inherited using super(), can be used only for single inheritance\n",
    "\n",
    "    # Polymorphism is ability of an object to take on many forms\n",
    "    # Most common use of polymorphism in OOP is when a parent class reference used to refer to a child class object\n",
    "    # Polymorphism are two types: Compile and Runtime, Python only supports Runntime\n",
    "    # Polymorphism requires inheritance and an overridden function\n",
    "    # Overriding it's parent's __repr__() method\n",
    "    def __repr__(self) -> str:\n",
    "        return f'Cloth(pid={self.pid}, title={self.title}, price={self.price}, fabric={self.fabric})'"
   ]
  },
  {
   "cell_type": "code",
   "execution_count": 20,
   "metadata": {},
   "outputs": [
    {
     "data": {
      "text/plain": [
       "Cloth(pid=2342, title=Tshirt, price=399.0, fabric=Cotton)"
      ]
     },
     "execution_count": 20,
     "metadata": {},
     "output_type": "execute_result"
    }
   ],
   "source": [
    "c1 = Cloth(2342, 'Tshirt', 399.0, 'Cotton')\n",
    "c1"
   ]
  },
  {
   "cell_type": "code",
   "execution_count": 22,
   "metadata": {},
   "outputs": [
    {
     "data": {
      "text/plain": [
       "(__main__.Cloth, __main__.Product, object)"
      ]
     },
     "execution_count": 22,
     "metadata": {},
     "output_type": "execute_result"
    }
   ],
   "source": [
    "# Method Resolution Order used in inheritance as it is the order in which a method is searched for in a classes hierarchy\n",
    "# Useful in Python because Python supports multiple inheritance\n",
    "# Both gives same output \n",
    "#Cloth.__mro__\n",
    "Cloth.mro()"
   ]
  },
  {
   "cell_type": "markdown",
   "metadata": {},
   "source": [
    "### Multilevel and Multiple Inheritance"
   ]
  },
  {
   "cell_type": "code",
   "execution_count": 24,
   "metadata": {},
   "outputs": [],
   "source": [
    "# Multilevel Inheritance\n",
    "# TopWear inherites Cloth and Cloth inherites Product, means inheritance gone through multiple class in different level\n",
    "class TopWear(Cloth):\n",
    "    def __init__(self, pid: int, title: str, price: float, fabric: str, wear_type:str) -> None:\n",
    "        self.wear_type = wear_type\n",
    "        super().__init__(pid, title, price, fabric)\n",
    "    # Overriding it's parent's __repr__() method\n",
    "    def __repr__(self) -> str:\n",
    "        return f'Topwear(pid={self.pid}, title={self.title}, price={self.price}, fabric={self.fabric}, wear type={self.wear_type})'"
   ]
  },
  {
   "cell_type": "code",
   "execution_count": 25,
   "metadata": {},
   "outputs": [
    {
     "data": {
      "text/plain": [
       "Topwear(pid=243, title=Polo T-Shirt, price=499.0, fabric=Cotton, wear type=Shirt)"
      ]
     },
     "execution_count": 25,
     "metadata": {},
     "output_type": "execute_result"
    }
   ],
   "source": [
    "t1 = TopWear(243, 'Polo T-Shirt', 499.0, 'Cotton', 'Shirt')\n",
    "t1"
   ]
  },
  {
   "cell_type": "code",
   "execution_count": 30,
   "metadata": {},
   "outputs": [],
   "source": [
    "# Multiple Inheritance\n",
    "# Cloth1 class Inheriting Product and Seller class at the same time\n",
    "class Cloth1(Product, Seller):\n",
    "    def __init__(self, pid: int, title: str, price: float, sid: int, sname: str) -> None:\n",
    "        Product.__init__(self, pid, title, price)\n",
    "        Seller.__init__(self, sid, sname)\n",
    "\n",
    "    # returns __repr__ methhod of Product class\n",
    "    def get(self):\n",
    "        return Product.__repr__(self), Product.platform\n",
    "\n",
    "    # Overriding it's parent's __repr__() method\n",
    "    def __repr__(self) -> str:\n",
    "        return f'Cloth1(pid= {self.pid}, title= {self.title}, price= {self.price}, sid= {self.sid}, sname= {self.sname})'\n"
   ]
  },
  {
   "cell_type": "code",
   "execution_count": 31,
   "metadata": {},
   "outputs": [
    {
     "data": {
      "text/plain": [
       "Cloth1(pid= 243, title= Polo T-Shirt, price= 499.0, sid= 25, sname= Tessa young)"
      ]
     },
     "execution_count": 31,
     "metadata": {},
     "output_type": "execute_result"
    }
   ],
   "source": [
    "c2 = Cloth1(243, 'Polo T-Shirt', 499.0, 25, 'Tessa young')\n",
    "c2"
   ]
  },
  {
   "cell_type": "code",
   "execution_count": 33,
   "metadata": {},
   "outputs": [
    {
     "data": {
      "text/plain": [
       "('Product(pid=243, title=Polo T-Shirt)', 'AMAZON')"
      ]
     },
     "execution_count": 33,
     "metadata": {},
     "output_type": "execute_result"
    }
   ],
   "source": [
    "c2.get()"
   ]
  },
  {
   "cell_type": "markdown",
   "metadata": {},
   "source": [
    "### Stopping Inhertitance"
   ]
  },
  {
   "cell_type": "code",
   "execution_count": 40,
   "metadata": {},
   "outputs": [],
   "source": [
    "# Meta class will check if instance is part of Meta or not\n",
    "# All classes are instance of meta class in Python \n",
    "class Meta(type):\n",
    "    def __new__(cls, name, bases, classdict):\n",
    "        for base in bases:\n",
    "            if isinstance(base, Meta):\n",
    "                raise TypeError(f'Cannot Inherit class **{base.__name__}')\n",
    "            return type.__new__(cls, name, bases, classdict)"
   ]
  },
  {
   "cell_type": "code",
   "execution_count": 41,
   "metadata": {},
   "outputs": [],
   "source": [
    "class Product1:\n",
    "    platform = 'AMAZON'\n",
    "\n",
    "    def __init__(self, pid: int, title: str, price: float) -> None:\n",
    "        self.pid = pid\n",
    "        self.title = title\n",
    "        self.price = price\n",
    "    \n",
    "    def __init_subclass__(cls, **kwargs) -> None:\n",
    "        if cls is not Meta:\n",
    "            raise TypeError(f'Cannot Inherit class {cls.__name__}')\n",
    "        super().__init_subclass__(cls, **kwargs)\n",
    "        \n",
    "    def __repr__(self) -> str:\n",
    "        return f'Product1(pid={self.pid}, title={self.title})'"
   ]
  },
  {
   "cell_type": "code",
   "execution_count": 42,
   "metadata": {},
   "outputs": [
    {
     "ename": "TypeError",
     "evalue": "Cannot Inherit class Cloth2",
     "output_type": "error",
     "traceback": [
      "\u001b[1;31m---------------------------------------------------------------------------\u001b[0m",
      "\u001b[1;31mTypeError\u001b[0m                                 Traceback (most recent call last)",
      "\u001b[1;32mc:\\Users\\SHEHA\\Downloads\\GitHubRepository\\Python2022\\Notebooks\\12.inheritance.ipynb Cell 16\u001b[0m in \u001b[0;36m<cell line: 1>\u001b[1;34m()\u001b[0m\n\u001b[1;32m----> <a href='vscode-notebook-cell:/c%3A/Users/SHEHA/Downloads/GitHubRepository/Python2022/Notebooks/12.inheritance.ipynb#X21sZmlsZQ%3D%3D?line=0'>1</a>\u001b[0m \u001b[39mclass\u001b[39;00m \u001b[39mCloth2\u001b[39;00m(Product1):\n\u001b[0;32m      <a href='vscode-notebook-cell:/c%3A/Users/SHEHA/Downloads/GitHubRepository/Python2022/Notebooks/12.inheritance.ipynb#X21sZmlsZQ%3D%3D?line=1'>2</a>\u001b[0m     \u001b[39mdef\u001b[39;00m \u001b[39m__init__\u001b[39m(\u001b[39mself\u001b[39m, pid: \u001b[39mint\u001b[39m, title: \u001b[39mstr\u001b[39m, price: \u001b[39mfloat\u001b[39m) \u001b[39m-\u001b[39m\u001b[39m>\u001b[39m \u001b[39mNone\u001b[39;00m:\n\u001b[0;32m      <a href='vscode-notebook-cell:/c%3A/Users/SHEHA/Downloads/GitHubRepository/Python2022/Notebooks/12.inheritance.ipynb#X21sZmlsZQ%3D%3D?line=2'>3</a>\u001b[0m         \u001b[39msuper\u001b[39m()\u001b[39m.\u001b[39m\u001b[39m__init__\u001b[39m(\u001b[39mself\u001b[39m, pid, title, price)\n",
      "\u001b[1;32mc:\\Users\\SHEHA\\Downloads\\GitHubRepository\\Python2022\\Notebooks\\12.inheritance.ipynb Cell 16\u001b[0m in \u001b[0;36mProduct1.__init_subclass__\u001b[1;34m(cls, **kwargs)\u001b[0m\n\u001b[0;32m      <a href='vscode-notebook-cell:/c%3A/Users/SHEHA/Downloads/GitHubRepository/Python2022/Notebooks/12.inheritance.ipynb#X21sZmlsZQ%3D%3D?line=8'>9</a>\u001b[0m \u001b[39mdef\u001b[39;00m \u001b[39m__init_subclass__\u001b[39m(\u001b[39mcls\u001b[39m, \u001b[39m*\u001b[39m\u001b[39m*\u001b[39mkwargs) \u001b[39m-\u001b[39m\u001b[39m>\u001b[39m \u001b[39mNone\u001b[39;00m:\n\u001b[0;32m     <a href='vscode-notebook-cell:/c%3A/Users/SHEHA/Downloads/GitHubRepository/Python2022/Notebooks/12.inheritance.ipynb#X21sZmlsZQ%3D%3D?line=9'>10</a>\u001b[0m     \u001b[39mif\u001b[39;00m \u001b[39mcls\u001b[39m \u001b[39mis\u001b[39;00m \u001b[39mnot\u001b[39;00m Meta:\n\u001b[1;32m---> <a href='vscode-notebook-cell:/c%3A/Users/SHEHA/Downloads/GitHubRepository/Python2022/Notebooks/12.inheritance.ipynb#X21sZmlsZQ%3D%3D?line=10'>11</a>\u001b[0m         \u001b[39mraise\u001b[39;00m \u001b[39mTypeError\u001b[39;00m(\u001b[39mf\u001b[39m\u001b[39m'\u001b[39m\u001b[39mCannot Inherit class \u001b[39m\u001b[39m{\u001b[39;00m\u001b[39mcls\u001b[39m\u001b[39m.\u001b[39m\u001b[39m__name__\u001b[39m\u001b[39m}\u001b[39;00m\u001b[39m'\u001b[39m)\n\u001b[0;32m     <a href='vscode-notebook-cell:/c%3A/Users/SHEHA/Downloads/GitHubRepository/Python2022/Notebooks/12.inheritance.ipynb#X21sZmlsZQ%3D%3D?line=11'>12</a>\u001b[0m     \u001b[39msuper\u001b[39m()\u001b[39m.\u001b[39m__init_subclass__(\u001b[39mcls\u001b[39m, \u001b[39m*\u001b[39m\u001b[39m*\u001b[39mkwargs)\n",
      "\u001b[1;31mTypeError\u001b[0m: Cannot Inherit class Cloth2"
     ]
    }
   ],
   "source": [
    "class Cloth2(Product1):\n",
    "    def __init__(self, pid: int, title: str, price: float) -> None:\n",
    "        super().__init__(self, pid, title, price)\n",
    "\n",
    "    def get(self):\n",
    "        return Product1.__repr__(self), Product.platform\n",
    "    def __repr__(self) -> str:\n",
    "        return f'Product1(pid={self.pid}, title={self.title},price={self.price}, sid={self.sid}, sname={self.sname})'\n"
   ]
  }
 ],
 "metadata": {
  "kernelspec": {
   "display_name": "Python 3.10.6 64-bit",
   "language": "python",
   "name": "python3"
  },
  "language_info": {
   "codemirror_mode": {
    "name": "ipython",
    "version": 3
   },
   "file_extension": ".py",
   "mimetype": "text/x-python",
   "name": "python",
   "nbconvert_exporter": "python",
   "pygments_lexer": "ipython3",
   "version": "3.10.6"
  },
  "orig_nbformat": 4,
  "vscode": {
   "interpreter": {
    "hash": "369f2c481f4da34e4445cda3fffd2e751bd1c4d706f27375911949ba6bb62e1c"
   }
  }
 },
 "nbformat": 4,
 "nbformat_minor": 2
}
