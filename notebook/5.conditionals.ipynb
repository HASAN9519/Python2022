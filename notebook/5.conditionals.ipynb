{
 "cells": [
  {
   "cell_type": "markdown",
   "metadata": {},
   "source": [
    "# Conditionals Statements"
   ]
  },
  {
   "cell_type": "code",
   "execution_count": 5,
   "metadata": {},
   "outputs": [
    {
     "name": "stdout",
     "output_type": "stream",
     "text": [
      "Even Number!\n",
      "''\n"
     ]
    }
   ],
   "source": [
    "num = 44\n",
    "if num % 2 == 0:\n",
    "    print(\"Even Number!\")\n",
    "print(\"''\")"
   ]
  },
  {
   "cell_type": "code",
   "execution_count": 9,
   "metadata": {},
   "outputs": [
    {
     "name": "stdout",
     "output_type": "stream",
     "text": [
      "Odd Number!\n"
     ]
    }
   ],
   "source": [
    "num = 45\n",
    "if num % 2 == 0:\n",
    "    print(\"Even Number!\")\n",
    "else:\n",
    "    print(\"Odd Number!\")"
   ]
  },
  {
   "cell_type": "code",
   "execution_count": 15,
   "metadata": {},
   "outputs": [
    {
     "name": "stdout",
     "output_type": "stream",
     "text": [
      "Even Number!\n"
     ]
    }
   ],
   "source": [
    "num = 44\n",
    "if num&1:\n",
    "    print(\"Odd Number!\")\n",
    "else:\n",
    "    print(\"Even Number!\")"
   ]
  },
  {
   "cell_type": "code",
   "execution_count": 13,
   "metadata": {},
   "outputs": [
    {
     "data": {
      "text/plain": [
       "0"
      ]
     },
     "execution_count": 13,
     "metadata": {},
     "output_type": "execute_result"
    }
   ],
   "source": [
    "num = 44\n",
    "num&1"
   ]
  },
  {
   "cell_type": "code",
   "execution_count": 16,
   "metadata": {},
   "outputs": [
    {
     "name": "stdout",
     "output_type": "stream",
     "text": [
      "Grade B\n"
     ]
    }
   ],
   "source": [
    "# if elif else\n",
    "avg = 78\n",
    "if avg > 80:\n",
    "    print('Grade A')\n",
    "elif avg > 60:\n",
    "    print('Grade B')\n",
    "elif avg > 40:\n",
    "    print('Grade C')\n",
    "else:\n",
    "    print('Grade D')"
   ]
  },
  {
   "cell_type": "code",
   "execution_count": 19,
   "metadata": {},
   "outputs": [
    {
     "name": "stdout",
     "output_type": "stream",
     "text": [
      " Gold Credit Card!\n"
     ]
    }
   ],
   "source": [
    "# nested if elif else\n",
    "age = 24\n",
    "salary = 60000\n",
    "if age > 18:\n",
    "    if salary >= 100000:\n",
    "        print(\"Dimond Credit Card!\")\n",
    "    elif salary >= 60000:\n",
    "        print(\" Gold Credit Card!\")\n",
    "    else:\n",
    "        print(\"Silver Credit Card!\")\n",
    "elif age > 15:\n",
    "    print(\"Green Card!\")\n",
    "else:\n",
    "    print(\"Not eligible!\")"
   ]
  },
  {
   "cell_type": "code",
   "execution_count": 25,
   "metadata": {},
   "outputs": [
    {
     "name": "stdout",
     "output_type": "stream",
     "text": [
      "Silver Credit Card!\n"
     ]
    }
   ],
   "source": [
    "age = 24\n",
    "salary = 40000\n",
    "if age > 18 and salary >= 100000:\n",
    "    print(\"Dimond Credit Card!\")\n",
    "elif age > 18 and salary >= 60000:\n",
    "        print(\" Gold Credit Card!\")\n",
    "elif age > 18 and salary >= 30000:\n",
    "    print(\"Silver Credit Card!\")\n",
    "elif age > 15:\n",
    "    print(\"Green Card!\")\n",
    "else:\n",
    "    print(\"Not eligible!\")"
   ]
  },
  {
   "cell_type": "code",
   "execution_count": null,
   "metadata": {},
   "outputs": [],
   "source": []
  }
 ],
 "metadata": {
  "kernelspec": {
   "display_name": "Python 3.10.6 64-bit",
   "language": "python",
   "name": "python3"
  },
  "language_info": {
   "codemirror_mode": {
    "name": "ipython",
    "version": 3
   },
   "file_extension": ".py",
   "mimetype": "text/x-python",
   "name": "python",
   "nbconvert_exporter": "python",
   "pygments_lexer": "ipython3",
   "version": "3.10.6"
  },
  "orig_nbformat": 4,
  "vscode": {
   "interpreter": {
    "hash": "369f2c481f4da34e4445cda3fffd2e751bd1c4d706f27375911949ba6bb62e1c"
   }
  }
 },
 "nbformat": 4,
 "nbformat_minor": 2
}
