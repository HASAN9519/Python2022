{
 "cells": [
  {
   "cell_type": "markdown",
   "metadata": {},
   "source": [
    "### Find Smallest Between 4 Number Using Ternary Operation and Conditional Statement"
   ]
  },
  {
   "cell_type": "code",
   "execution_count": 7,
   "metadata": {},
   "outputs": [
    {
     "name": "stdout",
     "output_type": "stream",
     "text": [
      "numbers are 4, 3, 2, 1\n"
     ]
    },
    {
     "data": {
      "text/plain": [
       "1"
      ]
     },
     "execution_count": 7,
     "metadata": {},
     "output_type": "execute_result"
    }
   ],
   "source": [
    "#using ternary operation\n",
    "a = int(input())\n",
    "b = int(input())\n",
    "c = int(input())\n",
    "d = int(input())\n",
    "print(f\"numbers are {a}, {b}, {c}, {d}\")\n",
    "small = a if (a<b and a<c and a<d) else (b if (b<a and b<c and b<d) else (c if c<a and c<b and c<d else d))\n",
    "small "
   ]
  },
  {
   "cell_type": "code",
   "execution_count": 2,
   "metadata": {},
   "outputs": [
    {
     "name": "stdout",
     "output_type": "stream",
     "text": [
      "numbers are 2, 3, 3, 4\n",
      "2\n"
     ]
    }
   ],
   "source": [
    "#using Conditional Statement\n",
    "a = int(input())\n",
    "b = int(input())\n",
    "c = int(input())\n",
    "d = int(input())\n",
    "print(f\"numbers are {a}, {b}, {c}, {d}\")\n",
    "if a<b and a<c and a<d:\n",
    "    print(a)\n",
    "elif b<a and b<c and b<d:\n",
    "    print(b)\n",
    "elif c<a and c<b and c<d:\n",
    "    print(c)\n",
    "else:\n",
    "    print(d)"
   ]
  },
  {
   "cell_type": "markdown",
   "metadata": {},
   "source": [
    "### SMART DOOR SYSTEM"
   ]
  },
  {
   "cell_type": "code",
   "execution_count": 12,
   "metadata": {},
   "outputs": [
    {
     "name": "stdout",
     "output_type": "stream",
     "text": [
      "Wrong Password..Try Again\n",
      "Wrong Password..Try Again\n",
      "You Have To Answer Security Question to reset pass...what is your fav place?\n",
      "answer acepted\n",
      "New password has been updated\n",
      "Wrong Password..Try Again\n",
      "Welcome!....You can Enter\n"
     ]
    }
   ],
   "source": [
    "#using function\n",
    "org_pass = \"open@123\" #global variable\n",
    "def smartdoor():\n",
    "    global org_pass #refer to the global variable by using the global keyword\n",
    "    password = 1\n",
    "    while password < 4:\n",
    "        seq_ans = \"london\"\n",
    "        pass_code = input(\"Please Enter Password: \")\n",
    "        if pass_code ==  org_pass:\n",
    "            print(\"Welcome!....You can Enter\")\n",
    "            break\n",
    "        elif password != 3:\n",
    "            print(\"Wrong Password..Try Again\")\n",
    "        else:\n",
    "            print(\"You Have To Answer Security Question to reset pass...what is your fav place?\")\n",
    "            seq_code = input(\"Please Enter secret answer :\")\n",
    "            if seq_code == seq_ans:\n",
    "                print(\"answer acepted\")\n",
    "                new_org_pass = input(\"give new password :\")\n",
    "                org_pass = new_org_pass\n",
    "                print(\"New password has been updated\")            \n",
    "                #password = 0\n",
    "                smartdoor()\n",
    "            else:\n",
    "                print(\"wrong Sequrity Answer...Door is Locked\")\n",
    "        \n",
    "        #org_pass = new_arg_pass\n",
    "        password += 1\n",
    "\n",
    "smartdoor()"
   ]
  },
  {
   "cell_type": "code",
   "execution_count": 7,
   "metadata": {},
   "outputs": [
    {
     "name": "stdout",
     "output_type": "stream",
     "text": [
      "Wrong Password..Try Again\n",
      "Wrong Password..Try Again\n",
      "You Have To Answer Security Question to reset pass...what is your fav place?\n",
      "answer acepted\n",
      "New password has been updated\n",
      "Wrong Password..Try Again\n",
      "Welcome!....You can Enter\n"
     ]
    }
   ],
   "source": [
    "#using while loop\n",
    "org_pass = \"open@123\"\n",
    "password = 1\n",
    "while password < 4:\n",
    "    seq_ans = \"london\"\n",
    "    pass_code = input(\"Please Enter Password: \")\n",
    "    if pass_code ==  org_pass:\n",
    "        print(\"Welcome!....You can Enter\")\n",
    "        break\n",
    "    elif password != 3:\n",
    "        print(\"Wrong Password..Try Again\")\n",
    "    else:\n",
    "        print(\"You Have To Answer Security Question to reset pass...what is your fav place?\")\n",
    "        seq_code = input(\"Please Enter secret answer :\")\n",
    "        if seq_code == seq_ans:\n",
    "            print(\"answer acepted\")\n",
    "            new_org_pass = input(\"give new password :\")\n",
    "            org_pass = new_org_pass\n",
    "            print(\"New password has been updated\")            \n",
    "            password = 0\n",
    "        else:\n",
    "            print(\"wrong Sequrity Answer...Door is Locked\")\n",
    "    \n",
    "    #org_pass = new_arg_pass\n",
    "    password += 1\n",
    "    "
   ]
  },
  {
   "cell_type": "markdown",
   "metadata": {},
   "source": [
    "### Task: Find Factorial of number using recursion"
   ]
  },
  {
   "cell_type": "code",
   "execution_count": 13,
   "metadata": {},
   "outputs": [
    {
     "data": {
      "text/plain": [
       "720"
      ]
     },
     "execution_count": 13,
     "metadata": {},
     "output_type": "execute_result"
    }
   ],
   "source": [
    "def fact(num: int) -> int:\n",
    "    if num < 1:\n",
    "        return 1\n",
    "    return num*fact(num - 1)\n",
    "\n",
    "fact(num = int(input(\"Please Enter number :\")))"
   ]
  }
 ],
 "metadata": {
  "kernelspec": {
   "display_name": "Python 3.10.6 64-bit",
   "language": "python",
   "name": "python3"
  },
  "language_info": {
   "codemirror_mode": {
    "name": "ipython",
    "version": 3
   },
   "file_extension": ".py",
   "mimetype": "text/x-python",
   "name": "python",
   "nbconvert_exporter": "python",
   "pygments_lexer": "ipython3",
   "version": "3.10.6"
  },
  "orig_nbformat": 4,
  "vscode": {
   "interpreter": {
    "hash": "369f2c481f4da34e4445cda3fffd2e751bd1c4d706f27375911949ba6bb62e1c"
   }
  }
 },
 "nbformat": 4,
 "nbformat_minor": 2
}
