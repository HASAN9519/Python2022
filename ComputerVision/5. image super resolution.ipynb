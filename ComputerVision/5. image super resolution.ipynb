{
 "cells": [
  {
   "cell_type": "markdown",
   "id": "f31bda5c",
   "metadata": {
    "toc": true
   },
   "source": [
    "<h1>Table of Contents<span class=\"tocSkip\"></span></h1>\n",
    "<div class=\"toc\"><ul class=\"toc-item\"><li><span><a href=\"#Importing-librarys\" data-toc-modified-id=\"Importing-librarys-1\"><span class=\"toc-item-num\">1&nbsp;&nbsp;</span>Importing librarys</a></span></li><li><span><a href=\"#data-loader\" data-toc-modified-id=\"data-loader-2\"><span class=\"toc-item-num\">2&nbsp;&nbsp;</span>data loader</a></span></li><li><span><a href=\"#image-super-resolution\" data-toc-modified-id=\"image-super-resolution-3\"><span class=\"toc-item-num\">3&nbsp;&nbsp;</span>image super resolution</a></span></li><li><span><a href=\"#Model-Building\" data-toc-modified-id=\"Model-Building-4\"><span class=\"toc-item-num\">4&nbsp;&nbsp;</span>Model Building</a></span></li><li><span><a href=\"#model-evaluation\" data-toc-modified-id=\"model-evaluation-5\"><span class=\"toc-item-num\">5&nbsp;&nbsp;</span>model evaluation</a></span></li></ul></div>"
   ]
  },
  {
   "cell_type": "markdown",
   "id": "cfe7d241",
   "metadata": {},
   "source": [
    "# Importing librarys"
   ]
  },
  {
   "cell_type": "code",
   "execution_count": 2,
   "id": "50d924e5",
   "metadata": {
    "ExecuteTime": {
     "end_time": "2023-11-02T16:07:37.384951Z",
     "start_time": "2023-11-02T16:07:37.373381Z"
    }
   },
   "outputs": [],
   "source": [
    "import tensorflow as tf\n",
    "import numpy as np\n",
    "import pandas as pd\n",
    "import matplotlib.pyplot as plt\n",
    "import random\n",
    "import os\n",
    "from glob import glob\n",
    "\n",
    "from tensorflow import keras\n",
    "from tensorflow.keras import layers\n",
    "from tensorflow.keras.layers import *\n",
    "from tensorflow.keras.models import *\n",
    "from tensorflow.keras.callbacks import *\n",
    "from tensorflow.keras import backend as K\n",
    "from tensorflow.keras.utils import *\n",
    "from tensorflow.keras.regularizers import *"
   ]
  },
  {
   "cell_type": "markdown",
   "id": "4f95ba9b",
   "metadata": {},
   "source": [
    "# data loader"
   ]
  },
  {
   "cell_type": "code",
   "execution_count": 3,
   "id": "e962250b",
   "metadata": {
    "ExecuteTime": {
     "end_time": "2023-11-02T16:08:12.467360Z",
     "start_time": "2023-11-02T16:08:12.454223Z"
    }
   },
   "outputs": [
    {
     "name": "stdout",
     "output_type": "stream",
     "text": [
      "n01440764 folder is lebel 0\n",
      "n01443537 folder is lebel 1\n",
      "n01484850 folder is lebel 2\n",
      "n01491361 folder is lebel 3\n",
      "n01494475 folder is lebel 4\n",
      "n01496331 folder is lebel 5\n"
     ]
    }
   ],
   "source": [
    "folders = os.listdir('c:\\\\Users\\\\SHEHA\\\\Downloads\\\\GitHubRepository\\\\Python2022\\\\ComputerVision\\\\Dataset\\\\Assignment1')\n",
    "for i,j in enumerate(folders):\n",
    "    print('{j} folder is lebel {i}'.format(i=i, j=j))"
   ]
  },
  {
   "cell_type": "code",
   "execution_count": 4,
   "id": "0c20aa06",
   "metadata": {
    "ExecuteTime": {
     "end_time": "2023-11-02T16:08:24.355106Z",
     "start_time": "2023-11-02T16:08:24.334842Z"
    }
   },
   "outputs": [
    {
     "data": {
      "text/plain": [
       "6"
      ]
     },
     "execution_count": 4,
     "metadata": {},
     "output_type": "execute_result"
    }
   ],
   "source": [
    "datat = np.sort(np.array(glob('./Dataset/Assignment1/*')))    \n",
    "len(datat)"
   ]
  },
  {
   "cell_type": "code",
   "execution_count": 5,
   "id": "96bf2d7d",
   "metadata": {
    "ExecuteTime": {
     "end_time": "2023-11-02T16:08:33.793991Z",
     "start_time": "2023-11-02T16:08:33.774239Z"
    }
   },
   "outputs": [],
   "source": [
    "def all_train_dir(datat):\n",
    "    kw = list()\n",
    "    kb = list()\n",
    "\n",
    "    for j in range(len(datat)//1):\n",
    "        v1 = np.sort(np.array(glob(datat[j]+'/*')))\n",
    "        random.shuffle(v1)\n",
    "\n",
    "        for i in range(len(v1)//1):\n",
    "\n",
    "            kw.append(v1[i])\n",
    "            kb.append(j)\n",
    "\n",
    "    return np.array(kw),np.array(kb)"
   ]
  },
  {
   "cell_type": "code",
   "execution_count": 6,
   "id": "ff52e01b",
   "metadata": {
    "ExecuteTime": {
     "end_time": "2023-11-02T16:08:41.424535Z",
     "start_time": "2023-11-02T16:08:41.404604Z"
    }
   },
   "outputs": [],
   "source": [
    "tdr1, tdr2 = all_train_dir(datat)"
   ]
  },
  {
   "cell_type": "code",
   "execution_count": 7,
   "id": "b0e8dc5c",
   "metadata": {
    "ExecuteTime": {
     "end_time": "2023-11-02T16:08:54.360223Z",
     "start_time": "2023-11-02T16:08:54.345085Z"
    }
   },
   "outputs": [
    {
     "name": "stdout",
     "output_type": "stream",
     "text": [
      "<class 'numpy.ndarray'>\n",
      "(180,)\n",
      "<class 'numpy.ndarray'>\n",
      "(180,)\n"
     ]
    }
   ],
   "source": [
    "print(type(tdr1))\n",
    "print(tdr1.shape)\n",
    "print(type(tdr2))\n",
    "print(tdr2.shape)"
   ]
  },
  {
   "cell_type": "code",
   "execution_count": 9,
   "id": "3817529c",
   "metadata": {
    "ExecuteTime": {
     "end_time": "2023-11-02T16:09:10.720748Z",
     "start_time": "2023-11-02T16:09:10.686285Z"
    }
   },
   "outputs": [
    {
     "data": {
      "text/plain": [
       "array([[1., 0., 0., 0., 0., 0.],\n",
       "       [1., 0., 0., 0., 0., 0.],\n",
       "       [1., 0., 0., 0., 0., 0.],\n",
       "       ...,\n",
       "       [0., 0., 0., 0., 0., 1.],\n",
       "       [0., 0., 0., 0., 0., 1.],\n",
       "       [0., 0., 0., 0., 0., 1.]], dtype=float32)"
      ]
     },
     "execution_count": 9,
     "metadata": {},
     "output_type": "execute_result"
    }
   ],
   "source": [
    "# label encoding\n",
    "tdr2 = to_categorical(tdr2, len(np.unique(tdr2)))\n",
    "tdr2"
   ]
  },
  {
   "cell_type": "code",
   "execution_count": 10,
   "id": "655dc97c",
   "metadata": {
    "ExecuteTime": {
     "end_time": "2023-11-02T16:10:25.398245Z",
     "start_time": "2023-11-02T16:10:25.378749Z"
    }
   },
   "outputs": [],
   "source": [
    "# image preprocess\n",
    "img_size = (224, 224)\n",
    "batch_size = 180   # giving whole dataset\n",
    "\n",
    "def preprocess_image(filename, label):\n",
    "    image_string = tf.io.read_file(filename)\n",
    "    image = tf.image.decode_jpeg(image_string, channels=3)\n",
    "    image = tf.image.resize(image, img_size)\n",
    "    return image, label"
   ]
  },
  {
   "cell_type": "code",
   "execution_count": 11,
   "id": "84e29c7c",
   "metadata": {
    "ExecuteTime": {
     "end_time": "2023-11-02T16:10:40.829662Z",
     "start_time": "2023-11-02T16:10:40.751100Z"
    }
   },
   "outputs": [],
   "source": [
    "# data loader from directory\n",
    "dataset1 = tf.data.Dataset.from_tensor_slices((tdr1, tdr2)).shuffle(180)"
   ]
  },
  {
   "cell_type": "code",
   "execution_count": 12,
   "id": "cd14c2ba",
   "metadata": {
    "ExecuteTime": {
     "end_time": "2023-11-02T16:10:50.033668Z",
     "start_time": "2023-11-02T16:10:49.912168Z"
    }
   },
   "outputs": [],
   "source": [
    "train_image1 = dataset1.map(preprocess_image).batch(batch_size).prefetch(1)"
   ]
  },
  {
   "cell_type": "code",
   "execution_count": 13,
   "id": "9c664d82",
   "metadata": {
    "ExecuteTime": {
     "end_time": "2023-11-02T16:11:03.277181Z",
     "start_time": "2023-11-02T16:11:02.990537Z"
    }
   },
   "outputs": [
    {
     "name": "stdout",
     "output_type": "stream",
     "text": [
      "0 (180, 224, 224, 3) (180, 6)\n"
     ]
    }
   ],
   "source": [
    "for i, (x,y) in enumerate(train_image1):\n",
    "    print(i, x.shape, y.shape)"
   ]
  },
  {
   "cell_type": "code",
   "execution_count": 14,
   "id": "c897d829",
   "metadata": {
    "ExecuteTime": {
     "end_time": "2023-11-02T16:11:15.560285Z",
     "start_time": "2023-11-02T16:11:15.544928Z"
    }
   },
   "outputs": [
    {
     "name": "stdout",
     "output_type": "stream",
     "text": [
      "<dtype: 'float32'>\n",
      "<class 'tensorflow.python.framework.ops.EagerTensor'>\n",
      "(180, 224, 224, 3)\n"
     ]
    }
   ],
   "source": [
    "print(x.dtype)\n",
    "print(type(x))\n",
    "print(x.shape)"
   ]
  },
  {
   "cell_type": "code",
   "execution_count": 15,
   "id": "863e003e",
   "metadata": {
    "ExecuteTime": {
     "end_time": "2023-11-02T16:11:52.843646Z",
     "start_time": "2023-11-02T16:11:52.762844Z"
    }
   },
   "outputs": [
    {
     "name": "stdout",
     "output_type": "stream",
     "text": [
      "(180, 224, 224, 3)\n",
      "(180, 64, 64, 3)\n"
     ]
    }
   ],
   "source": [
    "b = x\n",
    "\n",
    "b = b/255\n",
    "print(b.shape)\n",
    "dm = 64\n",
    "b = (tf.image.resize(b, [dm, dm]))\n",
    "print(b.shape)"
   ]
  },
  {
   "cell_type": "code",
   "execution_count": 16,
   "id": "906c5398",
   "metadata": {
    "ExecuteTime": {
     "end_time": "2023-11-02T16:13:05.539965Z",
     "start_time": "2023-11-02T16:13:05.256653Z"
    }
   },
   "outputs": [
    {
     "data": {
      "text/plain": [
       "<matplotlib.image.AxesImage at 0x1d5eeae3790>"
      ]
     },
     "execution_count": 16,
     "metadata": {},
     "output_type": "execute_result"
    },
    {
     "data": {
      "image/png": "[encoded data removed]",
      "text/plain": [
       "<Figure size 400x400 with 1 Axes>"
      ]
     },
     "metadata": {},
     "output_type": "display_data"
    }
   ],
   "source": [
    "plt.figure(figsize=(4, 4))\n",
    "\n",
    "n=b[18]\n",
    "plt.imshow(n)"
   ]
  },
  {
   "cell_type": "code",
   "execution_count": null,
   "id": "0d0be4f8",
   "metadata": {},
   "outputs": [],
   "source": []
  },
  {
   "cell_type": "markdown",
   "id": "c74bcabe",
   "metadata": {},
   "source": [
    "#  image super resolution\n"
   ]
  },
  {
   "cell_type": "code",
   "execution_count": 20,
   "id": "f2396144",
   "metadata": {
    "ExecuteTime": {
     "end_time": "2023-11-02T16:30:06.865366Z",
     "start_time": "2023-11-02T16:30:06.849719Z"
    }
   },
   "outputs": [],
   "source": [
    "# here fc is a downscale factor\n",
    "\n",
    "def lsr(im,fc):\n",
    "    # fc is 0 to 1\n",
    "    d1=im.shape[1]\n",
    "    d2=im.shape[2]\n",
    "    d3=round(d1*fc)\n",
    "    d4=round(d2*fc)\n",
    "    w1=  (tf.image.resize(im, [d3, d4]))\n",
    "    print(w1.shape)\n",
    "    return  np.float32(tf.image.resize(w1, [d1, d2]))"
   ]
  },
  {
   "cell_type": "code",
   "execution_count": 21,
   "id": "2fbcaffb",
   "metadata": {
    "ExecuteTime": {
     "end_time": "2023-11-02T16:30:07.432985Z",
     "start_time": "2023-11-02T16:30:07.397354Z"
    }
   },
   "outputs": [
    {
     "name": "stdout",
     "output_type": "stream",
     "text": [
      "orginal shape (180, 64, 64, 3)\n",
      "(180, 24, 24, 3)\n",
      "(180, 27, 27, 3)\n",
      "(180, 21, 21, 3)\n",
      "(540, 64, 64, 3) (540, 32, 32, 3)\n"
     ]
    }
   ],
   "source": [
    "print(\"orginal shape\", b.shape)\n",
    "b2d = tf.image.resize(b, [dm//2, dm//2])\n",
    "\n",
    "ns1 =  lsr(b2d, .75)\n",
    "ns2 =  lsr(b2d, .85)\n",
    "ns3 =  lsr(b2d, .65)\n",
    "\n",
    "\n",
    "all_gt = np.concatenate([b,b,b])\n",
    "all_ns = np.concatenate([ns1,ns2,ns3])\n",
    "\n",
    "print(all_gt.shape, all_ns.shape)"
   ]
  },
  {
   "cell_type": "code",
   "execution_count": 22,
   "id": "4b8c3714",
   "metadata": {
    "ExecuteTime": {
     "end_time": "2023-11-02T16:36:26.810217Z",
     "start_time": "2023-11-02T16:36:26.774765Z"
    }
   },
   "outputs": [],
   "source": [
    "from sklearn.model_selection import train_test_split\n",
    "\n",
    "X_train, X_val, y_train, y_val = train_test_split( all_ns, all_gt,  test_size=0.1, random_state=42)"
   ]
  },
  {
   "cell_type": "code",
   "execution_count": 23,
   "id": "8b04d554",
   "metadata": {
    "ExecuteTime": {
     "end_time": "2023-11-02T16:36:42.447485Z",
     "start_time": "2023-11-02T16:36:42.432236Z"
    }
   },
   "outputs": [
    {
     "name": "stdout",
     "output_type": "stream",
     "text": [
      "(486, 32, 32, 3)\n",
      "(486, 64, 64, 3)\n",
      "(54, 32, 32, 3)\n",
      "(54, 64, 64, 3)\n"
     ]
    }
   ],
   "source": [
    "print(X_train.shape)\n",
    "print(y_train.shape)\n",
    "print(X_val.shape)\n",
    "print(y_val.shape)"
   ]
  },
  {
   "cell_type": "code",
   "execution_count": 24,
   "id": "71c9ca3c",
   "metadata": {
    "ExecuteTime": {
     "end_time": "2023-11-02T16:38:52.267910Z",
     "start_time": "2023-11-02T16:38:52.159785Z"
    }
   },
   "outputs": [],
   "source": [
    "# image augmentation after getting noisy sample\n",
    "# here all are geometric augmentation, not related to pixel values\n",
    "def aug_aftr(ary, optn):\n",
    "    if optn ==1:\n",
    "        aryaug = tf.image.flip_up_down(ary)\n",
    "    if optn ==2:\n",
    "        aryaug=tf.image.transpose(ary)\n",
    "    else:\n",
    "        aryaug = tf.image.flip_left_right(ary)\n",
    "    return aryaug\n",
    "\n",
    "X_traina = np.concatenate([X_train, aug_aftr(X_train,3), aug_aftr(X_train,1), aug_aftr(X_train,2)])\n",
    "y_traina = np.concatenate([y_train, aug_aftr(y_train,3), aug_aftr(y_train,1), aug_aftr(y_train,2)])"
   ]
  },
  {
   "cell_type": "code",
   "execution_count": 25,
   "id": "df60fee7",
   "metadata": {
    "ExecuteTime": {
     "end_time": "2023-11-02T16:39:01.667513Z",
     "start_time": "2023-11-02T16:39:01.649241Z"
    }
   },
   "outputs": [
    {
     "name": "stdout",
     "output_type": "stream",
     "text": [
      "(1944, 32, 32, 3) (1944, 64, 64, 3)\n"
     ]
    }
   ],
   "source": [
    "print(X_traina.shape, y_traina.shape)"
   ]
  },
  {
   "cell_type": "code",
   "execution_count": 28,
   "id": "73dfdb23",
   "metadata": {
    "ExecuteTime": {
     "end_time": "2023-11-02T16:41:25.922133Z",
     "start_time": "2023-11-02T16:41:25.915962Z"
    }
   },
   "outputs": [],
   "source": [
    "def plot_sample(lr, sr):\n",
    "    plt.figure(figsize=(8, 6))\n",
    "\n",
    "    images = [lr, sr]\n",
    "    titles = ['lowres', 'org']\n",
    "\n",
    "    for i, (img, title) in enumerate(zip(images, titles)):\n",
    "        plt.subplot(1, 2, i+1)\n",
    "        plt.imshow(img)\n",
    "        plt.title(title)\n",
    "        plt.xticks([])\n",
    "        plt.yticks([])"
   ]
  },
  {
   "cell_type": "code",
   "execution_count": 29,
   "id": "9c18b161",
   "metadata": {
    "ExecuteTime": {
     "end_time": "2023-11-02T16:41:27.456654Z",
     "start_time": "2023-11-02T16:41:27.346303Z"
    }
   },
   "outputs": [
    {
     "data": {
      "image/png": "[encoded data removed]",
      "text/plain": [
       "<Figure size 800x600 with 2 Axes>"
      ]
     },
     "metadata": {},
     "output_type": "display_data"
    }
   ],
   "source": [
    "rid = np.random.choice(len(X_traina))\n",
    "plot_sample(X_traina[rid], y_traina[rid])"
   ]
  },
  {
   "cell_type": "markdown",
   "id": "f29fbff4",
   "metadata": {},
   "source": [
    "# Model Building"
   ]
  },
  {
   "cell_type": "code",
   "execution_count": 39,
   "id": "0e6e889e",
   "metadata": {
    "ExecuteTime": {
     "end_time": "2023-11-02T16:49:00.464485Z",
     "start_time": "2023-11-02T16:49:00.187417Z"
    }
   },
   "outputs": [
    {
     "name": "stdout",
     "output_type": "stream",
     "text": [
      "Model: \"model_3\"\n",
      "__________________________________________________________________________________________________\n",
      " Layer (type)                   Output Shape         Param #     Connected to                     \n",
      "==================================================================================================\n",
      " input_4 (InputLayer)           [(None, 32, 32, 3)]  0           []                               \n",
      "                                                                                                  \n",
      " conv2d_51 (Conv2D)             (None, 32, 32, 64)   1792        ['input_4[0][0]']                \n",
      "                                                                                                  \n",
      " activation_48 (Activation)     (None, 32, 32, 64)   0           ['conv2d_51[0][0]']              \n",
      "                                                                                                  \n",
      " conv2d_52 (Conv2D)             (None, 32, 32, 64)   36928       ['activation_48[0][0]']          \n",
      "                                                                                                  \n",
      " activation_49 (Activation)     (None, 32, 32, 64)   0           ['conv2d_52[0][0]']              \n",
      "                                                                                                  \n",
      " conv2d_53 (Conv2D)             (None, 32, 32, 64)   36928       ['activation_49[0][0]']          \n",
      "                                                                                                  \n",
      " activation_50 (Activation)     (None, 32, 32, 64)   0           ['conv2d_53[0][0]']              \n",
      "                                                                                                  \n",
      " conv2d_54 (Conv2D)             (None, 32, 32, 64)   36928       ['activation_50[0][0]']          \n",
      "                                                                                                  \n",
      " activation_51 (Activation)     (None, 32, 32, 64)   0           ['conv2d_54[0][0]']              \n",
      "                                                                                                  \n",
      " conv2d_55 (Conv2D)             (None, 32, 32, 64)   36928       ['activation_51[0][0]']          \n",
      "                                                                                                  \n",
      " activation_52 (Activation)     (None, 32, 32, 64)   0           ['conv2d_55[0][0]']              \n",
      "                                                                                                  \n",
      " conv2d_56 (Conv2D)             (None, 32, 32, 64)   36928       ['activation_52[0][0]']          \n",
      "                                                                                                  \n",
      " activation_53 (Activation)     (None, 32, 32, 64)   0           ['conv2d_56[0][0]']              \n",
      "                                                                                                  \n",
      " conv2d_57 (Conv2D)             (None, 32, 32, 64)   36928       ['activation_53[0][0]']          \n",
      "                                                                                                  \n",
      " activation_54 (Activation)     (None, 32, 32, 64)   0           ['conv2d_57[0][0]']              \n",
      "                                                                                                  \n",
      " conv2d_58 (Conv2D)             (None, 32, 32, 64)   36928       ['activation_54[0][0]']          \n",
      "                                                                                                  \n",
      " activation_55 (Activation)     (None, 32, 32, 64)   0           ['conv2d_58[0][0]']              \n",
      "                                                                                                  \n",
      " conv2d_59 (Conv2D)             (None, 32, 32, 64)   36928       ['activation_55[0][0]']          \n",
      "                                                                                                  \n",
      " activation_56 (Activation)     (None, 32, 32, 64)   0           ['conv2d_59[0][0]']              \n",
      "                                                                                                  \n",
      " conv2d_60 (Conv2D)             (None, 32, 32, 64)   36928       ['activation_56[0][0]']          \n",
      "                                                                                                  \n",
      " activation_57 (Activation)     (None, 32, 32, 64)   0           ['conv2d_60[0][0]']              \n",
      "                                                                                                  \n",
      " conv2d_61 (Conv2D)             (None, 32, 32, 64)   36928       ['activation_57[0][0]']          \n",
      "                                                                                                  \n",
      " activation_58 (Activation)     (None, 32, 32, 64)   0           ['conv2d_61[0][0]']              \n",
      "                                                                                                  \n",
      " conv2d_62 (Conv2D)             (None, 32, 32, 64)   36928       ['activation_58[0][0]']          \n",
      "                                                                                                  \n",
      " activation_59 (Activation)     (None, 32, 32, 64)   0           ['conv2d_62[0][0]']              \n",
      "                                                                                                  \n",
      " conv2d_63 (Conv2D)             (None, 32, 32, 64)   36928       ['activation_59[0][0]']          \n",
      "                                                                                                  \n",
      " activation_60 (Activation)     (None, 32, 32, 64)   0           ['conv2d_63[0][0]']              \n",
      "                                                                                                  \n",
      " conv2d_64 (Conv2D)             (None, 32, 32, 64)   36928       ['activation_60[0][0]']          \n",
      "                                                                                                  \n",
      " activation_61 (Activation)     (None, 32, 32, 64)   0           ['conv2d_64[0][0]']              \n",
      "                                                                                                  \n",
      " conv2d_65 (Conv2D)             (None, 32, 32, 64)   36928       ['activation_61[0][0]']          \n",
      "                                                                                                  \n",
      " activation_62 (Activation)     (None, 32, 32, 64)   0           ['conv2d_65[0][0]']              \n",
      "                                                                                                  \n",
      " conv2d_66 (Conv2D)             (None, 32, 32, 64)   36928       ['activation_62[0][0]']          \n",
      "                                                                                                  \n",
      " activation_63 (Activation)     (None, 32, 32, 64)   0           ['conv2d_66[0][0]']              \n",
      "                                                                                                  \n",
      " conv2d_67 (Conv2D)             (None, 32, 32, 3)    1731        ['activation_63[0][0]']          \n",
      "                                                                                                  \n",
      " subtract_3 (Subtract)          (None, 32, 32, 3)    0           ['input_4[0][0]',                \n",
      "                                                                  'conv2d_67[0][0]']              \n",
      "                                                                                                  \n",
      " up_sampling2d_3 (UpSampling2D)  (None, 64, 64, 3)   0           ['subtract_3[0][0]']             \n",
      "                                                                                                  \n",
      "==================================================================================================\n",
      "Total params: 557,443\n",
      "Trainable params: 557,443\n",
      "Non-trainable params: 0\n",
      "__________________________________________________________________________________________________\n"
     ]
    }
   ],
   "source": [
    "def DnCNN():\n",
    "    input_img = Input(shape=(32,32,3))\n",
    "    # 1st layer, Conv+relu\n",
    "    x = Conv2D(filters=64, kernel_size=(3,3), strides=(1,1), padding='same')(input_img)\n",
    "    x = Activation('relu')(x)\n",
    "        # 15 layers, Conv+BN+relu\n",
    "    for i in range(15):\n",
    "        x = Conv2D(filters=64, kernel_size=(3,3), strides=(1,1), padding='same')(x)\n",
    "        #x = BatchNormalization(axis=-1, epsilon=1e-3)(x)\n",
    "        x = Activation('relu')(x)\n",
    "        # last layer, Conv\n",
    "    x = Conv2D(filters=3, kernel_size=(3,3), strides=(1,1), padding='same')(x)\n",
    "    x = Subtract()([input_img, x])   # input - blur/low res info\n",
    "    #x = Add()([input_img, x])   # input + details/high res info\n",
    "    x = UpSampling2D((2,2))(x)\n",
    "    model = Model(input_img, x)\n",
    "    return model\n",
    "\n",
    "\n",
    "model = DnCNN()\n",
    "#model.compile(loss='mae', optimizer=opt,    metrics=[  \"accuracy\"])\n",
    "model.summary()"
   ]
  },
  {
   "cell_type": "code",
   "execution_count": 40,
   "id": "8748f147",
   "metadata": {
    "ExecuteTime": {
     "end_time": "2023-11-02T16:49:01.617187Z",
     "start_time": "2023-11-02T16:49:01.604586Z"
    }
   },
   "outputs": [],
   "source": [
    "bzs = 16\n",
    "train_dataset = tf.data.Dataset.from_tensor_slices((X_traina, y_traina))\n",
    "train_dataset = train_dataset.shuffle(buffer_size=1500).batch(bzs)\n",
    "\n",
    "val_dataset = tf.data.Dataset.from_tensor_slices((X_val, y_val))\n",
    "val_dataset = val_dataset.batch(bzs)"
   ]
  },
  {
   "cell_type": "code",
   "execution_count": 41,
   "id": "73a8952a",
   "metadata": {
    "ExecuteTime": {
     "end_time": "2023-11-02T16:49:05.081626Z",
     "start_time": "2023-11-02T16:49:05.066342Z"
    }
   },
   "outputs": [],
   "source": [
    "optimizer = tf.keras.optimizers.Adam(learning_rate=1e-3)\n",
    "\n",
    "reduce_lr = ReduceLROnPlateau(monitor = 'val_loss',\n",
    "                              factor = 0.4,\n",
    "                              patience = 6,\n",
    "                              verbose = 1,\n",
    "                              min_delta = 0.0001)\n",
    "\n",
    "# model is saved is on this path\n",
    "filepath=\"asset/super_res_model.h5\"\n",
    "checkpoint = ModelCheckpoint(filepath,\n",
    "                             monitor='val_loss',\n",
    "                             verbose=1,\n",
    "                             save_best_only=True,\n",
    "                             mode='min')"
   ]
  },
  {
   "cell_type": "code",
   "execution_count": 42,
   "id": "66296c45",
   "metadata": {
    "ExecuteTime": {
     "end_time": "2023-11-02T16:49:05.959738Z",
     "start_time": "2023-11-02T16:49:05.951065Z"
    }
   },
   "outputs": [],
   "source": [
    "## accuracy metrics used for denoising and super resolution\n",
    "# psnr_m best for denoising\n",
    "# ssim_m best for super resolution\n",
    "\n",
    "def psnr_m(y_true, y_pred,):\n",
    "    return  tf.reduce_mean(tf.image.psnr(y_true, y_pred, 1.0))\n",
    "\n",
    "def ssim_m(y_true, y_pred,):\n",
    "    return tf.reduce_mean(tf.image.ssim(y_true, y_pred, 1.0))"
   ]
  },
  {
   "cell_type": "code",
   "execution_count": 43,
   "id": "85fdf1bd",
   "metadata": {
    "ExecuteTime": {
     "end_time": "2023-11-02T16:49:07.448713Z",
     "start_time": "2023-11-02T16:49:07.435271Z"
    }
   },
   "outputs": [],
   "source": [
    "# loss functions\n",
    "def SSIMLoss(y_true, y_pred):\n",
    "    return 1 - tf.reduce_mean(tf.image.ssim(y_true, y_pred, 1.0))\n",
    "\n",
    "def msse(y_true, y_pred):\n",
    "    return K.mean(tf.keras.losses.mse(y_true, y_pred))\n",
    "\n",
    "\n",
    "def closs(y_true, y_pred):\n",
    "    return ( 0.2* SSIMLoss(y_true, y_pred)  + msse(y_true, y_pred))"
   ]
  },
  {
   "cell_type": "code",
   "execution_count": 44,
   "id": "240357ff",
   "metadata": {
    "ExecuteTime": {
     "end_time": "2023-11-02T16:49:08.007865Z",
     "start_time": "2023-11-02T16:49:07.990338Z"
    }
   },
   "outputs": [],
   "source": [
    "model.compile(loss=closs, optimizer=optimizer,  metrics=[psnr_m, ssim_m, \"accuracy\"])"
   ]
  },
  {
   "cell_type": "code",
   "execution_count": 45,
   "id": "5f0eca04",
   "metadata": {
    "ExecuteTime": {
     "end_time": "2023-11-02T16:54:12.365827Z",
     "start_time": "2023-11-02T16:49:08.561390Z"
    }
   },
   "outputs": [
    {
     "name": "stdout",
     "output_type": "stream",
     "text": [
      "Epoch 1/5\n",
      "122/122 [==============================] - ETA: 0s - loss: 0.0694 - psnr_m: 24.4828 - ssim_m: 0.6779 - accuracy: 0.9017\n",
      "Epoch 1: val_loss improved from inf to 0.07624, saving model to asset\\super_res_model.h5\n",
      "122/122 [==============================] - 64s 501ms/step - loss: 0.0694 - psnr_m: 24.4828 - ssim_m: 0.6779 - accuracy: 0.9017 - val_loss: 0.0762 - val_psnr_m: 23.9364 - val_ssim_m: 0.6418 - val_accuracy: 0.9040 - lr: 0.0010\n",
      "Epoch 2/5\n",
      "122/122 [==============================] - ETA: 0s - loss: 0.0694 - psnr_m: 24.4740 - ssim_m: 0.6780 - accuracy: 0.9045\n",
      "Epoch 2: val_loss did not improve from 0.07624\n",
      "122/122 [==============================] - 59s 483ms/step - loss: 0.0694 - psnr_m: 24.4740 - ssim_m: 0.6780 - accuracy: 0.9045 - val_loss: 0.0763 - val_psnr_m: 23.9326 - val_ssim_m: 0.6417 - val_accuracy: 0.9038 - lr: 0.0010\n",
      "Epoch 3/5\n",
      "122/122 [==============================] - ETA: 0s - loss: 0.0694 - psnr_m: 24.4767 - ssim_m: 0.6778 - accuracy: 0.9015\n",
      "Epoch 3: val_loss did not improve from 0.07624\n",
      "122/122 [==============================] - 60s 493ms/step - loss: 0.0694 - psnr_m: 24.4767 - ssim_m: 0.6778 - accuracy: 0.9015 - val_loss: 0.0762 - val_psnr_m: 23.9381 - val_ssim_m: 0.6417 - val_accuracy: 0.9050 - lr: 0.0010\n",
      "Epoch 4/5\n",
      "122/122 [==============================] - ETA: 0s - loss: 0.0694 - psnr_m: 24.4680 - ssim_m: 0.6776 - accuracy: 0.9047\n",
      "Epoch 4: val_loss did not improve from 0.07624\n",
      "122/122 [==============================] - 60s 492ms/step - loss: 0.0694 - psnr_m: 24.4680 - ssim_m: 0.6776 - accuracy: 0.9047 - val_loss: 0.0763 - val_psnr_m: 23.9320 - val_ssim_m: 0.6417 - val_accuracy: 0.9043 - lr: 0.0010\n",
      "Epoch 5/5\n",
      "122/122 [==============================] - ETA: 0s - loss: 0.0694 - psnr_m: 24.4671 - ssim_m: 0.6777 - accuracy: 0.9033\n",
      "Epoch 5: val_loss did not improve from 0.07624\n",
      "122/122 [==============================] - 60s 492ms/step - loss: 0.0694 - psnr_m: 24.4671 - ssim_m: 0.6777 - accuracy: 0.9033 - val_loss: 0.0762 - val_psnr_m: 23.9349 - val_ssim_m: 0.6417 - val_accuracy: 0.9033 - lr: 0.0010\n"
     ]
    }
   ],
   "source": [
    "# epochs based on data size\n",
    "history = model.fit(train_dataset, validation_data=val_dataset,\n",
    "                    epochs=5, batch_size=8, callbacks = [checkpoint, reduce_lr])"
   ]
  },
  {
   "cell_type": "code",
   "execution_count": null,
   "id": "07e3ab28",
   "metadata": {},
   "outputs": [],
   "source": []
  },
  {
   "cell_type": "markdown",
   "id": "b6e9e2c1",
   "metadata": {},
   "source": [
    "# model evaluation"
   ]
  },
  {
   "cell_type": "code",
   "execution_count": 46,
   "id": "52c0134d",
   "metadata": {
    "ExecuteTime": {
     "end_time": "2023-11-02T16:55:24.935770Z",
     "start_time": "2023-11-02T16:55:24.515245Z"
    }
   },
   "outputs": [
    {
     "name": "stdout",
     "output_type": "stream",
     "text": [
      "Model: \"model_3\"\n",
      "__________________________________________________________________________________________________\n",
      " Layer (type)                   Output Shape         Param #     Connected to                     \n",
      "==================================================================================================\n",
      " input_4 (InputLayer)           [(None, 32, 32, 3)]  0           []                               \n",
      "                                                                                                  \n",
      " conv2d_51 (Conv2D)             (None, 32, 32, 64)   1792        ['input_4[0][0]']                \n",
      "                                                                                                  \n",
      " activation_48 (Activation)     (None, 32, 32, 64)   0           ['conv2d_51[0][0]']              \n",
      "                                                                                                  \n",
      " conv2d_52 (Conv2D)             (None, 32, 32, 64)   36928       ['activation_48[0][0]']          \n",
      "                                                                                                  \n",
      " activation_49 (Activation)     (None, 32, 32, 64)   0           ['conv2d_52[0][0]']              \n",
      "                                                                                                  \n",
      " conv2d_53 (Conv2D)             (None, 32, 32, 64)   36928       ['activation_49[0][0]']          \n",
      "                                                                                                  \n",
      " activation_50 (Activation)     (None, 32, 32, 64)   0           ['conv2d_53[0][0]']              \n",
      "                                                                                                  \n",
      " conv2d_54 (Conv2D)             (None, 32, 32, 64)   36928       ['activation_50[0][0]']          \n",
      "                                                                                                  \n",
      " activation_51 (Activation)     (None, 32, 32, 64)   0           ['conv2d_54[0][0]']              \n",
      "                                                                                                  \n",
      " conv2d_55 (Conv2D)             (None, 32, 32, 64)   36928       ['activation_51[0][0]']          \n",
      "                                                                                                  \n",
      " activation_52 (Activation)     (None, 32, 32, 64)   0           ['conv2d_55[0][0]']              \n",
      "                                                                                                  \n",
      " conv2d_56 (Conv2D)             (None, 32, 32, 64)   36928       ['activation_52[0][0]']          \n",
      "                                                                                                  \n",
      " activation_53 (Activation)     (None, 32, 32, 64)   0           ['conv2d_56[0][0]']              \n",
      "                                                                                                  \n",
      " conv2d_57 (Conv2D)             (None, 32, 32, 64)   36928       ['activation_53[0][0]']          \n",
      "                                                                                                  \n",
      " activation_54 (Activation)     (None, 32, 32, 64)   0           ['conv2d_57[0][0]']              \n",
      "                                                                                                  \n",
      " conv2d_58 (Conv2D)             (None, 32, 32, 64)   36928       ['activation_54[0][0]']          \n",
      "                                                                                                  \n",
      " activation_55 (Activation)     (None, 32, 32, 64)   0           ['conv2d_58[0][0]']              \n",
      "                                                                                                  \n",
      " conv2d_59 (Conv2D)             (None, 32, 32, 64)   36928       ['activation_55[0][0]']          \n",
      "                                                                                                  \n",
      " activation_56 (Activation)     (None, 32, 32, 64)   0           ['conv2d_59[0][0]']              \n",
      "                                                                                                  \n",
      " conv2d_60 (Conv2D)             (None, 32, 32, 64)   36928       ['activation_56[0][0]']          \n",
      "                                                                                                  \n",
      " activation_57 (Activation)     (None, 32, 32, 64)   0           ['conv2d_60[0][0]']              \n",
      "                                                                                                  \n",
      " conv2d_61 (Conv2D)             (None, 32, 32, 64)   36928       ['activation_57[0][0]']          \n",
      "                                                                                                  \n",
      " activation_58 (Activation)     (None, 32, 32, 64)   0           ['conv2d_61[0][0]']              \n",
      "                                                                                                  \n",
      " conv2d_62 (Conv2D)             (None, 32, 32, 64)   36928       ['activation_58[0][0]']          \n",
      "                                                                                                  \n",
      " activation_59 (Activation)     (None, 32, 32, 64)   0           ['conv2d_62[0][0]']              \n",
      "                                                                                                  \n",
      " conv2d_63 (Conv2D)             (None, 32, 32, 64)   36928       ['activation_59[0][0]']          \n",
      "                                                                                                  \n",
      " activation_60 (Activation)     (None, 32, 32, 64)   0           ['conv2d_63[0][0]']              \n",
      "                                                                                                  \n",
      " conv2d_64 (Conv2D)             (None, 32, 32, 64)   36928       ['activation_60[0][0]']          \n",
      "                                                                                                  \n",
      " activation_61 (Activation)     (None, 32, 32, 64)   0           ['conv2d_64[0][0]']              \n",
      "                                                                                                  \n",
      " conv2d_65 (Conv2D)             (None, 32, 32, 64)   36928       ['activation_61[0][0]']          \n",
      "                                                                                                  \n",
      " activation_62 (Activation)     (None, 32, 32, 64)   0           ['conv2d_65[0][0]']              \n",
      "                                                                                                  \n",
      " conv2d_66 (Conv2D)             (None, 32, 32, 64)   36928       ['activation_62[0][0]']          \n",
      "                                                                                                  \n",
      " activation_63 (Activation)     (None, 32, 32, 64)   0           ['conv2d_66[0][0]']              \n",
      "                                                                                                  \n",
      " conv2d_67 (Conv2D)             (None, 32, 32, 3)    1731        ['activation_63[0][0]']          \n",
      "                                                                                                  \n",
      " subtract_3 (Subtract)          (None, 32, 32, 3)    0           ['input_4[0][0]',                \n",
      "                                                                  'conv2d_67[0][0]']              \n",
      "                                                                                                  \n",
      " up_sampling2d_3 (UpSampling2D)  (None, 64, 64, 3)   0           ['subtract_3[0][0]']             \n",
      "                                                                                                  \n",
      "==================================================================================================\n",
      "Total params: 557,443\n",
      "Trainable params: 557,443\n",
      "Non-trainable params: 0\n",
      "__________________________________________________________________________________________________\n"
     ]
    }
   ],
   "source": [
    "from tensorflow.keras.models import load_model\n",
    "\n",
    "nmodel = load_model('asset/super_res_model.h5', custom_objects={\"psnr_m\": psnr_m, \"ssim_m\": ssim_m, \"closs\":closs})\n",
    "nmodel.summary()"
   ]
  },
  {
   "cell_type": "code",
   "execution_count": 66,
   "id": "f8d34edb",
   "metadata": {
    "ExecuteTime": {
     "end_time": "2023-11-02T17:11:50.974413Z",
     "start_time": "2023-11-02T17:11:50.830990Z"
    }
   },
   "outputs": [
    {
     "data": {
      "text/plain": [
       "<matplotlib.image.AxesImage at 0x1d591c16230>"
      ]
     },
     "execution_count": 66,
     "metadata": {},
     "output_type": "execute_result"
    },
    {
     "data": {
      "image/png": "[encoded data removed]",
      "text/plain": [
       "<Figure size 640x480 with 1 Axes>"
      ]
     },
     "metadata": {},
     "output_type": "display_data"
    }
   ],
   "source": [
    "img = b[4]\n",
    "plt.imshow(img)"
   ]
  },
  {
   "cell_type": "code",
   "execution_count": 67,
   "id": "e667f115",
   "metadata": {
    "ExecuteTime": {
     "end_time": "2023-11-02T17:11:53.752353Z",
     "start_time": "2023-11-02T17:11:53.742580Z"
    }
   },
   "outputs": [
    {
     "data": {
      "text/plain": [
       "TensorShape([64, 64, 3])"
      ]
     },
     "execution_count": 67,
     "metadata": {},
     "output_type": "execute_result"
    }
   ],
   "source": [
    "img.shape"
   ]
  },
  {
   "cell_type": "code",
   "execution_count": 68,
   "id": "32c27428",
   "metadata": {
    "ExecuteTime": {
     "end_time": "2023-11-02T17:11:54.114324Z",
     "start_time": "2023-11-02T17:11:54.101824Z"
    }
   },
   "outputs": [
    {
     "data": {
      "text/plain": [
       "TensorShape([32, 32, 3])"
      ]
     },
     "execution_count": 68,
     "metadata": {},
     "output_type": "execute_result"
    }
   ],
   "source": [
    "img = tf.image.resize(img, [32, 32])\n",
    "img.shape"
   ]
  },
  {
   "cell_type": "code",
   "execution_count": 69,
   "id": "b1a33263",
   "metadata": {
    "ExecuteTime": {
     "end_time": "2023-11-02T17:11:54.789630Z",
     "start_time": "2023-11-02T17:11:54.647827Z"
    }
   },
   "outputs": [
    {
     "data": {
      "text/plain": [
       "<matplotlib.image.AxesImage at 0x1d591b482e0>"
      ]
     },
     "execution_count": 69,
     "metadata": {},
     "output_type": "execute_result"
    },
    {
     "data": {
      "image/png": "[encoded data removed]",
      "text/plain": [
       "<Figure size 640x480 with 1 Axes>"
      ]
     },
     "metadata": {},
     "output_type": "display_data"
    }
   ],
   "source": [
    "plt.imshow(img)"
   ]
  },
  {
   "cell_type": "code",
   "execution_count": 70,
   "id": "95b0be89",
   "metadata": {
    "ExecuteTime": {
     "end_time": "2023-11-02T17:11:55.281818Z",
     "start_time": "2023-11-02T17:11:55.272057Z"
    }
   },
   "outputs": [
    {
     "name": "stdout",
     "output_type": "stream",
     "text": [
      "(1, 32, 32, 3)\n"
     ]
    }
   ],
   "source": [
    "# from a test image\n",
    "x_tr = np.expand_dims(img, axis=0)\n",
    "print(x_tr.shape)"
   ]
  },
  {
   "cell_type": "code",
   "execution_count": 71,
   "id": "52e21872",
   "metadata": {
    "ExecuteTime": {
     "end_time": "2023-11-02T17:11:56.117006Z",
     "start_time": "2023-11-02T17:11:56.021112Z"
    }
   },
   "outputs": [
    {
     "name": "stdout",
     "output_type": "stream",
     "text": [
      "1/1 [==============================] - 0s 38ms/step\n"
     ]
    }
   ],
   "source": [
    "pred1 = nmodel.predict(x_tr)"
   ]
  },
  {
   "cell_type": "code",
   "execution_count": 72,
   "id": "1140ab01",
   "metadata": {
    "ExecuteTime": {
     "end_time": "2023-11-02T17:11:56.555378Z",
     "start_time": "2023-11-02T17:11:56.545294Z"
    }
   },
   "outputs": [],
   "source": [
    "def plot_sample1(lr, sr):\n",
    "    plt.figure(figsize=(8, 6))\n",
    "\n",
    "    images = [lr, sr]\n",
    "    titles = ['predected', 'org']\n",
    "\n",
    "    for i, (img, title) in enumerate(zip(images, titles)):\n",
    "        plt.subplot(1, 2, i+1)\n",
    "        plt.imshow(img)\n",
    "        plt.title(title)\n",
    "        plt.xticks([])\n",
    "        plt.yticks([])"
   ]
  },
  {
   "cell_type": "code",
   "execution_count": 74,
   "id": "3358ac89",
   "metadata": {
    "ExecuteTime": {
     "end_time": "2023-11-02T17:12:34.484301Z",
     "start_time": "2023-11-02T17:12:34.465095Z"
    }
   },
   "outputs": [
    {
     "data": {
      "text/plain": [
       "(64, 64, 3)"
      ]
     },
     "execution_count": 74,
     "metadata": {},
     "output_type": "execute_result"
    }
   ],
   "source": [
    "pred1[0].shape"
   ]
  },
  {
   "cell_type": "code",
   "execution_count": 73,
   "id": "1320fd2f",
   "metadata": {
    "ExecuteTime": {
     "end_time": "2023-11-02T17:11:57.297490Z",
     "start_time": "2023-11-02T17:11:57.191290Z"
    }
   },
   "outputs": [
    {
     "data": {
      "image/png": "[encoded data removed]",
      "text/plain": [
       "<Figure size 800x600 with 2 Axes>"
      ]
     },
     "metadata": {},
     "output_type": "display_data"
    }
   ],
   "source": [
    "plot_sample1(pred1[0], x_tr[0])"
   ]
  },
  {
   "cell_type": "code",
   "execution_count": null,
   "id": "3eccbf96",
   "metadata": {},
   "outputs": [],
   "source": []
  }
 ],
 "metadata": {
  "kernelspec": {
   "display_name": "Python 3 (ipykernel)",
   "language": "python",
   "name": "python3"
  },
  "language_info": {
   "codemirror_mode": {
    "name": "ipython",
    "version": 3
   },
   "file_extension": ".py",
   "mimetype": "text/x-python",
   "name": "python",
   "nbconvert_exporter": "python",
   "pygments_lexer": "ipython3",
   "version": "3.10.6"
  },
  "toc": {
   "base_numbering": 1,
   "nav_menu": {},
   "number_sections": true,
   "sideBar": true,
   "skip_h1_title": false,
   "title_cell": "Table of Contents",
   "title_sidebar": "Contents",
   "toc_cell": true,
   "toc_position": {
    "height": "calc(100% - 180px)",
    "left": "10px",
    "top": "150px",
    "width": "279.398px"
   },
   "toc_section_display": true,
   "toc_window_display": false
  }
 },
 "nbformat": 4,
 "nbformat_minor": 5
}
