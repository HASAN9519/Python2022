{
 "cells": [
  {
   "cell_type": "markdown",
   "id": "bd17786b",
   "metadata": {
    "toc": true
   },
   "source": [
    "<h1>Table of Contents<span class=\"tocSkip\"></span></h1>\n",
    "<div class=\"toc\"><ul class=\"toc-item\"><li><span><a href=\"#Assignment-->-Draw-a-network-on-and-code-it\" data-toc-modified-id=\"Assignment-->-Draw-a-network-on-and-code-it-1\"><span class=\"toc-item-num\">1&nbsp;&nbsp;</span>Assignment--&gt; Draw a network on and code it</a></span><ul class=\"toc-item\"><li><span><a href=\"#building-UNet.-Here-is-the-overall-architecture\" data-toc-modified-id=\"building-UNet.-Here-is-the-overall-architecture-1.1\"><span class=\"toc-item-num\">1.1&nbsp;&nbsp;</span>building UNet. Here is the overall architecture</a></span></li></ul></li></ul></div>"
   ]
  },
  {
   "cell_type": "markdown",
   "id": "67b066f2",
   "metadata": {},
   "source": [
    "## Assignment--> Draw a network on and code it"
   ]
  },
  {
   "cell_type": "code",
   "execution_count": 3,
   "id": "be37474a",
   "metadata": {
    "ExecuteTime": {
     "end_time": "2023-09-23T09:28:02.568343Z",
     "start_time": "2023-09-23T09:28:02.529320Z"
    }
   },
   "outputs": [],
   "source": [
    "import tensorflow as tf\n",
    "import numpy as np\n",
    "import pandas as pd\n",
    "import os\n",
    "import tqdm, time\n",
    "\n",
    "import glob\n",
    "import random,time\n",
    "import math\n",
    "\n",
    "from functools import partial\n",
    "\n",
    "from tensorflow import keras\n",
    "from tensorflow.keras import layers\n",
    "from tensorflow.keras.layers import *\n",
    "from tensorflow.keras.models import *\n",
    "from tensorflow.keras.callbacks import *\n",
    "from tensorflow.keras import backend as K\n",
    "from tensorflow.keras.utils import *\n",
    "from tensorflow.keras.regularizers import *"
   ]
  },
  {
   "cell_type": "markdown",
   "id": "0ac5b514",
   "metadata": {},
   "source": [
    "### building UNet. Here is the overall architecture"
   ]
  },
  {
   "cell_type": "markdown",
   "id": "7506e0db",
   "metadata": {},
   "source": [
    "![alt](asset/unet.jpg)"
   ]
  },
  {
   "cell_type": "markdown",
   "id": "0cbb0f0a",
   "metadata": {},
   "source": [
    "A UNet consists of an encoder (downsampler) and decoder (upsampler) with a bottleneck in between. The black arrows correspond to skip connections that concatenate encoder block outputs to each stage of the decoder"
   ]
  },
  {
   "cell_type": "markdown",
   "id": "e21ec8fd",
   "metadata": {},
   "source": [
    "encoder utilities will have three functions:\n",
    "\n",
    "conv2d_block() - to add two convolution layers and ReLU activations\n",
    "\n",
    "encoder_block() - to add pooling and dropout to the conv2d blocks. in UNet need to save the output of the convolution layers at each block so this function will return two values to take that into account (i.e. output of the conv block and the dropout)\n",
    "\n",
    "encoder() - to build the entire encoder. This will return the output of the last encoder block as well as the output of the previous conv blocks. These will be concatenated to the decoder blocks"
   ]
  },
  {
   "cell_type": "code",
   "execution_count": 5,
   "id": "f6b06046",
   "metadata": {
    "ExecuteTime": {
     "end_time": "2023-09-23T10:37:01.834814Z",
     "start_time": "2023-09-23T10:37:01.816666Z"
    }
   },
   "outputs": [],
   "source": [
    "# Encoder Utilities\n",
    "\n",
    "def conv2d_block(input_tensor, n_filters, kernel_size = 3):\n",
    "\n",
    "        # first layer\n",
    "        x = input_tensor\n",
    "        for i in range(2):\n",
    "            x = tf.keras.layers.Conv2D(filters = n_filters, kernel_size = (kernel_size, kernel_size),\\\n",
    "                    kernel_initializer = 'he_normal', padding = 'same')(x)\n",
    "            x = tf.keras.layers.Activation('relu')(x)\n",
    "\n",
    "        return x\n",
    "\n",
    "def encoder_block(inputs, n_filters=64, pool_size=(2,2), dropout=0.3):\n",
    "       \n",
    "        f = conv2d_block(inputs, n_filters=n_filters)\n",
    "        p = tf.keras.layers.MaxPooling2D(pool_size=(2,2))(f)\n",
    "        p = tf.keras.layers.Dropout(0.3)(p)\n",
    "\n",
    "        return f, p\n",
    "\n",
    "def encoder(inputs):\n",
    "        \n",
    "        f1, p1 = encoder_block(inputs, n_filters=64, pool_size=(2,2), dropout=0.3)\n",
    "        f2, p2 = encoder_block(p1, n_filters=128, pool_size=(2,2), dropout=0.3)\n",
    "        f3, p3 = encoder_block(p2, n_filters=256, pool_size=(2,2), dropout=0.3)\n",
    "        f4, p4 = encoder_block(p3, n_filters=512, pool_size=(2,2), dropout=0.3)\n",
    "\n",
    "        return p4, (f1, f2, f3, f4)"
   ]
  },
  {
   "cell_type": "markdown",
   "id": "0b5c7321",
   "metadata": {},
   "source": [
    "A bottleneck follows the encoder block and is used to extract more features. This does not have a pooling layer so the dimensionality remains the same"
   ]
  },
  {
   "cell_type": "code",
   "execution_count": 6,
   "id": "299f9827",
   "metadata": {
    "ExecuteTime": {
     "end_time": "2023-09-23T10:37:45.563089Z",
     "start_time": "2023-09-23T10:37:45.552149Z"
    }
   },
   "outputs": [],
   "source": [
    "def bottleneck(inputs):\n",
    "        '''\n",
    "        This function defines the bottleneck convolutions to extract more features before the upsampling layers.\n",
    "        '''\n",
    "        bottle_neck = conv2d_block(inputs, n_filters=1024)\n",
    "        return bottle_neck"
   ]
  },
  {
   "cell_type": "markdown",
   "id": "a9b0b8c0",
   "metadata": {},
   "source": [
    "In decoder which upsamples the features back to the original image size. At each upsampling level, need to take the output of the corresponding encoder block and concatenate it before feeding to the next decoder block"
   ]
  },
  {
   "cell_type": "code",
   "execution_count": 8,
   "id": "f883b640",
   "metadata": {
    "ExecuteTime": {
     "end_time": "2023-09-23T10:39:45.741410Z",
     "start_time": "2023-09-23T10:39:45.720779Z"
    }
   },
   "outputs": [],
   "source": [
    "# Decoder Utilities\n",
    "\n",
    "def decoder_block(inputs, conv_output, n_filters=64, kernel_size=3, strides=3, dropout=0.3):\n",
    "            \n",
    "            u = tf.keras.layers.Conv2DTranspose(n_filters, kernel_size, strides = strides, padding = 'same')(inputs)\n",
    "            c = tf.keras.layers.concatenate([u, conv_output])\n",
    "            c = tf.keras.layers.Dropout(dropout)(c)\n",
    "            c = conv2d_block(c, n_filters, kernel_size=3)\n",
    "\n",
    "            return c\n",
    "\n",
    "\n",
    "def decoder(inputs, convs, output_channels):\n",
    "\n",
    "        f1, f2, f3, f4 = convs\n",
    "\n",
    "        c6 = decoder_block(inputs, f4, n_filters=512, kernel_size=(3,3), strides=(2,2), dropout=0.3)\n",
    "        c7 = decoder_block(c6, f3, n_filters=256, kernel_size=(3,3), strides=(2,2), dropout=0.3)\n",
    "        c8 = decoder_block(c7, f2, n_filters=128, kernel_size=(3,3), strides=(2,2), dropout=0.3)\n",
    "        c9 = decoder_block(c8, f1, n_filters=64, kernel_size=(3,3), strides=(2,2), dropout=0.3)\n",
    "\n",
    "        outputs = tf.keras.layers.Conv2D(output_channels, (1, 1), activation='softmax')(c9)\n",
    "\n",
    "        return outputs"
   ]
  },
  {
   "cell_type": "code",
   "execution_count": 14,
   "id": "c77b462f",
   "metadata": {
    "ExecuteTime": {
     "end_time": "2023-09-23T10:44:03.272951Z",
     "start_time": "2023-09-23T10:44:02.166874Z"
    }
   },
   "outputs": [
    {
     "name": "stdout",
     "output_type": "stream",
     "text": [
      "Model: \"model\"\n",
      "__________________________________________________________________________________________________\n",
      " Layer (type)                   Output Shape         Param #     Connected to                     \n",
      "==================================================================================================\n",
      " input_1 (InputLayer)           [(None, 128, 128, 3  0           []                               \n",
      "                                )]                                                                \n",
      "                                                                                                  \n",
      " conv2d (Conv2D)                (None, 128, 128, 64  1792        ['input_1[0][0]']                \n",
      "                                )                                                                 \n",
      "                                                                                                  \n",
      " activation (Activation)        (None, 128, 128, 64  0           ['conv2d[0][0]']                 \n",
      "                                )                                                                 \n",
      "                                                                                                  \n",
      " conv2d_1 (Conv2D)              (None, 128, 128, 64  36928       ['activation[0][0]']             \n",
      "                                )                                                                 \n",
      "                                                                                                  \n",
      " activation_1 (Activation)      (None, 128, 128, 64  0           ['conv2d_1[0][0]']               \n",
      "                                )                                                                 \n",
      "                                                                                                  \n",
      " max_pooling2d (MaxPooling2D)   (None, 64, 64, 64)   0           ['activation_1[0][0]']           \n",
      "                                                                                                  \n",
      " dropout (Dropout)              (None, 64, 64, 64)   0           ['max_pooling2d[0][0]']          \n",
      "                                                                                                  \n",
      " conv2d_2 (Conv2D)              (None, 64, 64, 128)  73856       ['dropout[0][0]']                \n",
      "                                                                                                  \n",
      " activation_2 (Activation)      (None, 64, 64, 128)  0           ['conv2d_2[0][0]']               \n",
      "                                                                                                  \n",
      " conv2d_3 (Conv2D)              (None, 64, 64, 128)  147584      ['activation_2[0][0]']           \n",
      "                                                                                                  \n",
      " activation_3 (Activation)      (None, 64, 64, 128)  0           ['conv2d_3[0][0]']               \n",
      "                                                                                                  \n",
      " max_pooling2d_1 (MaxPooling2D)  (None, 32, 32, 128)  0          ['activation_3[0][0]']           \n",
      "                                                                                                  \n",
      " dropout_1 (Dropout)            (None, 32, 32, 128)  0           ['max_pooling2d_1[0][0]']        \n",
      "                                                                                                  \n",
      " conv2d_4 (Conv2D)              (None, 32, 32, 256)  295168      ['dropout_1[0][0]']              \n",
      "                                                                                                  \n",
      " activation_4 (Activation)      (None, 32, 32, 256)  0           ['conv2d_4[0][0]']               \n",
      "                                                                                                  \n",
      " conv2d_5 (Conv2D)              (None, 32, 32, 256)  590080      ['activation_4[0][0]']           \n",
      "                                                                                                  \n",
      " activation_5 (Activation)      (None, 32, 32, 256)  0           ['conv2d_5[0][0]']               \n",
      "                                                                                                  \n",
      " max_pooling2d_2 (MaxPooling2D)  (None, 16, 16, 256)  0          ['activation_5[0][0]']           \n",
      "                                                                                                  \n",
      " dropout_2 (Dropout)            (None, 16, 16, 256)  0           ['max_pooling2d_2[0][0]']        \n",
      "                                                                                                  \n",
      " conv2d_6 (Conv2D)              (None, 16, 16, 512)  1180160     ['dropout_2[0][0]']              \n",
      "                                                                                                  \n",
      " activation_6 (Activation)      (None, 16, 16, 512)  0           ['conv2d_6[0][0]']               \n",
      "                                                                                                  \n",
      " conv2d_7 (Conv2D)              (None, 16, 16, 512)  2359808     ['activation_6[0][0]']           \n",
      "                                                                                                  \n",
      " activation_7 (Activation)      (None, 16, 16, 512)  0           ['conv2d_7[0][0]']               \n",
      "                                                                                                  \n",
      " max_pooling2d_3 (MaxPooling2D)  (None, 8, 8, 512)   0           ['activation_7[0][0]']           \n",
      "                                                                                                  \n",
      " dropout_3 (Dropout)            (None, 8, 8, 512)    0           ['max_pooling2d_3[0][0]']        \n",
      "                                                                                                  \n",
      " conv2d_8 (Conv2D)              (None, 8, 8, 1024)   4719616     ['dropout_3[0][0]']              \n",
      "                                                                                                  \n",
      " activation_8 (Activation)      (None, 8, 8, 1024)   0           ['conv2d_8[0][0]']               \n",
      "                                                                                                  \n",
      " conv2d_9 (Conv2D)              (None, 8, 8, 1024)   9438208     ['activation_8[0][0]']           \n",
      "                                                                                                  \n",
      " activation_9 (Activation)      (None, 8, 8, 1024)   0           ['conv2d_9[0][0]']               \n",
      "                                                                                                  \n",
      " conv2d_transpose (Conv2DTransp  (None, 16, 16, 512)  4719104    ['activation_9[0][0]']           \n",
      " ose)                                                                                             \n",
      "                                                                                                  \n",
      " concatenate (Concatenate)      (None, 16, 16, 1024  0           ['conv2d_transpose[0][0]',       \n",
      "                                )                                 'activation_7[0][0]']           \n",
      "                                                                                                  \n",
      " dropout_4 (Dropout)            (None, 16, 16, 1024  0           ['concatenate[0][0]']            \n",
      "                                )                                                                 \n",
      "                                                                                                  \n",
      " conv2d_10 (Conv2D)             (None, 16, 16, 512)  4719104     ['dropout_4[0][0]']              \n",
      "                                                                                                  \n",
      " activation_10 (Activation)     (None, 16, 16, 512)  0           ['conv2d_10[0][0]']              \n",
      "                                                                                                  \n",
      " conv2d_11 (Conv2D)             (None, 16, 16, 512)  2359808     ['activation_10[0][0]']          \n",
      "                                                                                                  \n",
      " activation_11 (Activation)     (None, 16, 16, 512)  0           ['conv2d_11[0][0]']              \n",
      "                                                                                                  \n"
     ]
    },
    {
     "name": "stdout",
     "output_type": "stream",
     "text": [
      " conv2d_transpose_1 (Conv2DTran  (None, 32, 32, 256)  1179904    ['activation_11[0][0]']          \n",
      " spose)                                                                                           \n",
      "                                                                                                  \n",
      " concatenate_1 (Concatenate)    (None, 32, 32, 512)  0           ['conv2d_transpose_1[0][0]',     \n",
      "                                                                  'activation_5[0][0]']           \n",
      "                                                                                                  \n",
      " dropout_5 (Dropout)            (None, 32, 32, 512)  0           ['concatenate_1[0][0]']          \n",
      "                                                                                                  \n",
      " conv2d_12 (Conv2D)             (None, 32, 32, 256)  1179904     ['dropout_5[0][0]']              \n",
      "                                                                                                  \n",
      " activation_12 (Activation)     (None, 32, 32, 256)  0           ['conv2d_12[0][0]']              \n",
      "                                                                                                  \n",
      " conv2d_13 (Conv2D)             (None, 32, 32, 256)  590080      ['activation_12[0][0]']          \n",
      "                                                                                                  \n",
      " activation_13 (Activation)     (None, 32, 32, 256)  0           ['conv2d_13[0][0]']              \n",
      "                                                                                                  \n",
      " conv2d_transpose_2 (Conv2DTran  (None, 64, 64, 128)  295040     ['activation_13[0][0]']          \n",
      " spose)                                                                                           \n",
      "                                                                                                  \n",
      " concatenate_2 (Concatenate)    (None, 64, 64, 256)  0           ['conv2d_transpose_2[0][0]',     \n",
      "                                                                  'activation_3[0][0]']           \n",
      "                                                                                                  \n",
      " dropout_6 (Dropout)            (None, 64, 64, 256)  0           ['concatenate_2[0][0]']          \n",
      "                                                                                                  \n",
      " conv2d_14 (Conv2D)             (None, 64, 64, 128)  295040      ['dropout_6[0][0]']              \n",
      "                                                                                                  \n",
      " activation_14 (Activation)     (None, 64, 64, 128)  0           ['conv2d_14[0][0]']              \n",
      "                                                                                                  \n",
      " conv2d_15 (Conv2D)             (None, 64, 64, 128)  147584      ['activation_14[0][0]']          \n",
      "                                                                                                  \n",
      " activation_15 (Activation)     (None, 64, 64, 128)  0           ['conv2d_15[0][0]']              \n",
      "                                                                                                  \n",
      " conv2d_transpose_3 (Conv2DTran  (None, 128, 128, 64  73792      ['activation_15[0][0]']          \n",
      " spose)                         )                                                                 \n",
      "                                                                                                  \n",
      " concatenate_3 (Concatenate)    (None, 128, 128, 12  0           ['conv2d_transpose_3[0][0]',     \n",
      "                                8)                                'activation_1[0][0]']           \n",
      "                                                                                                  \n",
      " dropout_7 (Dropout)            (None, 128, 128, 12  0           ['concatenate_3[0][0]']          \n",
      "                                8)                                                                \n",
      "                                                                                                  \n",
      " conv2d_16 (Conv2D)             (None, 128, 128, 64  73792       ['dropout_7[0][0]']              \n",
      "                                )                                                                 \n",
      "                                                                                                  \n",
      " activation_16 (Activation)     (None, 128, 128, 64  0           ['conv2d_16[0][0]']              \n",
      "                                )                                                                 \n",
      "                                                                                                  \n",
      " conv2d_17 (Conv2D)             (None, 128, 128, 64  36928       ['activation_16[0][0]']          \n",
      "                                )                                                                 \n",
      "                                                                                                  \n",
      " activation_17 (Activation)     (None, 128, 128, 64  0           ['conv2d_17[0][0]']              \n",
      "                                )                                                                 \n",
      "                                                                                                  \n",
      " conv2d_18 (Conv2D)             (None, 128, 128, 3)  195         ['activation_17[0][0]']          \n",
      "                                                                                                  \n",
      "==================================================================================================\n",
      "Total params: 34,513,475\n",
      "Trainable params: 34,513,475\n",
      "Non-trainable params: 0\n",
      "__________________________________________________________________________________________________\n"
     ]
    }
   ],
   "source": [
    "OUTPUT_CHANNELS = 3\n",
    "\n",
    "def unet():\n",
    "    inputs = tf.keras.layers.Input(shape=(128, 128,3,))\n",
    "\n",
    "    # feed the inputs to the encoder\n",
    "    encoder_output, convs = encoder(inputs)\n",
    "\n",
    "    # feed the encoder output to the bottleneck\n",
    "    bottle_neck = bottleneck(encoder_output)\n",
    "\n",
    "    # feed the bottleneck and encoder block outputs to the decoder\n",
    "    # specify the number of classes via the `output_channels` argument\n",
    "    outputs = decoder(bottle_neck, convs, output_channels=OUTPUT_CHANNELS)\n",
    "\n",
    "    # create the model\n",
    "    model = tf.keras.Model(inputs=inputs, outputs=outputs)\n",
    "    return model\n",
    "\n",
    "# instantiate the model\n",
    "model = unet()\n",
    "\n",
    "# see the resulting model architecture\n",
    "model.summary()"
   ]
  },
  {
   "cell_type": "code",
   "execution_count": null,
   "id": "94cc367d",
   "metadata": {},
   "outputs": [],
   "source": []
  }
 ],
 "metadata": {
  "kernelspec": {
   "display_name": "Python 3 (ipykernel)",
   "language": "python",
   "name": "python3"
  },
  "language_info": {
   "codemirror_mode": {
    "name": "ipython",
    "version": 3
   },
   "file_extension": ".py",
   "mimetype": "text/x-python",
   "name": "python",
   "nbconvert_exporter": "python",
   "pygments_lexer": "ipython3",
   "version": "3.10.6"
  },
  "toc": {
   "base_numbering": 1,
   "nav_menu": {},
   "number_sections": true,
   "sideBar": true,
   "skip_h1_title": true,
   "title_cell": "Table of Contents",
   "title_sidebar": "Contents",
   "toc_cell": true,
   "toc_position": {
    "height": "calc(100% - 180px)",
    "left": "10px",
    "top": "150px",
    "width": "279.409px"
   },
   "toc_section_display": true,
   "toc_window_display": false
  }
 },
 "nbformat": 4,
 "nbformat_minor": 5
}
