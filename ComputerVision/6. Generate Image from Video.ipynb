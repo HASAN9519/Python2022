{
 "cells": [
  {
   "cell_type": "markdown",
   "id": "d5b6dd52",
   "metadata": {
    "toc": true
   },
   "source": [
    "<h1>Table of Contents<span class=\"tocSkip\"></span></h1>\n",
    "<div class=\"toc\"><ul class=\"toc-item\"><li><span><a href=\"#Loading-librarys\" data-toc-modified-id=\"Loading-librarys-1\"><span class=\"toc-item-num\">1&nbsp;&nbsp;</span>Loading librarys</a></span></li><li><span><a href=\"#video-file-path\" data-toc-modified-id=\"video-file-path-2\"><span class=\"toc-item-num\">2&nbsp;&nbsp;</span>video file path</a></span></li><li><span><a href=\"#Play-a-video-using-OpenCV\" data-toc-modified-id=\"Play-a-video-using-OpenCV-3\"><span class=\"toc-item-num\">3&nbsp;&nbsp;</span>Play a video using OpenCV</a></span></li></ul></div>"
   ]
  },
  {
   "cell_type": "markdown",
   "id": "406e3b89",
   "metadata": {},
   "source": [
    "Helper link https://www.geeksforgeeks.org/python-play-a-video-using-opencv/?ref=lbp"
   ]
  },
  {
   "cell_type": "markdown",
   "id": "113dd96a",
   "metadata": {},
   "source": [
    "# Loading librarys"
   ]
  },
  {
   "cell_type": "code",
   "execution_count": 1,
   "id": "846fd17a",
   "metadata": {
    "ExecuteTime": {
     "end_time": "2023-11-23T16:05:08.457135Z",
     "start_time": "2023-11-23T16:05:08.211189Z"
    },
    "editable": true,
    "slideshow": {
     "slide_type": ""
    },
    "tags": []
   },
   "outputs": [],
   "source": [
    "import tensorflow as tf\n",
    "import numpy as np\n",
    "import pandas as pd\n",
    "import matplotlib.pyplot as plt\n",
    "import random\n",
    "import os\n",
    "from glob import glob\n",
    "\n",
    "from PIL import Image\n",
    "import cv2\n",
    "from tensorflow import keras\n",
    "from tensorflow.keras import layers\n",
    "from tensorflow.keras.layers import *\n",
    "from tensorflow.keras.models import *\n",
    "from tensorflow.keras.callbacks import *\n",
    "from tensorflow.keras import backend as K\n",
    "from tensorflow.keras.utils import *\n",
    "from tensorflow.keras.regularizers import *"
   ]
  },
  {
   "cell_type": "markdown",
   "id": "7771d81c-0976-4b4c-aaba-04c7122bee66",
   "metadata": {},
   "source": [
    "# video file path"
   ]
  },
  {
   "cell_type": "code",
   "execution_count": 2,
   "id": "aa9f93d8",
   "metadata": {
    "ExecuteTime": {
     "end_time": "2023-11-23T16:14:05.614213Z",
     "start_time": "2023-11-23T16:14:05.595781Z"
    },
    "editable": true,
    "slideshow": {
     "slide_type": ""
    },
    "tags": []
   },
   "outputs": [
    {
     "name": "stdout",
     "output_type": "stream",
     "text": [
      "seg_comp1.mp4\n",
      "seg_comp2.mp4\n"
     ]
    }
   ],
   "source": [
    "files = os.listdir('c:\\\\Users\\\\SHEHA\\\\Downloads\\\\GitHubRepository\\\\Python2022\\\\ComputerVision\\\\Dataset\\\\VideoData')\n",
    "# for i,j in enumerate(files):\n",
    "#     print('{j} folder is lebel {i}'.format(i=i, j=j))\n",
    "\n",
    "for i in files:\n",
    "    print(i)"
   ]
  },
  {
   "cell_type": "markdown",
   "id": "676e2f5c",
   "metadata": {},
   "source": [
    "# Play a video using OpenCV"
   ]
  },
  {
   "cell_type": "code",
   "execution_count": 21,
   "id": "f9eea4aa",
   "metadata": {},
   "outputs": [],
   "source": [
    "# cv2.VideoCapture(0): Means first camera or webcam.\n",
    "# cv2.VideoCapture(1):  Means second camera or webcam.\n",
    "# cv2.VideoCapture(“file name.mp4”): Means video file\n",
    "\n",
    "# Create a VideoCapture object and read from input file \n",
    "cap = cv2.VideoCapture('c:\\\\Users\\\\SHEHA\\\\Downloads\\\\GitHubRepository\\\\Python2022\\\\ComputerVision\\\\\\\n",
    "Dataset\\\\VideoData\\\\seg_comp1.mp4') \n",
    "\n",
    "# Check if camera opened successfully \n",
    "if (cap.isOpened() == False): \n",
    "    print(\"Error opening video file\") \n",
    "\n",
    "# Read until video is completed \n",
    "while(cap.isOpened()): \n",
    "      \n",
    "# Capture frame-by-frame\n",
    "    \n",
    "    ret, frame = cap.read() \n",
    "    if ret == True: \n",
    "    # Display resulting frame \n",
    "        cv2.imshow('Frame', frame) \n",
    "          \n",
    "    # Press Q on keyboard to exit \n",
    "        if cv2.waitKey(25) & 0xFF == ord('q'): \n",
    "            break\n",
    "  \n",
    "# Break the loop \n",
    "    else: \n",
    "        break\n",
    "# When everything done, release video capture object \n",
    "cap.release() \n",
    "  \n",
    "# Closes all frames \n",
    "cv2.destroyAllWindows() "
   ]
  },
  {
   "cell_type": "markdown",
   "id": "54666c9a-10b9-4389-9466-4fabc9be0414",
   "metadata": {},
   "source": [
    "# Create video using multiple images using OpenCV"
   ]
  },
  {
   "cell_type": "code",
   "execution_count": 49,
   "id": "af0c6d80",
   "metadata": {},
   "outputs": [
    {
     "name": "stdout",
     "output_type": "stream",
     "text": [
      "30\n",
      "500 375\n",
      "n01440764_105.JPEG  is resized\n",
      "75 56\n",
      "n01440764_107.JPEG  is resized\n",
      "500 334\n",
      "n01440764_137.JPEG  is resized\n",
      "2048 1536\n",
      "n01440764_141.JPEG  is resized\n",
      "2304 1728\n",
      "n01440764_148.JPEG  is resized\n",
      "300 189\n",
      "n01440764_172.JPEG  is resized\n",
      "375 500\n",
      "n01440764_18.JPEG  is resized\n",
      "400 300\n",
      "n01440764_188.JPEG  is resized\n",
      "80 60\n",
      "n01440764_190.JPEG  is resized\n",
      "400 321\n",
      "n01440764_192.JPEG  is resized\n",
      "500 375\n",
      "n01440764_200.JPEG  is resized\n",
      "300 200\n",
      "n01440764_237.JPEG  is resized\n",
      "250 189\n",
      "n01440764_239.JPEG  is resized\n",
      "425 239\n",
      "n01440764_261.JPEG  is resized\n",
      "500 375\n",
      "n01440764_292.JPEG  is resized\n",
      "100 70\n",
      "n01440764_297.JPEG  is resized\n",
      "800 600\n",
      "n01440764_298.JPEG  is resized\n",
      "500 375\n",
      "n01440764_315.JPEG  is resized\n",
      "368 500\n",
      "n01440764_320.JPEG  is resized\n",
      "800 600\n",
      "n01440764_334.JPEG  is resized\n",
      "350 221\n",
      "n01440764_341.JPEG  is resized\n",
      "200 150\n",
      "n01440764_36.JPEG  is resized\n",
      "640 480\n",
      "n01440764_37.JPEG  is resized\n",
      "500 334\n",
      "n01440764_39.JPEG  is resized\n",
      "400 287\n",
      "n01440764_44.JPEG  is resized\n",
      "300 195\n",
      "n01440764_63.JPEG  is resized\n",
      "500 375\n",
      "n01440764_73.JPEG  is resized\n",
      "940 705\n",
      "n01440764_78.JPEG  is resized\n",
      "500 375\n",
      "n01440764_96.JPEG  is resized\n",
      "500 375\n",
      "n01440764_97.JPEG  is resized\n",
      "['n01440764_105.JPEG', 'n01440764_107.JPEG', 'n01440764_137.JPEG', 'n01440764_141.JPEG', 'n01440764_148.JPEG', 'n01440764_172.JPEG', 'n01440764_18.JPEG', 'n01440764_188.JPEG', 'n01440764_190.JPEG', 'n01440764_192.JPEG', 'n01440764_200.JPEG', 'n01440764_237.JPEG', 'n01440764_239.JPEG', 'n01440764_261.JPEG', 'n01440764_292.JPEG', 'n01440764_297.JPEG', 'n01440764_298.JPEG', 'n01440764_315.JPEG', 'n01440764_320.JPEG', 'n01440764_334.JPEG', 'n01440764_341.JPEG', 'n01440764_36.JPEG', 'n01440764_37.JPEG', 'n01440764_39.JPEG', 'n01440764_44.JPEG', 'n01440764_63.JPEG', 'n01440764_73.JPEG', 'n01440764_78.JPEG', 'n01440764_96.JPEG', 'n01440764_97.JPEG']\n"
     ]
    }
   ],
   "source": [
    "# Folder which contains all the images from which video is to be generated\n",
    "\n",
    "base_path = \"c:\\\\Users\\\\SHEHA\\\\Downloads\\\\GitHubRepository\\\\Python2022\\\\ComputerVision\\\\Dataset\\\\Assignment1\\\\n01440764\"\n",
    "des_path = \"c:\\\\Users\\\\SHEHA\\\\Downloads\\\\GitHubRepository\\\\Python2022\\\\ComputerVision\\\\Dataset\\\\NewVideo\"\n",
    "# os.chdir(\"c:\\\\Users\\\\SHEHA\\\\Downloads\\\\GitHubRepository\\\\Python2022\\\\ComputerVision\\\\Dataset\\\\Assignment1\\\\n01440764\")   \n",
    "\n",
    "mean_height = 0\n",
    "mean_width = 0\n",
    "  \n",
    "num_of_images = len(os.listdir(base_path + '.'))\n",
    "print(num_of_images) \n",
    "\n",
    "for file in os.listdir(base_path + '.'): \n",
    "    im = Image.open(os.path.join(base_path, file)) \n",
    "    width, height = im.size \n",
    "    mean_width += width \n",
    "    mean_height += height \n",
    "    # im.show()   # uncomment this for displaying image \n",
    "  \n",
    "# Finding mean height and width of all images as This is required because video frame needs \n",
    "# to be set with same width and height, Otherwise images not equal to that width height will not get embedded into video \n",
    "mean_width = int(mean_width / num_of_images) \n",
    "mean_height = int(mean_height / num_of_images) \n",
    "  \n",
    "# print(mean_height) \n",
    "# print(mean_width) \n",
    "  \n",
    "# Resizing of images to give them same width and height  \n",
    "for file in os.listdir(base_path + '.'): \n",
    "    if file.endswith(\".jpg\") or file.endswith(\".jpeg\") or file.endswith(\"png\") or file.endswith(\"JPEG\"): \n",
    "        # opening image using PIL Image \n",
    "        im = Image.open(os.path.join(base_path, file))  \n",
    "   \n",
    "        # im.size includes height and width of image \n",
    "        width, height = im.size    \n",
    "        print(width, height) \n",
    "  \n",
    "        # resizing  \n",
    "        # imResize = im.resize((mean_width, mean_height), Image.ANTIALIAS)\n",
    "        imResize = im.resize((mean_width, mean_height))\n",
    "        # imResize.save(file,'JPEG', quality = 95) # setting quality\n",
    "        imResize.save(os.path.join(des_path, file),'JPEG', quality = 95) # setting quality and saving in new path\n",
    "        # printing each resized image name \n",
    "        print(im.filename.split('\\\\')[-1], \" is resized\")  \n",
    "\n",
    "# Video Generating function \n",
    "def generate_video(): \n",
    "    image_folder = des_path+'.' \n",
    "    video_name = 'mygeneratedvideo.avi'\n",
    "    #os.chdir(\"C:\\\\Python\\\\Geekfolder2\") \n",
    "      \n",
    "    images = [img for img in os.listdir(image_folder) if img.endswith(\".jpg\") or img.endswith(\".jpeg\") or \n",
    "              img.endswith(\"JPEG\") or img.endswith(\"png\")] \n",
    "     \n",
    "    # Array images should only consider image files ignoring others if any \n",
    "    print(images)  \n",
    "  \n",
    "    frame = cv2.imread(os.path.join(image_folder, images[0])) \n",
    "  \n",
    "    # setting frame width, height of first image \n",
    "    height, width, layers = frame.shape   \n",
    "  \n",
    "    # video = cv2.VideoWriter(video_name, 0, 1, (width, height))\n",
    "    video = cv2.VideoWriter(os.path.join(des_path, video_name), 0, 1, (width, height)) # saving to selected folder\n",
    "  \n",
    "    # Appending images to video one by one \n",
    "    for image in images:  \n",
    "        video.write(cv2.imread(os.path.join(image_folder, image)))  \n",
    "      \n",
    "    # Deallocating memories taken for window creation \n",
    "    cv2.destroyAllWindows()  \n",
    "    video.release()  # releasing video generated \n",
    "  \n",
    "# Calling the generate_video function \n",
    "generate_video()"
   ]
  },
  {
   "cell_type": "markdown",
   "id": "ce3aee91-420e-4523-bafb-7a0b2a09c7f1",
   "metadata": {},
   "source": [
    "# Extract images from video"
   ]
  },
  {
   "cell_type": "code",
   "execution_count": null,
   "id": "b18dc253",
   "metadata": {},
   "outputs": [],
   "source": []
  },
  {
   "cell_type": "code",
   "execution_count": null,
   "id": "c48a869f",
   "metadata": {},
   "outputs": [],
   "source": []
  },
  {
   "cell_type": "code",
   "execution_count": null,
   "id": "e93c9f43-5b39-4560-a82f-07152795ba9a",
   "metadata": {},
   "outputs": [],
   "source": []
  },
  {
   "cell_type": "code",
   "execution_count": null,
   "id": "652fa9b8-b7c3-44c8-8c16-2fc99b3ef7e8",
   "metadata": {},
   "outputs": [],
   "source": []
  },
  {
   "cell_type": "code",
   "execution_count": null,
   "id": "56dd1f16-8e9e-43f6-b6c3-1bc914df5673",
   "metadata": {},
   "outputs": [],
   "source": []
  },
  {
   "cell_type": "code",
   "execution_count": null,
   "id": "95425c08-c4d9-493e-8d05-3e193397e83a",
   "metadata": {},
   "outputs": [],
   "source": []
  },
  {
   "cell_type": "code",
   "execution_count": null,
   "id": "b06c7110-4520-4d29-b0e3-695f5a1d4277",
   "metadata": {},
   "outputs": [],
   "source": []
  }
 ],
 "metadata": {
  "kernelspec": {
   "display_name": "Python 3 (ipykernel)",
   "language": "python",
   "name": "python3"
  },
  "language_info": {
   "codemirror_mode": {
    "name": "ipython",
    "version": 3
   },
   "file_extension": ".py",
   "mimetype": "text/x-python",
   "name": "python",
   "nbconvert_exporter": "python",
   "pygments_lexer": "ipython3",
   "version": "3.10.6"
  },
  "toc": {
   "base_numbering": 1,
   "nav_menu": {},
   "number_sections": true,
   "sideBar": true,
   "skip_h1_title": false,
   "title_cell": "Table of Contents",
   "title_sidebar": "Contents",
   "toc_cell": true,
   "toc_position": {
    "height": "calc(100% - 180px)",
    "left": "10px",
    "top": "150px",
    "width": "279.398px"
   },
   "toc_section_display": true,
   "toc_window_display": false
  }
 },
 "nbformat": 4,
 "nbformat_minor": 5
}
