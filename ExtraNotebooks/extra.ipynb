{
 "cells": [
  {
   "cell_type": "code",
   "execution_count": 1,
   "metadata": {},
   "outputs": [
    {
     "name": "stdout",
     "output_type": "stream",
     "text": [
      "H\n",
      "E\n",
      "L\n",
      "L\n",
      "O\n"
     ]
    }
   ],
   "source": [
    "def generator():\n",
    "    yield \"H\"\n",
    "    yield \"E\"\n",
    "    yield \"L\"\n",
    "    yield \"L\"\n",
    "    yield \"O\"\n",
    "\n",
    "test = generator()\n",
    "for i in test:\n",
    "    print(i)"
   ]
  },
  {
   "cell_type": "code",
   "execution_count": 22,
   "metadata": {},
   "outputs": [
    {
     "name": "stdout",
     "output_type": "stream",
     "text": [
      "[0, 2, 4, 6, 8]\n"
     ]
    }
   ],
   "source": [
    "def even_numbers(n):\n",
    "    for x in range(n):\n",
    "       if (x%2==0): \n",
    "           yield x       \n",
    "num = even_numbers(10)\n",
    "print(list(num))"
   ]
  },
  {
   "cell_type": "code",
   "execution_count": 24,
   "metadata": {},
   "outputs": [
    {
     "name": "stdout",
     "output_type": "stream",
     "text": [
      "[]\n"
     ]
    }
   ],
   "source": [
    "print(list(num))"
   ]
  },
  {
   "cell_type": "code",
   "execution_count": 25,
   "metadata": {},
   "outputs": [],
   "source": [
    "def even_numbers(n):\n",
    "    for x in range(n):\n",
    "       if (x%2==0): \n",
    "           yield x       \n",
    "num = even_numbers(10)"
   ]
  },
  {
   "cell_type": "code",
   "execution_count": 27,
   "metadata": {},
   "outputs": [],
   "source": [
    "for i in num:\n",
    "    print(i)"
   ]
  },
  {
   "cell_type": "code",
   "execution_count": 28,
   "metadata": {},
   "outputs": [],
   "source": [
    "def even_numbers(n):\n",
    "    for x in range(n):\n",
    "       if (x%2==0): \n",
    "           yield x       \n",
    "num = even_numbers(10)"
   ]
  },
  {
   "cell_type": "code",
   "execution_count": 35,
   "metadata": {},
   "outputs": [
    {
     "name": "stdout",
     "output_type": "stream",
     "text": [
      "0\n",
      "2\n",
      "4\n",
      "6\n",
      "8\n",
      "\n",
      "\n",
      "Calling the generator again:  []\n"
     ]
    }
   ],
   "source": [
    "def even_numbers(n):\n",
    "    for x in range(n):\n",
    "       if (x%2==0): \n",
    "           yield x       \n",
    "num = even_numbers(10)\n",
    "for i in num:\n",
    "    print(i)\n",
    "\n",
    "print(\"\\n\")\n",
    "print(\"Calling the generator again: \", list(num))"
   ]
  },
  {
   "cell_type": "code",
   "execution_count": 36,
   "metadata": {},
   "outputs": [
    {
     "name": "stdout",
     "output_type": "stream",
     "text": [
      "<generator object getFibonnaciSeries at 0x000001F444804D60>\n"
     ]
    }
   ],
   "source": [
    "def getFibonnaciSeries(num):\n",
    "    c1, c2 = 0, 1\n",
    "    count = 0\n",
    "    while count < num:\n",
    "        yield c1\n",
    "        c3 = c1 + c2\n",
    "        c1 = c2\n",
    "        c2 = c3\n",
    "        count += 1\n",
    "fin = getFibonnaciSeries(7)\n",
    "print(fin)"
   ]
  },
  {
   "cell_type": "code",
   "execution_count": 38,
   "metadata": {},
   "outputs": [],
   "source": [
    "for i in fin:\n",
    "    print(i)"
   ]
  },
  {
   "cell_type": "code",
   "execution_count": 3,
   "metadata": {},
   "outputs": [],
   "source": [
    "l=['a','b']\n",
    "for x in l:\n",
    "    x.upper()"
   ]
  },
  {
   "cell_type": "code",
   "execution_count": 4,
   "metadata": {},
   "outputs": [
    {
     "name": "stdout",
     "output_type": "stream",
     "text": [
      "['a', 'b']\n"
     ]
    }
   ],
   "source": [
    "print(l)"
   ]
  },
  {
   "cell_type": "code",
   "execution_count": 11,
   "metadata": {},
   "outputs": [
    {
     "data": {
      "text/plain": [
       "['A', 'B', 'C', 'Y']"
      ]
     },
     "execution_count": 11,
     "metadata": {},
     "output_type": "execute_result"
    }
   ],
   "source": [
    "letters = [\"a\", \"b\", \"c\", \"y\"]\n",
    "sq =[]\n",
    "for c in letters:\n",
    "    sq.append(c.upper())\n",
    "sq"
   ]
  }
 ],
 "metadata": {
  "kernelspec": {
   "display_name": "Python 3.10.6 64-bit",
   "language": "python",
   "name": "python3"
  },
  "language_info": {
   "codemirror_mode": {
    "name": "ipython",
    "version": 3
   },
   "file_extension": ".py",
   "mimetype": "text/x-python",
   "name": "python",
   "nbconvert_exporter": "python",
   "pygments_lexer": "ipython3",
   "version": "3.10.6"
  },
  "orig_nbformat": 4,
  "vscode": {
   "interpreter": {
    "hash": "369f2c481f4da34e4445cda3fffd2e751bd1c4d706f27375911949ba6bb62e1c"
   }
  }
 },
 "nbformat": 4,
 "nbformat_minor": 2
}
