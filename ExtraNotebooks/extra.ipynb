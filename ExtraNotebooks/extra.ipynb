{
 "cells": [
  {
   "cell_type": "code",
   "execution_count": 1,
   "metadata": {},
   "outputs": [
    {
     "name": "stdout",
     "output_type": "stream",
     "text": [
      "H\n",
      "E\n",
      "L\n",
      "L\n",
      "O\n"
     ]
    }
   ],
   "source": [
    "def generator():\n",
    "    yield \"H\"\n",
    "    yield \"E\"\n",
    "    yield \"L\"\n",
    "    yield \"L\"\n",
    "    yield \"O\"\n",
    "\n",
    "test = generator()\n",
    "for i in test:\n",
    "    print(i)"
   ]
  },
  {
   "cell_type": "code",
   "execution_count": 22,
   "metadata": {},
   "outputs": [
    {
     "name": "stdout",
     "output_type": "stream",
     "text": [
      "[0, 2, 4, 6, 8]\n"
     ]
    }
   ],
   "source": [
    "def even_numbers(n):\n",
    "    for x in range(n):\n",
    "       if (x%2==0): \n",
    "           yield x       \n",
    "num = even_numbers(10)\n",
    "print(list(num))"
   ]
  },
  {
   "cell_type": "code",
   "execution_count": 24,
   "metadata": {},
   "outputs": [
    {
     "name": "stdout",
     "output_type": "stream",
     "text": [
      "[]\n"
     ]
    }
   ],
   "source": [
    "print(list(num))"
   ]
  },
  {
   "cell_type": "code",
   "execution_count": 25,
   "metadata": {},
   "outputs": [],
   "source": [
    "def even_numbers(n):\n",
    "    for x in range(n):\n",
    "       if (x%2==0): \n",
    "           yield x       \n",
    "num = even_numbers(10)"
   ]
  },
  {
   "cell_type": "code",
   "execution_count": 27,
   "metadata": {},
   "outputs": [],
   "source": [
    "for i in num:\n",
    "    print(i)"
   ]
  },
  {
   "cell_type": "code",
   "execution_count": 28,
   "metadata": {},
   "outputs": [],
   "source": [
    "def even_numbers(n):\n",
    "    for x in range(n):\n",
    "       if (x%2==0): \n",
    "           yield x       \n",
    "num = even_numbers(10)"
   ]
  },
  {
   "cell_type": "code",
   "execution_count": 35,
   "metadata": {},
   "outputs": [
    {
     "name": "stdout",
     "output_type": "stream",
     "text": [
      "0\n",
      "2\n",
      "4\n",
      "6\n",
      "8\n",
      "\n",
      "\n",
      "Calling the generator again:  []\n"
     ]
    }
   ],
   "source": [
    "def even_numbers(n):\n",
    "    for x in range(n):\n",
    "       if (x%2==0): \n",
    "           yield x       \n",
    "num = even_numbers(10)\n",
    "for i in num:\n",
    "    print(i)\n",
    "\n",
    "print(\"\\n\")\n",
    "print(\"Calling the generator again: \", list(num))"
   ]
  },
  {
   "cell_type": "code",
   "execution_count": 36,
   "metadata": {},
   "outputs": [
    {
     "name": "stdout",
     "output_type": "stream",
     "text": [
      "<generator object getFibonnaciSeries at 0x000001F444804D60>\n"
     ]
    }
   ],
   "source": [
    "def getFibonnaciSeries(num):\n",
    "    c1, c2 = 0, 1\n",
    "    count = 0\n",
    "    while count < num:\n",
    "        yield c1\n",
    "        c3 = c1 + c2\n",
    "        c1 = c2\n",
    "        c2 = c3\n",
    "        count += 1\n",
    "fin = getFibonnaciSeries(7)\n",
    "print(fin)"
   ]
  },
  {
   "cell_type": "code",
   "execution_count": 38,
   "metadata": {},
   "outputs": [],
   "source": [
    "for i in fin:\n",
    "    print(i)"
   ]
  },
  {
   "cell_type": "code",
   "execution_count": 3,
   "metadata": {},
   "outputs": [],
   "source": [
    "l=['a','b']\n",
    "for x in l:\n",
    "    x.upper()"
   ]
  },
  {
   "cell_type": "code",
   "execution_count": 4,
   "metadata": {},
   "outputs": [
    {
     "name": "stdout",
     "output_type": "stream",
     "text": [
      "['a', 'b']\n"
     ]
    }
   ],
   "source": [
    "print(l)"
   ]
  },
  {
   "cell_type": "code",
   "execution_count": 11,
   "metadata": {},
   "outputs": [
    {
     "data": {
      "text/plain": [
       "['A', 'B', 'C', 'Y']"
      ]
     },
     "execution_count": 11,
     "metadata": {},
     "output_type": "execute_result"
    }
   ],
   "source": [
    "letters = [\"a\", \"b\", \"c\", \"y\"]\n",
    "sq =[]\n",
    "for c in letters:\n",
    "    sq.append(c.upper())\n",
    "sq"
   ]
  },
  {
   "cell_type": "code",
   "execution_count": 11,
   "metadata": {},
   "outputs": [
    {
     "data": {
      "text/plain": [
       "0"
      ]
     },
     "execution_count": 11,
     "metadata": {},
     "output_type": "execute_result"
    }
   ],
   "source": [
    "num = 1\n",
    "num//10"
   ]
  },
  {
   "cell_type": "code",
   "execution_count": 10,
   "metadata": {},
   "outputs": [
    {
     "data": {
      "text/plain": [
       "1"
      ]
     },
     "execution_count": 10,
     "metadata": {},
     "output_type": "execute_result"
    }
   ],
   "source": [
    "1%10"
   ]
  },
  {
   "cell_type": "code",
   "execution_count": 5,
   "metadata": {},
   "outputs": [
    {
     "data": {
      "text/plain": [
       "1"
      ]
     },
     "execution_count": 5,
     "metadata": {},
     "output_type": "execute_result"
    }
   ],
   "source": [
    "(0*10)+(121%10)"
   ]
  },
  {
   "cell_type": "code",
   "execution_count": 7,
   "metadata": {},
   "outputs": [
    {
     "data": {
      "text/plain": [
       "12"
      ]
     },
     "execution_count": 7,
     "metadata": {},
     "output_type": "execute_result"
    }
   ],
   "source": [
    "(1*10)+(12%10)"
   ]
  },
  {
   "cell_type": "code",
   "execution_count": 9,
   "metadata": {},
   "outputs": [
    {
     "data": {
      "text/plain": [
       "121"
      ]
     },
     "execution_count": 9,
     "metadata": {},
     "output_type": "execute_result"
    }
   ],
   "source": [
    "(12*10)+(1%10)"
   ]
  },
  {
   "cell_type": "code",
   "execution_count": 12,
   "metadata": {},
   "outputs": [],
   "source": [
    "def is_palindrome(num):\n",
    "    # Skip single-digit inputs\n",
    "    if num // 10 == 0:\n",
    "        return False\n",
    "    temp = num\n",
    "    reversed_num = 0\n",
    "\n",
    "    while temp != 0:\n",
    "        reversed_num = (reversed_num * 10) + (temp % 10)\n",
    "        temp = temp // 10\n",
    "\n",
    "    if num == reversed_num:\n",
    "        return num\n",
    "    else:\n",
    "        return False"
   ]
  },
  {
   "cell_type": "code",
   "execution_count": 13,
   "metadata": {},
   "outputs": [
    {
     "name": "stdout",
     "output_type": "stream",
     "text": [
      "11\n",
      "22\n",
      "33\n",
      "44\n",
      "55\n",
      "66\n",
      "77\n",
      "88\n",
      "99\n"
     ]
    }
   ],
   "source": [
    "for i in range(100):\n",
    "    pal = is_palindrome(i)\n",
    "    if pal:\n",
    "        print(i)"
   ]
  },
  {
   "cell_type": "code",
   "execution_count": 20,
   "metadata": {},
   "outputs": [],
   "source": [
    "def infinite_palindromes():\n",
    "    num = 0\n",
    "    while i<100:\n",
    "        if is_palindrome(num):\n",
    "            i = (yield num)\n",
    "            print (i);\n",
    "            if i is not None:\n",
    "                num = i\n",
    "        num += 1"
   ]
  },
  {
   "cell_type": "code",
   "execution_count": 24,
   "metadata": {},
   "outputs": [],
   "source": [
    "class Order:  \n",
    "    def __init__(self,A):\n",
    "        self.A = A\n",
    "\n",
    "    def user1(self):\n",
    "        y=[]\n",
    "        x = len(self.A)\n",
    "        i =0\n",
    "        while i < x:\n",
    "            value = self.A[i]\n",
    "            y.append(value)\n",
    "            i+=1\n",
    "        return y"
   ]
  },
  {
   "cell_type": "code",
   "execution_count": 25,
   "metadata": {},
   "outputs": [
    {
     "ename": "AttributeError",
     "evalue": "'list' object has no attribute 'user1'",
     "output_type": "error",
     "traceback": [
      "\u001b[1;31m---------------------------------------------------------------------------\u001b[0m",
      "\u001b[1;31mAttributeError\u001b[0m                            Traceback (most recent call last)",
      "\u001b[1;32mc:\\Users\\SHEHA\\Downloads\\GitHubRepository\\Python2022\\ExtraNotebooks\\extra.ipynb Cell 22\u001b[0m in \u001b[0;36m<cell line: 4>\u001b[1;34m()\u001b[0m\n\u001b[0;32m      <a href='vscode-notebook-cell:/c%3A/Users/SHEHA/Downloads/GitHubRepository/Python2022/ExtraNotebooks/extra.ipynb#X31sZmlsZQ%3D%3D?line=0'>1</a>\u001b[0m B \u001b[39m=\u001b[39m [[\u001b[39m\"\u001b[39m\u001b[39mAA\u001b[39m\u001b[39m\"\u001b[39m,\u001b[39m\"\u001b[39m\u001b[39mBB\u001b[39m\u001b[39m\"\u001b[39m,\u001b[39m\"\u001b[39m\u001b[39mCC\u001b[39m\u001b[39m\"\u001b[39m],[\u001b[39m\"\u001b[39m\u001b[39mDD\u001b[39m\u001b[39m\"\u001b[39m,\u001b[39m\"\u001b[39m\u001b[39mEE\u001b[39m\u001b[39m\"\u001b[39m,\u001b[39m\"\u001b[39m\u001b[39mFF\u001b[39m\u001b[39m\"\u001b[39m]]\n\u001b[0;32m      <a href='vscode-notebook-cell:/c%3A/Users/SHEHA/Downloads/GitHubRepository/Python2022/ExtraNotebooks/extra.ipynb#X31sZmlsZQ%3D%3D?line=1'>2</a>\u001b[0m \u001b[39m#honey = Order(B)\u001b[39;00m\n\u001b[0;32m      <a href='vscode-notebook-cell:/c%3A/Users/SHEHA/Downloads/GitHubRepository/Python2022/ExtraNotebooks/extra.ipynb#X31sZmlsZQ%3D%3D?line=2'>3</a>\u001b[0m \u001b[39m#honey.user1()\u001b[39;00m\n\u001b[1;32m----> <a href='vscode-notebook-cell:/c%3A/Users/SHEHA/Downloads/GitHubRepository/Python2022/ExtraNotebooks/extra.ipynb#X31sZmlsZQ%3D%3D?line=3'>4</a>\u001b[0m B\u001b[39m.\u001b[39;49muser1()\n",
      "\u001b[1;31mAttributeError\u001b[0m: 'list' object has no attribute 'user1'"
     ]
    }
   ],
   "source": [
    "B = [[\"AA\",\"BB\",\"CC\"],[\"DD\",\"EE\",\"FF\"]]\n",
    "honey = Order(B)\n",
    "honey.user1()\n"
   ]
  },
  {
   "cell_type": "code",
   "execution_count": 12,
   "metadata": {},
   "outputs": [
    {
     "ename": "SyntaxError",
     "evalue": "invalid syntax (318197880.py, line 10)",
     "output_type": "error",
     "traceback": [
      "\u001b[1;36m  Input \u001b[1;32mIn [12]\u001b[1;36m\u001b[0m\n\u001b[1;33m    value = self.A{i}\u001b[0m\n\u001b[1;37m                  ^\u001b[0m\n\u001b[1;31mSyntaxError\u001b[0m\u001b[1;31m:\u001b[0m invalid syntax\n"
     ]
    }
   ],
   "source": [
    "class Order:  \n",
    "    def __init__(self,A):\n",
    "        self.A = A\n",
    "\n",
    "    def user1(self):\n",
    "        y={}\n",
    "        x = len(self.A)\n",
    "        i = 0\n",
    "        while i < x:\n",
    "            value = self.A{i}\n",
    "            y.append(value)\n",
    "            i+=1\n",
    "        return y"
   ]
  },
  {
   "cell_type": "code",
   "execution_count": 11,
   "metadata": {},
   "outputs": [
    {
     "ename": "KeyError",
     "evalue": "0",
     "output_type": "error",
     "traceback": [
      "\u001b[1;31m---------------------------------------------------------------------------\u001b[0m",
      "\u001b[1;31mKeyError\u001b[0m                                  Traceback (most recent call last)",
      "\u001b[1;32mc:\\Users\\SHEHA\\Downloads\\GitHubRepository\\Python2022\\ExtraNotebooks\\extra.ipynb Cell 23\u001b[0m in \u001b[0;36m<cell line: 3>\u001b[1;34m()\u001b[0m\n\u001b[0;32m      <a href='vscode-notebook-cell:/c%3A/Users/SHEHA/Downloads/GitHubRepository/Python2022/ExtraNotebooks/extra.ipynb#X35sZmlsZQ%3D%3D?line=0'>1</a>\u001b[0m std \u001b[39m=\u001b[39m {\u001b[39m'\u001b[39m\u001b[39mroll\u001b[39m\u001b[39m'\u001b[39m: \u001b[39m23\u001b[39m, \u001b[39m'\u001b[39m\u001b[39mname\u001b[39m\u001b[39m'\u001b[39m: \u001b[39m\"\u001b[39m\u001b[39mAlexa Smith\u001b[39m\u001b[39m\"\u001b[39m, \u001b[39m'\u001b[39m\u001b[39mdept\u001b[39m\u001b[39m'\u001b[39m: \u001b[39m\"\u001b[39m\u001b[39mCSE\u001b[39m\u001b[39m\"\u001b[39m}\n\u001b[0;32m      <a href='vscode-notebook-cell:/c%3A/Users/SHEHA/Downloads/GitHubRepository/Python2022/ExtraNotebooks/extra.ipynb#X35sZmlsZQ%3D%3D?line=1'>2</a>\u001b[0m s\u001b[39m=\u001b[39mOrder(std)\n\u001b[1;32m----> <a href='vscode-notebook-cell:/c%3A/Users/SHEHA/Downloads/GitHubRepository/Python2022/ExtraNotebooks/extra.ipynb#X35sZmlsZQ%3D%3D?line=2'>3</a>\u001b[0m s\u001b[39m.\u001b[39;49muser1()\n",
      "\u001b[1;32mc:\\Users\\SHEHA\\Downloads\\GitHubRepository\\Python2022\\ExtraNotebooks\\extra.ipynb Cell 23\u001b[0m in \u001b[0;36mOrder.user1\u001b[1;34m(self)\u001b[0m\n\u001b[0;32m      <a href='vscode-notebook-cell:/c%3A/Users/SHEHA/Downloads/GitHubRepository/Python2022/ExtraNotebooks/extra.ipynb#X35sZmlsZQ%3D%3D?line=7'>8</a>\u001b[0m i \u001b[39m=\u001b[39m\u001b[39m0\u001b[39m\n\u001b[0;32m      <a href='vscode-notebook-cell:/c%3A/Users/SHEHA/Downloads/GitHubRepository/Python2022/ExtraNotebooks/extra.ipynb#X35sZmlsZQ%3D%3D?line=8'>9</a>\u001b[0m \u001b[39mwhile\u001b[39;00m i \u001b[39m<\u001b[39m x:\n\u001b[1;32m---> <a href='vscode-notebook-cell:/c%3A/Users/SHEHA/Downloads/GitHubRepository/Python2022/ExtraNotebooks/extra.ipynb#X35sZmlsZQ%3D%3D?line=9'>10</a>\u001b[0m     value \u001b[39m=\u001b[39m \u001b[39mself\u001b[39;49m\u001b[39m.\u001b[39;49mA[i]\n\u001b[0;32m     <a href='vscode-notebook-cell:/c%3A/Users/SHEHA/Downloads/GitHubRepository/Python2022/ExtraNotebooks/extra.ipynb#X35sZmlsZQ%3D%3D?line=10'>11</a>\u001b[0m     y\u001b[39m.\u001b[39mappend(value)\n\u001b[0;32m     <a href='vscode-notebook-cell:/c%3A/Users/SHEHA/Downloads/GitHubRepository/Python2022/ExtraNotebooks/extra.ipynb#X35sZmlsZQ%3D%3D?line=11'>12</a>\u001b[0m     i\u001b[39m+\u001b[39m\u001b[39m=\u001b[39m\u001b[39m1\u001b[39m\n",
      "\u001b[1;31mKeyError\u001b[0m: 0"
     ]
    }
   ],
   "source": [
    "std = {'roll': 23, 'name': \"Alexa Smith\", 'dept': \"CSE\"}\n",
    "s=Order(std)\n",
    "s.user1()"
   ]
  },
  {
   "cell_type": "code",
   "execution_count": 20,
   "metadata": {},
   "outputs": [
    {
     "name": "stdout",
     "output_type": "stream",
     "text": [
      "dict_items([('roll', 23), ('name', 'Alexa Smith'), ('dept', 'CSE')])\n"
     ]
    }
   ],
   "source": [
    "std = {'roll': 23, 'name': \"Alexa Smith\", 'dept': \"CSE\"}\n",
    "print(std.items())"
   ]
  },
  {
   "cell_type": "code",
   "execution_count": null,
   "metadata": {},
   "outputs": [],
   "source": [
    "class ShoppingCart:\n",
    "    def __init__(self):\n",
    "        self.list = []\n",
    "    def total(self):\n",
    "        total = 0\n",
    "        for item in self.list:\n",
    "            total = total + item.getPrice()\n",
    "        return total"
   ]
  },
  {
   "cell_type": "code",
   "execution_count": 90,
   "metadata": {},
   "outputs": [],
   "source": [
    "class Item: \n",
    "    def __init__(self, name, price):\n",
    "        self.name = name\n",
    "        self.price = price\n",
    "        self.list = [self.price]\n",
    "        self.list1 = [self]\n",
    "\n",
    "    def __len__(self):\n",
    "        return len(self.list)\n",
    "\n",
    "    def add(self, item):\n",
    "        self.list.append(item)\n",
    "\n",
    "    def getPrice(self):\n",
    "        return self.price\n",
    "\n",
    "    def getName(self):\n",
    "        return self.name\n",
    "        \n",
    "    def total(self):\n",
    "        total = 2\n",
    "        for i in self.list:\n",
    "            print('value of price: ',i)\n",
    "            total = total + i\n",
    "            print(total)\n",
    "        return total\n",
    "    def __len__(self):\n",
    "        return len(self.list1)\n",
    "    def add1(self):\n",
    "        self.list1.append(self.name,self.price)\n",
    "    def total1(self):\n",
    "        for i in self.list:\n",
    "            print(f'Clients User details(user_id= {self.name}, price= {self.price})')"
   ]
  },
  {
   "cell_type": "code",
   "execution_count": 89,
   "metadata": {},
   "outputs": [
    {
     "name": "stdout",
     "output_type": "stream",
     "text": [
      "Clients User details(user_id= hasan, price= 2)\n"
     ]
    }
   ],
   "source": [
    "y = Item('hasan',2)\n",
    "#y = Item('john',4)\n",
    "#y.add1('john',4)\n",
    "#y.add(10)\n",
    "y.total1()"
   ]
  },
  {
   "cell_type": "code",
   "execution_count": 109,
   "metadata": {},
   "outputs": [],
   "source": [
    "class Item: \n",
    "    def __init__(self, name, price):\n",
    "        self.name = name\n",
    "        self.price = price\n",
    "        #self.list = [self.price]\n",
    "        self.list = self.append(self.price)\n",
    "\n",
    "    def __len__(self):\n",
    "        return len(self.list)\n",
    "    \n",
    "    #def add(self, item):\n",
    "        #self.list.append(item)\n",
    "    def add(self):\n",
    "        self.list.append(self.price)\n",
    "\n",
    "    def total(self):\n",
    "        total = 2\n",
    "        for i in self.list:\n",
    "            print('value of price: ',i)\n",
    "            total = total + i\n",
    "            print(total)\n",
    "        return total"
   ]
  },
  {
   "cell_type": "code",
   "execution_count": 155,
   "metadata": {},
   "outputs": [
    {
     "ename": "TypeError",
     "evalue": "Item.add() takes 1 positional argument but 2 were given",
     "output_type": "error",
     "traceback": [
      "\u001b[1;31m---------------------------------------------------------------------------\u001b[0m",
      "\u001b[1;31mTypeError\u001b[0m                                 Traceback (most recent call last)",
      "\u001b[1;32mc:\\Users\\SHEHA\\Downloads\\GitHubRepository\\Python2022\\ExtraNotebooks\\extra.ipynb Cell 30\u001b[0m in \u001b[0;36m<cell line: 3>\u001b[1;34m()\u001b[0m\n\u001b[0;32m      <a href='vscode-notebook-cell:/c%3A/Users/SHEHA/Downloads/GitHubRepository/Python2022/ExtraNotebooks/extra.ipynb#X41sZmlsZQ%3D%3D?line=0'>1</a>\u001b[0m y \u001b[39m=\u001b[39m Item(\u001b[39m'\u001b[39m\u001b[39mhasan\u001b[39m\u001b[39m'\u001b[39m,\u001b[39m2\u001b[39m)\n\u001b[0;32m      <a href='vscode-notebook-cell:/c%3A/Users/SHEHA/Downloads/GitHubRepository/Python2022/ExtraNotebooks/extra.ipynb#X41sZmlsZQ%3D%3D?line=1'>2</a>\u001b[0m y \u001b[39m=\u001b[39m Item(\u001b[39m'\u001b[39m\u001b[39mjohn\u001b[39m\u001b[39m'\u001b[39m,\u001b[39m4\u001b[39m)\n\u001b[1;32m----> <a href='vscode-notebook-cell:/c%3A/Users/SHEHA/Downloads/GitHubRepository/Python2022/ExtraNotebooks/extra.ipynb#X41sZmlsZQ%3D%3D?line=2'>3</a>\u001b[0m y\u001b[39m.\u001b[39;49madd(\u001b[39m4\u001b[39;49m)\n\u001b[0;32m      <a href='vscode-notebook-cell:/c%3A/Users/SHEHA/Downloads/GitHubRepository/Python2022/ExtraNotebooks/extra.ipynb#X41sZmlsZQ%3D%3D?line=3'>4</a>\u001b[0m \u001b[39m#y.add(10)\u001b[39;00m\n\u001b[0;32m      <a href='vscode-notebook-cell:/c%3A/Users/SHEHA/Downloads/GitHubRepository/Python2022/ExtraNotebooks/extra.ipynb#X41sZmlsZQ%3D%3D?line=4'>5</a>\u001b[0m y\u001b[39m.\u001b[39mtotal()\n",
      "\u001b[1;31mTypeError\u001b[0m: Item.add() takes 1 positional argument but 2 were given"
     ]
    }
   ],
   "source": [
    "y = Item('hasan',2)\n",
    "y = Item('john',4)\n",
    "y.add(4)\n",
    "#y.add(10)\n",
    "y.total()"
   ]
  },
  {
   "cell_type": "code",
   "execution_count": 37,
   "metadata": {},
   "outputs": [
    {
     "name": "stdout",
     "output_type": "stream",
     "text": [
      "The length of list is:  4\n"
     ]
    }
   ],
   "source": [
    "class Item: \n",
    "    def __init__(self, name, price):\n",
    "        self.name = name\n",
    "        self.price = price\n",
    "        self.list1 = [self.name]\n",
    "        self.list2 = [self.price]\n",
    "\n",
    "    def add1(self, item):\n",
    "        self.list1.append(item)\n",
    "\n",
    "    def add2(self, item):\n",
    "        self.list2.append(item)\n",
    "\n",
    "    def total(self):\n",
    "        total = 2\n",
    "        for i in self.list:\n",
    "            print('value of price: ',i)\n",
    "            total = total + i\n",
    "            print(total)\n",
    "        return total\n",
    "    \n",
    "    def total1(self):\n",
    "        for i in self.list:\n",
    "            print(f'Clients User details(user_id= {self.name}, price= {self.price})')"
   ]
  },
  {
   "cell_type": "code",
   "execution_count": 170,
   "metadata": {},
   "outputs": [],
   "source": [
    "class Item: \n",
    "    def __init__(self, name, price):\n",
    "        self.name = name\n",
    "        self.price = price\n",
    "        self.list = [(self.name,self.price)]\n",
    "\n",
    "    def add(self, *item):   # *means it will take multiple argument \n",
    "        self.list.append(item)\n",
    "\n",
    "    def total(self):\n",
    "        for i,j in self.list:\n",
    "            print(f'Clients User details(user_id = {i}, price = {j})')"
   ]
  },
  {
   "cell_type": "code",
   "execution_count": 175,
   "metadata": {},
   "outputs": [
    {
     "name": "stdout",
     "output_type": "stream",
     "text": [
      "Clients User details(user_id = hasan1, price = 3)\n",
      "Clients User details(user_id = john, price = 4)\n",
      "Clients User details(user_id = john, price = 5)\n"
     ]
    }
   ],
   "source": [
    "y = Item('hasan',2)\n",
    "y = Item('hasan1',3)\n",
    "y.add('john',4)\n",
    "y.add('john',5)\n",
    "#y = Item('hasan1',3)\n",
    "#y.add(10)\n",
    "y.total()"
   ]
  },
  {
   "cell_type": "code",
   "execution_count": 195,
   "metadata": {},
   "outputs": [],
   "source": [
    "dl=[]\n",
    "class Item: \n",
    "    def __init__(self, name, price):\n",
    "        self.name = name\n",
    "        self.price = price\n",
    "\n",
    "    def getInfo(self) -> str:\n",
    "        return (self.name, self.price)\n",
    "\n",
    "    def total(self):\n",
    "        for i,j in self.list:\n",
    "            print(f'Clients User details(user_id = {i}, price = {j})')"
   ]
  },
  {
   "cell_type": "code",
   "execution_count": null,
   "metadata": {},
   "outputs": [],
   "source": []
  },
  {
   "cell_type": "code",
   "execution_count": 196,
   "metadata": {},
   "outputs": [],
   "source": [
    "def check(x):\n",
    "    z = x.getInfo()\n",
    "    dl.append(z)"
   ]
  },
  {
   "cell_type": "code",
   "execution_count": 201,
   "metadata": {},
   "outputs": [],
   "source": [
    "y = Item('hasan',2)\n",
    "check(y)\n",
    "y = Item('hasan1',3)\n",
    "check(y)"
   ]
  },
  {
   "cell_type": "code",
   "execution_count": 202,
   "metadata": {},
   "outputs": [
    {
     "name": "stdout",
     "output_type": "stream",
     "text": [
      "Clients User details(user_id = hasan, price = 2)\n",
      "Clients User details(user_id = hasan, price = 2)\n",
      "Clients User details(user_id = hasan1, price = 3)\n",
      "Clients User details(user_id = hasan, price = 2)\n",
      "Clients User details(user_id = hasan1, price = 3)\n"
     ]
    }
   ],
   "source": [
    "for i,j in dl:\n",
    "            print(f'Clients User details(user_id = {i}, price = {j})')"
   ]
  },
  {
   "cell_type": "code",
   "execution_count": null,
   "metadata": {},
   "outputs": [],
   "source": []
  }
 ],
 "metadata": {
  "kernelspec": {
   "display_name": "Python 3.10.6 64-bit",
   "language": "python",
   "name": "python3"
  },
  "language_info": {
   "codemirror_mode": {
    "name": "ipython",
    "version": 3
   },
   "file_extension": ".py",
   "mimetype": "text/x-python",
   "name": "python",
   "nbconvert_exporter": "python",
   "pygments_lexer": "ipython3",
   "version": "3.10.6"
  },
  "orig_nbformat": 4,
  "vscode": {
   "interpreter": {
    "hash": "369f2c481f4da34e4445cda3fffd2e751bd1c4d706f27375911949ba6bb62e1c"
   }
  }
 },
 "nbformat": 4,
 "nbformat_minor": 2
}
