{
 "cells": [
  {
   "cell_type": "code",
   "execution_count": 1,
   "metadata": {},
   "outputs": [
    {
     "name": "stdout",
     "output_type": "stream",
     "text": [
      "H\n",
      "E\n",
      "L\n",
      "L\n",
      "O\n"
     ]
    }
   ],
   "source": [
    "def generator():\n",
    "    yield \"H\"\n",
    "    yield \"E\"\n",
    "    yield \"L\"\n",
    "    yield \"L\"\n",
    "    yield \"O\"\n",
    "\n",
    "test = generator()\n",
    "for i in test:\n",
    "    print(i)"
   ]
  },
  {
   "cell_type": "code",
   "execution_count": 19,
   "metadata": {},
   "outputs": [
    {
     "name": "stdout",
     "output_type": "stream",
     "text": [
      "Hello World\n",
      "<generator object generator_test1 at 0x000001F4446075A0>\n",
      "Hello World\n",
      "<generator object generator_test1 at 0x000001F444607300>\n"
     ]
    }
   ],
   "source": [
    "# Normal function\n",
    "def normal_test1():\n",
    "    return \"Hello World\"\n",
    "#Generator function\n",
    "def generator_test1():\n",
    "\tyield \"Hello World\"\n",
    "nt =  normal_test1()\n",
    "gt =  generator_test1()\n",
    "print(normal_test1()) #call to normal function\n",
    "print(generator_test1()) # call to generator function\n",
    "print(nt) #call to normal function\n",
    "print(gt) # call to generator function\n"
   ]
  },
  {
   "cell_type": "code",
   "execution_count": 21,
   "metadata": {},
   "outputs": [
    {
     "name": "stdout",
     "output_type": "stream",
     "text": [
      "Hello World\n"
     ]
    },
    {
     "ename": "StopIteration",
     "evalue": "",
     "output_type": "error",
     "traceback": [
      "\u001b[1;31m---------------------------------------------------------------------------\u001b[0m",
      "\u001b[1;31mStopIteration\u001b[0m                             Traceback (most recent call last)",
      "\u001b[1;32mc:\\Users\\SHEHA\\Downloads\\GitHubRepository\\Python2022\\ExtraNotebooks\\extra.ipynb Cell 3\u001b[0m in \u001b[0;36m<cell line: 2>\u001b[1;34m()\u001b[0m\n\u001b[0;32m      <a href='vscode-notebook-cell:/c%3A/Users/SHEHA/Downloads/GitHubRepository/Python2022/ExtraNotebooks/extra.ipynb#W2sZmlsZQ%3D%3D?line=0'>1</a>\u001b[0m \u001b[39mprint\u001b[39m(\u001b[39mnext\u001b[39m(generator_test1()))  \u001b[39m# will output Hello World\u001b[39;00m\n\u001b[1;32m----> <a href='vscode-notebook-cell:/c%3A/Users/SHEHA/Downloads/GitHubRepository/Python2022/ExtraNotebooks/extra.ipynb#W2sZmlsZQ%3D%3D?line=1'>2</a>\u001b[0m \u001b[39mprint\u001b[39m(\u001b[39mnext\u001b[39;49m(gt))\n",
      "\u001b[1;31mStopIteration\u001b[0m: "
     ]
    }
   ],
   "source": [
    "print(next(generator_test1()))  # will output Hello World\n",
    "print(next(gt))  # will output Hello World"
   ]
  },
  {
   "cell_type": "code",
   "execution_count": 22,
   "metadata": {},
   "outputs": [
    {
     "name": "stdout",
     "output_type": "stream",
     "text": [
      "[0, 2, 4, 6, 8]\n"
     ]
    }
   ],
   "source": [
    "def even_numbers(n):\n",
    "    for x in range(n):\n",
    "       if (x%2==0): \n",
    "           yield x       \n",
    "num = even_numbers(10)\n",
    "print(list(num))"
   ]
  },
  {
   "cell_type": "code",
   "execution_count": 24,
   "metadata": {},
   "outputs": [
    {
     "name": "stdout",
     "output_type": "stream",
     "text": [
      "[]\n"
     ]
    }
   ],
   "source": [
    "print(list(num))"
   ]
  },
  {
   "cell_type": "code",
   "execution_count": 25,
   "metadata": {},
   "outputs": [],
   "source": [
    "def even_numbers(n):\n",
    "    for x in range(n):\n",
    "       if (x%2==0): \n",
    "           yield x       \n",
    "num = even_numbers(10)"
   ]
  },
  {
   "cell_type": "code",
   "execution_count": 27,
   "metadata": {},
   "outputs": [],
   "source": [
    "for i in num:\n",
    "    print(i)"
   ]
  },
  {
   "cell_type": "code",
   "execution_count": 28,
   "metadata": {},
   "outputs": [],
   "source": [
    "def even_numbers(n):\n",
    "    for x in range(n):\n",
    "       if (x%2==0): \n",
    "           yield x       \n",
    "num = even_numbers(10)"
   ]
  },
  {
   "cell_type": "code",
   "execution_count": 34,
   "metadata": {},
   "outputs": [
    {
     "ename": "StopIteration",
     "evalue": "",
     "output_type": "error",
     "traceback": [
      "\u001b[1;31m---------------------------------------------------------------------------\u001b[0m",
      "\u001b[1;31mStopIteration\u001b[0m                             Traceback (most recent call last)",
      "\u001b[1;32mc:\\Users\\SHEHA\\Downloads\\GitHubRepository\\Python2022\\ExtraNotebooks\\extra.ipynb Cell 9\u001b[0m in \u001b[0;36m<cell line: 1>\u001b[1;34m()\u001b[0m\n\u001b[1;32m----> <a href='vscode-notebook-cell:/c%3A/Users/SHEHA/Downloads/GitHubRepository/Python2022/ExtraNotebooks/extra.ipynb#X12sZmlsZQ%3D%3D?line=0'>1</a>\u001b[0m \u001b[39mprint\u001b[39m(\u001b[39mnext\u001b[39;49m(num))\n",
      "\u001b[1;31mStopIteration\u001b[0m: "
     ]
    }
   ],
   "source": [
    "print(next(num))"
   ]
  },
  {
   "cell_type": "code",
   "execution_count": 35,
   "metadata": {},
   "outputs": [
    {
     "name": "stdout",
     "output_type": "stream",
     "text": [
      "0\n",
      "2\n",
      "4\n",
      "6\n",
      "8\n",
      "\n",
      "\n",
      "Calling the generator again:  []\n"
     ]
    }
   ],
   "source": [
    "def even_numbers(n):\n",
    "    for x in range(n):\n",
    "       if (x%2==0): \n",
    "           yield x       \n",
    "num = even_numbers(10)\n",
    "for i in num:\n",
    "    print(i)\n",
    "\n",
    "print(\"\\n\")\n",
    "print(\"Calling the generator again: \", list(num))"
   ]
  },
  {
   "cell_type": "code",
   "execution_count": 36,
   "metadata": {},
   "outputs": [
    {
     "name": "stdout",
     "output_type": "stream",
     "text": [
      "<generator object getFibonnaciSeries at 0x000001F444804D60>\n"
     ]
    }
   ],
   "source": [
    "def getFibonnaciSeries(num):\n",
    "    c1, c2 = 0, 1\n",
    "    count = 0\n",
    "    while count < num:\n",
    "        yield c1\n",
    "        c3 = c1 + c2\n",
    "        c1 = c2\n",
    "        c2 = c3\n",
    "        count += 1\n",
    "fin = getFibonnaciSeries(7)\n",
    "print(fin)"
   ]
  },
  {
   "cell_type": "code",
   "execution_count": 38,
   "metadata": {},
   "outputs": [],
   "source": [
    "for i in fin:\n",
    "    print(i)"
   ]
  }
 ],
 "metadata": {
  "kernelspec": {
   "display_name": "Python 3.10.6 64-bit",
   "language": "python",
   "name": "python3"
  },
  "language_info": {
   "codemirror_mode": {
    "name": "ipython",
    "version": 3
   },
   "file_extension": ".py",
   "mimetype": "text/x-python",
   "name": "python",
   "nbconvert_exporter": "python",
   "pygments_lexer": "ipython3",
   "version": "3.10.6"
  },
  "orig_nbformat": 4,
  "vscode": {
   "interpreter": {
    "hash": "369f2c481f4da34e4445cda3fffd2e751bd1c4d706f27375911949ba6bb62e1c"
   }
  }
 },
 "nbformat": 4,
 "nbformat_minor": 2
}
