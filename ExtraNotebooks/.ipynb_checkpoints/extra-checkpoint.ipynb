{
 "cells": [
  {
   "cell_type": "markdown",
   "metadata": {
    "toc": true
   },
   "source": [
    "<h1>Table of Contents<span class=\"tocSkip\"></span></h1>\n",
    "<div class=\"toc\"><ul class=\"toc-item\"></ul></div>"
   ]
  },
  {
   "cell_type": "code",
   "execution_count": 1,
   "metadata": {
    "execution": {
     "iopub.execute_input": "2023-01-22T06:15:14.384919Z",
     "iopub.status.busy": "2023-01-22T06:15:14.384919Z",
     "iopub.status.idle": "2023-01-22T06:15:14.408919Z",
     "shell.execute_reply": "2023-01-22T06:15:14.407919Z",
     "shell.execute_reply.started": "2023-01-22T06:15:14.384919Z"
    }
   },
   "outputs": [
    {
     "name": "stdout",
     "output_type": "stream",
     "text": [
      "H\n",
      "E\n",
      "L\n",
      "L\n",
      "O\n"
     ]
    }
   ],
   "source": [
    "def generator():\n",
    "    yield \"H\"\n",
    "    yield \"E\"\n",
    "    yield \"L\"\n",
    "    yield \"L\"\n",
    "    yield \"O\"\n",
    "\n",
    "test = generator()\n",
    "for i in test:\n",
    "    print(i)"
   ]
  },
  {
   "cell_type": "code",
   "execution_count": 22,
   "metadata": {},
   "outputs": [
    {
     "name": "stdout",
     "output_type": "stream",
     "text": [
      "[0, 2, 4, 6, 8]\n"
     ]
    }
   ],
   "source": [
    "def even_numbers(n):\n",
    "    for x in range(n):\n",
    "       if (x%2==0): \n",
    "           yield x       \n",
    "num = even_numbers(10)\n",
    "print(list(num))"
   ]
  },
  {
   "cell_type": "code",
   "execution_count": 24,
   "metadata": {},
   "outputs": [
    {
     "name": "stdout",
     "output_type": "stream",
     "text": [
      "[]\n"
     ]
    }
   ],
   "source": [
    "print(list(num))"
   ]
  },
  {
   "cell_type": "code",
   "execution_count": 25,
   "metadata": {},
   "outputs": [],
   "source": [
    "def even_numbers(n):\n",
    "    for x in range(n):\n",
    "       if (x%2==0): \n",
    "           yield x       \n",
    "num = even_numbers(10)"
   ]
  },
  {
   "cell_type": "code",
   "execution_count": 27,
   "metadata": {},
   "outputs": [],
   "source": [
    "for i in num:\n",
    "    print(i)"
   ]
  },
  {
   "cell_type": "code",
   "execution_count": 28,
   "metadata": {},
   "outputs": [],
   "source": [
    "def even_numbers(n):\n",
    "    for x in range(n):\n",
    "       if (x%2==0): \n",
    "           yield x       \n",
    "num = even_numbers(10)"
   ]
  },
  {
   "cell_type": "code",
   "execution_count": 35,
   "metadata": {},
   "outputs": [
    {
     "name": "stdout",
     "output_type": "stream",
     "text": [
      "0\n",
      "2\n",
      "4\n",
      "6\n",
      "8\n",
      "\n",
      "\n",
      "Calling the generator again:  []\n"
     ]
    }
   ],
   "source": [
    "def even_numbers(n):\n",
    "    for x in range(n):\n",
    "       if (x%2==0): \n",
    "           yield x       \n",
    "num = even_numbers(10)\n",
    "for i in num:\n",
    "    print(i)\n",
    "\n",
    "print(\"\\n\")\n",
    "print(\"Calling the generator again: \", list(num))"
   ]
  },
  {
   "cell_type": "code",
   "execution_count": 36,
   "metadata": {},
   "outputs": [
    {
     "name": "stdout",
     "output_type": "stream",
     "text": [
      "<generator object getFibonnaciSeries at 0x000001F444804D60>\n"
     ]
    }
   ],
   "source": [
    "def getFibonnaciSeries(num):\n",
    "    c1, c2 = 0, 1\n",
    "    count = 0\n",
    "    while count < num:\n",
    "        yield c1\n",
    "        c3 = c1 + c2\n",
    "        c1 = c2\n",
    "        c2 = c3\n",
    "        count += 1\n",
    "fin = getFibonnaciSeries(7)\n",
    "print(fin)"
   ]
  },
  {
   "cell_type": "code",
   "execution_count": 38,
   "metadata": {},
   "outputs": [],
   "source": [
    "for i in fin:\n",
    "    print(i)"
   ]
  },
  {
   "cell_type": "code",
   "execution_count": 3,
   "metadata": {},
   "outputs": [],
   "source": [
    "l=['a','b']\n",
    "for x in l:\n",
    "    x.upper()"
   ]
  },
  {
   "cell_type": "code",
   "execution_count": 4,
   "metadata": {},
   "outputs": [
    {
     "name": "stdout",
     "output_type": "stream",
     "text": [
      "['a', 'b']\n"
     ]
    }
   ],
   "source": [
    "print(l)"
   ]
  },
  {
   "cell_type": "code",
   "execution_count": 11,
   "metadata": {},
   "outputs": [
    {
     "data": {
      "text/plain": [
       "['A', 'B', 'C', 'Y']"
      ]
     },
     "execution_count": 11,
     "metadata": {},
     "output_type": "execute_result"
    }
   ],
   "source": [
    "letters = [\"a\", \"b\", \"c\", \"y\"]\n",
    "sq =[]\n",
    "for c in letters:\n",
    "    sq.append(c.upper())\n",
    "sq"
   ]
  },
  {
   "cell_type": "code",
   "execution_count": 11,
   "metadata": {},
   "outputs": [
    {
     "data": {
      "text/plain": [
       "0"
      ]
     },
     "execution_count": 11,
     "metadata": {},
     "output_type": "execute_result"
    }
   ],
   "source": [
    "num = 1\n",
    "num//10"
   ]
  },
  {
   "cell_type": "code",
   "execution_count": 10,
   "metadata": {},
   "outputs": [
    {
     "data": {
      "text/plain": [
       "1"
      ]
     },
     "execution_count": 10,
     "metadata": {},
     "output_type": "execute_result"
    }
   ],
   "source": [
    "1%10"
   ]
  },
  {
   "cell_type": "code",
   "execution_count": 5,
   "metadata": {},
   "outputs": [
    {
     "data": {
      "text/plain": [
       "1"
      ]
     },
     "execution_count": 5,
     "metadata": {},
     "output_type": "execute_result"
    }
   ],
   "source": [
    "(0*10)+(121%10)"
   ]
  },
  {
   "cell_type": "code",
   "execution_count": 7,
   "metadata": {},
   "outputs": [
    {
     "data": {
      "text/plain": [
       "12"
      ]
     },
     "execution_count": 7,
     "metadata": {},
     "output_type": "execute_result"
    }
   ],
   "source": [
    "(1*10)+(12%10)"
   ]
  },
  {
   "cell_type": "code",
   "execution_count": 9,
   "metadata": {},
   "outputs": [
    {
     "data": {
      "text/plain": [
       "121"
      ]
     },
     "execution_count": 9,
     "metadata": {},
     "output_type": "execute_result"
    }
   ],
   "source": [
    "(12*10)+(1%10)"
   ]
  },
  {
   "cell_type": "code",
   "execution_count": 12,
   "metadata": {},
   "outputs": [],
   "source": [
    "def is_palindrome(num):\n",
    "    # Skip single-digit inputs\n",
    "    if num // 10 == 0:\n",
    "        return False\n",
    "    temp = num\n",
    "    reversed_num = 0\n",
    "\n",
    "    while temp != 0:\n",
    "        reversed_num = (reversed_num * 10) + (temp % 10)\n",
    "        temp = temp // 10\n",
    "\n",
    "    if num == reversed_num:\n",
    "        return num\n",
    "    else:\n",
    "        return False"
   ]
  },
  {
   "cell_type": "code",
   "execution_count": 13,
   "metadata": {},
   "outputs": [
    {
     "name": "stdout",
     "output_type": "stream",
     "text": [
      "11\n",
      "22\n",
      "33\n",
      "44\n",
      "55\n",
      "66\n",
      "77\n",
      "88\n",
      "99\n"
     ]
    }
   ],
   "source": [
    "for i in range(100):\n",
    "    pal = is_palindrome(i)\n",
    "    if pal:\n",
    "        print(i)"
   ]
  },
  {
   "cell_type": "code",
   "execution_count": 20,
   "metadata": {},
   "outputs": [],
   "source": [
    "def infinite_palindromes():\n",
    "    num = 0\n",
    "    while i<100:\n",
    "        if is_palindrome(num):\n",
    "            i = (yield num)\n",
    "            print (i);\n",
    "            if i is not None:\n",
    "                num = i\n",
    "        num += 1"
   ]
  },
  {
   "cell_type": "code",
   "execution_count": 24,
   "metadata": {},
   "outputs": [],
   "source": [
    "class Order:  \n",
    "    def __init__(self,A):\n",
    "        self.A = A\n",
    "\n",
    "    def user1(self):\n",
    "        y=[]\n",
    "        x = len(self.A)\n",
    "        i =0\n",
    "        while i < x:\n",
    "            value = self.A[i]\n",
    "            y.append(value)\n",
    "            i+=1\n",
    "        return y"
   ]
  },
  {
   "cell_type": "code",
   "execution_count": 20,
   "metadata": {},
   "outputs": [
    {
     "name": "stdout",
     "output_type": "stream",
     "text": [
      "dict_items([('roll', 23), ('name', 'Alexa Smith'), ('dept', 'CSE')])\n"
     ]
    }
   ],
   "source": [
    "std = {'roll': 23, 'name': \"Alexa Smith\", 'dept': \"CSE\"}\n",
    "print(std.items())"
   ]
  },
  {
   "cell_type": "code",
   "execution_count": null,
   "metadata": {},
   "outputs": [],
   "source": [
    "class ShoppingCart:\n",
    "    def __init__(self):\n",
    "        self.list = []\n",
    "    def total(self):\n",
    "        total = 0\n",
    "        for item in self.list:\n",
    "            total = total + item.getPrice()\n",
    "        return total"
   ]
  },
  {
   "cell_type": "code",
   "execution_count": 90,
   "metadata": {},
   "outputs": [],
   "source": [
    "class Item: \n",
    "    def __init__(self, name, price):\n",
    "        self.name = name\n",
    "        self.price = price\n",
    "        self.list = [self.price]\n",
    "        self.list1 = [self]\n",
    "\n",
    "    def __len__(self):\n",
    "        return len(self.list)\n",
    "\n",
    "    def add(self, item):\n",
    "        self.list.append(item)\n",
    "\n",
    "    def getPrice(self):\n",
    "        return self.price\n",
    "\n",
    "    def getName(self):\n",
    "        return self.name\n",
    "        \n",
    "    def total(self):\n",
    "        total = 2\n",
    "        for i in self.list:\n",
    "            print('value of price: ',i)\n",
    "            total = total + i\n",
    "            print(total)\n",
    "        return total\n",
    "    def __len__(self):\n",
    "        return len(self.list1)\n",
    "    def add1(self):\n",
    "        self.list1.append(self.name,self.price)\n",
    "    def total1(self):\n",
    "        for i in self.list:\n",
    "            print(f'Clients User details(user_id= {self.name}, price= {self.price})')"
   ]
  },
  {
   "cell_type": "code",
   "execution_count": 89,
   "metadata": {},
   "outputs": [
    {
     "name": "stdout",
     "output_type": "stream",
     "text": [
      "Clients User details(user_id= hasan, price= 2)\n"
     ]
    }
   ],
   "source": [
    "y = Item('hasan',2)\n",
    "#y = Item('john',4)\n",
    "#y.add1('john',4)\n",
    "#y.add(10)\n",
    "y.total1()"
   ]
  },
  {
   "cell_type": "code",
   "execution_count": 109,
   "metadata": {},
   "outputs": [],
   "source": [
    "class Item: \n",
    "    def __init__(self, name, price):\n",
    "        self.name = name\n",
    "        self.price = price\n",
    "        #self.list = [self.price]\n",
    "        self.list = self.append(self.price)\n",
    "\n",
    "    def __len__(self):\n",
    "        return len(self.list)\n",
    "    \n",
    "    #def add(self, item):\n",
    "        #self.list.append(item)\n",
    "    def add(self):\n",
    "        self.list.append(self.price)\n",
    "\n",
    "    def total(self):\n",
    "        total = 2\n",
    "        for i in self.list:\n",
    "            print('value of price: ',i)\n",
    "            total = total + i\n",
    "            print(total)\n",
    "        return total"
   ]
  },
  {
   "cell_type": "code",
   "execution_count": 37,
   "metadata": {},
   "outputs": [
    {
     "name": "stdout",
     "output_type": "stream",
     "text": [
      "The length of list is:  4\n"
     ]
    }
   ],
   "source": [
    "class Item: \n",
    "    def __init__(self, name, price):\n",
    "        self.name = name\n",
    "        self.price = price\n",
    "        self.list1 = [self.name]\n",
    "        self.list2 = [self.price]\n",
    "\n",
    "    def add1(self, item):\n",
    "        self.list1.append(item)\n",
    "\n",
    "    def add2(self, item):\n",
    "        self.list2.append(item)\n",
    "\n",
    "    def total(self):\n",
    "        total = 2\n",
    "        for i in self.list:\n",
    "            print('value of price: ',i)\n",
    "            total = total + i\n",
    "            print(total)\n",
    "        return total\n",
    "    \n",
    "    def total1(self):\n",
    "        for i in self.list:\n",
    "            print(f'Clients User details(user_id= {self.name}, price= {self.price})')"
   ]
  },
  {
   "cell_type": "code",
   "execution_count": 170,
   "metadata": {},
   "outputs": [],
   "source": [
    "class Item: \n",
    "    def __init__(self, name, price):\n",
    "        self.name = name\n",
    "        self.price = price\n",
    "        self.list = [(self.name,self.price)]\n",
    "\n",
    "    def add(self, *item):   # *means it will take multiple argument \n",
    "        self.list.append(item)\n",
    "\n",
    "    def total(self):\n",
    "        for i,j in self.list:\n",
    "            print(f'Clients User details(user_id = {i}, price = {j})')"
   ]
  },
  {
   "cell_type": "code",
   "execution_count": 175,
   "metadata": {},
   "outputs": [
    {
     "name": "stdout",
     "output_type": "stream",
     "text": [
      "Clients User details(user_id = hasan1, price = 3)\n",
      "Clients User details(user_id = john, price = 4)\n",
      "Clients User details(user_id = john, price = 5)\n"
     ]
    }
   ],
   "source": [
    "y = Item('hasan',2)\n",
    "y = Item('hasan1',3)\n",
    "y.add('john',4)\n",
    "y.add('john',5)\n",
    "#y = Item('hasan1',3)\n",
    "#y.add(10)\n",
    "y.total()"
   ]
  },
  {
   "cell_type": "code",
   "execution_count": 195,
   "metadata": {},
   "outputs": [],
   "source": [
    "dl=[]\n",
    "class Item: \n",
    "    def __init__(self, name, price):\n",
    "        self.name = name\n",
    "        self.price = price\n",
    "\n",
    "    def getInfo(self) -> str:\n",
    "        return (self.name, self.price)\n",
    "\n",
    "    def total(self):\n",
    "        for i,j in self.list:\n",
    "            print(f'Clients User details(user_id = {i}, price = {j})')"
   ]
  },
  {
   "cell_type": "code",
   "execution_count": null,
   "metadata": {},
   "outputs": [],
   "source": []
  },
  {
   "cell_type": "code",
   "execution_count": 196,
   "metadata": {},
   "outputs": [],
   "source": [
    "def check(x):\n",
    "    z = x.getInfo()\n",
    "    dl.append(z)"
   ]
  },
  {
   "cell_type": "code",
   "execution_count": 201,
   "metadata": {},
   "outputs": [],
   "source": [
    "y = Item('hasan',2)\n",
    "check(y)\n",
    "y = Item('hasan1',3)\n",
    "check(y)"
   ]
  },
  {
   "cell_type": "code",
   "execution_count": 202,
   "metadata": {},
   "outputs": [
    {
     "name": "stdout",
     "output_type": "stream",
     "text": [
      "Clients User details(user_id = hasan, price = 2)\n",
      "Clients User details(user_id = hasan, price = 2)\n",
      "Clients User details(user_id = hasan1, price = 3)\n",
      "Clients User details(user_id = hasan, price = 2)\n",
      "Clients User details(user_id = hasan1, price = 3)\n"
     ]
    }
   ],
   "source": [
    "for i,j in dl:\n",
    "            print(f'Clients User details(user_id = {i}, price = {j})')"
   ]
  },
  {
   "cell_type": "code",
   "execution_count": 5,
   "metadata": {},
   "outputs": [
    {
     "name": "stdout",
     "output_type": "stream",
     "text": [
      "Color: yellow\n"
     ]
    }
   ],
   "source": [
    "def d():\n",
    "    color = \"green\"\n",
    "    def e():\n",
    "        nonlocal color\n",
    "        color = \"yellow\"\n",
    "    e()\n",
    "    print(\"Color: \" + color)\n",
    "    color = \"red\"\n",
    "color = \"blue\"\n",
    "d()"
   ]
  },
  {
   "cell_type": "code",
   "execution_count": 16,
   "metadata": {},
   "outputs": [
    {
     "data": {
      "text/plain": [
       "'hello '"
      ]
     },
     "execution_count": 16,
     "metadata": {},
     "output_type": "execute_result"
    }
   ],
   "source": [
    "file_contents = \"hello \\nworld\"\n",
    "f_content = (file_contents.split(\"\\n\"))\n",
    "f_content_str = f_content[0]\n",
    "f_content_str"
   ]
  },
  {
   "cell_type": "code",
   "execution_count": 6,
   "metadata": {},
   "outputs": [
    {
     "name": "stdout",
     "output_type": "stream",
     "text": [
      "9\n"
     ]
    }
   ],
   "source": [
    "num = 9\n",
    "class Car:\n",
    "    num = 5\n",
    "    bathrooms = 2\n",
    "\n",
    "def cost_evaluation(num):\n",
    "    num = 10\n",
    "    return num\n",
    "\n",
    "class Bike():\n",
    "    num = 11\n",
    "\n",
    "cost_evaluation(num)\n",
    "car = Car()\n",
    "bike = Bike()\n",
    "car.num = 7\n",
    "Car.num = 2\n",
    "print(num)"
   ]
  },
  {
   "cell_type": "code",
   "execution_count": 7,
   "metadata": {},
   "outputs": [
    {
     "name": "stdout",
     "output_type": "stream",
     "text": [
      "Function inside A\n"
     ]
    }
   ],
   "source": [
    "class A:\n",
    "   def a(self):\n",
    "       return \"Function inside A\"\n",
    "\n",
    "class B:\n",
    "   def a(self):\n",
    "       return \"Function inside B\"\n",
    "\n",
    "class C:\n",
    "   pass\n",
    "\n",
    "class D(C, A, B):\n",
    "   pass\n",
    "\n",
    "d = D()\n",
    "print(d.a())"
   ]
  },
  {
   "cell_type": "code",
   "execution_count": 8,
   "metadata": {},
   "outputs": [
    {
     "name": "stdout",
     "output_type": "stream",
     "text": [
      "['Anna', 'Natasha', 'Xi', 'Mike']\n"
     ]
    }
   ],
   "source": [
    "names = [\"Anna\", \"Natasha\", \"Mike\"]\n",
    "names.insert(2, \"Xi\")\n",
    "print(names)"
   ]
  },
  {
   "cell_type": "code",
   "execution_count": 15,
   "metadata": {},
   "outputs": [
    {
     "name": "stdout",
     "output_type": "stream",
     "text": [
      "2\n",
      "11\n"
     ]
    },
    {
     "data": {
      "text/plain": [
       "True"
      ]
     },
     "execution_count": 15,
     "metadata": {},
     "output_type": "execute_result"
    }
   ],
   "source": [
    "def word_count(sentence):\n",
    "    # Function to check the number of words. Returns the word count in string.\n",
    "    words = len(sentence.split())\n",
    "    print(words)\n",
    "    return words\n",
    "word_count(\"hello world\") <10\n",
    "def char_count(sentence):\n",
    "    # Function to check the number of characters. Returns the character count in string.\n",
    "    chars = len(sentence)\n",
    "    print(chars)\n",
    "    return chars\n",
    "char_count(\"hello world\") <50"
   ]
  }
 ],
 "metadata": {
  "kernelspec": {
   "display_name": "Python 3 (ipykernel)",
   "language": "python",
   "name": "python3"
  },
  "language_info": {
   "codemirror_mode": {
    "name": "ipython",
    "version": 3
   },
   "file_extension": ".py",
   "mimetype": "text/x-python",
   "name": "python",
   "nbconvert_exporter": "python",
   "pygments_lexer": "ipython3",
   "version": "3.10.6"
  },
  "toc": {
   "base_numbering": 1,
   "nav_menu": {},
   "number_sections": true,
   "sideBar": true,
   "skip_h1_title": false,
   "title_cell": "Table of Contents",
   "title_sidebar": "Contents",
   "toc_cell": true,
   "toc_position": {},
   "toc_section_display": true,
   "toc_window_display": false
  },
  "vscode": {
   "interpreter": {
    "hash": "369f2c481f4da34e4445cda3fffd2e751bd1c4d706f27375911949ba6bb62e1c"
   }
  }
 },
 "nbformat": 4,
 "nbformat_minor": 4
}
